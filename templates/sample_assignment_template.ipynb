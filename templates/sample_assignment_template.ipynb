{
 "cells": [
  {
   "cell_type": "markdown",
   "metadata": {},
   "source": [
    "# Homework 1: Introduction to R and Data Analysis\n",
    "\n",
    "**Student Name:** [Your Name Here]\n",
    "**Student ID:** [Your ID Here]\n",
    "**Due Date:** [Assignment Due Date]\n",
    "\n",
    "## Instructions\n",
    "Complete all the exercises below. Make sure to:\n",
    "1. Run all code cells and show outputs\n",
    "2. Add comments to explain your code\n",
    "3. Answer all written questions in markdown cells\n",
    "4. Test your code to ensure it runs without errors\n"
   ]
  },
  {
   "cell_type": "markdown",
   "metadata": {},
   "source": [
    "## Exercise 1: Basic R Operations (25 points)\n",
    "\n",
    "### 1.1 Variables and Assignment (10 points)\n",
    "Create variables for the following and display their values:\n",
    "- Your age (numeric)\n",
    "- Your favorite color (character)\n",
    "- Whether you like statistics (logical)"
   ]
  },
  {
   "cell_type": "code",
   "execution_count": null,
   "metadata": {},
   "outputs": [],
   "source": [
    "# Your code here\n"
   ]
  },
  {
   "cell_type": "markdown",
   "metadata": {},
   "source": [
    "### 1.2 Arithmetic Operations (15 points)\n",
    "Calculate and display:\n",
    "- The sum of 15 and 27\n",
    "- The product of 8 and 9\n",
    "- 2 raised to the power of 5\n",
    "- The remainder when 17 is divided by 3"
   ]
  },
  {
   "cell_type": "code",
   "execution_count": null,
   "metadata": {},
   "outputs": [],
   "source": [
    "# Your code here\n"
   ]
  },
  {
   "cell_type": "markdown",
   "metadata": {},
   "source": [
    "## Exercise 2: Vectors and Data Structures (30 points)\n",
    "\n",
    "### 2.1 Create Vectors (15 points)\n",
    "Create the following vectors:\n",
    "- A numeric vector with the numbers 1 through 10\n",
    "- A character vector with the names of 5 fruits\n",
    "- A logical vector with 5 TRUE/FALSE values"
   ]
  },
  {
   "cell_type": "code",
   "execution_count": null,
   "metadata": {},
   "outputs": [],
   "source": [
    "# Your code here\n"
   ]
  },
  {
   "cell_type": "markdown",
   "metadata": {},
   "source": [
    "### 2.2 Data Frame Creation (15 points)\n",
    "Create a data frame with the following columns:\n",
    "- Name: 5 student names\n",
    "- Age: Their ages\n",
    "- Grade: Their letter grades (A, B, C, etc.)\n",
    "\n",
    "Display the data frame and its structure."
   ]
  },
  {
   "cell_type": "code",
   "execution_count": null,
   "metadata": {},
   "outputs": [],
   "source": [
    "# Your code here\n"
   ]
  },
  {
   "cell_type": "markdown",
   "metadata": {},
   "source": [
    "## Exercise 3: Data Import and Analysis (25 points)\n",
    "\n",
    "### 3.1 Load Required Libraries (5 points)\n",
    "Load the tidyverse library (or readr if tidyverse is not available)"
   ]
  },
  {
   "cell_type": "code",
   "execution_count": null,
   "metadata": {},
   "outputs": [],
   "source": [
    "# Your code here\n"
   ]
  },
  {
   "cell_type": "markdown",
   "metadata": {},
   "source": [
    "### 3.2 Create and Import Data (20 points)\n",
    "1. Create a CSV file with sample sales data (at least 5 rows)\n",
    "2. Read the CSV file into R\n",
    "3. Display the first few rows\n",
    "4. Show the structure of the data\n",
    "5. Calculate summary statistics"
   ]
  },
  {
   "cell_type": "code",
   "execution_count": null,
   "metadata": {},
   "outputs": [],
   "source": [
    "# Your code here\n"
   ]
  },
  {
   "cell_type": "markdown",
   "metadata": {},
   "source": [
    "## Exercise 4: Analysis and Interpretation (20 points)\n",
    "\n",
    "### 4.1 Data Analysis Questions\n",
    "Using the data you created above, answer the following:\n",
    "\n",
    "1. What is the average value in your numeric column? (5 points)\n",
    "2. What is the maximum and minimum value? (5 points)\n",
    "3. How many observations do you have? (5 points)\n",
    "4. Write a brief interpretation of your results (5 points)"
   ]
  },
  {
   "cell_type": "code",
   "execution_count": null,
   "metadata": {},
   "outputs": [],
   "source": [
    "# Your code here for calculations\n"
   ]
  },
  {
   "cell_type": "markdown",
   "metadata": {},
   "source": [
    "**Your interpretation here:**\n",
    "\n",
    "[Write your analysis and interpretation of the results]"
   ]
  },
  {
   "cell_type": "markdown",
   "metadata": {},
   "source": [
    "## Reflection Questions\n",
    "\n",
    "Answer the following questions in complete sentences:\n",
    "\n",
    "1. What was the most challenging part of this assignment?\n",
    "2. What did you learn about R that you didn't know before?\n",
    "3. How might you use these R skills in future data analysis projects?\n",
    "\n",
    "**Your answers:**\n",
    "\n",
    "1. [Your answer here]\n",
    "\n",
    "2. [Your answer here]\n",
    "\n",
    "3. [Your answer here]"
   ]
  }
 ],
 "metadata": {
  "kernelspec": {
   "display_name": "R",
   "language": "R",
   "name": "ir"
  },
  "language_info": {
   "codemirror_mode": "r",
   "file_extension": ".r",
   "mimetype": "text/x-r-source",
   "name": "R",
   "pygments_lexer": "r",
   "version": "4.3.0"
  }
 },
 "nbformat": 4,
 "nbformat_minor": 4
}