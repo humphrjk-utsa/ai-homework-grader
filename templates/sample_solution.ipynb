{
 "cells": [
  {
   "cell_type": "markdown",
   "metadata": {},
   "source": [
    "# Homework 1: Introduction to R and Data Analysis - SOLUTION\n",
    "\n",
    "**Instructor Solution**\n",
    "\n",
    "This notebook contains the complete solution for Homework 1."
   ]
  },
  {
   "cell_type": "markdown",
   "metadata": {},
   "source": [
    "## Exercise 1: Basic R Operations (25 points)\n",
    "\n",
    "### 1.1 Variables and Assignment (10 points)"
   ]
  },
  {
   "cell_type": "code",
   "execution_count": 1,
   "metadata": {},
   "outputs": [
    {
     "name": "stdout",
     "output_type": "stream",
     "text": [
      "[1] 25\n",
      "[1] \"blue\"\n",
      "[1] TRUE\n"
     ]
    }
   ],
   "source": [
    "# Create variables\n",
    "my_age <- 25\n",
    "favorite_color <- \"blue\"\n",
    "likes_statistics <- TRUE\n",
    "\n",
    "# Display values\n",
    "print(my_age)\n",
    "print(favorite_color)\n",
    "print(likes_statistics)"
   ]
  },
  {
   "cell_type": "markdown",
   "metadata": {},
   "source": [
    "### 1.2 Arithmetic Operations (15 points)"
   ]
  },
  {
   "cell_type": "code",
   "execution_count": 2,
   "metadata": {},
   "outputs": [
    {
     "name": "stdout",
     "output_type": "stream",
     "text": [
      "[1] \"Sum of 15 and 27: 42\"\n",
      "[1] \"Product of 8 and 9: 72\"\n",
      "[1] \"2 to the power of 5: 32\"\n",
      "[1] \"Remainder of 17 divided by 3: 2\"\n"
     ]
    }
   ],
   "source": [
    "# Arithmetic operations\n",
    "sum_result <- 15 + 27\n",
    "product_result <- 8 * 9\n",
    "power_result <- 2^5\n",
    "remainder_result <- 17 %% 3\n",
    "\n",
    "# Display results with labels\n",
    "print(paste(\"Sum of 15 and 27:\", sum_result))\n",
    "print(paste(\"Product of 8 and 9:\", product_result))\n",
    "print(paste(\"2 to the power of 5:\", power_result))\n",
    "print(paste(\"Remainder of 17 divided by 3:\", remainder_result))"
   ]
  },
  {
   "cell_type": "markdown",
   "metadata": {},
   "source": [
    "## Exercise 2: Vectors and Data Structures (30 points)\n",
    "\n",
    "### 2.1 Create Vectors (15 points)"
   ]
  },
  {
   "cell_type": "code",
   "execution_count": 3,
   "metadata": {},
   "outputs": [
    {
     "name": "stdout",
     "output_type": "stream",
     "text": [
      " [1]  1  2  3  4  5  6  7  8  9 10\n",
      "[1] \"apple\"  \"banana\" \"orange\" \"grape\"  \"kiwi\"  \n",
      "[1]  TRUE FALSE  TRUE FALSE  TRUE\n"
     ]
    }
   ],
   "source": [
    "# Create vectors\n",
    "numeric_vector <- c(1:10)  # or c(1, 2, 3, 4, 5, 6, 7, 8, 9, 10)\n",
    "fruit_vector <- c(\"apple\", \"banana\", \"orange\", \"grape\", \"kiwi\")\n",
    "logical_vector <- c(TRUE, FALSE, TRUE, FALSE, TRUE)\n",
    "\n",
    "# Display vectors\n",
    "print(numeric_vector)\n",
    "print(fruit_vector)\n",
    "print(logical_vector)"
   ]
  },
  {
   "cell_type": "markdown",
   "metadata": {},
   "source": [
    "### 2.2 Data Frame Creation (15 points)"
   ]
  },
  {
   "cell_type": "code",
   "execution_count": 4,
   "metadata": {},
   "outputs": [
    {
     "name": "stdout",
     "output_type": "stream",
     "text": [
      "    Name Age Grade\n",
      "1   John  20     A\n",
      "2   Jane  19     B\n",
      "3   Mike  21     A\n",
      "4  Sarah  20     C\n",
      "5   Alex  22     B\n",
      "'data.frame':\t5 obs. of  3 variables:\n",
      " $ Name : chr  \"John\" \"Jane\" \"Mike\" \"Sarah\" ...\n",
      " $ Age  : num  20 19 21 20 22\n",
      " $ Grade: chr  \"A\" \"B\" \"A\" \"C\" ...\n"
     ]
    }
   ],
   "source": [
    "# Create data frame\n",
    "student_data <- data.frame(\n",
    "  Name = c(\"John\", \"Jane\", \"Mike\", \"Sarah\", \"Alex\"),\n",
    "  Age = c(20, 19, 21, 20, 22),\n",
    "  Grade = c(\"A\", \"B\", \"A\", \"C\", \"B\")\n",
    ")\n",
    "\n",
    "# Display data frame\n",
    "print(student_data)\n",
    "\n",
    "# Show structure\n",
    "str(student_data)"
   ]
  },
  {
   "cell_type": "markdown",
   "metadata": {},
   "source": [
    "## Exercise 3: Data Import and Analysis (25 points)\n",
    "\n",
    "### 3.1 Load Required Libraries (5 points)"
   ]
  },
  {
   "cell_type": "code",
   "execution_count": 5,
   "metadata": {},
   "outputs": [
    {
     "name": "stderr",
     "output_type": "stream",
     "text": [
      "── \u001b[1mAttaching core tidyverse packages\u001b[22m ──────────────────────── tidyverse 2.0.0 ──\n",
      "\u001b[32m✔\u001b[39m \u001b[34mdplyr    \u001b[39m 1.1.4     \u001b[32m✔\u001b[39m \u001b[34mreadr    \u001b[39m 2.1.5\n",
      "\u001b[31m✖\u001b[39m \u001b[34mforcats  \u001b[39m 1.0.0     \u001b[32m✔\u001b[39m \u001b[34mstringr  \u001b[39m 1.5.1\n",
      "\u001b[32m✔\u001b[39m \u001b[34mggplot2  \u001b[39m 3.5.2     \u001b[32m✔\u001b[39m \u001b[34mtibble   \u001b[39m 3.3.0\n",
      "\u001b[32m✔\u001b[39m \u001b[34mlubridate\u001b[39m 1.9.4     \u001b[32m✔\u001b[39m \u001b[34mtidyr    \u001b[39m 1.3.1\n",
      "\u001b[32m✔\u001b[39m \u001b[34mpurrr    \u001b[39m 1.0.4     \n",
      "── \u001b[1mConflicts\u001b[22m ────────────────────────────────────────── tidyverse_conflicts() ──\n",
      "\u001b[31m✖\u001b[39m \u001b[34mdplyr\u001b[39m::\u001b[32mfilter()\u001b[39m masks \u001b[34mstats\u001b[39m::filter()\n",
      "\u001b[31m✖\u001b[39m \u001b[34mdplyr\u001b[39m::\u001b[32mlag()\u001b[39m    masks \u001b[34mstats\u001b[39m::lag()\n",
      "\u001b[36mℹ\u001b[39m Use the conflicted package (\u001b[3m\u001b[34m<http://conflicted.r-lib.org/>\u001b[39m\u001b[23m) to force all conflicts to become errors\n"
     ]
    }
   ],
   "source": [
    "# Load tidyverse library\n",
    "library(tidyverse)"
   ]
  },
  {
   "cell_type": "markdown",
   "metadata": {},
   "source": [
    "### 3.2 Create and Import Data (20 points)"
   ]
  },
  {
   "cell_type": "code",
   "execution_count": 6,
   "metadata": {},
   "outputs": [
    {
     "name": "stderr",
     "output_type": "stream",
     "text": [
      "\u001b[1mRows: \u001b[22m\u001b[34m5\u001b[39m \u001b[1mColumns: \u001b[22m\u001b[34m3\u001b[39m\n",
      "\u001b[36m──\u001b[39m \u001b[1mColumn specification\u001b[22m \u001b[36m────────────────────────────────────────────────────────\u001b[39m\n",
      "\u001b[1mDelimiter:\u001b[22m \",\"\n",
      "\u001b[31mchr\u001b[39m (1): Product\n",
      "\u001b[32mdbl\u001b[39m (2): ID, Sales\n",
      "\n",
      "\u001b[36mℹ\u001b[39m Use `spec()` to retrieve the full column specification for this data.\n",
      "\u001b[36mℹ\u001b[39m Specify the column types or set `show_col_types = FALSE` to quiet this message.\n"
     ]
    },
    {
     "name": "stdout",
     "output_type": "stream",
     "text": [
      "\u001b[90m# A tibble: 5 × 3\u001b[39m\n",
      "     ID Product  Sales\n",
      "  \u001b[3m\u001b[90m<dbl>\u001b[39m\u001b[23m \u001b[3m\u001b[90m<chr>\u001b[39m\u001b[23m    \u001b[3m\u001b[90m<dbl>\u001b[39m\u001b[23m\n",
      "\u001b[90m1\u001b[39m     1 Laptop    \u001b[4m1\u001b[24m200\n",
      "\u001b[90m2\u001b[39m     2 Mouse       25\n",
      "\u001b[90m3\u001b[39m     3 Keyboard    75\n",
      "\u001b[90m4\u001b[39m     4 Monitor    300\n",
      "\u001b[90m5\u001b[39m     5 Tablet     450\n",
      "spc_tbl_ [5 × 3] (S3: spec_tbl_df/tbl_df/tbl/data.frame)\n",
      " $ ID     : num [1:5] 1 2 3 4 5\n",
      " $ Product: chr [1:5] \"Laptop\" \"Mouse\" \"Keyboard\" \"Monitor\" ...\n",
      " $ Sales  : num [1:5] 1200 25 75 300 450\n",
      " - attr(*, \"spec\")=\n",
      "  .. cols(\n",
      "  ..   ID = \u001b[32mcol_double()\u001b[39m,\n",
      "  ..   Product = \u001b[31mcol_character()\u001b[39m,\n",
      "  ..   Sales = \u001b[32mcol_double()\u001b[39m\n",
      "  .. )\n",
      " - attr(*, \"problems\")=<externalptr> \n",
      "       ID         Product              Sales       \n",
      " Min.   :1.0   Length:5           Min.   :  25.0  \n",
      " 1st Qu.:2.0   Class :character   1st Qu.:  75.0  \n",
      " Median :3.0   Mode  :character   Median : 300.0  \n",
      " Mean   :3.0                      Mean   : 410.0  \n",
      " 3rd Qu.:4.0                      3rd Qu.: 450.0  \n",
      " Max.   :5.0                      Max.   :1200.0  \n"
     ]
    }
   ],
   "source": [
    "# 1. Create CSV data\n",
    "sales_csv_data <- \"ID,Product,Sales\n",
    "1,Laptop,1200\n",
    "2,Mouse,25\n",
    "3,Keyboard,75\n",
    "4,Monitor,300\n",
    "5,Tablet,450\"\n",
    "\n",
    "# Write to CSV file\n",
    "writeLines(sales_csv_data, \"sample_sales.csv\")\n",
    "\n",
    "# 2. Read CSV file\n",
    "sales_data <- read_csv(\"sample_sales.csv\")\n",
    "\n",
    "# 3. Display first few rows\n",
    "print(sales_data)\n",
    "\n",
    "# 4. Show structure\n",
    "str(sales_data)\n",
    "\n",
    "# 5. Summary statistics\n",
    "summary(sales_data)"
   ]
  },
  {
   "cell_type": "markdown",
   "metadata": {},
   "source": [
    "## Exercise 4: Analysis and Interpretation (20 points)\n",
    "\n",
    "### 4.1 Data Analysis Questions"
   ]
  },
  {
   "cell_type": "code",
   "execution_count": 7,
   "metadata": {},
   "outputs": [
    {
     "name": "stdout",
     "output_type": "stream",
     "text": [
      "[1] \"Average sales: 410\"\n",
      "[1] \"Maximum sales: 1200\"\n",
      "[1] \"Minimum sales: 25\"\n",
      "[1] \"Number of observations: 5\"\n"
     ]
    }
   ],
   "source": [
    "# 1. Average value\n",
    "avg_sales <- mean(sales_data$Sales)\n",
    "print(paste(\"Average sales:\", avg_sales))\n",
    "\n",
    "# 2. Maximum and minimum\n",
    "max_sales <- max(sales_data$Sales)\n",
    "min_sales <- min(sales_data$Sales)\n",
    "print(paste(\"Maximum sales:\", max_sales))\n",
    "print(paste(\"Minimum sales:\", min_sales))\n",
    "\n",
    "# 3. Number of observations\n",
    "num_obs <- nrow(sales_data)\n",
    "print(paste(\"Number of observations:\", num_obs))"
   ]
  },
  {
   "cell_type": "markdown",
   "metadata": {},
   "source": [
    "**Interpretation:**\n",
    "\n",
    "The sales data shows a wide range of product values, from $25 (Mouse) to $1,200 (Laptop). The average sale value is $410, which is influenced by the high-value laptop sale. The data represents 5 different technology products with varying price points. The laptop represents the highest-value item and significantly impacts the mean, while accessories like the mouse represent lower-value transactions. This type of data is typical in retail technology sales where there's a mix of high-value items and accessories."
   ]
  },
  {
   "cell_type": "markdown",
   "metadata": {},
   "source": [
    "## Reflection Questions - Sample Answers\n",
    "\n",
    "1. **What was the most challenging part of this assignment?**\n",
    "   Understanding the different data types in R and how they behave differently was initially challenging. Also, remembering the correct syntax for creating data frames and using functions like `read_csv()`.\n",
    "\n",
    "2. **What did you learn about R that you didn't know before?**\n",
    "   I learned that R has very powerful built-in functions for data analysis, and that the assignment operator `<-` is preferred over `=`. I also discovered how easy it is to create and manipulate vectors and data frames.\n",
    "\n",
    "3. **How might you use these R skills in future data analysis projects?**\n",
    "   These basic skills form the foundation for more complex data analysis. I can use vector operations for calculations, data frames for organizing datasets, and the import functions to work with real-world data files. These skills will be essential for statistical analysis and data visualization projects."
   ]
  }
 ],
 "metadata": {
  "kernelspec": {
   "display_name": "R",
   "language": "R",
   "name": "ir"
  },
  "language_info": {
   "codemirror_mode": "r",
   "file_extension": ".r",
   "mimetype": "text/x-r-source",
   "name": "R",
   "pygments_lexer": "r",
   "version": "4.3.0"
  }
 },
 "nbformat": 4,
 "nbformat_minor": 4
}