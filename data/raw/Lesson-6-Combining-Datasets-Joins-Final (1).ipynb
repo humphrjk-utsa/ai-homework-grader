{
 "cells": [
  {
   "cell_type": "markdown",
   "id": "40ae180e",
   "metadata": {},
   "source": [
    "# Lesson 6: Combining Datasets - Joins\n",
    "\n",
    "**Topic:** Data Integration and Table Relationships with `dplyr` Join Functions\n",
    "\n",
    "**Learning Objectives:**\n",
    "- Understand the four main types of joins and when to use each one\n",
    "- Learn how to combine datasets using `dplyr` join functions\n",
    "- Practice joining tables with real business data scenarios\n",
    "- Handle common join challenges including mismatched keys and missing data\n",
    "- Apply joins to solve practical business analysis problems\n",
    "\n",
    "---\n",
    "\n",
    "## Overview\n",
    "\n",
    "In real-world business analysis, information is rarely contained in a single table. Instead, data is typically spread across multiple datasets, each serving different purposes within an organization. **Customer information** might live in a CRM system, **transaction data** in a sales database, and **product details** in an inventory management system.\n",
    "\n",
    "The ability to **combine these separate datasets** into unified, analysis-ready tables is one of the most fundamental and valuable skills in data analysis. This process of combining tables based on shared keys is called **joining**, and it's essential for creating comprehensive datasets that can answer complex business questions.\n",
    "\n",
    "In this lesson, we'll explore the powerful **join functions** provided by the `dplyr` package. You'll learn how to strategically combine datasets, understand the different types of joins available, and master the techniques needed to handle real-world data integration challenges.\n",
    "\n",
    "**Why Data Joining is Critical for Business Analysis:**\n",
    "- **Complete Picture**: Combine customer demographics with purchasing behavior for full customer insights\n",
    "- **Cross-System Integration**: Unite data from different business systems and databases\n",
    "- **Enhanced Analysis**: Create rich datasets that support sophisticated analytical techniques\n",
    "- **Operational Efficiency**: Reduce manual data compilation and improve reporting accuracy\n",
    "\n",
    "Understanding joins will transform your ability to work with complex, multi-table business datasets and unlock insights that would be impossible with isolated data sources.\n",
    "\n",
    "---"
   ]
  },
  {
   "cell_type": "markdown",
   "id": "97c79566",
   "metadata": {},
   "source": [
    "## Understanding Data Relationships in Business Context\n",
    "\n",
    "Before we dive into the mechanics of joining data, it's important to understand how business data naturally relates across different systems and why these relationships exist.\n",
    "\n",
    "### Common Business Data Patterns:\n",
    "\n",
    "In most organizations, data is organized following logical business processes, which creates natural relationships between different types of information:\n",
    "\n",
    "**📊 Customer-Centric Data Flows:**\n",
    "- **Customers → Orders**: One customer can place multiple orders over time (one-to-many relationship)\n",
    "- **Orders → Order Items**: Each order can contain multiple products (one-to-many relationship)  \n",
    "- **Products → Categories**: Multiple products belong to product categories (many-to-one relationship)\n",
    "\n",
    "**🏢 Operational Data Connections:**\n",
    "- **Employees → Departments**: Multiple employees work in each department\n",
    "- **Sales → Territories**: Sales transactions are assigned to geographic territories\n",
    "- **Inventory → Locations**: Product stock levels tracked across multiple warehouses\n",
    "\n",
    "### Why Data Gets Separated:\n",
    "\n",
    "**Database Design Principles:**\n",
    "- **Normalization**: Reduces data redundancy and improves data integrity\n",
    "- **System Boundaries**: Different business functions often use specialized software\n",
    "- **Performance**: Smaller, focused tables often perform better than massive single tables\n",
    "\n",
    "**Business Process Reality:**\n",
    "- **Departmental Systems**: Sales, HR, Finance teams use different tools\n",
    "- **Timing Differences**: Customer data created before order data, products cataloged separately\n",
    "- **Data Sources**: Information comes from websites, mobile apps, point-of-sale systems, etc.\n",
    "\n",
    "Understanding these natural relationships helps you choose the right joining strategy and anticipate the structure of your results.\n",
    "\n",
    "---"
   ]
  },
  {
   "cell_type": "markdown",
   "id": "d3d0f69e",
   "metadata": {},
   "source": [
    "## Setup and Package Loading\n",
    "\n",
    "Before we begin working with joins, let's set up our environment with the necessary tools for data integration and manipulation.\n",
    "\n",
    "**📦 Package Overview:**\n",
    "- **tidyverse**: Our comprehensive data science toolkit that includes `dplyr`\n",
    "- **dplyr**: The specialized package that provides all our joining functions\n",
    "\n",
    "**🔧 What dplyr Join Functions Provide:**\n",
    "- `inner_join()`: Keep only rows that match in both tables\n",
    "- `left_join()`: Keep all rows from the left table, add matching data from right\n",
    "- `right_join()`: Keep all rows from the right table, add matching data from left\n",
    "- `full_join()`: Keep all rows from both tables, combining where possible\n",
    "\n",
    "**💼 Business Context:**\n",
    "In professional data analysis, you'll regularly need to combine data from multiple sources like CRM systems, transaction databases, product catalogs, and financial systems. Learning to join these different data sources effectively is essential for comprehensive business analysis."
   ]
  },
  {
   "cell_type": "code",
   "execution_count": 102,
   "id": "dc972ef5",
   "metadata": {
    "vscode": {
     "languageId": "r"
    }
   },
   "outputs": [
    {
     "name": "stdout",
     "output_type": "stream",
     "text": [
      "📚 Loaded tidyverse package successfully!\n",
      "🔗 Join functions now available: inner_join(), left_join(), right_join(), full_join()\n",
      "🎯 Ready to learn about combining datasets!\n",
      "🔗 Join functions now available: inner_join(), left_join(), right_join(), full_join()\n",
      "🎯 Ready to learn about combining datasets!\n"
     ]
    }
   ],
   "source": [
    "# Load necessary packages for data manipulation and joining\n",
    "library(tidyverse)    # This loads the complete tidyverse collection including:\n",
    "                      # - dplyr: our main tool for joining datasets\n",
    "                      # - tibble: for improved data frame handling\n",
    "                      # - readr: for reading data files when needed\n",
    "                      # - ggplot2: for visualizing our joined results\n",
    "\n",
    "# Confirm successful loading\n",
    "cat(\"📚 Loaded tidyverse package successfully!\\n\")\n",
    "cat(\"🔗 Join functions now available: inner_join(), left_join(), right_join(), full_join()\\n\")\n",
    "cat(\"🎯 Ready to learn about combining datasets!\\n\")"
   ]
  },
  {
   "cell_type": "markdown",
   "id": "2f0f07ac",
   "metadata": {},
   "source": [
    "## 1. Sample Datasets\n",
    "\n",
    "Let's create some sample business datasets to work with. These represent typical data structures you might find in business databases, where information is logically separated across different tables.\n",
    "\n",
    "### Dataset Context:\n",
    "We'll work with a common e-commerce scenario involving:\n",
    "- **Customer data**: Basic customer information and demographics\n",
    "- **Order data**: Transaction records with amounts and dates\n",
    "- **Product data**: Product catalog information\n",
    "- **Order details**: Line-item details linking orders to specific products\n",
    "\n",
    "This separation is typical in business systems where customer management, order processing, and inventory management are handled by different components of the business system."
   ]
  },
  {
   "cell_type": "code",
   "execution_count": 103,
   "id": "2091187b",
   "metadata": {
    "vscode": {
     "languageId": "r"
    }
   },
   "outputs": [
    {
     "name": "stdout",
     "output_type": "stream",
     "text": [
      "[1] \"Customer Data:\"\n",
      "  CustomerID    Name Region\n",
      "1          1   Alice  North\n",
      "2          2     Bob  South\n",
      "3          3 Charlie   East\n",
      "4          4   David   West\n",
      "5          5     Eve  North\n",
      "  CustomerID    Name Region\n",
      "1          1   Alice  North\n",
      "2          2     Bob  South\n",
      "3          3 Charlie   East\n",
      "4          4   David   West\n",
      "5          5     Eve  North\n"
     ]
    }
   ],
   "source": [
    "# Customer data - represents our master customer database\n",
    "customers <- data.frame(\n",
    "  CustomerID = c(1, 2, 3, 4, 5),                         # Primary key - unique identifier for each customer\n",
    "  Name = c(\"Alice\", \"Bob\", \"Charlie\", \"David\", \"Eve\"),    # Customer names for reporting and communication\n",
    "  Region = c(\"North\", \"South\", \"East\", \"West\", \"North\")  # Geographic regions for sales territory analysis\n",
    ")\n",
    "\n",
    "print(\"Customer Data:\")\n",
    "print(customers)\n",
    "\n",
    "# Business context: This data typically comes from a CRM system or customer master database\n",
    "# CustomerID serves as the primary key that links to other systems"
   ]
  },
  {
   "cell_type": "code",
   "execution_count": 104,
   "id": "f401e6a0",
   "metadata": {
    "vscode": {
     "languageId": "r"
    }
   },
   "outputs": [
    {
     "name": "stdout",
     "output_type": "stream",
     "text": [
      "[1] \"Orders Data:\"\n",
      "  OrderID CustomerID  OrderDate Amount\n",
      "1     101          1 2024-01-10    150\n",
      "2     102          2 2024-01-12    200\n",
      "3     103          1 2024-01-15     75\n",
      "4     104          3 2024-01-18    300\n",
      "5     105          6 2024-01-20    100\n",
      "6     106          2 2024-01-22     50\n",
      "  OrderID CustomerID  OrderDate Amount\n",
      "1     101          1 2024-01-10    150\n",
      "2     102          2 2024-01-12    200\n",
      "3     103          1 2024-01-15     75\n",
      "4     104          3 2024-01-18    300\n",
      "5     105          6 2024-01-20    100\n",
      "6     106          2 2024-01-22     50\n"
     ]
    }
   ],
   "source": [
    "# Order data - represents transaction records from our e-commerce system\n",
    "orders <- data.frame(\n",
    "  OrderID = c(101, 102, 103, 104, 105, 106),             # Primary key - unique identifier for each order\n",
    "  CustomerID = c(1, 2, 1, 3, 6, 2),                     # Foreign key linking to customers table\n",
    "                                                          # Note: CustomerID 6 doesn't exist in customers (data quality issue)\n",
    "  OrderDate = as.Date(c(\"2024-01-10\", \"2024-01-12\", \"2024-01-15\", \n",
    "                        \"2024-01-18\", \"2024-01-20\", \"2024-01-22\")), # Transaction dates for time-based analysis\n",
    "  Amount = c(150, 200, 75, 300, 100, 50)                # Order values in dollars for revenue analysis\n",
    ")\n",
    "\n",
    "print(\"Orders Data:\")\n",
    "print(orders)\n",
    "\n",
    "# Business context: This data comes from order management or e-commerce platforms\n",
    "# The CustomerID foreign key should link to the customers table, but note the data quality issue with ID 6"
   ]
  },
  {
   "cell_type": "code",
   "execution_count": 105,
   "id": "19d6458c",
   "metadata": {
    "vscode": {
     "languageId": "r"
    }
   },
   "outputs": [
    {
     "name": "stdout",
     "output_type": "stream",
     "text": [
      "[1] \"Products Data:\"\n",
      "  ProductID ProductName    Category\n",
      "1         1      Laptop Electronics\n",
      "2         2       Mouse Electronics\n",
      "3         3    Keyboard Electronics\n",
      "4         4     Monitor Electronics\n",
      "  ProductID ProductName    Category\n",
      "1         1      Laptop Electronics\n",
      "2         2       Mouse Electronics\n",
      "3         3    Keyboard Electronics\n",
      "4         4     Monitor Electronics\n"
     ]
    }
   ],
   "source": [
    "# Product data (for later examples) - represents our product catalog\n",
    "products <- data.frame(\n",
    "  ProductID = c(1, 2, 3, 4),                                    # Primary key for product identification\n",
    "  ProductName = c(\"Laptop\", \"Mouse\", \"Keyboard\", \"Monitor\"),    # Product names for reporting\n",
    "  Category = c(\"Electronics\", \"Electronics\", \"Electronics\", \"Electronics\") # Product categories for classification\n",
    ")\n",
    "\n",
    "print(\"Products Data:\")\n",
    "print(products)"
   ]
  },
  {
   "cell_type": "code",
   "execution_count": 106,
   "id": "7a754c42",
   "metadata": {
    "vscode": {
     "languageId": "r"
    }
   },
   "outputs": [
    {
     "name": "stdout",
     "output_type": "stream",
     "text": [
      "[1] \"Order Details Data:\"\n",
      "  OrderID ProductID Quantity\n",
      "1     101         1        1\n",
      "2     101         2        1\n",
      "3     102         1        1\n",
      "4     103         3        2\n",
      "5     104         4        1\n",
      "6     104         1        1\n",
      "7     105         2        1\n",
      "8     106         3        1\n",
      "  OrderID ProductID Quantity\n",
      "1     101         1        1\n",
      "2     101         2        1\n",
      "3     102         1        1\n",
      "4     103         3        2\n",
      "5     104         4        1\n",
      "6     104         1        1\n",
      "7     105         2        1\n",
      "8     106         3        1\n"
     ]
    }
   ],
   "source": [
    "# Order details data (for later examples) - represents line items within each order\n",
    "order_details <- data.frame(\n",
    "  OrderID = c(101, 101, 102, 103, 104, 104, 105, 106),    # Foreign key linking to orders table\n",
    "  ProductID = c(1, 2, 1, 3, 4, 1, 2, 3),                  # Foreign key linking to products table\n",
    "  Quantity = c(1, 1, 1, 2, 1, 1, 1, 1)                    # Quantity of each product ordered\n",
    ")\n",
    "\n",
    "print(\"Order Details Data:\")\n",
    "print(order_details)\n",
    "\n",
    "# Business context: This bridges orders and products, showing what was actually purchased\n",
    "# Notice how OrderID 101 has two line items (Laptop and Mouse)\n",
    "# This creates a many-to-many relationship between orders and products"
   ]
  },
  {
   "cell_type": "markdown",
   "id": "95038136",
   "metadata": {},
   "source": [
    "## 2. Types of Joins\n",
    "\n",
    "Now let's explore the four main types of joins available in `dplyr`. Each join type serves different analytical purposes and handles missing relationships differently.\n",
    "\n",
    "### Join Type Overview:\n",
    "\n",
    "**🔗 `inner_join()`**: Returns only rows where there are matching values in both tables\n",
    "- **Use when**: You need complete data from both tables for your analysis\n",
    "- **Business example**: Analyzing only customers who have made purchases\n",
    "\n",
    "**⬅️ `left_join()`**: Returns all rows from left table, matching rows from right table\n",
    "- **Use when**: You want to keep all records from your primary table\n",
    "- **Business example**: Customer analysis including those who haven't purchased yet\n",
    "\n",
    "**➡️ `right_join()`**: Returns all rows from right table, matching rows from left table  \n",
    "- **Use when**: You want to keep all records from your secondary table\n",
    "- **Business example**: Order analysis including orders with missing customer data\n",
    "\n",
    "**🔄 `full_join()`**: Returns all rows from both tables, combining where possible\n",
    "- **Use when**: You need a complete picture of all data from both sources\n",
    "- **Business example**: Data quality auditing to find all gaps and orphaned records\n",
    "\n",
    "Let's see each type in action with our sample datasets."
   ]
  },
  {
   "cell_type": "markdown",
   "id": "6dfb951a",
   "metadata": {},
   "source": [
    "### Understanding Join Types Through Examples\n",
    "\n",
    "Let's explore each join type using our sample datasets. Each join serves different analytical purposes and handles missing relationships differently."
   ]
  },
  {
   "cell_type": "code",
   "execution_count": 107,
   "id": "4cc7d3e1",
   "metadata": {
    "vscode": {
     "languageId": "r"
    }
   },
   "outputs": [
    {
     "name": "stdout",
     "output_type": "stream",
     "text": [
      "[1] \"Inner Join (matching CustomerIDs only):\"\n",
      "  CustomerID    Name Region OrderID  OrderDate Amount\n",
      "1          1   Alice  North     101 2024-01-10    150\n",
      "2          1   Alice  North     103 2024-01-15     75\n",
      "3          2     Bob  South     102 2024-01-12    200\n",
      "4          2     Bob  South     106 2024-01-22     50\n",
      "5          3 Charlie   East     104 2024-01-18    300\n",
      "  CustomerID    Name Region OrderID  OrderDate Amount\n",
      "1          1   Alice  North     101 2024-01-10    150\n",
      "2          1   Alice  North     103 2024-01-15     75\n",
      "3          2     Bob  South     102 2024-01-12    200\n",
      "4          2     Bob  South     106 2024-01-22     50\n",
      "5          3 Charlie   East     104 2024-01-18    300\n"
     ]
    }
   ],
   "source": [
    "# a) inner_join(): Returns all rows from both tables where there are matching values.\n",
    "#    This gives us only customers who have made orders (and only orders with valid customers)\n",
    "inner_joined_data <- inner_join(customers, orders, by = \"CustomerID\")\n",
    "print(\"Inner Join (matching CustomerIDs only):\")\n",
    "print(inner_joined_data)\n",
    "\n",
    "# Notice: Customer 4 (David) and Customer 5 (Eve) are excluded because they have no orders\n",
    "# Order 105 (CustomerID 6) is excluded because there's no matching customer\n",
    "# This join type ensures data completeness but excludes non-matching records"
   ]
  },
  {
   "cell_type": "code",
   "execution_count": 108,
   "id": "eed7289b",
   "metadata": {
    "vscode": {
     "languageId": "r"
    }
   },
   "outputs": [
    {
     "name": "stdout",
     "output_type": "stream",
     "text": [
      "[1] \"Left Join (all customers, matching orders):\"\n",
      "  CustomerID    Name Region OrderID  OrderDate Amount\n",
      "1          1   Alice  North     101 2024-01-10    150\n",
      "2          1   Alice  North     103 2024-01-15     75\n",
      "3          2     Bob  South     102 2024-01-12    200\n",
      "4          2     Bob  South     106 2024-01-22     50\n",
      "5          3 Charlie   East     104 2024-01-18    300\n",
      "6          4   David   West      NA       <NA>     NA\n",
      "7          5     Eve  North      NA       <NA>     NA\n",
      "  CustomerID    Name Region OrderID  OrderDate Amount\n",
      "1          1   Alice  North     101 2024-01-10    150\n",
      "2          1   Alice  North     103 2024-01-15     75\n",
      "3          2     Bob  South     102 2024-01-12    200\n",
      "4          2     Bob  South     106 2024-01-22     50\n",
      "5          3 Charlie   East     104 2024-01-18    300\n",
      "6          4   David   West      NA       <NA>     NA\n",
      "7          5     Eve  North      NA       <NA>     NA\n"
     ]
    }
   ],
   "source": [
    "# b) left_join(): Returns all rows from the left table, and the matching rows from the right table.\n",
    "#    If there are no matches, the columns from the right table will have NA.\n",
    "left_joined_data <- left_join(customers, orders, by = \"CustomerID\")\n",
    "print(\"Left Join (all customers, matching orders):\")\n",
    "print(left_joined_data)\n",
    "\n",
    "# Notice: All customers appear in the result, including David and Eve who have no orders\n",
    "# For customers without orders, the order columns (OrderID, OrderDate, Amount) show NA\n",
    "# This is perfect for customer-centric analysis where you want to include all customers"
   ]
  },
  {
   "cell_type": "code",
   "execution_count": 109,
   "id": "f0ddb7f2",
   "metadata": {
    "vscode": {
     "languageId": "r"
    }
   },
   "outputs": [
    {
     "name": "stdout",
     "output_type": "stream",
     "text": [
      "[1] \"Right Join (all orders, matching customers):\"\n",
      "  CustomerID    Name Region OrderID  OrderDate Amount\n",
      "1          1   Alice  North     101 2024-01-10    150\n",
      "2          1   Alice  North     103 2024-01-15     75\n",
      "3          2     Bob  South     102 2024-01-12    200\n",
      "4          2     Bob  South     106 2024-01-22     50\n",
      "5          3 Charlie   East     104 2024-01-18    300\n",
      "6          6    <NA>   <NA>     105 2024-01-20    100\n",
      "  CustomerID    Name Region OrderID  OrderDate Amount\n",
      "1          1   Alice  North     101 2024-01-10    150\n",
      "2          1   Alice  North     103 2024-01-15     75\n",
      "3          2     Bob  South     102 2024-01-12    200\n",
      "4          2     Bob  South     106 2024-01-22     50\n",
      "5          3 Charlie   East     104 2024-01-18    300\n",
      "6          6    <NA>   <NA>     105 2024-01-20    100\n"
     ]
    }
   ],
   "source": [
    "# c) right_join(): Returns all rows from the right table, and the matching rows from the left table.\n",
    "#    If there are no matches, the columns from the left table will have NA.\n",
    "right_joined_data <- right_join(customers, orders, by = \"CustomerID\")\n",
    "print(\"Right Join (all orders, matching customers):\")\n",
    "print(right_joined_data)\n",
    "\n",
    "# Notice: All orders appear in the result, including Order 105 with CustomerID 6\n",
    "# For Order 105, the customer columns (Name, Region) show NA because CustomerID 6 doesn't exist\n",
    "# This helps identify data quality issues like orphaned orders"
   ]
  },
  {
   "cell_type": "code",
   "execution_count": 110,
   "id": "0112bd46",
   "metadata": {
    "vscode": {
     "languageId": "r"
    }
   },
   "outputs": [
    {
     "name": "stdout",
     "output_type": "stream",
     "text": [
      "[1] \"Full Join (all customers and all orders):\"\n",
      "  CustomerID    Name Region OrderID  OrderDate Amount\n",
      "1          1   Alice  North     101 2024-01-10    150\n",
      "2          1   Alice  North     103 2024-01-15     75\n",
      "3          2     Bob  South     102 2024-01-12    200\n",
      "4          2     Bob  South     106 2024-01-22     50\n",
      "5          3 Charlie   East     104 2024-01-18    300\n",
      "6          4   David   West      NA       <NA>     NA\n",
      "7          5     Eve  North      NA       <NA>     NA\n",
      "8          6    <NA>   <NA>     105 2024-01-20    100\n",
      "  CustomerID    Name Region OrderID  OrderDate Amount\n",
      "1          1   Alice  North     101 2024-01-10    150\n",
      "2          1   Alice  North     103 2024-01-15     75\n",
      "3          2     Bob  South     102 2024-01-12    200\n",
      "4          2     Bob  South     106 2024-01-22     50\n",
      "5          3 Charlie   East     104 2024-01-18    300\n",
      "6          4   David   West      NA       <NA>     NA\n",
      "7          5     Eve  North      NA       <NA>     NA\n",
      "8          6    <NA>   <NA>     105 2024-01-20    100\n"
     ]
    }
   ],
   "source": [
    "# d) full_join(): Returns all rows and all columns from both tables.\n",
    "#    Where there are no matching values, returns NA for the rows from the non-matching table.\n",
    "full_joined_data <- full_join(customers, orders, by = \"CustomerID\")\n",
    "print(\"Full Join (all customers and all orders):\")\n",
    "print(full_joined_data)\n",
    "\n",
    "# Notice: This gives us the complete picture - all customers AND all orders\n",
    "# Customers without orders show NA in order columns\n",
    "# Orders without customers show NA in customer columns\n",
    "# This is useful for comprehensive data auditing and understanding data gaps"
   ]
  },
  {
   "cell_type": "markdown",
   "id": "61fdef73",
   "metadata": {},
   "source": [
    "## 3. Joining Multiple Tables\n",
    "\n",
    "Sometimes we need to combine data from more than two tables to get the complete picture we need for analysis. We can do this by performing multiple join operations in sequence, building up our dataset step by step.\n",
    "\n",
    "### Multi-Table Join Strategy:\n",
    "\n",
    "**Step-by-Step Approach:**\n",
    "1. **Start with a central table** (often the transaction or event table)\n",
    "2. **Add detail information** (like line items or specifics)\n",
    "3. **Enrich with reference data** (like product catalogs or lookup tables)\n",
    "4. **Complete with master data** (like customer or account information)\n",
    "\n",
    "**Business Value:**\n",
    "This approach lets us build comprehensive analytical datasets that combine transactional details with reference information and master data, enabling rich analysis and reporting.\n",
    "\n",
    "Let's build a complete transaction dataset by joining our tables step by step."
   ]
  },
  {
   "cell_type": "code",
   "execution_count": 111,
   "id": "f534c190",
   "metadata": {
    "vscode": {
     "languageId": "r"
    }
   },
   "outputs": [
    {
     "name": "stdout",
     "output_type": "stream",
     "text": [
      "[1] \"Step 1 - Orders with Details:\"\n",
      "  OrderID CustomerID  OrderDate Amount ProductID Quantity\n",
      "1     101          1 2024-01-10    150         1        1\n",
      "2     101          1 2024-01-10    150         2        1\n",
      "3     102          2 2024-01-12    200         1        1\n",
      "4     103          1 2024-01-15     75         3        2\n",
      "5     104          3 2024-01-18    300         4        1\n",
      "6     104          3 2024-01-18    300         1        1\n",
      "7     105          6 2024-01-20    100         2        1\n",
      "8     106          2 2024-01-22     50         3        1\n",
      "  OrderID CustomerID  OrderDate Amount ProductID Quantity\n",
      "1     101          1 2024-01-10    150         1        1\n",
      "2     101          1 2024-01-10    150         2        1\n",
      "3     102          2 2024-01-12    200         1        1\n",
      "4     103          1 2024-01-15     75         3        2\n",
      "5     104          3 2024-01-18    300         4        1\n",
      "6     104          3 2024-01-18    300         1        1\n",
      "7     105          6 2024-01-20    100         2        1\n",
      "8     106          2 2024-01-22     50         3        1\n"
     ]
    }
   ],
   "source": [
    "# Step 1: Join orders with order_details to get the line-item details for each order\n",
    "# This tells us what products were purchased in each order\n",
    "orders_with_details <- inner_join(orders, order_details, by = \"OrderID\")\n",
    "print(\"Step 1 - Orders with Details:\")\n",
    "print(orders_with_details)\n",
    "\n",
    "# Business insight: Notice how Order 101 appears twice because it contains two products\n",
    "# This shows the one-to-many relationship between orders and order line items"
   ]
  },
  {
   "cell_type": "code",
   "execution_count": 112,
   "id": "4c06287d",
   "metadata": {
    "vscode": {
     "languageId": "r"
    }
   },
   "outputs": [
    {
     "name": "stdout",
     "output_type": "stream",
     "text": [
      "[1] \"Step 2 - Orders with Products:\"\n",
      "  OrderID CustomerID  OrderDate Amount ProductID Quantity ProductName\n",
      "1     101          1 2024-01-10    150         1        1      Laptop\n",
      "2     101          1 2024-01-10    150         2        1       Mouse\n",
      "3     102          2 2024-01-12    200         1        1      Laptop\n",
      "4     103          1 2024-01-15     75         3        2    Keyboard\n",
      "5     104          3 2024-01-18    300         4        1     Monitor\n",
      "6     104          3 2024-01-18    300         1        1      Laptop\n",
      "7     105          6 2024-01-20    100         2        1       Mouse\n",
      "8     106          2 2024-01-22     50         3        1    Keyboard\n",
      "     Category\n",
      "1 Electronics\n",
      "2 Electronics\n",
      "3 Electronics\n",
      "4 Electronics\n",
      "5 Electronics\n",
      "6 Electronics\n",
      "7 Electronics\n",
      "8 Electronics\n",
      "  OrderID CustomerID  OrderDate Amount ProductID Quantity ProductName\n",
      "1     101          1 2024-01-10    150         1        1      Laptop\n",
      "2     101          1 2024-01-10    150         2        1       Mouse\n",
      "3     102          2 2024-01-12    200         1        1      Laptop\n",
      "4     103          1 2024-01-15     75         3        2    Keyboard\n",
      "5     104          3 2024-01-18    300         4        1     Monitor\n",
      "6     104          3 2024-01-18    300         1        1      Laptop\n",
      "7     105          6 2024-01-20    100         2        1       Mouse\n",
      "8     106          2 2024-01-22     50         3        1    Keyboard\n",
      "     Category\n",
      "1 Electronics\n",
      "2 Electronics\n",
      "3 Electronics\n",
      "4 Electronics\n",
      "5 Electronics\n",
      "6 Electronics\n",
      "7 Electronics\n",
      "8 Electronics\n"
     ]
    }
   ],
   "source": [
    "# Step 2: Add product information to get product names and categories\n",
    "# This enriches our dataset with descriptive product information\n",
    "orders_products <- inner_join(orders_with_details, products, by = \"ProductID\")\n",
    "print(\"Step 2 - Orders with Products:\")\n",
    "print(orders_products)\n",
    "\n",
    "# Business insight: Now we can see exactly what products were ordered\n",
    "# This enables product-level analysis and reporting"
   ]
  },
  {
   "cell_type": "code",
   "execution_count": 113,
   "id": "71eadb41",
   "metadata": {
    "vscode": {
     "languageId": "r"
    }
   },
   "outputs": [
    {
     "name": "stdout",
     "output_type": "stream",
     "text": [
      "[1] \"Step 3 - Full Transaction Data:\"\n",
      "  CustomerID    Name Region OrderID  OrderDate Amount ProductID Quantity\n",
      "1          1   Alice  North     101 2024-01-10    150         1        1\n",
      "2          1   Alice  North     101 2024-01-10    150         2        1\n",
      "3          1   Alice  North     103 2024-01-15     75         3        2\n",
      "4          2     Bob  South     102 2024-01-12    200         1        1\n",
      "5          2     Bob  South     106 2024-01-22     50         3        1\n",
      "6          3 Charlie   East     104 2024-01-18    300         4        1\n",
      "7          3 Charlie   East     104 2024-01-18    300         1        1\n",
      "  ProductName    Category\n",
      "1      Laptop Electronics\n",
      "2       Mouse Electronics\n",
      "3    Keyboard Electronics\n",
      "4      Laptop Electronics\n",
      "5    Keyboard Electronics\n",
      "6     Monitor Electronics\n",
      "7      Laptop Electronics\n",
      "  CustomerID    Name Region OrderID  OrderDate Amount ProductID Quantity\n",
      "1          1   Alice  North     101 2024-01-10    150         1        1\n",
      "2          1   Alice  North     101 2024-01-10    150         2        1\n",
      "3          1   Alice  North     103 2024-01-15     75         3        2\n",
      "4          2     Bob  South     102 2024-01-12    200         1        1\n",
      "5          2     Bob  South     106 2024-01-22     50         3        1\n",
      "6          3 Charlie   East     104 2024-01-18    300         4        1\n",
      "7          3 Charlie   East     104 2024-01-18    300         1        1\n",
      "  ProductName    Category\n",
      "1      Laptop Electronics\n",
      "2       Mouse Electronics\n",
      "3    Keyboard Electronics\n",
      "4      Laptop Electronics\n",
      "5    Keyboard Electronics\n",
      "6     Monitor Electronics\n",
      "7      Laptop Electronics\n"
     ]
    }
   ],
   "source": [
    "# Step 3: Finally, add customer information to complete our analytical dataset\n",
    "# This gives us the full customer-order-product relationship\n",
    "full_transaction_data <- inner_join(customers, orders_products, by = \"CustomerID\")\n",
    "print(\"Step 3 - Full Transaction Data:\")\n",
    "print(full_transaction_data)\n",
    "\n",
    "# Business value: This comprehensive dataset enables analysis like:\n",
    "# - Which customers buy which products?\n",
    "# - What are the purchasing patterns by region?\n",
    "# - Which products are most popular with specific customer segments?"
   ]
  },
  {
   "cell_type": "markdown",
   "id": "001ff9c9",
   "metadata": {},
   "source": [
    "## 4. Handling Common Issues During Joins\n",
    "\n",
    "When working with real business data, you'll encounter various challenges that need to be addressed for successful joins. Let's explore some common scenarios and their solutions.\n",
    "\n",
    "### Common Join Challenges:\n",
    "\n",
    "**🔑 Mismatched Key Names**: Different systems often use different column names for the same concept\n",
    "**📊 Data Quality Issues**: Missing values, orphaned records, or duplicate keys\n",
    "**🔄 Relationship Complexity**: Many-to-many relationships that create unexpected results\n",
    "**⚡ Performance Considerations**: Large datasets that require optimization strategies\n",
    "\n",
    "Understanding these challenges and their solutions will make you much more effective at real-world data integration."
   ]
  },
  {
   "cell_type": "code",
   "execution_count": 114,
   "id": "6a7e7d0e",
   "metadata": {
    "vscode": {
     "languageId": "r"
    }
   },
   "outputs": [
    {
     "name": "stdout",
     "output_type": "stream",
     "text": [
      "[1] \"Join with mismatched key names:\"\n",
      "  CustID    Name Region OrderID  OrderDate Amount\n",
      "1      1   Alice  North     101 2024-01-10    150\n",
      "2      1   Alice  North     103 2024-01-15     75\n",
      "3      2     Bob  South     102 2024-01-12    200\n",
      "4      2     Bob  South     106 2024-01-22     50\n",
      "5      3 Charlie   East     104 2024-01-18    300\n",
      "  CustID    Name Region OrderID  OrderDate Amount\n",
      "1      1   Alice  North     101 2024-01-10    150\n",
      "2      1   Alice  North     103 2024-01-15     75\n",
      "3      2     Bob  South     102 2024-01-12    200\n",
      "4      2     Bob  South     106 2024-01-22     50\n",
      "5      3 Charlie   East     104 2024-01-18    300\n"
     ]
    }
   ],
   "source": [
    "# Challenge 1: Mismatched key names - Different systems use different column names\n",
    "# Solution: Use by = c(\"left_key\" = \"right_key\") to map column names\n",
    "\n",
    "# Example: Suppose our customer data came from a different system with \"CustID\" instead of \"CustomerID\"\n",
    "customers_alt_id <- data.frame(\n",
    "  CustID = c(1, 2, 3, 4, 5),                              # Different column name for the same concept\n",
    "  Name = c(\"Alice\", \"Bob\", \"Charlie\", \"David\", \"Eve\"),\n",
    "  Region = c(\"North\", \"South\", \"East\", \"West\", \"North\")\n",
    ")\n",
    "\n",
    "# Show the solution for mismatched column names\n",
    "joined_alt_id <- inner_join(customers_alt_id, orders, by = c(\"CustID\" = \"CustomerID\"))\n",
    "print(\"Join with mismatched key names:\")\n",
    "print(joined_alt_id)\n",
    "\n",
    "# The by = c(\"CustID\" = \"CustomerID\") tells R to match CustID from the left table \n",
    "# with CustomerID from the right table"
   ]
  },
  {
   "cell_type": "markdown",
   "id": "4c9f62a5",
   "metadata": {},
   "source": [
    "### Important Notes About Join Behavior:\n",
    "\n",
    "**⚠️ Duplicate Key Values**: \n",
    "If a key value appears multiple times in both tables, joins will create all possible combinations (Cartesian product). For example, if CustomerID 1 appears twice in the customers table and three times in the orders table, you'll get 6 rows (2 × 3) in your result. Be mindful of this when joining on non-unique keys.\n",
    "\n",
    "**🔍 Missing Values**: \n",
    "When there's no match between tables, join functions will insert `NA` values. Consider how these should be handled in your analysis - sometimes you'll want to exclude them, other times you'll want to treat them as zeros or use them to identify data gaps.\n",
    "\n",
    "**⚡ Performance Tips**: \n",
    "For very large datasets, consider filtering your data before joining to improve performance. Also, ensure your join keys are properly indexed if working with database connections.\n",
    "\n",
    "**🎯 Business Logic**: \n",
    "Always verify that your join results make business sense. Check row counts, look for unexpected duplicates, and validate that the relationships match your understanding of the business process."
   ]
  },
  {
   "cell_type": "markdown",
   "id": "4f62a6d0",
   "metadata": {},
   "source": [
    "## 5. Hands-on Exercise\n",
    "\n",
    "Now it's time to apply what you've learned! This exercise will help you practice choosing the right join type and handling the results appropriately.\n",
    "\n",
    "**Business Scenario**: You're working as a data analyst for an e-commerce company. Your manager wants to understand customer spending patterns to inform the customer retention strategy.\n",
    "\n",
    "**Exercise Task**: Combine customer data with transaction data to calculate total spending per customer.\n",
    "\n",
    "**Requirements**:\n",
    "- Use the `customers` and `orders` dataframes we created earlier\n",
    "- Include ALL customers in your analysis (even those who haven't made purchases yet)\n",
    "- Calculate total spending for each customer\n",
    "- Handle customers with no purchases appropriately\n",
    "\n",
    "**Think About**:\n",
    "- Which join type should you use and why?\n",
    "- How should you handle customers who haven't made any purchases?\n",
    "- What business insights might this analysis reveal?"
   ]
  },
  {
   "cell_type": "code",
   "execution_count": 115,
   "id": "f7f7d060",
   "metadata": {
    "vscode": {
     "languageId": "r"
    }
   },
   "outputs": [],
   "source": [
    "# Your solution here:\n",
    "# 1. Choose the appropriate join type to include all customers\n",
    "# 2. Group by customer information  \n",
    "# 3. Calculate total spending per customer\n",
    "# 4. Handle NA values appropriately\n",
    "\n",
    "# Write your code below:\n",
    "\n"
   ]
  },
  {
   "cell_type": "code",
   "execution_count": 116,
   "id": "dac84407",
   "metadata": {
    "vscode": {
     "languageId": "r"
    }
   },
   "outputs": [
    {
     "name": "stdout",
     "output_type": "stream",
     "text": [
      "[1] \"Total Spending Per Customer (Solution):\"\n",
      "\u001b[90m# A tibble: 5 × 4\u001b[39m\n",
      "  CustomerID Name    TotalSpent OrderCount\n",
      "       \u001b[3m\u001b[90m<dbl>\u001b[39m\u001b[23m \u001b[3m\u001b[90m<chr>\u001b[39m\u001b[23m        \u001b[3m\u001b[90m<dbl>\u001b[39m\u001b[23m      \u001b[3m\u001b[90m<int>\u001b[39m\u001b[23m\n",
      "\u001b[90m1\u001b[39m          1 Alice          225          2\n",
      "\u001b[90m2\u001b[39m          2 Bob            250          2\n",
      "\u001b[90m3\u001b[39m          3 Charlie        300          1\n",
      "\u001b[90m4\u001b[39m          4 David            0          0\n",
      "\u001b[90m5\u001b[39m          5 Eve              0          0\n",
      "\n",
      "💡 Business Insights:\n",
      "- David and Eve are prospects (no purchases yet) - potential for customer acquisition campaigns\n",
      "- Alice is a repeat customer with multiple orders - good candidate for loyalty programs\n",
      "- Bob has the highest total spending - should be prioritized for retention efforts\n",
      "- This analysis helps segment customers for targeted marketing and retention strategies\u001b[90m# A tibble: 5 × 4\u001b[39m\n",
      "  CustomerID Name    TotalSpent OrderCount\n",
      "       \u001b[3m\u001b[90m<dbl>\u001b[39m\u001b[23m \u001b[3m\u001b[90m<chr>\u001b[39m\u001b[23m        \u001b[3m\u001b[90m<dbl>\u001b[39m\u001b[23m      \u001b[3m\u001b[90m<int>\u001b[39m\u001b[23m\n",
      "\u001b[90m1\u001b[39m          1 Alice          225          2\n",
      "\u001b[90m2\u001b[39m          2 Bob            250          2\n",
      "\u001b[90m3\u001b[39m          3 Charlie        300          1\n",
      "\u001b[90m4\u001b[39m          4 David            0          0\n",
      "\u001b[90m5\u001b[39m          5 Eve              0          0\n",
      "\n",
      "💡 Business Insights:\n",
      "- David and Eve are prospects (no purchases yet) - potential for customer acquisition campaigns\n",
      "- Alice is a repeat customer with multiple orders - good candidate for loyalty programs\n",
      "- Bob has the highest total spending - should be prioritized for retention efforts\n",
      "- This analysis helps segment customers for targeted marketing and retention strategies"
     ]
    }
   ],
   "source": [
    "# Solution (for instructor/self-check):\n",
    "total_spending_per_customer <- left_join(customers, orders, by = \"CustomerID\") %>%  # Use left_join to keep all customers\n",
    "  group_by(CustomerID, Name) %>%                           # Group by customer identifiers\n",
    "  summarize(TotalSpent = sum(Amount, na.rm = TRUE),        # Sum amounts, treating NA as 0\n",
    "            OrderCount = sum(!is.na(OrderID)),             # Count non-NA orders\n",
    "            .groups = \"drop\")                              # Remove grouping structure\n",
    "\n",
    "print(\"Total Spending Per Customer (Solution):\")\n",
    "print(total_spending_per_customer)\n",
    "\n",
    "# Business insights from this analysis:\n",
    "cat(\"\\n💡 Business Insights:\")\n",
    "cat(\"\\n- David and Eve are prospects (no purchases yet) - potential for customer acquisition campaigns\")\n",
    "cat(\"\\n- Alice is a repeat customer with multiple orders - good candidate for loyalty programs\") \n",
    "cat(\"\\n- Bob has the highest total spending - should be prioritized for retention efforts\")\n",
    "cat(\"\\n- This analysis helps segment customers for targeted marketing and retention strategies\")"
   ]
  },
  {
   "cell_type": "markdown",
   "id": "eee464f3",
   "metadata": {},
   "source": [
    "## Key Takeaways\n",
    "\n",
    "### 🎯 **Join Function Selection Guide**:\n",
    "\n",
    "- **`inner_join()`**: Use when you need complete data from both tables and want to exclude incomplete records\n",
    "- **`left_join()`**: Use when you want to keep all records from your primary (left) table\n",
    "- **`right_join()`**: Use when you want to keep all records from your secondary (right) table  \n",
    "- **`full_join()`**: Use when you need to see all data from both tables for comprehensive analysis\n",
    "\n",
    "### 💡 **Best Practices for Business Data Joining**:\n",
    "\n",
    "**Planning Your Joins**:\n",
    "- Understand your data relationships before choosing join types\n",
    "- Consider the business question you're trying to answer\n",
    "- Identify which table contains your \"primary\" entities\n",
    "\n",
    "**Handling Data Quality**:\n",
    "- Check for mismatched column names and use named vectors in `by` parameter\n",
    "- Be aware of duplicate keys that can create unexpected Cartesian products\n",
    "- Handle missing values (`NA`) appropriately for your analysis needs\n",
    "\n",
    "**Multi-Table Joining Strategy**:\n",
    "- Start with the most central table (often transaction or event data)\n",
    "- Add tables step-by-step, building complexity gradually\n",
    "- Validate results at each step to ensure business logic is preserved\n",
    "\n",
    "**Performance and Scalability**:\n",
    "- Filter large datasets before joining when possible\n",
    "- Consider using database connections for very large datasets\n",
    "- Monitor memory usage and processing time for production workflows\n",
    "\n",
    "### 🚀 **Next Steps**:\n",
    "\n",
    "Now that you understand data joining, you're ready to tackle more complex analytical challenges:\n",
    "- Combining joins with advanced data manipulation techniques\n",
    "- Time-based analysis with temporal joins\n",
    "- Building automated reporting pipelines with multiple data sources\n",
    "- Creating data warehouses and analytical datasets for business intelligence\n",
    "\n",
    "Mastering joins is fundamental to effective data analysis - these skills will serve you well in any data-driven role!"
   ]
  }
 ],
 "metadata": {
  "kernelspec": {
   "display_name": "R",
   "language": "R",
   "name": "ir"
  },
  "language_info": {
   "codemirror_mode": "r",
   "file_extension": ".r",
   "mimetype": "text/x-r-source",
   "name": "R",
   "pygments_lexer": "r",
   "version": "4.5.0"
  }
 },
 "nbformat": 4,
 "nbformat_minor": 5
}
