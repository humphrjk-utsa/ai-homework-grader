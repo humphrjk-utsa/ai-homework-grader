{
 "cells": [
  {
   "cell_type": "markdown",
   "id": "69ead280",
   "metadata": {},
   "source": [
    "## Lesson 1: Introduction to R, RStudio, and Data Import\n",
    "\n",
    "1. Introduction to R and RStudio\n",
    "   RStudio is an Integrated Development Environment (IDE) for R.\n",
    "   It provides a console, script editor, environment pane, and plots pane.\n"
   ]
  },
  {
   "cell_type": "markdown",
   "id": "4b96cfc3",
   "metadata": {},
   "source": [
    "## Variables and Assignment in R\n",
    "\n",
    "In R, we can store values in variables using assignment operators. There are two main ways to assign values:\n",
    "\n",
    "1. **`<-`** (preferred): This is the traditional R assignment operator\n",
    "2. **`=`**: This also works for assignment (similar to other programming languages)\n",
    "\n",
    "**Why use `<-`?** It's the R convention and makes code more readable. It clearly shows the direction of assignment.\n",
    "\n",
    "Let's see how to create variables:"
   ]
  },
  {
   "cell_type": "code",
   "execution_count": 9,
   "id": "eee46e8b",
   "metadata": {
    "vscode": {
     "languageId": "r"
    }
   },
   "outputs": [],
   "source": [
    "# 2. Basic R Syntax and Data Types\n",
    "\n",
    "# Variables\n",
    "x <- 10\n",
    "y = 5 # another way to assign\n"
   ]
  },
  {
   "cell_type": "markdown",
   "id": "c50a85aa",
   "metadata": {},
   "source": [
    "## Displaying Values with print()\n",
    "\n",
    "The `print()` function displays the value of variables in the console. This is useful for:\n",
    "- Checking what's stored in a variable\n",
    "- Displaying results\n",
    "- Debugging your code\n",
    "\n",
    "**Note:** In interactive R sessions, you can also just type the variable name to see its value, but `print()` is more explicit and works better in scripts."
   ]
  },
  {
   "cell_type": "code",
   "execution_count": 10,
   "id": "30924c91",
   "metadata": {
    "vscode": {
     "languageId": "r"
    }
   },
   "outputs": [
    {
     "name": "stdout",
     "output_type": "stream",
     "text": [
      "[1] 10\n",
      "[1] 5\n"
     ]
    }
   ],
   "source": [
    "print(x)\n",
    "print(y)"
   ]
  },
  {
   "cell_type": "markdown",
   "id": "3128119b",
   "metadata": {},
   "source": [
    "## Arithmetic Operations in R\n",
    "\n",
    "R can perform mathematical calculations just like a calculator. The basic arithmetic operators are:\n",
    "\n",
    "- **`+`**: Addition\n",
    "- **`-`**: Subtraction  \n",
    "- **`*`**: Multiplication\n",
    "- **`/`**: Division\n",
    "- **`^` or `**`**: Exponentiation (power)\n",
    "- **`%%`**: Modulo (remainder after division)\n",
    "\n",
    "We can store the results of these operations in new variables for later use:"
   ]
  },
  {
   "cell_type": "code",
   "execution_count": 11,
   "id": "6aa49ea7",
   "metadata": {
    "vscode": {
     "languageId": "r"
    }
   },
   "outputs": [],
   "source": [
    "# Basic arithmetic operations\n",
    "sum_xy <- x + y\n",
    "diff_xy <- x - y\n",
    "prod_xy <- x * y\n",
    "div_xy <- x / y"
   ]
  },
  {
   "cell_type": "markdown",
   "id": "ac724c75",
   "metadata": {},
   "source": [
    "## Combining Text and Numbers with paste()\n",
    "\n",
    "The `paste()` function is very useful for combining (concatenating) text and numbers into readable messages.\n",
    "\n",
    "**Syntax:** `paste(\"text\", variable, \"more text\")`\n",
    "\n",
    "This is particularly helpful when you want to display results with descriptive labels, making your output more informative and professional-looking."
   ]
  },
  {
   "cell_type": "code",
   "execution_count": 12,
   "id": "46aa6cd4",
   "metadata": {
    "vscode": {
     "languageId": "r"
    }
   },
   "outputs": [
    {
     "name": "stdout",
     "output_type": "stream",
     "text": [
      "[1] \"Sum: 15\"\n",
      "[1] \"Difference: 5\"\n",
      "[1] \"Product: 50\"\n",
      "[1] \"Division: 2\"\n"
     ]
    }
   ],
   "source": [
    "print(paste(\"Sum:\", sum_xy))\n",
    "print(paste(\"Difference:\", diff_xy))\n",
    "print(paste(\"Product:\", prod_xy))\n",
    "print(paste(\"Division:\", div_xy))"
   ]
  },
  {
   "cell_type": "markdown",
   "id": "76bda3be",
   "metadata": {},
   "source": [
    "## Vectors: R's Basic Data Structure\n",
    "\n",
    "**Vectors** are the most fundamental data structure in R. Think of them as a list of items of the same type.\n",
    "\n",
    "**Key points about vectors:**\n",
    "- All elements must be the same data type (all numbers, all text, etc.)\n",
    "- Created using the `c()` function (c stands for \"combine\" or \"concatenate\")\n",
    "- Can contain numbers, text (characters), logical values (TRUE/FALSE), etc.\n",
    "- Very powerful for data analysis - you can perform operations on entire vectors at once!\n",
    "\n",
    "**Common vector types:**\n",
    "- **Numeric**: `c(1, 2, 3.5, 4.2)` \n",
    "- **Character**: `c(\"apple\", \"banana\", \"orange\")`\n",
    "- **Logical**: `c(TRUE, FALSE, TRUE)`"
   ]
  },
  {
   "cell_type": "code",
   "execution_count": 13,
   "id": "1eae4b69",
   "metadata": {
    "vscode": {
     "languageId": "r"
    }
   },
   "outputs": [],
   "source": [
    "# Vectors (1D array of same data type)\n",
    "numbers <- c(1, 2, 3, 4, 5)\n",
    "fruits <- c(\"apple\", \"banana\", \"orange\")"
   ]
  },
  {
   "cell_type": "markdown",
   "id": "35f294c7",
   "metadata": {},
   "source": [
    "## Printing Vectors\n",
    "\n",
    "Let's see what our vectors look like when we print them. Notice how R displays vectors with numbers in brackets `[1]` - this shows the position/index of the first element in each line."
   ]
  },
  {
   "cell_type": "code",
   "execution_count": 14,
   "id": "c8e8cca4",
   "metadata": {
    "vscode": {
     "languageId": "r"
    }
   },
   "outputs": [
    {
     "name": "stdout",
     "output_type": "stream",
     "text": [
      "[1] 1 2 3 4 5\n",
      "[1] \"apple\"  \"banana\" \"orange\"\n"
     ]
    }
   ],
   "source": [
    "print(numbers)\n",
    "print(fruits)"
   ]
  },
  {
   "cell_type": "markdown",
   "id": "d1254373",
   "metadata": {},
   "source": [
    "## Factors: For Categorical Data\n",
    "\n",
    "**Factors** are R's way of handling categorical data - data that falls into specific categories or groups.\n",
    "\n",
    "**When to use factors:**\n",
    "- Colors (red, green, blue)\n",
    "- Survey responses (Agree, Neutral, Disagree) \n",
    "- Categories (Small, Medium, Large)\n",
    "- Gender (Male, Female, Other)\n",
    "\n",
    "**Why use factors instead of regular text?**\n",
    "- R knows these are categories, not just random text\n",
    "- More memory efficient\n",
    "- Enables proper statistical analysis\n",
    "- Controls the order of categories (useful for charts and analysis)\n",
    "\n",
    "**Note:** When you print a factor, R shows you the values AND the \"Levels\" (all possible categories)."
   ]
  },
  {
   "cell_type": "code",
   "execution_count": 15,
   "id": "8fc59ac0",
   "metadata": {
    "vscode": {
     "languageId": "r"
    }
   },
   "outputs": [
    {
     "name": "stdout",
     "output_type": "stream",
     "text": [
      "[1] red   green blue  red  \n",
      "Levels: blue green red\n"
     ]
    }
   ],
   "source": [
    "# Factors (for categorical data)\n",
    "colors <- factor(c(\"red\", \"green\", \"blue\", \"red\"))\n",
    "print(colors)"
   ]
  },
  {
   "cell_type": "markdown",
   "id": "83ff755c",
   "metadata": {},
   "source": [
    "## Lists: Mixed Data Types\n",
    "\n",
    "**Lists** are like containers that can hold different types of data together. Unlike vectors, lists are very flexible!\n",
    "\n",
    "**What makes lists special:**\n",
    "- Can contain different data types in the same structure\n",
    "- Can hold numbers, text, vectors, even other lists!\n",
    "- Elements can be named (like in our example: \"Name\", \"Age\", \"Numbers\")\n",
    "- Very useful for organizing complex data\n",
    "\n",
    "**Think of a list like a file folder:** \n",
    "- Each item has a label (the name)\n",
    "- Each item can contain different types of content\n",
    "- You can access items by their name or position\n",
    "\n",
    "This makes lists perfect for storing related information that might be different types (like a person's name, age, and favorite numbers)."
   ]
  },
  {
   "cell_type": "code",
   "execution_count": 16,
   "id": "f29005bd",
   "metadata": {
    "vscode": {
     "languageId": "r"
    }
   },
   "outputs": [
    {
     "name": "stdout",
     "output_type": "stream",
     "text": [
      "$Name\n",
      "[1] \"Alice\"\n",
      "\n",
      "$Age\n",
      "[1] 30\n",
      "\n",
      "$Numbers\n",
      "[1] 1 2 3\n",
      "\n"
     ]
    }
   ],
   "source": [
    "# Lists (can contain different data types)\n",
    "my_list <- list(\"Name\" = \"Alice\", \"Age\" = 30, \"Numbers\" = c(1, 2, 3))\n",
    "print(my_list)"
   ]
  },
  {
   "cell_type": "markdown",
   "id": "c699a646",
   "metadata": {},
   "source": [
    "## Data Frames: The Heart of Data Analysis\n",
    "\n",
    "**Data Frames** are the most important data structure for data analysis in R. Think of them as spreadsheets or database tables!\n",
    "\n",
    "**Key characteristics:**\n",
    "- **Rows**: Each row represents an observation (like a person, transaction, measurement)\n",
    "- **Columns**: Each column represents a variable (like name, age, salary)\n",
    "- **Mixed data types**: Different columns can contain different types of data\n",
    "- **Same length**: All columns must have the same number of rows\n",
    "\n",
    "**Why data frames are so important:**\n",
    "- Most real-world data looks like this (think Excel spreadsheets, CSV files)\n",
    "- Perfect for statistical analysis and visualization\n",
    "- Most R functions are designed to work with data frames\n",
    "- Easy to filter, sort, and manipulate\n",
    "\n",
    "**In our example:**\n",
    "- Each row represents one person\n",
    "- Columns represent different attributes (ID, Name, Age)"
   ]
  },
  {
   "cell_type": "code",
   "execution_count": 17,
   "id": "8c2e8adf",
   "metadata": {
    "vscode": {
     "languageId": "r"
    }
   },
   "outputs": [
    {
     "name": "stdout",
     "output_type": "stream",
     "text": [
      "  ID Name Age\n",
      "1  1 John  25\n",
      "2  2 Jane  30\n",
      "3  3 Mike  35\n"
     ]
    }
   ],
   "source": [
    "# Data Frames (like a table or spreadsheet)\n",
    "data_frame_example <- data.frame(\n",
    "  ID = c(1, 2, 3),\n",
    "  Name = c(\"John\", \"Jane\", \"Mike\"),\n",
    "  Age = c(25, 30, 35)\n",
    ")\n",
    "print(data_frame_example)"
   ]
  },
  {
   "cell_type": "markdown",
   "id": "d2204e7b",
   "metadata": {},
   "source": [
    "## Installing Packages (One-Time Setup)\n",
    "\n",
    "**What are packages?** Think of packages as \"apps\" for R - they add new functions and capabilities.\n",
    "\n",
    "**The `install.packages()` function:**\n",
    "- Downloads and installs packages from the internet\n",
    "- You only need to run this ONCE per computer\n",
    "- That's why we've commented these out (they're already installed in this environment)\n",
    "\n",
    "**Key packages we're using:**\n",
    "- **`tidyverse`**: A collection of packages for data science (data cleaning, visualization, etc.)\n",
    "- **`readxl`**: Specifically for reading Excel files (.xlsx, .xls)\n",
    "\n",
    "**Important note:** If you're on your own computer and these packages aren't installed, you would uncomment these lines and run them once."
   ]
  },
  {
   "cell_type": "code",
   "execution_count": null,
   "id": "b9b6bfc4",
   "metadata": {
    "vscode": {
     "languageId": "r"
    }
   },
   "outputs": [],
   "source": [
    "# 3. Installing and Loading Packages\n",
    "# Packages extend R's functionality.\n",
    "# The 'tidyverse' is a collection of packages for data science.\n",
    "\n",
    "# Install if not already installed (run only once)\n",
    "# install.packages(\"tidyverse\")\n",
    "# install.packages(\"readxl\") # for reading Excel files\n",
    "\n"
   ]
  },
  {
   "cell_type": "markdown",
   "id": "e93a17fa",
   "metadata": {},
   "source": [
    "## Loading Packages with library()\n",
    "\n",
    "Now we'll load the packages we need. Think of this like opening apps on your phone - the packages are installed, but we need to \"open\" them to use their functions.\n",
    "\n",
    "**About our packages:**\n",
    "\n",
    "**`tidyverse`** - A collection of packages that work well together for data science:\n",
    "- Makes data cleaning and analysis much easier\n",
    "- Includes tools for reading data, manipulating data, and creating visualizations\n",
    "- Very popular in the R community\n",
    "\n",
    "**`readxl`** - Specifically designed for reading Excel files:\n",
    "- Can read both .xls and .xlsx files\n",
    "- Handles Excel's complexities (multiple sheets, formatting, etc.)\n",
    "\n",
    "**Important:** You only need to install packages once (`install.packages()`), but you need to load them with `library()` every time you start a new R session."
   ]
  },
  {
   "cell_type": "code",
   "execution_count": 18,
   "id": "7d62f438",
   "metadata": {
    "vscode": {
     "languageId": "r"
    }
   },
   "outputs": [
    {
     "name": "stderr",
     "output_type": "stream",
     "text": [
      "── \u001b[1mAttaching core tidyverse packages\u001b[22m ──────────────────────── tidyverse 2.0.0 ──\n",
      "\u001b[32m✔\u001b[39m \u001b[34mdplyr    \u001b[39m 1.1.4     \u001b[32m✔\u001b[39m \u001b[34mreadr    \u001b[39m 2.1.5\n",
      "\u001b[32m✔\u001b[39m \u001b[34mforcats  \u001b[39m 1.0.0     \u001b[32m✔\u001b[39m \u001b[34mstringr  \u001b[39m 1.5.1\n",
      "\u001b[32m✔\u001b[39m \u001b[34mggplot2  \u001b[39m 3.5.2     \u001b[32m✔\u001b[39m \u001b[34mtibble   \u001b[39m 3.3.0\n",
      "\u001b[32m✔\u001b[39m \u001b[34mlubridate\u001b[39m 1.9.4     \u001b[32m✔\u001b[39m \u001b[34mtidyr    \u001b[39m 1.3.1\n",
      "\u001b[32m✔\u001b[39m \u001b[34mpurrr    \u001b[39m 1.1.0     \n",
      "── \u001b[1mConflicts\u001b[22m ────────────────────────────────────────── tidyverse_conflicts() ──\n",
      "\u001b[31m✖\u001b[39m \u001b[34mdplyr\u001b[39m::\u001b[32mfilter()\u001b[39m masks \u001b[34mstats\u001b[39m::filter()\n",
      "\u001b[31m✖\u001b[39m \u001b[34mdplyr\u001b[39m::\u001b[32mlag()\u001b[39m    masks \u001b[34mstats\u001b[39m::lag()\n",
      "\u001b[36mℹ\u001b[39m Use the conflicted package (\u001b[3m\u001b[34m<http://conflicted.r-lib.org/>\u001b[39m\u001b[23m) to force all conflicts to become errors\n"
     ]
    }
   ],
   "source": [
    "# Load packages for use in the current session\n",
    "library(tidyverse)\n",
    "library(readxl)"
   ]
  },
  {
   "cell_type": "markdown",
   "id": "a93223e4",
   "metadata": {},
   "source": [
    "## Understanding Working Directory\n",
    "\n",
    "The **working directory** is like R's \"current location\" on your computer. It's the folder where R will:\n",
    "- Look for files when you try to read them\n",
    "- Save files when you create them\n",
    "\n",
    "**Key functions:**\n",
    "- `getwd()`: Shows you where R is currently \"looking\"\n",
    "- `setwd()`: Changes R's current location (use carefully!)\n",
    "\n",
    "**Why this matters:**\n",
    "- If your data file is in a different folder, R won't find it\n",
    "- Understanding file paths prevents many common errors\n",
    "- Good practice: organize your projects in folders\n",
    "\n",
    "**Best practice:** Instead of changing working directory, use full file paths or organize your project properly from the start.\n",
    "\n",
    "**Note about commented code:** The `setwd()` lines are commented out because:\n",
    "1. Everyone's computer has different folder structures\n",
    "2. It's better to use relative paths or organize projects properly\n",
    "3. Changing working directory can cause confusion"
   ]
  },
  {
   "cell_type": "code",
   "execution_count": 20,
   "id": "c03b439d",
   "metadata": {
    "vscode": {
     "languageId": "r"
    }
   },
   "outputs": [
    {
     "data": {
      "text/html": [
       "'/workspaces/Data-Management-Assignment-1-Intro-to-R/assignment/Lecture'"
      ],
      "text/latex": [
       "'/workspaces/Data-Management-Assignment-1-Intro-to-R/assignment/Lecture'"
      ],
      "text/markdown": [
       "'/workspaces/Data-Management-Assignment-1-Intro-to-R/assignment/Lecture'"
      ],
      "text/plain": [
       "[1] \"/workspaces/Data-Management-Assignment-1-Intro-to-R/assignment/Lecture\""
      ]
     },
     "metadata": {},
     "output_type": "display_data"
    },
    {
     "data": {
      "text/html": [
       "'/workspaces/Data-Management-Assignment-1-Intro-to-R/data'"
      ],
      "text/latex": [
       "'/workspaces/Data-Management-Assignment-1-Intro-to-R/data'"
      ],
      "text/markdown": [
       "'/workspaces/Data-Management-Assignment-1-Intro-to-R/data'"
      ],
      "text/plain": [
       "[1] \"/workspaces/Data-Management-Assignment-1-Intro-to-R/data\""
      ]
     },
     "metadata": {},
     "output_type": "display_data"
    }
   ],
   "source": [
    "# 4. Setting up Working Directory\n",
    "# The working directory is where R will look for files and save files.\n",
    "\n",
    "# Get current working directory\n",
    "getwd()\n",
    "\n",
    "# Set working directory (replace with your desired path)\n",
    "setwd(\"/workspaces/Data-Management-Assignment-1-Intro-to-R/data\")\n",
    "# Verify the new working directory\n",
    " getwd()   "
   ]
  },
  {
   "cell_type": "markdown",
   "id": "2ed75bd9",
   "metadata": {},
   "source": [
    "## Creating Sample Data and Reading CSV Files\n",
    "\n",
    "For this lesson, we'll create a small sample CSV file to practice with. In real projects, you'd usually work with existing data files.\n",
    "\n",
    "**What we're doing:**\n",
    "1. Creating sample data as text (with headers and comma-separated values)\n",
    "2. Writing it to a CSV file using `writeLines()`\n",
    "3. Reading it back using `read_csv()` from the tidyverse\n",
    "\n",
    "**About CSV files:**\n",
    "- **CSV** = Comma-Separated Values\n",
    "- Very common format for data exchange\n",
    "- Can be opened in Excel, R, Python, databases, etc.\n",
    "- Simple text format that's human-readable\n",
    "\n",
    "**`read_csv()` vs base R's `read.csv()`:**\n",
    "- `read_csv()` (tidyverse) is faster and more reliable\n",
    "- Better at guessing data types\n",
    "- Creates tibbles (enhanced data frames)"
   ]
  },
  {
   "cell_type": "code",
   "execution_count": 21,
   "id": "c3102828",
   "metadata": {
    "vscode": {
     "languageId": "r"
    }
   },
   "outputs": [],
   "source": [
    "# 5. Importing Data from CSV and Excel files\n",
    "\n",
    "# Create a dummy CSV file for demonstration\n",
    "dummy_csv_data <- \"ID,Product,Sales\n",
    "1,Laptop,1200\n",
    "2,Mouse,25\n",
    "3,Keyboard,75\n",
    "4,Monitor,300\"\n",
    "writeLines(dummy_csv_data, \"dummy_sales_data.csv\")"
   ]
  },
  {
   "cell_type": "code",
   "execution_count": 22,
   "id": "3fb10283",
   "metadata": {
    "vscode": {
     "languageId": "r"
    }
   },
   "outputs": [
    {
     "name": "stderr",
     "output_type": "stream",
     "text": [
      "\u001b[1mRows: \u001b[22m\u001b[34m4\u001b[39m \u001b[1mColumns: \u001b[22m\u001b[34m3\u001b[39m\n",
      "\u001b[36m──\u001b[39m \u001b[1mColumn specification\u001b[22m \u001b[36m────────────────────────────────────────────────────────\u001b[39m\n",
      "\u001b[1mDelimiter:\u001b[22m \",\"\n",
      "\u001b[31mchr\u001b[39m (1): Product\n",
      "\u001b[32mdbl\u001b[39m (2): ID, Sales\n",
      "\n",
      "\u001b[36mℹ\u001b[39m Use `spec()` to retrieve the full column specification for this data.\n",
      "\u001b[36mℹ\u001b[39m Specify the column types or set `show_col_types = FALSE` to quiet this message.\n"
     ]
    },
    {
     "name": "stdout",
     "output_type": "stream",
     "text": [
      "\u001b[90m# A tibble: 4 × 3\u001b[39m\n",
      "     ID Product  Sales\n",
      "  \u001b[3m\u001b[90m<dbl>\u001b[39m\u001b[23m \u001b[3m\u001b[90m<chr>\u001b[39m\u001b[23m    \u001b[3m\u001b[90m<dbl>\u001b[39m\u001b[23m\n",
      "\u001b[90m1\u001b[39m     1 Laptop    \u001b[4m1\u001b[24m200\n",
      "\u001b[90m2\u001b[39m     2 Mouse       25\n",
      "\u001b[90m3\u001b[39m     3 Keyboard    75\n",
      "\u001b[90m4\u001b[39m     4 Monitor    300\n"
     ]
    }
   ],
   "source": [
    "# Import CSV file using readr (part of tidyverse)\n",
    "sales_data_csv <- read_csv(\"dummy_sales_data.csv\")\n",
    "print(sales_data_csv)\n"
   ]
  },
  {
   "cell_type": "markdown",
   "id": "15b54eb3",
   "metadata": {},
   "source": [
    "## Working with Excel Files (Commented Code Explanation)\n",
    "\n",
    "**Excel files (.xlsx, .xls)** are very common in business and research. The `readxl` package makes it easy to read them into R.\n",
    "\n",
    "**Why the code is commented out:**\n",
    "The next few cells show examples of working with Excel files, but they're commented out because:\n",
    "1. We'd need to install additional packages (`openxlsx`) to create Excel files\n",
    "2. For this demo, we're focusing on CSV files which are simpler\n",
    "3. In real projects, you'd typically have Excel files provided to you\n",
    "\n",
    "**Key functions for Excel:**\n",
    "- `read_excel(\"filename.xlsx\")`: Reads Excel files\n",
    "- `write.xlsx()`: Creates Excel files (requires `openxlsx` package)\n",
    "- Excel files can have multiple sheets, which `readxl` can handle\n",
    "\n",
    "**When you'd use this:** In real projects when you receive data in Excel format from colleagues or clients."
   ]
  },
  {
   "cell_type": "code",
   "execution_count": null,
   "id": "0ad0eb8e",
   "metadata": {
    "vscode": {
     "languageId": "r"
    }
   },
   "outputs": [],
   "source": [
    "# Create a dummy Excel file (requires openxlsx or readxl to write)\n",
    "# For simplicity, we'll assume an Excel file exists or is created manually for the lesson.\n",
    "# If you need to create one programmatically for testing, you'd use a package like 'openxlsx'.\n",
    "# Example of creating a dummy Excel file (requires 'openxlsx' package)\n",
    "# install.packages(\"openxlsx\")\n",
    "# library(openxlsx)\n",
    "# dummy_excel_data <- data.frame(\n",
    "#   OrderID = c(101, 102, 103),\n",
    "#   Customer = c(\"Alice\", \"Bob\", \"Charlie\"),\n",
    "#   Amount = c(150.50, 200.00, 75.25)\n",
    "# )\n",
    "# write.xlsx(dummy_excel_data, \"dummy_orders_data.xlsx\")"
   ]
  },
  {
   "cell_type": "code",
   "execution_count": null,
   "id": "d05b1334",
   "metadata": {
    "vscode": {
     "languageId": "r"
    }
   },
   "outputs": [],
   "source": [
    "# For the purpose of this example, let's simulate reading an Excel file\n",
    "# Assume 'dummy_orders_data.xlsx' exists in the working directory\n",
    "# orders_data_excel <- read_excel(\"dummy_orders_data.xlsx\")\n",
    "# print(orders_data_excel)\n"
   ]
  },
  {
   "cell_type": "markdown",
   "id": "c1187bf3",
   "metadata": {},
   "source": [
    "## Data Inspection: Your First Look at Data\n",
    "\n",
    "Once you've loaded data, the first thing you should do is **inspect** it. This helps you understand:\n",
    "- What variables (columns) you have\n",
    "- How much data you're working with  \n",
    "- What the data looks like\n",
    "- If there are any obvious problems\n",
    "\n",
    "**Key inspection functions we'll use:**\n",
    "- `head()`: Shows first few rows\n",
    "- `str()`: Shows structure and data types  \n",
    "- `summary()`: Shows statistical summaries\n",
    "- `View()`: Opens data in spreadsheet viewer (RStudio)\n",
    "\n",
    "Let's explore our sales data step by step:"
   ]
  },
  {
   "cell_type": "code",
   "execution_count": 23,
   "id": "dd77b6e3",
   "metadata": {
    "vscode": {
     "languageId": "r"
    }
   },
   "outputs": [
    {
     "data": {
      "text/html": [
       "<table class=\"dataframe\">\n",
       "<caption>A tibble: 4 × 3</caption>\n",
       "<thead>\n",
       "\t<tr><th scope=col>ID</th><th scope=col>Product</th><th scope=col>Sales</th></tr>\n",
       "\t<tr><th scope=col>&lt;dbl&gt;</th><th scope=col>&lt;chr&gt;</th><th scope=col>&lt;dbl&gt;</th></tr>\n",
       "</thead>\n",
       "<tbody>\n",
       "\t<tr><td>1</td><td>Laptop  </td><td>1200</td></tr>\n",
       "\t<tr><td>2</td><td>Mouse   </td><td>  25</td></tr>\n",
       "\t<tr><td>3</td><td>Keyboard</td><td>  75</td></tr>\n",
       "\t<tr><td>4</td><td>Monitor </td><td> 300</td></tr>\n",
       "</tbody>\n",
       "</table>\n"
      ],
      "text/latex": [
       "A tibble: 4 × 3\n",
       "\\begin{tabular}{lll}\n",
       " ID & Product & Sales\\\\\n",
       " <dbl> & <chr> & <dbl>\\\\\n",
       "\\hline\n",
       "\t 1 & Laptop   & 1200\\\\\n",
       "\t 2 & Mouse    &   25\\\\\n",
       "\t 3 & Keyboard &   75\\\\\n",
       "\t 4 & Monitor  &  300\\\\\n",
       "\\end{tabular}\n"
      ],
      "text/markdown": [
       "\n",
       "A tibble: 4 × 3\n",
       "\n",
       "| ID &lt;dbl&gt; | Product &lt;chr&gt; | Sales &lt;dbl&gt; |\n",
       "|---|---|---|\n",
       "| 1 | Laptop   | 1200 |\n",
       "| 2 | Mouse    |   25 |\n",
       "| 3 | Keyboard |   75 |\n",
       "| 4 | Monitor  |  300 |\n",
       "\n"
      ],
      "text/plain": [
       "  ID Product  Sales\n",
       "1 1  Laptop   1200 \n",
       "2 2  Mouse      25 \n",
       "3 3  Keyboard   75 \n",
       "4 4  Monitor   300 "
      ]
     },
     "metadata": {},
     "output_type": "display_data"
    }
   ],
   "source": [
    "# 6. Basic Data Inspection\n",
    "\n",
    "# View the first few rows\n",
    "head(sales_data_csv)\n"
   ]
  },
  {
   "cell_type": "markdown",
   "id": "4d3f1a24",
   "metadata": {},
   "source": [
    "## The head() Function: Quick Data Preview\n",
    "\n",
    "`head()` shows you the first few rows of your data (default is 6 rows). This is super useful because:\n",
    "\n",
    "- **Quick overview**: See what your data looks like without overwhelming output\n",
    "- **Column names**: Check if column names imported correctly  \n",
    "- **Data types**: Get a sense of what type of data is in each column\n",
    "- **Sample values**: See examples of actual data values\n",
    "\n",
    "**Tip:** You can specify how many rows to show: `head(data, n = 10)` shows first 10 rows.\n",
    "\n",
    "This is often the first thing data analysts do when they load new data!"
   ]
  },
  {
   "cell_type": "code",
   "execution_count": 24,
   "id": "9b10cda2",
   "metadata": {
    "vscode": {
     "languageId": "r"
    }
   },
   "outputs": [
    {
     "name": "stdout",
     "output_type": "stream",
     "text": [
      "spc_tbl_ [4 × 3] (S3: spec_tbl_df/tbl_df/tbl/data.frame)\n",
      " $ ID     : num [1:4] 1 2 3 4\n",
      " $ Product: chr [1:4] \"Laptop\" \"Mouse\" \"Keyboard\" \"Monitor\"\n",
      " $ Sales  : num [1:4] 1200 25 75 300\n",
      " - attr(*, \"spec\")=\n",
      "  .. cols(\n",
      "  ..   ID = \u001b[32mcol_double()\u001b[39m,\n",
      "  ..   Product = \u001b[31mcol_character()\u001b[39m,\n",
      "  ..   Sales = \u001b[32mcol_double()\u001b[39m\n",
      "  .. )\n",
      " - attr(*, \"problems\")=<externalptr> \n"
     ]
    }
   ],
   "source": [
    "# Get structure of the data frame\n",
    "str(sales_data_csv)"
   ]
  },
  {
   "cell_type": "markdown",
   "id": "3c1def3c",
   "metadata": {},
   "source": [
    "## The str() Function: Understanding Data Structure\n",
    "\n",
    "`str()` (structure) gives you a comprehensive overview of your data's \"anatomy\":\n",
    "\n",
    "**What str() tells you:**\n",
    "- **Data type**: Is it a data frame, list, vector, etc.?\n",
    "- **Dimensions**: How many rows and columns (observations and variables)?\n",
    "- **Column types**: Are columns numeric, character, factor, etc.?\n",
    "- **Sample values**: A few example values from each column\n",
    "\n",
    "**Why this matters:**\n",
    "- **Data types affect analysis**: You can't do math on text columns\n",
    "- **Memory usage**: Helps you understand how much space your data uses\n",
    "- **Data problems**: Quickly spot if numbers were read as text, etc.\n",
    "\n",
    "**Example output interpretation:**\n",
    "- `num`: Numeric (numbers you can do math with)\n",
    "- `chr`: Character (text)\n",
    "- `Factor`: Categorical data\n",
    "- `logi`: Logical (TRUE/FALSE)"
   ]
  },
  {
   "cell_type": "code",
   "execution_count": 25,
   "id": "87b680ea",
   "metadata": {
    "vscode": {
     "languageId": "r"
    }
   },
   "outputs": [
    {
     "data": {
      "text/plain": [
       "       ID         Product              Sales       \n",
       " Min.   :1.00   Length:4           Min.   :  25.0  \n",
       " 1st Qu.:1.75   Class :character   1st Qu.:  62.5  \n",
       " Median :2.50   Mode  :character   Median : 187.5  \n",
       " Mean   :2.50                      Mean   : 400.0  \n",
       " 3rd Qu.:3.25                      3rd Qu.: 525.0  \n",
       " Max.   :4.00                      Max.   :1200.0  "
      ]
     },
     "metadata": {},
     "output_type": "display_data"
    }
   ],
   "source": [
    "# Get summary statistics\n",
    "summary(sales_data_csv)"
   ]
  },
  {
   "cell_type": "markdown",
   "id": "e60d8363",
   "metadata": {},
   "source": [
    "## The summary() Function: Statistical Overview\n",
    "\n",
    "`summary()` provides statistical summaries for each column in your data:\n",
    "\n",
    "**For numeric columns, you get:**\n",
    "- **Min**: Smallest value\n",
    "- **1st Qu**: First quartile (25th percentile)  \n",
    "- **Median**: Middle value (50th percentile)\n",
    "- **Mean**: Average value\n",
    "- **3rd Qu**: Third quartile (75th percentile)\n",
    "- **Max**: Largest value\n",
    "\n",
    "**For character/factor columns:**\n",
    "- **Length**: How many values\n",
    "- **Class**: What type of data\n",
    "- **Mode**: Storage mode\n",
    "\n",
    "**Why this is valuable:**\n",
    "- **Spot outliers**: Extreme min/max values that might be errors\n",
    "- **Understand distribution**: Is data skewed? Are there unusual patterns?\n",
    "- **Missing data**: Shows if there are NA (missing) values\n",
    "- **Data quality**: Quick check for reasonable ranges\n",
    "\n",
    "**Example interpretation:** If you're looking at sales data and the minimum is negative, that might indicate a data entry error!"
   ]
  },
  {
   "cell_type": "code",
   "execution_count": null,
   "id": "90a47747",
   "metadata": {
    "vscode": {
     "languageId": "r"
    }
   },
   "outputs": [],
   "source": [
    "# View the entire dataset in a spreadsheet-like viewer (RStudio specific)\n",
    "# View(sales_data_csv)"
   ]
  },
  {
   "cell_type": "markdown",
   "id": "946ad3dc",
   "metadata": {},
   "source": [
    "## The View() Function (Interactive Data Exploration)\n",
    "\n",
    "**View() function:**\n",
    "- Opens your data in a spreadsheet-like viewer (only works in RStudio)\n",
    "- Great for exploring data interactively\n",
    "- You can sort columns, filter, and browse through all your data\n",
    "- **Note:** We've commented this out because it only works in interactive RStudio sessions, not in notebooks\n",
    "\n",
    "**When to use View():**\n",
    "- When you want to see your entire dataset\n",
    "- To check for data quality issues visually\n",
    "- To get familiar with large datasets\n",
    "- To verify that data import worked correctly"
   ]
  },
  {
   "cell_type": "code",
   "execution_count": null,
   "id": "1763fa8d",
   "metadata": {
    "vscode": {
     "languageId": "r"
    }
   },
   "outputs": [],
   "source": [
    "# Clean up dummy file\n",
    "file.remove(\"dummy_sales_data.csv\")"
   ]
  },
  {
   "cell_type": "markdown",
   "id": "c53c89e4",
   "metadata": {},
   "source": [
    "## File Cleanup: Good Housekeeping\n",
    "\n",
    "**File cleanup with file.remove():**\n",
    "Since we created a temporary demo file for this lesson, we'll clean it up at the end. This is good practice:\n",
    "- Keeps your workspace tidy\n",
    "- Prevents confusion between demo files and real data\n",
    "- Shows how to programmatically manage files in R\n",
    "\n",
    "**In real projects:** You usually won't delete your data files - they're valuable! But removing temporary or intermediate files helps keep projects organized.\n",
    "\n",
    "**The `file.remove()` function:**\n",
    "- Deletes files from your computer\n",
    "- Returns `TRUE` if successful, `FALSE` if the file doesn't exist\n",
    "- Use with caution - deleted files can't be easily recovered!"
   ]
  },
  {
   "cell_type": "markdown",
   "id": "9fdbb983",
   "metadata": {},
   "source": [
    "## Lesson 1 Summary: What You've Learned\n",
    "\n",
    "Congratulations! You've completed your first R lesson. Here's what you now know:\n",
    "\n",
    "### 📝 **Basic R Concepts**\n",
    "- How to create variables using `<-` and `=`\n",
    "- Basic arithmetic operations (`+`, `-`, `*`, `/`)\n",
    "- How to display results with `print()` and `paste()`\n",
    "\n",
    "### 📊 **Data Structures**\n",
    "- **Vectors**: Collections of the same data type `c(1, 2, 3)`\n",
    "- **Factors**: For categorical data `factor(c(\"red\", \"green\", \"blue\"))`\n",
    "- **Lists**: Can hold mixed data types with names\n",
    "- **Data Frames**: The foundation of data analysis (like spreadsheets)\n",
    "\n",
    "### 📦 **Working with Packages**\n",
    "- How to load packages with `library()`\n",
    "- Introduction to `tidyverse` (data science toolkit)\n",
    "- Using `readxl` for Excel files\n",
    "\n",
    "### 📁 **File Management**\n",
    "- Understanding working directories with `getwd()`\n",
    "- Reading CSV files with `read_csv()`\n",
    "- Basic file operations\n",
    "\n",
    "### 🔍 **Data Inspection**\n",
    "- `head()`: Preview first few rows\n",
    "- `str()`: Understand data structure and types\n",
    "- `summary()`: Get statistical summaries\n",
    "- `View()`: Interactive data exploration (RStudio)\n",
    "\n",
    "### 🎯 **Next Steps**\n",
    "Now you're ready to:\n",
    "- Work with real datasets\n",
    "- Learn data manipulation and visualization\n",
    "- Perform statistical analyses\n",
    "- Build on these foundational concepts\n",
    "\n",
    "**Practice tip:** Try these functions with different datasets to reinforce your learning!"
   ]
  }
 ],
 "metadata": {
  "kernelspec": {
   "display_name": "R",
   "language": "R",
   "name": "ir"
  },
  "language_info": {
   "codemirror_mode": "r",
   "file_extension": ".r",
   "mimetype": "text/x-r-source",
   "name": "R",
   "pygments_lexer": "r",
   "version": "4.4.3"
  }
 },
 "nbformat": 4,
 "nbformat_minor": 5
}
