{
 "cells": [
  {
   "cell_type": "markdown",
   "id": "3d8bca02",
   "metadata": {},
   "source": [
    "# Homework Assignment - Lesson 3: Data Transformation with dplyr - Part 1\n",
    "\n",
    "**Student Name:** SOLUTION KEY\n",
    "\n",
    "**Due Date:** [Insert Due Date Here]\n",
    "\n",
    "**Objective:** Learn to use dplyr functions (`select()`, `filter()`, `arrange()`) and the pipe operator (`%>%`) for data transformation and analysis.\n",
    "\n",
    "---\n",
    "\n",
    "## Instructions\n",
    "\n",
    "- Complete all tasks in this notebook\n",
    "- Use the pipe operator (`%>%`) wherever possible to chain operations\n",
    "- Ensure your code is well-commented and easy to understand\n",
    "- Run all cells to verify your code works correctly\n",
    "- Answer all reflection questions at the end\n",
    "\n",
    "---"
   ]
  },
  {
   "cell_type": "markdown",
   "id": "2baa2287",
   "metadata": {},
   "source": [
    "## Part 1: Data Import and Setup\n",
    "\n",
    "In this section, you'll import the retail transactions dataset and perform initial exploration.\n",
    "\n",
    "**Dataset:** `retail_transactions.csv` - This dataset contains transaction records from a retail business with information about customers, products, dates, amounts, and quantities."
   ]
  },
  {
   "cell_type": "code",
   "execution_count": 4,
   "id": "764c19b0",
   "metadata": {
    "vscode": {
     "languageId": "r"
    }
   },
   "outputs": [
    {
     "name": "stderr",
     "output_type": "stream",
     "text": [
      "\u001b[1mRows: \u001b[22m\u001b[34m500\u001b[39m \u001b[1mColumns: \u001b[22m\u001b[34m9\u001b[39m\n",
      "\u001b[36m──\u001b[39m \u001b[1mColumn specification\u001b[22m \u001b[36m────────────────────────────────────────────────────────\u001b[39m\n",
      "\u001b[1mDelimiter:\u001b[22m \",\"\n",
      "\u001b[31mchr\u001b[39m  (4): CustomerName, CustomerCity, ProductName, ProductCategory\n",
      "\u001b[32mdbl\u001b[39m  (4): TransactionID, CustomerID, TotalAmount, Quantity\n",
      "\u001b[34mdate\u001b[39m (1): TransactionDate\n",
      "\n",
      "\u001b[36mℹ\u001b[39m Use `spec()` to retrieve the full column specification for this data.\n",
      "\u001b[36mℹ\u001b[39m Specify the column types or set `show_col_types = FALSE` to quiet this message.\n"
     ]
    },
    {
     "name": "stdout",
     "output_type": "stream",
     "text": [
      "Data imported successfully!\n",
      "Dataset dimensions: 500 rows x 9 columns\n"
     ]
    }
   ],
   "source": [
    "# Load required libraries\n",
    "library(tidyverse)\n",
    "\n",
    "# Set working directory to data folder\n",
    "# Note: Adjust path based on where your notebook is located\n",
    "setwd(\"/Users/humphrjk/GitHub/ai-homework-grader-clean/data\")  # If notebook is in project root\n",
    "# OR use relative path in read_csv:\n",
    "# transactions <- read_csv(\"data/retail_transactions.csv\")\n",
    "\n",
    "# Task 1.1: Import the retail_transactions.csv file\n",
    "transactions <- read_csv(\"retail_transactions.csv\")\n",
    "\n",
    "# Display success message\n",
    "cat(\"Data imported successfully!\\n\")\n",
    "cat(\"Dataset dimensions:\", nrow(transactions), \"rows x\", ncol(transactions), \"columns\\n\")"
   ]
  },
  {
   "cell_type": "code",
   "execution_count": 5,
   "id": "dd72af91",
   "metadata": {
    "vscode": {
     "languageId": "r"
    }
   },
   "outputs": [
    {
     "name": "stdout",
     "output_type": "stream",
     "text": [
      "First 10 rows of the dataset:\n"
     ]
    },
    {
     "data": {
      "text/html": [
       "<table class=\"dataframe\">\n",
       "<caption>A tibble: 10 × 9</caption>\n",
       "<thead>\n",
       "\t<tr><th scope=col>TransactionID</th><th scope=col>CustomerID</th><th scope=col>CustomerName</th><th scope=col>CustomerCity</th><th scope=col>ProductName</th><th scope=col>ProductCategory</th><th scope=col>TotalAmount</th><th scope=col>Quantity</th><th scope=col>TransactionDate</th></tr>\n",
       "\t<tr><th scope=col>&lt;dbl&gt;</th><th scope=col>&lt;dbl&gt;</th><th scope=col>&lt;chr&gt;</th><th scope=col>&lt;chr&gt;</th><th scope=col>&lt;chr&gt;</th><th scope=col>&lt;chr&gt;</th><th scope=col>&lt;dbl&gt;</th><th scope=col>&lt;dbl&gt;</th><th scope=col>&lt;date&gt;</th></tr>\n",
       "</thead>\n",
       "<tbody>\n",
       "\t<tr><td> 1</td><td>81</td><td>Customer 39</td><td>Chicago     </td><td>Adidas Jacket  </td><td>Clothing   </td><td> 632.39</td><td>3</td><td>2024-03-09</td></tr>\n",
       "\t<tr><td> 2</td><td>13</td><td>Customer 63</td><td>Philadelphia</td><td>Samsung TV     </td><td>Music      </td><td> 114.28</td><td>3</td><td>2024-12-08</td></tr>\n",
       "\t<tr><td> 3</td><td>18</td><td>Customer 98</td><td>Chicago     </td><td>Adidas Jacket  </td><td>Computers  </td><td>1289.24</td><td>7</td><td>2024-01-22</td></tr>\n",
       "\t<tr><td> 4</td><td>76</td><td>Customer 39</td><td>Houston     </td><td>Dell Laptop    </td><td>Computers  </td><td> 885.40</td><td>2</td><td>2024-07-02</td></tr>\n",
       "\t<tr><td> 5</td><td>86</td><td>Customer 45</td><td>New York    </td><td>Nike Shoes     </td><td>Computers  </td><td>  95.95</td><td>5</td><td>2024-08-13</td></tr>\n",
       "\t<tr><td> 6</td><td>37</td><td>Customer 8 </td><td>Philadelphia</td><td>Adidas Jacket  </td><td>Electronics</td><td>1126.34</td><td>2</td><td>2024-04-15</td></tr>\n",
       "\t<tr><td> 7</td><td>45</td><td>Customer 83</td><td>New York    </td><td>HP Printer     </td><td>Clothing   </td><td>  78.71</td><td>3</td><td>2024-05-02</td></tr>\n",
       "\t<tr><td> 8</td><td>11</td><td>Customer 60</td><td>Chicago     </td><td>Samsung TV     </td><td>Music      </td><td> 871.93</td><td>3</td><td>2024-04-30</td></tr>\n",
       "\t<tr><td> 9</td><td>13</td><td>Customer 69</td><td>Houston     </td><td>iPhone 14      </td><td>Music      </td><td>1347.56</td><td>8</td><td>2024-08-08</td></tr>\n",
       "\t<tr><td>10</td><td>55</td><td>Customer 24</td><td>Chicago     </td><td>Sony Headphones</td><td>Books      </td><td> 633.51</td><td>1</td><td>2024-06-23</td></tr>\n",
       "</tbody>\n",
       "</table>\n"
      ],
      "text/latex": [
       "A tibble: 10 × 9\n",
       "\\begin{tabular}{lllllllll}\n",
       " TransactionID & CustomerID & CustomerName & CustomerCity & ProductName & ProductCategory & TotalAmount & Quantity & TransactionDate\\\\\n",
       " <dbl> & <dbl> & <chr> & <chr> & <chr> & <chr> & <dbl> & <dbl> & <date>\\\\\n",
       "\\hline\n",
       "\t  1 & 81 & Customer 39 & Chicago      & Adidas Jacket   & Clothing    &  632.39 & 3 & 2024-03-09\\\\\n",
       "\t  2 & 13 & Customer 63 & Philadelphia & Samsung TV      & Music       &  114.28 & 3 & 2024-12-08\\\\\n",
       "\t  3 & 18 & Customer 98 & Chicago      & Adidas Jacket   & Computers   & 1289.24 & 7 & 2024-01-22\\\\\n",
       "\t  4 & 76 & Customer 39 & Houston      & Dell Laptop     & Computers   &  885.40 & 2 & 2024-07-02\\\\\n",
       "\t  5 & 86 & Customer 45 & New York     & Nike Shoes      & Computers   &   95.95 & 5 & 2024-08-13\\\\\n",
       "\t  6 & 37 & Customer 8  & Philadelphia & Adidas Jacket   & Electronics & 1126.34 & 2 & 2024-04-15\\\\\n",
       "\t  7 & 45 & Customer 83 & New York     & HP Printer      & Clothing    &   78.71 & 3 & 2024-05-02\\\\\n",
       "\t  8 & 11 & Customer 60 & Chicago      & Samsung TV      & Music       &  871.93 & 3 & 2024-04-30\\\\\n",
       "\t  9 & 13 & Customer 69 & Houston      & iPhone 14       & Music       & 1347.56 & 8 & 2024-08-08\\\\\n",
       "\t 10 & 55 & Customer 24 & Chicago      & Sony Headphones & Books       &  633.51 & 1 & 2024-06-23\\\\\n",
       "\\end{tabular}\n"
      ],
      "text/markdown": [
       "\n",
       "A tibble: 10 × 9\n",
       "\n",
       "| TransactionID &lt;dbl&gt; | CustomerID &lt;dbl&gt; | CustomerName &lt;chr&gt; | CustomerCity &lt;chr&gt; | ProductName &lt;chr&gt; | ProductCategory &lt;chr&gt; | TotalAmount &lt;dbl&gt; | Quantity &lt;dbl&gt; | TransactionDate &lt;date&gt; |\n",
       "|---|---|---|---|---|---|---|---|---|\n",
       "|  1 | 81 | Customer 39 | Chicago      | Adidas Jacket   | Clothing    |  632.39 | 3 | 2024-03-09 |\n",
       "|  2 | 13 | Customer 63 | Philadelphia | Samsung TV      | Music       |  114.28 | 3 | 2024-12-08 |\n",
       "|  3 | 18 | Customer 98 | Chicago      | Adidas Jacket   | Computers   | 1289.24 | 7 | 2024-01-22 |\n",
       "|  4 | 76 | Customer 39 | Houston      | Dell Laptop     | Computers   |  885.40 | 2 | 2024-07-02 |\n",
       "|  5 | 86 | Customer 45 | New York     | Nike Shoes      | Computers   |   95.95 | 5 | 2024-08-13 |\n",
       "|  6 | 37 | Customer 8  | Philadelphia | Adidas Jacket   | Electronics | 1126.34 | 2 | 2024-04-15 |\n",
       "|  7 | 45 | Customer 83 | New York     | HP Printer      | Clothing    |   78.71 | 3 | 2024-05-02 |\n",
       "|  8 | 11 | Customer 60 | Chicago      | Samsung TV      | Music       |  871.93 | 3 | 2024-04-30 |\n",
       "|  9 | 13 | Customer 69 | Houston      | iPhone 14       | Music       | 1347.56 | 8 | 2024-08-08 |\n",
       "| 10 | 55 | Customer 24 | Chicago      | Sony Headphones | Books       |  633.51 | 1 | 2024-06-23 |\n",
       "\n"
      ],
      "text/plain": [
       "   TransactionID CustomerID CustomerName CustomerCity ProductName    \n",
       "1   1            81         Customer 39  Chicago      Adidas Jacket  \n",
       "2   2            13         Customer 63  Philadelphia Samsung TV     \n",
       "3   3            18         Customer 98  Chicago      Adidas Jacket  \n",
       "4   4            76         Customer 39  Houston      Dell Laptop    \n",
       "5   5            86         Customer 45  New York     Nike Shoes     \n",
       "6   6            37         Customer 8   Philadelphia Adidas Jacket  \n",
       "7   7            45         Customer 83  New York     HP Printer     \n",
       "8   8            11         Customer 60  Chicago      Samsung TV     \n",
       "9   9            13         Customer 69  Houston      iPhone 14      \n",
       "10 10            55         Customer 24  Chicago      Sony Headphones\n",
       "   ProductCategory TotalAmount Quantity TransactionDate\n",
       "1  Clothing         632.39     3        2024-03-09     \n",
       "2  Music            114.28     3        2024-12-08     \n",
       "3  Computers       1289.24     7        2024-01-22     \n",
       "4  Computers        885.40     2        2024-07-02     \n",
       "5  Computers         95.95     5        2024-08-13     \n",
       "6  Electronics     1126.34     2        2024-04-15     \n",
       "7  Clothing          78.71     3        2024-05-02     \n",
       "8  Music            871.93     3        2024-04-30     \n",
       "9  Music           1347.56     8        2024-08-08     \n",
       "10 Books            633.51     1        2024-06-23     "
      ]
     },
     "metadata": {},
     "output_type": "display_data"
    },
    {
     "name": "stdout",
     "output_type": "stream",
     "text": [
      "\n",
      "Dataset structure:\n",
      "spc_tbl_ [500 × 9] (S3: spec_tbl_df/tbl_df/tbl/data.frame)\n",
      " $ TransactionID  : num [1:500] 1 2 3 4 5 6 7 8 9 10 ...\n",
      " $ CustomerID     : num [1:500] 81 13 18 76 86 37 45 11 13 55 ...\n",
      " $ CustomerName   : chr [1:500] \"Customer 39\" \"Customer 63\" \"Customer 98\" \"Customer 39\" ...\n",
      " $ CustomerCity   : chr [1:500] \"Chicago\" \"Philadelphia\" \"Chicago\" \"Houston\" ...\n",
      " $ ProductName    : chr [1:500] \"Adidas Jacket\" \"Samsung TV\" \"Adidas Jacket\" \"Dell Laptop\" ...\n",
      " $ ProductCategory: chr [1:500] \"Clothing\" \"Music\" \"Computers\" \"Computers\" ...\n",
      " $ TotalAmount    : num [1:500] 632 114 1289 885 96 ...\n",
      " $ Quantity       : num [1:500] 3 3 7 2 5 2 3 3 8 1 ...\n",
      " $ TransactionDate: Date[1:500], format: \"2024-03-09\" \"2024-12-08\" ...\n",
      " - attr(*, \"spec\")=\n",
      "  .. cols(\n",
      "  ..   TransactionID = \u001b[32mcol_double()\u001b[39m,\n",
      "  ..   CustomerID = \u001b[32mcol_double()\u001b[39m,\n",
      "  ..   CustomerName = \u001b[31mcol_character()\u001b[39m,\n",
      "  ..   CustomerCity = \u001b[31mcol_character()\u001b[39m,\n",
      "  ..   ProductName = \u001b[31mcol_character()\u001b[39m,\n",
      "  ..   ProductCategory = \u001b[31mcol_character()\u001b[39m,\n",
      "  ..   TotalAmount = \u001b[32mcol_double()\u001b[39m,\n",
      "  ..   Quantity = \u001b[32mcol_double()\u001b[39m,\n",
      "  ..   TransactionDate = \u001b[34mcol_date(format = \"\")\u001b[39m\n",
      "  .. )\n",
      " - attr(*, \"problems\")=<externalptr> \n",
      "\n",
      "Column names:\n"
     ]
    },
    {
     "data": {
      "text/html": [
       "<style>\n",
       ".list-inline {list-style: none; margin:0; padding: 0}\n",
       ".list-inline>li {display: inline-block}\n",
       ".list-inline>li:not(:last-child)::after {content: \"\\00b7\"; padding: 0 .5ex}\n",
       "</style>\n",
       "<ol class=list-inline><li>'TransactionID'</li><li>'CustomerID'</li><li>'CustomerName'</li><li>'CustomerCity'</li><li>'ProductName'</li><li>'ProductCategory'</li><li>'TotalAmount'</li><li>'Quantity'</li><li>'TransactionDate'</li></ol>\n"
      ],
      "text/latex": [
       "\\begin{enumerate*}\n",
       "\\item 'TransactionID'\n",
       "\\item 'CustomerID'\n",
       "\\item 'CustomerName'\n",
       "\\item 'CustomerCity'\n",
       "\\item 'ProductName'\n",
       "\\item 'ProductCategory'\n",
       "\\item 'TotalAmount'\n",
       "\\item 'Quantity'\n",
       "\\item 'TransactionDate'\n",
       "\\end{enumerate*}\n"
      ],
      "text/markdown": [
       "1. 'TransactionID'\n",
       "2. 'CustomerID'\n",
       "3. 'CustomerName'\n",
       "4. 'CustomerCity'\n",
       "5. 'ProductName'\n",
       "6. 'ProductCategory'\n",
       "7. 'TotalAmount'\n",
       "8. 'Quantity'\n",
       "9. 'TransactionDate'\n",
       "\n",
       "\n"
      ],
      "text/plain": [
       "[1] \"TransactionID\"   \"CustomerID\"      \"CustomerName\"    \"CustomerCity\"   \n",
       "[5] \"ProductName\"     \"ProductCategory\" \"TotalAmount\"     \"Quantity\"       \n",
       "[9] \"TransactionDate\""
      ]
     },
     "metadata": {},
     "output_type": "display_data"
    }
   ],
   "source": [
    "# Task 1.2: Initial Exploration\n",
    "\n",
    "# Display the first 10 rows\n",
    "cat(\"First 10 rows of the dataset:\\n\")\n",
    "head(transactions, 10)\n",
    "\n",
    "# Check the structure of the dataset\n",
    "cat(\"\\nDataset structure:\\n\")\n",
    "str(transactions)\n",
    "\n",
    "# Display column names and their data types\n",
    "cat(\"\\nColumn names:\\n\")\n",
    "names(transactions)"
   ]
  },
  {
   "cell_type": "markdown",
   "id": "31f0a977",
   "metadata": {},
   "source": [
    "## Part 2: Column Selection with `select()`\n",
    "\n",
    "Practice different methods of selecting columns from your dataset."
   ]
  },
  {
   "cell_type": "code",
   "execution_count": 6,
   "id": "5d4fa53b",
   "metadata": {
    "vscode": {
     "languageId": "r"
    }
   },
   "outputs": [
    {
     "name": "stdout",
     "output_type": "stream",
     "text": [
      "Basic info dataset (first 5 rows):\n"
     ]
    },
    {
     "data": {
      "text/html": [
       "<table class=\"dataframe\">\n",
       "<caption>A tibble: 5 × 4</caption>\n",
       "<thead>\n",
       "\t<tr><th scope=col>TransactionID</th><th scope=col>CustomerID</th><th scope=col>ProductName</th><th scope=col>TotalAmount</th></tr>\n",
       "\t<tr><th scope=col>&lt;dbl&gt;</th><th scope=col>&lt;dbl&gt;</th><th scope=col>&lt;chr&gt;</th><th scope=col>&lt;dbl&gt;</th></tr>\n",
       "</thead>\n",
       "<tbody>\n",
       "\t<tr><td>1</td><td>81</td><td>Adidas Jacket</td><td> 632.39</td></tr>\n",
       "\t<tr><td>2</td><td>13</td><td>Samsung TV   </td><td> 114.28</td></tr>\n",
       "\t<tr><td>3</td><td>18</td><td>Adidas Jacket</td><td>1289.24</td></tr>\n",
       "\t<tr><td>4</td><td>76</td><td>Dell Laptop  </td><td> 885.40</td></tr>\n",
       "\t<tr><td>5</td><td>86</td><td>Nike Shoes   </td><td>  95.95</td></tr>\n",
       "</tbody>\n",
       "</table>\n"
      ],
      "text/latex": [
       "A tibble: 5 × 4\n",
       "\\begin{tabular}{llll}\n",
       " TransactionID & CustomerID & ProductName & TotalAmount\\\\\n",
       " <dbl> & <dbl> & <chr> & <dbl>\\\\\n",
       "\\hline\n",
       "\t 1 & 81 & Adidas Jacket &  632.39\\\\\n",
       "\t 2 & 13 & Samsung TV    &  114.28\\\\\n",
       "\t 3 & 18 & Adidas Jacket & 1289.24\\\\\n",
       "\t 4 & 76 & Dell Laptop   &  885.40\\\\\n",
       "\t 5 & 86 & Nike Shoes    &   95.95\\\\\n",
       "\\end{tabular}\n"
      ],
      "text/markdown": [
       "\n",
       "A tibble: 5 × 4\n",
       "\n",
       "| TransactionID &lt;dbl&gt; | CustomerID &lt;dbl&gt; | ProductName &lt;chr&gt; | TotalAmount &lt;dbl&gt; |\n",
       "|---|---|---|---|\n",
       "| 1 | 81 | Adidas Jacket |  632.39 |\n",
       "| 2 | 13 | Samsung TV    |  114.28 |\n",
       "| 3 | 18 | Adidas Jacket | 1289.24 |\n",
       "| 4 | 76 | Dell Laptop   |  885.40 |\n",
       "| 5 | 86 | Nike Shoes    |   95.95 |\n",
       "\n"
      ],
      "text/plain": [
       "  TransactionID CustomerID ProductName   TotalAmount\n",
       "1 1             81         Adidas Jacket  632.39    \n",
       "2 2             13         Samsung TV     114.28    \n",
       "3 3             18         Adidas Jacket 1289.24    \n",
       "4 4             76         Dell Laptop    885.40    \n",
       "5 5             86         Nike Shoes      95.95    "
      ]
     },
     "metadata": {},
     "output_type": "display_data"
    }
   ],
   "source": [
    "# Task 2.1: Basic Selection\n",
    "basic_info <- transactions %>%\n",
    "  select(TransactionID, CustomerID, ProductName, TotalAmount)\n",
    "\n",
    "# Display the result\n",
    "cat(\"Basic info dataset (first 5 rows):\\n\")\n",
    "head(basic_info, 5)"
   ]
  },
  {
   "cell_type": "code",
   "execution_count": 7,
   "id": "2a0479a9",
   "metadata": {
    "vscode": {
     "languageId": "r"
    }
   },
   "outputs": [
    {
     "name": "stdout",
     "output_type": "stream",
     "text": [
      "Customer details (first 5 rows):\n"
     ]
    },
    {
     "data": {
      "text/html": [
       "<table class=\"dataframe\">\n",
       "<caption>A tibble: 5 × 3</caption>\n",
       "<thead>\n",
       "\t<tr><th scope=col>CustomerID</th><th scope=col>CustomerName</th><th scope=col>CustomerCity</th></tr>\n",
       "\t<tr><th scope=col>&lt;dbl&gt;</th><th scope=col>&lt;chr&gt;</th><th scope=col>&lt;chr&gt;</th></tr>\n",
       "</thead>\n",
       "<tbody>\n",
       "\t<tr><td>81</td><td>Customer 39</td><td>Chicago     </td></tr>\n",
       "\t<tr><td>13</td><td>Customer 63</td><td>Philadelphia</td></tr>\n",
       "\t<tr><td>18</td><td>Customer 98</td><td>Chicago     </td></tr>\n",
       "\t<tr><td>76</td><td>Customer 39</td><td>Houston     </td></tr>\n",
       "\t<tr><td>86</td><td>Customer 45</td><td>New York    </td></tr>\n",
       "</tbody>\n",
       "</table>\n"
      ],
      "text/latex": [
       "A tibble: 5 × 3\n",
       "\\begin{tabular}{lll}\n",
       " CustomerID & CustomerName & CustomerCity\\\\\n",
       " <dbl> & <chr> & <chr>\\\\\n",
       "\\hline\n",
       "\t 81 & Customer 39 & Chicago     \\\\\n",
       "\t 13 & Customer 63 & Philadelphia\\\\\n",
       "\t 18 & Customer 98 & Chicago     \\\\\n",
       "\t 76 & Customer 39 & Houston     \\\\\n",
       "\t 86 & Customer 45 & New York    \\\\\n",
       "\\end{tabular}\n"
      ],
      "text/markdown": [
       "\n",
       "A tibble: 5 × 3\n",
       "\n",
       "| CustomerID &lt;dbl&gt; | CustomerName &lt;chr&gt; | CustomerCity &lt;chr&gt; |\n",
       "|---|---|---|\n",
       "| 81 | Customer 39 | Chicago      |\n",
       "| 13 | Customer 63 | Philadelphia |\n",
       "| 18 | Customer 98 | Chicago      |\n",
       "| 76 | Customer 39 | Houston      |\n",
       "| 86 | Customer 45 | New York     |\n",
       "\n"
      ],
      "text/plain": [
       "  CustomerID CustomerName CustomerCity\n",
       "1 81         Customer 39  Chicago     \n",
       "2 13         Customer 63  Philadelphia\n",
       "3 18         Customer 98  Chicago     \n",
       "4 76         Customer 39  Houston     \n",
       "5 86         Customer 45  New York    "
      ]
     },
     "metadata": {},
     "output_type": "display_data"
    }
   ],
   "source": [
    "# Task 2.2: Range Selection\n",
    "customer_details <- transactions %>%\n",
    "  select(CustomerID:CustomerCity)\n",
    "\n",
    "# Display the result\n",
    "cat(\"Customer details (first 5 rows):\\n\")\n",
    "head(customer_details, 5)"
   ]
  },
  {
   "cell_type": "code",
   "execution_count": 8,
   "id": "a527a514",
   "metadata": {
    "vscode": {
     "languageId": "r"
    }
   },
   "outputs": [
    {
     "name": "stdout",
     "output_type": "stream",
     "text": [
      "Date/Time columns:  \n",
      "Amount columns: TotalAmount \n"
     ]
    }
   ],
   "source": [
    "# Task 2.3: Pattern-Based Selection\n",
    "\n",
    "# Create 'date_columns' with columns starting with \"Date\" or \"Time\"\n",
    "date_columns <- transactions %>%\n",
    "  select(starts_with(\"Date\") | starts_with(\"Time\"))\n",
    "\n",
    "# Create 'amount_columns' with columns containing the word \"Amount\"\n",
    "amount_columns <- transactions %>%\n",
    "  select(contains(\"Amount\"))\n",
    "\n",
    "# Display column names for verification\n",
    "cat(\"Date/Time columns:\", names(date_columns), \"\\n\")\n",
    "cat(\"Amount columns:\", names(amount_columns), \"\\n\")"
   ]
  },
  {
   "cell_type": "code",
   "execution_count": 9,
   "id": "3d2ea46d",
   "metadata": {
    "vscode": {
     "languageId": "r"
    }
   },
   "outputs": [
    {
     "name": "stdout",
     "output_type": "stream",
     "text": [
      "Columns after removing IDs: CustomerName CustomerCity ProductName ProductCategory TotalAmount Quantity TransactionDate \n",
      "Number of columns: 7 \n"
     ]
    }
   ],
   "source": [
    "# Task 2.4: Exclusion Selection\n",
    "no_ids <- transactions %>%\n",
    "  select(-TransactionID, -CustomerID)\n",
    "\n",
    "# Display column names for verification\n",
    "cat(\"Columns after removing IDs:\", names(no_ids), \"\\n\")\n",
    "cat(\"Number of columns:\", ncol(no_ids), \"\\n\")"
   ]
  },
  {
   "cell_type": "markdown",
   "id": "a7c6a58e",
   "metadata": {},
   "source": [
    "## Part 3: Row Filtering with `filter()`\n",
    "\n",
    "Learn to filter rows based on various conditions."
   ]
  },
  {
   "cell_type": "code",
   "execution_count": 10,
   "id": "a7f8a827",
   "metadata": {
    "vscode": {
     "languageId": "r"
    }
   },
   "outputs": [
    {
     "name": "stdout",
     "output_type": "stream",
     "text": [
      "High value transactions (>$100): 470 rows\n",
      "Electronics transactions: 93 rows\n"
     ]
    }
   ],
   "source": [
    "# Task 3.1: Single Condition Filtering\n",
    "\n",
    "# Filter transactions with TotalAmount > $100\n",
    "high_value_transactions <- transactions %>%\n",
    "  filter(TotalAmount > 100)\n",
    "\n",
    "# Filter transactions from \"Electronics\" category\n",
    "electronics_transactions <- transactions %>%\n",
    "  filter(ProductCategory == \"Electronics\")\n",
    "\n",
    "# Display results\n",
    "cat(\"High value transactions (>$100):\", nrow(high_value_transactions), \"rows\\n\")\n",
    "cat(\"Electronics transactions:\", nrow(electronics_transactions), \"rows\\n\")"
   ]
  },
  {
   "cell_type": "code",
   "execution_count": 11,
   "id": "db2b0bd5",
   "metadata": {
    "vscode": {
     "languageId": "r"
    }
   },
   "outputs": [
    {
     "name": "stdout",
     "output_type": "stream",
     "text": [
      "NY bulk purchases: 75 rows\n"
     ]
    },
    {
     "data": {
      "text/html": [
       "<table class=\"dataframe\">\n",
       "<caption>A tibble: 6 × 9</caption>\n",
       "<thead>\n",
       "\t<tr><th scope=col>TransactionID</th><th scope=col>CustomerID</th><th scope=col>CustomerName</th><th scope=col>CustomerCity</th><th scope=col>ProductName</th><th scope=col>ProductCategory</th><th scope=col>TotalAmount</th><th scope=col>Quantity</th><th scope=col>TransactionDate</th></tr>\n",
       "\t<tr><th scope=col>&lt;dbl&gt;</th><th scope=col>&lt;dbl&gt;</th><th scope=col>&lt;chr&gt;</th><th scope=col>&lt;chr&gt;</th><th scope=col>&lt;chr&gt;</th><th scope=col>&lt;chr&gt;</th><th scope=col>&lt;dbl&gt;</th><th scope=col>&lt;dbl&gt;</th><th scope=col>&lt;date&gt;</th></tr>\n",
       "</thead>\n",
       "<tbody>\n",
       "\t<tr><td> 5</td><td>86</td><td>Customer 45</td><td>New York</td><td>Nike Shoes</td><td>Computers</td><td>  95.95</td><td>5</td><td>2024-08-13</td></tr>\n",
       "\t<tr><td> 7</td><td>45</td><td>Customer 83</td><td>New York</td><td>HP Printer</td><td>Clothing </td><td>  78.71</td><td>3</td><td>2024-05-02</td></tr>\n",
       "\t<tr><td>15</td><td> 1</td><td>Customer 52</td><td>New York</td><td>Nike Shoes</td><td>Clothing </td><td> 602.79</td><td>5</td><td>2024-01-05</td></tr>\n",
       "\t<tr><td>22</td><td>80</td><td>Customer 4 </td><td>New York</td><td>iPhone 14 </td><td>Books    </td><td>1424.99</td><td>7</td><td>2024-02-01</td></tr>\n",
       "\t<tr><td>25</td><td>97</td><td>Customer 17</td><td>New York</td><td>iPhone 14 </td><td>Movies   </td><td> 999.24</td><td>2</td><td>2024-02-03</td></tr>\n",
       "\t<tr><td>29</td><td> 3</td><td>Customer 23</td><td>New York</td><td>Samsung TV</td><td>Clothing </td><td>1392.13</td><td>5</td><td>2024-04-30</td></tr>\n",
       "</tbody>\n",
       "</table>\n"
      ],
      "text/latex": [
       "A tibble: 6 × 9\n",
       "\\begin{tabular}{lllllllll}\n",
       " TransactionID & CustomerID & CustomerName & CustomerCity & ProductName & ProductCategory & TotalAmount & Quantity & TransactionDate\\\\\n",
       " <dbl> & <dbl> & <chr> & <chr> & <chr> & <chr> & <dbl> & <dbl> & <date>\\\\\n",
       "\\hline\n",
       "\t  5 & 86 & Customer 45 & New York & Nike Shoes & Computers &   95.95 & 5 & 2024-08-13\\\\\n",
       "\t  7 & 45 & Customer 83 & New York & HP Printer & Clothing  &   78.71 & 3 & 2024-05-02\\\\\n",
       "\t 15 &  1 & Customer 52 & New York & Nike Shoes & Clothing  &  602.79 & 5 & 2024-01-05\\\\\n",
       "\t 22 & 80 & Customer 4  & New York & iPhone 14  & Books     & 1424.99 & 7 & 2024-02-01\\\\\n",
       "\t 25 & 97 & Customer 17 & New York & iPhone 14  & Movies    &  999.24 & 2 & 2024-02-03\\\\\n",
       "\t 29 &  3 & Customer 23 & New York & Samsung TV & Clothing  & 1392.13 & 5 & 2024-04-30\\\\\n",
       "\\end{tabular}\n"
      ],
      "text/markdown": [
       "\n",
       "A tibble: 6 × 9\n",
       "\n",
       "| TransactionID &lt;dbl&gt; | CustomerID &lt;dbl&gt; | CustomerName &lt;chr&gt; | CustomerCity &lt;chr&gt; | ProductName &lt;chr&gt; | ProductCategory &lt;chr&gt; | TotalAmount &lt;dbl&gt; | Quantity &lt;dbl&gt; | TransactionDate &lt;date&gt; |\n",
       "|---|---|---|---|---|---|---|---|---|\n",
       "|  5 | 86 | Customer 45 | New York | Nike Shoes | Computers |   95.95 | 5 | 2024-08-13 |\n",
       "|  7 | 45 | Customer 83 | New York | HP Printer | Clothing  |   78.71 | 3 | 2024-05-02 |\n",
       "| 15 |  1 | Customer 52 | New York | Nike Shoes | Clothing  |  602.79 | 5 | 2024-01-05 |\n",
       "| 22 | 80 | Customer 4  | New York | iPhone 14  | Books     | 1424.99 | 7 | 2024-02-01 |\n",
       "| 25 | 97 | Customer 17 | New York | iPhone 14  | Movies    |  999.24 | 2 | 2024-02-03 |\n",
       "| 29 |  3 | Customer 23 | New York | Samsung TV | Clothing  | 1392.13 | 5 | 2024-04-30 |\n",
       "\n"
      ],
      "text/plain": [
       "  TransactionID CustomerID CustomerName CustomerCity ProductName\n",
       "1  5            86         Customer 45  New York     Nike Shoes \n",
       "2  7            45         Customer 83  New York     HP Printer \n",
       "3 15             1         Customer 52  New York     Nike Shoes \n",
       "4 22            80         Customer 4   New York     iPhone 14  \n",
       "5 25            97         Customer 17  New York     iPhone 14  \n",
       "6 29             3         Customer 23  New York     Samsung TV \n",
       "  ProductCategory TotalAmount Quantity TransactionDate\n",
       "1 Computers         95.95     5        2024-08-13     \n",
       "2 Clothing          78.71     3        2024-05-02     \n",
       "3 Clothing         602.79     5        2024-01-05     \n",
       "4 Books           1424.99     7        2024-02-01     \n",
       "5 Movies           999.24     2        2024-02-03     \n",
       "6 Clothing        1392.13     5        2024-04-30     "
      ]
     },
     "metadata": {},
     "output_type": "display_data"
    }
   ],
   "source": [
    "# Task 3.2: Multiple Condition Filtering (AND)\n",
    "ny_bulk_purchases <- transactions %>%\n",
    "  filter(TotalAmount > 50 & Quantity > 1 & CustomerCity == \"New York\")\n",
    "\n",
    "# Display results\n",
    "cat(\"NY bulk purchases:\", nrow(ny_bulk_purchases), \"rows\\n\")\n",
    "if(nrow(ny_bulk_purchases) > 0) {\n",
    "  head(ny_bulk_purchases)\n",
    "}"
   ]
  },
  {
   "cell_type": "code",
   "execution_count": 12,
   "id": "4803780d",
   "metadata": {
    "vscode": {
     "languageId": "r"
    }
   },
   "outputs": [
    {
     "name": "stdout",
     "output_type": "stream",
     "text": [
      "Entertainment transactions: 227 rows\n"
     ]
    },
    {
     "data": {
      "text/html": [
       "<table class=\"dataframe\">\n",
       "<caption>A tibble: 6 × 9</caption>\n",
       "<thead>\n",
       "\t<tr><th scope=col>TransactionID</th><th scope=col>CustomerID</th><th scope=col>CustomerName</th><th scope=col>CustomerCity</th><th scope=col>ProductName</th><th scope=col>ProductCategory</th><th scope=col>TotalAmount</th><th scope=col>Quantity</th><th scope=col>TransactionDate</th></tr>\n",
       "\t<tr><th scope=col>&lt;dbl&gt;</th><th scope=col>&lt;dbl&gt;</th><th scope=col>&lt;chr&gt;</th><th scope=col>&lt;chr&gt;</th><th scope=col>&lt;chr&gt;</th><th scope=col>&lt;chr&gt;</th><th scope=col>&lt;dbl&gt;</th><th scope=col>&lt;dbl&gt;</th><th scope=col>&lt;date&gt;</th></tr>\n",
       "</thead>\n",
       "<tbody>\n",
       "\t<tr><td> 2</td><td> 13</td><td>Customer 63 </td><td>Philadelphia</td><td>Samsung TV     </td><td>Music </td><td> 114.28</td><td>3</td><td>2024-12-08</td></tr>\n",
       "\t<tr><td> 8</td><td> 11</td><td>Customer 60 </td><td>Chicago     </td><td>Samsung TV     </td><td>Music </td><td> 871.93</td><td>3</td><td>2024-04-30</td></tr>\n",
       "\t<tr><td> 9</td><td> 13</td><td>Customer 69 </td><td>Houston     </td><td>iPhone 14      </td><td>Music </td><td>1347.56</td><td>8</td><td>2024-08-08</td></tr>\n",
       "\t<tr><td>10</td><td> 55</td><td>Customer 24 </td><td>Chicago     </td><td>Sony Headphones</td><td>Books </td><td> 633.51</td><td>1</td><td>2024-06-23</td></tr>\n",
       "\t<tr><td>11</td><td>100</td><td>Customer 95 </td><td>Philadelphia</td><td>HP Printer     </td><td>Movies</td><td> 572.43</td><td>6</td><td>2024-12-09</td></tr>\n",
       "\t<tr><td>14</td><td> 19</td><td>Customer 100</td><td>Phoenix     </td><td>Nike Shoes     </td><td>Books </td><td>  32.29</td><td>3</td><td>2024-12-11</td></tr>\n",
       "</tbody>\n",
       "</table>\n"
      ],
      "text/latex": [
       "A tibble: 6 × 9\n",
       "\\begin{tabular}{lllllllll}\n",
       " TransactionID & CustomerID & CustomerName & CustomerCity & ProductName & ProductCategory & TotalAmount & Quantity & TransactionDate\\\\\n",
       " <dbl> & <dbl> & <chr> & <chr> & <chr> & <chr> & <dbl> & <dbl> & <date>\\\\\n",
       "\\hline\n",
       "\t  2 &  13 & Customer 63  & Philadelphia & Samsung TV      & Music  &  114.28 & 3 & 2024-12-08\\\\\n",
       "\t  8 &  11 & Customer 60  & Chicago      & Samsung TV      & Music  &  871.93 & 3 & 2024-04-30\\\\\n",
       "\t  9 &  13 & Customer 69  & Houston      & iPhone 14       & Music  & 1347.56 & 8 & 2024-08-08\\\\\n",
       "\t 10 &  55 & Customer 24  & Chicago      & Sony Headphones & Books  &  633.51 & 1 & 2024-06-23\\\\\n",
       "\t 11 & 100 & Customer 95  & Philadelphia & HP Printer      & Movies &  572.43 & 6 & 2024-12-09\\\\\n",
       "\t 14 &  19 & Customer 100 & Phoenix      & Nike Shoes      & Books  &   32.29 & 3 & 2024-12-11\\\\\n",
       "\\end{tabular}\n"
      ],
      "text/markdown": [
       "\n",
       "A tibble: 6 × 9\n",
       "\n",
       "| TransactionID &lt;dbl&gt; | CustomerID &lt;dbl&gt; | CustomerName &lt;chr&gt; | CustomerCity &lt;chr&gt; | ProductName &lt;chr&gt; | ProductCategory &lt;chr&gt; | TotalAmount &lt;dbl&gt; | Quantity &lt;dbl&gt; | TransactionDate &lt;date&gt; |\n",
       "|---|---|---|---|---|---|---|---|---|\n",
       "|  2 |  13 | Customer 63  | Philadelphia | Samsung TV      | Music  |  114.28 | 3 | 2024-12-08 |\n",
       "|  8 |  11 | Customer 60  | Chicago      | Samsung TV      | Music  |  871.93 | 3 | 2024-04-30 |\n",
       "|  9 |  13 | Customer 69  | Houston      | iPhone 14       | Music  | 1347.56 | 8 | 2024-08-08 |\n",
       "| 10 |  55 | Customer 24  | Chicago      | Sony Headphones | Books  |  633.51 | 1 | 2024-06-23 |\n",
       "| 11 | 100 | Customer 95  | Philadelphia | HP Printer      | Movies |  572.43 | 6 | 2024-12-09 |\n",
       "| 14 |  19 | Customer 100 | Phoenix      | Nike Shoes      | Books  |   32.29 | 3 | 2024-12-11 |\n",
       "\n"
      ],
      "text/plain": [
       "  TransactionID CustomerID CustomerName CustomerCity ProductName    \n",
       "1  2             13        Customer 63  Philadelphia Samsung TV     \n",
       "2  8             11        Customer 60  Chicago      Samsung TV     \n",
       "3  9             13        Customer 69  Houston      iPhone 14      \n",
       "4 10             55        Customer 24  Chicago      Sony Headphones\n",
       "5 11            100        Customer 95  Philadelphia HP Printer     \n",
       "6 14             19        Customer 100 Phoenix      Nike Shoes     \n",
       "  ProductCategory TotalAmount Quantity TransactionDate\n",
       "1 Music            114.28     3        2024-12-08     \n",
       "2 Music            871.93     3        2024-04-30     \n",
       "3 Music           1347.56     8        2024-08-08     \n",
       "4 Books            633.51     1        2024-06-23     \n",
       "5 Movies           572.43     6        2024-12-09     \n",
       "6 Books             32.29     3        2024-12-11     "
      ]
     },
     "metadata": {},
     "output_type": "display_data"
    }
   ],
   "source": [
    "# Task 3.3: Multiple Condition Filtering (OR)\n",
    "entertainment_transactions <- transactions %>%\n",
    "  filter(ProductCategory %in% c(\"Books\", \"Music\", \"Movies\"))\n",
    "\n",
    "# Display results\n",
    "cat(\"Entertainment transactions:\", nrow(entertainment_transactions), \"rows\\n\")\n",
    "if(nrow(entertainment_transactions) > 0) {\n",
    "  head(entertainment_transactions)\n",
    "}"
   ]
  },
  {
   "cell_type": "code",
   "execution_count": 13,
   "id": "301437cf",
   "metadata": {
    "vscode": {
     "languageId": "r"
    }
   },
   "outputs": [
    {
     "name": "stdout",
     "output_type": "stream",
     "text": [
      "March 2024 transactions: 41 rows\n"
     ]
    }
   ],
   "source": [
    "# Task 3.4: Date-Based Filtering\n",
    "# Filter transactions from March 2024\n",
    "march_transactions <- transactions %>%\n",
    "  filter(month(TransactionDate) == 3 & year(TransactionDate) == 2024)\n",
    "\n",
    "# Display results\n",
    "cat(\"March 2024 transactions:\", nrow(march_transactions), \"rows\\n\")"
   ]
  },
  {
   "cell_type": "code",
   "execution_count": 14,
   "id": "33b63b1c",
   "metadata": {
    "vscode": {
     "languageId": "r"
    }
   },
   "outputs": [
    {
     "name": "stdout",
     "output_type": "stream",
     "text": [
      "Customers who bought both Electronics and Clothing: 38 customers\n"
     ]
    }
   ],
   "source": [
    "# Task 3.5: Advanced Filtering Challenge\n",
    "\n",
    "# Step 1: Find customers who bought Electronics\n",
    "electronics_customers <- transactions %>%\n",
    "  filter(ProductCategory == \"Electronics\") %>%\n",
    "  pull(CustomerID) %>%\n",
    "  unique()\n",
    "\n",
    "# Step 2: Find customers who bought Clothing\n",
    "clothing_customers <- transactions %>%\n",
    "  filter(ProductCategory == \"Clothing\") %>%\n",
    "  pull(CustomerID) %>%\n",
    "  unique()\n",
    "\n",
    "# Step 3: Find customers who bought both\n",
    "both_categories_customers <- intersect(electronics_customers, clothing_customers)\n",
    "\n",
    "# Display results\n",
    "cat(\"Customers who bought both Electronics and Clothing:\", length(both_categories_customers), \"customers\\n\")"
   ]
  },
  {
   "cell_type": "markdown",
   "id": "811d4adb",
   "metadata": {},
   "source": [
    "## Part 4: Data Sorting with `arrange()`\n",
    "\n",
    "Practice sorting data by single and multiple columns."
   ]
  },
  {
   "cell_type": "code",
   "execution_count": 15,
   "id": "92a25956",
   "metadata": {
    "vscode": {
     "languageId": "r"
    }
   },
   "outputs": [
    {
     "name": "stdout",
     "output_type": "stream",
     "text": [
      "Lowest amounts:\n"
     ]
    },
    {
     "data": {
      "text/html": [
       "<table class=\"dataframe\">\n",
       "<caption>A tibble: 5 × 3</caption>\n",
       "<thead>\n",
       "\t<tr><th scope=col>CustomerName</th><th scope=col>ProductName</th><th scope=col>TotalAmount</th></tr>\n",
       "\t<tr><th scope=col>&lt;chr&gt;</th><th scope=col>&lt;chr&gt;</th><th scope=col>&lt;dbl&gt;</th></tr>\n",
       "</thead>\n",
       "<tbody>\n",
       "\t<tr><td>Customer 95 </td><td>Adidas Jacket</td><td>27.66</td></tr>\n",
       "\t<tr><td>Customer 100</td><td>Nike Shoes   </td><td>32.29</td></tr>\n",
       "\t<tr><td>Customer 50 </td><td>Adidas Jacket</td><td>35.01</td></tr>\n",
       "\t<tr><td>Customer 83 </td><td>Samsung TV   </td><td>36.37</td></tr>\n",
       "\t<tr><td>Customer 69 </td><td>Dell Laptop  </td><td>37.33</td></tr>\n",
       "</tbody>\n",
       "</table>\n"
      ],
      "text/latex": [
       "A tibble: 5 × 3\n",
       "\\begin{tabular}{lll}\n",
       " CustomerName & ProductName & TotalAmount\\\\\n",
       " <chr> & <chr> & <dbl>\\\\\n",
       "\\hline\n",
       "\t Customer 95  & Adidas Jacket & 27.66\\\\\n",
       "\t Customer 100 & Nike Shoes    & 32.29\\\\\n",
       "\t Customer 50  & Adidas Jacket & 35.01\\\\\n",
       "\t Customer 83  & Samsung TV    & 36.37\\\\\n",
       "\t Customer 69  & Dell Laptop   & 37.33\\\\\n",
       "\\end{tabular}\n"
      ],
      "text/markdown": [
       "\n",
       "A tibble: 5 × 3\n",
       "\n",
       "| CustomerName &lt;chr&gt; | ProductName &lt;chr&gt; | TotalAmount &lt;dbl&gt; |\n",
       "|---|---|---|\n",
       "| Customer 95  | Adidas Jacket | 27.66 |\n",
       "| Customer 100 | Nike Shoes    | 32.29 |\n",
       "| Customer 50  | Adidas Jacket | 35.01 |\n",
       "| Customer 83  | Samsung TV    | 36.37 |\n",
       "| Customer 69  | Dell Laptop   | 37.33 |\n",
       "\n"
      ],
      "text/plain": [
       "  CustomerName ProductName   TotalAmount\n",
       "1 Customer 95  Adidas Jacket 27.66      \n",
       "2 Customer 100 Nike Shoes    32.29      \n",
       "3 Customer 50  Adidas Jacket 35.01      \n",
       "4 Customer 83  Samsung TV    36.37      \n",
       "5 Customer 69  Dell Laptop   37.33      "
      ]
     },
     "metadata": {},
     "output_type": "display_data"
    },
    {
     "name": "stdout",
     "output_type": "stream",
     "text": [
      "\n",
      "Highest amounts:\n"
     ]
    },
    {
     "data": {
      "text/html": [
       "<table class=\"dataframe\">\n",
       "<caption>A tibble: 5 × 3</caption>\n",
       "<thead>\n",
       "\t<tr><th scope=col>CustomerName</th><th scope=col>ProductName</th><th scope=col>TotalAmount</th></tr>\n",
       "\t<tr><th scope=col>&lt;chr&gt;</th><th scope=col>&lt;chr&gt;</th><th scope=col>&lt;dbl&gt;</th></tr>\n",
       "</thead>\n",
       "<tbody>\n",
       "\t<tr><td>Customer 60</td><td>Sony Headphones</td><td>1499.52</td></tr>\n",
       "\t<tr><td>Customer 28</td><td>Dell Laptop    </td><td>1491.96</td></tr>\n",
       "\t<tr><td>Customer 81</td><td>Sony Headphones</td><td>1491.62</td></tr>\n",
       "\t<tr><td>Customer 79</td><td>iPhone 14      </td><td>1488.95</td></tr>\n",
       "\t<tr><td>Customer 20</td><td>HP Printer     </td><td>1487.44</td></tr>\n",
       "</tbody>\n",
       "</table>\n"
      ],
      "text/latex": [
       "A tibble: 5 × 3\n",
       "\\begin{tabular}{lll}\n",
       " CustomerName & ProductName & TotalAmount\\\\\n",
       " <chr> & <chr> & <dbl>\\\\\n",
       "\\hline\n",
       "\t Customer 60 & Sony Headphones & 1499.52\\\\\n",
       "\t Customer 28 & Dell Laptop     & 1491.96\\\\\n",
       "\t Customer 81 & Sony Headphones & 1491.62\\\\\n",
       "\t Customer 79 & iPhone 14       & 1488.95\\\\\n",
       "\t Customer 20 & HP Printer      & 1487.44\\\\\n",
       "\\end{tabular}\n"
      ],
      "text/markdown": [
       "\n",
       "A tibble: 5 × 3\n",
       "\n",
       "| CustomerName &lt;chr&gt; | ProductName &lt;chr&gt; | TotalAmount &lt;dbl&gt; |\n",
       "|---|---|---|\n",
       "| Customer 60 | Sony Headphones | 1499.52 |\n",
       "| Customer 28 | Dell Laptop     | 1491.96 |\n",
       "| Customer 81 | Sony Headphones | 1491.62 |\n",
       "| Customer 79 | iPhone 14       | 1488.95 |\n",
       "| Customer 20 | HP Printer      | 1487.44 |\n",
       "\n"
      ],
      "text/plain": [
       "  CustomerName ProductName     TotalAmount\n",
       "1 Customer 60  Sony Headphones 1499.52    \n",
       "2 Customer 28  Dell Laptop     1491.96    \n",
       "3 Customer 81  Sony Headphones 1491.62    \n",
       "4 Customer 79  iPhone 14       1488.95    \n",
       "5 Customer 20  HP Printer      1487.44    "
      ]
     },
     "metadata": {},
     "output_type": "display_data"
    }
   ],
   "source": [
    "# Task 4.1: Single Column Sorting\n",
    "\n",
    "# Sort by TotalAmount ascending\n",
    "transactions_by_amount_asc <- transactions %>%\n",
    "  arrange(TotalAmount)\n",
    "\n",
    "# Sort by TotalAmount descending\n",
    "transactions_by_amount_desc <- transactions %>%\n",
    "  arrange(desc(TotalAmount))\n",
    "\n",
    "# Display top 5 of each\n",
    "cat(\"Lowest amounts:\\n\")\n",
    "head(transactions_by_amount_asc %>% select(CustomerName, ProductName, TotalAmount), 5)\n",
    "\n",
    "cat(\"\\nHighest amounts:\\n\")\n",
    "head(transactions_by_amount_desc %>% select(CustomerName, ProductName, TotalAmount), 5)"
   ]
  },
  {
   "cell_type": "code",
   "execution_count": 16,
   "id": "1c2809ad",
   "metadata": {
    "vscode": {
     "languageId": "r"
    }
   },
   "outputs": [
    {
     "name": "stdout",
     "output_type": "stream",
     "text": [
      "Transactions sorted by city, then amount:\n"
     ]
    },
    {
     "data": {
      "text/html": [
       "<table class=\"dataframe\">\n",
       "<caption>A tibble: 10 × 4</caption>\n",
       "<thead>\n",
       "\t<tr><th scope=col>CustomerCity</th><th scope=col>CustomerName</th><th scope=col>ProductName</th><th scope=col>TotalAmount</th></tr>\n",
       "\t<tr><th scope=col>&lt;chr&gt;</th><th scope=col>&lt;chr&gt;</th><th scope=col>&lt;chr&gt;</th><th scope=col>&lt;dbl&gt;</th></tr>\n",
       "</thead>\n",
       "<tbody>\n",
       "\t<tr><td>Chicago</td><td>Customer 18</td><td>iPhone 14      </td><td>1487.43</td></tr>\n",
       "\t<tr><td>Chicago</td><td>Customer 20</td><td>HP Printer     </td><td>1476.49</td></tr>\n",
       "\t<tr><td>Chicago</td><td>Customer 97</td><td>Dell Laptop    </td><td>1459.42</td></tr>\n",
       "\t<tr><td>Chicago</td><td>Customer 49</td><td>Dell Laptop    </td><td>1453.94</td></tr>\n",
       "\t<tr><td>Chicago</td><td>Customer 70</td><td>Nike Shoes     </td><td>1428.35</td></tr>\n",
       "\t<tr><td>Chicago</td><td>Customer 71</td><td>Samsung TV     </td><td>1424.38</td></tr>\n",
       "\t<tr><td>Chicago</td><td>Customer 62</td><td>Sony Headphones</td><td>1416.35</td></tr>\n",
       "\t<tr><td>Chicago</td><td>Customer 11</td><td>Nike Shoes     </td><td>1407.51</td></tr>\n",
       "\t<tr><td>Chicago</td><td>Customer 99</td><td>HP Printer     </td><td>1388.73</td></tr>\n",
       "\t<tr><td>Chicago</td><td>Customer 49</td><td>Nike Shoes     </td><td>1370.57</td></tr>\n",
       "</tbody>\n",
       "</table>\n"
      ],
      "text/latex": [
       "A tibble: 10 × 4\n",
       "\\begin{tabular}{llll}\n",
       " CustomerCity & CustomerName & ProductName & TotalAmount\\\\\n",
       " <chr> & <chr> & <chr> & <dbl>\\\\\n",
       "\\hline\n",
       "\t Chicago & Customer 18 & iPhone 14       & 1487.43\\\\\n",
       "\t Chicago & Customer 20 & HP Printer      & 1476.49\\\\\n",
       "\t Chicago & Customer 97 & Dell Laptop     & 1459.42\\\\\n",
       "\t Chicago & Customer 49 & Dell Laptop     & 1453.94\\\\\n",
       "\t Chicago & Customer 70 & Nike Shoes      & 1428.35\\\\\n",
       "\t Chicago & Customer 71 & Samsung TV      & 1424.38\\\\\n",
       "\t Chicago & Customer 62 & Sony Headphones & 1416.35\\\\\n",
       "\t Chicago & Customer 11 & Nike Shoes      & 1407.51\\\\\n",
       "\t Chicago & Customer 99 & HP Printer      & 1388.73\\\\\n",
       "\t Chicago & Customer 49 & Nike Shoes      & 1370.57\\\\\n",
       "\\end{tabular}\n"
      ],
      "text/markdown": [
       "\n",
       "A tibble: 10 × 4\n",
       "\n",
       "| CustomerCity &lt;chr&gt; | CustomerName &lt;chr&gt; | ProductName &lt;chr&gt; | TotalAmount &lt;dbl&gt; |\n",
       "|---|---|---|---|\n",
       "| Chicago | Customer 18 | iPhone 14       | 1487.43 |\n",
       "| Chicago | Customer 20 | HP Printer      | 1476.49 |\n",
       "| Chicago | Customer 97 | Dell Laptop     | 1459.42 |\n",
       "| Chicago | Customer 49 | Dell Laptop     | 1453.94 |\n",
       "| Chicago | Customer 70 | Nike Shoes      | 1428.35 |\n",
       "| Chicago | Customer 71 | Samsung TV      | 1424.38 |\n",
       "| Chicago | Customer 62 | Sony Headphones | 1416.35 |\n",
       "| Chicago | Customer 11 | Nike Shoes      | 1407.51 |\n",
       "| Chicago | Customer 99 | HP Printer      | 1388.73 |\n",
       "| Chicago | Customer 49 | Nike Shoes      | 1370.57 |\n",
       "\n"
      ],
      "text/plain": [
       "   CustomerCity CustomerName ProductName     TotalAmount\n",
       "1  Chicago      Customer 18  iPhone 14       1487.43    \n",
       "2  Chicago      Customer 20  HP Printer      1476.49    \n",
       "3  Chicago      Customer 97  Dell Laptop     1459.42    \n",
       "4  Chicago      Customer 49  Dell Laptop     1453.94    \n",
       "5  Chicago      Customer 70  Nike Shoes      1428.35    \n",
       "6  Chicago      Customer 71  Samsung TV      1424.38    \n",
       "7  Chicago      Customer 62  Sony Headphones 1416.35    \n",
       "8  Chicago      Customer 11  Nike Shoes      1407.51    \n",
       "9  Chicago      Customer 99  HP Printer      1388.73    \n",
       "10 Chicago      Customer 49  Nike Shoes      1370.57    "
      ]
     },
     "metadata": {},
     "output_type": "display_data"
    }
   ],
   "source": [
    "# Task 4.2: Multiple Column Sorting\n",
    "transactions_by_city_amount <- transactions %>%\n",
    "  arrange(CustomerCity, desc(TotalAmount))\n",
    "\n",
    "# Display first 10 rows\n",
    "cat(\"Transactions sorted by city, then amount:\\n\")\n",
    "head(transactions_by_city_amount %>% select(CustomerCity, CustomerName, ProductName, TotalAmount), 10)"
   ]
  },
  {
   "cell_type": "code",
   "execution_count": 17,
   "id": "7fb4ec10",
   "metadata": {
    "vscode": {
     "languageId": "r"
    }
   },
   "outputs": [
    {
     "name": "stdout",
     "output_type": "stream",
     "text": [
      "Earliest transactions:\n"
     ]
    },
    {
     "data": {
      "text/html": [
       "<table class=\"dataframe\">\n",
       "<caption>A tibble: 5 × 4</caption>\n",
       "<thead>\n",
       "\t<tr><th scope=col>TransactionDate</th><th scope=col>CustomerName</th><th scope=col>ProductName</th><th scope=col>TotalAmount</th></tr>\n",
       "\t<tr><th scope=col>&lt;date&gt;</th><th scope=col>&lt;chr&gt;</th><th scope=col>&lt;chr&gt;</th><th scope=col>&lt;dbl&gt;</th></tr>\n",
       "</thead>\n",
       "<tbody>\n",
       "\t<tr><td>2024-01-01</td><td>Customer 62</td><td>Sony Headphones</td><td>1416.35</td></tr>\n",
       "\t<tr><td>2024-01-01</td><td>Customer 99</td><td>Sony Headphones</td><td>1326.27</td></tr>\n",
       "\t<tr><td>2024-01-02</td><td>Customer 83</td><td>Nike Shoes     </td><td> 808.93</td></tr>\n",
       "\t<tr><td>2024-01-02</td><td>Customer 61</td><td>Adidas Jacket  </td><td> 502.72</td></tr>\n",
       "\t<tr><td>2024-01-02</td><td>Customer 69</td><td>Adidas Jacket  </td><td> 277.70</td></tr>\n",
       "</tbody>\n",
       "</table>\n"
      ],
      "text/latex": [
       "A tibble: 5 × 4\n",
       "\\begin{tabular}{llll}\n",
       " TransactionDate & CustomerName & ProductName & TotalAmount\\\\\n",
       " <date> & <chr> & <chr> & <dbl>\\\\\n",
       "\\hline\n",
       "\t 2024-01-01 & Customer 62 & Sony Headphones & 1416.35\\\\\n",
       "\t 2024-01-01 & Customer 99 & Sony Headphones & 1326.27\\\\\n",
       "\t 2024-01-02 & Customer 83 & Nike Shoes      &  808.93\\\\\n",
       "\t 2024-01-02 & Customer 61 & Adidas Jacket   &  502.72\\\\\n",
       "\t 2024-01-02 & Customer 69 & Adidas Jacket   &  277.70\\\\\n",
       "\\end{tabular}\n"
      ],
      "text/markdown": [
       "\n",
       "A tibble: 5 × 4\n",
       "\n",
       "| TransactionDate &lt;date&gt; | CustomerName &lt;chr&gt; | ProductName &lt;chr&gt; | TotalAmount &lt;dbl&gt; |\n",
       "|---|---|---|---|\n",
       "| 2024-01-01 | Customer 62 | Sony Headphones | 1416.35 |\n",
       "| 2024-01-01 | Customer 99 | Sony Headphones | 1326.27 |\n",
       "| 2024-01-02 | Customer 83 | Nike Shoes      |  808.93 |\n",
       "| 2024-01-02 | Customer 61 | Adidas Jacket   |  502.72 |\n",
       "| 2024-01-02 | Customer 69 | Adidas Jacket   |  277.70 |\n",
       "\n"
      ],
      "text/plain": [
       "  TransactionDate CustomerName ProductName     TotalAmount\n",
       "1 2024-01-01      Customer 62  Sony Headphones 1416.35    \n",
       "2 2024-01-01      Customer 99  Sony Headphones 1326.27    \n",
       "3 2024-01-02      Customer 83  Nike Shoes       808.93    \n",
       "4 2024-01-02      Customer 61  Adidas Jacket    502.72    \n",
       "5 2024-01-02      Customer 69  Adidas Jacket    277.70    "
      ]
     },
     "metadata": {},
     "output_type": "display_data"
    }
   ],
   "source": [
    "# Task 4.3: Date-Based Sorting\n",
    "transactions_chronological <- transactions %>%\n",
    "  arrange(TransactionDate)\n",
    "\n",
    "# Display first 5 transactions chronologically\n",
    "cat(\"Earliest transactions:\\n\")\n",
    "head(transactions_chronological %>% select(TransactionDate, CustomerName, ProductName, TotalAmount), 5)"
   ]
  },
  {
   "cell_type": "markdown",
   "id": "718aa3c3",
   "metadata": {},
   "source": [
    "## Part 5: Chaining Operations\n",
    "\n",
    "Combine multiple dplyr operations using the pipe operator."
   ]
  },
  {
   "cell_type": "code",
   "execution_count": 18,
   "id": "41086de0",
   "metadata": {
    "vscode": {
     "languageId": "r"
    }
   },
   "outputs": [
    {
     "name": "stdout",
     "output_type": "stream",
     "text": [
      "Premium purchases (>$75):\n"
     ]
    },
    {
     "data": {
      "text/html": [
       "<table class=\"dataframe\">\n",
       "<caption>A tibble: 10 × 4</caption>\n",
       "<thead>\n",
       "\t<tr><th scope=col>CustomerName</th><th scope=col>ProductName</th><th scope=col>TotalAmount</th><th scope=col>CustomerCity</th></tr>\n",
       "\t<tr><th scope=col>&lt;chr&gt;</th><th scope=col>&lt;chr&gt;</th><th scope=col>&lt;dbl&gt;</th><th scope=col>&lt;chr&gt;</th></tr>\n",
       "</thead>\n",
       "<tbody>\n",
       "\t<tr><td>Customer 60</td><td>Sony Headphones</td><td>1499.52</td><td>New York    </td></tr>\n",
       "\t<tr><td>Customer 28</td><td>Dell Laptop    </td><td>1491.96</td><td>New York    </td></tr>\n",
       "\t<tr><td>Customer 81</td><td>Sony Headphones</td><td>1491.62</td><td>Phoenix     </td></tr>\n",
       "\t<tr><td>Customer 79</td><td>iPhone 14      </td><td>1488.95</td><td>Phoenix     </td></tr>\n",
       "\t<tr><td>Customer 20</td><td>HP Printer     </td><td>1487.44</td><td>Phoenix     </td></tr>\n",
       "\t<tr><td>Customer 18</td><td>iPhone 14      </td><td>1487.43</td><td>Chicago     </td></tr>\n",
       "\t<tr><td>Customer 83</td><td>iPhone 14      </td><td>1484.31</td><td>Philadelphia</td></tr>\n",
       "\t<tr><td>Customer 20</td><td>HP Printer     </td><td>1476.49</td><td>Chicago     </td></tr>\n",
       "\t<tr><td>Customer 10</td><td>Dell Laptop    </td><td>1473.27</td><td>Houston     </td></tr>\n",
       "\t<tr><td>Customer 14</td><td>iPhone 14      </td><td>1471.59</td><td>Phoenix     </td></tr>\n",
       "</tbody>\n",
       "</table>\n"
      ],
      "text/latex": [
       "A tibble: 10 × 4\n",
       "\\begin{tabular}{llll}\n",
       " CustomerName & ProductName & TotalAmount & CustomerCity\\\\\n",
       " <chr> & <chr> & <dbl> & <chr>\\\\\n",
       "\\hline\n",
       "\t Customer 60 & Sony Headphones & 1499.52 & New York    \\\\\n",
       "\t Customer 28 & Dell Laptop     & 1491.96 & New York    \\\\\n",
       "\t Customer 81 & Sony Headphones & 1491.62 & Phoenix     \\\\\n",
       "\t Customer 79 & iPhone 14       & 1488.95 & Phoenix     \\\\\n",
       "\t Customer 20 & HP Printer      & 1487.44 & Phoenix     \\\\\n",
       "\t Customer 18 & iPhone 14       & 1487.43 & Chicago     \\\\\n",
       "\t Customer 83 & iPhone 14       & 1484.31 & Philadelphia\\\\\n",
       "\t Customer 20 & HP Printer      & 1476.49 & Chicago     \\\\\n",
       "\t Customer 10 & Dell Laptop     & 1473.27 & Houston     \\\\\n",
       "\t Customer 14 & iPhone 14       & 1471.59 & Phoenix     \\\\\n",
       "\\end{tabular}\n"
      ],
      "text/markdown": [
       "\n",
       "A tibble: 10 × 4\n",
       "\n",
       "| CustomerName &lt;chr&gt; | ProductName &lt;chr&gt; | TotalAmount &lt;dbl&gt; | CustomerCity &lt;chr&gt; |\n",
       "|---|---|---|---|\n",
       "| Customer 60 | Sony Headphones | 1499.52 | New York     |\n",
       "| Customer 28 | Dell Laptop     | 1491.96 | New York     |\n",
       "| Customer 81 | Sony Headphones | 1491.62 | Phoenix      |\n",
       "| Customer 79 | iPhone 14       | 1488.95 | Phoenix      |\n",
       "| Customer 20 | HP Printer      | 1487.44 | Phoenix      |\n",
       "| Customer 18 | iPhone 14       | 1487.43 | Chicago      |\n",
       "| Customer 83 | iPhone 14       | 1484.31 | Philadelphia |\n",
       "| Customer 20 | HP Printer      | 1476.49 | Chicago      |\n",
       "| Customer 10 | Dell Laptop     | 1473.27 | Houston      |\n",
       "| Customer 14 | iPhone 14       | 1471.59 | Phoenix      |\n",
       "\n"
      ],
      "text/plain": [
       "   CustomerName ProductName     TotalAmount CustomerCity\n",
       "1  Customer 60  Sony Headphones 1499.52     New York    \n",
       "2  Customer 28  Dell Laptop     1491.96     New York    \n",
       "3  Customer 81  Sony Headphones 1491.62     Phoenix     \n",
       "4  Customer 79  iPhone 14       1488.95     Phoenix     \n",
       "5  Customer 20  HP Printer      1487.44     Phoenix     \n",
       "6  Customer 18  iPhone 14       1487.43     Chicago     \n",
       "7  Customer 83  iPhone 14       1484.31     Philadelphia\n",
       "8  Customer 20  HP Printer      1476.49     Chicago     \n",
       "9  Customer 10  Dell Laptop     1473.27     Houston     \n",
       "10 Customer 14  iPhone 14       1471.59     Phoenix     "
      ]
     },
     "metadata": {},
     "output_type": "display_data"
    }
   ],
   "source": [
    "# Task 5.1: Simple Chain\n",
    "premium_purchases <- transactions %>%\n",
    "  filter(TotalAmount > 75) %>%\n",
    "  select(CustomerName, ProductName, TotalAmount, CustomerCity) %>%\n",
    "  arrange(desc(TotalAmount))\n",
    "\n",
    "# Display results\n",
    "cat(\"Premium purchases (>$75):\\n\")\n",
    "head(premium_purchases, 10)"
   ]
  },
  {
   "cell_type": "code",
   "execution_count": 19,
   "id": "823cda0b",
   "metadata": {
    "vscode": {
     "languageId": "r"
    }
   },
   "outputs": [
    {
     "name": "stdout",
     "output_type": "stream",
     "text": [
      "Recent tech purchases (top 20):\n",
      "\u001b[90m# A tibble: 20 × 4\u001b[39m\n",
      "   TransactionDate CustomerName ProductName     TotalAmount\n",
      "   \u001b[3m\u001b[90m<date>\u001b[39m\u001b[23m          \u001b[3m\u001b[90m<chr>\u001b[39m\u001b[23m        \u001b[3m\u001b[90m<chr>\u001b[39m\u001b[23m                 \u001b[3m\u001b[90m<dbl>\u001b[39m\u001b[23m\n",
      "\u001b[90m 1\u001b[39m 2024-12-30      Customer 27  Sony Headphones        540.\n",
      "\u001b[90m 2\u001b[39m 2024-12-30      Customer 33  Sony Headphones        207.\n",
      "\u001b[90m 3\u001b[39m 2024-12-25      Customer 39  Samsung TV             121.\n",
      "\u001b[90m 4\u001b[39m 2024-12-24      Customer 25  Sony Headphones        700.\n",
      "\u001b[90m 5\u001b[39m 2024-12-23      Customer 85  iPhone 14             \u001b[4m1\u001b[24m433.\n",
      "\u001b[90m 6\u001b[39m 2024-12-19      Customer 73  Dell Laptop           \u001b[4m1\u001b[24m221.\n",
      "\u001b[90m 7\u001b[39m 2024-12-13      Customer 17  Dell Laptop            141.\n",
      "\u001b[90m 8\u001b[39m 2024-12-12      Customer 6   Nike Shoes             247.\n",
      "\u001b[90m 9\u001b[39m 2024-12-11      Customer 54  Adidas Jacket         \u001b[4m1\u001b[24m232.\n",
      "\u001b[90m10\u001b[39m 2024-12-10      Customer 19  Nike Shoes             193.\n",
      "\u001b[90m11\u001b[39m 2024-12-07      Customer 12  iPhone 14              315.\n",
      "\u001b[90m12\u001b[39m 2024-12-06      Customer 85  HP Printer             930.\n",
      "\u001b[90m13\u001b[39m 2024-12-04      Customer 39  Dell Laptop            957.\n",
      "\u001b[90m14\u001b[39m 2024-12-04      Customer 12  Samsung TV             940.\n",
      "\u001b[90m15\u001b[39m 2024-12-02      Customer 90  Adidas Jacket         \u001b[4m1\u001b[24m446.\n",
      "\u001b[90m16\u001b[39m 2024-12-02      Customer 54  Sony Headphones        425.\n",
      "\u001b[90m17\u001b[39m 2024-12-02      Customer 24  Samsung TV             116.\n",
      "\u001b[90m18\u001b[39m 2024-11-30      Customer 36  Sony Headphones       \u001b[4m1\u001b[24m470.\n",
      "\u001b[90m19\u001b[39m 2024-11-28      Customer 13  Dell Laptop            937.\n",
      "\u001b[90m20\u001b[39m 2024-11-28      Customer 33  Dell Laptop            799.\n"
     ]
    }
   ],
   "source": [
    "# Task 5.2: Complex Chain\n",
    "recent_tech_purchases <- transactions %>%\n",
    "  filter(ProductCategory %in% c(\"Electronics\", \"Computers\")) %>%\n",
    "  select(TransactionDate, CustomerName, ProductName, TotalAmount) %>%\n",
    "  arrange(desc(TransactionDate), desc(TotalAmount)) %>%\n",
    "  head(20)\n",
    "\n",
    "# Display results\n",
    "cat(\"Recent tech purchases (top 20):\\n\")\n",
    "print(recent_tech_purchases)"
   ]
  },
  {
   "cell_type": "code",
   "execution_count": 20,
   "id": "73d00b01",
   "metadata": {
    "vscode": {
     "languageId": "r"
    }
   },
   "outputs": [
    {
     "name": "stdout",
     "output_type": "stream",
     "text": [
      "High-value customers:\n"
     ]
    },
    {
     "data": {
      "text/html": [
       "<table class=\"dataframe\">\n",
       "<caption>A tibble: 15 × 4</caption>\n",
       "<thead>\n",
       "\t<tr><th scope=col>CustomerName</th><th scope=col>CustomerCity</th><th scope=col>ProductName</th><th scope=col>TotalAmount</th></tr>\n",
       "\t<tr><th scope=col>&lt;chr&gt;</th><th scope=col>&lt;chr&gt;</th><th scope=col>&lt;chr&gt;</th><th scope=col>&lt;dbl&gt;</th></tr>\n",
       "</thead>\n",
       "<tbody>\n",
       "\t<tr><td>Customer 1  </td><td>Houston    </td><td>Adidas Jacket  </td><td>1132.28</td></tr>\n",
       "\t<tr><td>Customer 1  </td><td>Los Angeles</td><td>HP Printer     </td><td>1075.90</td></tr>\n",
       "\t<tr><td>Customer 1  </td><td>New York   </td><td>Sony Headphones</td><td>1004.78</td></tr>\n",
       "\t<tr><td>Customer 1  </td><td>Phoenix    </td><td>Sony Headphones</td><td> 834.08</td></tr>\n",
       "\t<tr><td>Customer 1  </td><td>New York   </td><td>Sony Headphones</td><td> 584.87</td></tr>\n",
       "\t<tr><td>Customer 1  </td><td>Phoenix    </td><td>Samsung TV     </td><td> 347.76</td></tr>\n",
       "\t<tr><td>Customer 1  </td><td>Houston    </td><td>HP Printer     </td><td> 259.44</td></tr>\n",
       "\t<tr><td>Customer 10 </td><td>Houston    </td><td>Dell Laptop    </td><td>1473.27</td></tr>\n",
       "\t<tr><td>Customer 10 </td><td>Houston    </td><td>HP Printer     </td><td> 769.09</td></tr>\n",
       "\t<tr><td>Customer 10 </td><td>Houston    </td><td>Samsung TV     </td><td> 488.05</td></tr>\n",
       "\t<tr><td>Customer 100</td><td>Phoenix    </td><td>Sony Headphones</td><td> 486.77</td></tr>\n",
       "\t<tr><td>Customer 100</td><td>Phoenix    </td><td>Nike Shoes     </td><td> 312.11</td></tr>\n",
       "\t<tr><td>Customer 11 </td><td>New York   </td><td>Dell Laptop    </td><td>1470.30</td></tr>\n",
       "\t<tr><td>Customer 11 </td><td>Chicago    </td><td>Nike Shoes     </td><td>1407.51</td></tr>\n",
       "\t<tr><td>Customer 11 </td><td>Los Angeles</td><td>HP Printer     </td><td>1170.46</td></tr>\n",
       "</tbody>\n",
       "</table>\n"
      ],
      "text/latex": [
       "A tibble: 15 × 4\n",
       "\\begin{tabular}{llll}\n",
       " CustomerName & CustomerCity & ProductName & TotalAmount\\\\\n",
       " <chr> & <chr> & <chr> & <dbl>\\\\\n",
       "\\hline\n",
       "\t Customer 1   & Houston     & Adidas Jacket   & 1132.28\\\\\n",
       "\t Customer 1   & Los Angeles & HP Printer      & 1075.90\\\\\n",
       "\t Customer 1   & New York    & Sony Headphones & 1004.78\\\\\n",
       "\t Customer 1   & Phoenix     & Sony Headphones &  834.08\\\\\n",
       "\t Customer 1   & New York    & Sony Headphones &  584.87\\\\\n",
       "\t Customer 1   & Phoenix     & Samsung TV      &  347.76\\\\\n",
       "\t Customer 1   & Houston     & HP Printer      &  259.44\\\\\n",
       "\t Customer 10  & Houston     & Dell Laptop     & 1473.27\\\\\n",
       "\t Customer 10  & Houston     & HP Printer      &  769.09\\\\\n",
       "\t Customer 10  & Houston     & Samsung TV      &  488.05\\\\\n",
       "\t Customer 100 & Phoenix     & Sony Headphones &  486.77\\\\\n",
       "\t Customer 100 & Phoenix     & Nike Shoes      &  312.11\\\\\n",
       "\t Customer 11  & New York    & Dell Laptop     & 1470.30\\\\\n",
       "\t Customer 11  & Chicago     & Nike Shoes      & 1407.51\\\\\n",
       "\t Customer 11  & Los Angeles & HP Printer      & 1170.46\\\\\n",
       "\\end{tabular}\n"
      ],
      "text/markdown": [
       "\n",
       "A tibble: 15 × 4\n",
       "\n",
       "| CustomerName &lt;chr&gt; | CustomerCity &lt;chr&gt; | ProductName &lt;chr&gt; | TotalAmount &lt;dbl&gt; |\n",
       "|---|---|---|---|\n",
       "| Customer 1   | Houston     | Adidas Jacket   | 1132.28 |\n",
       "| Customer 1   | Los Angeles | HP Printer      | 1075.90 |\n",
       "| Customer 1   | New York    | Sony Headphones | 1004.78 |\n",
       "| Customer 1   | Phoenix     | Sony Headphones |  834.08 |\n",
       "| Customer 1   | New York    | Sony Headphones |  584.87 |\n",
       "| Customer 1   | Phoenix     | Samsung TV      |  347.76 |\n",
       "| Customer 1   | Houston     | HP Printer      |  259.44 |\n",
       "| Customer 10  | Houston     | Dell Laptop     | 1473.27 |\n",
       "| Customer 10  | Houston     | HP Printer      |  769.09 |\n",
       "| Customer 10  | Houston     | Samsung TV      |  488.05 |\n",
       "| Customer 100 | Phoenix     | Sony Headphones |  486.77 |\n",
       "| Customer 100 | Phoenix     | Nike Shoes      |  312.11 |\n",
       "| Customer 11  | New York    | Dell Laptop     | 1470.30 |\n",
       "| Customer 11  | Chicago     | Nike Shoes      | 1407.51 |\n",
       "| Customer 11  | Los Angeles | HP Printer      | 1170.46 |\n",
       "\n"
      ],
      "text/plain": [
       "   CustomerName CustomerCity ProductName     TotalAmount\n",
       "1  Customer 1   Houston      Adidas Jacket   1132.28    \n",
       "2  Customer 1   Los Angeles  HP Printer      1075.90    \n",
       "3  Customer 1   New York     Sony Headphones 1004.78    \n",
       "4  Customer 1   Phoenix      Sony Headphones  834.08    \n",
       "5  Customer 1   New York     Sony Headphones  584.87    \n",
       "6  Customer 1   Phoenix      Samsung TV       347.76    \n",
       "7  Customer 1   Houston      HP Printer       259.44    \n",
       "8  Customer 10  Houston      Dell Laptop     1473.27    \n",
       "9  Customer 10  Houston      HP Printer       769.09    \n",
       "10 Customer 10  Houston      Samsung TV       488.05    \n",
       "11 Customer 100 Phoenix      Sony Headphones  486.77    \n",
       "12 Customer 100 Phoenix      Nike Shoes       312.11    \n",
       "13 Customer 11  New York     Dell Laptop     1470.30    \n",
       "14 Customer 11  Chicago      Nike Shoes      1407.51    \n",
       "15 Customer 11  Los Angeles  HP Printer      1170.46    "
      ]
     },
     "metadata": {},
     "output_type": "display_data"
    }
   ],
   "source": [
    "# Task 5.3: Business Intelligence Chain\n",
    "high_value_customers <- transactions %>%\n",
    "  filter(TotalAmount > 200) %>%\n",
    "  select(CustomerName, CustomerCity, ProductName, TotalAmount) %>%\n",
    "  arrange(CustomerName, desc(TotalAmount))\n",
    "\n",
    "# Display results\n",
    "cat(\"High-value customers:\\n\")\n",
    "head(high_value_customers, 15)"
   ]
  },
  {
   "cell_type": "markdown",
   "id": "50978714",
   "metadata": {},
   "source": [
    "## Part 6: Data Analysis Questions\n",
    "\n",
    "Answer the following questions using the datasets you've created."
   ]
  },
  {
   "cell_type": "code",
   "execution_count": 21,
   "id": "be6e8562",
   "metadata": {
    "vscode": {
     "languageId": "r"
    }
   },
   "outputs": [
    {
     "name": "stdout",
     "output_type": "stream",
     "text": [
      "Transaction counts by dataset:\n",
      "High value transactions: 470 \n",
      "Electronics transactions: 93 \n",
      "NY bulk purchases: 75 \n",
      "Entertainment transactions: 227 \n",
      "March transactions: 41 \n",
      "Premium purchases: 483 \n",
      "Recent tech purchases: 20 \n",
      "High value customers: 434 \n"
     ]
    }
   ],
   "source": [
    "# Question 6.1: Transaction Volume\n",
    "# Count transactions in each filtered dataset\n",
    "\n",
    "cat(\"Transaction counts by dataset:\\n\")\n",
    "cat(\"High value transactions:\", nrow(high_value_transactions), \"\\n\")\n",
    "cat(\"Electronics transactions:\", nrow(electronics_transactions), \"\\n\")\n",
    "cat(\"NY bulk purchases:\", nrow(ny_bulk_purchases), \"\\n\")\n",
    "cat(\"Entertainment transactions:\", nrow(entertainment_transactions), \"\\n\")\n",
    "cat(\"March transactions:\", nrow(march_transactions), \"\\n\")\n",
    "cat(\"Premium purchases:\", nrow(premium_purchases), \"\\n\")\n",
    "cat(\"Recent tech purchases:\", nrow(recent_tech_purchases), \"\\n\")\n",
    "cat(\"High value customers:\", nrow(high_value_customers), \"\\n\")"
   ]
  },
  {
   "cell_type": "code",
   "execution_count": 22,
   "id": "35190921",
   "metadata": {
    "vscode": {
     "languageId": "r"
    }
   },
   "outputs": [
    {
     "ename": "ERROR",
     "evalue": "Error in cat(., \"Most frequent high-value customer:\\n\"): argument 1 (type 'list') cannot be handled by 'cat'\n",
     "output_type": "error",
     "traceback": [
      "Error in cat(., \"Most frequent high-value customer:\\n\"): argument 1 (type 'list') cannot be handled by 'cat'\nTraceback:\n",
      "1. cat(., \"Most frequent high-value customer:\\n\")",
      "2. .handleSimpleError(function (cnd) \n . {\n .     watcher$capture_plot_and_output()\n .     cnd <- sanitize_call(cnd)\n .     watcher$push(cnd)\n .     switch(on_error, continue = invokeRestart(\"eval_continue\"), \n .         stop = invokeRestart(\"eval_stop\"), error = NULL)\n . }, \"argument 1 (type 'list') cannot be handled by 'cat'\", base::quote(cat(., \n .     \"Most frequent high-value customer:\\n\")))"
     ]
    }
   ],
   "source": [
    "# Question 6.2: Top Customers\n",
    "# Find the customer who appears most frequently in high_value_customers\n",
    "\n",
    "if(nrow(high_value_customers) > 0) {\n",
    "  customer_frequency <- high_value_customers %>%\n",
    "    # Your code here to count customer appearances:\n",
    "  \n",
    "  \n",
    "  cat(\"Most frequent high-value customer:\\n\")\n",
    "  print(customer_frequency)\n",
    "} else {\n",
    "  cat(\"No high-value customers found\\n\")\n",
    "}"
   ]
  },
  {
   "cell_type": "code",
   "execution_count": null,
   "id": "3c932cbb",
   "metadata": {
    "vscode": {
     "languageId": "r"
    }
   },
   "outputs": [],
   "source": [
    "# Question 6.3: Product Analysis\n",
    "# Find top 5 most expensive transactions in entertainment_transactions\n",
    "\n",
    "if(nrow(entertainment_transactions) > 0) {\n",
    "  top_entertainment <- entertainment_transactions %>%\n",
    "    # Your code here:\n",
    "  \n",
    "  \n",
    "  cat(\"Top 5 most expensive entertainment transactions:\\n\")\n",
    "  print(top_entertainment)\n",
    "} else {\n",
    "  cat(\"No entertainment transactions found\\n\")\n",
    "}"
   ]
  },
  {
   "cell_type": "code",
   "execution_count": null,
   "id": "7b46473f",
   "metadata": {
    "vscode": {
     "languageId": "r"
    }
   },
   "outputs": [],
   "source": [
    "# Question 6.4: Geographic Analysis\n",
    "# Find the city with the highest single transaction amount\n",
    "\n",
    "highest_transaction_by_city <- transactions_by_city_amount %>%\n",
    "  # Your code here:\n",
    "\n",
    "\n",
    "cat(\"City with highest single transaction:\\n\")\n",
    "print(highest_transaction_by_city)"
   ]
  },
  {
   "cell_type": "markdown",
   "id": "82d2dc35",
   "metadata": {},
   "source": [
    "## Part 7: Reflection Questions\n",
    "\n",
    "Please answer the following questions in the markdown cells below."
   ]
  },
  {
   "cell_type": "markdown",
   "id": "f2ea2958",
   "metadata": {},
   "source": [
    "### Question 7.1: Pipe Operator Benefits\n",
    "\n",
    "**How does using the pipe operator (`%>%`) improve code readability compared to nested function calls? Provide a specific example from your homework.**\n",
    "\n",
    "**How does using the pipe operator (`%>%`) improve code readability compared to nested function calls? Provide a specific example from your homework.**\n",
    "\n",
    "The pipe operator makes code much more readable by allowing operations to flow from left to right, matching how we naturally think about data transformations. Instead of nesting functions inside each other, we can chain operations in a logical sequence. For example, in Task 5.1, I used `transactions %>% filter(TotalAmount > 75) %>% select(CustomerName, ProductName, TotalAmount, CustomerCity) %>% arrange(desc(TotalAmount))` which reads like instructions: \"take transactions, then filter for amounts over $75, then select specific columns, then sort by amount descending.\" Without pipes, this would be `arrange(select(filter(transactions, TotalAmount > 75), CustomerName, ProductName, TotalAmount, CustomerCity), desc(TotalAmount))` which is much harder to read because you have to work from the inside out.\n"
   ]
  },
  {
   "cell_type": "markdown",
   "id": "af3d8c62",
   "metadata": {},
   "source": [
    "### Question 7.2: Filtering Strategy\n",
    "\n",
    "**When filtering data for business analysis, what are the trade-offs between being very specific (many conditions) versus being more general (fewer conditions)? How might this affect your insights?**\n",
    "\n",
    "**When filtering data for business analysis, what are the trade-offs between being very specific (many conditions) versus being more general (fewer conditions)? How might this affect your insights?**\n",
    "\n",
    "Being very specific with multiple filter conditions gives you precise, targeted results but risks excluding relevant data and may result in very small sample sizes that aren't statistically meaningful. For example, filtering for high-value electronics purchases in New York gives specific insights but might miss important patterns in other cities or categories. Being more general with fewer conditions provides broader insights and larger sample sizes, making patterns more reliable, but may include noise or irrelevant data that obscures key findings. The best approach depends on your business question: use specific filters when you need actionable insights for a particular segment (like targeting high-value customers in a specific city), and use general filters when exploring overall trends or identifying new opportunities. I found that starting general and then adding specific conditions helped me understand both the big picture and the details.\n"
   ]
  },
  {
   "cell_type": "markdown",
   "id": "54c0b062",
   "metadata": {},
   "source": [
    "### Question 7.3: Sorting Importance\n",
    "\n",
    "**Why is data sorting important in business analytics? Provide three specific business scenarios where sorting data would be crucial for decision-making.**\n",
    "\n",
    "**Why is data sorting important in business analytics? Provide three specific business scenarios where sorting data would be crucial for decision-making.**\n",
    "\n",
    "Data sorting is crucial because it helps identify patterns, prioritize actions, and make data-driven decisions quickly. Here are three specific scenarios:\n",
    "\n",
    "1. **Customer Prioritization**: Sorting customers by total spending (descending) helps identify your most valuable customers who should receive priority service, exclusive offers, or personal account management. In my analysis, sorting by TotalAmount revealed which customers contribute most to revenue, allowing the business to focus retention efforts where they matter most.\n",
    "\n",
    "2. **Inventory Management**: Sorting products by sales volume and date helps identify fast-moving items that need frequent restocking versus slow-moving items that tie up capital. By sorting transactions chronologically and by product category, managers can spot seasonal trends and adjust inventory levels before stockouts or overstock situations occur.\n",
    "\n",
    "3. **Performance Monitoring**: Sorting sales by date and amount helps track daily, weekly, or monthly performance trends. Sorting by city and amount (as in Task 4.2) reveals which geographic markets are performing best, helping executives decide where to expand operations, increase marketing spend, or investigate underperformance. This geographic sorting was particularly useful for identifying regional opportunities in my homework analysis.\n",
    "\n",
    " "
   ]
  },
  {
   "cell_type": "markdown",
   "id": "625c2ea3",
   "metadata": {},
   "source": [
    "### Question 7.4: Real-World Application\n",
    "\n",
    "**Describe a real business scenario where you might need to combine `select()`, `filter()`, and `arrange()` operations. What insights would you be trying to gain?**\n",
    "\n",
    "**Describe a real business scenario where you might need to combine `select()`, `filter()`, and `arrange()` operations. What insights would you be trying to gain?**\n",
    "\n",
    "A real-world scenario would be analyzing customer churn risk for a subscription business. I would start by filtering for customers whose subscription renewal is coming up in the next 30 days and whose recent purchase frequency has declined (filter for specific date range and low activity). Then I would select only the relevant columns like CustomerID, CustomerName, LastPurchaseDate, TotalSpent, and SubscriptionEndDate to focus on actionable information. Finally, I would arrange by TotalSpent descending to prioritize high-value customers who are at risk of churning. This combined analysis would help the retention team identify which valuable customers need immediate outreach, what their purchase history looks like, and when to contact them before their subscription expires. The insights gained would directly inform retention campaigns, personalized offers, and resource allocation for the customer success team. This is similar to what I did in Task 5.3 where I identified high-value customers and sorted them to prioritize business actions.\n"
   ]
  },
  {
   "cell_type": "markdown",
   "id": "6142c3f6",
   "metadata": {},
   "source": [
    "## Summary and Submission\n",
    "\n",
    "### What You've Learned\n",
    "\n",
    "In this homework, you've practiced:\n",
    "- Using `select()` for column selection with various methods\n",
    "- Using `filter()` for row filtering with single and multiple conditions\n",
    "- Using `arrange()` for sorting data by single and multiple columns\n",
    "- Chaining operations with the pipe operator (`%>%`)\n",
    "- Analyzing business data to generate insights\n",
    "\n",
    "### Submission Checklist\n",
    "\n",
    "Before submitting, ensure you have:\n",
    "- [ ] Completed all code tasks\n",
    "- [ ] Run all cells successfully\n",
    "- [ ] Answered all reflection questions\n",
    "- [ ] Used proper commenting in your code\n",
    "- [ ] Used the pipe operator where appropriate\n",
    "- [ ] Verified your results make sense\n",
    "\n",
    "### Next Steps\n",
    "\n",
    "In the next lesson, you'll learn about:\n",
    "- `mutate()` for creating new columns\n",
    "- `summarize()` for calculating summary statistics\n",
    "- `group_by()` for grouped operations\n",
    "- Advanced data transformation techniques"
   ]
  }
 ],
 "metadata": {
  "kernelspec": {
   "display_name": "R",
   "language": "R",
   "name": "ir"
  },
  "language_info": {
   "codemirror_mode": "r",
   "file_extension": ".r",
   "mimetype": "text/x-r-source",
   "name": "R",
   "pygments_lexer": "r",
   "version": "4.5.0"
  }
 },
 "nbformat": 4,
 "nbformat_minor": 5
}
