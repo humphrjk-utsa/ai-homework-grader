{
 "cells": [
  {
   "cell_type": "markdown",
   "id": "header",
   "metadata": {},
   "source": [
    "# MIDTERM EXAM: Comprehensive R Data Wrangling Assessment - SOLUTION\n",
    "\n",
    "**Student Name:** [SOLUTION KEY]\n",
    "\n",
    "**Student ID:** [SOLUTION KEY]\n",
    "\n",
    "**Date:** [SOLUTION KEY]\n",
    "\n",
    "---\n",
    "\n",
    "This solution demonstrates correct implementation of all tasks using only:\n",
    "- tidyverse (dplyr, tidyr, stringr, readr)\n",
    "- lubridate\n",
    "\n",
    "---"
   ]
  },
  {
   "cell_type": "markdown",
   "id": "part1_intro",
   "metadata": {},
   "source": [
    "## Part 1: R Basics and Data Import (Lesson 1)"
   ]
  },
  {
   "cell_type": "code",
   "execution_count": null,
   "id": "setup",
   "metadata": {
    "vscode": {
     "languageId": "r"
    }
   },
   "outputs": [],
   "source": [
    "# Task 1.1: Set Working Directory\n",
    "# SOLUTION: Students should set their own path\n",
    "# Example: setwd(\"/Users/username/GitHub/ai-homework-grader-clean/data\")\n",
    "\n",
    "# For this solution, set to the data directory\n",
    "setwd(\"/Users/humphrjk/GitHub/ai-homework-grader-clean/data\")\n",
    "\n",
    "# Verify working directory\n",
    "cat(\"Current working directory:\", getwd(), \"\\n\")"
   ]
  },
  {
   "cell_type": "code",
   "execution_count": null,
   "id": "load_packages",
   "metadata": {
    "vscode": {
     "languageId": "r"
    }
   },
   "outputs": [],
   "source": [
    "# Task 1.2: Load Required Packages\n",
    "# SOLUTION:\n",
    "library(tidyverse)\n",
    "\n",
    "# Load lubridate for date operations\n",
    "library(lubridate)\n",
    "\n",
    "cat(\"✅ Packages loaded successfully!\\n\")"
   ]
  },
  {
   "cell_type": "code",
   "execution_count": null,
   "id": "import_data",
   "metadata": {
    "vscode": {
     "languageId": "r"
    }
   },
   "outputs": [],
   "source": [
    "# Task 1.3: Import Datasets\n",
    "# SOLUTION:\n",
    "sales_data <- read_csv(\"company_sales_data.csv\")\n",
    "\n",
    "customers <- read_csv(\"customers.csv\")\n",
    "\n",
    "products <- read_csv(\"products.csv\")\n",
    "\n",
    "orders <- read_csv(\"orders.csv\")\n",
    "\n",
    "order_items <- read_csv(\"order_items.csv\")\n",
    "\n",
    "# Display import summary\n",
    "cat(\"✅ Data imported successfully!\\n\")\n",
    "cat(\"Sales data:\", nrow(sales_data), \"rows\\n\")\n",
    "cat(\"Customers:\", nrow(customers), \"rows\\n\")\n",
    "cat(\"Products:\", nrow(products), \"rows\\n\")\n",
    "cat(\"Orders:\", nrow(orders), \"rows\\n\")\n",
    "cat(\"Order items:\", nrow(order_items), \"rows\\n\")"
   ]
  },
  {
   "cell_type": "markdown",
   "id": "part2_intro",
   "metadata": {},
   "source": [
    "## Part 2: Data Cleaning - Missing Values & Outliers (Lesson 2)"
   ]
  },
  {
   "cell_type": "code",
   "execution_count": null,
   "id": "check_missing",
   "metadata": {
    "vscode": {
     "languageId": "r"
    }
   },
   "outputs": [],
   "source": [
    "# Task 2.1: Check for Missing Values\n",
    "# SOLUTION:\n",
    "missing_summary <- colSums(is.na(sales_data))\n",
    "\n",
    "cat(\"========== MISSING VALUES SUMMARY ==========\\n\")\n",
    "print(missing_summary)\n",
    "cat(\"\\nTotal missing values:\", sum(missing_summary), \"\\n\")"
   ]
  },
  {
   "cell_type": "code",
   "execution_count": null,
   "id": "handle_missing",
   "metadata": {
    "vscode": {
     "languageId": "r"
    }
   },
   "outputs": [],
   "source": [
    "# Task 2.2: Handle Missing Values\n",
    "# SOLUTION:\n",
    "sales_clean <- sales_data %>%\n",
    "  drop_na()\n",
    "\n",
    "cat(\"========== DATA CLEANING RESULTS ==========\\n\")\n",
    "cat(\"Original rows:\", nrow(sales_data), \"\\n\")\n",
    "cat(\"Cleaned rows:\", nrow(sales_clean), \"\\n\")\n",
    "cat(\"Rows removed:\", nrow(sales_data) - nrow(sales_clean), \"\\n\")"
   ]
  },
  {
   "cell_type": "code",
   "execution_count": null,
   "id": "detect_outliers",
   "metadata": {
    "vscode": {
     "languageId": "r"
    }
   },
   "outputs": [],
   "source": [
    "# Task 2.3: Detect Outliers in Revenue\n",
    "# SOLUTION:\n",
    "Q1 <- quantile(sales_clean$Revenue, 0.25)\n",
    "Q3 <- quantile(sales_clean$Revenue, 0.75)\n",
    "IQR_value <- Q3 - Q1\n",
    "lower_bound <- Q1 - 1.5 * IQR_value\n",
    "upper_bound <- Q3 + 1.5 * IQR_value\n",
    "\n",
    "outlier_analysis <- data.frame(\n",
    "  Metric = c(\"Q1\", \"Q3\", \"IQR\", \"Lower Bound\", \"Upper Bound\"),\n",
    "  Value = c(Q1, Q3, IQR_value, lower_bound, upper_bound)\n",
    ")\n",
    "\n",
    "cat(\"========== OUTLIER ANALYSIS ==========\\n\")\n",
    "print(outlier_analysis)\n",
    "\n",
    "# Count outliers\n",
    "outlier_count <- sum(sales_clean$Revenue < lower_bound | sales_clean$Revenue > upper_bound)\n",
    "cat(\"\\nNumber of outliers detected:\", outlier_count, \"\\n\")"
   ]
  },
  {
   "cell_type": "markdown",
   "id": "part3_intro",
   "metadata": {},
   "source": [
    "## Part 3: Data Transformation Part 1 (Lesson 3)"
   ]
  },
  {
   "cell_type": "code",
   "execution_count": null,
   "id": "select_columns",
   "metadata": {
    "vscode": {
     "languageId": "r"
    }
   },
   "outputs": [],
   "source": [
    "# Task 3.1: Select Specific Columns\n",
    "# SOLUTION:\n",
    "sales_summary <- sales_clean %>%\n",
    "  select(Region, Product_Category, Revenue, Units_Sold, Sale_Date)\n",
    "\n",
    "cat(\"========== SELECTED COLUMNS ==========\\n\")\n",
    "cat(\"Columns:\", names(sales_summary), \"\\n\")\n",
    "cat(\"Rows:\", nrow(sales_summary), \"\\n\")\n",
    "head(sales_summary, 5)"
   ]
  },
  {
   "cell_type": "code",
   "execution_count": null,
   "id": "filter_data",
   "metadata": {
    "vscode": {
     "languageId": "r"
    }
   },
   "outputs": [],
   "source": [
    "# Task 3.2: Filter High Revenue Sales\n",
    "# SOLUTION:\n",
    "high_revenue_sales <- sales_clean %>%\n",
    "  filter(Revenue > 20000)\n",
    "\n",
    "cat(\"========== HIGH REVENUE SALES ==========\\n\")\n",
    "cat(\"Total high revenue transactions:\", nrow(high_revenue_sales), \"\\n\")\n",
    "cat(\"Total revenue from these sales: $\", sum(high_revenue_sales$Revenue), \"\\n\")"
   ]
  },
  {
   "cell_type": "code",
   "execution_count": null,
   "id": "sort_data",
   "metadata": {
    "vscode": {
     "languageId": "r"
    }
   },
   "outputs": [],
   "source": [
    "# Task 3.3: Sort by Revenue\n",
    "# SOLUTION:\n",
    "top_sales <- sales_clean %>%\n",
    "  arrange(desc(Revenue)) %>%\n",
    "  head(10)\n",
    "\n",
    "cat(\"========== TOP 10 SALES ==========\\n\")\n",
    "print(top_sales %>% select(Region, Product_Category, Revenue, Units_Sold))"
   ]
  },
  {
   "cell_type": "code",
   "execution_count": null,
   "id": "chain_operations",
   "metadata": {
    "vscode": {
     "languageId": "r"
    }
   },
   "outputs": [],
   "source": [
    "# Task 3.4: Chain Multiple Operations\n",
    "# SOLUTION:\n",
    "regional_top_sales <- sales_clean %>%\n",
    "  filter(Revenue > 15000) %>%\n",
    "  select(Region, Product_Category, Revenue) %>%\n",
    "  arrange(Region, desc(Revenue)) %>%\n",
    "  head(15)\n",
    "\n",
    "cat(\"========== REGIONAL TOP SALES ==========\\n\")\n",
    "print(regional_top_sales)"
   ]
  },
  {
   "cell_type": "markdown",
   "id": "part4_intro",
   "metadata": {},
   "source": [
    "## Part 4: Data Transformation Part 2 (Lesson 4)"
   ]
  },
  {
   "cell_type": "code",
   "execution_count": null,
   "id": "mutate_columns",
   "metadata": {
    "vscode": {
     "languageId": "r"
    }
   },
   "outputs": [],
   "source": [
    "# Task 4.1: Create Calculated Columns\n",
    "# SOLUTION:\n",
    "sales_enhanced <- sales_clean %>%\n",
    "  mutate(\n",
    "    revenue_per_unit = Revenue / Units_Sold,\n",
    "    high_value = ifelse(Revenue > 20000, \"Yes\", \"No\")\n",
    "  )\n",
    "\n",
    "cat(\"========== ENHANCED SALES DATA ==========\\n\")\n",
    "cat(\"New columns added: revenue_per_unit, high_value\\n\")\n",
    "head(sales_enhanced %>% select(Revenue, Units_Sold, revenue_per_unit, high_value), 5)"
   ]
  },
  {
   "cell_type": "code",
   "execution_count": null,
   "id": "summarize_data",
   "metadata": {
    "vscode": {
     "languageId": "r"
    }
   },
   "outputs": [],
   "source": [
    "# Task 4.2: Calculate Overall Summary Statistics\n",
    "# SOLUTION:\n",
    "overall_summary <- sales_enhanced %>%\n",
    "  summarize(\n",
    "    total_revenue = sum(Revenue),\n",
    "    avg_revenue = mean(Revenue),\n",
    "    total_units = sum(Units_Sold),\n",
    "    transaction_count = n()\n",
    "  )\n",
    "\n",
    "cat(\"========== OVERALL SUMMARY ==========\\n\")\n",
    "print(overall_summary)"
   ]
  },
  {
   "cell_type": "code",
   "execution_count": null,
   "id": "group_by_region",
   "metadata": {
    "vscode": {
     "languageId": "r"
    }
   },
   "outputs": [],
   "source": [
    "# Task 4.3: Regional Performance Analysis\n",
    "# SOLUTION:\n",
    "regional_summary <- sales_enhanced %>%\n",
    "  group_by(Region) %>%\n",
    "  summarize(\n",
    "    total_revenue = sum(Revenue),\n",
    "    avg_revenue = mean(Revenue),\n",
    "    transaction_count = n()\n",
    "  ) %>%\n",
    "  arrange(desc(total_revenue))\n",
    "\n",
    "cat(\"========== REGIONAL SUMMARY ==========\\n\")\n",
    "print(regional_summary)"
   ]
  },
  {
   "cell_type": "code",
   "execution_count": null,
   "id": "group_by_category",
   "metadata": {
    "vscode": {
     "languageId": "r"
    }
   },
   "outputs": [],
   "source": [
    "# Task 4.4: Product Category Analysis\n",
    "# SOLUTION:\n",
    "category_summary <- sales_enhanced %>%\n",
    "  group_by(Product_Category) %>%\n",
    "  summarize(\n",
    "    total_revenue = sum(Revenue),\n",
    "    avg_revenue = mean(Revenue),\n",
    "    transaction_count = n()\n",
    "  ) %>%\n",
    "  arrange(desc(total_revenue))\n",
    "\n",
    "cat(\"========== CATEGORY SUMMARY ==========\\n\")\n",
    "print(category_summary)"
   ]
  },
  {
   "cell_type": "markdown",
   "id": "part5_intro",
   "metadata": {},
   "source": [
    "## Part 5: Data Reshaping with tidyr (Lesson 5)"
   ]
  },
  {
   "cell_type": "code",
   "execution_count": null,
   "id": "create_wide_data",
   "metadata": {
    "vscode": {
     "languageId": "r"
    }
   },
   "outputs": [],
   "source": [
    "# Task 5.1: Create Wide Format Data\n",
    "region_category_revenue <- sales_enhanced %>%\n",
    "  group_by(Region, Product_Category) %>%\n",
    "  summarize(total_revenue = sum(Revenue), .groups = 'drop')\n",
    "\n",
    "cat(\"========== REGION-CATEGORY DATA (LONG FORMAT) ==========\\n\")\n",
    "print(head(region_category_revenue, 10))"
   ]
  },
  {
   "cell_type": "code",
   "execution_count": null,
   "id": "pivot_wider",
   "metadata": {
    "vscode": {
     "languageId": "r"
    }
   },
   "outputs": [],
   "source": [
    "# Task 5.2: Reshape to Wide Format\n",
    "# SOLUTION:\n",
    "revenue_wide <- region_category_revenue %>%\n",
    "  pivot_wider(names_from = Product_Category, values_from = total_revenue)\n",
    "\n",
    "cat(\"========== REVENUE DATA (WIDE FORMAT) ==========\\n\")\n",
    "print(revenue_wide)"
   ]
  },
  {
   "cell_type": "code",
   "execution_count": null,
   "id": "pivot_longer",
   "metadata": {
    "vscode": {
     "languageId": "r"
    }
   },
   "outputs": [],
   "source": [
    "# Task 5.3: Reshape Back to Long Format\n",
    "# SOLUTION:\n",
    "revenue_long <- revenue_wide %>%\n",
    "  pivot_longer(cols = -Region, names_to = \"Product_Category\", values_to = \"revenue\")\n",
    "\n",
    "cat(\"========== REVENUE DATA (BACK TO LONG FORMAT) ==========\\n\")\n",
    "print(head(revenue_long, 10))"
   ]
  },
  {
   "cell_type": "markdown",
   "id": "part6_intro",
   "metadata": {},
   "source": [
    "## Part 6: Combining Datasets with Joins (Lesson 6)"
   ]
  },
  {
   "cell_type": "code",
   "execution_count": null,
   "id": "join_customers_orders",
   "metadata": {
    "vscode": {
     "languageId": "r"
    }
   },
   "outputs": [],
   "source": [
    "# Task 6.1: Join Customers and Orders\n",
    "# SOLUTION:\n",
    "customer_orders <- customers %>%\n",
    "  left_join(orders, by = \"CustomerID\")\n",
    "\n",
    "cat(\"========== CUSTOMER ORDERS ==========\\n\")\n",
    "cat(\"Total rows:\", nrow(customer_orders), \"\\n\")\n",
    "cat(\"Columns:\", ncol(customer_orders), \"\\n\")"
   ]
  },
  {
   "cell_type": "code",
   "execution_count": null,
   "id": "join_orders_items",
   "metadata": {
    "vscode": {
     "languageId": "r"
    }
   },
   "outputs": [],
   "source": [
    "# Task 6.2: Join Orders and Order Items\n",
    "# SOLUTION:\n",
    "orders_with_items <- orders %>%\n",
    "  inner_join(order_items, by = \"OrderID\")\n",
    "\n",
    "cat(\"========== ORDERS WITH ITEMS ==========\\n\")\n",
    "cat(\"Total rows:\", nrow(orders_with_items), \"\\n\")\n",
    "head(orders_with_items, 5)"
   ]
  },
  {
   "cell_type": "markdown",
   "id": "part7_intro",
   "metadata": {},
   "source": [
    "## Part 7: String Manipulation & Date/Time Operations (Lesson 7)"
   ]
  },
  {
   "cell_type": "code",
   "execution_count": null,
   "id": "clean_text",
   "metadata": {
    "vscode": {
     "languageId": "r"
    }
   },
   "outputs": [],
   "source": [
    "# Task 7.1: Clean Text Data\n",
    "# SOLUTION:\n",
    "sales_enhanced <- sales_enhanced %>%\n",
    "  mutate(\n",
    "    region_clean = str_to_title(str_trim(Region)),\n",
    "    category_clean = str_to_title(str_trim(Product_Category))\n",
    "  )\n",
    "\n",
    "cat(\"========== CLEANED TEXT DATA ==========\\n\")\n",
    "head(sales_enhanced %>% select(Region, region_clean, Product_Category, category_clean), 5)"
   ]
  },
  {
   "cell_type": "code",
   "execution_count": null,
   "id": "parse_dates",
   "metadata": {
    "vscode": {
     "languageId": "r"
    }
   },
   "outputs": [],
   "source": [
    "# Task 7.2: Parse Dates and Extract Components\n",
    "# SOLUTION:\n",
    "sales_enhanced <- sales_enhanced %>%\n",
    "  mutate(\n",
    "    date_parsed = ymd(Sale_Date),\n",
    "    sale_month = month(date_parsed, label = TRUE, abbr = FALSE),\n",
    "    sale_weekday = wday(date_parsed, label = TRUE, abbr = FALSE)\n",
    "  )\n",
    "\n",
    "cat(\"========== DATE COMPONENTS ==========\\n\")\n",
    "head(sales_enhanced %>% select(Sale_Date, date_parsed, sale_month, sale_weekday), 5)"
   ]
  },
  {
   "cell_type": "markdown",
   "id": "part8_intro",
   "metadata": {},
   "source": [
    "## Part 8: Advanced Wrangling & Business Intelligence (Lesson 8)"
   ]
  },
  {
   "cell_type": "code",
   "execution_count": null,
   "id": "case_when_logic",
   "metadata": {
    "vscode": {
     "languageId": "r"
    }
   },
   "outputs": [],
   "source": [
    "# Task 8.1: Create Performance Categories\n",
    "# SOLUTION:\n",
    "sales_enhanced <- sales_enhanced %>%\n",
    "  mutate(\n",
    "    performance_tier = case_when(\n",
    "      Revenue > 25000 ~ \"High\",\n",
    "      Revenue > 15000 ~ \"Medium\",\n",
    "      TRUE ~ \"Low\"\n",
    "    )\n",
    "  )\n",
    "\n",
    "cat(\"========== PERFORMANCE TIERS ==========\\n\")\n",
    "table(sales_enhanced$performance_tier)"
   ]
  },
  {
   "cell_type": "code",
   "execution_count": null,
   "id": "calculate_kpis",
   "metadata": {
    "vscode": {
     "languageId": "r"
    }
   },
   "outputs": [],
   "source": [
    "# Task 8.2: Calculate Business KPIs\n",
    "# SOLUTION:\n",
    "business_kpis <- sales_enhanced %>%\n",
    "  summarize(\n",
    "    total_revenue = sum(Revenue),\n",
    "    total_transactions = n(),\n",
    "    avg_transaction_value = mean(Revenue),\n",
    "    high_value_pct = sum(high_value == \"Yes\") / n() * 100\n",
    "  )\n",
    "\n",
    "cat(\"========== BUSINESS KPIs ==========\\n\")\n",
    "print(business_kpis)"
   ]
  },
  {
   "cell_type": "markdown",
   "id": "reflection_intro",
   "metadata": {},
   "source": [
    "## Part 9: Reflection Questions"
   ]
  },
  {
   "cell_type": "markdown",
   "id": "reflection1",
   "metadata": {},
   "source": [
    "### Question 9.1: Data Cleaning Impact\n",
    "\n",
    "**SOLUTION:**\n",
    "\n",
    "Handling missing values and outliers significantly improved data quality and analysis reliability. By removing rows with missing values, we ensured that all calculations were based on complete records, preventing biased results. Identifying outliers helped us understand extreme values that could skew averages and other statistics.\n",
    "\n",
    "Data cleaning is crucial before business analysis because:\n",
    "- Missing values can lead to incorrect calculations and misleading insights\n",
    "- Outliers can distort summary statistics and hide true patterns\n",
    "- Clean data ensures stakeholders can trust the analysis results\n",
    "- It prevents poor business decisions based on flawed data"
   ]
  },
  {
   "cell_type": "markdown",
   "id": "reflection2",
   "metadata": {},
   "source": [
    "### Question 9.2: Grouped Analysis Value\n",
    "\n",
    "**SOLUTION:**\n",
    "\n",
    "The regional and category summaries revealed patterns invisible in raw data:\n",
    "- Which regions generate the most revenue\n",
    "- Which product categories are most profitable\n",
    "- Average transaction values by segment\n",
    "- Transaction volume differences across regions\n",
    "\n",
    "Businesses use grouped analysis to:\n",
    "- Allocate resources to high-performing regions\n",
    "- Identify underperforming segments needing attention\n",
    "- Set region-specific sales targets\n",
    "- Optimize inventory based on category performance\n",
    "- Develop targeted marketing strategies"
   ]
  },
  {
   "cell_type": "markdown",
   "id": "reflection3",
   "metadata": {},
   "source": [
    "### Question 9.3: Data Reshaping Purpose\n",
    "\n",
    "**SOLUTION:**\n",
    "\n",
    "Data reshaping serves different analytical purposes:\n",
    "\n",
    "**Wide format** is useful for:\n",
    "- Creating comparison tables (e.g., revenue by region across product categories)\n",
    "- Excel-style reports for executives\n",
    "- Correlation analysis between categories\n",
    "- Dashboard displays\n",
    "\n",
    "**Long format** is useful for:\n",
    "- Statistical modeling and machine learning\n",
    "- Creating visualizations with ggplot2\n",
    "- Database storage (normalized form)\n",
    "- Filtering and grouping operations\n",
    "\n",
    "**Business scenario:** A sales manager might want wide format to quickly compare product performance across regions in a spreadsheet, but long format for creating trend charts in a dashboard."
   ]
  },
  {
   "cell_type": "markdown",
   "id": "reflection4",
   "metadata": {},
   "source": [
    "### Question 9.4: Joining Datasets\n",
    "\n",
    "**SOLUTION:**\n",
    "\n",
    "**left_join()** keeps all rows from the left table and matches from the right:\n",
    "- Use when you want to preserve all records from your primary dataset\n",
    "- Example: Keep all customers even if they haven't placed orders yet\n",
    "- Business use: Customer analysis where you need all customers, including inactive ones\n",
    "\n",
    "**inner_join()** keeps only rows that match in both tables:\n",
    "- Use when you only want records that exist in both datasets\n",
    "- Example: Only customers who have placed orders\n",
    "- Business use: Active customer analysis, calculating actual purchase behavior\n",
    "\n",
    "**Business context:** Use left_join for customer retention analysis (including non-buyers), but inner_join for purchase pattern analysis (only actual buyers)."
   ]
  },
  {
   "cell_type": "markdown",
   "id": "reflection5",
   "metadata": {},
   "source": [
    "### Question 9.5: Skills Integration\n",
    "\n",
    "**SOLUTION:**\n",
    "\n",
    "The most valuable skill for business analytics is **group_by() with summarize()** (Lesson 4) because:\n",
    "\n",
    "1. **Reveals patterns:** Aggregating data by categories uncovers insights hidden in raw data\n",
    "2. **Supports decisions:** Executives need summarized metrics, not individual transactions\n",
    "3. **Enables comparisons:** Comparing performance across segments drives strategy\n",
    "4. **Scales well:** Works with small and large datasets efficiently\n",
    "5. **Foundation for KPIs:** Most business metrics require aggregation\n",
    "\n",
    "While all skills are important, grouped aggregation transforms raw data into actionable business intelligence that stakeholders can actually use to make decisions."
   ]
  },
  {
   "cell_type": "markdown",
   "id": "summary",
   "metadata": {},
   "source": [
    "## Exam Complete!\n",
    "\n",
    "### Solution Summary\n",
    "\n",
    "This solution demonstrates:\n",
    "- ✅ Proper use of tidyverse functions only\n",
    "- ✅ Correct implementation of all data wrangling tasks\n",
    "- ✅ Clean, readable code with pipe operators\n",
    "- ✅ Thoughtful reflection answers showing business understanding\n",
    "- ✅ No external packages beyond tidyverse and lubridate\n",
    "\n",
    "**All tasks completed successfully! 🎉**"
   ]
  }
 ],
 "metadata": {
  "kernelspec": {
   "display_name": "R",
   "language": "R",
   "name": "ir"
  },
  "language_info": {
   "name": "R",
   "version": "4.0.0"
  }
 },
 "nbformat": 4,
 "nbformat_minor": 5
}
