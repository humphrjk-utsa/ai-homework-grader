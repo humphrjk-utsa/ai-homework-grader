{
 "cells": [
  {
   "cell_type": "markdown",
   "id": "3d75e089",
   "metadata": {},
   "source": [
    "# Homework 4: Data Transformation with dplyr - Part 2 (Mutate, Summarize, Group_by, Count)\n",
    "\n",
    "Welcome to Homework 4! This assignment builds on your foundational dplyr skills by introducing advanced data transformation techniques essential for business analytics.\n",
    "\n",
    "## Learning Objectives\n",
    "\n",
    "By completing this homework, you will:\n",
    "- **Master mutate()**: Create new variables and calculated fields for business insights\n",
    "- **Apply summarize()**: Generate aggregate statistics and key performance indicators (KPIs)\n",
    "- **Utilize group_by()**: Perform grouped analysis across business dimensions\n",
    "- **Implement count()**: Conduct frequency analysis and cross-tabulations\n",
    "- **Develop business intelligence**: Combine functions to create comprehensive analytics\n",
    "\n",
    "## Business Context\n",
    "\n",
    "You'll be working with real company sales data to perform the type of analysis that drives business decisions. This includes:\n",
    "- **Financial Analysis**: Calculate profit margins, ROI, and efficiency metrics\n",
    "- **Performance Segmentation**: Categorize transactions and customers by performance\n",
    "- **Regional Analysis**: Compare performance across geographic regions\n",
    "- **Product Analysis**: Evaluate product category performance\n",
    "- **Time-based Analysis**: Identify trends and seasonal patterns\n",
    "- **Sales Rep Performance**: Assess individual representative effectiveness\n",
    "\n",
    "## Dataset Information\n",
    "\n",
    "You'll be working with `company_sales_data.csv` which contains:\n",
    "- **Sales transactions** with revenue, cost, and unit data\n",
    "- **Geographic information** with regional breakdowns\n",
    "- **Product categories** for portfolio analysis\n",
    "- **Sales representative** performance data\n",
    "- **Date information** for trend analysis\n",
    "- **Customer metrics** for segmentation analysis\n",
    "\n",
    "## Instructions\n",
    "\n",
    "Complete each section by writing R code in the designated areas. Focus on creating clean, well-commented code that demonstrates your understanding of both the technical concepts and business applications.\n",
    "\n",
    "**Remember**: In real business analytics, you're not just manipulating data - you're uncovering insights that drive strategic decisions!"
   ]
  },
  {
   "cell_type": "markdown",
   "id": "229eb316",
   "metadata": {},
   "source": [
    "## Part 1: Setup and Data Import\n",
    "\n",
    "**Task**: Load the necessary packages and import your dataset.\n",
    "\n",
    "**Business Context**: Every analysis begins with proper data setup. In professional environments, data scientists spend significant time ensuring data is properly loaded and validated before analysis begins.\n",
    "\n",
    "**What you need to do**:\n",
    "1. Load the `tidyverse` package (which includes dplyr)\n",
    "2. Import the `company_sales_data.csv` file \n",
    "3. Examine the structure and basic properties of your data\n",
    "4. Perform initial data validation\n",
    "\n",
    "**Hint**: Use `read_csv()` for better data type detection, and always examine your data structure with `str()`, `summary()`, and `head()` functions."
   ]
  },
  {
   "cell_type": "code",
   "execution_count": 10,
   "id": "4b6c5404",
   "metadata": {
    "vscode": {
     "languageId": "r"
    }
   },
   "outputs": [
    {
     "name": "stderr",
     "output_type": "stream",
     "text": [
      "\u001b[1mRows: \u001b[22m\u001b[34m300\u001b[39m \u001b[1mColumns: \u001b[22m\u001b[34m8\u001b[39m\n",
      "\u001b[36m──\u001b[39m \u001b[1mColumn specification\u001b[22m \u001b[36m────────────────────────────────────────────────────────\u001b[39m\n",
      "\u001b[1mDelimiter:\u001b[22m \",\"\n",
      "\u001b[31mchr\u001b[39m  (3): Sales_Rep_Name, Region, Product_Category\n",
      "\u001b[32mdbl\u001b[39m  (4): TransactionID, Revenue, Cost, Units_Sold\n",
      "\u001b[34mdate\u001b[39m (1): Sale_Date\n",
      "\n",
      "\u001b[36mℹ\u001b[39m Use `spec()` to retrieve the full column specification for this data.\n",
      "\u001b[36mℹ\u001b[39m Specify the column types or set `show_col_types = FALSE` to quiet this message.\n"
     ]
    },
    {
     "name": "stdout",
     "output_type": "stream",
     "text": [
      "spc_tbl_ [300 × 8] (S3: spec_tbl_df/tbl_df/tbl/data.frame)\n",
      " $ TransactionID   : num [1:300] 1 2 3 4 5 6 7 8 9 10 ...\n",
      " $ Sales_Rep_Name  : chr [1:300] \"Carol Davis\" \"Carol Davis\" \"Carol Davis\" \"Bob Smith\" ...\n",
      " $ Region          : chr [1:300] \"Latin America\" \"Europe\" \"Europe\" \"Europe\" ...\n",
      " $ Product_Category: chr [1:300] \"Services\" \"Hardware\" \"Services\" \"Hardware\" ...\n",
      " $ Revenue         : num [1:300] 20751 32360 39268 28865 3932 ...\n",
      " $ Cost            : num [1:300] 12253 24595 23291 12429 1778 ...\n",
      " $ Units_Sold      : num [1:300] 78 13 34 90 63 26 25 1 20 15 ...\n",
      " $ Sale_Date       : Date[1:300], format: \"2023-04-24\" \"2023-06-09\" ...\n",
      " - attr(*, \"spec\")=\n",
      "  .. cols(\n",
      "  ..   TransactionID = \u001b[32mcol_double()\u001b[39m,\n",
      "  ..   Sales_Rep_Name = \u001b[31mcol_character()\u001b[39m,\n",
      "  ..   Region = \u001b[31mcol_character()\u001b[39m,\n",
      "  ..   Product_Category = \u001b[31mcol_character()\u001b[39m,\n",
      "  ..   Revenue = \u001b[32mcol_double()\u001b[39m,\n",
      "  ..   Cost = \u001b[32mcol_double()\u001b[39m,\n",
      "  ..   Units_Sold = \u001b[32mcol_double()\u001b[39m,\n",
      "  ..   Sale_Date = \u001b[34mcol_date(format = \"\")\u001b[39m\n",
      "  .. )\n",
      " - attr(*, \"problems\")=<externalptr> \n"
     ]
    },
    {
     "data": {
      "text/html": [
       "<table class=\"dataframe\">\n",
       "<caption>A tibble: 6 × 8</caption>\n",
       "<thead>\n",
       "\t<tr><th scope=col>TransactionID</th><th scope=col>Sales_Rep_Name</th><th scope=col>Region</th><th scope=col>Product_Category</th><th scope=col>Revenue</th><th scope=col>Cost</th><th scope=col>Units_Sold</th><th scope=col>Sale_Date</th></tr>\n",
       "\t<tr><th scope=col>&lt;dbl&gt;</th><th scope=col>&lt;chr&gt;</th><th scope=col>&lt;chr&gt;</th><th scope=col>&lt;chr&gt;</th><th scope=col>&lt;dbl&gt;</th><th scope=col>&lt;dbl&gt;</th><th scope=col>&lt;dbl&gt;</th><th scope=col>&lt;date&gt;</th></tr>\n",
       "</thead>\n",
       "<tbody>\n",
       "\t<tr><td>1</td><td>Carol Davis </td><td>Latin America</td><td>Services</td><td>20750.92</td><td>12253.36</td><td>78</td><td>2023-04-24</td></tr>\n",
       "\t<tr><td>2</td><td>Carol Davis </td><td>Europe       </td><td>Hardware</td><td>32359.98</td><td>24595.20</td><td>13</td><td>2023-06-09</td></tr>\n",
       "\t<tr><td>3</td><td>Carol Davis </td><td>Europe       </td><td>Services</td><td>39268.40</td><td>23291.09</td><td>34</td><td>2023-03-25</td></tr>\n",
       "\t<tr><td>4</td><td>Bob Smith   </td><td>Europe       </td><td>Hardware</td><td>28865.09</td><td>12428.74</td><td>90</td><td>2023-04-11</td></tr>\n",
       "\t<tr><td>5</td><td>Frank Miller</td><td>Latin America</td><td>Software</td><td> 3932.36</td><td> 1778.18</td><td>63</td><td>2023-08-26</td></tr>\n",
       "\t<tr><td>6</td><td>Carol Davis </td><td>Latin America</td><td>Services</td><td>48209.75</td><td>26052.04</td><td>26</td><td>2023-09-04</td></tr>\n",
       "</tbody>\n",
       "</table>\n"
      ],
      "text/latex": [
       "A tibble: 6 × 8\n",
       "\\begin{tabular}{llllllll}\n",
       " TransactionID & Sales\\_Rep\\_Name & Region & Product\\_Category & Revenue & Cost & Units\\_Sold & Sale\\_Date\\\\\n",
       " <dbl> & <chr> & <chr> & <chr> & <dbl> & <dbl> & <dbl> & <date>\\\\\n",
       "\\hline\n",
       "\t 1 & Carol Davis  & Latin America & Services & 20750.92 & 12253.36 & 78 & 2023-04-24\\\\\n",
       "\t 2 & Carol Davis  & Europe        & Hardware & 32359.98 & 24595.20 & 13 & 2023-06-09\\\\\n",
       "\t 3 & Carol Davis  & Europe        & Services & 39268.40 & 23291.09 & 34 & 2023-03-25\\\\\n",
       "\t 4 & Bob Smith    & Europe        & Hardware & 28865.09 & 12428.74 & 90 & 2023-04-11\\\\\n",
       "\t 5 & Frank Miller & Latin America & Software &  3932.36 &  1778.18 & 63 & 2023-08-26\\\\\n",
       "\t 6 & Carol Davis  & Latin America & Services & 48209.75 & 26052.04 & 26 & 2023-09-04\\\\\n",
       "\\end{tabular}\n"
      ],
      "text/markdown": [
       "\n",
       "A tibble: 6 × 8\n",
       "\n",
       "| TransactionID &lt;dbl&gt; | Sales_Rep_Name &lt;chr&gt; | Region &lt;chr&gt; | Product_Category &lt;chr&gt; | Revenue &lt;dbl&gt; | Cost &lt;dbl&gt; | Units_Sold &lt;dbl&gt; | Sale_Date &lt;date&gt; |\n",
       "|---|---|---|---|---|---|---|---|\n",
       "| 1 | Carol Davis  | Latin America | Services | 20750.92 | 12253.36 | 78 | 2023-04-24 |\n",
       "| 2 | Carol Davis  | Europe        | Hardware | 32359.98 | 24595.20 | 13 | 2023-06-09 |\n",
       "| 3 | Carol Davis  | Europe        | Services | 39268.40 | 23291.09 | 34 | 2023-03-25 |\n",
       "| 4 | Bob Smith    | Europe        | Hardware | 28865.09 | 12428.74 | 90 | 2023-04-11 |\n",
       "| 5 | Frank Miller | Latin America | Software |  3932.36 |  1778.18 | 63 | 2023-08-26 |\n",
       "| 6 | Carol Davis  | Latin America | Services | 48209.75 | 26052.04 | 26 | 2023-09-04 |\n",
       "\n"
      ],
      "text/plain": [
       "  TransactionID Sales_Rep_Name Region        Product_Category Revenue  Cost    \n",
       "1 1             Carol Davis    Latin America Services         20750.92 12253.36\n",
       "2 2             Carol Davis    Europe        Hardware         32359.98 24595.20\n",
       "3 3             Carol Davis    Europe        Services         39268.40 23291.09\n",
       "4 4             Bob Smith      Europe        Hardware         28865.09 12428.74\n",
       "5 5             Frank Miller   Latin America Software          3932.36  1778.18\n",
       "6 6             Carol Davis    Latin America Services         48209.75 26052.04\n",
       "  Units_Sold Sale_Date \n",
       "1 78         2023-04-24\n",
       "2 13         2023-06-09\n",
       "3 34         2023-03-25\n",
       "4 90         2023-04-11\n",
       "5 63         2023-08-26\n",
       "6 26         2023-09-04"
      ]
     },
     "metadata": {},
     "output_type": "display_data"
    },
    {
     "data": {
      "text/plain": [
       " TransactionID    Sales_Rep_Name        Region          Product_Category  \n",
       " Min.   :  1.00   Length:300         Length:300         Length:300        \n",
       " 1st Qu.: 75.75   Class :character   Class :character   Class :character  \n",
       " Median :150.50   Mode  :character   Mode  :character   Mode  :character  \n",
       " Mean   :150.50                                                           \n",
       " 3rd Qu.:225.25                                                           \n",
       " Max.   :300.00                                                           \n",
       "    Revenue           Cost         Units_Sold       Sale_Date         \n",
       " Min.   : 1032   Min.   :  567   Min.   :  1.00   Min.   :2023-01-02  \n",
       " 1st Qu.:15034   1st Qu.: 7216   1st Qu.: 28.75   1st Qu.:2023-04-07  \n",
       " Median :26062   Median :13956   Median : 56.00   Median :2023-07-05  \n",
       " Mean   :25906   Mean   :14547   Mean   : 53.90   Mean   :2023-07-07  \n",
       " 3rd Qu.:37708   3rd Qu.:21714   3rd Qu.: 80.00   3rd Qu.:2023-10-08  \n",
       " Max.   :49956   Max.   :37811   Max.   :100.00   Max.   :2023-12-31  "
      ]
     },
     "metadata": {},
     "output_type": "display_data"
    },
    {
     "data": {
      "text/html": [
       "300"
      ],
      "text/latex": [
       "300"
      ],
      "text/markdown": [
       "300"
      ],
      "text/plain": [
       "[1] 300"
      ]
     },
     "metadata": {},
     "output_type": "display_data"
    },
    {
     "data": {
      "text/html": [
       "8"
      ],
      "text/latex": [
       "8"
      ],
      "text/markdown": [
       "8"
      ],
      "text/plain": [
       "[1] 8"
      ]
     },
     "metadata": {},
     "output_type": "display_data"
    }
   ],
   "source": [
    "# Load required packages\n",
    "# TODO: Load tidyverse\n",
    "library(tidyverse)\n",
    "\n",
    "# Import the company sales data\n",
    "# TODO: Read the company_sales_data.csv file into a variable called company_data\n",
    "company_data <- read_csv(\"../../data/company_sales_data.csv\")\n",
    "\n",
    "# Examine the dataset structure\n",
    "# TODO: Use str() to examine the data structure\n",
    "str(company_data)\n",
    "\n",
    "# Display the first few rows\n",
    "# TODO: Use head() to show the first 6 rows\n",
    "head(company_data, n=6)\n",
    "\n",
    "# Generate summary statistics\n",
    "# TODO: Use summary() to get basic statistics for all columns\n",
    "summary(company_data)\n",
    "\n",
    "# Check dataset dimensions\n",
    "# TODO: Display the number of rows and columns using nrow() and ncol()\n",
    "nrow(company_data)\n",
    "ncol(company_data)"
   ]
  },
  {
   "cell_type": "markdown",
   "id": "c9d722a5",
   "metadata": {},
   "source": [
    "## Part 2: Creating New Variables with mutate()\n",
    "\n",
    "**Task**: Use `mutate()` to create new calculated fields for business analysis.\n",
    "\n",
    "**Business Context**: Raw data rarely tells the complete story. Business analysts must create derived metrics like profit margins, efficiency ratios, and performance categories to generate actionable insights.\n",
    "\n",
    "**Variables to create**:\n",
    "1. **Profit**: Revenue minus Cost\n",
    "2. **Profit_Margin**: (Profit / Revenue) × 100\n",
    "3. **Cost_Ratio**: (Cost / Revenue) × 100  \n",
    "4. **Revenue_Per_Unit**: Revenue divided by Units_Sold\n",
    "5. **Cost_Per_Unit**: Cost divided by Units_Sold\n",
    "6. **ROI**: (Profit / Cost) × 100\n",
    "\n",
    "**Hint**: Use the pipe operator (`%>%`) to chain multiple mutate operations together. Remember to create meaningful variable names that clearly indicate what each metric represents."
   ]
  },
  {
   "cell_type": "code",
   "execution_count": 13,
   "id": "e785c110",
   "metadata": {
    "vscode": {
     "languageId": "r"
    }
   },
   "outputs": [
    {
     "name": "stdout",
     "output_type": "stream",
     "text": [
      "\u001b[90m# A tibble: 300 × 5\u001b[39m\n",
      "   Revenue   Cost Profit Profit_Margin   ROI\n",
      "     \u001b[3m\u001b[90m<dbl>\u001b[39m\u001b[23m  \u001b[3m\u001b[90m<dbl>\u001b[39m\u001b[23m  \u001b[3m\u001b[90m<dbl>\u001b[39m\u001b[23m         \u001b[3m\u001b[90m<dbl>\u001b[39m\u001b[23m \u001b[3m\u001b[90m<dbl>\u001b[39m\u001b[23m\n",
      "\u001b[90m 1\u001b[39m  \u001b[4m2\u001b[24m\u001b[4m0\u001b[24m751. \u001b[4m1\u001b[24m\u001b[4m2\u001b[24m253.  \u001b[4m8\u001b[24m498.          41.0  69.3\n",
      "\u001b[90m 2\u001b[39m  \u001b[4m3\u001b[24m\u001b[4m2\u001b[24m360. \u001b[4m2\u001b[24m\u001b[4m4\u001b[24m595.  \u001b[4m7\u001b[24m765.          24.0  31.6\n",
      "\u001b[90m 3\u001b[39m  \u001b[4m3\u001b[24m\u001b[4m9\u001b[24m268. \u001b[4m2\u001b[24m\u001b[4m3\u001b[24m291. \u001b[4m1\u001b[24m\u001b[4m5\u001b[24m977.          40.7  68.6\n",
      "\u001b[90m 4\u001b[39m  \u001b[4m2\u001b[24m\u001b[4m8\u001b[24m865. \u001b[4m1\u001b[24m\u001b[4m2\u001b[24m429. \u001b[4m1\u001b[24m\u001b[4m6\u001b[24m436.          56.9 132. \n",
      "\u001b[90m 5\u001b[39m   \u001b[4m3\u001b[24m932.  \u001b[4m1\u001b[24m778.  \u001b[4m2\u001b[24m154.          54.8 121. \n",
      "\u001b[90m 6\u001b[39m  \u001b[4m4\u001b[24m\u001b[4m8\u001b[24m210. \u001b[4m2\u001b[24m\u001b[4m6\u001b[24m052. \u001b[4m2\u001b[24m\u001b[4m2\u001b[24m158.          46.0  85.1\n",
      "\u001b[90m 7\u001b[39m  \u001b[4m3\u001b[24m\u001b[4m3\u001b[24m055. \u001b[4m2\u001b[24m\u001b[4m0\u001b[24m432. \u001b[4m1\u001b[24m\u001b[4m2\u001b[24m623.          38.2  61.8\n",
      "\u001b[90m 8\u001b[39m  \u001b[4m4\u001b[24m\u001b[4m9\u001b[24m857. \u001b[4m3\u001b[24m\u001b[4m7\u001b[24m119. \u001b[4m1\u001b[24m\u001b[4m2\u001b[24m738.          25.5  34.3\n",
      "\u001b[90m 9\u001b[39m  \u001b[4m1\u001b[24m\u001b[4m3\u001b[24m477.  \u001b[4m8\u001b[24m686.  \u001b[4m4\u001b[24m791.          35.6  55.2\n",
      "\u001b[90m10\u001b[39m  \u001b[4m2\u001b[24m\u001b[4m1\u001b[24m189. \u001b[4m1\u001b[24m\u001b[4m6\u001b[24m757.  \u001b[4m4\u001b[24m432.          20.9  26.4\n",
      "\u001b[90m# ℹ 290 more rows\u001b[39m\n"
     ]
    }
   ],
   "source": [
    "# Create basic financial metrics using mutate()\n",
    "company_data <- company_data %>%\n",
    "  mutate(\n",
    "    Profit = Revenue - Cost,\n",
    "    Profit_Margin = (Profit / Revenue) * 100,\n",
    "    Cost_Ratio = (Cost / Revenue) *100,\n",
    "    Revenue_Per_Unit = (Revenue / Units_Sold),\n",
    "    Cost_Per_Unit = (Cost / Units_Sold),\n",
    "    ROI = (Profit / Cost) *100\n",
    "    \n",
    "    # TODO: Create Profit_Margin ((Profit / Revenue) * 100)\n",
    "    \n",
    "    # TODO: Create Cost_Ratio ((Cost / Revenue) * 100)\n",
    "    \n",
    "    # TODO: Create Revenue_Per_Unit (Revenue / Units_Sold)\n",
    "    \n",
    "    # TODO: Create Cost_Per_Unit (Cost / Units_Sold)\n",
    "    \n",
    "    # TODO: Create ROI ((Profit / Cost) * 100)\n",
    "    \n",
    "  )\n",
    "\n",
    "# Display the new financial metrics\n",
    "# TODO: Select and display columns: Revenue, Cost, Profit, Profit_Margin, ROI\n",
    "company_data %>%\n",
    "select( Revenue, Cost, Profit, Profit_Margin, ROI) %>%\n",
    "print()\n"
   ]
  },
  {
   "cell_type": "markdown",
   "id": "e1b470f6",
   "metadata": {},
   "source": [
    "## Part 3: Creating Categorical Variables\n",
    "\n",
    "**Task**: Create categorical variables for business segmentation using conditional logic.\n",
    "\n",
    "**Business Context**: Segmentation is crucial for targeted business strategies. By categorizing transactions and customers, businesses can tailor their approaches to different performance levels and customer types.\n",
    "\n",
    "**Categories to create**:\n",
    "1. **Performance_Category**: Based on Profit_Margin (High: >50%, Medium: 30-50%, Low: <30%)\n",
    "2. **Revenue_Size**: Based on Revenue (Large: >30000, Medium: 15000-30000, Small: <15000)\n",
    "3. **Deal_Size**: Based on Units_Sold (Bulk: >50, Standard: 20-50, Small: <20)\n",
    "4. **High_Value_Customer**: Flag for Revenue > 25000\n",
    "5. **Profitable_Deal**: Flag for Profit_Margin > 40%\n",
    "\n",
    "**Hint**: Use `case_when()` for multiple conditions or `ifelse()` for simple binary classifications."
   ]
  },
  {
   "cell_type": "code",
   "execution_count": 17,
   "id": "73cefd70",
   "metadata": {
    "vscode": {
     "languageId": "r"
    }
   },
   "outputs": [
    {
     "data": {
      "text/plain": [
       "\n",
       "  High    Low Medium \n",
       "   113     66    121 "
      ]
     },
     "metadata": {},
     "output_type": "display_data"
    },
    {
     "data": {
      "text/plain": [
       "\n",
       " Large Medium  Small \n",
       "   122    104     74 "
      ]
     },
     "metadata": {},
     "output_type": "display_data"
    },
    {
     "data": {
      "text/plain": [
       "\n",
       " No Yes \n",
       "146 154 "
      ]
     },
     "metadata": {},
     "output_type": "display_data"
    }
   ],
   "source": [
    "# Create categorical variables for business segmentation\n",
    "company_data <- company_data %>%\n",
    "  mutate(\n",
    "    # TODO: Create Performance_Category using case_when()\n",
    "    # High: Profit_Margin > 50, Medium: Profit_Margin > 30, Low: everything else\n",
    "    Performance_Category = case_when(.default = \"Low\",\n",
    "              Profit_Margin > 50 ~ \"High\",\n",
    "              Profit_Margin > 30 ~ \"Medium\"),\n",
    "    # TODO: Create Revenue_Size category\n",
    "    # Large: Revenue > 30000, Medium: Revenue > 15000, Small: everything else\n",
    "    Revenue_Size = case_when(.default = \"Small\",\n",
    "              Revenue > 30000 ~ \"Large\",\n",
    "              Revenue > 15000 ~ \"Medium\"),\n",
    "    # TODO: Create Deal_Size category  \n",
    "    # Bulk: Units_Sold > 50, Standard: Units_Sold > 20, Small: everything else\n",
    "    Deal_Size = case_when(.default = \"Small\",\n",
    "              Units_Sold > 50 ~ \"Bulk\",\n",
    "              Units_Sold > 20 ~ \"Standard\"),\n",
    "    # TODO: Create High_Value_Customer flag (Yes/No for Revenue > 25000)\n",
    "    High_Value_Customer = case_when(Revenue > 25000 ~ \"Yes\",\n",
    "              .default = \"No\"),\n",
    "    # TODO: Create Profitable_Deal flag (Yes/No for Profit_Margin > 40)\n",
    "    Profitable_Deal = case_when(Profit_Margin > 40 ~ \"Yes\",\n",
    "              .default = \"No\")\n",
    "  )\n",
    "\n",
    "# Examine the distribution of categorical variables\n",
    "# TODO: Use table() to show the distribution of Performance_Category\n",
    "table(company_data$Performance_Category)\n",
    "\n",
    "# TODO: Use table() to show the distribution of Revenue_Size\n",
    "table(company_data$Revenue_Size)\n",
    "\n",
    "# TODO: Use table() to show the distribution of High_Value_Customer\n",
    "table(company_data$High_Value_Customer  )"
   ]
  },
  {
   "cell_type": "markdown",
   "id": "d0e957c6",
   "metadata": {},
   "source": [
    "## Part 4: Summary Statistics with summarize()\n",
    "\n",
    "**Task**: Use `summarize()` to calculate key business metrics and overall performance indicators.\n",
    "\n",
    "**Business Context**: Executive dashboards and business reports rely on aggregate statistics to provide high-level insights. These summary metrics help stakeholders quickly understand overall business performance.\n",
    "\n",
    "**Metrics to calculate**:\n",
    "1. **Total Revenue** and **Total Profit**\n",
    "2. **Average Profit Margin** and **Average ROI**\n",
    "3. **Total Units Sold** and **Total Transactions**\n",
    "4. **Revenue Statistics**: Min, Max, Mean, Median, Standard Deviation\n",
    "5. **Profit Margin Statistics**: Quartiles and distribution metrics\n",
    "\n",
    "**Hint**: You can calculate multiple summary statistics in a single `summarize()` call. Use functions like `sum()`, `mean()`, `median()`, `min()`, `max()`, `sd()`, and `n()`."
   ]
  },
  {
   "cell_type": "markdown",
   "id": "5a35dfd2",
   "metadata": {},
   "source": [
    "## Part 5: Grouped Analysis with group_by()\n",
    "\n",
    "**Task**: Use `group_by()` combined with `summarize()` to analyze performance across different business dimensions.\n",
    "\n",
    "**Business Context**: Understanding how different segments perform is crucial for strategic decision-making. Regional analysis helps with resource allocation, product analysis guides inventory decisions, and sales rep analysis informs performance management.\n",
    "\n",
    "**Analyses to perform**:\n",
    "1. **Regional Analysis**: Performance by Region\n",
    "2. **Product Category Analysis**: Performance by Product_Category  \n",
    "3. **Performance Category Analysis**: Compare High/Medium/Low performers\n",
    "4. **Sales Rep Analysis**: Individual representative performance\n",
    "\n",
    "**Metrics for each group**:\n",
    "- Total Revenue and Profit\n",
    "- Average Profit Margin\n",
    "- Transaction Count\n",
    "- Total Units Sold\n",
    "- Revenue Share (percentage of total)\n",
    "\n",
    "**Hint**: Use `group_by()` followed by `summarize()`, and don't forget to use `arrange(desc())` to sort by key metrics."
   ]
  },
  {
   "cell_type": "code",
   "execution_count": 19,
   "id": "f9a05150",
   "metadata": {
    "vscode": {
     "languageId": "r"
    }
   },
   "outputs": [
    {
     "name": "stdout",
     "output_type": "stream",
     "text": [
      "[1] \"Regional Performance Analysis:\"\n",
      "\u001b[90m# A tibble: 4 × 5\u001b[39m\n",
      "  Region        total_revenue total_profit avg_profit_margin revenue_share\n",
      "  \u001b[3m\u001b[90m<chr>\u001b[39m\u001b[23m                 \u001b[3m\u001b[90m<dbl>\u001b[39m\u001b[23m        \u001b[3m\u001b[90m<dbl>\u001b[39m\u001b[23m             \u001b[3m\u001b[90m<dbl>\u001b[39m\u001b[23m         \u001b[3m\u001b[90m<dbl>\u001b[39m\u001b[23m\n",
      "\u001b[90m1\u001b[39m Europe             2\u001b[4m2\u001b[24m\u001b[4m2\u001b[24m\u001b[4m4\u001b[24m182.     1\u001b[4m0\u001b[24m\u001b[4m0\u001b[24m\u001b[4m6\u001b[24m807.              45.5          28.6\n",
      "\u001b[90m2\u001b[39m Latin America      2\u001b[4m1\u001b[24m\u001b[4m1\u001b[24m\u001b[4m2\u001b[24m037.      \u001b[4m8\u001b[24m\u001b[4m9\u001b[24m\u001b[4m1\u001b[24m481.              43.0          27.2\n",
      "\u001b[90m3\u001b[39m Asia Pacific       1\u001b[4m8\u001b[24m\u001b[4m0\u001b[24m\u001b[4m4\u001b[24m243.      \u001b[4m8\u001b[24m\u001b[4m2\u001b[24m\u001b[4m7\u001b[24m243.              46.0          23.2\n",
      "\u001b[90m4\u001b[39m North America      1\u001b[4m6\u001b[24m\u001b[4m3\u001b[24m\u001b[4m1\u001b[24m248.      \u001b[4m6\u001b[24m\u001b[4m8\u001b[24m\u001b[4m1\u001b[24m981.              42.4          21.0\n"
     ]
    }
   ],
   "source": [
    "# Regional Analysis\n",
    "regional_performance <- company_data %>%\n",
    "  group_by(Region) %>%\n",
    "  summarize(\n",
    "    # TODO: Calculate total_revenue, total_profit, avg_profit_margin, \n",
    "    # transaction_count, total_units for each region\n",
    "    total_revenue = sum(Revenue, na.rm = TRUE),\n",
    "    total_profit = sum(Profit, na.rm = TRUE),\n",
    "    avg_profit_margin = mean(Profit_Margin, na.rm = TRUE),\n",
    "    .groups = 'drop'  # Remove grouping\n",
    "  ) %>%\n",
    "  # TODO: Add revenue_share calculation (total_revenue / sum(total_revenue) * 100)\n",
    "  mutate(\n",
    "    revenue_share = (total_revenue / sum(total_revenue)*100)\n",
    "  ) %>%\n",
    "  # TODO: Arrange by total_revenue in descending order\n",
    "  arrange(desc(total_revenue))\n",
    "\n",
    "print(\"Regional Performance Analysis:\")\n",
    "print(regional_performance)"
   ]
  },
  {
   "cell_type": "code",
   "execution_count": 20,
   "id": "c7724570",
   "metadata": {
    "vscode": {
     "languageId": "r"
    }
   },
   "outputs": [
    {
     "name": "stdout",
     "output_type": "stream",
     "text": [
      "[1] \"Product Category Performance Analysis:\"\n",
      "\u001b[90m# A tibble: 1 × 4\u001b[39m\n",
      "  total_revenue total_profit avg_profit_margin revenue_share\n",
      "          \u001b[3m\u001b[90m<dbl>\u001b[39m\u001b[23m        \u001b[3m\u001b[90m<dbl>\u001b[39m\u001b[23m             \u001b[3m\u001b[90m<dbl>\u001b[39m\u001b[23m         \u001b[3m\u001b[90m<dbl>\u001b[39m\u001b[23m\n",
      "\u001b[90m1\u001b[39m      7\u001b[4m7\u001b[24m\u001b[4m7\u001b[24m\u001b[4m1\u001b[24m711.     3\u001b[4m4\u001b[24m\u001b[4m0\u001b[24m\u001b[4m7\u001b[24m512.              44.2           100\n"
     ]
    }
   ],
   "source": [
    "# Product Category Analysis\n",
    "category_performance <- company_data %>%\n",
    "  group_by() %>%  # TODO: Group by Product_Category\n",
    "  summarize(\n",
    "    # TODO: Calculate the same metrics as regional analysis\n",
    "    total_revenue = sum(Revenue, na.rm = TRUE),\n",
    "    total_profit = sum(Profit, na.rm = TRUE),\n",
    "    avg_profit_margin = mean(Profit_Margin, na.rm = TRUE),\n",
    "    .groups = 'drop'\n",
    "  ) %>%\n",
    "  # TODO: Add revenue_share and arrange by total_revenue\n",
    "  mutate(\n",
    "    revenue_share = (total_revenue / sum(total_revenue)*100)\n",
    "  ) %>%\n",
    "  arrange(desc(total_revenue))\n",
    "\n",
    "print(\"Product Category Performance Analysis:\")\n",
    "print(category_performance)"
   ]
  },
  {
   "cell_type": "code",
   "execution_count": 21,
   "id": "d89516fa",
   "metadata": {
    "vscode": {
     "languageId": "r"
    }
   },
   "outputs": [
    {
     "name": "stdout",
     "output_type": "stream",
     "text": [
      "[1] \"Performance Category Analysis:\"\n",
      "\u001b[90m# A tibble: 1 × 4\u001b[39m\n",
      "  total_revenue total_profit avg_profit_margin revenue_share\n",
      "          \u001b[3m\u001b[90m<dbl>\u001b[39m\u001b[23m        \u001b[3m\u001b[90m<dbl>\u001b[39m\u001b[23m             \u001b[3m\u001b[90m<dbl>\u001b[39m\u001b[23m         \u001b[3m\u001b[90m<dbl>\u001b[39m\u001b[23m\n",
      "\u001b[90m1\u001b[39m      7\u001b[4m7\u001b[24m\u001b[4m7\u001b[24m\u001b[4m1\u001b[24m711.     3\u001b[4m4\u001b[24m\u001b[4m0\u001b[24m\u001b[4m7\u001b[24m512.              44.2           100\n"
     ]
    }
   ],
   "source": [
    "# Performance Category Analysis (High/Medium/Low performers)\n",
    "performance_analysis <- company_data %>%\n",
    "  group_by() %>%  # TODO: Group by Performance_Category\n",
    "  summarize(\n",
    "    # TODO: Calculate summary metrics for each performance level\n",
    "    total_revenue = sum(Revenue, na.rm = TRUE),\n",
    "    total_profit = sum(Profit, na.rm = TRUE),\n",
    "    avg_profit_margin = mean(Profit_Margin, na.rm = TRUE),\n",
    "    .groups = 'drop'\n",
    "  ) %>%\n",
    "  # TODO: Add revenue_share calculation\n",
    "  mutate(\n",
    "    revenue_share = (total_revenue / sum(total_revenue)*100)\n",
    "  )\n",
    "\n",
    "print(\"Performance Category Analysis:\")\n",
    "print(performance_analysis)"
   ]
  },
  {
   "cell_type": "markdown",
   "id": "bb30b28c",
   "metadata": {},
   "source": [
    "## Part 6: Advanced Grouping and Cross-Tabulation\n",
    "\n",
    "**Task**: Perform multi-dimensional analysis and frequency counting using `count()` and advanced grouping.\n",
    "\n",
    "**Business Context**: Real business questions often require analysis across multiple dimensions simultaneously. For example, \"Which product categories perform best in each region?\" requires cross-tabulation analysis.\n",
    "\n",
    "**Analyses to perform**:\n",
    "1. **Multi-dimensional grouping**: Region × Product Category performance\n",
    "2. **Count analysis**: Frequency distributions using `count()`\n",
    "3. **Cross-tabulation**: Performance Category vs Revenue Size\n",
    "4. **Time-based analysis**: Performance by time periods (if date data available)\n",
    "\n",
    "**Hint**: Use `count()` for frequency analysis and multiple variables in `group_by()` for cross-dimensional analysis."
   ]
  },
  {
   "cell_type": "code",
   "execution_count": 22,
   "id": "fb5fedac",
   "metadata": {
    "vscode": {
     "languageId": "r"
    }
   },
   "outputs": [
    {
     "name": "stdout",
     "output_type": "stream",
     "text": [
      "[1] \"Top 10 Region-Product Category Combinations:\"\n",
      "\u001b[90m# A tibble: 10 × 5\u001b[39m\n",
      "   Region     Product_Category total_revenue transaction_count avg_profit_margin\n",
      "   \u001b[3m\u001b[90m<chr>\u001b[39m\u001b[23m      \u001b[3m\u001b[90m<chr>\u001b[39m\u001b[23m                    \u001b[3m\u001b[90m<dbl>\u001b[39m\u001b[23m             \u001b[3m\u001b[90m<int>\u001b[39m\u001b[23m             \u001b[3m\u001b[90m<dbl>\u001b[39m\u001b[23m\n",
      "\u001b[90m 1\u001b[39m Europe     Hardware               \u001b[4m7\u001b[24m\u001b[4m7\u001b[24m\u001b[4m7\u001b[24m044.                27              45.6\n",
      "\u001b[90m 2\u001b[39m Asia Paci… Consulting             \u001b[4m7\u001b[24m\u001b[4m5\u001b[24m\u001b[4m9\u001b[24m641.                27              47.5\n",
      "\u001b[90m 3\u001b[39m Latin Ame… Services               \u001b[4m6\u001b[24m\u001b[4m4\u001b[24m\u001b[4m4\u001b[24m772.                22              43.9\n",
      "\u001b[90m 4\u001b[39m Latin Ame… Software               \u001b[4m5\u001b[24m\u001b[4m5\u001b[24m\u001b[4m9\u001b[24m611.                24              44.2\n",
      "\u001b[90m 5\u001b[39m Europe     Software               \u001b[4m5\u001b[24m\u001b[4m4\u001b[24m\u001b[4m2\u001b[24m961.                23              49.6\n",
      "\u001b[90m 6\u001b[39m Europe     Services               \u001b[4m5\u001b[24m\u001b[4m1\u001b[24m\u001b[4m3\u001b[24m507.                18              42.8\n",
      "\u001b[90m 7\u001b[39m Latin Ame… Hardware               \u001b[4m4\u001b[24m\u001b[4m7\u001b[24m\u001b[4m4\u001b[24m257.                19              43.1\n",
      "\u001b[90m 8\u001b[39m North Ame… Services               \u001b[4m4\u001b[24m\u001b[4m7\u001b[24m\u001b[4m1\u001b[24m460.                17              39.5\n",
      "\u001b[90m 9\u001b[39m Asia Paci… Software               \u001b[4m4\u001b[24m\u001b[4m4\u001b[24m\u001b[4m0\u001b[24m797.                15              47.6\n",
      "\u001b[90m10\u001b[39m Latin Ame… Consulting             \u001b[4m4\u001b[24m\u001b[4m3\u001b[24m\u001b[4m3\u001b[24m397.                18              40.2\n"
     ]
    }
   ],
   "source": [
    "# Multi-dimensional analysis: Region and Product Category\n",
    "region_category_analysis <- company_data %>%\n",
    "  group_by(Region, Product_Category) %>%  # TODO: Group by Region and Product_Category\n",
    "  summarize(\n",
    "    # TODO: Calculate total_revenue, transaction_count, avg_profit_margin\n",
    "    total_revenue = sum(Revenue, na.rm = TRUE),\n",
    "    transaction_count = n(),\n",
    "    avg_profit_margin = mean(Profit_Margin, na.rm = TRUE),\n",
    "    .groups = 'drop'\n",
    "  ) %>%\n",
    "  # TODO: Arrange by total_revenue descending\n",
    "  arrange(desc(total_revenue))\n",
    "\n",
    "print(\"Top 10 Region-Product Category Combinations:\")\n",
    "print(head(region_category_analysis, 10))"
   ]
  },
  {
   "cell_type": "code",
   "execution_count": 23,
   "id": "c508ab48",
   "metadata": {
    "vscode": {
     "languageId": "r"
    }
   },
   "outputs": [
    {
     "name": "stdout",
     "output_type": "stream",
     "text": [
      "[1] \"Frequency Analysis:\"\n",
      "[1] \"Performance Category Distribution:\"\n",
      "\u001b[90m# A tibble: 3 × 2\u001b[39m\n",
      "  Performance_Category     n\n",
      "  \u001b[3m\u001b[90m<chr>\u001b[39m\u001b[23m                \u001b[3m\u001b[90m<int>\u001b[39m\u001b[23m\n",
      "\u001b[90m1\u001b[39m High                   113\n",
      "\u001b[90m2\u001b[39m Low                     66\n",
      "\u001b[90m3\u001b[39m Medium                 121\n",
      "[1] \"Revenue Size Distribution:\"\n",
      "\u001b[90m# A tibble: 3 × 2\u001b[39m\n",
      "  Revenue_Size     n\n",
      "  \u001b[3m\u001b[90m<chr>\u001b[39m\u001b[23m        \u001b[3m\u001b[90m<int>\u001b[39m\u001b[23m\n",
      "\u001b[90m1\u001b[39m Large          122\n",
      "\u001b[90m2\u001b[39m Medium         104\n",
      "\u001b[90m3\u001b[39m Small           74\n",
      "[1] \"Deal Size Distribution:\"\n",
      "\u001b[90m# A tibble: 3 × 2\u001b[39m\n",
      "  Deal_Size     n\n",
      "  \u001b[3m\u001b[90m<chr>\u001b[39m\u001b[23m     \u001b[3m\u001b[90m<int>\u001b[39m\u001b[23m\n",
      "\u001b[90m1\u001b[39m Bulk        159\n",
      "\u001b[90m2\u001b[39m Small        51\n",
      "\u001b[90m3\u001b[39m Standard     90\n"
     ]
    }
   ],
   "source": [
    "# Frequency analysis using count()\n",
    "print(\"Frequency Analysis:\")\n",
    "\n",
    "# TODO: Count by Performance_Category\n",
    "performance_counts <- company_data %>%\n",
    "  count(Performance_Category)\n",
    "\n",
    "print(\"Performance Category Distribution:\")\n",
    "print(performance_counts)\n",
    "\n",
    "# TODO: Count by Revenue_Size\n",
    "revenue_size_counts <- company_data %>%\n",
    "  count(Revenue_Size)\n",
    "\n",
    "print(\"Revenue Size Distribution:\")\n",
    "print(revenue_size_counts)\n",
    "\n",
    "# TODO: Count by Deal_Size\n",
    "deal_size_counts <- company_data %>%\n",
    "  count(Deal_Size)\n",
    "\n",
    "print(\"Deal Size Distribution:\")\n",
    "print(deal_size_counts)"
   ]
  },
  {
   "cell_type": "code",
   "execution_count": 24,
   "id": "6c01f673",
   "metadata": {
    "vscode": {
     "languageId": "r"
    }
   },
   "outputs": [
    {
     "name": "stdout",
     "output_type": "stream",
     "text": [
      "[1] \"Cross-Tabulation Analysis:\"\n",
      "[1] \"Performance Category vs Revenue Size:\"\n",
      "\u001b[90m# A tibble: 9 × 3\u001b[39m\n",
      "  Performance_Category Revenue_Size     n\n",
      "  \u001b[3m\u001b[90m<chr>\u001b[39m\u001b[23m                \u001b[3m\u001b[90m<chr>\u001b[39m\u001b[23m        \u001b[3m\u001b[90m<int>\u001b[39m\u001b[23m\n",
      "\u001b[90m1\u001b[39m Medium               Large           53\n",
      "\u001b[90m2\u001b[39m High                 Large           41\n",
      "\u001b[90m3\u001b[39m High                 Medium          38\n",
      "\u001b[90m4\u001b[39m Medium               Medium          36\n",
      "\u001b[90m5\u001b[39m High                 Small           34\n",
      "\u001b[90m6\u001b[39m Medium               Small           32\n",
      "\u001b[90m7\u001b[39m Low                  Medium          30\n",
      "\u001b[90m8\u001b[39m Low                  Large           28\n",
      "\u001b[90m9\u001b[39m Low                  Small            8\n",
      "[1] \"\\nUsing table() function:\"\n"
     ]
    }
   ],
   "source": [
    "# Cross-tabulation analysis\n",
    "print(\"Cross-Tabulation Analysis:\")\n",
    "\n",
    "# TODO: Create a cross-tabulation of Performance_Category vs Revenue_Size\n",
    "# Hint: Use count() with two variables, then consider using pivot_wider() or table()\n",
    "cross_tab_performance_revenue <- company_data %>%\n",
    "  count(Performance_Category, Revenue_Size, sort = TRUE)\n",
    "\n",
    "print(\"Performance Category vs Revenue Size:\")\n",
    "print(cross_tab_performance_revenue)\n",
    "\n",
    "# Alternative using base R table function\n",
    "print(\"\\nUsing table() function:\")\n",
    "# TODO: Create table(company_data$Performance_Category, company_data$Revenue_Size)\n"
   ]
  },
  {
   "cell_type": "markdown",
   "id": "5e39eb29",
   "metadata": {},
   "source": [
    "## Part 7: Business Intelligence Dashboard\n",
    "\n",
    "**Task**: Create a comprehensive business intelligence summary that combines all your analysis techniques.\n",
    "\n",
    "**Business Context**: Executive dashboards consolidate multiple analyses into actionable insights. This section simulates creating a report that would be presented to business stakeholders for strategic decision-making.\n",
    "\n",
    "**Dashboard sections to create**:\n",
    "1. **Key Performance Indicators (KPIs)**: Overall business health metrics\n",
    "2. **Top Performers**: Best regions, categories, and sales representatives\n",
    "3. **Performance Insights**: Distribution of high/medium/low performers\n",
    "4. **Efficiency Metrics**: Cost ratios, ROI, and operational efficiency\n",
    "5. **Strategic Recommendations**: Data-driven business recommendations\n",
    "\n",
    "**Hint**: Use `cat()` or `print()` statements to create formatted output that resembles a professional business report."
   ]
  },
  {
   "cell_type": "code",
   "execution_count": 26,
   "id": "f5295e7c",
   "metadata": {
    "vscode": {
     "languageId": "r"
    }
   },
   "outputs": [
    {
     "name": "stdout",
     "output_type": "stream",
     "text": [
      "\n",
      " = = = = = = = = = = = = = = = = = = = = = = = = = = = = = = = = = = = = = = = = = = = = = = = = = = = = = = = = = = = = = \n",
      "              BUSINESS INTELLIGENCE DASHBOARD\n",
      "= = = = = = = = = = = = = = = = = = = = = = = = = = = = = = = = = = = = = = = = = = = = = = = = = = = = = = = = = = = = = \n",
      "\n",
      "📊 KEY PERFORMANCE INDICATORS\n",
      "─────────────────────────────────\n",
      "\n",
      "🏆 TOP PERFORMERS\n",
      "─────────────────\n",
      "Top Region: [1] \"Europe\"\n",
      "\n",
      "Top Product Category: "
     ]
    },
    {
     "name": "stderr",
     "output_type": "stream",
     "text": [
      "Warning message:\n",
      "“Unknown or uninitialised column: `Product_Category`.”\n"
     ]
    },
    {
     "name": "stdout",
     "output_type": "stream",
     "text": [
      "NULL\n",
      "\n",
      "📈 PERFORMANCE DISTRIBUTION\n",
      "──────────────────────────\n",
      "\u001b[90m# A tibble: 1 × 4\u001b[39m\n",
      "  total_revenue total_profit avg_profit_margin revenue_share\n",
      "          \u001b[3m\u001b[90m<dbl>\u001b[39m\u001b[23m        \u001b[3m\u001b[90m<dbl>\u001b[39m\u001b[23m             \u001b[3m\u001b[90m<dbl>\u001b[39m\u001b[23m         \u001b[3m\u001b[90m<dbl>\u001b[39m\u001b[23m\n",
      "\u001b[90m1\u001b[39m      7\u001b[4m7\u001b[24m\u001b[4m7\u001b[24m\u001b[4m1\u001b[24m711.     3\u001b[4m4\u001b[24m\u001b[4m0\u001b[24m\u001b[4m7\u001b[24m512.              44.2           100\n"
     ]
    }
   ],
   "source": [
    "# Create a comprehensive business intelligence dashboard\n",
    "cat(\"\\n\", \"=\", rep(\"=\", 60), \"\\n\")\n",
    "cat(\"              BUSINESS INTELLIGENCE DASHBOARD\\n\")\n",
    "cat(\"=\", rep(\"=\", 60), \"\\n\\n\")\n",
    "\n",
    "# Section 1: Key Performance Indicators\n",
    "cat(\"📊 KEY PERFORMANCE INDICATORS\\n\")\n",
    "cat(\"─────────────────────────────────\\n\")\n",
    "\n",
    "# TODO: Calculate and display overall KPIs\n",
    "# - Total Revenue, Total Profit, Overall Profit Margin\n",
    "# - Total Transactions, Average Deal Size\n",
    "# - High-Value Customer Rate, Profitable Deal Rate\n",
    "\n",
    "kpi_summary <- company_data %>%\n",
    "  summarize(\n",
    "    # TODO: Add your KPI calculations here\n",
    "    Total_Revenue = sum(Revenue, na.rm = TRUE),\n",
    "    Total_Profit = sum(Profit, na.rm = TRUE),\n",
    "    Overall_Profit_Margin = (Total_Profit / Total_Revenue) * 100,\n",
    "    Total_Transactions = n(),\n",
    "    Average_Deal_Size = mean(Revenue, na.rm = TRUE),\n",
    "    High_Value_Customer_Rate = (sum(High_Value_Customer == \"Yes\") / n()) * 100,\n",
    "    Profitable_Deal_Rate = (sum(Profitable_Deal == \"Yes\") / n()) * 100\n",
    "  )\n",
    "\n",
    "# TODO: Display KPIs using cat() or print() with proper formatting\n",
    "\n",
    "\n",
    "# Section 2: Top Performers\n",
    "cat(\"\\n🏆 TOP PERFORMERS\\n\")\n",
    "cat(\"─────────────────\\n\")\n",
    "\n",
    "# TODO: Display top performing region\n",
    "cat(\"Top Region: \")\n",
    "print(regional_performance$Region[which.max(regional_performance$total_revenue)])\n",
    "# TODO: Get the region with highest total revenue\n",
    "\n",
    "# TODO: Display top performing product category  \n",
    "cat(\"\\nTop Product Category: \")\n",
    "print(category_performance$Product_Category[which.max(category_performance$total_revenue)])\n",
    "# TODO: Get the product category with highest total revenue\n",
    "\n",
    "# TODO: Display performance distribution\n",
    "cat(\"\\n📈 PERFORMANCE DISTRIBUTION\\n\")\n",
    "cat(\"──────────────────────────\\n\")\n",
    "print(performance_analysis)\n",
    "# TODO: Show the count and percentage of High/Medium/Low performers\n"
   ]
  },
  {
   "cell_type": "markdown",
   "id": "ad69551d",
   "metadata": {},
   "source": [
    "## Part 8: Data Validation and Quality Checks\n",
    "\n",
    "**Task**: Validate your calculated fields and check for data quality issues.\n",
    "\n",
    "**Business Context**: Data quality is paramount in business analytics. Before presenting results to stakeholders, analysts must verify that calculations are correct and identify any data anomalies that could affect decision-making.\n",
    "\n",
    "## Part 8: Data Validation and Quality Checks\n",
    "\n",
    "**Task**: Validate your calculated fields and check for data quality issues.\n",
    "\n",
    "**Business Context**: Data quality is paramount in business analytics. Before presenting results to stakeholders, analysts must verify that calculations are correct and identify any data anomalies that could affect decision-making. In professional settings, data validation is often the difference between accurate insights and costly business mistakes.\n",
    "\n",
    "**Why Validation is Critical:**\n",
    "- **Stakeholder Trust**: Executives need confidence in your analysis\n",
    "- **Decision Impact**: Business decisions based on incorrect data can be costly\n",
    "- **Regulatory Compliance**: Many industries require data accuracy documentation\n",
    "- **Professional Credibility**: Accurate analysis establishes your reputation as a reliable analyst\n",
    "\n",
    "**Validation Methodology:**\n",
    "1. **Calculation Verification**: Mathematical accuracy of derived metrics\n",
    "2. **Range Validation**: Ensure values fall within business-logical ranges\n",
    "3. **Outlier Detection**: Identify unusual values that might indicate data issues\n",
    "4. **Consistency Checks**: Verify that related metrics align logically\n",
    "5. **Missing Value Analysis**: Check for gaps in critical business data\n",
    "6. **Business Logic Testing**: Ensure results make practical business sense\n",
    "\n",
    "**Professional Validation Techniques:**\n",
    "- Use `all.equal()` for precise mathematical verification\n",
    "- Apply `summary()` to identify outliers and impossible values\n",
    "- Implement logical tests for business rule compliance\n",
    "- Cross-check totals and subtotals for internal consistency\n",
    "- Validate categorical assignments against their criteria\n",
    "\n",
    "**Hint**: Think like a skeptical executive - question every calculation and assumption. If you can't defend your numbers, neither should your stakeholders trust them."
   ]
  },
  {
   "cell_type": "code",
   "execution_count": 27,
   "id": "5f8f9dfe",
   "metadata": {
    "vscode": {
     "languageId": "r"
    }
   },
   "outputs": [
    {
     "name": "stdout",
     "output_type": "stream",
     "text": [
      "📋 COMPREHENSIVE DATA VALIDATION REPORT\n",
      "════════════════════════════════════════\n",
      "\n",
      "🧮 SECTION 1: CALCULATION VERIFICATION\n",
      "─────────────────────────────────────────\n",
      "✓ Profit calculation (Revenue - Cost): ✅ PASSED \n",
      "✓ Profit Margin calculation: ✅ PASSED \n",
      "✓ ROI calculation: ✅ PASSED \n",
      "\n",
      "📊 SECTION 2: RANGE AND OUTLIER VALIDATION\n",
      "──────────────────────────────────────────────\n",
      "⚠️  Extreme profit margins (>100% or <-50%):  0  transactions\n",
      "⚠️  Negative revenue values:  0  transactions\n",
      "⚠️  Invalid units sold (≤0):  0  transactions\n",
      "\n",
      "🔍 SECTION 3: MISSING DATA ANALYSIS\n",
      "──────────────────────────────────────\n",
      "Missing value analysis:\n",
      "  • Missing Revenue values:  0 \n",
      "  • Missing Cost values:  0 \n",
      "  • Missing Units_Sold values:  0 \n",
      "  • Missing Profit values:  0 \n",
      "\n",
      "🏷️  SECTION 4: CATEGORICAL VARIABLE VALIDATION\n",
      "─────────────────────────────────────────────────\n",
      "✓ High Performance category accuracy:  113 / 113  correctly assigned\n",
      "✓ Large Revenue_Size category accuracy:  122 / 122  correctly assigned\n",
      "\n",
      "📈 SECTION 5: SUMMARY STATISTICS REVIEW\n",
      "─────────────────────────────────────────\n",
      "Key financial metrics summary (check for reasonableness):\n",
      "\n",
      "Profit Margin Distribution:\n",
      "   Min. 1st Qu.  Median    Mean 3rd Qu.    Max. \n",
      "  20.13   31.17   43.70   44.22   56.55   69.93 \n",
      "\n",
      "ROI Distribution:\n",
      "   Min. 1st Qu.  Median    Mean 3rd Qu.    Max. \n",
      "  25.20   45.28   77.63   93.49  130.16  232.57 \n",
      "\n",
      "💼 SECTION 6: BUSINESS LOGIC VALIDATION\n",
      "─────────────────────────────────────────\n",
      "✓ Cost_Ratio + Profit_Margin = 100% check:  0  transactions outside tolerance\n",
      "✓ Revenue_Per_Unit calculation: ✅ PASSED \n",
      "\n",
      "📋 VALIDATION SUMMARY REPORT\n",
      "═══════════════════════════════\n",
      "Data validation completed. Review all sections above before proceeding.\n",
      "\n",
      "🎯 Next Steps:\n",
      "1. Investigate any failed validations or extreme values\n",
      "2. Document validation results for stakeholder presentation\n",
      "3. Consider data cleaning if significant issues are found\n",
      "4. Proceed with analysis only after validation passes\n",
      "\n",
      "⚠️  Remember: Never present unvalidated results to business stakeholders!\n"
     ]
    }
   ],
   "source": [
    "# Comprehensive Data Validation and Quality Assurance\n",
    "cat(\"📋 COMPREHENSIVE DATA VALIDATION REPORT\\n\")\n",
    "cat(\"════════════════════════════════════════\\n\\n\")\n",
    "\n",
    "# SECTION 1: Mathematical Calculation Verification\n",
    "cat(\"🧮 SECTION 1: CALCULATION VERIFICATION\\n\")\n",
    "cat(\"─────────────────────────────────────────\\n\")\n",
    "\n",
    "# 1. Validate profit calculation (Profit = Revenue - Cost)\n",
    "# TODO: Check if Profit equals Revenue - Cost using all.equal()\n",
    "profit_validation <- all.equal(company_data$Profit, company_data$Revenue - company_data$Cost)\n",
    "cat(\"✓ Profit calculation (Revenue - Cost): \")\n",
    "cat(ifelse(profit_validation == TRUE, \"✅ PASSED\", \"❌ FAILED\"), \"\\n\")\n",
    "\n",
    "# 2. Validate profit margin calculation ((Profit/Revenue)*100)\n",
    "# TODO: Check if Profit_Margin equals (Profit/Revenue)*100\n",
    "expected_profit_margin <- (company_data$Profit / company_data$Revenue) * 100\n",
    "margin_validation <- all.equal(company_data$Profit_Margin, expected_profit_margin)\n",
    "cat(\"✓ Profit Margin calculation: \")\n",
    "cat(ifelse(margin_validation == TRUE, \"✅ PASSED\", \"❌ FAILED\"), \"\\n\")\n",
    "\n",
    "# 3. Validate ROI calculation ((Profit/Cost)*100)\n",
    "# TODO: Check if ROI equals (Profit/Cost)*100\n",
    "expected_roi <- (company_data$Profit / company_data$Cost) * 100\n",
    "roi_validation <- all.equal(company_data$ROI, expected_roi)\n",
    "cat(\"✓ ROI calculation: \")\n",
    "cat(ifelse(roi_validation == TRUE, \"✅ PASSED\", \"❌ FAILED\"), \"\\n\")\n",
    "\n",
    "# SECTION 2: Range and Outlier Analysis\n",
    "cat(\"\\n📊 SECTION 2: RANGE AND OUTLIER VALIDATION\\n\")\n",
    "cat(\"──────────────────────────────────────────────\\n\")\n",
    "\n",
    "# 4. Check for extreme profit margins (business logic: should rarely exceed 100% or be below -50%)\n",
    "# TODO: Count transactions with extreme profit margins (>100% or <-50%)\n",
    "extreme_margins <- sum(company_data$Profit_Margin > 100 | company_data$Profit_Margin < -50, na.rm = TRUE)\n",
    "cat(\"⚠️  Extreme profit margins (>100% or <-50%): \", extreme_margins, \" transactions\\n\")\n",
    "\n",
    "# 5. Check for impossible business values\n",
    "# TODO: Count negative revenues (impossible in normal business)\n",
    "negative_revenue <- sum(company_data$Revenue < 0, na.rm = TRUE)\n",
    "cat(\"⚠️  Negative revenue values: \", negative_revenue, \" transactions\\n\")\n",
    "\n",
    "# TODO: Count zero or negative units sold (business logic violation)\n",
    "invalid_units <- sum(company_data$Units_Sold <= 0, na.rm = TRUE)\n",
    "cat(\"⚠️  Invalid units sold (≤0): \", invalid_units, \" transactions\\n\")\n",
    "\n",
    "# SECTION 3: Missing Data Analysis\n",
    "cat(\"\\n🔍 SECTION 3: MISSING DATA ANALYSIS\\n\")\n",
    "cat(\"──────────────────────────────────────\\n\")\n",
    "\n",
    "# 6. Check for missing values in critical business columns\n",
    "# TODO: Count missing values in Revenue, Cost, and Units_Sold\n",
    "cat(\"Missing value analysis:\\n\")\n",
    "missing_revenue <- sum(is.na(company_data$Revenue))\n",
    "missing_cost <- sum(is.na(company_data$Cost))\n",
    "missing_units <- sum(is.na(company_data$Units_Sold))\n",
    "missing_profit <- sum(is.na(company_data$Profit))\n",
    "\n",
    "cat(\"  • Missing Revenue values: \", missing_revenue, \"\\n\")\n",
    "cat(\"  • Missing Cost values: \", missing_cost, \"\\n\") \n",
    "cat(\"  • Missing Units_Sold values: \", missing_units, \"\\n\")\n",
    "cat(\"  • Missing Profit values: \", missing_profit, \"\\n\")\n",
    "\n",
    "# SECTION 4: Categorical Variable Validation\n",
    "cat(\"\\n🏷️  SECTION 4: CATEGORICAL VARIABLE VALIDATION\\n\")\n",
    "cat(\"─────────────────────────────────────────────────\\n\")\n",
    "\n",
    "# 7. Validate Performance_Category assignments\n",
    "# TODO: Check if High performers actually have Profit_Margin > 50\n",
    "high_perf_correct <- sum(company_data$Performance_Category == \"High\" & company_data$Profit_Margin > 50, na.rm = TRUE)\n",
    "high_perf_total <- sum(company_data$Performance_Category == \"High\", na.rm = TRUE)\n",
    "cat(\"✓ High Performance category accuracy: \", high_perf_correct, \"/\", high_perf_total, \" correctly assigned\\n\")\n",
    "\n",
    "# TODO: Check if Revenue_Size categories match their criteria\n",
    "large_revenue_correct <- sum(company_data$Revenue_Size == \"Large\" & company_data$Revenue > 30000, na.rm = TRUE)\n",
    "large_revenue_total <- sum(company_data$Revenue_Size == \"Large\", na.rm = TRUE)\n",
    "cat(\"✓ Large Revenue_Size category accuracy: \", large_revenue_correct, \"/\", large_revenue_total, \" correctly assigned\\n\")\n",
    "\n",
    "# SECTION 5: Summary Statistics Review\n",
    "cat(\"\\n📈 SECTION 5: SUMMARY STATISTICS REVIEW\\n\")\n",
    "cat(\"─────────────────────────────────────────\\n\")\n",
    "\n",
    "cat(\"Key financial metrics summary (check for reasonableness):\\n\")\n",
    "# TODO: Display summary statistics for Profit_Margin and ROI\n",
    "cat(\"\\nProfit Margin Distribution:\\n\")\n",
    "print(summary(company_data$Profit_Margin))\n",
    "\n",
    "cat(\"\\nROI Distribution:\\n\")\n",
    "print(summary(company_data$ROI))\n",
    "\n",
    "# SECTION 6: Business Logic Validation\n",
    "cat(\"\\n💼 SECTION 6: BUSINESS LOGIC VALIDATION\\n\")\n",
    "cat(\"─────────────────────────────────────────\\n\")\n",
    "\n",
    "# 8. Check if Cost_Ratio + Profit_Margin approximately equals 100%\n",
    "# TODO: Verify that Cost_Ratio + Profit_Margin ≈ 100% (allowing for rounding)\n",
    "total_percentage_check <- abs((company_data$Cost_Ratio + company_data$Profit_Margin) - 100)\n",
    "percentage_errors <- sum(total_percentage_check > 1, na.rm = TRUE)  # Allow 1% tolerance for rounding\n",
    "cat(\"✓ Cost_Ratio + Profit_Margin = 100% check: \", percentage_errors, \" transactions outside tolerance\\n\")\n",
    "\n",
    "# 9. Verify Revenue_Per_Unit and Cost_Per_Unit calculations\n",
    "# TODO: Check if Revenue_Per_Unit = Revenue / Units_Sold\n",
    "expected_revenue_per_unit <- company_data$Revenue / company_data$Units_Sold\n",
    "revenue_per_unit_check <- all.equal(company_data$Revenue_Per_Unit, expected_revenue_per_unit)\n",
    "cat(\"✓ Revenue_Per_Unit calculation: \")\n",
    "cat(ifelse(revenue_per_unit_check == TRUE, \"✅ PASSED\", \"❌ FAILED\"), \"\\n\")\n",
    "\n",
    "# VALIDATION SUMMARY\n",
    "cat(\"\\n📋 VALIDATION SUMMARY REPORT\\n\")\n",
    "cat(\"═══════════════════════════════\\n\")\n",
    "cat(\"Data validation completed. Review all sections above before proceeding.\\n\")\n",
    "cat(\"\\n🎯 Next Steps:\\n\")\n",
    "cat(\"1. Investigate any failed validations or extreme values\\n\")\n",
    "cat(\"2. Document validation results for stakeholder presentation\\n\")\n",
    "cat(\"3. Consider data cleaning if significant issues are found\\n\")\n",
    "cat(\"4. Proceed with analysis only after validation passes\\n\")\n",
    "cat(\"\\n⚠️  Remember: Never present unvalidated results to business stakeholders!\\n\")"
   ]
  },
  {
   "cell_type": "markdown",
   "id": "07f1fbcc",
   "metadata": {},
   "source": [
    "## Part 9: Business Insights and Recommendations\n",
    "\n",
    "**Task**: Synthesize your analysis into actionable business insights and strategic recommendations.\n",
    "\n",
    "**Business Context**: The ultimate goal of data analysis is to drive business decisions. This section requires you to think like a business consultant, translating your technical findings into strategic recommendations that stakeholders can act upon.\n",
    "\n",
    "**Required deliverables**:\n",
    "1. **Key Findings**: Top 3-5 most important insights from your analysis\n",
    "2. **Performance Gaps**: Areas where the business is underperforming\n",
    "3. **Opportunities**: Segments or regions with growth potential  \n",
    "4. **Strategic Recommendations**: Specific, actionable suggestions\n",
    "5. **Risk Factors**: Data-driven identification of potential business risks\n",
    "\n",
    "**Hint**: Frame your insights in business terms, focusing on revenue impact, efficiency improvements, and strategic opportunities rather than just statistical findings."
   ]
  },
  {
   "cell_type": "code",
   "execution_count": 31,
   "id": "39e61cb5",
   "metadata": {
    "vscode": {
     "languageId": "r"
    }
   },
   "outputs": [
    {
     "name": "stdout",
     "output_type": "stream",
     "text": [
      "💡 BUSINESS INSIGHTS & RECOMMENDATIONS\n",
      "════════════════════════════════════════\n",
      "\n",
      "🔍 KEY FINDINGS:\n",
      "─────────────────\n",
      "1. Top Region:  Europe  generates $ 2,224,182  ( 28.6 % of total revenue)\n"
     ]
    },
    {
     "name": "stderr",
     "output_type": "stream",
     "text": [
      "Warning message:\n",
      "“Unknown or uninitialised column: `Product_Category`.”\n"
     ]
    },
    {
     "name": "stdout",
     "output_type": "stream",
     "text": [
      "2. Top Product Category:   generates $ 7,771,711 \n",
      "3. Overall Profit Margin:  43.85 %\n",
      "4. High-Value Customer Rate:  51.33 % of transactions\n",
      "\n",
      "💰 PERFORMANCE ANALYSIS:\n",
      "────────────────────────\n",
      "\u001b[90m# A tibble: 3 × 3\u001b[39m\n",
      "  Performance_Category     n Percentage\n",
      "  \u001b[3m\u001b[90m<chr>\u001b[39m\u001b[23m                \u001b[3m\u001b[90m<int>\u001b[39m\u001b[23m      \u001b[3m\u001b[90m<dbl>\u001b[39m\u001b[23m\n",
      "\u001b[90m1\u001b[39m High                   113       37.7\n",
      "\u001b[90m2\u001b[39m Low                     66       22  \n",
      "\u001b[90m3\u001b[39m Medium                 121       40.3\n",
      "\n",
      "🎯 STRATEGIC RECOMMENDATIONS:\n",
      "──────────────────────────────\n",
      "1. Focus expansion efforts on top-performing regions and product categories\n",
      "2. Investigate success factors from high-performing segments for replication\n",
      "3. Implement makreting to target the high-value customers\n",
      "4. Create a program to increase sales in lower performing areas\n",
      "5. Increase the data collection to improve data accuracy\n",
      "\n",
      "⚠️  RISK FACTORS & OPPORTUNITIES:\n",
      "──────────────────────────────────\n"
     ]
    }
   ],
   "source": [
    "# Generate business insights and recommendations\n",
    "cat(\"💡 BUSINESS INSIGHTS & RECOMMENDATIONS\\n\")\n",
    "cat(\"════════════════════════════════════════\\n\\n\")\n",
    "\n",
    "cat(\"🔍 KEY FINDINGS:\\n\")\n",
    "cat(\"─────────────────\\n\")\n",
    "\n",
    "# TODO: Identify and present your top 3-5 key findings\n",
    "# For example:\n",
    "# 1. Which region generates the most revenue?\n",
    "# 2. What percentage of deals are highly profitable?\n",
    "# 3. Which product category has the best margins?\n",
    "# 4. How many transactions fall into each performance category?\n",
    "\n",
    "# Find top performing region\n",
    "top_region_data <- regional_performance %>% slice(1)\n",
    "cat(\"1. Top Region: \", top_region_data$Region, \" generates $\", \n",
    "    format(top_region_data$total_revenue, big.mark = \",\"), \n",
    "    \" (\", round(top_region_data$revenue_share, 1), \"% of total revenue)\\n\")\n",
    "\n",
    "# TODO: Add 3-4 more key findings using your analysis results\n",
    "cat(\"2. Top Product Category: \", category_performance$Product_Category[which.max(category_performance$total_revenue)], \n",
    "    \" generates $\", format(max(category_performance$total_revenue), big.mark = \",\"), \"\\n\")\n",
    "cat(\"3. Overall Profit Margin: \", round(kpi_summary$Overall_Profit_Margin, 2), \"%\\n\")\n",
    "cat(\"4. High-Value Customer Rate: \", round(kpi_summary$High_Value_Customer_Rate, 2),\n",
    " \"% of transactions\\n\")\n",
    "\n",
    "\n",
    "cat(\"\\n💰 PERFORMANCE ANALYSIS:\\n\")\n",
    "cat(\"────────────────────────\\n\")\n",
    "\n",
    "# TODO: Analyze the distribution of performance categories\n",
    "# What percentage are high/medium/low performers?\n",
    "Percentage_performance <- performance_counts %>%\n",
    "  mutate(Percentage = (n / sum(n)) * 100)\n",
    "print(Percentage_performance)\n",
    "\n",
    "cat(\"\\n🎯 STRATEGIC RECOMMENDATIONS:\\n\") \n",
    "cat(\"──────────────────────────────\\n\")\n",
    "\n",
    "# TODO: Provide 4-5 specific, actionable recommendations based on your analysis\n",
    "cat(\"1. Focus expansion efforts on top-performing regions and product categories\\n\")\n",
    "cat(\"2. Investigate success factors from high-performing segments for replication\\n\")\n",
    "# TODO: Add 3 more recommendations\n",
    "cat(\"3. Implement makreting to target the high-value customers\\n\")\n",
    "cat(\"4. Create a program to increase sales in lower performing areas\\n\")\n",
    "cat(\"5. Increase the data collection to improve data accuracy\\n\")\n",
    "\n",
    "\n",
    "cat(\"\\n⚠️  RISK FACTORS & OPPORTUNITIES:\\n\")\n",
    "cat(\"──────────────────────────────────\\n\")\n",
    "\n",
    "# TODO: Identify potential risks and opportunities based on your data analysis\n",
    "\n"
   ]
  },
  {
   "cell_type": "markdown",
   "id": "383b31ce",
   "metadata": {},
   "source": [
    "## Reflection Questions\n",
    "\n",
    "**Task**: Answer the following questions to demonstrate your understanding of the business applications of data transformation.\n",
    "\n",
    "**Business Context**: Reflection is a critical part of the learning process in data analytics. Understanding not just how to perform analyses, but when and why to use different techniques, distinguishes proficient analysts from experts.\n",
    "\n",
    "**Questions to address**:\n",
    "\n",
    "1. **Technical Mastery**: Which dplyr function (mutate, summarize, group_by, count) did you find most powerful for business analysis, and why?\n",
    "\n",
    "2. **Business Impact**: What was the most surprising or valuable insight you discovered in your analysis?\n",
    "\n",
    "3. **Strategic Thinking**: If you were presenting these findings to a company executive, which 3 insights would you prioritize and why?\n",
    "\n",
    "4. **Methodology**: How did grouping and segmentation help reveal patterns that weren't visible in the raw data?\n",
    "\n",
    "5. **Future Applications**: What additional business questions could you answer with this dataset using the techniques you've learned?\n",
    "\n",
    "**Instructions**: Write thoughtful, paragraph-length responses that demonstrate both technical understanding and business acumen."
   ]
  },
  {
   "cell_type": "markdown",
   "id": "c3f3aabf",
   "metadata": {},
   "source": [
    "### Reflection Responses\n",
    "\n",
    "**1. Most Powerful Function for Business Analysis:**\n",
    "\n",
    "I found that the mutate function was the most powerful. It allows you to make new variables all in one step\n",
    "\n",
    "**2. Most Valuable Business Insight:**\n",
    "\n",
    "[Write your response here - identify the insight that would be most actionable for business decision-making]\n",
    "\n",
    "**3. Top 3 Insights for Executive Presentation:**\n",
    "\n",
    "[Write your response here - prioritize insights based on revenue impact, strategic importance, and actionability]\n",
    "\n",
    "**4. Value of Grouping and Segmentation:**\n",
    "\n",
    "The grouping allows fro two columns to be arranged right next to each other which makes it wasier to directly compare the two. \n",
    "\n",
    "**5. Future Business Applications:**\n",
    "\n"
   ]
  },
  {
   "cell_type": "markdown",
   "id": "bad49f6e",
   "metadata": {},
   "source": [
    "## Submission Checklist\n",
    "\n",
    "Before submitting your homework, ensure you have completed all sections:\n",
    "\n",
    "### Technical Requirements\n",
    "- [ ] **Part 1**: Successfully imported data and performed initial exploration\n",
    "- [ ] **Part 2**: Created all required financial metrics using mutate()\n",
    "- [ ] **Part 3**: Developed categorical variables for business segmentation  \n",
    "- [ ] **Part 4**: Generated comprehensive summary statistics\n",
    "- [ ] **Part 5**: Performed grouped analysis by multiple business dimensions\n",
    "- [ ] **Part 6**: Conducted frequency analysis and cross-tabulations\n",
    "- [ ] **Part 7**: Created a professional business intelligence dashboard\n",
    "- [ ] **Part 8**: Validated data quality and calculation accuracy\n",
    "- [ ] **Part 9**: Synthesized findings into business insights and recommendations\n",
    "\n",
    "### Code Quality\n",
    "- [ ] All code sections are completed with working R code\n",
    "- [ ] Code is well-commented and follows best practices\n",
    "- [ ] Variable names are meaningful and consistent\n",
    "- [ ] Proper use of the pipe operator (%>%) for readable code chains\n",
    "- [ ] Appropriate use of .groups = 'drop' after group_by operations\n",
    "\n",
    "### Business Analysis\n",
    "- [ ] Analysis demonstrates understanding of business context\n",
    "- [ ] Insights are presented in business-friendly language\n",
    "- [ ] Recommendations are specific and actionable\n",
    "- [ ] Cross-dimensional analysis reveals meaningful patterns\n",
    "- [ ] Dashboard provides comprehensive performance overview\n",
    "\n",
    "### Reflection and Learning\n",
    "- [ ] Reflection questions answered thoughtfully and completely\n",
    "- [ ] Responses demonstrate both technical and business understanding\n",
    "- [ ] Examples from your own analysis support your reflections\n",
    "\n",
    "**Final Note**: This homework simulates real-world business analytics work. Focus not just on getting the right technical results, but on developing the analytical thinking skills that drive business value. In professional settings, your ability to translate data into actionable insights is what makes you valuable to an organization.\n",
    "\n",
    "**Good luck, and remember**: Great analysts don't just manipulate data—they uncover the stories that data tells about business performance and opportunities!\n",
    "\n",
    "---\n",
    "\n",
    "## 🚀 Ready to Submit?\n",
    "\n",
    "### Easy Submission Steps (No Command Line Required!):\n",
    "\n",
    "1. **Save this notebook** (Ctrl+S or File → Save)\n",
    "\n",
    "2. **Use VS Code Source Control**:\n",
    "   - Click the **Source Control** icon in the left sidebar (tree branch symbol)\n",
    "   - Click the **\"+\"** button next to your notebook file\n",
    "   - Type a message: `Submit homework 2 - Data Cleaning - [Your Name]`\n",
    "   - Click **\"Commit\"** \n",
    "   - Click **\"Sync Changes\"** or **\"Push\"**\n",
    "\n",
    "3. **Verify on GitHub**: Go to your repository online and confirm your notebook appears with your completed work\n",
    "\n",
    "**📖 Need help?** See [GITHUB_CLASSROOM_SUBMISSION.md](../../GITHUB_CLASSROOM_SUBMISSION.md) for detailed instructions.\n"
   ]
  }
 ],
 "metadata": {
  "kernelspec": {
   "display_name": "R",
   "language": "R",
   "name": "ir"
  },
  "language_info": {
   "codemirror_mode": "r",
   "file_extension": ".r",
   "mimetype": "text/x-r-source",
   "name": "R",
   "pygments_lexer": "r",
   "version": "4.4.3"
  }
 },
 "nbformat": 4,
 "nbformat_minor": 5
}
