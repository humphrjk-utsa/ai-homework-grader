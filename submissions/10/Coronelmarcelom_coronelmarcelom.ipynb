{
 "cells": [
  {
   "cell_type": "markdown",
   "id": "3d75e089",
   "metadata": {},
   "source": [
    "# Homework 4: Data Transformation with dplyr - Part 2 (Mutate, Summarize, Group_by, Count)\n",
    "\n",
    "Welcome to Homework 4! This assignment builds on your foundational dplyr skills by introducing advanced data transformation techniques essential for business analytics.\n",
    "\n",
    "## Learning Objectives\n",
    "\n",
    "By completing this homework, you will:\n",
    "- **Master mutate()**: Create new variables and calculated fields for business insights\n",
    "- **Apply summarize()**: Generate aggregate statistics and key performance indicators (KPIs)\n",
    "- **Utilize group_by()**: Perform grouped analysis across business dimensions\n",
    "- **Implement count()**: Conduct frequency analysis and cross-tabulations\n",
    "- **Develop business intelligence**: Combine functions to create comprehensive analytics\n",
    "\n",
    "## Business Context\n",
    "\n",
    "You'll be working with real company sales data to perform the type of analysis that drives business decisions. This includes:\n",
    "- **Financial Analysis**: Calculate profit margins, ROI, and efficiency metrics\n",
    "- **Performance Segmentation**: Categorize transactions and customers by performance\n",
    "- **Regional Analysis**: Compare performance across geographic regions\n",
    "- **Product Analysis**: Evaluate product category performance\n",
    "- **Time-based Analysis**: Identify trends and seasonal patterns\n",
    "- **Sales Rep Performance**: Assess individual representative effectiveness\n",
    "\n",
    "## Dataset Information\n",
    "\n",
    "You'll be working with `company_sales_data.csv` which contains:\n",
    "- **Sales transactions** with revenue, cost, and unit data\n",
    "- **Geographic information** with regional breakdowns\n",
    "- **Product categories** for portfolio analysis\n",
    "- **Sales representative** performance data\n",
    "- **Date information** for trend analysis\n",
    "- **Customer metrics** for segmentation analysis\n",
    "\n",
    "## Instructions\n",
    "\n",
    "Complete each section by writing R code in the designated areas. Focus on creating clean, well-commented code that demonstrates your understanding of both the technical concepts and business applications.\n",
    "\n",
    "**Remember**: In real business analytics, you're not just manipulating data - you're uncovering insights that drive strategic decisions!"
   ]
  },
  {
   "cell_type": "markdown",
   "id": "229eb316",
   "metadata": {},
   "source": [
    "## Part 1: Setup and Data Import\n",
    "\n",
    "**Task**: Load the necessary packages and import your dataset.\n",
    "\n",
    "**Business Context**: Every analysis begins with proper data setup. In professional environments, data scientists spend significant time ensuring data is properly loaded and validated before analysis begins.\n",
    "\n",
    "**What you need to do**:\n",
    "1. Load the `tidyverse` package (which includes dplyr)\n",
    "2. Import the `company_sales_data.csv` file \n",
    "3. Examine the structure and basic properties of your data\n",
    "4. Perform initial data validation\n",
    "\n",
    "**Hint**: Use `read_csv()` for better data type detection, and always examine your data structure with `str()`, `summary()`, and `head()` functions."
   ]
  },
  {
   "cell_type": "code",
   "execution_count": 77,
   "id": "f99cbb0e",
   "metadata": {
    "vscode": {
     "languageId": "r"
    }
   },
   "outputs": [
    {
     "data": {
      "text/html": [
       "'/workspaces/Fall2025-MS3083-Base_Template/data'"
      ],
      "text/latex": [
       "'/workspaces/Fall2025-MS3083-Base\\_Template/data'"
      ],
      "text/markdown": [
       "'/workspaces/Fall2025-MS3083-Base_Template/data'"
      ],
      "text/plain": [
       "[1] \"/workspaces/Fall2025-MS3083-Base_Template/data\""
      ]
     },
     "metadata": {},
     "output_type": "display_data"
    }
   ],
   "source": [
    "#check your working dirctory\n",
    "setwd('/workspaces/Fall2025-MS3083-Base_Template/data')\n",
    "getwd()"
   ]
  },
  {
   "cell_type": "code",
   "execution_count": 78,
   "id": "4b6c5404",
   "metadata": {
    "vscode": {
     "languageId": "r"
    }
   },
   "outputs": [
    {
     "name": "stdout",
     "output_type": "stream",
     "text": [
      "'data.frame':\t300 obs. of  8 variables:\n",
      " $ TransactionID   : int  1 2 3 4 5 6 7 8 9 10 ...\n",
      " $ Sales_Rep_Name  : chr  \"Carol Davis\" \"Carol Davis\" \"Carol Davis\" \"Bob Smith\" ...\n",
      " $ Region          : chr  \"Latin America\" \"Europe\" \"Europe\" \"Europe\" ...\n",
      " $ Product_Category: chr  \"Services\" \"Hardware\" \"Services\" \"Hardware\" ...\n",
      " $ Revenue         : num  20751 32360 39268 28865 3932 ...\n",
      " $ Cost            : num  12253 24595 23291 12429 1778 ...\n",
      " $ Units_Sold      : int  78 13 34 90 63 26 25 1 20 15 ...\n",
      " $ Sale_Date       : chr  \"2023-04-24\" \"2023-06-09\" \"2023-03-25\" \"2023-04-11\" ...\n"
     ]
    },
    {
     "data": {
      "text/html": [
       "<table class=\"dataframe\">\n",
       "<caption>A data.frame: 6 × 8</caption>\n",
       "<thead>\n",
       "\t<tr><th></th><th scope=col>TransactionID</th><th scope=col>Sales_Rep_Name</th><th scope=col>Region</th><th scope=col>Product_Category</th><th scope=col>Revenue</th><th scope=col>Cost</th><th scope=col>Units_Sold</th><th scope=col>Sale_Date</th></tr>\n",
       "\t<tr><th></th><th scope=col>&lt;int&gt;</th><th scope=col>&lt;chr&gt;</th><th scope=col>&lt;chr&gt;</th><th scope=col>&lt;chr&gt;</th><th scope=col>&lt;dbl&gt;</th><th scope=col>&lt;dbl&gt;</th><th scope=col>&lt;int&gt;</th><th scope=col>&lt;chr&gt;</th></tr>\n",
       "</thead>\n",
       "<tbody>\n",
       "\t<tr><th scope=row>1</th><td>1</td><td>Carol Davis </td><td>Latin America</td><td>Services</td><td>20750.92</td><td>12253.36</td><td>78</td><td>2023-04-24</td></tr>\n",
       "\t<tr><th scope=row>2</th><td>2</td><td>Carol Davis </td><td>Europe       </td><td>Hardware</td><td>32359.98</td><td>24595.20</td><td>13</td><td>2023-06-09</td></tr>\n",
       "\t<tr><th scope=row>3</th><td>3</td><td>Carol Davis </td><td>Europe       </td><td>Services</td><td>39268.40</td><td>23291.09</td><td>34</td><td>2023-03-25</td></tr>\n",
       "\t<tr><th scope=row>4</th><td>4</td><td>Bob Smith   </td><td>Europe       </td><td>Hardware</td><td>28865.09</td><td>12428.74</td><td>90</td><td>2023-04-11</td></tr>\n",
       "\t<tr><th scope=row>5</th><td>5</td><td>Frank Miller</td><td>Latin America</td><td>Software</td><td> 3932.36</td><td> 1778.18</td><td>63</td><td>2023-08-26</td></tr>\n",
       "\t<tr><th scope=row>6</th><td>6</td><td>Carol Davis </td><td>Latin America</td><td>Services</td><td>48209.75</td><td>26052.04</td><td>26</td><td>2023-09-04</td></tr>\n",
       "</tbody>\n",
       "</table>\n"
      ],
      "text/latex": [
       "A data.frame: 6 × 8\n",
       "\\begin{tabular}{r|llllllll}\n",
       "  & TransactionID & Sales\\_Rep\\_Name & Region & Product\\_Category & Revenue & Cost & Units\\_Sold & Sale\\_Date\\\\\n",
       "  & <int> & <chr> & <chr> & <chr> & <dbl> & <dbl> & <int> & <chr>\\\\\n",
       "\\hline\n",
       "\t1 & 1 & Carol Davis  & Latin America & Services & 20750.92 & 12253.36 & 78 & 2023-04-24\\\\\n",
       "\t2 & 2 & Carol Davis  & Europe        & Hardware & 32359.98 & 24595.20 & 13 & 2023-06-09\\\\\n",
       "\t3 & 3 & Carol Davis  & Europe        & Services & 39268.40 & 23291.09 & 34 & 2023-03-25\\\\\n",
       "\t4 & 4 & Bob Smith    & Europe        & Hardware & 28865.09 & 12428.74 & 90 & 2023-04-11\\\\\n",
       "\t5 & 5 & Frank Miller & Latin America & Software &  3932.36 &  1778.18 & 63 & 2023-08-26\\\\\n",
       "\t6 & 6 & Carol Davis  & Latin America & Services & 48209.75 & 26052.04 & 26 & 2023-09-04\\\\\n",
       "\\end{tabular}\n"
      ],
      "text/markdown": [
       "\n",
       "A data.frame: 6 × 8\n",
       "\n",
       "| <!--/--> | TransactionID &lt;int&gt; | Sales_Rep_Name &lt;chr&gt; | Region &lt;chr&gt; | Product_Category &lt;chr&gt; | Revenue &lt;dbl&gt; | Cost &lt;dbl&gt; | Units_Sold &lt;int&gt; | Sale_Date &lt;chr&gt; |\n",
       "|---|---|---|---|---|---|---|---|---|\n",
       "| 1 | 1 | Carol Davis  | Latin America | Services | 20750.92 | 12253.36 | 78 | 2023-04-24 |\n",
       "| 2 | 2 | Carol Davis  | Europe        | Hardware | 32359.98 | 24595.20 | 13 | 2023-06-09 |\n",
       "| 3 | 3 | Carol Davis  | Europe        | Services | 39268.40 | 23291.09 | 34 | 2023-03-25 |\n",
       "| 4 | 4 | Bob Smith    | Europe        | Hardware | 28865.09 | 12428.74 | 90 | 2023-04-11 |\n",
       "| 5 | 5 | Frank Miller | Latin America | Software |  3932.36 |  1778.18 | 63 | 2023-08-26 |\n",
       "| 6 | 6 | Carol Davis  | Latin America | Services | 48209.75 | 26052.04 | 26 | 2023-09-04 |\n",
       "\n"
      ],
      "text/plain": [
       "  TransactionID Sales_Rep_Name Region        Product_Category Revenue  Cost    \n",
       "1 1             Carol Davis    Latin America Services         20750.92 12253.36\n",
       "2 2             Carol Davis    Europe        Hardware         32359.98 24595.20\n",
       "3 3             Carol Davis    Europe        Services         39268.40 23291.09\n",
       "4 4             Bob Smith      Europe        Hardware         28865.09 12428.74\n",
       "5 5             Frank Miller   Latin America Software          3932.36  1778.18\n",
       "6 6             Carol Davis    Latin America Services         48209.75 26052.04\n",
       "  Units_Sold Sale_Date \n",
       "1 78         2023-04-24\n",
       "2 13         2023-06-09\n",
       "3 34         2023-03-25\n",
       "4 90         2023-04-11\n",
       "5 63         2023-08-26\n",
       "6 26         2023-09-04"
      ]
     },
     "metadata": {},
     "output_type": "display_data"
    },
    {
     "data": {
      "text/plain": [
       " TransactionID    Sales_Rep_Name        Region          Product_Category  \n",
       " Min.   :  1.00   Length:300         Length:300         Length:300        \n",
       " 1st Qu.: 75.75   Class :character   Class :character   Class :character  \n",
       " Median :150.50   Mode  :character   Mode  :character   Mode  :character  \n",
       " Mean   :150.50                                                           \n",
       " 3rd Qu.:225.25                                                           \n",
       " Max.   :300.00                                                           \n",
       "    Revenue           Cost         Units_Sold      Sale_Date        \n",
       " Min.   : 1032   Min.   :  567   Min.   :  1.00   Length:300        \n",
       " 1st Qu.:15034   1st Qu.: 7216   1st Qu.: 28.75   Class :character  \n",
       " Median :26062   Median :13956   Median : 56.00   Mode  :character  \n",
       " Mean   :25906   Mean   :14547   Mean   : 53.90                     \n",
       " 3rd Qu.:37708   3rd Qu.:21714   3rd Qu.: 80.00                     \n",
       " Max.   :49956   Max.   :37811   Max.   :100.00                     "
      ]
     },
     "metadata": {},
     "output_type": "display_data"
    },
    {
     "name": "stdout",
     "output_type": "stream",
     "text": [
      "[1] \"Number of rows: 300\"\n",
      "[1] \"Number of columns: 8\"\n"
     ]
    }
   ],
   "source": [
    "# Load required packages\n",
    "# TODO: Load tidyverse\n",
    "library(tidyverse)\n",
    "\n",
    "\n",
    "# Import the company sales data\n",
    "# TODO: Read the company_sales_data.csv file into a variable called company_data\n",
    "company_data <- read.csv(\"company_sales_data.csv\")\n",
    "\n",
    "\n",
    "# Examine the dataset structure\n",
    "# TODO: Use str() to examine the data structure\n",
    "str(company_data)\n",
    "\n",
    "\n",
    "# Display the first few rows\n",
    "# TODO: Use head() to show the first 6 rows\n",
    "head(company_data)\n",
    "\n",
    "\n",
    "# Generate summary statistics\n",
    "# TODO: Use summary() to get basic statistics for all columns\n",
    "summary(company_data)\n",
    "\n",
    "\n",
    "# Check dataset dimensions\n",
    "# TODO: Display the number of rows and columns using nrow() and ncol()\n",
    "num_rows <- nrow(company_data)\n",
    "num_cols <- ncol(company_data)\n",
    "\n",
    "print(paste(\"Number of rows:\", num_rows))\n",
    "print(paste(\"Number of columns:\", num_cols))\n"
   ]
  },
  {
   "cell_type": "markdown",
   "id": "c9d722a5",
   "metadata": {},
   "source": [
    "## Part 2: Creating New Variables with mutate()\n",
    "\n",
    "**Task**: Use `mutate()` to create new calculated fields for business analysis.\n",
    "\n",
    "**Business Context**: Raw data rarely tells the complete story. Business analysts must create derived metrics like profit margins, efficiency ratios, and performance categories to generate actionable insights.\n",
    "\n",
    "**Variables to create**:\n",
    "1. **Profit**: Revenue minus Cost\n",
    "2. **Profit_Margin**: (Profit / Revenue) × 100\n",
    "3. **Cost_Ratio**: (Cost / Revenue) × 100  \n",
    "4. **Revenue_Per_Unit**: Revenue divided by Units_Sold\n",
    "5. **Cost_Per_Unit**: Cost divided by Units_Sold\n",
    "6. **ROI**: (Profit / Cost) × 100\n",
    "\n",
    "**Hint**: Use the pipe operator (`%>%`) to chain multiple mutate operations together. Remember to create meaningful variable names that clearly indicate what each metric represents."
   ]
  },
  {
   "cell_type": "code",
   "execution_count": 79,
   "id": "e785c110",
   "metadata": {
    "vscode": {
     "languageId": "r"
    }
   },
   "outputs": [
    {
     "data": {
      "text/html": [
       "<table class=\"dataframe\">\n",
       "<caption>A data.frame: 6 × 5</caption>\n",
       "<thead>\n",
       "\t<tr><th></th><th scope=col>Revenue</th><th scope=col>Cost</th><th scope=col>Profit</th><th scope=col>Profit_Margin</th><th scope=col>ROI</th></tr>\n",
       "\t<tr><th></th><th scope=col>&lt;dbl&gt;</th><th scope=col>&lt;dbl&gt;</th><th scope=col>&lt;dbl&gt;</th><th scope=col>&lt;dbl&gt;</th><th scope=col>&lt;dbl&gt;</th></tr>\n",
       "</thead>\n",
       "<tbody>\n",
       "\t<tr><th scope=row>1</th><td>20750.92</td><td>12253.36</td><td> 8497.56</td><td>40.95028</td><td> 69.34882</td></tr>\n",
       "\t<tr><th scope=row>2</th><td>32359.98</td><td>24595.20</td><td> 7764.78</td><td>23.99501</td><td> 31.57031</td></tr>\n",
       "\t<tr><th scope=row>3</th><td>39268.40</td><td>23291.09</td><td>15977.31</td><td>40.68745</td><td> 68.59838</td></tr>\n",
       "\t<tr><th scope=row>4</th><td>28865.09</td><td>12428.74</td><td>16436.35</td><td>56.94197</td><td>132.24470</td></tr>\n",
       "\t<tr><th scope=row>5</th><td> 3932.36</td><td> 1778.18</td><td> 2154.18</td><td>54.78084</td><td>121.14522</td></tr>\n",
       "\t<tr><th scope=row>6</th><td>48209.75</td><td>26052.04</td><td>22157.71</td><td>45.96106</td><td> 85.05173</td></tr>\n",
       "</tbody>\n",
       "</table>\n"
      ],
      "text/latex": [
       "A data.frame: 6 × 5\n",
       "\\begin{tabular}{r|lllll}\n",
       "  & Revenue & Cost & Profit & Profit\\_Margin & ROI\\\\\n",
       "  & <dbl> & <dbl> & <dbl> & <dbl> & <dbl>\\\\\n",
       "\\hline\n",
       "\t1 & 20750.92 & 12253.36 &  8497.56 & 40.95028 &  69.34882\\\\\n",
       "\t2 & 32359.98 & 24595.20 &  7764.78 & 23.99501 &  31.57031\\\\\n",
       "\t3 & 39268.40 & 23291.09 & 15977.31 & 40.68745 &  68.59838\\\\\n",
       "\t4 & 28865.09 & 12428.74 & 16436.35 & 56.94197 & 132.24470\\\\\n",
       "\t5 &  3932.36 &  1778.18 &  2154.18 & 54.78084 & 121.14522\\\\\n",
       "\t6 & 48209.75 & 26052.04 & 22157.71 & 45.96106 &  85.05173\\\\\n",
       "\\end{tabular}\n"
      ],
      "text/markdown": [
       "\n",
       "A data.frame: 6 × 5\n",
       "\n",
       "| <!--/--> | Revenue &lt;dbl&gt; | Cost &lt;dbl&gt; | Profit &lt;dbl&gt; | Profit_Margin &lt;dbl&gt; | ROI &lt;dbl&gt; |\n",
       "|---|---|---|---|---|---|\n",
       "| 1 | 20750.92 | 12253.36 |  8497.56 | 40.95028 |  69.34882 |\n",
       "| 2 | 32359.98 | 24595.20 |  7764.78 | 23.99501 |  31.57031 |\n",
       "| 3 | 39268.40 | 23291.09 | 15977.31 | 40.68745 |  68.59838 |\n",
       "| 4 | 28865.09 | 12428.74 | 16436.35 | 56.94197 | 132.24470 |\n",
       "| 5 |  3932.36 |  1778.18 |  2154.18 | 54.78084 | 121.14522 |\n",
       "| 6 | 48209.75 | 26052.04 | 22157.71 | 45.96106 |  85.05173 |\n",
       "\n"
      ],
      "text/plain": [
       "  Revenue  Cost     Profit   Profit_Margin ROI      \n",
       "1 20750.92 12253.36  8497.56 40.95028       69.34882\n",
       "2 32359.98 24595.20  7764.78 23.99501       31.57031\n",
       "3 39268.40 23291.09 15977.31 40.68745       68.59838\n",
       "4 28865.09 12428.74 16436.35 56.94197      132.24470\n",
       "5  3932.36  1778.18  2154.18 54.78084      121.14522\n",
       "6 48209.75 26052.04 22157.71 45.96106       85.05173"
      ]
     },
     "metadata": {},
     "output_type": "display_data"
    }
   ],
   "source": [
    "# Create basic financial metrics using mutate()\n",
    "company_data <- company_data %>%\n",
    "  mutate(\n",
    "    # TODO: Create Profit (Revenue - Cost)\n",
    "    Profit = Revenue - Cost,\n",
    "    # TODO: Create Profit_Margin ((Profit / Revenue) * 100)\n",
    "    Profit_Margin = (Profit / Revenue) * 100,\n",
    "    # TODO: Create Cost_Ratio ((Cost / Revenue) * 100)\n",
    "    Cost_Ratio = (Cost / Revenue) * 100,\n",
    "    # TODO: Create Revenue_Per_Unit (Revenue / Units_Sold)\n",
    "    Revenue_Per_Unit = Revenue / Units_Sold,\n",
    "    # TODO: Create Cost_Per_Unit (Cost / Units_Sold)\n",
    "    Cost_Per_Unit = Cost / Units_Sold,\n",
    "    # TODO: Create ROI ((Profit / Cost) * 100)\n",
    "    ROI = (Profit / Cost) * 100\n",
    "  )\n",
    "\n",
    "# Display the new financial metrics\n",
    "# TODO: Select and display columns: Revenue, Cost, Profit, Profit_Margin, ROI\n",
    "company_data %>%\n",
    "  select(Revenue, Cost, Profit, Profit_Margin, ROI) %>%\n",
    "  head()\n",
    "\n"
   ]
  },
  {
   "cell_type": "markdown",
   "id": "e1b470f6",
   "metadata": {},
   "source": [
    "## Part 3: Creating Categorical Variables\n",
    "\n",
    "**Task**: Create categorical variables for business segmentation using conditional logic.\n",
    "\n",
    "**Business Context**: Segmentation is crucial for targeted business strategies. By categorizing transactions and customers, businesses can tailor their approaches to different performance levels and customer types.\n",
    "\n",
    "**Categories to create**:\n",
    "1. **Performance_Category**: Based on Profit_Margin (High: >50%, Medium: 30-50%, Low: <30%)\n",
    "2. **Revenue_Size**: Based on Revenue (Large: >30000, Medium: 15000-30000, Small: <15000)\n",
    "3. **Deal_Size**: Based on Units_Sold (Bulk: >50, Standard: 20-50, Small: <20)\n",
    "4. **High_Value_Customer**: Flag for Revenue > 25000\n",
    "5. **Profitable_Deal**: Flag for Profit_Margin > 40%\n",
    "\n",
    "**Hint**: Use `case_when()` for multiple conditions or `ifelse()` for simple binary classifications."
   ]
  },
  {
   "cell_type": "code",
   "execution_count": 80,
   "id": "73cefd70",
   "metadata": {
    "vscode": {
     "languageId": "r"
    }
   },
   "outputs": [
    {
     "data": {
      "text/plain": [
       "\n",
       "  High    Low Medium \n",
       "   113     66    121 "
      ]
     },
     "metadata": {},
     "output_type": "display_data"
    },
    {
     "data": {
      "text/plain": [
       "\n",
       " Large Medium  Small \n",
       "   122    104     74 "
      ]
     },
     "metadata": {},
     "output_type": "display_data"
    },
    {
     "data": {
      "text/plain": [
       "\n",
       " No Yes \n",
       "146 154 "
      ]
     },
     "metadata": {},
     "output_type": "display_data"
    }
   ],
   "source": [
    "# Create categorical variables for business segmentation\n",
    "company_data <- company_data %>%\n",
    "  mutate(\n",
    "    # TODO: Create Performance_Category using case_when()\n",
    "    # High: Profit_Margin > 50, Medium: Profit_Margin > 30, Low: everything else\n",
    "    Performance_Category = case_when(\n",
    "      Profit_Margin > 50 ~ \"High\",\n",
    "      Profit_Margin > 30 ~ \"Medium\",\n",
    "      TRUE ~ \"Low\"\n",
    "    ),\n",
    "    # TODO: Create Revenue_Size category\n",
    "    # Large: Revenue > 30000, Medium: Revenue > 15000, Small: everything else\n",
    "    Revenue_Size = case_when(\n",
    "      Revenue > 30000 ~ \"Large\",\n",
    "      Revenue > 15000 ~ \"Medium\",\n",
    "      TRUE ~ \"Small\"\n",
    "    ),\n",
    "    # TODO: Create Deal_Size category  \n",
    "    # Bulk: Units_Sold > 50, Standard: Units_Sold > 20, Small: everything else\n",
    "    Deal_Size = case_when(\n",
    "      Units_Sold > 50 ~ \"Bulk\",\n",
    "      Units_Sold > 20 ~ \"Standard\",\n",
    "      TRUE ~ \"Small\"\n",
    "    ),\n",
    "    # TODO: Create High_Value_Customer flag (Yes/No for Revenue > 25000)\n",
    "    High_Value_Customer = ifelse(Revenue > 25000, \"Yes\", \"No\"),\n",
    "    # TODO: Create Profitable_Deal flag (Yes/No for Profit_Margin > 40)\n",
    "    Profitable_Deal = ifelse(Profit_Margin > 40, \"Yes\", \"No\")\n",
    "  )\n",
    "\n",
    "# Examine the distribution of categorical variables\n",
    "# TODO: Use table() to show the distribution of Performance_Category\n",
    "table(company_data$Performance_Category)\n",
    "\n",
    "# TODO: Use table() to show the distribution of Revenue_Size\n",
    "table(company_data$Revenue_Size)\n",
    "\n",
    "# TODO: Use table() to show the distribution of High_Value_Customer\n",
    "table(company_data$High_Value_Customer)"
   ]
  },
  {
   "cell_type": "markdown",
   "id": "d0e957c6",
   "metadata": {},
   "source": [
    "## Part 4: Summary Statistics with summarize()\n",
    "\n",
    "**Task**: Use `summarize()` to calculate key business metrics and overall performance indicators.\n",
    "\n",
    "**Business Context**: Executive dashboards and business reports rely on aggregate statistics to provide high-level insights. These summary metrics help stakeholders quickly understand overall business performance.\n",
    "\n",
    "**Metrics to calculate**:\n",
    "1. **Total Revenue** and **Total Profit**\n",
    "2. **Average Profit Margin** and **Average ROI**\n",
    "3. **Total Units Sold** and **Total Transactions**\n",
    "4. **Revenue Statistics**: Min, Max, Mean, Median, Standard Deviation\n",
    "5. **Profit Margin Statistics**: Quartiles and distribution metrics\n",
    "\n",
    "**Hint**: You can calculate multiple summary statistics in a single `summarize()` call. Use functions like `sum()`, `mean()`, `median()`, `min()`, `max()`, `sd()`, and `n()`."
   ]
  },
  {
   "cell_type": "code",
   "execution_count": 81,
   "id": "0ec870a8",
   "metadata": {
    "vscode": {
     "languageId": "r"
    }
   },
   "outputs": [
    {
     "name": "stdout",
     "output_type": "stream",
     "text": [
      "[1] \"Overall Business Performance Summary:\"\n"
     ]
    },
    {
     "name": "stdout",
     "output_type": "stream",
     "text": [
      "  total_revenue total_profit avg_profit_margin avg_roi total_units\n",
      "1       7771711      3407512          44.22305 93.4937       16169\n",
      "  transaction_count avg_revenue_per_transaction\n",
      "1               300                     25905.7\n",
      "[1] \"\\nDetailed Revenue Statistics:\"\n",
      "  min_revenue max_revenue mean_revenue median_revenue sd_revenue\n",
      "1     1031.64    49956.01      25905.7       26062.04   13943.72\n"
     ]
    }
   ],
   "source": [
    "# Calculate overall business summary statistics\n",
    "business_summary <- company_data %>%\n",
    "  summarize(\n",
    "    # TODO: Calculate total_revenue (sum of Revenue)\n",
    "    total_revenue = sum(Revenue),\n",
    "    # TODO: Calculate total_profit (sum of Profit)\n",
    "    total_profit = sum(Profit),\n",
    "    # TODO: Calculate avg_profit_margin (mean of Profit_Margin)\n",
    "    avg_profit_margin = mean(Profit_Margin),\n",
    "    # TODO: Calculate avg_roi (mean of ROI)\n",
    "    avg_roi = mean(ROI),\n",
    "    # TODO: Calculate total_units (sum of Units_Sold)\n",
    "    total_units = sum(Units_Sold),\n",
    "    # TODO: Calculate transaction_count (use n())\n",
    "    transaction_count = n(),\n",
    "    # TODO: Calculate avg_revenue_per_transaction (mean of Revenue)\n",
    "    avg_revenue_per_transaction = mean(Revenue)\n",
    "  )\n",
    "\n",
    "# Display the business summary\n",
    "print(\"Overall Business Performance Summary:\")\n",
    "print(business_summary)\n",
    "\n",
    "# Calculate detailed revenue statistics\n",
    "revenue_statistics <- company_data %>%\n",
    "  summarize(\n",
    "    # TODO: Calculate revenue statistics: min, max, mean, median, sd\n",
    "    min_revenue = min(Revenue),\n",
    "    max_revenue = max(Revenue),\n",
    "    mean_revenue = mean(Revenue),\n",
    "    median_revenue = median(Revenue),\n",
    "    sd_revenue = sd(Revenue) \n",
    "  )\n",
    "\n",
    "print(\"\\nDetailed Revenue Statistics:\")\n",
    "print(revenue_statistics)"
   ]
  },
  {
   "cell_type": "markdown",
   "id": "5a35dfd2",
   "metadata": {},
   "source": [
    "## Part 5: Grouped Analysis with group_by()\n",
    "\n",
    "**Task**: Use `group_by()` combined with `summarize()` to analyze performance across different business dimensions.\n",
    "\n",
    "**Business Context**: Understanding how different segments perform is crucial for strategic decision-making. Regional analysis helps with resource allocation, product analysis guides inventory decisions, and sales rep analysis informs performance management.\n",
    "\n",
    "**Analyses to perform**:\n",
    "1. **Regional Analysis**: Performance by Region\n",
    "2. **Product Category Analysis**: Performance by Product_Category  \n",
    "3. **Performance Category Analysis**: Compare High/Medium/Low performers\n",
    "4. **Sales Rep Analysis**: Individual representative performance\n",
    "\n",
    "**Metrics for each group**:\n",
    "- Total Revenue and Profit\n",
    "- Average Profit Margin\n",
    "- Transaction Count\n",
    "- Total Units Sold\n",
    "- Revenue Share (percentage of total)\n",
    "\n",
    "**Hint**: Use `group_by()` followed by `summarize()`, and don't forget to use `arrange(desc())` to sort by key metrics."
   ]
  },
  {
   "cell_type": "code",
   "execution_count": 82,
   "id": "f9a05150",
   "metadata": {
    "vscode": {
     "languageId": "r"
    }
   },
   "outputs": [
    {
     "name": "stdout",
     "output_type": "stream",
     "text": [
      "[1] \"Regional Performance Analysis:\"\n"
     ]
    },
    {
     "name": "stdout",
     "output_type": "stream",
     "text": [
      "\u001b[90m# A tibble: 4 × 7\u001b[39m\n",
      "  Region        total_revenue total_profit avg_profit_margin transaction_count\n",
      "  \u001b[3m\u001b[90m<chr>\u001b[39m\u001b[23m                 \u001b[3m\u001b[90m<dbl>\u001b[39m\u001b[23m        \u001b[3m\u001b[90m<dbl>\u001b[39m\u001b[23m             \u001b[3m\u001b[90m<dbl>\u001b[39m\u001b[23m             \u001b[3m\u001b[90m<int>\u001b[39m\u001b[23m\n",
      "\u001b[90m1\u001b[39m Europe             2\u001b[4m2\u001b[24m\u001b[4m2\u001b[24m\u001b[4m4\u001b[24m182.     1\u001b[4m0\u001b[24m\u001b[4m0\u001b[24m\u001b[4m6\u001b[24m807.              45.5                82\n",
      "\u001b[90m2\u001b[39m Latin America      2\u001b[4m1\u001b[24m\u001b[4m1\u001b[24m\u001b[4m2\u001b[24m037.      \u001b[4m8\u001b[24m\u001b[4m9\u001b[24m\u001b[4m1\u001b[24m481.              43.0                83\n",
      "\u001b[90m3\u001b[39m Asia Pacific       1\u001b[4m8\u001b[24m\u001b[4m0\u001b[24m\u001b[4m4\u001b[24m243.      \u001b[4m8\u001b[24m\u001b[4m2\u001b[24m\u001b[4m7\u001b[24m243.              46.0                67\n",
      "\u001b[90m4\u001b[39m North America      1\u001b[4m6\u001b[24m\u001b[4m3\u001b[24m\u001b[4m1\u001b[24m248.      \u001b[4m6\u001b[24m\u001b[4m8\u001b[24m\u001b[4m1\u001b[24m981.              42.4                68\n",
      "\u001b[90m# ℹ 2 more variables: total_units <int>, revenue_share <dbl>\u001b[39m\n"
     ]
    }
   ],
   "source": [
    "# Regional Analysis\n",
    "regional_performance <- company_data %>%\n",
    "  group_by(Region) %>%\n",
    "  summarize(\n",
    "    # TODO: Calculate total_revenue, total_profit, avg_profit_margin, \n",
    "    # transaction_count, total_units for each region\n",
    "    total_revenue = sum(Revenue),\n",
    "    total_profit = sum(Profit),\n",
    "    avg_profit_margin = mean(Profit_Margin),\n",
    "    transaction_count = n(),\n",
    "    total_units = sum(Units_Sold),\n",
    "    .groups = 'drop'  # Remove grouping\n",
    "  ) %>%\n",
    "  # TODO: Add revenue_share calculation (total_revenue / sum(total_revenue) * 100)\n",
    "  mutate(\n",
    "    revenue_share = (total_revenue / sum(total_revenue)) * 100  \n",
    "  ) %>%\n",
    "  # TODO: Arrange by total_revenue in descending order\n",
    "  arrange(desc(total_revenue))\n",
    "\n",
    "print(\"Regional Performance Analysis:\")\n",
    "print(regional_performance)"
   ]
  },
  {
   "cell_type": "code",
   "execution_count": 83,
   "id": "c7724570",
   "metadata": {
    "vscode": {
     "languageId": "r"
    }
   },
   "outputs": [
    {
     "name": "stdout",
     "output_type": "stream",
     "text": [
      "[1] \"Product Category Performance Analysis:\"\n",
      "\u001b[90m# A tibble: 4 × 7\u001b[39m\n",
      "  Product_Category total_revenue total_profit avg_profit_margin\n",
      "  \u001b[3m\u001b[90m<chr>\u001b[39m\u001b[23m                    \u001b[3m\u001b[90m<dbl>\u001b[39m\u001b[23m        \u001b[3m\u001b[90m<dbl>\u001b[39m\u001b[23m             \u001b[3m\u001b[90m<dbl>\u001b[39m\u001b[23m\n",
      "\u001b[90m1\u001b[39m Consulting            1\u001b[4m9\u001b[24m\u001b[4m7\u001b[24m\u001b[4m8\u001b[24m840.      \u001b[4m8\u001b[24m\u001b[4m8\u001b[24m\u001b[4m4\u001b[24m265.              44.4\n",
      "\u001b[90m2\u001b[39m Services              1\u001b[4m9\u001b[24m\u001b[4m6\u001b[24m\u001b[4m1\u001b[24m565.      \u001b[4m8\u001b[24m\u001b[4m1\u001b[24m\u001b[4m4\u001b[24m908.              42.3\n",
      "\u001b[90m3\u001b[39m Hardware              1\u001b[4m9\u001b[24m\u001b[4m5\u001b[24m\u001b[4m1\u001b[24m325.      \u001b[4m8\u001b[24m\u001b[4m5\u001b[24m\u001b[4m8\u001b[24m246.              43.5\n",
      "\u001b[90m4\u001b[39m Software              1\u001b[4m8\u001b[24m\u001b[4m7\u001b[24m\u001b[4m9\u001b[24m981.      \u001b[4m8\u001b[24m\u001b[4m5\u001b[24m\u001b[4m0\u001b[24m092.              46.4\n",
      "\u001b[90m# ℹ 3 more variables: transaction_count <int>, total_units <int>,\u001b[39m\n",
      "\u001b[90m#   revenue_share <dbl>\u001b[39m\n"
     ]
    }
   ],
   "source": [
    "# Product Category Analysis\n",
    "category_performance <- company_data %>%\n",
    "  group_by(Product_Category) %>%  # TODO: Group by Product_Category\n",
    "  summarize(\n",
    "    # TODO: Calculate the same metrics as regional analysis\n",
    "    total_revenue = sum(Revenue),\n",
    "    total_profit = sum(Profit),\n",
    "    avg_profit_margin = mean(Profit_Margin),\n",
    "    transaction_count = n(),\n",
    "    total_units = sum(Units_Sold),\n",
    "    .groups = 'drop'\n",
    "  ) %>%\n",
    "  # TODO: Add revenue_share and arrange by total_revenue\n",
    "  mutate(\n",
    "    revenue_share = (total_revenue / sum(total_revenue)) * 100  \n",
    "  ) %>%\n",
    "  arrange(desc(total_revenue))\n",
    "\n",
    "print(\"Product Category Performance Analysis:\")\n",
    "print(category_performance)"
   ]
  },
  {
   "cell_type": "code",
   "execution_count": 84,
   "id": "d89516fa",
   "metadata": {
    "vscode": {
     "languageId": "r"
    }
   },
   "outputs": [
    {
     "name": "stdout",
     "output_type": "stream",
     "text": [
      "[1] \"Performance Category Analysis:\"\n",
      "\u001b[90m# A tibble: 3 × 7\u001b[39m\n",
      "  Performance_Category total_revenue total_profit avg_profit_margin\n",
      "  \u001b[3m\u001b[90m<chr>\u001b[39m\u001b[23m                        \u001b[3m\u001b[90m<dbl>\u001b[39m\u001b[23m        \u001b[3m\u001b[90m<dbl>\u001b[39m\u001b[23m             \u001b[3m\u001b[90m<dbl>\u001b[39m\u001b[23m\n",
      "\u001b[90m1\u001b[39m High                      2\u001b[4m7\u001b[24m\u001b[4m7\u001b[24m\u001b[4m1\u001b[24m248.     1\u001b[4m6\u001b[24m\u001b[4m8\u001b[24m\u001b[4m2\u001b[24m947.              60.1\n",
      "\u001b[90m2\u001b[39m Low                       1\u001b[4m8\u001b[24m\u001b[4m1\u001b[24m\u001b[4m3\u001b[24m077.      \u001b[4m4\u001b[24m\u001b[4m5\u001b[24m\u001b[4m7\u001b[24m363.              25.3\n",
      "\u001b[90m3\u001b[39m Medium                    3\u001b[4m1\u001b[24m\u001b[4m8\u001b[24m\u001b[4m7\u001b[24m386.     1\u001b[4m2\u001b[24m\u001b[4m6\u001b[24m\u001b[4m7\u001b[24m202.              39.8\n",
      "\u001b[90m# ℹ 3 more variables: transaction_count <int>, total_units <int>,\u001b[39m\n",
      "\u001b[90m#   revenue_share <dbl>\u001b[39m\n"
     ]
    }
   ],
   "source": [
    "# Performance Category Analysis (High/Medium/Low performers)\n",
    "performance_analysis <- company_data %>%\n",
    "  group_by(Performance_Category) %>%  # TODO: Group by Performance_Category\n",
    "  summarize(\n",
    "    # TODO: Calculate summary metrics for each performance level\n",
    "    total_revenue = sum(Revenue),\n",
    "    total_profit = sum(Profit),\n",
    "    avg_profit_margin = mean(Profit_Margin),\n",
    "    transaction_count = n(),\n",
    "    total_units = sum(Units_Sold),\n",
    "    .groups = 'drop'\n",
    "  ) %>%\n",
    "  # TODO: Add revenue_share calculation\n",
    "  mutate(\n",
    "    revenue_share = (total_revenue / sum(total_revenue)) * 100  \n",
    "  )\n",
    "\n",
    "print(\"Performance Category Analysis:\")\n",
    "print(performance_analysis)"
   ]
  },
  {
   "cell_type": "markdown",
   "id": "bb30b28c",
   "metadata": {},
   "source": [
    "## Part 6: Advanced Grouping and Cross-Tabulation\n",
    "\n",
    "**Task**: Perform multi-dimensional analysis and frequency counting using `count()` and advanced grouping.\n",
    "\n",
    "**Business Context**: Real business questions often require analysis across multiple dimensions simultaneously. For example, \"Which product categories perform best in each region?\" requires cross-tabulation analysis.\n",
    "\n",
    "**Analyses to perform**:\n",
    "1. **Multi-dimensional grouping**: Region × Product Category performance\n",
    "2. **Count analysis**: Frequency distributions using `count()`\n",
    "3. **Cross-tabulation**: Performance Category vs Revenue Size\n",
    "4. **Time-based analysis**: Performance by time periods (if date data available)\n",
    "\n",
    "**Hint**: Use `count()` for frequency analysis and multiple variables in `group_by()` for cross-dimensional analysis."
   ]
  },
  {
   "cell_type": "code",
   "execution_count": 85,
   "id": "fb5fedac",
   "metadata": {
    "vscode": {
     "languageId": "r"
    }
   },
   "outputs": [
    {
     "name": "stdout",
     "output_type": "stream",
     "text": [
      "[1] \"Top 10 Region-Product Category Combinations:\"\n"
     ]
    },
    {
     "name": "stdout",
     "output_type": "stream",
     "text": [
      "\u001b[90m# A tibble: 10 × 5\u001b[39m\n",
      "   Region     Product_Category total_revenue transaction_count avg_profit_margin\n",
      "   \u001b[3m\u001b[90m<chr>\u001b[39m\u001b[23m      \u001b[3m\u001b[90m<chr>\u001b[39m\u001b[23m                    \u001b[3m\u001b[90m<dbl>\u001b[39m\u001b[23m             \u001b[3m\u001b[90m<int>\u001b[39m\u001b[23m             \u001b[3m\u001b[90m<dbl>\u001b[39m\u001b[23m\n",
      "\u001b[90m 1\u001b[39m Europe     Hardware               \u001b[4m7\u001b[24m\u001b[4m7\u001b[24m\u001b[4m7\u001b[24m044.                27              45.6\n",
      "\u001b[90m 2\u001b[39m Asia Paci… Consulting             \u001b[4m7\u001b[24m\u001b[4m5\u001b[24m\u001b[4m9\u001b[24m641.                27              47.5\n",
      "\u001b[90m 3\u001b[39m Latin Ame… Services               \u001b[4m6\u001b[24m\u001b[4m4\u001b[24m\u001b[4m4\u001b[24m772.                22              43.9\n",
      "\u001b[90m 4\u001b[39m Latin Ame… Software               \u001b[4m5\u001b[24m\u001b[4m5\u001b[24m\u001b[4m9\u001b[24m611.                24              44.2\n",
      "\u001b[90m 5\u001b[39m Europe     Software               \u001b[4m5\u001b[24m\u001b[4m4\u001b[24m\u001b[4m2\u001b[24m961.                23              49.6\n",
      "\u001b[90m 6\u001b[39m Europe     Services               \u001b[4m5\u001b[24m\u001b[4m1\u001b[24m\u001b[4m3\u001b[24m507.                18              42.8\n",
      "\u001b[90m 7\u001b[39m Latin Ame… Hardware               \u001b[4m4\u001b[24m\u001b[4m7\u001b[24m\u001b[4m4\u001b[24m257.                19              43.1\n",
      "\u001b[90m 8\u001b[39m North Ame… Services               \u001b[4m4\u001b[24m\u001b[4m7\u001b[24m\u001b[4m1\u001b[24m460.                17              39.5\n",
      "\u001b[90m 9\u001b[39m Asia Paci… Software               \u001b[4m4\u001b[24m\u001b[4m4\u001b[24m\u001b[4m0\u001b[24m797.                15              47.6\n",
      "\u001b[90m10\u001b[39m Latin Ame… Consulting             \u001b[4m4\u001b[24m\u001b[4m3\u001b[24m\u001b[4m3\u001b[24m397.                18              40.2\n"
     ]
    }
   ],
   "source": [
    "# Multi-dimensional analysis: Region and Product Category\n",
    "region_category_analysis <- company_data %>%\n",
    "# TODO: Group by Region and Product_Category\n",
    "  group_by(Region, Product_Category) %>%\n",
    "  summarize(\n",
    "    # TODO: Calculate total_revenue, transaction_count, avg_profit_margin\n",
    "    total_revenue = sum(Revenue),\n",
    "    transaction_count = n(),\n",
    "    avg_profit_margin = mean(Profit_Margin),\n",
    "    .groups = 'drop'\n",
    "  ) %>%\n",
    "  # TODO: Arrange by total_revenue descending\n",
    "  arrange(desc(total_revenue))\n",
    "\n",
    "print(\"Top 10 Region-Product Category Combinations:\")\n",
    "print(head(region_category_analysis, 10))"
   ]
  },
  {
   "cell_type": "code",
   "execution_count": 86,
   "id": "c508ab48",
   "metadata": {
    "vscode": {
     "languageId": "r"
    }
   },
   "outputs": [
    {
     "name": "stdout",
     "output_type": "stream",
     "text": [
      "[1] \"Frequency Analysis:\"\n"
     ]
    },
    {
     "name": "stdout",
     "output_type": "stream",
     "text": [
      "[1] \"Performance Category Distribution:\"\n",
      "  Performance_Category   n\n",
      "1                 High 113\n",
      "2                  Low  66\n",
      "3               Medium 121\n",
      "[1] \"Revenue Size Distribution:\"\n",
      "  Revenue_Size   n\n",
      "1        Large 122\n",
      "2       Medium 104\n",
      "3        Small  74\n",
      "[1] \"Deal Size Distribution:\"\n",
      "  Deal_Size   n\n",
      "1      Bulk 159\n",
      "2     Small  51\n",
      "3  Standard  90\n"
     ]
    }
   ],
   "source": [
    "# Frequency analysis using count()\n",
    "print(\"Frequency Analysis:\")\n",
    "\n",
    "# TODO: Count by Performance_Category\n",
    "performance_counts <- company_data %>%\n",
    "  count(Performance_Category)\n",
    "\n",
    "print(\"Performance Category Distribution:\")\n",
    "print(performance_counts)\n",
    "\n",
    "# TODO: Count by Revenue_Size\n",
    "revenue_size_counts <- company_data %>%\n",
    "  count(Revenue_Size)\n",
    "\n",
    "print(\"Revenue Size Distribution:\")\n",
    "print(revenue_size_counts)\n",
    "\n",
    "# TODO: Count by Deal_Size\n",
    "deal_size_counts <- company_data %>%\n",
    "  count(Deal_Size)\n",
    "\n",
    "print(\"Deal Size Distribution:\")\n",
    "print(deal_size_counts)"
   ]
  },
  {
   "cell_type": "code",
   "execution_count": 87,
   "id": "6c01f673",
   "metadata": {
    "vscode": {
     "languageId": "r"
    }
   },
   "outputs": [
    {
     "name": "stdout",
     "output_type": "stream",
     "text": [
      "[1] \"Cross-Tabulation Analysis:\"\n"
     ]
    },
    {
     "name": "stdout",
     "output_type": "stream",
     "text": [
      "[1] \"Performance Category vs Revenue Size:\"\n",
      "\u001b[90m# A tibble: 3 × 4\u001b[39m\n",
      "  Performance_Category Large Medium Small\n",
      "  \u001b[3m\u001b[90m<chr>\u001b[39m\u001b[23m                \u001b[3m\u001b[90m<int>\u001b[39m\u001b[23m  \u001b[3m\u001b[90m<int>\u001b[39m\u001b[23m \u001b[3m\u001b[90m<int>\u001b[39m\u001b[23m\n",
      "\u001b[90m1\u001b[39m High                    41     38    34\n",
      "\u001b[90m2\u001b[39m Low                     28     30     8\n",
      "\u001b[90m3\u001b[39m Medium                  53     36    32\n",
      "[1] \"\\n Using table() function:\"\n",
      "        \n",
      "         Large Medium Small\n",
      "  High      41     38    34\n",
      "  Low       28     30     8\n",
      "  Medium    53     36    32\n"
     ]
    }
   ],
   "source": [
    "# Cross-tabulation analysis\n",
    "print(\"Cross-Tabulation Analysis:\")\n",
    "\n",
    "# TODO: Create a cross-tabulation of Performance_Category vs Revenue_Size\n",
    "# Hint: Use count() with two variables, then consider using pivot_wider() or table()\n",
    "cross_tab_performance_revenue <- company_data %>%\n",
    "  count(Performance_Category, Revenue_Size) %>%\n",
    "  pivot_wider(names_from = Revenue_Size, values_from = n, values_fill = 0)\n",
    "\n",
    "print(\"Performance Category vs Revenue Size:\")\n",
    "print(cross_tab_performance_revenue)\n",
    "\n",
    "# Alternative using base R table function\n",
    "print(\"\\n Using table() function:\")\n",
    "# TODO: Create table(company_data$Performance_Category, company_data$Revenue_Size)\n",
    "performance_revenue_table <- table(company_data$Performance_Category, company_data$Revenue_Size)\n",
    "print(performance_revenue_table)"
   ]
  },
  {
   "cell_type": "markdown",
   "id": "5e39eb29",
   "metadata": {},
   "source": [
    "## Part 7: Business Intelligence Dashboard\n",
    "\n",
    "**Task**: Create a comprehensive business intelligence summary that combines all your analysis techniques.\n",
    "\n",
    "**Business Context**: Executive dashboards consolidate multiple analyses into actionable insights. This section simulates creating a report that would be presented to business stakeholders for strategic decision-making.\n",
    "\n",
    "**Dashboard sections to create**:\n",
    "1. **Key Performance Indicators (KPIs)**: Overall business health metrics\n",
    "2. **Top Performers**: Best regions, categories, and sales representatives\n",
    "3. **Performance Insights**: Distribution of high/medium/low performers\n",
    "4. **Efficiency Metrics**: Cost ratios, ROI, and operational efficiency\n",
    "5. **Strategic Recommendations**: Data-driven business recommendations\n",
    "\n",
    "**Hint**: Use `cat()` or `print()` statements to create formatted output that resembles a professional business report."
   ]
  },
  {
   "cell_type": "code",
   "execution_count": 88,
   "id": "f5295e7c",
   "metadata": {
    "vscode": {
     "languageId": "r"
    }
   },
   "outputs": [
    {
     "name": "stdout",
     "output_type": "stream",
     "text": [
      "\n",
      " = = = = = = = = = = = = = = = = = = = = = = = = = = = = = = = = = = = = = = = = = = = = = = = = = = = = = = = = = = = = = \n",
      "              BUSINESS INTELLIGENCE DASHBOARD\n",
      "= = = = = = = = = = = = = = = = = = = = = = = = = = = = = = = = = = = = = = = = = = = = = = = = = = = = = = = = = = = = = \n",
      "\n",
      "📊 KEY PERFORMANCE INDICATORS\n",
      "─────────────────────────────────\n",
      "Total Revenue:  7771711 \n",
      "Total Profit:  3407512 \n",
      "Overall Profit Margin:  43.84507 %\n",
      "Total Transactions:  300 \n",
      "Average Deal Size:  53.89667 \n",
      "High-Value Customer Rate:  51.33333 %\n",
      "Profitable Deal Rate:  56 %\n",
      "\n",
      "🏆 TOP PERFORMERS\n",
      "─────────────────\n",
      "Top Region: Europe \n",
      "\n",
      "Top Product Category: Consulting \n",
      "\n",
      "📈 PERFORMANCE DISTRIBUTION\n",
      "──────────────────────────\n",
      "  Performance_Category   n percentage\n",
      "1                 High 113   37.66667\n",
      "2                  Low  66   22.00000\n",
      "3               Medium 121   40.33333\n"
     ]
    }
   ],
   "source": [
    "# Create a comprehensive business intelligence dashboard\n",
    "cat(\"\\n\", \"=\", rep(\"=\", 60), \"\\n\")\n",
    "cat(\"              BUSINESS INTELLIGENCE DASHBOARD\\n\")\n",
    "cat(\"=\", rep(\"=\", 60), \"\\n\\n\")\n",
    "\n",
    "# Section 1: Key Performance Indicators\n",
    "cat(\"📊 KEY PERFORMANCE INDICATORS\\n\")\n",
    "cat(\"─────────────────────────────────\\n\")\n",
    "\n",
    "# TODO: Calculate and display overall KPIs\n",
    "# - Total Revenue, Total Profit, Overall Profit Margin\n",
    "# - Total Transactions, Average Deal Size\n",
    "# - High-Value Customer Rate, Profitable Deal Rate\n",
    "\n",
    "kpi_summary <- company_data %>%\n",
    "  summarize(\n",
    "    # TODO: Add your KPI calculations here\n",
    "    total_revenue = sum(Revenue),\n",
    "    total_profit = sum(Profit),\n",
    "    overall_profit_margin = (sum(Profit) / sum(Revenue)) * 100,\n",
    "    total_transactions = n(),\n",
    "    avg_deal_size = mean(Units_Sold),\n",
    "    high_value_customer_rate = (sum(High_Value_Customer == \"Yes\") / n()) * 100,\n",
    "    profitable_deal_rate = (sum(Profitable_Deal == \"Yes\") / n()) * 100\n",
    "  )\n",
    "\n",
    "# TODO: Display KPIs using cat() or print() with proper formatting\n",
    "cat(\"Total Revenue: \", (kpi_summary$total_revenue), \"\\n\")\n",
    "cat(\"Total Profit: \", (kpi_summary$total_profit), \"\\n\")\n",
    "cat(\"Overall Profit Margin: \", (kpi_summary$overall_profit_margin), \"%\\n\")\n",
    "cat(\"Total Transactions: \", (kpi_summary$total_transactions), \"\\n\")\n",
    "cat(\"Average Deal Size: \", (kpi_summary$avg_deal_size), \"\\n\")\n",
    "cat(\"High-Value Customer Rate: \", (kpi_summary$high_value_customer_rate), \"%\\n\")\n",
    "cat(\"Profitable Deal Rate: \", (kpi_summary$profitable_deal_rate), \"%\\n\")\n",
    "\n",
    "\n",
    "# Section 2: Top Performers\n",
    "cat(\"\\n🏆 TOP PERFORMERS\\n\")\n",
    "cat(\"─────────────────\\n\")\n",
    "\n",
    "# TODO: Display top performing region\n",
    "cat(\"Top Region: \")\n",
    "# TODO: Get the region with highest total revenue\n",
    "top_region <- regional_performance %>%\n",
    "  slice_max(total_revenue, n = 1) %>%\n",
    "  pull(Region) \n",
    "cat(top_region, \"\\n\")\n",
    "# TODO: Display top performing product category  \n",
    "cat(\"\\nTop Product Category: \")\n",
    "# TODO: Get the product category with highest total revenue\n",
    "top_category <- category_performance %>%\n",
    "  slice_max(total_revenue, n = 1) %>%\n",
    "  pull(Product_Category)\n",
    "cat(top_category, \"\\n\")\n",
    "\n",
    "# TODO: Display performance distribution\n",
    "cat(\"\\n📈 PERFORMANCE DISTRIBUTION\\n\")\n",
    "cat(\"──────────────────────────\\n\")\n",
    "# TODO: Show the count and percentage of High/Medium/Low performers\n",
    "performance_dist <- performance_counts %>%\n",
    "  mutate(percentage = (n / sum(n)) * 100)\n",
    "print(performance_dist)\n"
   ]
  },
  {
   "cell_type": "markdown",
   "id": "ad69551d",
   "metadata": {},
   "source": [
    "## Part 8: Data Validation and Quality Checks\n",
    "\n",
    "**Task**: Validate your calculated fields and check for data quality issues.\n",
    "\n",
    "**Business Context**: Data quality is paramount in business analytics. Before presenting results to stakeholders, analysts must verify that calculations are correct and identify any data anomalies that could affect decision-making.\n",
    "\n",
    "## Part 8: Data Validation and Quality Checks\n",
    "\n",
    "**Task**: Validate your calculated fields and check for data quality issues.\n",
    "\n",
    "**Business Context**: Data quality is paramount in business analytics. Before presenting results to stakeholders, analysts must verify that calculations are correct and identify any data anomalies that could affect decision-making. In professional settings, data validation is often the difference between accurate insights and costly business mistakes.\n",
    "\n",
    "**Why Validation is Critical:**\n",
    "- **Stakeholder Trust**: Executives need confidence in your analysis\n",
    "- **Decision Impact**: Business decisions based on incorrect data can be costly\n",
    "- **Regulatory Compliance**: Many industries require data accuracy documentation\n",
    "- **Professional Credibility**: Accurate analysis establishes your reputation as a reliable analyst\n",
    "\n",
    "**Validation Methodology:**\n",
    "1. **Calculation Verification**: Mathematical accuracy of derived metrics\n",
    "2. **Range Validation**: Ensure values fall within business-logical ranges\n",
    "3. **Outlier Detection**: Identify unusual values that might indicate data issues\n",
    "4. **Consistency Checks**: Verify that related metrics align logically\n",
    "5. **Missing Value Analysis**: Check for gaps in critical business data\n",
    "6. **Business Logic Testing**: Ensure results make practical business sense\n",
    "\n",
    "**Professional Validation Techniques:**\n",
    "- Use `all.equal()` for precise mathematical verification\n",
    "- Apply `summary()` to identify outliers and impossible values\n",
    "- Implement logical tests for business rule compliance\n",
    "- Cross-check totals and subtotals for internal consistency\n",
    "- Validate categorical assignments against their criteria\n",
    "\n",
    "**Hint**: Think like a skeptical executive - question every calculation and assumption. If you can't defend your numbers, neither should your stakeholders trust them."
   ]
  },
  {
   "cell_type": "code",
   "execution_count": 89,
   "id": "5f8f9dfe",
   "metadata": {
    "vscode": {
     "languageId": "r"
    }
   },
   "outputs": [
    {
     "name": "stdout",
     "output_type": "stream",
     "text": [
      "📋 COMPREHENSIVE DATA VALIDATION REPORT\n"
     ]
    },
    {
     "name": "stdout",
     "output_type": "stream",
     "text": [
      "════════════════════════════════════════\n",
      "\n",
      "🧮 SECTION 1: CALCULATION VERIFICATION\n",
      "─────────────────────────────────────────\n",
      "✓ Profit calculation (Revenue - Cost): ✅ PASSED \n",
      "✓ Profit Margin calculation: ✅ PASSED \n",
      "✓ ROI calculation: ✅ PASSED \n",
      "\n",
      "📊 SECTION 2: RANGE AND OUTLIER VALIDATION\n",
      "──────────────────────────────────────────────\n",
      "⚠️  Extreme profit margins (>100% or <-50%):  0  transactions\n",
      "⚠️  Negative revenue values:  0  transactions\n",
      "⚠️  Invalid units sold (≤0):  0  transactions\n",
      "\n",
      "🔍 SECTION 3: MISSING DATA ANALYSIS\n",
      "──────────────────────────────────────\n",
      "Missing value analysis:\n",
      "  • Missing Revenue values:  0 \n",
      "  • Missing Cost values:  0 \n",
      "  • Missing Units_Sold values:  0 \n",
      "  • Missing Profit values:  0 \n",
      "\n",
      "🏷️  SECTION 4: CATEGORICAL VARIABLE VALIDATION\n",
      "─────────────────────────────────────────────────\n",
      "✓ High Performance category accuracy:  113 / 113  correctly assigned\n",
      "✓ Large Revenue_Size category accuracy:  122 / 122  correctly assigned\n",
      "\n",
      "📈 SECTION 5: SUMMARY STATISTICS REVIEW\n",
      "─────────────────────────────────────────\n",
      "Key financial metrics summary (check for reasonableness):\n",
      "\n",
      "Profit Margin Distribution:\n",
      "   Min. 1st Qu.  Median    Mean 3rd Qu.    Max. \n",
      "  20.13   31.17   43.70   44.22   56.55   69.93 \n",
      "\n",
      "ROI Distribution:\n",
      "   Min. 1st Qu.  Median    Mean 3rd Qu.    Max. \n",
      "  25.20   45.28   77.63   93.49  130.16  232.57 \n",
      "\n",
      "💼 SECTION 6: BUSINESS LOGIC VALIDATION\n",
      "─────────────────────────────────────────\n",
      "✓ Cost_Ratio + Profit_Margin = 100% check:  0  transactions outside tolerance\n",
      "✓ Revenue_Per_Unit calculation: ✅ PASSED \n",
      "\n",
      "📋 VALIDATION SUMMARY REPORT\n",
      "═══════════════════════════════\n",
      "Data validation completed. Review all sections above before proceeding.\n",
      "\n",
      "🎯 Next Steps:\n",
      "1. Investigate any failed validations or extreme values\n",
      "2. Document validation results for stakeholder presentation\n",
      "3. Consider data cleaning if significant issues are found\n",
      "4. Proceed with analysis only after validation passes\n",
      "\n",
      "⚠️  Remember: Never present unvalidated results to business stakeholders!\n"
     ]
    }
   ],
   "source": [
    "# Comprehensive Data Validation and Quality Assurance\n",
    "cat(\"📋 COMPREHENSIVE DATA VALIDATION REPORT\\n\")\n",
    "cat(\"════════════════════════════════════════\\n\\n\")\n",
    "\n",
    "# SECTION 1: Mathematical Calculation Verification\n",
    "cat(\"🧮 SECTION 1: CALCULATION VERIFICATION\\n\")\n",
    "cat(\"─────────────────────────────────────────\\n\")\n",
    "\n",
    "# 1. Validate profit calculation (Profit = Revenue - Cost)\n",
    "# TODO: Check if Profit equals Revenue - Cost using all.equal()\n",
    "profit_validation <- all.equal(company_data$Profit, company_data$Revenue - company_data$Cost)\n",
    "cat(\"✓ Profit calculation (Revenue - Cost): \")\n",
    "cat(ifelse(profit_validation == TRUE, \"✅ PASSED\", \"❌ FAILED\"), \"\\n\")\n",
    "\n",
    "# 2. Validate profit margin calculation ((Profit/Revenue)*100)\n",
    "# TODO: Check if Profit_Margin equals (Profit/Revenue)*100\n",
    "expected_profit_margin <- (company_data$Profit / company_data$Revenue) * 100\n",
    "margin_validation <- all.equal(company_data$Profit_Margin, expected_profit_margin)\n",
    "cat(\"✓ Profit Margin calculation: \")\n",
    "cat(ifelse(margin_validation == TRUE, \"✅ PASSED\", \"❌ FAILED\"), \"\\n\")\n",
    "\n",
    "# 3. Validate ROI calculation ((Profit/Cost)*100)\n",
    "# TODO: Check if ROI equals (Profit/Cost)*100\n",
    "expected_roi <- (company_data$Profit / company_data$Cost) * 100\n",
    "roi_validation <- all.equal(company_data$ROI, expected_roi)\n",
    "cat(\"✓ ROI calculation: \")\n",
    "cat(ifelse(roi_validation == TRUE, \"✅ PASSED\", \"❌ FAILED\"), \"\\n\")\n",
    "\n",
    "# SECTION 2: Range and Outlier Analysis\n",
    "cat(\"\\n📊 SECTION 2: RANGE AND OUTLIER VALIDATION\\n\")\n",
    "cat(\"──────────────────────────────────────────────\\n\")\n",
    "\n",
    "# 4. Check for extreme profit margins (business logic: should rarely exceed 100% or be below -50%)\n",
    "# TODO: Count transactions with extreme profit margins (>100% or <-50%)\n",
    "extreme_margins <- sum(company_data$Profit_Margin > 100 | company_data$Profit_Margin < -50, na.rm = TRUE)\n",
    "cat(\"⚠️  Extreme profit margins (>100% or <-50%): \", extreme_margins, \" transactions\\n\")\n",
    "\n",
    "# 5. Check for impossible business values\n",
    "# TODO: Count negative revenues (impossible in normal business)\n",
    "negative_revenue <- sum(company_data$Revenue < 0, na.rm = TRUE)\n",
    "cat(\"⚠️  Negative revenue values: \", negative_revenue, \" transactions\\n\")\n",
    "\n",
    "# TODO: Count zero or negative units sold (business logic violation)\n",
    "invalid_units <- sum(company_data$Units_Sold <= 0, na.rm = TRUE)\n",
    "cat(\"⚠️  Invalid units sold (≤0): \", invalid_units, \" transactions\\n\")\n",
    "\n",
    "# SECTION 3: Missing Data Analysis\n",
    "cat(\"\\n🔍 SECTION 3: MISSING DATA ANALYSIS\\n\")\n",
    "cat(\"──────────────────────────────────────\\n\")\n",
    "\n",
    "# 6. Check for missing values in critical business columns\n",
    "# TODO: Count missing values in Revenue, Cost, and Units_Sold\n",
    "cat(\"Missing value analysis:\\n\")\n",
    "missing_revenue <- sum(is.na(company_data$Revenue))\n",
    "missing_cost <- sum(is.na(company_data$Cost))\n",
    "missing_units <- sum(is.na(company_data$Units_Sold))\n",
    "missing_profit <- sum(is.na(company_data$Profit))\n",
    "\n",
    "cat(\"  • Missing Revenue values: \", missing_revenue, \"\\n\")\n",
    "cat(\"  • Missing Cost values: \", missing_cost, \"\\n\") \n",
    "cat(\"  • Missing Units_Sold values: \", missing_units, \"\\n\")\n",
    "cat(\"  • Missing Profit values: \", missing_profit, \"\\n\")\n",
    "\n",
    "# SECTION 4: Categorical Variable Validation\n",
    "cat(\"\\n🏷️  SECTION 4: CATEGORICAL VARIABLE VALIDATION\\n\")\n",
    "cat(\"─────────────────────────────────────────────────\\n\")\n",
    "\n",
    "# 7. Validate Performance_Category assignments\n",
    "# TODO: Check if High performers actually have Profit_Margin > 50\n",
    "high_perf_correct <- sum(company_data$Performance_Category == \"High\" & company_data$Profit_Margin > 50, na.rm = TRUE)\n",
    "high_perf_total <- sum(company_data$Performance_Category == \"High\", na.rm = TRUE)\n",
    "cat(\"✓ High Performance category accuracy: \", high_perf_correct, \"/\", high_perf_total, \" correctly assigned\\n\")\n",
    "\n",
    "# TODO: Check if Revenue_Size categories match their criteria\n",
    "large_revenue_correct <- sum(company_data$Revenue_Size == \"Large\" & company_data$Revenue > 30000, na.rm = TRUE)\n",
    "large_revenue_total <- sum(company_data$Revenue_Size == \"Large\", na.rm = TRUE)\n",
    "cat(\"✓ Large Revenue_Size category accuracy: \", large_revenue_correct, \"/\", large_revenue_total, \" correctly assigned\\n\")\n",
    "\n",
    "# SECTION 5: Summary Statistics Review\n",
    "cat(\"\\n📈 SECTION 5: SUMMARY STATISTICS REVIEW\\n\")\n",
    "cat(\"─────────────────────────────────────────\\n\")\n",
    "\n",
    "cat(\"Key financial metrics summary (check for reasonableness):\\n\")\n",
    "# TODO: Display summary statistics for Profit_Margin and ROI\n",
    "cat(\"\\nProfit Margin Distribution:\\n\")\n",
    "print(summary(company_data$Profit_Margin))\n",
    "\n",
    "cat(\"\\nROI Distribution:\\n\")\n",
    "print(summary(company_data$ROI))\n",
    "\n",
    "# SECTION 6: Business Logic Validation\n",
    "cat(\"\\n💼 SECTION 6: BUSINESS LOGIC VALIDATION\\n\")\n",
    "cat(\"─────────────────────────────────────────\\n\")\n",
    "\n",
    "# 8. Check if Cost_Ratio + Profit_Margin approximately equals 100%\n",
    "# TODO: Verify that Cost_Ratio + Profit_Margin ≈ 100% (allowing for rounding)\n",
    "total_percentage_check <- abs((company_data$Cost_Ratio + company_data$Profit_Margin) - 100)\n",
    "percentage_errors <- sum(total_percentage_check > 1, na.rm = TRUE)  # Allow 1% tolerance for rounding\n",
    "cat(\"✓ Cost_Ratio + Profit_Margin = 100% check: \", percentage_errors, \" transactions outside tolerance\\n\")\n",
    "\n",
    "# 9. Verify Revenue_Per_Unit and Cost_Per_Unit calculations\n",
    "# TODO: Check if Revenue_Per_Unit = Revenue / Units_Sold\n",
    "expected_revenue_per_unit <- company_data$Revenue / company_data$Units_Sold\n",
    "revenue_per_unit_check <- all.equal(company_data$Revenue_Per_Unit, expected_revenue_per_unit)\n",
    "cat(\"✓ Revenue_Per_Unit calculation: \")\n",
    "cat(ifelse(revenue_per_unit_check == TRUE, \"✅ PASSED\", \"❌ FAILED\"), \"\\n\")\n",
    "\n",
    "# VALIDATION SUMMARY\n",
    "cat(\"\\n📋 VALIDATION SUMMARY REPORT\\n\")\n",
    "cat(\"═══════════════════════════════\\n\")\n",
    "cat(\"Data validation completed. Review all sections above before proceeding.\\n\")\n",
    "cat(\"\\n🎯 Next Steps:\\n\")\n",
    "cat(\"1. Investigate any failed validations or extreme values\\n\")\n",
    "cat(\"2. Document validation results for stakeholder presentation\\n\")\n",
    "cat(\"3. Consider data cleaning if significant issues are found\\n\")\n",
    "cat(\"4. Proceed with analysis only after validation passes\\n\")\n",
    "cat(\"\\n⚠️  Remember: Never present unvalidated results to business stakeholders!\\n\")"
   ]
  },
  {
   "cell_type": "markdown",
   "id": "07f1fbcc",
   "metadata": {},
   "source": [
    "## Part 9: Business Insights and Recommendations\n",
    "\n",
    "**Task**: Synthesize your analysis into actionable business insights and strategic recommendations.\n",
    "\n",
    "**Business Context**: The ultimate goal of data analysis is to drive business decisions. This section requires you to think like a business consultant, translating your technical findings into strategic recommendations that stakeholders can act upon.\n",
    "\n",
    "**Required deliverables**:\n",
    "1. **Key Findings**: Top 3-5 most important insights from your analysis\n",
    "2. **Performance Gaps**: Areas where the business is underperforming\n",
    "3. **Opportunities**: Segments or regions with growth potential  \n",
    "4. **Strategic Recommendations**: Specific, actionable suggestions\n",
    "5. **Risk Factors**: Data-driven identification of potential business risks\n",
    "\n",
    "**Hint**: Frame your insights in business terms, focusing on revenue impact, efficiency improvements, and strategic opportunities rather than just statistical findings."
   ]
  },
  {
   "cell_type": "code",
   "execution_count": 91,
   "id": "39e61cb5",
   "metadata": {
    "vscode": {
     "languageId": "r"
    }
   },
   "outputs": [
    {
     "name": "stdout",
     "output_type": "stream",
     "text": [
      "💡 BUSINESS INSIGHTS & RECOMMENDATIONS\n",
      "════════════════════════════════════════\n",
      "\n",
      "🔍 KEY FINDINGS:\n",
      "─────────────────\n",
      "1. Top Region:  Europe  generates $ 2,224,182  ( 28.6 % of total revenue)\n",
      "2. Top Product Category:  Consulting  generates $ 1,978,840  ( 25.5 % of total revenue)\n",
      "3. Profitable Deals:  168  out of  300  ( 56 % of total deals)\n",
      "4. Best Margin Category:  Software  with an average profit margin of  46.4 %\n",
      "\n",
      "💰 PERFORMANCE ANALYSIS:\n",
      "────────────────────────\n",
      "Performance Distribution:\n",
      "  Performance_Category   n percentage\n",
      "1                 High 113   37.66667\n",
      "2                  Low  66   22.00000\n",
      "3               Medium 121   40.33333\n",
      "\n",
      "🎯 STRATEGIC RECOMMENDATIONS:\n",
      "──────────────────────────────\n",
      "1. Focus expansion efforts on top-performing regions and product categories\n",
      "2. Investigate success factors from high-performing segments for replication\n",
      "3. Implement targeted marketing to convert medium performers to high performers\n",
      "4. Review pricing strategies in low-margin categories to improve profitability\n",
      "5. Consider incentives/reinforcers for high-value customers to boost loyalty and repeat business\n",
      "\n",
      "⚠️  RISK FACTORS & OPPORTUNITIES:\n",
      "──────────────────────────────────\n",
      "Risks:\n",
      "1. While certain regions and categories perform well, not catering to underperforming segments could lead to missed opportunities.\n",
      "2. High dependency on a few top-performing categories may pose risks if market conditions change.\n",
      "3. Some individual employees perform well, losing them could impact overall performance.\n"
     ]
    }
   ],
   "source": [
    "# Generate business insights and recommendations\n",
    "cat(\"💡 BUSINESS INSIGHTS & RECOMMENDATIONS\\n\")\n",
    "cat(\"════════════════════════════════════════\\n\\n\")\n",
    "\n",
    "cat(\"🔍 KEY FINDINGS:\\n\")\n",
    "cat(\"─────────────────\\n\")\n",
    "\n",
    "# TODO: Identify and present your top 3-5 key findings\n",
    "# For example:\n",
    "# 1. Which region generates the most revenue?\n",
    "# 2. What percentage of deals are highly profitable?\n",
    "# 3. Which product category has the best margins?\n",
    "# 4. How many transactions fall into each performance category?\n",
    "\n",
    "# Find top performing region\n",
    "top_region_data <- regional_performance %>% slice(1)\n",
    "cat(\"1. Top Region: \", top_region_data$Region, \" generates $\", \n",
    "    format(top_region_data$total_revenue, big.mark = \",\"), \n",
    "    \" (\", round(top_region_data$revenue_share, 1), \"% of total revenue)\\n\")\n",
    "\n",
    "# TODO: Add 3-4 more key findings using your analysis results\n",
    "top_category_data <- category_performance %>% slice(1)\n",
    "cat(\"2. Top Product Category: \", top_category_data$Product_Category, \" generates $\", \n",
    "    format(top_category_data$total_revenue, big.mark = \",\"), \n",
    "    \" (\", round(top_category_data$revenue_share, 1), \"% of total revenue)\\n\")\n",
    "\n",
    "profitable_deals <- sum(company_data$Profitable_Deal == \"Yes\")\n",
    "total_deals <- nrow(company_data)\n",
    "cat(\"3. Profitable Deals: \", profitable_deals, \" out of \", total_deals, \n",
    "    \" (\", round((profitable_deals / total_deals) * 100, 1), \"% of total deals)\\n\")\n",
    "\n",
    "category_margins <- category_performance %>%\n",
    "  arrange(desc(avg_profit_margin)) %>%\n",
    "  slice(1)\n",
    "cat(\"4. Best Margin Category: \", category_margins$Product_Category, \" with an average profit margin of \", \n",
    "    round(category_margins$avg_profit_margin, 1), \"%\\n\")   \n",
    "\n",
    "\n",
    "\n",
    "\n",
    "cat(\"\\n💰 PERFORMANCE ANALYSIS:\\n\")\n",
    "cat(\"────────────────────────\\n\")\n",
    "\n",
    "# TODO: Analyze the distribution of performance categories\n",
    "# What percentage are high/medium/low performers?\n",
    "performance_dist <- performance_counts %>%\n",
    "  mutate(percentage = (n / sum(n)) * 100)\n",
    "cat(\"Performance Distribution:\\n\")\n",
    "print(performance_dist)\n",
    "\n",
    "\n",
    "cat(\"\\n🎯 STRATEGIC RECOMMENDATIONS:\\n\") \n",
    "cat(\"──────────────────────────────\\n\")\n",
    "\n",
    "# TODO: Provide 4-5 specific, actionable recommendations based on your analysis\n",
    "cat(\"1. Focus expansion efforts on top-performing regions and product categories\\n\")\n",
    "cat(\"2. Investigate success factors from high-performing segments for replication\\n\")\n",
    "# TODO: Add 3 more recommendations\n",
    "cat(\"3. Implement targeted marketing to convert medium performers to high performers\\n\")\n",
    "cat(\"4. Review pricing strategies in low-margin categories to improve profitability\\n\")\n",
    "cat(\"5. Consider incentives/reinforcers for high-value customers to boost loyalty and repeat business\\n\")\n",
    "\n",
    "\n",
    "cat(\"\\n⚠️  RISK FACTORS & OPPORTUNITIES:\\n\")\n",
    "cat(\"──────────────────────────────────\\n\")\n",
    "\n",
    "# TODO: Identify potential risks and opportunities based on your data analysis\n",
    "cat(\"Risks:\\n\")\n",
    "cat(\"1. While certain regions and categories perform well, not catering to underperforming segments could lead to missed opportunities.\\n\")\n",
    "cat(\"2. High dependency on a few top-performing categories may pose risks if market conditions change.\\n\")\n",
    "cat(\"3. Some individual employees perform well, losing them could impact overall performance.\\n\")\n",
    "\n"
   ]
  },
  {
   "cell_type": "markdown",
   "id": "383b31ce",
   "metadata": {},
   "source": [
    "## Reflection Questions\n",
    "\n",
    "**Task**: Answer the following questions to demonstrate your understanding of the business applications of data transformation.\n",
    "\n",
    "**Business Context**: Reflection is a critical part of the learning process in data analytics. Understanding not just how to perform analyses, but when and why to use different techniques, distinguishes proficient analysts from experts.\n",
    "\n",
    "**Questions to address**:\n",
    "\n",
    "1. **Technical Mastery**: Which dplyr function (mutate, summarize, group_by, count) did you find most powerful for business analysis, and why?\n",
    "\n",
    "2. **Business Impact**: What was the most surprising or valuable insight you discovered in your analysis?\n",
    "\n",
    "3. **Strategic Thinking**: If you were presenting these findings to a company executive, which 3 insights would you prioritize and why?\n",
    "\n",
    "4. **Methodology**: How did grouping and segmentation help reveal patterns that weren't visible in the raw data?\n",
    "\n",
    "5. **Future Applications**: What additional business questions could you answer with this dataset using the techniques you've learned?\n",
    "\n",
    "**Instructions**: Write thoughtful, paragraph-length responses that demonstrate both technical understanding and business acumen."
   ]
  },
  {
   "cell_type": "markdown",
   "id": "c3f3aabf",
   "metadata": {},
   "source": [
    "### Reflection Responses\n",
    "\n",
    "**1. Most Powerful Function for Business Analysis:**\n",
    "\n",
    "I think the mutate() function is extremely powerful. You can do all sorts of things that help you deal with your data. First off you can insert data that is missing or incorrect. You can also create new variables that help you analyze your data better. For example, you can create a profit margin variable that helps you see how much profit you are making on each sale. This is really important for businesses because it helps them see how well they are doing and where they can improve. Overall, mutate() is a really useful function that helps you get the most out of your data.\n",
    "\n",
    "**2. Most Valuable Business Insight:**\n",
    "\n",
    "The biggest surprise was how much of the value came from just a few key areas. At first, the overall numbers looked fine, but after transforming and breaking things down, I saw that certain products or regions were carrying most of the results. That showed both risk and opportunity.\n",
    "**3. Top 3 Insights for Executive Presentation:**\n",
    "If I were talking to an executive, I’d highlight three things: Which areas are doing well (profit/sales/top performing regions), which areas are struggling(same thing but the downsides), and the way that data has shifted over time. I think this allows decision makers to adjust their business compass, and make informed decisions that are more likely to lead to better outcomes. \n",
    "\n",
    "**4. Value of Grouping and Segmentation:**\n",
    "\n",
    "Grouping and segmenting helped me see patterns that weren’t obvious in the raw data. Instead of one big messy picture, I could compare categories side by side. That made it clear which areas were stronger and which needed more attention. Being able to understand data at a glance is valuable to not only you, but also to your higher-ups.\n",
    "\n",
    "**5. Future Business Applications:**\n",
    "\n",
    "With the same dataset, I could answer other questions like how sales change by season, which customers keep coming back, and who made the actual sale. Looking at those details would show patterns in customer behavior and sales performance. From there, the business could make smarter, data-informed decisions about inventory, marketing, and staffing."
   ]
  },
  {
   "cell_type": "markdown",
   "id": "bad49f6e",
   "metadata": {},
   "source": [
    "## Submission Checklist\n",
    "\n",
    "Before submitting your homework, ensure you have completed all sections:\n",
    "\n",
    "### Technical Requirements\n",
    "- [ ] **Part 1**: Successfully imported data and performed initial exploration\n",
    "- [ ] **Part 2**: Created all required financial metrics using mutate()\n",
    "- [ ] **Part 3**: Developed categorical variables for business segmentation  \n",
    "- [ ] **Part 4**: Generated comprehensive summary statistics\n",
    "- [ ] **Part 5**: Performed grouped analysis by multiple business dimensions\n",
    "- [ ] **Part 6**: Conducted frequency analysis and cross-tabulations\n",
    "- [ ] **Part 7**: Created a professional business intelligence dashboard\n",
    "- [ ] **Part 8**: Validated data quality and calculation accuracy\n",
    "- [ ] **Part 9**: Synthesized findings into business insights and recommendations\n",
    "\n",
    "### Code Quality\n",
    "- [ ] All code sections are completed with working R code\n",
    "- [ ] Code is well-commented and follows best practices\n",
    "- [ ] Variable names are meaningful and consistent\n",
    "- [ ] Proper use of the pipe operator (%>%) for readable code chains\n",
    "- [ ] Appropriate use of .groups = 'drop' after group_by operations\n",
    "\n",
    "### Business Analysis\n",
    "- [ ] Analysis demonstrates understanding of business context\n",
    "- [ ] Insights are presented in business-friendly language\n",
    "- [ ] Recommendations are specific and actionable\n",
    "- [ ] Cross-dimensional analysis reveals meaningful patterns\n",
    "- [ ] Dashboard provides comprehensive performance overview\n",
    "\n",
    "### Reflection and Learning\n",
    "- [ ] Reflection questions answered thoughtfully and completely\n",
    "- [ ] Responses demonstrate both technical and business understanding\n",
    "- [ ] Examples from your own analysis support your reflections\n",
    "\n",
    "**Final Note**: This homework simulates real-world business analytics work. Focus not just on getting the right technical results, but on developing the analytical thinking skills that drive business value. In professional settings, your ability to translate data into actionable insights is what makes you valuable to an organization.\n",
    "\n",
    "**Good luck, and remember**: Great analysts don't just manipulate data—they uncover the stories that data tells about business performance and opportunities!\n",
    "\n",
    "---\n",
    "\n",
    "## 🚀 Ready to Submit?\n",
    "\n",
    "### Easy Submission Steps (No Command Line Required!):\n",
    "\n",
    "1. **Save this notebook** (Ctrl+S or File → Save)\n",
    "\n",
    "2. **Use VS Code Source Control**:\n",
    "   - Click the **Source Control** icon in the left sidebar (tree branch symbol)\n",
    "   - Click the **\"+\"** button next to your notebook file\n",
    "   - Type a message: `Submit homework 2 - Data Cleaning - [Your Name]`\n",
    "   - Click **\"Commit\"** \n",
    "   - Click **\"Sync Changes\"** or **\"Push\"**\n",
    "\n",
    "3. **Verify on GitHub**: Go to your repository online and confirm your notebook appears with your completed work\n",
    "\n",
    "**📖 Need help?** See [GITHUB_CLASSROOM_SUBMISSION.md](../../GITHUB_CLASSROOM_SUBMISSION.md) for detailed instructions.\n"
   ]
  }
 ],
 "metadata": {
  "kernelspec": {
   "display_name": "R",
   "language": "R",
   "name": "ir"
  },
  "language_info": {
   "codemirror_mode": "r",
   "file_extension": ".r",
   "mimetype": "text/x-r-source",
   "name": "R",
   "pygments_lexer": "r",
   "version": "4.4.3"
  }
 },
 "nbformat": 4,
 "nbformat_minor": 5
}
