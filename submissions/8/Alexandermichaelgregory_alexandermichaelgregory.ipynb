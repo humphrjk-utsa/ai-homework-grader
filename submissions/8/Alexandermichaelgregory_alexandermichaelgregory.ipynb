{
 "cells": [
  {
   "cell_type": "markdown",
   "id": "3d8bca02",
   "metadata": {},
   "source": [
    "# Homework Assignment - Lesson 3: Data Transformation with dplyr - Part 1\n",
    "\n",
    "**Student Name:** Michael Alexander\n",
    "\n",
    "**Due Date:** 09/21/2025\n",
    "\n",
    "**Objective:** Learn to use dplyr functions (`select()`, `filter()`, `arrange()`) and the pipe operator (`%>%`) for data transformation and analysis.\n",
    "\n",
    "---\n",
    "\n",
    "## Instructions\n",
    "\n",
    "- Complete all tasks in this notebook\n",
    "- Use the pipe operator (`%>%`) wherever possible to chain operations\n",
    "- Ensure your code is well-commented and easy to understand\n",
    "- Run all cells to verify your code works correctly\n",
    "- Answer all reflection questions at the end\n",
    "\n",
    "---"
   ]
  },
  {
   "cell_type": "markdown",
   "id": "2baa2287",
   "metadata": {},
   "source": [
    "## Part 1: Data Import and Setup\n",
    "\n",
    "In this section, you'll import the retail transactions dataset and perform initial exploration.\n",
    "\n",
    "**Dataset:** `retail_transactions.csv` - This dataset contains transaction records from a retail business with information about customers, products, dates, amounts, and quantities."
   ]
  },
  {
   "cell_type": "code",
   "execution_count": 1,
   "id": "4628c41c",
   "metadata": {
    "vscode": {
     "languageId": "r"
    }
   },
   "outputs": [
    {
     "name": "stderr",
     "output_type": "stream",
     "text": [
      "── \u001b[1mAttaching core tidyverse packages\u001b[22m ──────────────────────── tidyverse 2.0.0 ──\n",
      "\u001b[32m✔\u001b[39m \u001b[34mdplyr    \u001b[39m 1.1.4     \u001b[32m✔\u001b[39m \u001b[34mreadr    \u001b[39m 2.1.5\n",
      "\u001b[32m✔\u001b[39m \u001b[34mforcats  \u001b[39m 1.0.0     \u001b[32m✔\u001b[39m \u001b[34mstringr  \u001b[39m 1.5.2\n",
      "\u001b[32m✔\u001b[39m \u001b[34mggplot2  \u001b[39m 4.0.0     \u001b[32m✔\u001b[39m \u001b[34mtibble   \u001b[39m 3.3.0\n",
      "\u001b[32m✔\u001b[39m \u001b[34mlubridate\u001b[39m 1.9.4     \u001b[32m✔\u001b[39m \u001b[34mtidyr    \u001b[39m 1.3.1\n",
      "\u001b[32m✔\u001b[39m \u001b[34mpurrr    \u001b[39m 1.1.0     \n",
      "── \u001b[1mConflicts\u001b[22m ────────────────────────────────────────── tidyverse_conflicts() ──\n",
      "\u001b[31m✖\u001b[39m \u001b[34mdplyr\u001b[39m::\u001b[32mfilter()\u001b[39m masks \u001b[34mstats\u001b[39m::filter()\n",
      "\u001b[31m✖\u001b[39m \u001b[34mdplyr\u001b[39m::\u001b[32mlag()\u001b[39m    masks \u001b[34mstats\u001b[39m::lag()\n",
      "\u001b[36mℹ\u001b[39m Use the conflicted package (\u001b[3m\u001b[34m<http://conflicted.r-lib.org/>\u001b[39m\u001b[23m) to force all conflicts to become errors\n"
     ]
    }
   ],
   "source": [
    "# Install required packages\n",
    "if (!require(tidyverse, quietly = TRUE)) {\n",
    "  install.packages(\"tidyverse\", repos = \"https://cran.rstudio.com/\")\n",
    "  library(tidyverse)\n",
    "}"
   ]
  },
  {
   "cell_type": "code",
   "execution_count": 2,
   "id": "764c19b0",
   "metadata": {
    "vscode": {
     "languageId": "r"
    }
   },
   "outputs": [
    {
     "name": "stderr",
     "output_type": "stream",
     "text": [
      "\u001b[1mRows: \u001b[22m\u001b[34m15\u001b[39m \u001b[1mColumns: \u001b[22m\u001b[34m11\u001b[39m\n",
      "\u001b[36m──\u001b[39m \u001b[1mColumn specification\u001b[22m \u001b[36m────────────────────────────────────────────────────────\u001b[39m\n",
      "\u001b[1mDelimiter:\u001b[22m \",\"\n",
      "\u001b[31mchr\u001b[39m  (7): TransactionID, CustomerID, CustomerName, CustomerCity, ProductID, ...\n",
      "\u001b[32mdbl\u001b[39m  (3): Quantity, UnitPrice, TotalAmount\n",
      "\u001b[34mdate\u001b[39m (1): TransactionDate\n",
      "\n",
      "\u001b[36mℹ\u001b[39m Use `spec()` to retrieve the full column specification for this data.\n",
      "\u001b[36mℹ\u001b[39m Specify the column types or set `show_col_types = FALSE` to quiet this message.\n"
     ]
    },
    {
     "name": "stdout",
     "output_type": "stream",
     "text": [
      "Data imported successfully!\n",
      "Dataset dimensions: 15 rows x 11 columns\n"
     ]
    }
   ],
   "source": [
    "# Load required libraries\n",
    "library(tidyverse)\n",
    "\n",
    "# Set working directory if needed\n",
    "# setwd(\"path/to/your/data\")\n",
    "\n",
    "# Task 1.1: Import the retail_transactions.csv file\n",
    "# Create a data frame named 'transactions'\n",
    "# Note: Import the retail_transactions.csv file\n",
    "\n",
    "# Your code here:\n",
    "transactions <- read_csv(\"retail_transactions.csv\")\n",
    "\n",
    "# Display success message\n",
    "cat(\"Data imported successfully!\\n\")\n",
    "cat(\"Dataset dimensions:\", nrow(transactions), \"rows x\", ncol(transactions), \"columns\\n\")"
   ]
  },
  {
   "cell_type": "code",
   "execution_count": 3,
   "id": "dd72af91",
   "metadata": {
    "vscode": {
     "languageId": "r"
    }
   },
   "outputs": [
    {
     "name": "stdout",
     "output_type": "stream",
     "text": [
      "First 10 rows of the dataset:\n"
     ]
    },
    {
     "data": {
      "text/html": [
       "<table class=\"dataframe\">\n",
       "<caption>A tibble: 10 × 11</caption>\n",
       "<thead>\n",
       "\t<tr><th scope=col>TransactionID</th><th scope=col>CustomerID</th><th scope=col>CustomerName</th><th scope=col>CustomerCity</th><th scope=col>ProductID</th><th scope=col>ProductName</th><th scope=col>ProductCategory</th><th scope=col>Quantity</th><th scope=col>UnitPrice</th><th scope=col>TotalAmount</th><th scope=col>TransactionDate</th></tr>\n",
       "\t<tr><th scope=col>&lt;chr&gt;</th><th scope=col>&lt;chr&gt;</th><th scope=col>&lt;chr&gt;</th><th scope=col>&lt;chr&gt;</th><th scope=col>&lt;chr&gt;</th><th scope=col>&lt;chr&gt;</th><th scope=col>&lt;chr&gt;</th><th scope=col>&lt;dbl&gt;</th><th scope=col>&lt;dbl&gt;</th><th scope=col>&lt;dbl&gt;</th><th scope=col>&lt;date&gt;</th></tr>\n",
       "</thead>\n",
       "<tbody>\n",
       "\t<tr><td>T001</td><td>C001</td><td>John Smith   </td><td>New York    </td><td>P001</td><td>Laptop            </td><td>Electronics</td><td>1</td><td>999.99</td><td>999.99</td><td>2024-03-15</td></tr>\n",
       "\t<tr><td>T002</td><td>C002</td><td>Sarah Johnson</td><td>Los Angeles </td><td>P002</td><td>Book: Data Science</td><td>Books      </td><td>2</td><td> 29.99</td><td> 59.98</td><td>2024-03-16</td></tr>\n",
       "\t<tr><td>T003</td><td>C003</td><td>Mike Brown   </td><td>Chicago     </td><td>P003</td><td>Headphones        </td><td>Electronics</td><td>1</td><td>199.99</td><td>199.99</td><td>2024-03-17</td></tr>\n",
       "\t<tr><td>T004</td><td>C001</td><td>John Smith   </td><td>New York    </td><td>P004</td><td>T-Shirt           </td><td>Clothing   </td><td>3</td><td> 19.99</td><td> 59.97</td><td>2024-03-18</td></tr>\n",
       "\t<tr><td>T005</td><td>C004</td><td>Emily Davis  </td><td>Houston     </td><td>P005</td><td>Coffee Maker      </td><td>Electronics</td><td>1</td><td> 79.99</td><td> 79.99</td><td>2024-03-19</td></tr>\n",
       "\t<tr><td>T006</td><td>C002</td><td>Sarah Johnson</td><td>Los Angeles </td><td>P006</td><td>Movie: Inception  </td><td>Movies     </td><td>1</td><td> 14.99</td><td> 14.99</td><td>2024-03-20</td></tr>\n",
       "\t<tr><td>T007</td><td>C005</td><td>David Wilson </td><td>Phoenix     </td><td>P007</td><td>Jeans             </td><td>Clothing   </td><td>2</td><td> 49.99</td><td> 99.98</td><td>2024-03-21</td></tr>\n",
       "\t<tr><td>T008</td><td>C003</td><td>Mike Brown   </td><td>Chicago     </td><td>P008</td><td>Music Album       </td><td>Music      </td><td>1</td><td> 12.99</td><td> 12.99</td><td>2024-03-22</td></tr>\n",
       "\t<tr><td>T009</td><td>C006</td><td>Lisa Anderson</td><td>Philadelphia</td><td>P009</td><td>Smartphone        </td><td>Electronics</td><td>1</td><td>699.99</td><td>699.99</td><td>2024-03-23</td></tr>\n",
       "\t<tr><td>T010</td><td>C007</td><td>Robert Taylor</td><td>San Antonio </td><td>P010</td><td>Cooking Book      </td><td>Books      </td><td>1</td><td> 24.99</td><td> 24.99</td><td>2024-03-24</td></tr>\n",
       "</tbody>\n",
       "</table>\n"
      ],
      "text/latex": [
       "A tibble: 10 × 11\n",
       "\\begin{tabular}{lllllllllll}\n",
       " TransactionID & CustomerID & CustomerName & CustomerCity & ProductID & ProductName & ProductCategory & Quantity & UnitPrice & TotalAmount & TransactionDate\\\\\n",
       " <chr> & <chr> & <chr> & <chr> & <chr> & <chr> & <chr> & <dbl> & <dbl> & <dbl> & <date>\\\\\n",
       "\\hline\n",
       "\t T001 & C001 & John Smith    & New York     & P001 & Laptop             & Electronics & 1 & 999.99 & 999.99 & 2024-03-15\\\\\n",
       "\t T002 & C002 & Sarah Johnson & Los Angeles  & P002 & Book: Data Science & Books       & 2 &  29.99 &  59.98 & 2024-03-16\\\\\n",
       "\t T003 & C003 & Mike Brown    & Chicago      & P003 & Headphones         & Electronics & 1 & 199.99 & 199.99 & 2024-03-17\\\\\n",
       "\t T004 & C001 & John Smith    & New York     & P004 & T-Shirt            & Clothing    & 3 &  19.99 &  59.97 & 2024-03-18\\\\\n",
       "\t T005 & C004 & Emily Davis   & Houston      & P005 & Coffee Maker       & Electronics & 1 &  79.99 &  79.99 & 2024-03-19\\\\\n",
       "\t T006 & C002 & Sarah Johnson & Los Angeles  & P006 & Movie: Inception   & Movies      & 1 &  14.99 &  14.99 & 2024-03-20\\\\\n",
       "\t T007 & C005 & David Wilson  & Phoenix      & P007 & Jeans              & Clothing    & 2 &  49.99 &  99.98 & 2024-03-21\\\\\n",
       "\t T008 & C003 & Mike Brown    & Chicago      & P008 & Music Album        & Music       & 1 &  12.99 &  12.99 & 2024-03-22\\\\\n",
       "\t T009 & C006 & Lisa Anderson & Philadelphia & P009 & Smartphone         & Electronics & 1 & 699.99 & 699.99 & 2024-03-23\\\\\n",
       "\t T010 & C007 & Robert Taylor & San Antonio  & P010 & Cooking Book       & Books       & 1 &  24.99 &  24.99 & 2024-03-24\\\\\n",
       "\\end{tabular}\n"
      ],
      "text/markdown": [
       "\n",
       "A tibble: 10 × 11\n",
       "\n",
       "| TransactionID &lt;chr&gt; | CustomerID &lt;chr&gt; | CustomerName &lt;chr&gt; | CustomerCity &lt;chr&gt; | ProductID &lt;chr&gt; | ProductName &lt;chr&gt; | ProductCategory &lt;chr&gt; | Quantity &lt;dbl&gt; | UnitPrice &lt;dbl&gt; | TotalAmount &lt;dbl&gt; | TransactionDate &lt;date&gt; |\n",
       "|---|---|---|---|---|---|---|---|---|---|---|\n",
       "| T001 | C001 | John Smith    | New York     | P001 | Laptop             | Electronics | 1 | 999.99 | 999.99 | 2024-03-15 |\n",
       "| T002 | C002 | Sarah Johnson | Los Angeles  | P002 | Book: Data Science | Books       | 2 |  29.99 |  59.98 | 2024-03-16 |\n",
       "| T003 | C003 | Mike Brown    | Chicago      | P003 | Headphones         | Electronics | 1 | 199.99 | 199.99 | 2024-03-17 |\n",
       "| T004 | C001 | John Smith    | New York     | P004 | T-Shirt            | Clothing    | 3 |  19.99 |  59.97 | 2024-03-18 |\n",
       "| T005 | C004 | Emily Davis   | Houston      | P005 | Coffee Maker       | Electronics | 1 |  79.99 |  79.99 | 2024-03-19 |\n",
       "| T006 | C002 | Sarah Johnson | Los Angeles  | P006 | Movie: Inception   | Movies      | 1 |  14.99 |  14.99 | 2024-03-20 |\n",
       "| T007 | C005 | David Wilson  | Phoenix      | P007 | Jeans              | Clothing    | 2 |  49.99 |  99.98 | 2024-03-21 |\n",
       "| T008 | C003 | Mike Brown    | Chicago      | P008 | Music Album        | Music       | 1 |  12.99 |  12.99 | 2024-03-22 |\n",
       "| T009 | C006 | Lisa Anderson | Philadelphia | P009 | Smartphone         | Electronics | 1 | 699.99 | 699.99 | 2024-03-23 |\n",
       "| T010 | C007 | Robert Taylor | San Antonio  | P010 | Cooking Book       | Books       | 1 |  24.99 |  24.99 | 2024-03-24 |\n",
       "\n"
      ],
      "text/plain": [
       "   TransactionID CustomerID CustomerName  CustomerCity ProductID\n",
       "1  T001          C001       John Smith    New York     P001     \n",
       "2  T002          C002       Sarah Johnson Los Angeles  P002     \n",
       "3  T003          C003       Mike Brown    Chicago      P003     \n",
       "4  T004          C001       John Smith    New York     P004     \n",
       "5  T005          C004       Emily Davis   Houston      P005     \n",
       "6  T006          C002       Sarah Johnson Los Angeles  P006     \n",
       "7  T007          C005       David Wilson  Phoenix      P007     \n",
       "8  T008          C003       Mike Brown    Chicago      P008     \n",
       "9  T009          C006       Lisa Anderson Philadelphia P009     \n",
       "10 T010          C007       Robert Taylor San Antonio  P010     \n",
       "   ProductName        ProductCategory Quantity UnitPrice TotalAmount\n",
       "1  Laptop             Electronics     1        999.99    999.99     \n",
       "2  Book: Data Science Books           2         29.99     59.98     \n",
       "3  Headphones         Electronics     1        199.99    199.99     \n",
       "4  T-Shirt            Clothing        3         19.99     59.97     \n",
       "5  Coffee Maker       Electronics     1         79.99     79.99     \n",
       "6  Movie: Inception   Movies          1         14.99     14.99     \n",
       "7  Jeans              Clothing        2         49.99     99.98     \n",
       "8  Music Album        Music           1         12.99     12.99     \n",
       "9  Smartphone         Electronics     1        699.99    699.99     \n",
       "10 Cooking Book       Books           1         24.99     24.99     \n",
       "   TransactionDate\n",
       "1  2024-03-15     \n",
       "2  2024-03-16     \n",
       "3  2024-03-17     \n",
       "4  2024-03-18     \n",
       "5  2024-03-19     \n",
       "6  2024-03-20     \n",
       "7  2024-03-21     \n",
       "8  2024-03-22     \n",
       "9  2024-03-23     \n",
       "10 2024-03-24     "
      ]
     },
     "metadata": {},
     "output_type": "display_data"
    },
    {
     "name": "stdout",
     "output_type": "stream",
     "text": [
      "\n",
      "Dataset structure:\n",
      "spc_tbl_ [15 × 11] (S3: spec_tbl_df/tbl_df/tbl/data.frame)\n",
      " $ TransactionID  : chr [1:15] \"T001\" \"T002\" \"T003\" \"T004\" ...\n",
      " $ CustomerID     : chr [1:15] \"C001\" \"C002\" \"C003\" \"C001\" ...\n",
      " $ CustomerName   : chr [1:15] \"John Smith\" \"Sarah Johnson\" \"Mike Brown\" \"John Smith\" ...\n",
      " $ CustomerCity   : chr [1:15] \"New York\" \"Los Angeles\" \"Chicago\" \"New York\" ...\n",
      " $ ProductID      : chr [1:15] \"P001\" \"P002\" \"P003\" \"P004\" ...\n",
      " $ ProductName    : chr [1:15] \"Laptop\" \"Book: Data Science\" \"Headphones\" \"T-Shirt\" ...\n",
      " $ ProductCategory: chr [1:15] \"Electronics\" \"Books\" \"Electronics\" \"Clothing\" ...\n",
      " $ Quantity       : num [1:15] 1 2 1 3 1 1 2 1 1 1 ...\n",
      " $ UnitPrice      : num [1:15] 1000 30 200 20 80 ...\n",
      " $ TotalAmount    : num [1:15] 1000 60 200 60 80 ...\n",
      " $ TransactionDate: Date[1:15], format: \"2024-03-15\" \"2024-03-16\" ...\n",
      " - attr(*, \"spec\")=\n",
      "  .. cols(\n",
      "  ..   TransactionID = \u001b[31mcol_character()\u001b[39m,\n",
      "  ..   CustomerID = \u001b[31mcol_character()\u001b[39m,\n",
      "  ..   CustomerName = \u001b[31mcol_character()\u001b[39m,\n",
      "  ..   CustomerCity = \u001b[31mcol_character()\u001b[39m,\n",
      "  ..   ProductID = \u001b[31mcol_character()\u001b[39m,\n",
      "  ..   ProductName = \u001b[31mcol_character()\u001b[39m,\n",
      "  ..   ProductCategory = \u001b[31mcol_character()\u001b[39m,\n",
      "  ..   Quantity = \u001b[32mcol_double()\u001b[39m,\n",
      "  ..   UnitPrice = \u001b[32mcol_double()\u001b[39m,\n",
      "  ..   TotalAmount = \u001b[32mcol_double()\u001b[39m,\n",
      "  ..   TransactionDate = \u001b[34mcol_date(format = \"\")\u001b[39m\n",
      "  .. )\n",
      " - attr(*, \"problems\")=<externalptr> \n",
      "\n",
      "Column names:\n"
     ]
    },
    {
     "data": {
      "text/html": [
       "<style>\n",
       ".list-inline {list-style: none; margin:0; padding: 0}\n",
       ".list-inline>li {display: inline-block}\n",
       ".list-inline>li:not(:last-child)::after {content: \"\\00b7\"; padding: 0 .5ex}\n",
       "</style>\n",
       "<ol class=list-inline><li>'TransactionID'</li><li>'CustomerID'</li><li>'CustomerName'</li><li>'CustomerCity'</li><li>'ProductID'</li><li>'ProductName'</li><li>'ProductCategory'</li><li>'Quantity'</li><li>'UnitPrice'</li><li>'TotalAmount'</li><li>'TransactionDate'</li></ol>\n"
      ],
      "text/latex": [
       "\\begin{enumerate*}\n",
       "\\item 'TransactionID'\n",
       "\\item 'CustomerID'\n",
       "\\item 'CustomerName'\n",
       "\\item 'CustomerCity'\n",
       "\\item 'ProductID'\n",
       "\\item 'ProductName'\n",
       "\\item 'ProductCategory'\n",
       "\\item 'Quantity'\n",
       "\\item 'UnitPrice'\n",
       "\\item 'TotalAmount'\n",
       "\\item 'TransactionDate'\n",
       "\\end{enumerate*}\n"
      ],
      "text/markdown": [
       "1. 'TransactionID'\n",
       "2. 'CustomerID'\n",
       "3. 'CustomerName'\n",
       "4. 'CustomerCity'\n",
       "5. 'ProductID'\n",
       "6. 'ProductName'\n",
       "7. 'ProductCategory'\n",
       "8. 'Quantity'\n",
       "9. 'UnitPrice'\n",
       "10. 'TotalAmount'\n",
       "11. 'TransactionDate'\n",
       "\n",
       "\n"
      ],
      "text/plain": [
       " [1] \"TransactionID\"   \"CustomerID\"      \"CustomerName\"    \"CustomerCity\"   \n",
       " [5] \"ProductID\"       \"ProductName\"     \"ProductCategory\" \"Quantity\"       \n",
       " [9] \"UnitPrice\"       \"TotalAmount\"     \"TransactionDate\""
      ]
     },
     "metadata": {},
     "output_type": "display_data"
    }
   ],
   "source": [
    "# Task 1.2: Initial Exploration\n",
    "\n",
    "# Display the first 10 rows\n",
    "cat(\"First 10 rows of the dataset:\\n\")\n",
    "# Your code here:\n",
    "head(transactions, 10)\n",
    "\n",
    "# Check the structure of the dataset\n",
    "cat(\"\\nDataset structure:\\n\")\n",
    "# Your code here:\n",
    "str(transactions)\n",
    "\n",
    "# Display column names and their data types\n",
    "cat(\"\\nColumn names:\\n\")\n",
    "# Your code here:\n",
    "colnames(transactions)"
   ]
  },
  {
   "cell_type": "markdown",
   "id": "31f0a977",
   "metadata": {},
   "source": [
    "## Part 2: Column Selection with `select()`\n",
    "\n",
    "Practice different methods of selecting columns from your dataset."
   ]
  },
  {
   "cell_type": "code",
   "execution_count": 4,
   "id": "5d4fa53b",
   "metadata": {
    "vscode": {
     "languageId": "r"
    }
   },
   "outputs": [
    {
     "name": "stdout",
     "output_type": "stream",
     "text": [
      "Basic info dataset (first 5 rows):\n"
     ]
    },
    {
     "data": {
      "text/html": [
       "<table class=\"dataframe\">\n",
       "<caption>A tibble: 5 × 4</caption>\n",
       "<thead>\n",
       "\t<tr><th scope=col>TransactionID</th><th scope=col>CustomerID</th><th scope=col>ProductName</th><th scope=col>TotalAmount</th></tr>\n",
       "\t<tr><th scope=col>&lt;chr&gt;</th><th scope=col>&lt;chr&gt;</th><th scope=col>&lt;chr&gt;</th><th scope=col>&lt;dbl&gt;</th></tr>\n",
       "</thead>\n",
       "<tbody>\n",
       "\t<tr><td>T001</td><td>C001</td><td>Laptop            </td><td>999.99</td></tr>\n",
       "\t<tr><td>T002</td><td>C002</td><td>Book: Data Science</td><td> 59.98</td></tr>\n",
       "\t<tr><td>T003</td><td>C003</td><td>Headphones        </td><td>199.99</td></tr>\n",
       "\t<tr><td>T004</td><td>C001</td><td>T-Shirt           </td><td> 59.97</td></tr>\n",
       "\t<tr><td>T005</td><td>C004</td><td>Coffee Maker      </td><td> 79.99</td></tr>\n",
       "</tbody>\n",
       "</table>\n"
      ],
      "text/latex": [
       "A tibble: 5 × 4\n",
       "\\begin{tabular}{llll}\n",
       " TransactionID & CustomerID & ProductName & TotalAmount\\\\\n",
       " <chr> & <chr> & <chr> & <dbl>\\\\\n",
       "\\hline\n",
       "\t T001 & C001 & Laptop             & 999.99\\\\\n",
       "\t T002 & C002 & Book: Data Science &  59.98\\\\\n",
       "\t T003 & C003 & Headphones         & 199.99\\\\\n",
       "\t T004 & C001 & T-Shirt            &  59.97\\\\\n",
       "\t T005 & C004 & Coffee Maker       &  79.99\\\\\n",
       "\\end{tabular}\n"
      ],
      "text/markdown": [
       "\n",
       "A tibble: 5 × 4\n",
       "\n",
       "| TransactionID &lt;chr&gt; | CustomerID &lt;chr&gt; | ProductName &lt;chr&gt; | TotalAmount &lt;dbl&gt; |\n",
       "|---|---|---|---|\n",
       "| T001 | C001 | Laptop             | 999.99 |\n",
       "| T002 | C002 | Book: Data Science |  59.98 |\n",
       "| T003 | C003 | Headphones         | 199.99 |\n",
       "| T004 | C001 | T-Shirt            |  59.97 |\n",
       "| T005 | C004 | Coffee Maker       |  79.99 |\n",
       "\n"
      ],
      "text/plain": [
       "  TransactionID CustomerID ProductName        TotalAmount\n",
       "1 T001          C001       Laptop             999.99     \n",
       "2 T002          C002       Book: Data Science  59.98     \n",
       "3 T003          C003       Headphones         199.99     \n",
       "4 T004          C001       T-Shirt             59.97     \n",
       "5 T005          C004       Coffee Maker        79.99     "
      ]
     },
     "metadata": {},
     "output_type": "display_data"
    }
   ],
   "source": [
    "# Task 2.1: Basic Selection\n",
    "# Create 'basic_info' with TransactionID, CustomerID, ProductName, and TotalAmount\n",
    "\n",
    "basic_info <- transactions %>%\n",
    "  # Your code here:\n",
    "  select(TransactionID, CustomerID, ProductName, TotalAmount)\n",
    "\n",
    "# Display the result\n",
    "cat(\"Basic info dataset (first 5 rows):\\n\")\n",
    "head(basic_info, 5)"
   ]
  },
  {
   "cell_type": "code",
   "execution_count": 5,
   "id": "2a0479a9",
   "metadata": {
    "vscode": {
     "languageId": "r"
    }
   },
   "outputs": [
    {
     "name": "stdout",
     "output_type": "stream",
     "text": [
      "Customer details (first 5 rows):\n"
     ]
    },
    {
     "data": {
      "text/html": [
       "<table class=\"dataframe\">\n",
       "<caption>A tibble: 5 × 3</caption>\n",
       "<thead>\n",
       "\t<tr><th scope=col>CustomerID</th><th scope=col>CustomerName</th><th scope=col>CustomerCity</th></tr>\n",
       "\t<tr><th scope=col>&lt;chr&gt;</th><th scope=col>&lt;chr&gt;</th><th scope=col>&lt;chr&gt;</th></tr>\n",
       "</thead>\n",
       "<tbody>\n",
       "\t<tr><td>C001</td><td>John Smith   </td><td>New York   </td></tr>\n",
       "\t<tr><td>C002</td><td>Sarah Johnson</td><td>Los Angeles</td></tr>\n",
       "\t<tr><td>C003</td><td>Mike Brown   </td><td>Chicago    </td></tr>\n",
       "\t<tr><td>C001</td><td>John Smith   </td><td>New York   </td></tr>\n",
       "\t<tr><td>C004</td><td>Emily Davis  </td><td>Houston    </td></tr>\n",
       "</tbody>\n",
       "</table>\n"
      ],
      "text/latex": [
       "A tibble: 5 × 3\n",
       "\\begin{tabular}{lll}\n",
       " CustomerID & CustomerName & CustomerCity\\\\\n",
       " <chr> & <chr> & <chr>\\\\\n",
       "\\hline\n",
       "\t C001 & John Smith    & New York   \\\\\n",
       "\t C002 & Sarah Johnson & Los Angeles\\\\\n",
       "\t C003 & Mike Brown    & Chicago    \\\\\n",
       "\t C001 & John Smith    & New York   \\\\\n",
       "\t C004 & Emily Davis   & Houston    \\\\\n",
       "\\end{tabular}\n"
      ],
      "text/markdown": [
       "\n",
       "A tibble: 5 × 3\n",
       "\n",
       "| CustomerID &lt;chr&gt; | CustomerName &lt;chr&gt; | CustomerCity &lt;chr&gt; |\n",
       "|---|---|---|\n",
       "| C001 | John Smith    | New York    |\n",
       "| C002 | Sarah Johnson | Los Angeles |\n",
       "| C003 | Mike Brown    | Chicago     |\n",
       "| C001 | John Smith    | New York    |\n",
       "| C004 | Emily Davis   | Houston     |\n",
       "\n"
      ],
      "text/plain": [
       "  CustomerID CustomerName  CustomerCity\n",
       "1 C001       John Smith    New York    \n",
       "2 C002       Sarah Johnson Los Angeles \n",
       "3 C003       Mike Brown    Chicago     \n",
       "4 C001       John Smith    New York    \n",
       "5 C004       Emily Davis   Houston     "
      ]
     },
     "metadata": {},
     "output_type": "display_data"
    }
   ],
   "source": [
    "# Task 2.2: Range Selection\n",
    "# Create 'customer_details' with all columns from CustomerID to CustomerCity (inclusive)\n",
    "\n",
    "customer_details <- transactions %>%\n",
    "  # Your code here:\n",
    "  select(CustomerID:CustomerCity)\n",
    "\n",
    "# Display the result\n",
    "cat(\"Customer details (first 5 rows):\\n\")\n",
    "head(customer_details, 5)"
   ]
  },
  {
   "cell_type": "code",
   "execution_count": 6,
   "id": "a527a514",
   "metadata": {
    "vscode": {
     "languageId": "r"
    }
   },
   "outputs": [
    {
     "name": "stdout",
     "output_type": "stream",
     "text": [
      "Date/Time columns: TransactionDate \n",
      "Amount columns: TotalAmount \n"
     ]
    }
   ],
   "source": [
    "# Task 2.3: Pattern-Based Selection\n",
    "\n",
    "# Create 'date_columns' with columns starting with \"Date\" or \"Time\" or containing \"Date\"\n",
    "date_columns <- transactions %>%\n",
    "  # Your code here:\n",
    "  select(starts_with(\"Date\") | starts_with(\"Time\") | contains(\"Date\"))\n",
    "\n",
    "# Create 'amount_columns' with columns containing the word \"Amount\"\n",
    "amount_columns <- transactions %>%\n",
    "  # Your code here:\n",
    "  select(contains(\"Amount\"))\n",
    "\n",
    "# Display column names for verification\n",
    "cat(\"Date/Time columns:\", names(date_columns), \"\\n\")\n",
    "cat(\"Amount columns:\", names(amount_columns), \"\\n\")"
   ]
  },
  {
   "cell_type": "code",
   "execution_count": 7,
   "id": "3d2ea46d",
   "metadata": {
    "vscode": {
     "languageId": "r"
    }
   },
   "outputs": [
    {
     "name": "stdout",
     "output_type": "stream",
     "text": [
      "Columns after removing IDs: CustomerName CustomerCity ProductID ProductName ProductCategory Quantity UnitPrice TotalAmount TransactionDate \n",
      "Number of columns: 9 \n"
     ]
    }
   ],
   "source": [
    "# Task 2.4: Exclusion Selection\n",
    "# Create 'no_ids' without TransactionID and CustomerID columns\n",
    "\n",
    "no_ids <- transactions %>%\n",
    "  # Your code here:\n",
    "  select(-TransactionID, -CustomerID)\n",
    "\n",
    "# Display column names for verification\n",
    "cat(\"Columns after removing IDs:\", names(no_ids), \"\\n\")\n",
    "cat(\"Number of columns:\", ncol(no_ids), \"\\n\")"
   ]
  },
  {
   "cell_type": "markdown",
   "id": "a7c6a58e",
   "metadata": {},
   "source": [
    "## Part 3: Row Filtering with `filter()`\n",
    "\n",
    "Learn to filter rows based on various conditions."
   ]
  },
  {
   "cell_type": "code",
   "execution_count": 8,
   "id": "a7f8a827",
   "metadata": {
    "vscode": {
     "languageId": "r"
    }
   },
   "outputs": [
    {
     "name": "stdout",
     "output_type": "stream",
     "text": [
      "High value transactions (>$100): 5 rows\n",
      "Electronics transactions: 6 rows\n"
     ]
    }
   ],
   "source": [
    "# Task 3.1: Single Condition Filtering\n",
    "\n",
    "# Filter transactions with TotalAmount > $100\n",
    "high_value_transactions <- transactions %>%\n",
    "  # Your code here:\n",
    "  filter(TotalAmount > 100)\n",
    "\n",
    "# Filter transactions from \"Electronics\" category\n",
    "electronics_transactions <- transactions %>%\n",
    "  # Your code here:\n",
    "  filter(ProductCategory == \"Electronics\")\n",
    "\n",
    "# Display results\n",
    "cat(\"High value transactions (>$100):\", nrow(high_value_transactions), \"rows\\n\")\n",
    "cat(\"Electronics transactions:\", nrow(electronics_transactions), \"rows\\n\")"
   ]
  },
  {
   "cell_type": "code",
   "execution_count": 9,
   "id": "db2b0bd5",
   "metadata": {
    "vscode": {
     "languageId": "r"
    }
   },
   "outputs": [
    {
     "name": "stdout",
     "output_type": "stream",
     "text": [
      "NY bulk purchases: 1 rows\n"
     ]
    },
    {
     "data": {
      "text/html": [
       "<table class=\"dataframe\">\n",
       "<caption>A tibble: 1 × 11</caption>\n",
       "<thead>\n",
       "\t<tr><th scope=col>TransactionID</th><th scope=col>CustomerID</th><th scope=col>CustomerName</th><th scope=col>CustomerCity</th><th scope=col>ProductID</th><th scope=col>ProductName</th><th scope=col>ProductCategory</th><th scope=col>Quantity</th><th scope=col>UnitPrice</th><th scope=col>TotalAmount</th><th scope=col>TransactionDate</th></tr>\n",
       "\t<tr><th scope=col>&lt;chr&gt;</th><th scope=col>&lt;chr&gt;</th><th scope=col>&lt;chr&gt;</th><th scope=col>&lt;chr&gt;</th><th scope=col>&lt;chr&gt;</th><th scope=col>&lt;chr&gt;</th><th scope=col>&lt;chr&gt;</th><th scope=col>&lt;dbl&gt;</th><th scope=col>&lt;dbl&gt;</th><th scope=col>&lt;dbl&gt;</th><th scope=col>&lt;date&gt;</th></tr>\n",
       "</thead>\n",
       "<tbody>\n",
       "\t<tr><td>T004</td><td>C001</td><td>John Smith</td><td>New York</td><td>P004</td><td>T-Shirt</td><td>Clothing</td><td>3</td><td>19.99</td><td>59.97</td><td>2024-03-18</td></tr>\n",
       "</tbody>\n",
       "</table>\n"
      ],
      "text/latex": [
       "A tibble: 1 × 11\n",
       "\\begin{tabular}{lllllllllll}\n",
       " TransactionID & CustomerID & CustomerName & CustomerCity & ProductID & ProductName & ProductCategory & Quantity & UnitPrice & TotalAmount & TransactionDate\\\\\n",
       " <chr> & <chr> & <chr> & <chr> & <chr> & <chr> & <chr> & <dbl> & <dbl> & <dbl> & <date>\\\\\n",
       "\\hline\n",
       "\t T004 & C001 & John Smith & New York & P004 & T-Shirt & Clothing & 3 & 19.99 & 59.97 & 2024-03-18\\\\\n",
       "\\end{tabular}\n"
      ],
      "text/markdown": [
       "\n",
       "A tibble: 1 × 11\n",
       "\n",
       "| TransactionID &lt;chr&gt; | CustomerID &lt;chr&gt; | CustomerName &lt;chr&gt; | CustomerCity &lt;chr&gt; | ProductID &lt;chr&gt; | ProductName &lt;chr&gt; | ProductCategory &lt;chr&gt; | Quantity &lt;dbl&gt; | UnitPrice &lt;dbl&gt; | TotalAmount &lt;dbl&gt; | TransactionDate &lt;date&gt; |\n",
       "|---|---|---|---|---|---|---|---|---|---|---|\n",
       "| T004 | C001 | John Smith | New York | P004 | T-Shirt | Clothing | 3 | 19.99 | 59.97 | 2024-03-18 |\n",
       "\n"
      ],
      "text/plain": [
       "  TransactionID CustomerID CustomerName CustomerCity ProductID ProductName\n",
       "1 T004          C001       John Smith   New York     P004      T-Shirt    \n",
       "  ProductCategory Quantity UnitPrice TotalAmount TransactionDate\n",
       "1 Clothing        3        19.99     59.97       2024-03-18     "
      ]
     },
     "metadata": {},
     "output_type": "display_data"
    }
   ],
   "source": [
    "# Task 3.2: Multiple Condition Filtering (AND)\n",
    "# Filter for TotalAmount > $50 AND Quantity > 1 AND CustomerCity == \"New York\"\n",
    "\n",
    "ny_bulk_purchases <- transactions %>%\n",
    "  # Your code here:\n",
    "  filter(TotalAmount > 50 & Quantity > 1 & CustomerCity == \"New York\")\n",
    "\n",
    "# Display results\n",
    "cat(\"NY bulk purchases:\", nrow(ny_bulk_purchases), \"rows\\n\")\n",
    "if(nrow(ny_bulk_purchases) > 0) {\n",
    "  head(ny_bulk_purchases)\n",
    "}"
   ]
  },
  {
   "cell_type": "code",
   "execution_count": 10,
   "id": "4803780d",
   "metadata": {
    "vscode": {
     "languageId": "r"
    }
   },
   "outputs": [
    {
     "name": "stdout",
     "output_type": "stream",
     "text": [
      "Entertainment transactions: 6 rows\n"
     ]
    },
    {
     "data": {
      "text/html": [
       "<table class=\"dataframe\">\n",
       "<caption>A tibble: 6 × 11</caption>\n",
       "<thead>\n",
       "\t<tr><th scope=col>TransactionID</th><th scope=col>CustomerID</th><th scope=col>CustomerName</th><th scope=col>CustomerCity</th><th scope=col>ProductID</th><th scope=col>ProductName</th><th scope=col>ProductCategory</th><th scope=col>Quantity</th><th scope=col>UnitPrice</th><th scope=col>TotalAmount</th><th scope=col>TransactionDate</th></tr>\n",
       "\t<tr><th scope=col>&lt;chr&gt;</th><th scope=col>&lt;chr&gt;</th><th scope=col>&lt;chr&gt;</th><th scope=col>&lt;chr&gt;</th><th scope=col>&lt;chr&gt;</th><th scope=col>&lt;chr&gt;</th><th scope=col>&lt;chr&gt;</th><th scope=col>&lt;dbl&gt;</th><th scope=col>&lt;dbl&gt;</th><th scope=col>&lt;dbl&gt;</th><th scope=col>&lt;date&gt;</th></tr>\n",
       "</thead>\n",
       "<tbody>\n",
       "\t<tr><td>T002</td><td>C002</td><td>Sarah Johnson </td><td>Los Angeles</td><td>P002</td><td>Book: Data Science     </td><td>Books </td><td>2</td><td> 29.99</td><td> 59.98</td><td>2024-03-16</td></tr>\n",
       "\t<tr><td>T006</td><td>C002</td><td>Sarah Johnson </td><td>Los Angeles</td><td>P006</td><td>Movie: Inception       </td><td>Movies</td><td>1</td><td> 14.99</td><td> 14.99</td><td>2024-03-20</td></tr>\n",
       "\t<tr><td>T008</td><td>C003</td><td>Mike Brown    </td><td>Chicago    </td><td>P008</td><td>Music Album            </td><td>Music </td><td>1</td><td> 12.99</td><td> 12.99</td><td>2024-03-22</td></tr>\n",
       "\t<tr><td>T010</td><td>C007</td><td>Robert Taylor </td><td>San Antonio</td><td>P010</td><td>Cooking Book           </td><td>Books </td><td>1</td><td> 24.99</td><td> 24.99</td><td>2024-03-24</td></tr>\n",
       "\t<tr><td>T013</td><td>C009</td><td>William Garcia</td><td>Dallas     </td><td>P013</td><td>Guitar                 </td><td>Music </td><td>1</td><td>199.99</td><td>199.99</td><td>2024-03-27</td></tr>\n",
       "\t<tr><td>T015</td><td>C001</td><td>John Smith    </td><td>New York   </td><td>P015</td><td>Python Programming Book</td><td>Books </td><td>1</td><td> 39.99</td><td> 39.99</td><td>2024-03-29</td></tr>\n",
       "</tbody>\n",
       "</table>\n"
      ],
      "text/latex": [
       "A tibble: 6 × 11\n",
       "\\begin{tabular}{lllllllllll}\n",
       " TransactionID & CustomerID & CustomerName & CustomerCity & ProductID & ProductName & ProductCategory & Quantity & UnitPrice & TotalAmount & TransactionDate\\\\\n",
       " <chr> & <chr> & <chr> & <chr> & <chr> & <chr> & <chr> & <dbl> & <dbl> & <dbl> & <date>\\\\\n",
       "\\hline\n",
       "\t T002 & C002 & Sarah Johnson  & Los Angeles & P002 & Book: Data Science      & Books  & 2 &  29.99 &  59.98 & 2024-03-16\\\\\n",
       "\t T006 & C002 & Sarah Johnson  & Los Angeles & P006 & Movie: Inception        & Movies & 1 &  14.99 &  14.99 & 2024-03-20\\\\\n",
       "\t T008 & C003 & Mike Brown     & Chicago     & P008 & Music Album             & Music  & 1 &  12.99 &  12.99 & 2024-03-22\\\\\n",
       "\t T010 & C007 & Robert Taylor  & San Antonio & P010 & Cooking Book            & Books  & 1 &  24.99 &  24.99 & 2024-03-24\\\\\n",
       "\t T013 & C009 & William Garcia & Dallas      & P013 & Guitar                  & Music  & 1 & 199.99 & 199.99 & 2024-03-27\\\\\n",
       "\t T015 & C001 & John Smith     & New York    & P015 & Python Programming Book & Books  & 1 &  39.99 &  39.99 & 2024-03-29\\\\\n",
       "\\end{tabular}\n"
      ],
      "text/markdown": [
       "\n",
       "A tibble: 6 × 11\n",
       "\n",
       "| TransactionID &lt;chr&gt; | CustomerID &lt;chr&gt; | CustomerName &lt;chr&gt; | CustomerCity &lt;chr&gt; | ProductID &lt;chr&gt; | ProductName &lt;chr&gt; | ProductCategory &lt;chr&gt; | Quantity &lt;dbl&gt; | UnitPrice &lt;dbl&gt; | TotalAmount &lt;dbl&gt; | TransactionDate &lt;date&gt; |\n",
       "|---|---|---|---|---|---|---|---|---|---|---|\n",
       "| T002 | C002 | Sarah Johnson  | Los Angeles | P002 | Book: Data Science      | Books  | 2 |  29.99 |  59.98 | 2024-03-16 |\n",
       "| T006 | C002 | Sarah Johnson  | Los Angeles | P006 | Movie: Inception        | Movies | 1 |  14.99 |  14.99 | 2024-03-20 |\n",
       "| T008 | C003 | Mike Brown     | Chicago     | P008 | Music Album             | Music  | 1 |  12.99 |  12.99 | 2024-03-22 |\n",
       "| T010 | C007 | Robert Taylor  | San Antonio | P010 | Cooking Book            | Books  | 1 |  24.99 |  24.99 | 2024-03-24 |\n",
       "| T013 | C009 | William Garcia | Dallas      | P013 | Guitar                  | Music  | 1 | 199.99 | 199.99 | 2024-03-27 |\n",
       "| T015 | C001 | John Smith     | New York    | P015 | Python Programming Book | Books  | 1 |  39.99 |  39.99 | 2024-03-29 |\n",
       "\n"
      ],
      "text/plain": [
       "  TransactionID CustomerID CustomerName   CustomerCity ProductID\n",
       "1 T002          C002       Sarah Johnson  Los Angeles  P002     \n",
       "2 T006          C002       Sarah Johnson  Los Angeles  P006     \n",
       "3 T008          C003       Mike Brown     Chicago      P008     \n",
       "4 T010          C007       Robert Taylor  San Antonio  P010     \n",
       "5 T013          C009       William Garcia Dallas       P013     \n",
       "6 T015          C001       John Smith     New York     P015     \n",
       "  ProductName             ProductCategory Quantity UnitPrice TotalAmount\n",
       "1 Book: Data Science      Books           2         29.99     59.98     \n",
       "2 Movie: Inception        Movies          1         14.99     14.99     \n",
       "3 Music Album             Music           1         12.99     12.99     \n",
       "4 Cooking Book            Books           1         24.99     24.99     \n",
       "5 Guitar                  Music           1        199.99    199.99     \n",
       "6 Python Programming Book Books           1         39.99     39.99     \n",
       "  TransactionDate\n",
       "1 2024-03-16     \n",
       "2 2024-03-20     \n",
       "3 2024-03-22     \n",
       "4 2024-03-24     \n",
       "5 2024-03-27     \n",
       "6 2024-03-29     "
      ]
     },
     "metadata": {},
     "output_type": "display_data"
    }
   ],
   "source": [
    "# Task 3.3: Multiple Condition Filtering (OR)\n",
    "# Filter for ProductCategory = \"Books\" OR \"Music\" OR \"Movies\"\n",
    "\n",
    "entertainment_transactions <- transactions %>%\n",
    "  # Your code here:\n",
    "  filter(ProductCategory %in% c(\"Books\", \"Music\", \"Movies\"))\n",
    "\n",
    "# Display results\n",
    "cat(\"Entertainment transactions:\", nrow(entertainment_transactions), \"rows\\n\")\n",
    "if(nrow(entertainment_transactions) > 0) {\n",
    "  head(entertainment_transactions)\n",
    "}"
   ]
  },
  {
   "cell_type": "code",
   "execution_count": 11,
   "id": "301437cf",
   "metadata": {
    "vscode": {
     "languageId": "r"
    }
   },
   "outputs": [
    {
     "name": "stdout",
     "output_type": "stream",
     "text": [
      "March 2024 transactions: 15 rows\n"
     ]
    }
   ],
   "source": [
    "# Task 3.4: Date-Based Filtering\n",
    "# Filter transactions from March 2024\n",
    "# Note: Adjust the date format and column name based on your actual data\n",
    "\n",
    "march_transactions <- transactions %>%\n",
    "  # Your code here (you may need to convert date format first):\n",
    "  filter(format(TransactionDate, \"%Y-%m\") == \"2024-03\")\n",
    "\n",
    "# Display results\n",
    "cat(\"March 2024 transactions:\", nrow(march_transactions), \"rows\\n\")"
   ]
  },
  {
   "cell_type": "code",
   "execution_count": 12,
   "id": "33b63b1c",
   "metadata": {
    "vscode": {
     "languageId": "r"
    }
   },
   "outputs": [
    {
     "name": "stdout",
     "output_type": "stream",
     "text": [
      "Customers who bought both Electronics and Clothing: 1 customers\n"
     ]
    }
   ],
   "source": [
    "# Task 3.5: Advanced Filtering Challenge\n",
    "# Find customers who made purchases in both \"Electronics\" AND \"Clothing\" categories\n",
    "# Hint: This requires identifying customers who appear in both categories\n",
    "\n",
    "# Step 1: Find customers who bought Electronics\n",
    "electronics_customers <- transactions %>%\n",
    "  # Your code here:\n",
    "  filter(ProductCategory == \"Electronics\") %>%\n",
    "  pull(CustomerID) %>%\n",
    "  unique()\n",
    "\n",
    "# Step 2: Find customers who bought Clothing\n",
    "clothing_customers <- transactions %>%\n",
    "  # Your code here:\n",
    "  filter(ProductCategory == \"Clothing\") %>%\n",
    "  pull(CustomerID) %>%\n",
    "  unique()\n",
    "\n",
    "# Step 3: Find customers who bought both\n",
    "both_categories_customers <- intersect(electronics_customers, clothing_customers)\n",
    "\n",
    "# Display results\n",
    "cat(\"Customers who bought both Electronics and Clothing:\", length(both_categories_customers), \"customers\\n\")"
   ]
  },
  {
   "cell_type": "markdown",
   "id": "811d4adb",
   "metadata": {},
   "source": [
    "## Part 4: Data Sorting with `arrange()`\n",
    "\n",
    "Practice sorting data by single and multiple columns."
   ]
  },
  {
   "cell_type": "code",
   "execution_count": 13,
   "id": "92a25956",
   "metadata": {
    "vscode": {
     "languageId": "r"
    }
   },
   "outputs": [
    {
     "name": "stdout",
     "output_type": "stream",
     "text": [
      "Lowest amounts:\n"
     ]
    },
    {
     "data": {
      "text/html": [
       "<table class=\"dataframe\">\n",
       "<caption>A tibble: 5 × 3</caption>\n",
       "<thead>\n",
       "\t<tr><th scope=col>CustomerName</th><th scope=col>ProductName</th><th scope=col>TotalAmount</th></tr>\n",
       "\t<tr><th scope=col>&lt;chr&gt;</th><th scope=col>&lt;chr&gt;</th><th scope=col>&lt;dbl&gt;</th></tr>\n",
       "</thead>\n",
       "<tbody>\n",
       "\t<tr><td>Mike Brown   </td><td>Music Album            </td><td>12.99</td></tr>\n",
       "\t<tr><td>Sarah Johnson</td><td>Movie: Inception       </td><td>14.99</td></tr>\n",
       "\t<tr><td>Robert Taylor</td><td>Cooking Book           </td><td>24.99</td></tr>\n",
       "\t<tr><td>John Smith   </td><td>Python Programming Book</td><td>39.99</td></tr>\n",
       "\t<tr><td>John Smith   </td><td>T-Shirt                </td><td>59.97</td></tr>\n",
       "</tbody>\n",
       "</table>\n"
      ],
      "text/latex": [
       "A tibble: 5 × 3\n",
       "\\begin{tabular}{lll}\n",
       " CustomerName & ProductName & TotalAmount\\\\\n",
       " <chr> & <chr> & <dbl>\\\\\n",
       "\\hline\n",
       "\t Mike Brown    & Music Album             & 12.99\\\\\n",
       "\t Sarah Johnson & Movie: Inception        & 14.99\\\\\n",
       "\t Robert Taylor & Cooking Book            & 24.99\\\\\n",
       "\t John Smith    & Python Programming Book & 39.99\\\\\n",
       "\t John Smith    & T-Shirt                 & 59.97\\\\\n",
       "\\end{tabular}\n"
      ],
      "text/markdown": [
       "\n",
       "A tibble: 5 × 3\n",
       "\n",
       "| CustomerName &lt;chr&gt; | ProductName &lt;chr&gt; | TotalAmount &lt;dbl&gt; |\n",
       "|---|---|---|\n",
       "| Mike Brown    | Music Album             | 12.99 |\n",
       "| Sarah Johnson | Movie: Inception        | 14.99 |\n",
       "| Robert Taylor | Cooking Book            | 24.99 |\n",
       "| John Smith    | Python Programming Book | 39.99 |\n",
       "| John Smith    | T-Shirt                 | 59.97 |\n",
       "\n"
      ],
      "text/plain": [
       "  CustomerName  ProductName             TotalAmount\n",
       "1 Mike Brown    Music Album             12.99      \n",
       "2 Sarah Johnson Movie: Inception        14.99      \n",
       "3 Robert Taylor Cooking Book            24.99      \n",
       "4 John Smith    Python Programming Book 39.99      \n",
       "5 John Smith    T-Shirt                 59.97      "
      ]
     },
     "metadata": {},
     "output_type": "display_data"
    },
    {
     "name": "stdout",
     "output_type": "stream",
     "text": [
      "\n",
      "Highest amounts:\n"
     ]
    },
    {
     "data": {
      "text/html": [
       "<table class=\"dataframe\">\n",
       "<caption>A tibble: 5 × 3</caption>\n",
       "<thead>\n",
       "\t<tr><th scope=col>CustomerName</th><th scope=col>ProductName</th><th scope=col>TotalAmount</th></tr>\n",
       "\t<tr><th scope=col>&lt;chr&gt;</th><th scope=col>&lt;chr&gt;</th><th scope=col>&lt;dbl&gt;</th></tr>\n",
       "</thead>\n",
       "<tbody>\n",
       "\t<tr><td>John Smith    </td><td>Laptop    </td><td>999.99</td></tr>\n",
       "\t<tr><td>Lisa Anderson </td><td>Smartphone</td><td>699.99</td></tr>\n",
       "\t<tr><td>Emily Davis   </td><td>Tablet    </td><td>299.99</td></tr>\n",
       "\t<tr><td>Mike Brown    </td><td>Headphones</td><td>199.99</td></tr>\n",
       "\t<tr><td>William Garcia</td><td>Guitar    </td><td>199.99</td></tr>\n",
       "</tbody>\n",
       "</table>\n"
      ],
      "text/latex": [
       "A tibble: 5 × 3\n",
       "\\begin{tabular}{lll}\n",
       " CustomerName & ProductName & TotalAmount\\\\\n",
       " <chr> & <chr> & <dbl>\\\\\n",
       "\\hline\n",
       "\t John Smith     & Laptop     & 999.99\\\\\n",
       "\t Lisa Anderson  & Smartphone & 699.99\\\\\n",
       "\t Emily Davis    & Tablet     & 299.99\\\\\n",
       "\t Mike Brown     & Headphones & 199.99\\\\\n",
       "\t William Garcia & Guitar     & 199.99\\\\\n",
       "\\end{tabular}\n"
      ],
      "text/markdown": [
       "\n",
       "A tibble: 5 × 3\n",
       "\n",
       "| CustomerName &lt;chr&gt; | ProductName &lt;chr&gt; | TotalAmount &lt;dbl&gt; |\n",
       "|---|---|---|\n",
       "| John Smith     | Laptop     | 999.99 |\n",
       "| Lisa Anderson  | Smartphone | 699.99 |\n",
       "| Emily Davis    | Tablet     | 299.99 |\n",
       "| Mike Brown     | Headphones | 199.99 |\n",
       "| William Garcia | Guitar     | 199.99 |\n",
       "\n"
      ],
      "text/plain": [
       "  CustomerName   ProductName TotalAmount\n",
       "1 John Smith     Laptop      999.99     \n",
       "2 Lisa Anderson  Smartphone  699.99     \n",
       "3 Emily Davis    Tablet      299.99     \n",
       "4 Mike Brown     Headphones  199.99     \n",
       "5 William Garcia Guitar      199.99     "
      ]
     },
     "metadata": {},
     "output_type": "display_data"
    }
   ],
   "source": [
    "# Task 4.1: Single Column Sorting\n",
    "\n",
    "# Sort by TotalAmount ascending\n",
    "transactions_by_amount_asc <- transactions %>%\n",
    "  # Your code here:\n",
    "  arrange(TotalAmount)\n",
    "\n",
    "# Sort by TotalAmount descending\n",
    "transactions_by_amount_desc <- transactions %>%\n",
    "  # Your code here:\n",
    "  arrange(desc(TotalAmount))\n",
    "\n",
    "# Display top 5 of each\n",
    "cat(\"Lowest amounts:\\n\")\n",
    "head(transactions_by_amount_asc %>% select(CustomerName, ProductName, TotalAmount), 5)\n",
    "\n",
    "cat(\"\\nHighest amounts:\\n\")\n",
    "head(transactions_by_amount_desc %>% select(CustomerName, ProductName, TotalAmount), 5)"
   ]
  },
  {
   "cell_type": "code",
   "execution_count": 14,
   "id": "1c2809ad",
   "metadata": {
    "vscode": {
     "languageId": "r"
    }
   },
   "outputs": [
    {
     "name": "stdout",
     "output_type": "stream",
     "text": [
      "Transactions sorted by city, then amount:\n"
     ]
    },
    {
     "data": {
      "text/html": [
       "<table class=\"dataframe\">\n",
       "<caption>A tibble: 10 × 4</caption>\n",
       "<thead>\n",
       "\t<tr><th scope=col>CustomerCity</th><th scope=col>CustomerName</th><th scope=col>ProductName</th><th scope=col>TotalAmount</th></tr>\n",
       "\t<tr><th scope=col>&lt;chr&gt;</th><th scope=col>&lt;chr&gt;</th><th scope=col>&lt;chr&gt;</th><th scope=col>&lt;dbl&gt;</th></tr>\n",
       "</thead>\n",
       "<tbody>\n",
       "\t<tr><td>Chicago    </td><td>Mike Brown    </td><td>Headphones             </td><td>199.99</td></tr>\n",
       "\t<tr><td>Chicago    </td><td>Mike Brown    </td><td>Music Album            </td><td> 12.99</td></tr>\n",
       "\t<tr><td>Dallas     </td><td>William Garcia</td><td>Guitar                 </td><td>199.99</td></tr>\n",
       "\t<tr><td>Houston    </td><td>Emily Davis   </td><td>Tablet                 </td><td>299.99</td></tr>\n",
       "\t<tr><td>Houston    </td><td>Emily Davis   </td><td>Coffee Maker           </td><td> 79.99</td></tr>\n",
       "\t<tr><td>Los Angeles</td><td>Sarah Johnson </td><td>Book: Data Science     </td><td> 59.98</td></tr>\n",
       "\t<tr><td>Los Angeles</td><td>Sarah Johnson </td><td>Movie: Inception       </td><td> 14.99</td></tr>\n",
       "\t<tr><td>New York   </td><td>John Smith    </td><td>Laptop                 </td><td>999.99</td></tr>\n",
       "\t<tr><td>New York   </td><td>John Smith    </td><td>T-Shirt                </td><td> 59.97</td></tr>\n",
       "\t<tr><td>New York   </td><td>John Smith    </td><td>Python Programming Book</td><td> 39.99</td></tr>\n",
       "</tbody>\n",
       "</table>\n"
      ],
      "text/latex": [
       "A tibble: 10 × 4\n",
       "\\begin{tabular}{llll}\n",
       " CustomerCity & CustomerName & ProductName & TotalAmount\\\\\n",
       " <chr> & <chr> & <chr> & <dbl>\\\\\n",
       "\\hline\n",
       "\t Chicago     & Mike Brown     & Headphones              & 199.99\\\\\n",
       "\t Chicago     & Mike Brown     & Music Album             &  12.99\\\\\n",
       "\t Dallas      & William Garcia & Guitar                  & 199.99\\\\\n",
       "\t Houston     & Emily Davis    & Tablet                  & 299.99\\\\\n",
       "\t Houston     & Emily Davis    & Coffee Maker            &  79.99\\\\\n",
       "\t Los Angeles & Sarah Johnson  & Book: Data Science      &  59.98\\\\\n",
       "\t Los Angeles & Sarah Johnson  & Movie: Inception        &  14.99\\\\\n",
       "\t New York    & John Smith     & Laptop                  & 999.99\\\\\n",
       "\t New York    & John Smith     & T-Shirt                 &  59.97\\\\\n",
       "\t New York    & John Smith     & Python Programming Book &  39.99\\\\\n",
       "\\end{tabular}\n"
      ],
      "text/markdown": [
       "\n",
       "A tibble: 10 × 4\n",
       "\n",
       "| CustomerCity &lt;chr&gt; | CustomerName &lt;chr&gt; | ProductName &lt;chr&gt; | TotalAmount &lt;dbl&gt; |\n",
       "|---|---|---|---|\n",
       "| Chicago     | Mike Brown     | Headphones              | 199.99 |\n",
       "| Chicago     | Mike Brown     | Music Album             |  12.99 |\n",
       "| Dallas      | William Garcia | Guitar                  | 199.99 |\n",
       "| Houston     | Emily Davis    | Tablet                  | 299.99 |\n",
       "| Houston     | Emily Davis    | Coffee Maker            |  79.99 |\n",
       "| Los Angeles | Sarah Johnson  | Book: Data Science      |  59.98 |\n",
       "| Los Angeles | Sarah Johnson  | Movie: Inception        |  14.99 |\n",
       "| New York    | John Smith     | Laptop                  | 999.99 |\n",
       "| New York    | John Smith     | T-Shirt                 |  59.97 |\n",
       "| New York    | John Smith     | Python Programming Book |  39.99 |\n",
       "\n"
      ],
      "text/plain": [
       "   CustomerCity CustomerName   ProductName             TotalAmount\n",
       "1  Chicago      Mike Brown     Headphones              199.99     \n",
       "2  Chicago      Mike Brown     Music Album              12.99     \n",
       "3  Dallas       William Garcia Guitar                  199.99     \n",
       "4  Houston      Emily Davis    Tablet                  299.99     \n",
       "5  Houston      Emily Davis    Coffee Maker             79.99     \n",
       "6  Los Angeles  Sarah Johnson  Book: Data Science       59.98     \n",
       "7  Los Angeles  Sarah Johnson  Movie: Inception         14.99     \n",
       "8  New York     John Smith     Laptop                  999.99     \n",
       "9  New York     John Smith     T-Shirt                  59.97     \n",
       "10 New York     John Smith     Python Programming Book  39.99     "
      ]
     },
     "metadata": {},
     "output_type": "display_data"
    }
   ],
   "source": [
    "# Task 4.2: Multiple Column Sorting\n",
    "# Sort by CustomerCity (ascending), then by TotalAmount (descending)\n",
    "\n",
    "transactions_by_city_amount <- transactions %>%\n",
    "  # Your code here:\n",
    "  arrange(CustomerCity, desc(TotalAmount))\n",
    "\n",
    "# Display first 10 rows\n",
    "cat(\"Transactions sorted by city, then amount:\\n\")\n",
    "head(transactions_by_city_amount %>% select(CustomerCity, CustomerName, ProductName, TotalAmount), 10)"
   ]
  },
  {
   "cell_type": "code",
   "execution_count": 15,
   "id": "7fb4ec10",
   "metadata": {
    "vscode": {
     "languageId": "r"
    }
   },
   "outputs": [
    {
     "name": "stdout",
     "output_type": "stream",
     "text": [
      "Earliest transactions:\n"
     ]
    },
    {
     "data": {
      "text/html": [
       "<table class=\"dataframe\">\n",
       "<caption>A tibble: 5 × 4</caption>\n",
       "<thead>\n",
       "\t<tr><th scope=col>TransactionDate</th><th scope=col>CustomerName</th><th scope=col>ProductName</th><th scope=col>TotalAmount</th></tr>\n",
       "\t<tr><th scope=col>&lt;date&gt;</th><th scope=col>&lt;chr&gt;</th><th scope=col>&lt;chr&gt;</th><th scope=col>&lt;dbl&gt;</th></tr>\n",
       "</thead>\n",
       "<tbody>\n",
       "\t<tr><td>2024-03-15</td><td>John Smith   </td><td>Laptop            </td><td>999.99</td></tr>\n",
       "\t<tr><td>2024-03-16</td><td>Sarah Johnson</td><td>Book: Data Science</td><td> 59.98</td></tr>\n",
       "\t<tr><td>2024-03-17</td><td>Mike Brown   </td><td>Headphones        </td><td>199.99</td></tr>\n",
       "\t<tr><td>2024-03-18</td><td>John Smith   </td><td>T-Shirt           </td><td> 59.97</td></tr>\n",
       "\t<tr><td>2024-03-19</td><td>Emily Davis  </td><td>Coffee Maker      </td><td> 79.99</td></tr>\n",
       "</tbody>\n",
       "</table>\n"
      ],
      "text/latex": [
       "A tibble: 5 × 4\n",
       "\\begin{tabular}{llll}\n",
       " TransactionDate & CustomerName & ProductName & TotalAmount\\\\\n",
       " <date> & <chr> & <chr> & <dbl>\\\\\n",
       "\\hline\n",
       "\t 2024-03-15 & John Smith    & Laptop             & 999.99\\\\\n",
       "\t 2024-03-16 & Sarah Johnson & Book: Data Science &  59.98\\\\\n",
       "\t 2024-03-17 & Mike Brown    & Headphones         & 199.99\\\\\n",
       "\t 2024-03-18 & John Smith    & T-Shirt            &  59.97\\\\\n",
       "\t 2024-03-19 & Emily Davis   & Coffee Maker       &  79.99\\\\\n",
       "\\end{tabular}\n"
      ],
      "text/markdown": [
       "\n",
       "A tibble: 5 × 4\n",
       "\n",
       "| TransactionDate &lt;date&gt; | CustomerName &lt;chr&gt; | ProductName &lt;chr&gt; | TotalAmount &lt;dbl&gt; |\n",
       "|---|---|---|---|\n",
       "| 2024-03-15 | John Smith    | Laptop             | 999.99 |\n",
       "| 2024-03-16 | Sarah Johnson | Book: Data Science |  59.98 |\n",
       "| 2024-03-17 | Mike Brown    | Headphones         | 199.99 |\n",
       "| 2024-03-18 | John Smith    | T-Shirt            |  59.97 |\n",
       "| 2024-03-19 | Emily Davis   | Coffee Maker       |  79.99 |\n",
       "\n"
      ],
      "text/plain": [
       "  TransactionDate CustomerName  ProductName        TotalAmount\n",
       "1 2024-03-15      John Smith    Laptop             999.99     \n",
       "2 2024-03-16      Sarah Johnson Book: Data Science  59.98     \n",
       "3 2024-03-17      Mike Brown    Headphones         199.99     \n",
       "4 2024-03-18      John Smith    T-Shirt             59.97     \n",
       "5 2024-03-19      Emily Davis   Coffee Maker        79.99     "
      ]
     },
     "metadata": {},
     "output_type": "display_data"
    }
   ],
   "source": [
    "# Task 4.3: Date-Based Sorting\n",
    "# Sort by TransactionDate chronologically (oldest first)\n",
    "\n",
    "transactions_chronological <- transactions %>%\n",
    "  # Your code here:\n",
    "  arrange(TransactionDate)\n",
    "\n",
    "# Display first 5 transactions chronologically\n",
    "cat(\"Earliest transactions:\\n\")\n",
    "head(transactions_chronological %>% select(TransactionDate, CustomerName, ProductName, TotalAmount), 5)"
   ]
  },
  {
   "cell_type": "markdown",
   "id": "718aa3c3",
   "metadata": {},
   "source": [
    "## Part 5: Chaining Operations\n",
    "\n",
    "Combine multiple dplyr operations using the pipe operator."
   ]
  },
  {
   "cell_type": "code",
   "execution_count": 16,
   "id": "41086de0",
   "metadata": {
    "vscode": {
     "languageId": "r"
    }
   },
   "outputs": [
    {
     "name": "stdout",
     "output_type": "stream",
     "text": [
      "Premium purchases (>$75):\n"
     ]
    },
    {
     "data": {
      "text/html": [
       "<table class=\"dataframe\">\n",
       "<caption>A tibble: 9 × 4</caption>\n",
       "<thead>\n",
       "\t<tr><th scope=col>CustomerName</th><th scope=col>ProductName</th><th scope=col>ProductCategory</th><th scope=col>TotalAmount</th></tr>\n",
       "\t<tr><th scope=col>&lt;chr&gt;</th><th scope=col>&lt;chr&gt;</th><th scope=col>&lt;chr&gt;</th><th scope=col>&lt;dbl&gt;</th></tr>\n",
       "</thead>\n",
       "<tbody>\n",
       "\t<tr><td>John Smith        </td><td>Laptop      </td><td>Electronics</td><td>999.99</td></tr>\n",
       "\t<tr><td>Lisa Anderson     </td><td>Smartphone  </td><td>Electronics</td><td>699.99</td></tr>\n",
       "\t<tr><td>Emily Davis       </td><td>Tablet      </td><td>Electronics</td><td>299.99</td></tr>\n",
       "\t<tr><td>Mike Brown        </td><td>Headphones  </td><td>Electronics</td><td>199.99</td></tr>\n",
       "\t<tr><td>William Garcia    </td><td>Guitar      </td><td>Music      </td><td>199.99</td></tr>\n",
       "\t<tr><td>David Wilson      </td><td>Jeans       </td><td>Clothing   </td><td> 99.98</td></tr>\n",
       "\t<tr><td>Jennifer Martinez </td><td>Sneakers    </td><td>Clothing   </td><td> 89.99</td></tr>\n",
       "\t<tr><td>Emily Davis       </td><td>Coffee Maker</td><td>Electronics</td><td> 79.99</td></tr>\n",
       "\t<tr><td>Michelle Rodriguez</td><td>Laptop Stand</td><td>Electronics</td><td> 79.98</td></tr>\n",
       "</tbody>\n",
       "</table>\n"
      ],
      "text/latex": [
       "A tibble: 9 × 4\n",
       "\\begin{tabular}{llll}\n",
       " CustomerName & ProductName & ProductCategory & TotalAmount\\\\\n",
       " <chr> & <chr> & <chr> & <dbl>\\\\\n",
       "\\hline\n",
       "\t John Smith         & Laptop       & Electronics & 999.99\\\\\n",
       "\t Lisa Anderson      & Smartphone   & Electronics & 699.99\\\\\n",
       "\t Emily Davis        & Tablet       & Electronics & 299.99\\\\\n",
       "\t Mike Brown         & Headphones   & Electronics & 199.99\\\\\n",
       "\t William Garcia     & Guitar       & Music       & 199.99\\\\\n",
       "\t David Wilson       & Jeans        & Clothing    &  99.98\\\\\n",
       "\t Jennifer Martinez  & Sneakers     & Clothing    &  89.99\\\\\n",
       "\t Emily Davis        & Coffee Maker & Electronics &  79.99\\\\\n",
       "\t Michelle Rodriguez & Laptop Stand & Electronics &  79.98\\\\\n",
       "\\end{tabular}\n"
      ],
      "text/markdown": [
       "\n",
       "A tibble: 9 × 4\n",
       "\n",
       "| CustomerName &lt;chr&gt; | ProductName &lt;chr&gt; | ProductCategory &lt;chr&gt; | TotalAmount &lt;dbl&gt; |\n",
       "|---|---|---|---|\n",
       "| John Smith         | Laptop       | Electronics | 999.99 |\n",
       "| Lisa Anderson      | Smartphone   | Electronics | 699.99 |\n",
       "| Emily Davis        | Tablet       | Electronics | 299.99 |\n",
       "| Mike Brown         | Headphones   | Electronics | 199.99 |\n",
       "| William Garcia     | Guitar       | Music       | 199.99 |\n",
       "| David Wilson       | Jeans        | Clothing    |  99.98 |\n",
       "| Jennifer Martinez  | Sneakers     | Clothing    |  89.99 |\n",
       "| Emily Davis        | Coffee Maker | Electronics |  79.99 |\n",
       "| Michelle Rodriguez | Laptop Stand | Electronics |  79.98 |\n",
       "\n"
      ],
      "text/plain": [
       "  CustomerName       ProductName  ProductCategory TotalAmount\n",
       "1 John Smith         Laptop       Electronics     999.99     \n",
       "2 Lisa Anderson      Smartphone   Electronics     699.99     \n",
       "3 Emily Davis        Tablet       Electronics     299.99     \n",
       "4 Mike Brown         Headphones   Electronics     199.99     \n",
       "5 William Garcia     Guitar       Music           199.99     \n",
       "6 David Wilson       Jeans        Clothing         99.98     \n",
       "7 Jennifer Martinez  Sneakers     Clothing         89.99     \n",
       "8 Emily Davis        Coffee Maker Electronics      79.99     \n",
       "9 Michelle Rodriguez Laptop Stand Electronics      79.98     "
      ]
     },
     "metadata": {},
     "output_type": "display_data"
    }
   ],
   "source": [
    "# Task 5.1: Simple Chain\n",
    "# Filter TotalAmount > $75, select specific columns, arrange by TotalAmount descending\n",
    "\n",
    "premium_purchases <- transactions %>%\n",
    "  # Your code here:\n",
    "  filter(TotalAmount > 75) %>%\n",
    "  select(CustomerName, ProductName, ProductCategory, TotalAmount) %>%\n",
    "  arrange(desc(TotalAmount))\n",
    "\n",
    "# Display results\n",
    "cat(\"Premium purchases (>$75):\\n\")\n",
    "head(premium_purchases, 10)"
   ]
  },
  {
   "cell_type": "code",
   "execution_count": 17,
   "id": "823cda0b",
   "metadata": {
    "vscode": {
     "languageId": "r"
    }
   },
   "outputs": [
    {
     "name": "stdout",
     "output_type": "stream",
     "text": [
      "Recent tech purchases (top 20):\n",
      "\u001b[90m# A tibble: 6 × 4\u001b[39m\n",
      "  TransactionDate CustomerName       ProductName  TotalAmount\n",
      "  \u001b[3m\u001b[90m<date>\u001b[39m\u001b[23m          \u001b[3m\u001b[90m<chr>\u001b[39m\u001b[23m              \u001b[3m\u001b[90m<chr>\u001b[39m\u001b[23m              \u001b[3m\u001b[90m<dbl>\u001b[39m\u001b[23m\n",
      "\u001b[90m1\u001b[39m 2024-03-28      Michelle Rodriguez Laptop Stand        80.0\n",
      "\u001b[90m2\u001b[39m 2024-03-25      Emily Davis        Tablet             300. \n",
      "\u001b[90m3\u001b[39m 2024-03-23      Lisa Anderson      Smartphone         700. \n",
      "\u001b[90m4\u001b[39m 2024-03-19      Emily Davis        Coffee Maker        80.0\n",
      "\u001b[90m5\u001b[39m 2024-03-17      Mike Brown         Headphones         200. \n",
      "\u001b[90m6\u001b[39m 2024-03-15      John Smith         Laptop            \u001b[4m1\u001b[24m000. \n"
     ]
    }
   ],
   "source": [
    "# Task 5.2: Complex Chain\n",
    "# Filter for Electronics/Computers, select columns, arrange by date/amount, keep top 20\n",
    "\n",
    "recent_tech_purchases <- transactions %>%\n",
    "  # Your code here:\n",
    "  filter(ProductCategory %in% c(\"Electronics\", \"Computers\")) %>%\n",
    "  select(TransactionDate, CustomerName, ProductName, TotalAmount) %>%\n",
    "  arrange(desc(TransactionDate), desc(TotalAmount)) %>%\n",
    "  slice_head(n = 20)\n",
    "\n",
    "# Display results\n",
    "cat(\"Recent tech purchases (top 20):\\n\")\n",
    "print(recent_tech_purchases)"
   ]
  },
  {
   "cell_type": "code",
   "execution_count": 18,
   "id": "73d00b01",
   "metadata": {
    "vscode": {
     "languageId": "r"
    }
   },
   "outputs": [
    {
     "name": "stdout",
     "output_type": "stream",
     "text": [
      "High-value customers:\n"
     ]
    },
    {
     "data": {
      "text/html": [
       "<table class=\"dataframe\">\n",
       "<caption>A tibble: 3 × 5</caption>\n",
       "<thead>\n",
       "\t<tr><th scope=col>CustomerID</th><th scope=col>CustomerName</th><th scope=col>ProductName</th><th scope=col>TotalAmount</th><th scope=col>TransactionDate</th></tr>\n",
       "\t<tr><th scope=col>&lt;chr&gt;</th><th scope=col>&lt;chr&gt;</th><th scope=col>&lt;chr&gt;</th><th scope=col>&lt;dbl&gt;</th><th scope=col>&lt;date&gt;</th></tr>\n",
       "</thead>\n",
       "<tbody>\n",
       "\t<tr><td>C004</td><td>Emily Davis  </td><td>Tablet    </td><td>299.99</td><td>2024-03-25</td></tr>\n",
       "\t<tr><td>C001</td><td>John Smith   </td><td>Laptop    </td><td>999.99</td><td>2024-03-15</td></tr>\n",
       "\t<tr><td>C006</td><td>Lisa Anderson</td><td>Smartphone</td><td>699.99</td><td>2024-03-23</td></tr>\n",
       "</tbody>\n",
       "</table>\n"
      ],
      "text/latex": [
       "A tibble: 3 × 5\n",
       "\\begin{tabular}{lllll}\n",
       " CustomerID & CustomerName & ProductName & TotalAmount & TransactionDate\\\\\n",
       " <chr> & <chr> & <chr> & <dbl> & <date>\\\\\n",
       "\\hline\n",
       "\t C004 & Emily Davis   & Tablet     & 299.99 & 2024-03-25\\\\\n",
       "\t C001 & John Smith    & Laptop     & 999.99 & 2024-03-15\\\\\n",
       "\t C006 & Lisa Anderson & Smartphone & 699.99 & 2024-03-23\\\\\n",
       "\\end{tabular}\n"
      ],
      "text/markdown": [
       "\n",
       "A tibble: 3 × 5\n",
       "\n",
       "| CustomerID &lt;chr&gt; | CustomerName &lt;chr&gt; | ProductName &lt;chr&gt; | TotalAmount &lt;dbl&gt; | TransactionDate &lt;date&gt; |\n",
       "|---|---|---|---|---|\n",
       "| C004 | Emily Davis   | Tablet     | 299.99 | 2024-03-25 |\n",
       "| C001 | John Smith    | Laptop     | 999.99 | 2024-03-15 |\n",
       "| C006 | Lisa Anderson | Smartphone | 699.99 | 2024-03-23 |\n",
       "\n"
      ],
      "text/plain": [
       "  CustomerID CustomerName  ProductName TotalAmount TransactionDate\n",
       "1 C004       Emily Davis   Tablet      299.99      2024-03-25     \n",
       "2 C001       John Smith    Laptop      999.99      2024-03-15     \n",
       "3 C006       Lisa Anderson Smartphone  699.99      2024-03-23     "
      ]
     },
     "metadata": {},
     "output_type": "display_data"
    }
   ],
   "source": [
    "# Task 5.3: Business Intelligence Chain\n",
    "# Identify high-value repeat customers (TotalAmount > $200)\n",
    "\n",
    "high_value_customers <- transactions %>%\n",
    "  # Your code here:\n",
    "  filter(TotalAmount > 200) %>%\n",
    "  select(CustomerID, CustomerName, ProductName, TotalAmount, TransactionDate) %>%\n",
    "  arrange(CustomerName, desc(TotalAmount))\n",
    "\n",
    "# Display results\n",
    "cat(\"High-value customers:\\n\")\n",
    "head(high_value_customers, 15)"
   ]
  },
  {
   "cell_type": "markdown",
   "id": "50978714",
   "metadata": {},
   "source": [
    "## Part 6: Data Analysis Questions\n",
    "\n",
    "Answer the following questions using the datasets you've created."
   ]
  },
  {
   "cell_type": "code",
   "execution_count": 19,
   "id": "be6e8562",
   "metadata": {
    "vscode": {
     "languageId": "r"
    }
   },
   "outputs": [
    {
     "name": "stdout",
     "output_type": "stream",
     "text": [
      "Transaction counts by dataset:\n",
      "High value transactions: 5 \n",
      "Electronics transactions: 6 \n",
      "NY bulk purchases: 1 \n",
      "Entertainment transactions: 6 \n",
      "March transactions: 15 \n",
      "Premium purchases: 9 \n",
      "Recent tech purchases: 6 \n",
      "High value customers: 3 \n"
     ]
    }
   ],
   "source": [
    "# Question 6.1: Transaction Volume\n",
    "# Count transactions in each filtered dataset\n",
    "\n",
    "cat(\"Transaction counts by dataset:\\n\")\n",
    "cat(\"High value transactions:\", nrow(high_value_transactions), \"\\n\")\n",
    "cat(\"Electronics transactions:\", nrow(electronics_transactions), \"\\n\")\n",
    "cat(\"NY bulk purchases:\", nrow(ny_bulk_purchases), \"\\n\")\n",
    "cat(\"Entertainment transactions:\", nrow(entertainment_transactions), \"\\n\")\n",
    "cat(\"March transactions:\", nrow(march_transactions), \"\\n\")\n",
    "cat(\"Premium purchases:\", nrow(premium_purchases), \"\\n\")\n",
    "cat(\"Recent tech purchases:\", nrow(recent_tech_purchases), \"\\n\")\n",
    "cat(\"High value customers:\", nrow(high_value_customers), \"\\n\")"
   ]
  },
  {
   "cell_type": "code",
   "execution_count": 20,
   "id": "35190921",
   "metadata": {
    "vscode": {
     "languageId": "r"
    }
   },
   "outputs": [
    {
     "name": "stdout",
     "output_type": "stream",
     "text": [
      "Most frequent high-value customer:\n",
      "\u001b[90m# A tibble: 3 × 2\u001b[39m\n",
      "  CustomerName      n\n",
      "  \u001b[3m\u001b[90m<chr>\u001b[39m\u001b[23m         \u001b[3m\u001b[90m<int>\u001b[39m\u001b[23m\n",
      "\u001b[90m1\u001b[39m Emily Davis       1\n",
      "\u001b[90m2\u001b[39m John Smith        1\n",
      "\u001b[90m3\u001b[39m Lisa Anderson     1\n"
     ]
    }
   ],
   "source": [
    "# Question 6.2: Top Customers\n",
    "# Find the customer who appears most frequently in high_value_customers\n",
    "\n",
    "if(nrow(high_value_customers) > 0) {\n",
    "  customer_frequency <- high_value_customers %>%\n",
    "    # Your code here to count customer appearances:\n",
    "    count(CustomerName, sort = TRUE)\n",
    "  \n",
    "  cat(\"Most frequent high-value customer:\\n\")\n",
    "  print(customer_frequency)\n",
    "} else {\n",
    "  cat(\"No high-value customers found\\n\")\n",
    "}"
   ]
  },
  {
   "cell_type": "code",
   "execution_count": 21,
   "id": "3c932cbb",
   "metadata": {
    "vscode": {
     "languageId": "r"
    }
   },
   "outputs": [
    {
     "name": "stdout",
     "output_type": "stream",
     "text": [
      "Top 5 most expensive entertainment transactions:\n",
      "\u001b[90m# A tibble: 5 × 4\u001b[39m\n",
      "  CustomerName   ProductName             ProductCategory TotalAmount\n",
      "  \u001b[3m\u001b[90m<chr>\u001b[39m\u001b[23m          \u001b[3m\u001b[90m<chr>\u001b[39m\u001b[23m                   \u001b[3m\u001b[90m<chr>\u001b[39m\u001b[23m                 \u001b[3m\u001b[90m<dbl>\u001b[39m\u001b[23m\n",
      "\u001b[90m1\u001b[39m William Garcia Guitar                  Music                 200. \n",
      "\u001b[90m2\u001b[39m Sarah Johnson  Book: Data Science      Books                  60.0\n",
      "\u001b[90m3\u001b[39m John Smith     Python Programming Book Books                  40.0\n",
      "\u001b[90m4\u001b[39m Robert Taylor  Cooking Book            Books                  25.0\n",
      "\u001b[90m5\u001b[39m Sarah Johnson  Movie: Inception        Movies                 15.0\n"
     ]
    }
   ],
   "source": [
    "# Question 6.3: Product Analysis\n",
    "# Find top 5 most expensive transactions in entertainment_transactions\n",
    "\n",
    "if(nrow(entertainment_transactions) > 0) {\n",
    "  top_entertainment <- entertainment_transactions %>%\n",
    "    # Your code here:\n",
    "    select(CustomerName, ProductName, ProductCategory, TotalAmount) %>%\n",
    "    arrange(desc(TotalAmount)) %>%\n",
    "    slice_head(n = 5)\n",
    "  \n",
    "  cat(\"Top 5 most expensive entertainment transactions:\\n\")\n",
    "  print(top_entertainment)\n",
    "} else {\n",
    "  cat(\"No entertainment transactions found\\n\")\n",
    "}"
   ]
  },
  {
   "cell_type": "code",
   "execution_count": 22,
   "id": "7b46473f",
   "metadata": {
    "vscode": {
     "languageId": "r"
    }
   },
   "outputs": [
    {
     "name": "stdout",
     "output_type": "stream",
     "text": [
      "City with highest single transaction:\n",
      "\u001b[90m# A tibble: 1 × 4\u001b[39m\n",
      "  CustomerCity CustomerName ProductName TotalAmount\n",
      "  \u001b[3m\u001b[90m<chr>\u001b[39m\u001b[23m        \u001b[3m\u001b[90m<chr>\u001b[39m\u001b[23m        \u001b[3m\u001b[90m<chr>\u001b[39m\u001b[23m             \u001b[3m\u001b[90m<dbl>\u001b[39m\u001b[23m\n",
      "\u001b[90m1\u001b[39m Chicago      Mike Brown   Headphones         200.\n"
     ]
    }
   ],
   "source": [
    "# Question 6.4: Geographic Analysis\n",
    "# Find the city with the highest single transaction amount\n",
    "\n",
    "highest_transaction_by_city <- transactions_by_city_amount %>%\n",
    "  # Your code here:\n",
    "  slice_head(n = 1) %>%\n",
    "  select(CustomerCity, CustomerName, ProductName, TotalAmount)\n",
    "\n",
    "cat(\"City with highest single transaction:\\n\")\n",
    "print(highest_transaction_by_city)"
   ]
  },
  {
   "cell_type": "markdown",
   "id": "82d2dc35",
   "metadata": {},
   "source": [
    "## Part 7: Reflection Questions\n",
    "\n",
    "Please answer the following questions in the markdown cells below."
   ]
  },
  {
   "cell_type": "markdown",
   "id": "f2ea2958",
   "metadata": {},
   "source": [
    "### Question 7.1: Pipe Operator Benefits\n",
    "\n",
    "**How does using the pipe operator (`%>%`) improve code readability compared to nested function calls? Provide a specific example from your homework.**\n",
    "\n",
    "The pipe operator (`%>%`) significantly improves code readability by allowing operations to flow from left to right in a logical sequence, making the code read like a step-by-step process. Instead of nesting functions inside each other (which can become confusing), the pipe operator lets you chain operations in the order they are executed.\n",
    "\n",
    "**Example from the homework:**\n",
    "\n",
    "Without pipes (nested approach):\n",
    "```r\n",
    "premium_purchases <- arrange(select(filter(transactions, TotalAmount > 75), CustomerName, ProductName, ProductCategory, TotalAmount), desc(TotalAmount))\n",
    "```\n",
    "\n",
    "With pipes (readable approach):\n",
    "```r\n",
    "premium_purchases <- transactions %>%\n",
    "  filter(TotalAmount > 75) %>%\n",
    "  select(CustomerName, ProductName, ProductCategory, TotalAmount) %>%\n",
    "  arrange(desc(TotalAmount))\n",
    "```\n",
    "\n",
    "The piped version clearly shows the workflow: start with transactions → filter for high amounts → select specific columns → sort by amount. This makes the code much easier to read, debug, and modify."
   ]
  },
  {
   "cell_type": "markdown",
   "id": "af3d8c62",
   "metadata": {},
   "source": [
    "### Question 7.2: Filtering Strategy\n",
    "\n",
    "**When filtering data for business analysis, what are the trade-offs between being very specific (many conditions) versus being more general (fewer conditions)? How might this affect your insights?**\n",
    "\n",
    "**Very Specific Filtering (Many Conditions):**\n",
    "- **Pros:** Provides highly targeted insights, reduces noise, focuses on exact scenarios (like our NY bulk purchases filter)\n",
    "- **Cons:** May exclude relevant data, could result in very small sample sizes, might miss broader patterns\n",
    "- **Example:** Filtering for `TotalAmount > 50 & Quantity > 1 & CustomerCity == \"New York\"` gave us only 1 transaction\n",
    "\n",
    "**More General Filtering (Fewer Conditions):**\n",
    "- **Pros:** Captures broader trends, larger sample sizes, reveals overall patterns in the business\n",
    "- **Cons:** May include irrelevant data, insights could be too general to be actionable\n",
    "- **Example:** Filtering just for `ProductCategory == \"Electronics\"` gave us 6 transactions with diverse insights\n",
    "\n",
    "**Impact on Insights:** The key is finding the right balance. Too specific and you might miss important trends; too general and insights become meaningless. For business decisions, it's often better to start broad to understand overall patterns, then drill down with specific filters to investigate particular segments or anomalies."
   ]
  },
  {
   "cell_type": "markdown",
   "id": "54c0b062",
   "metadata": {},
   "source": [
    "### Question 7.3: Sorting Importance\n",
    "\n",
    "**Why is data sorting important in business analytics? Provide three specific business scenarios where sorting data would be crucial for decision-making.**\n",
    "\n",
    "Data sorting is crucial for identifying patterns, priorities, and outliers in business data. It helps decision makers quickly focus on the most important information.\n",
    "\n",
    "1. **Sales Performance Analysis:** Sorting sales data by revenue (highest to lowest) helps identify top performing products, customers, or sales representatives. This enables management to recognize high performers, allocate resources effectively, and replicate successful strategies.\n",
    "\n",
    "2. **Customer Service Priority:** Sorting customer complaints by date and severity helps support teams prioritize urgent issues and ensure timely responses. Chronological sorting also reveals trends in customer satisfaction over time.\n",
    "\n",
    "3. **Inventory Management:** Sorting products by stock levels (lowest to highest) immediately highlights items that need reordering, preventing stockouts. Sorting by sales velocity helps identify fast moving items that require more frequent restocking versus slow moving inventory that might need promotional pricing."
   ]
  },
  {
   "cell_type": "markdown",
   "id": "625c2ea3",
   "metadata": {},
   "source": [
    "### Question 7.4: Real-World Application\n",
    "\n",
    "**Describe a real business scenario where you might need to combine `select()`, `filter()`, and `arrange()` operations. What insights would you be trying to gain?**\n",
    "\n",
    "**Scenario: E-commerce Customer Retention Analysis**\n",
    "\n",
    "Imagine you're working for an online retailer and need to identify customers at risk of churning to create a targeted retention campaign.\n",
    "\n",
    "**Combined Operations:**\n",
    "```r\n",
    "at_risk_customers <- customer_data %>%\n",
    "  filter(last_purchase_days > 90 & total_spent > 500 & num_purchases > 3) %>%\n",
    "  select(customer_id, customer_name, email, total_spent, last_purchase_date, preferred_category) %>%\n",
    "  arrange(desc(total_spent), desc(last_purchase_days))\n",
    "```\n",
    "\n",
    "**Insights Being Gained:**\n",
    "- **Filter:** Identifies valuable customers (high spending, multiple purchases) who haven't bought recently (potential churn risk)\n",
    "- **Select:** Focuses on essential information needed for the retention campaign (contact info, spending patterns, preferences)\n",
    "- **Arrange:** Prioritizes customers by value (highest spenders first) and risk level (longest time since purchase)\n",
    "\n",
    "This analysis would help the marketing team create personalized retention offers for high value customers who show signs of disengagement, maximizing the ROI of retention efforts by focusing on the most valuable at risk customers first."
   ]
  },
  {
   "cell_type": "markdown",
   "id": "6142c3f6",
   "metadata": {},
   "source": [
    "## Summary and Submission\n",
    "\n",
    "### What You've Learned\n",
    "\n",
    "In this homework, you've practiced:\n",
    "- Using `select()` for column selection with various methods\n",
    "- Using `filter()` for row filtering with single and multiple conditions\n",
    "- Using `arrange()` for sorting data by single and multiple columns\n",
    "- Chaining operations with the pipe operator (`%>%`)\n",
    "- Analyzing business data to generate insights\n",
    "\n",
    "### Submission Checklist\n",
    "\n",
    "Before submitting, ensure you have:\n",
    "- [ ] Completed all code tasks\n",
    "- [ ] Run all cells successfully\n",
    "- [ ] Answered all reflection questions\n",
    "- [ ] Used proper commenting in your code\n",
    "- [ ] Used the pipe operator where appropriate\n",
    "- [ ] Verified your results make sense\n",
    "\n",
    "### Next Steps\n",
    "\n",
    "In the next lesson, you'll learn about:\n",
    "- `mutate()` for creating new columns\n",
    "- `summarize()` for calculating summary statistics\n",
    "- `group_by()` for grouped operations\n",
    "- Advanced data transformation techniques"
   ]
  }
 ],
 "metadata": {
  "kernelspec": {
   "display_name": "R",
   "language": "R",
   "name": "ir"
  },
  "language_info": {
   "codemirror_mode": "r",
   "file_extension": ".r",
   "mimetype": "text/x-r-source",
   "name": "R",
   "pygments_lexer": "r",
   "version": "4.5.1"
  }
 },
 "nbformat": 4,
 "nbformat_minor": 5
}
