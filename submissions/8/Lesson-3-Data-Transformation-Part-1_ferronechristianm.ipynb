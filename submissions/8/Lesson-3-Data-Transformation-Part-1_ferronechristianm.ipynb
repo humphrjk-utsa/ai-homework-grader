{
 "cells": [
  {
   "cell_type": "markdown",
   "id": "fc4341d9",
   "metadata": {},
   "source": [
    "## Lesson 3: Data Transformation with dplyr - Part 1 (Select, Filter, Arrange)\n",
    "\n",
    "Welcome to Lesson 3! Now that you've learned data cleaning, let's explore **data transformation** - the art of reshaping and manipulating your data to extract meaningful insights.\n",
    "\n",
    "**What is Data Transformation?**\n",
    "- The process of converting data from one format or structure into another\n",
    "- Selecting specific columns, filtering rows, and arranging data\n",
    "- Creating new variables and summarizing information\n",
    "\n",
    "**Why is it important?**\n",
    "- Most analysis requires data in a specific format\n",
    "- Helps you focus on relevant subsets of your data\n",
    "- Essential for creating meaningful visualizations and reports\n",
    "\n",
    "**In this lesson, we'll cover:**\n",
    "- **select()**: Choosing specific columns\n",
    "- **filter()**: Subsetting rows based on conditions\n",
    "- **arrange()**: Reordering rows\n",
    "- **The pipe operator (%>%)**: Chaining operations together"
   ]
  },
  {
   "cell_type": "markdown",
   "id": "3b3430b6",
   "metadata": {},
   "source": [
    "## Loading Required Packages\n",
    "\n",
    "For data transformation, we'll use the **dplyr** package, which is part of the **tidyverse** collection:\n",
    "- **dplyr**: The grammar of data manipulation\n",
    "- **Intuitive function names**: select, filter, arrange, mutate, summarize\n",
    "- **Pipe operator (%>%)**: Chain operations in a readable way\n",
    "\n",
    "Let's load the tidyverse package that includes dplyr:"
   ]
  },
  {
   "cell_type": "code",
   "execution_count": 4,
   "id": "eb6ae2f8",
   "metadata": {
    "vscode": {
     "languageId": "r"
    }
   },
   "outputs": [
    {
     "name": "stderr",
     "output_type": "stream",
     "text": [
      "── \u001b[1mAttaching core tidyverse packages\u001b[22m ──────────────────────── tidyverse 2.0.0 ──\n",
      "\u001b[32m✔\u001b[39m \u001b[34mdplyr    \u001b[39m 1.1.4     \u001b[32m✔\u001b[39m \u001b[34mreadr    \u001b[39m 2.1.5\n",
      "\u001b[32m✔\u001b[39m \u001b[34mforcats  \u001b[39m 1.0.0     \u001b[32m✔\u001b[39m \u001b[34mstringr  \u001b[39m 1.5.2\n",
      "\u001b[32m✔\u001b[39m \u001b[34mggplot2  \u001b[39m 4.0.0     \u001b[32m✔\u001b[39m \u001b[34mtibble   \u001b[39m 3.3.0\n",
      "\u001b[32m✔\u001b[39m \u001b[34mlubridate\u001b[39m 1.9.4     \u001b[32m✔\u001b[39m \u001b[34mtidyr    \u001b[39m 1.3.1\n",
      "\u001b[32m✔\u001b[39m \u001b[34mpurrr    \u001b[39m 1.1.0     \n",
      "── \u001b[1mConflicts\u001b[22m ────────────────────────────────────────── tidyverse_conflicts() ──\n",
      "\u001b[31m✖\u001b[39m \u001b[34mdplyr\u001b[39m::\u001b[32mfilter()\u001b[39m masks \u001b[34mstats\u001b[39m::filter()\n",
      "\u001b[31m✖\u001b[39m \u001b[34mdplyr\u001b[39m::\u001b[32mlag()\u001b[39m    masks \u001b[34mstats\u001b[39m::lag()\n",
      "\u001b[36mℹ\u001b[39m Use the conflicted package (\u001b[3m\u001b[34m<http://conflicted.r-lib.org/>\u001b[39m\u001b[23m) to force all conflicts to become errors\n"
     ]
    }
   ],
   "source": [
    "# Load necessary packages\n",
    "library(tidyverse)   # Load the tidyverse collection of packages\n",
    "                     # This includes: dplyr, ggplot2, tidyr, readr, purrr, tibble\n",
    "                     # The comment after # explains what this package includes"
   ]
  },
  {
   "cell_type": "markdown",
   "id": "1e6b7628",
   "metadata": {},
   "source": [
    "## Creating Sample Sales Dataset\n",
    "\n",
    "For this lesson, we'll work with a realistic sales dataset that contains:\n",
    "- **OrderID**: Unique identifier for each order\n",
    "- **CustomerName**: Names of customers\n",
    "- **Product**: Items purchased (Laptop, Mouse, Keyboard, Monitor)\n",
    "- **Category**: Product category (all Electronics in this example)\n",
    "- **Price**: Price of each item\n",
    "- **Quantity**: Number of items ordered\n",
    "- **OrderDate**: Date when the order was placed\n",
    "- **Region**: Geographic region (East, West, North, South)\n",
    "\n",
    "**Why this dataset is good for learning:**\n",
    "- Contains different data types (numeric, character, date)\n",
    "- Realistic business scenario\n",
    "- Multiple dimensions for filtering and grouping"
   ]
  },
  {
   "cell_type": "code",
   "execution_count": 5,
   "id": "3f4be367",
   "metadata": {
    "vscode": {
     "languageId": "r"
    }
   },
   "outputs": [
    {
     "name": "stdout",
     "output_type": "stream",
     "text": [
      "[1] \"Original Sales Data:\"\n",
      "   OrderID CustomerName  Product    Category Price Quantity  OrderDate Region\n",
      "1      101        Alice   Laptop Electronics  1200        1 2024-01-15   East\n",
      "2      102          Bob    Mouse Electronics    25        2 2024-01-15   West\n",
      "3      103      Charlie Keyboard Electronics    75        1 2024-01-16  North\n",
      "4      104        David  Monitor Electronics   300        1 2024-01-17  South\n",
      "5      105          Eve   Laptop Electronics  1150        1 2024-01-18   East\n",
      "6      106        Frank    Mouse Electronics    20        3 2024-01-19   West\n",
      "7      107        Grace Keyboard Electronics    80        1 2024-01-20  North\n",
      "8      108        Heidi  Monitor Electronics   320        1 2024-01-21  South\n",
      "9      109         Ivan   Laptop Electronics  1250        1 2024-01-22   East\n",
      "10     110         Judy    Mouse Electronics    30        2 2024-01-23   West\n"
     ]
    }
   ],
   "source": [
    "# Create a sample sales dataset\n",
    "sales_data <- data.frame(              # Create a data frame (R's table structure)\n",
    "  OrderID = 101:110,                   # Create sequence from 101 to 110 using :\n",
    "  CustomerName = c(\"Alice\", \"Bob\", \"Charlie\", \"David\", \"Eve\", \"Frank\", \"Grace\", \"Heidi\", \"Ivan\", \"Judy\"),\n",
    "                                       # c() combines values into a vector\n",
    "  Product = c(\"Laptop\", \"Mouse\", \"Keyboard\", \"Monitor\", \"Laptop\", \"Mouse\", \"Keyboard\", \"Monitor\", \"Laptop\", \"Mouse\"),\n",
    "                                       # Character vector with product names\n",
    "  Category = c(\"Electronics\", \"Electronics\", \"Electronics\", \"Electronics\", \"Electronics\", \"Electronics\", \"Electronics\", \"Electronics\", \"Electronics\", \"Electronics\"),\n",
    "                                       # All same category - shows repetitive data\n",
    "  Price = c(1200, 25, 75, 300, 1150, 20, 80, 320, 1250, 30),\n",
    "                                       # Numeric vector with price values\n",
    "  Quantity = c(1, 2, 1, 1, 1, 3, 1, 1, 1, 2),\n",
    "                                       # Integer vector for quantities ordered\n",
    "  OrderDate = as.Date(c(\"2024-01-15\", \"2024-01-15\", \"2024-01-16\", \"2024-01-17\", \"2024-01-18\",\n",
    "                        \"2024-01-19\", \"2024-01-20\", \"2024-01-21\", \"2024-01-22\", \"2024-01-23\")),\n",
    "                                       # as.Date() converts text to proper date format\n",
    "  Region = c(\"East\", \"West\", \"North\", \"South\", \"East\", \"West\", \"North\", \"South\", \"East\", \"West\")\n",
    "                                       # Factor-like data for geographic regions\n",
    ")\n",
    "\n",
    "print(\"Original Sales Data:\")          # print() displays output to console\n",
    "print(sales_data)                      # Show the entire data frame"
   ]
  },
  {
   "cell_type": "markdown",
   "id": "91172b62",
   "metadata": {},
   "source": [
    "## Introduction to dplyr and the Pipe Operator (%>%)\n",
    "\n",
    "The **pipe operator (%>%)** is one of the most powerful features in R for data manipulation:\n",
    "\n",
    "**Without pipe (traditional R):**\n",
    "```r\n",
    "result <- filter(select(sales_data, Product, Price), Price > 100)\n",
    "```\n",
    "\n",
    "**With pipe (modern tidyverse style):**\n",
    "```r\n",
    "result <- sales_data %>%\n",
    "  select(Product, Price) %>%\n",
    "  filter(Price > 100)\n",
    "```\n",
    "\n",
    "**Why use the pipe operator?**\n",
    "- **Readability**: Code reads left-to-right, top-to-bottom\n",
    "- **Less nesting**: Avoid complex nested function calls\n",
    "- **Step-by-step**: Easy to add/remove operations\n",
    "- **Debugging**: Can run partial pipelines to check intermediate results"
   ]
  },
  {
   "cell_type": "code",
   "execution_count": 6,
   "id": "0aa487e4",
   "metadata": {
    "vscode": {
     "languageId": "r"
    }
   },
   "outputs": [
    {
     "name": "stdout",
     "output_type": "stream",
     "text": [
      "[1] \"Example of pipe operator - Products with Price > 100:\"\n",
      "  Product Price\n",
      "1  Laptop  1200\n",
      "2 Monitor   300\n",
      "3  Laptop  1150\n",
      "4 Monitor   320\n",
      "5  Laptop  1250\n"
     ]
    }
   ],
   "source": [
    "# Example: without pipe (harder to read)\n",
    "# result <- filter(select(sales_data, Product, Price), Price > 100)\n",
    "# This nests functions: select first, then filter the result\n",
    "\n",
    "# Example: with pipe (easier to read)\n",
    "result <- sales_data %>%               # Start with sales_data, then pipe to next function\n",
    "  select(Product, Price) %>%           # Select only Product and Price columns, then pipe\n",
    "  filter(Price > 100)                  # Filter rows where Price is greater than 100\n",
    "                                       # %>% passes result from left side to right side\n",
    "\n",
    "print(\"Example of pipe operator - Products with Price > 100:\")\n",
    "print(result)                          # Display the final filtered result"
   ]
  },
  {
   "cell_type": "markdown",
   "id": "7a9847d2",
   "metadata": {},
   "source": [
    "## 1. select(): Choosing Columns\n",
    "\n",
    "The **select()** function allows you to choose which columns to keep in your dataset:\n",
    "\n",
    "**Common select() patterns:**\n",
    "- `select(col1, col2, col3)`: Select specific columns\n",
    "- `select(col1:col5)`: Select range of columns\n",
    "- `select(-col1, -col2)`: Select all EXCEPT specified columns\n",
    "- `select(starts_with(\"prefix\"))`: Select columns starting with text\n",
    "- `select(ends_with(\"suffix\"))`: Select columns ending with text\n",
    "- `select(contains(\"text\"))`: Select columns containing text\n",
    "\n",
    "**Why is select() useful?**\n",
    "- Focus on relevant variables for analysis\n",
    "- Reduce dataset size for better performance\n",
    "- Reorder columns as needed"
   ]
  },
  {
   "cell_type": "code",
   "execution_count": 7,
   "id": "915a54d9",
   "metadata": {
    "vscode": {
     "languageId": "r"
    }
   },
   "outputs": [
    {
     "ename": "ERROR",
     "evalue": "Error: object 'OrderID' not found\n",
     "output_type": "error",
     "traceback": [
      "Error: object 'OrderID' not found\nTraceback:\n",
      "1. .handleSimpleError(function (cnd) \n . {\n .     watcher$capture_plot_and_output()\n .     cnd <- sanitize_call(cnd)\n .     watcher$push(cnd)\n .     switch(on_error, continue = invokeRestart(\"eval_continue\"), \n .         stop = invokeRestart(\"eval_stop\"), error = NULL)\n . }, \"object 'OrderID' not found\", base::quote(eval(expr, envir)))"
     ]
    }
   ],
   "source": [
    "# Select specific columns\n",
    "selected_columns <- sales_data     # Take sales_data and pipe it to select()\n",
    "  select(OrderID, CustomerName, Product, Price)\n",
    "                                       # select() keeps only the named columns\n",
    "                                       # All other columns (Category, Quantity, etc.) are dropped\n",
    "print(\"Selected Columns (OrderID, CustomerName, Product, Price):\")\n",
    "print(selected_columns)               # Result has only 4 columns instead of original 8"
   ]
  },
  {
   "cell_type": "code",
   "execution_count": 10,
   "id": "c9964850",
   "metadata": {
    "vscode": {
     "languageId": "r"
    }
   },
   "outputs": [
    {
     "name": "stdout",
     "output_type": "stream",
     "text": [
      "[1] \"Selected Columns by Range (OrderID to Product):\"\n",
      "   OrderID CustomerName  Product\n",
      "1      101        Alice   Laptop\n",
      "2      102          Bob    Mouse\n",
      "3      103      Charlie Keyboard\n",
      "4      104        David  Monitor\n",
      "5      105          Eve   Laptop\n",
      "6      106        Frank    Mouse\n",
      "7      107        Grace Keyboard\n",
      "8      108        Heidi  Monitor\n",
      "9      109         Ivan   Laptop\n",
      "10     110         Judy    Mouse\n"
     ]
    }
   ],
   "source": [
    "# Select columns by range\n",
    "selected_range <- sales_data %>%      # Take sales_data and pipe to select()\n",
    "  select(OrderID:Product)              # : means \"from OrderID through Product\"\n",
    "                                       # This selects OrderID, CustomerName, and Product\n",
    "                                       # Range selection based on column position\n",
    "print(\"Selected Columns by Range (OrderID to Product):\")\n",
    "print(selected_range)                 # Shows first 3 columns only"
   ]
  },
  {
   "cell_type": "code",
   "execution_count": 9,
   "id": "2a5124a8",
   "metadata": {
    "vscode": {
     "languageId": "r"
    }
   },
   "outputs": [
    {
     "name": "stdout",
     "output_type": "stream",
     "text": [
      "[1] \"Selected All Columns Except Category and OrderDate:\"\n",
      "   OrderID CustomerName  Product Price Quantity Region\n",
      "1      101        Alice   Laptop  1200        1   East\n",
      "2      102          Bob    Mouse    25        2   West\n",
      "3      103      Charlie Keyboard    75        1  North\n",
      "4      104        David  Monitor   300        1  South\n",
      "5      105          Eve   Laptop  1150        1   East\n",
      "6      106        Frank    Mouse    20        3   West\n",
      "7      107        Grace Keyboard    80        1  North\n",
      "8      108        Heidi  Monitor   320        1  South\n",
      "9      109         Ivan   Laptop  1250        1   East\n",
      "10     110         Judy    Mouse    30        2   West\n"
     ]
    }
   ],
   "source": [
    "# Select all columns EXCEPT some\n",
    "except_columns <- sales_data %>%      # Take sales_data and pipe to select()\n",
    "  select(-Category, -OrderDate)       # Minus sign (-) means \"exclude these columns\"\n",
    "                                       # Keep everything except Category and OrderDate\n",
    "                                       # Useful when you want most columns but not all\n",
    "print(\"Selected All Columns Except Category and OrderDate:\")\n",
    "print(except_columns)                 # Result has 6 columns instead of 8"
   ]
  },
  {
   "cell_type": "code",
   "execution_count": 8,
   "id": "0ca651c1",
   "metadata": {
    "vscode": {
     "languageId": "r"
    }
   },
   "outputs": [
    {
     "name": "stdout",
     "output_type": "stream",
     "text": [
      "[1] \"Selected Columns Starting with 'O':\"\n",
      "   OrderID  OrderDate\n",
      "1      101 2024-01-15\n",
      "2      102 2024-01-15\n",
      "3      103 2024-01-16\n",
      "4      104 2024-01-17\n",
      "5      105 2024-01-18\n",
      "6      106 2024-01-19\n",
      "7      107 2024-01-20\n",
      "8      108 2024-01-21\n",
      "9      109 2024-01-22\n",
      "10     110 2024-01-23\n"
     ]
    }
   ],
   "source": [
    "# Select columns that start with a specific string\n",
    "starts_with_o <- sales_data %>%       # Take sales_data and pipe to select()\n",
    "  select(starts_with(\"O\"))            # starts_with() is a helper function\n",
    "                                       # Finds columns beginning with \"O\"\n",
    "                                       # Case-sensitive: looks for \"OrderID\" and \"OrderDate\"\n",
    "print(\"Selected Columns Starting with 'O':\")\n",
    "print(starts_with_o)                  # Result shows OrderID and OrderDate columns only"
   ]
  },
  {
   "cell_type": "code",
   "execution_count": 11,
   "id": "9435e654",
   "metadata": {
    "vscode": {
     "languageId": "r"
    }
   },
   "outputs": [
    {
     "name": "stdout",
     "output_type": "stream",
     "text": [
      "[1] \"Selected Columns Containing 'Name':\"\n",
      "   CustomerName\n",
      "1         Alice\n",
      "2           Bob\n",
      "3       Charlie\n",
      "4         David\n",
      "5           Eve\n",
      "6         Frank\n",
      "7         Grace\n",
      "8         Heidi\n",
      "9          Ivan\n",
      "10         Judy\n"
     ]
    }
   ],
   "source": [
    "# Select columns that contain a specific string\n",
    "contains_name <- sales_data %>%       # Take sales_data and pipe to select()\n",
    "  select(contains(\"Name\"))            # contains() is a helper function\n",
    "                                       # Finds columns with \"Name\" anywhere in column name\n",
    "                                       # Matches \"CustomerName\" in our dataset\n",
    "print(\"Selected Columns Containing 'Name':\")\n",
    "print(contains_name)                  # Result shows only CustomerName column"
   ]
  },
  {
   "cell_type": "markdown",
   "id": "9b2cb75c",
   "metadata": {},
   "source": [
    "## 2. filter(): Subsetting Rows Based on Conditions\n",
    "\n",
    "The **filter()** function allows you to subset rows based on logical conditions:\n",
    "\n",
    "**Common filter() operators:**\n",
    "- `==`: Equal to\n",
    "- `!=`: Not equal to\n",
    "- `>`, `>=`: Greater than (or equal)\n",
    "- `<`, `<=`: Less than (or equal)\n",
    "- `&` or `,`: AND condition\n",
    "- `|`: OR condition\n",
    "- `%in%`: Value is in a list\n",
    "- `is.na()`: Is missing value\n",
    "- `!is.na()`: Is not missing value\n",
    "\n",
    "**Why is filter() essential?**\n",
    "- Focus on specific subsets of data\n",
    "- Remove unwanted observations\n",
    "- Create targeted analyses for different segments"
   ]
  },
  {
   "cell_type": "code",
   "execution_count": 12,
   "id": "7f0abc4d",
   "metadata": {
    "vscode": {
     "languageId": "r"
    }
   },
   "outputs": [
    {
     "name": "stdout",
     "output_type": "stream",
     "text": [
      "[1] \"Items with Price > 100:\"\n",
      "  OrderID CustomerName Product    Category Price Quantity  OrderDate Region\n",
      "1     101        Alice  Laptop Electronics  1200        1 2024-01-15   East\n",
      "2     104        David Monitor Electronics   300        1 2024-01-17  South\n",
      "3     105          Eve  Laptop Electronics  1150        1 2024-01-18   East\n",
      "4     108        Heidi Monitor Electronics   320        1 2024-01-21  South\n",
      "5     109         Ivan  Laptop Electronics  1250        1 2024-01-22   East\n"
     ]
    }
   ],
   "source": [
    "# Filter rows where Price is greater than 100\n",
    "high_price_items <- sales_data %>%    # Take sales_data and pipe to filter()\n",
    "  filter(Price > 100)                 # filter() keeps rows where condition is TRUE\n",
    "                                       # > is the \"greater than\" comparison operator\n",
    "                                       # Only keeps rows where Price column > 100\n",
    "print(\"Items with Price > 100:\")\n",
    "print(high_price_items)               # Shows only expensive items (laptops, monitors)"
   ]
  },
  {
   "cell_type": "code",
   "execution_count": 13,
   "id": "508f5a92",
   "metadata": {
    "vscode": {
     "languageId": "r"
    }
   },
   "outputs": [
    {
     "name": "stdout",
     "output_type": "stream",
     "text": [
      "[1] \"Laptops with Quantity = 1:\"\n",
      "  OrderID CustomerName Product    Category Price Quantity  OrderDate Region\n",
      "1     101        Alice  Laptop Electronics  1200        1 2024-01-15   East\n",
      "2     105          Eve  Laptop Electronics  1150        1 2024-01-18   East\n",
      "3     109         Ivan  Laptop Electronics  1250        1 2024-01-22   East\n"
     ]
    }
   ],
   "source": [
    "# Filter rows where Product is 'Laptop' and Quantity is 1\n",
    "laptop_single_quantity <- sales_data %>%  # Take sales_data and pipe to filter()\n",
    "  filter(Product == \"Laptop\", Quantity == 1)\n",
    "                                       # Multiple conditions separated by comma = AND logic\n",
    "                                       # == is \"exactly equal to\" (use == not = for comparison)\n",
    "                                       # Both conditions must be TRUE for row to be kept\n",
    "print(\"Laptops with Quantity = 1:\")\n",
    "print(laptop_single_quantity)         # Shows only laptop orders with quantity of 1"
   ]
  },
  {
   "cell_type": "code",
   "execution_count": 14,
   "id": "f5cdd7e2",
   "metadata": {
    "vscode": {
     "languageId": "r"
    }
   },
   "outputs": [
    {
     "name": "stdout",
     "output_type": "stream",
     "text": [
      "[1] \"Orders from East or West Region:\"\n",
      "  OrderID CustomerName Product    Category Price Quantity  OrderDate Region\n",
      "1     101        Alice  Laptop Electronics  1200        1 2024-01-15   East\n",
      "2     102          Bob   Mouse Electronics    25        2 2024-01-15   West\n",
      "3     105          Eve  Laptop Electronics  1150        1 2024-01-18   East\n",
      "4     106        Frank   Mouse Electronics    20        3 2024-01-19   West\n",
      "5     109         Ivan  Laptop Electronics  1250        1 2024-01-22   East\n",
      "6     110         Judy   Mouse Electronics    30        2 2024-01-23   West\n"
     ]
    }
   ],
   "source": [
    "# Filter rows where Region is 'East' or 'West'\n",
    "east_west_region <- sales_data %>%    # Take sales_data and pipe to filter()\n",
    "  filter(Region == \"East\" | Region == \"West\")\n",
    "                                       # | is the OR operator (either condition can be true)\n",
    "                                       # Keep rows where Region equals \"East\" OR \"West\"\n",
    "                                       # Excludes \"North\" and \"South\" regions\n",
    "print(\"Orders from East or West Region:\")\n",
    "print(east_west_region)               # Shows only orders from East or West regions"
   ]
  },
  {
   "cell_type": "code",
   "execution_count": 15,
   "id": "b4d44e62",
   "metadata": {
    "vscode": {
     "languageId": "r"
    }
   },
   "outputs": [
    {
     "name": "stdout",
     "output_type": "stream",
     "text": [
      "[1] \"Orders for Laptop or Monitor:\"\n",
      "  OrderID CustomerName Product    Category Price Quantity  OrderDate Region\n",
      "1     101        Alice  Laptop Electronics  1200        1 2024-01-15   East\n",
      "2     104        David Monitor Electronics   300        1 2024-01-17  South\n",
      "3     105          Eve  Laptop Electronics  1150        1 2024-01-18   East\n",
      "4     108        Heidi Monitor Electronics   320        1 2024-01-21  South\n",
      "5     109         Ivan  Laptop Electronics  1250        1 2024-01-22   East\n"
     ]
    }
   ],
   "source": [
    "# Filter using %in% operator\n",
    "selected_products <- sales_data %>%   # Take sales_data and pipe to filter()\n",
    "  filter(Product %in% c(\"Laptop\", \"Monitor\"))\n",
    "                                       # %in% checks if value exists in a list\n",
    "                                       # c(\"Laptop\", \"Monitor\") creates a vector of allowed values\n",
    "                                       # More efficient than Product == \"Laptop\" | Product == \"Monitor\"\n",
    "print(\"Orders for Laptop or Monitor:\")\n",
    "print(selected_products)              # Shows only laptop and monitor orders"
   ]
  },
  {
   "cell_type": "code",
   "execution_count": 16,
   "id": "ab6bfda4",
   "metadata": {
    "vscode": {
     "languageId": "r"
    }
   },
   "outputs": [
    {
     "name": "stdout",
     "output_type": "stream",
     "text": [
      "[1] \"Orders from Jan 17, 2024 onwards:\"\n",
      "  OrderID CustomerName  Product    Category Price Quantity  OrderDate Region\n",
      "1     104        David  Monitor Electronics   300        1 2024-01-17  South\n",
      "2     105          Eve   Laptop Electronics  1150        1 2024-01-18   East\n",
      "3     106        Frank    Mouse Electronics    20        3 2024-01-19   West\n",
      "4     107        Grace Keyboard Electronics    80        1 2024-01-20  North\n",
      "5     108        Heidi  Monitor Electronics   320        1 2024-01-21  South\n",
      "6     109         Ivan   Laptop Electronics  1250        1 2024-01-22   East\n",
      "7     110         Judy    Mouse Electronics    30        2 2024-01-23   West\n"
     ]
    }
   ],
   "source": [
    "# Filter rows based on date\n",
    "orders_jan_17_onwards <- sales_data %>%  # Take sales_data and pipe to filter()\n",
    "  filter(OrderDate >= as.Date(\"2024-01-17\"))\n",
    "                                       # >= means \"greater than or equal to\"\n",
    "                                       # as.Date() converts text string to date format\n",
    "                                       # Keeps orders from Jan 17, 2024 and later\n",
    "print(\"Orders from Jan 17, 2024 onwards:\")\n",
    "print(orders_jan_17_onwards)          # Shows orders from Jan 17 through Jan 23"
   ]
  },
  {
   "cell_type": "markdown",
   "id": "c53fe16a",
   "metadata": {},
   "source": [
    "## 3. arrange(): Reordering Rows\n",
    "\n",
    "The **arrange()** function allows you to sort your data by one or more columns:\n",
    "\n",
    "**Common arrange() patterns:**\n",
    "- `arrange(column)`: Sort by column in ascending order\n",
    "- `arrange(desc(column))`: Sort by column in descending order\n",
    "- `arrange(col1, col2)`: Sort by multiple columns\n",
    "- `arrange(desc(col1), col2)`: Mixed ascending/descending sort\n",
    "\n",
    "**Why is arrange() useful?**\n",
    "- Identify top/bottom performers\n",
    "- Prepare data for reports\n",
    "- Make patterns more visible\n",
    "- Ensure consistent ordering for analysis"
   ]
  },
  {
   "cell_type": "code",
   "execution_count": 17,
   "id": "aab6a164",
   "metadata": {
    "vscode": {
     "languageId": "r"
    }
   },
   "outputs": [
    {
     "name": "stdout",
     "output_type": "stream",
     "text": [
      "[1] \"Arranged by Price (Ascending):\"\n",
      "   OrderID CustomerName  Product    Category Price Quantity  OrderDate Region\n",
      "1      106        Frank    Mouse Electronics    20        3 2024-01-19   West\n",
      "2      102          Bob    Mouse Electronics    25        2 2024-01-15   West\n",
      "3      110         Judy    Mouse Electronics    30        2 2024-01-23   West\n",
      "4      103      Charlie Keyboard Electronics    75        1 2024-01-16  North\n",
      "5      107        Grace Keyboard Electronics    80        1 2024-01-20  North\n",
      "6      104        David  Monitor Electronics   300        1 2024-01-17  South\n",
      "7      108        Heidi  Monitor Electronics   320        1 2024-01-21  South\n",
      "8      105          Eve   Laptop Electronics  1150        1 2024-01-18   East\n",
      "9      101        Alice   Laptop Electronics  1200        1 2024-01-15   East\n",
      "10     109         Ivan   Laptop Electronics  1250        1 2024-01-22   East\n"
     ]
    }
   ],
   "source": [
    "# Arrange by Price in ascending order (default)\n",
    "arranged_by_price_asc <- sales_data %>%  # Take sales_data and pipe to arrange()\n",
    "  arrange(Price)                      # arrange() sorts rows by specified column\n",
    "                                       # Default is ascending order (lowest to highest)\n",
    "                                       # Cheapest items appear first\n",
    "print(\"Arranged by Price (Ascending):\")\n",
    "print(arranged_by_price_asc)          # Shows data sorted from $20 to $1250"
   ]
  },
  {
   "cell_type": "code",
   "execution_count": 18,
   "id": "7230c546",
   "metadata": {
    "vscode": {
     "languageId": "r"
    }
   },
   "outputs": [
    {
     "name": "stdout",
     "output_type": "stream",
     "text": [
      "[1] \"Arranged by Price (Descending):\"\n",
      "   OrderID CustomerName  Product    Category Price Quantity  OrderDate Region\n",
      "1      109         Ivan   Laptop Electronics  1250        1 2024-01-22   East\n",
      "2      101        Alice   Laptop Electronics  1200        1 2024-01-15   East\n",
      "3      105          Eve   Laptop Electronics  1150        1 2024-01-18   East\n",
      "4      108        Heidi  Monitor Electronics   320        1 2024-01-21  South\n",
      "5      104        David  Monitor Electronics   300        1 2024-01-17  South\n",
      "6      107        Grace Keyboard Electronics    80        1 2024-01-20  North\n",
      "7      103      Charlie Keyboard Electronics    75        1 2024-01-16  North\n",
      "8      110         Judy    Mouse Electronics    30        2 2024-01-23   West\n",
      "9      102          Bob    Mouse Electronics    25        2 2024-01-15   West\n",
      "10     106        Frank    Mouse Electronics    20        3 2024-01-19   West\n"
     ]
    }
   ],
   "source": [
    "# Arrange by Price in descending order\n",
    "arranged_by_price_desc <- sales_data %>%  # Take sales_data and pipe to arrange()\n",
    "  arrange(desc(Price))                # desc() function reverses sort order\n",
    "                                       # desc = descending (highest to lowest)\n",
    "                                       # Most expensive items appear first\n",
    "print(\"Arranged by Price (Descending):\")\n",
    "print(arranged_by_price_desc)          # Shows data sorted from $1250 to $20"
   ]
  },
  {
   "cell_type": "code",
   "execution_count": 19,
   "id": "e008336e",
   "metadata": {
    "vscode": {
     "languageId": "r"
    }
   },
   "outputs": [
    {
     "name": "stdout",
     "output_type": "stream",
     "text": [
      "[1] \"Arranged by Region then Price:\"\n",
      "   OrderID CustomerName  Product    Category Price Quantity  OrderDate Region\n",
      "1      105          Eve   Laptop Electronics  1150        1 2024-01-18   East\n",
      "2      101        Alice   Laptop Electronics  1200        1 2024-01-15   East\n",
      "3      109         Ivan   Laptop Electronics  1250        1 2024-01-22   East\n",
      "4      103      Charlie Keyboard Electronics    75        1 2024-01-16  North\n",
      "5      107        Grace Keyboard Electronics    80        1 2024-01-20  North\n",
      "6      104        David  Monitor Electronics   300        1 2024-01-17  South\n",
      "7      108        Heidi  Monitor Electronics   320        1 2024-01-21  South\n",
      "8      106        Frank    Mouse Electronics    20        3 2024-01-19   West\n",
      "9      102          Bob    Mouse Electronics    25        2 2024-01-15   West\n",
      "10     110         Judy    Mouse Electronics    30        2 2024-01-23   West\n"
     ]
    }
   ],
   "source": [
    "# Arrange by multiple columns (e.g., Region then Price)\n",
    "arranged_by_region_price <- sales_data %>%  # Take sales_data and pipe to arrange()\n",
    "  arrange(Region, Price)              # Multiple columns: first sort by Region\n",
    "                                       # Then within each region, sort by Price\n",
    "                                       # Primary sort = Region (alphabetical)\n",
    "                                       # Secondary sort = Price (within each region)\n",
    "print(\"Arranged by Region then Price:\")\n",
    "print(arranged_by_region_price)        # Groups by East, North, South, West, then price within each"
   ]
  },
  {
   "cell_type": "markdown",
   "id": "26190bb6",
   "metadata": {},
   "source": [
    "## Combining Operations: The Power of the Pipe\n",
    "\n",
    "The real power of dplyr comes from **chaining multiple operations** together using the pipe operator:\n",
    "\n",
    "**Benefits of chaining:**\n",
    "- **Readable code**: Operations flow logically from one to the next\n",
    "- **Efficient**: No need to create intermediate variables\n",
    "- **Flexible**: Easy to modify by adding/removing steps\n",
    "- **Powerful**: Complex transformations in just a few lines\n",
    "\n",
    "**Example workflow:**\n",
    "1. Start with original data\n",
    "2. Filter to relevant rows\n",
    "3. Select important columns\n",
    "4. Arrange in meaningful order"
   ]
  },
  {
   "cell_type": "code",
   "execution_count": 20,
   "id": "488a6d05",
   "metadata": {
    "vscode": {
     "languageId": "r"
    }
   },
   "outputs": [
    {
     "name": "stdout",
     "output_type": "stream",
     "text": [
      "[1] \"High Value Orders (Price * Quantity > 1000) arranged by total value (Descending):\"\n",
      "  OrderID CustomerName Product    Category Price Quantity  OrderDate Region\n",
      "1     109         Ivan  Laptop Electronics  1250        1 2024-01-22   East\n",
      "2     101        Alice  Laptop Electronics  1200        1 2024-01-15   East\n",
      "3     105          Eve  Laptop Electronics  1150        1 2024-01-18   East\n"
     ]
    }
   ],
   "source": [
    "# Combine operations: filter and then arrange\n",
    "high_value_orders_arranged <- sales_data %>%  # Start with sales_data\n",
    "  filter(Price * Quantity > 1000) %>% # Step 1: Calculate total value (Price × Quantity)\n",
    "                                       # Keep only rows where total > 1000\n",
    "  arrange(desc(Price * Quantity))     # Step 2: Sort by total value (highest first)\n",
    "                                       # desc() sorts descending order\n",
    "                                       # Pipeline: data → filter → arrange → result\n",
    "print(\"High Value Orders (Price * Quantity > 1000) arranged by total value (Descending):\")\n",
    "print(high_value_orders_arranged)      # Shows high-value orders sorted by total value"
   ]
  },
  {
   "cell_type": "markdown",
   "id": "fee4bce3",
   "metadata": {},
   "source": [
    "## Summary and Next Steps\n",
    "\n",
    "**What we learned in this lesson:**\n",
    "- **select()**: Choose specific columns from your dataset\n",
    "- **filter()**: Subset rows based on logical conditions\n",
    "- **arrange()**: Sort data by one or more columns\n",
    "- **Pipe operator (%>%)**: Chain operations together for readable code\n",
    "\n",
    "**Key takeaways:**\n",
    "1. **Start simple**: Begin with basic operations before chaining\n",
    "2. **Think step-by-step**: Break complex tasks into smaller operations\n",
    "3. **Use meaningful names**: Create descriptive variable names for results\n",
    "4. **Practice**: The more you use these functions, the more intuitive they become\n",
    "\n",
    "**Coming up in Part 2:**\n",
    "- **mutate()**: Creating new variables\n",
    "- **summarize()**: Calculating summary statistics\n",
    "- **group_by()**: Performing operations by groups\n",
    "- **Advanced combinations**: Complex data transformations\n",
    "\n",
    "**Practice exercises:**\n",
    "1. Try filtering the data for different conditions\n",
    "2. Experiment with selecting different column combinations\n",
    "3. Practice arranging by different variables\n",
    "4. Create your own chain of operations"
   ]
  }
 ],
 "metadata": {
  "kernelspec": {
   "display_name": "R",
   "language": "R",
   "name": "ir"
  },
  "language_info": {
   "codemirror_mode": "r",
   "file_extension": ".r",
   "mimetype": "text/x-r-source",
   "name": "R",
   "pygments_lexer": "r",
   "version": "4.4.3"
  }
 },
 "nbformat": 4,
 "nbformat_minor": 5
}
