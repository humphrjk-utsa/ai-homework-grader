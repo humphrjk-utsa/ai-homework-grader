{
 "cells": [
  {
   "cell_type": "markdown",
   "id": "3d8bca02",
   "metadata": {},
   "source": [
    "# Homework Assignment - Lesson 3: Data Transformation with dplyr - Part 1\n",
    "\n",
    "**Student Name:** Wesley Cook\n",
    "\n",
    "**Due Date:** 9/21/2025\n",
    "\n",
    "**Objective:** Learn to use dplyr functions (`select()`, `filter()`, `arrange()`) and the pipe operator (`%>%`) for data transformation and analysis.\n",
    "\n",
    "---\n",
    "\n",
    "## Instructions\n",
    "\n",
    "- Complete all tasks in this notebook\n",
    "- Use the pipe operator (`%>%`) wherever possible to chain operations\n",
    "- Ensure your code is well-commented and easy to understand\n",
    "- Run all cells to verify your code works correctly\n",
    "- Answer all reflection questions at the end\n",
    "\n",
    "---"
   ]
  },
  {
   "cell_type": "markdown",
   "id": "2baa2287",
   "metadata": {},
   "source": [
    "## Part 1: Data Import and Setup\n",
    "\n",
    "In this section, you'll import the retail transactions dataset and perform initial exploration.\n",
    "\n",
    "**Dataset:** `retail_transactions.csv` - This dataset contains transaction records from a retail business with information about customers, products, dates, amounts, and quantities."
   ]
  },
  {
   "cell_type": "code",
   "execution_count": 12,
   "id": "764c19b0",
   "metadata": {
    "vscode": {
     "languageId": "r"
    }
   },
   "outputs": [
    {
     "name": "stderr",
     "output_type": "stream",
     "text": [
      "\u001b[1mRows: \u001b[22m\u001b[34m500\u001b[39m \u001b[1mColumns: \u001b[22m\u001b[34m9\u001b[39m\n",
      "\u001b[36m──\u001b[39m \u001b[1mColumn specification\u001b[22m \u001b[36m────────────────────────────────────────────────────────\u001b[39m\n",
      "\u001b[1mDelimiter:\u001b[22m \",\"\n",
      "\u001b[31mchr\u001b[39m  (4): CustomerName, CustomerCity, ProductName, ProductCategory\n",
      "\u001b[32mdbl\u001b[39m  (4): TransactionID, CustomerID, TotalAmount, Quantity\n",
      "\u001b[34mdate\u001b[39m (1): TransactionDate\n"
     ]
    },
    {
     "name": "stderr",
     "output_type": "stream",
     "text": [
      "\n",
      "\u001b[36mℹ\u001b[39m Use `spec()` to retrieve the full column specification for this data.\n",
      "\u001b[36mℹ\u001b[39m Specify the column types or set `show_col_types = FALSE` to quiet this message.\n"
     ]
    },
    {
     "name": "stdout",
     "output_type": "stream",
     "text": [
      "Data imported successfully!\n",
      "Dataset dimensions: 500 rows x 9 columns\n"
     ]
    }
   ],
   "source": [
    "# Load required libraries\n",
    "library(tidyverse)\n",
    "setwd(\"/workspaces/Wespitory/data\")\n",
    "\n",
    "# Set working directory if needed\n",
    "# setwd(\"path/to/your/data\")\n",
    "\n",
    "# Task 1.1: Import the retail_transactions.csv file\n",
    "# Create a data frame named 'transactions'\n",
    "# Note: Import the retail_transactions.csv file\n",
    "\n",
    "# Your code here:\n",
    "transactions <- read_csv(\"retail_transactions.csv\")\n",
    "\n",
    "# Display success message\n",
    "cat(\"Data imported successfully!\\n\")\n",
    "cat(\"Dataset dimensions:\", nrow(transactions), \"rows x\", ncol(transactions), \"columns\\n\")"
   ]
  },
  {
   "cell_type": "code",
   "execution_count": 13,
   "id": "dd72af91",
   "metadata": {
    "vscode": {
     "languageId": "r"
    }
   },
   "outputs": [
    {
     "name": "stdout",
     "output_type": "stream",
     "text": [
      "First 10 rows of the dataset:\n",
      "\u001b[90m# A tibble: 10 × 9\u001b[39m\n",
      "   TransactionID CustomerID CustomerName CustomerCity ProductName    \n",
      "           \u001b[3m\u001b[90m<dbl>\u001b[39m\u001b[23m      \u001b[3m\u001b[90m<dbl>\u001b[39m\u001b[23m \u001b[3m\u001b[90m<chr>\u001b[39m\u001b[23m        \u001b[3m\u001b[90m<chr>\u001b[39m\u001b[23m        \u001b[3m\u001b[90m<chr>\u001b[39m\u001b[23m          \n",
      "\u001b[90m 1\u001b[39m             1         81 Customer 39  Chicago      Adidas Jacket  \n",
      "\u001b[90m 2\u001b[39m             2         13 Customer 63  Philadelphia Samsung TV     \n",
      "\u001b[90m 3\u001b[39m             3         18 Customer 98  Chicago      Adidas Jacket  \n",
      "\u001b[90m 4\u001b[39m             4         76 Customer 39  Houston      Dell Laptop    \n",
      "\u001b[90m 5\u001b[39m             5         86 Customer 45  New York     Nike Shoes     \n",
      "\u001b[90m 6\u001b[39m             6         37 Customer 8   Philadelphia Adidas Jacket  \n",
      "\u001b[90m 7\u001b[39m             7         45 Customer 83  New York     HP Printer     \n",
      "\u001b[90m 8\u001b[39m             8         11 Customer 60  Chicago      Samsung TV     \n",
      "\u001b[90m 9\u001b[39m             9         13 Customer 69  Houston      iPhone 14      \n",
      "\u001b[90m10\u001b[39m            10         55 Customer 24  Chicago      Sony Headphones\n",
      "\u001b[90m# ℹ 4 more variables: ProductCategory <chr>, TotalAmount <dbl>, Quantity <dbl>,\u001b[39m\n",
      "\u001b[90m#   TransactionDate <date>\u001b[39m\n",
      "\n",
      "Dataset structure:\n",
      "spc_tbl_ [500 × 9] (S3: spec_tbl_df/tbl_df/tbl/data.frame)\n",
      " $ TransactionID  : num [1:500] 1 2 3 4 5 6 7 8 9 10 ...\n",
      " $ CustomerID     : num [1:500] 81 13 18 76 86 37 45 11 13 55 ...\n",
      " $ CustomerName   : chr [1:500] \"Customer 39\" \"Customer 63\" \"Customer 98\" \"Customer 39\" ...\n",
      " $ CustomerCity   : chr [1:500] \"Chicago\" \"Philadelphia\" \"Chicago\" \"Houston\" ...\n",
      " $ ProductName    : chr [1:500] \"Adidas Jacket\" \"Samsung TV\" \"Adidas Jacket\" \"Dell Laptop\" ...\n",
      " $ ProductCategory: chr [1:500] \"Clothing\" \"Music\" \"Computers\" \"Computers\" ...\n",
      " $ TotalAmount    : num [1:500] 632 114 1289 885 96 ...\n",
      " $ Quantity       : num [1:500] 3 3 7 2 5 2 3 3 8 1 ...\n",
      " $ TransactionDate: Date[1:500], format: \"2024-03-09\" \"2024-12-08\" ...\n",
      " - attr(*, \"spec\")=\n",
      "  .. cols(\n",
      "  ..   TransactionID = \u001b[32mcol_double()\u001b[39m,\n",
      "  ..   CustomerID = \u001b[32mcol_double()\u001b[39m,\n",
      "  ..   CustomerName = \u001b[31mcol_character()\u001b[39m,\n",
      "  ..   CustomerCity = \u001b[31mcol_character()\u001b[39m,\n",
      "  ..   ProductName = \u001b[31mcol_character()\u001b[39m,\n",
      "  ..   ProductCategory = \u001b[31mcol_character()\u001b[39m,\n",
      "  ..   TotalAmount = \u001b[32mcol_double()\u001b[39m,\n",
      "  ..   Quantity = \u001b[32mcol_double()\u001b[39m,\n",
      "  ..   TransactionDate = \u001b[34mcol_date(format = \"\")\u001b[39m\n",
      "  .. )\n",
      " - attr(*, \"problems\")=<externalptr> \n",
      "\n",
      "Column names:\n",
      "[1] \"TransactionID\"   \"CustomerID\"      \"CustomerName\"    \"CustomerCity\"   \n",
      "[5] \"ProductName\"     \"ProductCategory\" \"TotalAmount\"     \"Quantity\"       \n",
      "[9] \"TransactionDate\"\n",
      "\n",
      "Data types of each column:\n"
     ]
    }
   ],
   "source": [
    "# Task 1.2: Initial Exploration\n",
    "\n",
    "# Display the first 10 rows\n",
    "cat(\"First 10 rows of the dataset:\\n\")\n",
    "# Your code here:\n",
    "\n",
    "print(head(transactions, 10))\n",
    "\n",
    "\n",
    "# Check the structure of the dataset\n",
    "cat(\"\\nDataset structure:\\n\")\n",
    "# Your code here:\n",
    "\n",
    "str(transactions)\n",
    "\n",
    "# Display column names and their data types\n",
    "cat(\"\\nColumn names:\\n\")\n",
    "# Your code here:\n",
    "\n",
    "print(colnames(transactions))\n",
    "cat(\"\\nData types of each column:\\n\")"
   ]
  },
  {
   "cell_type": "markdown",
   "id": "31f0a977",
   "metadata": {},
   "source": [
    "## Part 2: Column Selection with `select()`\n",
    "\n",
    "Practice different methods of selecting columns from your dataset."
   ]
  },
  {
   "cell_type": "code",
   "execution_count": 14,
   "id": "5d4fa53b",
   "metadata": {
    "vscode": {
     "languageId": "r"
    }
   },
   "outputs": [
    {
     "name": "stdout",
     "output_type": "stream",
     "text": [
      "Basic info dataset (first 5 rows):\n"
     ]
    },
    {
     "data": {
      "text/html": [
       "<table class=\"dataframe\">\n",
       "<caption>A tibble: 5 × 4</caption>\n",
       "<thead>\n",
       "\t<tr><th scope=col>TransactionID</th><th scope=col>CustomerID</th><th scope=col>ProductName</th><th scope=col>TotalAmount</th></tr>\n",
       "\t<tr><th scope=col>&lt;dbl&gt;</th><th scope=col>&lt;dbl&gt;</th><th scope=col>&lt;chr&gt;</th><th scope=col>&lt;dbl&gt;</th></tr>\n",
       "</thead>\n",
       "<tbody>\n",
       "\t<tr><td>1</td><td>81</td><td>Adidas Jacket</td><td> 632.39</td></tr>\n",
       "\t<tr><td>2</td><td>13</td><td>Samsung TV   </td><td> 114.28</td></tr>\n",
       "\t<tr><td>3</td><td>18</td><td>Adidas Jacket</td><td>1289.24</td></tr>\n",
       "\t<tr><td>4</td><td>76</td><td>Dell Laptop  </td><td> 885.40</td></tr>\n",
       "\t<tr><td>5</td><td>86</td><td>Nike Shoes   </td><td>  95.95</td></tr>\n",
       "</tbody>\n",
       "</table>\n"
      ],
      "text/latex": [
       "A tibble: 5 × 4\n",
       "\\begin{tabular}{llll}\n",
       " TransactionID & CustomerID & ProductName & TotalAmount\\\\\n",
       " <dbl> & <dbl> & <chr> & <dbl>\\\\\n",
       "\\hline\n",
       "\t 1 & 81 & Adidas Jacket &  632.39\\\\\n",
       "\t 2 & 13 & Samsung TV    &  114.28\\\\\n",
       "\t 3 & 18 & Adidas Jacket & 1289.24\\\\\n",
       "\t 4 & 76 & Dell Laptop   &  885.40\\\\\n",
       "\t 5 & 86 & Nike Shoes    &   95.95\\\\\n",
       "\\end{tabular}\n"
      ],
      "text/markdown": [
       "\n",
       "A tibble: 5 × 4\n",
       "\n",
       "| TransactionID &lt;dbl&gt; | CustomerID &lt;dbl&gt; | ProductName &lt;chr&gt; | TotalAmount &lt;dbl&gt; |\n",
       "|---|---|---|---|\n",
       "| 1 | 81 | Adidas Jacket |  632.39 |\n",
       "| 2 | 13 | Samsung TV    |  114.28 |\n",
       "| 3 | 18 | Adidas Jacket | 1289.24 |\n",
       "| 4 | 76 | Dell Laptop   |  885.40 |\n",
       "| 5 | 86 | Nike Shoes    |   95.95 |\n",
       "\n"
      ],
      "text/plain": [
       "  TransactionID CustomerID ProductName   TotalAmount\n",
       "1 1             81         Adidas Jacket  632.39    \n",
       "2 2             13         Samsung TV     114.28    \n",
       "3 3             18         Adidas Jacket 1289.24    \n",
       "4 4             76         Dell Laptop    885.40    \n",
       "5 5             86         Nike Shoes      95.95    "
      ]
     },
     "metadata": {},
     "output_type": "display_data"
    }
   ],
   "source": [
    "# Task 2.1: Basic Selection\n",
    "# Create 'basic_info' with TransactionID, CustomerID, ProductName, and TotalAmount\n",
    "\n",
    "basic_info <- transactions %>%\n",
    "  # Your code here:\n",
    "\n",
    "  select(TransactionID, CustomerID, ProductName, TotalAmount)\n",
    "\n",
    "# Display the result\n",
    "cat(\"Basic info dataset (first 5 rows):\\n\")\n",
    "head(basic_info, 5)"
   ]
  },
  {
   "cell_type": "code",
   "execution_count": 15,
   "id": "2a0479a9",
   "metadata": {
    "vscode": {
     "languageId": "r"
    }
   },
   "outputs": [
    {
     "name": "stdout",
     "output_type": "stream",
     "text": [
      "Customer details (first 5 rows):\n"
     ]
    },
    {
     "data": {
      "text/html": [
       "<table class=\"dataframe\">\n",
       "<caption>A tibble: 5 × 3</caption>\n",
       "<thead>\n",
       "\t<tr><th scope=col>CustomerID</th><th scope=col>CustomerName</th><th scope=col>CustomerCity</th></tr>\n",
       "\t<tr><th scope=col>&lt;dbl&gt;</th><th scope=col>&lt;chr&gt;</th><th scope=col>&lt;chr&gt;</th></tr>\n",
       "</thead>\n",
       "<tbody>\n",
       "\t<tr><td>81</td><td>Customer 39</td><td>Chicago     </td></tr>\n",
       "\t<tr><td>13</td><td>Customer 63</td><td>Philadelphia</td></tr>\n",
       "\t<tr><td>18</td><td>Customer 98</td><td>Chicago     </td></tr>\n",
       "\t<tr><td>76</td><td>Customer 39</td><td>Houston     </td></tr>\n",
       "\t<tr><td>86</td><td>Customer 45</td><td>New York    </td></tr>\n",
       "</tbody>\n",
       "</table>\n"
      ],
      "text/latex": [
       "A tibble: 5 × 3\n",
       "\\begin{tabular}{lll}\n",
       " CustomerID & CustomerName & CustomerCity\\\\\n",
       " <dbl> & <chr> & <chr>\\\\\n",
       "\\hline\n",
       "\t 81 & Customer 39 & Chicago     \\\\\n",
       "\t 13 & Customer 63 & Philadelphia\\\\\n",
       "\t 18 & Customer 98 & Chicago     \\\\\n",
       "\t 76 & Customer 39 & Houston     \\\\\n",
       "\t 86 & Customer 45 & New York    \\\\\n",
       "\\end{tabular}\n"
      ],
      "text/markdown": [
       "\n",
       "A tibble: 5 × 3\n",
       "\n",
       "| CustomerID &lt;dbl&gt; | CustomerName &lt;chr&gt; | CustomerCity &lt;chr&gt; |\n",
       "|---|---|---|\n",
       "| 81 | Customer 39 | Chicago      |\n",
       "| 13 | Customer 63 | Philadelphia |\n",
       "| 18 | Customer 98 | Chicago      |\n",
       "| 76 | Customer 39 | Houston      |\n",
       "| 86 | Customer 45 | New York     |\n",
       "\n"
      ],
      "text/plain": [
       "  CustomerID CustomerName CustomerCity\n",
       "1 81         Customer 39  Chicago     \n",
       "2 13         Customer 63  Philadelphia\n",
       "3 18         Customer 98  Chicago     \n",
       "4 76         Customer 39  Houston     \n",
       "5 86         Customer 45  New York    "
      ]
     },
     "metadata": {},
     "output_type": "display_data"
    }
   ],
   "source": [
    "# Task 2.2: Range Selection\n",
    "# Create 'customer_details' with all columns from CustomerID to CustomerCity (inclusive)\n",
    "\n",
    "customer_details <- transactions %>%\n",
    "  # Your code here:\n",
    "\n",
    "  select(CustomerID:CustomerCity)\n",
    "\n",
    "# Display the result\n",
    "cat(\"Customer details (first 5 rows):\\n\")\n",
    "head(customer_details, 5)"
   ]
  },
  {
   "cell_type": "code",
   "execution_count": 16,
   "id": "a527a514",
   "metadata": {
    "vscode": {
     "languageId": "r"
    }
   },
   "outputs": [
    {
     "name": "stdout",
     "output_type": "stream",
     "text": [
      "Date/Time columns:  \n",
      "Amount columns: TotalAmount \n"
     ]
    }
   ],
   "source": [
    "# Task 2.3: Pattern-Based Selection\n",
    "\n",
    "# Create 'date_columns' with columns starting with \"Date\" or \"Time\"\n",
    "date_columns <- transactions %>%\n",
    "  # Your code here:\n",
    "\n",
    "  select(starts_with(\"Date\") | starts_with(\"Time\"))\n",
    "\n",
    "# Create 'amount_columns' with columns containing the word \"Amount\"\n",
    "amount_columns <- transactions %>%\n",
    "  # Your code here:\n",
    "\n",
    "  select(contains(\"Amount\"))\n",
    "\n",
    "\n",
    "# Display column names for verification\n",
    "cat(\"Date/Time columns:\", names(date_columns), \"\\n\")\n",
    "cat(\"Amount columns:\", names(amount_columns), \"\\n\")"
   ]
  },
  {
   "cell_type": "code",
   "execution_count": 17,
   "id": "3d2ea46d",
   "metadata": {
    "vscode": {
     "languageId": "r"
    }
   },
   "outputs": [
    {
     "name": "stdout",
     "output_type": "stream",
     "text": [
      "Columns after removing IDs: CustomerName CustomerCity ProductName ProductCategory TotalAmount Quantity TransactionDate \n",
      "Number of columns: 7 \n"
     ]
    }
   ],
   "source": [
    "# Task 2.4: Exclusion Selection\n",
    "# Create 'no_ids' without TransactionID and CustomerID columns\n",
    "\n",
    "no_ids <- transactions %>%\n",
    "  # Your code here:\n",
    "\n",
    "  select(-TransactionID, -CustomerID)\n",
    "\n",
    "# Display column names for verification\n",
    "cat(\"Columns after removing IDs:\", names(no_ids), \"\\n\")\n",
    "cat(\"Number of columns:\", ncol(no_ids), \"\\n\")"
   ]
  },
  {
   "cell_type": "markdown",
   "id": "a7c6a58e",
   "metadata": {},
   "source": [
    "## Part 3: Row Filtering with `filter()`\n",
    "\n",
    "Learn to filter rows based on various conditions."
   ]
  },
  {
   "cell_type": "code",
   "execution_count": 18,
   "id": "a7f8a827",
   "metadata": {
    "vscode": {
     "languageId": "r"
    }
   },
   "outputs": [
    {
     "name": "stdout",
     "output_type": "stream",
     "text": [
      "High value transactions (>$100): 470 rows\n",
      "Electronics transactions: 93 rows\n"
     ]
    }
   ],
   "source": [
    "# Task 3.1: Single Condition Filtering\n",
    "\n",
    "# Filter transactions with TotalAmount > $100\n",
    "high_value_transactions <- transactions %>%\n",
    "  # Your code here:\n",
    "\n",
    "  filter(TotalAmount > 100)\n",
    "\n",
    "\n",
    "# Filter transactions from \"Electronics\" category\n",
    "electronics_transactions <- transactions %>%\n",
    "  # Your code here:\n",
    "\n",
    "  filter(ProductCategory == \"Electronics\")\n",
    "\n",
    "# Display results\n",
    "cat(\"High value transactions (>$100):\", nrow(high_value_transactions), \"rows\\n\")\n",
    "cat(\"Electronics transactions:\", nrow(electronics_transactions), \"rows\\n\")"
   ]
  },
  {
   "cell_type": "code",
   "execution_count": 19,
   "id": "db2b0bd5",
   "metadata": {
    "vscode": {
     "languageId": "r"
    }
   },
   "outputs": [
    {
     "name": "stdout",
     "output_type": "stream",
     "text": [
      "NY bulk purchases: 75 rows\n"
     ]
    },
    {
     "data": {
      "text/html": [
       "<table class=\"dataframe\">\n",
       "<caption>A tibble: 6 × 9</caption>\n",
       "<thead>\n",
       "\t<tr><th scope=col>TransactionID</th><th scope=col>CustomerID</th><th scope=col>CustomerName</th><th scope=col>CustomerCity</th><th scope=col>ProductName</th><th scope=col>ProductCategory</th><th scope=col>TotalAmount</th><th scope=col>Quantity</th><th scope=col>TransactionDate</th></tr>\n",
       "\t<tr><th scope=col>&lt;dbl&gt;</th><th scope=col>&lt;dbl&gt;</th><th scope=col>&lt;chr&gt;</th><th scope=col>&lt;chr&gt;</th><th scope=col>&lt;chr&gt;</th><th scope=col>&lt;chr&gt;</th><th scope=col>&lt;dbl&gt;</th><th scope=col>&lt;dbl&gt;</th><th scope=col>&lt;date&gt;</th></tr>\n",
       "</thead>\n",
       "<tbody>\n",
       "\t<tr><td> 5</td><td>86</td><td>Customer 45</td><td>New York</td><td>Nike Shoes</td><td>Computers</td><td>  95.95</td><td>5</td><td>2024-08-13</td></tr>\n",
       "\t<tr><td> 7</td><td>45</td><td>Customer 83</td><td>New York</td><td>HP Printer</td><td>Clothing </td><td>  78.71</td><td>3</td><td>2024-05-02</td></tr>\n",
       "\t<tr><td>15</td><td> 1</td><td>Customer 52</td><td>New York</td><td>Nike Shoes</td><td>Clothing </td><td> 602.79</td><td>5</td><td>2024-01-05</td></tr>\n",
       "\t<tr><td>22</td><td>80</td><td>Customer 4 </td><td>New York</td><td>iPhone 14 </td><td>Books    </td><td>1424.99</td><td>7</td><td>2024-02-01</td></tr>\n",
       "\t<tr><td>25</td><td>97</td><td>Customer 17</td><td>New York</td><td>iPhone 14 </td><td>Movies   </td><td> 999.24</td><td>2</td><td>2024-02-03</td></tr>\n",
       "\t<tr><td>29</td><td> 3</td><td>Customer 23</td><td>New York</td><td>Samsung TV</td><td>Clothing </td><td>1392.13</td><td>5</td><td>2024-04-30</td></tr>\n",
       "</tbody>\n",
       "</table>\n"
      ],
      "text/latex": [
       "A tibble: 6 × 9\n",
       "\\begin{tabular}{lllllllll}\n",
       " TransactionID & CustomerID & CustomerName & CustomerCity & ProductName & ProductCategory & TotalAmount & Quantity & TransactionDate\\\\\n",
       " <dbl> & <dbl> & <chr> & <chr> & <chr> & <chr> & <dbl> & <dbl> & <date>\\\\\n",
       "\\hline\n",
       "\t  5 & 86 & Customer 45 & New York & Nike Shoes & Computers &   95.95 & 5 & 2024-08-13\\\\\n",
       "\t  7 & 45 & Customer 83 & New York & HP Printer & Clothing  &   78.71 & 3 & 2024-05-02\\\\\n",
       "\t 15 &  1 & Customer 52 & New York & Nike Shoes & Clothing  &  602.79 & 5 & 2024-01-05\\\\\n",
       "\t 22 & 80 & Customer 4  & New York & iPhone 14  & Books     & 1424.99 & 7 & 2024-02-01\\\\\n",
       "\t 25 & 97 & Customer 17 & New York & iPhone 14  & Movies    &  999.24 & 2 & 2024-02-03\\\\\n",
       "\t 29 &  3 & Customer 23 & New York & Samsung TV & Clothing  & 1392.13 & 5 & 2024-04-30\\\\\n",
       "\\end{tabular}\n"
      ],
      "text/markdown": [
       "\n",
       "A tibble: 6 × 9\n",
       "\n",
       "| TransactionID &lt;dbl&gt; | CustomerID &lt;dbl&gt; | CustomerName &lt;chr&gt; | CustomerCity &lt;chr&gt; | ProductName &lt;chr&gt; | ProductCategory &lt;chr&gt; | TotalAmount &lt;dbl&gt; | Quantity &lt;dbl&gt; | TransactionDate &lt;date&gt; |\n",
       "|---|---|---|---|---|---|---|---|---|\n",
       "|  5 | 86 | Customer 45 | New York | Nike Shoes | Computers |   95.95 | 5 | 2024-08-13 |\n",
       "|  7 | 45 | Customer 83 | New York | HP Printer | Clothing  |   78.71 | 3 | 2024-05-02 |\n",
       "| 15 |  1 | Customer 52 | New York | Nike Shoes | Clothing  |  602.79 | 5 | 2024-01-05 |\n",
       "| 22 | 80 | Customer 4  | New York | iPhone 14  | Books     | 1424.99 | 7 | 2024-02-01 |\n",
       "| 25 | 97 | Customer 17 | New York | iPhone 14  | Movies    |  999.24 | 2 | 2024-02-03 |\n",
       "| 29 |  3 | Customer 23 | New York | Samsung TV | Clothing  | 1392.13 | 5 | 2024-04-30 |\n",
       "\n"
      ],
      "text/plain": [
       "  TransactionID CustomerID CustomerName CustomerCity ProductName\n",
       "1  5            86         Customer 45  New York     Nike Shoes \n",
       "2  7            45         Customer 83  New York     HP Printer \n",
       "3 15             1         Customer 52  New York     Nike Shoes \n",
       "4 22            80         Customer 4   New York     iPhone 14  \n",
       "5 25            97         Customer 17  New York     iPhone 14  \n",
       "6 29             3         Customer 23  New York     Samsung TV \n",
       "  ProductCategory TotalAmount Quantity TransactionDate\n",
       "1 Computers         95.95     5        2024-08-13     \n",
       "2 Clothing          78.71     3        2024-05-02     \n",
       "3 Clothing         602.79     5        2024-01-05     \n",
       "4 Books           1424.99     7        2024-02-01     \n",
       "5 Movies           999.24     2        2024-02-03     \n",
       "6 Clothing        1392.13     5        2024-04-30     "
      ]
     },
     "metadata": {},
     "output_type": "display_data"
    }
   ],
   "source": [
    "# Task 3.2: Multiple Condition Filtering (AND)\n",
    "# Filter for TotalAmount > $50 AND Quantity > 1 AND CustomerCity == \"New York\"\n",
    "\n",
    "ny_bulk_purchases <- transactions %>%\n",
    "  # Your code here:\n",
    "\n",
    "  filter(TotalAmount > 50 & Quantity > 1 & CustomerCity == \"New York\")\n",
    "\n",
    "\n",
    "# Display results\n",
    "cat(\"NY bulk purchases:\", nrow(ny_bulk_purchases), \"rows\\n\")\n",
    "if(nrow(ny_bulk_purchases) > 0) {\n",
    "  head(ny_bulk_purchases)\n",
    "}"
   ]
  },
  {
   "cell_type": "code",
   "execution_count": 20,
   "id": "4803780d",
   "metadata": {
    "vscode": {
     "languageId": "r"
    }
   },
   "outputs": [
    {
     "name": "stdout",
     "output_type": "stream",
     "text": [
      "Entertainment transactions: 227 rows\n"
     ]
    },
    {
     "data": {
      "text/html": [
       "<table class=\"dataframe\">\n",
       "<caption>A tibble: 6 × 9</caption>\n",
       "<thead>\n",
       "\t<tr><th scope=col>TransactionID</th><th scope=col>CustomerID</th><th scope=col>CustomerName</th><th scope=col>CustomerCity</th><th scope=col>ProductName</th><th scope=col>ProductCategory</th><th scope=col>TotalAmount</th><th scope=col>Quantity</th><th scope=col>TransactionDate</th></tr>\n",
       "\t<tr><th scope=col>&lt;dbl&gt;</th><th scope=col>&lt;dbl&gt;</th><th scope=col>&lt;chr&gt;</th><th scope=col>&lt;chr&gt;</th><th scope=col>&lt;chr&gt;</th><th scope=col>&lt;chr&gt;</th><th scope=col>&lt;dbl&gt;</th><th scope=col>&lt;dbl&gt;</th><th scope=col>&lt;date&gt;</th></tr>\n",
       "</thead>\n",
       "<tbody>\n",
       "\t<tr><td> 2</td><td> 13</td><td>Customer 63 </td><td>Philadelphia</td><td>Samsung TV     </td><td>Music </td><td> 114.28</td><td>3</td><td>2024-12-08</td></tr>\n",
       "\t<tr><td> 8</td><td> 11</td><td>Customer 60 </td><td>Chicago     </td><td>Samsung TV     </td><td>Music </td><td> 871.93</td><td>3</td><td>2024-04-30</td></tr>\n",
       "\t<tr><td> 9</td><td> 13</td><td>Customer 69 </td><td>Houston     </td><td>iPhone 14      </td><td>Music </td><td>1347.56</td><td>8</td><td>2024-08-08</td></tr>\n",
       "\t<tr><td>10</td><td> 55</td><td>Customer 24 </td><td>Chicago     </td><td>Sony Headphones</td><td>Books </td><td> 633.51</td><td>1</td><td>2024-06-23</td></tr>\n",
       "\t<tr><td>11</td><td>100</td><td>Customer 95 </td><td>Philadelphia</td><td>HP Printer     </td><td>Movies</td><td> 572.43</td><td>6</td><td>2024-12-09</td></tr>\n",
       "\t<tr><td>14</td><td> 19</td><td>Customer 100</td><td>Phoenix     </td><td>Nike Shoes     </td><td>Books </td><td>  32.29</td><td>3</td><td>2024-12-11</td></tr>\n",
       "</tbody>\n",
       "</table>\n"
      ],
      "text/latex": [
       "A tibble: 6 × 9\n",
       "\\begin{tabular}{lllllllll}\n",
       " TransactionID & CustomerID & CustomerName & CustomerCity & ProductName & ProductCategory & TotalAmount & Quantity & TransactionDate\\\\\n",
       " <dbl> & <dbl> & <chr> & <chr> & <chr> & <chr> & <dbl> & <dbl> & <date>\\\\\n",
       "\\hline\n",
       "\t  2 &  13 & Customer 63  & Philadelphia & Samsung TV      & Music  &  114.28 & 3 & 2024-12-08\\\\\n",
       "\t  8 &  11 & Customer 60  & Chicago      & Samsung TV      & Music  &  871.93 & 3 & 2024-04-30\\\\\n",
       "\t  9 &  13 & Customer 69  & Houston      & iPhone 14       & Music  & 1347.56 & 8 & 2024-08-08\\\\\n",
       "\t 10 &  55 & Customer 24  & Chicago      & Sony Headphones & Books  &  633.51 & 1 & 2024-06-23\\\\\n",
       "\t 11 & 100 & Customer 95  & Philadelphia & HP Printer      & Movies &  572.43 & 6 & 2024-12-09\\\\\n",
       "\t 14 &  19 & Customer 100 & Phoenix      & Nike Shoes      & Books  &   32.29 & 3 & 2024-12-11\\\\\n",
       "\\end{tabular}\n"
      ],
      "text/markdown": [
       "\n",
       "A tibble: 6 × 9\n",
       "\n",
       "| TransactionID &lt;dbl&gt; | CustomerID &lt;dbl&gt; | CustomerName &lt;chr&gt; | CustomerCity &lt;chr&gt; | ProductName &lt;chr&gt; | ProductCategory &lt;chr&gt; | TotalAmount &lt;dbl&gt; | Quantity &lt;dbl&gt; | TransactionDate &lt;date&gt; |\n",
       "|---|---|---|---|---|---|---|---|---|\n",
       "|  2 |  13 | Customer 63  | Philadelphia | Samsung TV      | Music  |  114.28 | 3 | 2024-12-08 |\n",
       "|  8 |  11 | Customer 60  | Chicago      | Samsung TV      | Music  |  871.93 | 3 | 2024-04-30 |\n",
       "|  9 |  13 | Customer 69  | Houston      | iPhone 14       | Music  | 1347.56 | 8 | 2024-08-08 |\n",
       "| 10 |  55 | Customer 24  | Chicago      | Sony Headphones | Books  |  633.51 | 1 | 2024-06-23 |\n",
       "| 11 | 100 | Customer 95  | Philadelphia | HP Printer      | Movies |  572.43 | 6 | 2024-12-09 |\n",
       "| 14 |  19 | Customer 100 | Phoenix      | Nike Shoes      | Books  |   32.29 | 3 | 2024-12-11 |\n",
       "\n"
      ],
      "text/plain": [
       "  TransactionID CustomerID CustomerName CustomerCity ProductName    \n",
       "1  2             13        Customer 63  Philadelphia Samsung TV     \n",
       "2  8             11        Customer 60  Chicago      Samsung TV     \n",
       "3  9             13        Customer 69  Houston      iPhone 14      \n",
       "4 10             55        Customer 24  Chicago      Sony Headphones\n",
       "5 11            100        Customer 95  Philadelphia HP Printer     \n",
       "6 14             19        Customer 100 Phoenix      Nike Shoes     \n",
       "  ProductCategory TotalAmount Quantity TransactionDate\n",
       "1 Music            114.28     3        2024-12-08     \n",
       "2 Music            871.93     3        2024-04-30     \n",
       "3 Music           1347.56     8        2024-08-08     \n",
       "4 Books            633.51     1        2024-06-23     \n",
       "5 Movies           572.43     6        2024-12-09     \n",
       "6 Books             32.29     3        2024-12-11     "
      ]
     },
     "metadata": {},
     "output_type": "display_data"
    }
   ],
   "source": [
    "# Task 3.3: Multiple Condition Filtering (OR)\n",
    "# Filter for ProductCategory = \"Books\" OR \"Music\" OR \"Movies\"\n",
    "\n",
    "entertainment_transactions <- transactions %>%\n",
    "  # Your code here:\n",
    "\n",
    "  filter(ProductCategory %in% c(\"Books\", \"Music\", \"Movies\"))\n",
    "\n",
    "# Display results\n",
    "cat(\"Entertainment transactions:\", nrow(entertainment_transactions), \"rows\\n\")\n",
    "if(nrow(entertainment_transactions) > 0) {\n",
    "  head(entertainment_transactions)\n",
    "}"
   ]
  },
  {
   "cell_type": "code",
   "execution_count": 28,
   "id": "301437cf",
   "metadata": {
    "vscode": {
     "languageId": "r"
    }
   },
   "outputs": [
    {
     "name": "stdout",
     "output_type": "stream",
     "text": [
      "March 2024 transactions: 41 rows\n"
     ]
    }
   ],
   "source": [
    "# Task 3.4: Date-Based Filtering\n",
    "# Filter transactions from March 2024\n",
    "# Note: Adjust the date format and column name based on your actual data\n",
    "\n",
    "march_transactions <- transactions %>%\n",
    "  # Your code here (you may need to convert date format first):\n",
    "\n",
    "  filter(lubridate::month(TransactionDate) == 3 & lubridate::year(TransactionDate) == 2024)\n",
    "\n",
    "\n",
    "# Display results\n",
    "cat(\"March 2024 transactions:\", nrow(march_transactions), \"rows\\n\")"
   ]
  },
  {
   "cell_type": "code",
   "execution_count": 31,
   "id": "33b63b1c",
   "metadata": {
    "vscode": {
     "languageId": "r"
    }
   },
   "outputs": [
    {
     "name": "stdout",
     "output_type": "stream",
     "text": [
      "Customers who bought both Electronics and Clothing: 38 customers\n"
     ]
    }
   ],
   "source": [
    "# Task 3.5: Advanced Filtering Challenge\n",
    "# Find customers who made purchases in both \"Electronics\" AND \"Clothing\" categories\n",
    "# Hint: This requires identifying customers who appear in both categories\n",
    "\n",
    "# Step 1: Find customers who bought Electronics\n",
    "electronics_customers <- transactions %>%\n",
    "  # Your code here:\n",
    "\n",
    "  filter(ProductCategory == \"Electronics\") \n",
    "\n",
    "# Step 2: Find customers who bought Clothing\n",
    "clothing_customers <- transactions %>%\n",
    "  # Your code here:\n",
    "\n",
    "  filter(ProductCategory == \"Clothing\") \n",
    "\n",
    "# Step 3: Find customers who bought both\n",
    "both_categories_customers <- # Your code here:\n",
    "\n",
    "  intersect(electronics_customers$CustomerID, clothing_customers$CustomerID)\n",
    "\n",
    "\n",
    "# Display results\n",
    "cat(\"Customers who bought both Electronics and Clothing:\", length(both_categories_customers), \"customers\\n\")"
   ]
  },
  {
   "cell_type": "markdown",
   "id": "811d4adb",
   "metadata": {},
   "source": [
    "## Part 4: Data Sorting with `arrange()`\n",
    "\n",
    "Practice sorting data by single and multiple columns."
   ]
  },
  {
   "cell_type": "code",
   "execution_count": 32,
   "id": "92a25956",
   "metadata": {
    "vscode": {
     "languageId": "r"
    }
   },
   "outputs": [
    {
     "name": "stdout",
     "output_type": "stream",
     "text": [
      "Lowest amounts:\n"
     ]
    },
    {
     "data": {
      "text/html": [
       "<table class=\"dataframe\">\n",
       "<caption>A tibble: 5 × 3</caption>\n",
       "<thead>\n",
       "\t<tr><th scope=col>CustomerName</th><th scope=col>ProductName</th><th scope=col>TotalAmount</th></tr>\n",
       "\t<tr><th scope=col>&lt;chr&gt;</th><th scope=col>&lt;chr&gt;</th><th scope=col>&lt;dbl&gt;</th></tr>\n",
       "</thead>\n",
       "<tbody>\n",
       "\t<tr><td>Customer 95 </td><td>Adidas Jacket</td><td>27.66</td></tr>\n",
       "\t<tr><td>Customer 100</td><td>Nike Shoes   </td><td>32.29</td></tr>\n",
       "\t<tr><td>Customer 50 </td><td>Adidas Jacket</td><td>35.01</td></tr>\n",
       "\t<tr><td>Customer 83 </td><td>Samsung TV   </td><td>36.37</td></tr>\n",
       "\t<tr><td>Customer 69 </td><td>Dell Laptop  </td><td>37.33</td></tr>\n",
       "</tbody>\n",
       "</table>\n"
      ],
      "text/latex": [
       "A tibble: 5 × 3\n",
       "\\begin{tabular}{lll}\n",
       " CustomerName & ProductName & TotalAmount\\\\\n",
       " <chr> & <chr> & <dbl>\\\\\n",
       "\\hline\n",
       "\t Customer 95  & Adidas Jacket & 27.66\\\\\n",
       "\t Customer 100 & Nike Shoes    & 32.29\\\\\n",
       "\t Customer 50  & Adidas Jacket & 35.01\\\\\n",
       "\t Customer 83  & Samsung TV    & 36.37\\\\\n",
       "\t Customer 69  & Dell Laptop   & 37.33\\\\\n",
       "\\end{tabular}\n"
      ],
      "text/markdown": [
       "\n",
       "A tibble: 5 × 3\n",
       "\n",
       "| CustomerName &lt;chr&gt; | ProductName &lt;chr&gt; | TotalAmount &lt;dbl&gt; |\n",
       "|---|---|---|\n",
       "| Customer 95  | Adidas Jacket | 27.66 |\n",
       "| Customer 100 | Nike Shoes    | 32.29 |\n",
       "| Customer 50  | Adidas Jacket | 35.01 |\n",
       "| Customer 83  | Samsung TV    | 36.37 |\n",
       "| Customer 69  | Dell Laptop   | 37.33 |\n",
       "\n"
      ],
      "text/plain": [
       "  CustomerName ProductName   TotalAmount\n",
       "1 Customer 95  Adidas Jacket 27.66      \n",
       "2 Customer 100 Nike Shoes    32.29      \n",
       "3 Customer 50  Adidas Jacket 35.01      \n",
       "4 Customer 83  Samsung TV    36.37      \n",
       "5 Customer 69  Dell Laptop   37.33      "
      ]
     },
     "metadata": {},
     "output_type": "display_data"
    },
    {
     "name": "stdout",
     "output_type": "stream",
     "text": [
      "\n",
      "Highest amounts:\n"
     ]
    },
    {
     "data": {
      "text/html": [
       "<table class=\"dataframe\">\n",
       "<caption>A tibble: 5 × 3</caption>\n",
       "<thead>\n",
       "\t<tr><th scope=col>CustomerName</th><th scope=col>ProductName</th><th scope=col>TotalAmount</th></tr>\n",
       "\t<tr><th scope=col>&lt;chr&gt;</th><th scope=col>&lt;chr&gt;</th><th scope=col>&lt;dbl&gt;</th></tr>\n",
       "</thead>\n",
       "<tbody>\n",
       "\t<tr><td>Customer 60</td><td>Sony Headphones</td><td>1499.52</td></tr>\n",
       "\t<tr><td>Customer 28</td><td>Dell Laptop    </td><td>1491.96</td></tr>\n",
       "\t<tr><td>Customer 81</td><td>Sony Headphones</td><td>1491.62</td></tr>\n",
       "\t<tr><td>Customer 79</td><td>iPhone 14      </td><td>1488.95</td></tr>\n",
       "\t<tr><td>Customer 20</td><td>HP Printer     </td><td>1487.44</td></tr>\n",
       "</tbody>\n",
       "</table>\n"
      ],
      "text/latex": [
       "A tibble: 5 × 3\n",
       "\\begin{tabular}{lll}\n",
       " CustomerName & ProductName & TotalAmount\\\\\n",
       " <chr> & <chr> & <dbl>\\\\\n",
       "\\hline\n",
       "\t Customer 60 & Sony Headphones & 1499.52\\\\\n",
       "\t Customer 28 & Dell Laptop     & 1491.96\\\\\n",
       "\t Customer 81 & Sony Headphones & 1491.62\\\\\n",
       "\t Customer 79 & iPhone 14       & 1488.95\\\\\n",
       "\t Customer 20 & HP Printer      & 1487.44\\\\\n",
       "\\end{tabular}\n"
      ],
      "text/markdown": [
       "\n",
       "A tibble: 5 × 3\n",
       "\n",
       "| CustomerName &lt;chr&gt; | ProductName &lt;chr&gt; | TotalAmount &lt;dbl&gt; |\n",
       "|---|---|---|\n",
       "| Customer 60 | Sony Headphones | 1499.52 |\n",
       "| Customer 28 | Dell Laptop     | 1491.96 |\n",
       "| Customer 81 | Sony Headphones | 1491.62 |\n",
       "| Customer 79 | iPhone 14       | 1488.95 |\n",
       "| Customer 20 | HP Printer      | 1487.44 |\n",
       "\n"
      ],
      "text/plain": [
       "  CustomerName ProductName     TotalAmount\n",
       "1 Customer 60  Sony Headphones 1499.52    \n",
       "2 Customer 28  Dell Laptop     1491.96    \n",
       "3 Customer 81  Sony Headphones 1491.62    \n",
       "4 Customer 79  iPhone 14       1488.95    \n",
       "5 Customer 20  HP Printer      1487.44    "
      ]
     },
     "metadata": {},
     "output_type": "display_data"
    }
   ],
   "source": [
    "# Task 4.1: Single Column Sorting\n",
    "\n",
    "# Sort by TotalAmount ascending\n",
    "transactions_by_amount_asc <- transactions %>%\n",
    "  # Your code here:\n",
    "\n",
    "  arrange(TotalAmount)\n",
    "\n",
    "# Sort by TotalAmount descending\n",
    "transactions_by_amount_desc <- transactions %>%\n",
    "  # Your code here:\n",
    "\n",
    "  arrange(desc(TotalAmount))\n",
    "\n",
    "# Display top 5 of each\n",
    "cat(\"Lowest amounts:\\n\")\n",
    "head(transactions_by_amount_asc %>% select(CustomerName, ProductName, TotalAmount), 5)\n",
    "\n",
    "cat(\"\\nHighest amounts:\\n\")\n",
    "head(transactions_by_amount_desc %>% select(CustomerName, ProductName, TotalAmount), 5)"
   ]
  },
  {
   "cell_type": "code",
   "execution_count": 33,
   "id": "1c2809ad",
   "metadata": {
    "vscode": {
     "languageId": "r"
    }
   },
   "outputs": [
    {
     "name": "stdout",
     "output_type": "stream",
     "text": [
      "Transactions sorted by city, then amount:\n"
     ]
    },
    {
     "data": {
      "text/html": [
       "<table class=\"dataframe\">\n",
       "<caption>A tibble: 10 × 4</caption>\n",
       "<thead>\n",
       "\t<tr><th scope=col>CustomerCity</th><th scope=col>CustomerName</th><th scope=col>ProductName</th><th scope=col>TotalAmount</th></tr>\n",
       "\t<tr><th scope=col>&lt;chr&gt;</th><th scope=col>&lt;chr&gt;</th><th scope=col>&lt;chr&gt;</th><th scope=col>&lt;dbl&gt;</th></tr>\n",
       "</thead>\n",
       "<tbody>\n",
       "\t<tr><td>Chicago</td><td>Customer 18</td><td>iPhone 14      </td><td>1487.43</td></tr>\n",
       "\t<tr><td>Chicago</td><td>Customer 20</td><td>HP Printer     </td><td>1476.49</td></tr>\n",
       "\t<tr><td>Chicago</td><td>Customer 97</td><td>Dell Laptop    </td><td>1459.42</td></tr>\n",
       "\t<tr><td>Chicago</td><td>Customer 49</td><td>Dell Laptop    </td><td>1453.94</td></tr>\n",
       "\t<tr><td>Chicago</td><td>Customer 70</td><td>Nike Shoes     </td><td>1428.35</td></tr>\n",
       "\t<tr><td>Chicago</td><td>Customer 71</td><td>Samsung TV     </td><td>1424.38</td></tr>\n",
       "\t<tr><td>Chicago</td><td>Customer 62</td><td>Sony Headphones</td><td>1416.35</td></tr>\n",
       "\t<tr><td>Chicago</td><td>Customer 11</td><td>Nike Shoes     </td><td>1407.51</td></tr>\n",
       "\t<tr><td>Chicago</td><td>Customer 99</td><td>HP Printer     </td><td>1388.73</td></tr>\n",
       "\t<tr><td>Chicago</td><td>Customer 49</td><td>Nike Shoes     </td><td>1370.57</td></tr>\n",
       "</tbody>\n",
       "</table>\n"
      ],
      "text/latex": [
       "A tibble: 10 × 4\n",
       "\\begin{tabular}{llll}\n",
       " CustomerCity & CustomerName & ProductName & TotalAmount\\\\\n",
       " <chr> & <chr> & <chr> & <dbl>\\\\\n",
       "\\hline\n",
       "\t Chicago & Customer 18 & iPhone 14       & 1487.43\\\\\n",
       "\t Chicago & Customer 20 & HP Printer      & 1476.49\\\\\n",
       "\t Chicago & Customer 97 & Dell Laptop     & 1459.42\\\\\n",
       "\t Chicago & Customer 49 & Dell Laptop     & 1453.94\\\\\n",
       "\t Chicago & Customer 70 & Nike Shoes      & 1428.35\\\\\n",
       "\t Chicago & Customer 71 & Samsung TV      & 1424.38\\\\\n",
       "\t Chicago & Customer 62 & Sony Headphones & 1416.35\\\\\n",
       "\t Chicago & Customer 11 & Nike Shoes      & 1407.51\\\\\n",
       "\t Chicago & Customer 99 & HP Printer      & 1388.73\\\\\n",
       "\t Chicago & Customer 49 & Nike Shoes      & 1370.57\\\\\n",
       "\\end{tabular}\n"
      ],
      "text/markdown": [
       "\n",
       "A tibble: 10 × 4\n",
       "\n",
       "| CustomerCity &lt;chr&gt; | CustomerName &lt;chr&gt; | ProductName &lt;chr&gt; | TotalAmount &lt;dbl&gt; |\n",
       "|---|---|---|---|\n",
       "| Chicago | Customer 18 | iPhone 14       | 1487.43 |\n",
       "| Chicago | Customer 20 | HP Printer      | 1476.49 |\n",
       "| Chicago | Customer 97 | Dell Laptop     | 1459.42 |\n",
       "| Chicago | Customer 49 | Dell Laptop     | 1453.94 |\n",
       "| Chicago | Customer 70 | Nike Shoes      | 1428.35 |\n",
       "| Chicago | Customer 71 | Samsung TV      | 1424.38 |\n",
       "| Chicago | Customer 62 | Sony Headphones | 1416.35 |\n",
       "| Chicago | Customer 11 | Nike Shoes      | 1407.51 |\n",
       "| Chicago | Customer 99 | HP Printer      | 1388.73 |\n",
       "| Chicago | Customer 49 | Nike Shoes      | 1370.57 |\n",
       "\n"
      ],
      "text/plain": [
       "   CustomerCity CustomerName ProductName     TotalAmount\n",
       "1  Chicago      Customer 18  iPhone 14       1487.43    \n",
       "2  Chicago      Customer 20  HP Printer      1476.49    \n",
       "3  Chicago      Customer 97  Dell Laptop     1459.42    \n",
       "4  Chicago      Customer 49  Dell Laptop     1453.94    \n",
       "5  Chicago      Customer 70  Nike Shoes      1428.35    \n",
       "6  Chicago      Customer 71  Samsung TV      1424.38    \n",
       "7  Chicago      Customer 62  Sony Headphones 1416.35    \n",
       "8  Chicago      Customer 11  Nike Shoes      1407.51    \n",
       "9  Chicago      Customer 99  HP Printer      1388.73    \n",
       "10 Chicago      Customer 49  Nike Shoes      1370.57    "
      ]
     },
     "metadata": {},
     "output_type": "display_data"
    }
   ],
   "source": [
    "# Task 4.2: Multiple Column Sorting\n",
    "# Sort by CustomerCity (ascending), then by TotalAmount (descending)\n",
    "\n",
    "transactions_by_city_amount <- transactions %>%\n",
    "  # Your code here:\n",
    "\n",
    "  arrange(CustomerCity, desc(TotalAmount))\n",
    "\n",
    "# Display first 10 rows\n",
    "cat(\"Transactions sorted by city, then amount:\\n\")\n",
    "head(transactions_by_city_amount %>% select(CustomerCity, CustomerName, ProductName, TotalAmount), 10)"
   ]
  },
  {
   "cell_type": "code",
   "execution_count": 34,
   "id": "7fb4ec10",
   "metadata": {
    "vscode": {
     "languageId": "r"
    }
   },
   "outputs": [
    {
     "name": "stdout",
     "output_type": "stream",
     "text": [
      "Earliest transactions:\n"
     ]
    },
    {
     "data": {
      "text/html": [
       "<table class=\"dataframe\">\n",
       "<caption>A tibble: 5 × 4</caption>\n",
       "<thead>\n",
       "\t<tr><th scope=col>TransactionDate</th><th scope=col>CustomerName</th><th scope=col>ProductName</th><th scope=col>TotalAmount</th></tr>\n",
       "\t<tr><th scope=col>&lt;date&gt;</th><th scope=col>&lt;chr&gt;</th><th scope=col>&lt;chr&gt;</th><th scope=col>&lt;dbl&gt;</th></tr>\n",
       "</thead>\n",
       "<tbody>\n",
       "\t<tr><td>2024-01-01</td><td>Customer 62</td><td>Sony Headphones</td><td>1416.35</td></tr>\n",
       "\t<tr><td>2024-01-01</td><td>Customer 99</td><td>Sony Headphones</td><td>1326.27</td></tr>\n",
       "\t<tr><td>2024-01-02</td><td>Customer 83</td><td>Nike Shoes     </td><td> 808.93</td></tr>\n",
       "\t<tr><td>2024-01-02</td><td>Customer 61</td><td>Adidas Jacket  </td><td> 502.72</td></tr>\n",
       "\t<tr><td>2024-01-02</td><td>Customer 69</td><td>Adidas Jacket  </td><td> 277.70</td></tr>\n",
       "</tbody>\n",
       "</table>\n"
      ],
      "text/latex": [
       "A tibble: 5 × 4\n",
       "\\begin{tabular}{llll}\n",
       " TransactionDate & CustomerName & ProductName & TotalAmount\\\\\n",
       " <date> & <chr> & <chr> & <dbl>\\\\\n",
       "\\hline\n",
       "\t 2024-01-01 & Customer 62 & Sony Headphones & 1416.35\\\\\n",
       "\t 2024-01-01 & Customer 99 & Sony Headphones & 1326.27\\\\\n",
       "\t 2024-01-02 & Customer 83 & Nike Shoes      &  808.93\\\\\n",
       "\t 2024-01-02 & Customer 61 & Adidas Jacket   &  502.72\\\\\n",
       "\t 2024-01-02 & Customer 69 & Adidas Jacket   &  277.70\\\\\n",
       "\\end{tabular}\n"
      ],
      "text/markdown": [
       "\n",
       "A tibble: 5 × 4\n",
       "\n",
       "| TransactionDate &lt;date&gt; | CustomerName &lt;chr&gt; | ProductName &lt;chr&gt; | TotalAmount &lt;dbl&gt; |\n",
       "|---|---|---|---|\n",
       "| 2024-01-01 | Customer 62 | Sony Headphones | 1416.35 |\n",
       "| 2024-01-01 | Customer 99 | Sony Headphones | 1326.27 |\n",
       "| 2024-01-02 | Customer 83 | Nike Shoes      |  808.93 |\n",
       "| 2024-01-02 | Customer 61 | Adidas Jacket   |  502.72 |\n",
       "| 2024-01-02 | Customer 69 | Adidas Jacket   |  277.70 |\n",
       "\n"
      ],
      "text/plain": [
       "  TransactionDate CustomerName ProductName     TotalAmount\n",
       "1 2024-01-01      Customer 62  Sony Headphones 1416.35    \n",
       "2 2024-01-01      Customer 99  Sony Headphones 1326.27    \n",
       "3 2024-01-02      Customer 83  Nike Shoes       808.93    \n",
       "4 2024-01-02      Customer 61  Adidas Jacket    502.72    \n",
       "5 2024-01-02      Customer 69  Adidas Jacket    277.70    "
      ]
     },
     "metadata": {},
     "output_type": "display_data"
    }
   ],
   "source": [
    "# Task 4.3: Date-Based Sorting\n",
    "# Sort by TransactionDate chronologically (oldest first)\n",
    "\n",
    "transactions_chronological <- transactions %>%\n",
    "  # Your code here:\n",
    "\n",
    "  arrange(TransactionDate)  \n",
    "\n",
    "\n",
    "# Display first 5 transactions chronologically\n",
    "cat(\"Earliest transactions:\\n\")\n",
    "head(transactions_chronological %>% select(TransactionDate, CustomerName, ProductName, TotalAmount), 5)"
   ]
  },
  {
   "cell_type": "markdown",
   "id": "718aa3c3",
   "metadata": {},
   "source": [
    "## Part 5: Chaining Operations\n",
    "\n",
    "Combine multiple dplyr operations using the pipe operator."
   ]
  },
  {
   "cell_type": "code",
   "execution_count": 35,
   "id": "41086de0",
   "metadata": {
    "vscode": {
     "languageId": "r"
    }
   },
   "outputs": [
    {
     "name": "stdout",
     "output_type": "stream",
     "text": [
      "Premium purchases (>$75):\n"
     ]
    },
    {
     "data": {
      "text/html": [
       "<table class=\"dataframe\">\n",
       "<caption>A tibble: 10 × 4</caption>\n",
       "<thead>\n",
       "\t<tr><th scope=col>TransactionID</th><th scope=col>CustomerName</th><th scope=col>ProductName</th><th scope=col>TotalAmount</th></tr>\n",
       "\t<tr><th scope=col>&lt;dbl&gt;</th><th scope=col>&lt;chr&gt;</th><th scope=col>&lt;chr&gt;</th><th scope=col>&lt;dbl&gt;</th></tr>\n",
       "</thead>\n",
       "<tbody>\n",
       "\t<tr><td>150</td><td>Customer 60</td><td>Sony Headphones</td><td>1499.52</td></tr>\n",
       "\t<tr><td> 61</td><td>Customer 28</td><td>Dell Laptop    </td><td>1491.96</td></tr>\n",
       "\t<tr><td>154</td><td>Customer 81</td><td>Sony Headphones</td><td>1491.62</td></tr>\n",
       "\t<tr><td>187</td><td>Customer 79</td><td>iPhone 14      </td><td>1488.95</td></tr>\n",
       "\t<tr><td>136</td><td>Customer 20</td><td>HP Printer     </td><td>1487.44</td></tr>\n",
       "\t<tr><td>297</td><td>Customer 18</td><td>iPhone 14      </td><td>1487.43</td></tr>\n",
       "\t<tr><td>378</td><td>Customer 83</td><td>iPhone 14      </td><td>1484.31</td></tr>\n",
       "\t<tr><td> 16</td><td>Customer 20</td><td>HP Printer     </td><td>1476.49</td></tr>\n",
       "\t<tr><td>479</td><td>Customer 10</td><td>Dell Laptop    </td><td>1473.27</td></tr>\n",
       "\t<tr><td> 84</td><td>Customer 14</td><td>iPhone 14      </td><td>1471.59</td></tr>\n",
       "</tbody>\n",
       "</table>\n"
      ],
      "text/latex": [
       "A tibble: 10 × 4\n",
       "\\begin{tabular}{llll}\n",
       " TransactionID & CustomerName & ProductName & TotalAmount\\\\\n",
       " <dbl> & <chr> & <chr> & <dbl>\\\\\n",
       "\\hline\n",
       "\t 150 & Customer 60 & Sony Headphones & 1499.52\\\\\n",
       "\t  61 & Customer 28 & Dell Laptop     & 1491.96\\\\\n",
       "\t 154 & Customer 81 & Sony Headphones & 1491.62\\\\\n",
       "\t 187 & Customer 79 & iPhone 14       & 1488.95\\\\\n",
       "\t 136 & Customer 20 & HP Printer      & 1487.44\\\\\n",
       "\t 297 & Customer 18 & iPhone 14       & 1487.43\\\\\n",
       "\t 378 & Customer 83 & iPhone 14       & 1484.31\\\\\n",
       "\t  16 & Customer 20 & HP Printer      & 1476.49\\\\\n",
       "\t 479 & Customer 10 & Dell Laptop     & 1473.27\\\\\n",
       "\t  84 & Customer 14 & iPhone 14       & 1471.59\\\\\n",
       "\\end{tabular}\n"
      ],
      "text/markdown": [
       "\n",
       "A tibble: 10 × 4\n",
       "\n",
       "| TransactionID &lt;dbl&gt; | CustomerName &lt;chr&gt; | ProductName &lt;chr&gt; | TotalAmount &lt;dbl&gt; |\n",
       "|---|---|---|---|\n",
       "| 150 | Customer 60 | Sony Headphones | 1499.52 |\n",
       "|  61 | Customer 28 | Dell Laptop     | 1491.96 |\n",
       "| 154 | Customer 81 | Sony Headphones | 1491.62 |\n",
       "| 187 | Customer 79 | iPhone 14       | 1488.95 |\n",
       "| 136 | Customer 20 | HP Printer      | 1487.44 |\n",
       "| 297 | Customer 18 | iPhone 14       | 1487.43 |\n",
       "| 378 | Customer 83 | iPhone 14       | 1484.31 |\n",
       "|  16 | Customer 20 | HP Printer      | 1476.49 |\n",
       "| 479 | Customer 10 | Dell Laptop     | 1473.27 |\n",
       "|  84 | Customer 14 | iPhone 14       | 1471.59 |\n",
       "\n"
      ],
      "text/plain": [
       "   TransactionID CustomerName ProductName     TotalAmount\n",
       "1  150           Customer 60  Sony Headphones 1499.52    \n",
       "2   61           Customer 28  Dell Laptop     1491.96    \n",
       "3  154           Customer 81  Sony Headphones 1491.62    \n",
       "4  187           Customer 79  iPhone 14       1488.95    \n",
       "5  136           Customer 20  HP Printer      1487.44    \n",
       "6  297           Customer 18  iPhone 14       1487.43    \n",
       "7  378           Customer 83  iPhone 14       1484.31    \n",
       "8   16           Customer 20  HP Printer      1476.49    \n",
       "9  479           Customer 10  Dell Laptop     1473.27    \n",
       "10  84           Customer 14  iPhone 14       1471.59    "
      ]
     },
     "metadata": {},
     "output_type": "display_data"
    }
   ],
   "source": [
    "# Task 5.1: Simple Chain\n",
    "# Filter TotalAmount > $75, select specific columns, arrange by TotalAmount descending\n",
    "\n",
    "premium_purchases <- transactions %>%\n",
    "  # Your code here:\n",
    "\n",
    "  filter(TotalAmount > 75) %>%\n",
    "  select(TransactionID, CustomerName, ProductName, TotalAmount) %>%\n",
    "  arrange(desc(TotalAmount))\n",
    "\n",
    "# Display results\n",
    "cat(\"Premium purchases (>$75):\\n\")\n",
    "head(premium_purchases, 10)"
   ]
  },
  {
   "cell_type": "code",
   "execution_count": 37,
   "id": "823cda0b",
   "metadata": {
    "vscode": {
     "languageId": "r"
    }
   },
   "outputs": [
    {
     "name": "stdout",
     "output_type": "stream",
     "text": [
      "Recent tech purchases (top 20):\n",
      "\u001b[90m# A tibble: 20 × 5\u001b[39m\n",
      "   TransactionID TransactionDate CustomerName ProductName     TotalAmount\n",
      "           \u001b[3m\u001b[90m<dbl>\u001b[39m\u001b[23m \u001b[3m\u001b[90m<date>\u001b[39m\u001b[23m          \u001b[3m\u001b[90m<chr>\u001b[39m\u001b[23m        \u001b[3m\u001b[90m<chr>\u001b[39m\u001b[23m                 \u001b[3m\u001b[90m<dbl>\u001b[39m\u001b[23m\n",
      "\u001b[90m 1\u001b[39m            32 2024-01-01      Customer 62  Sony Headphones      \u001b[4m1\u001b[24m416. \n",
      "\u001b[90m 2\u001b[39m           133 2024-01-01      Customer 99  Sony Headphones      \u001b[4m1\u001b[24m326. \n",
      "\u001b[90m 3\u001b[39m           251 2024-01-02      Customer 69  Adidas Jacket         278. \n",
      "\u001b[90m 4\u001b[39m           137 2024-01-03      Customer 2   HP Printer            463. \n",
      "\u001b[90m 5\u001b[39m           399 2024-01-08      Customer 76  Sony Headphones       463. \n",
      "\u001b[90m 6\u001b[39m           370 2024-01-08      Customer 56  HP Printer            186. \n",
      "\u001b[90m 7\u001b[39m           167 2024-01-12      Customer 76  Sony Headphones       997. \n",
      "\u001b[90m 8\u001b[39m            81 2024-01-14      Customer 98  Dell Laptop            96.8\n",
      "\u001b[90m 9\u001b[39m           203 2024-01-16      Customer 28  Adidas Jacket        \u001b[4m1\u001b[24m011  \n",
      "\u001b[90m10\u001b[39m           267 2024-01-16      Customer 44  Adidas Jacket         216. \n",
      "\u001b[90m11\u001b[39m           389 2024-01-17      Customer 1   Sony Headphones       585. \n",
      "\u001b[90m12\u001b[39m            44 2024-01-18      Customer 42  iPhone 14            \u001b[4m1\u001b[24m137. \n",
      "\u001b[90m13\u001b[39m           457 2024-01-21      Customer 54  Sony Headphones      \u001b[4m1\u001b[24m297. \n",
      "\u001b[90m14\u001b[39m           281 2024-01-21      Customer 18  Sony Headphones      \u001b[4m1\u001b[24m295. \n",
      "\u001b[90m15\u001b[39m             3 2024-01-22      Customer 98  Adidas Jacket        \u001b[4m1\u001b[24m289. \n",
      "\u001b[90m16\u001b[39m           411 2024-01-25      Customer 6   HP Printer           \u001b[4m1\u001b[24m025. \n",
      "\u001b[90m17\u001b[39m           283 2024-01-27      Customer 44  Samsung TV            728. \n",
      "\u001b[90m18\u001b[39m           155 2024-01-28      Customer 93  Nike Shoes            491. \n",
      "\u001b[90m19\u001b[39m            23 2024-01-30      Customer 50  HP Printer            898. \n",
      "\u001b[90m20\u001b[39m           424 2024-02-02      Customer 3   Sony Headphones       887  \n"
     ]
    }
   ],
   "source": [
    "# Task 5.2: Complex Chain\n",
    "# Filter for Electronics/Computers, select columns, arrange by date/amount, keep top 20\n",
    "\n",
    "recent_tech_purchases <- transactions %>%\n",
    "  # Your code here:\n",
    "\n",
    "  filter(ProductCategory %in% c(\"Electronics\", \"Computers\")) %>%\n",
    "  arrange(TransactionDate, desc(TotalAmount)) %>%  \n",
    "  head(20) %>%\n",
    "  select(TransactionID, TransactionDate, CustomerName, ProductName, TotalAmount)\n",
    "   \n",
    "\n",
    "# Display results\n",
    "cat(\"Recent tech purchases (top 20):\\n\")\n",
    "print(recent_tech_purchases)"
   ]
  },
  {
   "cell_type": "code",
   "execution_count": 39,
   "id": "73d00b01",
   "metadata": {
    "vscode": {
     "languageId": "r"
    }
   },
   "outputs": [
    {
     "name": "stdout",
     "output_type": "stream",
     "text": [
      "High-value customers:\n"
     ]
    },
    {
     "data": {
      "text/html": [
       "<table class=\"dataframe\">\n",
       "<caption>A tibble: 6 × 4</caption>\n",
       "<thead>\n",
       "\t<tr><th scope=col>CustomerID</th><th scope=col>CustomerName</th><th scope=col>TotalSpent</th><th scope=col>Transactions</th></tr>\n",
       "\t<tr><th scope=col>&lt;dbl&gt;</th><th scope=col>&lt;chr&gt;</th><th scope=col>&lt;dbl&gt;</th><th scope=col>&lt;int&gt;</th></tr>\n",
       "</thead>\n",
       "<tbody>\n",
       "\t<tr><td> 7</td><td>Customer 18</td><td>2782.54</td><td>2</td></tr>\n",
       "\t<tr><td>77</td><td>Customer 99</td><td>2628.75</td><td>2</td></tr>\n",
       "\t<tr><td>72</td><td>Customer 13</td><td>1986.10</td><td>2</td></tr>\n",
       "\t<tr><td>70</td><td>Customer 49</td><td>1823.74</td><td>2</td></tr>\n",
       "\t<tr><td>69</td><td>Customer 14</td><td>1095.99</td><td>2</td></tr>\n",
       "\t<tr><td>87</td><td>Customer 87</td><td> 717.69</td><td>2</td></tr>\n",
       "</tbody>\n",
       "</table>\n"
      ],
      "text/latex": [
       "A tibble: 6 × 4\n",
       "\\begin{tabular}{llll}\n",
       " CustomerID & CustomerName & TotalSpent & Transactions\\\\\n",
       " <dbl> & <chr> & <dbl> & <int>\\\\\n",
       "\\hline\n",
       "\t  7 & Customer 18 & 2782.54 & 2\\\\\n",
       "\t 77 & Customer 99 & 2628.75 & 2\\\\\n",
       "\t 72 & Customer 13 & 1986.10 & 2\\\\\n",
       "\t 70 & Customer 49 & 1823.74 & 2\\\\\n",
       "\t 69 & Customer 14 & 1095.99 & 2\\\\\n",
       "\t 87 & Customer 87 &  717.69 & 2\\\\\n",
       "\\end{tabular}\n"
      ],
      "text/markdown": [
       "\n",
       "A tibble: 6 × 4\n",
       "\n",
       "| CustomerID &lt;dbl&gt; | CustomerName &lt;chr&gt; | TotalSpent &lt;dbl&gt; | Transactions &lt;int&gt; |\n",
       "|---|---|---|---|\n",
       "|  7 | Customer 18 | 2782.54 | 2 |\n",
       "| 77 | Customer 99 | 2628.75 | 2 |\n",
       "| 72 | Customer 13 | 1986.10 | 2 |\n",
       "| 70 | Customer 49 | 1823.74 | 2 |\n",
       "| 69 | Customer 14 | 1095.99 | 2 |\n",
       "| 87 | Customer 87 |  717.69 | 2 |\n",
       "\n"
      ],
      "text/plain": [
       "  CustomerID CustomerName TotalSpent Transactions\n",
       "1  7         Customer 18  2782.54    2           \n",
       "2 77         Customer 99  2628.75    2           \n",
       "3 72         Customer 13  1986.10    2           \n",
       "4 70         Customer 49  1823.74    2           \n",
       "5 69         Customer 14  1095.99    2           \n",
       "6 87         Customer 87   717.69    2           "
      ]
     },
     "metadata": {},
     "output_type": "display_data"
    }
   ],
   "source": [
    "# Task 5.3: Business Intelligence Chain\n",
    "# Identify high-value repeat customers (TotalAmount > $200)\n",
    "\n",
    "high_value_customers <- transactions %>%\n",
    "  # Your code here:\n",
    "\n",
    "  filter(TotalAmount > 200) %>%\n",
    "  group_by(CustomerID, CustomerName) %>%\n",
    "  summarise(TotalSpent = sum(TotalAmount), Transactions = n(), .groups = 'drop') %>%\n",
    "  filter(Transactions > 1) %>%\n",
    "  arrange(desc(TotalSpent))\n",
    "  \n",
    "\n",
    "\n",
    "# Display results\n",
    "cat(\"High-value customers:\\n\")\n",
    "head(high_value_customers, 15)"
   ]
  },
  {
   "cell_type": "markdown",
   "id": "50978714",
   "metadata": {},
   "source": [
    "## Part 6: Data Analysis Questions\n",
    "\n",
    "Answer the following questions using the datasets you've created."
   ]
  },
  {
   "cell_type": "code",
   "execution_count": 40,
   "id": "be6e8562",
   "metadata": {
    "vscode": {
     "languageId": "r"
    }
   },
   "outputs": [
    {
     "name": "stdout",
     "output_type": "stream",
     "text": [
      "Transaction counts by dataset:\n",
      "High value transactions: 470 \n",
      "Electronics transactions: 93 \n",
      "NY bulk purchases: 75 \n",
      "Entertainment transactions: 227 \n",
      "March transactions: 41 \n",
      "Premium purchases: 483 \n",
      "Recent tech purchases: 20 \n",
      "High value customers: 6 \n"
     ]
    }
   ],
   "source": [
    "# Question 6.1: Transaction Volume\n",
    "# Count transactions in each filtered dataset\n",
    "\n",
    "cat(\"Transaction counts by dataset:\\n\")\n",
    "cat(\"High value transactions:\", nrow(high_value_transactions), \"\\n\")\n",
    "cat(\"Electronics transactions:\", nrow(electronics_transactions), \"\\n\")\n",
    "cat(\"NY bulk purchases:\", nrow(ny_bulk_purchases), \"\\n\")\n",
    "cat(\"Entertainment transactions:\", nrow(entertainment_transactions), \"\\n\")\n",
    "cat(\"March transactions:\", nrow(march_transactions), \"\\n\")\n",
    "cat(\"Premium purchases:\", nrow(premium_purchases), \"\\n\")\n",
    "cat(\"Recent tech purchases:\", nrow(recent_tech_purchases), \"\\n\")\n",
    "cat(\"High value customers:\", nrow(high_value_customers), \"\\n\")"
   ]
  },
  {
   "cell_type": "code",
   "execution_count": 42,
   "id": "35190921",
   "metadata": {
    "vscode": {
     "languageId": "r"
    }
   },
   "outputs": [
    {
     "name": "stdout",
     "output_type": "stream",
     "text": [
      "Most frequent high-value customer:\n",
      "\u001b[90m# A tibble: 1 × 4\u001b[39m\n",
      "  CustomerID CustomerName TotalSpent Transactions\n",
      "       \u001b[3m\u001b[90m<dbl>\u001b[39m\u001b[23m \u001b[3m\u001b[90m<chr>\u001b[39m\u001b[23m             \u001b[3m\u001b[90m<dbl>\u001b[39m\u001b[23m        \u001b[3m\u001b[90m<int>\u001b[39m\u001b[23m\n",
      "\u001b[90m1\u001b[39m          7 Customer 18       \u001b[4m2\u001b[24m783.            2\n"
     ]
    }
   ],
   "source": [
    "# Question 6.2: Top Customers\n",
    "# Find the customer who appears most frequently in high_value_customers\n",
    "\n",
    "if(nrow(high_value_customers) > 0) {\n",
    "  customer_frequency <- high_value_customers %>%\n",
    "    # Your code here to count customer appearances:\n",
    "\n",
    "    arrange(desc(TotalSpent)) %>%\n",
    "    slice(1)\n",
    "    \n",
    "  \n",
    "  cat(\"Most frequent high-value customer:\\n\")\n",
    "  print(customer_frequency)\n",
    "} else {\n",
    "  cat(\"No high-value customers found\\n\")\n",
    "}"
   ]
  },
  {
   "cell_type": "code",
   "execution_count": 43,
   "id": "3c932cbb",
   "metadata": {
    "vscode": {
     "languageId": "r"
    }
   },
   "outputs": [
    {
     "name": "stdout",
     "output_type": "stream",
     "text": [
      "Top 5 most expensive entertainment transactions:\n",
      "\u001b[90m# A tibble: 5 × 4\u001b[39m\n",
      "  TransactionID CustomerName ProductName     TotalAmount\n",
      "          \u001b[3m\u001b[90m<dbl>\u001b[39m\u001b[23m \u001b[3m\u001b[90m<chr>\u001b[39m\u001b[23m        \u001b[3m\u001b[90m<chr>\u001b[39m\u001b[23m                 \u001b[3m\u001b[90m<dbl>\u001b[39m\u001b[23m\n",
      "\u001b[90m1\u001b[39m           154 Customer 81  Sony Headphones       \u001b[4m1\u001b[24m492.\n",
      "\u001b[90m2\u001b[39m           378 Customer 83  iPhone 14             \u001b[4m1\u001b[24m484.\n",
      "\u001b[90m3\u001b[39m           479 Customer 10  Dell Laptop           \u001b[4m1\u001b[24m473.\n",
      "\u001b[90m4\u001b[39m           384 Customer 97  Dell Laptop           \u001b[4m1\u001b[24m459.\n",
      "\u001b[90m5\u001b[39m           468 Customer 47  Dell Laptop           \u001b[4m1\u001b[24m457.\n"
     ]
    }
   ],
   "source": [
    "# Question 6.3: Product Analysis\n",
    "# Find top 5 most expensive transactions in entertainment_transactions\n",
    "\n",
    "if(nrow(entertainment_transactions) > 0) {\n",
    "  top_entertainment <- entertainment_transactions %>%\n",
    "    # Your code here:\n",
    "\n",
    "    arrange(desc(TotalAmount)) %>%\n",
    "    head(5) %>%\n",
    "    select(TransactionID, CustomerName, ProductName, TotalAmount)\n",
    "    \n",
    "  \n",
    "  cat(\"Top 5 most expensive entertainment transactions:\\n\")\n",
    "  print(top_entertainment)\n",
    "} else {\n",
    "  cat(\"No entertainment transactions found\\n\")\n",
    "}"
   ]
  },
  {
   "cell_type": "code",
   "execution_count": 44,
   "id": "7b46473f",
   "metadata": {
    "vscode": {
     "languageId": "r"
    }
   },
   "outputs": [
    {
     "name": "stdout",
     "output_type": "stream",
     "text": [
      "City with highest single transaction:\n",
      "\u001b[90m# A tibble: 1 × 4\u001b[39m\n",
      "  CustomerCity CustomerName ProductName TotalAmount\n",
      "  \u001b[3m\u001b[90m<chr>\u001b[39m\u001b[23m        \u001b[3m\u001b[90m<chr>\u001b[39m\u001b[23m        \u001b[3m\u001b[90m<chr>\u001b[39m\u001b[23m             \u001b[3m\u001b[90m<dbl>\u001b[39m\u001b[23m\n",
      "\u001b[90m1\u001b[39m Chicago      Customer 18  iPhone 14         \u001b[4m1\u001b[24m487.\n"
     ]
    }
   ],
   "source": [
    "# Question 6.4: Geographic Analysis\n",
    "# Find the city with the highest single transaction amount\n",
    "\n",
    "highest_transaction_by_city <- transactions_by_city_amount %>%\n",
    "  # Your code here:\n",
    "  slice(1) %>%\n",
    "  select(CustomerCity, CustomerName, ProductName, TotalAmount)\n",
    "\n",
    "\n",
    "cat(\"City with highest single transaction:\\n\")\n",
    "print(highest_transaction_by_city)"
   ]
  },
  {
   "cell_type": "markdown",
   "id": "82d2dc35",
   "metadata": {},
   "source": [
    "## Part 7: Reflection Questions\n",
    "\n",
    "Please answer the following questions in the markdown cells below."
   ]
  },
  {
   "cell_type": "markdown",
   "id": "f2ea2958",
   "metadata": {},
   "source": [
    "### Question 7.1: Pipe Operator Benefits\n",
    "\n",
    "**How does using the pipe operator (`%>%`) improve code readability compared to nested function calls? Provide a specific example from your homework.**\n",
    "\n",
    "Your answer here:\n",
    "\n",
    "The pipe operator improves code readability by showing the data transformations in\n",
    "a friendly linear fashion while nested function cells can be hard to read due\n",
    "to its cimposition of commands inside other commands. "
   ]
  },
  {
   "cell_type": "markdown",
   "id": "af3d8c62",
   "metadata": {},
   "source": [
    "### Question 7.2: Filtering Strategy\n",
    "\n",
    "**When filtering data for business analysis, what are the trade-offs between being very specific (many conditions) versus being more general (fewer conditions)? How might this affect your insights?**\n",
    "\n",
    "Your answer here:\n",
    "\n",
    "With more specific conditions, you're able to target more exact data which helps\n",
    "with precise insights. However, a trade off is that when looking for more\n",
    "specific data, you may limit your insights if its too niche and can sometimes\n",
    "be bias. On the other hand, general conditions do the opposite. They provide a \n",
    "larger pool of data ot analyze but may not be as precise which could lead to \n",
    "shallow reports."
   ]
  },
  {
   "cell_type": "markdown",
   "id": "54c0b062",
   "metadata": {},
   "source": [
    "### Question 7.3: Sorting Importance\n",
    "\n",
    "**Why is data sorting important in business analytics? Provide three specific business scenarios where sorting data would be crucial for decision-making.**\n",
    "\n",
    "Your answer here:\n",
    "\n",
    "1. You want to identify the most expensive items sold and how many people bought\n",
    "   them.\n",
    "2. You want to analyze employee performance and rank them based on sales or\n",
    "   customer ratings.\n",
    "3. You want to keep track of stock levels being brought to a store and sort them\n",
    "   based on how quickly they are selling."
   ]
  },
  {
   "cell_type": "markdown",
   "id": "625c2ea3",
   "metadata": {},
   "source": [
    "### Question 7.4: Real-World Application\n",
    "\n",
    "**Describe a real business scenario where you might need to combine `select()`, `filter()`, and `arrange()` operations. What insights would you be trying to gain?**\n",
    "\n",
    "Your answer here:\n",
    "\n",
    "When drafting athletes to be on a team, one may want to use thses functions to \n",
    "select select them based on their position, filter them based off performance\n",
    "levels and then arrange them in ascending order based off their stats to see\n",
    "the top performing playerts."
   ]
  },
  {
   "cell_type": "markdown",
   "id": "6142c3f6",
   "metadata": {},
   "source": [
    "## Summary and Submission\n",
    "\n",
    "### What You've Learned\n",
    "\n",
    "In this homework, you've practiced:\n",
    "- Using `select()` for column selection with various methods\n",
    "- Using `filter()` for row filtering with single and multiple conditions\n",
    "- Using `arrange()` for sorting data by single and multiple columns\n",
    "- Chaining operations with the pipe operator (`%>%`)\n",
    "- Analyzing business data to generate insights\n",
    "\n",
    "### Submission Checklist\n",
    "\n",
    "Before submitting, ensure you have:\n",
    "- [ ] Completed all code tasks\n",
    "- [ ] Run all cells successfully\n",
    "- [ ] Answered all reflection questions\n",
    "- [ ] Used proper commenting in your code\n",
    "- [ ] Used the pipe operator where appropriate\n",
    "- [ ] Verified your results make sense\n",
    "\n",
    "### Next Steps\n",
    "\n",
    "In the next lesson, you'll learn about:\n",
    "- `mutate()` for creating new columns\n",
    "- `summarize()` for calculating summary statistics\n",
    "- `group_by()` for grouped operations\n",
    "- Advanced data transformation techniques"
   ]
  }
 ],
 "metadata": {
  "kernelspec": {
   "display_name": "R",
   "language": "R",
   "name": "ir"
  },
  "language_info": {
   "codemirror_mode": "r",
   "file_extension": ".r",
   "mimetype": "text/x-r-source",
   "name": "R",
   "pygments_lexer": "r",
   "version": "4.4.3"
  }
 },
 "nbformat": 4,
 "nbformat_minor": 5
}
