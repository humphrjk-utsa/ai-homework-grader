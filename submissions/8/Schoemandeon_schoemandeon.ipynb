{
 "cells": [
  {
   "cell_type": "markdown",
   "id": "3d8bca02",
   "metadata": {},
   "source": [
    "# Homework Assignment - Lesson 3: Data Transformation with dplyr - Part 1\n",
    "\n",
    "**Student Name:** [Deon Schoeman]\n",
    "\n",
    "**Due Date:** [09/21/2025]\n",
    "\n",
    "**Objective:** Learn to use dplyr functions (`select()`, `filter()`, `arrange()`) and the pipe operator (`%>%`) for data transformation and analysis.\n",
    "\n",
    "---\n",
    "\n",
    "## Instructions\n",
    "\n",
    "- Complete all tasks in this notebook\n",
    "- Use the pipe operator (`%>%`) wherever possible to chain operations\n",
    "- Ensure your code is well-commented and easy to understand\n",
    "- Run all cells to verify your code works correctly\n",
    "- Answer all reflection questions at the end\n",
    "\n",
    "---"
   ]
  },
  {
   "cell_type": "markdown",
   "id": "2baa2287",
   "metadata": {},
   "source": [
    "## Part 1: Data Import and Setup\n",
    "\n",
    "In this section, you'll import the retail transactions dataset and perform initial exploration.\n",
    "\n",
    "**Dataset:** `retail_transactions.csv` - This dataset contains transaction records from a retail business with information about customers, products, dates, amounts, and quantities."
   ]
  },
  {
   "cell_type": "code",
   "execution_count": null,
   "id": "764c19b0",
   "metadata": {
    "vscode": {
     "languageId": "r"
    }
   },
   "outputs": [
    {
     "name": "stdout",
     "output_type": "stream",
     "text": [
      "Data imported successfully!\n",
      "Dataset dimensions: 500 rows x 9 columns\n"
     ]
    }
   ],
   "source": [
    "# Load required libraries\n",
    "# library(tidyverse)\n",
    "\n",
    "# Set working directory if needed\n",
    "# setwd(\"/workspaces/Assignment-3-Data-Transformation-with-dplyr---Part-1/data/\")\n",
    "\n",
    "\n",
    "# Task 1.1: Import the retail_transactions.csv file\n",
    "# Create a data frame named 'transactions'\n",
    "# Note: Import the retail_transactions.csv file\n",
    "\n",
    "# Your code here:\n",
    "transactions <- read.csv(\"retail_transactions.csv\")\n",
    "\n",
    "# Display success message\n",
    "cat(\"Data imported successfully!\\n\")\n",
    "cat(\"Dataset dimensions:\", nrow(transactions), \"rows x\", ncol(transactions), \"columns\\n\")"
   ]
  },
  {
   "cell_type": "code",
   "execution_count": 6,
   "id": "dd72af91",
   "metadata": {
    "vscode": {
     "languageId": "r"
    }
   },
   "outputs": [
    {
     "name": "stdout",
     "output_type": "stream",
     "text": [
      "First 10 rows of the dataset:\n"
     ]
    },
    {
     "data": {
      "text/html": [
       "<table class=\"dataframe\">\n",
       "<caption>A data.frame: 10 × 9</caption>\n",
       "<thead>\n",
       "\t<tr><th></th><th scope=col>TransactionID</th><th scope=col>CustomerID</th><th scope=col>CustomerName</th><th scope=col>CustomerCity</th><th scope=col>ProductName</th><th scope=col>ProductCategory</th><th scope=col>TotalAmount</th><th scope=col>Quantity</th><th scope=col>TransactionDate</th></tr>\n",
       "\t<tr><th></th><th scope=col>&lt;int&gt;</th><th scope=col>&lt;int&gt;</th><th scope=col>&lt;chr&gt;</th><th scope=col>&lt;chr&gt;</th><th scope=col>&lt;chr&gt;</th><th scope=col>&lt;chr&gt;</th><th scope=col>&lt;dbl&gt;</th><th scope=col>&lt;int&gt;</th><th scope=col>&lt;chr&gt;</th></tr>\n",
       "</thead>\n",
       "<tbody>\n",
       "\t<tr><th scope=row>1</th><td> 1</td><td>81</td><td>Customer 39</td><td>Chicago     </td><td>Adidas Jacket  </td><td>Clothing   </td><td> 632.39</td><td>3</td><td>2024-03-09</td></tr>\n",
       "\t<tr><th scope=row>2</th><td> 2</td><td>13</td><td>Customer 63</td><td>Philadelphia</td><td>Samsung TV     </td><td>Music      </td><td> 114.28</td><td>3</td><td>2024-12-08</td></tr>\n",
       "\t<tr><th scope=row>3</th><td> 3</td><td>18</td><td>Customer 98</td><td>Chicago     </td><td>Adidas Jacket  </td><td>Computers  </td><td>1289.24</td><td>7</td><td>2024-01-22</td></tr>\n",
       "\t<tr><th scope=row>4</th><td> 4</td><td>76</td><td>Customer 39</td><td>Houston     </td><td>Dell Laptop    </td><td>Computers  </td><td> 885.40</td><td>2</td><td>2024-07-02</td></tr>\n",
       "\t<tr><th scope=row>5</th><td> 5</td><td>86</td><td>Customer 45</td><td>New York    </td><td>Nike Shoes     </td><td>Computers  </td><td>  95.95</td><td>5</td><td>2024-08-13</td></tr>\n",
       "\t<tr><th scope=row>6</th><td> 6</td><td>37</td><td>Customer 8 </td><td>Philadelphia</td><td>Adidas Jacket  </td><td>Electronics</td><td>1126.34</td><td>2</td><td>2024-04-15</td></tr>\n",
       "\t<tr><th scope=row>7</th><td> 7</td><td>45</td><td>Customer 83</td><td>New York    </td><td>HP Printer     </td><td>Clothing   </td><td>  78.71</td><td>3</td><td>2024-05-02</td></tr>\n",
       "\t<tr><th scope=row>8</th><td> 8</td><td>11</td><td>Customer 60</td><td>Chicago     </td><td>Samsung TV     </td><td>Music      </td><td> 871.93</td><td>3</td><td>2024-04-30</td></tr>\n",
       "\t<tr><th scope=row>9</th><td> 9</td><td>13</td><td>Customer 69</td><td>Houston     </td><td>iPhone 14      </td><td>Music      </td><td>1347.56</td><td>8</td><td>2024-08-08</td></tr>\n",
       "\t<tr><th scope=row>10</th><td>10</td><td>55</td><td>Customer 24</td><td>Chicago     </td><td>Sony Headphones</td><td>Books      </td><td> 633.51</td><td>1</td><td>2024-06-23</td></tr>\n",
       "</tbody>\n",
       "</table>\n"
      ],
      "text/latex": [
       "A data.frame: 10 × 9\n",
       "\\begin{tabular}{r|lllllllll}\n",
       "  & TransactionID & CustomerID & CustomerName & CustomerCity & ProductName & ProductCategory & TotalAmount & Quantity & TransactionDate\\\\\n",
       "  & <int> & <int> & <chr> & <chr> & <chr> & <chr> & <dbl> & <int> & <chr>\\\\\n",
       "\\hline\n",
       "\t1 &  1 & 81 & Customer 39 & Chicago      & Adidas Jacket   & Clothing    &  632.39 & 3 & 2024-03-09\\\\\n",
       "\t2 &  2 & 13 & Customer 63 & Philadelphia & Samsung TV      & Music       &  114.28 & 3 & 2024-12-08\\\\\n",
       "\t3 &  3 & 18 & Customer 98 & Chicago      & Adidas Jacket   & Computers   & 1289.24 & 7 & 2024-01-22\\\\\n",
       "\t4 &  4 & 76 & Customer 39 & Houston      & Dell Laptop     & Computers   &  885.40 & 2 & 2024-07-02\\\\\n",
       "\t5 &  5 & 86 & Customer 45 & New York     & Nike Shoes      & Computers   &   95.95 & 5 & 2024-08-13\\\\\n",
       "\t6 &  6 & 37 & Customer 8  & Philadelphia & Adidas Jacket   & Electronics & 1126.34 & 2 & 2024-04-15\\\\\n",
       "\t7 &  7 & 45 & Customer 83 & New York     & HP Printer      & Clothing    &   78.71 & 3 & 2024-05-02\\\\\n",
       "\t8 &  8 & 11 & Customer 60 & Chicago      & Samsung TV      & Music       &  871.93 & 3 & 2024-04-30\\\\\n",
       "\t9 &  9 & 13 & Customer 69 & Houston      & iPhone 14       & Music       & 1347.56 & 8 & 2024-08-08\\\\\n",
       "\t10 & 10 & 55 & Customer 24 & Chicago      & Sony Headphones & Books       &  633.51 & 1 & 2024-06-23\\\\\n",
       "\\end{tabular}\n"
      ],
      "text/markdown": [
       "\n",
       "A data.frame: 10 × 9\n",
       "\n",
       "| <!--/--> | TransactionID &lt;int&gt; | CustomerID &lt;int&gt; | CustomerName &lt;chr&gt; | CustomerCity &lt;chr&gt; | ProductName &lt;chr&gt; | ProductCategory &lt;chr&gt; | TotalAmount &lt;dbl&gt; | Quantity &lt;int&gt; | TransactionDate &lt;chr&gt; |\n",
       "|---|---|---|---|---|---|---|---|---|---|\n",
       "| 1 |  1 | 81 | Customer 39 | Chicago      | Adidas Jacket   | Clothing    |  632.39 | 3 | 2024-03-09 |\n",
       "| 2 |  2 | 13 | Customer 63 | Philadelphia | Samsung TV      | Music       |  114.28 | 3 | 2024-12-08 |\n",
       "| 3 |  3 | 18 | Customer 98 | Chicago      | Adidas Jacket   | Computers   | 1289.24 | 7 | 2024-01-22 |\n",
       "| 4 |  4 | 76 | Customer 39 | Houston      | Dell Laptop     | Computers   |  885.40 | 2 | 2024-07-02 |\n",
       "| 5 |  5 | 86 | Customer 45 | New York     | Nike Shoes      | Computers   |   95.95 | 5 | 2024-08-13 |\n",
       "| 6 |  6 | 37 | Customer 8  | Philadelphia | Adidas Jacket   | Electronics | 1126.34 | 2 | 2024-04-15 |\n",
       "| 7 |  7 | 45 | Customer 83 | New York     | HP Printer      | Clothing    |   78.71 | 3 | 2024-05-02 |\n",
       "| 8 |  8 | 11 | Customer 60 | Chicago      | Samsung TV      | Music       |  871.93 | 3 | 2024-04-30 |\n",
       "| 9 |  9 | 13 | Customer 69 | Houston      | iPhone 14       | Music       | 1347.56 | 8 | 2024-08-08 |\n",
       "| 10 | 10 | 55 | Customer 24 | Chicago      | Sony Headphones | Books       |  633.51 | 1 | 2024-06-23 |\n",
       "\n"
      ],
      "text/plain": [
       "   TransactionID CustomerID CustomerName CustomerCity ProductName    \n",
       "1   1            81         Customer 39  Chicago      Adidas Jacket  \n",
       "2   2            13         Customer 63  Philadelphia Samsung TV     \n",
       "3   3            18         Customer 98  Chicago      Adidas Jacket  \n",
       "4   4            76         Customer 39  Houston      Dell Laptop    \n",
       "5   5            86         Customer 45  New York     Nike Shoes     \n",
       "6   6            37         Customer 8   Philadelphia Adidas Jacket  \n",
       "7   7            45         Customer 83  New York     HP Printer     \n",
       "8   8            11         Customer 60  Chicago      Samsung TV     \n",
       "9   9            13         Customer 69  Houston      iPhone 14      \n",
       "10 10            55         Customer 24  Chicago      Sony Headphones\n",
       "   ProductCategory TotalAmount Quantity TransactionDate\n",
       "1  Clothing         632.39     3        2024-03-09     \n",
       "2  Music            114.28     3        2024-12-08     \n",
       "3  Computers       1289.24     7        2024-01-22     \n",
       "4  Computers        885.40     2        2024-07-02     \n",
       "5  Computers         95.95     5        2024-08-13     \n",
       "6  Electronics     1126.34     2        2024-04-15     \n",
       "7  Clothing          78.71     3        2024-05-02     \n",
       "8  Music            871.93     3        2024-04-30     \n",
       "9  Music           1347.56     8        2024-08-08     \n",
       "10 Books            633.51     1        2024-06-23     "
      ]
     },
     "metadata": {},
     "output_type": "display_data"
    },
    {
     "name": "stdout",
     "output_type": "stream",
     "text": [
      "\n",
      "Dataset structure:\n",
      "'data.frame':\t500 obs. of  9 variables:\n",
      " $ TransactionID  : int  1 2 3 4 5 6 7 8 9 10 ...\n",
      " $ CustomerID     : int  81 13 18 76 86 37 45 11 13 55 ...\n",
      " $ CustomerName   : chr  \"Customer 39\" \"Customer 63\" \"Customer 98\" \"Customer 39\" ...\n",
      " $ CustomerCity   : chr  \"Chicago\" \"Philadelphia\" \"Chicago\" \"Houston\" ...\n",
      " $ ProductName    : chr  \"Adidas Jacket\" \"Samsung TV\" \"Adidas Jacket\" \"Dell Laptop\" ...\n",
      " $ ProductCategory: chr  \"Clothing\" \"Music\" \"Computers\" \"Computers\" ...\n",
      " $ TotalAmount    : num  632 114 1289 885 96 ...\n",
      " $ Quantity       : int  3 3 7 2 5 2 3 3 8 1 ...\n",
      " $ TransactionDate: chr  \"2024-03-09\" \"2024-12-08\" \"2024-01-22\" \"2024-07-02\" ...\n",
      "\n",
      "Column names:\n"
     ]
    },
    {
     "data": {
      "text/html": [
       "<style>\n",
       ".dl-inline {width: auto; margin:0; padding: 0}\n",
       ".dl-inline>dt, .dl-inline>dd {float: none; width: auto; display: inline-block}\n",
       ".dl-inline>dt::after {content: \":\\0020\"; padding-right: .5ex}\n",
       ".dl-inline>dt:not(:first-of-type) {padding-left: .5ex}\n",
       "</style><dl class=dl-inline><dt>TransactionID</dt><dd>'integer'</dd><dt>CustomerID</dt><dd>'integer'</dd><dt>CustomerName</dt><dd>'character'</dd><dt>CustomerCity</dt><dd>'character'</dd><dt>ProductName</dt><dd>'character'</dd><dt>ProductCategory</dt><dd>'character'</dd><dt>TotalAmount</dt><dd>'numeric'</dd><dt>Quantity</dt><dd>'integer'</dd><dt>TransactionDate</dt><dd>'character'</dd></dl>\n"
      ],
      "text/latex": [
       "\\begin{description*}\n",
       "\\item[TransactionID] 'integer'\n",
       "\\item[CustomerID] 'integer'\n",
       "\\item[CustomerName] 'character'\n",
       "\\item[CustomerCity] 'character'\n",
       "\\item[ProductName] 'character'\n",
       "\\item[ProductCategory] 'character'\n",
       "\\item[TotalAmount] 'numeric'\n",
       "\\item[Quantity] 'integer'\n",
       "\\item[TransactionDate] 'character'\n",
       "\\end{description*}\n"
      ],
      "text/markdown": [
       "TransactionID\n",
       ":   'integer'CustomerID\n",
       ":   'integer'CustomerName\n",
       ":   'character'CustomerCity\n",
       ":   'character'ProductName\n",
       ":   'character'ProductCategory\n",
       ":   'character'TotalAmount\n",
       ":   'numeric'Quantity\n",
       ":   'integer'TransactionDate\n",
       ":   'character'\n",
       "\n"
      ],
      "text/plain": [
       "  TransactionID      CustomerID    CustomerName    CustomerCity     ProductName \n",
       "      \"integer\"       \"integer\"     \"character\"     \"character\"     \"character\" \n",
       "ProductCategory     TotalAmount        Quantity TransactionDate \n",
       "    \"character\"       \"numeric\"       \"integer\"     \"character\" "
      ]
     },
     "metadata": {},
     "output_type": "display_data"
    }
   ],
   "source": [
    "# Task 1.2: Initial Exploration\n",
    "\n",
    "# Display the first 10 rows\n",
    "cat(\"First 10 rows of the dataset:\\n\")\n",
    "head(transactions, n = 10)\n",
    "\n",
    "\n",
    "# Check the structure of the dataset\n",
    "cat(\"\\nDataset structure:\\n\")\n",
    "str(transactions)\n",
    "\n",
    "\n",
    "# Display column names and their data types\n",
    "cat(\"\\nColumn names:\\n\")\n",
    "sapply(transactions, class)"
   ]
  },
  {
   "cell_type": "markdown",
   "id": "31f0a977",
   "metadata": {},
   "source": [
    "## Part 2: Column Selection with `select()`\n",
    "\n",
    "Practice different methods of selecting columns from your dataset."
   ]
  },
  {
   "cell_type": "code",
   "execution_count": 7,
   "id": "5d4fa53b",
   "metadata": {
    "vscode": {
     "languageId": "r"
    }
   },
   "outputs": [
    {
     "name": "stdout",
     "output_type": "stream",
     "text": [
      "Basic info dataset (first 5 rows):\n"
     ]
    },
    {
     "data": {
      "text/html": [
       "<table class=\"dataframe\">\n",
       "<caption>A data.frame: 5 × 4</caption>\n",
       "<thead>\n",
       "\t<tr><th></th><th scope=col>TransactionID</th><th scope=col>CustomerID</th><th scope=col>ProductName</th><th scope=col>TotalAmount</th></tr>\n",
       "\t<tr><th></th><th scope=col>&lt;int&gt;</th><th scope=col>&lt;int&gt;</th><th scope=col>&lt;chr&gt;</th><th scope=col>&lt;dbl&gt;</th></tr>\n",
       "</thead>\n",
       "<tbody>\n",
       "\t<tr><th scope=row>1</th><td>1</td><td>81</td><td>Adidas Jacket</td><td> 632.39</td></tr>\n",
       "\t<tr><th scope=row>2</th><td>2</td><td>13</td><td>Samsung TV   </td><td> 114.28</td></tr>\n",
       "\t<tr><th scope=row>3</th><td>3</td><td>18</td><td>Adidas Jacket</td><td>1289.24</td></tr>\n",
       "\t<tr><th scope=row>4</th><td>4</td><td>76</td><td>Dell Laptop  </td><td> 885.40</td></tr>\n",
       "\t<tr><th scope=row>5</th><td>5</td><td>86</td><td>Nike Shoes   </td><td>  95.95</td></tr>\n",
       "</tbody>\n",
       "</table>\n"
      ],
      "text/latex": [
       "A data.frame: 5 × 4\n",
       "\\begin{tabular}{r|llll}\n",
       "  & TransactionID & CustomerID & ProductName & TotalAmount\\\\\n",
       "  & <int> & <int> & <chr> & <dbl>\\\\\n",
       "\\hline\n",
       "\t1 & 1 & 81 & Adidas Jacket &  632.39\\\\\n",
       "\t2 & 2 & 13 & Samsung TV    &  114.28\\\\\n",
       "\t3 & 3 & 18 & Adidas Jacket & 1289.24\\\\\n",
       "\t4 & 4 & 76 & Dell Laptop   &  885.40\\\\\n",
       "\t5 & 5 & 86 & Nike Shoes    &   95.95\\\\\n",
       "\\end{tabular}\n"
      ],
      "text/markdown": [
       "\n",
       "A data.frame: 5 × 4\n",
       "\n",
       "| <!--/--> | TransactionID &lt;int&gt; | CustomerID &lt;int&gt; | ProductName &lt;chr&gt; | TotalAmount &lt;dbl&gt; |\n",
       "|---|---|---|---|---|\n",
       "| 1 | 1 | 81 | Adidas Jacket |  632.39 |\n",
       "| 2 | 2 | 13 | Samsung TV    |  114.28 |\n",
       "| 3 | 3 | 18 | Adidas Jacket | 1289.24 |\n",
       "| 4 | 4 | 76 | Dell Laptop   |  885.40 |\n",
       "| 5 | 5 | 86 | Nike Shoes    |   95.95 |\n",
       "\n"
      ],
      "text/plain": [
       "  TransactionID CustomerID ProductName   TotalAmount\n",
       "1 1             81         Adidas Jacket  632.39    \n",
       "2 2             13         Samsung TV     114.28    \n",
       "3 3             18         Adidas Jacket 1289.24    \n",
       "4 4             76         Dell Laptop    885.40    \n",
       "5 5             86         Nike Shoes      95.95    "
      ]
     },
     "metadata": {},
     "output_type": "display_data"
    }
   ],
   "source": [
    "# Task 2.1: Basic Selection\n",
    "# Create 'basic_info' with TransactionID, CustomerID, ProductName, and TotalAmount\n",
    "\n",
    "basic_info <- transactions %>%\n",
    "  select(TransactionID, CustomerID, ProductName, TotalAmount)\n",
    "\n",
    "\n",
    "# Display the result\n",
    "cat(\"Basic info dataset (first 5 rows):\\n\")\n",
    "head(basic_info, 5)"
   ]
  },
  {
   "cell_type": "code",
   "execution_count": 8,
   "id": "2a0479a9",
   "metadata": {
    "vscode": {
     "languageId": "r"
    }
   },
   "outputs": [
    {
     "name": "stdout",
     "output_type": "stream",
     "text": [
      "Customer details (first 5 rows):\n"
     ]
    },
    {
     "data": {
      "text/html": [
       "<table class=\"dataframe\">\n",
       "<caption>A data.frame: 5 × 3</caption>\n",
       "<thead>\n",
       "\t<tr><th></th><th scope=col>CustomerID</th><th scope=col>CustomerName</th><th scope=col>CustomerCity</th></tr>\n",
       "\t<tr><th></th><th scope=col>&lt;int&gt;</th><th scope=col>&lt;chr&gt;</th><th scope=col>&lt;chr&gt;</th></tr>\n",
       "</thead>\n",
       "<tbody>\n",
       "\t<tr><th scope=row>1</th><td>81</td><td>Customer 39</td><td>Chicago     </td></tr>\n",
       "\t<tr><th scope=row>2</th><td>13</td><td>Customer 63</td><td>Philadelphia</td></tr>\n",
       "\t<tr><th scope=row>3</th><td>18</td><td>Customer 98</td><td>Chicago     </td></tr>\n",
       "\t<tr><th scope=row>4</th><td>76</td><td>Customer 39</td><td>Houston     </td></tr>\n",
       "\t<tr><th scope=row>5</th><td>86</td><td>Customer 45</td><td>New York    </td></tr>\n",
       "</tbody>\n",
       "</table>\n"
      ],
      "text/latex": [
       "A data.frame: 5 × 3\n",
       "\\begin{tabular}{r|lll}\n",
       "  & CustomerID & CustomerName & CustomerCity\\\\\n",
       "  & <int> & <chr> & <chr>\\\\\n",
       "\\hline\n",
       "\t1 & 81 & Customer 39 & Chicago     \\\\\n",
       "\t2 & 13 & Customer 63 & Philadelphia\\\\\n",
       "\t3 & 18 & Customer 98 & Chicago     \\\\\n",
       "\t4 & 76 & Customer 39 & Houston     \\\\\n",
       "\t5 & 86 & Customer 45 & New York    \\\\\n",
       "\\end{tabular}\n"
      ],
      "text/markdown": [
       "\n",
       "A data.frame: 5 × 3\n",
       "\n",
       "| <!--/--> | CustomerID &lt;int&gt; | CustomerName &lt;chr&gt; | CustomerCity &lt;chr&gt; |\n",
       "|---|---|---|---|\n",
       "| 1 | 81 | Customer 39 | Chicago      |\n",
       "| 2 | 13 | Customer 63 | Philadelphia |\n",
       "| 3 | 18 | Customer 98 | Chicago      |\n",
       "| 4 | 76 | Customer 39 | Houston      |\n",
       "| 5 | 86 | Customer 45 | New York     |\n",
       "\n"
      ],
      "text/plain": [
       "  CustomerID CustomerName CustomerCity\n",
       "1 81         Customer 39  Chicago     \n",
       "2 13         Customer 63  Philadelphia\n",
       "3 18         Customer 98  Chicago     \n",
       "4 76         Customer 39  Houston     \n",
       "5 86         Customer 45  New York    "
      ]
     },
     "metadata": {},
     "output_type": "display_data"
    }
   ],
   "source": [
    "# Task 2.2: Range Selection\n",
    "# Create 'customer_details' with all columns from CustomerID to CustomerCity (inclusive)\n",
    "\n",
    "customer_details <- transactions %>%\n",
    "  select(CustomerID:CustomerCity)\n",
    "\n",
    "\n",
    "# Display the result\n",
    "cat(\"Customer details (first 5 rows):\\n\")\n",
    "head(customer_details, 5)"
   ]
  },
  {
   "cell_type": "code",
   "execution_count": 9,
   "id": "a527a514",
   "metadata": {
    "vscode": {
     "languageId": "r"
    }
   },
   "outputs": [
    {
     "name": "stdout",
     "output_type": "stream",
     "text": [
      "Date/Time columns:  \n",
      "Amount columns: TotalAmount \n"
     ]
    }
   ],
   "source": [
    "# Task 2.3: Pattern-Based Selection\n",
    "\n",
    "# Create 'date_columns' with columns starting with \"Date\" or \"Time\"\n",
    "date_columns <- transactions %>%\n",
    "  select(starts_with(\"date\"), starts_with(\"time\"))\n",
    "\n",
    "\n",
    "# Create 'amount_columns' with columns containing the word \"Amount\"\n",
    "amount_columns <- transactions %>%\n",
    "  select(contains(\"Amount\"))\n",
    "\n",
    "\n",
    "# Display column names for verification\n",
    "cat(\"Date/Time columns:\", names(date_columns), \"\\n\")\n",
    "cat(\"Amount columns:\", names(amount_columns), \"\\n\")"
   ]
  },
  {
   "cell_type": "code",
   "execution_count": 10,
   "id": "3d2ea46d",
   "metadata": {
    "vscode": {
     "languageId": "r"
    }
   },
   "outputs": [
    {
     "name": "stdout",
     "output_type": "stream",
     "text": [
      "Columns after removing IDs: CustomerName CustomerCity ProductName ProductCategory TotalAmount Quantity TransactionDate \n",
      "Number of columns: 7 \n"
     ]
    }
   ],
   "source": [
    "# Task 2.4: Exclusion Selection\n",
    "# Create 'no_ids' without TransactionID and CustomerID columns\n",
    "\n",
    "no_ids <- transactions %>%\n",
    "  select(-TransactionID, -CustomerID)\n",
    "\n",
    "\n",
    "# Display column names for verification\n",
    "cat(\"Columns after removing IDs:\", names(no_ids), \"\\n\")\n",
    "cat(\"Number of columns:\", ncol(no_ids), \"\\n\")"
   ]
  },
  {
   "cell_type": "markdown",
   "id": "a7c6a58e",
   "metadata": {},
   "source": [
    "## Part 3: Row Filtering with `filter()`\n",
    "\n",
    "Learn to filter rows based on various conditions."
   ]
  },
  {
   "cell_type": "code",
   "execution_count": 13,
   "id": "a7f8a827",
   "metadata": {
    "vscode": {
     "languageId": "r"
    }
   },
   "outputs": [
    {
     "name": "stdout",
     "output_type": "stream",
     "text": [
      "High value transactions (>$100): 470 rows\n",
      "Electronics transactions: 93 rows\n"
     ]
    }
   ],
   "source": [
    "# Task 3.1: Single Condition Filtering\n",
    "\n",
    "# Filter transactions with TotalAmount > $100\n",
    "high_value_transactions <- transactions %>%\n",
    "  filter(TotalAmount > 100)\n",
    "\n",
    "\n",
    "# Filter transactions from \"Electronics\" category \n",
    "electronics_transactions <- transactions %>%\n",
    "  filter(ProductCategory == \"Electronics\")\n",
    "\n",
    "\n",
    "# Display results\n",
    "cat(\"High value transactions (>$100):\", nrow(high_value_transactions), \"rows\\n\")\n",
    "cat(\"Electronics transactions:\", nrow(electronics_transactions), \"rows\\n\")"
   ]
  },
  {
   "cell_type": "code",
   "execution_count": 14,
   "id": "db2b0bd5",
   "metadata": {
    "vscode": {
     "languageId": "r"
    }
   },
   "outputs": [
    {
     "name": "stdout",
     "output_type": "stream",
     "text": [
      "NY bulk purchases: 90 rows\n"
     ]
    },
    {
     "data": {
      "text/html": [
       "<table class=\"dataframe\">\n",
       "<caption>A data.frame: 6 × 9</caption>\n",
       "<thead>\n",
       "\t<tr><th></th><th scope=col>TransactionID</th><th scope=col>CustomerID</th><th scope=col>CustomerName</th><th scope=col>CustomerCity</th><th scope=col>ProductName</th><th scope=col>ProductCategory</th><th scope=col>TotalAmount</th><th scope=col>Quantity</th><th scope=col>TransactionDate</th></tr>\n",
       "\t<tr><th></th><th scope=col>&lt;int&gt;</th><th scope=col>&lt;int&gt;</th><th scope=col>&lt;chr&gt;</th><th scope=col>&lt;chr&gt;</th><th scope=col>&lt;chr&gt;</th><th scope=col>&lt;chr&gt;</th><th scope=col>&lt;dbl&gt;</th><th scope=col>&lt;int&gt;</th><th scope=col>&lt;chr&gt;</th></tr>\n",
       "</thead>\n",
       "<tbody>\n",
       "\t<tr><th scope=row>1</th><td> 5</td><td>86</td><td>Customer 45</td><td>New York</td><td>Nike Shoes     </td><td>Computers  </td><td>  95.95</td><td>5</td><td>2024-08-13</td></tr>\n",
       "\t<tr><th scope=row>2</th><td> 7</td><td>45</td><td>Customer 83</td><td>New York</td><td>HP Printer     </td><td>Clothing   </td><td>  78.71</td><td>3</td><td>2024-05-02</td></tr>\n",
       "\t<tr><th scope=row>3</th><td>15</td><td> 1</td><td>Customer 52</td><td>New York</td><td>Nike Shoes     </td><td>Clothing   </td><td> 602.79</td><td>5</td><td>2024-01-05</td></tr>\n",
       "\t<tr><th scope=row>4</th><td>17</td><td> 2</td><td>Customer 38</td><td>New York</td><td>Sony Headphones</td><td>Electronics</td><td> 520.91</td><td>1</td><td>2024-06-16</td></tr>\n",
       "\t<tr><th scope=row>5</th><td>22</td><td>80</td><td>Customer 4 </td><td>New York</td><td>iPhone 14      </td><td>Books      </td><td>1424.99</td><td>7</td><td>2024-02-01</td></tr>\n",
       "\t<tr><th scope=row>6</th><td>25</td><td>97</td><td>Customer 17</td><td>New York</td><td>iPhone 14      </td><td>Movies     </td><td> 999.24</td><td>2</td><td>2024-02-03</td></tr>\n",
       "</tbody>\n",
       "</table>\n"
      ],
      "text/latex": [
       "A data.frame: 6 × 9\n",
       "\\begin{tabular}{r|lllllllll}\n",
       "  & TransactionID & CustomerID & CustomerName & CustomerCity & ProductName & ProductCategory & TotalAmount & Quantity & TransactionDate\\\\\n",
       "  & <int> & <int> & <chr> & <chr> & <chr> & <chr> & <dbl> & <int> & <chr>\\\\\n",
       "\\hline\n",
       "\t1 &  5 & 86 & Customer 45 & New York & Nike Shoes      & Computers   &   95.95 & 5 & 2024-08-13\\\\\n",
       "\t2 &  7 & 45 & Customer 83 & New York & HP Printer      & Clothing    &   78.71 & 3 & 2024-05-02\\\\\n",
       "\t3 & 15 &  1 & Customer 52 & New York & Nike Shoes      & Clothing    &  602.79 & 5 & 2024-01-05\\\\\n",
       "\t4 & 17 &  2 & Customer 38 & New York & Sony Headphones & Electronics &  520.91 & 1 & 2024-06-16\\\\\n",
       "\t5 & 22 & 80 & Customer 4  & New York & iPhone 14       & Books       & 1424.99 & 7 & 2024-02-01\\\\\n",
       "\t6 & 25 & 97 & Customer 17 & New York & iPhone 14       & Movies      &  999.24 & 2 & 2024-02-03\\\\\n",
       "\\end{tabular}\n"
      ],
      "text/markdown": [
       "\n",
       "A data.frame: 6 × 9\n",
       "\n",
       "| <!--/--> | TransactionID &lt;int&gt; | CustomerID &lt;int&gt; | CustomerName &lt;chr&gt; | CustomerCity &lt;chr&gt; | ProductName &lt;chr&gt; | ProductCategory &lt;chr&gt; | TotalAmount &lt;dbl&gt; | Quantity &lt;int&gt; | TransactionDate &lt;chr&gt; |\n",
       "|---|---|---|---|---|---|---|---|---|---|\n",
       "| 1 |  5 | 86 | Customer 45 | New York | Nike Shoes      | Computers   |   95.95 | 5 | 2024-08-13 |\n",
       "| 2 |  7 | 45 | Customer 83 | New York | HP Printer      | Clothing    |   78.71 | 3 | 2024-05-02 |\n",
       "| 3 | 15 |  1 | Customer 52 | New York | Nike Shoes      | Clothing    |  602.79 | 5 | 2024-01-05 |\n",
       "| 4 | 17 |  2 | Customer 38 | New York | Sony Headphones | Electronics |  520.91 | 1 | 2024-06-16 |\n",
       "| 5 | 22 | 80 | Customer 4  | New York | iPhone 14       | Books       | 1424.99 | 7 | 2024-02-01 |\n",
       "| 6 | 25 | 97 | Customer 17 | New York | iPhone 14       | Movies      |  999.24 | 2 | 2024-02-03 |\n",
       "\n"
      ],
      "text/plain": [
       "  TransactionID CustomerID CustomerName CustomerCity ProductName    \n",
       "1  5            86         Customer 45  New York     Nike Shoes     \n",
       "2  7            45         Customer 83  New York     HP Printer     \n",
       "3 15             1         Customer 52  New York     Nike Shoes     \n",
       "4 17             2         Customer 38  New York     Sony Headphones\n",
       "5 22            80         Customer 4   New York     iPhone 14      \n",
       "6 25            97         Customer 17  New York     iPhone 14      \n",
       "  ProductCategory TotalAmount Quantity TransactionDate\n",
       "1 Computers         95.95     5        2024-08-13     \n",
       "2 Clothing          78.71     3        2024-05-02     \n",
       "3 Clothing         602.79     5        2024-01-05     \n",
       "4 Electronics      520.91     1        2024-06-16     \n",
       "5 Books           1424.99     7        2024-02-01     \n",
       "6 Movies           999.24     2        2024-02-03     "
      ]
     },
     "metadata": {},
     "output_type": "display_data"
    }
   ],
   "source": [
    "# Task 3.2: Multiple Condition Filtering (AND)\n",
    "# Filter for TotalAmount > $50 AND Quantity > 1 AND CustomerCity == \"New York\"\n",
    "\n",
    "ny_bulk_purchases <- transactions %>%\n",
    "  filter(TotalAmount > 50, CustomerCity == \"New York\")\n",
    "\n",
    "\n",
    "# Display results\n",
    "cat(\"NY bulk purchases:\", nrow(ny_bulk_purchases), \"rows\\n\")\n",
    "if(nrow(ny_bulk_purchases) > 0) {\n",
    "  head(ny_bulk_purchases)\n",
    "}"
   ]
  },
  {
   "cell_type": "code",
   "execution_count": 18,
   "id": "4803780d",
   "metadata": {
    "vscode": {
     "languageId": "r"
    }
   },
   "outputs": [
    {
     "name": "stdout",
     "output_type": "stream",
     "text": [
      "Entertainment transactions: 227 rows\n"
     ]
    },
    {
     "data": {
      "text/html": [
       "<table class=\"dataframe\">\n",
       "<caption>A data.frame: 6 × 9</caption>\n",
       "<thead>\n",
       "\t<tr><th></th><th scope=col>TransactionID</th><th scope=col>CustomerID</th><th scope=col>CustomerName</th><th scope=col>CustomerCity</th><th scope=col>ProductName</th><th scope=col>ProductCategory</th><th scope=col>TotalAmount</th><th scope=col>Quantity</th><th scope=col>TransactionDate</th></tr>\n",
       "\t<tr><th></th><th scope=col>&lt;int&gt;</th><th scope=col>&lt;int&gt;</th><th scope=col>&lt;chr&gt;</th><th scope=col>&lt;chr&gt;</th><th scope=col>&lt;chr&gt;</th><th scope=col>&lt;chr&gt;</th><th scope=col>&lt;dbl&gt;</th><th scope=col>&lt;int&gt;</th><th scope=col>&lt;chr&gt;</th></tr>\n",
       "</thead>\n",
       "<tbody>\n",
       "\t<tr><th scope=row>1</th><td> 2</td><td> 13</td><td>Customer 63 </td><td>Philadelphia</td><td>Samsung TV     </td><td>Music </td><td> 114.28</td><td>3</td><td>2024-12-08</td></tr>\n",
       "\t<tr><th scope=row>2</th><td> 8</td><td> 11</td><td>Customer 60 </td><td>Chicago     </td><td>Samsung TV     </td><td>Music </td><td> 871.93</td><td>3</td><td>2024-04-30</td></tr>\n",
       "\t<tr><th scope=row>3</th><td> 9</td><td> 13</td><td>Customer 69 </td><td>Houston     </td><td>iPhone 14      </td><td>Music </td><td>1347.56</td><td>8</td><td>2024-08-08</td></tr>\n",
       "\t<tr><th scope=row>4</th><td>10</td><td> 55</td><td>Customer 24 </td><td>Chicago     </td><td>Sony Headphones</td><td>Books </td><td> 633.51</td><td>1</td><td>2024-06-23</td></tr>\n",
       "\t<tr><th scope=row>5</th><td>11</td><td>100</td><td>Customer 95 </td><td>Philadelphia</td><td>HP Printer     </td><td>Movies</td><td> 572.43</td><td>6</td><td>2024-12-09</td></tr>\n",
       "\t<tr><th scope=row>6</th><td>14</td><td> 19</td><td>Customer 100</td><td>Phoenix     </td><td>Nike Shoes     </td><td>Books </td><td>  32.29</td><td>3</td><td>2024-12-11</td></tr>\n",
       "</tbody>\n",
       "</table>\n"
      ],
      "text/latex": [
       "A data.frame: 6 × 9\n",
       "\\begin{tabular}{r|lllllllll}\n",
       "  & TransactionID & CustomerID & CustomerName & CustomerCity & ProductName & ProductCategory & TotalAmount & Quantity & TransactionDate\\\\\n",
       "  & <int> & <int> & <chr> & <chr> & <chr> & <chr> & <dbl> & <int> & <chr>\\\\\n",
       "\\hline\n",
       "\t1 &  2 &  13 & Customer 63  & Philadelphia & Samsung TV      & Music  &  114.28 & 3 & 2024-12-08\\\\\n",
       "\t2 &  8 &  11 & Customer 60  & Chicago      & Samsung TV      & Music  &  871.93 & 3 & 2024-04-30\\\\\n",
       "\t3 &  9 &  13 & Customer 69  & Houston      & iPhone 14       & Music  & 1347.56 & 8 & 2024-08-08\\\\\n",
       "\t4 & 10 &  55 & Customer 24  & Chicago      & Sony Headphones & Books  &  633.51 & 1 & 2024-06-23\\\\\n",
       "\t5 & 11 & 100 & Customer 95  & Philadelphia & HP Printer      & Movies &  572.43 & 6 & 2024-12-09\\\\\n",
       "\t6 & 14 &  19 & Customer 100 & Phoenix      & Nike Shoes      & Books  &   32.29 & 3 & 2024-12-11\\\\\n",
       "\\end{tabular}\n"
      ],
      "text/markdown": [
       "\n",
       "A data.frame: 6 × 9\n",
       "\n",
       "| <!--/--> | TransactionID &lt;int&gt; | CustomerID &lt;int&gt; | CustomerName &lt;chr&gt; | CustomerCity &lt;chr&gt; | ProductName &lt;chr&gt; | ProductCategory &lt;chr&gt; | TotalAmount &lt;dbl&gt; | Quantity &lt;int&gt; | TransactionDate &lt;chr&gt; |\n",
       "|---|---|---|---|---|---|---|---|---|---|\n",
       "| 1 |  2 |  13 | Customer 63  | Philadelphia | Samsung TV      | Music  |  114.28 | 3 | 2024-12-08 |\n",
       "| 2 |  8 |  11 | Customer 60  | Chicago      | Samsung TV      | Music  |  871.93 | 3 | 2024-04-30 |\n",
       "| 3 |  9 |  13 | Customer 69  | Houston      | iPhone 14       | Music  | 1347.56 | 8 | 2024-08-08 |\n",
       "| 4 | 10 |  55 | Customer 24  | Chicago      | Sony Headphones | Books  |  633.51 | 1 | 2024-06-23 |\n",
       "| 5 | 11 | 100 | Customer 95  | Philadelphia | HP Printer      | Movies |  572.43 | 6 | 2024-12-09 |\n",
       "| 6 | 14 |  19 | Customer 100 | Phoenix      | Nike Shoes      | Books  |   32.29 | 3 | 2024-12-11 |\n",
       "\n"
      ],
      "text/plain": [
       "  TransactionID CustomerID CustomerName CustomerCity ProductName    \n",
       "1  2             13        Customer 63  Philadelphia Samsung TV     \n",
       "2  8             11        Customer 60  Chicago      Samsung TV     \n",
       "3  9             13        Customer 69  Houston      iPhone 14      \n",
       "4 10             55        Customer 24  Chicago      Sony Headphones\n",
       "5 11            100        Customer 95  Philadelphia HP Printer     \n",
       "6 14             19        Customer 100 Phoenix      Nike Shoes     \n",
       "  ProductCategory TotalAmount Quantity TransactionDate\n",
       "1 Music            114.28     3        2024-12-08     \n",
       "2 Music            871.93     3        2024-04-30     \n",
       "3 Music           1347.56     8        2024-08-08     \n",
       "4 Books            633.51     1        2024-06-23     \n",
       "5 Movies           572.43     6        2024-12-09     \n",
       "6 Books             32.29     3        2024-12-11     "
      ]
     },
     "metadata": {},
     "output_type": "display_data"
    }
   ],
   "source": [
    "# Task 3.3: Multiple Condition Filtering (OR)\n",
    "# Filter for ProductCategory = \"Books\" OR \"Music\" OR \"Movies\"\n",
    "\n",
    "entertainment_transactions <- transactions %>%\n",
    "  filter(ProductCategory %in% c(\"Books\", \"Music\", \"Movies\"))\n",
    "\n",
    "\n",
    "# Display results\n",
    "cat(\"Entertainment transactions:\", nrow(entertainment_transactions), \"rows\\n\")\n",
    "if(nrow(entertainment_transactions) > 0) {\n",
    "  head(entertainment_transactions)\n",
    "}"
   ]
  },
  {
   "cell_type": "code",
   "execution_count": 20,
   "id": "301437cf",
   "metadata": {
    "vscode": {
     "languageId": "r"
    }
   },
   "outputs": [
    {
     "name": "stdout",
     "output_type": "stream",
     "text": [
      "March 2024 transactions: 41 rows\n"
     ]
    }
   ],
   "source": [
    "# Task 3.4: Date-Based Filtering\n",
    "# Filter transactions from March 2024\n",
    "# Note: Adjust the date format and column name based on your actual data\n",
    "\n",
    "march_transactions <- transactions %>%\n",
    "    filter(TransactionDate >= as.Date(\"2024-03-01\"), TransactionDate <= as.Date(\"2024-03-31\"))\n",
    "\n",
    "\n",
    "# Display results\n",
    "cat(\"March 2024 transactions:\", nrow(march_transactions), \"rows\\n\")"
   ]
  },
  {
   "cell_type": "code",
   "execution_count": 23,
   "id": "33b63b1c",
   "metadata": {
    "vscode": {
     "languageId": "r"
    }
   },
   "outputs": [
    {
     "name": "stderr",
     "output_type": "stream",
     "text": [
      "\u001b[1m\u001b[22mJoining with `by = join_by(TransactionID, CustomerID, CustomerName,\n",
      "CustomerCity, ProductName, ProductCategory, TotalAmount, Quantity,\n",
      "TransactionDate)`\n"
     ]
    },
    {
     "name": "stdout",
     "output_type": "stream",
     "text": [
      "Customers who bought both Electronics and Clothing: 9 customers\n"
     ]
    }
   ],
   "source": [
    "# Task 3.5: Advanced Filtering Challenge\n",
    "# Find customers who made purchases in both \"Electronics\" AND \"Clothing\" categories\n",
    "# Hint: This requires identifying customers who appear in both categories\n",
    "\n",
    "# Step 1: Find customers who bought Electronics\n",
    "electronics_customers <- transactions %>%\n",
    "  filter(ProductCategory == \"Electronics\")\n",
    "\n",
    "\n",
    "# Step 2: Find customers who bought Clothing\n",
    "clothing_customers <- transactions %>%\n",
    "  filter(ProductCategory == \"Clothing\")\n",
    "\n",
    "\n",
    "# Step 3: Find customers who bought both\n",
    "both_categories_customers <- inner_join(electronics_customers, clothing_customers)\n",
    "\n",
    "\n",
    "# Display results\n",
    "cat(\"Customers who bought both Electronics and Clothing:\", length(both_categories_customers), \"customers\\n\")"
   ]
  },
  {
   "cell_type": "markdown",
   "id": "811d4adb",
   "metadata": {},
   "source": [
    "## Part 4: Data Sorting with `arrange()`\n",
    "\n",
    "Practice sorting data by single and multiple columns."
   ]
  },
  {
   "cell_type": "code",
   "execution_count": 24,
   "id": "92a25956",
   "metadata": {
    "vscode": {
     "languageId": "r"
    }
   },
   "outputs": [
    {
     "name": "stdout",
     "output_type": "stream",
     "text": [
      "Lowest amounts:\n"
     ]
    },
    {
     "data": {
      "text/html": [
       "<table class=\"dataframe\">\n",
       "<caption>A data.frame: 5 × 3</caption>\n",
       "<thead>\n",
       "\t<tr><th></th><th scope=col>CustomerName</th><th scope=col>ProductName</th><th scope=col>TotalAmount</th></tr>\n",
       "\t<tr><th></th><th scope=col>&lt;chr&gt;</th><th scope=col>&lt;chr&gt;</th><th scope=col>&lt;dbl&gt;</th></tr>\n",
       "</thead>\n",
       "<tbody>\n",
       "\t<tr><th scope=row>1</th><td>Customer 95 </td><td>Adidas Jacket</td><td>27.66</td></tr>\n",
       "\t<tr><th scope=row>2</th><td>Customer 100</td><td>Nike Shoes   </td><td>32.29</td></tr>\n",
       "\t<tr><th scope=row>3</th><td>Customer 50 </td><td>Adidas Jacket</td><td>35.01</td></tr>\n",
       "\t<tr><th scope=row>4</th><td>Customer 83 </td><td>Samsung TV   </td><td>36.37</td></tr>\n",
       "\t<tr><th scope=row>5</th><td>Customer 69 </td><td>Dell Laptop  </td><td>37.33</td></tr>\n",
       "</tbody>\n",
       "</table>\n"
      ],
      "text/latex": [
       "A data.frame: 5 × 3\n",
       "\\begin{tabular}{r|lll}\n",
       "  & CustomerName & ProductName & TotalAmount\\\\\n",
       "  & <chr> & <chr> & <dbl>\\\\\n",
       "\\hline\n",
       "\t1 & Customer 95  & Adidas Jacket & 27.66\\\\\n",
       "\t2 & Customer 100 & Nike Shoes    & 32.29\\\\\n",
       "\t3 & Customer 50  & Adidas Jacket & 35.01\\\\\n",
       "\t4 & Customer 83  & Samsung TV    & 36.37\\\\\n",
       "\t5 & Customer 69  & Dell Laptop   & 37.33\\\\\n",
       "\\end{tabular}\n"
      ],
      "text/markdown": [
       "\n",
       "A data.frame: 5 × 3\n",
       "\n",
       "| <!--/--> | CustomerName &lt;chr&gt; | ProductName &lt;chr&gt; | TotalAmount &lt;dbl&gt; |\n",
       "|---|---|---|---|\n",
       "| 1 | Customer 95  | Adidas Jacket | 27.66 |\n",
       "| 2 | Customer 100 | Nike Shoes    | 32.29 |\n",
       "| 3 | Customer 50  | Adidas Jacket | 35.01 |\n",
       "| 4 | Customer 83  | Samsung TV    | 36.37 |\n",
       "| 5 | Customer 69  | Dell Laptop   | 37.33 |\n",
       "\n"
      ],
      "text/plain": [
       "  CustomerName ProductName   TotalAmount\n",
       "1 Customer 95  Adidas Jacket 27.66      \n",
       "2 Customer 100 Nike Shoes    32.29      \n",
       "3 Customer 50  Adidas Jacket 35.01      \n",
       "4 Customer 83  Samsung TV    36.37      \n",
       "5 Customer 69  Dell Laptop   37.33      "
      ]
     },
     "metadata": {},
     "output_type": "display_data"
    },
    {
     "name": "stdout",
     "output_type": "stream",
     "text": [
      "\n",
      "Highest amounts:\n"
     ]
    },
    {
     "data": {
      "text/html": [
       "<table class=\"dataframe\">\n",
       "<caption>A data.frame: 5 × 3</caption>\n",
       "<thead>\n",
       "\t<tr><th></th><th scope=col>CustomerName</th><th scope=col>ProductName</th><th scope=col>TotalAmount</th></tr>\n",
       "\t<tr><th></th><th scope=col>&lt;chr&gt;</th><th scope=col>&lt;chr&gt;</th><th scope=col>&lt;dbl&gt;</th></tr>\n",
       "</thead>\n",
       "<tbody>\n",
       "\t<tr><th scope=row>1</th><td>Customer 60</td><td>Sony Headphones</td><td>1499.52</td></tr>\n",
       "\t<tr><th scope=row>2</th><td>Customer 28</td><td>Dell Laptop    </td><td>1491.96</td></tr>\n",
       "\t<tr><th scope=row>3</th><td>Customer 81</td><td>Sony Headphones</td><td>1491.62</td></tr>\n",
       "\t<tr><th scope=row>4</th><td>Customer 79</td><td>iPhone 14      </td><td>1488.95</td></tr>\n",
       "\t<tr><th scope=row>5</th><td>Customer 20</td><td>HP Printer     </td><td>1487.44</td></tr>\n",
       "</tbody>\n",
       "</table>\n"
      ],
      "text/latex": [
       "A data.frame: 5 × 3\n",
       "\\begin{tabular}{r|lll}\n",
       "  & CustomerName & ProductName & TotalAmount\\\\\n",
       "  & <chr> & <chr> & <dbl>\\\\\n",
       "\\hline\n",
       "\t1 & Customer 60 & Sony Headphones & 1499.52\\\\\n",
       "\t2 & Customer 28 & Dell Laptop     & 1491.96\\\\\n",
       "\t3 & Customer 81 & Sony Headphones & 1491.62\\\\\n",
       "\t4 & Customer 79 & iPhone 14       & 1488.95\\\\\n",
       "\t5 & Customer 20 & HP Printer      & 1487.44\\\\\n",
       "\\end{tabular}\n"
      ],
      "text/markdown": [
       "\n",
       "A data.frame: 5 × 3\n",
       "\n",
       "| <!--/--> | CustomerName &lt;chr&gt; | ProductName &lt;chr&gt; | TotalAmount &lt;dbl&gt; |\n",
       "|---|---|---|---|\n",
       "| 1 | Customer 60 | Sony Headphones | 1499.52 |\n",
       "| 2 | Customer 28 | Dell Laptop     | 1491.96 |\n",
       "| 3 | Customer 81 | Sony Headphones | 1491.62 |\n",
       "| 4 | Customer 79 | iPhone 14       | 1488.95 |\n",
       "| 5 | Customer 20 | HP Printer      | 1487.44 |\n",
       "\n"
      ],
      "text/plain": [
       "  CustomerName ProductName     TotalAmount\n",
       "1 Customer 60  Sony Headphones 1499.52    \n",
       "2 Customer 28  Dell Laptop     1491.96    \n",
       "3 Customer 81  Sony Headphones 1491.62    \n",
       "4 Customer 79  iPhone 14       1488.95    \n",
       "5 Customer 20  HP Printer      1487.44    "
      ]
     },
     "metadata": {},
     "output_type": "display_data"
    }
   ],
   "source": [
    "# Task 4.1: Single Column Sorting\n",
    "\n",
    "# Sort by TotalAmount ascending\n",
    "transactions_by_amount_asc <- transactions %>%\n",
    "  arrange(TotalAmount)\n",
    "\n",
    "\n",
    "# Sort by TotalAmount descending\n",
    "transactions_by_amount_desc <- transactions %>%\n",
    "  arrange(desc(TotalAmount))\n",
    "\n",
    "\n",
    "# Display top 5 of each\n",
    "cat(\"Lowest amounts:\\n\")\n",
    "head(transactions_by_amount_asc %>% select(CustomerName, ProductName, TotalAmount), 5)\n",
    "\n",
    "cat(\"\\nHighest amounts:\\n\")\n",
    "head(transactions_by_amount_desc %>% select(CustomerName, ProductName, TotalAmount), 5)"
   ]
  },
  {
   "cell_type": "code",
   "execution_count": 25,
   "id": "1c2809ad",
   "metadata": {
    "vscode": {
     "languageId": "r"
    }
   },
   "outputs": [
    {
     "name": "stdout",
     "output_type": "stream",
     "text": [
      "Transactions sorted by city, then amount:\n"
     ]
    },
    {
     "data": {
      "text/html": [
       "<table class=\"dataframe\">\n",
       "<caption>A data.frame: 10 × 4</caption>\n",
       "<thead>\n",
       "\t<tr><th></th><th scope=col>CustomerCity</th><th scope=col>CustomerName</th><th scope=col>ProductName</th><th scope=col>TotalAmount</th></tr>\n",
       "\t<tr><th></th><th scope=col>&lt;chr&gt;</th><th scope=col>&lt;chr&gt;</th><th scope=col>&lt;chr&gt;</th><th scope=col>&lt;dbl&gt;</th></tr>\n",
       "</thead>\n",
       "<tbody>\n",
       "\t<tr><th scope=row>1</th><td>Chicago</td><td>Customer 18</td><td>iPhone 14      </td><td>1487.43</td></tr>\n",
       "\t<tr><th scope=row>2</th><td>Chicago</td><td>Customer 20</td><td>HP Printer     </td><td>1476.49</td></tr>\n",
       "\t<tr><th scope=row>3</th><td>Chicago</td><td>Customer 97</td><td>Dell Laptop    </td><td>1459.42</td></tr>\n",
       "\t<tr><th scope=row>4</th><td>Chicago</td><td>Customer 49</td><td>Dell Laptop    </td><td>1453.94</td></tr>\n",
       "\t<tr><th scope=row>5</th><td>Chicago</td><td>Customer 70</td><td>Nike Shoes     </td><td>1428.35</td></tr>\n",
       "\t<tr><th scope=row>6</th><td>Chicago</td><td>Customer 71</td><td>Samsung TV     </td><td>1424.38</td></tr>\n",
       "\t<tr><th scope=row>7</th><td>Chicago</td><td>Customer 62</td><td>Sony Headphones</td><td>1416.35</td></tr>\n",
       "\t<tr><th scope=row>8</th><td>Chicago</td><td>Customer 11</td><td>Nike Shoes     </td><td>1407.51</td></tr>\n",
       "\t<tr><th scope=row>9</th><td>Chicago</td><td>Customer 99</td><td>HP Printer     </td><td>1388.73</td></tr>\n",
       "\t<tr><th scope=row>10</th><td>Chicago</td><td>Customer 49</td><td>Nike Shoes     </td><td>1370.57</td></tr>\n",
       "</tbody>\n",
       "</table>\n"
      ],
      "text/latex": [
       "A data.frame: 10 × 4\n",
       "\\begin{tabular}{r|llll}\n",
       "  & CustomerCity & CustomerName & ProductName & TotalAmount\\\\\n",
       "  & <chr> & <chr> & <chr> & <dbl>\\\\\n",
       "\\hline\n",
       "\t1 & Chicago & Customer 18 & iPhone 14       & 1487.43\\\\\n",
       "\t2 & Chicago & Customer 20 & HP Printer      & 1476.49\\\\\n",
       "\t3 & Chicago & Customer 97 & Dell Laptop     & 1459.42\\\\\n",
       "\t4 & Chicago & Customer 49 & Dell Laptop     & 1453.94\\\\\n",
       "\t5 & Chicago & Customer 70 & Nike Shoes      & 1428.35\\\\\n",
       "\t6 & Chicago & Customer 71 & Samsung TV      & 1424.38\\\\\n",
       "\t7 & Chicago & Customer 62 & Sony Headphones & 1416.35\\\\\n",
       "\t8 & Chicago & Customer 11 & Nike Shoes      & 1407.51\\\\\n",
       "\t9 & Chicago & Customer 99 & HP Printer      & 1388.73\\\\\n",
       "\t10 & Chicago & Customer 49 & Nike Shoes      & 1370.57\\\\\n",
       "\\end{tabular}\n"
      ],
      "text/markdown": [
       "\n",
       "A data.frame: 10 × 4\n",
       "\n",
       "| <!--/--> | CustomerCity &lt;chr&gt; | CustomerName &lt;chr&gt; | ProductName &lt;chr&gt; | TotalAmount &lt;dbl&gt; |\n",
       "|---|---|---|---|---|\n",
       "| 1 | Chicago | Customer 18 | iPhone 14       | 1487.43 |\n",
       "| 2 | Chicago | Customer 20 | HP Printer      | 1476.49 |\n",
       "| 3 | Chicago | Customer 97 | Dell Laptop     | 1459.42 |\n",
       "| 4 | Chicago | Customer 49 | Dell Laptop     | 1453.94 |\n",
       "| 5 | Chicago | Customer 70 | Nike Shoes      | 1428.35 |\n",
       "| 6 | Chicago | Customer 71 | Samsung TV      | 1424.38 |\n",
       "| 7 | Chicago | Customer 62 | Sony Headphones | 1416.35 |\n",
       "| 8 | Chicago | Customer 11 | Nike Shoes      | 1407.51 |\n",
       "| 9 | Chicago | Customer 99 | HP Printer      | 1388.73 |\n",
       "| 10 | Chicago | Customer 49 | Nike Shoes      | 1370.57 |\n",
       "\n"
      ],
      "text/plain": [
       "   CustomerCity CustomerName ProductName     TotalAmount\n",
       "1  Chicago      Customer 18  iPhone 14       1487.43    \n",
       "2  Chicago      Customer 20  HP Printer      1476.49    \n",
       "3  Chicago      Customer 97  Dell Laptop     1459.42    \n",
       "4  Chicago      Customer 49  Dell Laptop     1453.94    \n",
       "5  Chicago      Customer 70  Nike Shoes      1428.35    \n",
       "6  Chicago      Customer 71  Samsung TV      1424.38    \n",
       "7  Chicago      Customer 62  Sony Headphones 1416.35    \n",
       "8  Chicago      Customer 11  Nike Shoes      1407.51    \n",
       "9  Chicago      Customer 99  HP Printer      1388.73    \n",
       "10 Chicago      Customer 49  Nike Shoes      1370.57    "
      ]
     },
     "metadata": {},
     "output_type": "display_data"
    }
   ],
   "source": [
    "# Task 4.2: Multiple Column Sorting\n",
    "# Sort by CustomerCity (ascending), then by TotalAmount (descending)\n",
    "\n",
    "transactions_by_city_amount <- transactions %>%\n",
    "  arrange(CustomerCity, (desc(TotalAmount)))\n",
    "\n",
    "\n",
    "# Display first 10 rows\n",
    "cat(\"Transactions sorted by city, then amount:\\n\")\n",
    "head(transactions_by_city_amount %>% select(CustomerCity, CustomerName, ProductName, TotalAmount), 10)"
   ]
  },
  {
   "cell_type": "code",
   "execution_count": 28,
   "id": "7fb4ec10",
   "metadata": {
    "vscode": {
     "languageId": "r"
    }
   },
   "outputs": [
    {
     "name": "stdout",
     "output_type": "stream",
     "text": [
      "Earliest transactions:\n"
     ]
    },
    {
     "data": {
      "text/html": [
       "<table class=\"dataframe\">\n",
       "<caption>A data.frame: 5 × 4</caption>\n",
       "<thead>\n",
       "\t<tr><th></th><th scope=col>TransactionDate</th><th scope=col>CustomerName</th><th scope=col>ProductName</th><th scope=col>TotalAmount</th></tr>\n",
       "\t<tr><th></th><th scope=col>&lt;chr&gt;</th><th scope=col>&lt;chr&gt;</th><th scope=col>&lt;chr&gt;</th><th scope=col>&lt;dbl&gt;</th></tr>\n",
       "</thead>\n",
       "<tbody>\n",
       "\t<tr><th scope=row>1</th><td>2024-01-01</td><td>Customer 62</td><td>Sony Headphones</td><td>1416.35</td></tr>\n",
       "\t<tr><th scope=row>2</th><td>2024-01-01</td><td>Customer 99</td><td>Sony Headphones</td><td>1326.27</td></tr>\n",
       "\t<tr><th scope=row>3</th><td>2024-01-02</td><td>Customer 83</td><td>Nike Shoes     </td><td> 808.93</td></tr>\n",
       "\t<tr><th scope=row>4</th><td>2024-01-02</td><td>Customer 61</td><td>Adidas Jacket  </td><td> 502.72</td></tr>\n",
       "\t<tr><th scope=row>5</th><td>2024-01-02</td><td>Customer 69</td><td>Adidas Jacket  </td><td> 277.70</td></tr>\n",
       "</tbody>\n",
       "</table>\n"
      ],
      "text/latex": [
       "A data.frame: 5 × 4\n",
       "\\begin{tabular}{r|llll}\n",
       "  & TransactionDate & CustomerName & ProductName & TotalAmount\\\\\n",
       "  & <chr> & <chr> & <chr> & <dbl>\\\\\n",
       "\\hline\n",
       "\t1 & 2024-01-01 & Customer 62 & Sony Headphones & 1416.35\\\\\n",
       "\t2 & 2024-01-01 & Customer 99 & Sony Headphones & 1326.27\\\\\n",
       "\t3 & 2024-01-02 & Customer 83 & Nike Shoes      &  808.93\\\\\n",
       "\t4 & 2024-01-02 & Customer 61 & Adidas Jacket   &  502.72\\\\\n",
       "\t5 & 2024-01-02 & Customer 69 & Adidas Jacket   &  277.70\\\\\n",
       "\\end{tabular}\n"
      ],
      "text/markdown": [
       "\n",
       "A data.frame: 5 × 4\n",
       "\n",
       "| <!--/--> | TransactionDate &lt;chr&gt; | CustomerName &lt;chr&gt; | ProductName &lt;chr&gt; | TotalAmount &lt;dbl&gt; |\n",
       "|---|---|---|---|---|\n",
       "| 1 | 2024-01-01 | Customer 62 | Sony Headphones | 1416.35 |\n",
       "| 2 | 2024-01-01 | Customer 99 | Sony Headphones | 1326.27 |\n",
       "| 3 | 2024-01-02 | Customer 83 | Nike Shoes      |  808.93 |\n",
       "| 4 | 2024-01-02 | Customer 61 | Adidas Jacket   |  502.72 |\n",
       "| 5 | 2024-01-02 | Customer 69 | Adidas Jacket   |  277.70 |\n",
       "\n"
      ],
      "text/plain": [
       "  TransactionDate CustomerName ProductName     TotalAmount\n",
       "1 2024-01-01      Customer 62  Sony Headphones 1416.35    \n",
       "2 2024-01-01      Customer 99  Sony Headphones 1326.27    \n",
       "3 2024-01-02      Customer 83  Nike Shoes       808.93    \n",
       "4 2024-01-02      Customer 61  Adidas Jacket    502.72    \n",
       "5 2024-01-02      Customer 69  Adidas Jacket    277.70    "
      ]
     },
     "metadata": {},
     "output_type": "display_data"
    }
   ],
   "source": [
    "# Task 4.3: Date-Based Sorting\n",
    "# Sort by TransactionDate chronologically (oldest first)\n",
    "\n",
    "transactions_chronological <- transactions %>%\n",
    "  arrange(TransactionDate)\n",
    "\n",
    "\n",
    "# Display first 5 transactions chronologically\n",
    "cat(\"Earliest transactions:\\n\")\n",
    "head(transactions_chronological %>% select(TransactionDate, CustomerName, ProductName, TotalAmount), 5)"
   ]
  },
  {
   "cell_type": "markdown",
   "id": "718aa3c3",
   "metadata": {},
   "source": [
    "## Part 5: Chaining Operations\n",
    "\n",
    "Combine multiple dplyr operations using the pipe operator."
   ]
  },
  {
   "cell_type": "code",
   "execution_count": 31,
   "id": "41086de0",
   "metadata": {
    "vscode": {
     "languageId": "r"
    }
   },
   "outputs": [
    {
     "name": "stdout",
     "output_type": "stream",
     "text": [
      "Premium purchases (>$75):\n"
     ]
    },
    {
     "data": {
      "text/html": [
       "<table class=\"dataframe\">\n",
       "<caption>A data.frame: 10 × 5</caption>\n",
       "<thead>\n",
       "\t<tr><th></th><th scope=col>TransactionDate</th><th scope=col>CustomerName</th><th scope=col>ProductCategory</th><th scope=col>ProductName</th><th scope=col>TotalAmount</th></tr>\n",
       "\t<tr><th></th><th scope=col>&lt;chr&gt;</th><th scope=col>&lt;chr&gt;</th><th scope=col>&lt;chr&gt;</th><th scope=col>&lt;chr&gt;</th><th scope=col>&lt;dbl&gt;</th></tr>\n",
       "</thead>\n",
       "<tbody>\n",
       "\t<tr><th scope=row>1</th><td>2024-03-03</td><td>Customer 60</td><td>Electronics</td><td>Sony Headphones</td><td>1499.52</td></tr>\n",
       "\t<tr><th scope=row>2</th><td>2024-08-15</td><td>Customer 28</td><td>Computers  </td><td>Dell Laptop    </td><td>1491.96</td></tr>\n",
       "\t<tr><th scope=row>3</th><td>2024-10-18</td><td>Customer 81</td><td>Books      </td><td>Sony Headphones</td><td>1491.62</td></tr>\n",
       "\t<tr><th scope=row>4</th><td>2024-10-23</td><td>Customer 79</td><td>Computers  </td><td>iPhone 14      </td><td>1488.95</td></tr>\n",
       "\t<tr><th scope=row>5</th><td>2024-05-02</td><td>Customer 20</td><td>Electronics</td><td>HP Printer     </td><td>1487.44</td></tr>\n",
       "\t<tr><th scope=row>6</th><td>2024-07-15</td><td>Customer 18</td><td>Computers  </td><td>iPhone 14      </td><td>1487.43</td></tr>\n",
       "\t<tr><th scope=row>7</th><td>2024-12-24</td><td>Customer 83</td><td>Movies     </td><td>iPhone 14      </td><td>1484.31</td></tr>\n",
       "\t<tr><th scope=row>8</th><td>2024-05-29</td><td>Customer 20</td><td>Electronics</td><td>HP Printer     </td><td>1476.49</td></tr>\n",
       "\t<tr><th scope=row>9</th><td>2024-04-14</td><td>Customer 10</td><td>Books      </td><td>Dell Laptop    </td><td>1473.27</td></tr>\n",
       "\t<tr><th scope=row>10</th><td>2024-11-16</td><td>Customer 14</td><td>Computers  </td><td>iPhone 14      </td><td>1471.59</td></tr>\n",
       "</tbody>\n",
       "</table>\n"
      ],
      "text/latex": [
       "A data.frame: 10 × 5\n",
       "\\begin{tabular}{r|lllll}\n",
       "  & TransactionDate & CustomerName & ProductCategory & ProductName & TotalAmount\\\\\n",
       "  & <chr> & <chr> & <chr> & <chr> & <dbl>\\\\\n",
       "\\hline\n",
       "\t1 & 2024-03-03 & Customer 60 & Electronics & Sony Headphones & 1499.52\\\\\n",
       "\t2 & 2024-08-15 & Customer 28 & Computers   & Dell Laptop     & 1491.96\\\\\n",
       "\t3 & 2024-10-18 & Customer 81 & Books       & Sony Headphones & 1491.62\\\\\n",
       "\t4 & 2024-10-23 & Customer 79 & Computers   & iPhone 14       & 1488.95\\\\\n",
       "\t5 & 2024-05-02 & Customer 20 & Electronics & HP Printer      & 1487.44\\\\\n",
       "\t6 & 2024-07-15 & Customer 18 & Computers   & iPhone 14       & 1487.43\\\\\n",
       "\t7 & 2024-12-24 & Customer 83 & Movies      & iPhone 14       & 1484.31\\\\\n",
       "\t8 & 2024-05-29 & Customer 20 & Electronics & HP Printer      & 1476.49\\\\\n",
       "\t9 & 2024-04-14 & Customer 10 & Books       & Dell Laptop     & 1473.27\\\\\n",
       "\t10 & 2024-11-16 & Customer 14 & Computers   & iPhone 14       & 1471.59\\\\\n",
       "\\end{tabular}\n"
      ],
      "text/markdown": [
       "\n",
       "A data.frame: 10 × 5\n",
       "\n",
       "| <!--/--> | TransactionDate &lt;chr&gt; | CustomerName &lt;chr&gt; | ProductCategory &lt;chr&gt; | ProductName &lt;chr&gt; | TotalAmount &lt;dbl&gt; |\n",
       "|---|---|---|---|---|---|\n",
       "| 1 | 2024-03-03 | Customer 60 | Electronics | Sony Headphones | 1499.52 |\n",
       "| 2 | 2024-08-15 | Customer 28 | Computers   | Dell Laptop     | 1491.96 |\n",
       "| 3 | 2024-10-18 | Customer 81 | Books       | Sony Headphones | 1491.62 |\n",
       "| 4 | 2024-10-23 | Customer 79 | Computers   | iPhone 14       | 1488.95 |\n",
       "| 5 | 2024-05-02 | Customer 20 | Electronics | HP Printer      | 1487.44 |\n",
       "| 6 | 2024-07-15 | Customer 18 | Computers   | iPhone 14       | 1487.43 |\n",
       "| 7 | 2024-12-24 | Customer 83 | Movies      | iPhone 14       | 1484.31 |\n",
       "| 8 | 2024-05-29 | Customer 20 | Electronics | HP Printer      | 1476.49 |\n",
       "| 9 | 2024-04-14 | Customer 10 | Books       | Dell Laptop     | 1473.27 |\n",
       "| 10 | 2024-11-16 | Customer 14 | Computers   | iPhone 14       | 1471.59 |\n",
       "\n"
      ],
      "text/plain": [
       "   TransactionDate CustomerName ProductCategory ProductName     TotalAmount\n",
       "1  2024-03-03      Customer 60  Electronics     Sony Headphones 1499.52    \n",
       "2  2024-08-15      Customer 28  Computers       Dell Laptop     1491.96    \n",
       "3  2024-10-18      Customer 81  Books           Sony Headphones 1491.62    \n",
       "4  2024-10-23      Customer 79  Computers       iPhone 14       1488.95    \n",
       "5  2024-05-02      Customer 20  Electronics     HP Printer      1487.44    \n",
       "6  2024-07-15      Customer 18  Computers       iPhone 14       1487.43    \n",
       "7  2024-12-24      Customer 83  Movies          iPhone 14       1484.31    \n",
       "8  2024-05-29      Customer 20  Electronics     HP Printer      1476.49    \n",
       "9  2024-04-14      Customer 10  Books           Dell Laptop     1473.27    \n",
       "10 2024-11-16      Customer 14  Computers       iPhone 14       1471.59    "
      ]
     },
     "metadata": {},
     "output_type": "display_data"
    }
   ],
   "source": [
    "# Task 5.1: Simple Chain\n",
    "# Filter TotalAmount > $75, select specific columns, arrange by TotalAmount descending\n",
    "\n",
    "premium_purchases <- transactions %>%\n",
    "  filter(TotalAmount > 75) %>%\n",
    "  select(TransactionDate, CustomerName, ProductCategory, ProductName, TotalAmount) %>%\n",
    "  arrange(desc(TotalAmount))\n",
    "\n",
    "\n",
    "# Display results\n",
    "cat(\"Premium purchases (>$75):\\n\")\n",
    "head(premium_purchases, 10)"
   ]
  },
  {
   "cell_type": "code",
   "execution_count": 32,
   "id": "823cda0b",
   "metadata": {
    "vscode": {
     "languageId": "r"
    }
   },
   "outputs": [
    {
     "name": "stdout",
     "output_type": "stream",
     "text": [
      "Recent tech purchases (top 20):\n",
      "   TransactionDate TotalAmount CustomerName ProductCategory     ProductName\n",
      "1       2024-01-01     1326.27  Customer 99     Electronics Sony Headphones\n",
      "2       2024-01-01     1416.35  Customer 62     Electronics Sony Headphones\n",
      "3       2024-01-02      277.70  Customer 69     Electronics   Adidas Jacket\n",
      "4       2024-01-03      463.25   Customer 2     Electronics      HP Printer\n",
      "5       2024-01-08      185.86  Customer 56       Computers      HP Printer\n",
      "6       2024-01-08      462.73  Customer 76       Computers Sony Headphones\n",
      "7       2024-01-12      997.09  Customer 76       Computers Sony Headphones\n",
      "8       2024-01-14       96.83  Customer 98     Electronics     Dell Laptop\n",
      "9       2024-01-16      216.36  Customer 44     Electronics   Adidas Jacket\n",
      "10      2024-01-16     1011.00  Customer 28       Computers   Adidas Jacket\n",
      "11      2024-01-17      584.87   Customer 1     Electronics Sony Headphones\n",
      "12      2024-01-18     1136.57  Customer 42       Computers       iPhone 14\n",
      "13      2024-01-21     1295.11  Customer 18     Electronics Sony Headphones\n",
      "14      2024-01-21     1296.63  Customer 54     Electronics Sony Headphones\n",
      "15      2024-01-22     1289.24  Customer 98       Computers   Adidas Jacket\n",
      "16      2024-01-25     1025.02   Customer 6     Electronics      HP Printer\n",
      "17      2024-01-27      728.18  Customer 44     Electronics      Samsung TV\n",
      "18      2024-01-28      491.01  Customer 93       Computers      Nike Shoes\n",
      "19      2024-01-30      897.63  Customer 50       Computers      HP Printer\n",
      "20      2024-02-02      887.00   Customer 3       Computers Sony Headphones\n"
     ]
    }
   ],
   "source": [
    "# Task 5.2: Complex Chain\n",
    "# Filter for Electronics/Computers, select columns, arrange by date/amount, keep top 20\n",
    "\n",
    "recent_tech_purchases <- transactions %>%\n",
    "  filter(ProductCategory %in% c(\"Electronics\", \"Computers\")) %>%\n",
    "  select(TransactionDate, TotalAmount, CustomerName, ProductCategory, ProductName) %>%\n",
    "  arrange(TransactionDate, TotalAmount) %>%\n",
    "  head(20)\n",
    "\n",
    "\n",
    "\n",
    "# Display results\n",
    "cat(\"Recent tech purchases (top 20):\\n\")\n",
    "print(recent_tech_purchases)"
   ]
  },
  {
   "cell_type": "code",
   "execution_count": 35,
   "id": "73d00b01",
   "metadata": {
    "vscode": {
     "languageId": "r"
    }
   },
   "outputs": [
    {
     "name": "stdout",
     "output_type": "stream",
     "text": [
      "High-value customers:\n"
     ]
    },
    {
     "data": {
      "text/html": [
       "<table class=\"dataframe\">\n",
       "<caption>A data.frame: 15 × 4</caption>\n",
       "<thead>\n",
       "\t<tr><th></th><th scope=col>CustomerName</th><th scope=col>TotalAmount</th><th scope=col>ProductCategory</th><th scope=col>TransactionDate</th></tr>\n",
       "\t<tr><th></th><th scope=col>&lt;chr&gt;</th><th scope=col>&lt;dbl&gt;</th><th scope=col>&lt;chr&gt;</th><th scope=col>&lt;chr&gt;</th></tr>\n",
       "</thead>\n",
       "<tbody>\n",
       "\t<tr><th scope=row>1</th><td>Customer 1  </td><td> 584.87</td><td>Electronics</td><td>2024-01-17</td></tr>\n",
       "\t<tr><th scope=row>2</th><td>Customer 1  </td><td> 259.44</td><td>Music      </td><td>2024-04-27</td></tr>\n",
       "\t<tr><th scope=row>3</th><td>Customer 1  </td><td> 834.08</td><td>Computers  </td><td>2024-07-24</td></tr>\n",
       "\t<tr><th scope=row>4</th><td>Customer 1  </td><td>1132.28</td><td>Movies     </td><td>2024-10-02</td></tr>\n",
       "\t<tr><th scope=row>5</th><td>Customer 1  </td><td> 347.76</td><td>Books      </td><td>2024-11-05</td></tr>\n",
       "\t<tr><th scope=row>6</th><td>Customer 1  </td><td>1075.90</td><td>Movies     </td><td>2024-12-21</td></tr>\n",
       "\t<tr><th scope=row>7</th><td>Customer 1  </td><td>1004.78</td><td>Clothing   </td><td>2024-12-22</td></tr>\n",
       "\t<tr><th scope=row>8</th><td>Customer 10 </td><td> 488.05</td><td>Electronics</td><td>2024-02-12</td></tr>\n",
       "\t<tr><th scope=row>9</th><td>Customer 10 </td><td>1473.27</td><td>Books      </td><td>2024-04-14</td></tr>\n",
       "\t<tr><th scope=row>10</th><td>Customer 10 </td><td> 769.09</td><td>Clothing   </td><td>2024-09-18</td></tr>\n",
       "\t<tr><th scope=row>11</th><td>Customer 100</td><td> 486.77</td><td>Electronics</td><td>2024-05-09</td></tr>\n",
       "\t<tr><th scope=row>12</th><td>Customer 100</td><td> 312.11</td><td>Electronics</td><td>2024-07-21</td></tr>\n",
       "\t<tr><th scope=row>13</th><td>Customer 11 </td><td> 931.78</td><td>Clothing   </td><td>2024-02-21</td></tr>\n",
       "\t<tr><th scope=row>14</th><td>Customer 11 </td><td> 220.97</td><td>Clothing   </td><td>2024-05-07</td></tr>\n",
       "\t<tr><th scope=row>15</th><td>Customer 11 </td><td> 521.01</td><td>Books      </td><td>2024-07-02</td></tr>\n",
       "</tbody>\n",
       "</table>\n"
      ],
      "text/latex": [
       "A data.frame: 15 × 4\n",
       "\\begin{tabular}{r|llll}\n",
       "  & CustomerName & TotalAmount & ProductCategory & TransactionDate\\\\\n",
       "  & <chr> & <dbl> & <chr> & <chr>\\\\\n",
       "\\hline\n",
       "\t1 & Customer 1   &  584.87 & Electronics & 2024-01-17\\\\\n",
       "\t2 & Customer 1   &  259.44 & Music       & 2024-04-27\\\\\n",
       "\t3 & Customer 1   &  834.08 & Computers   & 2024-07-24\\\\\n",
       "\t4 & Customer 1   & 1132.28 & Movies      & 2024-10-02\\\\\n",
       "\t5 & Customer 1   &  347.76 & Books       & 2024-11-05\\\\\n",
       "\t6 & Customer 1   & 1075.90 & Movies      & 2024-12-21\\\\\n",
       "\t7 & Customer 1   & 1004.78 & Clothing    & 2024-12-22\\\\\n",
       "\t8 & Customer 10  &  488.05 & Electronics & 2024-02-12\\\\\n",
       "\t9 & Customer 10  & 1473.27 & Books       & 2024-04-14\\\\\n",
       "\t10 & Customer 10  &  769.09 & Clothing    & 2024-09-18\\\\\n",
       "\t11 & Customer 100 &  486.77 & Electronics & 2024-05-09\\\\\n",
       "\t12 & Customer 100 &  312.11 & Electronics & 2024-07-21\\\\\n",
       "\t13 & Customer 11  &  931.78 & Clothing    & 2024-02-21\\\\\n",
       "\t14 & Customer 11  &  220.97 & Clothing    & 2024-05-07\\\\\n",
       "\t15 & Customer 11  &  521.01 & Books       & 2024-07-02\\\\\n",
       "\\end{tabular}\n"
      ],
      "text/markdown": [
       "\n",
       "A data.frame: 15 × 4\n",
       "\n",
       "| <!--/--> | CustomerName &lt;chr&gt; | TotalAmount &lt;dbl&gt; | ProductCategory &lt;chr&gt; | TransactionDate &lt;chr&gt; |\n",
       "|---|---|---|---|---|\n",
       "| 1 | Customer 1   |  584.87 | Electronics | 2024-01-17 |\n",
       "| 2 | Customer 1   |  259.44 | Music       | 2024-04-27 |\n",
       "| 3 | Customer 1   |  834.08 | Computers   | 2024-07-24 |\n",
       "| 4 | Customer 1   | 1132.28 | Movies      | 2024-10-02 |\n",
       "| 5 | Customer 1   |  347.76 | Books       | 2024-11-05 |\n",
       "| 6 | Customer 1   | 1075.90 | Movies      | 2024-12-21 |\n",
       "| 7 | Customer 1   | 1004.78 | Clothing    | 2024-12-22 |\n",
       "| 8 | Customer 10  |  488.05 | Electronics | 2024-02-12 |\n",
       "| 9 | Customer 10  | 1473.27 | Books       | 2024-04-14 |\n",
       "| 10 | Customer 10  |  769.09 | Clothing    | 2024-09-18 |\n",
       "| 11 | Customer 100 |  486.77 | Electronics | 2024-05-09 |\n",
       "| 12 | Customer 100 |  312.11 | Electronics | 2024-07-21 |\n",
       "| 13 | Customer 11  |  931.78 | Clothing    | 2024-02-21 |\n",
       "| 14 | Customer 11  |  220.97 | Clothing    | 2024-05-07 |\n",
       "| 15 | Customer 11  |  521.01 | Books       | 2024-07-02 |\n",
       "\n"
      ],
      "text/plain": [
       "   CustomerName TotalAmount ProductCategory TransactionDate\n",
       "1  Customer 1    584.87     Electronics     2024-01-17     \n",
       "2  Customer 1    259.44     Music           2024-04-27     \n",
       "3  Customer 1    834.08     Computers       2024-07-24     \n",
       "4  Customer 1   1132.28     Movies          2024-10-02     \n",
       "5  Customer 1    347.76     Books           2024-11-05     \n",
       "6  Customer 1   1075.90     Movies          2024-12-21     \n",
       "7  Customer 1   1004.78     Clothing        2024-12-22     \n",
       "8  Customer 10   488.05     Electronics     2024-02-12     \n",
       "9  Customer 10  1473.27     Books           2024-04-14     \n",
       "10 Customer 10   769.09     Clothing        2024-09-18     \n",
       "11 Customer 100  486.77     Electronics     2024-05-09     \n",
       "12 Customer 100  312.11     Electronics     2024-07-21     \n",
       "13 Customer 11   931.78     Clothing        2024-02-21     \n",
       "14 Customer 11   220.97     Clothing        2024-05-07     \n",
       "15 Customer 11   521.01     Books           2024-07-02     "
      ]
     },
     "metadata": {},
     "output_type": "display_data"
    }
   ],
   "source": [
    "# Task 5.3: Business Intelligence Chain\n",
    "# Identify high-value repeat customers (TotalAmount > $200)\n",
    "\n",
    "high_value_customers <- transactions %>%\n",
    "  filter(TotalAmount > 200) %>%\n",
    "  select(CustomerName, TotalAmount, ProductCategory, TransactionDate) %>%\n",
    "  arrange(CustomerName, TransactionDate)\n",
    "\n",
    "\n",
    "# Display results\n",
    "cat(\"High-value customers:\\n\")\n",
    "head(high_value_customers, 15)"
   ]
  },
  {
   "cell_type": "markdown",
   "id": "50978714",
   "metadata": {},
   "source": [
    "## Part 6: Data Analysis Questions\n",
    "\n",
    "Answer the following questions using the datasets you've created."
   ]
  },
  {
   "cell_type": "code",
   "execution_count": 36,
   "id": "be6e8562",
   "metadata": {
    "vscode": {
     "languageId": "r"
    }
   },
   "outputs": [
    {
     "name": "stdout",
     "output_type": "stream",
     "text": [
      "Transaction counts by dataset:\n",
      "High value transactions: 470 \n",
      "Electronics transactions: 93 \n",
      "NY bulk purchases: 90 \n",
      "Entertainment transactions: 227 \n",
      "March transactions: 41 \n",
      "Premium purchases: 483 \n",
      "Recent tech purchases: 20 \n"
     ]
    },
    {
     "name": "stdout",
     "output_type": "stream",
     "text": [
      "High value customers: 434 \n"
     ]
    }
   ],
   "source": [
    "# Question 6.1: Transaction Volume\n",
    "# Count transactions in each filtered dataset\n",
    "\n",
    "cat(\"Transaction counts by dataset:\\n\")\n",
    "cat(\"High value transactions:\", nrow(high_value_transactions), \"\\n\")\n",
    "cat(\"Electronics transactions:\", nrow(electronics_transactions), \"\\n\")\n",
    "cat(\"NY bulk purchases:\", nrow(ny_bulk_purchases), \"\\n\")\n",
    "cat(\"Entertainment transactions:\", nrow(entertainment_transactions), \"\\n\")\n",
    "cat(\"March transactions:\", nrow(march_transactions), \"\\n\")\n",
    "cat(\"Premium purchases:\", nrow(premium_purchases), \"\\n\")\n",
    "cat(\"Recent tech purchases:\", nrow(recent_tech_purchases), \"\\n\")\n",
    "cat(\"High value customers:\", nrow(high_value_customers), \"\\n\")"
   ]
  },
  {
   "cell_type": "code",
   "execution_count": 42,
   "id": "35190921",
   "metadata": {
    "vscode": {
     "languageId": "r"
    }
   },
   "outputs": [
    {
     "name": "stdout",
     "output_type": "stream",
     "text": [
      "Most frequent high-value customer:\n",
      "   high_value_customers$CustomerName  n\n",
      "1                         Customer 1  7\n",
      "2                        Customer 10  3\n",
      "3                       Customer 100  2\n",
      "4                        Customer 11  8\n",
      "5                        Customer 12  3\n",
      "6                        Customer 13  5\n",
      "7                        Customer 14  4\n",
      "8                        Customer 15  6\n",
      "9                        Customer 16  4\n",
      "10                       Customer 17  5\n",
      "11                       Customer 18 12\n",
      "12                       Customer 19  1\n",
      "13                        Customer 2  3\n",
      "14                       Customer 20  7\n",
      "15                       Customer 21  6\n",
      "16                       Customer 22  4\n",
      "17                       Customer 23  6\n",
      "18                       Customer 24  4\n",
      "19                       Customer 25 10\n",
      "20                       Customer 26  5\n",
      "21                       Customer 27  5\n",
      "22                       Customer 28  3\n",
      "23                       Customer 29  4\n",
      "24                        Customer 3  4\n",
      "25                       Customer 30  5\n",
      "26                       Customer 31  3\n",
      "27                       Customer 32  5\n",
      "28                       Customer 33  4\n",
      "29                       Customer 35  2\n",
      "30                       Customer 36  2\n",
      "31                       Customer 37  5\n",
      "32                       Customer 38  3\n",
      "33                       Customer 39  6\n",
      "34                        Customer 4  5\n",
      "35                       Customer 40  4\n",
      "36                       Customer 41  3\n",
      "37                       Customer 42  3\n",
      "38                       Customer 43  5\n",
      "39                       Customer 44  6\n",
      "40                       Customer 45  4\n",
      "41                       Customer 46  5\n",
      "42                       Customer 47  7\n",
      "43                       Customer 48  4\n",
      "44                       Customer 49  6\n",
      "45                        Customer 5  3\n",
      "46                       Customer 50  5\n",
      "47                       Customer 51  4\n",
      "48                       Customer 52  3\n",
      "49                       Customer 53  8\n",
      "50                       Customer 54  6\n",
      "51                       Customer 55  1\n",
      "52                       Customer 56  3\n",
      "53                       Customer 57  4\n",
      "54                       Customer 58  3\n",
      "55                       Customer 59  4\n",
      "56                        Customer 6  6\n",
      "57                       Customer 60  4\n",
      "58                       Customer 61  3\n",
      "59                       Customer 62  3\n",
      "60                       Customer 63  4\n",
      "61                       Customer 64  4\n",
      "62                       Customer 65  4\n",
      "63                       Customer 66  3\n",
      "64                       Customer 67  2\n",
      "65                       Customer 68  4\n",
      "66                       Customer 69  5\n",
      "67                        Customer 7  1\n",
      "68                       Customer 70  4\n",
      "69                       Customer 71  6\n",
      "70                       Customer 72  3\n",
      "71                       Customer 73  4\n",
      "72                       Customer 74  7\n",
      "73                       Customer 75  6\n",
      "74                       Customer 76  7\n",
      "75                       Customer 77  2\n",
      "76                       Customer 78  2\n",
      "77                       Customer 79  2\n",
      "78                        Customer 8  3\n",
      "79                       Customer 80  3\n",
      "80                       Customer 81  5\n",
      "81                       Customer 82  4\n",
      "82                       Customer 83  6\n",
      "83                       Customer 84  3\n",
      "84                       Customer 85  5\n",
      "85                       Customer 87 10\n",
      "86                       Customer 88  3\n",
      "87                       Customer 89  1\n",
      "88                        Customer 9  4\n",
      "89                       Customer 90  5\n",
      "90                       Customer 91  6\n",
      "91                       Customer 92  7\n",
      "92                       Customer 93  2\n",
      "93                       Customer 94  7\n",
      "94                       Customer 95  3\n",
      "95                       Customer 96  3\n",
      "96                       Customer 97  2\n",
      "97                       Customer 98  8\n",
      "98                       Customer 99  6\n"
     ]
    }
   ],
   "source": [
    "# Question 6.2: Top Customers\n",
    "# Find the customer who appears most frequently in high_value_customers\n",
    "\n",
    "if(nrow(high_value_customers) > 0) {\n",
    "  customer_frequency <- high_value_customers %>%\n",
    "    count(high_value_customers$CustomerName)\n",
    "  \n",
    "  \n",
    "  cat(\"Most frequent high-value customer:\\n\")\n",
    "  print(customer_frequency)\n",
    "} else {\n",
    "  cat(\"No high-value customers found\\n\")\n",
    "}"
   ]
  },
  {
   "cell_type": "code",
   "execution_count": 45,
   "id": "3c932cbb",
   "metadata": {
    "vscode": {
     "languageId": "r"
    }
   },
   "outputs": [
    {
     "name": "stdout",
     "output_type": "stream",
     "text": [
      "Top 5 most expensive entertainment transactions:\n",
      "  TotalAmount Quantity CustomerName ProductCategory TransactionDate\n",
      "1     1491.62        3  Customer 81           Books      2024-10-18\n",
      "2     1484.31        3  Customer 83          Movies      2024-12-24\n",
      "3     1473.27        1  Customer 10           Books      2024-04-14\n",
      "4     1459.42        3  Customer 97           Books      2024-10-28\n",
      "5     1456.72        2  Customer 47           Books      2024-02-02\n"
     ]
    }
   ],
   "source": [
    "# Question 6.3: Product Analysis\n",
    "# Find top 5 most expensive transactions in entertainment_transactions\n",
    "\n",
    "if(nrow(entertainment_transactions) > 0) {\n",
    "  top_entertainment <- entertainment_transactions %>%\n",
    "    arrange(desc(TotalAmount)) %>%\n",
    "    select(TotalAmount, Quantity, CustomerName, ProductCategory, TransactionDate) %>%\n",
    "    head(5)\n",
    "\n",
    "  \n",
    "  \n",
    "  cat(\"Top 5 most expensive entertainment transactions:\\n\")\n",
    "  print(top_entertainment)\n",
    "} else {\n",
    "  cat(\"No entertainment transactions found\\n\")\n",
    "}"
   ]
  },
  {
   "cell_type": "code",
   "execution_count": 48,
   "id": "7b46473f",
   "metadata": {
    "vscode": {
     "languageId": "r"
    }
   },
   "outputs": [
    {
     "name": "stdout",
     "output_type": "stream",
     "text": [
      "City with highest single transaction:\n",
      "  CustomerCity TotalAmount CustomerName ProductCategory TransactionDate\n",
      "1     New York     1499.52  Customer 60     Electronics      2024-03-03\n"
     ]
    }
   ],
   "source": [
    "# Question 6.4: Geographic Analysis\n",
    "# Find the city with the highest single transaction amount\n",
    "\n",
    "highest_transaction_by_city <- transactions_by_city_amount %>%\n",
    "  arrange(desc(TotalAmount)) %>%\n",
    "  select(CustomerCity, TotalAmount, CustomerName, ProductCategory, TransactionDate) %>%\n",
    "  head(1)\n",
    "\n",
    "\n",
    "cat(\"City with highest single transaction:\\n\")\n",
    "print(highest_transaction_by_city)"
   ]
  },
  {
   "cell_type": "markdown",
   "id": "82d2dc35",
   "metadata": {},
   "source": [
    "## Part 7: Reflection Questions\n",
    "\n",
    "Please answer the following questions in the markdown cells below."
   ]
  },
  {
   "cell_type": "markdown",
   "id": "f2ea2958",
   "metadata": {},
   "source": [
    "### Question 7.1: Pipe Operator Benefits\n",
    "\n",
    "**How does using the pipe operator (`%>%`) improve code readability compared to nested function calls? Provide a specific example from your homework.**\n",
    "\n",
    "Your answer here: In task 5.2 Complex Chain, there was a lot of filtering, arranging, and selecting columns If I had to write that out in one line. It would have gotten out of hand really quickly. I made a typo mistake while writing that code, and it was a lot easier to find using the pipe operator. If I had to look at one line of code. It would not have been very fun to find it. In short it helps me and whoever comes after me to read the code easier and understand whats going on.\n"
   ]
  },
  {
   "cell_type": "markdown",
   "id": "af3d8c62",
   "metadata": {},
   "source": [
    "### Question 7.2: Filtering Strategy\n",
    "\n",
    "**When filtering data for business analysis, what are the trade-offs between being very specific (many conditions) versus being more general (fewer conditions)? How might this affect your insights?**\n",
    "\n",
    "Your answer here: It all depends on what I am trying to accomplish. If I narrow the data too much. There is a good chance I may miss out on key data or patterns somewhere else; however, that also doesn't mean to use all the data and cluttering everything up. I think its important to plan out before hand what the scope of the analysis is and what should be included or excluded. \n"
   ]
  },
  {
   "cell_type": "markdown",
   "id": "54c0b062",
   "metadata": {},
   "source": [
    "### Question 7.3: Sorting Importance\n",
    "\n",
    "**Why is data sorting important in business analytics? Provide three specific business scenarios where sorting data would be crucial for decision-making.**\n",
    "\n",
    "Your answer here:\n",
    "\n",
    "1. Sorting transaction dates by ascending and counting the amount of transactions. Might help a grocery store find out their busiest times of the month, and if its a recurring theme through out the months. It would help ensure store is properly stocked.\n",
    "2. A company looking for their top 5 most sold products, sales employee, cities, or customers.\n",
    "3. A company looking to find their top operational expenses either though the years, or their biggest investment into an area."
   ]
  },
  {
   "cell_type": "markdown",
   "id": "625c2ea3",
   "metadata": {},
   "source": [
    "### Question 7.4: Real-World Application\n",
    "\n",
    "**Describe a real business scenario where you might need to combine `select()`, `filter()`, and `arrange()` operations. What insights would you be trying to gain?**\n",
    "\n",
    "Your answer here: A company is looking to find out what the top operation expenses are for the year at different areas/cities that are at least 500$. I would select OpExpenseCategories, OpExpenseSubCategories, ExpenseAmount, City, LocationNameID, TransactionID, and TransactionDate. I would filter the ExpenseAmount to be greater than $500. Then I would arrange the data to be TransactionDate ascending, ExpenseAmount Ascending, City Ascending, LocationNameID ascending. This should help to find the bigger expenses neatly and see what each city to location lowest to biggest expenses are.\n"
   ]
  },
  {
   "cell_type": "markdown",
   "id": "6142c3f6",
   "metadata": {},
   "source": [
    "## Summary and Submission\n",
    "\n",
    "### What You've Learned\n",
    "\n",
    "In this homework, you've practiced:\n",
    "- Using `select()` for column selection with various methods\n",
    "- Using `filter()` for row filtering with single and multiple conditions\n",
    "- Using `arrange()` for sorting data by single and multiple columns\n",
    "- Chaining operations with the pipe operator (`%>%`)\n",
    "- Analyzing business data to generate insights\n",
    "\n",
    "### Submission Checklist\n",
    "\n",
    "Before submitting, ensure you have:\n",
    "- [ ] Completed all code tasks\n",
    "- [ ] Run all cells successfully\n",
    "- [ ] Answered all reflection questions\n",
    "- [ ] Used proper commenting in your code\n",
    "- [ ] Used the pipe operator where appropriate\n",
    "- [ ] Verified your results make sense\n",
    "\n",
    "### Next Steps\n",
    "\n",
    "In the next lesson, you'll learn about:\n",
    "- `mutate()` for creating new columns\n",
    "- `summarize()` for calculating summary statistics\n",
    "- `group_by()` for grouped operations\n",
    "- Advanced data transformation techniques"
   ]
  },
  {
   "cell_type": "markdown",
   "id": "90f27c09",
   "metadata": {},
   "source": [
    "\n",
    "🚀 Ready to Submit?\n",
    "Easy Submission Steps (No Command Line Required!):\n",
    "Save this notebook (Ctrl+S or File → Save)\n",
    "\n",
    "Use VS Code Source Control:\n",
    "\n",
    "Click the Source Control icon in the left sidebar (tree branch symbol)\n",
    "Click the \"+\" button next to your notebook file\n",
    "Type a message: Submit homework 1 - [Your Name]\n",
    "Click \"Commit\"\n",
    "Click \"Sync Changes\" or \"Push\"\n",
    "Verify on GitHub: Go to your repository online and confirm your notebook appears with your completed work\n",
    "\n",
    "📖 Need help? See GITHUB_CLASSROOM_SUBMISSION.md for detailed instructions.\n",
    "\n"
   ]
  }
 ],
 "metadata": {
  "kernelspec": {
   "display_name": "R",
   "language": "R",
   "name": "ir"
  },
  "language_info": {
   "codemirror_mode": "r",
   "file_extension": ".r",
   "mimetype": "text/x-r-source",
   "name": "R",
   "pygments_lexer": "r",
   "version": "4.4.3"
  }
 },
 "nbformat": 4,
 "nbformat_minor": 5
}
