{
 "cells": [
  {
   "cell_type": "markdown",
   "id": "0628f0f4",
   "metadata": {},
   "source": [
    "# Homework Assignment - Lesson 1: Introduction to R\n",
    "\n",
    "**Student Name:** Ramiro Cavazos  \n",
    "**Date:** September 2, 2025  \n",
    "**Course:** Data Management  \n",
    "\n",
    "---\n",
    "\n",
    "## Instructions\n",
    "\n",
    "Complete all the tasks below by adding your R code in the code cells and your written responses in markdown cells. Make sure to run all cells to show your output.\n",
    "\n",
    "**📋 SUBMISSION**: When you're done, see [GITHUB_CLASSROOM_SUBMISSION.md](../../GITHUB_CLASSROOM_SUBMISSION.md) for complete submission instructions.\n",
    "\n",
    "---"
   ]
  },
  {
   "cell_type": "markdown",
   "id": "2c9d18a6",
   "metadata": {},
   "source": [
    "## Part 1: Setting Up Your Environment and Importing Data"
   ]
  },
  {
   "cell_type": "markdown",
   "id": "dc395004",
   "metadata": {},
   "source": [
    "### 1.1 Working Directory\n",
    "\n",
    "Check your current working directory using `getwd()`. You should be in the main repository folder."
   ]
  },
  {
   "cell_type": "code",
   "execution_count": 1,
   "id": "aa15a71d",
   "metadata": {
    "vscode": {
     "languageId": "r"
    }
   },
   "outputs": [
    {
     "data": {
      "text/html": [
       "'/workspaces/assignment-1-therocketter5/assignment/Homework'"
      ],
      "text/latex": [
       "'/workspaces/assignment-1-therocketter5/assignment/Homework'"
      ],
      "text/markdown": [
       "'/workspaces/assignment-1-therocketter5/assignment/Homework'"
      ],
      "text/plain": [
       "[1] \"/workspaces/assignment-1-therocketter5/assignment/Homework\""
      ]
     },
     "metadata": {},
     "output_type": "display_data"
    }
   ],
   "source": [
    "# Check current working directory\n",
    "getwd()"
   ]
  },
  {
   "cell_type": "markdown",
   "id": "c81d5c79",
   "metadata": {},
   "source": []
  },
  {
   "cell_type": "markdown",
   "id": "2096d578",
   "metadata": {},
   "source": [
    "### 1.2 Package Loading\n",
    "\n",
    "Load the required packages: `tidyverse` and `readxl`"
   ]
  },
  {
   "cell_type": "code",
   "execution_count": 2,
   "id": "f92518c5",
   "metadata": {
    "vscode": {
     "languageId": "r"
    }
   },
   "outputs": [
    {
     "name": "stderr",
     "output_type": "stream",
     "text": [
      "── \u001b[1mAttaching core tidyverse packages\u001b[22m ──────────────────────── tidyverse 2.0.0 ──\n",
      "\u001b[32m✔\u001b[39m \u001b[34mdplyr    \u001b[39m 1.1.4     \u001b[32m✔\u001b[39m \u001b[34mreadr    \u001b[39m 2.1.5\n",
      "\u001b[32m✔\u001b[39m \u001b[34mforcats  \u001b[39m 1.0.0     \u001b[32m✔\u001b[39m \u001b[34mstringr  \u001b[39m 1.5.1\n",
      "\u001b[32m✔\u001b[39m \u001b[34mggplot2  \u001b[39m 3.5.2     \u001b[32m✔\u001b[39m \u001b[34mtibble   \u001b[39m 3.3.0\n",
      "\u001b[32m✔\u001b[39m \u001b[34mlubridate\u001b[39m 1.9.4     \u001b[32m✔\u001b[39m \u001b[34mtidyr    \u001b[39m 1.3.1\n",
      "\u001b[32m✔\u001b[39m \u001b[34mpurrr    \u001b[39m 1.1.0     \n",
      "── \u001b[1mConflicts\u001b[22m ────────────────────────────────────────── tidyverse_conflicts() ──\n",
      "\u001b[31m✖\u001b[39m \u001b[34mdplyr\u001b[39m::\u001b[32mfilter()\u001b[39m masks \u001b[34mstats\u001b[39m::filter()\n",
      "\u001b[31m✖\u001b[39m \u001b[34mdplyr\u001b[39m::\u001b[32mlag()\u001b[39m    masks \u001b[34mstats\u001b[39m::lag()\n",
      "\u001b[36mℹ\u001b[39m Use the conflicted package (\u001b[3m\u001b[34m<http://conflicted.r-lib.org/>\u001b[39m\u001b[23m) to force all conflicts to become errors\n"
     ]
    }
   ],
   "source": [
    "# Load required packages\n",
    "library(tidyverse)\n",
    "library(readxl)"
   ]
  },
  {
   "cell_type": "markdown",
   "id": "c5cc88b0",
   "metadata": {},
   "source": [
    "### 1.3 Data Import - CSV\n",
    "\n",
    "Import the `sales_data.csv` file from the `data/` folder into a data frame named `sales_df`."
   ]
  },
  {
   "cell_type": "code",
   "execution_count": 3,
   "id": "f2616bc0",
   "metadata": {
    "vscode": {
     "languageId": "r"
    }
   },
   "outputs": [
    {
     "name": "stderr",
     "output_type": "stream",
     "text": [
      "\u001b[1mRows: \u001b[22m\u001b[34m100\u001b[39m \u001b[1mColumns: \u001b[22m\u001b[34m6\u001b[39m\n",
      "\u001b[36m──\u001b[39m \u001b[1mColumn specification\u001b[22m \u001b[36m────────────────────────────────────────────────────────\u001b[39m\n",
      "\u001b[1mDelimiter:\u001b[22m \",\"\n",
      "\u001b[31mchr\u001b[39m  (2): Product, Region\n",
      "\u001b[32mdbl\u001b[39m  (3): TransactionID, Amount, Quantity\n",
      "\u001b[34mdate\u001b[39m (1): Date\n",
      "\n",
      "\u001b[36mℹ\u001b[39m Use `spec()` to retrieve the full column specification for this data.\n",
      "\u001b[36mℹ\u001b[39m Specify the column types or set `show_col_types = FALSE` to quiet this message.\n"
     ]
    },
    {
     "name": "stdout",
     "output_type": "stream",
     "text": [
      "[1] \"Sales data imported successfully!\"\n"
     ]
    }
   ],
   "source": [
    "# Import sales data\n",
    "sales_df <- read_csv(\"/workspaces/assignment-1-therocketter5/data/sales_data.csv\")\n",
    "print(\"Sales data imported successfully!\")"
   ]
  },
  {
   "cell_type": "markdown",
   "id": "f3f0b0f6",
   "metadata": {},
   "source": [
    "### 1.4 Data Import - Excel\n",
    "\n",
    "Import both sheets from the `customer_feedback.xlsx` file."
   ]
  },
  {
   "cell_type": "code",
   "execution_count": 5,
   "id": "6a6ba3b1",
   "metadata": {
    "vscode": {
     "languageId": "r"
    }
   },
   "outputs": [
    {
     "name": "stdout",
     "output_type": "stream",
     "text": [
      "[1] \"Excel data imported successfully!\"\n"
     ]
    }
   ],
   "source": [
    "# Import ratings data from Excel\n",
    "ratings_df <- read_excel(\"/workspaces/assignment-1-therocketter5/data/customer_feedback.xlsx\", sheet = \"ratings\")\n",
    "\n",
    "# Import comments data from Excel  \n",
    "comments_df <- read_excel(\"/workspaces/assignment-1-therocketter5/data/customer_feedback.xlsx\", sheet = \"customer_feedback\")\n",
    "\n",
    "print(\"Excel data imported successfully!\")"
   ]
  },
  {
   "cell_type": "markdown",
   "id": "a9d136e7",
   "metadata": {},
   "source": [
    "---\n",
    "\n",
    "## Part 2: Basic Data Inspection\n",
    "\n",
    "For each of the three data frames you imported, perform the following inspection tasks. Add both your R code and a brief interpretation of what you observe."
   ]
  },
  {
   "cell_type": "markdown",
   "id": "b3c60d90",
   "metadata": {},
   "source": [
    "### 2.1 Sales Data Inspection"
   ]
  },
  {
   "cell_type": "code",
   "execution_count": 7,
   "id": "e49897c6",
   "metadata": {
    "vscode": {
     "languageId": "r"
    }
   },
   "outputs": [
    {
     "name": "stdout",
     "output_type": "stream",
     "text": [
      "[1] \"First 10 rows of sales_df:\"\n"
     ]
    },
    {
     "data": {
      "text/html": [
       "<table class=\"dataframe\">\n",
       "<caption>A tibble: 10 × 6</caption>\n",
       "<thead>\n",
       "\t<tr><th scope=col>TransactionID</th><th scope=col>Date</th><th scope=col>Product</th><th scope=col>Amount</th><th scope=col>Quantity</th><th scope=col>Region</th></tr>\n",
       "\t<tr><th scope=col>&lt;dbl&gt;</th><th scope=col>&lt;date&gt;</th><th scope=col>&lt;chr&gt;</th><th scope=col>&lt;dbl&gt;</th><th scope=col>&lt;dbl&gt;</th><th scope=col>&lt;chr&gt;</th></tr>\n",
       "</thead>\n",
       "<tbody>\n",
       "\t<tr><td> 1</td><td>2023-01-27</td><td>Keyboard</td><td>1039.05</td><td>1</td><td>South</td></tr>\n",
       "\t<tr><td> 2</td><td>2023-05-18</td><td>Tablet  </td><td> 597.55</td><td>5</td><td>East </td></tr>\n",
       "\t<tr><td> 3</td><td>2023-02-14</td><td>Keyboard</td><td>1539.48</td><td>1</td><td>West </td></tr>\n",
       "\t<tr><td> 4</td><td>2023-07-28</td><td>Mouse   </td><td> 261.66</td><td>1</td><td>South</td></tr>\n",
       "\t<tr><td> 5</td><td>2023-05-17</td><td>Monitor </td><td>1047.73</td><td>1</td><td>South</td></tr>\n",
       "\t<tr><td> 6</td><td>2023-02-25</td><td>Keyboard</td><td>1824.05</td><td>2</td><td>East </td></tr>\n",
       "\t<tr><td> 7</td><td>2023-01-20</td><td>Monitor </td><td> 475.83</td><td>1</td><td>North</td></tr>\n",
       "\t<tr><td> 8</td><td>2023-07-14</td><td>Mouse   </td><td> 758.05</td><td>5</td><td>North</td></tr>\n",
       "\t<tr><td> 9</td><td>2023-10-02</td><td>Mouse   </td><td>1717.20</td><td>4</td><td>South</td></tr>\n",
       "\t<tr><td>10</td><td>2023-10-15</td><td>Laptop  </td><td>1437.21</td><td>3</td><td>North</td></tr>\n",
       "</tbody>\n",
       "</table>\n"
      ],
      "text/latex": [
       "A tibble: 10 × 6\n",
       "\\begin{tabular}{llllll}\n",
       " TransactionID & Date & Product & Amount & Quantity & Region\\\\\n",
       " <dbl> & <date> & <chr> & <dbl> & <dbl> & <chr>\\\\\n",
       "\\hline\n",
       "\t  1 & 2023-01-27 & Keyboard & 1039.05 & 1 & South\\\\\n",
       "\t  2 & 2023-05-18 & Tablet   &  597.55 & 5 & East \\\\\n",
       "\t  3 & 2023-02-14 & Keyboard & 1539.48 & 1 & West \\\\\n",
       "\t  4 & 2023-07-28 & Mouse    &  261.66 & 1 & South\\\\\n",
       "\t  5 & 2023-05-17 & Monitor  & 1047.73 & 1 & South\\\\\n",
       "\t  6 & 2023-02-25 & Keyboard & 1824.05 & 2 & East \\\\\n",
       "\t  7 & 2023-01-20 & Monitor  &  475.83 & 1 & North\\\\\n",
       "\t  8 & 2023-07-14 & Mouse    &  758.05 & 5 & North\\\\\n",
       "\t  9 & 2023-10-02 & Mouse    & 1717.20 & 4 & South\\\\\n",
       "\t 10 & 2023-10-15 & Laptop   & 1437.21 & 3 & North\\\\\n",
       "\\end{tabular}\n"
      ],
      "text/markdown": [
       "\n",
       "A tibble: 10 × 6\n",
       "\n",
       "| TransactionID &lt;dbl&gt; | Date &lt;date&gt; | Product &lt;chr&gt; | Amount &lt;dbl&gt; | Quantity &lt;dbl&gt; | Region &lt;chr&gt; |\n",
       "|---|---|---|---|---|---|\n",
       "|  1 | 2023-01-27 | Keyboard | 1039.05 | 1 | South |\n",
       "|  2 | 2023-05-18 | Tablet   |  597.55 | 5 | East  |\n",
       "|  3 | 2023-02-14 | Keyboard | 1539.48 | 1 | West  |\n",
       "|  4 | 2023-07-28 | Mouse    |  261.66 | 1 | South |\n",
       "|  5 | 2023-05-17 | Monitor  | 1047.73 | 1 | South |\n",
       "|  6 | 2023-02-25 | Keyboard | 1824.05 | 2 | East  |\n",
       "|  7 | 2023-01-20 | Monitor  |  475.83 | 1 | North |\n",
       "|  8 | 2023-07-14 | Mouse    |  758.05 | 5 | North |\n",
       "|  9 | 2023-10-02 | Mouse    | 1717.20 | 4 | South |\n",
       "| 10 | 2023-10-15 | Laptop   | 1437.21 | 3 | North |\n",
       "\n"
      ],
      "text/plain": [
       "   TransactionID Date       Product  Amount  Quantity Region\n",
       "1   1            2023-01-27 Keyboard 1039.05 1        South \n",
       "2   2            2023-05-18 Tablet    597.55 5        East  \n",
       "3   3            2023-02-14 Keyboard 1539.48 1        West  \n",
       "4   4            2023-07-28 Mouse     261.66 1        South \n",
       "5   5            2023-05-17 Monitor  1047.73 1        South \n",
       "6   6            2023-02-25 Keyboard 1824.05 2        East  \n",
       "7   7            2023-01-20 Monitor   475.83 1        North \n",
       "8   8            2023-07-14 Mouse     758.05 5        North \n",
       "9   9            2023-10-02 Mouse    1717.20 4        South \n",
       "10 10            2023-10-15 Laptop   1437.21 3        North "
      ]
     },
     "metadata": {},
     "output_type": "display_data"
    }
   ],
   "source": [
    "# First 10 rows of sales data\n",
    "print(\"First 10 rows of sales_df:\")\n",
    "head(sales_df, 10)\n",
    "# the Sales_df sheet has columbs of transactionID, Date, Product, Amount, Quantity and Region"
   ]
  },
  {
   "cell_type": "code",
   "execution_count": 9,
   "id": "787161c8",
   "metadata": {
    "vscode": {
     "languageId": "r"
    }
   },
   "outputs": [
    {
     "name": "stdout",
     "output_type": "stream",
     "text": [
      "[1] \"Structure of sales_df:\"\n",
      "spc_tbl_ [100 × 6] (S3: spec_tbl_df/tbl_df/tbl/data.frame)\n",
      " $ TransactionID: num [1:100] 1 2 3 4 5 6 7 8 9 10 ...\n",
      " $ Date         : Date[1:100], format: \"2023-01-27\" \"2023-05-18\" ...\n",
      " $ Product      : chr [1:100] \"Keyboard\" \"Tablet\" \"Keyboard\" \"Mouse\" ...\n",
      " $ Amount       : num [1:100] 1039 598 1539 262 1048 ...\n",
      " $ Quantity     : num [1:100] 1 5 1 1 1 2 1 5 4 3 ...\n",
      " $ Region       : chr [1:100] \"South\" \"East\" \"West\" \"South\" ...\n",
      " - attr(*, \"spec\")=\n",
      "  .. cols(\n",
      "  ..   TransactionID = \u001b[32mcol_double()\u001b[39m,\n",
      "  ..   Date = \u001b[34mcol_date(format = \"\")\u001b[39m,\n",
      "  ..   Product = \u001b[31mcol_character()\u001b[39m,\n",
      "  ..   Amount = \u001b[32mcol_double()\u001b[39m,\n",
      "  ..   Quantity = \u001b[32mcol_double()\u001b[39m,\n",
      "  ..   Region = \u001b[31mcol_character()\u001b[39m\n",
      "  .. )\n",
      " - attr(*, \"problems\")=<externalptr> \n"
     ]
    }
   ],
   "source": [
    "# Structure of sales data\n",
    "print(\"Structure of sales_df:\")\n",
    "str(sales_df)\n",
    "# Sales Data has three number columns (TransactionID, Amount and Quantity), Two Character Columns (Region and Product) and the Date Column in Date formatting"
   ]
  },
  {
   "cell_type": "code",
   "execution_count": 4,
   "id": "c8d24625",
   "metadata": {
    "vscode": {
     "languageId": "r"
    }
   },
   "outputs": [
    {
     "name": "stdout",
     "output_type": "stream",
     "text": [
      "[1] \"Summary statistics for sales_df:\"\n"
     ]
    },
    {
     "data": {
      "text/plain": [
       " TransactionID         Date              Product              Amount       \n",
       " Min.   :  1.00   Min.   :2023-01-01   Length:100         Min.   :  58.06  \n",
       " 1st Qu.: 25.75   1st Qu.:2023-03-20   Class :character   1st Qu.: 520.79  \n",
       " Median : 50.50   Median :2023-07-03   Mode  :character   Median : 960.75  \n",
       " Mean   : 50.50   Mean   :2023-06-27                      Mean   : 962.71  \n",
       " 3rd Qu.: 75.25   3rd Qu.:2023-09-25                      3rd Qu.:1384.63  \n",
       " Max.   :100.00   Max.   :2023-12-26                      Max.   :1985.60  \n",
       "    Quantity       Region         \n",
       " Min.   :1.00   Length:100        \n",
       " 1st Qu.:1.00   Class :character  \n",
       " Median :3.00   Mode  :character  \n",
       " Mean   :2.69                     \n",
       " 3rd Qu.:4.00                     \n",
       " Max.   :5.00                     "
      ]
     },
     "metadata": {},
     "output_type": "display_data"
    }
   ],
   "source": [
    "# Summary statistics for sales data\n",
    "print(\"Summary statistics for sales_df:\")\n",
    "summary(sales_df)"
   ]
  },
  {
   "cell_type": "markdown",
   "id": "6e3704e9",
   "metadata": {},
   "source": [
    "**Your observations about sales_df:**\n",
    "\n",
    "There are six columns, TransactionID, Date, Product, Amount , Quantity and Region.\n",
    "\n",
    "The types of data are as follows:Transaction ID, Amount and Quantity are numbers, Amount and Region are characters and Date is a Date.\n",
    "\n",
    "There are 100 Transaction ID's ranging from 1 to 100, Dates from Jan 1st 2023 to Dec 26 2023\n",
    "There are 100 Products with amounts ranging from 58.06 to 1985.60, Quantities from 1 to 5 and 100 Regions."
   ]
  },
  {
   "cell_type": "markdown",
   "id": "bf96d289",
   "metadata": {},
   "source": [
    "### 2.2 Ratings Data Inspection"
   ]
  },
  {
   "cell_type": "code",
   "execution_count": 14,
   "id": "1ac6fc99",
   "metadata": {
    "vscode": {
     "languageId": "r"
    }
   },
   "outputs": [
    {
     "name": "stdout",
     "output_type": "stream",
     "text": [
      "\u001b[90m# A tibble: 6 × 5\u001b[39m\n",
      "  CustomerID ProductRating ServiceRating OverallSatisfaction RecommendationScore\n",
      "       \u001b[3m\u001b[90m<dbl>\u001b[39m\u001b[23m         \u001b[3m\u001b[90m<dbl>\u001b[39m\u001b[23m         \u001b[3m\u001b[90m<dbl>\u001b[39m\u001b[23m               \u001b[3m\u001b[90m<dbl>\u001b[39m\u001b[23m               \u001b[3m\u001b[90m<dbl>\u001b[39m\u001b[23m\n",
      "\u001b[90m1\u001b[39m          1             1             4                   3                   2\n",
      "\u001b[90m2\u001b[39m          2             3             2                   4                   7\n",
      "\u001b[90m3\u001b[39m          3             1             5                   5                   1\n",
      "\u001b[90m4\u001b[39m          4             1             2                   3                   6\n",
      "\u001b[90m5\u001b[39m          5             5             1                   2                   2\n",
      "\u001b[90m6\u001b[39m          6             4             2                   2                   6\n",
      "tibble [50 × 5] (S3: tbl_df/tbl/data.frame)\n",
      " $ CustomerID         : num [1:50] 1 2 3 4 5 6 7 8 9 10 ...\n",
      " $ ProductRating      : num [1:50] 1 3 1 1 5 4 3 5 4 4 ...\n",
      " $ ServiceRating      : num [1:50] 4 2 5 2 1 2 5 2 1 1 ...\n",
      " $ OverallSatisfaction: num [1:50] 3 4 5 3 2 2 5 5 3 2 ...\n",
      " $ RecommendationScore: num [1:50] 2 7 1 6 2 6 5 10 6 0 ...\n",
      "[1] \"Structure: \"\n"
     ]
    },
    {
     "data": {
      "text/plain": [
       "   CustomerID    ProductRating ServiceRating  OverallSatisfaction\n",
       " Min.   : 1.00   Min.   :1.0   Min.   :1.00   Min.   :1.00       \n",
       " 1st Qu.:13.25   1st Qu.:2.0   1st Qu.:1.00   1st Qu.:2.00       \n",
       " Median :25.50   Median :3.0   Median :3.00   Median :3.00       \n",
       " Mean   :25.50   Mean   :3.2   Mean   :2.94   Mean   :2.92       \n",
       " 3rd Qu.:37.75   3rd Qu.:5.0   3rd Qu.:5.00   3rd Qu.:4.00       \n",
       " Max.   :50.00   Max.   :5.0   Max.   :5.00   Max.   :5.00       \n",
       " RecommendationScore\n",
       " Min.   : 0.0       \n",
       " 1st Qu.: 1.0       \n",
       " Median : 4.5       \n",
       " Mean   : 4.2       \n",
       " 3rd Qu.: 7.0       \n",
       " Max.   :10.0       "
      ]
     },
     "metadata": {},
     "output_type": "display_data"
    }
   ],
   "source": [
    "# TODO: Add your code here for ratings_df inspection\n",
    "# - First 10 rows\n",
    "print(head(ratings_df))\n",
    "# - Structure  \n",
    "print(paste(\"Structure:\", str(ratings_df)))\n",
    "# - Summary statistics\n",
    "summary(ratings_df)"
   ]
  },
  {
   "cell_type": "markdown",
   "id": "15bf4a1d",
   "metadata": {},
   "source": [
    "**Your observations about ratings_df:**\n",
    "\n",
    "Looking at the head of the list shows 5 categories of Customer ID, ProductRating, ServiceRating, OverallSatisfaction, RecommendationScore.\n",
    "All of these are categories of numbers, CustomerID ranges from 1 to 50, ProductRating ranges from 1 to 5 and averages a 3.2\n",
    "ServiceRating also ranges from 1 to 5 and averages a 2.94, Overall Satisfaction ranges from 1 to 5 and averages a 2.92\n",
    "Finally, RecommendationScore ranges from 0 to 10 and averages a 4.2"
   ]
  },
  {
   "cell_type": "markdown",
   "id": "33a50824",
   "metadata": {},
   "source": [
    "### 2.3 Comments Data Inspection"
   ]
  },
  {
   "cell_type": "code",
   "execution_count": 15,
   "id": "737913d7",
   "metadata": {
    "vscode": {
     "languageId": "r"
    }
   },
   "outputs": [
    {
     "name": "stdout",
     "output_type": "stream",
     "text": [
      "[1] \"First 10 Rows:\"\n"
     ]
    },
    {
     "data": {
      "text/html": [
       "<table class=\"dataframe\">\n",
       "<caption>A tibble: 6 × 5</caption>\n",
       "<thead>\n",
       "\t<tr><th scope=col>FeedbackID</th><th scope=col>CustomerID</th><th scope=col>Feedback_Text</th><th scope=col>Contact_Info</th><th scope=col>Feedback_Date</th></tr>\n",
       "\t<tr><th scope=col>&lt;dbl&gt;</th><th scope=col>&lt;dbl&gt;</th><th scope=col>&lt;chr&gt;</th><th scope=col>&lt;chr&gt;</th><th scope=col>&lt;dttm&gt;</th></tr>\n",
       "</thead>\n",
       "<tbody>\n",
       "\t<tr><td>1</td><td>12</td><td>Highly recommend this item      </td><td>bob.wilson@test.org   </td><td>2024-02-23</td></tr>\n",
       "\t<tr><td>2</td><td>40</td><td>Excellent service               </td><td>555-123-4567          </td><td>2024-01-21</td></tr>\n",
       "\t<tr><td>3</td><td>34</td><td>Poor quality control            </td><td>jane_smith@company.com</td><td>2023-09-02</td></tr>\n",
       "\t<tr><td>4</td><td> 1</td><td>average product, nothing special</td><td>jane_smith@company.com</td><td>2023-08-21</td></tr>\n",
       "\t<tr><td>5</td><td>47</td><td>AMAZING customer support!!!     </td><td>555-123-4567          </td><td>2023-04-24</td></tr>\n",
       "\t<tr><td>6</td><td>13</td><td>AMAZING customer support!!!     </td><td>john.doe@email.com    </td><td>2023-04-16</td></tr>\n",
       "</tbody>\n",
       "</table>\n"
      ],
      "text/latex": [
       "A tibble: 6 × 5\n",
       "\\begin{tabular}{lllll}\n",
       " FeedbackID & CustomerID & Feedback\\_Text & Contact\\_Info & Feedback\\_Date\\\\\n",
       " <dbl> & <dbl> & <chr> & <chr> & <dttm>\\\\\n",
       "\\hline\n",
       "\t 1 & 12 & Highly recommend this item       & bob.wilson@test.org    & 2024-02-23\\\\\n",
       "\t 2 & 40 & Excellent service                & 555-123-4567           & 2024-01-21\\\\\n",
       "\t 3 & 34 & Poor quality control             & jane\\_smith@company.com & 2023-09-02\\\\\n",
       "\t 4 &  1 & average product, nothing special & jane\\_smith@company.com & 2023-08-21\\\\\n",
       "\t 5 & 47 & AMAZING customer support!!!      & 555-123-4567           & 2023-04-24\\\\\n",
       "\t 6 & 13 & AMAZING customer support!!!      & john.doe@email.com     & 2023-04-16\\\\\n",
       "\\end{tabular}\n"
      ],
      "text/markdown": [
       "\n",
       "A tibble: 6 × 5\n",
       "\n",
       "| FeedbackID &lt;dbl&gt; | CustomerID &lt;dbl&gt; | Feedback_Text &lt;chr&gt; | Contact_Info &lt;chr&gt; | Feedback_Date &lt;dttm&gt; |\n",
       "|---|---|---|---|---|\n",
       "| 1 | 12 | Highly recommend this item       | bob.wilson@test.org    | 2024-02-23 |\n",
       "| 2 | 40 | Excellent service                | 555-123-4567           | 2024-01-21 |\n",
       "| 3 | 34 | Poor quality control             | jane_smith@company.com | 2023-09-02 |\n",
       "| 4 |  1 | average product, nothing special | jane_smith@company.com | 2023-08-21 |\n",
       "| 5 | 47 | AMAZING customer support!!!      | 555-123-4567           | 2023-04-24 |\n",
       "| 6 | 13 | AMAZING customer support!!!      | john.doe@email.com     | 2023-04-16 |\n",
       "\n"
      ],
      "text/plain": [
       "  FeedbackID CustomerID Feedback_Text                    Contact_Info          \n",
       "1 1          12         Highly recommend this item       bob.wilson@test.org   \n",
       "2 2          40         Excellent service                555-123-4567          \n",
       "3 3          34         Poor quality control             jane_smith@company.com\n",
       "4 4           1         average product, nothing special jane_smith@company.com\n",
       "5 5          47         AMAZING customer support!!!      555-123-4567          \n",
       "6 6          13         AMAZING customer support!!!      john.doe@email.com    \n",
       "  Feedback_Date\n",
       "1 2024-02-23   \n",
       "2 2024-01-21   \n",
       "3 2023-09-02   \n",
       "4 2023-08-21   \n",
       "5 2023-04-24   \n",
       "6 2023-04-16   "
      ]
     },
     "metadata": {},
     "output_type": "display_data"
    },
    {
     "name": "stdout",
     "output_type": "stream",
     "text": [
      "[1] \"Structure:\"\n"
     ]
    },
    {
     "data": {
      "text/html": [
       "<table class=\"dataframe\">\n",
       "<caption>A tibble: 100 × 5</caption>\n",
       "<thead>\n",
       "\t<tr><th scope=col>FeedbackID</th><th scope=col>CustomerID</th><th scope=col>Feedback_Text</th><th scope=col>Contact_Info</th><th scope=col>Feedback_Date</th></tr>\n",
       "\t<tr><th scope=col>&lt;dbl&gt;</th><th scope=col>&lt;dbl&gt;</th><th scope=col>&lt;chr&gt;</th><th scope=col>&lt;chr&gt;</th><th scope=col>&lt;dttm&gt;</th></tr>\n",
       "</thead>\n",
       "<tbody>\n",
       "\t<tr><td> 1</td><td>12</td><td>Highly recommend this item         </td><td>bob.wilson@test.org   </td><td>2024-02-23</td></tr>\n",
       "\t<tr><td> 2</td><td>40</td><td>Excellent service                  </td><td>555-123-4567          </td><td>2024-01-21</td></tr>\n",
       "\t<tr><td> 3</td><td>34</td><td>Poor quality control               </td><td>jane_smith@company.com</td><td>2023-09-02</td></tr>\n",
       "\t<tr><td> 4</td><td> 1</td><td>average product, nothing special   </td><td>jane_smith@company.com</td><td>2023-08-21</td></tr>\n",
       "\t<tr><td> 5</td><td>47</td><td>AMAZING customer support!!!        </td><td>555-123-4567          </td><td>2023-04-24</td></tr>\n",
       "\t<tr><td> 6</td><td>13</td><td>AMAZING customer support!!!        </td><td>john.doe@email.com    </td><td>2023-04-16</td></tr>\n",
       "\t<tr><td> 7</td><td>13</td><td>average product, nothing special   </td><td>(555) 987-6543        </td><td>2024-03-13</td></tr>\n",
       "\t<tr><td> 8</td><td>37</td><td>good VALUE for money               </td><td>(555) 987-6543        </td><td>2023-07-15</td></tr>\n",
       "\t<tr><td> 9</td><td>49</td><td>Highly recommend this item         </td><td>invalid-email         </td><td>2023-03-03</td></tr>\n",
       "\t<tr><td>10</td><td>23</td><td>Highly recommend this item         </td><td>john.doe@email.com    </td><td>2023-10-18</td></tr>\n",
       "\t<tr><td>11</td><td>24</td><td>Excellent service                  </td><td>555-123-4567          </td><td>2023-10-10</td></tr>\n",
       "\t<tr><td>12</td><td>35</td><td>Great product! Love it!            </td><td>invalid-email         </td><td>2023-11-05</td></tr>\n",
       "\t<tr><td>13</td><td> 3</td><td>Poor quality control               </td><td>invalid-email         </td><td>2023-07-12</td></tr>\n",
       "\t<tr><td>14</td><td>20</td><td>terrible quality, very disappointed</td><td>bob.wilson@test.org   </td><td>2023-06-27</td></tr>\n",
       "\t<tr><td>15</td><td>38</td><td>Highly recommend this item         </td><td>(555) 987-6543        </td><td>2023-02-23</td></tr>\n",
       "\t<tr><td>16</td><td>15</td><td>Excellent service                  </td><td>(555) 987-6543        </td><td>2023-12-01</td></tr>\n",
       "\t<tr><td>17</td><td>45</td><td>average product, nothing special   </td><td>jane_smith@company.com</td><td>2023-04-08</td></tr>\n",
       "\t<tr><td>18</td><td> 5</td><td>good VALUE for money               </td><td>bob.wilson@test.org   </td><td>2023-04-12</td></tr>\n",
       "\t<tr><td>19</td><td>29</td><td>Bad experience with delivery       </td><td>invalid-email         </td><td>2023-01-23</td></tr>\n",
       "\t<tr><td>20</td><td>27</td><td>Bad experience with delivery       </td><td>invalid-email         </td><td>2023-04-23</td></tr>\n",
       "\t<tr><td>21</td><td>21</td><td>terrible quality, very disappointed</td><td>555-123-4567          </td><td>2023-09-26</td></tr>\n",
       "\t<tr><td>22</td><td>16</td><td>Excellent service                  </td><td>invalid-email         </td><td>2024-02-03</td></tr>\n",
       "\t<tr><td>23</td><td> 2</td><td>average product, nothing special   </td><td>invalid-email         </td><td>2024-02-29</td></tr>\n",
       "\t<tr><td>24</td><td>17</td><td>Highly recommend this item         </td><td>jane_smith@company.com</td><td>2023-11-25</td></tr>\n",
       "\t<tr><td>25</td><td>47</td><td>terrible quality, very disappointed</td><td>john.doe@email.com    </td><td>2024-03-13</td></tr>\n",
       "\t<tr><td>26</td><td> 9</td><td>AMAZING customer support!!!        </td><td>invalid-email         </td><td>2024-02-19</td></tr>\n",
       "\t<tr><td>27</td><td> 8</td><td>terrible quality, very disappointed</td><td>(555) 987-6543        </td><td>2024-02-02</td></tr>\n",
       "\t<tr><td>28</td><td> 8</td><td>good VALUE for money               </td><td>jane_smith@company.com</td><td>2023-09-29</td></tr>\n",
       "\t<tr><td>29</td><td>46</td><td>Great product! Love it!            </td><td>555-123-4567          </td><td>2024-01-16</td></tr>\n",
       "\t<tr><td>30</td><td>11</td><td>AMAZING customer support!!!        </td><td>555-123-4567          </td><td>2023-04-14</td></tr>\n",
       "\t<tr><td>⋮</td><td>⋮</td><td>⋮</td><td>⋮</td><td>⋮</td></tr>\n",
       "\t<tr><td> 71</td><td>41</td><td>terrible quality, very disappointed</td><td>john.doe@email.com    </td><td>2023-08-10</td></tr>\n",
       "\t<tr><td> 72</td><td>12</td><td>good VALUE for money               </td><td>bob.wilson@test.org   </td><td>2023-12-11</td></tr>\n",
       "\t<tr><td> 73</td><td>12</td><td>Outstanding performance            </td><td>555-123-4567          </td><td>2023-02-14</td></tr>\n",
       "\t<tr><td> 74</td><td>16</td><td>Poor quality control               </td><td>555-123-4567          </td><td>2023-07-05</td></tr>\n",
       "\t<tr><td> 75</td><td>27</td><td>average product, nothing special   </td><td>jane_smith@company.com</td><td>2023-04-16</td></tr>\n",
       "\t<tr><td> 76</td><td>30</td><td>average product, nothing special   </td><td>jane_smith@company.com</td><td>2024-01-11</td></tr>\n",
       "\t<tr><td> 77</td><td>38</td><td>Great product! Love it!            </td><td>invalid-email         </td><td>2023-01-28</td></tr>\n",
       "\t<tr><td> 78</td><td>26</td><td>average product, nothing special   </td><td>bob.wilson@test.org   </td><td>2023-12-26</td></tr>\n",
       "\t<tr><td> 79</td><td>17</td><td>AMAZING customer support!!!        </td><td>john.doe@email.com    </td><td>2024-03-12</td></tr>\n",
       "\t<tr><td> 80</td><td>26</td><td>good VALUE for money               </td><td>555-123-4567          </td><td>2024-03-03</td></tr>\n",
       "\t<tr><td> 81</td><td>22</td><td>Highly recommend this item         </td><td>555-123-4567          </td><td>2023-01-03</td></tr>\n",
       "\t<tr><td> 82</td><td> 9</td><td>average product, nothing special   </td><td>invalid-email         </td><td>2023-07-28</td></tr>\n",
       "\t<tr><td> 83</td><td>37</td><td>terrible quality, very disappointed</td><td>(555) 987-6543        </td><td>2023-03-30</td></tr>\n",
       "\t<tr><td> 84</td><td>35</td><td>Poor quality control               </td><td>jane_smith@company.com</td><td>2023-11-07</td></tr>\n",
       "\t<tr><td> 85</td><td>49</td><td>Outstanding performance            </td><td>jane_smith@company.com</td><td>2023-11-30</td></tr>\n",
       "\t<tr><td> 86</td><td>18</td><td>terrible quality, very disappointed</td><td>jane_smith@company.com</td><td>2023-02-21</td></tr>\n",
       "\t<tr><td> 87</td><td>20</td><td>average product, nothing special   </td><td>john.doe@email.com    </td><td>2023-04-24</td></tr>\n",
       "\t<tr><td> 88</td><td>49</td><td>average product, nothing special   </td><td>invalid-email         </td><td>2023-06-08</td></tr>\n",
       "\t<tr><td> 89</td><td>23</td><td>Excellent service                  </td><td>invalid-email         </td><td>2023-12-06</td></tr>\n",
       "\t<tr><td> 90</td><td>48</td><td>AMAZING customer support!!!        </td><td>bob.wilson@test.org   </td><td>2023-07-07</td></tr>\n",
       "\t<tr><td> 91</td><td>15</td><td>Excellent service                  </td><td>invalid-email         </td><td>2023-10-29</td></tr>\n",
       "\t<tr><td> 92</td><td> 5</td><td>Bad experience with delivery       </td><td>invalid-email         </td><td>2024-01-20</td></tr>\n",
       "\t<tr><td> 93</td><td>46</td><td>Outstanding performance            </td><td>jane_smith@company.com</td><td>2023-05-17</td></tr>\n",
       "\t<tr><td> 94</td><td>35</td><td>Bad experience with delivery       </td><td>555-123-4567          </td><td>2023-10-20</td></tr>\n",
       "\t<tr><td> 95</td><td>34</td><td>AMAZING customer support!!!        </td><td>bob.wilson@test.org   </td><td>2023-03-25</td></tr>\n",
       "\t<tr><td> 96</td><td> 1</td><td>Poor quality control               </td><td>john.doe@email.com    </td><td>2023-06-07</td></tr>\n",
       "\t<tr><td> 97</td><td>40</td><td>Excellent service                  </td><td>555-123-4567          </td><td>2023-10-02</td></tr>\n",
       "\t<tr><td> 98</td><td>30</td><td>terrible quality, very disappointed</td><td>jane_smith@company.com</td><td>2023-03-28</td></tr>\n",
       "\t<tr><td> 99</td><td>38</td><td>good VALUE for money               </td><td>invalid-email         </td><td>2023-09-24</td></tr>\n",
       "\t<tr><td>100</td><td>50</td><td>Poor quality control               </td><td>bob.wilson@test.org   </td><td>2023-09-02</td></tr>\n",
       "</tbody>\n",
       "</table>\n"
      ],
      "text/latex": [
       "A tibble: 100 × 5\n",
       "\\begin{tabular}{lllll}\n",
       " FeedbackID & CustomerID & Feedback\\_Text & Contact\\_Info & Feedback\\_Date\\\\\n",
       " <dbl> & <dbl> & <chr> & <chr> & <dttm>\\\\\n",
       "\\hline\n",
       "\t  1 & 12 & Highly recommend this item          & bob.wilson@test.org    & 2024-02-23\\\\\n",
       "\t  2 & 40 & Excellent service                   & 555-123-4567           & 2024-01-21\\\\\n",
       "\t  3 & 34 & Poor quality control                & jane\\_smith@company.com & 2023-09-02\\\\\n",
       "\t  4 &  1 & average product, nothing special    & jane\\_smith@company.com & 2023-08-21\\\\\n",
       "\t  5 & 47 & AMAZING customer support!!!         & 555-123-4567           & 2023-04-24\\\\\n",
       "\t  6 & 13 & AMAZING customer support!!!         & john.doe@email.com     & 2023-04-16\\\\\n",
       "\t  7 & 13 & average product, nothing special    & (555) 987-6543         & 2024-03-13\\\\\n",
       "\t  8 & 37 & good VALUE for money                & (555) 987-6543         & 2023-07-15\\\\\n",
       "\t  9 & 49 & Highly recommend this item          & invalid-email          & 2023-03-03\\\\\n",
       "\t 10 & 23 & Highly recommend this item          & john.doe@email.com     & 2023-10-18\\\\\n",
       "\t 11 & 24 & Excellent service                   & 555-123-4567           & 2023-10-10\\\\\n",
       "\t 12 & 35 & Great product! Love it!             & invalid-email          & 2023-11-05\\\\\n",
       "\t 13 &  3 & Poor quality control                & invalid-email          & 2023-07-12\\\\\n",
       "\t 14 & 20 & terrible quality, very disappointed & bob.wilson@test.org    & 2023-06-27\\\\\n",
       "\t 15 & 38 & Highly recommend this item          & (555) 987-6543         & 2023-02-23\\\\\n",
       "\t 16 & 15 & Excellent service                   & (555) 987-6543         & 2023-12-01\\\\\n",
       "\t 17 & 45 & average product, nothing special    & jane\\_smith@company.com & 2023-04-08\\\\\n",
       "\t 18 &  5 & good VALUE for money                & bob.wilson@test.org    & 2023-04-12\\\\\n",
       "\t 19 & 29 & Bad experience with delivery        & invalid-email          & 2023-01-23\\\\\n",
       "\t 20 & 27 & Bad experience with delivery        & invalid-email          & 2023-04-23\\\\\n",
       "\t 21 & 21 & terrible quality, very disappointed & 555-123-4567           & 2023-09-26\\\\\n",
       "\t 22 & 16 & Excellent service                   & invalid-email          & 2024-02-03\\\\\n",
       "\t 23 &  2 & average product, nothing special    & invalid-email          & 2024-02-29\\\\\n",
       "\t 24 & 17 & Highly recommend this item          & jane\\_smith@company.com & 2023-11-25\\\\\n",
       "\t 25 & 47 & terrible quality, very disappointed & john.doe@email.com     & 2024-03-13\\\\\n",
       "\t 26 &  9 & AMAZING customer support!!!         & invalid-email          & 2024-02-19\\\\\n",
       "\t 27 &  8 & terrible quality, very disappointed & (555) 987-6543         & 2024-02-02\\\\\n",
       "\t 28 &  8 & good VALUE for money                & jane\\_smith@company.com & 2023-09-29\\\\\n",
       "\t 29 & 46 & Great product! Love it!             & 555-123-4567           & 2024-01-16\\\\\n",
       "\t 30 & 11 & AMAZING customer support!!!         & 555-123-4567           & 2023-04-14\\\\\n",
       "\t ⋮ & ⋮ & ⋮ & ⋮ & ⋮\\\\\n",
       "\t  71 & 41 & terrible quality, very disappointed & john.doe@email.com     & 2023-08-10\\\\\n",
       "\t  72 & 12 & good VALUE for money                & bob.wilson@test.org    & 2023-12-11\\\\\n",
       "\t  73 & 12 & Outstanding performance             & 555-123-4567           & 2023-02-14\\\\\n",
       "\t  74 & 16 & Poor quality control                & 555-123-4567           & 2023-07-05\\\\\n",
       "\t  75 & 27 & average product, nothing special    & jane\\_smith@company.com & 2023-04-16\\\\\n",
       "\t  76 & 30 & average product, nothing special    & jane\\_smith@company.com & 2024-01-11\\\\\n",
       "\t  77 & 38 & Great product! Love it!             & invalid-email          & 2023-01-28\\\\\n",
       "\t  78 & 26 & average product, nothing special    & bob.wilson@test.org    & 2023-12-26\\\\\n",
       "\t  79 & 17 & AMAZING customer support!!!         & john.doe@email.com     & 2024-03-12\\\\\n",
       "\t  80 & 26 & good VALUE for money                & 555-123-4567           & 2024-03-03\\\\\n",
       "\t  81 & 22 & Highly recommend this item          & 555-123-4567           & 2023-01-03\\\\\n",
       "\t  82 &  9 & average product, nothing special    & invalid-email          & 2023-07-28\\\\\n",
       "\t  83 & 37 & terrible quality, very disappointed & (555) 987-6543         & 2023-03-30\\\\\n",
       "\t  84 & 35 & Poor quality control                & jane\\_smith@company.com & 2023-11-07\\\\\n",
       "\t  85 & 49 & Outstanding performance             & jane\\_smith@company.com & 2023-11-30\\\\\n",
       "\t  86 & 18 & terrible quality, very disappointed & jane\\_smith@company.com & 2023-02-21\\\\\n",
       "\t  87 & 20 & average product, nothing special    & john.doe@email.com     & 2023-04-24\\\\\n",
       "\t  88 & 49 & average product, nothing special    & invalid-email          & 2023-06-08\\\\\n",
       "\t  89 & 23 & Excellent service                   & invalid-email          & 2023-12-06\\\\\n",
       "\t  90 & 48 & AMAZING customer support!!!         & bob.wilson@test.org    & 2023-07-07\\\\\n",
       "\t  91 & 15 & Excellent service                   & invalid-email          & 2023-10-29\\\\\n",
       "\t  92 &  5 & Bad experience with delivery        & invalid-email          & 2024-01-20\\\\\n",
       "\t  93 & 46 & Outstanding performance             & jane\\_smith@company.com & 2023-05-17\\\\\n",
       "\t  94 & 35 & Bad experience with delivery        & 555-123-4567           & 2023-10-20\\\\\n",
       "\t  95 & 34 & AMAZING customer support!!!         & bob.wilson@test.org    & 2023-03-25\\\\\n",
       "\t  96 &  1 & Poor quality control                & john.doe@email.com     & 2023-06-07\\\\\n",
       "\t  97 & 40 & Excellent service                   & 555-123-4567           & 2023-10-02\\\\\n",
       "\t  98 & 30 & terrible quality, very disappointed & jane\\_smith@company.com & 2023-03-28\\\\\n",
       "\t  99 & 38 & good VALUE for money                & invalid-email          & 2023-09-24\\\\\n",
       "\t 100 & 50 & Poor quality control                & bob.wilson@test.org    & 2023-09-02\\\\\n",
       "\\end{tabular}\n"
      ],
      "text/markdown": [
       "\n",
       "A tibble: 100 × 5\n",
       "\n",
       "| FeedbackID &lt;dbl&gt; | CustomerID &lt;dbl&gt; | Feedback_Text &lt;chr&gt; | Contact_Info &lt;chr&gt; | Feedback_Date &lt;dttm&gt; |\n",
       "|---|---|---|---|---|\n",
       "|  1 | 12 | Highly recommend this item          | bob.wilson@test.org    | 2024-02-23 |\n",
       "|  2 | 40 | Excellent service                   | 555-123-4567           | 2024-01-21 |\n",
       "|  3 | 34 | Poor quality control                | jane_smith@company.com | 2023-09-02 |\n",
       "|  4 |  1 | average product, nothing special    | jane_smith@company.com | 2023-08-21 |\n",
       "|  5 | 47 | AMAZING customer support!!!         | 555-123-4567           | 2023-04-24 |\n",
       "|  6 | 13 | AMAZING customer support!!!         | john.doe@email.com     | 2023-04-16 |\n",
       "|  7 | 13 | average product, nothing special    | (555) 987-6543         | 2024-03-13 |\n",
       "|  8 | 37 | good VALUE for money                | (555) 987-6543         | 2023-07-15 |\n",
       "|  9 | 49 | Highly recommend this item          | invalid-email          | 2023-03-03 |\n",
       "| 10 | 23 | Highly recommend this item          | john.doe@email.com     | 2023-10-18 |\n",
       "| 11 | 24 | Excellent service                   | 555-123-4567           | 2023-10-10 |\n",
       "| 12 | 35 | Great product! Love it!             | invalid-email          | 2023-11-05 |\n",
       "| 13 |  3 | Poor quality control                | invalid-email          | 2023-07-12 |\n",
       "| 14 | 20 | terrible quality, very disappointed | bob.wilson@test.org    | 2023-06-27 |\n",
       "| 15 | 38 | Highly recommend this item          | (555) 987-6543         | 2023-02-23 |\n",
       "| 16 | 15 | Excellent service                   | (555) 987-6543         | 2023-12-01 |\n",
       "| 17 | 45 | average product, nothing special    | jane_smith@company.com | 2023-04-08 |\n",
       "| 18 |  5 | good VALUE for money                | bob.wilson@test.org    | 2023-04-12 |\n",
       "| 19 | 29 | Bad experience with delivery        | invalid-email          | 2023-01-23 |\n",
       "| 20 | 27 | Bad experience with delivery        | invalid-email          | 2023-04-23 |\n",
       "| 21 | 21 | terrible quality, very disappointed | 555-123-4567           | 2023-09-26 |\n",
       "| 22 | 16 | Excellent service                   | invalid-email          | 2024-02-03 |\n",
       "| 23 |  2 | average product, nothing special    | invalid-email          | 2024-02-29 |\n",
       "| 24 | 17 | Highly recommend this item          | jane_smith@company.com | 2023-11-25 |\n",
       "| 25 | 47 | terrible quality, very disappointed | john.doe@email.com     | 2024-03-13 |\n",
       "| 26 |  9 | AMAZING customer support!!!         | invalid-email          | 2024-02-19 |\n",
       "| 27 |  8 | terrible quality, very disappointed | (555) 987-6543         | 2024-02-02 |\n",
       "| 28 |  8 | good VALUE for money                | jane_smith@company.com | 2023-09-29 |\n",
       "| 29 | 46 | Great product! Love it!             | 555-123-4567           | 2024-01-16 |\n",
       "| 30 | 11 | AMAZING customer support!!!         | 555-123-4567           | 2023-04-14 |\n",
       "| ⋮ | ⋮ | ⋮ | ⋮ | ⋮ |\n",
       "|  71 | 41 | terrible quality, very disappointed | john.doe@email.com     | 2023-08-10 |\n",
       "|  72 | 12 | good VALUE for money                | bob.wilson@test.org    | 2023-12-11 |\n",
       "|  73 | 12 | Outstanding performance             | 555-123-4567           | 2023-02-14 |\n",
       "|  74 | 16 | Poor quality control                | 555-123-4567           | 2023-07-05 |\n",
       "|  75 | 27 | average product, nothing special    | jane_smith@company.com | 2023-04-16 |\n",
       "|  76 | 30 | average product, nothing special    | jane_smith@company.com | 2024-01-11 |\n",
       "|  77 | 38 | Great product! Love it!             | invalid-email          | 2023-01-28 |\n",
       "|  78 | 26 | average product, nothing special    | bob.wilson@test.org    | 2023-12-26 |\n",
       "|  79 | 17 | AMAZING customer support!!!         | john.doe@email.com     | 2024-03-12 |\n",
       "|  80 | 26 | good VALUE for money                | 555-123-4567           | 2024-03-03 |\n",
       "|  81 | 22 | Highly recommend this item          | 555-123-4567           | 2023-01-03 |\n",
       "|  82 |  9 | average product, nothing special    | invalid-email          | 2023-07-28 |\n",
       "|  83 | 37 | terrible quality, very disappointed | (555) 987-6543         | 2023-03-30 |\n",
       "|  84 | 35 | Poor quality control                | jane_smith@company.com | 2023-11-07 |\n",
       "|  85 | 49 | Outstanding performance             | jane_smith@company.com | 2023-11-30 |\n",
       "|  86 | 18 | terrible quality, very disappointed | jane_smith@company.com | 2023-02-21 |\n",
       "|  87 | 20 | average product, nothing special    | john.doe@email.com     | 2023-04-24 |\n",
       "|  88 | 49 | average product, nothing special    | invalid-email          | 2023-06-08 |\n",
       "|  89 | 23 | Excellent service                   | invalid-email          | 2023-12-06 |\n",
       "|  90 | 48 | AMAZING customer support!!!         | bob.wilson@test.org    | 2023-07-07 |\n",
       "|  91 | 15 | Excellent service                   | invalid-email          | 2023-10-29 |\n",
       "|  92 |  5 | Bad experience with delivery        | invalid-email          | 2024-01-20 |\n",
       "|  93 | 46 | Outstanding performance             | jane_smith@company.com | 2023-05-17 |\n",
       "|  94 | 35 | Bad experience with delivery        | 555-123-4567           | 2023-10-20 |\n",
       "|  95 | 34 | AMAZING customer support!!!         | bob.wilson@test.org    | 2023-03-25 |\n",
       "|  96 |  1 | Poor quality control                | john.doe@email.com     | 2023-06-07 |\n",
       "|  97 | 40 | Excellent service                   | 555-123-4567           | 2023-10-02 |\n",
       "|  98 | 30 | terrible quality, very disappointed | jane_smith@company.com | 2023-03-28 |\n",
       "|  99 | 38 | good VALUE for money                | invalid-email          | 2023-09-24 |\n",
       "| 100 | 50 | Poor quality control                | bob.wilson@test.org    | 2023-09-02 |\n",
       "\n"
      ],
      "text/plain": [
       "    FeedbackID CustomerID Feedback_Text                      \n",
       "1    1         12         Highly recommend this item         \n",
       "2    2         40         Excellent service                  \n",
       "3    3         34         Poor quality control               \n",
       "4    4          1         average product, nothing special   \n",
       "5    5         47         AMAZING customer support!!!        \n",
       "6    6         13         AMAZING customer support!!!        \n",
       "7    7         13         average product, nothing special   \n",
       "8    8         37         good VALUE for money               \n",
       "9    9         49         Highly recommend this item         \n",
       "10  10         23         Highly recommend this item         \n",
       "11  11         24         Excellent service                  \n",
       "12  12         35         Great product! Love it!            \n",
       "13  13          3         Poor quality control               \n",
       "14  14         20         terrible quality, very disappointed\n",
       "15  15         38         Highly recommend this item         \n",
       "16  16         15         Excellent service                  \n",
       "17  17         45         average product, nothing special   \n",
       "18  18          5         good VALUE for money               \n",
       "19  19         29         Bad experience with delivery       \n",
       "20  20         27         Bad experience with delivery       \n",
       "21  21         21         terrible quality, very disappointed\n",
       "22  22         16         Excellent service                  \n",
       "23  23          2         average product, nothing special   \n",
       "24  24         17         Highly recommend this item         \n",
       "25  25         47         terrible quality, very disappointed\n",
       "26  26          9         AMAZING customer support!!!        \n",
       "27  27          8         terrible quality, very disappointed\n",
       "28  28          8         good VALUE for money               \n",
       "29  29         46         Great product! Love it!            \n",
       "30  30         11         AMAZING customer support!!!        \n",
       "⋮   ⋮          ⋮          ⋮                                  \n",
       "71   71        41         terrible quality, very disappointed\n",
       "72   72        12         good VALUE for money               \n",
       "73   73        12         Outstanding performance            \n",
       "74   74        16         Poor quality control               \n",
       "75   75        27         average product, nothing special   \n",
       "76   76        30         average product, nothing special   \n",
       "77   77        38         Great product! Love it!            \n",
       "78   78        26         average product, nothing special   \n",
       "79   79        17         AMAZING customer support!!!        \n",
       "80   80        26         good VALUE for money               \n",
       "81   81        22         Highly recommend this item         \n",
       "82   82         9         average product, nothing special   \n",
       "83   83        37         terrible quality, very disappointed\n",
       "84   84        35         Poor quality control               \n",
       "85   85        49         Outstanding performance            \n",
       "86   86        18         terrible quality, very disappointed\n",
       "87   87        20         average product, nothing special   \n",
       "88   88        49         average product, nothing special   \n",
       "89   89        23         Excellent service                  \n",
       "90   90        48         AMAZING customer support!!!        \n",
       "91   91        15         Excellent service                  \n",
       "92   92         5         Bad experience with delivery       \n",
       "93   93        46         Outstanding performance            \n",
       "94   94        35         Bad experience with delivery       \n",
       "95   95        34         AMAZING customer support!!!        \n",
       "96   96         1         Poor quality control               \n",
       "97   97        40         Excellent service                  \n",
       "98   98        30         terrible quality, very disappointed\n",
       "99   99        38         good VALUE for money               \n",
       "100 100        50         Poor quality control               \n",
       "    Contact_Info           Feedback_Date\n",
       "1   bob.wilson@test.org    2024-02-23   \n",
       "2   555-123-4567           2024-01-21   \n",
       "3   jane_smith@company.com 2023-09-02   \n",
       "4   jane_smith@company.com 2023-08-21   \n",
       "5   555-123-4567           2023-04-24   \n",
       "6   john.doe@email.com     2023-04-16   \n",
       "7   (555) 987-6543         2024-03-13   \n",
       "8   (555) 987-6543         2023-07-15   \n",
       "9   invalid-email          2023-03-03   \n",
       "10  john.doe@email.com     2023-10-18   \n",
       "11  555-123-4567           2023-10-10   \n",
       "12  invalid-email          2023-11-05   \n",
       "13  invalid-email          2023-07-12   \n",
       "14  bob.wilson@test.org    2023-06-27   \n",
       "15  (555) 987-6543         2023-02-23   \n",
       "16  (555) 987-6543         2023-12-01   \n",
       "17  jane_smith@company.com 2023-04-08   \n",
       "18  bob.wilson@test.org    2023-04-12   \n",
       "19  invalid-email          2023-01-23   \n",
       "20  invalid-email          2023-04-23   \n",
       "21  555-123-4567           2023-09-26   \n",
       "22  invalid-email          2024-02-03   \n",
       "23  invalid-email          2024-02-29   \n",
       "24  jane_smith@company.com 2023-11-25   \n",
       "25  john.doe@email.com     2024-03-13   \n",
       "26  invalid-email          2024-02-19   \n",
       "27  (555) 987-6543         2024-02-02   \n",
       "28  jane_smith@company.com 2023-09-29   \n",
       "29  555-123-4567           2024-01-16   \n",
       "30  555-123-4567           2023-04-14   \n",
       "⋮   ⋮                      ⋮            \n",
       "71  john.doe@email.com     2023-08-10   \n",
       "72  bob.wilson@test.org    2023-12-11   \n",
       "73  555-123-4567           2023-02-14   \n",
       "74  555-123-4567           2023-07-05   \n",
       "75  jane_smith@company.com 2023-04-16   \n",
       "76  jane_smith@company.com 2024-01-11   \n",
       "77  invalid-email          2023-01-28   \n",
       "78  bob.wilson@test.org    2023-12-26   \n",
       "79  john.doe@email.com     2024-03-12   \n",
       "80  555-123-4567           2024-03-03   \n",
       "81  555-123-4567           2023-01-03   \n",
       "82  invalid-email          2023-07-28   \n",
       "83  (555) 987-6543         2023-03-30   \n",
       "84  jane_smith@company.com 2023-11-07   \n",
       "85  jane_smith@company.com 2023-11-30   \n",
       "86  jane_smith@company.com 2023-02-21   \n",
       "87  john.doe@email.com     2023-04-24   \n",
       "88  invalid-email          2023-06-08   \n",
       "89  invalid-email          2023-12-06   \n",
       "90  bob.wilson@test.org    2023-07-07   \n",
       "91  invalid-email          2023-10-29   \n",
       "92  invalid-email          2024-01-20   \n",
       "93  jane_smith@company.com 2023-05-17   \n",
       "94  555-123-4567           2023-10-20   \n",
       "95  bob.wilson@test.org    2023-03-25   \n",
       "96  john.doe@email.com     2023-06-07   \n",
       "97  555-123-4567           2023-10-02   \n",
       "98  jane_smith@company.com 2023-03-28   \n",
       "99  invalid-email          2023-09-24   \n",
       "100 bob.wilson@test.org    2023-09-02   "
      ]
     },
     "metadata": {},
     "output_type": "display_data"
    },
    {
     "name": "stdout",
     "output_type": "stream",
     "text": [
      "[1] \"Summary:\"\n"
     ]
    },
    {
     "data": {
      "text/plain": [
       "   FeedbackID       CustomerID    Feedback_Text      Contact_Info      \n",
       " Min.   :  1.00   Min.   : 1.00   Length:100         Length:100        \n",
       " 1st Qu.: 25.75   1st Qu.:15.00   Class :character   Class :character  \n",
       " Median : 50.50   Median :26.00   Mode  :character   Mode  :character  \n",
       " Mean   : 50.50   Mean   :26.27                                        \n",
       " 3rd Qu.: 75.25   3rd Qu.:38.00                                        \n",
       " Max.   :100.00   Max.   :50.00                                        \n",
       " Feedback_Date                \n",
       " Min.   :2023-01-03 00:00:00  \n",
       " 1st Qu.:2023-04-23 18:00:00  \n",
       " Median :2023-08-24 12:00:00  \n",
       " Mean   :2023-08-22 07:26:24  \n",
       " 3rd Qu.:2023-12-07 06:00:00  \n",
       " Max.   :2024-03-30 00:00:00  "
      ]
     },
     "metadata": {},
     "output_type": "display_data"
    }
   ],
   "source": [
    "# TODO: Add your code here for comments_df inspection\n",
    "# - First 10 rows\n",
    "print(\"First 10 Rows:\")\n",
    "head(comments_df)\n",
    "# - Structure\n",
    "print(\"Structure:\")\n",
    "structure(comments_df)\n",
    "# - Summary statistics\n",
    "print(\"Summary:\")\n",
    "summary(comments_df)"
   ]
  },
  {
   "cell_type": "markdown",
   "id": "22e57679",
   "metadata": {},
   "source": [
    "**Your observations about comments_df:**\n",
    "\n",
    "Comments_DF features 5 categories, FeedbackID a number, CustomerID a number, feedback_text which are character values, contact_info which are character values and feedback_date which are date values.\n",
    "\n",
    "The entire dataset is mostly comprised of characters with multiple missing entries in the contact_info category which is marked \"invalid-email\" and also features a mix of email and phone numbers. \n",
    "\n",
    "Feedback ID goes from 1 to 100, Customer ID goes from 1 to 50, there are 100 entries each of feedback_text and contact_info and the feedback_date goes from Jan 1 2023 to March 30 2024"
   ]
  },
  {
   "cell_type": "markdown",
   "id": "41902067",
   "metadata": {},
   "source": [
    "**Reflection Question 1:** What did you observe about the structure and content of the data files you loaded? What insights can you share about the quality and organization of the data?\n",
    "\n",
    "**Your Answer:**\n",
    "\n",
    "The data sets are overall well organized, however inherit issues exist when it comes to the Comments data frame which causes it to require a lot of work and data cleaning for it to be useful in data analysis. The structure is sound for all three and cater to the types of data being collected."
   ]
  },
  {
   "cell_type": "markdown",
   "id": "cccf1c99",
   "metadata": {},
   "source": [
    "### Question 1: Data Types Analysis\n",
    "\n",
    "Based on your inspection of `sales_df`, what are the data types of the `Date` and `Amount` columns? Are these data types appropriate for typical business analytics tasks involving sales data? Explain why or why not.\n",
    "\n",
    "**Your Answer:**\n",
    "\n",
    "the Date column is stored as a date in the format YYYY-MM-DD which allows it to be treated like a date, which makes it easily sortable, allowing for month-by-month trends to be created. The amount column is stored as a double number, which allows it to be manipulated and adjusted (in conjunction with the quantity column) this makes these types appropriate for sales data."
   ]
  },
  {
   "cell_type": "markdown",
   "id": "ab78e27a",
   "metadata": {},
   "source": [
    "### Question 2: Data Quality Assessment\n",
    "\n",
    "Looking at all three datasets, what potential data quality issues do you notice? Consider missing values, data types, and any unusual patterns.\n",
    "\n",
    "**Your Answer:**\n",
    "\n",
    "For the Sales_df sheet it is mostly fine, data is filled in accurately, the content seems sound. Ratings_DF is purely catogrized ratings from 1 to 5 or 1 to 10 which makes it easy for analysis, however these ratings are sorted by customer id which requires more context especially when it comes to product rating, meaning that the use of the sales and ratings sheets to do analysis. Finally the comments_df, this sheet is problematic with multiple fields of missing data, data only in plain text. It's use is limited by the stakeholder's value of text-based scrutiny of their products over the ratings sheet."
   ]
  },
  {
   "cell_type": "markdown",
   "id": "4f119d61",
   "metadata": {},
   "source": [
    "### Question 3: Analysis Readiness\n",
    "\n",
    "Which of the three datasets appears most ready for analysis, and which would require the most preprocessing? Justify your answer.\n",
    "\n",
    "**Your Answer:**\n",
    "\n",
    "I think that the ratings_df is the most ready for analysis due to it's large amounts of number data only needing some more context (such as a product column) to gain valuable insight. The most processing needs to happen for the comments_df dataset to be useful to the end user. It would require signifcant data cleanup (such as the creation of a phone column and an email column, and the removal of entries that fail to provide either), this set is most useful for a company who wants to do targeted analysis or a product study with a group of customers."
   ]
  },
  {
   "cell_type": "markdown",
   "id": "8ad26c10",
   "metadata": {},
   "source": [
    "---\n",
    "\n",
    "## Submission Checklist\n",
    "\n",
    "Before submitting, make sure you have:\n",
    "\n",
    "- [ ] Completed all code cells in Parts 1 and 2\n",
    "- [ ] Run all cells to show output\n",
    "- [ ] Added your observations for each dataset\n",
    "- [ ] Answered all reflection questions in Part 3\n",
    "- [ ] Added your name and date at the top\n",
    "- [ ] Saved the notebook\n",
    "- [ ] Committed and pushed your changes to GitHub\n",
    "\n",
    "**Great work completing your first R data analysis assignment! 🎉**"
   ]
  },
  {
   "cell_type": "markdown",
   "id": "5fe3aeb4",
   "metadata": {},
   "source": [
    "---\n",
    "\n",
    "## 🚀 Ready to Submit?\n",
    "\n",
    "### Easy Submission Steps (No Command Line Required!):\n",
    "\n",
    "1. **Save this notebook** (Ctrl+S or File → Save)\n",
    "\n",
    "2. **Use VS Code Source Control**:\n",
    "   - Click the **Source Control** icon in the left sidebar (tree branch symbol)\n",
    "   - Click the **\"+\"** button next to your notebook file\n",
    "   - Type a message: `Submit homework 1 - [Your Name]`\n",
    "   - Click **\"Commit\"** \n",
    "   - Click **\"Sync Changes\"** or **\"Push\"**\n",
    "\n",
    "3. **Verify on GitHub**: Go to your repository online and confirm your notebook appears with your completed work\n",
    "\n",
    "**📖 Need help?** See [GITHUB_CLASSROOM_SUBMISSION.md](../../GITHUB_CLASSROOM_SUBMISSION.md) for detailed instructions.\n",
    "\n",
    "**🎉 Congratulations on completing your first R data analysis assignment!**"
   ]
  }
 ],
 "metadata": {
  "kernelspec": {
   "display_name": "R",
   "language": "R",
   "name": "ir"
  },
  "language_info": {
   "codemirror_mode": "r",
   "file_extension": ".r",
   "mimetype": "text/x-r-source",
   "name": "R",
   "pygments_lexer": "r",
   "version": "4.4.3"
  }
 },
 "nbformat": 4,
 "nbformat_minor": 5
}
