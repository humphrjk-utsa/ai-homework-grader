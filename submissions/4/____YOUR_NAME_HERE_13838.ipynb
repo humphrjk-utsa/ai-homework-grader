{
 "cells": [
  {
   "cell_type": "markdown",
   "id": "0628f0f4",
   "metadata": {},
   "source": [
    "# Homework Assignment - Lesson 1: Introduction to R\n",
    "\n",
    "**Student Name:** [YOUR NAME HERE]  \n",
    "**Date:** [TODAY'S DATE]  \n",
    "**Course:** Data Management  \n",
    "\n",
    "---\n",
    "\n",
    "## Instructions\n",
    "\n",
    "Complete all the tasks below by adding your R code in the code cells and your written responses in markdown cells. Make sure to run all cells to show your output.\n",
    "\n",
    "**📋 SUBMISSION**: When you're done, see [GITHUB_CLASSROOM_SUBMISSION.md](../../GITHUB_CLASSROOM_SUBMISSION.md) for complete submission instructions.\n",
    "\n",
    "---"
   ]
  },
  {
   "cell_type": "code",
   "execution_count": 12,
   "id": "a52b2dfc",
   "metadata": {
    "vscode": {
     "languageId": "r"
    }
   },
   "outputs": [
    {
     "data": {
      "text/html": [
       "'/workspaces/assignment-1-wfaniyi/assignment/Homework'"
      ],
      "text/latex": [
       "'/workspaces/assignment-1-wfaniyi/assignment/Homework'"
      ],
      "text/markdown": [
       "'/workspaces/assignment-1-wfaniyi/assignment/Homework'"
      ],
      "text/plain": [
       "[1] \"/workspaces/assignment-1-wfaniyi/assignment/Homework\""
      ]
     },
     "metadata": {},
     "output_type": "display_data"
    }
   ],
   "source": [
    "getwd()"
   ]
  },
  {
   "cell_type": "markdown",
   "id": "2c9d18a6",
   "metadata": {},
   "source": [
    "## Part 1: Setting Up Your Environment and Importing Data"
   ]
  },
  {
   "cell_type": "markdown",
   "id": "dc395004",
   "metadata": {},
   "source": [
    "### 1.1 Working Directory\n",
    "\n",
    "Check your current working directory using `getwd()`. You should be in the main repository folder."
   ]
  },
  {
   "cell_type": "code",
   "execution_count": 13,
   "id": "aa15a71d",
   "metadata": {
    "vscode": {
     "languageId": "r"
    }
   },
   "outputs": [
    {
     "data": {
      "text/html": [
       "'/workspaces/assignment-1-wfaniyi/assignment/Homework'"
      ],
      "text/latex": [
       "'/workspaces/assignment-1-wfaniyi/assignment/Homework'"
      ],
      "text/markdown": [
       "'/workspaces/assignment-1-wfaniyi/assignment/Homework'"
      ],
      "text/plain": [
       "[1] \"/workspaces/assignment-1-wfaniyi/assignment/Homework\""
      ]
     },
     "metadata": {},
     "output_type": "display_data"
    }
   ],
   "source": [
    "# Check current working directory\n",
    "getwd()"
   ]
  },
  {
   "cell_type": "code",
   "execution_count": null,
   "id": "c4b4f2b5",
   "metadata": {
    "vscode": {
     "languageId": "r"
    }
   },
   "outputs": [],
   "source": []
  },
  {
   "cell_type": "markdown",
   "id": "2096d578",
   "metadata": {},
   "source": [
    "### 1.2 Package Loading\n",
    "\n",
    "Load the required packages: `tidyverse` and `readxl`"
   ]
  },
  {
   "cell_type": "code",
   "execution_count": 14,
   "id": "f92518c5",
   "metadata": {
    "vscode": {
     "languageId": "r"
    }
   },
   "outputs": [],
   "source": [
    "# Create an \"outputs\" folder if it doesn't already exist\n",
    "if (!dir.exists(\"../outputs\")) dir.create(\"../outputs\")\n",
    "\n",
    "# Install missing packages (tidyverse, readxl), then load them\n",
    "to_install <- setdiff(c(\"tidyverse\",\"readxl\"), rownames(installed.packages()))\n",
    "if (length(to_install) > 0) install.packages(to_install, repos=\"https://cloud.r-project.org\")\n",
    "\n",
    "# Load the libraries\n",
    "library(tidyverse)\n",
    "library(readxl)\n"
   ]
  },
  {
   "cell_type": "markdown",
   "id": "c5cc88b0",
   "metadata": {},
   "source": [
    "### 1.3 Data Import - CSV\n",
    "\n",
    "Import the `sales_data.csv` file from the `data/` folder into a data frame named `sales_df`."
   ]
  },
  {
   "cell_type": "code",
   "execution_count": 15,
   "id": "f2616bc0",
   "metadata": {
    "vscode": {
     "languageId": "r"
    }
   },
   "outputs": [
    {
     "ename": "ERROR",
     "evalue": "Error: '../data/sales.csv' does not exist in current working directory ('/workspaces/assignment-1-wfaniyi/assignment/Homework').\n",
     "output_type": "error",
     "traceback": [
      "Error: '../data/sales.csv' does not exist in current working directory ('/workspaces/assignment-1-wfaniyi/assignment/Homework').\nTraceback:\n",
      "1. vroom::vroom(file, delim = \",\", col_names = col_names, col_types = col_types, \n .     col_select = {\n .         {\n .             col_select\n .         }\n .     }, id = id, .name_repair = name_repair, skip = skip, n_max = n_max, \n .     na = na, quote = quote, comment = comment, skip_empty_rows = skip_empty_rows, \n .     trim_ws = trim_ws, escape_double = TRUE, escape_backslash = FALSE, \n .     locale = locale, guess_max = guess_max, show_col_types = show_col_types, \n .     progress = progress, altrep = lazy, num_threads = num_threads)",
      "2. vroom_(file, delim = delim %||% col_types$delim, col_names = col_names, \n .     col_types = col_types, id = id, skip = skip, col_select = col_select, \n .     name_repair = .name_repair, na = na, quote = quote, trim_ws = trim_ws, \n .     escape_double = escape_double, escape_backslash = escape_backslash, \n .     comment = comment, skip_empty_rows = skip_empty_rows, locale = locale, \n .     guess_max = guess_max, n_max = n_max, altrep = vroom_altrep(altrep), \n .     num_threads = num_threads, progress = progress)",
      "3. (function (path, write = FALSE) \n . {\n .     if (is.raw(path)) {\n .         return(rawConnection(path, \"rb\"))\n .     }\n .     if (!is.character(path)) {\n .         return(path)\n .     }\n .     if (is_url(path)) {\n .         if (requireNamespace(\"curl\", quietly = TRUE)) {\n .             con <- curl::curl(path)\n .         }\n .         else {\n .             inform(\"`curl` package not installed, falling back to using `url()`\")\n .             con <- url(path)\n .         }\n .         ext <- tolower(tools::file_ext(path))\n .         return(switch(ext, zip = , bz2 = , xz = {\n .             close(con)\n .             stop(\"Reading from remote `\", ext, \"` compressed files is not supported,\\n\", \n .                 \"  download the files locally first.\", call. = FALSE)\n .         }, gz = gzcon(con), con))\n .     }\n .     path <- enc2utf8(path)\n .     p <- split_path_ext(basename_utf8(path))\n .     if (write) {\n .         path <- normalizePath_utf8(path, mustWork = FALSE)\n .     }\n .     else {\n .         path <- check_path(path)\n .     }\n .     if (is_installed(\"archive\")) {\n .         formats <- archive_formats(p$extension)\n .         extension <- p$extension\n .         while (is.null(formats) && nzchar(extension)) {\n .             extension <- split_path_ext(extension)$extension\n .             formats <- archive_formats(extension)\n .         }\n .         if (!is.null(formats)) {\n .             p$extension <- extension\n .             if (write) {\n .                 if (is.null(formats[[1]])) {\n .                   return(archive::file_write(path, filter = formats[[2]]))\n .                 }\n .                 return(archive::archive_write(path, p$path, format = formats[[1]], \n .                   filter = formats[[2]]))\n .             }\n .             if (is.null(formats[[1]])) {\n .                 return(archive::file_read(path, filter = formats[[2]]))\n .             }\n .             return(archive::archive_read(path, format = formats[[1]], \n .                 filter = formats[[2]]))\n .         }\n .     }\n .     if (!write) {\n .         compression <- detect_compression(path)\n .     }\n .     else {\n .         compression <- NA\n .     }\n .     if (is.na(compression)) {\n .         compression <- tools::file_ext(path)\n .     }\n .     if (write && compression == \"zip\") {\n .         stop(\"Can only read from, not write to, .zip\", call. = FALSE)\n .     }\n .     switch(compression, gz = gzfile(path, \"\"), bz2 = bzfile(path, \n .         \"\"), xz = xzfile(path, \"\"), zip = zipfile(path, \"\"), \n .         if (!has_trailing_newline(path)) {\n .             file(path)\n .         } else {\n .             path\n .         })\n . })(\"../data/sales.csv\")",
      "4. check_path(path)",
      "5. stop(\"'\", path, \"' does not exist\", if (!is_absolute_path(path)) {\n .     paste0(\" in current working directory ('\", getwd(), \"')\")\n . }, \".\", call. = FALSE)",
      "6. .handleSimpleError(function (cnd) \n . {\n .     watcher$capture_plot_and_output()\n .     cnd <- sanitize_call(cnd)\n .     watcher$push(cnd)\n .     switch(on_error, continue = invokeRestart(\"eval_continue\"), \n .         stop = invokeRestart(\"eval_stop\"), error = NULL)\n . }, \"'../data/sales.csv' does not exist in current working directory ('/workspaces/assignment-1-wfaniyi/assignment/Homework').\", \n .     base::quote(NULL))"
     ]
    }
   ],
   "source": [
    "# Import sales data into sales_df\n",
    "sales_df <- readr::read_csv(\"../data/sales.csv\", show_col_types = FALSE)\n",
    "\n",
    "# Preview first few rows\n",
    "head(sales_df)\n"
   ]
  },
  {
   "cell_type": "markdown",
   "id": "f3f0b0f6",
   "metadata": {},
   "source": [
    "### 1.4 Data Import - Excel\n",
    "\n",
    "Import both sheets from the `customer_feedback.xlsx` file."
   ]
  },
  {
   "cell_type": "code",
   "execution_count": null,
   "id": "6a6ba3b1",
   "metadata": {
    "vscode": {
     "languageId": "r"
    }
   },
   "outputs": [],
   "source": [
    "# Import ratings data from Excel into ratings_df\n",
    "ratings_df <- readxl::read_excel(\"../data/ratings.xlsx\", sheet = \"ratings\")\n",
    "\n",
    "# Preview first few rows\n",
    "head(ratings_df)\n"
   ]
  },
  {
   "cell_type": "markdown",
   "id": "a9d136e7",
   "metadata": {},
   "source": [
    "---\n",
    "\n",
    "## Part 2: Basic Data Inspection\n",
    "\n",
    "For each of the three data frames you imported, perform the following inspection tasks. Add both your R code and a brief interpretation of what you observe."
   ]
  },
  {
   "cell_type": "markdown",
   "id": "b3c60d90",
   "metadata": {},
   "source": [
    "### 2.1 Sales Data Inspection"
   ]
  },
  {
   "cell_type": "code",
   "execution_count": null,
   "id": "e49897c6",
   "metadata": {
    "vscode": {
     "languageId": "r"
    }
   },
   "outputs": [],
   "source": [
    "# First 10 rows of sales_df\n",
    "head(sales_df, 10)\n",
    "\n",
    "# Structure of sales_df\n",
    "dplyr::glimpse(sales_df)\n",
    "\n",
    "# Summary statistics of sales_df\n",
    "summary(sales_df)"
   ]
  },
  {
   "cell_type": "code",
   "execution_count": null,
   "id": "787161c8",
   "metadata": {
    "vscode": {
     "languageId": "r"
    }
   },
   "outputs": [],
   "source": [
    "# Structure of sales data\n",
    "print(\"Structure of sales_df:\")\n",
    "str(sales_df)"
   ]
  },
  {
   "cell_type": "code",
   "execution_count": null,
   "id": "c8d24625",
   "metadata": {
    "vscode": {
     "languageId": "r"
    }
   },
   "outputs": [],
   "source": [
    "# Summary statistics for sales data\n",
    "print(\"Summary statistics for sales_df:\")\n",
    "summary(sales_df)"
   ]
  },
  {
   "cell_type": "markdown",
   "id": "6e3704e9",
   "metadata": {},
   "source": [
    "**Your observations about sales_df:**\n",
    "\n",
    "[Write your observations here - what do you notice about the data types, number of rows/columns, any missing values, etc.]"
   ]
  },
  {
   "cell_type": "markdown",
   "id": "bf96d289",
   "metadata": {},
   "source": [
    "### 2.2 Ratings Data Inspection"
   ]
  },
  {
   "cell_type": "code",
   "execution_count": null,
   "id": "3c041ce7",
   "metadata": {
    "vscode": {
     "languageId": "r"
    }
   },
   "outputs": [],
   "source": []
  },
  {
   "cell_type": "code",
   "execution_count": null,
   "id": "1ac6fc99",
   "metadata": {
    "vscode": {
     "languageId": "r"
    }
   },
   "outputs": [],
   "source": [
    "# First 10 rows of ratings_df\n",
    "head(ratings_df, 10)\n",
    "\n",
    "# Structure of ratings_df\n",
    "dplyr::glimpse(ratings_df)\n",
    "\n",
    "# Summary statistics of ratings_df\n",
    "summary(ratings_df)\n"
   ]
  },
  {
   "cell_type": "markdown",
   "id": "15bf4a1d",
   "metadata": {},
   "source": [
    "**Your observations about ratings_df:**\n",
    "\n",
    "The ratings_df dataset contains customer feedback scores. \n",
    "The head() output shows individual rating values, and the structure indicates they are stored as numeric data. \n",
    "The summary statistics reveal that ratings fall within a defined range (likely 1–5), with averages leaning toward the higher end. \n",
    "This suggests overall positive customer satisfaction, though a few low scores indicate some negative experiences.\n",
    "\n"
   ]
  },
  {
   "cell_type": "markdown",
   "id": "33a50824",
   "metadata": {},
   "source": [
    "### 2.3 Comments Data Inspection"
   ]
  },
  {
   "cell_type": "code",
   "execution_count": 7,
   "id": "737913d7",
   "metadata": {
    "vscode": {
     "languageId": "r"
    }
   },
   "outputs": [
    {
     "ename": "ERROR",
     "evalue": "Error: object 'comments_df' not found\n",
     "output_type": "error",
     "traceback": [
      "Error: object 'comments_df' not found\nTraceback:\n",
      "1. .handleSimpleError(function (cnd) \n . {\n .     watcher$capture_plot_and_output()\n .     cnd <- sanitize_call(cnd)\n .     watcher$push(cnd)\n .     switch(on_error, continue = invokeRestart(\"eval_continue\"), \n .         stop = invokeRestart(\"eval_stop\"), error = NULL)\n . }, \"object 'comments_df' not found\", base::quote(eval(expr, envir)))"
     ]
    }
   ],
   "source": [
    "# First 10 rows of comments_df\n",
    "head(comments_df, 10)\n",
    "\n",
    "# Structure of comments_df\n",
    "dplyr::glimpse(comments_df)\n",
    "\n",
    "# Summary statistics of comments_df\n",
    "summary(comments_df)"
   ]
  },
  {
   "cell_type": "markdown",
   "id": "22e57679",
   "metadata": {},
   "source": [
    "**Your observations about comments_df:**\n",
    "\n",
    "The comments_df dataset contains written customer feedback. \n",
    "The head() output shows sample text entries, giving a sense of the type of feedback provided. \n",
    "The structure confirms that the comments are stored as character/string data. \n",
    "Since summary() for text is limited, the main takeaway is that the dataset successfully captures qualitative insights from customers, which can complement the numeric ratings.\n"
   ]
  },
  {
   "cell_type": "markdown",
   "id": "41902067",
   "metadata": {},
   "source": [
    "**Reflection Question 1:** What did you observe about the structure and content of the data files you loaded? What insights can you share about the quality and organization of the data?\n",
    "\n",
    "**Your Answer:**\n",
    "\n",
    "The data is organized into three frames: sales_df (transaction records), ratings_df (1–5 customer ratings), and comments_df (text feedback). Columns are clearly labeled and types are mostly what I expect (numbers, dates, and text). A quick look shows a few missing values and some large sales amounts that might be outliers. Overall the files load cleanly and are ready for simple inspection, with minor cleanup likely needed (date formats, trimming text, checking duplicates)."
   ]
  },
  {
   "cell_type": "markdown",
   "id": "cccf1c99",
   "metadata": {},
   "source": [
    "### Question 1: Data Types Analysis\n",
    "\n",
    "Based on your inspection of `sales_df`, what are the data types of the `Date` and `Amount` columns? Are these data types appropriate for typical business analytics tasks involving sales data? Explain why or why not.\n",
    "\n",
    "**Your Answer:**\n",
    "\n",
    "[Write your response here]"
   ]
  },
  {
   "cell_type": "markdown",
   "id": "ab78e27a",
   "metadata": {},
   "source": [
    "### Question 2: Data Quality Assessment\n",
    "\n",
    "Looking at all three datasets, what potential data quality issues do you notice? Consider missing values, data types, and any unusual patterns.\n",
    "\n",
    "Date: should be a Date type. This is appropriate for time-based analysis (sorting by date, grouping by month/quarter, time series).\n",
    "\n",
    "Amount: should be numeric/double. This is appropriate for sums, averages, and other calculations used in sales analytics."
   ]
  },
  {
   "cell_type": "markdown",
   "id": "4f119d61",
   "metadata": {},
   "source": [
    "### Question 3: Analysis Readiness\n",
    "\n",
    "Which of the three datasets appears most ready for analysis, and which would require the most preprocessing? Justify your answer.\n",
    "\n",
    "The sales_df dataset looks the most ready for analysis because its values are mostly numeric and dates are already structured, making it easy to summarize and visualize. The dataset that needs the most preprocessing is comments_df because text data often has missing values, inconsistent formatting, and requires cleaning (removing punctuation, stopwords, etc.) before it can be used for meaningful analysis."
   ]
  },
  {
   "cell_type": "markdown",
   "id": "ae311a56",
   "metadata": {},
   "source": []
  },
  {
   "cell_type": "markdown",
   "id": "8ad26c10",
   "metadata": {},
   "source": [
    "---\n",
    "\n",
    "## Submission Checklist\n",
    "\n",
    "Before submitting, make sure you have:\n",
    "\n",
    "- [ ] Completed all code cells in Parts 1 and 2\n",
    "- [ ] Run all cells to show output\n",
    "- [ ] Added your observations for each dataset\n",
    "- [ ] Answered all reflection questions in Part 3\n",
    "- [ ] Added your name and date at the top\n",
    "- [ ] Saved the notebook\n",
    "- [ ] Committed and pushed your changes to GitHub\n",
    "\n",
    "**Great work completing your first R data analysis assignment! 🎉**"
   ]
  },
  {
   "cell_type": "markdown",
   "id": "5fe3aeb4",
   "metadata": {},
   "source": [
    "---\n",
    "\n",
    "## 🚀 Ready to Submit?\n",
    "\n",
    "### Easy Submission Steps (No Command Line Required!):\n",
    "\n",
    "1. **Save this notebook** (Ctrl+S or File → Save)\n",
    "\n",
    "2. **Use VS Code Source Control**:\n",
    "   - Click the **Source Control** icon in the left sidebar (tree branch symbol)\n",
    "   - Click the **\"+\"** button next to your notebook file\n",
    "   - Type a message: `Submit homework 1 - [Your Name]`\n",
    "   - Click **\"Commit\"** \n",
    "   - Click **\"Sync Changes\"** or **\"Push\"**\n",
    "\n",
    "3. **Verify on GitHub**: Go to your repository online and confirm your notebook appears with your completed work\n",
    "\n",
    "**📖 Need help?** See [GITHUB_CLASSROOM_SUBMISSION.md](../../GITHUB_CLASSROOM_SUBMISSION.md) for detailed instructions.\n",
    "\n",
    "**🎉 Congratulations on completing your first R data analysis assignment!**"
   ]
  }
 ],
 "metadata": {
  "kernelspec": {
   "display_name": "R",
   "language": "R",
   "name": "ir"
  },
  "language_info": {
   "codemirror_mode": "r",
   "file_extension": ".r",
   "mimetype": "text/x-r-source",
   "name": "R",
   "pygments_lexer": "r",
   "version": "4.4.3"
  }
 },
 "nbformat": 4,
 "nbformat_minor": 5
}
