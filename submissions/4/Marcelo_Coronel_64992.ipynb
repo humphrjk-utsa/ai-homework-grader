{
 "cells": [
  {
   "cell_type": "markdown",
   "id": "0628f0f4",
   "metadata": {},
   "source": [
    "# Homework Assignment - Lesson 1: Introduction to R\n",
    "\n",
    "**Student Name:** [Marcelo Coronel]  \n",
    "**Date:** [9/8/2025]  \n",
    "**Course:** Data Management  \n",
    "\n",
    "---\n",
    "\n",
    "## Instructions\n",
    "\n",
    "Complete all the tasks below by adding your R code in the code cells and your written responses in markdown cells. Make sure to run all cells to show your output.\n",
    "\n",
    "**📋 SUBMISSION**: When you're done, see [GITHUB_CLASSROOM_SUBMISSION.md](../../GITHUB_CLASSROOM_SUBMISSION.md) for complete submission instructions.\n",
    "\n",
    "---"
   ]
  },
  {
   "cell_type": "markdown",
   "id": "2c9d18a6",
   "metadata": {},
   "source": [
    "## Part 1: Setting Up Your Environment and Importing Data"
   ]
  },
  {
   "cell_type": "markdown",
   "id": "dc395004",
   "metadata": {},
   "source": [
    "### 1.1 Working Directory\n",
    "\n",
    "Check your current working directory using `getwd()`. You should be in the main repository folder."
   ]
  },
  {
   "cell_type": "code",
   "execution_count": 1,
   "id": "aa15a71d",
   "metadata": {
    "vscode": {
     "languageId": "r"
    }
   },
   "outputs": [
    {
     "data": {
      "text/html": [
       "'/workspaces/assignment-1-coronelmm'"
      ],
      "text/latex": [
       "'/workspaces/assignment-1-coronelmm'"
      ],
      "text/markdown": [
       "'/workspaces/assignment-1-coronelmm'"
      ],
      "text/plain": [
       "[1] \"/workspaces/assignment-1-coronelmm\""
      ]
     },
     "metadata": {},
     "output_type": "display_data"
    }
   ],
   "source": [
    "# Check current working directory\n",
    "setwd('/workspaces/assignment-1-coronelmm')\n",
    "getwd()"
   ]
  },
  {
   "cell_type": "markdown",
   "id": "2096d578",
   "metadata": {},
   "source": [
    "### 1.2 Package Loading\n",
    "\n",
    "Load the required packages: `tidyverse` and `readxl`"
   ]
  },
  {
   "cell_type": "code",
   "execution_count": 2,
   "id": "f92518c5",
   "metadata": {
    "vscode": {
     "languageId": "r"
    }
   },
   "outputs": [
    {
     "name": "stderr",
     "output_type": "stream",
     "text": [
      "── \u001b[1mAttaching core tidyverse packages\u001b[22m ──────────────────────── tidyverse 2.0.0 ──\n",
      "\u001b[32m✔\u001b[39m \u001b[34mdplyr    \u001b[39m 1.1.4     \u001b[32m✔\u001b[39m \u001b[34mreadr    \u001b[39m 2.1.5\n",
      "\u001b[32m✔\u001b[39m \u001b[34mforcats  \u001b[39m 1.0.0     \u001b[32m✔\u001b[39m \u001b[34mstringr  \u001b[39m 1.5.1\n",
      "\u001b[32m✔\u001b[39m \u001b[34mggplot2  \u001b[39m 3.5.2     \u001b[32m✔\u001b[39m \u001b[34mtibble   \u001b[39m 3.3.0\n",
      "\u001b[32m✔\u001b[39m \u001b[34mlubridate\u001b[39m 1.9.4     \u001b[32m✔\u001b[39m \u001b[34mtidyr    \u001b[39m 1.3.1\n",
      "\u001b[32m✔\u001b[39m \u001b[34mpurrr    \u001b[39m 1.1.0     \n",
      "── \u001b[1mConflicts\u001b[22m ────────────────────────────────────────── tidyverse_conflicts() ──\n",
      "\u001b[31m✖\u001b[39m \u001b[34mdplyr\u001b[39m::\u001b[32mfilter()\u001b[39m masks \u001b[34mstats\u001b[39m::filter()\n",
      "\u001b[31m✖\u001b[39m \u001b[34mdplyr\u001b[39m::\u001b[32mlag()\u001b[39m    masks \u001b[34mstats\u001b[39m::lag()\n",
      "\u001b[36mℹ\u001b[39m Use the conflicted package (\u001b[3m\u001b[34m<http://conflicted.r-lib.org/>\u001b[39m\u001b[23m) to force all conflicts to become errors\n"
     ]
    }
   ],
   "source": [
    "# Load required packages\n",
    "library(tidyverse)\n",
    "library(readxl)"
   ]
  },
  {
   "cell_type": "markdown",
   "id": "c5cc88b0",
   "metadata": {},
   "source": [
    "### 1.3 Data Import - CSV\n",
    "\n",
    "Import the `sales_data.csv` file from the `data/` folder into a data frame named `sales_df`."
   ]
  },
  {
   "cell_type": "code",
   "execution_count": 3,
   "id": "f2616bc0",
   "metadata": {
    "vscode": {
     "languageId": "r"
    }
   },
   "outputs": [
    {
     "name": "stdout",
     "output_type": "stream",
     "text": [
      "[1] \"Sales data imported successfully!\"\n"
     ]
    }
   ],
   "source": [
    "# Import sales data\n",
    "sales_df <- read.csv(\"data/sales_data.csv\")\n",
    "print(\"Sales data imported successfully!\")"
   ]
  },
  {
   "cell_type": "markdown",
   "id": "f3f0b0f6",
   "metadata": {},
   "source": [
    "### 1.4 Data Import - Excel\n",
    "\n",
    "Import both sheets from the `customer_feedback.xlsx` file."
   ]
  },
  {
   "cell_type": "code",
   "execution_count": 4,
   "id": "6a6ba3b1",
   "metadata": {
    "vscode": {
     "languageId": "r"
    }
   },
   "outputs": [
    {
     "name": "stdout",
     "output_type": "stream",
     "text": [
      "[1] \"Excel data imported successfully!\"\n"
     ]
    }
   ],
   "source": [
    "# Import ratings data from Excel\n",
    "ratings_df <- read_excel(\"data/customer_feedback.xlsx\", sheet = \"ratings\")\n",
    "\n",
    "# Import comments data from Excel  \n",
    "comments_df <- read_excel(\"data/customer_feedback.xlsx\", sheet = \"customer_feedback\")\n",
    "\n",
    "print(\"Excel data imported successfully!\")"
   ]
  },
  {
   "cell_type": "markdown",
   "id": "a9d136e7",
   "metadata": {},
   "source": [
    "---\n",
    "\n",
    "## Part 2: Basic Data Inspection\n",
    "\n",
    "For each of the three data frames you imported, perform the following inspection tasks. Add both your R code and a brief interpretation of what you observe."
   ]
  },
  {
   "cell_type": "markdown",
   "id": "b3c60d90",
   "metadata": {},
   "source": [
    "### 2.1 Sales Data Inspection"
   ]
  },
  {
   "cell_type": "code",
   "execution_count": 5,
   "id": "e49897c6",
   "metadata": {
    "vscode": {
     "languageId": "r"
    }
   },
   "outputs": [
    {
     "name": "stdout",
     "output_type": "stream",
     "text": [
      "[1] \"First 10 rows of sales_df:\"\n"
     ]
    },
    {
     "data": {
      "text/html": [
       "<table class=\"dataframe\">\n",
       "<caption>A data.frame: 10 × 6</caption>\n",
       "<thead>\n",
       "\t<tr><th></th><th scope=col>TransactionID</th><th scope=col>Date</th><th scope=col>Product</th><th scope=col>Amount</th><th scope=col>Quantity</th><th scope=col>Region</th></tr>\n",
       "\t<tr><th></th><th scope=col>&lt;int&gt;</th><th scope=col>&lt;chr&gt;</th><th scope=col>&lt;chr&gt;</th><th scope=col>&lt;dbl&gt;</th><th scope=col>&lt;int&gt;</th><th scope=col>&lt;chr&gt;</th></tr>\n",
       "</thead>\n",
       "<tbody>\n",
       "\t<tr><th scope=row>1</th><td> 1</td><td>2023-01-27</td><td>Keyboard</td><td>1039.05</td><td>1</td><td>South</td></tr>\n",
       "\t<tr><th scope=row>2</th><td> 2</td><td>2023-05-18</td><td>Tablet  </td><td> 597.55</td><td>5</td><td>East </td></tr>\n",
       "\t<tr><th scope=row>3</th><td> 3</td><td>2023-02-14</td><td>Keyboard</td><td>1539.48</td><td>1</td><td>West </td></tr>\n",
       "\t<tr><th scope=row>4</th><td> 4</td><td>2023-07-28</td><td>Mouse   </td><td> 261.66</td><td>1</td><td>South</td></tr>\n",
       "\t<tr><th scope=row>5</th><td> 5</td><td>2023-05-17</td><td>Monitor </td><td>1047.73</td><td>1</td><td>South</td></tr>\n",
       "\t<tr><th scope=row>6</th><td> 6</td><td>2023-02-25</td><td>Keyboard</td><td>1824.05</td><td>2</td><td>East </td></tr>\n",
       "\t<tr><th scope=row>7</th><td> 7</td><td>2023-01-20</td><td>Monitor </td><td> 475.83</td><td>1</td><td>North</td></tr>\n",
       "\t<tr><th scope=row>8</th><td> 8</td><td>2023-07-14</td><td>Mouse   </td><td> 758.05</td><td>5</td><td>North</td></tr>\n",
       "\t<tr><th scope=row>9</th><td> 9</td><td>2023-10-02</td><td>Mouse   </td><td>1717.20</td><td>4</td><td>South</td></tr>\n",
       "\t<tr><th scope=row>10</th><td>10</td><td>2023-10-15</td><td>Laptop  </td><td>1437.21</td><td>3</td><td>North</td></tr>\n",
       "</tbody>\n",
       "</table>\n"
      ],
      "text/latex": [
       "A data.frame: 10 × 6\n",
       "\\begin{tabular}{r|llllll}\n",
       "  & TransactionID & Date & Product & Amount & Quantity & Region\\\\\n",
       "  & <int> & <chr> & <chr> & <dbl> & <int> & <chr>\\\\\n",
       "\\hline\n",
       "\t1 &  1 & 2023-01-27 & Keyboard & 1039.05 & 1 & South\\\\\n",
       "\t2 &  2 & 2023-05-18 & Tablet   &  597.55 & 5 & East \\\\\n",
       "\t3 &  3 & 2023-02-14 & Keyboard & 1539.48 & 1 & West \\\\\n",
       "\t4 &  4 & 2023-07-28 & Mouse    &  261.66 & 1 & South\\\\\n",
       "\t5 &  5 & 2023-05-17 & Monitor  & 1047.73 & 1 & South\\\\\n",
       "\t6 &  6 & 2023-02-25 & Keyboard & 1824.05 & 2 & East \\\\\n",
       "\t7 &  7 & 2023-01-20 & Monitor  &  475.83 & 1 & North\\\\\n",
       "\t8 &  8 & 2023-07-14 & Mouse    &  758.05 & 5 & North\\\\\n",
       "\t9 &  9 & 2023-10-02 & Mouse    & 1717.20 & 4 & South\\\\\n",
       "\t10 & 10 & 2023-10-15 & Laptop   & 1437.21 & 3 & North\\\\\n",
       "\\end{tabular}\n"
      ],
      "text/markdown": [
       "\n",
       "A data.frame: 10 × 6\n",
       "\n",
       "| <!--/--> | TransactionID &lt;int&gt; | Date &lt;chr&gt; | Product &lt;chr&gt; | Amount &lt;dbl&gt; | Quantity &lt;int&gt; | Region &lt;chr&gt; |\n",
       "|---|---|---|---|---|---|---|\n",
       "| 1 |  1 | 2023-01-27 | Keyboard | 1039.05 | 1 | South |\n",
       "| 2 |  2 | 2023-05-18 | Tablet   |  597.55 | 5 | East  |\n",
       "| 3 |  3 | 2023-02-14 | Keyboard | 1539.48 | 1 | West  |\n",
       "| 4 |  4 | 2023-07-28 | Mouse    |  261.66 | 1 | South |\n",
       "| 5 |  5 | 2023-05-17 | Monitor  | 1047.73 | 1 | South |\n",
       "| 6 |  6 | 2023-02-25 | Keyboard | 1824.05 | 2 | East  |\n",
       "| 7 |  7 | 2023-01-20 | Monitor  |  475.83 | 1 | North |\n",
       "| 8 |  8 | 2023-07-14 | Mouse    |  758.05 | 5 | North |\n",
       "| 9 |  9 | 2023-10-02 | Mouse    | 1717.20 | 4 | South |\n",
       "| 10 | 10 | 2023-10-15 | Laptop   | 1437.21 | 3 | North |\n",
       "\n"
      ],
      "text/plain": [
       "   TransactionID Date       Product  Amount  Quantity Region\n",
       "1   1            2023-01-27 Keyboard 1039.05 1        South \n",
       "2   2            2023-05-18 Tablet    597.55 5        East  \n",
       "3   3            2023-02-14 Keyboard 1539.48 1        West  \n",
       "4   4            2023-07-28 Mouse     261.66 1        South \n",
       "5   5            2023-05-17 Monitor  1047.73 1        South \n",
       "6   6            2023-02-25 Keyboard 1824.05 2        East  \n",
       "7   7            2023-01-20 Monitor   475.83 1        North \n",
       "8   8            2023-07-14 Mouse     758.05 5        North \n",
       "9   9            2023-10-02 Mouse    1717.20 4        South \n",
       "10 10            2023-10-15 Laptop   1437.21 3        North "
      ]
     },
     "metadata": {},
     "output_type": "display_data"
    }
   ],
   "source": [
    "# First 10 rows of sales data\n",
    "print(\"First 10 rows of sales_df:\")\n",
    "head(sales_df, 10)"
   ]
  },
  {
   "cell_type": "code",
   "execution_count": 6,
   "id": "787161c8",
   "metadata": {
    "vscode": {
     "languageId": "r"
    }
   },
   "outputs": [
    {
     "name": "stdout",
     "output_type": "stream",
     "text": [
      "[1] \"Structure of sales_df:\"\n",
      "'data.frame':\t100 obs. of  6 variables:\n",
      " $ TransactionID: int  1 2 3 4 5 6 7 8 9 10 ...\n",
      " $ Date         : chr  \"2023-01-27\" \"2023-05-18\" \"2023-02-14\" \"2023-07-28\" ...\n",
      " $ Product      : chr  \"Keyboard\" \"Tablet\" \"Keyboard\" \"Mouse\" ...\n",
      " $ Amount       : num  1039 598 1539 262 1048 ...\n",
      " $ Quantity     : int  1 5 1 1 1 2 1 5 4 3 ...\n",
      " $ Region       : chr  \"South\" \"East\" \"West\" \"South\" ...\n"
     ]
    }
   ],
   "source": [
    "# Structure of sales data\n",
    "print(\"Structure of sales_df:\")\n",
    "str(sales_df)"
   ]
  },
  {
   "cell_type": "code",
   "execution_count": 7,
   "id": "c8d24625",
   "metadata": {
    "vscode": {
     "languageId": "r"
    }
   },
   "outputs": [
    {
     "name": "stdout",
     "output_type": "stream",
     "text": [
      "[1] \"Summary statistics for sales_df:\"\n"
     ]
    },
    {
     "data": {
      "text/plain": [
       " TransactionID        Date             Product              Amount       \n",
       " Min.   :  1.00   Length:100         Length:100         Min.   :  58.06  \n",
       " 1st Qu.: 25.75   Class :character   Class :character   1st Qu.: 520.79  \n",
       " Median : 50.50   Mode  :character   Mode  :character   Median : 960.75  \n",
       " Mean   : 50.50                                         Mean   : 962.71  \n",
       " 3rd Qu.: 75.25                                         3rd Qu.:1384.63  \n",
       " Max.   :100.00                                         Max.   :1985.60  \n",
       "    Quantity       Region         \n",
       " Min.   :1.00   Length:100        \n",
       " 1st Qu.:1.00   Class :character  \n",
       " Median :3.00   Mode  :character  \n",
       " Mean   :2.69                     \n",
       " 3rd Qu.:4.00                     \n",
       " Max.   :5.00                     "
      ]
     },
     "metadata": {},
     "output_type": "display_data"
    }
   ],
   "source": [
    "# Summary statistics for sales data\n",
    "print(\"Summary statistics for sales_df:\")\n",
    "summary(sales_df)"
   ]
  },
  {
   "cell_type": "markdown",
   "id": "6e3704e9",
   "metadata": {},
   "source": [
    "**Your observations about sales_df:**\n",
    "\n",
    "These seem to be sales data for different electronic products. The first one was head so it showed me the first 10 rows of the sales dataset. Each row represents a transaction with a TransactionID, the date, the product sold, the sales amount, the quantity purchased, and the sales region. For example, Transaction 1 was on 2023-01-27, selling a Keyboard in the South region for 1039.05 with a quantity of 1. The next one was str and it provided the structure of the dataset. It told me that sales_df is a data frame with 100 observations and 6 variables. TransactionID and Quantity are integers, Date, Product, and Region are character strings, and Amount is numeric. It also showed sample values for each column to preview the data. The last one was summary and it provided descriptive statistics. I think the most useful part was the Amount and Quantity columns. Amount ranged from about 58 to 1985 with a mean of 962.71. Quantity ranged from 1 to 5 with an average of 2.69. For the character variables. "
   ]
  },
  {
   "cell_type": "markdown",
   "id": "bf96d289",
   "metadata": {},
   "source": [
    "### 2.2 Ratings Data Inspection"
   ]
  },
  {
   "cell_type": "code",
   "execution_count": 8,
   "id": "1ac6fc99",
   "metadata": {
    "vscode": {
     "languageId": "r"
    }
   },
   "outputs": [
    {
     "name": "stdout",
     "output_type": "stream",
     "text": [
      "[1] \"First 10 rows of ratings_df:\"\n"
     ]
    },
    {
     "data": {
      "text/html": [
       "<table class=\"dataframe\">\n",
       "<caption>A tibble: 10 × 5</caption>\n",
       "<thead>\n",
       "\t<tr><th scope=col>CustomerID</th><th scope=col>ProductRating</th><th scope=col>ServiceRating</th><th scope=col>OverallSatisfaction</th><th scope=col>RecommendationScore</th></tr>\n",
       "\t<tr><th scope=col>&lt;dbl&gt;</th><th scope=col>&lt;dbl&gt;</th><th scope=col>&lt;dbl&gt;</th><th scope=col>&lt;dbl&gt;</th><th scope=col>&lt;dbl&gt;</th></tr>\n",
       "</thead>\n",
       "<tbody>\n",
       "\t<tr><td> 1</td><td>1</td><td>4</td><td>3</td><td> 2</td></tr>\n",
       "\t<tr><td> 2</td><td>3</td><td>2</td><td>4</td><td> 7</td></tr>\n",
       "\t<tr><td> 3</td><td>1</td><td>5</td><td>5</td><td> 1</td></tr>\n",
       "\t<tr><td> 4</td><td>1</td><td>2</td><td>3</td><td> 6</td></tr>\n",
       "\t<tr><td> 5</td><td>5</td><td>1</td><td>2</td><td> 2</td></tr>\n",
       "\t<tr><td> 6</td><td>4</td><td>2</td><td>2</td><td> 6</td></tr>\n",
       "\t<tr><td> 7</td><td>3</td><td>5</td><td>5</td><td> 5</td></tr>\n",
       "\t<tr><td> 8</td><td>5</td><td>2</td><td>5</td><td>10</td></tr>\n",
       "\t<tr><td> 9</td><td>4</td><td>1</td><td>3</td><td> 6</td></tr>\n",
       "\t<tr><td>10</td><td>4</td><td>1</td><td>2</td><td> 0</td></tr>\n",
       "</tbody>\n",
       "</table>\n"
      ],
      "text/latex": [
       "A tibble: 10 × 5\n",
       "\\begin{tabular}{lllll}\n",
       " CustomerID & ProductRating & ServiceRating & OverallSatisfaction & RecommendationScore\\\\\n",
       " <dbl> & <dbl> & <dbl> & <dbl> & <dbl>\\\\\n",
       "\\hline\n",
       "\t  1 & 1 & 4 & 3 &  2\\\\\n",
       "\t  2 & 3 & 2 & 4 &  7\\\\\n",
       "\t  3 & 1 & 5 & 5 &  1\\\\\n",
       "\t  4 & 1 & 2 & 3 &  6\\\\\n",
       "\t  5 & 5 & 1 & 2 &  2\\\\\n",
       "\t  6 & 4 & 2 & 2 &  6\\\\\n",
       "\t  7 & 3 & 5 & 5 &  5\\\\\n",
       "\t  8 & 5 & 2 & 5 & 10\\\\\n",
       "\t  9 & 4 & 1 & 3 &  6\\\\\n",
       "\t 10 & 4 & 1 & 2 &  0\\\\\n",
       "\\end{tabular}\n"
      ],
      "text/markdown": [
       "\n",
       "A tibble: 10 × 5\n",
       "\n",
       "| CustomerID &lt;dbl&gt; | ProductRating &lt;dbl&gt; | ServiceRating &lt;dbl&gt; | OverallSatisfaction &lt;dbl&gt; | RecommendationScore &lt;dbl&gt; |\n",
       "|---|---|---|---|---|\n",
       "|  1 | 1 | 4 | 3 |  2 |\n",
       "|  2 | 3 | 2 | 4 |  7 |\n",
       "|  3 | 1 | 5 | 5 |  1 |\n",
       "|  4 | 1 | 2 | 3 |  6 |\n",
       "|  5 | 5 | 1 | 2 |  2 |\n",
       "|  6 | 4 | 2 | 2 |  6 |\n",
       "|  7 | 3 | 5 | 5 |  5 |\n",
       "|  8 | 5 | 2 | 5 | 10 |\n",
       "|  9 | 4 | 1 | 3 |  6 |\n",
       "| 10 | 4 | 1 | 2 |  0 |\n",
       "\n"
      ],
      "text/plain": [
       "   CustomerID ProductRating ServiceRating OverallSatisfaction\n",
       "1   1         1             4             3                  \n",
       "2   2         3             2             4                  \n",
       "3   3         1             5             5                  \n",
       "4   4         1             2             3                  \n",
       "5   5         5             1             2                  \n",
       "6   6         4             2             2                  \n",
       "7   7         3             5             5                  \n",
       "8   8         5             2             5                  \n",
       "9   9         4             1             3                  \n",
       "10 10         4             1             2                  \n",
       "   RecommendationScore\n",
       "1   2                 \n",
       "2   7                 \n",
       "3   1                 \n",
       "4   6                 \n",
       "5   2                 \n",
       "6   6                 \n",
       "7   5                 \n",
       "8  10                 \n",
       "9   6                 \n",
       "10  0                 "
      ]
     },
     "metadata": {},
     "output_type": "display_data"
    },
    {
     "name": "stdout",
     "output_type": "stream",
     "text": [
      "[1] \"Structure of ratings_df:\"\n",
      "tibble [50 × 5] (S3: tbl_df/tbl/data.frame)\n",
      " $ CustomerID         : num [1:50] 1 2 3 4 5 6 7 8 9 10 ...\n",
      " $ ProductRating      : num [1:50] 1 3 1 1 5 4 3 5 4 4 ...\n",
      " $ ServiceRating      : num [1:50] 4 2 5 2 1 2 5 2 1 1 ...\n",
      " $ OverallSatisfaction: num [1:50] 3 4 5 3 2 2 5 5 3 2 ...\n",
      " $ RecommendationScore: num [1:50] 2 7 1 6 2 6 5 10 6 0 ...\n",
      "[1] \"Summary statistics for ratings_df:\"\n"
     ]
    },
    {
     "data": {
      "text/plain": [
       "   CustomerID    ProductRating ServiceRating  OverallSatisfaction\n",
       " Min.   : 1.00   Min.   :1.0   Min.   :1.00   Min.   :1.00       \n",
       " 1st Qu.:13.25   1st Qu.:2.0   1st Qu.:1.00   1st Qu.:2.00       \n",
       " Median :25.50   Median :3.0   Median :3.00   Median :3.00       \n",
       " Mean   :25.50   Mean   :3.2   Mean   :2.94   Mean   :2.92       \n",
       " 3rd Qu.:37.75   3rd Qu.:5.0   3rd Qu.:5.00   3rd Qu.:4.00       \n",
       " Max.   :50.00   Max.   :5.0   Max.   :5.00   Max.   :5.00       \n",
       " RecommendationScore\n",
       " Min.   : 0.0       \n",
       " 1st Qu.: 1.0       \n",
       " Median : 4.5       \n",
       " Mean   : 4.2       \n",
       " 3rd Qu.: 7.0       \n",
       " Max.   :10.0       "
      ]
     },
     "metadata": {},
     "output_type": "display_data"
    }
   ],
   "source": [
    "# TODO: ratings_df inspection\n",
    "print(\"First 10 rows of ratings_df:\")\n",
    "head(ratings_df, 10)\n",
    "print(\"Structure of ratings_df:\")\n",
    "str(ratings_df)\n",
    "print(\"Summary statistics for ratings_df:\")\n",
    "summary(ratings_df)"
   ]
  },
  {
   "cell_type": "markdown",
   "id": "15bf4a1d",
   "metadata": {},
   "source": [
    "**Your observations about ratings_df:**\n",
    "\n",
    "These seem to be customer ratings for different products. The first one was head I could see that each row represents a customer (CustomerID 1–10) and the columns include their ProductRating, ServiceRating, OverallSatisfaction, and RecommendationScore. The values are numeric, for example Customer 1 rated Product = 1, Service = 4, Satisfaction = 3, and Recommendation = 2. The second one was str and it showed that all columns are numeric including customer_id, product_rating, service_rating, overall_satisfaction, and recommendation_score. The third one was summary so it provided a statistical summary of each variable in the data frame, for this one we see that recommendation_score is the highest central tendency around 4.3ish and the other ones had a lower central tendency around 3. Perhaps recommendation_score is higher because for that one they rated it 1 to 10 instead of 1 to 5 like the other ones.\n",
    "\n"
   ]
  },
  {
   "cell_type": "markdown",
   "id": "33a50824",
   "metadata": {},
   "source": [
    "### 2.3 Comments Data Inspection"
   ]
  },
  {
   "cell_type": "code",
   "execution_count": 9,
   "id": "737913d7",
   "metadata": {
    "vscode": {
     "languageId": "r"
    }
   },
   "outputs": [
    {
     "name": "stdout",
     "output_type": "stream",
     "text": [
      "[1] \"First 10 rows of comments_df:\"\n"
     ]
    },
    {
     "data": {
      "text/html": [
       "<table class=\"dataframe\">\n",
       "<caption>A tibble: 10 × 5</caption>\n",
       "<thead>\n",
       "\t<tr><th scope=col>FeedbackID</th><th scope=col>CustomerID</th><th scope=col>Feedback_Text</th><th scope=col>Contact_Info</th><th scope=col>Feedback_Date</th></tr>\n",
       "\t<tr><th scope=col>&lt;dbl&gt;</th><th scope=col>&lt;dbl&gt;</th><th scope=col>&lt;chr&gt;</th><th scope=col>&lt;chr&gt;</th><th scope=col>&lt;dttm&gt;</th></tr>\n",
       "</thead>\n",
       "<tbody>\n",
       "\t<tr><td> 1</td><td>12</td><td>Highly recommend this item      </td><td>bob.wilson@test.org   </td><td>2024-02-23</td></tr>\n",
       "\t<tr><td> 2</td><td>40</td><td>Excellent service               </td><td>555-123-4567          </td><td>2024-01-21</td></tr>\n",
       "\t<tr><td> 3</td><td>34</td><td>Poor quality control            </td><td>jane_smith@company.com</td><td>2023-09-02</td></tr>\n",
       "\t<tr><td> 4</td><td> 1</td><td>average product, nothing special</td><td>jane_smith@company.com</td><td>2023-08-21</td></tr>\n",
       "\t<tr><td> 5</td><td>47</td><td>AMAZING customer support!!!     </td><td>555-123-4567          </td><td>2023-04-24</td></tr>\n",
       "\t<tr><td> 6</td><td>13</td><td>AMAZING customer support!!!     </td><td>john.doe@email.com    </td><td>2023-04-16</td></tr>\n",
       "\t<tr><td> 7</td><td>13</td><td>average product, nothing special</td><td>(555) 987-6543        </td><td>2024-03-13</td></tr>\n",
       "\t<tr><td> 8</td><td>37</td><td>good VALUE for money            </td><td>(555) 987-6543        </td><td>2023-07-15</td></tr>\n",
       "\t<tr><td> 9</td><td>49</td><td>Highly recommend this item      </td><td>invalid-email         </td><td>2023-03-03</td></tr>\n",
       "\t<tr><td>10</td><td>23</td><td>Highly recommend this item      </td><td>john.doe@email.com    </td><td>2023-10-18</td></tr>\n",
       "</tbody>\n",
       "</table>\n"
      ],
      "text/latex": [
       "A tibble: 10 × 5\n",
       "\\begin{tabular}{lllll}\n",
       " FeedbackID & CustomerID & Feedback\\_Text & Contact\\_Info & Feedback\\_Date\\\\\n",
       " <dbl> & <dbl> & <chr> & <chr> & <dttm>\\\\\n",
       "\\hline\n",
       "\t  1 & 12 & Highly recommend this item       & bob.wilson@test.org    & 2024-02-23\\\\\n",
       "\t  2 & 40 & Excellent service                & 555-123-4567           & 2024-01-21\\\\\n",
       "\t  3 & 34 & Poor quality control             & jane\\_smith@company.com & 2023-09-02\\\\\n",
       "\t  4 &  1 & average product, nothing special & jane\\_smith@company.com & 2023-08-21\\\\\n",
       "\t  5 & 47 & AMAZING customer support!!!      & 555-123-4567           & 2023-04-24\\\\\n",
       "\t  6 & 13 & AMAZING customer support!!!      & john.doe@email.com     & 2023-04-16\\\\\n",
       "\t  7 & 13 & average product, nothing special & (555) 987-6543         & 2024-03-13\\\\\n",
       "\t  8 & 37 & good VALUE for money             & (555) 987-6543         & 2023-07-15\\\\\n",
       "\t  9 & 49 & Highly recommend this item       & invalid-email          & 2023-03-03\\\\\n",
       "\t 10 & 23 & Highly recommend this item       & john.doe@email.com     & 2023-10-18\\\\\n",
       "\\end{tabular}\n"
      ],
      "text/markdown": [
       "\n",
       "A tibble: 10 × 5\n",
       "\n",
       "| FeedbackID &lt;dbl&gt; | CustomerID &lt;dbl&gt; | Feedback_Text &lt;chr&gt; | Contact_Info &lt;chr&gt; | Feedback_Date &lt;dttm&gt; |\n",
       "|---|---|---|---|---|\n",
       "|  1 | 12 | Highly recommend this item       | bob.wilson@test.org    | 2024-02-23 |\n",
       "|  2 | 40 | Excellent service                | 555-123-4567           | 2024-01-21 |\n",
       "|  3 | 34 | Poor quality control             | jane_smith@company.com | 2023-09-02 |\n",
       "|  4 |  1 | average product, nothing special | jane_smith@company.com | 2023-08-21 |\n",
       "|  5 | 47 | AMAZING customer support!!!      | 555-123-4567           | 2023-04-24 |\n",
       "|  6 | 13 | AMAZING customer support!!!      | john.doe@email.com     | 2023-04-16 |\n",
       "|  7 | 13 | average product, nothing special | (555) 987-6543         | 2024-03-13 |\n",
       "|  8 | 37 | good VALUE for money             | (555) 987-6543         | 2023-07-15 |\n",
       "|  9 | 49 | Highly recommend this item       | invalid-email          | 2023-03-03 |\n",
       "| 10 | 23 | Highly recommend this item       | john.doe@email.com     | 2023-10-18 |\n",
       "\n"
      ],
      "text/plain": [
       "   FeedbackID CustomerID Feedback_Text                   \n",
       "1   1         12         Highly recommend this item      \n",
       "2   2         40         Excellent service               \n",
       "3   3         34         Poor quality control            \n",
       "4   4          1         average product, nothing special\n",
       "5   5         47         AMAZING customer support!!!     \n",
       "6   6         13         AMAZING customer support!!!     \n",
       "7   7         13         average product, nothing special\n",
       "8   8         37         good VALUE for money            \n",
       "9   9         49         Highly recommend this item      \n",
       "10 10         23         Highly recommend this item      \n",
       "   Contact_Info           Feedback_Date\n",
       "1  bob.wilson@test.org    2024-02-23   \n",
       "2  555-123-4567           2024-01-21   \n",
       "3  jane_smith@company.com 2023-09-02   \n",
       "4  jane_smith@company.com 2023-08-21   \n",
       "5  555-123-4567           2023-04-24   \n",
       "6  john.doe@email.com     2023-04-16   \n",
       "7  (555) 987-6543         2024-03-13   \n",
       "8  (555) 987-6543         2023-07-15   \n",
       "9  invalid-email          2023-03-03   \n",
       "10 john.doe@email.com     2023-10-18   "
      ]
     },
     "metadata": {},
     "output_type": "display_data"
    },
    {
     "name": "stdout",
     "output_type": "stream",
     "text": [
      "[1] \"Structure of comments_df:\"\n",
      "tibble [100 × 5] (S3: tbl_df/tbl/data.frame)\n",
      " $ FeedbackID   : num [1:100] 1 2 3 4 5 6 7 8 9 10 ...\n",
      " $ CustomerID   : num [1:100] 12 40 34 1 47 13 13 37 49 23 ...\n",
      " $ Feedback_Text: chr [1:100] \"Highly recommend this item\" \"Excellent service\" \"Poor quality control\" \"average product, nothing special\" ...\n",
      " $ Contact_Info : chr [1:100] \"bob.wilson@test.org\" \"555-123-4567\" \"jane_smith@company.com\" \"jane_smith@company.com\" ...\n",
      " $ Feedback_Date: POSIXct[1:100], format: \"2024-02-23\" \"2024-01-21\" ...\n",
      "[1] \"Summary statistics for comments_df:\"\n"
     ]
    },
    {
     "data": {
      "text/plain": [
       "   FeedbackID       CustomerID    Feedback_Text      Contact_Info      \n",
       " Min.   :  1.00   Min.   : 1.00   Length:100         Length:100        \n",
       " 1st Qu.: 25.75   1st Qu.:15.00   Class :character   Class :character  \n",
       " Median : 50.50   Median :26.00   Mode  :character   Mode  :character  \n",
       " Mean   : 50.50   Mean   :26.27                                        \n",
       " 3rd Qu.: 75.25   3rd Qu.:38.00                                        \n",
       " Max.   :100.00   Max.   :50.00                                        \n",
       " Feedback_Date                \n",
       " Min.   :2023-01-03 00:00:00  \n",
       " 1st Qu.:2023-04-23 18:00:00  \n",
       " Median :2023-08-24 12:00:00  \n",
       " Mean   :2023-08-22 07:26:24  \n",
       " 3rd Qu.:2023-12-07 06:00:00  \n",
       " Max.   :2024-03-30 00:00:00  "
      ]
     },
     "metadata": {},
     "output_type": "display_data"
    }
   ],
   "source": [
    "# TODO: Add your code here for comments_df inspection\n",
    "print(\"First 10 rows of comments_df:\")\n",
    "head(comments_df, 10)\n",
    "print(\"Structure of comments_df:\")\n",
    "str(comments_df)\n",
    "print(\"Summary statistics for comments_df:\")\n",
    "summary(comments_df)"
   ]
  },
  {
   "cell_type": "markdown",
   "id": "22e57679",
   "metadata": {},
   "source": [
    "**Your observations about comments_df:**\n",
    "\n",
    "This seems to be customer comments about their experience with the products or services. The first one was head so it showed the first 10 rows of the data frame, each row has a feedback_id, the customer_id it belongs to, the comment itself, and the date it was made some issues are spotted here like duplicate ids and an invalid email. The second one was str and it showed that feedback_id and customer_id are integers, comment is a character, and date is also a character. The third one was summary so it provided a statistical summary of each variable though these weren't as informative since feedback_id and customer_id are integers but they are identifiers, comment is a character so it provided length class and mode, and date is also a character so it provided length class and mode as well."
   ]
  },
  {
   "cell_type": "markdown",
   "id": "41902067",
   "metadata": {},
   "source": [
    "**Reflection Question 1:** What did you observe about the structure and content of the data files you loaded? What insights can you share about the quality and organization of the data?\n",
    "\n",
    "**Your Answer:**\n",
    "\n",
    "They seemed like real world applications of data. Each file had different types of information businesses might be interested in collecting. The sales data showed transaction details such as IDs, dates, products, amounts, quantities, and regions. The ratings data showed customer evaluations across product quality, service, satisfaction, and recommendation. The comments data provided customer feedback in text form along with contact information and the date of submission. To me, all three of these can be useful for a business to analyze and improve their operations."
   ]
  },
  {
   "cell_type": "markdown",
   "id": "cccf1c99",
   "metadata": {},
   "source": [
    "### Question 1: Data Types Analysis\n",
    "\n",
    "Based on your inspection of `sales_df`, what are the data types of the `Date` and `Amount` columns? Are these data types appropriate for typical business analytics tasks involving sales data? Explain why or why not.\n",
    "\n",
    "So date and amount were different respectively. Date was character and amount was numeric. I think numeric values are more easily analyzed since you run calculations using numbers (with numeric values). Date being character is not as useful since you can't do calculations with characters. In this particular case, the date data was not appropriate for typical business analytics tasks. However, if there were a way to have date represent actual dates (instead of characters) then it would be more useful. For example, it might be useful to know that sales increased in December compared to November. But if date is just a character string, then you can't do that type of analysis."
   ]
  },
  {
   "cell_type": "markdown",
   "id": "ab78e27a",
   "metadata": {},
   "source": [
    "### Question 2: Data Quality Assessment\n",
    "\n",
    "Looking at all three datasets, what potential data quality issues do you notice? Consider missing values, data types, and any unusual patterns.\n",
    "\n",
    "In the sales data, I think the date being a character is a potential data quality issue since it limits the types of analysis you can do with it. In the ratings data, all the variables are numeric, but the RecommendationScore uses a 0–10 scale while the other ratings use 1–5, which could lead to inconsistencies if compared directly (which I initially did). In the comments data, I noticed duplicate feedback IDs (13 appears twice), invalid email format, Same person rating multiple times and more. These seem like pretty significant data quality issues that would need to be addressed before analysis."
   ]
  },
  {
   "cell_type": "markdown",
   "id": "4f119d61",
   "metadata": {},
   "source": [
    "### Question 3: Analysis Readiness\n",
    "\n",
    "Which of the three datasets appears most ready for analysis, and which would require the most preprocessing? Justify your answer.\n",
    "\n",
    "**Your Answer:**\n",
    "\n",
    "Ratings data seems the most ready for analysis since all the variables are numeric and there don't appear to be any glaring issues, and the one problem I mentioned earlier about the different rating scales can be easily addressed by using statistical techniques. Comments data would require the most preprocessing due to the presence of duplicate IDs, invalid email formats, and potential inconsistencies in the comments themselves. Cleaning and standardizing this text data would be necessary before any meaningful analysis could be performed."
   ]
  },
  {
   "cell_type": "markdown",
   "id": "8ad26c10",
   "metadata": {},
   "source": [
    "---\n",
    "\n",
    "## Submission Checklist\n",
    "\n",
    "Before submitting, make sure you have:\n",
    "\n",
    "- [ ] Completed all code cells in Parts 1 and 2\n",
    "- [ ] Run all cells to show output\n",
    "- [ ] Added your observations for each dataset\n",
    "- [ ] Answered all reflection questions in Part 3\n",
    "- [ ] Added your name and date at the top\n",
    "- [ ] Saved the notebook\n",
    "- [ ] Committed and pushed your changes to GitHub\n",
    "\n",
    "**Great work completing your first R data analysis assignment! 🎉**"
   ]
  },
  {
   "cell_type": "markdown",
   "id": "5fe3aeb4",
   "metadata": {},
   "source": [
    "---\n",
    "\n",
    "## 🚀 Ready to Submit?\n",
    "\n",
    "### Easy Submission Steps (No Command Line Required!):\n",
    "\n",
    "1. **Save this notebook** (Ctrl+S or File → Save)\n",
    "\n",
    "2. **Use VS Code Source Control**:\n",
    "   - Click the **Source Control** icon in the left sidebar (tree branch symbol)\n",
    "   - Click the **\"+\"** button next to your notebook file\n",
    "   - Type a message: `Submit homework 1 - [Your Name]`\n",
    "   - Click **\"Commit\"** \n",
    "   - Click **\"Sync Changes\"** or **\"Push\"**\n",
    "\n",
    "3. **Verify on GitHub**: Go to your repository online and confirm your notebook appears with your completed work\n",
    "\n",
    "**📖 Need help?** See [GITHUB_CLASSROOM_SUBMISSION.md](../../GITHUB_CLASSROOM_SUBMISSION.md) for detailed instructions.\n",
    "\n",
    "**🎉 Congratulations on completing your first R data analysis assignment!**"
   ]
  },
  {
   "cell_type": "code",
   "execution_count": null,
   "id": "75d433c4",
   "metadata": {
    "vscode": {
     "languageId": "r"
    }
   },
   "outputs": [],
   "source": []
  }
 ],
 "metadata": {
  "kernelspec": {
   "display_name": "R",
   "language": "R",
   "name": "ir"
  },
  "language_info": {
   "codemirror_mode": "r",
   "file_extension": ".r",
   "mimetype": "text/x-r-source",
   "name": "R",
   "pygments_lexer": "r",
   "version": "4.4.3"
  }
 },
 "nbformat": 4,
 "nbformat_minor": 5
}
