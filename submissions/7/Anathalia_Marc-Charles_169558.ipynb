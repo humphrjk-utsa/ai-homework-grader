{
 "cells": [
  {
   "cell_type": "markdown",
   "id": "0628f0f4",
   "metadata": {},
   "source": [
    "# Homework Assignment - Lesson 2: Data Cleaning - Handling Missing Values and Outliers\n",
    "\n",
    "**Student Name:** [Anathalia Marc-Charles]  \n",
    "**Date:** [9/14/2025]  \n",
    "**Course:** Data Management  \n",
    "\n",
    "---\n",
    "\n",
    "## Instructions\n",
    "\n",
    "Complete all the tasks below by adding your R code in the code cells and your written responses in markdown cells. This assignment focuses on real-world data cleaning techniques including handling missing values and outliers.\n",
    "\n",
    "**💡 Key Learning Goals:**\n",
    "- Identify and handle missing values using multiple strategies\n",
    "- Detect and treat outliers using statistical methods\n",
    "- Make informed decisions about data quality trade-offs\n",
    "- Document your data cleaning process and reasoning\n",
    "\n",
    "**📋 SUBMISSION**: When you're done, see [GITHUB_CLASSROOM_SUBMISSION.md](../../GITHUB_CLASSROOM_SUBMISSION.md) for complete submission instructions.\n",
    "\n",
    "---"
   ]
  },
  {
   "cell_type": "markdown",
   "id": "2c9d18a6",
   "metadata": {},
   "source": [
    "### Part 1: Data Import and Initial Assessment\n",
    "\n",
    "In this section, you'll import a \"messy\" dataset that contains missing values and outliers, simulating real-world data quality challenges."
   ]
  },
  {
   "cell_type": "markdown",
   "id": "dc395004",
   "metadata": {},
   "source": [
    "#### 1.1 Environment Setup\n",
    "\n",
    "Load the required packages for data cleaning and analysis."
   ]
  },
  {
   "cell_type": "code",
   "execution_count": 71,
   "id": "aa15a71d",
   "metadata": {
    "vscode": {
     "languageId": "r"
    }
   },
   "outputs": [
    {
     "data": {
      "text/html": [
       "'/workspaces/assignment-2-version3-anathaliajmc/data'"
      ],
      "text/latex": [
       "'/workspaces/assignment-2-version3-anathaliajmc/data'"
      ],
      "text/markdown": [
       "'/workspaces/assignment-2-version3-anathaliajmc/data'"
      ],
      "text/plain": [
       "[1] \"/workspaces/assignment-2-version3-anathaliajmc/data\""
      ]
     },
     "metadata": {},
     "output_type": "display_data"
    },
    {
     "data": {
      "text/html": [
       "'/workspaces/assignment-2-version3-anathaliajmc/data'"
      ],
      "text/latex": [
       "'/workspaces/assignment-2-version3-anathaliajmc/data'"
      ],
      "text/markdown": [
       "'/workspaces/assignment-2-version3-anathaliajmc/data'"
      ],
      "text/plain": [
       "[1] \"/workspaces/assignment-2-version3-anathaliajmc/data\""
      ]
     },
     "metadata": {},
     "output_type": "display_data"
    }
   ],
   "source": [
    "# Load required packages for data cleaning\n",
    "library(tidyverse) # For data manipulation and visualization\n",
    "library(readxl)\n",
    "\n",
    "# Check current working directory\n",
    "getwd()\n",
    "setwd(\"/workspaces/assignment-2-version3-anathaliajmc/data\")\n",
    "getwd()"
   ]
  },
  {
   "cell_type": "markdown",
   "id": "2096d578",
   "metadata": {},
   "source": [
    "#### 1.2 Import Messy Dataset\n",
    "\n",
    "Import the provided messy sales dataset that contains real-world data quality issues including missing values, outliers, and inconsistencies."
   ]
  },
  {
   "cell_type": "code",
   "execution_count": 72,
   "id": "f92518c5",
   "metadata": {
    "vscode": {
     "languageId": "r"
    }
   },
   "outputs": [
    {
     "name": "stdout",
     "output_type": "stream",
     "text": [
      "[1] \"Messy sales dataset imported successfully!\"\n",
      "[1] \"Dataset contains 200 rows and 6 columns\"\n",
      "[1] \"Column names:\"\n",
      "[1] \"TransactionID, Customer_Name, Product_Category, Sales_Amount, Purchase_Date, Quantity\"\n"
     ]
    }
   ],
   "source": [
    "# Import the messy sales dataset\n",
    "messy_sales <- read.csv(\"/workspaces/assignment-2-version3-anathaliajmc/data/messy_sales_data.csv\")\n",
    "\n",
    "print(\"Messy sales dataset imported successfully!\")\n",
    "print(paste(\"Dataset contains\", nrow(messy_sales), \"rows and\", ncol(messy_sales), \"columns\"))\n",
    "print(\"Column names:\")\n",
    "print(paste(names(messy_sales), collapse = \", \"))"
   ]
  },
  {
   "cell_type": "markdown",
   "id": "c5cc88b0",
   "metadata": {},
   "source": [
    "#### 1.3 Initial Data Assessment\n",
    "\n",
    "Perform a comprehensive inspection of the messy dataset to understand its structure and identify data quality issues."
   ]
  },
  {
   "cell_type": "code",
   "execution_count": 73,
   "id": "f2616bc0",
   "metadata": {
    "vscode": {
     "languageId": "r"
    }
   },
   "outputs": [
    {
     "name": "stdout",
     "output_type": "stream",
     "text": [
      "[1] \"=== DATASET OVERVIEW ===\"\n"
     ]
    },
    {
     "data": {
      "text/html": [
       "<table class=\"dataframe\">\n",
       "<caption>A data.frame: 10 × 6</caption>\n",
       "<thead>\n",
       "\t<tr><th></th><th scope=col>TransactionID</th><th scope=col>Customer_Name</th><th scope=col>Product_Category</th><th scope=col>Sales_Amount</th><th scope=col>Purchase_Date</th><th scope=col>Quantity</th></tr>\n",
       "\t<tr><th></th><th scope=col>&lt;int&gt;</th><th scope=col>&lt;chr&gt;</th><th scope=col>&lt;chr&gt;</th><th scope=col>&lt;dbl&gt;</th><th scope=col>&lt;chr&gt;</th><th scope=col>&lt;int&gt;</th></tr>\n",
       "</thead>\n",
       "<tbody>\n",
       "\t<tr><th scope=row>1</th><td> 1</td><td>           </td><td>Home       </td><td> 362.3175</td><td>          </td><td>  2</td></tr>\n",
       "\t<tr><th scope=row>2</th><td> 2</td><td>Alice Brown</td><td>Clothing   </td><td> 573.0791</td><td>2023-10-21</td><td>  3</td></tr>\n",
       "\t<tr><th scope=row>3</th><td> 3</td><td>Jane Doe   </td><td>Electronics</td><td> 487.6874</td><td>2023-12-28</td><td> -1</td></tr>\n",
       "\t<tr><th scope=row>4</th><td> 4</td><td>Jane Doe   </td><td>Electronics</td><td>5000.0000</td><td>2023-06-16</td><td>  7</td></tr>\n",
       "\t<tr><th scope=row>5</th><td> 5</td><td>John Smith </td><td>Books      </td><td> 344.1746</td><td>2023-05-05</td><td>100</td></tr>\n",
       "\t<tr><th scope=row>6</th><td> 6</td><td>John Smith </td><td>Books      </td><td> 434.9527</td><td>2023-11-28</td><td>  4</td></tr>\n",
       "\t<tr><th scope=row>7</th><td> 7</td><td>Jane Doe   </td><td>Home       </td><td> 489.0863</td><td>2023-08-17</td><td>  0</td></tr>\n",
       "\t<tr><th scope=row>8</th><td> 8</td><td>Jane Doe   </td><td>Electronics</td><td> 536.9202</td><td>2023-05-17</td><td>  7</td></tr>\n",
       "\t<tr><th scope=row>9</th><td> 9</td><td>Jane Doe   </td><td>Clothing   </td><td> 793.3933</td><td>2023-08-13</td><td>  3</td></tr>\n",
       "\t<tr><th scope=row>10</th><td>10</td><td>Jane Doe   </td><td>electronics</td><td> 649.4286</td><td>2023-10-16</td><td>  2</td></tr>\n",
       "</tbody>\n",
       "</table>\n"
      ],
      "text/latex": [
       "A data.frame: 10 × 6\n",
       "\\begin{tabular}{r|llllll}\n",
       "  & TransactionID & Customer\\_Name & Product\\_Category & Sales\\_Amount & Purchase\\_Date & Quantity\\\\\n",
       "  & <int> & <chr> & <chr> & <dbl> & <chr> & <int>\\\\\n",
       "\\hline\n",
       "\t1 &  1 &             & Home        &  362.3175 &            &   2\\\\\n",
       "\t2 &  2 & Alice Brown & Clothing    &  573.0791 & 2023-10-21 &   3\\\\\n",
       "\t3 &  3 & Jane Doe    & Electronics &  487.6874 & 2023-12-28 &  -1\\\\\n",
       "\t4 &  4 & Jane Doe    & Electronics & 5000.0000 & 2023-06-16 &   7\\\\\n",
       "\t5 &  5 & John Smith  & Books       &  344.1746 & 2023-05-05 & 100\\\\\n",
       "\t6 &  6 & John Smith  & Books       &  434.9527 & 2023-11-28 &   4\\\\\n",
       "\t7 &  7 & Jane Doe    & Home        &  489.0863 & 2023-08-17 &   0\\\\\n",
       "\t8 &  8 & Jane Doe    & Electronics &  536.9202 & 2023-05-17 &   7\\\\\n",
       "\t9 &  9 & Jane Doe    & Clothing    &  793.3933 & 2023-08-13 &   3\\\\\n",
       "\t10 & 10 & Jane Doe    & electronics &  649.4286 & 2023-10-16 &   2\\\\\n",
       "\\end{tabular}\n"
      ],
      "text/markdown": [
       "\n",
       "A data.frame: 10 × 6\n",
       "\n",
       "| <!--/--> | TransactionID &lt;int&gt; | Customer_Name &lt;chr&gt; | Product_Category &lt;chr&gt; | Sales_Amount &lt;dbl&gt; | Purchase_Date &lt;chr&gt; | Quantity &lt;int&gt; |\n",
       "|---|---|---|---|---|---|---|\n",
       "| 1 |  1 | <!----> | Home        |  362.3175 | <!----> |   2 |\n",
       "| 2 |  2 | Alice Brown | Clothing    |  573.0791 | 2023-10-21 |   3 |\n",
       "| 3 |  3 | Jane Doe    | Electronics |  487.6874 | 2023-12-28 |  -1 |\n",
       "| 4 |  4 | Jane Doe    | Electronics | 5000.0000 | 2023-06-16 |   7 |\n",
       "| 5 |  5 | John Smith  | Books       |  344.1746 | 2023-05-05 | 100 |\n",
       "| 6 |  6 | John Smith  | Books       |  434.9527 | 2023-11-28 |   4 |\n",
       "| 7 |  7 | Jane Doe    | Home        |  489.0863 | 2023-08-17 |   0 |\n",
       "| 8 |  8 | Jane Doe    | Electronics |  536.9202 | 2023-05-17 |   7 |\n",
       "| 9 |  9 | Jane Doe    | Clothing    |  793.3933 | 2023-08-13 |   3 |\n",
       "| 10 | 10 | Jane Doe    | electronics |  649.4286 | 2023-10-16 |   2 |\n",
       "\n"
      ],
      "text/plain": [
       "   TransactionID Customer_Name Product_Category Sales_Amount Purchase_Date\n",
       "1   1                          Home              362.3175                 \n",
       "2   2            Alice Brown   Clothing          573.0791    2023-10-21   \n",
       "3   3            Jane Doe      Electronics       487.6874    2023-12-28   \n",
       "4   4            Jane Doe      Electronics      5000.0000    2023-06-16   \n",
       "5   5            John Smith    Books             344.1746    2023-05-05   \n",
       "6   6            John Smith    Books             434.9527    2023-11-28   \n",
       "7   7            Jane Doe      Home              489.0863    2023-08-17   \n",
       "8   8            Jane Doe      Electronics       536.9202    2023-05-17   \n",
       "9   9            Jane Doe      Clothing          793.3933    2023-08-13   \n",
       "10 10            Jane Doe      electronics       649.4286    2023-10-16   \n",
       "   Quantity\n",
       "1    2     \n",
       "2    3     \n",
       "3   -1     \n",
       "4    7     \n",
       "5  100     \n",
       "6    4     \n",
       "7    0     \n",
       "8    7     \n",
       "9    3     \n",
       "10   2     "
      ]
     },
     "metadata": {},
     "output_type": "display_data"
    }
   ],
   "source": [
    "# Inspect the messy dataset\n",
    "print(\"=== DATASET OVERVIEW ===\")\n",
    "head(messy_sales, 10) # First 10 rows"
   ]
  },
  {
   "cell_type": "markdown",
   "id": "f3f0b0f6",
   "metadata": {},
   "source": [
    "# Structure and summary of the data\n",
    "print(\"=== DATA STRUCTURE ===\")\n",
    "str(messy_sales)\n",
    "\n",
    "print(\"=== SUMMARY STATISTICS ===\")\n",
    "summary(messy_sales)"
   ]
  },
  {
   "cell_type": "code",
   "execution_count": 74,
   "id": "adf8fb87",
   "metadata": {
    "vscode": {
     "languageId": "r"
    }
   },
   "outputs": [
    {
     "name": "stdout",
     "output_type": "stream",
     "text": [
      "[1] \"=== DATA STRUCTURE ===\"\n",
      "'data.frame':\t200 obs. of  6 variables:\n",
      " $ TransactionID   : int  1 2 3 4 5 6 7 8 9 10 ...\n",
      " $ Customer_Name   : chr  \"\" \"Alice Brown\" \"Jane Doe\" \"Jane Doe\" ...\n",
      " $ Product_Category: chr  \"Home\" \"Clothing\" \"Electronics\" \"Electronics\" ...\n",
      " $ Sales_Amount    : num  362 573 488 5000 344 ...\n",
      " $ Purchase_Date   : chr  \"\" \"2023-10-21\" \"2023-12-28\" \"2023-06-16\" ...\n",
      " $ Quantity        : int  2 3 -1 7 100 4 0 7 3 2 ...\n",
      "[1] \"=== SUMMARY STATISTICS ===\"\n"
     ]
    },
    {
     "data": {
      "text/plain": [
       " TransactionID    Customer_Name      Product_Category    Sales_Amount     \n",
       " Min.   :  1.00   Length:200         Length:200         Min.   :  -100.0  \n",
       " 1st Qu.: 50.75   Class :character   Class :character   1st Qu.:   362.6  \n",
       " Median :100.50   Mode  :character   Mode  :character   Median :   531.3  \n",
       " Mean   :100.50                                         Mean   :  1614.9  \n",
       " 3rd Qu.:150.25                                         3rd Qu.:   694.5  \n",
       " Max.   :200.00                                         Max.   :100000.0  \n",
       "                                                        NA's   :22        \n",
       " Purchase_Date         Quantity     \n",
       " Length:200         Min.   : -1.00  \n",
       " Class :character   1st Qu.:  2.00  \n",
       " Mode  :character   Median :  5.00  \n",
       "                    Mean   : 12.52  \n",
       "                    3rd Qu.:  8.00  \n",
       "                    Max.   :100.00  \n",
       "                                    "
      ]
     },
     "metadata": {},
     "output_type": "display_data"
    }
   ],
   "source": [
    "print(\"=== DATA STRUCTURE ===\") \n",
    "str(messy_sales)\n",
    "print(\"=== SUMMARY STATISTICS ===\")\n",
    "summary(messy_sales)"
   ]
  },
  {
   "cell_type": "code",
   "execution_count": 75,
   "id": "6a6ba3b1",
   "metadata": {
    "vscode": {
     "languageId": "r"
    }
   },
   "outputs": [
    {
     "ename": "ERROR",
     "evalue": "Error in parse(text = input): <text>:1:1: unexpected '^'\n1: **\n    ^\n",
     "output_type": "error",
     "traceback": [
      "Error in parse(text = input): <text>:1:1: unexpected '^'\n1: **\n    ^\nTraceback:\n"
     ]
    }
   ],
   "source": [
    "**Data Quality Assessment:**\n",
    "\n",
    "Based on the imported messy_sales dataset, document all the data quality issues you observe:\n",
    "\n",
    "1. **Missing Values:** [Look for NA values - which columns have missing data?] Purchase_Date, Customer_Name\n",
    "\n",
    "2. **Potential Outliers:** [Check Sales_Amount and Quantity - do any values seem extreme?] In quantity, some numbers are zeros and negative. This could be errors or returns and refunds.\n",
    "In Sales_Amount, there is one high value of 5000 for 7 electronics. This could be an outlier especially considering there were other similar electronics purchases that cost much less.\n",
    "\n",
    "3. **Data Inconsistencies:** [Look at Product_Category - are there inconsistent naming conventions?] Yes, \"Electronics\", \"electronics\", and \"ELECTRONICS\".\n",
    "\n",
    "4. **Data Types:** [Are Purchase_Date and Sales_Amount using appropriate data types?] It seems like Sales_Amount has 4 decimal places. Money is usually recorded only up to two.\n",
    "\n",
    "5. **Invalid Values:** [Are there any logically impossible values like negative quantities?]Yes in quantity, some numbers are zeros and negative. \n",
    "\n",
    "**YOUR OBSERVATIONS:**\n",
    "\n",
    "[Write your detailed observations here after running the code above]\n",
    "messy_sales data frame has 6 columns and 200 rows. Each line represents one sales transaction that includes the amount, date and quantity purchased, customer name and more.\n",
    " There are missing values, outliers in the sales amount column, inconsistent naming conventions in product category, and impossible negative and zero values in quantity column.\n"
   ]
  },
  {
   "cell_type": "markdown",
   "id": "a9d136e7",
   "metadata": {},
   "source": [
    "---\n",
    "\n",
    "### Part 2: Missing Value Analysis and Treatment\n",
    "\n",
    "In this section, you'll identify missing values and apply different strategies to handle them."
   ]
  },
  {
   "cell_type": "markdown",
   "id": "b3c60d90",
   "metadata": {},
   "source": [
    "\n",
    "\n",
    "Complete the following tasks to thoroughly understand the missing value patterns in your dataset."
   ]
  },
  {
   "cell_type": "code",
   "execution_count": 76,
   "id": "e49897c6",
   "metadata": {
    "vscode": {
     "languageId": "r"
    }
   },
   "outputs": [
    {
     "name": "stdout",
     "output_type": "stream",
     "text": [
      "[1] \"Total missing values: 22\"\n",
      "[1] \"Missing values per column:\"\n",
      "   TransactionID    Customer_Name Product_Category     Sales_Amount \n",
      "               0                0                0               22 \n",
      "   Purchase_Date         Quantity \n",
      "               0                0 \n",
      "[1] \"Rows with missing values:\"\n",
      "    TransactionID Customer_Name Product_Category Sales_Amount Purchase_Date\n",
      "18             18    John Smith      electronics           NA    2023-05-21\n",
      "23             23      Jane Doe             Home           NA    2023-01-11\n",
      "43             43   Bob Johnson      ELECTRONICS           NA    2023-12-28\n",
      "45             45      Jane Doe      electronics           NA    2023-01-08\n",
      "48             48   Alice Brown             Home           NA    2023-04-27\n",
      "58             58   Bob Johnson            Books           NA    2023-11-07\n",
      "61             61                          Books           NA              \n",
      "73             73   Alice Brown      ELECTRONICS           NA    2023-04-25\n",
      "82             82      Jane Doe         Clothing           NA    2023-05-24\n",
      "89             89   Bob Johnson            Books           NA    2023-08-18\n",
      "90             90   Alice Brown      Electronics           NA    2023-02-26\n",
      "100           100   Alice Brown      electronics           NA    2023-03-10\n",
      "102           102   Bob Johnson      ELECTRONICS           NA    2023-04-19\n",
      "112           112   Bob Johnson         Clothing           NA    2023-12-02\n",
      "116           116   Bob Johnson         Clothing           NA    2023-01-22\n",
      "134           134    John Smith            Books           NA    2023-04-26\n",
      "159           159      Jane Doe             Home           NA    2023-09-24\n",
      "161           161                           Home           NA    2023-05-28\n",
      "162           162   Bob Johnson      Electronics           NA    2023-07-05\n",
      "163           163   Alice Brown      Electronics           NA    2023-04-20\n",
      "195           195      Jane Doe         Clothing           NA    2023-01-29\n",
      "197           197      Jane Doe            Books           NA    2023-02-28\n",
      "    Quantity\n",
      "18         8\n",
      "23         2\n",
      "43         4\n",
      "45        10\n",
      "48        -1\n",
      "58         7\n",
      "61         2\n",
      "73         5\n",
      "82         0\n",
      "89         5\n",
      "90       100\n",
      "100        7\n",
      "102        2\n",
      "112        8\n",
      "116        4\n",
      "134        1\n",
      "159       10\n",
      "161        3\n",
      "162       -1\n",
      "163        0\n",
      "195        7\n",
      "197       10\n"
     ]
    }
   ],
   "source": [
    "# TODO: Calculate total missing values in the entire dataset\n",
    "total_missing <- sum(is.na(messy_sales)) # YOUR CODE HERE\n",
    "\n",
    "\n",
    "# TODO: Calculate missing values per column\n",
    "missing_per_column <- sapply(messy_sales, function(x) sum(is.na(x))) # YOUR CODE HERE\n",
    "\n",
    "# TODO: Identify rows with missing values\n",
    "incomplete_rows <- messy_sales[!complete.cases(messy_sales), ]# YOUR CODE HERE\n",
    "\n",
    "\n",
    "print(paste(\"Total missing values:\", total_missing))\n",
    "print(\"Missing values per column:\")\n",
    "print(missing_per_column)\n",
    "print(\"Rows with missing values:\")\n",
    "print(incomplete_rows)"
   ]
  },
  {
   "cell_type": "code",
   "execution_count": null,
   "id": "787161c8",
   "metadata": {
    "vscode": {
     "languageId": "r"
    }
   },
   "outputs": [
    {
     "ename": "ERROR",
     "evalue": "Error in parse(text = input): <text>:2:2: unexpected ','\n1: \"#### 2.2 Missing Value Treatment - Option A (Removal)\n2: \",\n    ^\n",
     "output_type": "error",
     "traceback": [
      "Error in parse(text = input): <text>:2:2: unexpected ','\n1: \"#### 2.2 Missing Value Treatment - Option A (Removal)\n2: \",\n    ^\nTraceback:\n"
     ]
    }
   ],
   "source": [
    "\"#### 2.2 Missing Value Treatment - Option A (Removal)\n",
    "\",\n",
    "\n",
    "Create a dataset with all missing value rows removed and compare the results."
   ]
  },
  {
   "cell_type": "code",
   "execution_count": 77,
   "id": "c8d24625",
   "metadata": {
    "vscode": {
     "languageId": "r"
    }
   },
   "outputs": [
    {
     "name": "stdout",
     "output_type": "stream",
     "text": [
      "[1] \"Original dataset dimensions:\"\n",
      "[1] 200   6\n",
      "[1] \"After removing NA rows:\"\n",
      "[1] 178   6\n",
      "[1] \"Rows lost: 22\"\n"
     ]
    }
   ],
   "source": [
    "# TODO: Remove all rows with missing values\n",
    "sales_removed_na <- na.omit(messy_sales)\n",
    "\n",
    "\n",
    "# Compare dimensions\n",
    "print(\"Original dataset dimensions:\")\n",
    "print(dim(messy_sales))\n",
    "print(\"After removing NA rows:\")\n",
    "print(dim(sales_removed_na))\n",
    "print(paste(\"Rows lost:\", nrow(messy_sales) - nrow(sales_removed_na)))"
   ]
  },
  {
   "cell_type": "markdown",
   "id": "6e3704e9",
   "metadata": {},
   "source": [
    "#### 2.3 Missing Value Treatment - Option B (Imputation)\n",
    "\n",
    "\n",
    "Apply appropriate imputation strategies for different types of variables."
   ]
  },
  {
   "cell_type": "code",
   "execution_count": 78,
   "id": "a705ae02",
   "metadata": {
    "vscode": {
     "languageId": "r"
    }
   },
   "outputs": [],
   "source": [
    "## Create a copy for imputation\n",
    "sales_imputed <- messy_sales\n"
   ]
  },
  {
   "cell_type": "code",
   "execution_count": 79,
   "id": "812ae2f5",
   "metadata": {
    "vscode": {
     "languageId": "r"
    }
   },
   "outputs": [],
   "source": [
    "### TODO: Create a mode function for categorical variables\n",
    "get_mode <- function(v) {\n",
    "  uniqv <- unique(v) # Get unique values\n",
    "  uniqv[which.max(tabulate(match(v, uniqv)))]\n",
    "} ### YOUR CODE HERE\n",
    "  ### Hint: Use unique(), tabulate(), match(), and which.max()\n"
   ]
  },
  {
   "cell_type": "code",
   "execution_count": 80,
   "id": "2cc223b7",
   "metadata": {
    "vscode": {
     "languageId": "r"
    }
   },
   "outputs": [
    {
     "name": "stdout",
     "output_type": "stream",
     "text": [
      "[1] \"Data after mode imputation for Customer_Name:\"\n",
      "    Customer_Name Customer_Name_imputed_mode\n",
      "1                                           \n",
      "2     Alice Brown                Alice Brown\n",
      "3        Jane Doe                   Jane Doe\n",
      "4        Jane Doe                   Jane Doe\n",
      "5      John Smith                 John Smith\n",
      "6      John Smith                 John Smith\n",
      "7        Jane Doe                   Jane Doe\n",
      "8        Jane Doe                   Jane Doe\n",
      "9        Jane Doe                   Jane Doe\n",
      "10       Jane Doe                   Jane Doe\n",
      "11    Bob Johnson                Bob Johnson\n",
      "12     John Smith                 John Smith\n",
      "13       Jane Doe                   Jane Doe\n",
      "14    Alice Brown                Alice Brown\n",
      "15     John Smith                 John Smith\n",
      "16    Bob Johnson                Bob Johnson\n",
      "17    Alice Brown                Alice Brown\n",
      "18     John Smith                 John Smith\n",
      "19       Jane Doe                   Jane Doe\n",
      "20       Jane Doe                   Jane Doe\n",
      "21                                          \n",
      "22    Bob Johnson                Bob Johnson\n",
      "23       Jane Doe                   Jane Doe\n",
      "24       Jane Doe                   Jane Doe\n",
      "25       Jane Doe                   Jane Doe\n",
      "26                                          \n",
      "27    Alice Brown                Alice Brown\n",
      "28       Jane Doe                   Jane Doe\n",
      "29    Alice Brown                Alice Brown\n",
      "30    Alice Brown                Alice Brown\n",
      "31       Jane Doe                   Jane Doe\n",
      "32     John Smith                 John Smith\n",
      "33    Bob Johnson                Bob Johnson\n",
      "34    Alice Brown                Alice Brown\n",
      "35     John Smith                 John Smith\n",
      "36       Jane Doe                   Jane Doe\n",
      "37    Bob Johnson                Bob Johnson\n",
      "38    Bob Johnson                Bob Johnson\n",
      "39     John Smith                 John Smith\n",
      "40    Alice Brown                Alice Brown\n",
      "41                                          \n",
      "42    Alice Brown                Alice Brown\n",
      "43    Bob Johnson                Bob Johnson\n",
      "44     John Smith                 John Smith\n",
      "45       Jane Doe                   Jane Doe\n",
      "46     John Smith                 John Smith\n",
      "47     John Smith                 John Smith\n",
      "48    Alice Brown                Alice Brown\n",
      "49     John Smith                 John Smith\n",
      "50       Jane Doe                   Jane Doe\n",
      "51                                          \n",
      "52     John Smith                 John Smith\n",
      "53    Alice Brown                Alice Brown\n",
      "54    Alice Brown                Alice Brown\n",
      "55    Alice Brown                Alice Brown\n",
      "56    Bob Johnson                Bob Johnson\n",
      "57     John Smith                 John Smith\n",
      "58    Bob Johnson                Bob Johnson\n",
      "59    Bob Johnson                Bob Johnson\n",
      "60       Jane Doe                   Jane Doe\n",
      "61                                          \n",
      "62     John Smith                 John Smith\n",
      "63     John Smith                 John Smith\n",
      "64    Bob Johnson                Bob Johnson\n",
      "65    Bob Johnson                Bob Johnson\n",
      "66    Bob Johnson                Bob Johnson\n",
      "67    Alice Brown                Alice Brown\n",
      "68     John Smith                 John Smith\n",
      "69       Jane Doe                   Jane Doe\n",
      "70     John Smith                 John Smith\n",
      "71    Bob Johnson                Bob Johnson\n",
      "72       Jane Doe                   Jane Doe\n",
      "73    Alice Brown                Alice Brown\n",
      "74       Jane Doe                   Jane Doe\n",
      "75    Alice Brown                Alice Brown\n",
      "76                                          \n",
      "77     John Smith                 John Smith\n",
      "78     John Smith                 John Smith\n",
      "79    Bob Johnson                Bob Johnson\n",
      "80       Jane Doe                   Jane Doe\n",
      "81                                          \n",
      "82       Jane Doe                   Jane Doe\n",
      "83     John Smith                 John Smith\n",
      "84       Jane Doe                   Jane Doe\n",
      "85     John Smith                 John Smith\n",
      "86       Jane Doe                   Jane Doe\n",
      "87    Alice Brown                Alice Brown\n",
      "88     John Smith                 John Smith\n",
      "89    Bob Johnson                Bob Johnson\n",
      "90    Alice Brown                Alice Brown\n",
      "91    Alice Brown                Alice Brown\n",
      "92    Bob Johnson                Bob Johnson\n",
      "93       Jane Doe                   Jane Doe\n",
      "94    Alice Brown                Alice Brown\n",
      "95     John Smith                 John Smith\n",
      "96     John Smith                 John Smith\n",
      "97    Bob Johnson                Bob Johnson\n",
      "98     John Smith                 John Smith\n",
      "99       Jane Doe                   Jane Doe\n",
      "100   Alice Brown                Alice Brown\n",
      "101                                         \n",
      "102   Bob Johnson                Bob Johnson\n",
      "103   Bob Johnson                Bob Johnson\n",
      "104   Bob Johnson                Bob Johnson\n",
      "105      Jane Doe                   Jane Doe\n",
      "106    John Smith                 John Smith\n",
      "107    John Smith                 John Smith\n",
      "108      Jane Doe                   Jane Doe\n",
      "109    John Smith                 John Smith\n",
      "110   Alice Brown                Alice Brown\n",
      "111      Jane Doe                   Jane Doe\n",
      "112   Bob Johnson                Bob Johnson\n",
      "113      Jane Doe                   Jane Doe\n",
      "114   Alice Brown                Alice Brown\n",
      "115   Bob Johnson                Bob Johnson\n",
      "116   Bob Johnson                Bob Johnson\n",
      "117    John Smith                 John Smith\n",
      "118    John Smith                 John Smith\n",
      "119    John Smith                 John Smith\n",
      "120    John Smith                 John Smith\n",
      "121                                         \n",
      "122   Alice Brown                Alice Brown\n",
      "123   Alice Brown                Alice Brown\n",
      "124   Alice Brown                Alice Brown\n",
      "125    John Smith                 John Smith\n",
      "126                                         \n",
      "127    John Smith                 John Smith\n",
      "128    John Smith                 John Smith\n",
      "129   Bob Johnson                Bob Johnson\n",
      "130   Bob Johnson                Bob Johnson\n",
      "131      Jane Doe                   Jane Doe\n",
      "132    John Smith                 John Smith\n",
      "133      Jane Doe                   Jane Doe\n",
      "134    John Smith                 John Smith\n",
      "135    John Smith                 John Smith\n",
      "136   Bob Johnson                Bob Johnson\n",
      "137   Alice Brown                Alice Brown\n",
      "138   Alice Brown                Alice Brown\n",
      "139   Bob Johnson                Bob Johnson\n",
      "140      Jane Doe                   Jane Doe\n",
      "141                                         \n",
      "142   Bob Johnson                Bob Johnson\n",
      "143      Jane Doe                   Jane Doe\n",
      "144    John Smith                 John Smith\n",
      "145    John Smith                 John Smith\n",
      "146    John Smith                 John Smith\n",
      "147   Bob Johnson                Bob Johnson\n",
      "148   Alice Brown                Alice Brown\n",
      "149   Alice Brown                Alice Brown\n",
      "150   Alice Brown                Alice Brown\n",
      "151                                         \n",
      "152   Bob Johnson                Bob Johnson\n",
      "153   Bob Johnson                Bob Johnson\n",
      "154   Bob Johnson                Bob Johnson\n",
      "155   Bob Johnson                Bob Johnson\n",
      "156   Alice Brown                Alice Brown\n",
      "157   Alice Brown                Alice Brown\n",
      "158   Alice Brown                Alice Brown\n",
      "159      Jane Doe                   Jane Doe\n",
      "160    John Smith                 John Smith\n",
      "161                                         \n",
      "162   Bob Johnson                Bob Johnson\n",
      "163   Alice Brown                Alice Brown\n",
      "164      Jane Doe                   Jane Doe\n",
      "165    John Smith                 John Smith\n",
      "166    John Smith                 John Smith\n",
      "167   Bob Johnson                Bob Johnson\n",
      "168    John Smith                 John Smith\n",
      "169   Alice Brown                Alice Brown\n",
      "170   Bob Johnson                Bob Johnson\n",
      "171    John Smith                 John Smith\n",
      "172    John Smith                 John Smith\n",
      "173      Jane Doe                   Jane Doe\n",
      "174   Alice Brown                Alice Brown\n",
      "175      Jane Doe                   Jane Doe\n",
      "176                                         \n",
      "177      Jane Doe                   Jane Doe\n",
      "178   Bob Johnson                Bob Johnson\n",
      "179   Bob Johnson                Bob Johnson\n",
      "180      Jane Doe                   Jane Doe\n",
      "181                                         \n",
      "182   Alice Brown                Alice Brown\n",
      "183      Jane Doe                   Jane Doe\n",
      "184   Bob Johnson                Bob Johnson\n",
      "185   Bob Johnson                Bob Johnson\n",
      "186    John Smith                 John Smith\n",
      "187   Bob Johnson                Bob Johnson\n",
      "188   Bob Johnson                Bob Johnson\n",
      "189    John Smith                 John Smith\n",
      "190    John Smith                 John Smith\n",
      "191   Alice Brown                Alice Brown\n",
      "192   Alice Brown                Alice Brown\n",
      "193   Bob Johnson                Bob Johnson\n",
      "194   Alice Brown                Alice Brown\n",
      "195      Jane Doe                   Jane Doe\n",
      "196      Jane Doe                   Jane Doe\n",
      "197      Jane Doe                   Jane Doe\n",
      "198      Jane Doe                   Jane Doe\n",
      "199      Jane Doe                   Jane Doe\n",
      "200    John Smith                 John Smith\n"
     ]
    }
   ],
   "source": [
    "### TODO: Impute Customer_Name with mode (for categorical missing values)\n",
    "data_imputed_mode <- messy_sales %>%\n",
    "\n",
    "mutate(Customer_Name_imputed_mode = ifelse(is.na(Customer_Name),\n",
    "\n",
    "get_mode(Customer_Name[!is.na(Customer_Name)]), Customer_Name))\n",
    "\n",
    "\n",
    "print(\"Data after mode imputation for Customer_Name:\")\n",
    "print(data_imputed_mode[, c(\"Customer_Name\", \"Customer_Name_imputed_mode\")])\n",
    "# YOUR CODE HERE"
   ]
  },
  {
   "cell_type": "code",
   "execution_count": 81,
   "id": "99d32f7d",
   "metadata": {
    "vscode": {
     "languageId": "r"
    }
   },
   "outputs": [
    {
     "name": "stdout",
     "output_type": "stream",
     "text": [
      "[1] \"Data after median imputation for Quantity:\"\n",
      "    Quantity Quantity_imputed_median\n",
      "1          2                       2\n",
      "2          3                       3\n",
      "3         -1                      -1\n",
      "4          7                       7\n",
      "5        100                     100\n",
      "6          4                       4\n",
      "7          0                       0\n",
      "8          7                       7\n",
      "9          3                       3\n",
      "10         2                       2\n",
      "11         5                       5\n",
      "12         7                       7\n",
      "13       100                     100\n",
      "14       100                     100\n",
      "15         2                       2\n",
      "16         4                       4\n",
      "17       100                     100\n",
      "18         8                       8\n",
      "19         4                       4\n",
      "20         6                       6\n",
      "21         8                       8\n",
      "22         0                       0\n",
      "23         2                       2\n",
      "24         8                       8\n",
      "25         1                       1\n",
      "26         4                       4\n",
      "27       100                     100\n",
      "28         6                       6\n",
      "29         2                       2\n",
      "30         8                       8\n",
      "31        10                      10\n",
      "32         2                       2\n",
      "33         5                       5\n",
      "34        -1                      -1\n",
      "35        10                      10\n",
      "36         0                       0\n",
      "37        10                      10\n",
      "38         7                       7\n",
      "39         8                       8\n",
      "40         3                       3\n",
      "41         4                       4\n",
      "42         0                       0\n",
      "43         4                       4\n",
      "44         2                       2\n",
      "45        10                      10\n",
      "46         0                       0\n",
      "47         6                       6\n",
      "48        -1                      -1\n",
      "49         1                       1\n",
      "50         0                       0\n",
      "51        -1                      -1\n",
      "52        -1                      -1\n",
      "53         7                       7\n",
      "54        -1                      -1\n",
      "55         4                       4\n",
      "56         8                       8\n",
      "57         4                       4\n",
      "58         7                       7\n",
      "59         1                       1\n",
      "60         3                       3\n",
      "61         2                       2\n",
      "62         5                       5\n",
      "63         5                       5\n",
      "64         3                       3\n",
      "65       100                     100\n",
      "66       100                     100\n",
      "67         0                       0\n",
      "68         0                       0\n",
      "69         9                       9\n",
      "70        -1                      -1\n",
      "71       100                     100\n",
      "72         0                       0\n",
      "73         5                       5\n",
      "74       100                     100\n",
      "75        10                      10\n",
      "76         6                       6\n",
      "77         3                       3\n",
      "78         0                       0\n",
      "79         0                       0\n",
      "80         2                       2\n",
      "81         7                       7\n",
      "82         0                       0\n",
      "83        10                      10\n",
      "84         3                       3\n",
      "85         9                       9\n",
      "86         5                       5\n",
      "87         1                       1\n",
      "88         2                       2\n",
      "89         5                       5\n",
      "90       100                     100\n",
      "91        -1                      -1\n",
      "92         5                       5\n",
      "93         5                       5\n",
      "94         2                       2\n",
      "95         2                       2\n",
      "96        10                      10\n",
      "97         5                       5\n",
      "98        -1                      -1\n",
      "99        10                      10\n",
      "100        7                       7\n",
      "101      100                     100\n",
      "102        2                       2\n",
      "103        7                       7\n",
      "104        8                       8\n",
      "105        3                       3\n",
      "106        5                       5\n",
      "107       10                      10\n",
      "108        3                       3\n",
      "109       10                      10\n",
      "110        9                       9\n",
      "111        5                       5\n",
      "112        8                       8\n",
      "113        4                       4\n",
      "114      100                     100\n",
      "115        1                       1\n",
      "116        4                       4\n",
      "117        0                       0\n",
      "118        7                       7\n",
      "119        8                       8\n",
      "120        2                       2\n",
      "121        4                       4\n",
      "122        5                       5\n",
      "123        7                       7\n",
      "124       -1                      -1\n",
      "125        1                       1\n",
      "126       10                      10\n",
      "127        3                       3\n",
      "128        7                       7\n",
      "129        4                       4\n",
      "130        8                       8\n",
      "131       10                      10\n",
      "132       10                      10\n",
      "133        7                       7\n",
      "134        1                       1\n",
      "135        9                       9\n",
      "136        2                       2\n",
      "137       10                      10\n",
      "138        0                       0\n",
      "139        4                       4\n",
      "140        7                       7\n",
      "141        5                       5\n",
      "142        6                       6\n",
      "143        2                       2\n",
      "144        0                       0\n",
      "145        9                       9\n",
      "146        6                       6\n",
      "147      100                     100\n",
      "148        7                       7\n",
      "149        3                       3\n",
      "150        5                       5\n",
      "151        7                       7\n",
      "152        9                       9\n",
      "153        2                       2\n",
      "154        8                       8\n",
      "155       -1                      -1\n",
      "156        5                       5\n",
      "157        0                       0\n",
      "158       10                      10\n",
      "159       10                      10\n",
      "160      100                     100\n",
      "161        3                       3\n",
      "162       -1                      -1\n",
      "163        0                       0\n",
      "164        1                       1\n",
      "165        1                       1\n",
      "166        4                       4\n",
      "167       -1                      -1\n",
      "168        0                       0\n",
      "169        5                       5\n",
      "170       10                      10\n",
      "171      100                     100\n",
      "172        5                       5\n",
      "173        3                       3\n",
      "174        2                       2\n",
      "175        9                       9\n",
      "176        3                       3\n",
      "177       -1                      -1\n",
      "178        7                       7\n",
      "179        5                       5\n",
      "180       10                      10\n",
      "181        5                       5\n",
      "182      100                     100\n",
      "183        7                       7\n",
      "184       10                      10\n",
      "185        8                       8\n",
      "186       -1                      -1\n",
      "187        1                       1\n",
      "188        8                       8\n",
      "189        3                       3\n",
      "190       -1                      -1\n",
      "191        7                       7\n",
      "192        3                       3\n",
      "193        2                       2\n",
      "194        3                       3\n",
      "195        7                       7\n",
      "196        2                       2\n",
      "197       10                      10\n",
      "198        9                       9\n",
      "199      100                     100\n",
      "200       10                      10\n"
     ]
    }
   ],
   "source": [
    "### To practice median imputation, try it on Quantity column\n",
    "### TODO: Impute Quantity with median (alternative approach for numeric data)\n",
    "data_imputed_median <- messy_sales %>% # YOUR CODE HERE\n",
    "  mutate(Quantity_imputed_median = ifelse(is.na(Quantity), # If Profit is NA...\n",
    "                                      median(Quantity, na.rm = TRUE), # Replace with median (excluding NAs)\n",
    "                                      Quantity)) # Otherwise keep original value\n",
    "print(\"Data after median imputation for Quantity:\")\n",
    "print(data_imputed_median[, c(\"Quantity\", \"Quantity_imputed_median\")])"
   ]
  },
  {
   "cell_type": "code",
   "execution_count": 82,
   "id": "4b33ef08",
   "metadata": {
    "vscode": {
     "languageId": "r"
    }
   },
   "outputs": [
    {
     "name": "stdout",
     "output_type": "stream",
     "text": [
      "[1] \"Missing values after imputation:\"\n",
      "   TransactionID    Customer_Name Product_Category     Sales_Amount \n",
      "               0                0                0               22 \n",
      "   Purchase_Date         Quantity \n",
      "               0                0 \n"
     ]
    }
   ],
   "source": [
    "### Verify imputation success\n",
    "print(\"Missing values after imputation:\")\n",
    "print(colSums(is.na(sales_imputed)))"
   ]
  },
  {
   "cell_type": "code",
   "execution_count": null,
   "id": "1ac6fc99",
   "metadata": {
    "vscode": {
     "languageId": "r"
    }
   },
   "outputs": [],
   "source": [
    "#### 2.4 Compare Missing Value Strategies Analyze the impact of different missing value treatment approaches."
   ]
  },
  {
   "cell_type": "code",
   "execution_count": 83,
   "id": "824146f8",
   "metadata": {
    "vscode": {
     "languageId": "r"
    }
   },
   "outputs": [
    {
     "name": "stdout",
     "output_type": "stream",
     "text": [
      "[1] \"=== ORIGINAL DATA ===\"\n"
     ]
    },
    {
     "data": {
      "text/plain": [
       "    Min.  1st Qu.   Median     Mean  3rd Qu.     Max.     NA's \n",
       "  -100.0    362.6    531.3   1614.9    694.5 100000.0       22 "
      ]
     },
     "metadata": {},
     "output_type": "display_data"
    }
   ],
   "source": [
    "# Compare summary statistics\n",
    "print(\"=== ORIGINAL DATA ===\")\n",
    "summary(messy_sales$Sales_Amount)"
   ]
  },
  {
   "cell_type": "code",
   "execution_count": 84,
   "id": "e3665b24",
   "metadata": {
    "vscode": {
     "languageId": "r"
    }
   },
   "outputs": [
    {
     "name": "stdout",
     "output_type": "stream",
     "text": [
      "[1] \"=== AFTER REMOVING NAs ===\"\n"
     ]
    },
    {
     "data": {
      "text/plain": [
       "    Min.  1st Qu.   Median     Mean  3rd Qu.     Max. \n",
       "  -100.0    362.6    531.3   1614.9    694.5 100000.0 "
      ]
     },
     "metadata": {},
     "output_type": "display_data"
    }
   ],
   "source": [
    "print(\"=== AFTER REMOVING NAs ===\")\n",
    "summary(sales_removed_na$Sales_Amount)"
   ]
  },
  {
   "cell_type": "code",
   "execution_count": 85,
   "id": "d60582ad",
   "metadata": {
    "vscode": {
     "languageId": "r"
    }
   },
   "outputs": [
    {
     "name": "stdout",
     "output_type": "stream",
     "text": [
      "[1] \"=== AFTER IMPUTATION ===\"\n"
     ]
    },
    {
     "data": {
      "text/plain": [
       "    Min.  1st Qu.   Median     Mean  3rd Qu.     Max.     NA's \n",
       "  -100.0    362.6    531.3   1614.9    694.5 100000.0       22 "
      ]
     },
     "metadata": {},
     "output_type": "display_data"
    }
   ],
   "source": [
    "print(\"=== AFTER IMPUTATION ===\")\n",
    "summary(sales_imputed$Sales_Amount)"
   ]
  },
  {
   "cell_type": "markdown",
   "id": "15bf4a1d",
   "metadata": {},
   "source": [
    "\n",
    "**Analysis Questions:**\n",
    "\n",
    "1. **Which approach would you recommend for this dataset and why?**\n",
    "\n",
    "[YOUR ANSWER HERE] Removing the NA's. The dataset seems large enough and the mean, median was not effected by the removal. \n",
    "\n",
    "\n",
    "2. **What are the trade-offs between removal and imputation?**\n",
    "\n",
    "[YOUR ANSWER HERE] Removal has the benefit of not replacing missing values with potentially inaccurate data which could skew results and provide inaccurate conclusions about the data. Imputation is better for more normally distributed datasets that are smaller in size."
   ]
  },
  {
   "cell_type": "markdown",
   "id": "33a50824",
   "metadata": {},
   "source": [
    "---\n",
    "\n",
    "\"### Part 3: Outlier Detection and Treatment\n",
    "\",\n",
    "\n",
    "Using your imputed dataset, identify and handle outliers in the Sales_Amount variable."
   ]
  },
  {
   "cell_type": "code",
   "execution_count": 86,
   "id": "737913d7",
   "metadata": {
    "vscode": {
     "languageId": "r"
    }
   },
   "outputs": [
    {
     "ename": "ERROR",
     "evalue": "Error in parse(text = input): <text>:2:2: unexpected ','\n1: \"#### 3.1 Outlier Detection Using IQR Method\n2: \",\n    ^\n",
     "output_type": "error",
     "traceback": [
      "Error in parse(text = input): <text>:2:2: unexpected ','\n1: \"#### 3.1 Outlier Detection Using IQR Method\n2: \",\n    ^\nTraceback:\n"
     ]
    }
   ],
   "source": [
    "\"#### 3.1 Outlier Detection Using IQR Method\n",
    "\",\n",
    "\n",
    "Apply the interquartile range method to identify outliers in Sales_Amount."
   ]
  },
  {
   "cell_type": "code",
   "execution_count": 87,
   "id": "9fbae5a6",
   "metadata": {
    "vscode": {
     "languageId": "r"
    }
   },
   "outputs": [],
   "source": [
    "# TODO: Calculate quartiles and IQR for Sales_Amount\n",
    "Q1_sales <- quantile(messy_sales$Sales_Amount, 0.25, na.rm = TRUE) # YOUR CODE HERE\n",
    "Q3_sales <- quantile(messy_sales$Sales_Amount, 0.75, na.rm = TRUE)# YOUR CODE HERE  \n",
    "IQR_sales <- Q3_sales - Q1_sales # YOUR CODE HERE"
   ]
  },
  {
   "cell_type": "code",
   "execution_count": 88,
   "id": "cc30ca3c",
   "metadata": {
    "vscode": {
     "languageId": "r"
    }
   },
   "outputs": [],
   "source": [
    "### TODO: Calculate outlier thresholds\n",
    "upper_threshold <- Q3_sales + 1.5 * IQR_sales # YOUR CODE HERE\n",
    "lower_threshold <- Q1_sales - 1.5 * IQR_sales  # YOUR CODE HERE"
   ]
  },
  {
   "cell_type": "code",
   "execution_count": 89,
   "id": "f782a224",
   "metadata": {
    "vscode": {
     "languageId": "r"
    }
   },
   "outputs": [
    {
     "name": "stdout",
     "output_type": "stream",
     "text": [
      "[1] \"Q1: 362.578164415014\"\n",
      "[1] \"Q3: 694.479236061358\"\n",
      "[1] \"IQR: 331.901071646344\"\n",
      "[1] \"Lower threshold: -135.273443054502\"\n",
      "[1] \"Upper threshold: 1192.33084353087\"\n",
      "[1] \"Number of outliers found: 6\"\n",
      "[1] \"Outlier rows:\"\n",
      "  TransactionID Customer_Name Product_Category Sales_Amount Purchase_Date\n",
      "1             4      Jane Doe      Electronics         5000    2023-06-16\n",
      "2            46    John Smith            Books         8000              \n",
      "3            96    John Smith      electronics        50000    2023-09-22\n",
      "4           146    John Smith      ELECTRONICS        12000    2023-01-22\n",
      "5           167   Bob Johnson      Electronics       100000    2023-09-18\n",
      "6           177      Jane Doe      ELECTRONICS        25000    2023-08-03\n",
      "  Quantity\n",
      "1        7\n",
      "2        0\n",
      "3       10\n",
      "4        6\n",
      "5       -1\n",
      "6       -1\n"
     ]
    }
   ],
   "source": [
    "### TODO: Identify outliers\n",
    "outliers <- messy_sales %>%\n",
    "  filter(Sales_Amount > upper_threshold | Sales_Amount < lower_threshold) # YOUR CODE HERE\n",
    "\n",
    "print(paste(\"Q1:\", Q1_sales))\n",
    "print(paste(\"Q3:\", Q3_sales))\n",
    "print(paste(\"IQR:\", IQR_sales))\n",
    "print(paste(\"Lower threshold:\", lower_threshold))\n",
    "print(paste(\"Upper threshold:\", upper_threshold))\n",
    "print(paste(\"Number of outliers found:\", nrow(outliers)))\n",
    "print(\"Outlier rows:\")\n",
    "print(outliers)"
   ]
  },
  {
   "cell_type": "markdown",
   "id": "41902067",
   "metadata": {},
   "source": [
    "### 3.2 Outlier Visualization\n",
    "\n",
    "Create a boxplot to visualize the outliers in Sales_Amount."
   ]
  },
  {
   "cell_type": "code",
   "execution_count": 90,
   "id": "473e77cb",
   "metadata": {
    "vscode": {
     "languageId": "r"
    }
   },
   "outputs": [
    {
     "name": "stderr",
     "output_type": "stream",
     "text": [
      "Warning message:\n",
      "“\u001b[1m\u001b[22mRemoved 22 rows containing non-finite outside the scale range\n",
      "(`stat_boxplot()`).”\n"
     ]
    },
    {
     "data": {
      "application/pdf": "[encoded data removed]",
      "image/jpeg": "[encoded data removed]",
      "image/png": "[encoded data removed]",
      "image/svg+xml": [
       "<?xml version=\"1.0\" encoding=\"UTF-8\"?>\n",
       "<svg xmlns=\"http://www.w3.org/2000/svg\" xmlns:xlink=\"http://www.w3.org/1999/xlink\" width=\"504\" height=\"504\" viewBox=\"0 0 504 504\">\n",
       "<defs>\n",
       "<g>\n",
       "<g id=\"glyph-0-0\">\n",
       "<path d=\"M 4.546875 -3.03125 C 4.546875 -2.019531 4.367188 -1.25 4.015625 -0.71875 C 3.660156 -0.1875 3.132812 0.078125 2.4375 0.078125 C 1.738281 0.078125 1.210938 -0.179688 0.859375 -0.703125 C 0.515625 -1.234375 0.34375 -2.007812 0.34375 -3.03125 C 0.34375 -4.070312 0.507812 -4.847656 0.84375 -5.359375 C 1.1875 -5.878906 1.726562 -6.140625 2.46875 -6.140625 C 3.175781 -6.140625 3.695312 -5.875 4.03125 -5.34375 C 4.375 -4.820312 4.546875 -4.050781 4.546875 -3.03125 Z M 3.765625 -3.03125 C 3.765625 -3.90625 3.660156 -4.535156 3.453125 -4.921875 C 3.253906 -5.316406 2.925781 -5.515625 2.46875 -5.515625 C 1.988281 -5.515625 1.644531 -5.320312 1.4375 -4.9375 C 1.226562 -4.550781 1.125 -3.914062 1.125 -3.03125 C 1.125 -2.164062 1.226562 -1.535156 1.4375 -1.140625 C 1.644531 -0.742188 1.976562 -0.546875 2.4375 -0.546875 C 2.894531 -0.546875 3.226562 -0.75 3.4375 -1.15625 C 3.65625 -1.5625 3.765625 -2.1875 3.765625 -3.03125 Z M 3.765625 -3.03125 \"/>\n",
       "</g>\n",
       "<g id=\"glyph-0-1\">\n",
       "<path d=\"M 0.4375 0 L 0.4375 -0.546875 C 0.582031 -0.878906 0.757812 -1.171875 0.96875 -1.421875 C 1.1875 -1.679688 1.410156 -1.914062 1.640625 -2.125 C 1.867188 -2.332031 2.097656 -2.523438 2.328125 -2.703125 C 2.554688 -2.878906 2.757812 -3.054688 2.9375 -3.234375 C 3.125 -3.410156 3.273438 -3.597656 3.390625 -3.796875 C 3.503906 -3.992188 3.5625 -4.210938 3.5625 -4.453125 C 3.5625 -4.785156 3.460938 -5.039062 3.265625 -5.21875 C 3.078125 -5.40625 2.804688 -5.5 2.453125 -5.5 C 2.128906 -5.5 1.859375 -5.410156 1.640625 -5.234375 C 1.429688 -5.054688 1.304688 -4.804688 1.265625 -4.484375 L 0.484375 -4.5625 C 0.535156 -5.039062 0.738281 -5.421875 1.09375 -5.703125 C 1.445312 -5.992188 1.898438 -6.140625 2.453125 -6.140625 C 3.066406 -6.140625 3.535156 -5.992188 3.859375 -5.703125 C 4.191406 -5.421875 4.359375 -5.015625 4.359375 -4.484375 C 4.359375 -4.242188 4.300781 -4.007812 4.1875 -3.78125 C 4.082031 -3.550781 3.921875 -3.316406 3.703125 -3.078125 C 3.492188 -2.847656 3.09375 -2.492188 2.5 -2.015625 C 2.164062 -1.742188 1.898438 -1.5 1.703125 -1.28125 C 1.515625 -1.0625 1.378906 -0.851562 1.296875 -0.65625 L 4.453125 -0.65625 L 4.453125 0 Z M 0.4375 0 \"/>\n",
       "</g>\n",
       "<g id=\"glyph-0-2\">\n",
       "<path d=\"M 4.515625 -1.96875 C 4.515625 -1.332031 4.328125 -0.832031 3.953125 -0.46875 C 3.578125 -0.101562 3.050781 0.078125 2.375 0.078125 C 1.8125 0.078125 1.351562 -0.0390625 1 -0.28125 C 0.65625 -0.53125 0.441406 -0.890625 0.359375 -1.359375 L 1.140625 -1.4375 C 1.296875 -0.84375 1.710938 -0.546875 2.390625 -0.546875 C 2.804688 -0.546875 3.128906 -0.671875 3.359375 -0.921875 C 3.597656 -1.171875 3.71875 -1.515625 3.71875 -1.953125 C 3.71875 -2.335938 3.597656 -2.644531 3.359375 -2.875 C 3.128906 -3.113281 2.8125 -3.234375 2.40625 -3.234375 C 2.195312 -3.234375 2.003906 -3.195312 1.828125 -3.125 C 1.648438 -3.0625 1.46875 -2.953125 1.28125 -2.796875 L 0.53125 -2.796875 L 0.734375 -6.046875 L 4.171875 -6.046875 L 4.171875 -5.390625 L 1.4375 -5.390625 L 1.3125 -3.46875 C 1.65625 -3.726562 2.070312 -3.859375 2.5625 -3.859375 C 3.164062 -3.859375 3.640625 -3.679688 3.984375 -3.328125 C 4.335938 -2.984375 4.515625 -2.53125 4.515625 -1.96875 Z M 4.515625 -1.96875 \"/>\n",
       "</g>\n",
       "<g id=\"glyph-0-3\">\n",
       "<path d=\"M 4.453125 -5.421875 C 3.828125 -4.472656 3.382812 -3.734375 3.125 -3.203125 C 2.875 -2.671875 2.6875 -2.144531 2.5625 -1.625 C 2.4375 -1.101562 2.375 -0.5625 2.375 0 L 1.5625 0 C 1.5625 -0.769531 1.722656 -1.582031 2.046875 -2.4375 C 2.378906 -3.289062 2.929688 -4.273438 3.703125 -5.390625 L 0.453125 -5.390625 L 0.453125 -6.046875 L 4.453125 -6.046875 Z M 4.453125 -5.421875 \"/>\n",
       "</g>\n",
       "<g id=\"glyph-0-4\">\n",
       "<path d=\"M 0.671875 0 L 0.671875 -0.65625 L 2.21875 -0.65625 L 2.21875 -5.3125 L 0.84375 -4.34375 L 0.84375 -5.0625 L 2.28125 -6.046875 L 2.984375 -6.046875 L 2.984375 -0.65625 L 4.46875 -0.65625 L 4.46875 0 Z M 0.671875 0 \"/>\n",
       "</g>\n",
       "<g id=\"glyph-0-5\">\n",
       "<path d=\"M 0.390625 -2 L 0.390625 -2.6875 L 2.53125 -2.6875 L 2.53125 -2 Z M 0.390625 -2 \"/>\n",
       "</g>\n",
       "<g id=\"glyph-0-6\">\n",
       "<path d=\"M 0.796875 0 L 0.796875 -0.9375 L 1.640625 -0.9375 L 1.640625 0 Z M 0.796875 0 \"/>\n",
       "</g>\n",
       "<g id=\"glyph-0-7\">\n",
       "<path d=\"M 3.78125 -1.375 L 3.78125 0 L 3.046875 0 L 3.046875 -1.375 L 0.203125 -1.375 L 0.203125 -1.96875 L 2.96875 -6.046875 L 3.78125 -6.046875 L 3.78125 -1.984375 L 4.640625 -1.984375 L 4.640625 -1.375 Z M 3.046875 -5.1875 C 3.046875 -5.164062 3.007812 -5.085938 2.9375 -4.953125 C 2.863281 -4.816406 2.804688 -4.722656 2.765625 -4.671875 L 1.21875 -2.390625 L 0.984375 -2.0625 L 0.921875 -1.984375 L 3.046875 -1.984375 Z M 3.046875 -5.1875 \"/>\n",
       "</g>\n",
       "<g id=\"glyph-1-0\">\n",
       "<path d=\"M -2.09375 -6.828125 C -1.394531 -6.828125 -0.851562 -6.550781 -0.46875 -6 C -0.0820312 -5.457031 0.109375 -4.691406 0.109375 -3.703125 C 0.109375 -1.859375 -0.53125 -0.789062 -1.8125 -0.5 L -2.015625 -1.5 C -1.554688 -1.613281 -1.21875 -1.851562 -1 -2.21875 C -0.789062 -2.59375 -0.6875 -3.101562 -0.6875 -3.75 C -0.6875 -4.40625 -0.800781 -4.910156 -1.03125 -5.265625 C -1.257812 -5.628906 -1.59375 -5.8125 -2.03125 -5.8125 C -2.28125 -5.8125 -2.484375 -5.753906 -2.640625 -5.640625 C -2.796875 -5.535156 -2.921875 -5.378906 -3.015625 -5.171875 C -3.117188 -4.960938 -3.203125 -4.71875 -3.265625 -4.4375 C -3.335938 -4.15625 -3.410156 -3.84375 -3.484375 -3.5 C -3.617188 -2.90625 -3.753906 -2.453125 -3.890625 -2.140625 C -4.023438 -1.828125 -4.171875 -1.582031 -4.328125 -1.40625 C -4.492188 -1.226562 -4.6875 -1.09375 -4.90625 -1 C -5.125 -0.90625 -5.375 -0.859375 -5.65625 -0.859375 C -6.300781 -0.859375 -6.800781 -1.101562 -7.15625 -1.59375 C -7.507812 -2.09375 -7.6875 -2.804688 -7.6875 -3.734375 C -7.6875 -4.585938 -7.550781 -5.238281 -7.28125 -5.6875 C -7.019531 -6.144531 -6.570312 -6.46875 -5.9375 -6.65625 L -5.765625 -5.640625 C -6.160156 -5.535156 -6.445312 -5.328125 -6.625 -5.015625 C -6.8125 -4.703125 -6.90625 -4.269531 -6.90625 -3.71875 C -6.90625 -3.113281 -6.804688 -2.648438 -6.609375 -2.328125 C -6.410156 -2.015625 -6.109375 -1.859375 -5.703125 -1.859375 C -5.472656 -1.859375 -5.28125 -1.914062 -5.125 -2.03125 C -4.976562 -2.15625 -4.851562 -2.332031 -4.75 -2.5625 C -4.644531 -2.800781 -4.515625 -3.269531 -4.359375 -3.96875 C -4.304688 -4.195312 -4.25 -4.425781 -4.1875 -4.65625 C -4.132812 -4.882812 -4.066406 -5.101562 -3.984375 -5.3125 C -3.910156 -5.53125 -3.820312 -5.726562 -3.71875 -5.90625 C -3.613281 -6.09375 -3.484375 -6.253906 -3.328125 -6.390625 C -3.179688 -6.523438 -3.003906 -6.628906 -2.796875 -6.703125 C -2.597656 -6.785156 -2.363281 -6.828125 -2.09375 -6.828125 Z M -2.09375 -6.828125 \"/>\n",
       "</g>\n",
       "<g id=\"glyph-1-1\">\n",
       "<path d=\"M 0.109375 -2.21875 C 0.109375 -1.632812 -0.0390625 -1.195312 -0.34375 -0.90625 C -0.65625 -0.613281 -1.082031 -0.46875 -1.625 -0.46875 C -2.226562 -0.46875 -2.6875 -0.664062 -3 -1.0625 C -3.320312 -1.457031 -3.5 -2.09375 -3.53125 -2.96875 L -3.546875 -4.28125 L -3.859375 -4.28125 C -4.335938 -4.28125 -4.675781 -4.175781 -4.875 -3.96875 C -5.082031 -3.769531 -5.1875 -3.457031 -5.1875 -3.03125 C -5.1875 -2.601562 -5.113281 -2.289062 -4.96875 -2.09375 C -4.820312 -1.894531 -4.585938 -1.773438 -4.265625 -1.734375 L -4.34375 -0.71875 C -5.394531 -0.882812 -5.921875 -1.664062 -5.921875 -3.0625 C -5.921875 -3.789062 -5.753906 -4.335938 -5.421875 -4.703125 C -5.085938 -5.078125 -4.601562 -5.265625 -3.96875 -5.265625 L -1.46875 -5.265625 C -1.175781 -5.265625 -0.957031 -5.300781 -0.8125 -5.375 C -0.664062 -5.445312 -0.59375 -5.585938 -0.59375 -5.796875 C -0.59375 -5.890625 -0.609375 -6 -0.640625 -6.125 L -0.03125 -6.125 C 0.0195312 -5.875 0.046875 -5.625 0.046875 -5.375 C 0.046875 -5.007812 -0.046875 -4.742188 -0.234375 -4.578125 C -0.421875 -4.421875 -0.710938 -4.332031 -1.109375 -4.3125 L -1.109375 -4.28125 C -0.671875 -4.03125 -0.359375 -3.738281 -0.171875 -3.40625 C 0.015625 -3.082031 0.109375 -2.6875 0.109375 -2.21875 Z M -0.625 -2.4375 C -0.625 -2.789062 -0.703125 -3.101562 -0.859375 -3.375 C -1.015625 -3.65625 -1.234375 -3.875 -1.515625 -4.03125 C -1.796875 -4.195312 -2.085938 -4.28125 -2.390625 -4.28125 L -2.875 -4.28125 L -2.84375 -3.21875 C -2.84375 -2.769531 -2.796875 -2.425781 -2.703125 -2.1875 C -2.617188 -1.957031 -2.488281 -1.78125 -2.3125 -1.65625 C -2.132812 -1.53125 -1.898438 -1.46875 -1.609375 -1.46875 C -1.296875 -1.46875 -1.050781 -1.550781 -0.875 -1.71875 C -0.707031 -1.882812 -0.625 -2.125 -0.625 -2.4375 Z M -0.625 -2.4375 \"/>\n",
       "</g>\n",
       "<g id=\"glyph-1-2\">\n",
       "<path d=\"M 0 -0.734375 L -7.96875 -0.734375 L -7.96875 -1.703125 L 0 -1.703125 Z M 0 -0.734375 \"/>\n",
       "</g>\n",
       "<g id=\"glyph-1-3\">\n",
       "<path d=\"M -2.703125 -1.484375 C -2.035156 -1.484375 -1.519531 -1.617188 -1.15625 -1.890625 C -0.800781 -2.171875 -0.625 -2.578125 -0.625 -3.109375 C -0.625 -3.523438 -0.707031 -3.859375 -0.875 -4.109375 C -1.039062 -4.359375 -1.253906 -4.53125 -1.515625 -4.625 L -1.265625 -5.46875 C -0.347656 -5.125 0.109375 -4.335938 0.109375 -3.109375 C 0.109375 -2.242188 -0.144531 -1.585938 -0.65625 -1.140625 C -1.164062 -0.691406 -1.925781 -0.46875 -2.9375 -0.46875 C -3.90625 -0.46875 -4.644531 -0.691406 -5.15625 -1.140625 C -5.664062 -1.585938 -5.921875 -2.226562 -5.921875 -3.0625 C -5.921875 -4.769531 -4.890625 -5.625 -2.828125 -5.625 L -2.703125 -5.625 Z M -3.4375 -4.625 C -4.050781 -4.570312 -4.5 -4.414062 -4.78125 -4.15625 C -5.0625 -3.90625 -5.203125 -3.535156 -5.203125 -3.046875 C -5.203125 -2.578125 -5.046875 -2.207031 -4.734375 -1.9375 C -4.421875 -1.664062 -3.988281 -1.519531 -3.4375 -1.5 Z M -3.4375 -4.625 \"/>\n",
       "</g>\n",
       "<g id=\"glyph-1-4\">\n",
       "<path d=\"M -1.609375 -5.109375 C -1.054688 -5.109375 -0.628906 -4.898438 -0.328125 -4.484375 C -0.0351562 -4.066406 0.109375 -3.488281 0.109375 -2.75 C 0.109375 -2.019531 -0.0078125 -1.457031 -0.25 -1.0625 C -0.488281 -0.675781 -0.859375 -0.425781 -1.359375 -0.3125 L -1.53125 -1.15625 C -1.21875 -1.238281 -0.988281 -1.410156 -0.84375 -1.671875 C -0.695312 -1.929688 -0.625 -2.289062 -0.625 -2.75 C -0.625 -3.238281 -0.695312 -3.59375 -0.84375 -3.8125 C -1 -4.039062 -1.226562 -4.15625 -1.53125 -4.15625 C -1.757812 -4.15625 -1.941406 -4.078125 -2.078125 -3.921875 C -2.222656 -3.765625 -2.34375 -3.507812 -2.4375 -3.15625 L -2.625 -2.46875 C -2.769531 -1.914062 -2.910156 -1.519531 -3.046875 -1.28125 C -3.179688 -1.050781 -3.347656 -0.867188 -3.546875 -0.734375 C -3.742188 -0.597656 -3.988281 -0.53125 -4.28125 -0.53125 C -4.8125 -0.53125 -5.210938 -0.71875 -5.484375 -1.09375 C -5.765625 -1.476562 -5.90625 -2.03125 -5.90625 -2.75 C -5.90625 -3.394531 -5.789062 -3.90625 -5.5625 -4.28125 C -5.332031 -4.65625 -4.972656 -4.894531 -4.484375 -5 L -4.375 -4.125 C -4.632812 -4.070312 -4.832031 -3.925781 -4.96875 -3.6875 C -5.101562 -3.457031 -5.171875 -3.144531 -5.171875 -2.75 C -5.171875 -2.3125 -5.101562 -1.988281 -4.96875 -1.78125 C -4.84375 -1.582031 -4.644531 -1.484375 -4.375 -1.484375 C -4.207031 -1.484375 -4.066406 -1.523438 -3.953125 -1.609375 C -3.847656 -1.691406 -3.757812 -1.816406 -3.6875 -1.984375 C -3.613281 -2.148438 -3.507812 -2.503906 -3.375 -3.046875 C -3.25 -3.554688 -3.128906 -3.925781 -3.015625 -4.15625 C -2.910156 -4.382812 -2.789062 -4.5625 -2.65625 -4.6875 C -2.519531 -4.820312 -2.363281 -4.925781 -2.1875 -5 C -2.019531 -5.070312 -1.828125 -5.109375 -1.609375 -5.109375 Z M -1.609375 -5.109375 \"/>\n",
       "</g>\n",
       "<g id=\"glyph-1-5\">\n",
       "<path d=\"M 2.1875 0.171875 L 1.484375 0.171875 L 1.484375 -6.234375 L 2.1875 -6.234375 Z M 2.1875 0.171875 \"/>\n",
       "</g>\n",
       "<g id=\"glyph-1-6\">\n",
       "<path d=\"M 0 -6.265625 L -2.21875 -5.40625 L -2.21875 -1.953125 L 0 -1.078125 L 0 -0.015625 L -7.5625 -3.109375 L -7.5625 -4.28125 L 0 -7.3125 Z M -6.796875 -3.671875 L -6.640625 -3.625 C -6.347656 -3.539062 -5.96875 -3.410156 -5.5 -3.234375 L -3.015625 -2.265625 L -3.015625 -5.09375 L -5.515625 -4.125 C -5.753906 -4.019531 -6.03125 -3.921875 -6.34375 -3.828125 Z M -6.796875 -3.671875 \"/>\n",
       "</g>\n",
       "<g id=\"glyph-1-7\">\n",
       "<path d=\"M 0 -4.125 L -3.6875 -4.125 C -4.25 -4.125 -4.632812 -4.046875 -4.84375 -3.890625 C -5.0625 -3.734375 -5.171875 -3.457031 -5.171875 -3.0625 C -5.171875 -2.644531 -5.015625 -2.316406 -4.703125 -2.078125 C -4.390625 -1.835938 -3.945312 -1.71875 -3.375 -1.71875 L 0 -1.71875 L 0 -0.765625 L -4.578125 -0.765625 C -5.253906 -0.765625 -5.664062 -0.753906 -5.8125 -0.734375 L -5.8125 -1.640625 C -5.789062 -1.648438 -5.738281 -1.65625 -5.65625 -1.65625 C -5.582031 -1.65625 -5.492188 -1.65625 -5.390625 -1.65625 C -5.296875 -1.664062 -5.101562 -1.675781 -4.8125 -1.6875 L -4.8125 -1.703125 C -5.226562 -1.910156 -5.515625 -2.144531 -5.671875 -2.40625 C -5.835938 -2.675781 -5.921875 -3.007812 -5.921875 -3.40625 C -5.921875 -3.84375 -5.832031 -4.1875 -5.65625 -4.4375 C -5.476562 -4.695312 -5.195312 -4.878906 -4.8125 -4.984375 L -4.8125 -5 C -5.207031 -5.195312 -5.488281 -5.4375 -5.65625 -5.71875 C -5.832031 -6.007812 -5.921875 -6.351562 -5.921875 -6.75 C -5.921875 -7.34375 -5.757812 -7.769531 -5.4375 -8.03125 C -5.125 -8.300781 -4.601562 -8.4375 -3.875 -8.4375 L 0 -8.4375 L 0 -7.484375 L -3.6875 -7.484375 C -4.25 -7.484375 -4.632812 -7.40625 -4.84375 -7.25 C -5.0625 -7.09375 -5.171875 -6.816406 -5.171875 -6.421875 C -5.171875 -5.992188 -5.015625 -5.660156 -4.703125 -5.421875 C -4.390625 -5.191406 -3.945312 -5.078125 -3.375 -5.078125 L 0 -5.078125 Z M 0 -4.125 \"/>\n",
       "</g>\n",
       "<g id=\"glyph-1-8\">\n",
       "<path d=\"M -2.90625 -5.65625 C -1.894531 -5.65625 -1.140625 -5.429688 -0.640625 -4.984375 C -0.140625 -4.535156 0.109375 -3.882812 0.109375 -3.03125 C 0.109375 -2.1875 -0.144531 -1.546875 -0.65625 -1.109375 C -1.175781 -0.679688 -1.925781 -0.46875 -2.90625 -0.46875 C -4.914062 -0.46875 -5.921875 -1.332031 -5.921875 -3.0625 C -5.921875 -3.957031 -5.675781 -4.613281 -5.1875 -5.03125 C -4.695312 -5.445312 -3.9375 -5.65625 -2.90625 -5.65625 Z M -2.90625 -4.640625 C -3.707031 -4.640625 -4.289062 -4.519531 -4.65625 -4.28125 C -5.019531 -4.039062 -5.203125 -3.640625 -5.203125 -3.078125 C -5.203125 -2.515625 -5.015625 -2.109375 -4.640625 -1.859375 C -4.273438 -1.609375 -3.695312 -1.484375 -2.90625 -1.484375 C -2.144531 -1.484375 -1.570312 -1.601562 -1.1875 -1.84375 C -0.800781 -2.09375 -0.609375 -2.488281 -0.609375 -3.03125 C -0.609375 -3.601562 -0.789062 -4.015625 -1.15625 -4.265625 C -1.53125 -4.515625 -2.113281 -4.640625 -2.90625 -4.640625 Z M -2.90625 -4.640625 \"/>\n",
       "</g>\n",
       "<g id=\"glyph-1-9\">\n",
       "<path d=\"M -5.8125 -1.6875 L -2.125 -1.6875 C -1.738281 -1.6875 -1.441406 -1.722656 -1.234375 -1.796875 C -1.023438 -1.867188 -0.875 -1.988281 -0.78125 -2.15625 C -0.6875 -2.320312 -0.640625 -2.566406 -0.640625 -2.890625 C -0.640625 -3.347656 -0.796875 -3.710938 -1.109375 -3.984375 C -1.429688 -4.253906 -1.875 -4.390625 -2.4375 -4.390625 L -5.8125 -4.390625 L -5.8125 -5.359375 L -1.234375 -5.359375 C -0.554688 -5.359375 -0.144531 -5.367188 0 -5.390625 L 0 -4.46875 C -0.0195312 -4.46875 -0.0664062 -4.460938 -0.140625 -4.453125 C -0.222656 -4.453125 -0.3125 -4.445312 -0.40625 -4.4375 C -0.507812 -4.4375 -0.707031 -4.4375 -1 -4.4375 L -1 -4.421875 C -0.59375 -4.191406 -0.304688 -3.929688 -0.140625 -3.640625 C 0.0234375 -3.347656 0.109375 -2.988281 0.109375 -2.5625 C 0.109375 -1.914062 -0.046875 -1.445312 -0.359375 -1.15625 C -0.679688 -0.863281 -1.207031 -0.71875 -1.9375 -0.71875 L -5.8125 -0.71875 Z M -5.8125 -1.6875 \"/>\n",
       "</g>\n",
       "<g id=\"glyph-1-10\">\n",
       "<path d=\"M 0 -4.4375 L -3.6875 -4.4375 C -4.070312 -4.4375 -4.367188 -4.394531 -4.578125 -4.3125 C -4.785156 -4.238281 -4.9375 -4.117188 -5.03125 -3.953125 C -5.125 -3.796875 -5.171875 -3.554688 -5.171875 -3.234375 C -5.171875 -2.765625 -5.007812 -2.394531 -4.6875 -2.125 C -4.375 -1.863281 -3.9375 -1.734375 -3.375 -1.734375 L 0 -1.734375 L 0 -0.765625 L -4.578125 -0.765625 C -5.253906 -0.765625 -5.664062 -0.753906 -5.8125 -0.734375 L -5.8125 -1.640625 C -5.789062 -1.648438 -5.738281 -1.65625 -5.65625 -1.65625 C -5.582031 -1.65625 -5.492188 -1.65625 -5.390625 -1.65625 C -5.296875 -1.664062 -5.101562 -1.675781 -4.8125 -1.6875 L -4.8125 -1.703125 C -5.21875 -1.921875 -5.503906 -2.175781 -5.671875 -2.46875 C -5.835938 -2.757812 -5.921875 -3.125 -5.921875 -3.5625 C -5.921875 -4.195312 -5.757812 -4.660156 -5.4375 -4.953125 C -5.125 -5.253906 -4.601562 -5.40625 -3.875 -5.40625 L 0 -5.40625 Z M 0 -4.4375 \"/>\n",
       "</g>\n",
       "<g id=\"glyph-1-11\">\n",
       "<path d=\"M -0.046875 -2.96875 C 0.046875 -2.65625 0.09375 -2.332031 0.09375 -2 C 0.09375 -1.226562 -0.347656 -0.84375 -1.234375 -0.84375 L -5.109375 -0.84375 L -5.109375 -0.171875 L -5.8125 -0.171875 L -5.8125 -0.875 L -7.109375 -1.15625 L -7.109375 -1.8125 L -5.8125 -1.8125 L -5.8125 -2.875 L -5.109375 -2.875 L -5.109375 -1.8125 L -1.4375 -1.8125 C -1.15625 -1.8125 -0.957031 -1.851562 -0.84375 -1.9375 C -0.738281 -2.03125 -0.6875 -2.191406 -0.6875 -2.421875 C -0.6875 -2.546875 -0.707031 -2.726562 -0.75 -2.96875 Z M -0.046875 -2.96875 \"/>\n",
       "</g>\n",
       "<g id=\"glyph-2-0\">\n",
       "<path d=\"M 8.109375 -2.5625 C 8.109375 -1.75 7.8125 -1.117188 7.21875 -0.671875 C 6.632812 -0.222656 5.816406 0 4.765625 0 L 1.078125 0 L 1.078125 -9.078125 L 4.390625 -9.078125 C 6.515625 -9.078125 7.578125 -8.34375 7.578125 -6.875 C 7.578125 -6.34375 7.425781 -5.894531 7.125 -5.53125 C 6.820312 -5.164062 6.398438 -4.921875 5.859375 -4.796875 C 6.578125 -4.703125 7.128906 -4.457031 7.515625 -4.0625 C 7.910156 -3.664062 8.109375 -3.164062 8.109375 -2.5625 Z M 6.34375 -6.734375 C 6.34375 -7.222656 6.175781 -7.570312 5.84375 -7.78125 C 5.507812 -7.988281 5.023438 -8.09375 4.390625 -8.09375 L 2.3125 -8.09375 L 2.3125 -5.21875 L 4.390625 -5.21875 C 5.046875 -5.21875 5.535156 -5.34375 5.859375 -5.59375 C 6.179688 -5.84375 6.34375 -6.222656 6.34375 -6.734375 Z M 6.859375 -2.65625 C 6.859375 -3.726562 6.109375 -4.265625 4.609375 -4.265625 L 2.3125 -4.265625 L 2.3125 -0.984375 L 4.703125 -0.984375 C 5.453125 -0.984375 6 -1.125 6.34375 -1.40625 C 6.6875 -1.6875 6.859375 -2.101562 6.859375 -2.65625 Z M 6.859375 -2.65625 \"/>\n",
       "</g>\n",
       "<g id=\"glyph-2-1\">\n",
       "<path d=\"M 6.78125 -3.5 C 6.78125 -2.269531 6.507812 -1.359375 5.96875 -0.765625 C 5.4375 -0.171875 4.660156 0.125 3.640625 0.125 C 2.617188 0.125 1.847656 -0.179688 1.328125 -0.796875 C 0.804688 -1.421875 0.546875 -2.320312 0.546875 -3.5 C 0.546875 -5.90625 1.59375 -7.109375 3.6875 -7.109375 C 4.75 -7.109375 5.53125 -6.8125 6.03125 -6.21875 C 6.53125 -5.632812 6.78125 -4.726562 6.78125 -3.5 Z M 5.5625 -3.5 C 5.5625 -4.457031 5.421875 -5.15625 5.140625 -5.59375 C 4.859375 -6.03125 4.378906 -6.25 3.703125 -6.25 C 3.023438 -6.25 2.53125 -6.023438 2.21875 -5.578125 C 1.914062 -5.128906 1.765625 -4.4375 1.765625 -3.5 C 1.765625 -2.570312 1.914062 -1.878906 2.21875 -1.421875 C 2.519531 -0.960938 2.988281 -0.734375 3.625 -0.734375 C 4.320312 -0.734375 4.816406 -0.953125 5.109375 -1.390625 C 5.410156 -1.835938 5.5625 -2.539062 5.5625 -3.5 Z M 5.5625 -3.5 \"/>\n",
       "</g>\n",
       "<g id=\"glyph-2-2\">\n",
       "<path d=\"M 5.15625 0 L 3.28125 -2.859375 L 1.40625 0 L 0.140625 0 L 2.625 -3.578125 L 0.265625 -6.96875 L 1.546875 -6.96875 L 3.28125 -4.265625 L 5.015625 -6.96875 L 6.3125 -6.96875 L 3.953125 -3.59375 L 6.453125 0 Z M 5.15625 0 \"/>\n",
       "</g>\n",
       "<g id=\"glyph-2-3\">\n",
       "<path d=\"M 6.78125 -3.515625 C 6.78125 -1.085938 5.925781 0.125 4.21875 0.125 C 3.144531 0.125 2.425781 -0.273438 2.0625 -1.078125 L 2.03125 -1.078125 C 2.039062 -1.046875 2.046875 -0.679688 2.046875 0.015625 L 2.046875 2.734375 L 0.890625 2.734375 L 0.890625 -5.546875 C 0.890625 -6.265625 0.875 -6.738281 0.84375 -6.96875 L 1.96875 -6.96875 C 1.976562 -6.957031 1.984375 -6.898438 1.984375 -6.796875 C 1.992188 -6.691406 2.003906 -6.523438 2.015625 -6.296875 C 2.023438 -6.078125 2.03125 -5.929688 2.03125 -5.859375 L 2.0625 -5.859375 C 2.269531 -6.285156 2.539062 -6.597656 2.875 -6.796875 C 3.21875 -6.992188 3.664062 -7.09375 4.21875 -7.09375 C 5.082031 -7.09375 5.722656 -6.804688 6.140625 -6.234375 C 6.566406 -5.660156 6.78125 -4.753906 6.78125 -3.515625 Z M 5.5625 -3.5 C 5.5625 -4.46875 5.429688 -5.160156 5.171875 -5.578125 C 4.910156 -5.992188 4.492188 -6.203125 3.921875 -6.203125 C 3.460938 -6.203125 3.101562 -6.101562 2.84375 -5.90625 C 2.582031 -5.71875 2.382812 -5.414062 2.25 -5 C 2.113281 -4.59375 2.046875 -4.0625 2.046875 -3.40625 C 2.046875 -2.488281 2.191406 -1.8125 2.484375 -1.375 C 2.773438 -0.945312 3.25 -0.734375 3.90625 -0.734375 C 4.488281 -0.734375 4.910156 -0.941406 5.171875 -1.359375 C 5.429688 -1.785156 5.5625 -2.5 5.5625 -3.5 Z M 5.5625 -3.5 \"/>\n",
       "</g>\n",
       "<g id=\"glyph-2-4\">\n",
       "<path d=\"M 0.890625 0 L 0.890625 -9.5625 L 2.046875 -9.5625 L 2.046875 0 Z M 0.890625 0 \"/>\n",
       "</g>\n",
       "<g id=\"glyph-2-5\">\n",
       "<path d=\"M 3.578125 -0.046875 C 3.191406 0.0546875 2.796875 0.109375 2.390625 0.109375 C 1.460938 0.109375 1 -0.414062 1 -1.46875 L 1 -6.125 L 0.203125 -6.125 L 0.203125 -6.96875 L 1.046875 -6.96875 L 1.390625 -8.53125 L 2.171875 -8.53125 L 2.171875 -6.96875 L 3.453125 -6.96875 L 3.453125 -6.125 L 2.171875 -6.125 L 2.171875 -1.734375 C 2.171875 -1.390625 2.222656 -1.148438 2.328125 -1.015625 C 2.441406 -0.878906 2.632812 -0.8125 2.90625 -0.8125 C 3.0625 -0.8125 3.285156 -0.84375 3.578125 -0.90625 Z M 3.578125 -0.046875 \"/>\n",
       "</g>\n",
       "<g id=\"glyph-2-6\">\n",
       "</g>\n",
       "<g id=\"glyph-2-7\">\n",
       "<path d=\"M 2.328125 -6.125 L 2.328125 0 L 1.171875 0 L 1.171875 -6.125 L 0.1875 -6.125 L 0.1875 -6.96875 L 1.171875 -6.96875 L 1.171875 -7.765625 C 1.171875 -8.398438 1.304688 -8.851562 1.578125 -9.125 C 1.859375 -9.40625 2.289062 -9.546875 2.875 -9.546875 C 3.195312 -9.546875 3.46875 -9.523438 3.6875 -9.484375 L 3.6875 -8.59375 C 3.488281 -8.625 3.316406 -8.640625 3.171875 -8.640625 C 2.878906 -8.640625 2.664062 -8.5625 2.53125 -8.40625 C 2.394531 -8.257812 2.328125 -7.988281 2.328125 -7.59375 L 2.328125 -6.96875 L 3.6875 -6.96875 L 3.6875 -6.125 Z M 2.328125 -6.125 \"/>\n",
       "</g>\n",
       "<g id=\"glyph-2-8\">\n",
       "<path d=\"M 8.203125 -2.515625 C 8.203125 -1.671875 7.875 -1.019531 7.21875 -0.5625 C 6.5625 -0.101562 5.640625 0.125 4.453125 0.125 C 2.234375 0.125 0.945312 -0.640625 0.59375 -2.171875 L 1.796875 -2.421875 C 1.929688 -1.867188 2.222656 -1.460938 2.671875 -1.203125 C 3.117188 -0.953125 3.726562 -0.828125 4.5 -0.828125 C 5.289062 -0.828125 5.898438 -0.960938 6.328125 -1.234375 C 6.765625 -1.515625 6.984375 -1.914062 6.984375 -2.4375 C 6.984375 -2.738281 6.914062 -2.976562 6.78125 -3.15625 C 6.644531 -3.34375 6.453125 -3.492188 6.203125 -3.609375 C 5.960938 -3.734375 5.671875 -3.835938 5.328125 -3.921875 C 4.992188 -4.003906 4.617188 -4.09375 4.203125 -4.1875 C 3.484375 -4.34375 2.9375 -4.5 2.5625 -4.65625 C 2.195312 -4.820312 1.90625 -5.003906 1.6875 -5.203125 C 1.46875 -5.398438 1.300781 -5.628906 1.1875 -5.890625 C 1.082031 -6.148438 1.03125 -6.445312 1.03125 -6.78125 C 1.03125 -7.5625 1.328125 -8.160156 1.921875 -8.578125 C 2.515625 -9.003906 3.363281 -9.21875 4.46875 -9.21875 C 5.5 -9.21875 6.285156 -9.054688 6.828125 -8.734375 C 7.378906 -8.421875 7.765625 -7.882812 7.984375 -7.125 L 6.78125 -6.921875 C 6.644531 -7.398438 6.390625 -7.75 6.015625 -7.96875 C 5.640625 -8.1875 5.125 -8.296875 4.46875 -8.296875 C 3.738281 -8.296875 3.179688 -8.171875 2.796875 -7.921875 C 2.410156 -7.679688 2.21875 -7.328125 2.21875 -6.859375 C 2.21875 -6.578125 2.289062 -6.34375 2.4375 -6.15625 C 2.59375 -5.976562 2.804688 -5.820312 3.078125 -5.6875 C 3.359375 -5.5625 3.914062 -5.410156 4.75 -5.234375 C 5.03125 -5.160156 5.3125 -5.09375 5.59375 -5.03125 C 5.875 -4.96875 6.140625 -4.890625 6.390625 -4.796875 C 6.640625 -4.703125 6.875 -4.59375 7.09375 -4.46875 C 7.320312 -4.34375 7.515625 -4.1875 7.671875 -4 C 7.835938 -3.820312 7.96875 -3.609375 8.0625 -3.359375 C 8.15625 -3.117188 8.203125 -2.835938 8.203125 -2.515625 Z M 8.203125 -2.515625 \"/>\n",
       "</g>\n",
       "<g id=\"glyph-2-9\">\n",
       "<path d=\"M 2.671875 0.125 C 1.972656 0.125 1.445312 -0.0546875 1.09375 -0.421875 C 0.738281 -0.796875 0.5625 -1.304688 0.5625 -1.953125 C 0.5625 -2.671875 0.796875 -3.222656 1.265625 -3.609375 C 1.742188 -3.992188 2.515625 -4.203125 3.578125 -4.234375 L 5.140625 -4.25 L 5.140625 -4.640625 C 5.140625 -5.203125 5.019531 -5.601562 4.78125 -5.84375 C 4.539062 -6.09375 4.160156 -6.21875 3.640625 -6.21875 C 3.117188 -6.21875 2.738281 -6.128906 2.5 -5.953125 C 2.269531 -5.773438 2.128906 -5.492188 2.078125 -5.109375 L 0.875 -5.21875 C 1.070312 -6.476562 2.003906 -7.109375 3.671875 -7.109375 C 4.546875 -7.109375 5.203125 -6.90625 5.640625 -6.5 C 6.085938 -6.101562 6.3125 -5.519531 6.3125 -4.75 L 6.3125 -1.75 C 6.3125 -1.40625 6.351562 -1.144531 6.4375 -0.96875 C 6.53125 -0.800781 6.707031 -0.71875 6.96875 -0.71875 C 7.070312 -0.71875 7.195312 -0.734375 7.34375 -0.765625 L 7.34375 -0.03125 C 7.050781 0.03125 6.753906 0.0625 6.453125 0.0625 C 6.015625 0.0625 5.695312 -0.046875 5.5 -0.265625 C 5.3125 -0.492188 5.203125 -0.847656 5.171875 -1.328125 L 5.140625 -1.328125 C 4.835938 -0.796875 4.488281 -0.421875 4.09375 -0.203125 C 3.707031 0.015625 3.234375 0.125 2.671875 0.125 Z M 2.9375 -0.734375 C 3.363281 -0.734375 3.738281 -0.832031 4.0625 -1.03125 C 4.394531 -1.226562 4.65625 -1.492188 4.84375 -1.828125 C 5.039062 -2.160156 5.140625 -2.507812 5.140625 -2.875 L 5.140625 -3.4375 L 3.875 -3.421875 C 3.320312 -3.410156 2.90625 -3.351562 2.625 -3.25 C 2.34375 -3.144531 2.125 -2.984375 1.96875 -2.765625 C 1.820312 -2.554688 1.75 -2.273438 1.75 -1.921875 C 1.75 -1.546875 1.847656 -1.253906 2.046875 -1.046875 C 2.253906 -0.835938 2.550781 -0.734375 2.9375 -0.734375 Z M 2.9375 -0.734375 \"/>\n",
       "</g>\n",
       "<g id=\"glyph-2-10\">\n",
       "<path d=\"M 1.78125 -3.25 C 1.78125 -2.445312 1.941406 -1.828125 2.265625 -1.390625 C 2.597656 -0.953125 3.082031 -0.734375 3.71875 -0.734375 C 4.226562 -0.734375 4.632812 -0.832031 4.9375 -1.03125 C 5.238281 -1.238281 5.441406 -1.5 5.546875 -1.8125 L 6.5625 -1.515625 C 6.144531 -0.421875 5.195312 0.125 3.71875 0.125 C 2.6875 0.125 1.898438 -0.179688 1.359375 -0.796875 C 0.828125 -1.410156 0.5625 -2.320312 0.5625 -3.53125 C 0.5625 -4.6875 0.828125 -5.570312 1.359375 -6.1875 C 1.898438 -6.800781 2.675781 -7.109375 3.6875 -7.109375 C 5.726562 -7.109375 6.75 -5.867188 6.75 -3.390625 L 6.75 -3.25 Z M 5.5625 -4.125 C 5.488281 -4.863281 5.296875 -5.398438 4.984375 -5.734375 C 4.679688 -6.078125 4.238281 -6.25 3.65625 -6.25 C 3.09375 -6.25 2.644531 -6.0625 2.3125 -5.6875 C 1.988281 -5.3125 1.816406 -4.789062 1.796875 -4.125 Z M 5.5625 -4.125 \"/>\n",
       "</g>\n",
       "<g id=\"glyph-2-11\">\n",
       "<path d=\"M 6.125 -1.921875 C 6.125 -1.265625 5.875 -0.757812 5.375 -0.40625 C 4.882812 -0.0507812 4.191406 0.125 3.296875 0.125 C 2.421875 0.125 1.75 -0.015625 1.28125 -0.296875 C 0.8125 -0.585938 0.507812 -1.035156 0.375 -1.640625 L 1.390625 -1.84375 C 1.492188 -1.46875 1.695312 -1.191406 2 -1.015625 C 2.3125 -0.835938 2.742188 -0.75 3.296875 -0.75 C 3.878906 -0.75 4.304688 -0.835938 4.578125 -1.015625 C 4.859375 -1.203125 5 -1.476562 5 -1.84375 C 5 -2.113281 4.898438 -2.332031 4.703125 -2.5 C 4.515625 -2.675781 4.210938 -2.820312 3.796875 -2.9375 L 2.96875 -3.15625 C 2.300781 -3.320312 1.828125 -3.488281 1.546875 -3.65625 C 1.265625 -3.820312 1.039062 -4.019531 0.875 -4.25 C 0.71875 -4.488281 0.640625 -4.78125 0.640625 -5.125 C 0.640625 -5.757812 0.863281 -6.242188 1.3125 -6.578125 C 1.769531 -6.910156 2.4375 -7.078125 3.3125 -7.078125 C 4.082031 -7.078125 4.691406 -6.941406 5.140625 -6.671875 C 5.597656 -6.398438 5.882812 -5.96875 6 -5.375 L 4.953125 -5.25 C 4.890625 -5.5625 4.71875 -5.796875 4.4375 -5.953125 C 4.15625 -6.117188 3.78125 -6.203125 3.3125 -6.203125 C 2.78125 -6.203125 2.390625 -6.125 2.140625 -5.96875 C 1.890625 -5.8125 1.765625 -5.570312 1.765625 -5.25 C 1.765625 -5.050781 1.816406 -4.882812 1.921875 -4.75 C 2.023438 -4.625 2.175781 -4.515625 2.375 -4.421875 C 2.582031 -4.335938 3.007812 -4.21875 3.65625 -4.0625 C 4.269531 -3.90625 4.710938 -3.757812 4.984375 -3.625 C 5.253906 -3.5 5.46875 -3.351562 5.625 -3.1875 C 5.78125 -3.03125 5.898438 -2.847656 5.984375 -2.640625 C 6.078125 -2.429688 6.125 -2.191406 6.125 -1.921875 Z M 6.125 -1.921875 \"/>\n",
       "</g>\n",
       "<g id=\"glyph-2-12\">\n",
       "<path d=\"M -0.203125 2.625 L -0.203125 1.78125 L 7.484375 1.78125 L 7.484375 2.625 Z M -0.203125 2.625 \"/>\n",
       "</g>\n",
       "<g id=\"glyph-2-13\">\n",
       "<path d=\"M 7.53125 0 L 6.484375 -2.65625 L 2.34375 -2.65625 L 1.296875 0 L 0.03125 0 L 3.734375 -9.078125 L 5.125 -9.078125 L 8.78125 0 Z M 4.421875 -8.15625 L 4.359375 -7.96875 C 4.253906 -7.613281 4.09375 -7.160156 3.875 -6.609375 L 2.71875 -3.609375 L 6.125 -3.609375 L 4.953125 -6.609375 C 4.828125 -6.910156 4.707031 -7.25 4.59375 -7.625 Z M 4.421875 -8.15625 \"/>\n",
       "</g>\n",
       "<g id=\"glyph-2-14\">\n",
       "<path d=\"M 4.953125 0 L 4.953125 -4.421875 C 4.953125 -5.097656 4.859375 -5.5625 4.671875 -5.8125 C 4.484375 -6.070312 4.148438 -6.203125 3.671875 -6.203125 C 3.179688 -6.203125 2.789062 -6.015625 2.5 -5.640625 C 2.207031 -5.265625 2.0625 -4.734375 2.0625 -4.046875 L 2.0625 0 L 0.921875 0 L 0.921875 -5.484375 C 0.921875 -6.296875 0.90625 -6.789062 0.875 -6.96875 L 1.96875 -6.96875 C 1.976562 -6.945312 1.984375 -6.890625 1.984375 -6.796875 C 1.984375 -6.703125 1.988281 -6.59375 2 -6.46875 C 2.007812 -6.351562 2.019531 -6.125 2.03125 -5.78125 L 2.046875 -5.78125 C 2.296875 -6.28125 2.582031 -6.625 2.90625 -6.8125 C 3.226562 -7.007812 3.617188 -7.109375 4.078125 -7.109375 C 4.609375 -7.109375 5.023438 -7 5.328125 -6.78125 C 5.640625 -6.570312 5.851562 -6.238281 5.96875 -5.78125 L 6 -5.78125 C 6.238281 -6.25 6.523438 -6.585938 6.859375 -6.796875 C 7.203125 -7.003906 7.617188 -7.109375 8.109375 -7.109375 C 8.816406 -7.109375 9.328125 -6.914062 9.640625 -6.53125 C 9.960938 -6.144531 10.125 -5.515625 10.125 -4.640625 L 10.125 0 L 8.984375 0 L 8.984375 -4.421875 C 8.984375 -5.097656 8.890625 -5.5625 8.703125 -5.8125 C 8.515625 -6.070312 8.179688 -6.203125 7.703125 -6.203125 C 7.191406 -6.203125 6.796875 -6.015625 6.515625 -5.640625 C 6.234375 -5.265625 6.09375 -4.734375 6.09375 -4.046875 L 6.09375 0 Z M 4.953125 0 \"/>\n",
       "</g>\n",
       "<g id=\"glyph-2-15\">\n",
       "<path d=\"M 2.03125 -6.96875 L 2.03125 -2.546875 C 2.03125 -2.085938 2.070312 -1.734375 2.15625 -1.484375 C 2.25 -1.234375 2.394531 -1.050781 2.59375 -0.9375 C 2.789062 -0.820312 3.082031 -0.765625 3.46875 -0.765625 C 4.019531 -0.765625 4.457031 -0.957031 4.78125 -1.34375 C 5.101562 -1.726562 5.265625 -2.257812 5.265625 -2.9375 L 5.265625 -6.96875 L 6.421875 -6.96875 L 6.421875 -1.484375 C 6.421875 -0.671875 6.4375 -0.175781 6.46875 0 L 5.375 0 C 5.363281 -0.0195312 5.351562 -0.078125 5.34375 -0.171875 C 5.34375 -0.265625 5.335938 -0.375 5.328125 -0.5 C 5.328125 -0.625 5.320312 -0.851562 5.3125 -1.1875 L 5.296875 -1.1875 C 5.035156 -0.707031 4.726562 -0.367188 4.375 -0.171875 C 4.019531 0.0234375 3.582031 0.125 3.0625 0.125 C 2.300781 0.125 1.742188 -0.0625 1.390625 -0.4375 C 1.035156 -0.820312 0.859375 -1.453125 0.859375 -2.328125 L 0.859375 -6.96875 Z M 2.03125 -6.96875 \"/>\n",
       "</g>\n",
       "<g id=\"glyph-2-16\">\n",
       "<path d=\"M 5.3125 0 L 5.3125 -4.421875 C 5.3125 -4.878906 5.265625 -5.234375 5.171875 -5.484375 C 5.085938 -5.742188 4.945312 -5.925781 4.75 -6.03125 C 4.550781 -6.144531 4.257812 -6.203125 3.875 -6.203125 C 3.320312 -6.203125 2.882812 -6.007812 2.5625 -5.625 C 2.238281 -5.25 2.078125 -4.722656 2.078125 -4.046875 L 2.078125 0 L 0.921875 0 L 0.921875 -5.484375 C 0.921875 -6.296875 0.90625 -6.789062 0.875 -6.96875 L 1.96875 -6.96875 C 1.976562 -6.945312 1.984375 -6.890625 1.984375 -6.796875 C 1.984375 -6.703125 1.988281 -6.59375 2 -6.46875 C 2.007812 -6.351562 2.019531 -6.125 2.03125 -5.78125 L 2.046875 -5.78125 C 2.304688 -6.257812 2.613281 -6.597656 2.96875 -6.796875 C 3.320312 -7.003906 3.757812 -7.109375 4.28125 -7.109375 C 5.039062 -7.109375 5.597656 -6.914062 5.953125 -6.53125 C 6.304688 -6.15625 6.484375 -5.523438 6.484375 -4.640625 L 6.484375 0 Z M 5.3125 0 \"/>\n",
       "</g>\n",
       "</g>\n",
       "<clipPath id=\"clip-0\">\n",
       "<path clip-rule=\"nonzero\" d=\"M 56.714844 23.960938 L 498.523438 23.960938 L 498.523438 485.585938 L 56.714844 485.585938 Z M 56.714844 23.960938 \"/>\n",
       "</clipPath>\n",
       "<clipPath id=\"clip-1\">\n",
       "<path clip-rule=\"nonzero\" d=\"M 56.714844 411 L 498.523438 411 L 498.523438 413 L 56.714844 413 Z M 56.714844 411 \"/>\n",
       "</clipPath>\n",
       "<clipPath id=\"clip-2\">\n",
       "<path clip-rule=\"nonzero\" d=\"M 56.714844 306 L 498.523438 306 L 498.523438 308 L 56.714844 308 Z M 56.714844 306 \"/>\n",
       "</clipPath>\n",
       "<clipPath id=\"clip-3\">\n",
       "<path clip-rule=\"nonzero\" d=\"M 56.714844 201 L 498.523438 201 L 498.523438 203 L 56.714844 203 Z M 56.714844 201 \"/>\n",
       "</clipPath>\n",
       "<clipPath id=\"clip-4\">\n",
       "<path clip-rule=\"nonzero\" d=\"M 56.714844 97 L 498.523438 97 L 498.523438 98 L 56.714844 98 Z M 56.714844 97 \"/>\n",
       "</clipPath>\n",
       "<clipPath id=\"clip-5\">\n",
       "<path clip-rule=\"nonzero\" d=\"M 116 23.960938 L 118 23.960938 L 118 485.585938 L 116 485.585938 Z M 116 23.960938 \"/>\n",
       "</clipPath>\n",
       "<clipPath id=\"clip-6\">\n",
       "<path clip-rule=\"nonzero\" d=\"M 223 23.960938 L 225 23.960938 L 225 485.585938 L 223 485.585938 Z M 223 23.960938 \"/>\n",
       "</clipPath>\n",
       "<clipPath id=\"clip-7\">\n",
       "<path clip-rule=\"nonzero\" d=\"M 330 23.960938 L 332 23.960938 L 332 485.585938 L 330 485.585938 Z M 330 23.960938 \"/>\n",
       "</clipPath>\n",
       "<clipPath id=\"clip-8\">\n",
       "<path clip-rule=\"nonzero\" d=\"M 438 23.960938 L 439 23.960938 L 439 485.585938 L 438 485.585938 Z M 438 23.960938 \"/>\n",
       "</clipPath>\n",
       "<clipPath id=\"clip-9\">\n",
       "<path clip-rule=\"nonzero\" d=\"M 56.714844 463 L 498.523438 463 L 498.523438 465 L 56.714844 465 Z M 56.714844 463 \"/>\n",
       "</clipPath>\n",
       "<clipPath id=\"clip-10\">\n",
       "<path clip-rule=\"nonzero\" d=\"M 56.714844 358 L 498.523438 358 L 498.523438 360 L 56.714844 360 Z M 56.714844 358 \"/>\n",
       "</clipPath>\n",
       "<clipPath id=\"clip-11\">\n",
       "<path clip-rule=\"nonzero\" d=\"M 56.714844 254 L 498.523438 254 L 498.523438 256 L 56.714844 256 Z M 56.714844 254 \"/>\n",
       "</clipPath>\n",
       "<clipPath id=\"clip-12\">\n",
       "<path clip-rule=\"nonzero\" d=\"M 56.714844 149 L 498.523438 149 L 498.523438 151 L 56.714844 151 Z M 56.714844 149 \"/>\n",
       "</clipPath>\n",
       "<clipPath id=\"clip-13\">\n",
       "<path clip-rule=\"nonzero\" d=\"M 56.714844 44 L 498.523438 44 L 498.523438 46 L 56.714844 46 Z M 56.714844 44 \"/>\n",
       "</clipPath>\n",
       "<clipPath id=\"clip-14\">\n",
       "<path clip-rule=\"nonzero\" d=\"M 62 23.960938 L 64 23.960938 L 64 485.585938 L 62 485.585938 Z M 62 23.960938 \"/>\n",
       "</clipPath>\n",
       "<clipPath id=\"clip-15\">\n",
       "<path clip-rule=\"nonzero\" d=\"M 169 23.960938 L 172 23.960938 L 172 485.585938 L 169 485.585938 Z M 169 23.960938 \"/>\n",
       "</clipPath>\n",
       "<clipPath id=\"clip-16\">\n",
       "<path clip-rule=\"nonzero\" d=\"M 277 23.960938 L 279 23.960938 L 279 485.585938 L 277 485.585938 Z M 277 23.960938 \"/>\n",
       "</clipPath>\n",
       "<clipPath id=\"clip-17\">\n",
       "<path clip-rule=\"nonzero\" d=\"M 384 23.960938 L 386 23.960938 L 386 485.585938 L 384 485.585938 Z M 384 23.960938 \"/>\n",
       "</clipPath>\n",
       "<clipPath id=\"clip-18\">\n",
       "<path clip-rule=\"nonzero\" d=\"M 491 23.960938 L 493 23.960938 L 493 485.585938 L 491 485.585938 Z M 491 23.960938 \"/>\n",
       "</clipPath>\n",
       "</defs>\n",
       "<rect x=\"-50.4\" y=\"-50.4\" width=\"604.8\" height=\"604.8\" fill=\"rgb(100%, 100%, 100%)\" fill-opacity=\"1\"/>\n",
       "<rect x=\"-50.4\" y=\"-50.4\" width=\"604.8\" height=\"604.8\" fill=\"rgb(100%, 100%, 100%)\" fill-opacity=\"1\"/>\n",
       "<path fill=\"none\" stroke-width=\"1.066978\" stroke-linecap=\"round\" stroke-linejoin=\"round\" stroke=\"rgb(100%, 100%, 100%)\" stroke-opacity=\"1\" stroke-miterlimit=\"10\" d=\"M 0 504 L 504 504 L 504 0 L 0 0 Z M 0 504 \"/>\n",
       "<g clip-path=\"url(#clip-0)\">\n",
       "<path fill-rule=\"nonzero\" fill=\"rgb(92.156863%, 92.156863%, 92.156863%)\" fill-opacity=\"1\" d=\"M 56.714844 485.585938 L 498.523438 485.585938 L 498.523438 23.960938 L 56.714844 23.960938 Z M 56.714844 485.585938 \"/>\n",
       "</g>\n",
       "<g clip-path=\"url(#clip-1)\">\n",
       "<path fill=\"none\" stroke-width=\"0.533489\" stroke-linecap=\"butt\" stroke-linejoin=\"round\" stroke=\"rgb(100%, 100%, 100%)\" stroke-opacity=\"1\" stroke-miterlimit=\"10\" d=\"M 56.714844 411.777344 L 498.519531 411.777344 \"/>\n",
       "</g>\n",
       "<g clip-path=\"url(#clip-2)\">\n",
       "<path fill=\"none\" stroke-width=\"0.533489\" stroke-linecap=\"butt\" stroke-linejoin=\"round\" stroke=\"rgb(100%, 100%, 100%)\" stroke-opacity=\"1\" stroke-miterlimit=\"10\" d=\"M 56.714844 306.96875 L 498.519531 306.96875 \"/>\n",
       "</g>\n",
       "<g clip-path=\"url(#clip-3)\">\n",
       "<path fill=\"none\" stroke-width=\"0.533489\" stroke-linecap=\"butt\" stroke-linejoin=\"round\" stroke=\"rgb(100%, 100%, 100%)\" stroke-opacity=\"1\" stroke-miterlimit=\"10\" d=\"M 56.714844 202.160156 L 498.519531 202.160156 \"/>\n",
       "</g>\n",
       "<g clip-path=\"url(#clip-4)\">\n",
       "<path fill=\"none\" stroke-width=\"0.533489\" stroke-linecap=\"butt\" stroke-linejoin=\"round\" stroke=\"rgb(100%, 100%, 100%)\" stroke-opacity=\"1\" stroke-miterlimit=\"10\" d=\"M 56.714844 97.347656 L 498.519531 97.347656 \"/>\n",
       "</g>\n",
       "<g clip-path=\"url(#clip-5)\">\n",
       "<path fill=\"none\" stroke-width=\"0.533489\" stroke-linecap=\"butt\" stroke-linejoin=\"round\" stroke=\"rgb(100%, 100%, 100%)\" stroke-opacity=\"1\" stroke-miterlimit=\"10\" d=\"M 116.960938 485.585938 L 116.960938 23.960938 \"/>\n",
       "</g>\n",
       "<g clip-path=\"url(#clip-6)\">\n",
       "<path fill=\"none\" stroke-width=\"0.533489\" stroke-linecap=\"butt\" stroke-linejoin=\"round\" stroke=\"rgb(100%, 100%, 100%)\" stroke-opacity=\"1\" stroke-miterlimit=\"10\" d=\"M 224.066406 485.585938 L 224.066406 23.960938 \"/>\n",
       "</g>\n",
       "<g clip-path=\"url(#clip-7)\">\n",
       "<path fill=\"none\" stroke-width=\"0.533489\" stroke-linecap=\"butt\" stroke-linejoin=\"round\" stroke=\"rgb(100%, 100%, 100%)\" stroke-opacity=\"1\" stroke-miterlimit=\"10\" d=\"M 331.167969 485.585938 L 331.167969 23.960938 \"/>\n",
       "</g>\n",
       "<g clip-path=\"url(#clip-8)\">\n",
       "<path fill=\"none\" stroke-width=\"0.533489\" stroke-linecap=\"butt\" stroke-linejoin=\"round\" stroke=\"rgb(100%, 100%, 100%)\" stroke-opacity=\"1\" stroke-miterlimit=\"10\" d=\"M 438.273438 485.585938 L 438.273438 23.960938 \"/>\n",
       "</g>\n",
       "<g clip-path=\"url(#clip-9)\">\n",
       "<path fill=\"none\" stroke-width=\"1.066978\" stroke-linecap=\"butt\" stroke-linejoin=\"round\" stroke=\"rgb(100%, 100%, 100%)\" stroke-opacity=\"1\" stroke-miterlimit=\"10\" d=\"M 56.714844 464.183594 L 498.519531 464.183594 \"/>\n",
       "</g>\n",
       "<g clip-path=\"url(#clip-10)\">\n",
       "<path fill=\"none\" stroke-width=\"1.066978\" stroke-linecap=\"butt\" stroke-linejoin=\"round\" stroke=\"rgb(100%, 100%, 100%)\" stroke-opacity=\"1\" stroke-miterlimit=\"10\" d=\"M 56.714844 359.375 L 498.519531 359.375 \"/>\n",
       "</g>\n",
       "<g clip-path=\"url(#clip-11)\">\n",
       "<path fill=\"none\" stroke-width=\"1.066978\" stroke-linecap=\"butt\" stroke-linejoin=\"round\" stroke=\"rgb(100%, 100%, 100%)\" stroke-opacity=\"1\" stroke-miterlimit=\"10\" d=\"M 56.714844 254.5625 L 498.519531 254.5625 \"/>\n",
       "</g>\n",
       "<g clip-path=\"url(#clip-12)\">\n",
       "<path fill=\"none\" stroke-width=\"1.066978\" stroke-linecap=\"butt\" stroke-linejoin=\"round\" stroke=\"rgb(100%, 100%, 100%)\" stroke-opacity=\"1\" stroke-miterlimit=\"10\" d=\"M 56.714844 149.753906 L 498.519531 149.753906 \"/>\n",
       "</g>\n",
       "<g clip-path=\"url(#clip-13)\">\n",
       "<path fill=\"none\" stroke-width=\"1.066978\" stroke-linecap=\"butt\" stroke-linejoin=\"round\" stroke=\"rgb(100%, 100%, 100%)\" stroke-opacity=\"1\" stroke-miterlimit=\"10\" d=\"M 56.714844 44.945312 L 498.519531 44.945312 \"/>\n",
       "</g>\n",
       "<g clip-path=\"url(#clip-14)\">\n",
       "<path fill=\"none\" stroke-width=\"1.066978\" stroke-linecap=\"butt\" stroke-linejoin=\"round\" stroke=\"rgb(100%, 100%, 100%)\" stroke-opacity=\"1\" stroke-miterlimit=\"10\" d=\"M 63.40625 485.585938 L 63.40625 23.960938 \"/>\n",
       "</g>\n",
       "<g clip-path=\"url(#clip-15)\">\n",
       "<path fill=\"none\" stroke-width=\"1.066978\" stroke-linecap=\"butt\" stroke-linejoin=\"round\" stroke=\"rgb(100%, 100%, 100%)\" stroke-opacity=\"1\" stroke-miterlimit=\"10\" d=\"M 170.511719 485.585938 L 170.511719 23.960938 \"/>\n",
       "</g>\n",
       "<g clip-path=\"url(#clip-16)\">\n",
       "<path fill=\"none\" stroke-width=\"1.066978\" stroke-linecap=\"butt\" stroke-linejoin=\"round\" stroke=\"rgb(100%, 100%, 100%)\" stroke-opacity=\"1\" stroke-miterlimit=\"10\" d=\"M 277.617188 485.585938 L 277.617188 23.960938 \"/>\n",
       "</g>\n",
       "<g clip-path=\"url(#clip-17)\">\n",
       "<path fill=\"none\" stroke-width=\"1.066978\" stroke-linecap=\"butt\" stroke-linejoin=\"round\" stroke=\"rgb(100%, 100%, 100%)\" stroke-opacity=\"1\" stroke-miterlimit=\"10\" d=\"M 384.722656 485.585938 L 384.722656 23.960938 \"/>\n",
       "</g>\n",
       "<g clip-path=\"url(#clip-18)\">\n",
       "<path fill=\"none\" stroke-width=\"1.066978\" stroke-linecap=\"butt\" stroke-linejoin=\"round\" stroke=\"rgb(100%, 100%, 100%)\" stroke-opacity=\"1\" stroke-miterlimit=\"10\" d=\"M 491.828125 485.585938 L 491.828125 23.960938 \"/>\n",
       "</g>\n",
       "<path fill-rule=\"nonzero\" fill=\"rgb(20%, 20%, 20%)\" fill-opacity=\"1\" stroke-width=\"0.708661\" stroke-linecap=\"round\" stroke-linejoin=\"round\" stroke=\"rgb(20%, 20%, 20%)\" stroke-opacity=\"1\" stroke-miterlimit=\"10\" d=\"M 279.570312 443.222656 C 279.570312 445.828125 275.660156 445.828125 275.660156 443.222656 C 275.660156 440.617188 279.570312 440.617188 279.570312 443.222656 \"/>\n",
       "<path fill-rule=\"nonzero\" fill=\"rgb(20%, 20%, 20%)\" fill-opacity=\"1\" stroke-width=\"0.708661\" stroke-linecap=\"round\" stroke-linejoin=\"round\" stroke=\"rgb(20%, 20%, 20%)\" stroke-opacity=\"1\" stroke-miterlimit=\"10\" d=\"M 279.570312 430.644531 C 279.570312 433.25 275.660156 433.25 275.660156 430.644531 C 275.660156 428.039062 279.570312 428.039062 279.570312 430.644531 \"/>\n",
       "<path fill-rule=\"nonzero\" fill=\"rgb(20%, 20%, 20%)\" fill-opacity=\"1\" stroke-width=\"0.708661\" stroke-linecap=\"round\" stroke-linejoin=\"round\" stroke=\"rgb(20%, 20%, 20%)\" stroke-opacity=\"1\" stroke-miterlimit=\"10\" d=\"M 279.570312 254.5625 C 279.570312 257.171875 275.660156 257.171875 275.660156 254.5625 C 275.660156 251.957031 279.570312 251.957031 279.570312 254.5625 \"/>\n",
       "<path fill-rule=\"nonzero\" fill=\"rgb(20%, 20%, 20%)\" fill-opacity=\"1\" stroke-width=\"0.708661\" stroke-linecap=\"round\" stroke-linejoin=\"round\" stroke=\"rgb(20%, 20%, 20%)\" stroke-opacity=\"1\" stroke-miterlimit=\"10\" d=\"M 279.570312 413.875 C 279.570312 416.480469 275.660156 416.480469 275.660156 413.875 C 275.660156 411.269531 279.570312 411.269531 279.570312 413.875 \"/>\n",
       "<path fill-rule=\"nonzero\" fill=\"rgb(20%, 20%, 20%)\" fill-opacity=\"1\" stroke-width=\"0.708661\" stroke-linecap=\"round\" stroke-linejoin=\"round\" stroke=\"rgb(20%, 20%, 20%)\" stroke-opacity=\"1\" stroke-miterlimit=\"10\" d=\"M 279.570312 44.945312 C 279.570312 47.550781 275.660156 47.550781 275.660156 44.945312 C 275.660156 42.339844 279.570312 42.339844 279.570312 44.945312 \"/>\n",
       "<path fill-rule=\"nonzero\" fill=\"rgb(20%, 20%, 20%)\" fill-opacity=\"1\" stroke-width=\"0.708661\" stroke-linecap=\"round\" stroke-linejoin=\"round\" stroke=\"rgb(20%, 20%, 20%)\" stroke-opacity=\"1\" stroke-miterlimit=\"10\" d=\"M 279.570312 359.375 C 279.570312 361.980469 275.660156 361.980469 275.660156 359.375 C 275.660156 356.769531 279.570312 356.769531 279.570312 359.375 \"/>\n",
       "<path fill=\"none\" stroke-width=\"1.066978\" stroke-linecap=\"butt\" stroke-linejoin=\"round\" stroke=\"rgb(20%, 20%, 20%)\" stroke-opacity=\"1\" stroke-miterlimit=\"10\" d=\"M 277.617188 461.273438 L 277.617188 459.746094 \"/>\n",
       "<path fill=\"none\" stroke-width=\"1.066978\" stroke-linecap=\"butt\" stroke-linejoin=\"round\" stroke=\"rgb(20%, 20%, 20%)\" stroke-opacity=\"1\" stroke-miterlimit=\"10\" d=\"M 277.617188 462.664062 L 277.617188 464.601562 \"/>\n",
       "<path fill-rule=\"nonzero\" fill=\"rgb(100%, 100%, 100%)\" fill-opacity=\"1\" stroke-width=\"1.066978\" stroke-linecap=\"butt\" stroke-linejoin=\"miter\" stroke=\"rgb(20%, 20%, 20%)\" stroke-opacity=\"1\" stroke-miterlimit=\"10\" d=\"M 76.796875 461.273438 L 76.796875 462.664062 L 478.4375 462.664062 L 478.4375 461.273438 Z M 76.796875 461.273438 \"/>\n",
       "<path fill=\"none\" stroke-width=\"2.133957\" stroke-linecap=\"butt\" stroke-linejoin=\"miter\" stroke=\"rgb(20%, 20%, 20%)\" stroke-opacity=\"1\" stroke-miterlimit=\"10\" d=\"M 76.796875 461.957031 L 478.4375 461.957031 \"/>\n",
       "<g fill=\"rgb(30.196078%, 30.196078%, 30.196078%)\" fill-opacity=\"1\">\n",
       "<use xlink:href=\"#glyph-0-0\" x=\"46.78125\" y=\"467.649414\"/>\n",
       "</g>\n",
       "<g fill=\"rgb(30.196078%, 30.196078%, 30.196078%)\" fill-opacity=\"1\">\n",
       "<use xlink:href=\"#glyph-0-1\" x=\"26.78125\" y=\"362.84082\"/>\n",
       "<use xlink:href=\"#glyph-0-2\" x=\"31.78125\" y=\"362.84082\"/>\n",
       "<use xlink:href=\"#glyph-0-0\" x=\"36.78125\" y=\"362.84082\"/>\n",
       "<use xlink:href=\"#glyph-0-0\" x=\"41.78125\" y=\"362.84082\"/>\n",
       "<use xlink:href=\"#glyph-0-0\" x=\"46.78125\" y=\"362.84082\"/>\n",
       "</g>\n",
       "<g fill=\"rgb(30.196078%, 30.196078%, 30.196078%)\" fill-opacity=\"1\">\n",
       "<use xlink:href=\"#glyph-0-2\" x=\"26.78125\" y=\"258.02832\"/>\n",
       "<use xlink:href=\"#glyph-0-0\" x=\"31.78125\" y=\"258.02832\"/>\n",
       "<use xlink:href=\"#glyph-0-0\" x=\"36.78125\" y=\"258.02832\"/>\n",
       "<use xlink:href=\"#glyph-0-0\" x=\"41.78125\" y=\"258.02832\"/>\n",
       "<use xlink:href=\"#glyph-0-0\" x=\"46.78125\" y=\"258.02832\"/>\n",
       "</g>\n",
       "<g fill=\"rgb(30.196078%, 30.196078%, 30.196078%)\" fill-opacity=\"1\">\n",
       "<use xlink:href=\"#glyph-0-3\" x=\"26.78125\" y=\"153.219727\"/>\n",
       "<use xlink:href=\"#glyph-0-2\" x=\"31.78125\" y=\"153.219727\"/>\n",
       "<use xlink:href=\"#glyph-0-0\" x=\"36.78125\" y=\"153.219727\"/>\n",
       "<use xlink:href=\"#glyph-0-0\" x=\"41.78125\" y=\"153.219727\"/>\n",
       "<use xlink:href=\"#glyph-0-0\" x=\"46.78125\" y=\"153.219727\"/>\n",
       "</g>\n",
       "<g fill=\"rgb(30.196078%, 30.196078%, 30.196078%)\" fill-opacity=\"1\">\n",
       "<use xlink:href=\"#glyph-0-4\" x=\"21.78125\" y=\"48.411133\"/>\n",
       "<use xlink:href=\"#glyph-0-0\" x=\"26.78125\" y=\"48.411133\"/>\n",
       "<use xlink:href=\"#glyph-0-0\" x=\"31.78125\" y=\"48.411133\"/>\n",
       "<use xlink:href=\"#glyph-0-0\" x=\"36.78125\" y=\"48.411133\"/>\n",
       "<use xlink:href=\"#glyph-0-0\" x=\"41.78125\" y=\"48.411133\"/>\n",
       "<use xlink:href=\"#glyph-0-0\" x=\"46.78125\" y=\"48.411133\"/>\n",
       "</g>\n",
       "<path fill=\"none\" stroke-width=\"1.066978\" stroke-linecap=\"butt\" stroke-linejoin=\"round\" stroke=\"rgb(20%, 20%, 20%)\" stroke-opacity=\"1\" stroke-miterlimit=\"10\" d=\"M 53.972656 464.183594 L 56.714844 464.183594 \"/>\n",
       "<path fill=\"none\" stroke-width=\"1.066978\" stroke-linecap=\"butt\" stroke-linejoin=\"round\" stroke=\"rgb(20%, 20%, 20%)\" stroke-opacity=\"1\" stroke-miterlimit=\"10\" d=\"M 53.972656 359.375 L 56.714844 359.375 \"/>\n",
       "<path fill=\"none\" stroke-width=\"1.066978\" stroke-linecap=\"butt\" stroke-linejoin=\"round\" stroke=\"rgb(20%, 20%, 20%)\" stroke-opacity=\"1\" stroke-miterlimit=\"10\" d=\"M 53.972656 254.5625 L 56.714844 254.5625 \"/>\n",
       "<path fill=\"none\" stroke-width=\"1.066978\" stroke-linecap=\"butt\" stroke-linejoin=\"round\" stroke=\"rgb(20%, 20%, 20%)\" stroke-opacity=\"1\" stroke-miterlimit=\"10\" d=\"M 53.972656 149.753906 L 56.714844 149.753906 \"/>\n",
       "<path fill=\"none\" stroke-width=\"1.066978\" stroke-linecap=\"butt\" stroke-linejoin=\"round\" stroke=\"rgb(20%, 20%, 20%)\" stroke-opacity=\"1\" stroke-miterlimit=\"10\" d=\"M 53.972656 44.945312 L 56.714844 44.945312 \"/>\n",
       "<path fill=\"none\" stroke-width=\"1.066978\" stroke-linecap=\"butt\" stroke-linejoin=\"round\" stroke=\"rgb(20%, 20%, 20%)\" stroke-opacity=\"1\" stroke-miterlimit=\"10\" d=\"M 63.40625 488.324219 L 63.40625 485.585938 \"/>\n",
       "<path fill=\"none\" stroke-width=\"1.066978\" stroke-linecap=\"butt\" stroke-linejoin=\"round\" stroke=\"rgb(20%, 20%, 20%)\" stroke-opacity=\"1\" stroke-miterlimit=\"10\" d=\"M 170.511719 488.324219 L 170.511719 485.585938 \"/>\n",
       "<path fill=\"none\" stroke-width=\"1.066978\" stroke-linecap=\"butt\" stroke-linejoin=\"round\" stroke=\"rgb(20%, 20%, 20%)\" stroke-opacity=\"1\" stroke-miterlimit=\"10\" d=\"M 277.617188 488.324219 L 277.617188 485.585938 \"/>\n",
       "<path fill=\"none\" stroke-width=\"1.066978\" stroke-linecap=\"butt\" stroke-linejoin=\"round\" stroke=\"rgb(20%, 20%, 20%)\" stroke-opacity=\"1\" stroke-miterlimit=\"10\" d=\"M 384.722656 488.324219 L 384.722656 485.585938 \"/>\n",
       "<path fill=\"none\" stroke-width=\"1.066978\" stroke-linecap=\"butt\" stroke-linejoin=\"round\" stroke=\"rgb(20%, 20%, 20%)\" stroke-opacity=\"1\" stroke-miterlimit=\"10\" d=\"M 491.828125 488.324219 L 491.828125 485.585938 \"/>\n",
       "<g fill=\"rgb(30.196078%, 30.196078%, 30.196078%)\" fill-opacity=\"1\">\n",
       "<use xlink:href=\"#glyph-0-5\" x=\"55.90625\" y=\"497.485352\"/>\n",
       "<use xlink:href=\"#glyph-0-0\" x=\"58.90625\" y=\"497.485352\"/>\n",
       "<use xlink:href=\"#glyph-0-6\" x=\"63.90625\" y=\"497.485352\"/>\n",
       "<use xlink:href=\"#glyph-0-7\" x=\"65.90625\" y=\"497.485352\"/>\n",
       "</g>\n",
       "<g fill=\"rgb(30.196078%, 30.196078%, 30.196078%)\" fill-opacity=\"1\">\n",
       "<use xlink:href=\"#glyph-0-5\" x=\"163.011719\" y=\"497.485352\"/>\n",
       "<use xlink:href=\"#glyph-0-0\" x=\"166.011719\" y=\"497.485352\"/>\n",
       "<use xlink:href=\"#glyph-0-6\" x=\"171.011719\" y=\"497.485352\"/>\n",
       "<use xlink:href=\"#glyph-0-1\" x=\"173.011719\" y=\"497.485352\"/>\n",
       "</g>\n",
       "<g fill=\"rgb(30.196078%, 30.196078%, 30.196078%)\" fill-opacity=\"1\">\n",
       "<use xlink:href=\"#glyph-0-0\" x=\"271.617188\" y=\"497.485352\"/>\n",
       "<use xlink:href=\"#glyph-0-6\" x=\"276.617188\" y=\"497.485352\"/>\n",
       "<use xlink:href=\"#glyph-0-0\" x=\"278.617188\" y=\"497.485352\"/>\n",
       "</g>\n",
       "<g fill=\"rgb(30.196078%, 30.196078%, 30.196078%)\" fill-opacity=\"1\">\n",
       "<use xlink:href=\"#glyph-0-0\" x=\"378.722656\" y=\"497.485352\"/>\n",
       "<use xlink:href=\"#glyph-0-6\" x=\"383.722656\" y=\"497.485352\"/>\n",
       "<use xlink:href=\"#glyph-0-1\" x=\"385.722656\" y=\"497.485352\"/>\n",
       "</g>\n",
       "<g fill=\"rgb(30.196078%, 30.196078%, 30.196078%)\" fill-opacity=\"1\">\n",
       "<use xlink:href=\"#glyph-0-0\" x=\"485.828125\" y=\"497.485352\"/>\n",
       "<use xlink:href=\"#glyph-0-6\" x=\"490.828125\" y=\"497.485352\"/>\n",
       "<use xlink:href=\"#glyph-0-7\" x=\"492.828125\" y=\"497.485352\"/>\n",
       "</g>\n",
       "<g fill=\"rgb(0%, 0%, 0%)\" fill-opacity=\"1\">\n",
       "<use xlink:href=\"#glyph-1-0\" x=\"13.438477\" y=\"289.773438\"/>\n",
       "<use xlink:href=\"#glyph-1-1\" x=\"13.438477\" y=\"282.773438\"/>\n",
       "<use xlink:href=\"#glyph-1-2\" x=\"13.438477\" y=\"276.773438\"/>\n",
       "<use xlink:href=\"#glyph-1-3\" x=\"13.438477\" y=\"274.773438\"/>\n",
       "<use xlink:href=\"#glyph-1-4\" x=\"13.438477\" y=\"268.773438\"/>\n",
       "<use xlink:href=\"#glyph-1-5\" x=\"13.438477\" y=\"262.773438\"/>\n",
       "<use xlink:href=\"#glyph-1-6\" x=\"13.438477\" y=\"256.773438\"/>\n",
       "<use xlink:href=\"#glyph-1-7\" x=\"13.438477\" y=\"249.773438\"/>\n",
       "<use xlink:href=\"#glyph-1-8\" x=\"13.438477\" y=\"240.773438\"/>\n",
       "<use xlink:href=\"#glyph-1-9\" x=\"13.438477\" y=\"234.773438\"/>\n",
       "<use xlink:href=\"#glyph-1-10\" x=\"13.438477\" y=\"228.773438\"/>\n",
       "<use xlink:href=\"#glyph-1-11\" x=\"13.438477\" y=\"222.773438\"/>\n",
       "</g>\n",
       "<g fill=\"rgb(0%, 0%, 0%)\" fill-opacity=\"1\">\n",
       "<use xlink:href=\"#glyph-2-0\" x=\"56.714844\" y=\"15.429688\"/>\n",
       "<use xlink:href=\"#glyph-2-1\" x=\"65.714844\" y=\"15.429688\"/>\n",
       "<use xlink:href=\"#glyph-2-2\" x=\"72.714844\" y=\"15.429688\"/>\n",
       "<use xlink:href=\"#glyph-2-3\" x=\"79.714844\" y=\"15.429688\"/>\n",
       "<use xlink:href=\"#glyph-2-4\" x=\"86.714844\" y=\"15.429688\"/>\n",
       "<use xlink:href=\"#glyph-2-1\" x=\"89.714844\" y=\"15.429688\"/>\n",
       "<use xlink:href=\"#glyph-2-5\" x=\"96.714844\" y=\"15.429688\"/>\n",
       "<use xlink:href=\"#glyph-2-6\" x=\"100.714844\" y=\"15.429688\"/>\n",
       "<use xlink:href=\"#glyph-2-1\" x=\"104.714844\" y=\"15.429688\"/>\n",
       "<use xlink:href=\"#glyph-2-7\" x=\"111.714844\" y=\"15.429688\"/>\n",
       "<use xlink:href=\"#glyph-2-6\" x=\"115.714844\" y=\"15.429688\"/>\n",
       "<use xlink:href=\"#glyph-2-8\" x=\"119.714844\" y=\"15.429688\"/>\n",
       "<use xlink:href=\"#glyph-2-9\" x=\"128.714844\" y=\"15.429688\"/>\n",
       "<use xlink:href=\"#glyph-2-4\" x=\"135.714844\" y=\"15.429688\"/>\n",
       "<use xlink:href=\"#glyph-2-10\" x=\"138.714844\" y=\"15.429688\"/>\n",
       "<use xlink:href=\"#glyph-2-11\" x=\"145.714844\" y=\"15.429688\"/>\n",
       "<use xlink:href=\"#glyph-2-12\" x=\"152.714844\" y=\"15.429688\"/>\n",
       "<use xlink:href=\"#glyph-2-13\" x=\"159.714844\" y=\"15.429688\"/>\n",
       "<use xlink:href=\"#glyph-2-14\" x=\"168.714844\" y=\"15.429688\"/>\n",
       "<use xlink:href=\"#glyph-2-1\" x=\"179.714844\" y=\"15.429688\"/>\n",
       "<use xlink:href=\"#glyph-2-15\" x=\"186.714844\" y=\"15.429688\"/>\n",
       "<use xlink:href=\"#glyph-2-16\" x=\"193.714844\" y=\"15.429688\"/>\n",
       "<use xlink:href=\"#glyph-2-5\" x=\"200.714844\" y=\"15.429688\"/>\n",
       "</g>\n",
       "</svg>\n"
      ],
      "text/plain": [
       "plot without title"
      ]
     },
     "metadata": {
      "application/pdf": {
       "height": 420,
       "width": 420
      },
      "image/jpeg": {
       "height": 420,
       "width": 420
      },
      "image/png": {
       "height": 420,
       "width": 420
      },
      "image/svg+xml": {
       "height": 420,
       "isolated": true,
       "width": 420
      }
     },
     "output_type": "display_data"
    }
   ],
   "source": [
    "### TODO: Create a boxplot for Sales_Amount\n",
    "# Use ggplot2 to create a boxplot showing outliers\n",
    "boxplot_sales <- ggplot(messy_sales, aes(y = Sales_Amount)) +\n",
    "  geom_boxplot() +\n",
    "  ggtitle(\"Boxplot of Sales_Amount\") # YOUR CODE HERE\n",
    "\n",
    "# Display the plot\n",
    "print(boxplot_sales)"
   ]
  },
  {
   "cell_type": "markdown",
   "id": "ab78e27a",
   "metadata": {},
   "source": [
    "### 3.3 Outlier Treatment - Option A (Removal)\n",
    "\n",
    "Remove rows containing outliers and assess the impact."
   ]
  },
  {
   "cell_type": "code",
   "execution_count": 91,
   "id": "8e8a1784",
   "metadata": {
    "vscode": {
     "languageId": "r"
    }
   },
   "outputs": [
    {
     "name": "stdout",
     "output_type": "stream",
     "text": [
      "[1] \"Original rows: 200\"\n",
      "[1] \"After removing outliers: 172\"\n",
      "[1] \"Rows removed: 28\"\n"
     ]
    }
   ],
   "source": [
    "### TODO: Remove outliers from the imputed dataset\n",
    "sales_outliers_removed <- messy_sales %>% # YOUR CODE HERE\n",
    "  filter(Sales_Amount <= upper_threshold & Sales_Amount >= lower_threshold)\n",
    "\n",
    "print(paste(\"Original rows:\", nrow(sales_imputed)))\n",
    "print(paste(\"After removing outliers:\", nrow(sales_outliers_removed)))\n",
    "print(paste(\"Rows removed:\", nrow(sales_imputed) - nrow(sales_outliers_removed)))"
   ]
  },
  {
   "cell_type": "markdown",
   "id": "8ad26c10",
   "metadata": {},
   "source": [
    "### 3.4 Outlier Treatment - Option B (Capping)\n",
    "\n",
    "Apply capping/winsorization to handle outliers while preserving data points."
   ]
  },
  {
   "cell_type": "code",
   "execution_count": 92,
   "id": "1cabcc65",
   "metadata": {
    "vscode": {
     "languageId": "r"
    }
   },
   "outputs": [
    {
     "name": "stdout",
     "output_type": "stream",
     "text": [
      "[1] \"Capped sales outliers data\"\n",
      "    TransactionID Customer_Name Product_Category Sales_Amount Purchase_Date\n",
      "1               1                           Home    362.31745              \n",
      "2               2   Alice Brown         Clothing    573.07908    2023-10-21\n",
      "3               3      Jane Doe      Electronics    487.68744    2023-12-28\n",
      "4               4      Jane Doe      Electronics   5000.00000    2023-06-16\n",
      "5               5    John Smith            Books    344.17461    2023-05-05\n",
      "6               6    John Smith            Books    434.95266    2023-11-28\n",
      "7               7      Jane Doe             Home    489.08635    2023-08-17\n",
      "8               8      Jane Doe      Electronics    536.92019    2023-05-17\n",
      "9               9      Jane Doe         Clothing    793.39330    2023-08-13\n",
      "10             10      Jane Doe      electronics    649.42865    2023-10-16\n",
      "11             11   Bob Johnson      ELECTRONICS    595.72472    2023-10-20\n",
      "12             12    John Smith            Books    742.61228    2023-06-26\n",
      "13             13      Jane Doe      ELECTRONICS    730.36859    2023-05-08\n",
      "14             14   Alice Brown      electronics    675.62967    2023-12-20\n",
      "15             15    John Smith      ELECTRONICS    360.03699    2023-08-22\n",
      "16             16   Bob Johnson            Books    246.26551              \n",
      "17             17   Alice Brown      electronics    309.79852    2023-10-22\n",
      "18             18    John Smith      electronics           NA    2023-05-21\n",
      "19             19      Jane Doe      ELECTRONICS    343.87469    2023-06-22\n",
      "20             20      Jane Doe      ELECTRONICS    715.32581    2023-01-25\n",
      "21             21                          Books    483.11799    2023-04-04\n",
      "22             22   Bob Johnson            Books    455.58456    2023-03-05\n",
      "23             23      Jane Doe             Home           NA    2023-01-11\n",
      "24             24      Jane Doe         Clothing    690.48218    2023-08-08\n",
      "25             25      Jane Doe      ELECTRONICS    334.70565    2023-12-05\n",
      "26             26                       Clothing    531.22891    2023-09-12\n",
      "27             27   Alice Brown      ELECTRONICS    604.59384    2023-03-09\n",
      "28             28      Jane Doe      electronics    689.91677    2023-09-02\n",
      "29             29   Alice Brown             Home    549.75283    2023-10-01\n",
      "30             30   Alice Brown            Books    410.87530    2023-01-22\n",
      "31             31      Jane Doe            Books    714.76140              \n",
      "32             32    John Smith      electronics    313.95136    2023-10-05\n",
      "33             33   Bob Johnson             Home    430.86480    2023-03-14\n",
      "34             34   Alice Brown      electronics    564.04271    2023-06-16\n",
      "35             35    John Smith         Clothing    863.49333    2023-07-09\n",
      "36             36      Jane Doe            Books    759.72988    2023-04-24\n",
      "37             37   Bob Johnson             Home    442.95419    2023-11-03\n",
      "38             38   Bob Johnson            Books    888.19199    2023-01-17\n",
      "39             39    John Smith      electronics    801.93558    2023-08-26\n",
      "40             40   Alice Brown             Home    440.76240    2023-09-16\n",
      "41             41                    ELECTRONICS    788.74566    2023-11-04\n",
      "42             42   Alice Brown         Clothing    453.04844    2023-05-28\n",
      "43             43   Bob Johnson      ELECTRONICS           NA    2023-12-28\n",
      "44             44    John Smith             Home    583.29064    2023-10-25\n",
      "45             45      Jane Doe      electronics           NA    2023-01-08\n",
      "46             46    John Smith            Books   8000.00000              \n",
      "47             47    John Smith      electronics    726.03517    2023-07-17\n",
      "48             48   Alice Brown             Home           NA    2023-04-27\n",
      "49             49    John Smith      ELECTRONICS    506.81020    2023-12-19\n",
      "50             50      Jane Doe             Home    734.26616    2023-02-02\n",
      "51             51                    ELECTRONICS    288.46938    2023-05-10\n",
      "52             52    John Smith      electronics    777.83666    2023-05-26\n",
      "53             53   Alice Brown         Clothing    469.85278    2023-03-28\n",
      "54             54   Alice Brown         Clothing    577.20015    2023-08-02\n",
      "55             55   Alice Brown      Electronics    519.89664    2023-07-03\n",
      "56             56   Bob Johnson      Electronics    835.17601    2023-08-06\n",
      "57             57    John Smith      ELECTRONICS    824.89897    2023-01-23\n",
      "58             58   Bob Johnson            Books           NA    2023-11-07\n",
      "59             59   Bob Johnson            Books    613.65223    2023-01-07\n",
      "60             60      Jane Doe            Books    615.29837    2023-09-12\n",
      "61             61                          Books           NA              \n",
      "62             62    John Smith      Electronics    565.88355    2023-03-26\n",
      "63             63    John Smith         Clothing    410.04333    2023-04-12\n",
      "64             64   Bob Johnson      ELECTRONICS    496.45877    2023-01-24\n",
      "65             65   Bob Johnson            Books    768.45017    2023-05-18\n",
      "66             66   Bob Johnson      ELECTRONICS    734.49583    2023-09-26\n",
      "67             67   Alice Brown      Electronics    227.29199    2023-03-26\n",
      "68             68    John Smith         Clothing    809.03927    2023-09-29\n",
      "69             69      Jane Doe         Clothing    640.65134    2023-04-10\n",
      "70             70    John Smith         Clothing    277.75469    2023-06-05\n",
      "71             71   Bob Johnson      ELECTRONICS    101.06294    2023-09-13\n",
      "72             72      Jane Doe      Electronics    781.06214    2023-08-28\n",
      "73             73   Alice Brown      ELECTRONICS           NA    2023-04-25\n",
      "74             74      Jane Doe      Electronics    531.35555    2023-05-25\n",
      "75             75   Alice Brown      electronics    261.73370    2023-09-28\n",
      "76             76                    electronics    388.89855              \n",
      "77             77    John Smith      Electronics    417.07484    2023-02-22\n",
      "78             78    John Smith            Books    603.38144    2023-08-15\n",
      "79             79   Bob Johnson         Clothing    570.80372    2023-11-10\n",
      "80             80      Jane Doe      electronics    839.63553    2023-10-07\n",
      "81             81                    electronics    268.86894    2023-10-13\n",
      "82             82      Jane Doe         Clothing           NA    2023-05-24\n",
      "83             83    John Smith      electronics    469.74181    2023-04-10\n",
      "84             84      Jane Doe             Home    895.54893    2023-09-24\n",
      "85             85    John Smith             Home    562.26429    2023-02-04\n",
      "86             86      Jane Doe      electronics    601.36825    2023-11-22\n",
      "87             87   Alice Brown            Books    398.44345    2023-07-20\n",
      "88             88    John Smith             Home    837.27767    2023-07-28\n",
      "89             89   Bob Johnson            Books           NA    2023-08-18\n",
      "90             90   Alice Brown      Electronics           NA    2023-02-26\n",
      "91             91   Alice Brown         Clothing    550.23552              \n",
      "92             92   Bob Johnson      electronics    294.93889    2023-10-19\n",
      "93             93      Jane Doe             Home    431.38446    2023-08-10\n",
      "94             94   Alice Brown      ELECTRONICS    390.03799    2023-12-01\n",
      "95             95    John Smith            Books    196.54188    2023-08-12\n",
      "96             96    John Smith      electronics  50000.00000    2023-09-22\n",
      "97             97   Bob Johnson      Electronics    761.03165    2023-07-02\n",
      "98             98    John Smith      Electronics    573.34918    2023-03-20\n",
      "99             99      Jane Doe             Home    101.19548    2023-09-10\n",
      "100           100   Alice Brown      electronics           NA    2023-03-10\n",
      "101           101                    electronics    587.93286    2023-04-10\n",
      "102           102   Bob Johnson      ELECTRONICS           NA    2023-04-19\n",
      "103           103   Bob Johnson      electronics    420.45700    2023-05-04\n",
      "104           104   Bob Johnson      Electronics    346.78237    2023-01-20\n",
      "105           105      Jane Doe      Electronics    658.63674    2023-05-06\n",
      "106           106    John Smith         Clothing    409.79823              \n",
      "107           107    John Smith      Electronics    773.39146    2023-02-07\n",
      "108           108      Jane Doe      Electronics    362.21612    2023-07-26\n",
      "109           109    John Smith         Clothing    590.31563    2023-01-14\n",
      "110           110   Alice Brown      electronics    410.52397    2023-01-06\n",
      "111           111      Jane Doe      Electronics   1058.27747    2023-07-31\n",
      "112           112   Bob Johnson         Clothing           NA    2023-12-02\n",
      "113           113      Jane Doe      electronics    353.43484    2023-06-14\n",
      "114           114   Alice Brown      ELECTRONICS     29.54340    2023-10-08\n",
      "115           115   Bob Johnson            Books    827.48824    2023-01-16\n",
      "116           116   Bob Johnson         Clothing           NA    2023-01-22\n",
      "117           117    John Smith         Clothing    158.36953    2023-05-07\n",
      "118           118    John Smith      electronics      0.00000    2023-08-12\n",
      "119           119    John Smith             Home    735.24004    2023-12-24\n",
      "120           120    John Smith            Books    239.14374    2023-05-30\n",
      "121           121                    Electronics   -100.00000              \n",
      "122           122   Alice Brown             Home    792.80142    2023-06-05\n",
      "123           123   Alice Brown      electronics    191.13720    2023-02-27\n",
      "124           124   Alice Brown      electronics    306.18832    2023-05-25\n",
      "125           125    John Smith      electronics    537.21472    2023-12-10\n",
      "126           126                           Home    433.43557    2023-11-26\n",
      "127           127    John Smith      electronics    194.09321    2023-06-16\n",
      "128           128    John Smith            Books    776.07924    2023-04-19\n",
      "129           129   Bob Johnson             Home    817.39074    2023-09-21\n",
      "130           130   Bob Johnson      ELECTRONICS    430.56969    2023-01-14\n",
      "131           131      Jane Doe            Books    421.48859    2023-07-05\n",
      "132           132    John Smith      ELECTRONICS    881.22385    2023-03-20\n",
      "133           133      Jane Doe      ELECTRONICS    352.85636    2023-08-27\n",
      "134           134    John Smith            Books           NA    2023-04-26\n",
      "135           135    John Smith      electronics    639.68179    2023-08-01\n",
      "136           136   Bob Johnson            Books    593.64283              \n",
      "137           137   Alice Brown             Home    654.22634    2023-09-19\n",
      "138           138   Alice Brown      electronics    900.44590    2023-12-06\n",
      "139           139   Bob Johnson      Electronics    105.64775    2023-08-11\n",
      "140           140      Jane Doe         Clothing    -56.71519    2023-07-20\n",
      "141           141                    Electronics    748.12005    2023-10-14\n",
      "142           142   Bob Johnson             Home    679.59139    2023-04-07\n",
      "143           143      Jane Doe      electronics    544.39983    2023-07-19\n",
      "144           144    John Smith             Home    310.62005    2023-02-09\n",
      "145           145    John Smith      electronics    629.19766    2023-09-12\n",
      "146           146    John Smith      ELECTRONICS  12000.00000    2023-01-22\n",
      "147           147   Bob Johnson         Clothing    690.30942    2023-05-27\n",
      "148           148   Alice Brown            Books    610.17876    2023-03-13\n",
      "149           149   Alice Brown            Books    785.89134    2023-09-01\n",
      "150           150   Alice Brown            Books    793.30445    2023-02-24\n",
      "151           151                    ELECTRONICS    442.89193              \n",
      "152           152   Bob Johnson         Clothing    388.03480    2023-03-04\n",
      "153           153   Bob Johnson      ELECTRONICS    601.31744    2023-08-24\n",
      "154           154   Bob Johnson             Home    222.30413    2023-06-30\n",
      "155           155   Bob Johnson      Electronics    202.88536    2023-10-10\n",
      "156           156   Alice Brown      Electronics    380.98084    2023-11-11\n",
      "157           157   Alice Brown      Electronics    542.00288    2023-01-09\n",
      "158           158   Alice Brown         Clothing    255.62141    2023-08-16\n",
      "159           159      Jane Doe             Home           NA    2023-09-24\n",
      "160           160    John Smith             Home    286.27626    2023-06-30\n",
      "161           161                           Home           NA    2023-05-28\n",
      "162           162   Bob Johnson      Electronics           NA    2023-07-05\n",
      "163           163   Alice Brown      Electronics           NA    2023-04-20\n",
      "164           164      Jane Doe      Electronics    585.37292    2023-07-19\n",
      "165           165    John Smith      Electronics    359.34263    2023-01-25\n",
      "166           166    John Smith         Clothing    653.59183              \n",
      "167           167   Bob Johnson      Electronics 100000.00000    2023-09-18\n",
      "168           168    John Smith             Home     85.02070    2023-02-18\n",
      "169           169   Alice Brown      ELECTRONICS    523.17536    2023-10-31\n",
      "170           170   Bob Johnson             Home    513.97140    2023-12-07\n",
      "171           171    John Smith      ELECTRONICS    366.98752    2023-06-16\n",
      "172           172    John Smith             Home    248.33947    2023-02-12\n",
      "173           173      Jane Doe      electronics    282.85194    2023-12-09\n",
      "174           174   Alice Brown             Home    515.78908    2023-04-16\n",
      "175           175      Jane Doe         Clothing    651.60904    2023-07-16\n",
      "176           176                       Clothing    494.38063    2023-04-03\n",
      "177           177      Jane Doe      ELECTRONICS  25000.00000    2023-08-03\n",
      "178           178   Bob Johnson      Electronics    221.35168    2023-03-06\n",
      "179           179   Bob Johnson             Home    634.06260    2023-09-01\n",
      "180           180      Jane Doe             Home    681.96948    2023-03-13\n",
      "181           181                    ELECTRONICS    443.66205              \n",
      "182           182   Alice Brown      ELECTRONICS    745.90477    2023-03-25\n",
      "183           183      Jane Doe             Home    433.90827    2023-02-14\n",
      "184           184   Bob Johnson         Clothing    459.32576    2023-06-19\n",
      "185           185   Bob Johnson         Clothing    716.99763    2023-01-17\n",
      "186           186    John Smith             Home    363.36029    2023-02-20\n",
      "187           187   Bob Johnson      Electronics    537.74887    2023-03-16\n",
      "188           188   Bob Johnson      ELECTRONICS     43.09474    2023-04-23\n",
      "189           189    John Smith      Electronics    591.07809    2023-08-23\n",
      "190           190    John Smith         Clothing    695.81159    2023-08-09\n",
      "191           191   Alice Brown      electronics    220.83993    2023-04-13\n",
      "192           192   Alice Brown             Home    382.82309    2023-12-05\n",
      "193           193   Bob Johnson         Clothing     78.67496    2023-07-27\n",
      "194           194   Alice Brown             Home    360.51964    2023-01-31\n",
      "195           195      Jane Doe         Clothing           NA    2023-01-29\n",
      "196           196      Jane Doe         Clothing    399.55400              \n",
      "197           197      Jane Doe            Books           NA    2023-02-28\n",
      "198           198      Jane Doe      electronics    823.85020    2023-08-25\n",
      "199           199      Jane Doe         Clothing    479.31760    2023-12-23\n",
      "200           200    John Smith            Books    478.78208    2023-02-16\n",
      "    Quantity Sales_Amount_capped\n",
      "1          2           362.31745\n",
      "2          3           573.07908\n",
      "3         -1           487.68744\n",
      "4          7          1192.33084\n",
      "5        100           344.17461\n",
      "6          4           434.95266\n",
      "7          0           489.08635\n",
      "8          7           536.92019\n",
      "9          3           793.39330\n",
      "10         2           649.42865\n",
      "11         5           595.72472\n",
      "12         7           742.61228\n",
      "13       100           730.36859\n",
      "14       100           675.62967\n",
      "15         2           360.03699\n",
      "16         4           246.26551\n",
      "17       100           309.79852\n",
      "18         8                  NA\n",
      "19         4           343.87469\n",
      "20         6           715.32581\n",
      "21         8           483.11799\n",
      "22         0           455.58456\n",
      "23         2                  NA\n",
      "24         8           690.48218\n",
      "25         1           334.70565\n",
      "26         4           531.22891\n",
      "27       100           604.59384\n",
      "28         6           689.91677\n",
      "29         2           549.75283\n",
      "30         8           410.87530\n",
      "31        10           714.76140\n",
      "32         2           313.95136\n",
      "33         5           430.86480\n",
      "34        -1           564.04271\n",
      "35        10           863.49333\n",
      "36         0           759.72988\n",
      "37        10           442.95419\n",
      "38         7           888.19199\n",
      "39         8           801.93558\n",
      "40         3           440.76240\n",
      "41         4           788.74566\n",
      "42         0           453.04844\n",
      "43         4                  NA\n",
      "44         2           583.29064\n",
      "45        10                  NA\n",
      "46         0          1192.33084\n",
      "47         6           726.03517\n",
      "48        -1                  NA\n",
      "49         1           506.81020\n",
      "50         0           734.26616\n",
      "51        -1           288.46938\n",
      "52        -1           777.83666\n",
      "53         7           469.85278\n",
      "54        -1           577.20015\n",
      "55         4           519.89664\n",
      "56         8           835.17601\n",
      "57         4           824.89897\n",
      "58         7                  NA\n",
      "59         1           613.65223\n",
      "60         3           615.29837\n",
      "61         2                  NA\n",
      "62         5           565.88355\n",
      "63         5           410.04333\n",
      "64         3           496.45877\n",
      "65       100           768.45017\n",
      "66       100           734.49583\n",
      "67         0           227.29199\n",
      "68         0           809.03927\n",
      "69         9           640.65134\n",
      "70        -1           277.75469\n",
      "71       100           101.06294\n",
      "72         0           781.06214\n",
      "73         5                  NA\n",
      "74       100           531.35555\n",
      "75        10           261.73370\n",
      "76         6           388.89855\n",
      "77         3           417.07484\n",
      "78         0           603.38144\n",
      "79         0           570.80372\n",
      "80         2           839.63553\n",
      "81         7           268.86894\n",
      "82         0                  NA\n",
      "83        10           469.74181\n",
      "84         3           895.54893\n",
      "85         9           562.26429\n",
      "86         5           601.36825\n",
      "87         1           398.44345\n",
      "88         2           837.27767\n",
      "89         5                  NA\n",
      "90       100                  NA\n",
      "91        -1           550.23552\n",
      "92         5           294.93889\n",
      "93         5           431.38446\n",
      "94         2           390.03799\n",
      "95         2           196.54188\n",
      "96        10          1192.33084\n",
      "97         5           761.03165\n",
      "98        -1           573.34918\n",
      "99        10           101.19548\n",
      "100        7                  NA\n",
      "101      100           587.93286\n",
      "102        2                  NA\n",
      "103        7           420.45700\n",
      "104        8           346.78237\n",
      "105        3           658.63674\n",
      "106        5           409.79823\n",
      "107       10           773.39146\n",
      "108        3           362.21612\n",
      "109       10           590.31563\n",
      "110        9           410.52397\n",
      "111        5          1058.27747\n",
      "112        8                  NA\n",
      "113        4           353.43484\n",
      "114      100            29.54340\n",
      "115        1           827.48824\n",
      "116        4                  NA\n",
      "117        0           158.36953\n",
      "118        7             0.00000\n",
      "119        8           735.24004\n",
      "120        2           239.14374\n",
      "121        4          -100.00000\n",
      "122        5           792.80142\n",
      "123        7           191.13720\n",
      "124       -1           306.18832\n",
      "125        1           537.21472\n",
      "126       10           433.43557\n",
      "127        3           194.09321\n",
      "128        7           776.07924\n",
      "129        4           817.39074\n",
      "130        8           430.56969\n",
      "131       10           421.48859\n",
      "132       10           881.22385\n",
      "133        7           352.85636\n",
      "134        1                  NA\n",
      "135        9           639.68179\n",
      "136        2           593.64283\n",
      "137       10           654.22634\n",
      "138        0           900.44590\n",
      "139        4           105.64775\n",
      "140        7           -56.71519\n",
      "141        5           748.12005\n",
      "142        6           679.59139\n",
      "143        2           544.39983\n",
      "144        0           310.62005\n",
      "145        9           629.19766\n",
      "146        6          1192.33084\n",
      "147      100           690.30942\n",
      "148        7           610.17876\n",
      "149        3           785.89134\n",
      "150        5           793.30445\n",
      "151        7           442.89193\n",
      "152        9           388.03480\n",
      "153        2           601.31744\n",
      "154        8           222.30413\n",
      "155       -1           202.88536\n",
      "156        5           380.98084\n",
      "157        0           542.00288\n",
      "158       10           255.62141\n",
      "159       10                  NA\n",
      "160      100           286.27626\n",
      "161        3                  NA\n",
      "162       -1                  NA\n",
      "163        0                  NA\n",
      "164        1           585.37292\n",
      "165        1           359.34263\n",
      "166        4           653.59183\n",
      "167       -1          1192.33084\n",
      "168        0            85.02070\n",
      "169        5           523.17536\n",
      "170       10           513.97140\n",
      "171      100           366.98752\n",
      "172        5           248.33947\n",
      "173        3           282.85194\n",
      "174        2           515.78908\n",
      "175        9           651.60904\n",
      "176        3           494.38063\n",
      "177       -1          1192.33084\n",
      "178        7           221.35168\n",
      "179        5           634.06260\n",
      "180       10           681.96948\n",
      "181        5           443.66205\n",
      "182      100           745.90477\n",
      "183        7           433.90827\n",
      "184       10           459.32576\n",
      "185        8           716.99763\n",
      "186       -1           363.36029\n",
      "187        1           537.74887\n",
      "188        8            43.09474\n",
      "189        3           591.07809\n",
      "190       -1           695.81159\n",
      "191        7           220.83993\n",
      "192        3           382.82309\n",
      "193        2            78.67496\n",
      "194        3           360.51964\n",
      "195        7                  NA\n",
      "196        2           399.55400\n",
      "197       10                  NA\n",
      "198        9           823.85020\n",
      "199      100           479.31760\n",
      "200       10           478.78208\n"
     ]
    }
   ],
   "source": [
    "data_capped <- messy_sales %>%\n",
    "    mutate(Sales_Amount_capped =ifelse(Sales_Amount > upper_threshold,\n",
    "                                upper_threshold,\n",
    "                                ifelse(Sales_Amount < lower_threshold,\n",
    "                                lower_threshold,\n",
    "                                Sales_Amount)))\n",
    "print(\"Capped sales outliers data\")\n",
    "print(data_capped)"
   ]
  },
  {
   "cell_type": "markdown",
   "id": "00d330f9",
   "metadata": {},
   "source": [
    "### 3.2 Outlier Visualization\n",
    "\n",
    "Create a boxplot to visualize the outliers in Sales_Amount."
   ]
  },
  {
   "cell_type": "code",
   "execution_count": 93,
   "id": "4bf184da",
   "metadata": {
    "vscode": {
     "languageId": "r"
    }
   },
   "outputs": [
    {
     "name": "stderr",
     "output_type": "stream",
     "text": [
      "Warning message:\n",
      "“\u001b[1m\u001b[22mRemoved 22 rows containing non-finite outside the scale range\n",
      "(`stat_boxplot()`).”\n"
     ]
    },
    {
     "data": {
      "application/pdf": "[encoded data removed]",
      "image/jpeg": "[encoded data removed]",
      "image/png": "[encoded data removed]",
      "image/svg+xml": [
       "<?xml version=\"1.0\" encoding=\"UTF-8\"?>\n",
       "<svg xmlns=\"http://www.w3.org/2000/svg\" xmlns:xlink=\"http://www.w3.org/1999/xlink\" width=\"504\" height=\"504\" viewBox=\"0 0 504 504\">\n",
       "<defs>\n",
       "<g>\n",
       "<g id=\"glyph-0-0\">\n",
       "<path d=\"M 4.546875 -3.03125 C 4.546875 -2.019531 4.367188 -1.25 4.015625 -0.71875 C 3.660156 -0.1875 3.132812 0.078125 2.4375 0.078125 C 1.738281 0.078125 1.210938 -0.179688 0.859375 -0.703125 C 0.515625 -1.234375 0.34375 -2.007812 0.34375 -3.03125 C 0.34375 -4.070312 0.507812 -4.847656 0.84375 -5.359375 C 1.1875 -5.878906 1.726562 -6.140625 2.46875 -6.140625 C 3.175781 -6.140625 3.695312 -5.875 4.03125 -5.34375 C 4.375 -4.820312 4.546875 -4.050781 4.546875 -3.03125 Z M 3.765625 -3.03125 C 3.765625 -3.90625 3.660156 -4.535156 3.453125 -4.921875 C 3.253906 -5.316406 2.925781 -5.515625 2.46875 -5.515625 C 1.988281 -5.515625 1.644531 -5.320312 1.4375 -4.9375 C 1.226562 -4.550781 1.125 -3.914062 1.125 -3.03125 C 1.125 -2.164062 1.226562 -1.535156 1.4375 -1.140625 C 1.644531 -0.742188 1.976562 -0.546875 2.4375 -0.546875 C 2.894531 -0.546875 3.226562 -0.75 3.4375 -1.15625 C 3.65625 -1.5625 3.765625 -2.1875 3.765625 -3.03125 Z M 3.765625 -3.03125 \"/>\n",
       "</g>\n",
       "<g id=\"glyph-0-1\">\n",
       "<path d=\"M 0.4375 0 L 0.4375 -0.546875 C 0.582031 -0.878906 0.757812 -1.171875 0.96875 -1.421875 C 1.1875 -1.679688 1.410156 -1.914062 1.640625 -2.125 C 1.867188 -2.332031 2.097656 -2.523438 2.328125 -2.703125 C 2.554688 -2.878906 2.757812 -3.054688 2.9375 -3.234375 C 3.125 -3.410156 3.273438 -3.597656 3.390625 -3.796875 C 3.503906 -3.992188 3.5625 -4.210938 3.5625 -4.453125 C 3.5625 -4.785156 3.460938 -5.039062 3.265625 -5.21875 C 3.078125 -5.40625 2.804688 -5.5 2.453125 -5.5 C 2.128906 -5.5 1.859375 -5.410156 1.640625 -5.234375 C 1.429688 -5.054688 1.304688 -4.804688 1.265625 -4.484375 L 0.484375 -4.5625 C 0.535156 -5.039062 0.738281 -5.421875 1.09375 -5.703125 C 1.445312 -5.992188 1.898438 -6.140625 2.453125 -6.140625 C 3.066406 -6.140625 3.535156 -5.992188 3.859375 -5.703125 C 4.191406 -5.421875 4.359375 -5.015625 4.359375 -4.484375 C 4.359375 -4.242188 4.300781 -4.007812 4.1875 -3.78125 C 4.082031 -3.550781 3.921875 -3.316406 3.703125 -3.078125 C 3.492188 -2.847656 3.09375 -2.492188 2.5 -2.015625 C 2.164062 -1.742188 1.898438 -1.5 1.703125 -1.28125 C 1.515625 -1.0625 1.378906 -0.851562 1.296875 -0.65625 L 4.453125 -0.65625 L 4.453125 0 Z M 0.4375 0 \"/>\n",
       "</g>\n",
       "<g id=\"glyph-0-2\">\n",
       "<path d=\"M 4.515625 -1.96875 C 4.515625 -1.332031 4.328125 -0.832031 3.953125 -0.46875 C 3.578125 -0.101562 3.050781 0.078125 2.375 0.078125 C 1.8125 0.078125 1.351562 -0.0390625 1 -0.28125 C 0.65625 -0.53125 0.441406 -0.890625 0.359375 -1.359375 L 1.140625 -1.4375 C 1.296875 -0.84375 1.710938 -0.546875 2.390625 -0.546875 C 2.804688 -0.546875 3.128906 -0.671875 3.359375 -0.921875 C 3.597656 -1.171875 3.71875 -1.515625 3.71875 -1.953125 C 3.71875 -2.335938 3.597656 -2.644531 3.359375 -2.875 C 3.128906 -3.113281 2.8125 -3.234375 2.40625 -3.234375 C 2.195312 -3.234375 2.003906 -3.195312 1.828125 -3.125 C 1.648438 -3.0625 1.46875 -2.953125 1.28125 -2.796875 L 0.53125 -2.796875 L 0.734375 -6.046875 L 4.171875 -6.046875 L 4.171875 -5.390625 L 1.4375 -5.390625 L 1.3125 -3.46875 C 1.65625 -3.726562 2.070312 -3.859375 2.5625 -3.859375 C 3.164062 -3.859375 3.640625 -3.679688 3.984375 -3.328125 C 4.335938 -2.984375 4.515625 -2.53125 4.515625 -1.96875 Z M 4.515625 -1.96875 \"/>\n",
       "</g>\n",
       "<g id=\"glyph-0-3\">\n",
       "<path d=\"M 4.453125 -5.421875 C 3.828125 -4.472656 3.382812 -3.734375 3.125 -3.203125 C 2.875 -2.671875 2.6875 -2.144531 2.5625 -1.625 C 2.4375 -1.101562 2.375 -0.5625 2.375 0 L 1.5625 0 C 1.5625 -0.769531 1.722656 -1.582031 2.046875 -2.4375 C 2.378906 -3.289062 2.929688 -4.273438 3.703125 -5.390625 L 0.453125 -5.390625 L 0.453125 -6.046875 L 4.453125 -6.046875 Z M 4.453125 -5.421875 \"/>\n",
       "</g>\n",
       "<g id=\"glyph-0-4\">\n",
       "<path d=\"M 0.671875 0 L 0.671875 -0.65625 L 2.21875 -0.65625 L 2.21875 -5.3125 L 0.84375 -4.34375 L 0.84375 -5.0625 L 2.28125 -6.046875 L 2.984375 -6.046875 L 2.984375 -0.65625 L 4.46875 -0.65625 L 4.46875 0 Z M 0.671875 0 \"/>\n",
       "</g>\n",
       "<g id=\"glyph-0-5\">\n",
       "<path d=\"M 0.390625 -2 L 0.390625 -2.6875 L 2.53125 -2.6875 L 2.53125 -2 Z M 0.390625 -2 \"/>\n",
       "</g>\n",
       "<g id=\"glyph-0-6\">\n",
       "<path d=\"M 0.796875 0 L 0.796875 -0.9375 L 1.640625 -0.9375 L 1.640625 0 Z M 0.796875 0 \"/>\n",
       "</g>\n",
       "<g id=\"glyph-0-7\">\n",
       "<path d=\"M 3.78125 -1.375 L 3.78125 0 L 3.046875 0 L 3.046875 -1.375 L 0.203125 -1.375 L 0.203125 -1.96875 L 2.96875 -6.046875 L 3.78125 -6.046875 L 3.78125 -1.984375 L 4.640625 -1.984375 L 4.640625 -1.375 Z M 3.046875 -5.1875 C 3.046875 -5.164062 3.007812 -5.085938 2.9375 -4.953125 C 2.863281 -4.816406 2.804688 -4.722656 2.765625 -4.671875 L 1.21875 -2.390625 L 0.984375 -2.0625 L 0.921875 -1.984375 L 3.046875 -1.984375 Z M 3.046875 -5.1875 \"/>\n",
       "</g>\n",
       "<g id=\"glyph-1-0\">\n",
       "<path d=\"M -2.09375 -6.828125 C -1.394531 -6.828125 -0.851562 -6.550781 -0.46875 -6 C -0.0820312 -5.457031 0.109375 -4.691406 0.109375 -3.703125 C 0.109375 -1.859375 -0.53125 -0.789062 -1.8125 -0.5 L -2.015625 -1.5 C -1.554688 -1.613281 -1.21875 -1.851562 -1 -2.21875 C -0.789062 -2.59375 -0.6875 -3.101562 -0.6875 -3.75 C -0.6875 -4.40625 -0.800781 -4.910156 -1.03125 -5.265625 C -1.257812 -5.628906 -1.59375 -5.8125 -2.03125 -5.8125 C -2.28125 -5.8125 -2.484375 -5.753906 -2.640625 -5.640625 C -2.796875 -5.535156 -2.921875 -5.378906 -3.015625 -5.171875 C -3.117188 -4.960938 -3.203125 -4.71875 -3.265625 -4.4375 C -3.335938 -4.15625 -3.410156 -3.84375 -3.484375 -3.5 C -3.617188 -2.90625 -3.753906 -2.453125 -3.890625 -2.140625 C -4.023438 -1.828125 -4.171875 -1.582031 -4.328125 -1.40625 C -4.492188 -1.226562 -4.6875 -1.09375 -4.90625 -1 C -5.125 -0.90625 -5.375 -0.859375 -5.65625 -0.859375 C -6.300781 -0.859375 -6.800781 -1.101562 -7.15625 -1.59375 C -7.507812 -2.09375 -7.6875 -2.804688 -7.6875 -3.734375 C -7.6875 -4.585938 -7.550781 -5.238281 -7.28125 -5.6875 C -7.019531 -6.144531 -6.570312 -6.46875 -5.9375 -6.65625 L -5.765625 -5.640625 C -6.160156 -5.535156 -6.445312 -5.328125 -6.625 -5.015625 C -6.8125 -4.703125 -6.90625 -4.269531 -6.90625 -3.71875 C -6.90625 -3.113281 -6.804688 -2.648438 -6.609375 -2.328125 C -6.410156 -2.015625 -6.109375 -1.859375 -5.703125 -1.859375 C -5.472656 -1.859375 -5.28125 -1.914062 -5.125 -2.03125 C -4.976562 -2.15625 -4.851562 -2.332031 -4.75 -2.5625 C -4.644531 -2.800781 -4.515625 -3.269531 -4.359375 -3.96875 C -4.304688 -4.195312 -4.25 -4.425781 -4.1875 -4.65625 C -4.132812 -4.882812 -4.066406 -5.101562 -3.984375 -5.3125 C -3.910156 -5.53125 -3.820312 -5.726562 -3.71875 -5.90625 C -3.613281 -6.09375 -3.484375 -6.253906 -3.328125 -6.390625 C -3.179688 -6.523438 -3.003906 -6.628906 -2.796875 -6.703125 C -2.597656 -6.785156 -2.363281 -6.828125 -2.09375 -6.828125 Z M -2.09375 -6.828125 \"/>\n",
       "</g>\n",
       "<g id=\"glyph-1-1\">\n",
       "<path d=\"M 0.109375 -2.21875 C 0.109375 -1.632812 -0.0390625 -1.195312 -0.34375 -0.90625 C -0.65625 -0.613281 -1.082031 -0.46875 -1.625 -0.46875 C -2.226562 -0.46875 -2.6875 -0.664062 -3 -1.0625 C -3.320312 -1.457031 -3.5 -2.09375 -3.53125 -2.96875 L -3.546875 -4.28125 L -3.859375 -4.28125 C -4.335938 -4.28125 -4.675781 -4.175781 -4.875 -3.96875 C -5.082031 -3.769531 -5.1875 -3.457031 -5.1875 -3.03125 C -5.1875 -2.601562 -5.113281 -2.289062 -4.96875 -2.09375 C -4.820312 -1.894531 -4.585938 -1.773438 -4.265625 -1.734375 L -4.34375 -0.71875 C -5.394531 -0.882812 -5.921875 -1.664062 -5.921875 -3.0625 C -5.921875 -3.789062 -5.753906 -4.335938 -5.421875 -4.703125 C -5.085938 -5.078125 -4.601562 -5.265625 -3.96875 -5.265625 L -1.46875 -5.265625 C -1.175781 -5.265625 -0.957031 -5.300781 -0.8125 -5.375 C -0.664062 -5.445312 -0.59375 -5.585938 -0.59375 -5.796875 C -0.59375 -5.890625 -0.609375 -6 -0.640625 -6.125 L -0.03125 -6.125 C 0.0195312 -5.875 0.046875 -5.625 0.046875 -5.375 C 0.046875 -5.007812 -0.046875 -4.742188 -0.234375 -4.578125 C -0.421875 -4.421875 -0.710938 -4.332031 -1.109375 -4.3125 L -1.109375 -4.28125 C -0.671875 -4.03125 -0.359375 -3.738281 -0.171875 -3.40625 C 0.015625 -3.082031 0.109375 -2.6875 0.109375 -2.21875 Z M -0.625 -2.4375 C -0.625 -2.789062 -0.703125 -3.101562 -0.859375 -3.375 C -1.015625 -3.65625 -1.234375 -3.875 -1.515625 -4.03125 C -1.796875 -4.195312 -2.085938 -4.28125 -2.390625 -4.28125 L -2.875 -4.28125 L -2.84375 -3.21875 C -2.84375 -2.769531 -2.796875 -2.425781 -2.703125 -2.1875 C -2.617188 -1.957031 -2.488281 -1.78125 -2.3125 -1.65625 C -2.132812 -1.53125 -1.898438 -1.46875 -1.609375 -1.46875 C -1.296875 -1.46875 -1.050781 -1.550781 -0.875 -1.71875 C -0.707031 -1.882812 -0.625 -2.125 -0.625 -2.4375 Z M -0.625 -2.4375 \"/>\n",
       "</g>\n",
       "<g id=\"glyph-1-2\">\n",
       "<path d=\"M 0 -0.734375 L -7.96875 -0.734375 L -7.96875 -1.703125 L 0 -1.703125 Z M 0 -0.734375 \"/>\n",
       "</g>\n",
       "<g id=\"glyph-1-3\">\n",
       "<path d=\"M -2.703125 -1.484375 C -2.035156 -1.484375 -1.519531 -1.617188 -1.15625 -1.890625 C -0.800781 -2.171875 -0.625 -2.578125 -0.625 -3.109375 C -0.625 -3.523438 -0.707031 -3.859375 -0.875 -4.109375 C -1.039062 -4.359375 -1.253906 -4.53125 -1.515625 -4.625 L -1.265625 -5.46875 C -0.347656 -5.125 0.109375 -4.335938 0.109375 -3.109375 C 0.109375 -2.242188 -0.144531 -1.585938 -0.65625 -1.140625 C -1.164062 -0.691406 -1.925781 -0.46875 -2.9375 -0.46875 C -3.90625 -0.46875 -4.644531 -0.691406 -5.15625 -1.140625 C -5.664062 -1.585938 -5.921875 -2.226562 -5.921875 -3.0625 C -5.921875 -4.769531 -4.890625 -5.625 -2.828125 -5.625 L -2.703125 -5.625 Z M -3.4375 -4.625 C -4.050781 -4.570312 -4.5 -4.414062 -4.78125 -4.15625 C -5.0625 -3.90625 -5.203125 -3.535156 -5.203125 -3.046875 C -5.203125 -2.578125 -5.046875 -2.207031 -4.734375 -1.9375 C -4.421875 -1.664062 -3.988281 -1.519531 -3.4375 -1.5 Z M -3.4375 -4.625 \"/>\n",
       "</g>\n",
       "<g id=\"glyph-1-4\">\n",
       "<path d=\"M -1.609375 -5.109375 C -1.054688 -5.109375 -0.628906 -4.898438 -0.328125 -4.484375 C -0.0351562 -4.066406 0.109375 -3.488281 0.109375 -2.75 C 0.109375 -2.019531 -0.0078125 -1.457031 -0.25 -1.0625 C -0.488281 -0.675781 -0.859375 -0.425781 -1.359375 -0.3125 L -1.53125 -1.15625 C -1.21875 -1.238281 -0.988281 -1.410156 -0.84375 -1.671875 C -0.695312 -1.929688 -0.625 -2.289062 -0.625 -2.75 C -0.625 -3.238281 -0.695312 -3.59375 -0.84375 -3.8125 C -1 -4.039062 -1.226562 -4.15625 -1.53125 -4.15625 C -1.757812 -4.15625 -1.941406 -4.078125 -2.078125 -3.921875 C -2.222656 -3.765625 -2.34375 -3.507812 -2.4375 -3.15625 L -2.625 -2.46875 C -2.769531 -1.914062 -2.910156 -1.519531 -3.046875 -1.28125 C -3.179688 -1.050781 -3.347656 -0.867188 -3.546875 -0.734375 C -3.742188 -0.597656 -3.988281 -0.53125 -4.28125 -0.53125 C -4.8125 -0.53125 -5.210938 -0.71875 -5.484375 -1.09375 C -5.765625 -1.476562 -5.90625 -2.03125 -5.90625 -2.75 C -5.90625 -3.394531 -5.789062 -3.90625 -5.5625 -4.28125 C -5.332031 -4.65625 -4.972656 -4.894531 -4.484375 -5 L -4.375 -4.125 C -4.632812 -4.070312 -4.832031 -3.925781 -4.96875 -3.6875 C -5.101562 -3.457031 -5.171875 -3.144531 -5.171875 -2.75 C -5.171875 -2.3125 -5.101562 -1.988281 -4.96875 -1.78125 C -4.84375 -1.582031 -4.644531 -1.484375 -4.375 -1.484375 C -4.207031 -1.484375 -4.066406 -1.523438 -3.953125 -1.609375 C -3.847656 -1.691406 -3.757812 -1.816406 -3.6875 -1.984375 C -3.613281 -2.148438 -3.507812 -2.503906 -3.375 -3.046875 C -3.25 -3.554688 -3.128906 -3.925781 -3.015625 -4.15625 C -2.910156 -4.382812 -2.789062 -4.5625 -2.65625 -4.6875 C -2.519531 -4.820312 -2.363281 -4.925781 -2.1875 -5 C -2.019531 -5.070312 -1.828125 -5.109375 -1.609375 -5.109375 Z M -1.609375 -5.109375 \"/>\n",
       "</g>\n",
       "<g id=\"glyph-1-5\">\n",
       "<path d=\"M 2.1875 0.171875 L 1.484375 0.171875 L 1.484375 -6.234375 L 2.1875 -6.234375 Z M 2.1875 0.171875 \"/>\n",
       "</g>\n",
       "<g id=\"glyph-1-6\">\n",
       "<path d=\"M 0 -6.265625 L -2.21875 -5.40625 L -2.21875 -1.953125 L 0 -1.078125 L 0 -0.015625 L -7.5625 -3.109375 L -7.5625 -4.28125 L 0 -7.3125 Z M -6.796875 -3.671875 L -6.640625 -3.625 C -6.347656 -3.539062 -5.96875 -3.410156 -5.5 -3.234375 L -3.015625 -2.265625 L -3.015625 -5.09375 L -5.515625 -4.125 C -5.753906 -4.019531 -6.03125 -3.921875 -6.34375 -3.828125 Z M -6.796875 -3.671875 \"/>\n",
       "</g>\n",
       "<g id=\"glyph-1-7\">\n",
       "<path d=\"M 0 -4.125 L -3.6875 -4.125 C -4.25 -4.125 -4.632812 -4.046875 -4.84375 -3.890625 C -5.0625 -3.734375 -5.171875 -3.457031 -5.171875 -3.0625 C -5.171875 -2.644531 -5.015625 -2.316406 -4.703125 -2.078125 C -4.390625 -1.835938 -3.945312 -1.71875 -3.375 -1.71875 L 0 -1.71875 L 0 -0.765625 L -4.578125 -0.765625 C -5.253906 -0.765625 -5.664062 -0.753906 -5.8125 -0.734375 L -5.8125 -1.640625 C -5.789062 -1.648438 -5.738281 -1.65625 -5.65625 -1.65625 C -5.582031 -1.65625 -5.492188 -1.65625 -5.390625 -1.65625 C -5.296875 -1.664062 -5.101562 -1.675781 -4.8125 -1.6875 L -4.8125 -1.703125 C -5.226562 -1.910156 -5.515625 -2.144531 -5.671875 -2.40625 C -5.835938 -2.675781 -5.921875 -3.007812 -5.921875 -3.40625 C -5.921875 -3.84375 -5.832031 -4.1875 -5.65625 -4.4375 C -5.476562 -4.695312 -5.195312 -4.878906 -4.8125 -4.984375 L -4.8125 -5 C -5.207031 -5.195312 -5.488281 -5.4375 -5.65625 -5.71875 C -5.832031 -6.007812 -5.921875 -6.351562 -5.921875 -6.75 C -5.921875 -7.34375 -5.757812 -7.769531 -5.4375 -8.03125 C -5.125 -8.300781 -4.601562 -8.4375 -3.875 -8.4375 L 0 -8.4375 L 0 -7.484375 L -3.6875 -7.484375 C -4.25 -7.484375 -4.632812 -7.40625 -4.84375 -7.25 C -5.0625 -7.09375 -5.171875 -6.816406 -5.171875 -6.421875 C -5.171875 -5.992188 -5.015625 -5.660156 -4.703125 -5.421875 C -4.390625 -5.191406 -3.945312 -5.078125 -3.375 -5.078125 L 0 -5.078125 Z M 0 -4.125 \"/>\n",
       "</g>\n",
       "<g id=\"glyph-1-8\">\n",
       "<path d=\"M -2.90625 -5.65625 C -1.894531 -5.65625 -1.140625 -5.429688 -0.640625 -4.984375 C -0.140625 -4.535156 0.109375 -3.882812 0.109375 -3.03125 C 0.109375 -2.1875 -0.144531 -1.546875 -0.65625 -1.109375 C -1.175781 -0.679688 -1.925781 -0.46875 -2.90625 -0.46875 C -4.914062 -0.46875 -5.921875 -1.332031 -5.921875 -3.0625 C -5.921875 -3.957031 -5.675781 -4.613281 -5.1875 -5.03125 C -4.695312 -5.445312 -3.9375 -5.65625 -2.90625 -5.65625 Z M -2.90625 -4.640625 C -3.707031 -4.640625 -4.289062 -4.519531 -4.65625 -4.28125 C -5.019531 -4.039062 -5.203125 -3.640625 -5.203125 -3.078125 C -5.203125 -2.515625 -5.015625 -2.109375 -4.640625 -1.859375 C -4.273438 -1.609375 -3.695312 -1.484375 -2.90625 -1.484375 C -2.144531 -1.484375 -1.570312 -1.601562 -1.1875 -1.84375 C -0.800781 -2.09375 -0.609375 -2.488281 -0.609375 -3.03125 C -0.609375 -3.601562 -0.789062 -4.015625 -1.15625 -4.265625 C -1.53125 -4.515625 -2.113281 -4.640625 -2.90625 -4.640625 Z M -2.90625 -4.640625 \"/>\n",
       "</g>\n",
       "<g id=\"glyph-1-9\">\n",
       "<path d=\"M -5.8125 -1.6875 L -2.125 -1.6875 C -1.738281 -1.6875 -1.441406 -1.722656 -1.234375 -1.796875 C -1.023438 -1.867188 -0.875 -1.988281 -0.78125 -2.15625 C -0.6875 -2.320312 -0.640625 -2.566406 -0.640625 -2.890625 C -0.640625 -3.347656 -0.796875 -3.710938 -1.109375 -3.984375 C -1.429688 -4.253906 -1.875 -4.390625 -2.4375 -4.390625 L -5.8125 -4.390625 L -5.8125 -5.359375 L -1.234375 -5.359375 C -0.554688 -5.359375 -0.144531 -5.367188 0 -5.390625 L 0 -4.46875 C -0.0195312 -4.46875 -0.0664062 -4.460938 -0.140625 -4.453125 C -0.222656 -4.453125 -0.3125 -4.445312 -0.40625 -4.4375 C -0.507812 -4.4375 -0.707031 -4.4375 -1 -4.4375 L -1 -4.421875 C -0.59375 -4.191406 -0.304688 -3.929688 -0.140625 -3.640625 C 0.0234375 -3.347656 0.109375 -2.988281 0.109375 -2.5625 C 0.109375 -1.914062 -0.046875 -1.445312 -0.359375 -1.15625 C -0.679688 -0.863281 -1.207031 -0.71875 -1.9375 -0.71875 L -5.8125 -0.71875 Z M -5.8125 -1.6875 \"/>\n",
       "</g>\n",
       "<g id=\"glyph-1-10\">\n",
       "<path d=\"M 0 -4.4375 L -3.6875 -4.4375 C -4.070312 -4.4375 -4.367188 -4.394531 -4.578125 -4.3125 C -4.785156 -4.238281 -4.9375 -4.117188 -5.03125 -3.953125 C -5.125 -3.796875 -5.171875 -3.554688 -5.171875 -3.234375 C -5.171875 -2.765625 -5.007812 -2.394531 -4.6875 -2.125 C -4.375 -1.863281 -3.9375 -1.734375 -3.375 -1.734375 L 0 -1.734375 L 0 -0.765625 L -4.578125 -0.765625 C -5.253906 -0.765625 -5.664062 -0.753906 -5.8125 -0.734375 L -5.8125 -1.640625 C -5.789062 -1.648438 -5.738281 -1.65625 -5.65625 -1.65625 C -5.582031 -1.65625 -5.492188 -1.65625 -5.390625 -1.65625 C -5.296875 -1.664062 -5.101562 -1.675781 -4.8125 -1.6875 L -4.8125 -1.703125 C -5.21875 -1.921875 -5.503906 -2.175781 -5.671875 -2.46875 C -5.835938 -2.757812 -5.921875 -3.125 -5.921875 -3.5625 C -5.921875 -4.195312 -5.757812 -4.660156 -5.4375 -4.953125 C -5.125 -5.253906 -4.601562 -5.40625 -3.875 -5.40625 L 0 -5.40625 Z M 0 -4.4375 \"/>\n",
       "</g>\n",
       "<g id=\"glyph-1-11\">\n",
       "<path d=\"M -0.046875 -2.96875 C 0.046875 -2.65625 0.09375 -2.332031 0.09375 -2 C 0.09375 -1.226562 -0.347656 -0.84375 -1.234375 -0.84375 L -5.109375 -0.84375 L -5.109375 -0.171875 L -5.8125 -0.171875 L -5.8125 -0.875 L -7.109375 -1.15625 L -7.109375 -1.8125 L -5.8125 -1.8125 L -5.8125 -2.875 L -5.109375 -2.875 L -5.109375 -1.8125 L -1.4375 -1.8125 C -1.15625 -1.8125 -0.957031 -1.851562 -0.84375 -1.9375 C -0.738281 -2.03125 -0.6875 -2.191406 -0.6875 -2.421875 C -0.6875 -2.546875 -0.707031 -2.726562 -0.75 -2.96875 Z M -0.046875 -2.96875 \"/>\n",
       "</g>\n",
       "<g id=\"glyph-2-0\">\n",
       "<path d=\"M 8.109375 -2.5625 C 8.109375 -1.75 7.8125 -1.117188 7.21875 -0.671875 C 6.632812 -0.222656 5.816406 0 4.765625 0 L 1.078125 0 L 1.078125 -9.078125 L 4.390625 -9.078125 C 6.515625 -9.078125 7.578125 -8.34375 7.578125 -6.875 C 7.578125 -6.34375 7.425781 -5.894531 7.125 -5.53125 C 6.820312 -5.164062 6.398438 -4.921875 5.859375 -4.796875 C 6.578125 -4.703125 7.128906 -4.457031 7.515625 -4.0625 C 7.910156 -3.664062 8.109375 -3.164062 8.109375 -2.5625 Z M 6.34375 -6.734375 C 6.34375 -7.222656 6.175781 -7.570312 5.84375 -7.78125 C 5.507812 -7.988281 5.023438 -8.09375 4.390625 -8.09375 L 2.3125 -8.09375 L 2.3125 -5.21875 L 4.390625 -5.21875 C 5.046875 -5.21875 5.535156 -5.34375 5.859375 -5.59375 C 6.179688 -5.84375 6.34375 -6.222656 6.34375 -6.734375 Z M 6.859375 -2.65625 C 6.859375 -3.726562 6.109375 -4.265625 4.609375 -4.265625 L 2.3125 -4.265625 L 2.3125 -0.984375 L 4.703125 -0.984375 C 5.453125 -0.984375 6 -1.125 6.34375 -1.40625 C 6.6875 -1.6875 6.859375 -2.101562 6.859375 -2.65625 Z M 6.859375 -2.65625 \"/>\n",
       "</g>\n",
       "<g id=\"glyph-2-1\">\n",
       "<path d=\"M 6.78125 -3.5 C 6.78125 -2.269531 6.507812 -1.359375 5.96875 -0.765625 C 5.4375 -0.171875 4.660156 0.125 3.640625 0.125 C 2.617188 0.125 1.847656 -0.179688 1.328125 -0.796875 C 0.804688 -1.421875 0.546875 -2.320312 0.546875 -3.5 C 0.546875 -5.90625 1.59375 -7.109375 3.6875 -7.109375 C 4.75 -7.109375 5.53125 -6.8125 6.03125 -6.21875 C 6.53125 -5.632812 6.78125 -4.726562 6.78125 -3.5 Z M 5.5625 -3.5 C 5.5625 -4.457031 5.421875 -5.15625 5.140625 -5.59375 C 4.859375 -6.03125 4.378906 -6.25 3.703125 -6.25 C 3.023438 -6.25 2.53125 -6.023438 2.21875 -5.578125 C 1.914062 -5.128906 1.765625 -4.4375 1.765625 -3.5 C 1.765625 -2.570312 1.914062 -1.878906 2.21875 -1.421875 C 2.519531 -0.960938 2.988281 -0.734375 3.625 -0.734375 C 4.320312 -0.734375 4.816406 -0.953125 5.109375 -1.390625 C 5.410156 -1.835938 5.5625 -2.539062 5.5625 -3.5 Z M 5.5625 -3.5 \"/>\n",
       "</g>\n",
       "<g id=\"glyph-2-2\">\n",
       "<path d=\"M 5.15625 0 L 3.28125 -2.859375 L 1.40625 0 L 0.140625 0 L 2.625 -3.578125 L 0.265625 -6.96875 L 1.546875 -6.96875 L 3.28125 -4.265625 L 5.015625 -6.96875 L 6.3125 -6.96875 L 3.953125 -3.59375 L 6.453125 0 Z M 5.15625 0 \"/>\n",
       "</g>\n",
       "<g id=\"glyph-2-3\">\n",
       "<path d=\"M 6.78125 -3.515625 C 6.78125 -1.085938 5.925781 0.125 4.21875 0.125 C 3.144531 0.125 2.425781 -0.273438 2.0625 -1.078125 L 2.03125 -1.078125 C 2.039062 -1.046875 2.046875 -0.679688 2.046875 0.015625 L 2.046875 2.734375 L 0.890625 2.734375 L 0.890625 -5.546875 C 0.890625 -6.265625 0.875 -6.738281 0.84375 -6.96875 L 1.96875 -6.96875 C 1.976562 -6.957031 1.984375 -6.898438 1.984375 -6.796875 C 1.992188 -6.691406 2.003906 -6.523438 2.015625 -6.296875 C 2.023438 -6.078125 2.03125 -5.929688 2.03125 -5.859375 L 2.0625 -5.859375 C 2.269531 -6.285156 2.539062 -6.597656 2.875 -6.796875 C 3.21875 -6.992188 3.664062 -7.09375 4.21875 -7.09375 C 5.082031 -7.09375 5.722656 -6.804688 6.140625 -6.234375 C 6.566406 -5.660156 6.78125 -4.753906 6.78125 -3.515625 Z M 5.5625 -3.5 C 5.5625 -4.46875 5.429688 -5.160156 5.171875 -5.578125 C 4.910156 -5.992188 4.492188 -6.203125 3.921875 -6.203125 C 3.460938 -6.203125 3.101562 -6.101562 2.84375 -5.90625 C 2.582031 -5.71875 2.382812 -5.414062 2.25 -5 C 2.113281 -4.59375 2.046875 -4.0625 2.046875 -3.40625 C 2.046875 -2.488281 2.191406 -1.8125 2.484375 -1.375 C 2.773438 -0.945312 3.25 -0.734375 3.90625 -0.734375 C 4.488281 -0.734375 4.910156 -0.941406 5.171875 -1.359375 C 5.429688 -1.785156 5.5625 -2.5 5.5625 -3.5 Z M 5.5625 -3.5 \"/>\n",
       "</g>\n",
       "<g id=\"glyph-2-4\">\n",
       "<path d=\"M 0.890625 0 L 0.890625 -9.5625 L 2.046875 -9.5625 L 2.046875 0 Z M 0.890625 0 \"/>\n",
       "</g>\n",
       "<g id=\"glyph-2-5\">\n",
       "<path d=\"M 3.578125 -0.046875 C 3.191406 0.0546875 2.796875 0.109375 2.390625 0.109375 C 1.460938 0.109375 1 -0.414062 1 -1.46875 L 1 -6.125 L 0.203125 -6.125 L 0.203125 -6.96875 L 1.046875 -6.96875 L 1.390625 -8.53125 L 2.171875 -8.53125 L 2.171875 -6.96875 L 3.453125 -6.96875 L 3.453125 -6.125 L 2.171875 -6.125 L 2.171875 -1.734375 C 2.171875 -1.390625 2.222656 -1.148438 2.328125 -1.015625 C 2.441406 -0.878906 2.632812 -0.8125 2.90625 -0.8125 C 3.0625 -0.8125 3.285156 -0.84375 3.578125 -0.90625 Z M 3.578125 -0.046875 \"/>\n",
       "</g>\n",
       "<g id=\"glyph-2-6\">\n",
       "</g>\n",
       "<g id=\"glyph-2-7\">\n",
       "<path d=\"M 2.328125 -6.125 L 2.328125 0 L 1.171875 0 L 1.171875 -6.125 L 0.1875 -6.125 L 0.1875 -6.96875 L 1.171875 -6.96875 L 1.171875 -7.765625 C 1.171875 -8.398438 1.304688 -8.851562 1.578125 -9.125 C 1.859375 -9.40625 2.289062 -9.546875 2.875 -9.546875 C 3.195312 -9.546875 3.46875 -9.523438 3.6875 -9.484375 L 3.6875 -8.59375 C 3.488281 -8.625 3.316406 -8.640625 3.171875 -8.640625 C 2.878906 -8.640625 2.664062 -8.5625 2.53125 -8.40625 C 2.394531 -8.257812 2.328125 -7.988281 2.328125 -7.59375 L 2.328125 -6.96875 L 3.6875 -6.96875 L 3.6875 -6.125 Z M 2.328125 -6.125 \"/>\n",
       "</g>\n",
       "<g id=\"glyph-2-8\">\n",
       "<path d=\"M 8.203125 -2.515625 C 8.203125 -1.671875 7.875 -1.019531 7.21875 -0.5625 C 6.5625 -0.101562 5.640625 0.125 4.453125 0.125 C 2.234375 0.125 0.945312 -0.640625 0.59375 -2.171875 L 1.796875 -2.421875 C 1.929688 -1.867188 2.222656 -1.460938 2.671875 -1.203125 C 3.117188 -0.953125 3.726562 -0.828125 4.5 -0.828125 C 5.289062 -0.828125 5.898438 -0.960938 6.328125 -1.234375 C 6.765625 -1.515625 6.984375 -1.914062 6.984375 -2.4375 C 6.984375 -2.738281 6.914062 -2.976562 6.78125 -3.15625 C 6.644531 -3.34375 6.453125 -3.492188 6.203125 -3.609375 C 5.960938 -3.734375 5.671875 -3.835938 5.328125 -3.921875 C 4.992188 -4.003906 4.617188 -4.09375 4.203125 -4.1875 C 3.484375 -4.34375 2.9375 -4.5 2.5625 -4.65625 C 2.195312 -4.820312 1.90625 -5.003906 1.6875 -5.203125 C 1.46875 -5.398438 1.300781 -5.628906 1.1875 -5.890625 C 1.082031 -6.148438 1.03125 -6.445312 1.03125 -6.78125 C 1.03125 -7.5625 1.328125 -8.160156 1.921875 -8.578125 C 2.515625 -9.003906 3.363281 -9.21875 4.46875 -9.21875 C 5.5 -9.21875 6.285156 -9.054688 6.828125 -8.734375 C 7.378906 -8.421875 7.765625 -7.882812 7.984375 -7.125 L 6.78125 -6.921875 C 6.644531 -7.398438 6.390625 -7.75 6.015625 -7.96875 C 5.640625 -8.1875 5.125 -8.296875 4.46875 -8.296875 C 3.738281 -8.296875 3.179688 -8.171875 2.796875 -7.921875 C 2.410156 -7.679688 2.21875 -7.328125 2.21875 -6.859375 C 2.21875 -6.578125 2.289062 -6.34375 2.4375 -6.15625 C 2.59375 -5.976562 2.804688 -5.820312 3.078125 -5.6875 C 3.359375 -5.5625 3.914062 -5.410156 4.75 -5.234375 C 5.03125 -5.160156 5.3125 -5.09375 5.59375 -5.03125 C 5.875 -4.96875 6.140625 -4.890625 6.390625 -4.796875 C 6.640625 -4.703125 6.875 -4.59375 7.09375 -4.46875 C 7.320312 -4.34375 7.515625 -4.1875 7.671875 -4 C 7.835938 -3.820312 7.96875 -3.609375 8.0625 -3.359375 C 8.15625 -3.117188 8.203125 -2.835938 8.203125 -2.515625 Z M 8.203125 -2.515625 \"/>\n",
       "</g>\n",
       "<g id=\"glyph-2-9\">\n",
       "<path d=\"M 2.671875 0.125 C 1.972656 0.125 1.445312 -0.0546875 1.09375 -0.421875 C 0.738281 -0.796875 0.5625 -1.304688 0.5625 -1.953125 C 0.5625 -2.671875 0.796875 -3.222656 1.265625 -3.609375 C 1.742188 -3.992188 2.515625 -4.203125 3.578125 -4.234375 L 5.140625 -4.25 L 5.140625 -4.640625 C 5.140625 -5.203125 5.019531 -5.601562 4.78125 -5.84375 C 4.539062 -6.09375 4.160156 -6.21875 3.640625 -6.21875 C 3.117188 -6.21875 2.738281 -6.128906 2.5 -5.953125 C 2.269531 -5.773438 2.128906 -5.492188 2.078125 -5.109375 L 0.875 -5.21875 C 1.070312 -6.476562 2.003906 -7.109375 3.671875 -7.109375 C 4.546875 -7.109375 5.203125 -6.90625 5.640625 -6.5 C 6.085938 -6.101562 6.3125 -5.519531 6.3125 -4.75 L 6.3125 -1.75 C 6.3125 -1.40625 6.351562 -1.144531 6.4375 -0.96875 C 6.53125 -0.800781 6.707031 -0.71875 6.96875 -0.71875 C 7.070312 -0.71875 7.195312 -0.734375 7.34375 -0.765625 L 7.34375 -0.03125 C 7.050781 0.03125 6.753906 0.0625 6.453125 0.0625 C 6.015625 0.0625 5.695312 -0.046875 5.5 -0.265625 C 5.3125 -0.492188 5.203125 -0.847656 5.171875 -1.328125 L 5.140625 -1.328125 C 4.835938 -0.796875 4.488281 -0.421875 4.09375 -0.203125 C 3.707031 0.015625 3.234375 0.125 2.671875 0.125 Z M 2.9375 -0.734375 C 3.363281 -0.734375 3.738281 -0.832031 4.0625 -1.03125 C 4.394531 -1.226562 4.65625 -1.492188 4.84375 -1.828125 C 5.039062 -2.160156 5.140625 -2.507812 5.140625 -2.875 L 5.140625 -3.4375 L 3.875 -3.421875 C 3.320312 -3.410156 2.90625 -3.351562 2.625 -3.25 C 2.34375 -3.144531 2.125 -2.984375 1.96875 -2.765625 C 1.820312 -2.554688 1.75 -2.273438 1.75 -1.921875 C 1.75 -1.546875 1.847656 -1.253906 2.046875 -1.046875 C 2.253906 -0.835938 2.550781 -0.734375 2.9375 -0.734375 Z M 2.9375 -0.734375 \"/>\n",
       "</g>\n",
       "<g id=\"glyph-2-10\">\n",
       "<path d=\"M 1.78125 -3.25 C 1.78125 -2.445312 1.941406 -1.828125 2.265625 -1.390625 C 2.597656 -0.953125 3.082031 -0.734375 3.71875 -0.734375 C 4.226562 -0.734375 4.632812 -0.832031 4.9375 -1.03125 C 5.238281 -1.238281 5.441406 -1.5 5.546875 -1.8125 L 6.5625 -1.515625 C 6.144531 -0.421875 5.195312 0.125 3.71875 0.125 C 2.6875 0.125 1.898438 -0.179688 1.359375 -0.796875 C 0.828125 -1.410156 0.5625 -2.320312 0.5625 -3.53125 C 0.5625 -4.6875 0.828125 -5.570312 1.359375 -6.1875 C 1.898438 -6.800781 2.675781 -7.109375 3.6875 -7.109375 C 5.726562 -7.109375 6.75 -5.867188 6.75 -3.390625 L 6.75 -3.25 Z M 5.5625 -4.125 C 5.488281 -4.863281 5.296875 -5.398438 4.984375 -5.734375 C 4.679688 -6.078125 4.238281 -6.25 3.65625 -6.25 C 3.09375 -6.25 2.644531 -6.0625 2.3125 -5.6875 C 1.988281 -5.3125 1.816406 -4.789062 1.796875 -4.125 Z M 5.5625 -4.125 \"/>\n",
       "</g>\n",
       "<g id=\"glyph-2-11\">\n",
       "<path d=\"M 6.125 -1.921875 C 6.125 -1.265625 5.875 -0.757812 5.375 -0.40625 C 4.882812 -0.0507812 4.191406 0.125 3.296875 0.125 C 2.421875 0.125 1.75 -0.015625 1.28125 -0.296875 C 0.8125 -0.585938 0.507812 -1.035156 0.375 -1.640625 L 1.390625 -1.84375 C 1.492188 -1.46875 1.695312 -1.191406 2 -1.015625 C 2.3125 -0.835938 2.742188 -0.75 3.296875 -0.75 C 3.878906 -0.75 4.304688 -0.835938 4.578125 -1.015625 C 4.859375 -1.203125 5 -1.476562 5 -1.84375 C 5 -2.113281 4.898438 -2.332031 4.703125 -2.5 C 4.515625 -2.675781 4.210938 -2.820312 3.796875 -2.9375 L 2.96875 -3.15625 C 2.300781 -3.320312 1.828125 -3.488281 1.546875 -3.65625 C 1.265625 -3.820312 1.039062 -4.019531 0.875 -4.25 C 0.71875 -4.488281 0.640625 -4.78125 0.640625 -5.125 C 0.640625 -5.757812 0.863281 -6.242188 1.3125 -6.578125 C 1.769531 -6.910156 2.4375 -7.078125 3.3125 -7.078125 C 4.082031 -7.078125 4.691406 -6.941406 5.140625 -6.671875 C 5.597656 -6.398438 5.882812 -5.96875 6 -5.375 L 4.953125 -5.25 C 4.890625 -5.5625 4.71875 -5.796875 4.4375 -5.953125 C 4.15625 -6.117188 3.78125 -6.203125 3.3125 -6.203125 C 2.78125 -6.203125 2.390625 -6.125 2.140625 -5.96875 C 1.890625 -5.8125 1.765625 -5.570312 1.765625 -5.25 C 1.765625 -5.050781 1.816406 -4.882812 1.921875 -4.75 C 2.023438 -4.625 2.175781 -4.515625 2.375 -4.421875 C 2.582031 -4.335938 3.007812 -4.21875 3.65625 -4.0625 C 4.269531 -3.90625 4.710938 -3.757812 4.984375 -3.625 C 5.253906 -3.5 5.46875 -3.351562 5.625 -3.1875 C 5.78125 -3.03125 5.898438 -2.847656 5.984375 -2.640625 C 6.078125 -2.429688 6.125 -2.191406 6.125 -1.921875 Z M 6.125 -1.921875 \"/>\n",
       "</g>\n",
       "<g id=\"glyph-2-12\">\n",
       "<path d=\"M -0.203125 2.625 L -0.203125 1.78125 L 7.484375 1.78125 L 7.484375 2.625 Z M -0.203125 2.625 \"/>\n",
       "</g>\n",
       "<g id=\"glyph-2-13\">\n",
       "<path d=\"M 7.53125 0 L 6.484375 -2.65625 L 2.34375 -2.65625 L 1.296875 0 L 0.03125 0 L 3.734375 -9.078125 L 5.125 -9.078125 L 8.78125 0 Z M 4.421875 -8.15625 L 4.359375 -7.96875 C 4.253906 -7.613281 4.09375 -7.160156 3.875 -6.609375 L 2.71875 -3.609375 L 6.125 -3.609375 L 4.953125 -6.609375 C 4.828125 -6.910156 4.707031 -7.25 4.59375 -7.625 Z M 4.421875 -8.15625 \"/>\n",
       "</g>\n",
       "<g id=\"glyph-2-14\">\n",
       "<path d=\"M 4.953125 0 L 4.953125 -4.421875 C 4.953125 -5.097656 4.859375 -5.5625 4.671875 -5.8125 C 4.484375 -6.070312 4.148438 -6.203125 3.671875 -6.203125 C 3.179688 -6.203125 2.789062 -6.015625 2.5 -5.640625 C 2.207031 -5.265625 2.0625 -4.734375 2.0625 -4.046875 L 2.0625 0 L 0.921875 0 L 0.921875 -5.484375 C 0.921875 -6.296875 0.90625 -6.789062 0.875 -6.96875 L 1.96875 -6.96875 C 1.976562 -6.945312 1.984375 -6.890625 1.984375 -6.796875 C 1.984375 -6.703125 1.988281 -6.59375 2 -6.46875 C 2.007812 -6.351562 2.019531 -6.125 2.03125 -5.78125 L 2.046875 -5.78125 C 2.296875 -6.28125 2.582031 -6.625 2.90625 -6.8125 C 3.226562 -7.007812 3.617188 -7.109375 4.078125 -7.109375 C 4.609375 -7.109375 5.023438 -7 5.328125 -6.78125 C 5.640625 -6.570312 5.851562 -6.238281 5.96875 -5.78125 L 6 -5.78125 C 6.238281 -6.25 6.523438 -6.585938 6.859375 -6.796875 C 7.203125 -7.003906 7.617188 -7.109375 8.109375 -7.109375 C 8.816406 -7.109375 9.328125 -6.914062 9.640625 -6.53125 C 9.960938 -6.144531 10.125 -5.515625 10.125 -4.640625 L 10.125 0 L 8.984375 0 L 8.984375 -4.421875 C 8.984375 -5.097656 8.890625 -5.5625 8.703125 -5.8125 C 8.515625 -6.070312 8.179688 -6.203125 7.703125 -6.203125 C 7.191406 -6.203125 6.796875 -6.015625 6.515625 -5.640625 C 6.234375 -5.265625 6.09375 -4.734375 6.09375 -4.046875 L 6.09375 0 Z M 4.953125 0 \"/>\n",
       "</g>\n",
       "<g id=\"glyph-2-15\">\n",
       "<path d=\"M 2.03125 -6.96875 L 2.03125 -2.546875 C 2.03125 -2.085938 2.070312 -1.734375 2.15625 -1.484375 C 2.25 -1.234375 2.394531 -1.050781 2.59375 -0.9375 C 2.789062 -0.820312 3.082031 -0.765625 3.46875 -0.765625 C 4.019531 -0.765625 4.457031 -0.957031 4.78125 -1.34375 C 5.101562 -1.726562 5.265625 -2.257812 5.265625 -2.9375 L 5.265625 -6.96875 L 6.421875 -6.96875 L 6.421875 -1.484375 C 6.421875 -0.671875 6.4375 -0.175781 6.46875 0 L 5.375 0 C 5.363281 -0.0195312 5.351562 -0.078125 5.34375 -0.171875 C 5.34375 -0.265625 5.335938 -0.375 5.328125 -0.5 C 5.328125 -0.625 5.320312 -0.851562 5.3125 -1.1875 L 5.296875 -1.1875 C 5.035156 -0.707031 4.726562 -0.367188 4.375 -0.171875 C 4.019531 0.0234375 3.582031 0.125 3.0625 0.125 C 2.300781 0.125 1.742188 -0.0625 1.390625 -0.4375 C 1.035156 -0.820312 0.859375 -1.453125 0.859375 -2.328125 L 0.859375 -6.96875 Z M 2.03125 -6.96875 \"/>\n",
       "</g>\n",
       "<g id=\"glyph-2-16\">\n",
       "<path d=\"M 5.3125 0 L 5.3125 -4.421875 C 5.3125 -4.878906 5.265625 -5.234375 5.171875 -5.484375 C 5.085938 -5.742188 4.945312 -5.925781 4.75 -6.03125 C 4.550781 -6.144531 4.257812 -6.203125 3.875 -6.203125 C 3.320312 -6.203125 2.882812 -6.007812 2.5625 -5.625 C 2.238281 -5.25 2.078125 -4.722656 2.078125 -4.046875 L 2.078125 0 L 0.921875 0 L 0.921875 -5.484375 C 0.921875 -6.296875 0.90625 -6.789062 0.875 -6.96875 L 1.96875 -6.96875 C 1.976562 -6.945312 1.984375 -6.890625 1.984375 -6.796875 C 1.984375 -6.703125 1.988281 -6.59375 2 -6.46875 C 2.007812 -6.351562 2.019531 -6.125 2.03125 -5.78125 L 2.046875 -5.78125 C 2.304688 -6.257812 2.613281 -6.597656 2.96875 -6.796875 C 3.320312 -7.003906 3.757812 -7.109375 4.28125 -7.109375 C 5.039062 -7.109375 5.597656 -6.914062 5.953125 -6.53125 C 6.304688 -6.15625 6.484375 -5.523438 6.484375 -4.640625 L 6.484375 0 Z M 5.3125 0 \"/>\n",
       "</g>\n",
       "</g>\n",
       "<clipPath id=\"clip-0\">\n",
       "<path clip-rule=\"nonzero\" d=\"M 56.714844 23.960938 L 498.523438 23.960938 L 498.523438 485.585938 L 56.714844 485.585938 Z M 56.714844 23.960938 \"/>\n",
       "</clipPath>\n",
       "<clipPath id=\"clip-1\">\n",
       "<path clip-rule=\"nonzero\" d=\"M 56.714844 411 L 498.523438 411 L 498.523438 413 L 56.714844 413 Z M 56.714844 411 \"/>\n",
       "</clipPath>\n",
       "<clipPath id=\"clip-2\">\n",
       "<path clip-rule=\"nonzero\" d=\"M 56.714844 306 L 498.523438 306 L 498.523438 308 L 56.714844 308 Z M 56.714844 306 \"/>\n",
       "</clipPath>\n",
       "<clipPath id=\"clip-3\">\n",
       "<path clip-rule=\"nonzero\" d=\"M 56.714844 201 L 498.523438 201 L 498.523438 203 L 56.714844 203 Z M 56.714844 201 \"/>\n",
       "</clipPath>\n",
       "<clipPath id=\"clip-4\">\n",
       "<path clip-rule=\"nonzero\" d=\"M 56.714844 97 L 498.523438 97 L 498.523438 98 L 56.714844 98 Z M 56.714844 97 \"/>\n",
       "</clipPath>\n",
       "<clipPath id=\"clip-5\">\n",
       "<path clip-rule=\"nonzero\" d=\"M 116 23.960938 L 118 23.960938 L 118 485.585938 L 116 485.585938 Z M 116 23.960938 \"/>\n",
       "</clipPath>\n",
       "<clipPath id=\"clip-6\">\n",
       "<path clip-rule=\"nonzero\" d=\"M 223 23.960938 L 225 23.960938 L 225 485.585938 L 223 485.585938 Z M 223 23.960938 \"/>\n",
       "</clipPath>\n",
       "<clipPath id=\"clip-7\">\n",
       "<path clip-rule=\"nonzero\" d=\"M 330 23.960938 L 332 23.960938 L 332 485.585938 L 330 485.585938 Z M 330 23.960938 \"/>\n",
       "</clipPath>\n",
       "<clipPath id=\"clip-8\">\n",
       "<path clip-rule=\"nonzero\" d=\"M 438 23.960938 L 439 23.960938 L 439 485.585938 L 438 485.585938 Z M 438 23.960938 \"/>\n",
       "</clipPath>\n",
       "<clipPath id=\"clip-9\">\n",
       "<path clip-rule=\"nonzero\" d=\"M 56.714844 463 L 498.523438 463 L 498.523438 465 L 56.714844 465 Z M 56.714844 463 \"/>\n",
       "</clipPath>\n",
       "<clipPath id=\"clip-10\">\n",
       "<path clip-rule=\"nonzero\" d=\"M 56.714844 358 L 498.523438 358 L 498.523438 360 L 56.714844 360 Z M 56.714844 358 \"/>\n",
       "</clipPath>\n",
       "<clipPath id=\"clip-11\">\n",
       "<path clip-rule=\"nonzero\" d=\"M 56.714844 254 L 498.523438 254 L 498.523438 256 L 56.714844 256 Z M 56.714844 254 \"/>\n",
       "</clipPath>\n",
       "<clipPath id=\"clip-12\">\n",
       "<path clip-rule=\"nonzero\" d=\"M 56.714844 149 L 498.523438 149 L 498.523438 151 L 56.714844 151 Z M 56.714844 149 \"/>\n",
       "</clipPath>\n",
       "<clipPath id=\"clip-13\">\n",
       "<path clip-rule=\"nonzero\" d=\"M 56.714844 44 L 498.523438 44 L 498.523438 46 L 56.714844 46 Z M 56.714844 44 \"/>\n",
       "</clipPath>\n",
       "<clipPath id=\"clip-14\">\n",
       "<path clip-rule=\"nonzero\" d=\"M 62 23.960938 L 64 23.960938 L 64 485.585938 L 62 485.585938 Z M 62 23.960938 \"/>\n",
       "</clipPath>\n",
       "<clipPath id=\"clip-15\">\n",
       "<path clip-rule=\"nonzero\" d=\"M 169 23.960938 L 172 23.960938 L 172 485.585938 L 169 485.585938 Z M 169 23.960938 \"/>\n",
       "</clipPath>\n",
       "<clipPath id=\"clip-16\">\n",
       "<path clip-rule=\"nonzero\" d=\"M 277 23.960938 L 279 23.960938 L 279 485.585938 L 277 485.585938 Z M 277 23.960938 \"/>\n",
       "</clipPath>\n",
       "<clipPath id=\"clip-17\">\n",
       "<path clip-rule=\"nonzero\" d=\"M 384 23.960938 L 386 23.960938 L 386 485.585938 L 384 485.585938 Z M 384 23.960938 \"/>\n",
       "</clipPath>\n",
       "<clipPath id=\"clip-18\">\n",
       "<path clip-rule=\"nonzero\" d=\"M 491 23.960938 L 493 23.960938 L 493 485.585938 L 491 485.585938 Z M 491 23.960938 \"/>\n",
       "</clipPath>\n",
       "</defs>\n",
       "<rect x=\"-50.4\" y=\"-50.4\" width=\"604.8\" height=\"604.8\" fill=\"rgb(100%, 100%, 100%)\" fill-opacity=\"1\"/>\n",
       "<rect x=\"-50.4\" y=\"-50.4\" width=\"604.8\" height=\"604.8\" fill=\"rgb(100%, 100%, 100%)\" fill-opacity=\"1\"/>\n",
       "<path fill=\"none\" stroke-width=\"1.066978\" stroke-linecap=\"round\" stroke-linejoin=\"round\" stroke=\"rgb(100%, 100%, 100%)\" stroke-opacity=\"1\" stroke-miterlimit=\"10\" d=\"M 0 504 L 504 504 L 504 0 L 0 0 Z M 0 504 \"/>\n",
       "<g clip-path=\"url(#clip-0)\">\n",
       "<path fill-rule=\"nonzero\" fill=\"rgb(92.156863%, 92.156863%, 92.156863%)\" fill-opacity=\"1\" d=\"M 56.714844 485.585938 L 498.523438 485.585938 L 498.523438 23.960938 L 56.714844 23.960938 Z M 56.714844 485.585938 \"/>\n",
       "</g>\n",
       "<g clip-path=\"url(#clip-1)\">\n",
       "<path fill=\"none\" stroke-width=\"0.533489\" stroke-linecap=\"butt\" stroke-linejoin=\"round\" stroke=\"rgb(100%, 100%, 100%)\" stroke-opacity=\"1\" stroke-miterlimit=\"10\" d=\"M 56.714844 411.777344 L 498.519531 411.777344 \"/>\n",
       "</g>\n",
       "<g clip-path=\"url(#clip-2)\">\n",
       "<path fill=\"none\" stroke-width=\"0.533489\" stroke-linecap=\"butt\" stroke-linejoin=\"round\" stroke=\"rgb(100%, 100%, 100%)\" stroke-opacity=\"1\" stroke-miterlimit=\"10\" d=\"M 56.714844 306.96875 L 498.519531 306.96875 \"/>\n",
       "</g>\n",
       "<g clip-path=\"url(#clip-3)\">\n",
       "<path fill=\"none\" stroke-width=\"0.533489\" stroke-linecap=\"butt\" stroke-linejoin=\"round\" stroke=\"rgb(100%, 100%, 100%)\" stroke-opacity=\"1\" stroke-miterlimit=\"10\" d=\"M 56.714844 202.160156 L 498.519531 202.160156 \"/>\n",
       "</g>\n",
       "<g clip-path=\"url(#clip-4)\">\n",
       "<path fill=\"none\" stroke-width=\"0.533489\" stroke-linecap=\"butt\" stroke-linejoin=\"round\" stroke=\"rgb(100%, 100%, 100%)\" stroke-opacity=\"1\" stroke-miterlimit=\"10\" d=\"M 56.714844 97.347656 L 498.519531 97.347656 \"/>\n",
       "</g>\n",
       "<g clip-path=\"url(#clip-5)\">\n",
       "<path fill=\"none\" stroke-width=\"0.533489\" stroke-linecap=\"butt\" stroke-linejoin=\"round\" stroke=\"rgb(100%, 100%, 100%)\" stroke-opacity=\"1\" stroke-miterlimit=\"10\" d=\"M 116.960938 485.585938 L 116.960938 23.960938 \"/>\n",
       "</g>\n",
       "<g clip-path=\"url(#clip-6)\">\n",
       "<path fill=\"none\" stroke-width=\"0.533489\" stroke-linecap=\"butt\" stroke-linejoin=\"round\" stroke=\"rgb(100%, 100%, 100%)\" stroke-opacity=\"1\" stroke-miterlimit=\"10\" d=\"M 224.066406 485.585938 L 224.066406 23.960938 \"/>\n",
       "</g>\n",
       "<g clip-path=\"url(#clip-7)\">\n",
       "<path fill=\"none\" stroke-width=\"0.533489\" stroke-linecap=\"butt\" stroke-linejoin=\"round\" stroke=\"rgb(100%, 100%, 100%)\" stroke-opacity=\"1\" stroke-miterlimit=\"10\" d=\"M 331.167969 485.585938 L 331.167969 23.960938 \"/>\n",
       "</g>\n",
       "<g clip-path=\"url(#clip-8)\">\n",
       "<path fill=\"none\" stroke-width=\"0.533489\" stroke-linecap=\"butt\" stroke-linejoin=\"round\" stroke=\"rgb(100%, 100%, 100%)\" stroke-opacity=\"1\" stroke-miterlimit=\"10\" d=\"M 438.273438 485.585938 L 438.273438 23.960938 \"/>\n",
       "</g>\n",
       "<g clip-path=\"url(#clip-9)\">\n",
       "<path fill=\"none\" stroke-width=\"1.066978\" stroke-linecap=\"butt\" stroke-linejoin=\"round\" stroke=\"rgb(100%, 100%, 100%)\" stroke-opacity=\"1\" stroke-miterlimit=\"10\" d=\"M 56.714844 464.183594 L 498.519531 464.183594 \"/>\n",
       "</g>\n",
       "<g clip-path=\"url(#clip-10)\">\n",
       "<path fill=\"none\" stroke-width=\"1.066978\" stroke-linecap=\"butt\" stroke-linejoin=\"round\" stroke=\"rgb(100%, 100%, 100%)\" stroke-opacity=\"1\" stroke-miterlimit=\"10\" d=\"M 56.714844 359.375 L 498.519531 359.375 \"/>\n",
       "</g>\n",
       "<g clip-path=\"url(#clip-11)\">\n",
       "<path fill=\"none\" stroke-width=\"1.066978\" stroke-linecap=\"butt\" stroke-linejoin=\"round\" stroke=\"rgb(100%, 100%, 100%)\" stroke-opacity=\"1\" stroke-miterlimit=\"10\" d=\"M 56.714844 254.5625 L 498.519531 254.5625 \"/>\n",
       "</g>\n",
       "<g clip-path=\"url(#clip-12)\">\n",
       "<path fill=\"none\" stroke-width=\"1.066978\" stroke-linecap=\"butt\" stroke-linejoin=\"round\" stroke=\"rgb(100%, 100%, 100%)\" stroke-opacity=\"1\" stroke-miterlimit=\"10\" d=\"M 56.714844 149.753906 L 498.519531 149.753906 \"/>\n",
       "</g>\n",
       "<g clip-path=\"url(#clip-13)\">\n",
       "<path fill=\"none\" stroke-width=\"1.066978\" stroke-linecap=\"butt\" stroke-linejoin=\"round\" stroke=\"rgb(100%, 100%, 100%)\" stroke-opacity=\"1\" stroke-miterlimit=\"10\" d=\"M 56.714844 44.945312 L 498.519531 44.945312 \"/>\n",
       "</g>\n",
       "<g clip-path=\"url(#clip-14)\">\n",
       "<path fill=\"none\" stroke-width=\"1.066978\" stroke-linecap=\"butt\" stroke-linejoin=\"round\" stroke=\"rgb(100%, 100%, 100%)\" stroke-opacity=\"1\" stroke-miterlimit=\"10\" d=\"M 63.40625 485.585938 L 63.40625 23.960938 \"/>\n",
       "</g>\n",
       "<g clip-path=\"url(#clip-15)\">\n",
       "<path fill=\"none\" stroke-width=\"1.066978\" stroke-linecap=\"butt\" stroke-linejoin=\"round\" stroke=\"rgb(100%, 100%, 100%)\" stroke-opacity=\"1\" stroke-miterlimit=\"10\" d=\"M 170.511719 485.585938 L 170.511719 23.960938 \"/>\n",
       "</g>\n",
       "<g clip-path=\"url(#clip-16)\">\n",
       "<path fill=\"none\" stroke-width=\"1.066978\" stroke-linecap=\"butt\" stroke-linejoin=\"round\" stroke=\"rgb(100%, 100%, 100%)\" stroke-opacity=\"1\" stroke-miterlimit=\"10\" d=\"M 277.617188 485.585938 L 277.617188 23.960938 \"/>\n",
       "</g>\n",
       "<g clip-path=\"url(#clip-17)\">\n",
       "<path fill=\"none\" stroke-width=\"1.066978\" stroke-linecap=\"butt\" stroke-linejoin=\"round\" stroke=\"rgb(100%, 100%, 100%)\" stroke-opacity=\"1\" stroke-miterlimit=\"10\" d=\"M 384.722656 485.585938 L 384.722656 23.960938 \"/>\n",
       "</g>\n",
       "<g clip-path=\"url(#clip-18)\">\n",
       "<path fill=\"none\" stroke-width=\"1.066978\" stroke-linecap=\"butt\" stroke-linejoin=\"round\" stroke=\"rgb(100%, 100%, 100%)\" stroke-opacity=\"1\" stroke-miterlimit=\"10\" d=\"M 491.828125 485.585938 L 491.828125 23.960938 \"/>\n",
       "</g>\n",
       "<path fill-rule=\"nonzero\" fill=\"rgb(20%, 20%, 20%)\" fill-opacity=\"1\" stroke-width=\"0.708661\" stroke-linecap=\"round\" stroke-linejoin=\"round\" stroke=\"rgb(20%, 20%, 20%)\" stroke-opacity=\"1\" stroke-miterlimit=\"10\" d=\"M 279.570312 443.222656 C 279.570312 445.828125 275.660156 445.828125 275.660156 443.222656 C 275.660156 440.617188 279.570312 440.617188 279.570312 443.222656 \"/>\n",
       "<path fill-rule=\"nonzero\" fill=\"rgb(20%, 20%, 20%)\" fill-opacity=\"1\" stroke-width=\"0.708661\" stroke-linecap=\"round\" stroke-linejoin=\"round\" stroke=\"rgb(20%, 20%, 20%)\" stroke-opacity=\"1\" stroke-miterlimit=\"10\" d=\"M 279.570312 430.644531 C 279.570312 433.25 275.660156 433.25 275.660156 430.644531 C 275.660156 428.039062 279.570312 428.039062 279.570312 430.644531 \"/>\n",
       "<path fill-rule=\"nonzero\" fill=\"rgb(20%, 20%, 20%)\" fill-opacity=\"1\" stroke-width=\"0.708661\" stroke-linecap=\"round\" stroke-linejoin=\"round\" stroke=\"rgb(20%, 20%, 20%)\" stroke-opacity=\"1\" stroke-miterlimit=\"10\" d=\"M 279.570312 254.5625 C 279.570312 257.171875 275.660156 257.171875 275.660156 254.5625 C 275.660156 251.957031 279.570312 251.957031 279.570312 254.5625 \"/>\n",
       "<path fill-rule=\"nonzero\" fill=\"rgb(20%, 20%, 20%)\" fill-opacity=\"1\" stroke-width=\"0.708661\" stroke-linecap=\"round\" stroke-linejoin=\"round\" stroke=\"rgb(20%, 20%, 20%)\" stroke-opacity=\"1\" stroke-miterlimit=\"10\" d=\"M 279.570312 413.875 C 279.570312 416.480469 275.660156 416.480469 275.660156 413.875 C 275.660156 411.269531 279.570312 411.269531 279.570312 413.875 \"/>\n",
       "<path fill-rule=\"nonzero\" fill=\"rgb(20%, 20%, 20%)\" fill-opacity=\"1\" stroke-width=\"0.708661\" stroke-linecap=\"round\" stroke-linejoin=\"round\" stroke=\"rgb(20%, 20%, 20%)\" stroke-opacity=\"1\" stroke-miterlimit=\"10\" d=\"M 279.570312 44.945312 C 279.570312 47.550781 275.660156 47.550781 275.660156 44.945312 C 275.660156 42.339844 279.570312 42.339844 279.570312 44.945312 \"/>\n",
       "<path fill-rule=\"nonzero\" fill=\"rgb(20%, 20%, 20%)\" fill-opacity=\"1\" stroke-width=\"0.708661\" stroke-linecap=\"round\" stroke-linejoin=\"round\" stroke=\"rgb(20%, 20%, 20%)\" stroke-opacity=\"1\" stroke-miterlimit=\"10\" d=\"M 279.570312 359.375 C 279.570312 361.980469 275.660156 361.980469 275.660156 359.375 C 275.660156 356.769531 279.570312 356.769531 279.570312 359.375 \"/>\n",
       "<path fill=\"none\" stroke-width=\"1.066978\" stroke-linecap=\"butt\" stroke-linejoin=\"round\" stroke=\"rgb(20%, 20%, 20%)\" stroke-opacity=\"1\" stroke-miterlimit=\"10\" d=\"M 277.617188 461.273438 L 277.617188 459.746094 \"/>\n",
       "<path fill=\"none\" stroke-width=\"1.066978\" stroke-linecap=\"butt\" stroke-linejoin=\"round\" stroke=\"rgb(20%, 20%, 20%)\" stroke-opacity=\"1\" stroke-miterlimit=\"10\" d=\"M 277.617188 462.664062 L 277.617188 464.601562 \"/>\n",
       "<path fill-rule=\"nonzero\" fill=\"rgb(100%, 100%, 100%)\" fill-opacity=\"1\" stroke-width=\"1.066978\" stroke-linecap=\"butt\" stroke-linejoin=\"miter\" stroke=\"rgb(20%, 20%, 20%)\" stroke-opacity=\"1\" stroke-miterlimit=\"10\" d=\"M 76.796875 461.273438 L 76.796875 462.664062 L 478.4375 462.664062 L 478.4375 461.273438 Z M 76.796875 461.273438 \"/>\n",
       "<path fill=\"none\" stroke-width=\"2.133957\" stroke-linecap=\"butt\" stroke-linejoin=\"miter\" stroke=\"rgb(20%, 20%, 20%)\" stroke-opacity=\"1\" stroke-miterlimit=\"10\" d=\"M 76.796875 461.957031 L 478.4375 461.957031 \"/>\n",
       "<g fill=\"rgb(30.196078%, 30.196078%, 30.196078%)\" fill-opacity=\"1\">\n",
       "<use xlink:href=\"#glyph-0-0\" x=\"46.78125\" y=\"467.649414\"/>\n",
       "</g>\n",
       "<g fill=\"rgb(30.196078%, 30.196078%, 30.196078%)\" fill-opacity=\"1\">\n",
       "<use xlink:href=\"#glyph-0-1\" x=\"26.78125\" y=\"362.84082\"/>\n",
       "<use xlink:href=\"#glyph-0-2\" x=\"31.78125\" y=\"362.84082\"/>\n",
       "<use xlink:href=\"#glyph-0-0\" x=\"36.78125\" y=\"362.84082\"/>\n",
       "<use xlink:href=\"#glyph-0-0\" x=\"41.78125\" y=\"362.84082\"/>\n",
       "<use xlink:href=\"#glyph-0-0\" x=\"46.78125\" y=\"362.84082\"/>\n",
       "</g>\n",
       "<g fill=\"rgb(30.196078%, 30.196078%, 30.196078%)\" fill-opacity=\"1\">\n",
       "<use xlink:href=\"#glyph-0-2\" x=\"26.78125\" y=\"258.02832\"/>\n",
       "<use xlink:href=\"#glyph-0-0\" x=\"31.78125\" y=\"258.02832\"/>\n",
       "<use xlink:href=\"#glyph-0-0\" x=\"36.78125\" y=\"258.02832\"/>\n",
       "<use xlink:href=\"#glyph-0-0\" x=\"41.78125\" y=\"258.02832\"/>\n",
       "<use xlink:href=\"#glyph-0-0\" x=\"46.78125\" y=\"258.02832\"/>\n",
       "</g>\n",
       "<g fill=\"rgb(30.196078%, 30.196078%, 30.196078%)\" fill-opacity=\"1\">\n",
       "<use xlink:href=\"#glyph-0-3\" x=\"26.78125\" y=\"153.219727\"/>\n",
       "<use xlink:href=\"#glyph-0-2\" x=\"31.78125\" y=\"153.219727\"/>\n",
       "<use xlink:href=\"#glyph-0-0\" x=\"36.78125\" y=\"153.219727\"/>\n",
       "<use xlink:href=\"#glyph-0-0\" x=\"41.78125\" y=\"153.219727\"/>\n",
       "<use xlink:href=\"#glyph-0-0\" x=\"46.78125\" y=\"153.219727\"/>\n",
       "</g>\n",
       "<g fill=\"rgb(30.196078%, 30.196078%, 30.196078%)\" fill-opacity=\"1\">\n",
       "<use xlink:href=\"#glyph-0-4\" x=\"21.78125\" y=\"48.411133\"/>\n",
       "<use xlink:href=\"#glyph-0-0\" x=\"26.78125\" y=\"48.411133\"/>\n",
       "<use xlink:href=\"#glyph-0-0\" x=\"31.78125\" y=\"48.411133\"/>\n",
       "<use xlink:href=\"#glyph-0-0\" x=\"36.78125\" y=\"48.411133\"/>\n",
       "<use xlink:href=\"#glyph-0-0\" x=\"41.78125\" y=\"48.411133\"/>\n",
       "<use xlink:href=\"#glyph-0-0\" x=\"46.78125\" y=\"48.411133\"/>\n",
       "</g>\n",
       "<path fill=\"none\" stroke-width=\"1.066978\" stroke-linecap=\"butt\" stroke-linejoin=\"round\" stroke=\"rgb(20%, 20%, 20%)\" stroke-opacity=\"1\" stroke-miterlimit=\"10\" d=\"M 53.972656 464.183594 L 56.714844 464.183594 \"/>\n",
       "<path fill=\"none\" stroke-width=\"1.066978\" stroke-linecap=\"butt\" stroke-linejoin=\"round\" stroke=\"rgb(20%, 20%, 20%)\" stroke-opacity=\"1\" stroke-miterlimit=\"10\" d=\"M 53.972656 359.375 L 56.714844 359.375 \"/>\n",
       "<path fill=\"none\" stroke-width=\"1.066978\" stroke-linecap=\"butt\" stroke-linejoin=\"round\" stroke=\"rgb(20%, 20%, 20%)\" stroke-opacity=\"1\" stroke-miterlimit=\"10\" d=\"M 53.972656 254.5625 L 56.714844 254.5625 \"/>\n",
       "<path fill=\"none\" stroke-width=\"1.066978\" stroke-linecap=\"butt\" stroke-linejoin=\"round\" stroke=\"rgb(20%, 20%, 20%)\" stroke-opacity=\"1\" stroke-miterlimit=\"10\" d=\"M 53.972656 149.753906 L 56.714844 149.753906 \"/>\n",
       "<path fill=\"none\" stroke-width=\"1.066978\" stroke-linecap=\"butt\" stroke-linejoin=\"round\" stroke=\"rgb(20%, 20%, 20%)\" stroke-opacity=\"1\" stroke-miterlimit=\"10\" d=\"M 53.972656 44.945312 L 56.714844 44.945312 \"/>\n",
       "<path fill=\"none\" stroke-width=\"1.066978\" stroke-linecap=\"butt\" stroke-linejoin=\"round\" stroke=\"rgb(20%, 20%, 20%)\" stroke-opacity=\"1\" stroke-miterlimit=\"10\" d=\"M 63.40625 488.324219 L 63.40625 485.585938 \"/>\n",
       "<path fill=\"none\" stroke-width=\"1.066978\" stroke-linecap=\"butt\" stroke-linejoin=\"round\" stroke=\"rgb(20%, 20%, 20%)\" stroke-opacity=\"1\" stroke-miterlimit=\"10\" d=\"M 170.511719 488.324219 L 170.511719 485.585938 \"/>\n",
       "<path fill=\"none\" stroke-width=\"1.066978\" stroke-linecap=\"butt\" stroke-linejoin=\"round\" stroke=\"rgb(20%, 20%, 20%)\" stroke-opacity=\"1\" stroke-miterlimit=\"10\" d=\"M 277.617188 488.324219 L 277.617188 485.585938 \"/>\n",
       "<path fill=\"none\" stroke-width=\"1.066978\" stroke-linecap=\"butt\" stroke-linejoin=\"round\" stroke=\"rgb(20%, 20%, 20%)\" stroke-opacity=\"1\" stroke-miterlimit=\"10\" d=\"M 384.722656 488.324219 L 384.722656 485.585938 \"/>\n",
       "<path fill=\"none\" stroke-width=\"1.066978\" stroke-linecap=\"butt\" stroke-linejoin=\"round\" stroke=\"rgb(20%, 20%, 20%)\" stroke-opacity=\"1\" stroke-miterlimit=\"10\" d=\"M 491.828125 488.324219 L 491.828125 485.585938 \"/>\n",
       "<g fill=\"rgb(30.196078%, 30.196078%, 30.196078%)\" fill-opacity=\"1\">\n",
       "<use xlink:href=\"#glyph-0-5\" x=\"55.90625\" y=\"497.485352\"/>\n",
       "<use xlink:href=\"#glyph-0-0\" x=\"58.90625\" y=\"497.485352\"/>\n",
       "<use xlink:href=\"#glyph-0-6\" x=\"63.90625\" y=\"497.485352\"/>\n",
       "<use xlink:href=\"#glyph-0-7\" x=\"65.90625\" y=\"497.485352\"/>\n",
       "</g>\n",
       "<g fill=\"rgb(30.196078%, 30.196078%, 30.196078%)\" fill-opacity=\"1\">\n",
       "<use xlink:href=\"#glyph-0-5\" x=\"163.011719\" y=\"497.485352\"/>\n",
       "<use xlink:href=\"#glyph-0-0\" x=\"166.011719\" y=\"497.485352\"/>\n",
       "<use xlink:href=\"#glyph-0-6\" x=\"171.011719\" y=\"497.485352\"/>\n",
       "<use xlink:href=\"#glyph-0-1\" x=\"173.011719\" y=\"497.485352\"/>\n",
       "</g>\n",
       "<g fill=\"rgb(30.196078%, 30.196078%, 30.196078%)\" fill-opacity=\"1\">\n",
       "<use xlink:href=\"#glyph-0-0\" x=\"271.617188\" y=\"497.485352\"/>\n",
       "<use xlink:href=\"#glyph-0-6\" x=\"276.617188\" y=\"497.485352\"/>\n",
       "<use xlink:href=\"#glyph-0-0\" x=\"278.617188\" y=\"497.485352\"/>\n",
       "</g>\n",
       "<g fill=\"rgb(30.196078%, 30.196078%, 30.196078%)\" fill-opacity=\"1\">\n",
       "<use xlink:href=\"#glyph-0-0\" x=\"378.722656\" y=\"497.485352\"/>\n",
       "<use xlink:href=\"#glyph-0-6\" x=\"383.722656\" y=\"497.485352\"/>\n",
       "<use xlink:href=\"#glyph-0-1\" x=\"385.722656\" y=\"497.485352\"/>\n",
       "</g>\n",
       "<g fill=\"rgb(30.196078%, 30.196078%, 30.196078%)\" fill-opacity=\"1\">\n",
       "<use xlink:href=\"#glyph-0-0\" x=\"485.828125\" y=\"497.485352\"/>\n",
       "<use xlink:href=\"#glyph-0-6\" x=\"490.828125\" y=\"497.485352\"/>\n",
       "<use xlink:href=\"#glyph-0-7\" x=\"492.828125\" y=\"497.485352\"/>\n",
       "</g>\n",
       "<g fill=\"rgb(0%, 0%, 0%)\" fill-opacity=\"1\">\n",
       "<use xlink:href=\"#glyph-1-0\" x=\"13.438477\" y=\"289.773438\"/>\n",
       "<use xlink:href=\"#glyph-1-1\" x=\"13.438477\" y=\"282.773438\"/>\n",
       "<use xlink:href=\"#glyph-1-2\" x=\"13.438477\" y=\"276.773438\"/>\n",
       "<use xlink:href=\"#glyph-1-3\" x=\"13.438477\" y=\"274.773438\"/>\n",
       "<use xlink:href=\"#glyph-1-4\" x=\"13.438477\" y=\"268.773438\"/>\n",
       "<use xlink:href=\"#glyph-1-5\" x=\"13.438477\" y=\"262.773438\"/>\n",
       "<use xlink:href=\"#glyph-1-6\" x=\"13.438477\" y=\"256.773438\"/>\n",
       "<use xlink:href=\"#glyph-1-7\" x=\"13.438477\" y=\"249.773438\"/>\n",
       "<use xlink:href=\"#glyph-1-8\" x=\"13.438477\" y=\"240.773438\"/>\n",
       "<use xlink:href=\"#glyph-1-9\" x=\"13.438477\" y=\"234.773438\"/>\n",
       "<use xlink:href=\"#glyph-1-10\" x=\"13.438477\" y=\"228.773438\"/>\n",
       "<use xlink:href=\"#glyph-1-11\" x=\"13.438477\" y=\"222.773438\"/>\n",
       "</g>\n",
       "<g fill=\"rgb(0%, 0%, 0%)\" fill-opacity=\"1\">\n",
       "<use xlink:href=\"#glyph-2-0\" x=\"56.714844\" y=\"15.429688\"/>\n",
       "<use xlink:href=\"#glyph-2-1\" x=\"65.714844\" y=\"15.429688\"/>\n",
       "<use xlink:href=\"#glyph-2-2\" x=\"72.714844\" y=\"15.429688\"/>\n",
       "<use xlink:href=\"#glyph-2-3\" x=\"79.714844\" y=\"15.429688\"/>\n",
       "<use xlink:href=\"#glyph-2-4\" x=\"86.714844\" y=\"15.429688\"/>\n",
       "<use xlink:href=\"#glyph-2-1\" x=\"89.714844\" y=\"15.429688\"/>\n",
       "<use xlink:href=\"#glyph-2-5\" x=\"96.714844\" y=\"15.429688\"/>\n",
       "<use xlink:href=\"#glyph-2-6\" x=\"100.714844\" y=\"15.429688\"/>\n",
       "<use xlink:href=\"#glyph-2-1\" x=\"104.714844\" y=\"15.429688\"/>\n",
       "<use xlink:href=\"#glyph-2-7\" x=\"111.714844\" y=\"15.429688\"/>\n",
       "<use xlink:href=\"#glyph-2-6\" x=\"115.714844\" y=\"15.429688\"/>\n",
       "<use xlink:href=\"#glyph-2-8\" x=\"119.714844\" y=\"15.429688\"/>\n",
       "<use xlink:href=\"#glyph-2-9\" x=\"128.714844\" y=\"15.429688\"/>\n",
       "<use xlink:href=\"#glyph-2-4\" x=\"135.714844\" y=\"15.429688\"/>\n",
       "<use xlink:href=\"#glyph-2-10\" x=\"138.714844\" y=\"15.429688\"/>\n",
       "<use xlink:href=\"#glyph-2-11\" x=\"145.714844\" y=\"15.429688\"/>\n",
       "<use xlink:href=\"#glyph-2-12\" x=\"152.714844\" y=\"15.429688\"/>\n",
       "<use xlink:href=\"#glyph-2-13\" x=\"159.714844\" y=\"15.429688\"/>\n",
       "<use xlink:href=\"#glyph-2-14\" x=\"168.714844\" y=\"15.429688\"/>\n",
       "<use xlink:href=\"#glyph-2-1\" x=\"179.714844\" y=\"15.429688\"/>\n",
       "<use xlink:href=\"#glyph-2-15\" x=\"186.714844\" y=\"15.429688\"/>\n",
       "<use xlink:href=\"#glyph-2-16\" x=\"193.714844\" y=\"15.429688\"/>\n",
       "<use xlink:href=\"#glyph-2-5\" x=\"200.714844\" y=\"15.429688\"/>\n",
       "</g>\n",
       "</svg>\n"
      ],
      "text/plain": [
       "plot without title"
      ]
     },
     "metadata": {
      "application/pdf": {
       "height": 420,
       "width": 420
      },
      "image/jpeg": {
       "height": 420,
       "width": 420
      },
      "image/png": {
       "height": 420,
       "width": 420
      },
      "image/svg+xml": {
       "height": 420,
       "isolated": true,
       "width": 420
      }
     },
     "output_type": "display_data"
    }
   ],
   "source": [
    "# TODO: Create a boxplot for Sales_Amount\n",
    "# Use ggplot2 to create a boxplot showing outliers\n",
    "\n",
    "boxplot_sales <- ggplot(messy_sales, aes(y = Sales_Amount)) +\n",
    "  geom_boxplot() +\n",
    "  ggtitle(\"Boxplot of Sales_Amount\") # YOUR CODE HERE\n",
    "\n",
    "# Display the plot\n",
    "print(boxplot_sales)"
   ]
  },
  {
   "cell_type": "markdown",
   "id": "00ed2ac7",
   "metadata": {},
   "source": [
    "### 3.3 Outlier Treatment - Option A (Removal)\n",
    "\n",
    "Remove rows containing outliers and assess the impact."
   ]
  },
  {
   "cell_type": "code",
   "execution_count": 94,
   "id": "0ba04465",
   "metadata": {
    "vscode": {
     "languageId": "r"
    }
   },
   "outputs": [
    {
     "name": "stdout",
     "output_type": "stream",
     "text": [
      "[1] \"Original rows: 200\"\n",
      "[1] \"After removing outliers: 172\"\n",
      "[1] \"Rows removed: 28\"\n"
     ]
    }
   ],
   "source": [
    "### TODO: Remove outliers from the imputed dataset\n",
    "sales_outliers_removed <- messy_sales %>% # YOUR CODE HERE\n",
    "# Hint: Use filter() to keep only rows within the threshold bounds\n",
    "filter(Sales_Amount<= upper_threshold & Sales_Amount >= lower_threshold)\n",
    "\n",
    "print(paste(\"Original rows:\", nrow(sales_imputed)))\n",
    "print(paste(\"After removing outliers:\", nrow(sales_outliers_removed)))\n",
    "print(paste(\"Rows removed:\", nrow(sales_imputed) - nrow(sales_outliers_removed)))"
   ]
  },
  {
   "cell_type": "code",
   "execution_count": 95,
   "id": "13f7e0cc",
   "metadata": {
    "vscode": {
     "languageId": "r"
    }
   },
   "outputs": [],
   "source": [
    "### TODO: Create a capped version of the dataset\n",
    "sales_outliers_capped <- sales_imputed"
   ]
  },
  {
   "cell_type": "code",
   "execution_count": 96,
   "id": "73cc8e4e",
   "metadata": {
    "vscode": {
     "languageId": "r"
    }
   },
   "outputs": [
    {
     "name": "stdout",
     "output_type": "stream",
     "text": [
      "[1] \"Capped sales outliers data\"\n",
      "  TransactionID Customer_Name Product_Category Sales_Amount Purchase_Date\n",
      "1             1                           Home     362.3175              \n",
      "2             2   Alice Brown         Clothing     573.0791    2023-10-21\n",
      "3             3      Jane Doe      Electronics     487.6874    2023-12-28\n",
      "4             4      Jane Doe      Electronics    5000.0000    2023-06-16\n",
      "5             5    John Smith            Books     344.1746    2023-05-05\n",
      "6             6    John Smith            Books     434.9527    2023-11-28\n",
      "  Quantity Sales_Amount_\n",
      "1        2      362.3175\n",
      "2        3      573.0791\n",
      "3       -1      487.6874\n",
      "4        7     1192.3308\n",
      "5      100      344.1746\n",
      "6        4      434.9527\n"
     ]
    }
   ],
   "source": [
    "### TODO: Apply capping to Sales_Amount\n",
    "sales_outliers_capped <- messy_sales %>% # YOUR CODE HERE\n",
    "### Hint: Use ifelse() to replace values above/below thresholds\n",
    "    mutate(Sales_Amount_ = ifelse(Sales_Amount > upper_threshold,\n",
    "                                upper_threshold,\n",
    "                                ifelse(Sales_Amount < lower_threshold,\n",
    "                                lower_threshold,\n",
    "                                Sales_Amount)))\n",
    "print(\"Capped sales outliers data\")\n",
    "print(head(sales_outliers_capped))"
   ]
  },
  {
   "cell_type": "code",
   "execution_count": 97,
   "id": "b1fd1b2e",
   "metadata": {
    "vscode": {
     "languageId": "r"
    }
   },
   "outputs": [
    {
     "name": "stdout",
     "output_type": "stream",
     "text": [
      "[1] \"Sales_Amount range after capping:\"\n",
      "[1]   -100 100000\n"
     ]
    }
   ],
   "source": [
    "### Verify capping worked\n",
    "print(\"Sales_Amount range after capping:\")\n",
    "print(range(sales_outliers_capped$Sales_Amount, na.rm = TRUE))"
   ]
  },
  {
   "cell_type": "code",
   "execution_count": 98,
   "id": "a935fdea",
   "metadata": {
    "vscode": {
     "languageId": "r"
    }
   },
   "outputs": [
    {
     "name": "stdout",
     "output_type": "stream",
     "text": [
      "[1] \"Remaining outliers after capping: 200\"\n"
     ]
    }
   ],
   "source": [
    "### Check for remaining outliers\n",
    "remaining_outliers <- messy_sales # YOUR CODE HERE\n",
    "print(paste(\"Remaining outliers after capping:\", nrow(remaining_outliers)))"
   ]
  },
  {
   "cell_type": "markdown",
   "id": "b8911b91",
   "metadata": {},
   "source": [
    "---\n",
    "\n",
    "## Part 4: Final Data Quality Assessment and Decision Making\n",
    "\n",
    "Choose your final cleaned dataset and justify your decision based on the analysis you've completed."
   ]
  },
  {
   "cell_type": "code",
   "execution_count": 99,
   "id": "668ceb90",
   "metadata": {
    "vscode": {
     "languageId": "r"
    }
   },
   "outputs": [
    {
     "name": "stdout",
     "output_type": "stream",
     "text": [
      "[1] \"=== FINAL DATASET SUMMARY ===\"\n",
      "[1] 172   6\n"
     ]
    },
    {
     "data": {
      "text/plain": [
       "   Min. 1st Qu.  Median    Mean 3rd Qu.    Max. \n",
       " -100.0   361.8   517.8   508.4   680.2  1058.3 "
      ]
     },
     "metadata": {},
     "output_type": "display_data"
    }
   ],
   "source": [
    "# TODO: Choose your final cleaned dataset\n",
    "final_dataset <- sales_outliers_removed # Choose one: messy_sales, sales_removed_na, sales_imputed, sales_outliers_removed, or sales_outliers_capped\n",
    "\n",
    "print(\"=== FINAL DATASET SUMMARY ===\")\n",
    "print(dim(final_dataset))\n",
    "summary(final_dataset$Sales_Amount)"
   ]
  },
  {
   "cell_type": "markdown",
   "id": "7f2a573a",
   "metadata": {},
   "source": [
    "**Justification for Your Choice:**\n",
    "\n",
    "[Explain why you chose this particular cleaned dataset. Consider factors like:\n",
    "- Sample size preservation\n",
    "- Data quality improvements\n",
    "- Business impact\n",
    "- Analysis requirements]\n",
    "\n",
    "**YOUR JUSTIFICATION:**\n",
    "\n",
    "[Write your detailed reasoning here]\n",
    "I decided to go with sales_outliers_removed because it seemed like the outlier sales were errors. I came to this conclusion when I was comparing the quantity and sales amounts, like Transaction_ID 5 which was $344 for 100 books which seems like a very low price for the quantity, especially compared to the other book sales data. The main focus of messy_sales is sales and having these extreme outliers which look like mistakes caused the mean sales amount to be really high compared to the median. Removing these outliers reduced the median by more than half its original size. Its important for businesses to have accurate data on the mean sales amount because it reveals the average amount a customer is spending which can impact many important things like inventory, marketing, pricing, and forecasting future sales."
   ]
  },
  {
   "cell_type": "markdown",
   "id": "d5025810",
   "metadata": {},
   "source": [
    "### 4.2 Create Comparison Summary\n",
    "\n",
    "Create a comprehensive comparison of your original and final datasets."
   ]
  },
  {
   "cell_type": "code",
   "execution_count": 100,
   "id": "b22c2b0f",
   "metadata": {
    "vscode": {
     "languageId": "r"
    }
   },
   "outputs": [
    {
     "data": {
      "text/html": [
       "200"
      ],
      "text/latex": [
       "200"
      ],
      "text/markdown": [
       "200"
      ],
      "text/plain": [
       "[1] 200"
      ]
     },
     "metadata": {},
     "output_type": "display_data"
    },
    {
     "data": {
      "text/html": [
       "22"
      ],
      "text/latex": [
       "22"
      ],
      "text/markdown": [
       "22"
      ],
      "text/plain": [
       "[1] 22"
      ]
     },
     "metadata": {},
     "output_type": "display_data"
    },
    {
     "data": {
      "text/html": [
       "1614.91"
      ],
      "text/latex": [
       "1614.91"
      ],
      "text/markdown": [
       "1614.91"
      ],
      "text/plain": [
       "[1] 1614.91"
      ]
     },
     "metadata": {},
     "output_type": "display_data"
    },
    {
     "data": {
      "text/html": [
       "531.29"
      ],
      "text/latex": [
       "531.29"
      ],
      "text/markdown": [
       "531.29"
      ],
      "text/plain": [
       "[1] 531.29"
      ]
     },
     "metadata": {},
     "output_type": "display_data"
    },
    {
     "data": {
      "text/html": [
       "'Check manually'"
      ],
      "text/latex": [
       "'Check manually'"
      ],
      "text/markdown": [
       "'Check manually'"
      ],
      "text/plain": [
       "[1] \"Check manually\""
      ]
     },
     "metadata": {},
     "output_type": "display_data"
    },
    {
     "data": {
      "text/html": [
       "172"
      ],
      "text/latex": [
       "172"
      ],
      "text/markdown": [
       "172"
      ],
      "text/plain": [
       "[1] 172"
      ]
     },
     "metadata": {},
     "output_type": "display_data"
    },
    {
     "data": {
      "text/html": [
       "0"
      ],
      "text/latex": [
       "0"
      ],
      "text/markdown": [
       "0"
      ],
      "text/plain": [
       "[1] 0"
      ]
     },
     "metadata": {},
     "output_type": "display_data"
    },
    {
     "data": {
      "text/html": [
       "508.45"
      ],
      "text/latex": [
       "508.45"
      ],
      "text/markdown": [
       "508.45"
      ],
      "text/plain": [
       "[1] 508.45"
      ]
     },
     "metadata": {},
     "output_type": "display_data"
    },
    {
     "data": {
      "text/html": [
       "517.84"
      ],
      "text/latex": [
       "517.84"
      ],
      "text/markdown": [
       "517.84"
      ],
      "text/plain": [
       "[1] 517.84"
      ]
     },
     "metadata": {},
     "output_type": "display_data"
    },
    {
     "data": {
      "text/html": [
       "'Check manually'"
      ],
      "text/latex": [
       "'Check manually'"
      ],
      "text/markdown": [
       "'Check manually'"
      ],
      "text/plain": [
       "[1] \"Check manually\""
      ]
     },
     "metadata": {},
     "output_type": "display_data"
    },
    {
     "name": "stdout",
     "output_type": "stream",
     "text": [
      "[1] \"=== DATA CLEANING COMPARISON ===\"\n",
      "    TransactionID Customer_Name Product_Category Sales_Amount Purchase_Date\n",
      "1               1                           Home    362.31745              \n",
      "2               2   Alice Brown         Clothing    573.07908    2023-10-21\n",
      "3               3      Jane Doe      Electronics    487.68744    2023-12-28\n",
      "4               5    John Smith            Books    344.17461    2023-05-05\n",
      "5               6    John Smith            Books    434.95266    2023-11-28\n",
      "6               7      Jane Doe             Home    489.08635    2023-08-17\n",
      "7               8      Jane Doe      Electronics    536.92019    2023-05-17\n",
      "8               9      Jane Doe         Clothing    793.39330    2023-08-13\n",
      "9              10      Jane Doe      electronics    649.42865    2023-10-16\n",
      "10             11   Bob Johnson      ELECTRONICS    595.72472    2023-10-20\n",
      "11             12    John Smith            Books    742.61228    2023-06-26\n",
      "12             13      Jane Doe      ELECTRONICS    730.36859    2023-05-08\n",
      "13             14   Alice Brown      electronics    675.62967    2023-12-20\n",
      "14             15    John Smith      ELECTRONICS    360.03699    2023-08-22\n",
      "15             16   Bob Johnson            Books    246.26551              \n",
      "16             17   Alice Brown      electronics    309.79852    2023-10-22\n",
      "17             19      Jane Doe      ELECTRONICS    343.87469    2023-06-22\n",
      "18             20      Jane Doe      ELECTRONICS    715.32581    2023-01-25\n",
      "19             21                          Books    483.11799    2023-04-04\n",
      "20             22   Bob Johnson            Books    455.58456    2023-03-05\n",
      "21             24      Jane Doe         Clothing    690.48218    2023-08-08\n",
      "22             25      Jane Doe      ELECTRONICS    334.70565    2023-12-05\n",
      "23             26                       Clothing    531.22891    2023-09-12\n",
      "24             27   Alice Brown      ELECTRONICS    604.59384    2023-03-09\n",
      "25             28      Jane Doe      electronics    689.91677    2023-09-02\n",
      "26             29   Alice Brown             Home    549.75283    2023-10-01\n",
      "27             30   Alice Brown            Books    410.87530    2023-01-22\n",
      "28             31      Jane Doe            Books    714.76140              \n",
      "29             32    John Smith      electronics    313.95136    2023-10-05\n",
      "30             33   Bob Johnson             Home    430.86480    2023-03-14\n",
      "31             34   Alice Brown      electronics    564.04271    2023-06-16\n",
      "32             35    John Smith         Clothing    863.49333    2023-07-09\n",
      "33             36      Jane Doe            Books    759.72988    2023-04-24\n",
      "34             37   Bob Johnson             Home    442.95419    2023-11-03\n",
      "35             38   Bob Johnson            Books    888.19199    2023-01-17\n",
      "36             39    John Smith      electronics    801.93558    2023-08-26\n",
      "37             40   Alice Brown             Home    440.76240    2023-09-16\n",
      "38             41                    ELECTRONICS    788.74566    2023-11-04\n",
      "39             42   Alice Brown         Clothing    453.04844    2023-05-28\n",
      "40             44    John Smith             Home    583.29064    2023-10-25\n",
      "41             47    John Smith      electronics    726.03517    2023-07-17\n",
      "42             49    John Smith      ELECTRONICS    506.81020    2023-12-19\n",
      "43             50      Jane Doe             Home    734.26616    2023-02-02\n",
      "44             51                    ELECTRONICS    288.46938    2023-05-10\n",
      "45             52    John Smith      electronics    777.83666    2023-05-26\n",
      "46             53   Alice Brown         Clothing    469.85278    2023-03-28\n",
      "47             54   Alice Brown         Clothing    577.20015    2023-08-02\n",
      "48             55   Alice Brown      Electronics    519.89664    2023-07-03\n",
      "49             56   Bob Johnson      Electronics    835.17601    2023-08-06\n",
      "50             57    John Smith      ELECTRONICS    824.89897    2023-01-23\n",
      "51             59   Bob Johnson            Books    613.65223    2023-01-07\n",
      "52             60      Jane Doe            Books    615.29837    2023-09-12\n",
      "53             62    John Smith      Electronics    565.88355    2023-03-26\n",
      "54             63    John Smith         Clothing    410.04333    2023-04-12\n",
      "55             64   Bob Johnson      ELECTRONICS    496.45877    2023-01-24\n",
      "56             65   Bob Johnson            Books    768.45017    2023-05-18\n",
      "57             66   Bob Johnson      ELECTRONICS    734.49583    2023-09-26\n",
      "58             67   Alice Brown      Electronics    227.29199    2023-03-26\n",
      "59             68    John Smith         Clothing    809.03927    2023-09-29\n",
      "60             69      Jane Doe         Clothing    640.65134    2023-04-10\n",
      "61             70    John Smith         Clothing    277.75469    2023-06-05\n",
      "62             71   Bob Johnson      ELECTRONICS    101.06294    2023-09-13\n",
      "63             72      Jane Doe      Electronics    781.06214    2023-08-28\n",
      "64             74      Jane Doe      Electronics    531.35555    2023-05-25\n",
      "65             75   Alice Brown      electronics    261.73370    2023-09-28\n",
      "66             76                    electronics    388.89855              \n",
      "67             77    John Smith      Electronics    417.07484    2023-02-22\n",
      "68             78    John Smith            Books    603.38144    2023-08-15\n",
      "69             79   Bob Johnson         Clothing    570.80372    2023-11-10\n",
      "70             80      Jane Doe      electronics    839.63553    2023-10-07\n",
      "71             81                    electronics    268.86894    2023-10-13\n",
      "72             83    John Smith      electronics    469.74181    2023-04-10\n",
      "73             84      Jane Doe             Home    895.54893    2023-09-24\n",
      "74             85    John Smith             Home    562.26429    2023-02-04\n",
      "75             86      Jane Doe      electronics    601.36825    2023-11-22\n",
      "76             87   Alice Brown            Books    398.44345    2023-07-20\n",
      "77             88    John Smith             Home    837.27767    2023-07-28\n",
      "78             91   Alice Brown         Clothing    550.23552              \n",
      "79             92   Bob Johnson      electronics    294.93889    2023-10-19\n",
      "80             93      Jane Doe             Home    431.38446    2023-08-10\n",
      "81             94   Alice Brown      ELECTRONICS    390.03799    2023-12-01\n",
      "82             95    John Smith            Books    196.54188    2023-08-12\n",
      "83             97   Bob Johnson      Electronics    761.03165    2023-07-02\n",
      "84             98    John Smith      Electronics    573.34918    2023-03-20\n",
      "85             99      Jane Doe             Home    101.19548    2023-09-10\n",
      "86            101                    electronics    587.93286    2023-04-10\n",
      "87            103   Bob Johnson      electronics    420.45700    2023-05-04\n",
      "88            104   Bob Johnson      Electronics    346.78237    2023-01-20\n",
      "89            105      Jane Doe      Electronics    658.63674    2023-05-06\n",
      "90            106    John Smith         Clothing    409.79823              \n",
      "91            107    John Smith      Electronics    773.39146    2023-02-07\n",
      "92            108      Jane Doe      Electronics    362.21612    2023-07-26\n",
      "93            109    John Smith         Clothing    590.31563    2023-01-14\n",
      "94            110   Alice Brown      electronics    410.52397    2023-01-06\n",
      "95            111      Jane Doe      Electronics   1058.27747    2023-07-31\n",
      "96            113      Jane Doe      electronics    353.43484    2023-06-14\n",
      "97            114   Alice Brown      ELECTRONICS     29.54340    2023-10-08\n",
      "98            115   Bob Johnson            Books    827.48824    2023-01-16\n",
      "99            117    John Smith         Clothing    158.36953    2023-05-07\n",
      "100           118    John Smith      electronics      0.00000    2023-08-12\n",
      "101           119    John Smith             Home    735.24004    2023-12-24\n",
      "102           120    John Smith            Books    239.14374    2023-05-30\n",
      "103           121                    Electronics   -100.00000              \n",
      "104           122   Alice Brown             Home    792.80142    2023-06-05\n",
      "105           123   Alice Brown      electronics    191.13720    2023-02-27\n",
      "106           124   Alice Brown      electronics    306.18832    2023-05-25\n",
      "107           125    John Smith      electronics    537.21472    2023-12-10\n",
      "108           126                           Home    433.43557    2023-11-26\n",
      "109           127    John Smith      electronics    194.09321    2023-06-16\n",
      "110           128    John Smith            Books    776.07924    2023-04-19\n",
      "111           129   Bob Johnson             Home    817.39074    2023-09-21\n",
      "112           130   Bob Johnson      ELECTRONICS    430.56969    2023-01-14\n",
      "113           131      Jane Doe            Books    421.48859    2023-07-05\n",
      "114           132    John Smith      ELECTRONICS    881.22385    2023-03-20\n",
      "115           133      Jane Doe      ELECTRONICS    352.85636    2023-08-27\n",
      "116           135    John Smith      electronics    639.68179    2023-08-01\n",
      "117           136   Bob Johnson            Books    593.64283              \n",
      "118           137   Alice Brown             Home    654.22634    2023-09-19\n",
      "119           138   Alice Brown      electronics    900.44590    2023-12-06\n",
      "120           139   Bob Johnson      Electronics    105.64775    2023-08-11\n",
      "121           140      Jane Doe         Clothing    -56.71519    2023-07-20\n",
      "122           141                    Electronics    748.12005    2023-10-14\n",
      "123           142   Bob Johnson             Home    679.59139    2023-04-07\n",
      "124           143      Jane Doe      electronics    544.39983    2023-07-19\n",
      "125           144    John Smith             Home    310.62005    2023-02-09\n",
      "126           145    John Smith      electronics    629.19766    2023-09-12\n",
      "127           147   Bob Johnson         Clothing    690.30942    2023-05-27\n",
      "128           148   Alice Brown            Books    610.17876    2023-03-13\n",
      "129           149   Alice Brown            Books    785.89134    2023-09-01\n",
      "130           150   Alice Brown            Books    793.30445    2023-02-24\n",
      "131           151                    ELECTRONICS    442.89193              \n",
      "132           152   Bob Johnson         Clothing    388.03480    2023-03-04\n",
      "133           153   Bob Johnson      ELECTRONICS    601.31744    2023-08-24\n",
      "134           154   Bob Johnson             Home    222.30413    2023-06-30\n",
      "135           155   Bob Johnson      Electronics    202.88536    2023-10-10\n",
      "136           156   Alice Brown      Electronics    380.98084    2023-11-11\n",
      "137           157   Alice Brown      Electronics    542.00288    2023-01-09\n",
      "138           158   Alice Brown         Clothing    255.62141    2023-08-16\n",
      "139           160    John Smith             Home    286.27626    2023-06-30\n",
      "140           164      Jane Doe      Electronics    585.37292    2023-07-19\n",
      "141           165    John Smith      Electronics    359.34263    2023-01-25\n",
      "142           166    John Smith         Clothing    653.59183              \n",
      "143           168    John Smith             Home     85.02070    2023-02-18\n",
      "144           169   Alice Brown      ELECTRONICS    523.17536    2023-10-31\n",
      "145           170   Bob Johnson             Home    513.97140    2023-12-07\n",
      "146           171    John Smith      ELECTRONICS    366.98752    2023-06-16\n",
      "147           172    John Smith             Home    248.33947    2023-02-12\n",
      "148           173      Jane Doe      electronics    282.85194    2023-12-09\n",
      "149           174   Alice Brown             Home    515.78908    2023-04-16\n",
      "150           175      Jane Doe         Clothing    651.60904    2023-07-16\n",
      "151           176                       Clothing    494.38063    2023-04-03\n",
      "152           178   Bob Johnson      Electronics    221.35168    2023-03-06\n",
      "153           179   Bob Johnson             Home    634.06260    2023-09-01\n",
      "154           180      Jane Doe             Home    681.96948    2023-03-13\n",
      "155           181                    ELECTRONICS    443.66205              \n",
      "156           182   Alice Brown      ELECTRONICS    745.90477    2023-03-25\n",
      "157           183      Jane Doe             Home    433.90827    2023-02-14\n",
      "158           184   Bob Johnson         Clothing    459.32576    2023-06-19\n",
      "159           185   Bob Johnson         Clothing    716.99763    2023-01-17\n",
      "160           186    John Smith             Home    363.36029    2023-02-20\n",
      "161           187   Bob Johnson      Electronics    537.74887    2023-03-16\n",
      "162           188   Bob Johnson      ELECTRONICS     43.09474    2023-04-23\n",
      "163           189    John Smith      Electronics    591.07809    2023-08-23\n",
      "164           190    John Smith         Clothing    695.81159    2023-08-09\n",
      "165           191   Alice Brown      electronics    220.83993    2023-04-13\n",
      "166           192   Alice Brown             Home    382.82309    2023-12-05\n",
      "167           193   Bob Johnson         Clothing     78.67496    2023-07-27\n",
      "168           194   Alice Brown             Home    360.51964    2023-01-31\n",
      "169           196      Jane Doe         Clothing    399.55400              \n",
      "170           198      Jane Doe      electronics    823.85020    2023-08-25\n",
      "171           199      Jane Doe         Clothing    479.31760    2023-12-23\n",
      "172           200    John Smith            Books    478.78208    2023-02-16\n",
      "    Quantity\n",
      "1          2\n",
      "2          3\n",
      "3         -1\n",
      "4        100\n",
      "5          4\n",
      "6          0\n",
      "7          7\n",
      "8          3\n",
      "9          2\n",
      "10         5\n",
      "11         7\n",
      "12       100\n",
      "13       100\n",
      "14         2\n",
      "15         4\n",
      "16       100\n",
      "17         4\n",
      "18         6\n",
      "19         8\n",
      "20         0\n",
      "21         8\n",
      "22         1\n",
      "23         4\n",
      "24       100\n",
      "25         6\n",
      "26         2\n",
      "27         8\n",
      "28        10\n",
      "29         2\n",
      "30         5\n",
      "31        -1\n",
      "32        10\n",
      "33         0\n",
      "34        10\n",
      "35         7\n",
      "36         8\n",
      "37         3\n",
      "38         4\n",
      "39         0\n",
      "40         2\n",
      "41         6\n",
      "42         1\n",
      "43         0\n",
      "44        -1\n",
      "45        -1\n",
      "46         7\n",
      "47        -1\n",
      "48         4\n",
      "49         8\n",
      "50         4\n",
      "51         1\n",
      "52         3\n",
      "53         5\n",
      "54         5\n",
      "55         3\n",
      "56       100\n",
      "57       100\n",
      "58         0\n",
      "59         0\n",
      "60         9\n",
      "61        -1\n",
      "62       100\n",
      "63         0\n",
      "64       100\n",
      "65        10\n",
      "66         6\n",
      "67         3\n",
      "68         0\n",
      "69         0\n",
      "70         2\n",
      "71         7\n",
      "72        10\n",
      "73         3\n",
      "74         9\n",
      "75         5\n",
      "76         1\n",
      "77         2\n",
      "78        -1\n",
      "79         5\n",
      "80         5\n",
      "81         2\n",
      "82         2\n",
      "83         5\n",
      "84        -1\n",
      "85        10\n",
      "86       100\n",
      "87         7\n",
      "88         8\n",
      "89         3\n",
      "90         5\n",
      "91        10\n",
      "92         3\n",
      "93        10\n",
      "94         9\n",
      "95         5\n",
      "96         4\n",
      "97       100\n",
      "98         1\n",
      "99         0\n",
      "100        7\n",
      "101        8\n",
      "102        2\n",
      "103        4\n",
      "104        5\n",
      "105        7\n",
      "106       -1\n",
      "107        1\n",
      "108       10\n",
      "109        3\n",
      "110        7\n",
      "111        4\n",
      "112        8\n",
      "113       10\n",
      "114       10\n",
      "115        7\n",
      "116        9\n",
      "117        2\n",
      "118       10\n",
      "119        0\n",
      "120        4\n",
      "121        7\n",
      "122        5\n",
      "123        6\n",
      "124        2\n",
      "125        0\n",
      "126        9\n",
      "127      100\n",
      "128        7\n",
      "129        3\n",
      "130        5\n",
      "131        7\n",
      "132        9\n",
      "133        2\n",
      "134        8\n",
      "135       -1\n",
      "136        5\n",
      "137        0\n",
      "138       10\n",
      "139      100\n",
      "140        1\n",
      "141        1\n",
      "142        4\n",
      "143        0\n",
      "144        5\n",
      "145       10\n",
      "146      100\n",
      "147        5\n",
      "148        3\n",
      "149        2\n",
      "150        9\n",
      "151        3\n",
      "152        7\n",
      "153        5\n",
      "154       10\n",
      "155        5\n",
      "156      100\n",
      "157        7\n",
      "158       10\n",
      "159        8\n",
      "160       -1\n",
      "161        1\n",
      "162        8\n",
      "163        3\n",
      "164       -1\n",
      "165        7\n",
      "166        3\n",
      "167        2\n",
      "168        3\n",
      "169        2\n",
      "170        9\n",
      "171      100\n",
      "172       10\n"
     ]
    }
   ],
   "source": [
    "# Create comparison summary\n",
    "comparison_summary <- data.frame(sales_outliers_removed)\n",
    "  Metric = c(\"Number of Rows\", \"Missing Values\", \"Mean Sales_Amount\", \"Median Sales_Amount\", \"Outliers\")\n",
    "  Original_Data = c(sales_outliers_removed)\n",
    "    nrow(messy_sales)\n",
    "    sum(is.na(messy_sales))\n",
    "    round(mean(messy_sales$Sales_Amount, na.rm = TRUE), 2)\n",
    "    round(median(messy_sales$Sales_Amount, na.rm = TRUE), 2)\n",
    "    \"Check manually\" # TODO: Calculate this\n",
    "    \n",
    "  Final_Data = c(sales_outliers_removed)\n",
    "    nrow(final_dataset)\n",
    "    sum(is.na(final_dataset))\n",
    "    round(mean(final_dataset$Sales_Amount, na.rm = TRUE), 2)\n",
    "    round(median(final_dataset$Sales_Amount, na.rm = TRUE), 2)\n",
    "    \"Check manually\" # TODO: Calculate this\n",
    "\n",
    "print(\"=== DATA CLEANING COMPARISON ===\")\n",
    "print(comparison_summary)"
   ]
  },
  {
   "cell_type": "markdown",
   "id": "27aa62cf",
   "metadata": {},
   "source": [
    "---\n",
    "\n",
    "## Part 5: Reflection Questions\n",
    "\n",
    "Answer the following questions to demonstrate your understanding of data cleaning concepts and their business implications."
   ]
  },
  {
   "cell_type": "markdown",
   "id": "0ff8e4bb",
   "metadata": {},
   "source": [
    "### Question 1: Missing Value Strategy\n",
    "\n",
    "In what business scenarios would you prefer removing rows with missing values versus imputing them? Provide specific examples.\n",
    "\n",
    "**YOUR ANSWER:**\n",
    "\n",
    "[Imputation is good for datasets that are small where its important to preserve the sample size. An example of this would be mode imputation on a dataset if something like an item's category in a dataset had missing values. Removal may be better for a larger dataset as data quality wouldn't take a large hit because there is still a lot of data to use. For example, mean imputation on a large dataset with missing values in an age column. ]\n",
    "\n",
    "### Question 2: Outlier Interpretation  \n",
    "\n",
    "You identified outliers in the Sales_Amount column. In a real business context, what could these outliers represent? Should they always be removed or treated? Explain your reasoning.\n",
    "\n",
    "**YOUR ANSWER:**\n",
    "\n",
    "[Outliers in sales data are not always errors be errors. For example, a bookstore could sell both low priced books and textbooks. The pricier textbooks could be considered an outlier and shouldn't be removed. The context of the business and their products would have to be considered when it comes to deciding if something is an outlier or not. ]\n",
    "\n",
    "### Question 3: Data Quality Impact\n",
    "\n",
    "How might the presence of missing values and outliers affect common business analytics tasks such as calculating average sales, identifying top-performing products, or forecasting future sales?\n",
    "\n",
    "**YOUR ANSWER:**\n",
    "\n",
    "[Outliers can heavily skew the mean. If these outliers were errors, it would lead to things like overstocking and predicting a much higher value for future sales. ]\n",
    "\n",
    "### Question 4: Ethical Considerations\n",
    "\n",
    "What are the ethical implications of removing or modifying data during the cleaning process? How can analysts ensure transparency and maintain data integrity?\n",
    "\n",
    "**YOUR ANSWER:**\n",
    "\n",
    "[Modifying sales data outliers in order to make a report look better could potentially be unethical if those outliers were not errors and actual sales. Work should be done to analyze if the outliers are truly random errors or actual values, and an analyst should document their decisions and be prepared to share their reasoning on how they got the numbers that they did.]"
   ]
  },
  {
   "cell_type": "markdown",
   "id": "75413084",
   "metadata": {},
   "source": [
    "---\n",
    "\n",
    "## Submission Checklist\n",
    "\n",
    "Before submitting, make sure you have:\n",
    "\n",
    "- [ ] **Part 1**: Created and inspected the messy dataset\n",
    "- [ ] **Part 2**: Completed missing value identification and treatment\n",
    "- [ ] **Part 3**: Detected and treated outliers using IQR method  \n",
    "- [ ] **Part 4**: Chosen and justified your final cleaned dataset\n",
    "- [ ] **Part 4**: Created comparison summary table\n",
    "- [ ] **Part 5**: Answered all reflection questions thoroughly\n",
    "- [ ] **Code Quality**: All TODO sections completed with working code\n",
    "- [ ] **Documentation**: Added your name and date at the top\n",
    "- [ ] **Testing**: Run all cells to verify output\n",
    "- [ ] **Submission**: Committed and pushed to GitHub\n",
    "\n",
    "**Great work mastering data cleaning techniques! 🧹✨**"
   ]
  },
  {
   "cell_type": "markdown",
   "id": "1a83f963",
   "metadata": {},
   "source": [
    "---\n",
    "\n",
    "## 🚀 Ready to Submit?\n",
    "\n",
    "### Easy Submission Steps (No Command Line Required!):\n",
    "\n",
    "1. **Save this notebook** (Ctrl+S or File → Save)\n",
    "\n",
    "2. **Use VS Code Source Control**:\n",
    "   - Click the **Source Control** icon in the left sidebar (tree branch symbol)\n",
    "   - Click the **\"+\"** button next to your notebook file\n",
    "   - Type a message: `Submit homework 2 - Data Cleaning - [Your Name]`\n",
    "   - Click **\"Commit\"** \n",
    "   - Click **\"Sync Changes\"** or **\"Push\"**\n",
    "\n",
    "3. **Verify on GitHub**: Go to your repository online and confirm your notebook appears with your completed work\n",
    "\n",
    "**📖 Need help?** See [GITHUB_CLASSROOM_SUBMISSION.md](../../GITHUB_CLASSROOM_SUBMISSION.md) for detailed instructions.\n",
    "\n",
    "**🎉 Congratulations on completing your data cleaning assignment!**"
   ]
  }
 ],
 "metadata": {
  "kernelspec": {
   "display_name": "R",
   "language": "R",
   "name": "ir"
  },
  "language_info": {
   "codemirror_mode": "r",
   "file_extension": ".r",
   "mimetype": "text/x-r-source",
   "name": "R",
   "pygments_lexer": "r",
   "version": "4.4.3"
  }
 },
 "nbformat": 4,
 "nbformat_minor": 5
}
