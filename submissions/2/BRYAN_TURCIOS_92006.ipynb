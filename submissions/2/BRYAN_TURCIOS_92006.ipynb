{
 "cells": [
  {
   "cell_type": "markdown",
   "id": "0628f0f4",
   "metadata": {},
   "source": [
    "# Homework Assignment - Lesson 1: Introduction to R\n",
    "\n",
    "**Student Name:** BRYAN TURCIOS \n",
    "**Date:** 09/14/2025  \n",
    "**Course:** Data Management  \n",
    "\n",
    "---\n",
    "\n",
    "## Instructions\n",
    "\n",
    "Complete all the tasks below by adding your R code in the code cells and your written responses in markdown cells. Make sure to run all cells to show your output.\n",
    "\n",
    "**📋 SUBMISSION**: When you're done, see [GITHUB_CLASSROOM_SUBMISSION.md](../../GITHUB_CLASSROOM_SUBMISSION.md) for complete submission instructions.\n",
    "\n",
    "---"
   ]
  },
  {
   "cell_type": "markdown",
   "id": "2c9d18a6",
   "metadata": {},
   "source": [
    "## Part 1: Setting Up Your Environment and Importing Data"
   ]
  },
  {
   "cell_type": "markdown",
   "id": "dc395004",
   "metadata": {},
   "source": [
    "### 1.1 Working Directory\n",
    "\n",
    "Check your current working directory using `getwd()`. You should be in the main repository folder."
   ]
  },
  {
   "cell_type": "code",
   "execution_count": null,
   "id": "aa15a71d",
   "metadata": {
    "vscode": {
     "languageId": "r"
    }
   },
   "outputs": [],
   "source": [
    "# Check current working directory\n",
    "getwd()"
   ]
  },
  {
   "cell_type": "markdown",
   "id": "2096d578",
   "metadata": {},
   "source": [
    "### 1.2 Package Loading\n",
    "\n",
    "Load the required packages: `tidyverse` and `readxl`"
   ]
  },
  {
   "cell_type": "code",
   "execution_count": null,
   "id": "f92518c5",
   "metadata": {
    "vscode": {
     "languageId": "r"
    }
   },
   "outputs": [],
   "source": [
    "# Load required packages\n",
    "library(tidyverse)\n",
    "library(readxl)"
   ]
  },
  {
   "cell_type": "markdown",
   "id": "c5cc88b0",
   "metadata": {},
   "source": [
    "### 1.3 Data Import - CSV\n",
    "\n",
    "Import the `sales_data.csv` file from the `data/` folder into a data frame named `sales_df`."
   ]
  },
  {
   "cell_type": "code",
   "execution_count": null,
   "id": "f2616bc0",
   "metadata": {
    "vscode": {
     "languageId": "r"
    }
   },
   "outputs": [],
   "source": [
    "# Import sales data\n",
    "sales_df <- read_csv(\"data/sales_data.csv\")\n",
    "print(\"Sales data imported successfully!\")"
   ]
  },
  {
   "cell_type": "markdown",
   "id": "f3f0b0f6",
   "metadata": {},
   "source": [
    "### 1.4 Data Import - Excel\n",
    "\n",
    "Import both sheets from the `customer_feedback.xlsx` file."
   ]
  },
  {
   "cell_type": "code",
   "execution_count": null,
   "id": "6a6ba3b1",
   "metadata": {
    "vscode": {
     "languageId": "r"
    }
   },
   "outputs": [],
   "source": [
    "# Import ratings data from Excel\n",
    "ratings_df <- read_excel(\"data/customer_feedback.xlsx\", sheet = \"ratings\")\n",
    "\n",
    "# Import comments data from Excel  \n",
    "comments_df <- read_excel(\"data/customer_feedback.xlsx\", sheet = \"customer_feedback\")\n",
    "\n",
    "print(\"Excel data imported successfully!\")"
   ]
  },
  {
   "cell_type": "markdown",
   "id": "a9d136e7",
   "metadata": {},
   "source": [
    "---\n",
    "\n",
    "## Part 2: Basic Data Inspection\n",
    "\n",
    "For each of the three data frames you imported, perform the following inspection tasks. Add both your R code and a brief interpretation of what you observe."
   ]
  },
  {
   "cell_type": "markdown",
   "id": "b3c60d90",
   "metadata": {},
   "source": [
    "### 2.1 Sales Data Inspection"
   ]
  },
  {
   "cell_type": "code",
   "execution_count": 3,
   "id": "7ff44804",
   "metadata": {
    "vscode": {
     "languageId": "r"
    }
   },
   "outputs": [],
   "source": [
    "setwd(\"/workspaces/assignment-1-turcios-bryan\")"
   ]
  },
  {
   "cell_type": "code",
   "execution_count": 4,
   "id": "a98b1556",
   "metadata": {
    "vscode": {
     "languageId": "r"
    }
   },
   "outputs": [
    {
     "name": "stderr",
     "output_type": "stream",
     "text": [
      "\u001b[1mRows: \u001b[22m\u001b[34m100\u001b[39m \u001b[1mColumns: \u001b[22m\u001b[34m6\u001b[39m\n",
      "\u001b[36m──\u001b[39m \u001b[1mColumn specification\u001b[22m \u001b[36m────────────────────────────────────────────────────────\u001b[39m\n",
      "\u001b[1mDelimiter:\u001b[22m \",\"\n",
      "\u001b[31mchr\u001b[39m  (2): Product, Region\n",
      "\u001b[32mdbl\u001b[39m  (3): TransactionID, Amount, Quantity\n",
      "\u001b[34mdate\u001b[39m (1): Date\n",
      "\n",
      "\u001b[36mℹ\u001b[39m Use `spec()` to retrieve the full column specification for this data.\n",
      "\u001b[36mℹ\u001b[39m Specify the column types or set `show_col_types = FALSE` to quiet this message.\n"
     ]
    }
   ],
   "source": [
    "sales_df <- read_csv(\"data/sales_data.csv\")"
   ]
  },
  {
   "cell_type": "code",
   "execution_count": 5,
   "id": "e49897c6",
   "metadata": {
    "vscode": {
     "languageId": "r"
    }
   },
   "outputs": [
    {
     "name": "stdout",
     "output_type": "stream",
     "text": [
      "[1] \"First 10 rows of sales_df:\"\n"
     ]
    },
    {
     "data": {
      "text/html": [
       "<table class=\"dataframe\">\n",
       "<caption>A tibble: 10 × 6</caption>\n",
       "<thead>\n",
       "\t<tr><th scope=col>TransactionID</th><th scope=col>Date</th><th scope=col>Product</th><th scope=col>Amount</th><th scope=col>Quantity</th><th scope=col>Region</th></tr>\n",
       "\t<tr><th scope=col>&lt;dbl&gt;</th><th scope=col>&lt;date&gt;</th><th scope=col>&lt;chr&gt;</th><th scope=col>&lt;dbl&gt;</th><th scope=col>&lt;dbl&gt;</th><th scope=col>&lt;chr&gt;</th></tr>\n",
       "</thead>\n",
       "<tbody>\n",
       "\t<tr><td> 1</td><td>2023-01-27</td><td>Keyboard</td><td>1039.05</td><td>1</td><td>South</td></tr>\n",
       "\t<tr><td> 2</td><td>2023-05-18</td><td>Tablet  </td><td> 597.55</td><td>5</td><td>East </td></tr>\n",
       "\t<tr><td> 3</td><td>2023-02-14</td><td>Keyboard</td><td>1539.48</td><td>1</td><td>West </td></tr>\n",
       "\t<tr><td> 4</td><td>2023-07-28</td><td>Mouse   </td><td> 261.66</td><td>1</td><td>South</td></tr>\n",
       "\t<tr><td> 5</td><td>2023-05-17</td><td>Monitor </td><td>1047.73</td><td>1</td><td>South</td></tr>\n",
       "\t<tr><td> 6</td><td>2023-02-25</td><td>Keyboard</td><td>1824.05</td><td>2</td><td>East </td></tr>\n",
       "\t<tr><td> 7</td><td>2023-01-20</td><td>Monitor </td><td> 475.83</td><td>1</td><td>North</td></tr>\n",
       "\t<tr><td> 8</td><td>2023-07-14</td><td>Mouse   </td><td> 758.05</td><td>5</td><td>North</td></tr>\n",
       "\t<tr><td> 9</td><td>2023-10-02</td><td>Mouse   </td><td>1717.20</td><td>4</td><td>South</td></tr>\n",
       "\t<tr><td>10</td><td>2023-10-15</td><td>Laptop  </td><td>1437.21</td><td>3</td><td>North</td></tr>\n",
       "</tbody>\n",
       "</table>\n"
      ],
      "text/latex": [
       "A tibble: 10 × 6\n",
       "\\begin{tabular}{llllll}\n",
       " TransactionID & Date & Product & Amount & Quantity & Region\\\\\n",
       " <dbl> & <date> & <chr> & <dbl> & <dbl> & <chr>\\\\\n",
       "\\hline\n",
       "\t  1 & 2023-01-27 & Keyboard & 1039.05 & 1 & South\\\\\n",
       "\t  2 & 2023-05-18 & Tablet   &  597.55 & 5 & East \\\\\n",
       "\t  3 & 2023-02-14 & Keyboard & 1539.48 & 1 & West \\\\\n",
       "\t  4 & 2023-07-28 & Mouse    &  261.66 & 1 & South\\\\\n",
       "\t  5 & 2023-05-17 & Monitor  & 1047.73 & 1 & South\\\\\n",
       "\t  6 & 2023-02-25 & Keyboard & 1824.05 & 2 & East \\\\\n",
       "\t  7 & 2023-01-20 & Monitor  &  475.83 & 1 & North\\\\\n",
       "\t  8 & 2023-07-14 & Mouse    &  758.05 & 5 & North\\\\\n",
       "\t  9 & 2023-10-02 & Mouse    & 1717.20 & 4 & South\\\\\n",
       "\t 10 & 2023-10-15 & Laptop   & 1437.21 & 3 & North\\\\\n",
       "\\end{tabular}\n"
      ],
      "text/markdown": [
       "\n",
       "A tibble: 10 × 6\n",
       "\n",
       "| TransactionID &lt;dbl&gt; | Date &lt;date&gt; | Product &lt;chr&gt; | Amount &lt;dbl&gt; | Quantity &lt;dbl&gt; | Region &lt;chr&gt; |\n",
       "|---|---|---|---|---|---|\n",
       "|  1 | 2023-01-27 | Keyboard | 1039.05 | 1 | South |\n",
       "|  2 | 2023-05-18 | Tablet   |  597.55 | 5 | East  |\n",
       "|  3 | 2023-02-14 | Keyboard | 1539.48 | 1 | West  |\n",
       "|  4 | 2023-07-28 | Mouse    |  261.66 | 1 | South |\n",
       "|  5 | 2023-05-17 | Monitor  | 1047.73 | 1 | South |\n",
       "|  6 | 2023-02-25 | Keyboard | 1824.05 | 2 | East  |\n",
       "|  7 | 2023-01-20 | Monitor  |  475.83 | 1 | North |\n",
       "|  8 | 2023-07-14 | Mouse    |  758.05 | 5 | North |\n",
       "|  9 | 2023-10-02 | Mouse    | 1717.20 | 4 | South |\n",
       "| 10 | 2023-10-15 | Laptop   | 1437.21 | 3 | North |\n",
       "\n"
      ],
      "text/plain": [
       "   TransactionID Date       Product  Amount  Quantity Region\n",
       "1   1            2023-01-27 Keyboard 1039.05 1        South \n",
       "2   2            2023-05-18 Tablet    597.55 5        East  \n",
       "3   3            2023-02-14 Keyboard 1539.48 1        West  \n",
       "4   4            2023-07-28 Mouse     261.66 1        South \n",
       "5   5            2023-05-17 Monitor  1047.73 1        South \n",
       "6   6            2023-02-25 Keyboard 1824.05 2        East  \n",
       "7   7            2023-01-20 Monitor   475.83 1        North \n",
       "8   8            2023-07-14 Mouse     758.05 5        North \n",
       "9   9            2023-10-02 Mouse    1717.20 4        South \n",
       "10 10            2023-10-15 Laptop   1437.21 3        North "
      ]
     },
     "metadata": {},
     "output_type": "display_data"
    }
   ],
   "source": [
    "# First 10 rows of sales data\n",
    "print(\"First 10 rows of sales_df:\")\n",
    "head(sales_df, 10)\n",
    "\n"
   ]
  },
  {
   "cell_type": "code",
   "execution_count": 10,
   "id": "98ae997d",
   "metadata": {
    "vscode": {
     "languageId": "r"
    }
   },
   "outputs": [
    {
     "name": "stderr",
     "output_type": "stream",
     "text": [
      "\u001b[1mRows: \u001b[22m\u001b[34m100\u001b[39m \u001b[1mColumns: \u001b[22m\u001b[34m6\u001b[39m\n",
      "\u001b[36m──\u001b[39m \u001b[1mColumn specification\u001b[22m \u001b[36m────────────────────────────────────────────────────────\u001b[39m\n",
      "\u001b[1mDelimiter:\u001b[22m \",\"\n",
      "\u001b[31mchr\u001b[39m  (2): Product, Region\n",
      "\u001b[32mdbl\u001b[39m  (3): TransactionID, Amount, Quantity\n",
      "\u001b[34mdate\u001b[39m (1): Date\n",
      "\n",
      "\u001b[36mℹ\u001b[39m Use `spec()` to retrieve the full column specification for this data.\n",
      "\u001b[36mℹ\u001b[39m Specify the column types or set `show_col_types = FALSE` to quiet this message.\n"
     ]
    },
    {
     "name": "stdout",
     "output_type": "stream",
     "text": [
      "[1] \"Sales data imported successfully!\"\n"
     ]
    }
   ],
   "source": [
    "library(readr) # If not already loaded\n",
    "sales_df <- read_csv(\"data/sales_data.csv\")\n",
    "print(\"Sales data imported successfully!\")"
   ]
  },
  {
   "cell_type": "code",
   "execution_count": 6,
   "id": "787161c8",
   "metadata": {
    "vscode": {
     "languageId": "r"
    }
   },
   "outputs": [
    {
     "name": "stdout",
     "output_type": "stream",
     "text": [
      "[1] \"Structure of sales_df:\"\n",
      "spc_tbl_ [100 × 6] (S3: spec_tbl_df/tbl_df/tbl/data.frame)\n",
      " $ TransactionID: num [1:100] 1 2 3 4 5 6 7 8 9 10 ...\n",
      " $ Date         : Date[1:100], format: \"2023-01-27\" \"2023-05-18\" ...\n",
      " $ Product      : chr [1:100] \"Keyboard\" \"Tablet\" \"Keyboard\" \"Mouse\" ...\n",
      " $ Amount       : num [1:100] 1039 598 1539 262 1048 ...\n",
      " $ Quantity     : num [1:100] 1 5 1 1 1 2 1 5 4 3 ...\n",
      " $ Region       : chr [1:100] \"South\" \"East\" \"West\" \"South\" ...\n",
      " - attr(*, \"spec\")=\n",
      "  .. cols(\n",
      "  ..   TransactionID = \u001b[32mcol_double()\u001b[39m,\n",
      "  ..   Date = \u001b[34mcol_date(format = \"\")\u001b[39m,\n",
      "  ..   Product = \u001b[31mcol_character()\u001b[39m,\n",
      "  ..   Amount = \u001b[32mcol_double()\u001b[39m,\n",
      "  ..   Quantity = \u001b[32mcol_double()\u001b[39m,\n",
      "  ..   Region = \u001b[31mcol_character()\u001b[39m\n",
      "  .. )\n",
      " - attr(*, \"problems\")=<externalptr> \n"
     ]
    }
   ],
   "source": [
    "# Structure of sales data\n",
    "print(\"Structure of sales_df:\")\n",
    "str(sales_df)"
   ]
  },
  {
   "cell_type": "code",
   "execution_count": 7,
   "id": "c8d24625",
   "metadata": {
    "vscode": {
     "languageId": "r"
    }
   },
   "outputs": [
    {
     "name": "stdout",
     "output_type": "stream",
     "text": [
      "[1] \"Summary statistics for sales_df:\"\n"
     ]
    },
    {
     "data": {
      "text/plain": [
       " TransactionID         Date              Product              Amount       \n",
       " Min.   :  1.00   Min.   :2023-01-01   Length:100         Min.   :  58.06  \n",
       " 1st Qu.: 25.75   1st Qu.:2023-03-20   Class :character   1st Qu.: 520.79  \n",
       " Median : 50.50   Median :2023-07-03   Mode  :character   Median : 960.75  \n",
       " Mean   : 50.50   Mean   :2023-06-27                      Mean   : 962.71  \n",
       " 3rd Qu.: 75.25   3rd Qu.:2023-09-25                      3rd Qu.:1384.63  \n",
       " Max.   :100.00   Max.   :2023-12-26                      Max.   :1985.60  \n",
       "    Quantity       Region         \n",
       " Min.   :1.00   Length:100        \n",
       " 1st Qu.:1.00   Class :character  \n",
       " Median :3.00   Mode  :character  \n",
       " Mean   :2.69                     \n",
       " 3rd Qu.:4.00                     \n",
       " Max.   :5.00                     "
      ]
     },
     "metadata": {},
     "output_type": "display_data"
    }
   ],
   "source": [
    "# Summary statistics for sales data\n",
    "print(\"Summary statistics for sales_df:\")\n",
    "summary(sales_df)"
   ]
  },
  {
   "cell_type": "markdown",
   "id": "6e3704e9",
   "metadata": {},
   "source": [
    "**Your observations about sales_df:**\n",
    "\n",
    "[Write your observations here - what do you notice about the data types, number of rows/columns, any missing values, etc.]\n",
    "\n",
    "The data and distribution of data in the sales_df looks good. There are no missing values and the data types appear appropriate for analysis.\n"
   ]
  },
  {
   "cell_type": "markdown",
   "id": "bf96d289",
   "metadata": {},
   "source": [
    "### 2.2 Ratings Data Inspection"
   ]
  },
  {
   "cell_type": "code",
   "execution_count": 9,
   "id": "1ac6fc99",
   "metadata": {
    "vscode": {
     "languageId": "r"
    }
   },
   "outputs": [],
   "source": [
    "# TODO: Add your code here for ratings_df inspection\n",
    "# - First 10 rows\n",
    "# - Structure  \n",
    "# - Summary statistics"
   ]
  },
  {
   "cell_type": "markdown",
   "id": "15bf4a1d",
   "metadata": {},
   "source": [
    "**Your observations about ratings_df:**\n",
    "\n",
    "[Write your observations here]"
   ]
  },
  {
   "cell_type": "markdown",
   "id": "33a50824",
   "metadata": {},
   "source": [
    "### 2.3 Comments Data Inspection"
   ]
  },
  {
   "cell_type": "code",
   "execution_count": null,
   "id": "737913d7",
   "metadata": {
    "vscode": {
     "languageId": "r"
    }
   },
   "outputs": [],
   "source": [
    "# TODO: Add your code here for comments_df inspection\n",
    "# - First 10 rows\n",
    "# - Structure\n",
    "# - Summary statistics"
   ]
  },
  {
   "cell_type": "markdown",
   "id": "22e57679",
   "metadata": {},
   "source": [
    "**Your observations about comments_df:**\n",
    "\n",
    "[Write your observations here]"
   ]
  },
  {
   "cell_type": "markdown",
   "id": "41902067",
   "metadata": {},
   "source": [
    "**Reflection Question 1:** What did you observe about the structure and content of the data files you loaded? What insights can you share about the quality and organization of the data?\n",
    "\n",
    "**Your Answer:**\n",
    "\n",
    "[Write your response here]"
   ]
  },
  {
   "cell_type": "markdown",
   "id": "cccf1c99",
   "metadata": {},
   "source": [
    "### Question 1: Data Types Analysis\n",
    "\n",
    "Based on your inspection of `sales_df`, what are the data types of the `Date` and `Amount` columns? Are these data types appropriate for typical business analytics tasks involving sales data? Explain why or why not.\n",
    "\n",
    "**Your Answer:**\n",
    "\n",
    "[Write your response here]"
   ]
  },
  {
   "cell_type": "markdown",
   "id": "ab78e27a",
   "metadata": {},
   "source": [
    "### Question 2: Data Quality Assessment\n",
    "\n",
    "Looking at all three datasets, what potential data quality issues do you notice? Consider missing values, data types, and any unusual patterns.\n",
    "\n",
    "**Your Answer:**\n",
    "\n",
    "[Write your response here]"
   ]
  },
  {
   "cell_type": "markdown",
   "id": "4f119d61",
   "metadata": {},
   "source": [
    "### Question 3: Analysis Readiness\n",
    "\n",
    "Which of the three datasets appears most ready for analysis, and which would require the most preprocessing? Justify your answer.\n",
    "\n",
    "**Your Answer:**\n",
    "\n",
    "[Write your response here]"
   ]
  },
  {
   "cell_type": "markdown",
   "id": "8ad26c10",
   "metadata": {},
   "source": [
    "---\n",
    "\n",
    "## Submission Checklist\n",
    "\n",
    "Before submitting, make sure you have:\n",
    "\n",
    "- [ ] Completed all code cells in Parts 1 and 2\n",
    "- [ ] Run all cells to show output\n",
    "- [ ] Added your observations for each dataset\n",
    "- [ ] Answered all reflection questions in Part 3\n",
    "- [ ] Added your name and date at the top\n",
    "- [ ] Saved the notebook\n",
    "- [ ] Committed and pushed your changes to GitHub\n",
    "\n",
    "**Great work completing your first R data analysis assignment! 🎉**"
   ]
  },
  {
   "cell_type": "markdown",
   "id": "5fe3aeb4",
   "metadata": {},
   "source": [
    "---\n",
    "\n",
    "## 🚀 Ready to Submit?\n",
    "\n",
    "### Easy Submission Steps (No Command Line Required!):\n",
    "\n",
    "1. **Save this notebook** (Ctrl+S or File → Save)\n",
    "\n",
    "2. **Use VS Code Source Control**:\n",
    "   - Click the **Source Control** icon in the left sidebar (tree branch symbol)\n",
    "   - Click the **\"+\"** button next to your notebook file\n",
    "   - Type a message: `Submit homework 1 - [Your Name]`\n",
    "   - Click **\"Commit\"** \n",
    "   - Click **\"Sync Changes\"** or **\"Push\"**\n",
    "\n",
    "3. **Verify on GitHub**: Go to your repository online and confirm your notebook appears with your completed work\n",
    "\n",
    "**📖 Need help?** See [GITHUB_CLASSROOM_SUBMISSION.md](../../GITHUB_CLASSROOM_SUBMISSION.md) for detailed instructions.\n",
    "\n",
    "**🎉 Congratulations on completing your first R data analysis assignment!**"
   ]
  }
 ],
 "metadata": {
  "kernelspec": {
   "display_name": "R",
   "language": "R",
   "name": "ir"
  },
  "language_info": {
   "codemirror_mode": "r",
   "file_extension": ".r",
   "mimetype": "text/x-r-source",
   "name": "R",
   "pygments_lexer": "r",
   "version": "4.4.3"
  }
 },
 "nbformat": 4,
 "nbformat_minor": 5
}
