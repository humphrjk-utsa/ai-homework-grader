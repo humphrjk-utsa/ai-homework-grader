{
 "cells": [
  {
   "cell_type": "markdown",
   "id": "0628f0f4",
   "metadata": {},
   "source": [
    "# Homework Assignment - Lesson 2: Data Cleaning - Handling Missing Values and Outliers\n",
    "\n",
    "**Student Name:** [YOUR NAME HERE]  \n",
    "**Date:** [TODAY'S DATE]  \n",
    "**Course:** Data Management  \n",
    "\n",
    "---\n",
    "\n",
    "## Instructions\n",
    "\n",
    "Complete all the tasks below by adding your R code in the code cells and your written responses in markdown cells. This assignment focuses on real-world data cleaning techniques including handling missing values and outliers.\n",
    "\n",
    "**💡 Key Learning Goals:**\n",
    "- Identify and handle missing values using multiple strategies\n",
    "- Detect and treat outliers using statistical methods\n",
    "- Make informed decisions about data quality trade-offs\n",
    "- Document your data cleaning process and reasoning\n",
    "\n",
    "**📋 SUBMISSION**: When you're done, see [GITHUB_CLASSROOM_SUBMISSION.md](../../GITHUB_CLASSROOM_SUBMISSION.md) for complete submission instructions.\n",
    "\n",
    "---"
   ]
  },
  {
   "cell_type": "markdown",
   "id": "2c9d18a6",
   "metadata": {},
   "source": [
    "### Part 1: Data Import and Initial Assessment\n",
    "\n",
    "In this section, you'll import a \"messy\" dataset that contains missing values and outliers, simulating real-world data quality challenges."
   ]
  },
  {
   "cell_type": "markdown",
   "id": "dc395004",
   "metadata": {},
   "source": [
    "#### 1.1 Environment Setup\n",
    "\n",
    "Load the required packages for data cleaning and analysis."
   ]
  },
  {
   "cell_type": "code",
   "execution_count": 1,
   "id": "aa15a71d",
   "metadata": {
    "vscode": {
     "languageId": "r"
    }
   },
   "outputs": [
    {
     "name": "stderr",
     "output_type": "stream",
     "text": [
      "── \u001b[1mAttaching core tidyverse packages\u001b[22m ──────────────────────── tidyverse 2.0.0 ──\n",
      "\u001b[32m✔\u001b[39m \u001b[34mdplyr    \u001b[39m 1.1.4     \u001b[32m✔\u001b[39m \u001b[34mreadr    \u001b[39m 2.1.5\n",
      "\u001b[32m✔\u001b[39m \u001b[34mforcats  \u001b[39m 1.0.0     \u001b[32m✔\u001b[39m \u001b[34mstringr  \u001b[39m 1.5.1\n",
      "\u001b[32m✔\u001b[39m \u001b[34mggplot2  \u001b[39m 3.5.2     \u001b[32m✔\u001b[39m \u001b[34mtibble   \u001b[39m 3.3.0\n",
      "\u001b[32m✔\u001b[39m \u001b[34mlubridate\u001b[39m 1.9.4     \u001b[32m✔\u001b[39m \u001b[34mtidyr    \u001b[39m 1.3.1\n",
      "\u001b[32m✔\u001b[39m \u001b[34mpurrr    \u001b[39m 1.1.0     \n",
      "── \u001b[1mConflicts\u001b[22m ────────────────────────────────────────── tidyverse_conflicts() ──\n",
      "\u001b[31m✖\u001b[39m \u001b[34mdplyr\u001b[39m::\u001b[32mfilter()\u001b[39m masks \u001b[34mstats\u001b[39m::filter()\n",
      "\u001b[31m✖\u001b[39m \u001b[34mdplyr\u001b[39m::\u001b[32mlag()\u001b[39m    masks \u001b[34mstats\u001b[39m::lag()\n",
      "\u001b[36mℹ\u001b[39m Use the conflicted package (\u001b[3m\u001b[34m<http://conflicted.r-lib.org/>\u001b[39m\u001b[23m) to force all conflicts to become errors\n"
     ]
    },
    {
     "data": {
      "text/html": [
       "'/workspaces/assignment-2-version3-sthedin21/assignment/Homework'"
      ],
      "text/latex": [
       "'/workspaces/assignment-2-version3-sthedin21/assignment/Homework'"
      ],
      "text/markdown": [
       "'/workspaces/assignment-2-version3-sthedin21/assignment/Homework'"
      ],
      "text/plain": [
       "[1] \"/workspaces/assignment-2-version3-sthedin21/assignment/Homework\""
      ]
     },
     "metadata": {},
     "output_type": "display_data"
    }
   ],
   "source": [
    "# Load required packages for data cleaning\n",
    "library(tidyverse) # For data manipulation and visualization\n",
    "\n",
    "# Check current working directory\n",
    "getwd()"
   ]
  },
  {
   "cell_type": "markdown",
   "id": "2096d578",
   "metadata": {},
   "source": [
    "#### 1.2 Import Messy Dataset\n",
    "\n",
    "Import the provided messy sales dataset that contains real-world data quality issues including missing values, outliers, and inconsistencies."
   ]
  },
  {
   "cell_type": "code",
   "execution_count": 4,
   "id": "f92518c5",
   "metadata": {
    "vscode": {
     "languageId": "r"
    }
   },
   "outputs": [
    {
     "name": "stderr",
     "output_type": "stream",
     "text": [
      "\u001b[1mRows: \u001b[22m\u001b[34m200\u001b[39m \u001b[1mColumns: \u001b[22m\u001b[34m6\u001b[39m\n",
      "\u001b[36m──\u001b[39m \u001b[1mColumn specification\u001b[22m \u001b[36m────────────────────────────────────────────────────────\u001b[39m\n",
      "\u001b[1mDelimiter:\u001b[22m \",\"\n",
      "\u001b[31mchr\u001b[39m  (2): Customer_Name, Product_Category\n",
      "\u001b[32mdbl\u001b[39m  (3): TransactionID, Sales_Amount, Quantity\n",
      "\u001b[34mdate\u001b[39m (1): Purchase_Date\n",
      "\n",
      "\u001b[36mℹ\u001b[39m Use `spec()` to retrieve the full column specification for this data.\n",
      "\u001b[36mℹ\u001b[39m Specify the column types or set `show_col_types = FALSE` to quiet this message.\n"
     ]
    },
    {
     "name": "stdout",
     "output_type": "stream",
     "text": [
      "[1] \"Messy sales dataset imported successfully!\"\n",
      "[1] \"Dataset contains 200 rows and 6 columns\"\n",
      "Column names: TransactionID, Customer_Name, Product_Category, Sales_Amount, Purchase_Date, Quantity \n"
     ]
    }
   ],
   "source": [
    "# Import the messy sales dataset\n",
    "messy_sales <- read_csv(\"/workspaces/assignment-2-version3-sthedin21/data/messy_sales_data.csv\")\n",
    "\n",
    "print(\"Messy sales dataset imported successfully!\")\n",
    "print(paste(\"Dataset contains\", nrow(messy_sales), \"rows and\", ncol(messy_sales), \"columns\"))\n",
    "cat(\"Column names:\", paste(names(messy_sales), collapse = \", \"), \"\\n\")\n"
   ]
  },
  {
   "cell_type": "markdown",
   "id": "c5cc88b0",
   "metadata": {},
   "source": [
    "#### 1.3 Initial Data Assessment\n",
    "\n",
    "Perform a comprehensive inspection of the messy dataset to understand its structure and identify data quality issues."
   ]
  },
  {
   "cell_type": "code",
   "execution_count": 7,
   "id": "f2616bc0",
   "metadata": {
    "vscode": {
     "languageId": "r"
    }
   },
   "outputs": [
    {
     "name": "stdout",
     "output_type": "stream",
     "text": [
      "[1] \"=== DATASET OVERVIEW ===\"\n"
     ]
    },
    {
     "data": {
      "text/html": [
       "<table class=\"dataframe\">\n",
       "<caption>A tibble: 150 × 6</caption>\n",
       "<thead>\n",
       "\t<tr><th scope=col>TransactionID</th><th scope=col>Customer_Name</th><th scope=col>Product_Category</th><th scope=col>Sales_Amount</th><th scope=col>Purchase_Date</th><th scope=col>Quantity</th></tr>\n",
       "\t<tr><th scope=col>&lt;dbl&gt;</th><th scope=col>&lt;chr&gt;</th><th scope=col>&lt;chr&gt;</th><th scope=col>&lt;dbl&gt;</th><th scope=col>&lt;date&gt;</th><th scope=col>&lt;dbl&gt;</th></tr>\n",
       "</thead>\n",
       "<tbody>\n",
       "\t<tr><td> 1</td><td>NA         </td><td>Home       </td><td> 362.3175</td><td>NA</td><td>  2</td></tr>\n",
       "\t<tr><td> 2</td><td>Alice Brown</td><td>Clothing   </td><td> 573.0791</td><td>2023-10-21</td><td>  3</td></tr>\n",
       "\t<tr><td> 3</td><td>Jane Doe   </td><td>Electronics</td><td> 487.6874</td><td>2023-12-28</td><td> -1</td></tr>\n",
       "\t<tr><td> 4</td><td>Jane Doe   </td><td>Electronics</td><td>5000.0000</td><td>2023-06-16</td><td>  7</td></tr>\n",
       "\t<tr><td> 5</td><td>John Smith </td><td>Books      </td><td> 344.1746</td><td>2023-05-05</td><td>100</td></tr>\n",
       "\t<tr><td> 6</td><td>John Smith </td><td>Books      </td><td> 434.9527</td><td>2023-11-28</td><td>  4</td></tr>\n",
       "\t<tr><td> 7</td><td>Jane Doe   </td><td>Home       </td><td> 489.0863</td><td>2023-08-17</td><td>  0</td></tr>\n",
       "\t<tr><td> 8</td><td>Jane Doe   </td><td>Electronics</td><td> 536.9202</td><td>2023-05-17</td><td>  7</td></tr>\n",
       "\t<tr><td> 9</td><td>Jane Doe   </td><td>Clothing   </td><td> 793.3933</td><td>2023-08-13</td><td>  3</td></tr>\n",
       "\t<tr><td>10</td><td>Jane Doe   </td><td>electronics</td><td> 649.4286</td><td>2023-10-16</td><td>  2</td></tr>\n",
       "\t<tr><td>11</td><td>Bob Johnson</td><td>ELECTRONICS</td><td> 595.7247</td><td>2023-10-20</td><td>  5</td></tr>\n",
       "\t<tr><td>12</td><td>John Smith </td><td>Books      </td><td> 742.6123</td><td>2023-06-26</td><td>  7</td></tr>\n",
       "\t<tr><td>13</td><td>Jane Doe   </td><td>ELECTRONICS</td><td> 730.3686</td><td>2023-05-08</td><td>100</td></tr>\n",
       "\t<tr><td>14</td><td>Alice Brown</td><td>electronics</td><td> 675.6297</td><td>2023-12-20</td><td>100</td></tr>\n",
       "\t<tr><td>15</td><td>John Smith </td><td>ELECTRONICS</td><td> 360.0370</td><td>2023-08-22</td><td>  2</td></tr>\n",
       "\t<tr><td>16</td><td>Bob Johnson</td><td>Books      </td><td> 246.2655</td><td>NA</td><td>  4</td></tr>\n",
       "\t<tr><td>17</td><td>Alice Brown</td><td>electronics</td><td> 309.7985</td><td>2023-10-22</td><td>100</td></tr>\n",
       "\t<tr><td>18</td><td>John Smith </td><td>electronics</td><td>       NA</td><td>2023-05-21</td><td>  8</td></tr>\n",
       "\t<tr><td>19</td><td>Jane Doe   </td><td>ELECTRONICS</td><td> 343.8747</td><td>2023-06-22</td><td>  4</td></tr>\n",
       "\t<tr><td>20</td><td>Jane Doe   </td><td>ELECTRONICS</td><td> 715.3258</td><td>2023-01-25</td><td>  6</td></tr>\n",
       "\t<tr><td>21</td><td>NA         </td><td>Books      </td><td> 483.1180</td><td>2023-04-04</td><td>  8</td></tr>\n",
       "\t<tr><td>22</td><td>Bob Johnson</td><td>Books      </td><td> 455.5846</td><td>2023-03-05</td><td>  0</td></tr>\n",
       "\t<tr><td>23</td><td>Jane Doe   </td><td>Home       </td><td>       NA</td><td>2023-01-11</td><td>  2</td></tr>\n",
       "\t<tr><td>24</td><td>Jane Doe   </td><td>Clothing   </td><td> 690.4822</td><td>2023-08-08</td><td>  8</td></tr>\n",
       "\t<tr><td>25</td><td>Jane Doe   </td><td>ELECTRONICS</td><td> 334.7057</td><td>2023-12-05</td><td>  1</td></tr>\n",
       "\t<tr><td>26</td><td>NA         </td><td>Clothing   </td><td> 531.2289</td><td>2023-09-12</td><td>  4</td></tr>\n",
       "\t<tr><td>27</td><td>Alice Brown</td><td>ELECTRONICS</td><td> 604.5938</td><td>2023-03-09</td><td>100</td></tr>\n",
       "\t<tr><td>28</td><td>Jane Doe   </td><td>electronics</td><td> 689.9168</td><td>2023-09-02</td><td>  6</td></tr>\n",
       "\t<tr><td>29</td><td>Alice Brown</td><td>Home       </td><td> 549.7528</td><td>2023-10-01</td><td>  2</td></tr>\n",
       "\t<tr><td>30</td><td>Alice Brown</td><td>Books      </td><td> 410.8753</td><td>2023-01-22</td><td>  8</td></tr>\n",
       "\t<tr><td>⋮</td><td>⋮</td><td>⋮</td><td>⋮</td><td>⋮</td><td>⋮</td></tr>\n",
       "\t<tr><td>121</td><td>NA         </td><td>Electronics</td><td> -100.00000</td><td>NA</td><td>  4</td></tr>\n",
       "\t<tr><td>122</td><td>Alice Brown</td><td>Home       </td><td>  792.80142</td><td>2023-06-05</td><td>  5</td></tr>\n",
       "\t<tr><td>123</td><td>Alice Brown</td><td>electronics</td><td>  191.13720</td><td>2023-02-27</td><td>  7</td></tr>\n",
       "\t<tr><td>124</td><td>Alice Brown</td><td>electronics</td><td>  306.18832</td><td>2023-05-25</td><td> -1</td></tr>\n",
       "\t<tr><td>125</td><td>John Smith </td><td>electronics</td><td>  537.21472</td><td>2023-12-10</td><td>  1</td></tr>\n",
       "\t<tr><td>126</td><td>NA         </td><td>Home       </td><td>  433.43557</td><td>2023-11-26</td><td> 10</td></tr>\n",
       "\t<tr><td>127</td><td>John Smith </td><td>electronics</td><td>  194.09321</td><td>2023-06-16</td><td>  3</td></tr>\n",
       "\t<tr><td>128</td><td>John Smith </td><td>Books      </td><td>  776.07924</td><td>2023-04-19</td><td>  7</td></tr>\n",
       "\t<tr><td>129</td><td>Bob Johnson</td><td>Home       </td><td>  817.39074</td><td>2023-09-21</td><td>  4</td></tr>\n",
       "\t<tr><td>130</td><td>Bob Johnson</td><td>ELECTRONICS</td><td>  430.56969</td><td>2023-01-14</td><td>  8</td></tr>\n",
       "\t<tr><td>131</td><td>Jane Doe   </td><td>Books      </td><td>  421.48859</td><td>2023-07-05</td><td> 10</td></tr>\n",
       "\t<tr><td>132</td><td>John Smith </td><td>ELECTRONICS</td><td>  881.22385</td><td>2023-03-20</td><td> 10</td></tr>\n",
       "\t<tr><td>133</td><td>Jane Doe   </td><td>ELECTRONICS</td><td>  352.85636</td><td>2023-08-27</td><td>  7</td></tr>\n",
       "\t<tr><td>134</td><td>John Smith </td><td>Books      </td><td>         NA</td><td>2023-04-26</td><td>  1</td></tr>\n",
       "\t<tr><td>135</td><td>John Smith </td><td>electronics</td><td>  639.68179</td><td>2023-08-01</td><td>  9</td></tr>\n",
       "\t<tr><td>136</td><td>Bob Johnson</td><td>Books      </td><td>  593.64283</td><td>NA</td><td>  2</td></tr>\n",
       "\t<tr><td>137</td><td>Alice Brown</td><td>Home       </td><td>  654.22634</td><td>2023-09-19</td><td> 10</td></tr>\n",
       "\t<tr><td>138</td><td>Alice Brown</td><td>electronics</td><td>  900.44590</td><td>2023-12-06</td><td>  0</td></tr>\n",
       "\t<tr><td>139</td><td>Bob Johnson</td><td>Electronics</td><td>  105.64775</td><td>2023-08-11</td><td>  4</td></tr>\n",
       "\t<tr><td>140</td><td>Jane Doe   </td><td>Clothing   </td><td>  -56.71519</td><td>2023-07-20</td><td>  7</td></tr>\n",
       "\t<tr><td>141</td><td>NA         </td><td>Electronics</td><td>  748.12005</td><td>2023-10-14</td><td>  5</td></tr>\n",
       "\t<tr><td>142</td><td>Bob Johnson</td><td>Home       </td><td>  679.59139</td><td>2023-04-07</td><td>  6</td></tr>\n",
       "\t<tr><td>143</td><td>Jane Doe   </td><td>electronics</td><td>  544.39983</td><td>2023-07-19</td><td>  2</td></tr>\n",
       "\t<tr><td>144</td><td>John Smith </td><td>Home       </td><td>  310.62005</td><td>2023-02-09</td><td>  0</td></tr>\n",
       "\t<tr><td>145</td><td>John Smith </td><td>electronics</td><td>  629.19766</td><td>2023-09-12</td><td>  9</td></tr>\n",
       "\t<tr><td>146</td><td>John Smith </td><td>ELECTRONICS</td><td>12000.00000</td><td>2023-01-22</td><td>  6</td></tr>\n",
       "\t<tr><td>147</td><td>Bob Johnson</td><td>Clothing   </td><td>  690.30942</td><td>2023-05-27</td><td>100</td></tr>\n",
       "\t<tr><td>148</td><td>Alice Brown</td><td>Books      </td><td>  610.17876</td><td>2023-03-13</td><td>  7</td></tr>\n",
       "\t<tr><td>149</td><td>Alice Brown</td><td>Books      </td><td>  785.89134</td><td>2023-09-01</td><td>  3</td></tr>\n",
       "\t<tr><td>150</td><td>Alice Brown</td><td>Books      </td><td>  793.30445</td><td>2023-02-24</td><td>  5</td></tr>\n",
       "</tbody>\n",
       "</table>\n"
      ],
      "text/latex": [
       "A tibble: 150 × 6\n",
       "\\begin{tabular}{llllll}\n",
       " TransactionID & Customer\\_Name & Product\\_Category & Sales\\_Amount & Purchase\\_Date & Quantity\\\\\n",
       " <dbl> & <chr> & <chr> & <dbl> & <date> & <dbl>\\\\\n",
       "\\hline\n",
       "\t  1 & NA          & Home        &  362.3175 & NA &   2\\\\\n",
       "\t  2 & Alice Brown & Clothing    &  573.0791 & 2023-10-21 &   3\\\\\n",
       "\t  3 & Jane Doe    & Electronics &  487.6874 & 2023-12-28 &  -1\\\\\n",
       "\t  4 & Jane Doe    & Electronics & 5000.0000 & 2023-06-16 &   7\\\\\n",
       "\t  5 & John Smith  & Books       &  344.1746 & 2023-05-05 & 100\\\\\n",
       "\t  6 & John Smith  & Books       &  434.9527 & 2023-11-28 &   4\\\\\n",
       "\t  7 & Jane Doe    & Home        &  489.0863 & 2023-08-17 &   0\\\\\n",
       "\t  8 & Jane Doe    & Electronics &  536.9202 & 2023-05-17 &   7\\\\\n",
       "\t  9 & Jane Doe    & Clothing    &  793.3933 & 2023-08-13 &   3\\\\\n",
       "\t 10 & Jane Doe    & electronics &  649.4286 & 2023-10-16 &   2\\\\\n",
       "\t 11 & Bob Johnson & ELECTRONICS &  595.7247 & 2023-10-20 &   5\\\\\n",
       "\t 12 & John Smith  & Books       &  742.6123 & 2023-06-26 &   7\\\\\n",
       "\t 13 & Jane Doe    & ELECTRONICS &  730.3686 & 2023-05-08 & 100\\\\\n",
       "\t 14 & Alice Brown & electronics &  675.6297 & 2023-12-20 & 100\\\\\n",
       "\t 15 & John Smith  & ELECTRONICS &  360.0370 & 2023-08-22 &   2\\\\\n",
       "\t 16 & Bob Johnson & Books       &  246.2655 & NA &   4\\\\\n",
       "\t 17 & Alice Brown & electronics &  309.7985 & 2023-10-22 & 100\\\\\n",
       "\t 18 & John Smith  & electronics &        NA & 2023-05-21 &   8\\\\\n",
       "\t 19 & Jane Doe    & ELECTRONICS &  343.8747 & 2023-06-22 &   4\\\\\n",
       "\t 20 & Jane Doe    & ELECTRONICS &  715.3258 & 2023-01-25 &   6\\\\\n",
       "\t 21 & NA          & Books       &  483.1180 & 2023-04-04 &   8\\\\\n",
       "\t 22 & Bob Johnson & Books       &  455.5846 & 2023-03-05 &   0\\\\\n",
       "\t 23 & Jane Doe    & Home        &        NA & 2023-01-11 &   2\\\\\n",
       "\t 24 & Jane Doe    & Clothing    &  690.4822 & 2023-08-08 &   8\\\\\n",
       "\t 25 & Jane Doe    & ELECTRONICS &  334.7057 & 2023-12-05 &   1\\\\\n",
       "\t 26 & NA          & Clothing    &  531.2289 & 2023-09-12 &   4\\\\\n",
       "\t 27 & Alice Brown & ELECTRONICS &  604.5938 & 2023-03-09 & 100\\\\\n",
       "\t 28 & Jane Doe    & electronics &  689.9168 & 2023-09-02 &   6\\\\\n",
       "\t 29 & Alice Brown & Home        &  549.7528 & 2023-10-01 &   2\\\\\n",
       "\t 30 & Alice Brown & Books       &  410.8753 & 2023-01-22 &   8\\\\\n",
       "\t ⋮ & ⋮ & ⋮ & ⋮ & ⋮ & ⋮\\\\\n",
       "\t 121 & NA          & Electronics &  -100.00000 & NA &   4\\\\\n",
       "\t 122 & Alice Brown & Home        &   792.80142 & 2023-06-05 &   5\\\\\n",
       "\t 123 & Alice Brown & electronics &   191.13720 & 2023-02-27 &   7\\\\\n",
       "\t 124 & Alice Brown & electronics &   306.18832 & 2023-05-25 &  -1\\\\\n",
       "\t 125 & John Smith  & electronics &   537.21472 & 2023-12-10 &   1\\\\\n",
       "\t 126 & NA          & Home        &   433.43557 & 2023-11-26 &  10\\\\\n",
       "\t 127 & John Smith  & electronics &   194.09321 & 2023-06-16 &   3\\\\\n",
       "\t 128 & John Smith  & Books       &   776.07924 & 2023-04-19 &   7\\\\\n",
       "\t 129 & Bob Johnson & Home        &   817.39074 & 2023-09-21 &   4\\\\\n",
       "\t 130 & Bob Johnson & ELECTRONICS &   430.56969 & 2023-01-14 &   8\\\\\n",
       "\t 131 & Jane Doe    & Books       &   421.48859 & 2023-07-05 &  10\\\\\n",
       "\t 132 & John Smith  & ELECTRONICS &   881.22385 & 2023-03-20 &  10\\\\\n",
       "\t 133 & Jane Doe    & ELECTRONICS &   352.85636 & 2023-08-27 &   7\\\\\n",
       "\t 134 & John Smith  & Books       &          NA & 2023-04-26 &   1\\\\\n",
       "\t 135 & John Smith  & electronics &   639.68179 & 2023-08-01 &   9\\\\\n",
       "\t 136 & Bob Johnson & Books       &   593.64283 & NA &   2\\\\\n",
       "\t 137 & Alice Brown & Home        &   654.22634 & 2023-09-19 &  10\\\\\n",
       "\t 138 & Alice Brown & electronics &   900.44590 & 2023-12-06 &   0\\\\\n",
       "\t 139 & Bob Johnson & Electronics &   105.64775 & 2023-08-11 &   4\\\\\n",
       "\t 140 & Jane Doe    & Clothing    &   -56.71519 & 2023-07-20 &   7\\\\\n",
       "\t 141 & NA          & Electronics &   748.12005 & 2023-10-14 &   5\\\\\n",
       "\t 142 & Bob Johnson & Home        &   679.59139 & 2023-04-07 &   6\\\\\n",
       "\t 143 & Jane Doe    & electronics &   544.39983 & 2023-07-19 &   2\\\\\n",
       "\t 144 & John Smith  & Home        &   310.62005 & 2023-02-09 &   0\\\\\n",
       "\t 145 & John Smith  & electronics &   629.19766 & 2023-09-12 &   9\\\\\n",
       "\t 146 & John Smith  & ELECTRONICS & 12000.00000 & 2023-01-22 &   6\\\\\n",
       "\t 147 & Bob Johnson & Clothing    &   690.30942 & 2023-05-27 & 100\\\\\n",
       "\t 148 & Alice Brown & Books       &   610.17876 & 2023-03-13 &   7\\\\\n",
       "\t 149 & Alice Brown & Books       &   785.89134 & 2023-09-01 &   3\\\\\n",
       "\t 150 & Alice Brown & Books       &   793.30445 & 2023-02-24 &   5\\\\\n",
       "\\end{tabular}\n"
      ],
      "text/markdown": [
       "\n",
       "A tibble: 150 × 6\n",
       "\n",
       "| TransactionID &lt;dbl&gt; | Customer_Name &lt;chr&gt; | Product_Category &lt;chr&gt; | Sales_Amount &lt;dbl&gt; | Purchase_Date &lt;date&gt; | Quantity &lt;dbl&gt; |\n",
       "|---|---|---|---|---|---|\n",
       "|  1 | NA          | Home        |  362.3175 | NA |   2 |\n",
       "|  2 | Alice Brown | Clothing    |  573.0791 | 2023-10-21 |   3 |\n",
       "|  3 | Jane Doe    | Electronics |  487.6874 | 2023-12-28 |  -1 |\n",
       "|  4 | Jane Doe    | Electronics | 5000.0000 | 2023-06-16 |   7 |\n",
       "|  5 | John Smith  | Books       |  344.1746 | 2023-05-05 | 100 |\n",
       "|  6 | John Smith  | Books       |  434.9527 | 2023-11-28 |   4 |\n",
       "|  7 | Jane Doe    | Home        |  489.0863 | 2023-08-17 |   0 |\n",
       "|  8 | Jane Doe    | Electronics |  536.9202 | 2023-05-17 |   7 |\n",
       "|  9 | Jane Doe    | Clothing    |  793.3933 | 2023-08-13 |   3 |\n",
       "| 10 | Jane Doe    | electronics |  649.4286 | 2023-10-16 |   2 |\n",
       "| 11 | Bob Johnson | ELECTRONICS |  595.7247 | 2023-10-20 |   5 |\n",
       "| 12 | John Smith  | Books       |  742.6123 | 2023-06-26 |   7 |\n",
       "| 13 | Jane Doe    | ELECTRONICS |  730.3686 | 2023-05-08 | 100 |\n",
       "| 14 | Alice Brown | electronics |  675.6297 | 2023-12-20 | 100 |\n",
       "| 15 | John Smith  | ELECTRONICS |  360.0370 | 2023-08-22 |   2 |\n",
       "| 16 | Bob Johnson | Books       |  246.2655 | NA |   4 |\n",
       "| 17 | Alice Brown | electronics |  309.7985 | 2023-10-22 | 100 |\n",
       "| 18 | John Smith  | electronics |        NA | 2023-05-21 |   8 |\n",
       "| 19 | Jane Doe    | ELECTRONICS |  343.8747 | 2023-06-22 |   4 |\n",
       "| 20 | Jane Doe    | ELECTRONICS |  715.3258 | 2023-01-25 |   6 |\n",
       "| 21 | NA          | Books       |  483.1180 | 2023-04-04 |   8 |\n",
       "| 22 | Bob Johnson | Books       |  455.5846 | 2023-03-05 |   0 |\n",
       "| 23 | Jane Doe    | Home        |        NA | 2023-01-11 |   2 |\n",
       "| 24 | Jane Doe    | Clothing    |  690.4822 | 2023-08-08 |   8 |\n",
       "| 25 | Jane Doe    | ELECTRONICS |  334.7057 | 2023-12-05 |   1 |\n",
       "| 26 | NA          | Clothing    |  531.2289 | 2023-09-12 |   4 |\n",
       "| 27 | Alice Brown | ELECTRONICS |  604.5938 | 2023-03-09 | 100 |\n",
       "| 28 | Jane Doe    | electronics |  689.9168 | 2023-09-02 |   6 |\n",
       "| 29 | Alice Brown | Home        |  549.7528 | 2023-10-01 |   2 |\n",
       "| 30 | Alice Brown | Books       |  410.8753 | 2023-01-22 |   8 |\n",
       "| ⋮ | ⋮ | ⋮ | ⋮ | ⋮ | ⋮ |\n",
       "| 121 | NA          | Electronics |  -100.00000 | NA |   4 |\n",
       "| 122 | Alice Brown | Home        |   792.80142 | 2023-06-05 |   5 |\n",
       "| 123 | Alice Brown | electronics |   191.13720 | 2023-02-27 |   7 |\n",
       "| 124 | Alice Brown | electronics |   306.18832 | 2023-05-25 |  -1 |\n",
       "| 125 | John Smith  | electronics |   537.21472 | 2023-12-10 |   1 |\n",
       "| 126 | NA          | Home        |   433.43557 | 2023-11-26 |  10 |\n",
       "| 127 | John Smith  | electronics |   194.09321 | 2023-06-16 |   3 |\n",
       "| 128 | John Smith  | Books       |   776.07924 | 2023-04-19 |   7 |\n",
       "| 129 | Bob Johnson | Home        |   817.39074 | 2023-09-21 |   4 |\n",
       "| 130 | Bob Johnson | ELECTRONICS |   430.56969 | 2023-01-14 |   8 |\n",
       "| 131 | Jane Doe    | Books       |   421.48859 | 2023-07-05 |  10 |\n",
       "| 132 | John Smith  | ELECTRONICS |   881.22385 | 2023-03-20 |  10 |\n",
       "| 133 | Jane Doe    | ELECTRONICS |   352.85636 | 2023-08-27 |   7 |\n",
       "| 134 | John Smith  | Books       |          NA | 2023-04-26 |   1 |\n",
       "| 135 | John Smith  | electronics |   639.68179 | 2023-08-01 |   9 |\n",
       "| 136 | Bob Johnson | Books       |   593.64283 | NA |   2 |\n",
       "| 137 | Alice Brown | Home        |   654.22634 | 2023-09-19 |  10 |\n",
       "| 138 | Alice Brown | electronics |   900.44590 | 2023-12-06 |   0 |\n",
       "| 139 | Bob Johnson | Electronics |   105.64775 | 2023-08-11 |   4 |\n",
       "| 140 | Jane Doe    | Clothing    |   -56.71519 | 2023-07-20 |   7 |\n",
       "| 141 | NA          | Electronics |   748.12005 | 2023-10-14 |   5 |\n",
       "| 142 | Bob Johnson | Home        |   679.59139 | 2023-04-07 |   6 |\n",
       "| 143 | Jane Doe    | electronics |   544.39983 | 2023-07-19 |   2 |\n",
       "| 144 | John Smith  | Home        |   310.62005 | 2023-02-09 |   0 |\n",
       "| 145 | John Smith  | electronics |   629.19766 | 2023-09-12 |   9 |\n",
       "| 146 | John Smith  | ELECTRONICS | 12000.00000 | 2023-01-22 |   6 |\n",
       "| 147 | Bob Johnson | Clothing    |   690.30942 | 2023-05-27 | 100 |\n",
       "| 148 | Alice Brown | Books       |   610.17876 | 2023-03-13 |   7 |\n",
       "| 149 | Alice Brown | Books       |   785.89134 | 2023-09-01 |   3 |\n",
       "| 150 | Alice Brown | Books       |   793.30445 | 2023-02-24 |   5 |\n",
       "\n"
      ],
      "text/plain": [
       "    TransactionID Customer_Name Product_Category Sales_Amount Purchase_Date\n",
       "1    1            NA            Home              362.3175    <NA>         \n",
       "2    2            Alice Brown   Clothing          573.0791    2023-10-21   \n",
       "3    3            Jane Doe      Electronics       487.6874    2023-12-28   \n",
       "4    4            Jane Doe      Electronics      5000.0000    2023-06-16   \n",
       "5    5            John Smith    Books             344.1746    2023-05-05   \n",
       "6    6            John Smith    Books             434.9527    2023-11-28   \n",
       "7    7            Jane Doe      Home              489.0863    2023-08-17   \n",
       "8    8            Jane Doe      Electronics       536.9202    2023-05-17   \n",
       "9    9            Jane Doe      Clothing          793.3933    2023-08-13   \n",
       "10  10            Jane Doe      electronics       649.4286    2023-10-16   \n",
       "11  11            Bob Johnson   ELECTRONICS       595.7247    2023-10-20   \n",
       "12  12            John Smith    Books             742.6123    2023-06-26   \n",
       "13  13            Jane Doe      ELECTRONICS       730.3686    2023-05-08   \n",
       "14  14            Alice Brown   electronics       675.6297    2023-12-20   \n",
       "15  15            John Smith    ELECTRONICS       360.0370    2023-08-22   \n",
       "16  16            Bob Johnson   Books             246.2655    <NA>         \n",
       "17  17            Alice Brown   electronics       309.7985    2023-10-22   \n",
       "18  18            John Smith    electronics             NA    2023-05-21   \n",
       "19  19            Jane Doe      ELECTRONICS       343.8747    2023-06-22   \n",
       "20  20            Jane Doe      ELECTRONICS       715.3258    2023-01-25   \n",
       "21  21            NA            Books             483.1180    2023-04-04   \n",
       "22  22            Bob Johnson   Books             455.5846    2023-03-05   \n",
       "23  23            Jane Doe      Home                    NA    2023-01-11   \n",
       "24  24            Jane Doe      Clothing          690.4822    2023-08-08   \n",
       "25  25            Jane Doe      ELECTRONICS       334.7057    2023-12-05   \n",
       "26  26            NA            Clothing          531.2289    2023-09-12   \n",
       "27  27            Alice Brown   ELECTRONICS       604.5938    2023-03-09   \n",
       "28  28            Jane Doe      electronics       689.9168    2023-09-02   \n",
       "29  29            Alice Brown   Home              549.7528    2023-10-01   \n",
       "30  30            Alice Brown   Books             410.8753    2023-01-22   \n",
       "⋮   ⋮             ⋮             ⋮                ⋮            ⋮            \n",
       "121 121           NA            Electronics       -100.00000  <NA>         \n",
       "122 122           Alice Brown   Home               792.80142  2023-06-05   \n",
       "123 123           Alice Brown   electronics        191.13720  2023-02-27   \n",
       "124 124           Alice Brown   electronics        306.18832  2023-05-25   \n",
       "125 125           John Smith    electronics        537.21472  2023-12-10   \n",
       "126 126           NA            Home               433.43557  2023-11-26   \n",
       "127 127           John Smith    electronics        194.09321  2023-06-16   \n",
       "128 128           John Smith    Books              776.07924  2023-04-19   \n",
       "129 129           Bob Johnson   Home               817.39074  2023-09-21   \n",
       "130 130           Bob Johnson   ELECTRONICS        430.56969  2023-01-14   \n",
       "131 131           Jane Doe      Books              421.48859  2023-07-05   \n",
       "132 132           John Smith    ELECTRONICS        881.22385  2023-03-20   \n",
       "133 133           Jane Doe      ELECTRONICS        352.85636  2023-08-27   \n",
       "134 134           John Smith    Books                     NA  2023-04-26   \n",
       "135 135           John Smith    electronics        639.68179  2023-08-01   \n",
       "136 136           Bob Johnson   Books              593.64283  <NA>         \n",
       "137 137           Alice Brown   Home               654.22634  2023-09-19   \n",
       "138 138           Alice Brown   electronics        900.44590  2023-12-06   \n",
       "139 139           Bob Johnson   Electronics        105.64775  2023-08-11   \n",
       "140 140           Jane Doe      Clothing           -56.71519  2023-07-20   \n",
       "141 141           NA            Electronics        748.12005  2023-10-14   \n",
       "142 142           Bob Johnson   Home               679.59139  2023-04-07   \n",
       "143 143           Jane Doe      electronics        544.39983  2023-07-19   \n",
       "144 144           John Smith    Home               310.62005  2023-02-09   \n",
       "145 145           John Smith    electronics        629.19766  2023-09-12   \n",
       "146 146           John Smith    ELECTRONICS      12000.00000  2023-01-22   \n",
       "147 147           Bob Johnson   Clothing           690.30942  2023-05-27   \n",
       "148 148           Alice Brown   Books              610.17876  2023-03-13   \n",
       "149 149           Alice Brown   Books              785.89134  2023-09-01   \n",
       "150 150           Alice Brown   Books              793.30445  2023-02-24   \n",
       "    Quantity\n",
       "1     2     \n",
       "2     3     \n",
       "3    -1     \n",
       "4     7     \n",
       "5   100     \n",
       "6     4     \n",
       "7     0     \n",
       "8     7     \n",
       "9     3     \n",
       "10    2     \n",
       "11    5     \n",
       "12    7     \n",
       "13  100     \n",
       "14  100     \n",
       "15    2     \n",
       "16    4     \n",
       "17  100     \n",
       "18    8     \n",
       "19    4     \n",
       "20    6     \n",
       "21    8     \n",
       "22    0     \n",
       "23    2     \n",
       "24    8     \n",
       "25    1     \n",
       "26    4     \n",
       "27  100     \n",
       "28    6     \n",
       "29    2     \n",
       "30    8     \n",
       "⋮   ⋮       \n",
       "121   4     \n",
       "122   5     \n",
       "123   7     \n",
       "124  -1     \n",
       "125   1     \n",
       "126  10     \n",
       "127   3     \n",
       "128   7     \n",
       "129   4     \n",
       "130   8     \n",
       "131  10     \n",
       "132  10     \n",
       "133   7     \n",
       "134   1     \n",
       "135   9     \n",
       "136   2     \n",
       "137  10     \n",
       "138   0     \n",
       "139   4     \n",
       "140   7     \n",
       "141   5     \n",
       "142   6     \n",
       "143   2     \n",
       "144   0     \n",
       "145   9     \n",
       "146   6     \n",
       "147 100     \n",
       "148   7     \n",
       "149   3     \n",
       "150   5     "
      ]
     },
     "metadata": {},
     "output_type": "display_data"
    }
   ],
   "source": [
    "# Inspect the messy dataset\n",
    "print(\"=== DATASET OVERVIEW ===\")\n",
    "head(messy_sales, 150) # First 10 rows"
   ]
  },
  {
   "cell_type": "markdown",
   "id": "f3f0b0f6",
   "metadata": {},
   "source": [
    "# Structure and summary of the data\n",
    "print(\"=== DATA STRUCTURE ===\")\n",
    "str(messy_sales)\n",
    "\n",
    "print(\"=== SUMMARY STATISTICS ===\")\n",
    "summary(messy_sales)"
   ]
  },
  {
   "cell_type": "code",
   "execution_count": 15,
   "id": "c9ddfc59",
   "metadata": {
    "vscode": {
     "languageId": "r"
    }
   },
   "outputs": [
    {
     "name": "stdout",
     "output_type": "stream",
     "text": [
      "[1] \"=== DATA STRUCTURE ===\"\n",
      "spc_tbl_ [200 × 6] (S3: spec_tbl_df/tbl_df/tbl/data.frame)\n",
      " $ TransactionID   : num [1:200] 1 2 3 4 5 6 7 8 9 10 ...\n",
      " $ Customer_Name   : chr [1:200] NA \"Alice Brown\" \"Jane Doe\" \"Jane Doe\" ...\n",
      " $ Product_Category: chr [1:200] \"Home\" \"Clothing\" \"Electronics\" \"Electronics\" ...\n",
      " $ Sales_Amount    : num [1:200] 362 573 488 5000 344 ...\n",
      " $ Purchase_Date   : Date[1:200], format: NA \"2023-10-21\" ...\n",
      " $ Quantity        : num [1:200] 2 3 -1 7 100 4 0 7 3 2 ...\n",
      " - attr(*, \"spec\")=\n",
      "  .. cols(\n",
      "  ..   TransactionID = \u001b[32mcol_double()\u001b[39m,\n",
      "  ..   Customer_Name = \u001b[31mcol_character()\u001b[39m,\n",
      "  ..   Product_Category = \u001b[31mcol_character()\u001b[39m,\n",
      "  ..   Sales_Amount = \u001b[32mcol_double()\u001b[39m,\n",
      "  ..   Purchase_Date = \u001b[34mcol_date(format = \"\")\u001b[39m,\n",
      "  ..   Quantity = \u001b[32mcol_double()\u001b[39m\n",
      "  .. )\n",
      " - attr(*, \"problems\")=<externalptr> \n",
      "[1] \"=== SUMMARY STATISTICS ===\"\n"
     ]
    },
    {
     "data": {
      "text/plain": [
       " TransactionID    Customer_Name      Product_Category    Sales_Amount     \n",
       " Min.   :  1.00   Length:200         Length:200         Min.   :  -100.0  \n",
       " 1st Qu.: 50.75   Class :character   Class :character   1st Qu.:   362.6  \n",
       " Median :100.50   Mode  :character   Mode  :character   Median :   531.3  \n",
       " Mean   :100.50                                         Mean   :  1614.9  \n",
       " 3rd Qu.:150.25                                         3rd Qu.:   694.5  \n",
       " Max.   :200.00                                         Max.   :100000.0  \n",
       "                                                        NA's   :22        \n",
       " Purchase_Date           Quantity     \n",
       " Min.   :2023-01-06   Min.   : -1.00  \n",
       " 1st Qu.:2023-03-26   1st Qu.:  2.00  \n",
       " Median :2023-06-28   Median :  5.00  \n",
       " Mean   :2023-06-23   Mean   : 12.52  \n",
       " 3rd Qu.:2023-09-12   3rd Qu.:  8.00  \n",
       " Max.   :2023-12-28   Max.   :100.00  \n",
       " NA's   :14                           "
      ]
     },
     "metadata": {},
     "output_type": "display_data"
    }
   ],
   "source": [
    "# Structure and summary of the data\n",
    "print(\"=== DATA STRUCTURE ===\")\n",
    "str(messy_sales)\n",
    "\n",
    "print(\"=== SUMMARY STATISTICS ===\")\n",
    "summary(messy_sales)"
   ]
  },
  {
   "cell_type": "code",
   "execution_count": null,
   "id": "6a6ba3b1",
   "metadata": {
    "vscode": {
     "languageId": "r"
    }
   },
   "outputs": [
    {
     "ename": "ERROR",
     "evalue": "Error in parse(text = input): <text>:1:1: unexpected '^'\n1: **\n    ^\n",
     "output_type": "error",
     "traceback": [
      "Error in parse(text = input): <text>:1:1: unexpected '^'\n1: **\n    ^\nTraceback:\n"
     ]
    }
   ],
   "source": [
    "**Data Quality Assessment:**\n",
    "\n",
    "Based on the imported messy_sales dataset, document all the data quality issues you observe:\n",
    "\n",
    "1. **Missing Values:** [Look for NA values - which columns have missing data?]\n",
    "\n",
    "2. **Potential Outliers:** [Check Sales_Amount and Quantity - do any values seem extreme?]\n",
    "\n",
    "3. **Data Inconsistencies:** [Look at Product_Category - are there inconsistent naming conventions?]\n",
    "\n",
    "4. **Data Types:** [Are Purchase_Date and Sales_Amount using appropriate data types?]\n",
    "\n",
    "5. **Invalid Values:** [Are there any logically impossible values like negative quantities?]\n",
    "\n",
    "**YOUR OBSERVATIONS:**\n",
    "\n",
    "[The columns Customer_Name,\tSales_Amount, and Purchase_Date all having missing values listed as NA.The Product_Category column has inconsistent naming conventions, such as \"ELECTRONICS\" and \"electronics\". The TransactionID column should be integer but is listed as double. The Quantity and Sales_Amount column have negative values, which is logically impossible for a sales transaction.]"
   ]
  },
  {
   "cell_type": "markdown",
   "id": "a9d136e7",
   "metadata": {},
   "source": [
    "---\n",
    "\n",
    "### Part 2: Missing Value Analysis and Treatment\n",
    "\n",
    "In this section, you'll identify missing values and apply different strategies to handle them."
   ]
  },
  {
   "cell_type": "markdown",
   "id": "b3c60d90",
   "metadata": {},
   "source": [
    "\n",
    "\n",
    "Complete the following tasks to thoroughly understand the missing value patterns in your dataset."
   ]
  },
  {
   "cell_type": "code",
   "execution_count": 17,
   "id": "e49897c6",
   "metadata": {
    "vscode": {
     "languageId": "r"
    }
   },
   "outputs": [
    {
     "name": "stdout",
     "output_type": "stream",
     "text": [
      "[1] \"Total missing values: 52\"\n",
      "[1] \"Missing values per column:\"\n",
      "   TransactionID    Customer_Name Product_Category     Sales_Amount \n",
      "               0               16                0               22 \n",
      "   Purchase_Date         Quantity \n",
      "              14                0 \n",
      "[1] \"Rows with missing values:\"\n",
      "\u001b[90m# A tibble: 44 × 6\u001b[39m\n",
      "   TransactionID Customer_Name Product_Category Sales_Amount Purchase_Date\n",
      "           \u001b[3m\u001b[90m<dbl>\u001b[39m\u001b[23m \u001b[3m\u001b[90m<chr>\u001b[39m\u001b[23m         \u001b[3m\u001b[90m<chr>\u001b[39m\u001b[23m                   \u001b[3m\u001b[90m<dbl>\u001b[39m\u001b[23m \u001b[3m\u001b[90m<date>\u001b[39m\u001b[23m       \n",
      "\u001b[90m 1\u001b[39m             1 \u001b[31mNA\u001b[39m            Home                     362. \u001b[31mNA\u001b[39m           \n",
      "\u001b[90m 2\u001b[39m            16 Bob Johnson   Books                    246. \u001b[31mNA\u001b[39m           \n",
      "\u001b[90m 3\u001b[39m            18 John Smith    electronics               \u001b[31mNA\u001b[39m  2023-05-21   \n",
      "\u001b[90m 4\u001b[39m            21 \u001b[31mNA\u001b[39m            Books                    483. 2023-04-04   \n",
      "\u001b[90m 5\u001b[39m            23 Jane Doe      Home                      \u001b[31mNA\u001b[39m  2023-01-11   \n",
      "\u001b[90m 6\u001b[39m            26 \u001b[31mNA\u001b[39m            Clothing                 531. 2023-09-12   \n",
      "\u001b[90m 7\u001b[39m            31 Jane Doe      Books                    715. \u001b[31mNA\u001b[39m           \n",
      "\u001b[90m 8\u001b[39m            41 \u001b[31mNA\u001b[39m            ELECTRONICS              789. 2023-11-04   \n",
      "\u001b[90m 9\u001b[39m            43 Bob Johnson   ELECTRONICS               \u001b[31mNA\u001b[39m  2023-12-28   \n",
      "\u001b[90m10\u001b[39m            45 Jane Doe      electronics               \u001b[31mNA\u001b[39m  2023-01-08   \n",
      "\u001b[90m# ℹ 34 more rows\u001b[39m\n",
      "\u001b[90m# ℹ 1 more variable: Quantity <dbl>\u001b[39m\n"
     ]
    }
   ],
   "source": [
    "# TODO: Calculate total missing values in the entire dataset\n",
    "total_missing <- sum(is.na(messy_sales))\n",
    "\n",
    "# TODO: Calculate missing values per column\n",
    "missing_per_column <- colSums(is.na(messy_sales))\n",
    "\n",
    "# TODO: Identify rows with missing values\n",
    "incomplete_rows <- messy_sales[!complete.cases(messy_sales), ]\n",
    "\n",
    "print(paste(\"Total missing values:\", total_missing))\n",
    "print(\"Missing values per column:\")\n",
    "print(missing_per_column)\n",
    "print(\"Rows with missing values:\")\n",
    "print(incomplete_rows)"
   ]
  },
  {
   "cell_type": "code",
   "execution_count": 18,
   "id": "787161c8",
   "metadata": {
    "vscode": {
     "languageId": "r"
    }
   },
   "outputs": [
    {
     "name": "stdout",
     "output_type": "stream",
     "text": [
      "[1] \"Original dataset dimensions:\"\n",
      "[1] 200   6\n",
      "[1] \"After removing NA rows:\"\n",
      "[1] 156   6\n",
      "[1] \"Rows lost: 44\"\n"
     ]
    }
   ],
   "source": [
    "# Remove all rows with missing values\n",
    "sales_removed_na <- na.omit(messy_sales)\n",
    "\n",
    "# Compare dimensions\n",
    "print(\"Original dataset dimensions:\")\n",
    "print(dim(messy_sales))\n",
    "print(\"After removing NA rows:\")\n",
    "print(dim(sales_removed_na))\n",
    "print(paste(\"Rows lost:\", nrow(messy_sales) - nrow(sales_removed_na)))"
   ]
  },
  {
   "cell_type": "code",
   "execution_count": 19,
   "id": "c8d24625",
   "metadata": {
    "vscode": {
     "languageId": "r"
    }
   },
   "outputs": [
    {
     "name": "stdout",
     "output_type": "stream",
     "text": [
      "[1] \"Original dataset dimensions:\"\n",
      "[1] 200   6\n",
      "[1] \"After removing NA rows:\"\n",
      "[1] 156   6\n",
      "[1] \"Rows lost: 44\"\n"
     ]
    }
   ],
   "source": [
    "# TODO: Remove all rows with missing values\n",
    "sales_removed_na <- na.omit(messy_sales)\n",
    "\n",
    "# Compare dimensions\n",
    "print(\"Original dataset dimensions:\")\n",
    "print(dim(messy_sales))\n",
    "print(\"After removing NA rows:\")\n",
    "print(dim(sales_removed_na))\n",
    "print(paste(\"Rows lost:\", nrow(messy_sales) - nrow(sales_removed_na)))"
   ]
  },
  {
   "cell_type": "markdown",
   "id": "6e3704e9",
   "metadata": {},
   "source": [
    "#### 2.3 Missing Value Treatment - Option B (Imputation)\n",
    "\n",
    "\n",
    "Apply appropriate imputation strategies for different types of variables."
   ]
  },
  {
   "cell_type": "code",
   "execution_count": 20,
   "id": "a705ae02",
   "metadata": {
    "vscode": {
     "languageId": "r"
    }
   },
   "outputs": [],
   "source": [
    "## Create a copy for imputation\n",
    "sales_imputed <- messy_sales"
   ]
  },
  {
   "cell_type": "code",
   "execution_count": 21,
   "id": "812ae2f5",
   "metadata": {
    "vscode": {
     "languageId": "r"
    }
   },
   "outputs": [],
   "source": [
    "### TODO: Create a mode function for categorical variables\n",
    "get_mode <- function(v) {\n",
    "  uniqv <- unique(v)\n",
    "  uniqv[which.max(tabulate(match(v, uniqv)))]\n",
    "}"
   ]
  },
  {
   "cell_type": "code",
   "execution_count": 22,
   "id": "2cc223b7",
   "metadata": {
    "vscode": {
     "languageId": "r"
    }
   },
   "outputs": [],
   "source": [
    "### TODO: Impute Customer_Name with mode (for categorical missing values)\n",
    "sales_imputed$Customer_Name[is.na(sales_imputed$Customer_Name)] <- get_mode(sales_imputed$Customer_Name)"
   ]
  },
  {
   "cell_type": "code",
   "execution_count": 23,
   "id": "99d32f7d",
   "metadata": {
    "vscode": {
     "languageId": "r"
    }
   },
   "outputs": [],
   "source": [
    "### To practice median imputation, try it on Quantity column\n",
    "### TODO: Impute Quantity with median (alternative approach for numeric data)\n",
    "sales_imputed$Quantity[is.na(sales_imputed$Quantity)] <- median(sales_imputed$Quantity, na.rm = TRUE)"
   ]
  },
  {
   "cell_type": "code",
   "execution_count": 26,
   "id": "4b33ef08",
   "metadata": {
    "vscode": {
     "languageId": "r"
    }
   },
   "outputs": [
    {
     "name": "stdout",
     "output_type": "stream",
     "text": [
      "[1] \"Missing values after imputation:\"\n",
      "   TransactionID    Customer_Name Product_Category     Sales_Amount \n",
      "               0                0                0               22 \n",
      "   Purchase_Date         Quantity \n",
      "              14                0 \n"
     ]
    }
   ],
   "source": [
    "### Verify imputation success\n",
    "print(\"Missing values after imputation:\")\n",
    "print(colSums(is.na(sales_imputed)))"
   ]
  },
  {
   "cell_type": "code",
   "execution_count": 27,
   "id": "1ac6fc99",
   "metadata": {
    "vscode": {
     "languageId": "r"
    }
   },
   "outputs": [],
   "source": [
    "#### 2.4 Compare Missing Value Strategies Analyze the impact of different missing value treatment approaches."
   ]
  },
  {
   "cell_type": "code",
   "execution_count": 28,
   "id": "824146f8",
   "metadata": {
    "vscode": {
     "languageId": "r"
    }
   },
   "outputs": [
    {
     "name": "stdout",
     "output_type": "stream",
     "text": [
      "[1] \"=== ORIGINAL DATA ===\"\n"
     ]
    },
    {
     "data": {
      "text/plain": [
       "    Min.  1st Qu.   Median     Mean  3rd Qu.     Max.     NA's \n",
       "  -100.0    362.6    531.3   1614.9    694.5 100000.0       22 "
      ]
     },
     "metadata": {},
     "output_type": "display_data"
    }
   ],
   "source": [
    "# Compare summary statistics\n",
    "print(\"=== ORIGINAL DATA ===\")\n",
    "summary(messy_sales$Sales_Amount)"
   ]
  },
  {
   "cell_type": "code",
   "execution_count": 29,
   "id": "e3665b24",
   "metadata": {
    "vscode": {
     "languageId": "r"
    }
   },
   "outputs": [
    {
     "name": "stdout",
     "output_type": "stream",
     "text": [
      "[1] \"=== AFTER REMOVING NAs ===\"\n"
     ]
    },
    {
     "data": {
      "text/plain": [
       "     Min.   1st Qu.    Median      Mean   3rd Qu.      Max. \n",
       "   -56.72    361.79    537.48   1729.00    715.74 100000.00 "
      ]
     },
     "metadata": {},
     "output_type": "display_data"
    }
   ],
   "source": [
    "print(\"=== AFTER REMOVING NAs ===\")\n",
    "summary(sales_removed_na$Sales_Amount)"
   ]
  },
  {
   "cell_type": "code",
   "execution_count": 30,
   "id": "d60582ad",
   "metadata": {
    "vscode": {
     "languageId": "r"
    }
   },
   "outputs": [
    {
     "name": "stdout",
     "output_type": "stream",
     "text": [
      "[1] \"=== AFTER IMPUTATION ===\"\n"
     ]
    },
    {
     "data": {
      "text/plain": [
       "    Min.  1st Qu.   Median     Mean  3rd Qu.     Max.     NA's \n",
       "  -100.0    362.6    531.3   1614.9    694.5 100000.0       22 "
      ]
     },
     "metadata": {},
     "output_type": "display_data"
    }
   ],
   "source": [
    "print(\"=== AFTER IMPUTATION ===\")\n",
    "summary(sales_imputed$Sales_Amount)"
   ]
  },
  {
   "cell_type": "markdown",
   "id": "15bf4a1d",
   "metadata": {},
   "source": [
    "\n",
    "**Analysis Questions:**\n",
    "\n",
    "1. **Which approach would you recommend for this dataset and why?**\n",
    "\n",
    "[imputation is recommended for this dataset because it allows us to retain all available data while addressing missing values. Imputation can help maintain the integrity of the dataset while minimizing the impact of missing data.]\n",
    "\n",
    "1. **What are the trade-offs between removal and imputation?**\n",
    "\n",
    "[Removal ensures that only complete and reliable data is used, improving accuracy, but can lead to loss of valuable data. Imputation preserves data, but can introduce uncertainty and may not accurately reflect the true data.]"
   ]
  },
  {
   "cell_type": "markdown",
   "id": "33a50824",
   "metadata": {},
   "source": [
    "---\n",
    "\n",
    "\"### Part 3: Outlier Detection and Treatment\n",
    "\",\n",
    "\n",
    "Using your imputed dataset, identify and handle outliers in the Sales_Amount variable."
   ]
  },
  {
   "cell_type": "code",
   "execution_count": 32,
   "id": "737913d7",
   "metadata": {
    "vscode": {
     "languageId": "r"
    }
   },
   "outputs": [
    {
     "name": "stdout",
     "output_type": "stream",
     "text": [
      "[1] \"Q1: 362.578164415014\"\n",
      "[1] \"Q3: 694.479236061358\"\n",
      "[1] \"IQR: 331.901071646344\"\n",
      "[1] \"Lower threshold: -135.273443054502\"\n",
      "[1] \"Upper threshold: 1192.33084353087\"\n",
      "[1] \"Number of outliers found: 6\"\n",
      "[1] \"Outlier rows:\"\n",
      "\u001b[90m# A tibble: 6 × 6\u001b[39m\n",
      "  TransactionID Customer_Name Product_Category Sales_Amount Purchase_Date\n",
      "          \u001b[3m\u001b[90m<dbl>\u001b[39m\u001b[23m \u001b[3m\u001b[90m<chr>\u001b[39m\u001b[23m         \u001b[3m\u001b[90m<chr>\u001b[39m\u001b[23m                   \u001b[3m\u001b[90m<dbl>\u001b[39m\u001b[23m \u001b[3m\u001b[90m<date>\u001b[39m\u001b[23m       \n",
      "\u001b[90m1\u001b[39m             4 Jane Doe      Electronics              \u001b[4m5\u001b[24m000 2023-06-16   \n",
      "\u001b[90m2\u001b[39m            46 John Smith    Books                    \u001b[4m8\u001b[24m000 \u001b[31mNA\u001b[39m           \n",
      "\u001b[90m3\u001b[39m            96 John Smith    electronics             \u001b[4m5\u001b[24m\u001b[4m0\u001b[24m000 2023-09-22   \n",
      "\u001b[90m4\u001b[39m           146 John Smith    ELECTRONICS             \u001b[4m1\u001b[24m\u001b[4m2\u001b[24m000 2023-01-22   \n",
      "\u001b[90m5\u001b[39m           167 Bob Johnson   Electronics            \u001b[4m1\u001b[24m\u001b[4m0\u001b[24m\u001b[4m0\u001b[24m000 2023-09-18   \n",
      "\u001b[90m6\u001b[39m           177 Jane Doe      ELECTRONICS             \u001b[4m2\u001b[24m\u001b[4m5\u001b[24m000 2023-08-03   \n",
      "\u001b[90m# ℹ 1 more variable: Quantity <dbl>\u001b[39m\n"
     ]
    }
   ],
   "source": [
    "### 3.1 Outlier Detection Using IQR Method\n",
    "\n",
    "# Calculate quartiles and IQR for Sales_Amount\n",
    "Q1_sales <- quantile(sales_imputed$Sales_Amount, 0.25, na.rm = TRUE)\n",
    "Q3_sales <- quantile(sales_imputed$Sales_Amount, 0.75, na.rm = TRUE)\n",
    "IQR_sales <- Q3_sales - Q1_sales\n",
    "\n",
    "# Calculate outlier thresholds\n",
    "lower_threshold <- Q1_sales - 1.5 * IQR_sales\n",
    "upper_threshold <- Q3_sales + 1.5 * IQR_sales\n",
    "\n",
    "# Identify outliers\n",
    "outliers <- sales_imputed %>%\n",
    "  filter(Sales_Amount < lower_threshold | Sales_Amount > upper_threshold)\n",
    "\n",
    "print(paste(\"Q1:\", Q1_sales))\n",
    "print(paste(\"Q3:\", Q3_sales))\n",
    "print(paste(\"IQR:\", IQR_sales))\n",
    "print(paste(\"Lower threshold:\", lower_threshold))\n",
    "print(paste(\"Upper threshold:\", upper_threshold))\n",
    "print(paste(\"Number of outliers found:\", nrow(outliers)))\n",
    "print(\"Outlier rows:\")\n",
    "print(outliers)"
   ]
  },
  {
   "cell_type": "code",
   "execution_count": 33,
   "id": "9fbae5a6",
   "metadata": {
    "vscode": {
     "languageId": "r"
    }
   },
   "outputs": [],
   "source": [
    "### TODO: Calculate quartiles and IQR for Sales_Amount\n",
    "Q1_sales <- quantile(sales_imputed$Sales_Amount, 0.25, na.rm = TRUE)\n",
    "Q3_sales <- quantile(sales_imputed$Sales_Amount, 0.75, na.rm = TRUE)\n",
    "IQR_sales <- Q3_sales - Q1_sales"
   ]
  },
  {
   "cell_type": "code",
   "execution_count": 34,
   "id": "cc30ca3c",
   "metadata": {
    "vscode": {
     "languageId": "r"
    }
   },
   "outputs": [],
   "source": [
    "### TODO: Calculate outlier thresholds\n",
    "upper_threshold <- Q3_sales + 1.5 * IQR_sales\n",
    "lower_threshold <- Q1_sales - 1.5 * IQR_sales"
   ]
  },
  {
   "cell_type": "code",
   "execution_count": 35,
   "id": "f782a224",
   "metadata": {
    "vscode": {
     "languageId": "r"
    }
   },
   "outputs": [
    {
     "name": "stdout",
     "output_type": "stream",
     "text": [
      "[1] \"Q1: 362.578164415014\"\n",
      "[1] \"Q3: 694.479236061358\"\n",
      "[1] \"IQR: 331.901071646344\"\n",
      "[1] \"Lower threshold: -135.273443054502\"\n",
      "[1] \"Upper threshold: 1192.33084353087\"\n",
      "[1] \"Number of outliers found: 6\"\n",
      "[1] \"Outlier rows:\"\n",
      "\u001b[90m# A tibble: 6 × 6\u001b[39m\n",
      "  TransactionID Customer_Name Product_Category Sales_Amount Purchase_Date\n",
      "          \u001b[3m\u001b[90m<dbl>\u001b[39m\u001b[23m \u001b[3m\u001b[90m<chr>\u001b[39m\u001b[23m         \u001b[3m\u001b[90m<chr>\u001b[39m\u001b[23m                   \u001b[3m\u001b[90m<dbl>\u001b[39m\u001b[23m \u001b[3m\u001b[90m<date>\u001b[39m\u001b[23m       \n",
      "\u001b[90m1\u001b[39m             4 Jane Doe      Electronics              \u001b[4m5\u001b[24m000 2023-06-16   \n",
      "\u001b[90m2\u001b[39m            46 John Smith    Books                    \u001b[4m8\u001b[24m000 \u001b[31mNA\u001b[39m           \n",
      "\u001b[90m3\u001b[39m            96 John Smith    electronics             \u001b[4m5\u001b[24m\u001b[4m0\u001b[24m000 2023-09-22   \n",
      "\u001b[90m4\u001b[39m           146 John Smith    ELECTRONICS             \u001b[4m1\u001b[24m\u001b[4m2\u001b[24m000 2023-01-22   \n",
      "\u001b[90m5\u001b[39m           167 Bob Johnson   Electronics            \u001b[4m1\u001b[24m\u001b[4m0\u001b[24m\u001b[4m0\u001b[24m000 2023-09-18   \n",
      "\u001b[90m6\u001b[39m           177 Jane Doe      ELECTRONICS             \u001b[4m2\u001b[24m\u001b[4m5\u001b[24m000 2023-08-03   \n",
      "\u001b[90m# ℹ 1 more variable: Quantity <dbl>\u001b[39m\n"
     ]
    }
   ],
   "source": [
    "### TODO: Identify outliers\n",
    "outliers <- sales_imputed %>%\n",
    "  filter(Sales_Amount < lower_threshold | Sales_Amount > upper_threshold)\n",
    "\n",
    "print(paste(\"Q1:\", Q1_sales))\n",
    "print(paste(\"Q3:\", Q3_sales))\n",
    "print(paste(\"IQR:\", IQR_sales))\n",
    "print(paste(\"Lower threshold:\", lower_threshold))\n",
    "print(paste(\"Upper threshold:\", upper_threshold))\n",
    "print(paste(\"Number of outliers found:\", nrow(outliers)))\n",
    "print(\"Outlier rows:\")\n",
    "print(outliers)"
   ]
  },
  {
   "cell_type": "markdown",
   "id": "41902067",
   "metadata": {},
   "source": [
    "### 3.2 Outlier Visualization\n",
    "\n",
    "Create a boxplot to visualize the outliers in Sales_Amount."
   ]
  },
  {
   "cell_type": "code",
   "execution_count": 36,
   "id": "473e77cb",
   "metadata": {
    "vscode": {
     "languageId": "r"
    }
   },
   "outputs": [
    {
     "name": "stderr",
     "output_type": "stream",
     "text": [
      "Warning message:\n",
      "“\u001b[1m\u001b[22mRemoved 22 rows containing non-finite outside the scale range\n",
      "(`stat_boxplot()`).”\n"
     ]
    },
    {
     "data": {
      "application/pdf": "[encoded data removed]",
      "image/jpeg": "[encoded data removed]",
      "image/png": "[encoded data removed]",
      "image/svg+xml": [
       "<?xml version=\"1.0\" encoding=\"UTF-8\"?>\n",
       "<svg xmlns=\"http://www.w3.org/2000/svg\" xmlns:xlink=\"http://www.w3.org/1999/xlink\" width=\"504\" height=\"504\" viewBox=\"0 0 504 504\">\n",
       "<defs>\n",
       "<g>\n",
       "<g id=\"glyph-0-0\">\n",
       "<path d=\"M 4.546875 -3.03125 C 4.546875 -2.019531 4.367188 -1.25 4.015625 -0.71875 C 3.660156 -0.1875 3.132812 0.078125 2.4375 0.078125 C 1.738281 0.078125 1.210938 -0.179688 0.859375 -0.703125 C 0.515625 -1.234375 0.34375 -2.007812 0.34375 -3.03125 C 0.34375 -4.070312 0.507812 -4.847656 0.84375 -5.359375 C 1.1875 -5.878906 1.726562 -6.140625 2.46875 -6.140625 C 3.175781 -6.140625 3.695312 -5.875 4.03125 -5.34375 C 4.375 -4.820312 4.546875 -4.050781 4.546875 -3.03125 Z M 3.765625 -3.03125 C 3.765625 -3.90625 3.660156 -4.535156 3.453125 -4.921875 C 3.253906 -5.316406 2.925781 -5.515625 2.46875 -5.515625 C 1.988281 -5.515625 1.644531 -5.320312 1.4375 -4.9375 C 1.226562 -4.550781 1.125 -3.914062 1.125 -3.03125 C 1.125 -2.164062 1.226562 -1.535156 1.4375 -1.140625 C 1.644531 -0.742188 1.976562 -0.546875 2.4375 -0.546875 C 2.894531 -0.546875 3.226562 -0.75 3.4375 -1.15625 C 3.65625 -1.5625 3.765625 -2.1875 3.765625 -3.03125 Z M 3.765625 -3.03125 \"/>\n",
       "</g>\n",
       "<g id=\"glyph-0-1\">\n",
       "<path d=\"M 0.4375 0 L 0.4375 -0.546875 C 0.582031 -0.878906 0.757812 -1.171875 0.96875 -1.421875 C 1.1875 -1.679688 1.410156 -1.914062 1.640625 -2.125 C 1.867188 -2.332031 2.097656 -2.523438 2.328125 -2.703125 C 2.554688 -2.878906 2.757812 -3.054688 2.9375 -3.234375 C 3.125 -3.410156 3.273438 -3.597656 3.390625 -3.796875 C 3.503906 -3.992188 3.5625 -4.210938 3.5625 -4.453125 C 3.5625 -4.785156 3.460938 -5.039062 3.265625 -5.21875 C 3.078125 -5.40625 2.804688 -5.5 2.453125 -5.5 C 2.128906 -5.5 1.859375 -5.410156 1.640625 -5.234375 C 1.429688 -5.054688 1.304688 -4.804688 1.265625 -4.484375 L 0.484375 -4.5625 C 0.535156 -5.039062 0.738281 -5.421875 1.09375 -5.703125 C 1.445312 -5.992188 1.898438 -6.140625 2.453125 -6.140625 C 3.066406 -6.140625 3.535156 -5.992188 3.859375 -5.703125 C 4.191406 -5.421875 4.359375 -5.015625 4.359375 -4.484375 C 4.359375 -4.242188 4.300781 -4.007812 4.1875 -3.78125 C 4.082031 -3.550781 3.921875 -3.316406 3.703125 -3.078125 C 3.492188 -2.847656 3.09375 -2.492188 2.5 -2.015625 C 2.164062 -1.742188 1.898438 -1.5 1.703125 -1.28125 C 1.515625 -1.0625 1.378906 -0.851562 1.296875 -0.65625 L 4.453125 -0.65625 L 4.453125 0 Z M 0.4375 0 \"/>\n",
       "</g>\n",
       "<g id=\"glyph-0-2\">\n",
       "<path d=\"M 4.515625 -1.96875 C 4.515625 -1.332031 4.328125 -0.832031 3.953125 -0.46875 C 3.578125 -0.101562 3.050781 0.078125 2.375 0.078125 C 1.8125 0.078125 1.351562 -0.0390625 1 -0.28125 C 0.65625 -0.53125 0.441406 -0.890625 0.359375 -1.359375 L 1.140625 -1.4375 C 1.296875 -0.84375 1.710938 -0.546875 2.390625 -0.546875 C 2.804688 -0.546875 3.128906 -0.671875 3.359375 -0.921875 C 3.597656 -1.171875 3.71875 -1.515625 3.71875 -1.953125 C 3.71875 -2.335938 3.597656 -2.644531 3.359375 -2.875 C 3.128906 -3.113281 2.8125 -3.234375 2.40625 -3.234375 C 2.195312 -3.234375 2.003906 -3.195312 1.828125 -3.125 C 1.648438 -3.0625 1.46875 -2.953125 1.28125 -2.796875 L 0.53125 -2.796875 L 0.734375 -6.046875 L 4.171875 -6.046875 L 4.171875 -5.390625 L 1.4375 -5.390625 L 1.3125 -3.46875 C 1.65625 -3.726562 2.070312 -3.859375 2.5625 -3.859375 C 3.164062 -3.859375 3.640625 -3.679688 3.984375 -3.328125 C 4.335938 -2.984375 4.515625 -2.53125 4.515625 -1.96875 Z M 4.515625 -1.96875 \"/>\n",
       "</g>\n",
       "<g id=\"glyph-0-3\">\n",
       "<path d=\"M 4.453125 -5.421875 C 3.828125 -4.472656 3.382812 -3.734375 3.125 -3.203125 C 2.875 -2.671875 2.6875 -2.144531 2.5625 -1.625 C 2.4375 -1.101562 2.375 -0.5625 2.375 0 L 1.5625 0 C 1.5625 -0.769531 1.722656 -1.582031 2.046875 -2.4375 C 2.378906 -3.289062 2.929688 -4.273438 3.703125 -5.390625 L 0.453125 -5.390625 L 0.453125 -6.046875 L 4.453125 -6.046875 Z M 4.453125 -5.421875 \"/>\n",
       "</g>\n",
       "<g id=\"glyph-0-4\">\n",
       "<path d=\"M 0.671875 0 L 0.671875 -0.65625 L 2.21875 -0.65625 L 2.21875 -5.3125 L 0.84375 -4.34375 L 0.84375 -5.0625 L 2.28125 -6.046875 L 2.984375 -6.046875 L 2.984375 -0.65625 L 4.46875 -0.65625 L 4.46875 0 Z M 0.671875 0 \"/>\n",
       "</g>\n",
       "<g id=\"glyph-0-5\">\n",
       "<path d=\"M 0.390625 -2 L 0.390625 -2.6875 L 2.53125 -2.6875 L 2.53125 -2 Z M 0.390625 -2 \"/>\n",
       "</g>\n",
       "<g id=\"glyph-0-6\">\n",
       "<path d=\"M 0.796875 0 L 0.796875 -0.9375 L 1.640625 -0.9375 L 1.640625 0 Z M 0.796875 0 \"/>\n",
       "</g>\n",
       "<g id=\"glyph-0-7\">\n",
       "<path d=\"M 3.78125 -1.375 L 3.78125 0 L 3.046875 0 L 3.046875 -1.375 L 0.203125 -1.375 L 0.203125 -1.96875 L 2.96875 -6.046875 L 3.78125 -6.046875 L 3.78125 -1.984375 L 4.640625 -1.984375 L 4.640625 -1.375 Z M 3.046875 -5.1875 C 3.046875 -5.164062 3.007812 -5.085938 2.9375 -4.953125 C 2.863281 -4.816406 2.804688 -4.722656 2.765625 -4.671875 L 1.21875 -2.390625 L 0.984375 -2.0625 L 0.921875 -1.984375 L 3.046875 -1.984375 Z M 3.046875 -5.1875 \"/>\n",
       "</g>\n",
       "<g id=\"glyph-1-0\">\n",
       "<path d=\"M -2.09375 -6.828125 C -1.394531 -6.828125 -0.851562 -6.550781 -0.46875 -6 C -0.0820312 -5.457031 0.109375 -4.691406 0.109375 -3.703125 C 0.109375 -1.859375 -0.53125 -0.789062 -1.8125 -0.5 L -2.015625 -1.5 C -1.554688 -1.613281 -1.21875 -1.851562 -1 -2.21875 C -0.789062 -2.59375 -0.6875 -3.101562 -0.6875 -3.75 C -0.6875 -4.40625 -0.800781 -4.910156 -1.03125 -5.265625 C -1.257812 -5.628906 -1.59375 -5.8125 -2.03125 -5.8125 C -2.28125 -5.8125 -2.484375 -5.753906 -2.640625 -5.640625 C -2.796875 -5.535156 -2.921875 -5.378906 -3.015625 -5.171875 C -3.117188 -4.960938 -3.203125 -4.71875 -3.265625 -4.4375 C -3.335938 -4.15625 -3.410156 -3.84375 -3.484375 -3.5 C -3.617188 -2.90625 -3.753906 -2.453125 -3.890625 -2.140625 C -4.023438 -1.828125 -4.171875 -1.582031 -4.328125 -1.40625 C -4.492188 -1.226562 -4.6875 -1.09375 -4.90625 -1 C -5.125 -0.90625 -5.375 -0.859375 -5.65625 -0.859375 C -6.300781 -0.859375 -6.800781 -1.101562 -7.15625 -1.59375 C -7.507812 -2.09375 -7.6875 -2.804688 -7.6875 -3.734375 C -7.6875 -4.585938 -7.550781 -5.238281 -7.28125 -5.6875 C -7.019531 -6.144531 -6.570312 -6.46875 -5.9375 -6.65625 L -5.765625 -5.640625 C -6.160156 -5.535156 -6.445312 -5.328125 -6.625 -5.015625 C -6.8125 -4.703125 -6.90625 -4.269531 -6.90625 -3.71875 C -6.90625 -3.113281 -6.804688 -2.648438 -6.609375 -2.328125 C -6.410156 -2.015625 -6.109375 -1.859375 -5.703125 -1.859375 C -5.472656 -1.859375 -5.28125 -1.914062 -5.125 -2.03125 C -4.976562 -2.15625 -4.851562 -2.332031 -4.75 -2.5625 C -4.644531 -2.800781 -4.515625 -3.269531 -4.359375 -3.96875 C -4.304688 -4.195312 -4.25 -4.425781 -4.1875 -4.65625 C -4.132812 -4.882812 -4.066406 -5.101562 -3.984375 -5.3125 C -3.910156 -5.53125 -3.820312 -5.726562 -3.71875 -5.90625 C -3.613281 -6.09375 -3.484375 -6.253906 -3.328125 -6.390625 C -3.179688 -6.523438 -3.003906 -6.628906 -2.796875 -6.703125 C -2.597656 -6.785156 -2.363281 -6.828125 -2.09375 -6.828125 Z M -2.09375 -6.828125 \"/>\n",
       "</g>\n",
       "<g id=\"glyph-1-1\">\n",
       "<path d=\"M 0.109375 -2.21875 C 0.109375 -1.632812 -0.0390625 -1.195312 -0.34375 -0.90625 C -0.65625 -0.613281 -1.082031 -0.46875 -1.625 -0.46875 C -2.226562 -0.46875 -2.6875 -0.664062 -3 -1.0625 C -3.320312 -1.457031 -3.5 -2.09375 -3.53125 -2.96875 L -3.546875 -4.28125 L -3.859375 -4.28125 C -4.335938 -4.28125 -4.675781 -4.175781 -4.875 -3.96875 C -5.082031 -3.769531 -5.1875 -3.457031 -5.1875 -3.03125 C -5.1875 -2.601562 -5.113281 -2.289062 -4.96875 -2.09375 C -4.820312 -1.894531 -4.585938 -1.773438 -4.265625 -1.734375 L -4.34375 -0.71875 C -5.394531 -0.882812 -5.921875 -1.664062 -5.921875 -3.0625 C -5.921875 -3.789062 -5.753906 -4.335938 -5.421875 -4.703125 C -5.085938 -5.078125 -4.601562 -5.265625 -3.96875 -5.265625 L -1.46875 -5.265625 C -1.175781 -5.265625 -0.957031 -5.300781 -0.8125 -5.375 C -0.664062 -5.445312 -0.59375 -5.585938 -0.59375 -5.796875 C -0.59375 -5.890625 -0.609375 -6 -0.640625 -6.125 L -0.03125 -6.125 C 0.0195312 -5.875 0.046875 -5.625 0.046875 -5.375 C 0.046875 -5.007812 -0.046875 -4.742188 -0.234375 -4.578125 C -0.421875 -4.421875 -0.710938 -4.332031 -1.109375 -4.3125 L -1.109375 -4.28125 C -0.671875 -4.03125 -0.359375 -3.738281 -0.171875 -3.40625 C 0.015625 -3.082031 0.109375 -2.6875 0.109375 -2.21875 Z M -0.625 -2.4375 C -0.625 -2.789062 -0.703125 -3.101562 -0.859375 -3.375 C -1.015625 -3.65625 -1.234375 -3.875 -1.515625 -4.03125 C -1.796875 -4.195312 -2.085938 -4.28125 -2.390625 -4.28125 L -2.875 -4.28125 L -2.84375 -3.21875 C -2.84375 -2.769531 -2.796875 -2.425781 -2.703125 -2.1875 C -2.617188 -1.957031 -2.488281 -1.78125 -2.3125 -1.65625 C -2.132812 -1.53125 -1.898438 -1.46875 -1.609375 -1.46875 C -1.296875 -1.46875 -1.050781 -1.550781 -0.875 -1.71875 C -0.707031 -1.882812 -0.625 -2.125 -0.625 -2.4375 Z M -0.625 -2.4375 \"/>\n",
       "</g>\n",
       "<g id=\"glyph-1-2\">\n",
       "<path d=\"M 0 -0.734375 L -7.96875 -0.734375 L -7.96875 -1.703125 L 0 -1.703125 Z M 0 -0.734375 \"/>\n",
       "</g>\n",
       "<g id=\"glyph-1-3\">\n",
       "<path d=\"M -2.703125 -1.484375 C -2.035156 -1.484375 -1.519531 -1.617188 -1.15625 -1.890625 C -0.800781 -2.171875 -0.625 -2.578125 -0.625 -3.109375 C -0.625 -3.523438 -0.707031 -3.859375 -0.875 -4.109375 C -1.039062 -4.359375 -1.253906 -4.53125 -1.515625 -4.625 L -1.265625 -5.46875 C -0.347656 -5.125 0.109375 -4.335938 0.109375 -3.109375 C 0.109375 -2.242188 -0.144531 -1.585938 -0.65625 -1.140625 C -1.164062 -0.691406 -1.925781 -0.46875 -2.9375 -0.46875 C -3.90625 -0.46875 -4.644531 -0.691406 -5.15625 -1.140625 C -5.664062 -1.585938 -5.921875 -2.226562 -5.921875 -3.0625 C -5.921875 -4.769531 -4.890625 -5.625 -2.828125 -5.625 L -2.703125 -5.625 Z M -3.4375 -4.625 C -4.050781 -4.570312 -4.5 -4.414062 -4.78125 -4.15625 C -5.0625 -3.90625 -5.203125 -3.535156 -5.203125 -3.046875 C -5.203125 -2.578125 -5.046875 -2.207031 -4.734375 -1.9375 C -4.421875 -1.664062 -3.988281 -1.519531 -3.4375 -1.5 Z M -3.4375 -4.625 \"/>\n",
       "</g>\n",
       "<g id=\"glyph-1-4\">\n",
       "<path d=\"M -1.609375 -5.109375 C -1.054688 -5.109375 -0.628906 -4.898438 -0.328125 -4.484375 C -0.0351562 -4.066406 0.109375 -3.488281 0.109375 -2.75 C 0.109375 -2.019531 -0.0078125 -1.457031 -0.25 -1.0625 C -0.488281 -0.675781 -0.859375 -0.425781 -1.359375 -0.3125 L -1.53125 -1.15625 C -1.21875 -1.238281 -0.988281 -1.410156 -0.84375 -1.671875 C -0.695312 -1.929688 -0.625 -2.289062 -0.625 -2.75 C -0.625 -3.238281 -0.695312 -3.59375 -0.84375 -3.8125 C -1 -4.039062 -1.226562 -4.15625 -1.53125 -4.15625 C -1.757812 -4.15625 -1.941406 -4.078125 -2.078125 -3.921875 C -2.222656 -3.765625 -2.34375 -3.507812 -2.4375 -3.15625 L -2.625 -2.46875 C -2.769531 -1.914062 -2.910156 -1.519531 -3.046875 -1.28125 C -3.179688 -1.050781 -3.347656 -0.867188 -3.546875 -0.734375 C -3.742188 -0.597656 -3.988281 -0.53125 -4.28125 -0.53125 C -4.8125 -0.53125 -5.210938 -0.71875 -5.484375 -1.09375 C -5.765625 -1.476562 -5.90625 -2.03125 -5.90625 -2.75 C -5.90625 -3.394531 -5.789062 -3.90625 -5.5625 -4.28125 C -5.332031 -4.65625 -4.972656 -4.894531 -4.484375 -5 L -4.375 -4.125 C -4.632812 -4.070312 -4.832031 -3.925781 -4.96875 -3.6875 C -5.101562 -3.457031 -5.171875 -3.144531 -5.171875 -2.75 C -5.171875 -2.3125 -5.101562 -1.988281 -4.96875 -1.78125 C -4.84375 -1.582031 -4.644531 -1.484375 -4.375 -1.484375 C -4.207031 -1.484375 -4.066406 -1.523438 -3.953125 -1.609375 C -3.847656 -1.691406 -3.757812 -1.816406 -3.6875 -1.984375 C -3.613281 -2.148438 -3.507812 -2.503906 -3.375 -3.046875 C -3.25 -3.554688 -3.128906 -3.925781 -3.015625 -4.15625 C -2.910156 -4.382812 -2.789062 -4.5625 -2.65625 -4.6875 C -2.519531 -4.820312 -2.363281 -4.925781 -2.1875 -5 C -2.019531 -5.070312 -1.828125 -5.109375 -1.609375 -5.109375 Z M -1.609375 -5.109375 \"/>\n",
       "</g>\n",
       "<g id=\"glyph-1-5\">\n",
       "<path d=\"M 2.1875 0.171875 L 1.484375 0.171875 L 1.484375 -6.234375 L 2.1875 -6.234375 Z M 2.1875 0.171875 \"/>\n",
       "</g>\n",
       "<g id=\"glyph-1-6\">\n",
       "<path d=\"M 0 -6.265625 L -2.21875 -5.40625 L -2.21875 -1.953125 L 0 -1.078125 L 0 -0.015625 L -7.5625 -3.109375 L -7.5625 -4.28125 L 0 -7.3125 Z M -6.796875 -3.671875 L -6.640625 -3.625 C -6.347656 -3.539062 -5.96875 -3.410156 -5.5 -3.234375 L -3.015625 -2.265625 L -3.015625 -5.09375 L -5.515625 -4.125 C -5.753906 -4.019531 -6.03125 -3.921875 -6.34375 -3.828125 Z M -6.796875 -3.671875 \"/>\n",
       "</g>\n",
       "<g id=\"glyph-1-7\">\n",
       "<path d=\"M 0 -4.125 L -3.6875 -4.125 C -4.25 -4.125 -4.632812 -4.046875 -4.84375 -3.890625 C -5.0625 -3.734375 -5.171875 -3.457031 -5.171875 -3.0625 C -5.171875 -2.644531 -5.015625 -2.316406 -4.703125 -2.078125 C -4.390625 -1.835938 -3.945312 -1.71875 -3.375 -1.71875 L 0 -1.71875 L 0 -0.765625 L -4.578125 -0.765625 C -5.253906 -0.765625 -5.664062 -0.753906 -5.8125 -0.734375 L -5.8125 -1.640625 C -5.789062 -1.648438 -5.738281 -1.65625 -5.65625 -1.65625 C -5.582031 -1.65625 -5.492188 -1.65625 -5.390625 -1.65625 C -5.296875 -1.664062 -5.101562 -1.675781 -4.8125 -1.6875 L -4.8125 -1.703125 C -5.226562 -1.910156 -5.515625 -2.144531 -5.671875 -2.40625 C -5.835938 -2.675781 -5.921875 -3.007812 -5.921875 -3.40625 C -5.921875 -3.84375 -5.832031 -4.1875 -5.65625 -4.4375 C -5.476562 -4.695312 -5.195312 -4.878906 -4.8125 -4.984375 L -4.8125 -5 C -5.207031 -5.195312 -5.488281 -5.4375 -5.65625 -5.71875 C -5.832031 -6.007812 -5.921875 -6.351562 -5.921875 -6.75 C -5.921875 -7.34375 -5.757812 -7.769531 -5.4375 -8.03125 C -5.125 -8.300781 -4.601562 -8.4375 -3.875 -8.4375 L 0 -8.4375 L 0 -7.484375 L -3.6875 -7.484375 C -4.25 -7.484375 -4.632812 -7.40625 -4.84375 -7.25 C -5.0625 -7.09375 -5.171875 -6.816406 -5.171875 -6.421875 C -5.171875 -5.992188 -5.015625 -5.660156 -4.703125 -5.421875 C -4.390625 -5.191406 -3.945312 -5.078125 -3.375 -5.078125 L 0 -5.078125 Z M 0 -4.125 \"/>\n",
       "</g>\n",
       "<g id=\"glyph-1-8\">\n",
       "<path d=\"M -2.90625 -5.65625 C -1.894531 -5.65625 -1.140625 -5.429688 -0.640625 -4.984375 C -0.140625 -4.535156 0.109375 -3.882812 0.109375 -3.03125 C 0.109375 -2.1875 -0.144531 -1.546875 -0.65625 -1.109375 C -1.175781 -0.679688 -1.925781 -0.46875 -2.90625 -0.46875 C -4.914062 -0.46875 -5.921875 -1.332031 -5.921875 -3.0625 C -5.921875 -3.957031 -5.675781 -4.613281 -5.1875 -5.03125 C -4.695312 -5.445312 -3.9375 -5.65625 -2.90625 -5.65625 Z M -2.90625 -4.640625 C -3.707031 -4.640625 -4.289062 -4.519531 -4.65625 -4.28125 C -5.019531 -4.039062 -5.203125 -3.640625 -5.203125 -3.078125 C -5.203125 -2.515625 -5.015625 -2.109375 -4.640625 -1.859375 C -4.273438 -1.609375 -3.695312 -1.484375 -2.90625 -1.484375 C -2.144531 -1.484375 -1.570312 -1.601562 -1.1875 -1.84375 C -0.800781 -2.09375 -0.609375 -2.488281 -0.609375 -3.03125 C -0.609375 -3.601562 -0.789062 -4.015625 -1.15625 -4.265625 C -1.53125 -4.515625 -2.113281 -4.640625 -2.90625 -4.640625 Z M -2.90625 -4.640625 \"/>\n",
       "</g>\n",
       "<g id=\"glyph-1-9\">\n",
       "<path d=\"M -5.8125 -1.6875 L -2.125 -1.6875 C -1.738281 -1.6875 -1.441406 -1.722656 -1.234375 -1.796875 C -1.023438 -1.867188 -0.875 -1.988281 -0.78125 -2.15625 C -0.6875 -2.320312 -0.640625 -2.566406 -0.640625 -2.890625 C -0.640625 -3.347656 -0.796875 -3.710938 -1.109375 -3.984375 C -1.429688 -4.253906 -1.875 -4.390625 -2.4375 -4.390625 L -5.8125 -4.390625 L -5.8125 -5.359375 L -1.234375 -5.359375 C -0.554688 -5.359375 -0.144531 -5.367188 0 -5.390625 L 0 -4.46875 C -0.0195312 -4.46875 -0.0664062 -4.460938 -0.140625 -4.453125 C -0.222656 -4.453125 -0.3125 -4.445312 -0.40625 -4.4375 C -0.507812 -4.4375 -0.707031 -4.4375 -1 -4.4375 L -1 -4.421875 C -0.59375 -4.191406 -0.304688 -3.929688 -0.140625 -3.640625 C 0.0234375 -3.347656 0.109375 -2.988281 0.109375 -2.5625 C 0.109375 -1.914062 -0.046875 -1.445312 -0.359375 -1.15625 C -0.679688 -0.863281 -1.207031 -0.71875 -1.9375 -0.71875 L -5.8125 -0.71875 Z M -5.8125 -1.6875 \"/>\n",
       "</g>\n",
       "<g id=\"glyph-1-10\">\n",
       "<path d=\"M 0 -4.4375 L -3.6875 -4.4375 C -4.070312 -4.4375 -4.367188 -4.394531 -4.578125 -4.3125 C -4.785156 -4.238281 -4.9375 -4.117188 -5.03125 -3.953125 C -5.125 -3.796875 -5.171875 -3.554688 -5.171875 -3.234375 C -5.171875 -2.765625 -5.007812 -2.394531 -4.6875 -2.125 C -4.375 -1.863281 -3.9375 -1.734375 -3.375 -1.734375 L 0 -1.734375 L 0 -0.765625 L -4.578125 -0.765625 C -5.253906 -0.765625 -5.664062 -0.753906 -5.8125 -0.734375 L -5.8125 -1.640625 C -5.789062 -1.648438 -5.738281 -1.65625 -5.65625 -1.65625 C -5.582031 -1.65625 -5.492188 -1.65625 -5.390625 -1.65625 C -5.296875 -1.664062 -5.101562 -1.675781 -4.8125 -1.6875 L -4.8125 -1.703125 C -5.21875 -1.921875 -5.503906 -2.175781 -5.671875 -2.46875 C -5.835938 -2.757812 -5.921875 -3.125 -5.921875 -3.5625 C -5.921875 -4.195312 -5.757812 -4.660156 -5.4375 -4.953125 C -5.125 -5.253906 -4.601562 -5.40625 -3.875 -5.40625 L 0 -5.40625 Z M 0 -4.4375 \"/>\n",
       "</g>\n",
       "<g id=\"glyph-1-11\">\n",
       "<path d=\"M -0.046875 -2.96875 C 0.046875 -2.65625 0.09375 -2.332031 0.09375 -2 C 0.09375 -1.226562 -0.347656 -0.84375 -1.234375 -0.84375 L -5.109375 -0.84375 L -5.109375 -0.171875 L -5.8125 -0.171875 L -5.8125 -0.875 L -7.109375 -1.15625 L -7.109375 -1.8125 L -5.8125 -1.8125 L -5.8125 -2.875 L -5.109375 -2.875 L -5.109375 -1.8125 L -1.4375 -1.8125 C -1.15625 -1.8125 -0.957031 -1.851562 -0.84375 -1.9375 C -0.738281 -2.03125 -0.6875 -2.191406 -0.6875 -2.421875 C -0.6875 -2.546875 -0.707031 -2.726562 -0.75 -2.96875 Z M -0.046875 -2.96875 \"/>\n",
       "</g>\n",
       "<g id=\"glyph-2-0\">\n",
       "<path d=\"M 8.203125 -2.515625 C 8.203125 -1.671875 7.875 -1.019531 7.21875 -0.5625 C 6.5625 -0.101562 5.640625 0.125 4.453125 0.125 C 2.234375 0.125 0.945312 -0.640625 0.59375 -2.171875 L 1.796875 -2.421875 C 1.929688 -1.867188 2.222656 -1.460938 2.671875 -1.203125 C 3.117188 -0.953125 3.726562 -0.828125 4.5 -0.828125 C 5.289062 -0.828125 5.898438 -0.960938 6.328125 -1.234375 C 6.765625 -1.515625 6.984375 -1.914062 6.984375 -2.4375 C 6.984375 -2.738281 6.914062 -2.976562 6.78125 -3.15625 C 6.644531 -3.34375 6.453125 -3.492188 6.203125 -3.609375 C 5.960938 -3.734375 5.671875 -3.835938 5.328125 -3.921875 C 4.992188 -4.003906 4.617188 -4.09375 4.203125 -4.1875 C 3.484375 -4.34375 2.9375 -4.5 2.5625 -4.65625 C 2.195312 -4.820312 1.90625 -5.003906 1.6875 -5.203125 C 1.46875 -5.398438 1.300781 -5.628906 1.1875 -5.890625 C 1.082031 -6.148438 1.03125 -6.445312 1.03125 -6.78125 C 1.03125 -7.5625 1.328125 -8.160156 1.921875 -8.578125 C 2.515625 -9.003906 3.363281 -9.21875 4.46875 -9.21875 C 5.5 -9.21875 6.285156 -9.054688 6.828125 -8.734375 C 7.378906 -8.421875 7.765625 -7.882812 7.984375 -7.125 L 6.78125 -6.921875 C 6.644531 -7.398438 6.390625 -7.75 6.015625 -7.96875 C 5.640625 -8.1875 5.125 -8.296875 4.46875 -8.296875 C 3.738281 -8.296875 3.179688 -8.171875 2.796875 -7.921875 C 2.410156 -7.679688 2.21875 -7.328125 2.21875 -6.859375 C 2.21875 -6.578125 2.289062 -6.34375 2.4375 -6.15625 C 2.59375 -5.976562 2.804688 -5.820312 3.078125 -5.6875 C 3.359375 -5.5625 3.914062 -5.410156 4.75 -5.234375 C 5.03125 -5.160156 5.3125 -5.09375 5.59375 -5.03125 C 5.875 -4.96875 6.140625 -4.890625 6.390625 -4.796875 C 6.640625 -4.703125 6.875 -4.59375 7.09375 -4.46875 C 7.320312 -4.34375 7.515625 -4.1875 7.671875 -4 C 7.835938 -3.820312 7.96875 -3.609375 8.0625 -3.359375 C 8.15625 -3.117188 8.203125 -2.835938 8.203125 -2.515625 Z M 8.203125 -2.515625 \"/>\n",
       "</g>\n",
       "<g id=\"glyph-2-1\">\n",
       "<path d=\"M 2.671875 0.125 C 1.972656 0.125 1.445312 -0.0546875 1.09375 -0.421875 C 0.738281 -0.796875 0.5625 -1.304688 0.5625 -1.953125 C 0.5625 -2.671875 0.796875 -3.222656 1.265625 -3.609375 C 1.742188 -3.992188 2.515625 -4.203125 3.578125 -4.234375 L 5.140625 -4.25 L 5.140625 -4.640625 C 5.140625 -5.203125 5.019531 -5.601562 4.78125 -5.84375 C 4.539062 -6.09375 4.160156 -6.21875 3.640625 -6.21875 C 3.117188 -6.21875 2.738281 -6.128906 2.5 -5.953125 C 2.269531 -5.773438 2.128906 -5.492188 2.078125 -5.109375 L 0.875 -5.21875 C 1.070312 -6.476562 2.003906 -7.109375 3.671875 -7.109375 C 4.546875 -7.109375 5.203125 -6.90625 5.640625 -6.5 C 6.085938 -6.101562 6.3125 -5.519531 6.3125 -4.75 L 6.3125 -1.75 C 6.3125 -1.40625 6.351562 -1.144531 6.4375 -0.96875 C 6.53125 -0.800781 6.707031 -0.71875 6.96875 -0.71875 C 7.070312 -0.71875 7.195312 -0.734375 7.34375 -0.765625 L 7.34375 -0.03125 C 7.050781 0.03125 6.753906 0.0625 6.453125 0.0625 C 6.015625 0.0625 5.695312 -0.046875 5.5 -0.265625 C 5.3125 -0.492188 5.203125 -0.847656 5.171875 -1.328125 L 5.140625 -1.328125 C 4.835938 -0.796875 4.488281 -0.421875 4.09375 -0.203125 C 3.707031 0.015625 3.234375 0.125 2.671875 0.125 Z M 2.9375 -0.734375 C 3.363281 -0.734375 3.738281 -0.832031 4.0625 -1.03125 C 4.394531 -1.226562 4.65625 -1.492188 4.84375 -1.828125 C 5.039062 -2.160156 5.140625 -2.507812 5.140625 -2.875 L 5.140625 -3.4375 L 3.875 -3.421875 C 3.320312 -3.410156 2.90625 -3.351562 2.625 -3.25 C 2.34375 -3.144531 2.125 -2.984375 1.96875 -2.765625 C 1.820312 -2.554688 1.75 -2.273438 1.75 -1.921875 C 1.75 -1.546875 1.847656 -1.253906 2.046875 -1.046875 C 2.253906 -0.835938 2.550781 -0.734375 2.9375 -0.734375 Z M 2.9375 -0.734375 \"/>\n",
       "</g>\n",
       "<g id=\"glyph-2-2\">\n",
       "<path d=\"M 0.890625 0 L 0.890625 -9.5625 L 2.046875 -9.5625 L 2.046875 0 Z M 0.890625 0 \"/>\n",
       "</g>\n",
       "<g id=\"glyph-2-3\">\n",
       "<path d=\"M 1.78125 -3.25 C 1.78125 -2.445312 1.941406 -1.828125 2.265625 -1.390625 C 2.597656 -0.953125 3.082031 -0.734375 3.71875 -0.734375 C 4.226562 -0.734375 4.632812 -0.832031 4.9375 -1.03125 C 5.238281 -1.238281 5.441406 -1.5 5.546875 -1.8125 L 6.5625 -1.515625 C 6.144531 -0.421875 5.195312 0.125 3.71875 0.125 C 2.6875 0.125 1.898438 -0.179688 1.359375 -0.796875 C 0.828125 -1.410156 0.5625 -2.320312 0.5625 -3.53125 C 0.5625 -4.6875 0.828125 -5.570312 1.359375 -6.1875 C 1.898438 -6.800781 2.675781 -7.109375 3.6875 -7.109375 C 5.726562 -7.109375 6.75 -5.867188 6.75 -3.390625 L 6.75 -3.25 Z M 5.5625 -4.125 C 5.488281 -4.863281 5.296875 -5.398438 4.984375 -5.734375 C 4.679688 -6.078125 4.238281 -6.25 3.65625 -6.25 C 3.09375 -6.25 2.644531 -6.0625 2.3125 -5.6875 C 1.988281 -5.3125 1.816406 -4.789062 1.796875 -4.125 Z M 5.5625 -4.125 \"/>\n",
       "</g>\n",
       "<g id=\"glyph-2-4\">\n",
       "<path d=\"M 6.125 -1.921875 C 6.125 -1.265625 5.875 -0.757812 5.375 -0.40625 C 4.882812 -0.0507812 4.191406 0.125 3.296875 0.125 C 2.421875 0.125 1.75 -0.015625 1.28125 -0.296875 C 0.8125 -0.585938 0.507812 -1.035156 0.375 -1.640625 L 1.390625 -1.84375 C 1.492188 -1.46875 1.695312 -1.191406 2 -1.015625 C 2.3125 -0.835938 2.742188 -0.75 3.296875 -0.75 C 3.878906 -0.75 4.304688 -0.835938 4.578125 -1.015625 C 4.859375 -1.203125 5 -1.476562 5 -1.84375 C 5 -2.113281 4.898438 -2.332031 4.703125 -2.5 C 4.515625 -2.675781 4.210938 -2.820312 3.796875 -2.9375 L 2.96875 -3.15625 C 2.300781 -3.320312 1.828125 -3.488281 1.546875 -3.65625 C 1.265625 -3.820312 1.039062 -4.019531 0.875 -4.25 C 0.71875 -4.488281 0.640625 -4.78125 0.640625 -5.125 C 0.640625 -5.757812 0.863281 -6.242188 1.3125 -6.578125 C 1.769531 -6.910156 2.4375 -7.078125 3.3125 -7.078125 C 4.082031 -7.078125 4.691406 -6.941406 5.140625 -6.671875 C 5.597656 -6.398438 5.882812 -5.96875 6 -5.375 L 4.953125 -5.25 C 4.890625 -5.5625 4.71875 -5.796875 4.4375 -5.953125 C 4.15625 -6.117188 3.78125 -6.203125 3.3125 -6.203125 C 2.78125 -6.203125 2.390625 -6.125 2.140625 -5.96875 C 1.890625 -5.8125 1.765625 -5.570312 1.765625 -5.25 C 1.765625 -5.050781 1.816406 -4.882812 1.921875 -4.75 C 2.023438 -4.625 2.175781 -4.515625 2.375 -4.421875 C 2.582031 -4.335938 3.007812 -4.21875 3.65625 -4.0625 C 4.269531 -3.90625 4.710938 -3.757812 4.984375 -3.625 C 5.253906 -3.5 5.46875 -3.351562 5.625 -3.1875 C 5.78125 -3.03125 5.898438 -2.847656 5.984375 -2.640625 C 6.078125 -2.429688 6.125 -2.191406 6.125 -1.921875 Z M 6.125 -1.921875 \"/>\n",
       "</g>\n",
       "<g id=\"glyph-2-5\">\n",
       "</g>\n",
       "<g id=\"glyph-2-6\">\n",
       "<path d=\"M 7.53125 0 L 6.484375 -2.65625 L 2.34375 -2.65625 L 1.296875 0 L 0.03125 0 L 3.734375 -9.078125 L 5.125 -9.078125 L 8.78125 0 Z M 4.421875 -8.15625 L 4.359375 -7.96875 C 4.253906 -7.613281 4.09375 -7.160156 3.875 -6.609375 L 2.71875 -3.609375 L 6.125 -3.609375 L 4.953125 -6.609375 C 4.828125 -6.910156 4.707031 -7.25 4.59375 -7.625 Z M 4.421875 -8.15625 \"/>\n",
       "</g>\n",
       "<g id=\"glyph-2-7\">\n",
       "<path d=\"M 4.953125 0 L 4.953125 -4.421875 C 4.953125 -5.097656 4.859375 -5.5625 4.671875 -5.8125 C 4.484375 -6.070312 4.148438 -6.203125 3.671875 -6.203125 C 3.179688 -6.203125 2.789062 -6.015625 2.5 -5.640625 C 2.207031 -5.265625 2.0625 -4.734375 2.0625 -4.046875 L 2.0625 0 L 0.921875 0 L 0.921875 -5.484375 C 0.921875 -6.296875 0.90625 -6.789062 0.875 -6.96875 L 1.96875 -6.96875 C 1.976562 -6.945312 1.984375 -6.890625 1.984375 -6.796875 C 1.984375 -6.703125 1.988281 -6.59375 2 -6.46875 C 2.007812 -6.351562 2.019531 -6.125 2.03125 -5.78125 L 2.046875 -5.78125 C 2.296875 -6.28125 2.582031 -6.625 2.90625 -6.8125 C 3.226562 -7.007812 3.617188 -7.109375 4.078125 -7.109375 C 4.609375 -7.109375 5.023438 -7 5.328125 -6.78125 C 5.640625 -6.570312 5.851562 -6.238281 5.96875 -5.78125 L 6 -5.78125 C 6.238281 -6.25 6.523438 -6.585938 6.859375 -6.796875 C 7.203125 -7.003906 7.617188 -7.109375 8.109375 -7.109375 C 8.816406 -7.109375 9.328125 -6.914062 9.640625 -6.53125 C 9.960938 -6.144531 10.125 -5.515625 10.125 -4.640625 L 10.125 0 L 8.984375 0 L 8.984375 -4.421875 C 8.984375 -5.097656 8.890625 -5.5625 8.703125 -5.8125 C 8.515625 -6.070312 8.179688 -6.203125 7.703125 -6.203125 C 7.191406 -6.203125 6.796875 -6.015625 6.515625 -5.640625 C 6.234375 -5.265625 6.09375 -4.734375 6.09375 -4.046875 L 6.09375 0 Z M 4.953125 0 \"/>\n",
       "</g>\n",
       "<g id=\"glyph-2-8\">\n",
       "<path d=\"M 6.78125 -3.5 C 6.78125 -2.269531 6.507812 -1.359375 5.96875 -0.765625 C 5.4375 -0.171875 4.660156 0.125 3.640625 0.125 C 2.617188 0.125 1.847656 -0.179688 1.328125 -0.796875 C 0.804688 -1.421875 0.546875 -2.320312 0.546875 -3.5 C 0.546875 -5.90625 1.59375 -7.109375 3.6875 -7.109375 C 4.75 -7.109375 5.53125 -6.8125 6.03125 -6.21875 C 6.53125 -5.632812 6.78125 -4.726562 6.78125 -3.5 Z M 5.5625 -3.5 C 5.5625 -4.457031 5.421875 -5.15625 5.140625 -5.59375 C 4.859375 -6.03125 4.378906 -6.25 3.703125 -6.25 C 3.023438 -6.25 2.53125 -6.023438 2.21875 -5.578125 C 1.914062 -5.128906 1.765625 -4.4375 1.765625 -3.5 C 1.765625 -2.570312 1.914062 -1.878906 2.21875 -1.421875 C 2.519531 -0.960938 2.988281 -0.734375 3.625 -0.734375 C 4.320312 -0.734375 4.816406 -0.953125 5.109375 -1.390625 C 5.410156 -1.835938 5.5625 -2.539062 5.5625 -3.5 Z M 5.5625 -3.5 \"/>\n",
       "</g>\n",
       "<g id=\"glyph-2-9\">\n",
       "<path d=\"M 2.03125 -6.96875 L 2.03125 -2.546875 C 2.03125 -2.085938 2.070312 -1.734375 2.15625 -1.484375 C 2.25 -1.234375 2.394531 -1.050781 2.59375 -0.9375 C 2.789062 -0.820312 3.082031 -0.765625 3.46875 -0.765625 C 4.019531 -0.765625 4.457031 -0.957031 4.78125 -1.34375 C 5.101562 -1.726562 5.265625 -2.257812 5.265625 -2.9375 L 5.265625 -6.96875 L 6.421875 -6.96875 L 6.421875 -1.484375 C 6.421875 -0.671875 6.4375 -0.175781 6.46875 0 L 5.375 0 C 5.363281 -0.0195312 5.351562 -0.078125 5.34375 -0.171875 C 5.34375 -0.265625 5.335938 -0.375 5.328125 -0.5 C 5.328125 -0.625 5.320312 -0.851562 5.3125 -1.1875 L 5.296875 -1.1875 C 5.035156 -0.707031 4.726562 -0.367188 4.375 -0.171875 C 4.019531 0.0234375 3.582031 0.125 3.0625 0.125 C 2.300781 0.125 1.742188 -0.0625 1.390625 -0.4375 C 1.035156 -0.820312 0.859375 -1.453125 0.859375 -2.328125 L 0.859375 -6.96875 Z M 2.03125 -6.96875 \"/>\n",
       "</g>\n",
       "<g id=\"glyph-2-10\">\n",
       "<path d=\"M 5.3125 0 L 5.3125 -4.421875 C 5.3125 -4.878906 5.265625 -5.234375 5.171875 -5.484375 C 5.085938 -5.742188 4.945312 -5.925781 4.75 -6.03125 C 4.550781 -6.144531 4.257812 -6.203125 3.875 -6.203125 C 3.320312 -6.203125 2.882812 -6.007812 2.5625 -5.625 C 2.238281 -5.25 2.078125 -4.722656 2.078125 -4.046875 L 2.078125 0 L 0.921875 0 L 0.921875 -5.484375 C 0.921875 -6.296875 0.90625 -6.789062 0.875 -6.96875 L 1.96875 -6.96875 C 1.976562 -6.945312 1.984375 -6.890625 1.984375 -6.796875 C 1.984375 -6.703125 1.988281 -6.59375 2 -6.46875 C 2.007812 -6.351562 2.019531 -6.125 2.03125 -5.78125 L 2.046875 -5.78125 C 2.304688 -6.257812 2.613281 -6.597656 2.96875 -6.796875 C 3.320312 -7.003906 3.757812 -7.109375 4.28125 -7.109375 C 5.039062 -7.109375 5.597656 -6.914062 5.953125 -6.53125 C 6.304688 -6.15625 6.484375 -5.523438 6.484375 -4.640625 L 6.484375 0 Z M 5.3125 0 \"/>\n",
       "</g>\n",
       "<g id=\"glyph-2-11\">\n",
       "<path d=\"M 3.578125 -0.046875 C 3.191406 0.0546875 2.796875 0.109375 2.390625 0.109375 C 1.460938 0.109375 1 -0.414062 1 -1.46875 L 1 -6.125 L 0.203125 -6.125 L 0.203125 -6.96875 L 1.046875 -6.96875 L 1.390625 -8.53125 L 2.171875 -8.53125 L 2.171875 -6.96875 L 3.453125 -6.96875 L 3.453125 -6.125 L 2.171875 -6.125 L 2.171875 -1.734375 C 2.171875 -1.390625 2.222656 -1.148438 2.328125 -1.015625 C 2.441406 -0.878906 2.632812 -0.8125 2.90625 -0.8125 C 3.0625 -0.8125 3.285156 -0.84375 3.578125 -0.90625 Z M 3.578125 -0.046875 \"/>\n",
       "</g>\n",
       "<g id=\"glyph-2-12\">\n",
       "<path d=\"M 9.640625 -4.578125 C 9.640625 -3.628906 9.457031 -2.796875 9.09375 -2.078125 C 8.726562 -1.367188 8.207031 -0.820312 7.53125 -0.4375 C 6.851562 -0.0625 6.050781 0.125 5.125 0.125 C 4.1875 0.125 3.378906 -0.0625 2.703125 -0.4375 C 2.035156 -0.8125 1.519531 -1.359375 1.15625 -2.078125 C 0.800781 -2.796875 0.625 -3.628906 0.625 -4.578125 C 0.625 -6.035156 1.019531 -7.171875 1.8125 -7.984375 C 2.613281 -8.804688 3.722656 -9.21875 5.140625 -9.21875 C 6.066406 -9.21875 6.867188 -9.03125 7.546875 -8.65625 C 8.222656 -8.289062 8.738281 -7.757812 9.09375 -7.0625 C 9.457031 -6.363281 9.640625 -5.535156 9.640625 -4.578125 Z M 8.375 -4.578125 C 8.375 -5.710938 8.09375 -6.601562 7.53125 -7.25 C 6.96875 -7.894531 6.171875 -8.21875 5.140625 -8.21875 C 4.097656 -8.21875 3.289062 -7.898438 2.71875 -7.265625 C 2.15625 -6.628906 1.875 -5.734375 1.875 -4.578125 C 1.875 -3.441406 2.160156 -2.539062 2.734375 -1.875 C 3.304688 -1.207031 4.101562 -0.875 5.125 -0.875 C 6.175781 -0.875 6.976562 -1.195312 7.53125 -1.84375 C 8.09375 -2.488281 8.375 -3.398438 8.375 -4.578125 Z M 8.375 -4.578125 \"/>\n",
       "</g>\n",
       "<g id=\"glyph-2-13\">\n",
       "<path d=\"M 0.890625 -8.453125 L 0.890625 -9.5625 L 2.046875 -9.5625 L 2.046875 -8.453125 Z M 0.890625 0 L 0.890625 -6.96875 L 2.046875 -6.96875 L 2.046875 0 Z M 0.890625 0 \"/>\n",
       "</g>\n",
       "<g id=\"glyph-2-14\">\n",
       "<path d=\"M 0.921875 0 L 0.921875 -5.34375 C 0.921875 -5.832031 0.90625 -6.375 0.875 -6.96875 L 1.96875 -6.96875 C 2.007812 -6.1875 2.03125 -5.710938 2.03125 -5.546875 L 2.046875 -5.546875 C 2.234375 -6.148438 2.445312 -6.5625 2.6875 -6.78125 C 2.925781 -7 3.265625 -7.109375 3.703125 -7.109375 C 3.859375 -7.109375 4.015625 -7.085938 4.171875 -7.046875 L 4.171875 -5.96875 C 4.023438 -6.019531 3.820312 -6.046875 3.5625 -6.046875 C 3.082031 -6.046875 2.710938 -5.835938 2.453125 -5.421875 C 2.203125 -5.003906 2.078125 -4.410156 2.078125 -3.640625 L 2.078125 0 Z M 0.921875 0 \"/>\n",
       "</g>\n",
       "</g>\n",
       "<clipPath id=\"clip-0\">\n",
       "<path clip-rule=\"nonzero\" d=\"M 56.714844 23.960938 L 498.523438 23.960938 L 498.523438 485.585938 L 56.714844 485.585938 Z M 56.714844 23.960938 \"/>\n",
       "</clipPath>\n",
       "<clipPath id=\"clip-1\">\n",
       "<path clip-rule=\"nonzero\" d=\"M 56.714844 411 L 498.523438 411 L 498.523438 413 L 56.714844 413 Z M 56.714844 411 \"/>\n",
       "</clipPath>\n",
       "<clipPath id=\"clip-2\">\n",
       "<path clip-rule=\"nonzero\" d=\"M 56.714844 306 L 498.523438 306 L 498.523438 308 L 56.714844 308 Z M 56.714844 306 \"/>\n",
       "</clipPath>\n",
       "<clipPath id=\"clip-3\">\n",
       "<path clip-rule=\"nonzero\" d=\"M 56.714844 201 L 498.523438 201 L 498.523438 203 L 56.714844 203 Z M 56.714844 201 \"/>\n",
       "</clipPath>\n",
       "<clipPath id=\"clip-4\">\n",
       "<path clip-rule=\"nonzero\" d=\"M 56.714844 97 L 498.523438 97 L 498.523438 98 L 56.714844 98 Z M 56.714844 97 \"/>\n",
       "</clipPath>\n",
       "<clipPath id=\"clip-5\">\n",
       "<path clip-rule=\"nonzero\" d=\"M 116 23.960938 L 118 23.960938 L 118 485.585938 L 116 485.585938 Z M 116 23.960938 \"/>\n",
       "</clipPath>\n",
       "<clipPath id=\"clip-6\">\n",
       "<path clip-rule=\"nonzero\" d=\"M 223 23.960938 L 225 23.960938 L 225 485.585938 L 223 485.585938 Z M 223 23.960938 \"/>\n",
       "</clipPath>\n",
       "<clipPath id=\"clip-7\">\n",
       "<path clip-rule=\"nonzero\" d=\"M 330 23.960938 L 332 23.960938 L 332 485.585938 L 330 485.585938 Z M 330 23.960938 \"/>\n",
       "</clipPath>\n",
       "<clipPath id=\"clip-8\">\n",
       "<path clip-rule=\"nonzero\" d=\"M 438 23.960938 L 439 23.960938 L 439 485.585938 L 438 485.585938 Z M 438 23.960938 \"/>\n",
       "</clipPath>\n",
       "<clipPath id=\"clip-9\">\n",
       "<path clip-rule=\"nonzero\" d=\"M 56.714844 463 L 498.523438 463 L 498.523438 465 L 56.714844 465 Z M 56.714844 463 \"/>\n",
       "</clipPath>\n",
       "<clipPath id=\"clip-10\">\n",
       "<path clip-rule=\"nonzero\" d=\"M 56.714844 358 L 498.523438 358 L 498.523438 360 L 56.714844 360 Z M 56.714844 358 \"/>\n",
       "</clipPath>\n",
       "<clipPath id=\"clip-11\">\n",
       "<path clip-rule=\"nonzero\" d=\"M 56.714844 254 L 498.523438 254 L 498.523438 256 L 56.714844 256 Z M 56.714844 254 \"/>\n",
       "</clipPath>\n",
       "<clipPath id=\"clip-12\">\n",
       "<path clip-rule=\"nonzero\" d=\"M 56.714844 149 L 498.523438 149 L 498.523438 151 L 56.714844 151 Z M 56.714844 149 \"/>\n",
       "</clipPath>\n",
       "<clipPath id=\"clip-13\">\n",
       "<path clip-rule=\"nonzero\" d=\"M 56.714844 44 L 498.523438 44 L 498.523438 46 L 56.714844 46 Z M 56.714844 44 \"/>\n",
       "</clipPath>\n",
       "<clipPath id=\"clip-14\">\n",
       "<path clip-rule=\"nonzero\" d=\"M 62 23.960938 L 64 23.960938 L 64 485.585938 L 62 485.585938 Z M 62 23.960938 \"/>\n",
       "</clipPath>\n",
       "<clipPath id=\"clip-15\">\n",
       "<path clip-rule=\"nonzero\" d=\"M 169 23.960938 L 172 23.960938 L 172 485.585938 L 169 485.585938 Z M 169 23.960938 \"/>\n",
       "</clipPath>\n",
       "<clipPath id=\"clip-16\">\n",
       "<path clip-rule=\"nonzero\" d=\"M 277 23.960938 L 279 23.960938 L 279 485.585938 L 277 485.585938 Z M 277 23.960938 \"/>\n",
       "</clipPath>\n",
       "<clipPath id=\"clip-17\">\n",
       "<path clip-rule=\"nonzero\" d=\"M 384 23.960938 L 386 23.960938 L 386 485.585938 L 384 485.585938 Z M 384 23.960938 \"/>\n",
       "</clipPath>\n",
       "<clipPath id=\"clip-18\">\n",
       "<path clip-rule=\"nonzero\" d=\"M 491 23.960938 L 493 23.960938 L 493 485.585938 L 491 485.585938 Z M 491 23.960938 \"/>\n",
       "</clipPath>\n",
       "</defs>\n",
       "<rect x=\"-50.4\" y=\"-50.4\" width=\"604.8\" height=\"604.8\" fill=\"rgb(100%, 100%, 100%)\" fill-opacity=\"1\"/>\n",
       "<rect x=\"-50.4\" y=\"-50.4\" width=\"604.8\" height=\"604.8\" fill=\"rgb(100%, 100%, 100%)\" fill-opacity=\"1\"/>\n",
       "<path fill=\"none\" stroke-width=\"1.066978\" stroke-linecap=\"round\" stroke-linejoin=\"round\" stroke=\"rgb(100%, 100%, 100%)\" stroke-opacity=\"1\" stroke-miterlimit=\"10\" d=\"M 0 504 L 504 504 L 504 0 L 0 0 Z M 0 504 \"/>\n",
       "<g clip-path=\"url(#clip-0)\">\n",
       "<path fill-rule=\"nonzero\" fill=\"rgb(92.156863%, 92.156863%, 92.156863%)\" fill-opacity=\"1\" d=\"M 56.714844 485.585938 L 498.523438 485.585938 L 498.523438 23.960938 L 56.714844 23.960938 Z M 56.714844 485.585938 \"/>\n",
       "</g>\n",
       "<g clip-path=\"url(#clip-1)\">\n",
       "<path fill=\"none\" stroke-width=\"0.533489\" stroke-linecap=\"butt\" stroke-linejoin=\"round\" stroke=\"rgb(100%, 100%, 100%)\" stroke-opacity=\"1\" stroke-miterlimit=\"10\" d=\"M 56.714844 411.777344 L 498.519531 411.777344 \"/>\n",
       "</g>\n",
       "<g clip-path=\"url(#clip-2)\">\n",
       "<path fill=\"none\" stroke-width=\"0.533489\" stroke-linecap=\"butt\" stroke-linejoin=\"round\" stroke=\"rgb(100%, 100%, 100%)\" stroke-opacity=\"1\" stroke-miterlimit=\"10\" d=\"M 56.714844 306.96875 L 498.519531 306.96875 \"/>\n",
       "</g>\n",
       "<g clip-path=\"url(#clip-3)\">\n",
       "<path fill=\"none\" stroke-width=\"0.533489\" stroke-linecap=\"butt\" stroke-linejoin=\"round\" stroke=\"rgb(100%, 100%, 100%)\" stroke-opacity=\"1\" stroke-miterlimit=\"10\" d=\"M 56.714844 202.160156 L 498.519531 202.160156 \"/>\n",
       "</g>\n",
       "<g clip-path=\"url(#clip-4)\">\n",
       "<path fill=\"none\" stroke-width=\"0.533489\" stroke-linecap=\"butt\" stroke-linejoin=\"round\" stroke=\"rgb(100%, 100%, 100%)\" stroke-opacity=\"1\" stroke-miterlimit=\"10\" d=\"M 56.714844 97.347656 L 498.519531 97.347656 \"/>\n",
       "</g>\n",
       "<g clip-path=\"url(#clip-5)\">\n",
       "<path fill=\"none\" stroke-width=\"0.533489\" stroke-linecap=\"butt\" stroke-linejoin=\"round\" stroke=\"rgb(100%, 100%, 100%)\" stroke-opacity=\"1\" stroke-miterlimit=\"10\" d=\"M 116.960938 485.585938 L 116.960938 23.960938 \"/>\n",
       "</g>\n",
       "<g clip-path=\"url(#clip-6)\">\n",
       "<path fill=\"none\" stroke-width=\"0.533489\" stroke-linecap=\"butt\" stroke-linejoin=\"round\" stroke=\"rgb(100%, 100%, 100%)\" stroke-opacity=\"1\" stroke-miterlimit=\"10\" d=\"M 224.066406 485.585938 L 224.066406 23.960938 \"/>\n",
       "</g>\n",
       "<g clip-path=\"url(#clip-7)\">\n",
       "<path fill=\"none\" stroke-width=\"0.533489\" stroke-linecap=\"butt\" stroke-linejoin=\"round\" stroke=\"rgb(100%, 100%, 100%)\" stroke-opacity=\"1\" stroke-miterlimit=\"10\" d=\"M 331.167969 485.585938 L 331.167969 23.960938 \"/>\n",
       "</g>\n",
       "<g clip-path=\"url(#clip-8)\">\n",
       "<path fill=\"none\" stroke-width=\"0.533489\" stroke-linecap=\"butt\" stroke-linejoin=\"round\" stroke=\"rgb(100%, 100%, 100%)\" stroke-opacity=\"1\" stroke-miterlimit=\"10\" d=\"M 438.273438 485.585938 L 438.273438 23.960938 \"/>\n",
       "</g>\n",
       "<g clip-path=\"url(#clip-9)\">\n",
       "<path fill=\"none\" stroke-width=\"1.066978\" stroke-linecap=\"butt\" stroke-linejoin=\"round\" stroke=\"rgb(100%, 100%, 100%)\" stroke-opacity=\"1\" stroke-miterlimit=\"10\" d=\"M 56.714844 464.183594 L 498.519531 464.183594 \"/>\n",
       "</g>\n",
       "<g clip-path=\"url(#clip-10)\">\n",
       "<path fill=\"none\" stroke-width=\"1.066978\" stroke-linecap=\"butt\" stroke-linejoin=\"round\" stroke=\"rgb(100%, 100%, 100%)\" stroke-opacity=\"1\" stroke-miterlimit=\"10\" d=\"M 56.714844 359.375 L 498.519531 359.375 \"/>\n",
       "</g>\n",
       "<g clip-path=\"url(#clip-11)\">\n",
       "<path fill=\"none\" stroke-width=\"1.066978\" stroke-linecap=\"butt\" stroke-linejoin=\"round\" stroke=\"rgb(100%, 100%, 100%)\" stroke-opacity=\"1\" stroke-miterlimit=\"10\" d=\"M 56.714844 254.5625 L 498.519531 254.5625 \"/>\n",
       "</g>\n",
       "<g clip-path=\"url(#clip-12)\">\n",
       "<path fill=\"none\" stroke-width=\"1.066978\" stroke-linecap=\"butt\" stroke-linejoin=\"round\" stroke=\"rgb(100%, 100%, 100%)\" stroke-opacity=\"1\" stroke-miterlimit=\"10\" d=\"M 56.714844 149.753906 L 498.519531 149.753906 \"/>\n",
       "</g>\n",
       "<g clip-path=\"url(#clip-13)\">\n",
       "<path fill=\"none\" stroke-width=\"1.066978\" stroke-linecap=\"butt\" stroke-linejoin=\"round\" stroke=\"rgb(100%, 100%, 100%)\" stroke-opacity=\"1\" stroke-miterlimit=\"10\" d=\"M 56.714844 44.945312 L 498.519531 44.945312 \"/>\n",
       "</g>\n",
       "<g clip-path=\"url(#clip-14)\">\n",
       "<path fill=\"none\" stroke-width=\"1.066978\" stroke-linecap=\"butt\" stroke-linejoin=\"round\" stroke=\"rgb(100%, 100%, 100%)\" stroke-opacity=\"1\" stroke-miterlimit=\"10\" d=\"M 63.40625 485.585938 L 63.40625 23.960938 \"/>\n",
       "</g>\n",
       "<g clip-path=\"url(#clip-15)\">\n",
       "<path fill=\"none\" stroke-width=\"1.066978\" stroke-linecap=\"butt\" stroke-linejoin=\"round\" stroke=\"rgb(100%, 100%, 100%)\" stroke-opacity=\"1\" stroke-miterlimit=\"10\" d=\"M 170.511719 485.585938 L 170.511719 23.960938 \"/>\n",
       "</g>\n",
       "<g clip-path=\"url(#clip-16)\">\n",
       "<path fill=\"none\" stroke-width=\"1.066978\" stroke-linecap=\"butt\" stroke-linejoin=\"round\" stroke=\"rgb(100%, 100%, 100%)\" stroke-opacity=\"1\" stroke-miterlimit=\"10\" d=\"M 277.617188 485.585938 L 277.617188 23.960938 \"/>\n",
       "</g>\n",
       "<g clip-path=\"url(#clip-17)\">\n",
       "<path fill=\"none\" stroke-width=\"1.066978\" stroke-linecap=\"butt\" stroke-linejoin=\"round\" stroke=\"rgb(100%, 100%, 100%)\" stroke-opacity=\"1\" stroke-miterlimit=\"10\" d=\"M 384.722656 485.585938 L 384.722656 23.960938 \"/>\n",
       "</g>\n",
       "<g clip-path=\"url(#clip-18)\">\n",
       "<path fill=\"none\" stroke-width=\"1.066978\" stroke-linecap=\"butt\" stroke-linejoin=\"round\" stroke=\"rgb(100%, 100%, 100%)\" stroke-opacity=\"1\" stroke-miterlimit=\"10\" d=\"M 491.828125 485.585938 L 491.828125 23.960938 \"/>\n",
       "</g>\n",
       "<path fill-rule=\"nonzero\" fill=\"rgb(20%, 20%, 20%)\" fill-opacity=\"1\" stroke-width=\"0.708661\" stroke-linecap=\"round\" stroke-linejoin=\"round\" stroke=\"rgb(20%, 20%, 20%)\" stroke-opacity=\"1\" stroke-miterlimit=\"10\" d=\"M 279.570312 443.222656 C 279.570312 445.828125 275.660156 445.828125 275.660156 443.222656 C 275.660156 440.617188 279.570312 440.617188 279.570312 443.222656 \"/>\n",
       "<path fill-rule=\"nonzero\" fill=\"rgb(20%, 20%, 20%)\" fill-opacity=\"1\" stroke-width=\"0.708661\" stroke-linecap=\"round\" stroke-linejoin=\"round\" stroke=\"rgb(20%, 20%, 20%)\" stroke-opacity=\"1\" stroke-miterlimit=\"10\" d=\"M 279.570312 430.644531 C 279.570312 433.25 275.660156 433.25 275.660156 430.644531 C 275.660156 428.039062 279.570312 428.039062 279.570312 430.644531 \"/>\n",
       "<path fill-rule=\"nonzero\" fill=\"rgb(20%, 20%, 20%)\" fill-opacity=\"1\" stroke-width=\"0.708661\" stroke-linecap=\"round\" stroke-linejoin=\"round\" stroke=\"rgb(20%, 20%, 20%)\" stroke-opacity=\"1\" stroke-miterlimit=\"10\" d=\"M 279.570312 254.5625 C 279.570312 257.171875 275.660156 257.171875 275.660156 254.5625 C 275.660156 251.957031 279.570312 251.957031 279.570312 254.5625 \"/>\n",
       "<path fill-rule=\"nonzero\" fill=\"rgb(20%, 20%, 20%)\" fill-opacity=\"1\" stroke-width=\"0.708661\" stroke-linecap=\"round\" stroke-linejoin=\"round\" stroke=\"rgb(20%, 20%, 20%)\" stroke-opacity=\"1\" stroke-miterlimit=\"10\" d=\"M 279.570312 413.875 C 279.570312 416.480469 275.660156 416.480469 275.660156 413.875 C 275.660156 411.269531 279.570312 411.269531 279.570312 413.875 \"/>\n",
       "<path fill-rule=\"nonzero\" fill=\"rgb(20%, 20%, 20%)\" fill-opacity=\"1\" stroke-width=\"0.708661\" stroke-linecap=\"round\" stroke-linejoin=\"round\" stroke=\"rgb(20%, 20%, 20%)\" stroke-opacity=\"1\" stroke-miterlimit=\"10\" d=\"M 279.570312 44.945312 C 279.570312 47.550781 275.660156 47.550781 275.660156 44.945312 C 275.660156 42.339844 279.570312 42.339844 279.570312 44.945312 \"/>\n",
       "<path fill-rule=\"nonzero\" fill=\"rgb(20%, 20%, 20%)\" fill-opacity=\"1\" stroke-width=\"0.708661\" stroke-linecap=\"round\" stroke-linejoin=\"round\" stroke=\"rgb(20%, 20%, 20%)\" stroke-opacity=\"1\" stroke-miterlimit=\"10\" d=\"M 279.570312 359.375 C 279.570312 361.980469 275.660156 361.980469 275.660156 359.375 C 275.660156 356.769531 279.570312 356.769531 279.570312 359.375 \"/>\n",
       "<path fill=\"none\" stroke-width=\"1.066978\" stroke-linecap=\"butt\" stroke-linejoin=\"round\" stroke=\"rgb(20%, 20%, 20%)\" stroke-opacity=\"1\" stroke-miterlimit=\"10\" d=\"M 277.617188 461.273438 L 277.617188 459.746094 \"/>\n",
       "<path fill=\"none\" stroke-width=\"1.066978\" stroke-linecap=\"butt\" stroke-linejoin=\"round\" stroke=\"rgb(20%, 20%, 20%)\" stroke-opacity=\"1\" stroke-miterlimit=\"10\" d=\"M 277.617188 462.664062 L 277.617188 464.601562 \"/>\n",
       "<path fill-rule=\"nonzero\" fill=\"rgb(100%, 100%, 100%)\" fill-opacity=\"1\" stroke-width=\"1.066978\" stroke-linecap=\"butt\" stroke-linejoin=\"miter\" stroke=\"rgb(20%, 20%, 20%)\" stroke-opacity=\"1\" stroke-miterlimit=\"10\" d=\"M 76.796875 461.273438 L 76.796875 462.664062 L 478.4375 462.664062 L 478.4375 461.273438 Z M 76.796875 461.273438 \"/>\n",
       "<path fill=\"none\" stroke-width=\"2.133957\" stroke-linecap=\"butt\" stroke-linejoin=\"miter\" stroke=\"rgb(20%, 20%, 20%)\" stroke-opacity=\"1\" stroke-miterlimit=\"10\" d=\"M 76.796875 461.957031 L 478.4375 461.957031 \"/>\n",
       "<g fill=\"rgb(30.196078%, 30.196078%, 30.196078%)\" fill-opacity=\"1\">\n",
       "<use xlink:href=\"#glyph-0-0\" x=\"46.78125\" y=\"467.649414\"/>\n",
       "</g>\n",
       "<g fill=\"rgb(30.196078%, 30.196078%, 30.196078%)\" fill-opacity=\"1\">\n",
       "<use xlink:href=\"#glyph-0-1\" x=\"26.78125\" y=\"362.84082\"/>\n",
       "<use xlink:href=\"#glyph-0-2\" x=\"31.78125\" y=\"362.84082\"/>\n",
       "<use xlink:href=\"#glyph-0-0\" x=\"36.78125\" y=\"362.84082\"/>\n",
       "<use xlink:href=\"#glyph-0-0\" x=\"41.78125\" y=\"362.84082\"/>\n",
       "<use xlink:href=\"#glyph-0-0\" x=\"46.78125\" y=\"362.84082\"/>\n",
       "</g>\n",
       "<g fill=\"rgb(30.196078%, 30.196078%, 30.196078%)\" fill-opacity=\"1\">\n",
       "<use xlink:href=\"#glyph-0-2\" x=\"26.78125\" y=\"258.02832\"/>\n",
       "<use xlink:href=\"#glyph-0-0\" x=\"31.78125\" y=\"258.02832\"/>\n",
       "<use xlink:href=\"#glyph-0-0\" x=\"36.78125\" y=\"258.02832\"/>\n",
       "<use xlink:href=\"#glyph-0-0\" x=\"41.78125\" y=\"258.02832\"/>\n",
       "<use xlink:href=\"#glyph-0-0\" x=\"46.78125\" y=\"258.02832\"/>\n",
       "</g>\n",
       "<g fill=\"rgb(30.196078%, 30.196078%, 30.196078%)\" fill-opacity=\"1\">\n",
       "<use xlink:href=\"#glyph-0-3\" x=\"26.78125\" y=\"153.219727\"/>\n",
       "<use xlink:href=\"#glyph-0-2\" x=\"31.78125\" y=\"153.219727\"/>\n",
       "<use xlink:href=\"#glyph-0-0\" x=\"36.78125\" y=\"153.219727\"/>\n",
       "<use xlink:href=\"#glyph-0-0\" x=\"41.78125\" y=\"153.219727\"/>\n",
       "<use xlink:href=\"#glyph-0-0\" x=\"46.78125\" y=\"153.219727\"/>\n",
       "</g>\n",
       "<g fill=\"rgb(30.196078%, 30.196078%, 30.196078%)\" fill-opacity=\"1\">\n",
       "<use xlink:href=\"#glyph-0-4\" x=\"21.78125\" y=\"48.411133\"/>\n",
       "<use xlink:href=\"#glyph-0-0\" x=\"26.78125\" y=\"48.411133\"/>\n",
       "<use xlink:href=\"#glyph-0-0\" x=\"31.78125\" y=\"48.411133\"/>\n",
       "<use xlink:href=\"#glyph-0-0\" x=\"36.78125\" y=\"48.411133\"/>\n",
       "<use xlink:href=\"#glyph-0-0\" x=\"41.78125\" y=\"48.411133\"/>\n",
       "<use xlink:href=\"#glyph-0-0\" x=\"46.78125\" y=\"48.411133\"/>\n",
       "</g>\n",
       "<path fill=\"none\" stroke-width=\"1.066978\" stroke-linecap=\"butt\" stroke-linejoin=\"round\" stroke=\"rgb(20%, 20%, 20%)\" stroke-opacity=\"1\" stroke-miterlimit=\"10\" d=\"M 53.972656 464.183594 L 56.714844 464.183594 \"/>\n",
       "<path fill=\"none\" stroke-width=\"1.066978\" stroke-linecap=\"butt\" stroke-linejoin=\"round\" stroke=\"rgb(20%, 20%, 20%)\" stroke-opacity=\"1\" stroke-miterlimit=\"10\" d=\"M 53.972656 359.375 L 56.714844 359.375 \"/>\n",
       "<path fill=\"none\" stroke-width=\"1.066978\" stroke-linecap=\"butt\" stroke-linejoin=\"round\" stroke=\"rgb(20%, 20%, 20%)\" stroke-opacity=\"1\" stroke-miterlimit=\"10\" d=\"M 53.972656 254.5625 L 56.714844 254.5625 \"/>\n",
       "<path fill=\"none\" stroke-width=\"1.066978\" stroke-linecap=\"butt\" stroke-linejoin=\"round\" stroke=\"rgb(20%, 20%, 20%)\" stroke-opacity=\"1\" stroke-miterlimit=\"10\" d=\"M 53.972656 149.753906 L 56.714844 149.753906 \"/>\n",
       "<path fill=\"none\" stroke-width=\"1.066978\" stroke-linecap=\"butt\" stroke-linejoin=\"round\" stroke=\"rgb(20%, 20%, 20%)\" stroke-opacity=\"1\" stroke-miterlimit=\"10\" d=\"M 53.972656 44.945312 L 56.714844 44.945312 \"/>\n",
       "<path fill=\"none\" stroke-width=\"1.066978\" stroke-linecap=\"butt\" stroke-linejoin=\"round\" stroke=\"rgb(20%, 20%, 20%)\" stroke-opacity=\"1\" stroke-miterlimit=\"10\" d=\"M 63.40625 488.324219 L 63.40625 485.585938 \"/>\n",
       "<path fill=\"none\" stroke-width=\"1.066978\" stroke-linecap=\"butt\" stroke-linejoin=\"round\" stroke=\"rgb(20%, 20%, 20%)\" stroke-opacity=\"1\" stroke-miterlimit=\"10\" d=\"M 170.511719 488.324219 L 170.511719 485.585938 \"/>\n",
       "<path fill=\"none\" stroke-width=\"1.066978\" stroke-linecap=\"butt\" stroke-linejoin=\"round\" stroke=\"rgb(20%, 20%, 20%)\" stroke-opacity=\"1\" stroke-miterlimit=\"10\" d=\"M 277.617188 488.324219 L 277.617188 485.585938 \"/>\n",
       "<path fill=\"none\" stroke-width=\"1.066978\" stroke-linecap=\"butt\" stroke-linejoin=\"round\" stroke=\"rgb(20%, 20%, 20%)\" stroke-opacity=\"1\" stroke-miterlimit=\"10\" d=\"M 384.722656 488.324219 L 384.722656 485.585938 \"/>\n",
       "<path fill=\"none\" stroke-width=\"1.066978\" stroke-linecap=\"butt\" stroke-linejoin=\"round\" stroke=\"rgb(20%, 20%, 20%)\" stroke-opacity=\"1\" stroke-miterlimit=\"10\" d=\"M 491.828125 488.324219 L 491.828125 485.585938 \"/>\n",
       "<g fill=\"rgb(30.196078%, 30.196078%, 30.196078%)\" fill-opacity=\"1\">\n",
       "<use xlink:href=\"#glyph-0-5\" x=\"55.90625\" y=\"497.485352\"/>\n",
       "<use xlink:href=\"#glyph-0-0\" x=\"58.90625\" y=\"497.485352\"/>\n",
       "<use xlink:href=\"#glyph-0-6\" x=\"63.90625\" y=\"497.485352\"/>\n",
       "<use xlink:href=\"#glyph-0-7\" x=\"65.90625\" y=\"497.485352\"/>\n",
       "</g>\n",
       "<g fill=\"rgb(30.196078%, 30.196078%, 30.196078%)\" fill-opacity=\"1\">\n",
       "<use xlink:href=\"#glyph-0-5\" x=\"163.011719\" y=\"497.485352\"/>\n",
       "<use xlink:href=\"#glyph-0-0\" x=\"166.011719\" y=\"497.485352\"/>\n",
       "<use xlink:href=\"#glyph-0-6\" x=\"171.011719\" y=\"497.485352\"/>\n",
       "<use xlink:href=\"#glyph-0-1\" x=\"173.011719\" y=\"497.485352\"/>\n",
       "</g>\n",
       "<g fill=\"rgb(30.196078%, 30.196078%, 30.196078%)\" fill-opacity=\"1\">\n",
       "<use xlink:href=\"#glyph-0-0\" x=\"271.617188\" y=\"497.485352\"/>\n",
       "<use xlink:href=\"#glyph-0-6\" x=\"276.617188\" y=\"497.485352\"/>\n",
       "<use xlink:href=\"#glyph-0-0\" x=\"278.617188\" y=\"497.485352\"/>\n",
       "</g>\n",
       "<g fill=\"rgb(30.196078%, 30.196078%, 30.196078%)\" fill-opacity=\"1\">\n",
       "<use xlink:href=\"#glyph-0-0\" x=\"378.722656\" y=\"497.485352\"/>\n",
       "<use xlink:href=\"#glyph-0-6\" x=\"383.722656\" y=\"497.485352\"/>\n",
       "<use xlink:href=\"#glyph-0-1\" x=\"385.722656\" y=\"497.485352\"/>\n",
       "</g>\n",
       "<g fill=\"rgb(30.196078%, 30.196078%, 30.196078%)\" fill-opacity=\"1\">\n",
       "<use xlink:href=\"#glyph-0-0\" x=\"485.828125\" y=\"497.485352\"/>\n",
       "<use xlink:href=\"#glyph-0-6\" x=\"490.828125\" y=\"497.485352\"/>\n",
       "<use xlink:href=\"#glyph-0-7\" x=\"492.828125\" y=\"497.485352\"/>\n",
       "</g>\n",
       "<g fill=\"rgb(0%, 0%, 0%)\" fill-opacity=\"1\">\n",
       "<use xlink:href=\"#glyph-1-0\" x=\"13.438477\" y=\"289.773438\"/>\n",
       "<use xlink:href=\"#glyph-1-1\" x=\"13.438477\" y=\"282.773438\"/>\n",
       "<use xlink:href=\"#glyph-1-2\" x=\"13.438477\" y=\"276.773438\"/>\n",
       "<use xlink:href=\"#glyph-1-3\" x=\"13.438477\" y=\"274.773438\"/>\n",
       "<use xlink:href=\"#glyph-1-4\" x=\"13.438477\" y=\"268.773438\"/>\n",
       "<use xlink:href=\"#glyph-1-5\" x=\"13.438477\" y=\"262.773438\"/>\n",
       "<use xlink:href=\"#glyph-1-6\" x=\"13.438477\" y=\"256.773438\"/>\n",
       "<use xlink:href=\"#glyph-1-7\" x=\"13.438477\" y=\"249.773438\"/>\n",
       "<use xlink:href=\"#glyph-1-8\" x=\"13.438477\" y=\"240.773438\"/>\n",
       "<use xlink:href=\"#glyph-1-9\" x=\"13.438477\" y=\"234.773438\"/>\n",
       "<use xlink:href=\"#glyph-1-10\" x=\"13.438477\" y=\"228.773438\"/>\n",
       "<use xlink:href=\"#glyph-1-11\" x=\"13.438477\" y=\"222.773438\"/>\n",
       "</g>\n",
       "<g fill=\"rgb(0%, 0%, 0%)\" fill-opacity=\"1\">\n",
       "<use xlink:href=\"#glyph-2-0\" x=\"56.714844\" y=\"15.429688\"/>\n",
       "<use xlink:href=\"#glyph-2-1\" x=\"65.714844\" y=\"15.429688\"/>\n",
       "<use xlink:href=\"#glyph-2-2\" x=\"72.714844\" y=\"15.429688\"/>\n",
       "<use xlink:href=\"#glyph-2-3\" x=\"75.714844\" y=\"15.429688\"/>\n",
       "<use xlink:href=\"#glyph-2-4\" x=\"82.714844\" y=\"15.429688\"/>\n",
       "<use xlink:href=\"#glyph-2-5\" x=\"89.714844\" y=\"15.429688\"/>\n",
       "<use xlink:href=\"#glyph-2-6\" x=\"92.714844\" y=\"15.429688\"/>\n",
       "<use xlink:href=\"#glyph-2-7\" x=\"101.714844\" y=\"15.429688\"/>\n",
       "<use xlink:href=\"#glyph-2-8\" x=\"112.714844\" y=\"15.429688\"/>\n",
       "<use xlink:href=\"#glyph-2-9\" x=\"119.714844\" y=\"15.429688\"/>\n",
       "<use xlink:href=\"#glyph-2-10\" x=\"126.714844\" y=\"15.429688\"/>\n",
       "<use xlink:href=\"#glyph-2-11\" x=\"133.714844\" y=\"15.429688\"/>\n",
       "<use xlink:href=\"#glyph-2-5\" x=\"137.714844\" y=\"15.429688\"/>\n",
       "<use xlink:href=\"#glyph-2-12\" x=\"141.714844\" y=\"15.429688\"/>\n",
       "<use xlink:href=\"#glyph-2-9\" x=\"151.714844\" y=\"15.429688\"/>\n",
       "<use xlink:href=\"#glyph-2-11\" x=\"158.714844\" y=\"15.429688\"/>\n",
       "<use xlink:href=\"#glyph-2-2\" x=\"162.714844\" y=\"15.429688\"/>\n",
       "<use xlink:href=\"#glyph-2-13\" x=\"165.714844\" y=\"15.429688\"/>\n",
       "<use xlink:href=\"#glyph-2-3\" x=\"168.714844\" y=\"15.429688\"/>\n",
       "<use xlink:href=\"#glyph-2-14\" x=\"175.714844\" y=\"15.429688\"/>\n",
       "<use xlink:href=\"#glyph-2-4\" x=\"179.714844\" y=\"15.429688\"/>\n",
       "</g>\n",
       "</svg>\n"
      ],
      "text/plain": [
       "plot without title"
      ]
     },
     "metadata": {
      "application/pdf": {
       "height": 420,
       "width": 420
      },
      "image/jpeg": {
       "height": 420,
       "width": 420
      },
      "image/png": {
       "height": 420,
       "width": 420
      },
      "image/svg+xml": {
       "height": 420,
       "isolated": true,
       "width": 420
      }
     },
     "output_type": "display_data"
    }
   ],
   "source": [
    "### TODO: Create a boxplot for Sales_Amount\n",
    "# Use ggplot2 to create a boxplot showing outliers\n",
    "boxplot_sales <- ggplot(sales_imputed, aes(y = Sales_Amount)) +\n",
    "  geom_boxplot() +\n",
    "  ggtitle(\"Sales Amount Outliers\")\n",
    "\n",
    "# Display the plot\n",
    "print(boxplot_sales)"
   ]
  },
  {
   "cell_type": "markdown",
   "id": "ab78e27a",
   "metadata": {},
   "source": [
    "### 3.3 Outlier Treatment - Option A (Removal)\n",
    "\n",
    "Remove rows containing outliers and assess the impact."
   ]
  },
  {
   "cell_type": "code",
   "execution_count": 37,
   "id": "8e8a1784",
   "metadata": {
    "vscode": {
     "languageId": "r"
    }
   },
   "outputs": [
    {
     "name": "stdout",
     "output_type": "stream",
     "text": [
      "[1] \"Original rows: 200\"\n",
      "[1] \"After removing outliers: 172\"\n",
      "[1] \"Rows removed: 28\"\n"
     ]
    }
   ],
   "source": [
    "### TODO: Remove outliers from the imputed dataset\n",
    "sales_outliers_removed <- sales_imputed %>%\n",
    "  filter(Sales_Amount >= lower_threshold & Sales_Amount <= upper_threshold)\n",
    "\n",
    "print(paste(\"Original rows:\", nrow(sales_imputed)))\n",
    "print(paste(\"After removing outliers:\", nrow(sales_outliers_removed)))\n",
    "print(paste(\"Rows removed:\", nrow(sales_imputed) - nrow(sales_outliers_removed)))"
   ]
  },
  {
   "cell_type": "markdown",
   "id": "8ad26c10",
   "metadata": {},
   "source": [
    "### 3.4 Outlier Treatment - Option B (Capping)\n",
    "\n",
    "Apply capping/winsorization to handle outliers while preserving data points."
   ]
  },
  {
   "cell_type": "markdown",
   "id": "00d330f9",
   "metadata": {},
   "source": [
    "### 3.2 Outlier Visualization\n",
    "\n",
    "Create a boxplot to visualize the outliers in Sales_Amount."
   ]
  },
  {
   "cell_type": "code",
   "execution_count": 38,
   "id": "4bf184da",
   "metadata": {
    "vscode": {
     "languageId": "r"
    }
   },
   "outputs": [
    {
     "name": "stderr",
     "output_type": "stream",
     "text": [
      "Warning message:\n",
      "“\u001b[1m\u001b[22mRemoved 22 rows containing non-finite outside the scale range\n",
      "(`stat_boxplot()`).”\n"
     ]
    },
    {
     "data": {
      "application/pdf": "[encoded data removed]",
      "image/jpeg": "[encoded data removed]",
      "image/png": "[encoded data removed]",
      "image/svg+xml": [
       "<?xml version=\"1.0\" encoding=\"UTF-8\"?>\n",
       "<svg xmlns=\"http://www.w3.org/2000/svg\" xmlns:xlink=\"http://www.w3.org/1999/xlink\" width=\"504\" height=\"504\" viewBox=\"0 0 504 504\">\n",
       "<defs>\n",
       "<g>\n",
       "<g id=\"glyph-0-0\">\n",
       "<path d=\"M 4.546875 -3.03125 C 4.546875 -2.019531 4.367188 -1.25 4.015625 -0.71875 C 3.660156 -0.1875 3.132812 0.078125 2.4375 0.078125 C 1.738281 0.078125 1.210938 -0.179688 0.859375 -0.703125 C 0.515625 -1.234375 0.34375 -2.007812 0.34375 -3.03125 C 0.34375 -4.070312 0.507812 -4.847656 0.84375 -5.359375 C 1.1875 -5.878906 1.726562 -6.140625 2.46875 -6.140625 C 3.175781 -6.140625 3.695312 -5.875 4.03125 -5.34375 C 4.375 -4.820312 4.546875 -4.050781 4.546875 -3.03125 Z M 3.765625 -3.03125 C 3.765625 -3.90625 3.660156 -4.535156 3.453125 -4.921875 C 3.253906 -5.316406 2.925781 -5.515625 2.46875 -5.515625 C 1.988281 -5.515625 1.644531 -5.320312 1.4375 -4.9375 C 1.226562 -4.550781 1.125 -3.914062 1.125 -3.03125 C 1.125 -2.164062 1.226562 -1.535156 1.4375 -1.140625 C 1.644531 -0.742188 1.976562 -0.546875 2.4375 -0.546875 C 2.894531 -0.546875 3.226562 -0.75 3.4375 -1.15625 C 3.65625 -1.5625 3.765625 -2.1875 3.765625 -3.03125 Z M 3.765625 -3.03125 \"/>\n",
       "</g>\n",
       "<g id=\"glyph-0-1\">\n",
       "<path d=\"M 0.4375 0 L 0.4375 -0.546875 C 0.582031 -0.878906 0.757812 -1.171875 0.96875 -1.421875 C 1.1875 -1.679688 1.410156 -1.914062 1.640625 -2.125 C 1.867188 -2.332031 2.097656 -2.523438 2.328125 -2.703125 C 2.554688 -2.878906 2.757812 -3.054688 2.9375 -3.234375 C 3.125 -3.410156 3.273438 -3.597656 3.390625 -3.796875 C 3.503906 -3.992188 3.5625 -4.210938 3.5625 -4.453125 C 3.5625 -4.785156 3.460938 -5.039062 3.265625 -5.21875 C 3.078125 -5.40625 2.804688 -5.5 2.453125 -5.5 C 2.128906 -5.5 1.859375 -5.410156 1.640625 -5.234375 C 1.429688 -5.054688 1.304688 -4.804688 1.265625 -4.484375 L 0.484375 -4.5625 C 0.535156 -5.039062 0.738281 -5.421875 1.09375 -5.703125 C 1.445312 -5.992188 1.898438 -6.140625 2.453125 -6.140625 C 3.066406 -6.140625 3.535156 -5.992188 3.859375 -5.703125 C 4.191406 -5.421875 4.359375 -5.015625 4.359375 -4.484375 C 4.359375 -4.242188 4.300781 -4.007812 4.1875 -3.78125 C 4.082031 -3.550781 3.921875 -3.316406 3.703125 -3.078125 C 3.492188 -2.847656 3.09375 -2.492188 2.5 -2.015625 C 2.164062 -1.742188 1.898438 -1.5 1.703125 -1.28125 C 1.515625 -1.0625 1.378906 -0.851562 1.296875 -0.65625 L 4.453125 -0.65625 L 4.453125 0 Z M 0.4375 0 \"/>\n",
       "</g>\n",
       "<g id=\"glyph-0-2\">\n",
       "<path d=\"M 4.515625 -1.96875 C 4.515625 -1.332031 4.328125 -0.832031 3.953125 -0.46875 C 3.578125 -0.101562 3.050781 0.078125 2.375 0.078125 C 1.8125 0.078125 1.351562 -0.0390625 1 -0.28125 C 0.65625 -0.53125 0.441406 -0.890625 0.359375 -1.359375 L 1.140625 -1.4375 C 1.296875 -0.84375 1.710938 -0.546875 2.390625 -0.546875 C 2.804688 -0.546875 3.128906 -0.671875 3.359375 -0.921875 C 3.597656 -1.171875 3.71875 -1.515625 3.71875 -1.953125 C 3.71875 -2.335938 3.597656 -2.644531 3.359375 -2.875 C 3.128906 -3.113281 2.8125 -3.234375 2.40625 -3.234375 C 2.195312 -3.234375 2.003906 -3.195312 1.828125 -3.125 C 1.648438 -3.0625 1.46875 -2.953125 1.28125 -2.796875 L 0.53125 -2.796875 L 0.734375 -6.046875 L 4.171875 -6.046875 L 4.171875 -5.390625 L 1.4375 -5.390625 L 1.3125 -3.46875 C 1.65625 -3.726562 2.070312 -3.859375 2.5625 -3.859375 C 3.164062 -3.859375 3.640625 -3.679688 3.984375 -3.328125 C 4.335938 -2.984375 4.515625 -2.53125 4.515625 -1.96875 Z M 4.515625 -1.96875 \"/>\n",
       "</g>\n",
       "<g id=\"glyph-0-3\">\n",
       "<path d=\"M 4.453125 -5.421875 C 3.828125 -4.472656 3.382812 -3.734375 3.125 -3.203125 C 2.875 -2.671875 2.6875 -2.144531 2.5625 -1.625 C 2.4375 -1.101562 2.375 -0.5625 2.375 0 L 1.5625 0 C 1.5625 -0.769531 1.722656 -1.582031 2.046875 -2.4375 C 2.378906 -3.289062 2.929688 -4.273438 3.703125 -5.390625 L 0.453125 -5.390625 L 0.453125 -6.046875 L 4.453125 -6.046875 Z M 4.453125 -5.421875 \"/>\n",
       "</g>\n",
       "<g id=\"glyph-0-4\">\n",
       "<path d=\"M 0.671875 0 L 0.671875 -0.65625 L 2.21875 -0.65625 L 2.21875 -5.3125 L 0.84375 -4.34375 L 0.84375 -5.0625 L 2.28125 -6.046875 L 2.984375 -6.046875 L 2.984375 -0.65625 L 4.46875 -0.65625 L 4.46875 0 Z M 0.671875 0 \"/>\n",
       "</g>\n",
       "<g id=\"glyph-0-5\">\n",
       "<path d=\"M 0.390625 -2 L 0.390625 -2.6875 L 2.53125 -2.6875 L 2.53125 -2 Z M 0.390625 -2 \"/>\n",
       "</g>\n",
       "<g id=\"glyph-0-6\">\n",
       "<path d=\"M 0.796875 0 L 0.796875 -0.9375 L 1.640625 -0.9375 L 1.640625 0 Z M 0.796875 0 \"/>\n",
       "</g>\n",
       "<g id=\"glyph-0-7\">\n",
       "<path d=\"M 3.78125 -1.375 L 3.78125 0 L 3.046875 0 L 3.046875 -1.375 L 0.203125 -1.375 L 0.203125 -1.96875 L 2.96875 -6.046875 L 3.78125 -6.046875 L 3.78125 -1.984375 L 4.640625 -1.984375 L 4.640625 -1.375 Z M 3.046875 -5.1875 C 3.046875 -5.164062 3.007812 -5.085938 2.9375 -4.953125 C 2.863281 -4.816406 2.804688 -4.722656 2.765625 -4.671875 L 1.21875 -2.390625 L 0.984375 -2.0625 L 0.921875 -1.984375 L 3.046875 -1.984375 Z M 3.046875 -5.1875 \"/>\n",
       "</g>\n",
       "<g id=\"glyph-1-0\">\n",
       "<path d=\"M -2.09375 -6.828125 C -1.394531 -6.828125 -0.851562 -6.550781 -0.46875 -6 C -0.0820312 -5.457031 0.109375 -4.691406 0.109375 -3.703125 C 0.109375 -1.859375 -0.53125 -0.789062 -1.8125 -0.5 L -2.015625 -1.5 C -1.554688 -1.613281 -1.21875 -1.851562 -1 -2.21875 C -0.789062 -2.59375 -0.6875 -3.101562 -0.6875 -3.75 C -0.6875 -4.40625 -0.800781 -4.910156 -1.03125 -5.265625 C -1.257812 -5.628906 -1.59375 -5.8125 -2.03125 -5.8125 C -2.28125 -5.8125 -2.484375 -5.753906 -2.640625 -5.640625 C -2.796875 -5.535156 -2.921875 -5.378906 -3.015625 -5.171875 C -3.117188 -4.960938 -3.203125 -4.71875 -3.265625 -4.4375 C -3.335938 -4.15625 -3.410156 -3.84375 -3.484375 -3.5 C -3.617188 -2.90625 -3.753906 -2.453125 -3.890625 -2.140625 C -4.023438 -1.828125 -4.171875 -1.582031 -4.328125 -1.40625 C -4.492188 -1.226562 -4.6875 -1.09375 -4.90625 -1 C -5.125 -0.90625 -5.375 -0.859375 -5.65625 -0.859375 C -6.300781 -0.859375 -6.800781 -1.101562 -7.15625 -1.59375 C -7.507812 -2.09375 -7.6875 -2.804688 -7.6875 -3.734375 C -7.6875 -4.585938 -7.550781 -5.238281 -7.28125 -5.6875 C -7.019531 -6.144531 -6.570312 -6.46875 -5.9375 -6.65625 L -5.765625 -5.640625 C -6.160156 -5.535156 -6.445312 -5.328125 -6.625 -5.015625 C -6.8125 -4.703125 -6.90625 -4.269531 -6.90625 -3.71875 C -6.90625 -3.113281 -6.804688 -2.648438 -6.609375 -2.328125 C -6.410156 -2.015625 -6.109375 -1.859375 -5.703125 -1.859375 C -5.472656 -1.859375 -5.28125 -1.914062 -5.125 -2.03125 C -4.976562 -2.15625 -4.851562 -2.332031 -4.75 -2.5625 C -4.644531 -2.800781 -4.515625 -3.269531 -4.359375 -3.96875 C -4.304688 -4.195312 -4.25 -4.425781 -4.1875 -4.65625 C -4.132812 -4.882812 -4.066406 -5.101562 -3.984375 -5.3125 C -3.910156 -5.53125 -3.820312 -5.726562 -3.71875 -5.90625 C -3.613281 -6.09375 -3.484375 -6.253906 -3.328125 -6.390625 C -3.179688 -6.523438 -3.003906 -6.628906 -2.796875 -6.703125 C -2.597656 -6.785156 -2.363281 -6.828125 -2.09375 -6.828125 Z M -2.09375 -6.828125 \"/>\n",
       "</g>\n",
       "<g id=\"glyph-1-1\">\n",
       "<path d=\"M 0.109375 -2.21875 C 0.109375 -1.632812 -0.0390625 -1.195312 -0.34375 -0.90625 C -0.65625 -0.613281 -1.082031 -0.46875 -1.625 -0.46875 C -2.226562 -0.46875 -2.6875 -0.664062 -3 -1.0625 C -3.320312 -1.457031 -3.5 -2.09375 -3.53125 -2.96875 L -3.546875 -4.28125 L -3.859375 -4.28125 C -4.335938 -4.28125 -4.675781 -4.175781 -4.875 -3.96875 C -5.082031 -3.769531 -5.1875 -3.457031 -5.1875 -3.03125 C -5.1875 -2.601562 -5.113281 -2.289062 -4.96875 -2.09375 C -4.820312 -1.894531 -4.585938 -1.773438 -4.265625 -1.734375 L -4.34375 -0.71875 C -5.394531 -0.882812 -5.921875 -1.664062 -5.921875 -3.0625 C -5.921875 -3.789062 -5.753906 -4.335938 -5.421875 -4.703125 C -5.085938 -5.078125 -4.601562 -5.265625 -3.96875 -5.265625 L -1.46875 -5.265625 C -1.175781 -5.265625 -0.957031 -5.300781 -0.8125 -5.375 C -0.664062 -5.445312 -0.59375 -5.585938 -0.59375 -5.796875 C -0.59375 -5.890625 -0.609375 -6 -0.640625 -6.125 L -0.03125 -6.125 C 0.0195312 -5.875 0.046875 -5.625 0.046875 -5.375 C 0.046875 -5.007812 -0.046875 -4.742188 -0.234375 -4.578125 C -0.421875 -4.421875 -0.710938 -4.332031 -1.109375 -4.3125 L -1.109375 -4.28125 C -0.671875 -4.03125 -0.359375 -3.738281 -0.171875 -3.40625 C 0.015625 -3.082031 0.109375 -2.6875 0.109375 -2.21875 Z M -0.625 -2.4375 C -0.625 -2.789062 -0.703125 -3.101562 -0.859375 -3.375 C -1.015625 -3.65625 -1.234375 -3.875 -1.515625 -4.03125 C -1.796875 -4.195312 -2.085938 -4.28125 -2.390625 -4.28125 L -2.875 -4.28125 L -2.84375 -3.21875 C -2.84375 -2.769531 -2.796875 -2.425781 -2.703125 -2.1875 C -2.617188 -1.957031 -2.488281 -1.78125 -2.3125 -1.65625 C -2.132812 -1.53125 -1.898438 -1.46875 -1.609375 -1.46875 C -1.296875 -1.46875 -1.050781 -1.550781 -0.875 -1.71875 C -0.707031 -1.882812 -0.625 -2.125 -0.625 -2.4375 Z M -0.625 -2.4375 \"/>\n",
       "</g>\n",
       "<g id=\"glyph-1-2\">\n",
       "<path d=\"M 0 -0.734375 L -7.96875 -0.734375 L -7.96875 -1.703125 L 0 -1.703125 Z M 0 -0.734375 \"/>\n",
       "</g>\n",
       "<g id=\"glyph-1-3\">\n",
       "<path d=\"M -2.703125 -1.484375 C -2.035156 -1.484375 -1.519531 -1.617188 -1.15625 -1.890625 C -0.800781 -2.171875 -0.625 -2.578125 -0.625 -3.109375 C -0.625 -3.523438 -0.707031 -3.859375 -0.875 -4.109375 C -1.039062 -4.359375 -1.253906 -4.53125 -1.515625 -4.625 L -1.265625 -5.46875 C -0.347656 -5.125 0.109375 -4.335938 0.109375 -3.109375 C 0.109375 -2.242188 -0.144531 -1.585938 -0.65625 -1.140625 C -1.164062 -0.691406 -1.925781 -0.46875 -2.9375 -0.46875 C -3.90625 -0.46875 -4.644531 -0.691406 -5.15625 -1.140625 C -5.664062 -1.585938 -5.921875 -2.226562 -5.921875 -3.0625 C -5.921875 -4.769531 -4.890625 -5.625 -2.828125 -5.625 L -2.703125 -5.625 Z M -3.4375 -4.625 C -4.050781 -4.570312 -4.5 -4.414062 -4.78125 -4.15625 C -5.0625 -3.90625 -5.203125 -3.535156 -5.203125 -3.046875 C -5.203125 -2.578125 -5.046875 -2.207031 -4.734375 -1.9375 C -4.421875 -1.664062 -3.988281 -1.519531 -3.4375 -1.5 Z M -3.4375 -4.625 \"/>\n",
       "</g>\n",
       "<g id=\"glyph-1-4\">\n",
       "<path d=\"M -1.609375 -5.109375 C -1.054688 -5.109375 -0.628906 -4.898438 -0.328125 -4.484375 C -0.0351562 -4.066406 0.109375 -3.488281 0.109375 -2.75 C 0.109375 -2.019531 -0.0078125 -1.457031 -0.25 -1.0625 C -0.488281 -0.675781 -0.859375 -0.425781 -1.359375 -0.3125 L -1.53125 -1.15625 C -1.21875 -1.238281 -0.988281 -1.410156 -0.84375 -1.671875 C -0.695312 -1.929688 -0.625 -2.289062 -0.625 -2.75 C -0.625 -3.238281 -0.695312 -3.59375 -0.84375 -3.8125 C -1 -4.039062 -1.226562 -4.15625 -1.53125 -4.15625 C -1.757812 -4.15625 -1.941406 -4.078125 -2.078125 -3.921875 C -2.222656 -3.765625 -2.34375 -3.507812 -2.4375 -3.15625 L -2.625 -2.46875 C -2.769531 -1.914062 -2.910156 -1.519531 -3.046875 -1.28125 C -3.179688 -1.050781 -3.347656 -0.867188 -3.546875 -0.734375 C -3.742188 -0.597656 -3.988281 -0.53125 -4.28125 -0.53125 C -4.8125 -0.53125 -5.210938 -0.71875 -5.484375 -1.09375 C -5.765625 -1.476562 -5.90625 -2.03125 -5.90625 -2.75 C -5.90625 -3.394531 -5.789062 -3.90625 -5.5625 -4.28125 C -5.332031 -4.65625 -4.972656 -4.894531 -4.484375 -5 L -4.375 -4.125 C -4.632812 -4.070312 -4.832031 -3.925781 -4.96875 -3.6875 C -5.101562 -3.457031 -5.171875 -3.144531 -5.171875 -2.75 C -5.171875 -2.3125 -5.101562 -1.988281 -4.96875 -1.78125 C -4.84375 -1.582031 -4.644531 -1.484375 -4.375 -1.484375 C -4.207031 -1.484375 -4.066406 -1.523438 -3.953125 -1.609375 C -3.847656 -1.691406 -3.757812 -1.816406 -3.6875 -1.984375 C -3.613281 -2.148438 -3.507812 -2.503906 -3.375 -3.046875 C -3.25 -3.554688 -3.128906 -3.925781 -3.015625 -4.15625 C -2.910156 -4.382812 -2.789062 -4.5625 -2.65625 -4.6875 C -2.519531 -4.820312 -2.363281 -4.925781 -2.1875 -5 C -2.019531 -5.070312 -1.828125 -5.109375 -1.609375 -5.109375 Z M -1.609375 -5.109375 \"/>\n",
       "</g>\n",
       "<g id=\"glyph-1-5\">\n",
       "<path d=\"M 2.1875 0.171875 L 1.484375 0.171875 L 1.484375 -6.234375 L 2.1875 -6.234375 Z M 2.1875 0.171875 \"/>\n",
       "</g>\n",
       "<g id=\"glyph-1-6\">\n",
       "<path d=\"M 0 -6.265625 L -2.21875 -5.40625 L -2.21875 -1.953125 L 0 -1.078125 L 0 -0.015625 L -7.5625 -3.109375 L -7.5625 -4.28125 L 0 -7.3125 Z M -6.796875 -3.671875 L -6.640625 -3.625 C -6.347656 -3.539062 -5.96875 -3.410156 -5.5 -3.234375 L -3.015625 -2.265625 L -3.015625 -5.09375 L -5.515625 -4.125 C -5.753906 -4.019531 -6.03125 -3.921875 -6.34375 -3.828125 Z M -6.796875 -3.671875 \"/>\n",
       "</g>\n",
       "<g id=\"glyph-1-7\">\n",
       "<path d=\"M 0 -4.125 L -3.6875 -4.125 C -4.25 -4.125 -4.632812 -4.046875 -4.84375 -3.890625 C -5.0625 -3.734375 -5.171875 -3.457031 -5.171875 -3.0625 C -5.171875 -2.644531 -5.015625 -2.316406 -4.703125 -2.078125 C -4.390625 -1.835938 -3.945312 -1.71875 -3.375 -1.71875 L 0 -1.71875 L 0 -0.765625 L -4.578125 -0.765625 C -5.253906 -0.765625 -5.664062 -0.753906 -5.8125 -0.734375 L -5.8125 -1.640625 C -5.789062 -1.648438 -5.738281 -1.65625 -5.65625 -1.65625 C -5.582031 -1.65625 -5.492188 -1.65625 -5.390625 -1.65625 C -5.296875 -1.664062 -5.101562 -1.675781 -4.8125 -1.6875 L -4.8125 -1.703125 C -5.226562 -1.910156 -5.515625 -2.144531 -5.671875 -2.40625 C -5.835938 -2.675781 -5.921875 -3.007812 -5.921875 -3.40625 C -5.921875 -3.84375 -5.832031 -4.1875 -5.65625 -4.4375 C -5.476562 -4.695312 -5.195312 -4.878906 -4.8125 -4.984375 L -4.8125 -5 C -5.207031 -5.195312 -5.488281 -5.4375 -5.65625 -5.71875 C -5.832031 -6.007812 -5.921875 -6.351562 -5.921875 -6.75 C -5.921875 -7.34375 -5.757812 -7.769531 -5.4375 -8.03125 C -5.125 -8.300781 -4.601562 -8.4375 -3.875 -8.4375 L 0 -8.4375 L 0 -7.484375 L -3.6875 -7.484375 C -4.25 -7.484375 -4.632812 -7.40625 -4.84375 -7.25 C -5.0625 -7.09375 -5.171875 -6.816406 -5.171875 -6.421875 C -5.171875 -5.992188 -5.015625 -5.660156 -4.703125 -5.421875 C -4.390625 -5.191406 -3.945312 -5.078125 -3.375 -5.078125 L 0 -5.078125 Z M 0 -4.125 \"/>\n",
       "</g>\n",
       "<g id=\"glyph-1-8\">\n",
       "<path d=\"M -2.90625 -5.65625 C -1.894531 -5.65625 -1.140625 -5.429688 -0.640625 -4.984375 C -0.140625 -4.535156 0.109375 -3.882812 0.109375 -3.03125 C 0.109375 -2.1875 -0.144531 -1.546875 -0.65625 -1.109375 C -1.175781 -0.679688 -1.925781 -0.46875 -2.90625 -0.46875 C -4.914062 -0.46875 -5.921875 -1.332031 -5.921875 -3.0625 C -5.921875 -3.957031 -5.675781 -4.613281 -5.1875 -5.03125 C -4.695312 -5.445312 -3.9375 -5.65625 -2.90625 -5.65625 Z M -2.90625 -4.640625 C -3.707031 -4.640625 -4.289062 -4.519531 -4.65625 -4.28125 C -5.019531 -4.039062 -5.203125 -3.640625 -5.203125 -3.078125 C -5.203125 -2.515625 -5.015625 -2.109375 -4.640625 -1.859375 C -4.273438 -1.609375 -3.695312 -1.484375 -2.90625 -1.484375 C -2.144531 -1.484375 -1.570312 -1.601562 -1.1875 -1.84375 C -0.800781 -2.09375 -0.609375 -2.488281 -0.609375 -3.03125 C -0.609375 -3.601562 -0.789062 -4.015625 -1.15625 -4.265625 C -1.53125 -4.515625 -2.113281 -4.640625 -2.90625 -4.640625 Z M -2.90625 -4.640625 \"/>\n",
       "</g>\n",
       "<g id=\"glyph-1-9\">\n",
       "<path d=\"M -5.8125 -1.6875 L -2.125 -1.6875 C -1.738281 -1.6875 -1.441406 -1.722656 -1.234375 -1.796875 C -1.023438 -1.867188 -0.875 -1.988281 -0.78125 -2.15625 C -0.6875 -2.320312 -0.640625 -2.566406 -0.640625 -2.890625 C -0.640625 -3.347656 -0.796875 -3.710938 -1.109375 -3.984375 C -1.429688 -4.253906 -1.875 -4.390625 -2.4375 -4.390625 L -5.8125 -4.390625 L -5.8125 -5.359375 L -1.234375 -5.359375 C -0.554688 -5.359375 -0.144531 -5.367188 0 -5.390625 L 0 -4.46875 C -0.0195312 -4.46875 -0.0664062 -4.460938 -0.140625 -4.453125 C -0.222656 -4.453125 -0.3125 -4.445312 -0.40625 -4.4375 C -0.507812 -4.4375 -0.707031 -4.4375 -1 -4.4375 L -1 -4.421875 C -0.59375 -4.191406 -0.304688 -3.929688 -0.140625 -3.640625 C 0.0234375 -3.347656 0.109375 -2.988281 0.109375 -2.5625 C 0.109375 -1.914062 -0.046875 -1.445312 -0.359375 -1.15625 C -0.679688 -0.863281 -1.207031 -0.71875 -1.9375 -0.71875 L -5.8125 -0.71875 Z M -5.8125 -1.6875 \"/>\n",
       "</g>\n",
       "<g id=\"glyph-1-10\">\n",
       "<path d=\"M 0 -4.4375 L -3.6875 -4.4375 C -4.070312 -4.4375 -4.367188 -4.394531 -4.578125 -4.3125 C -4.785156 -4.238281 -4.9375 -4.117188 -5.03125 -3.953125 C -5.125 -3.796875 -5.171875 -3.554688 -5.171875 -3.234375 C -5.171875 -2.765625 -5.007812 -2.394531 -4.6875 -2.125 C -4.375 -1.863281 -3.9375 -1.734375 -3.375 -1.734375 L 0 -1.734375 L 0 -0.765625 L -4.578125 -0.765625 C -5.253906 -0.765625 -5.664062 -0.753906 -5.8125 -0.734375 L -5.8125 -1.640625 C -5.789062 -1.648438 -5.738281 -1.65625 -5.65625 -1.65625 C -5.582031 -1.65625 -5.492188 -1.65625 -5.390625 -1.65625 C -5.296875 -1.664062 -5.101562 -1.675781 -4.8125 -1.6875 L -4.8125 -1.703125 C -5.21875 -1.921875 -5.503906 -2.175781 -5.671875 -2.46875 C -5.835938 -2.757812 -5.921875 -3.125 -5.921875 -3.5625 C -5.921875 -4.195312 -5.757812 -4.660156 -5.4375 -4.953125 C -5.125 -5.253906 -4.601562 -5.40625 -3.875 -5.40625 L 0 -5.40625 Z M 0 -4.4375 \"/>\n",
       "</g>\n",
       "<g id=\"glyph-1-11\">\n",
       "<path d=\"M -0.046875 -2.96875 C 0.046875 -2.65625 0.09375 -2.332031 0.09375 -2 C 0.09375 -1.226562 -0.347656 -0.84375 -1.234375 -0.84375 L -5.109375 -0.84375 L -5.109375 -0.171875 L -5.8125 -0.171875 L -5.8125 -0.875 L -7.109375 -1.15625 L -7.109375 -1.8125 L -5.8125 -1.8125 L -5.8125 -2.875 L -5.109375 -2.875 L -5.109375 -1.8125 L -1.4375 -1.8125 C -1.15625 -1.8125 -0.957031 -1.851562 -0.84375 -1.9375 C -0.738281 -2.03125 -0.6875 -2.191406 -0.6875 -2.421875 C -0.6875 -2.546875 -0.707031 -2.726562 -0.75 -2.96875 Z M -0.046875 -2.96875 \"/>\n",
       "</g>\n",
       "<g id=\"glyph-2-0\">\n",
       "<path d=\"M 8.203125 -2.515625 C 8.203125 -1.671875 7.875 -1.019531 7.21875 -0.5625 C 6.5625 -0.101562 5.640625 0.125 4.453125 0.125 C 2.234375 0.125 0.945312 -0.640625 0.59375 -2.171875 L 1.796875 -2.421875 C 1.929688 -1.867188 2.222656 -1.460938 2.671875 -1.203125 C 3.117188 -0.953125 3.726562 -0.828125 4.5 -0.828125 C 5.289062 -0.828125 5.898438 -0.960938 6.328125 -1.234375 C 6.765625 -1.515625 6.984375 -1.914062 6.984375 -2.4375 C 6.984375 -2.738281 6.914062 -2.976562 6.78125 -3.15625 C 6.644531 -3.34375 6.453125 -3.492188 6.203125 -3.609375 C 5.960938 -3.734375 5.671875 -3.835938 5.328125 -3.921875 C 4.992188 -4.003906 4.617188 -4.09375 4.203125 -4.1875 C 3.484375 -4.34375 2.9375 -4.5 2.5625 -4.65625 C 2.195312 -4.820312 1.90625 -5.003906 1.6875 -5.203125 C 1.46875 -5.398438 1.300781 -5.628906 1.1875 -5.890625 C 1.082031 -6.148438 1.03125 -6.445312 1.03125 -6.78125 C 1.03125 -7.5625 1.328125 -8.160156 1.921875 -8.578125 C 2.515625 -9.003906 3.363281 -9.21875 4.46875 -9.21875 C 5.5 -9.21875 6.285156 -9.054688 6.828125 -8.734375 C 7.378906 -8.421875 7.765625 -7.882812 7.984375 -7.125 L 6.78125 -6.921875 C 6.644531 -7.398438 6.390625 -7.75 6.015625 -7.96875 C 5.640625 -8.1875 5.125 -8.296875 4.46875 -8.296875 C 3.738281 -8.296875 3.179688 -8.171875 2.796875 -7.921875 C 2.410156 -7.679688 2.21875 -7.328125 2.21875 -6.859375 C 2.21875 -6.578125 2.289062 -6.34375 2.4375 -6.15625 C 2.59375 -5.976562 2.804688 -5.820312 3.078125 -5.6875 C 3.359375 -5.5625 3.914062 -5.410156 4.75 -5.234375 C 5.03125 -5.160156 5.3125 -5.09375 5.59375 -5.03125 C 5.875 -4.96875 6.140625 -4.890625 6.390625 -4.796875 C 6.640625 -4.703125 6.875 -4.59375 7.09375 -4.46875 C 7.320312 -4.34375 7.515625 -4.1875 7.671875 -4 C 7.835938 -3.820312 7.96875 -3.609375 8.0625 -3.359375 C 8.15625 -3.117188 8.203125 -2.835938 8.203125 -2.515625 Z M 8.203125 -2.515625 \"/>\n",
       "</g>\n",
       "<g id=\"glyph-2-1\">\n",
       "<path d=\"M 2.671875 0.125 C 1.972656 0.125 1.445312 -0.0546875 1.09375 -0.421875 C 0.738281 -0.796875 0.5625 -1.304688 0.5625 -1.953125 C 0.5625 -2.671875 0.796875 -3.222656 1.265625 -3.609375 C 1.742188 -3.992188 2.515625 -4.203125 3.578125 -4.234375 L 5.140625 -4.25 L 5.140625 -4.640625 C 5.140625 -5.203125 5.019531 -5.601562 4.78125 -5.84375 C 4.539062 -6.09375 4.160156 -6.21875 3.640625 -6.21875 C 3.117188 -6.21875 2.738281 -6.128906 2.5 -5.953125 C 2.269531 -5.773438 2.128906 -5.492188 2.078125 -5.109375 L 0.875 -5.21875 C 1.070312 -6.476562 2.003906 -7.109375 3.671875 -7.109375 C 4.546875 -7.109375 5.203125 -6.90625 5.640625 -6.5 C 6.085938 -6.101562 6.3125 -5.519531 6.3125 -4.75 L 6.3125 -1.75 C 6.3125 -1.40625 6.351562 -1.144531 6.4375 -0.96875 C 6.53125 -0.800781 6.707031 -0.71875 6.96875 -0.71875 C 7.070312 -0.71875 7.195312 -0.734375 7.34375 -0.765625 L 7.34375 -0.03125 C 7.050781 0.03125 6.753906 0.0625 6.453125 0.0625 C 6.015625 0.0625 5.695312 -0.046875 5.5 -0.265625 C 5.3125 -0.492188 5.203125 -0.847656 5.171875 -1.328125 L 5.140625 -1.328125 C 4.835938 -0.796875 4.488281 -0.421875 4.09375 -0.203125 C 3.707031 0.015625 3.234375 0.125 2.671875 0.125 Z M 2.9375 -0.734375 C 3.363281 -0.734375 3.738281 -0.832031 4.0625 -1.03125 C 4.394531 -1.226562 4.65625 -1.492188 4.84375 -1.828125 C 5.039062 -2.160156 5.140625 -2.507812 5.140625 -2.875 L 5.140625 -3.4375 L 3.875 -3.421875 C 3.320312 -3.410156 2.90625 -3.351562 2.625 -3.25 C 2.34375 -3.144531 2.125 -2.984375 1.96875 -2.765625 C 1.820312 -2.554688 1.75 -2.273438 1.75 -1.921875 C 1.75 -1.546875 1.847656 -1.253906 2.046875 -1.046875 C 2.253906 -0.835938 2.550781 -0.734375 2.9375 -0.734375 Z M 2.9375 -0.734375 \"/>\n",
       "</g>\n",
       "<g id=\"glyph-2-2\">\n",
       "<path d=\"M 0.890625 0 L 0.890625 -9.5625 L 2.046875 -9.5625 L 2.046875 0 Z M 0.890625 0 \"/>\n",
       "</g>\n",
       "<g id=\"glyph-2-3\">\n",
       "<path d=\"M 1.78125 -3.25 C 1.78125 -2.445312 1.941406 -1.828125 2.265625 -1.390625 C 2.597656 -0.953125 3.082031 -0.734375 3.71875 -0.734375 C 4.226562 -0.734375 4.632812 -0.832031 4.9375 -1.03125 C 5.238281 -1.238281 5.441406 -1.5 5.546875 -1.8125 L 6.5625 -1.515625 C 6.144531 -0.421875 5.195312 0.125 3.71875 0.125 C 2.6875 0.125 1.898438 -0.179688 1.359375 -0.796875 C 0.828125 -1.410156 0.5625 -2.320312 0.5625 -3.53125 C 0.5625 -4.6875 0.828125 -5.570312 1.359375 -6.1875 C 1.898438 -6.800781 2.675781 -7.109375 3.6875 -7.109375 C 5.726562 -7.109375 6.75 -5.867188 6.75 -3.390625 L 6.75 -3.25 Z M 5.5625 -4.125 C 5.488281 -4.863281 5.296875 -5.398438 4.984375 -5.734375 C 4.679688 -6.078125 4.238281 -6.25 3.65625 -6.25 C 3.09375 -6.25 2.644531 -6.0625 2.3125 -5.6875 C 1.988281 -5.3125 1.816406 -4.789062 1.796875 -4.125 Z M 5.5625 -4.125 \"/>\n",
       "</g>\n",
       "<g id=\"glyph-2-4\">\n",
       "<path d=\"M 6.125 -1.921875 C 6.125 -1.265625 5.875 -0.757812 5.375 -0.40625 C 4.882812 -0.0507812 4.191406 0.125 3.296875 0.125 C 2.421875 0.125 1.75 -0.015625 1.28125 -0.296875 C 0.8125 -0.585938 0.507812 -1.035156 0.375 -1.640625 L 1.390625 -1.84375 C 1.492188 -1.46875 1.695312 -1.191406 2 -1.015625 C 2.3125 -0.835938 2.742188 -0.75 3.296875 -0.75 C 3.878906 -0.75 4.304688 -0.835938 4.578125 -1.015625 C 4.859375 -1.203125 5 -1.476562 5 -1.84375 C 5 -2.113281 4.898438 -2.332031 4.703125 -2.5 C 4.515625 -2.675781 4.210938 -2.820312 3.796875 -2.9375 L 2.96875 -3.15625 C 2.300781 -3.320312 1.828125 -3.488281 1.546875 -3.65625 C 1.265625 -3.820312 1.039062 -4.019531 0.875 -4.25 C 0.71875 -4.488281 0.640625 -4.78125 0.640625 -5.125 C 0.640625 -5.757812 0.863281 -6.242188 1.3125 -6.578125 C 1.769531 -6.910156 2.4375 -7.078125 3.3125 -7.078125 C 4.082031 -7.078125 4.691406 -6.941406 5.140625 -6.671875 C 5.597656 -6.398438 5.882812 -5.96875 6 -5.375 L 4.953125 -5.25 C 4.890625 -5.5625 4.71875 -5.796875 4.4375 -5.953125 C 4.15625 -6.117188 3.78125 -6.203125 3.3125 -6.203125 C 2.78125 -6.203125 2.390625 -6.125 2.140625 -5.96875 C 1.890625 -5.8125 1.765625 -5.570312 1.765625 -5.25 C 1.765625 -5.050781 1.816406 -4.882812 1.921875 -4.75 C 2.023438 -4.625 2.175781 -4.515625 2.375 -4.421875 C 2.582031 -4.335938 3.007812 -4.21875 3.65625 -4.0625 C 4.269531 -3.90625 4.710938 -3.757812 4.984375 -3.625 C 5.253906 -3.5 5.46875 -3.351562 5.625 -3.1875 C 5.78125 -3.03125 5.898438 -2.847656 5.984375 -2.640625 C 6.078125 -2.429688 6.125 -2.191406 6.125 -1.921875 Z M 6.125 -1.921875 \"/>\n",
       "</g>\n",
       "<g id=\"glyph-2-5\">\n",
       "</g>\n",
       "<g id=\"glyph-2-6\">\n",
       "<path d=\"M 7.53125 0 L 6.484375 -2.65625 L 2.34375 -2.65625 L 1.296875 0 L 0.03125 0 L 3.734375 -9.078125 L 5.125 -9.078125 L 8.78125 0 Z M 4.421875 -8.15625 L 4.359375 -7.96875 C 4.253906 -7.613281 4.09375 -7.160156 3.875 -6.609375 L 2.71875 -3.609375 L 6.125 -3.609375 L 4.953125 -6.609375 C 4.828125 -6.910156 4.707031 -7.25 4.59375 -7.625 Z M 4.421875 -8.15625 \"/>\n",
       "</g>\n",
       "<g id=\"glyph-2-7\">\n",
       "<path d=\"M 4.953125 0 L 4.953125 -4.421875 C 4.953125 -5.097656 4.859375 -5.5625 4.671875 -5.8125 C 4.484375 -6.070312 4.148438 -6.203125 3.671875 -6.203125 C 3.179688 -6.203125 2.789062 -6.015625 2.5 -5.640625 C 2.207031 -5.265625 2.0625 -4.734375 2.0625 -4.046875 L 2.0625 0 L 0.921875 0 L 0.921875 -5.484375 C 0.921875 -6.296875 0.90625 -6.789062 0.875 -6.96875 L 1.96875 -6.96875 C 1.976562 -6.945312 1.984375 -6.890625 1.984375 -6.796875 C 1.984375 -6.703125 1.988281 -6.59375 2 -6.46875 C 2.007812 -6.351562 2.019531 -6.125 2.03125 -5.78125 L 2.046875 -5.78125 C 2.296875 -6.28125 2.582031 -6.625 2.90625 -6.8125 C 3.226562 -7.007812 3.617188 -7.109375 4.078125 -7.109375 C 4.609375 -7.109375 5.023438 -7 5.328125 -6.78125 C 5.640625 -6.570312 5.851562 -6.238281 5.96875 -5.78125 L 6 -5.78125 C 6.238281 -6.25 6.523438 -6.585938 6.859375 -6.796875 C 7.203125 -7.003906 7.617188 -7.109375 8.109375 -7.109375 C 8.816406 -7.109375 9.328125 -6.914062 9.640625 -6.53125 C 9.960938 -6.144531 10.125 -5.515625 10.125 -4.640625 L 10.125 0 L 8.984375 0 L 8.984375 -4.421875 C 8.984375 -5.097656 8.890625 -5.5625 8.703125 -5.8125 C 8.515625 -6.070312 8.179688 -6.203125 7.703125 -6.203125 C 7.191406 -6.203125 6.796875 -6.015625 6.515625 -5.640625 C 6.234375 -5.265625 6.09375 -4.734375 6.09375 -4.046875 L 6.09375 0 Z M 4.953125 0 \"/>\n",
       "</g>\n",
       "<g id=\"glyph-2-8\">\n",
       "<path d=\"M 6.78125 -3.5 C 6.78125 -2.269531 6.507812 -1.359375 5.96875 -0.765625 C 5.4375 -0.171875 4.660156 0.125 3.640625 0.125 C 2.617188 0.125 1.847656 -0.179688 1.328125 -0.796875 C 0.804688 -1.421875 0.546875 -2.320312 0.546875 -3.5 C 0.546875 -5.90625 1.59375 -7.109375 3.6875 -7.109375 C 4.75 -7.109375 5.53125 -6.8125 6.03125 -6.21875 C 6.53125 -5.632812 6.78125 -4.726562 6.78125 -3.5 Z M 5.5625 -3.5 C 5.5625 -4.457031 5.421875 -5.15625 5.140625 -5.59375 C 4.859375 -6.03125 4.378906 -6.25 3.703125 -6.25 C 3.023438 -6.25 2.53125 -6.023438 2.21875 -5.578125 C 1.914062 -5.128906 1.765625 -4.4375 1.765625 -3.5 C 1.765625 -2.570312 1.914062 -1.878906 2.21875 -1.421875 C 2.519531 -0.960938 2.988281 -0.734375 3.625 -0.734375 C 4.320312 -0.734375 4.816406 -0.953125 5.109375 -1.390625 C 5.410156 -1.835938 5.5625 -2.539062 5.5625 -3.5 Z M 5.5625 -3.5 \"/>\n",
       "</g>\n",
       "<g id=\"glyph-2-9\">\n",
       "<path d=\"M 2.03125 -6.96875 L 2.03125 -2.546875 C 2.03125 -2.085938 2.070312 -1.734375 2.15625 -1.484375 C 2.25 -1.234375 2.394531 -1.050781 2.59375 -0.9375 C 2.789062 -0.820312 3.082031 -0.765625 3.46875 -0.765625 C 4.019531 -0.765625 4.457031 -0.957031 4.78125 -1.34375 C 5.101562 -1.726562 5.265625 -2.257812 5.265625 -2.9375 L 5.265625 -6.96875 L 6.421875 -6.96875 L 6.421875 -1.484375 C 6.421875 -0.671875 6.4375 -0.175781 6.46875 0 L 5.375 0 C 5.363281 -0.0195312 5.351562 -0.078125 5.34375 -0.171875 C 5.34375 -0.265625 5.335938 -0.375 5.328125 -0.5 C 5.328125 -0.625 5.320312 -0.851562 5.3125 -1.1875 L 5.296875 -1.1875 C 5.035156 -0.707031 4.726562 -0.367188 4.375 -0.171875 C 4.019531 0.0234375 3.582031 0.125 3.0625 0.125 C 2.300781 0.125 1.742188 -0.0625 1.390625 -0.4375 C 1.035156 -0.820312 0.859375 -1.453125 0.859375 -2.328125 L 0.859375 -6.96875 Z M 2.03125 -6.96875 \"/>\n",
       "</g>\n",
       "<g id=\"glyph-2-10\">\n",
       "<path d=\"M 5.3125 0 L 5.3125 -4.421875 C 5.3125 -4.878906 5.265625 -5.234375 5.171875 -5.484375 C 5.085938 -5.742188 4.945312 -5.925781 4.75 -6.03125 C 4.550781 -6.144531 4.257812 -6.203125 3.875 -6.203125 C 3.320312 -6.203125 2.882812 -6.007812 2.5625 -5.625 C 2.238281 -5.25 2.078125 -4.722656 2.078125 -4.046875 L 2.078125 0 L 0.921875 0 L 0.921875 -5.484375 C 0.921875 -6.296875 0.90625 -6.789062 0.875 -6.96875 L 1.96875 -6.96875 C 1.976562 -6.945312 1.984375 -6.890625 1.984375 -6.796875 C 1.984375 -6.703125 1.988281 -6.59375 2 -6.46875 C 2.007812 -6.351562 2.019531 -6.125 2.03125 -5.78125 L 2.046875 -5.78125 C 2.304688 -6.257812 2.613281 -6.597656 2.96875 -6.796875 C 3.320312 -7.003906 3.757812 -7.109375 4.28125 -7.109375 C 5.039062 -7.109375 5.597656 -6.914062 5.953125 -6.53125 C 6.304688 -6.15625 6.484375 -5.523438 6.484375 -4.640625 L 6.484375 0 Z M 5.3125 0 \"/>\n",
       "</g>\n",
       "<g id=\"glyph-2-11\">\n",
       "<path d=\"M 3.578125 -0.046875 C 3.191406 0.0546875 2.796875 0.109375 2.390625 0.109375 C 1.460938 0.109375 1 -0.414062 1 -1.46875 L 1 -6.125 L 0.203125 -6.125 L 0.203125 -6.96875 L 1.046875 -6.96875 L 1.390625 -8.53125 L 2.171875 -8.53125 L 2.171875 -6.96875 L 3.453125 -6.96875 L 3.453125 -6.125 L 2.171875 -6.125 L 2.171875 -1.734375 C 2.171875 -1.390625 2.222656 -1.148438 2.328125 -1.015625 C 2.441406 -0.878906 2.632812 -0.8125 2.90625 -0.8125 C 3.0625 -0.8125 3.285156 -0.84375 3.578125 -0.90625 Z M 3.578125 -0.046875 \"/>\n",
       "</g>\n",
       "<g id=\"glyph-2-12\">\n",
       "<path d=\"M 9.640625 -4.578125 C 9.640625 -3.628906 9.457031 -2.796875 9.09375 -2.078125 C 8.726562 -1.367188 8.207031 -0.820312 7.53125 -0.4375 C 6.851562 -0.0625 6.050781 0.125 5.125 0.125 C 4.1875 0.125 3.378906 -0.0625 2.703125 -0.4375 C 2.035156 -0.8125 1.519531 -1.359375 1.15625 -2.078125 C 0.800781 -2.796875 0.625 -3.628906 0.625 -4.578125 C 0.625 -6.035156 1.019531 -7.171875 1.8125 -7.984375 C 2.613281 -8.804688 3.722656 -9.21875 5.140625 -9.21875 C 6.066406 -9.21875 6.867188 -9.03125 7.546875 -8.65625 C 8.222656 -8.289062 8.738281 -7.757812 9.09375 -7.0625 C 9.457031 -6.363281 9.640625 -5.535156 9.640625 -4.578125 Z M 8.375 -4.578125 C 8.375 -5.710938 8.09375 -6.601562 7.53125 -7.25 C 6.96875 -7.894531 6.171875 -8.21875 5.140625 -8.21875 C 4.097656 -8.21875 3.289062 -7.898438 2.71875 -7.265625 C 2.15625 -6.628906 1.875 -5.734375 1.875 -4.578125 C 1.875 -3.441406 2.160156 -2.539062 2.734375 -1.875 C 3.304688 -1.207031 4.101562 -0.875 5.125 -0.875 C 6.175781 -0.875 6.976562 -1.195312 7.53125 -1.84375 C 8.09375 -2.488281 8.375 -3.398438 8.375 -4.578125 Z M 8.375 -4.578125 \"/>\n",
       "</g>\n",
       "<g id=\"glyph-2-13\">\n",
       "<path d=\"M 0.890625 -8.453125 L 0.890625 -9.5625 L 2.046875 -9.5625 L 2.046875 -8.453125 Z M 0.890625 0 L 0.890625 -6.96875 L 2.046875 -6.96875 L 2.046875 0 Z M 0.890625 0 \"/>\n",
       "</g>\n",
       "<g id=\"glyph-2-14\">\n",
       "<path d=\"M 0.921875 0 L 0.921875 -5.34375 C 0.921875 -5.832031 0.90625 -6.375 0.875 -6.96875 L 1.96875 -6.96875 C 2.007812 -6.1875 2.03125 -5.710938 2.03125 -5.546875 L 2.046875 -5.546875 C 2.234375 -6.148438 2.445312 -6.5625 2.6875 -6.78125 C 2.925781 -7 3.265625 -7.109375 3.703125 -7.109375 C 3.859375 -7.109375 4.015625 -7.085938 4.171875 -7.046875 L 4.171875 -5.96875 C 4.023438 -6.019531 3.820312 -6.046875 3.5625 -6.046875 C 3.082031 -6.046875 2.710938 -5.835938 2.453125 -5.421875 C 2.203125 -5.003906 2.078125 -4.410156 2.078125 -3.640625 L 2.078125 0 Z M 0.921875 0 \"/>\n",
       "</g>\n",
       "</g>\n",
       "<clipPath id=\"clip-0\">\n",
       "<path clip-rule=\"nonzero\" d=\"M 56.714844 23.960938 L 498.523438 23.960938 L 498.523438 485.585938 L 56.714844 485.585938 Z M 56.714844 23.960938 \"/>\n",
       "</clipPath>\n",
       "<clipPath id=\"clip-1\">\n",
       "<path clip-rule=\"nonzero\" d=\"M 56.714844 411 L 498.523438 411 L 498.523438 413 L 56.714844 413 Z M 56.714844 411 \"/>\n",
       "</clipPath>\n",
       "<clipPath id=\"clip-2\">\n",
       "<path clip-rule=\"nonzero\" d=\"M 56.714844 306 L 498.523438 306 L 498.523438 308 L 56.714844 308 Z M 56.714844 306 \"/>\n",
       "</clipPath>\n",
       "<clipPath id=\"clip-3\">\n",
       "<path clip-rule=\"nonzero\" d=\"M 56.714844 201 L 498.523438 201 L 498.523438 203 L 56.714844 203 Z M 56.714844 201 \"/>\n",
       "</clipPath>\n",
       "<clipPath id=\"clip-4\">\n",
       "<path clip-rule=\"nonzero\" d=\"M 56.714844 97 L 498.523438 97 L 498.523438 98 L 56.714844 98 Z M 56.714844 97 \"/>\n",
       "</clipPath>\n",
       "<clipPath id=\"clip-5\">\n",
       "<path clip-rule=\"nonzero\" d=\"M 116 23.960938 L 118 23.960938 L 118 485.585938 L 116 485.585938 Z M 116 23.960938 \"/>\n",
       "</clipPath>\n",
       "<clipPath id=\"clip-6\">\n",
       "<path clip-rule=\"nonzero\" d=\"M 223 23.960938 L 225 23.960938 L 225 485.585938 L 223 485.585938 Z M 223 23.960938 \"/>\n",
       "</clipPath>\n",
       "<clipPath id=\"clip-7\">\n",
       "<path clip-rule=\"nonzero\" d=\"M 330 23.960938 L 332 23.960938 L 332 485.585938 L 330 485.585938 Z M 330 23.960938 \"/>\n",
       "</clipPath>\n",
       "<clipPath id=\"clip-8\">\n",
       "<path clip-rule=\"nonzero\" d=\"M 438 23.960938 L 439 23.960938 L 439 485.585938 L 438 485.585938 Z M 438 23.960938 \"/>\n",
       "</clipPath>\n",
       "<clipPath id=\"clip-9\">\n",
       "<path clip-rule=\"nonzero\" d=\"M 56.714844 463 L 498.523438 463 L 498.523438 465 L 56.714844 465 Z M 56.714844 463 \"/>\n",
       "</clipPath>\n",
       "<clipPath id=\"clip-10\">\n",
       "<path clip-rule=\"nonzero\" d=\"M 56.714844 358 L 498.523438 358 L 498.523438 360 L 56.714844 360 Z M 56.714844 358 \"/>\n",
       "</clipPath>\n",
       "<clipPath id=\"clip-11\">\n",
       "<path clip-rule=\"nonzero\" d=\"M 56.714844 254 L 498.523438 254 L 498.523438 256 L 56.714844 256 Z M 56.714844 254 \"/>\n",
       "</clipPath>\n",
       "<clipPath id=\"clip-12\">\n",
       "<path clip-rule=\"nonzero\" d=\"M 56.714844 149 L 498.523438 149 L 498.523438 151 L 56.714844 151 Z M 56.714844 149 \"/>\n",
       "</clipPath>\n",
       "<clipPath id=\"clip-13\">\n",
       "<path clip-rule=\"nonzero\" d=\"M 56.714844 44 L 498.523438 44 L 498.523438 46 L 56.714844 46 Z M 56.714844 44 \"/>\n",
       "</clipPath>\n",
       "<clipPath id=\"clip-14\">\n",
       "<path clip-rule=\"nonzero\" d=\"M 62 23.960938 L 64 23.960938 L 64 485.585938 L 62 485.585938 Z M 62 23.960938 \"/>\n",
       "</clipPath>\n",
       "<clipPath id=\"clip-15\">\n",
       "<path clip-rule=\"nonzero\" d=\"M 169 23.960938 L 172 23.960938 L 172 485.585938 L 169 485.585938 Z M 169 23.960938 \"/>\n",
       "</clipPath>\n",
       "<clipPath id=\"clip-16\">\n",
       "<path clip-rule=\"nonzero\" d=\"M 277 23.960938 L 279 23.960938 L 279 485.585938 L 277 485.585938 Z M 277 23.960938 \"/>\n",
       "</clipPath>\n",
       "<clipPath id=\"clip-17\">\n",
       "<path clip-rule=\"nonzero\" d=\"M 384 23.960938 L 386 23.960938 L 386 485.585938 L 384 485.585938 Z M 384 23.960938 \"/>\n",
       "</clipPath>\n",
       "<clipPath id=\"clip-18\">\n",
       "<path clip-rule=\"nonzero\" d=\"M 491 23.960938 L 493 23.960938 L 493 485.585938 L 491 485.585938 Z M 491 23.960938 \"/>\n",
       "</clipPath>\n",
       "</defs>\n",
       "<rect x=\"-50.4\" y=\"-50.4\" width=\"604.8\" height=\"604.8\" fill=\"rgb(100%, 100%, 100%)\" fill-opacity=\"1\"/>\n",
       "<rect x=\"-50.4\" y=\"-50.4\" width=\"604.8\" height=\"604.8\" fill=\"rgb(100%, 100%, 100%)\" fill-opacity=\"1\"/>\n",
       "<path fill=\"none\" stroke-width=\"1.066978\" stroke-linecap=\"round\" stroke-linejoin=\"round\" stroke=\"rgb(100%, 100%, 100%)\" stroke-opacity=\"1\" stroke-miterlimit=\"10\" d=\"M 0 504 L 504 504 L 504 0 L 0 0 Z M 0 504 \"/>\n",
       "<g clip-path=\"url(#clip-0)\">\n",
       "<path fill-rule=\"nonzero\" fill=\"rgb(92.156863%, 92.156863%, 92.156863%)\" fill-opacity=\"1\" d=\"M 56.714844 485.585938 L 498.523438 485.585938 L 498.523438 23.960938 L 56.714844 23.960938 Z M 56.714844 485.585938 \"/>\n",
       "</g>\n",
       "<g clip-path=\"url(#clip-1)\">\n",
       "<path fill=\"none\" stroke-width=\"0.533489\" stroke-linecap=\"butt\" stroke-linejoin=\"round\" stroke=\"rgb(100%, 100%, 100%)\" stroke-opacity=\"1\" stroke-miterlimit=\"10\" d=\"M 56.714844 411.777344 L 498.519531 411.777344 \"/>\n",
       "</g>\n",
       "<g clip-path=\"url(#clip-2)\">\n",
       "<path fill=\"none\" stroke-width=\"0.533489\" stroke-linecap=\"butt\" stroke-linejoin=\"round\" stroke=\"rgb(100%, 100%, 100%)\" stroke-opacity=\"1\" stroke-miterlimit=\"10\" d=\"M 56.714844 306.96875 L 498.519531 306.96875 \"/>\n",
       "</g>\n",
       "<g clip-path=\"url(#clip-3)\">\n",
       "<path fill=\"none\" stroke-width=\"0.533489\" stroke-linecap=\"butt\" stroke-linejoin=\"round\" stroke=\"rgb(100%, 100%, 100%)\" stroke-opacity=\"1\" stroke-miterlimit=\"10\" d=\"M 56.714844 202.160156 L 498.519531 202.160156 \"/>\n",
       "</g>\n",
       "<g clip-path=\"url(#clip-4)\">\n",
       "<path fill=\"none\" stroke-width=\"0.533489\" stroke-linecap=\"butt\" stroke-linejoin=\"round\" stroke=\"rgb(100%, 100%, 100%)\" stroke-opacity=\"1\" stroke-miterlimit=\"10\" d=\"M 56.714844 97.347656 L 498.519531 97.347656 \"/>\n",
       "</g>\n",
       "<g clip-path=\"url(#clip-5)\">\n",
       "<path fill=\"none\" stroke-width=\"0.533489\" stroke-linecap=\"butt\" stroke-linejoin=\"round\" stroke=\"rgb(100%, 100%, 100%)\" stroke-opacity=\"1\" stroke-miterlimit=\"10\" d=\"M 116.960938 485.585938 L 116.960938 23.960938 \"/>\n",
       "</g>\n",
       "<g clip-path=\"url(#clip-6)\">\n",
       "<path fill=\"none\" stroke-width=\"0.533489\" stroke-linecap=\"butt\" stroke-linejoin=\"round\" stroke=\"rgb(100%, 100%, 100%)\" stroke-opacity=\"1\" stroke-miterlimit=\"10\" d=\"M 224.066406 485.585938 L 224.066406 23.960938 \"/>\n",
       "</g>\n",
       "<g clip-path=\"url(#clip-7)\">\n",
       "<path fill=\"none\" stroke-width=\"0.533489\" stroke-linecap=\"butt\" stroke-linejoin=\"round\" stroke=\"rgb(100%, 100%, 100%)\" stroke-opacity=\"1\" stroke-miterlimit=\"10\" d=\"M 331.167969 485.585938 L 331.167969 23.960938 \"/>\n",
       "</g>\n",
       "<g clip-path=\"url(#clip-8)\">\n",
       "<path fill=\"none\" stroke-width=\"0.533489\" stroke-linecap=\"butt\" stroke-linejoin=\"round\" stroke=\"rgb(100%, 100%, 100%)\" stroke-opacity=\"1\" stroke-miterlimit=\"10\" d=\"M 438.273438 485.585938 L 438.273438 23.960938 \"/>\n",
       "</g>\n",
       "<g clip-path=\"url(#clip-9)\">\n",
       "<path fill=\"none\" stroke-width=\"1.066978\" stroke-linecap=\"butt\" stroke-linejoin=\"round\" stroke=\"rgb(100%, 100%, 100%)\" stroke-opacity=\"1\" stroke-miterlimit=\"10\" d=\"M 56.714844 464.183594 L 498.519531 464.183594 \"/>\n",
       "</g>\n",
       "<g clip-path=\"url(#clip-10)\">\n",
       "<path fill=\"none\" stroke-width=\"1.066978\" stroke-linecap=\"butt\" stroke-linejoin=\"round\" stroke=\"rgb(100%, 100%, 100%)\" stroke-opacity=\"1\" stroke-miterlimit=\"10\" d=\"M 56.714844 359.375 L 498.519531 359.375 \"/>\n",
       "</g>\n",
       "<g clip-path=\"url(#clip-11)\">\n",
       "<path fill=\"none\" stroke-width=\"1.066978\" stroke-linecap=\"butt\" stroke-linejoin=\"round\" stroke=\"rgb(100%, 100%, 100%)\" stroke-opacity=\"1\" stroke-miterlimit=\"10\" d=\"M 56.714844 254.5625 L 498.519531 254.5625 \"/>\n",
       "</g>\n",
       "<g clip-path=\"url(#clip-12)\">\n",
       "<path fill=\"none\" stroke-width=\"1.066978\" stroke-linecap=\"butt\" stroke-linejoin=\"round\" stroke=\"rgb(100%, 100%, 100%)\" stroke-opacity=\"1\" stroke-miterlimit=\"10\" d=\"M 56.714844 149.753906 L 498.519531 149.753906 \"/>\n",
       "</g>\n",
       "<g clip-path=\"url(#clip-13)\">\n",
       "<path fill=\"none\" stroke-width=\"1.066978\" stroke-linecap=\"butt\" stroke-linejoin=\"round\" stroke=\"rgb(100%, 100%, 100%)\" stroke-opacity=\"1\" stroke-miterlimit=\"10\" d=\"M 56.714844 44.945312 L 498.519531 44.945312 \"/>\n",
       "</g>\n",
       "<g clip-path=\"url(#clip-14)\">\n",
       "<path fill=\"none\" stroke-width=\"1.066978\" stroke-linecap=\"butt\" stroke-linejoin=\"round\" stroke=\"rgb(100%, 100%, 100%)\" stroke-opacity=\"1\" stroke-miterlimit=\"10\" d=\"M 63.40625 485.585938 L 63.40625 23.960938 \"/>\n",
       "</g>\n",
       "<g clip-path=\"url(#clip-15)\">\n",
       "<path fill=\"none\" stroke-width=\"1.066978\" stroke-linecap=\"butt\" stroke-linejoin=\"round\" stroke=\"rgb(100%, 100%, 100%)\" stroke-opacity=\"1\" stroke-miterlimit=\"10\" d=\"M 170.511719 485.585938 L 170.511719 23.960938 \"/>\n",
       "</g>\n",
       "<g clip-path=\"url(#clip-16)\">\n",
       "<path fill=\"none\" stroke-width=\"1.066978\" stroke-linecap=\"butt\" stroke-linejoin=\"round\" stroke=\"rgb(100%, 100%, 100%)\" stroke-opacity=\"1\" stroke-miterlimit=\"10\" d=\"M 277.617188 485.585938 L 277.617188 23.960938 \"/>\n",
       "</g>\n",
       "<g clip-path=\"url(#clip-17)\">\n",
       "<path fill=\"none\" stroke-width=\"1.066978\" stroke-linecap=\"butt\" stroke-linejoin=\"round\" stroke=\"rgb(100%, 100%, 100%)\" stroke-opacity=\"1\" stroke-miterlimit=\"10\" d=\"M 384.722656 485.585938 L 384.722656 23.960938 \"/>\n",
       "</g>\n",
       "<g clip-path=\"url(#clip-18)\">\n",
       "<path fill=\"none\" stroke-width=\"1.066978\" stroke-linecap=\"butt\" stroke-linejoin=\"round\" stroke=\"rgb(100%, 100%, 100%)\" stroke-opacity=\"1\" stroke-miterlimit=\"10\" d=\"M 491.828125 485.585938 L 491.828125 23.960938 \"/>\n",
       "</g>\n",
       "<path fill-rule=\"nonzero\" fill=\"rgb(20%, 20%, 20%)\" fill-opacity=\"1\" stroke-width=\"0.708661\" stroke-linecap=\"round\" stroke-linejoin=\"round\" stroke=\"rgb(20%, 20%, 20%)\" stroke-opacity=\"1\" stroke-miterlimit=\"10\" d=\"M 279.570312 443.222656 C 279.570312 445.828125 275.660156 445.828125 275.660156 443.222656 C 275.660156 440.617188 279.570312 440.617188 279.570312 443.222656 \"/>\n",
       "<path fill-rule=\"nonzero\" fill=\"rgb(20%, 20%, 20%)\" fill-opacity=\"1\" stroke-width=\"0.708661\" stroke-linecap=\"round\" stroke-linejoin=\"round\" stroke=\"rgb(20%, 20%, 20%)\" stroke-opacity=\"1\" stroke-miterlimit=\"10\" d=\"M 279.570312 430.644531 C 279.570312 433.25 275.660156 433.25 275.660156 430.644531 C 275.660156 428.039062 279.570312 428.039062 279.570312 430.644531 \"/>\n",
       "<path fill-rule=\"nonzero\" fill=\"rgb(20%, 20%, 20%)\" fill-opacity=\"1\" stroke-width=\"0.708661\" stroke-linecap=\"round\" stroke-linejoin=\"round\" stroke=\"rgb(20%, 20%, 20%)\" stroke-opacity=\"1\" stroke-miterlimit=\"10\" d=\"M 279.570312 254.5625 C 279.570312 257.171875 275.660156 257.171875 275.660156 254.5625 C 275.660156 251.957031 279.570312 251.957031 279.570312 254.5625 \"/>\n",
       "<path fill-rule=\"nonzero\" fill=\"rgb(20%, 20%, 20%)\" fill-opacity=\"1\" stroke-width=\"0.708661\" stroke-linecap=\"round\" stroke-linejoin=\"round\" stroke=\"rgb(20%, 20%, 20%)\" stroke-opacity=\"1\" stroke-miterlimit=\"10\" d=\"M 279.570312 413.875 C 279.570312 416.480469 275.660156 416.480469 275.660156 413.875 C 275.660156 411.269531 279.570312 411.269531 279.570312 413.875 \"/>\n",
       "<path fill-rule=\"nonzero\" fill=\"rgb(20%, 20%, 20%)\" fill-opacity=\"1\" stroke-width=\"0.708661\" stroke-linecap=\"round\" stroke-linejoin=\"round\" stroke=\"rgb(20%, 20%, 20%)\" stroke-opacity=\"1\" stroke-miterlimit=\"10\" d=\"M 279.570312 44.945312 C 279.570312 47.550781 275.660156 47.550781 275.660156 44.945312 C 275.660156 42.339844 279.570312 42.339844 279.570312 44.945312 \"/>\n",
       "<path fill-rule=\"nonzero\" fill=\"rgb(20%, 20%, 20%)\" fill-opacity=\"1\" stroke-width=\"0.708661\" stroke-linecap=\"round\" stroke-linejoin=\"round\" stroke=\"rgb(20%, 20%, 20%)\" stroke-opacity=\"1\" stroke-miterlimit=\"10\" d=\"M 279.570312 359.375 C 279.570312 361.980469 275.660156 361.980469 275.660156 359.375 C 275.660156 356.769531 279.570312 356.769531 279.570312 359.375 \"/>\n",
       "<path fill=\"none\" stroke-width=\"1.066978\" stroke-linecap=\"butt\" stroke-linejoin=\"round\" stroke=\"rgb(20%, 20%, 20%)\" stroke-opacity=\"1\" stroke-miterlimit=\"10\" d=\"M 277.617188 461.273438 L 277.617188 459.746094 \"/>\n",
       "<path fill=\"none\" stroke-width=\"1.066978\" stroke-linecap=\"butt\" stroke-linejoin=\"round\" stroke=\"rgb(20%, 20%, 20%)\" stroke-opacity=\"1\" stroke-miterlimit=\"10\" d=\"M 277.617188 462.664062 L 277.617188 464.601562 \"/>\n",
       "<path fill-rule=\"nonzero\" fill=\"rgb(100%, 100%, 100%)\" fill-opacity=\"1\" stroke-width=\"1.066978\" stroke-linecap=\"butt\" stroke-linejoin=\"miter\" stroke=\"rgb(20%, 20%, 20%)\" stroke-opacity=\"1\" stroke-miterlimit=\"10\" d=\"M 76.796875 461.273438 L 76.796875 462.664062 L 478.4375 462.664062 L 478.4375 461.273438 Z M 76.796875 461.273438 \"/>\n",
       "<path fill=\"none\" stroke-width=\"2.133957\" stroke-linecap=\"butt\" stroke-linejoin=\"miter\" stroke=\"rgb(20%, 20%, 20%)\" stroke-opacity=\"1\" stroke-miterlimit=\"10\" d=\"M 76.796875 461.957031 L 478.4375 461.957031 \"/>\n",
       "<g fill=\"rgb(30.196078%, 30.196078%, 30.196078%)\" fill-opacity=\"1\">\n",
       "<use xlink:href=\"#glyph-0-0\" x=\"46.78125\" y=\"467.649414\"/>\n",
       "</g>\n",
       "<g fill=\"rgb(30.196078%, 30.196078%, 30.196078%)\" fill-opacity=\"1\">\n",
       "<use xlink:href=\"#glyph-0-1\" x=\"26.78125\" y=\"362.84082\"/>\n",
       "<use xlink:href=\"#glyph-0-2\" x=\"31.78125\" y=\"362.84082\"/>\n",
       "<use xlink:href=\"#glyph-0-0\" x=\"36.78125\" y=\"362.84082\"/>\n",
       "<use xlink:href=\"#glyph-0-0\" x=\"41.78125\" y=\"362.84082\"/>\n",
       "<use xlink:href=\"#glyph-0-0\" x=\"46.78125\" y=\"362.84082\"/>\n",
       "</g>\n",
       "<g fill=\"rgb(30.196078%, 30.196078%, 30.196078%)\" fill-opacity=\"1\">\n",
       "<use xlink:href=\"#glyph-0-2\" x=\"26.78125\" y=\"258.02832\"/>\n",
       "<use xlink:href=\"#glyph-0-0\" x=\"31.78125\" y=\"258.02832\"/>\n",
       "<use xlink:href=\"#glyph-0-0\" x=\"36.78125\" y=\"258.02832\"/>\n",
       "<use xlink:href=\"#glyph-0-0\" x=\"41.78125\" y=\"258.02832\"/>\n",
       "<use xlink:href=\"#glyph-0-0\" x=\"46.78125\" y=\"258.02832\"/>\n",
       "</g>\n",
       "<g fill=\"rgb(30.196078%, 30.196078%, 30.196078%)\" fill-opacity=\"1\">\n",
       "<use xlink:href=\"#glyph-0-3\" x=\"26.78125\" y=\"153.219727\"/>\n",
       "<use xlink:href=\"#glyph-0-2\" x=\"31.78125\" y=\"153.219727\"/>\n",
       "<use xlink:href=\"#glyph-0-0\" x=\"36.78125\" y=\"153.219727\"/>\n",
       "<use xlink:href=\"#glyph-0-0\" x=\"41.78125\" y=\"153.219727\"/>\n",
       "<use xlink:href=\"#glyph-0-0\" x=\"46.78125\" y=\"153.219727\"/>\n",
       "</g>\n",
       "<g fill=\"rgb(30.196078%, 30.196078%, 30.196078%)\" fill-opacity=\"1\">\n",
       "<use xlink:href=\"#glyph-0-4\" x=\"21.78125\" y=\"48.411133\"/>\n",
       "<use xlink:href=\"#glyph-0-0\" x=\"26.78125\" y=\"48.411133\"/>\n",
       "<use xlink:href=\"#glyph-0-0\" x=\"31.78125\" y=\"48.411133\"/>\n",
       "<use xlink:href=\"#glyph-0-0\" x=\"36.78125\" y=\"48.411133\"/>\n",
       "<use xlink:href=\"#glyph-0-0\" x=\"41.78125\" y=\"48.411133\"/>\n",
       "<use xlink:href=\"#glyph-0-0\" x=\"46.78125\" y=\"48.411133\"/>\n",
       "</g>\n",
       "<path fill=\"none\" stroke-width=\"1.066978\" stroke-linecap=\"butt\" stroke-linejoin=\"round\" stroke=\"rgb(20%, 20%, 20%)\" stroke-opacity=\"1\" stroke-miterlimit=\"10\" d=\"M 53.972656 464.183594 L 56.714844 464.183594 \"/>\n",
       "<path fill=\"none\" stroke-width=\"1.066978\" stroke-linecap=\"butt\" stroke-linejoin=\"round\" stroke=\"rgb(20%, 20%, 20%)\" stroke-opacity=\"1\" stroke-miterlimit=\"10\" d=\"M 53.972656 359.375 L 56.714844 359.375 \"/>\n",
       "<path fill=\"none\" stroke-width=\"1.066978\" stroke-linecap=\"butt\" stroke-linejoin=\"round\" stroke=\"rgb(20%, 20%, 20%)\" stroke-opacity=\"1\" stroke-miterlimit=\"10\" d=\"M 53.972656 254.5625 L 56.714844 254.5625 \"/>\n",
       "<path fill=\"none\" stroke-width=\"1.066978\" stroke-linecap=\"butt\" stroke-linejoin=\"round\" stroke=\"rgb(20%, 20%, 20%)\" stroke-opacity=\"1\" stroke-miterlimit=\"10\" d=\"M 53.972656 149.753906 L 56.714844 149.753906 \"/>\n",
       "<path fill=\"none\" stroke-width=\"1.066978\" stroke-linecap=\"butt\" stroke-linejoin=\"round\" stroke=\"rgb(20%, 20%, 20%)\" stroke-opacity=\"1\" stroke-miterlimit=\"10\" d=\"M 53.972656 44.945312 L 56.714844 44.945312 \"/>\n",
       "<path fill=\"none\" stroke-width=\"1.066978\" stroke-linecap=\"butt\" stroke-linejoin=\"round\" stroke=\"rgb(20%, 20%, 20%)\" stroke-opacity=\"1\" stroke-miterlimit=\"10\" d=\"M 63.40625 488.324219 L 63.40625 485.585938 \"/>\n",
       "<path fill=\"none\" stroke-width=\"1.066978\" stroke-linecap=\"butt\" stroke-linejoin=\"round\" stroke=\"rgb(20%, 20%, 20%)\" stroke-opacity=\"1\" stroke-miterlimit=\"10\" d=\"M 170.511719 488.324219 L 170.511719 485.585938 \"/>\n",
       "<path fill=\"none\" stroke-width=\"1.066978\" stroke-linecap=\"butt\" stroke-linejoin=\"round\" stroke=\"rgb(20%, 20%, 20%)\" stroke-opacity=\"1\" stroke-miterlimit=\"10\" d=\"M 277.617188 488.324219 L 277.617188 485.585938 \"/>\n",
       "<path fill=\"none\" stroke-width=\"1.066978\" stroke-linecap=\"butt\" stroke-linejoin=\"round\" stroke=\"rgb(20%, 20%, 20%)\" stroke-opacity=\"1\" stroke-miterlimit=\"10\" d=\"M 384.722656 488.324219 L 384.722656 485.585938 \"/>\n",
       "<path fill=\"none\" stroke-width=\"1.066978\" stroke-linecap=\"butt\" stroke-linejoin=\"round\" stroke=\"rgb(20%, 20%, 20%)\" stroke-opacity=\"1\" stroke-miterlimit=\"10\" d=\"M 491.828125 488.324219 L 491.828125 485.585938 \"/>\n",
       "<g fill=\"rgb(30.196078%, 30.196078%, 30.196078%)\" fill-opacity=\"1\">\n",
       "<use xlink:href=\"#glyph-0-5\" x=\"55.90625\" y=\"497.485352\"/>\n",
       "<use xlink:href=\"#glyph-0-0\" x=\"58.90625\" y=\"497.485352\"/>\n",
       "<use xlink:href=\"#glyph-0-6\" x=\"63.90625\" y=\"497.485352\"/>\n",
       "<use xlink:href=\"#glyph-0-7\" x=\"65.90625\" y=\"497.485352\"/>\n",
       "</g>\n",
       "<g fill=\"rgb(30.196078%, 30.196078%, 30.196078%)\" fill-opacity=\"1\">\n",
       "<use xlink:href=\"#glyph-0-5\" x=\"163.011719\" y=\"497.485352\"/>\n",
       "<use xlink:href=\"#glyph-0-0\" x=\"166.011719\" y=\"497.485352\"/>\n",
       "<use xlink:href=\"#glyph-0-6\" x=\"171.011719\" y=\"497.485352\"/>\n",
       "<use xlink:href=\"#glyph-0-1\" x=\"173.011719\" y=\"497.485352\"/>\n",
       "</g>\n",
       "<g fill=\"rgb(30.196078%, 30.196078%, 30.196078%)\" fill-opacity=\"1\">\n",
       "<use xlink:href=\"#glyph-0-0\" x=\"271.617188\" y=\"497.485352\"/>\n",
       "<use xlink:href=\"#glyph-0-6\" x=\"276.617188\" y=\"497.485352\"/>\n",
       "<use xlink:href=\"#glyph-0-0\" x=\"278.617188\" y=\"497.485352\"/>\n",
       "</g>\n",
       "<g fill=\"rgb(30.196078%, 30.196078%, 30.196078%)\" fill-opacity=\"1\">\n",
       "<use xlink:href=\"#glyph-0-0\" x=\"378.722656\" y=\"497.485352\"/>\n",
       "<use xlink:href=\"#glyph-0-6\" x=\"383.722656\" y=\"497.485352\"/>\n",
       "<use xlink:href=\"#glyph-0-1\" x=\"385.722656\" y=\"497.485352\"/>\n",
       "</g>\n",
       "<g fill=\"rgb(30.196078%, 30.196078%, 30.196078%)\" fill-opacity=\"1\">\n",
       "<use xlink:href=\"#glyph-0-0\" x=\"485.828125\" y=\"497.485352\"/>\n",
       "<use xlink:href=\"#glyph-0-6\" x=\"490.828125\" y=\"497.485352\"/>\n",
       "<use xlink:href=\"#glyph-0-7\" x=\"492.828125\" y=\"497.485352\"/>\n",
       "</g>\n",
       "<g fill=\"rgb(0%, 0%, 0%)\" fill-opacity=\"1\">\n",
       "<use xlink:href=\"#glyph-1-0\" x=\"13.438477\" y=\"289.773438\"/>\n",
       "<use xlink:href=\"#glyph-1-1\" x=\"13.438477\" y=\"282.773438\"/>\n",
       "<use xlink:href=\"#glyph-1-2\" x=\"13.438477\" y=\"276.773438\"/>\n",
       "<use xlink:href=\"#glyph-1-3\" x=\"13.438477\" y=\"274.773438\"/>\n",
       "<use xlink:href=\"#glyph-1-4\" x=\"13.438477\" y=\"268.773438\"/>\n",
       "<use xlink:href=\"#glyph-1-5\" x=\"13.438477\" y=\"262.773438\"/>\n",
       "<use xlink:href=\"#glyph-1-6\" x=\"13.438477\" y=\"256.773438\"/>\n",
       "<use xlink:href=\"#glyph-1-7\" x=\"13.438477\" y=\"249.773438\"/>\n",
       "<use xlink:href=\"#glyph-1-8\" x=\"13.438477\" y=\"240.773438\"/>\n",
       "<use xlink:href=\"#glyph-1-9\" x=\"13.438477\" y=\"234.773438\"/>\n",
       "<use xlink:href=\"#glyph-1-10\" x=\"13.438477\" y=\"228.773438\"/>\n",
       "<use xlink:href=\"#glyph-1-11\" x=\"13.438477\" y=\"222.773438\"/>\n",
       "</g>\n",
       "<g fill=\"rgb(0%, 0%, 0%)\" fill-opacity=\"1\">\n",
       "<use xlink:href=\"#glyph-2-0\" x=\"56.714844\" y=\"15.429688\"/>\n",
       "<use xlink:href=\"#glyph-2-1\" x=\"65.714844\" y=\"15.429688\"/>\n",
       "<use xlink:href=\"#glyph-2-2\" x=\"72.714844\" y=\"15.429688\"/>\n",
       "<use xlink:href=\"#glyph-2-3\" x=\"75.714844\" y=\"15.429688\"/>\n",
       "<use xlink:href=\"#glyph-2-4\" x=\"82.714844\" y=\"15.429688\"/>\n",
       "<use xlink:href=\"#glyph-2-5\" x=\"89.714844\" y=\"15.429688\"/>\n",
       "<use xlink:href=\"#glyph-2-6\" x=\"92.714844\" y=\"15.429688\"/>\n",
       "<use xlink:href=\"#glyph-2-7\" x=\"101.714844\" y=\"15.429688\"/>\n",
       "<use xlink:href=\"#glyph-2-8\" x=\"112.714844\" y=\"15.429688\"/>\n",
       "<use xlink:href=\"#glyph-2-9\" x=\"119.714844\" y=\"15.429688\"/>\n",
       "<use xlink:href=\"#glyph-2-10\" x=\"126.714844\" y=\"15.429688\"/>\n",
       "<use xlink:href=\"#glyph-2-11\" x=\"133.714844\" y=\"15.429688\"/>\n",
       "<use xlink:href=\"#glyph-2-5\" x=\"137.714844\" y=\"15.429688\"/>\n",
       "<use xlink:href=\"#glyph-2-12\" x=\"141.714844\" y=\"15.429688\"/>\n",
       "<use xlink:href=\"#glyph-2-9\" x=\"151.714844\" y=\"15.429688\"/>\n",
       "<use xlink:href=\"#glyph-2-11\" x=\"158.714844\" y=\"15.429688\"/>\n",
       "<use xlink:href=\"#glyph-2-2\" x=\"162.714844\" y=\"15.429688\"/>\n",
       "<use xlink:href=\"#glyph-2-13\" x=\"165.714844\" y=\"15.429688\"/>\n",
       "<use xlink:href=\"#glyph-2-3\" x=\"168.714844\" y=\"15.429688\"/>\n",
       "<use xlink:href=\"#glyph-2-14\" x=\"175.714844\" y=\"15.429688\"/>\n",
       "<use xlink:href=\"#glyph-2-4\" x=\"179.714844\" y=\"15.429688\"/>\n",
       "</g>\n",
       "</svg>\n"
      ],
      "text/plain": [
       "plot without title"
      ]
     },
     "metadata": {
      "application/pdf": {
       "height": 420,
       "width": 420
      },
      "image/jpeg": {
       "height": 420,
       "width": 420
      },
      "image/png": {
       "height": 420,
       "width": 420
      },
      "image/svg+xml": {
       "height": 420,
       "isolated": true,
       "width": 420
      }
     },
     "output_type": "display_data"
    }
   ],
   "source": [
    "# TODO: Create a boxplot for Sales_Amount\n",
    "# Use ggplot2 to create a boxplot showing outliers\n",
    "boxplot_sales <- ggplot(sales_imputed, aes(y = Sales_Amount)) +\n",
    "  geom_boxplot() +\n",
    "  ggtitle(\"Sales Amount Outliers\")\n",
    "\n",
    "# Display the plot\n",
    "print(boxplot_sales)"
   ]
  },
  {
   "cell_type": "markdown",
   "id": "00ed2ac7",
   "metadata": {},
   "source": [
    "### 3.3 Outlier Treatment - Option A (Removal)\n",
    "\n",
    "Remove rows containing outliers and assess the impact."
   ]
  },
  {
   "cell_type": "code",
   "execution_count": 39,
   "id": "0ba04465",
   "metadata": {
    "vscode": {
     "languageId": "r"
    }
   },
   "outputs": [
    {
     "name": "stdout",
     "output_type": "stream",
     "text": [
      "[1] \"Original rows: 200\"\n",
      "[1] \"After removing outliers: 172\"\n",
      "[1] \"Rows removed: 28\"\n"
     ]
    }
   ],
   "source": [
    "### TODO: Remove outliers from the imputed dataset\n",
    "sales_outliers_removed <- sales_imputed %>%\n",
    "  filter(Sales_Amount >= lower_threshold & Sales_Amount <= upper_threshold)\n",
    "# Hint: Use filter() to keep only rows within the threshold bounds\n",
    "\n",
    "print(paste(\"Original rows:\", nrow(sales_imputed)))\n",
    "print(paste(\"After removing outliers:\", nrow(sales_outliers_removed)))\n",
    "print(paste(\"Rows removed:\", nrow(sales_imputed) - nrow(sales_outliers_removed)))"
   ]
  },
  {
   "cell_type": "code",
   "execution_count": 42,
   "id": "13f7e0cc",
   "metadata": {
    "vscode": {
     "languageId": "r"
    }
   },
   "outputs": [],
   "source": [
    "### TODO: Create a capped version of the dataset\n",
    "sales_outliers_capped <- sales_imputed\n",
    "sales_outliers_capped$Sales_Amount <- ifelse(\n",
    "  sales_outliers_capped$Sales_Amount < lower_threshold, lower_threshold,\n",
    "  ifelse(sales_outliers_capped$Sales_Amount > upper_threshold, upper_threshold,\n",
    "         sales_outliers_capped$Sales_Amount)\n",
    ")"
   ]
  },
  {
   "cell_type": "code",
   "execution_count": 43,
   "id": "73cc8e4e",
   "metadata": {
    "vscode": {
     "languageId": "r"
    }
   },
   "outputs": [],
   "source": [
    "### TODO: Apply capping to Sales_Amount\n",
    "sales_outliers_capped$Sales_Amount <- ifelse(\n",
    "  sales_outliers_capped$Sales_Amount < lower_threshold, lower_threshold,\n",
    "  ifelse(sales_outliers_capped$Sales_Amount > upper_threshold, upper_threshold,\n",
    "         sales_outliers_capped$Sales_Amount)\n",
    ")\n",
    "### Hint: Use ifelse() to replace values above/below thresholds"
   ]
  },
  {
   "cell_type": "code",
   "execution_count": 44,
   "id": "b1fd1b2e",
   "metadata": {
    "vscode": {
     "languageId": "r"
    }
   },
   "outputs": [
    {
     "name": "stdout",
     "output_type": "stream",
     "text": [
      "[1] \"Sales_Amount range after capping:\"\n",
      "[1] -100.000 1192.331\n"
     ]
    }
   ],
   "source": [
    "### Verify capping worked\n",
    "print(\"Sales_Amount range after capping:\")\n",
    "print(range(sales_outliers_capped$Sales_Amount, na.rm = TRUE))"
   ]
  },
  {
   "cell_type": "code",
   "execution_count": 45,
   "id": "a935fdea",
   "metadata": {
    "vscode": {
     "languageId": "r"
    }
   },
   "outputs": [
    {
     "name": "stdout",
     "output_type": "stream",
     "text": [
      "[1] \"Remaining outliers after capping: 0\"\n"
     ]
    }
   ],
   "source": [
    "### Check for remaining outliers\n",
    "remaining_outliers <- sales_outliers_capped %>%\n",
    "  filter(Sales_Amount < lower_threshold | Sales_Amount > upper_threshold)\n",
    "print(paste(\"Remaining outliers after capping:\", nrow(remaining_outliers)))"
   ]
  },
  {
   "cell_type": "markdown",
   "id": "b8911b91",
   "metadata": {},
   "source": [
    "---\n",
    "\n",
    "## Part 4: Final Data Quality Assessment and Decision Making\n",
    "\n",
    "Choose your final cleaned dataset and justify your decision based on the analysis you've completed."
   ]
  },
  {
   "cell_type": "code",
   "execution_count": 46,
   "id": "668ceb90",
   "metadata": {
    "vscode": {
     "languageId": "r"
    }
   },
   "outputs": [
    {
     "name": "stdout",
     "output_type": "stream",
     "text": [
      "[1] \"=== FINAL DATASET SUMMARY ===\"\n",
      "[1] 200   6\n"
     ]
    },
    {
     "data": {
      "text/plain": [
       "   Min. 1st Qu.  Median    Mean 3rd Qu.    Max.    NA's \n",
       " -100.0   362.6   531.3   531.5   694.5  1192.3      22 "
      ]
     },
     "metadata": {},
     "output_type": "display_data"
    }
   ],
   "source": [
    "# TODO: Choose your final cleaned dataset\n",
    "final_dataset <- sales_outliers_capped\n",
    "\n",
    "print(\"=== FINAL DATASET SUMMARY ===\")\n",
    "print(dim(final_dataset))\n",
    "summary(final_dataset$Sales_Amount)"
   ]
  },
  {
   "cell_type": "markdown",
   "id": "7f2a573a",
   "metadata": {},
   "source": [
    "**Justification for Your Choice:**\n",
    "\n",
    "[Explain why you chose this particular cleaned dataset. Consider factors like:\n",
    "- Sample size preservation\n",
    "- Data quality improvements\n",
    "- Business impact\n",
    "- Analysis requirements]\n",
    "\n",
    "**YOUR JUSTIFICATION:**\n",
    "I chose sales_outliers_capped because it preserves the full sample size, ensuring no data is lost. Capping outliers reduces the influence of extreme outliers while preserving all data points. This method maintains the integrity of the dataset.\n"
   ]
  },
  {
   "cell_type": "markdown",
   "id": "d5025810",
   "metadata": {},
   "source": [
    "### 4.2 Create Comparison Summary\n",
    "\n",
    "Create a comprehensive comparison of your original and final datasets."
   ]
  },
  {
   "cell_type": "code",
   "execution_count": 48,
   "id": "b22c2b0f",
   "metadata": {
    "vscode": {
     "languageId": "r"
    }
   },
   "outputs": [
    {
     "name": "stdout",
     "output_type": "stream",
     "text": [
      "[1] \"=== DATA CLEANING COMPARISON ===\"\n",
      "               Metric Original_Data Final_Data\n",
      "1      Number of Rows        200.00     200.00\n",
      "2      Missing Values         52.00      36.00\n",
      "3   Mean Sales_Amount       1614.91     531.50\n",
      "4 Median Sales_Amount        531.29     531.29\n",
      "5            Outliers          6.00       0.00\n"
     ]
    }
   ],
   "source": [
    "# Create comparison summary\n",
    "original_outliers <- messy_sales %>%\n",
    "  filter(Sales_Amount < lower_threshold | Sales_Amount > upper_threshold)\n",
    "final_outliers <- final_dataset %>%\n",
    "  filter(Sales_Amount < lower_threshold | Sales_Amount > upper_threshold)\n",
    "\n",
    "comparison_summary <- data.frame(\n",
    "  Metric = c(\"Number of Rows\", \"Missing Values\", \"Mean Sales_Amount\", \"Median Sales_Amount\", \"Outliers\"),\n",
    "  Original_Data = c(\n",
    "    nrow(messy_sales),\n",
    "    sum(is.na(messy_sales)),\n",
    "    round(mean(messy_sales$Sales_Amount, na.rm = TRUE), 2),\n",
    "    round(median(messy_sales$Sales_Amount, na.rm = TRUE), 2),\n",
    "    nrow(original_outliers)\n",
    "  ),\n",
    "  Final_Data = c(\n",
    "    nrow(final_dataset),\n",
    "    sum(is.na(final_dataset)),\n",
    "    round(mean(final_dataset$Sales_Amount, na.rm = TRUE), 2),\n",
    "    round(median(final_dataset$Sales_Amount, na.rm = TRUE), 2),\n",
    "    nrow(final_outliers)\n",
    "  )\n",
    ")\n",
    "\n",
    "print(\"=== DATA CLEANING COMPARISON ===\")\n",
    "print(comparison_summary)"
   ]
  },
  {
   "cell_type": "markdown",
   "id": "27aa62cf",
   "metadata": {},
   "source": [
    "---\n",
    "\n",
    "## Part 5: Reflection Questions\n",
    "\n",
    "Answer the following questions to demonstrate your understanding of data cleaning concepts and their business implications."
   ]
  },
  {
   "cell_type": "markdown",
   "id": "0ff8e4bb",
   "metadata": {},
   "source": [
    "### Question 1: Missing Value Strategy\n",
    "\n",
    "In what business scenarios would you prefer removing rows with missing values versus imputing them? Provide specific examples.\n",
    "\n",
    "**YOUR ANSWER:**\n",
    "\n",
    "[Removing rows is preferred when accuracy is very critical and missing values are rare. For example, in clinical trials, missing patient data may be removed from the data to avoid compromising the accuracy of results.\n",
    "\n",
    "Imputation is preferred when missing values are common and removing them would significantly reduce the dataset size. For example, in customer surveys, filling in missing responses allows us to preserve the data size for a more comprehensive analysis.\n",
    "\n",
    "### Question 2: Outlier Interpretation  \n",
    "\n",
    "You identified outliers in the Sales_Amount column. In a real business context, what could these outliers represent? Should they always be removed or treated? Explain your reasoning.\n",
    "\n",
    "**YOUR ANSWER:**\n",
    "\n",
    "[Outliers in Sales_Amount could represent unusual sales activities, such as bulk purchases by a client or seasonal spikes during holidays. They may also indicate mistakes in data entry or even fraud. As I discussed earlier, it depends on the context whether outliers should be removed or imputed.]\n",
    "\n",
    "### Question 3: Data Quality Impact\n",
    "\n",
    "How might the presence of missing values and outliers affect common business analytics tasks such as calculating average sales, identifying top-performing products, or forecasting future sales?\n",
    "\n",
    "**YOUR ANSWER:**\n",
    "\n",
    "[Missing values or outliers can skew average sales calculations, affecting the accuracy of sales forecasting. Outliers can also make top-performing products difficult to identify because they can distort averages and exaggerate performance trends, hiding the true patterns in the data.]\n",
    "\n",
    "### Question 4: Ethical Considerations\n",
    "\n",
    "What are the ethical implications of removing or modifying data during the cleaning process? How can analysts ensure transparency and maintain data integrity?\n",
    "\n",
    "**YOUR ANSWER:**\n",
    "\n",
    "[Removing or modifying data can lead to loss of validity and loss of important information. Analysts should document all cleaning steps and changes made to the data. Using the appropriate data cleaning techniques and practicing transparency in the cleaning process helps maintain integrity.]"
   ]
  },
  {
   "cell_type": "markdown",
   "id": "75413084",
   "metadata": {},
   "source": [
    "---\n",
    "\n",
    "## Submission Checklist\n",
    "\n",
    "Before submitting, make sure you have:\n",
    "\n",
    "- [ ] **Part 1**: Created and inspected the messy dataset\n",
    "- [ ] **Part 2**: Completed missing value identification and treatment\n",
    "- [ ] **Part 3**: Detected and treated outliers using IQR method  \n",
    "- [ ] **Part 4**: Chosen and justified your final cleaned dataset\n",
    "- [ ] **Part 4**: Created comparison summary table\n",
    "- [ ] **Part 5**: Answered all reflection questions thoroughly\n",
    "- [ ] **Code Quality**: All TODO sections completed with working code\n",
    "- [ ] **Documentation**: Added your name and date at the top\n",
    "- [ ] **Testing**: Run all cells to verify output\n",
    "- [ ] **Submission**: Committed and pushed to GitHub\n",
    "\n",
    "**Great work mastering data cleaning techniques! 🧹✨**"
   ]
  },
  {
   "cell_type": "markdown",
   "id": "1a83f963",
   "metadata": {},
   "source": [
    "---\n",
    "\n",
    "## 🚀 Ready to Submit?\n",
    "\n",
    "### Easy Submission Steps (No Command Line Required!):\n",
    "\n",
    "1. **Save this notebook** (Ctrl+S or File → Save)\n",
    "\n",
    "2. **Use VS Code Source Control**:\n",
    "   - Click the **Source Control** icon in the left sidebar (tree branch symbol)\n",
    "   - Click the **\"+\"** button next to your notebook file\n",
    "   - Type a message: `Submit homework 2 - Data Cleaning - [Your Name]`\n",
    "   - Click **\"Commit\"** \n",
    "   - Click **\"Sync Changes\"** or **\"Push\"**\n",
    "\n",
    "3. **Verify on GitHub**: Go to your repository online and confirm your notebook appears with your completed work\n",
    "\n",
    "**📖 Need help?** See [GITHUB_CLASSROOM_SUBMISSION.md](../../GITHUB_CLASSROOM_SUBMISSION.md) for detailed instructions.\n",
    "\n",
    "**🎉 Congratulations on completing your data cleaning assignment!**"
   ]
  }
 ],
 "metadata": {
  "kernelspec": {
   "display_name": "R",
   "language": "R",
   "name": "ir"
  },
  "language_info": {
   "codemirror_mode": "r",
   "file_extension": ".r",
   "mimetype": "text/x-r-source",
   "name": "R",
   "pygments_lexer": "r",
   "version": "4.4.3"
  }
 },
 "nbformat": 4,
 "nbformat_minor": 5
}
