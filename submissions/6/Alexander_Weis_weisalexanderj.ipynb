{
 "cells": [
  {
   "cell_type": "markdown",
   "id": "3d8bca02",
   "metadata": {},
   "source": [
    "# Homework Assignment - Lesson 3: Data Transformation with dplyr - Part 1\n",
    "\n",
    "**Student Name:** [Alexander Weis]\n",
    "\n",
    "**Due Date:** [September 21, 2025]\n",
    "\n",
    "**Objective:** Learn to use dplyr functions (`select()`, `filter()`, `arrange()`) and the pipe operator (`%>%`) for data transformation and analysis.\n",
    "\n",
    "---\n",
    "\n",
    "## Instructions\n",
    "\n",
    "- Complete all tasks in this notebook\n",
    "- Use the pipe operator (`%>%`) wherever possible to chain operations\n",
    "- Ensure your code is well-commented and easy to understand\n",
    "- Run all cells to verify your code works correctly\n",
    "- Answer all reflection questions at the end\n",
    "\n",
    "---"
   ]
  },
  {
   "cell_type": "markdown",
   "id": "2baa2287",
   "metadata": {},
   "source": [
    "## Part 1: Data Import and Setup\n",
    "\n",
    "In this section, you'll import the retail transactions dataset and perform initial exploration.\n",
    "\n",
    "**Dataset:** `retail_transactions.csv` - This dataset contains transaction records from a retail business with information about customers, products, dates, amounts, and quantities."
   ]
  },
  {
   "cell_type": "code",
   "execution_count": 5,
   "id": "764c19b0",
   "metadata": {
    "vscode": {
     "languageId": "r"
    }
   },
   "outputs": [
    {
     "name": "stderr",
     "output_type": "stream",
     "text": [
      "\u001b[1mRows: \u001b[22m\u001b[34m500\u001b[39m \u001b[1mColumns: \u001b[22m\u001b[34m9\u001b[39m\n",
      "\u001b[36m──\u001b[39m \u001b[1mColumn specification\u001b[22m \u001b[36m────────────────────────────────────────────────────────\u001b[39m\n",
      "\u001b[1mDelimiter:\u001b[22m \",\"\n",
      "\u001b[31mchr\u001b[39m  (4): CustomerName, CustomerCity, ProductName, ProductCategory\n",
      "\u001b[32mdbl\u001b[39m  (4): TransactionID, CustomerID, TotalAmount, Quantity\n",
      "\u001b[34mdate\u001b[39m (1): TransactionDate\n",
      "\n",
      "\u001b[36mℹ\u001b[39m Use `spec()` to retrieve the full column specification for this data.\n",
      "\u001b[36mℹ\u001b[39m Specify the column types or set `show_col_types = FALSE` to quiet this message.\n"
     ]
    },
    {
     "name": "stdout",
     "output_type": "stream",
     "text": [
      "Data imported successfully!\n",
      "Dataset dimensions: 500 rows x 9 columns\n"
     ]
    }
   ],
   "source": [
    "# Load required libraries\n",
    "library(tidyverse)\n",
    "\n",
    "# Set working directory if needed\n",
    "setwd(\"/workspaces/assignment-1-Alex-Weis4-2/data\")\n",
    "\n",
    "# Task 1.1: Import the retail_transactions.csv file\n",
    "# Create a data frame named 'transactions'\n",
    "# Note: Import the retail_transactions.csv file\n",
    "\n",
    "# Your code here:\n",
    "transactions <- read_csv(\"retail_transactions.csv\")\n",
    "\n",
    "# Display success message\n",
    "cat(\"Data imported successfully!\\n\")\n",
    "cat(\"Dataset dimensions:\", nrow(transactions), \"rows x\", ncol(transactions), \"columns\\n\")"
   ]
  },
  {
   "cell_type": "code",
   "execution_count": 8,
   "id": "dd72af91",
   "metadata": {
    "vscode": {
     "languageId": "r"
    }
   },
   "outputs": [
    {
     "name": "stdout",
     "output_type": "stream",
     "text": [
      "First 10 rows of the dataset:\n"
     ]
    },
    {
     "data": {
      "text/html": [
       "<table class=\"dataframe\">\n",
       "<caption>A tibble: 10 × 9</caption>\n",
       "<thead>\n",
       "\t<tr><th scope=col>TransactionID</th><th scope=col>CustomerID</th><th scope=col>CustomerName</th><th scope=col>CustomerCity</th><th scope=col>ProductName</th><th scope=col>ProductCategory</th><th scope=col>TotalAmount</th><th scope=col>Quantity</th><th scope=col>TransactionDate</th></tr>\n",
       "\t<tr><th scope=col>&lt;dbl&gt;</th><th scope=col>&lt;dbl&gt;</th><th scope=col>&lt;chr&gt;</th><th scope=col>&lt;chr&gt;</th><th scope=col>&lt;chr&gt;</th><th scope=col>&lt;chr&gt;</th><th scope=col>&lt;dbl&gt;</th><th scope=col>&lt;dbl&gt;</th><th scope=col>&lt;date&gt;</th></tr>\n",
       "</thead>\n",
       "<tbody>\n",
       "\t<tr><td> 1</td><td>81</td><td>Customer 39</td><td>Chicago     </td><td>Adidas Jacket  </td><td>Clothing   </td><td> 632.39</td><td>3</td><td>2024-03-09</td></tr>\n",
       "\t<tr><td> 2</td><td>13</td><td>Customer 63</td><td>Philadelphia</td><td>Samsung TV     </td><td>Music      </td><td> 114.28</td><td>3</td><td>2024-12-08</td></tr>\n",
       "\t<tr><td> 3</td><td>18</td><td>Customer 98</td><td>Chicago     </td><td>Adidas Jacket  </td><td>Computers  </td><td>1289.24</td><td>7</td><td>2024-01-22</td></tr>\n",
       "\t<tr><td> 4</td><td>76</td><td>Customer 39</td><td>Houston     </td><td>Dell Laptop    </td><td>Computers  </td><td> 885.40</td><td>2</td><td>2024-07-02</td></tr>\n",
       "\t<tr><td> 5</td><td>86</td><td>Customer 45</td><td>New York    </td><td>Nike Shoes     </td><td>Computers  </td><td>  95.95</td><td>5</td><td>2024-08-13</td></tr>\n",
       "\t<tr><td> 6</td><td>37</td><td>Customer 8 </td><td>Philadelphia</td><td>Adidas Jacket  </td><td>Electronics</td><td>1126.34</td><td>2</td><td>2024-04-15</td></tr>\n",
       "\t<tr><td> 7</td><td>45</td><td>Customer 83</td><td>New York    </td><td>HP Printer     </td><td>Clothing   </td><td>  78.71</td><td>3</td><td>2024-05-02</td></tr>\n",
       "\t<tr><td> 8</td><td>11</td><td>Customer 60</td><td>Chicago     </td><td>Samsung TV     </td><td>Music      </td><td> 871.93</td><td>3</td><td>2024-04-30</td></tr>\n",
       "\t<tr><td> 9</td><td>13</td><td>Customer 69</td><td>Houston     </td><td>iPhone 14      </td><td>Music      </td><td>1347.56</td><td>8</td><td>2024-08-08</td></tr>\n",
       "\t<tr><td>10</td><td>55</td><td>Customer 24</td><td>Chicago     </td><td>Sony Headphones</td><td>Books      </td><td> 633.51</td><td>1</td><td>2024-06-23</td></tr>\n",
       "</tbody>\n",
       "</table>\n"
      ],
      "text/latex": [
       "A tibble: 10 × 9\n",
       "\\begin{tabular}{lllllllll}\n",
       " TransactionID & CustomerID & CustomerName & CustomerCity & ProductName & ProductCategory & TotalAmount & Quantity & TransactionDate\\\\\n",
       " <dbl> & <dbl> & <chr> & <chr> & <chr> & <chr> & <dbl> & <dbl> & <date>\\\\\n",
       "\\hline\n",
       "\t  1 & 81 & Customer 39 & Chicago      & Adidas Jacket   & Clothing    &  632.39 & 3 & 2024-03-09\\\\\n",
       "\t  2 & 13 & Customer 63 & Philadelphia & Samsung TV      & Music       &  114.28 & 3 & 2024-12-08\\\\\n",
       "\t  3 & 18 & Customer 98 & Chicago      & Adidas Jacket   & Computers   & 1289.24 & 7 & 2024-01-22\\\\\n",
       "\t  4 & 76 & Customer 39 & Houston      & Dell Laptop     & Computers   &  885.40 & 2 & 2024-07-02\\\\\n",
       "\t  5 & 86 & Customer 45 & New York     & Nike Shoes      & Computers   &   95.95 & 5 & 2024-08-13\\\\\n",
       "\t  6 & 37 & Customer 8  & Philadelphia & Adidas Jacket   & Electronics & 1126.34 & 2 & 2024-04-15\\\\\n",
       "\t  7 & 45 & Customer 83 & New York     & HP Printer      & Clothing    &   78.71 & 3 & 2024-05-02\\\\\n",
       "\t  8 & 11 & Customer 60 & Chicago      & Samsung TV      & Music       &  871.93 & 3 & 2024-04-30\\\\\n",
       "\t  9 & 13 & Customer 69 & Houston      & iPhone 14       & Music       & 1347.56 & 8 & 2024-08-08\\\\\n",
       "\t 10 & 55 & Customer 24 & Chicago      & Sony Headphones & Books       &  633.51 & 1 & 2024-06-23\\\\\n",
       "\\end{tabular}\n"
      ],
      "text/markdown": [
       "\n",
       "A tibble: 10 × 9\n",
       "\n",
       "| TransactionID &lt;dbl&gt; | CustomerID &lt;dbl&gt; | CustomerName &lt;chr&gt; | CustomerCity &lt;chr&gt; | ProductName &lt;chr&gt; | ProductCategory &lt;chr&gt; | TotalAmount &lt;dbl&gt; | Quantity &lt;dbl&gt; | TransactionDate &lt;date&gt; |\n",
       "|---|---|---|---|---|---|---|---|---|\n",
       "|  1 | 81 | Customer 39 | Chicago      | Adidas Jacket   | Clothing    |  632.39 | 3 | 2024-03-09 |\n",
       "|  2 | 13 | Customer 63 | Philadelphia | Samsung TV      | Music       |  114.28 | 3 | 2024-12-08 |\n",
       "|  3 | 18 | Customer 98 | Chicago      | Adidas Jacket   | Computers   | 1289.24 | 7 | 2024-01-22 |\n",
       "|  4 | 76 | Customer 39 | Houston      | Dell Laptop     | Computers   |  885.40 | 2 | 2024-07-02 |\n",
       "|  5 | 86 | Customer 45 | New York     | Nike Shoes      | Computers   |   95.95 | 5 | 2024-08-13 |\n",
       "|  6 | 37 | Customer 8  | Philadelphia | Adidas Jacket   | Electronics | 1126.34 | 2 | 2024-04-15 |\n",
       "|  7 | 45 | Customer 83 | New York     | HP Printer      | Clothing    |   78.71 | 3 | 2024-05-02 |\n",
       "|  8 | 11 | Customer 60 | Chicago      | Samsung TV      | Music       |  871.93 | 3 | 2024-04-30 |\n",
       "|  9 | 13 | Customer 69 | Houston      | iPhone 14       | Music       | 1347.56 | 8 | 2024-08-08 |\n",
       "| 10 | 55 | Customer 24 | Chicago      | Sony Headphones | Books       |  633.51 | 1 | 2024-06-23 |\n",
       "\n"
      ],
      "text/plain": [
       "   TransactionID CustomerID CustomerName CustomerCity ProductName    \n",
       "1   1            81         Customer 39  Chicago      Adidas Jacket  \n",
       "2   2            13         Customer 63  Philadelphia Samsung TV     \n",
       "3   3            18         Customer 98  Chicago      Adidas Jacket  \n",
       "4   4            76         Customer 39  Houston      Dell Laptop    \n",
       "5   5            86         Customer 45  New York     Nike Shoes     \n",
       "6   6            37         Customer 8   Philadelphia Adidas Jacket  \n",
       "7   7            45         Customer 83  New York     HP Printer     \n",
       "8   8            11         Customer 60  Chicago      Samsung TV     \n",
       "9   9            13         Customer 69  Houston      iPhone 14      \n",
       "10 10            55         Customer 24  Chicago      Sony Headphones\n",
       "   ProductCategory TotalAmount Quantity TransactionDate\n",
       "1  Clothing         632.39     3        2024-03-09     \n",
       "2  Music            114.28     3        2024-12-08     \n",
       "3  Computers       1289.24     7        2024-01-22     \n",
       "4  Computers        885.40     2        2024-07-02     \n",
       "5  Computers         95.95     5        2024-08-13     \n",
       "6  Electronics     1126.34     2        2024-04-15     \n",
       "7  Clothing          78.71     3        2024-05-02     \n",
       "8  Music            871.93     3        2024-04-30     \n",
       "9  Music           1347.56     8        2024-08-08     \n",
       "10 Books            633.51     1        2024-06-23     "
      ]
     },
     "metadata": {},
     "output_type": "display_data"
    },
    {
     "name": "stdout",
     "output_type": "stream",
     "text": [
      "\n",
      "Dataset structure:\n",
      "spc_tbl_ [500 × 9] (S3: spec_tbl_df/tbl_df/tbl/data.frame)\n",
      " $ TransactionID  : num [1:500] 1 2 3 4 5 6 7 8 9 10 ...\n",
      " $ CustomerID     : num [1:500] 81 13 18 76 86 37 45 11 13 55 ...\n",
      " $ CustomerName   : chr [1:500] \"Customer 39\" \"Customer 63\" \"Customer 98\" \"Customer 39\" ...\n",
      " $ CustomerCity   : chr [1:500] \"Chicago\" \"Philadelphia\" \"Chicago\" \"Houston\" ...\n",
      " $ ProductName    : chr [1:500] \"Adidas Jacket\" \"Samsung TV\" \"Adidas Jacket\" \"Dell Laptop\" ...\n",
      " $ ProductCategory: chr [1:500] \"Clothing\" \"Music\" \"Computers\" \"Computers\" ...\n",
      " $ TotalAmount    : num [1:500] 632 114 1289 885 96 ...\n",
      " $ Quantity       : num [1:500] 3 3 7 2 5 2 3 3 8 1 ...\n",
      " $ TransactionDate: Date[1:500], format: \"2024-03-09\" \"2024-12-08\" ...\n",
      " - attr(*, \"spec\")=\n",
      "  .. cols(\n",
      "  ..   TransactionID = \u001b[32mcol_double()\u001b[39m,\n",
      "  ..   CustomerID = \u001b[32mcol_double()\u001b[39m,\n",
      "  ..   CustomerName = \u001b[31mcol_character()\u001b[39m,\n",
      "  ..   CustomerCity = \u001b[31mcol_character()\u001b[39m,\n",
      "  ..   ProductName = \u001b[31mcol_character()\u001b[39m,\n",
      "  ..   ProductCategory = \u001b[31mcol_character()\u001b[39m,\n",
      "  ..   TotalAmount = \u001b[32mcol_double()\u001b[39m,\n",
      "  ..   Quantity = \u001b[32mcol_double()\u001b[39m,\n",
      "  ..   TransactionDate = \u001b[34mcol_date(format = \"\")\u001b[39m\n",
      "  .. )\n",
      " - attr(*, \"problems\")=<externalptr> \n",
      "\n",
      "Column names:\n"
     ]
    },
    {
     "data": {
      "text/plain": [
       " TransactionID     CustomerID     CustomerName       CustomerCity      \n",
       " Min.   :  1.0   Min.   :  1.00   Length:500         Length:500        \n",
       " 1st Qu.:125.8   1st Qu.: 27.00   Class :character   Class :character  \n",
       " Median :250.5   Median : 52.00   Mode  :character   Mode  :character  \n",
       " Mean   :250.5   Mean   : 51.26                                        \n",
       " 3rd Qu.:375.2   3rd Qu.: 77.00                                        \n",
       " Max.   :500.0   Max.   :100.00                                        \n",
       " ProductName        ProductCategory     TotalAmount         Quantity   \n",
       " Length:500         Length:500         Min.   :  27.66   Min.   :1.00  \n",
       " Class :character   Class :character   1st Qu.: 393.81   1st Qu.:2.00  \n",
       " Mode  :character   Mode  :character   Median : 763.64   Median :4.00  \n",
       "                                       Mean   : 758.69   Mean   :4.44  \n",
       "                                       3rd Qu.:1137.10   3rd Qu.:7.00  \n",
       "                                       Max.   :1499.52   Max.   :8.00  \n",
       " TransactionDate     \n",
       " Min.   :2024-01-01  \n",
       " 1st Qu.:2024-03-31  \n",
       " Median :2024-07-05  \n",
       " Mean   :2024-07-04  \n",
       " 3rd Qu.:2024-10-08  \n",
       " Max.   :2024-12-31  "
      ]
     },
     "metadata": {},
     "output_type": "display_data"
    }
   ],
   "source": [
    "# Task 1.2: Initial Exploration\n",
    "\n",
    "# Display the first 10 rows\n",
    "cat(\"First 10 rows of the dataset:\\n\")\n",
    "# Your code here:\n",
    "head(transactions, 10)\n",
    "\n",
    "# Check the structure of the dataset\n",
    "cat(\"\\nDataset structure:\\n\")\n",
    "# Your code here:\n",
    "str(transactions)\n",
    "\n",
    "# Display column names and their data types\n",
    "cat(\"\\nColumn names:\\n\")\n",
    "# Your code here:\n",
    "summary(transactions)"
   ]
  },
  {
   "cell_type": "markdown",
   "id": "31f0a977",
   "metadata": {},
   "source": [
    "## Part 2: Column Selection with `select()`\n",
    "\n",
    "Practice different methods of selecting columns from your dataset."
   ]
  },
  {
   "cell_type": "code",
   "execution_count": 11,
   "id": "5d4fa53b",
   "metadata": {
    "vscode": {
     "languageId": "r"
    }
   },
   "outputs": [
    {
     "name": "stdout",
     "output_type": "stream",
     "text": [
      "Basic info dataset (first 5 rows):\n"
     ]
    },
    {
     "data": {
      "text/html": [
       "<table class=\"dataframe\">\n",
       "<caption>A tibble: 5 × 4</caption>\n",
       "<thead>\n",
       "\t<tr><th scope=col>TransactionID</th><th scope=col>CustomerID</th><th scope=col>ProductName</th><th scope=col>TotalAmount</th></tr>\n",
       "\t<tr><th scope=col>&lt;dbl&gt;</th><th scope=col>&lt;dbl&gt;</th><th scope=col>&lt;chr&gt;</th><th scope=col>&lt;dbl&gt;</th></tr>\n",
       "</thead>\n",
       "<tbody>\n",
       "\t<tr><td>1</td><td>81</td><td>Adidas Jacket</td><td> 632.39</td></tr>\n",
       "\t<tr><td>2</td><td>13</td><td>Samsung TV   </td><td> 114.28</td></tr>\n",
       "\t<tr><td>3</td><td>18</td><td>Adidas Jacket</td><td>1289.24</td></tr>\n",
       "\t<tr><td>4</td><td>76</td><td>Dell Laptop  </td><td> 885.40</td></tr>\n",
       "\t<tr><td>5</td><td>86</td><td>Nike Shoes   </td><td>  95.95</td></tr>\n",
       "</tbody>\n",
       "</table>\n"
      ],
      "text/latex": [
       "A tibble: 5 × 4\n",
       "\\begin{tabular}{llll}\n",
       " TransactionID & CustomerID & ProductName & TotalAmount\\\\\n",
       " <dbl> & <dbl> & <chr> & <dbl>\\\\\n",
       "\\hline\n",
       "\t 1 & 81 & Adidas Jacket &  632.39\\\\\n",
       "\t 2 & 13 & Samsung TV    &  114.28\\\\\n",
       "\t 3 & 18 & Adidas Jacket & 1289.24\\\\\n",
       "\t 4 & 76 & Dell Laptop   &  885.40\\\\\n",
       "\t 5 & 86 & Nike Shoes    &   95.95\\\\\n",
       "\\end{tabular}\n"
      ],
      "text/markdown": [
       "\n",
       "A tibble: 5 × 4\n",
       "\n",
       "| TransactionID &lt;dbl&gt; | CustomerID &lt;dbl&gt; | ProductName &lt;chr&gt; | TotalAmount &lt;dbl&gt; |\n",
       "|---|---|---|---|\n",
       "| 1 | 81 | Adidas Jacket |  632.39 |\n",
       "| 2 | 13 | Samsung TV    |  114.28 |\n",
       "| 3 | 18 | Adidas Jacket | 1289.24 |\n",
       "| 4 | 76 | Dell Laptop   |  885.40 |\n",
       "| 5 | 86 | Nike Shoes    |   95.95 |\n",
       "\n"
      ],
      "text/plain": [
       "  TransactionID CustomerID ProductName   TotalAmount\n",
       "1 1             81         Adidas Jacket  632.39    \n",
       "2 2             13         Samsung TV     114.28    \n",
       "3 3             18         Adidas Jacket 1289.24    \n",
       "4 4             76         Dell Laptop    885.40    \n",
       "5 5             86         Nike Shoes      95.95    "
      ]
     },
     "metadata": {},
     "output_type": "display_data"
    }
   ],
   "source": [
    "# Task 2.1: Basic Selection\n",
    "# Create 'basic_info' with TransactionID, CustomerID, ProductName, and TotalAmount\n",
    "\n",
    "basic_info <- transactions %>%\n",
    "select(TransactionID, CustomerID, ProductName, TotalAmount)\n",
    "\n",
    "# Display the result\n",
    "cat(\"Basic info dataset (first 5 rows):\\n\")\n",
    "head(basic_info, 5)"
   ]
  },
  {
   "cell_type": "code",
   "execution_count": 12,
   "id": "2a0479a9",
   "metadata": {
    "vscode": {
     "languageId": "r"
    }
   },
   "outputs": [
    {
     "name": "stdout",
     "output_type": "stream",
     "text": [
      "Customer details (first 5 rows):\n"
     ]
    },
    {
     "data": {
      "text/html": [
       "<table class=\"dataframe\">\n",
       "<caption>A tibble: 5 × 3</caption>\n",
       "<thead>\n",
       "\t<tr><th scope=col>CustomerID</th><th scope=col>CustomerName</th><th scope=col>CustomerCity</th></tr>\n",
       "\t<tr><th scope=col>&lt;dbl&gt;</th><th scope=col>&lt;chr&gt;</th><th scope=col>&lt;chr&gt;</th></tr>\n",
       "</thead>\n",
       "<tbody>\n",
       "\t<tr><td>81</td><td>Customer 39</td><td>Chicago     </td></tr>\n",
       "\t<tr><td>13</td><td>Customer 63</td><td>Philadelphia</td></tr>\n",
       "\t<tr><td>18</td><td>Customer 98</td><td>Chicago     </td></tr>\n",
       "\t<tr><td>76</td><td>Customer 39</td><td>Houston     </td></tr>\n",
       "\t<tr><td>86</td><td>Customer 45</td><td>New York    </td></tr>\n",
       "</tbody>\n",
       "</table>\n"
      ],
      "text/latex": [
       "A tibble: 5 × 3\n",
       "\\begin{tabular}{lll}\n",
       " CustomerID & CustomerName & CustomerCity\\\\\n",
       " <dbl> & <chr> & <chr>\\\\\n",
       "\\hline\n",
       "\t 81 & Customer 39 & Chicago     \\\\\n",
       "\t 13 & Customer 63 & Philadelphia\\\\\n",
       "\t 18 & Customer 98 & Chicago     \\\\\n",
       "\t 76 & Customer 39 & Houston     \\\\\n",
       "\t 86 & Customer 45 & New York    \\\\\n",
       "\\end{tabular}\n"
      ],
      "text/markdown": [
       "\n",
       "A tibble: 5 × 3\n",
       "\n",
       "| CustomerID &lt;dbl&gt; | CustomerName &lt;chr&gt; | CustomerCity &lt;chr&gt; |\n",
       "|---|---|---|\n",
       "| 81 | Customer 39 | Chicago      |\n",
       "| 13 | Customer 63 | Philadelphia |\n",
       "| 18 | Customer 98 | Chicago      |\n",
       "| 76 | Customer 39 | Houston      |\n",
       "| 86 | Customer 45 | New York     |\n",
       "\n"
      ],
      "text/plain": [
       "  CustomerID CustomerName CustomerCity\n",
       "1 81         Customer 39  Chicago     \n",
       "2 13         Customer 63  Philadelphia\n",
       "3 18         Customer 98  Chicago     \n",
       "4 76         Customer 39  Houston     \n",
       "5 86         Customer 45  New York    "
      ]
     },
     "metadata": {},
     "output_type": "display_data"
    }
   ],
   "source": [
    "# Task 2.2: Range Selection\n",
    "# Create 'customer_details' with all columns from CustomerID to CustomerCity (inclusive)\n",
    "\n",
    "customer_details <- transactions %>%\n",
    "  # Your code here:\n",
    "select(CustomerID:CustomerCity)\n",
    "\n",
    "# Display the result\n",
    "cat(\"Customer details (first 5 rows):\\n\")\n",
    "head(customer_details, 5)"
   ]
  },
  {
   "cell_type": "code",
   "execution_count": 19,
   "id": "a527a514",
   "metadata": {
    "vscode": {
     "languageId": "r"
    }
   },
   "outputs": [
    {
     "name": "stdout",
     "output_type": "stream",
     "text": [
      "Date/Time columns:  \n",
      "Amount columns: TotalAmount \n"
     ]
    }
   ],
   "source": [
    "# Task 2.3: Pattern-Based Selection\n",
    "\n",
    "# Create 'date_columns' with columns starting with \"Date\" or \"Time\"\n",
    "date_columns <- transactions %>%\n",
    "select(starts_with(\"Date\") | starts_with(\"Time\"))\n",
    "\n",
    "# Create 'amount_columns' with columns containing the word \"Amount\"\n",
    "amount_columns <- transactions %>%\n",
    "select(contains(\"Amount\"))\n",
    "\n",
    "# Display column names for verification\n",
    "cat(\"Date/Time columns:\", names(date_columns), \"\\n\")\n",
    "cat(\"Amount columns:\", names(amount_columns), \"\\n\")"
   ]
  },
  {
   "cell_type": "code",
   "execution_count": null,
   "id": "3d2ea46d",
   "metadata": {
    "vscode": {
     "languageId": "r"
    }
   },
   "outputs": [
    {
     "name": "stdout",
     "output_type": "stream",
     "text": [
      "Columns after removing IDs: TransactionID CustomerID CustomerName CustomerCity ProductName ProductCategory TotalAmount Quantity TransactionDate \n",
      "Number of columns: 9 \n"
     ]
    }
   ],
   "source": [
    "# Task 2.4: Exclusion Selection\n",
    "# Create 'no_ids' without TransactionID and CustomerID columns\n",
    "\n",
    "no_ids <- transactions %>%\n",
    "  # Your code here:\n",
    "filter()\n",
    "\n",
    "# Display column names for verification\n",
    "cat(\"Columns after removing IDs:\", names(no_ids), \"\\n\")\n",
    "cat(\"Number of columns:\", ncol(no_ids), \"\\n\")"
   ]
  },
  {
   "cell_type": "markdown",
   "id": "a7c6a58e",
   "metadata": {},
   "source": [
    "## Part 3: Row Filtering with `filter()`\n",
    "\n",
    "Learn to filter rows based on various conditions."
   ]
  },
  {
   "cell_type": "code",
   "execution_count": null,
   "id": "a7f8a827",
   "metadata": {
    "vscode": {
     "languageId": "r"
    }
   },
   "outputs": [],
   "source": [
    "# Task 3.1: Single Condition Filtering\n",
    "\n",
    "# Filter transactions with TotalAmount > $100\n",
    "high_value_transactions <- transactions %>%\n",
    "  # Your code here:\n",
    "\n",
    "\n",
    "# Filter transactions from \"Electronics\" category\n",
    "electronics_transactions <- transactions %>%\n",
    "  # Your code here:\n",
    "\n",
    "\n",
    "# Display results\n",
    "cat(\"High value transactions (>$100):\", nrow(high_value_transactions), \"rows\\n\")\n",
    "cat(\"Electronics transactions:\", nrow(electronics_transactions), \"rows\\n\")"
   ]
  },
  {
   "cell_type": "code",
   "execution_count": null,
   "id": "db2b0bd5",
   "metadata": {
    "vscode": {
     "languageId": "r"
    }
   },
   "outputs": [],
   "source": [
    "# Task 3.2: Multiple Condition Filtering (AND)\n",
    "# Filter for TotalAmount > $50 AND Quantity > 1 AND CustomerCity == \"New York\"\n",
    "\n",
    "ny_bulk_purchases <- transactions %>%\n",
    "  # Your code here:\n",
    "\n",
    "\n",
    "# Display results\n",
    "cat(\"NY bulk purchases:\", nrow(ny_bulk_purchases), \"rows\\n\")\n",
    "if(nrow(ny_bulk_purchases) > 0) {\n",
    "  head(ny_bulk_purchases)\n",
    "}"
   ]
  },
  {
   "cell_type": "code",
   "execution_count": null,
   "id": "4803780d",
   "metadata": {
    "vscode": {
     "languageId": "r"
    }
   },
   "outputs": [],
   "source": [
    "# Task 3.3: Multiple Condition Filtering (OR)\n",
    "# Filter for ProductCategory = \"Books\" OR \"Music\" OR \"Movies\"\n",
    "\n",
    "entertainment_transactions <- transactions %>%\n",
    "  # Your code here:\n",
    "\n",
    "\n",
    "# Display results\n",
    "cat(\"Entertainment transactions:\", nrow(entertainment_transactions), \"rows\\n\")\n",
    "if(nrow(entertainment_transactions) > 0) {\n",
    "  head(entertainment_transactions)\n",
    "}"
   ]
  },
  {
   "cell_type": "code",
   "execution_count": null,
   "id": "301437cf",
   "metadata": {
    "vscode": {
     "languageId": "r"
    }
   },
   "outputs": [],
   "source": [
    "# Task 3.4: Date-Based Filtering\n",
    "# Filter transactions from March 2024\n",
    "# Note: Adjust the date format and column name based on your actual data\n",
    "\n",
    "march_transactions <- transactions %>%\n",
    "  # Your code here (you may need to convert date format first):\n",
    "\n",
    "\n",
    "# Display results\n",
    "cat(\"March 2024 transactions:\", nrow(march_transactions), \"rows\\n\")"
   ]
  },
  {
   "cell_type": "code",
   "execution_count": null,
   "id": "33b63b1c",
   "metadata": {
    "vscode": {
     "languageId": "r"
    }
   },
   "outputs": [],
   "source": [
    "# Task 3.5: Advanced Filtering Challenge\n",
    "# Find customers who made purchases in both \"Electronics\" AND \"Clothing\" categories\n",
    "# Hint: This requires identifying customers who appear in both categories\n",
    "\n",
    "# Step 1: Find customers who bought Electronics\n",
    "electronics_customers <- transactions %>%\n",
    "  # Your code here:\n",
    "\n",
    "\n",
    "# Step 2: Find customers who bought Clothing\n",
    "clothing_customers <- transactions %>%\n",
    "  # Your code here:\n",
    "\n",
    "\n",
    "# Step 3: Find customers who bought both\n",
    "both_categories_customers <- # Your code here:\n",
    "\n",
    "\n",
    "# Display results\n",
    "cat(\"Customers who bought both Electronics and Clothing:\", length(both_categories_customers), \"customers\\n\")"
   ]
  },
  {
   "cell_type": "markdown",
   "id": "811d4adb",
   "metadata": {},
   "source": [
    "## Part 4: Data Sorting with `arrange()`\n",
    "\n",
    "Practice sorting data by single and multiple columns."
   ]
  },
  {
   "cell_type": "code",
   "execution_count": null,
   "id": "92a25956",
   "metadata": {
    "vscode": {
     "languageId": "r"
    }
   },
   "outputs": [],
   "source": [
    "# Task 4.1: Single Column Sorting\n",
    "\n",
    "# Sort by TotalAmount ascending\n",
    "transactions_by_amount_asc <- transactions %>%\n",
    "  # Your code here:\n",
    "\n",
    "\n",
    "# Sort by TotalAmount descending\n",
    "transactions_by_amount_desc <- transactions %>%\n",
    "  # Your code here:\n",
    "\n",
    "\n",
    "# Display top 5 of each\n",
    "cat(\"Lowest amounts:\\n\")\n",
    "head(transactions_by_amount_asc %>% select(CustomerName, ProductName, TotalAmount), 5)\n",
    "\n",
    "cat(\"\\nHighest amounts:\\n\")\n",
    "head(transactions_by_amount_desc %>% select(CustomerName, ProductName, TotalAmount), 5)"
   ]
  },
  {
   "cell_type": "code",
   "execution_count": null,
   "id": "1c2809ad",
   "metadata": {
    "vscode": {
     "languageId": "r"
    }
   },
   "outputs": [],
   "source": [
    "# Task 4.2: Multiple Column Sorting\n",
    "# Sort by CustomerCity (ascending), then by TotalAmount (descending)\n",
    "\n",
    "transactions_by_city_amount <- transactions %>%\n",
    "  # Your code here:\n",
    "\n",
    "\n",
    "# Display first 10 rows\n",
    "cat(\"Transactions sorted by city, then amount:\\n\")\n",
    "head(transactions_by_city_amount %>% select(CustomerCity, CustomerName, ProductName, TotalAmount), 10)"
   ]
  },
  {
   "cell_type": "code",
   "execution_count": null,
   "id": "7fb4ec10",
   "metadata": {
    "vscode": {
     "languageId": "r"
    }
   },
   "outputs": [],
   "source": [
    "# Task 4.3: Date-Based Sorting\n",
    "# Sort by TransactionDate chronologically (oldest first)\n",
    "\n",
    "transactions_chronological <- transactions %>%\n",
    "  # Your code here:\n",
    "\n",
    "\n",
    "# Display first 5 transactions chronologically\n",
    "cat(\"Earliest transactions:\\n\")\n",
    "head(transactions_chronological %>% select(TransactionDate, CustomerName, ProductName, TotalAmount), 5)"
   ]
  },
  {
   "cell_type": "markdown",
   "id": "718aa3c3",
   "metadata": {},
   "source": [
    "## Part 5: Chaining Operations\n",
    "\n",
    "Combine multiple dplyr operations using the pipe operator."
   ]
  },
  {
   "cell_type": "code",
   "execution_count": null,
   "id": "41086de0",
   "metadata": {
    "vscode": {
     "languageId": "r"
    }
   },
   "outputs": [],
   "source": [
    "# Task 5.1: Simple Chain\n",
    "# Filter TotalAmount > $75, select specific columns, arrange by TotalAmount descending\n",
    "\n",
    "premium_purchases <- transactions %>%\n",
    "  # Your code here:\n",
    "\n",
    "\n",
    "# Display results\n",
    "cat(\"Premium purchases (>$75):\\n\")\n",
    "head(premium_purchases, 10)"
   ]
  },
  {
   "cell_type": "code",
   "execution_count": null,
   "id": "823cda0b",
   "metadata": {
    "vscode": {
     "languageId": "r"
    }
   },
   "outputs": [],
   "source": [
    "# Task 5.2: Complex Chain\n",
    "# Filter for Electronics/Computers, select columns, arrange by date/amount, keep top 20\n",
    "\n",
    "recent_tech_purchases <- transactions %>%\n",
    "  # Your code here:\n",
    "\n",
    "\n",
    "# Display results\n",
    "cat(\"Recent tech purchases (top 20):\\n\")\n",
    "print(recent_tech_purchases)"
   ]
  },
  {
   "cell_type": "code",
   "execution_count": null,
   "id": "73d00b01",
   "metadata": {
    "vscode": {
     "languageId": "r"
    }
   },
   "outputs": [],
   "source": [
    "# Task 5.3: Business Intelligence Chain\n",
    "# Identify high-value repeat customers (TotalAmount > $200)\n",
    "\n",
    "high_value_customers <- transactions %>%\n",
    "  # Your code here:\n",
    "\n",
    "\n",
    "# Display results\n",
    "cat(\"High-value customers:\\n\")\n",
    "head(high_value_customers, 15)"
   ]
  },
  {
   "cell_type": "markdown",
   "id": "50978714",
   "metadata": {},
   "source": [
    "## Part 6: Data Analysis Questions\n",
    "\n",
    "Answer the following questions using the datasets you've created."
   ]
  },
  {
   "cell_type": "code",
   "execution_count": null,
   "id": "be6e8562",
   "metadata": {
    "vscode": {
     "languageId": "r"
    }
   },
   "outputs": [],
   "source": [
    "# Question 6.1: Transaction Volume\n",
    "# Count transactions in each filtered dataset\n",
    "\n",
    "cat(\"Transaction counts by dataset:\\n\")\n",
    "cat(\"High value transactions:\", nrow(high_value_transactions), \"\\n\")\n",
    "cat(\"Electronics transactions:\", nrow(electronics_transactions), \"\\n\")\n",
    "cat(\"NY bulk purchases:\", nrow(ny_bulk_purchases), \"\\n\")\n",
    "cat(\"Entertainment transactions:\", nrow(entertainment_transactions), \"\\n\")\n",
    "cat(\"March transactions:\", nrow(march_transactions), \"\\n\")\n",
    "cat(\"Premium purchases:\", nrow(premium_purchases), \"\\n\")\n",
    "cat(\"Recent tech purchases:\", nrow(recent_tech_purchases), \"\\n\")\n",
    "cat(\"High value customers:\", nrow(high_value_customers), \"\\n\")"
   ]
  },
  {
   "cell_type": "code",
   "execution_count": null,
   "id": "35190921",
   "metadata": {
    "vscode": {
     "languageId": "r"
    }
   },
   "outputs": [],
   "source": [
    "# Question 6.2: Top Customers\n",
    "# Find the customer who appears most frequently in high_value_customers\n",
    "\n",
    "if(nrow(high_value_customers) > 0) {\n",
    "  customer_frequency <- high_value_customers %>%\n",
    "    # Your code here to count customer appearances:\n",
    "  \n",
    "  \n",
    "  cat(\"Most frequent high-value customer:\\n\")\n",
    "  print(customer_frequency)\n",
    "} else {\n",
    "  cat(\"No high-value customers found\\n\")\n",
    "}"
   ]
  },
  {
   "cell_type": "code",
   "execution_count": null,
   "id": "3c932cbb",
   "metadata": {
    "vscode": {
     "languageId": "r"
    }
   },
   "outputs": [],
   "source": [
    "# Question 6.3: Product Analysis\n",
    "# Find top 5 most expensive transactions in entertainment_transactions\n",
    "\n",
    "if(nrow(entertainment_transactions) > 0) {\n",
    "  top_entertainment <- entertainment_transactions %>%\n",
    "    # Your code here:\n",
    "  \n",
    "  \n",
    "  cat(\"Top 5 most expensive entertainment transactions:\\n\")\n",
    "  print(top_entertainment)\n",
    "} else {\n",
    "  cat(\"No entertainment transactions found\\n\")\n",
    "}"
   ]
  },
  {
   "cell_type": "code",
   "execution_count": null,
   "id": "7b46473f",
   "metadata": {
    "vscode": {
     "languageId": "r"
    }
   },
   "outputs": [],
   "source": [
    "# Question 6.4: Geographic Analysis\n",
    "# Find the city with the highest single transaction amount\n",
    "\n",
    "highest_transaction_by_city <- transactions_by_city_amount %>%\n",
    "  # Your code here:\n",
    "\n",
    "\n",
    "cat(\"City with highest single transaction:\\n\")\n",
    "print(highest_transaction_by_city)"
   ]
  },
  {
   "cell_type": "markdown",
   "id": "82d2dc35",
   "metadata": {},
   "source": [
    "## Part 7: Reflection Questions\n",
    "\n",
    "Please answer the following questions in the markdown cells below."
   ]
  },
  {
   "cell_type": "markdown",
   "id": "f2ea2958",
   "metadata": {},
   "source": [
    "### Question 7.1: Pipe Operator Benefits\n",
    "\n",
    "**How does using the pipe operator (`%>%`) improve code readability compared to nested function calls? Provide a specific example from your homework.**\n",
    "\n",
    "Your answer here:\n"
   ]
  },
  {
   "cell_type": "markdown",
   "id": "af3d8c62",
   "metadata": {},
   "source": [
    "### Question 7.2: Filtering Strategy\n",
    "\n",
    "**When filtering data for business analysis, what are the trade-offs between being very specific (many conditions) versus being more general (fewer conditions)? How might this affect your insights?**\n",
    "\n",
    "Your answer here:\n"
   ]
  },
  {
   "cell_type": "markdown",
   "id": "54c0b062",
   "metadata": {},
   "source": [
    "### Question 7.3: Sorting Importance\n",
    "\n",
    "**Why is data sorting important in business analytics? Provide three specific business scenarios where sorting data would be crucial for decision-making.**\n",
    "\n",
    "Your answer here:\n",
    "\n",
    "1. \n",
    "2. \n",
    "3. "
   ]
  },
  {
   "cell_type": "markdown",
   "id": "625c2ea3",
   "metadata": {},
   "source": [
    "### Question 7.4: Real-World Application\n",
    "\n",
    "**Describe a real business scenario where you might need to combine `select()`, `filter()`, and `arrange()` operations. What insights would you be trying to gain?**\n",
    "\n",
    "Your answer here:\n"
   ]
  },
  {
   "cell_type": "markdown",
   "id": "6142c3f6",
   "metadata": {},
   "source": [
    "## Summary and Submission\n",
    "\n",
    "### What You've Learned\n",
    "\n",
    "In this homework, you've practiced:\n",
    "- Using `select()` for column selection with various methods\n",
    "- Using `filter()` for row filtering with single and multiple conditions\n",
    "- Using `arrange()` for sorting data by single and multiple columns\n",
    "- Chaining operations with the pipe operator (`%>%`)\n",
    "- Analyzing business data to generate insights\n",
    "\n",
    "### Submission Checklist\n",
    "\n",
    "Before submitting, ensure you have:\n",
    "- [ ] Completed all code tasks\n",
    "- [ ] Run all cells successfully\n",
    "- [ ] Answered all reflection questions\n",
    "- [ ] Used proper commenting in your code\n",
    "- [ ] Used the pipe operator where appropriate\n",
    "- [ ] Verified your results make sense\n",
    "\n",
    "### Next Steps\n",
    "\n",
    "In the next lesson, you'll learn about:\n",
    "- `mutate()` for creating new columns\n",
    "- `summarize()` for calculating summary statistics\n",
    "- `group_by()` for grouped operations\n",
    "- Advanced data transformation techniques"
   ]
  }
 ],
 "metadata": {
  "kernelspec": {
   "display_name": "R",
   "language": "R",
   "name": "ir"
  },
  "language_info": {
   "codemirror_mode": "r",
   "file_extension": ".r",
   "mimetype": "text/x-r-source",
   "name": "R",
   "pygments_lexer": "r",
   "version": "4.4.3"
  }
 },
 "nbformat": 4,
 "nbformat_minor": 5
}
