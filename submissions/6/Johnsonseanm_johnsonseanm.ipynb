{
 "cells": [
  {
   "cell_type": "markdown",
   "id": "3d8bca02",
   "metadata": {},
   "source": [
    "# Homework Assignment - Lesson 3: Data Transformation with dplyr - Part 1\n",
    "\n",
    "**Student Name:** Sean Johnson\n",
    "\n",
    "**Due Date:** 09/21/2025\n",
    "\n",
    "**Objective:** Learn to use dplyr functions (`select()`, `filter()`, `arrange()`) and the pipe operator (`%>%`) for data transformation and analysis.\n",
    "\n",
    "---\n",
    "\n",
    "## Instructions\n",
    "\n",
    "- Complete all tasks in this notebook\n",
    "- Use the pipe operator (`%>%`) wherever possible to chain operations\n",
    "- Ensure your code is well-commented and easy to understand\n",
    "- Run all cells to verify your code works correctly\n",
    "- Answer all reflection questions at the end\n",
    "\n",
    "---"
   ]
  },
  {
   "cell_type": "markdown",
   "id": "2baa2287",
   "metadata": {},
   "source": [
    "## Part 1: Data Import and Setup\n",
    "\n",
    "In this section, you'll import the retail transactions dataset and perform initial exploration.\n",
    "\n",
    "**Dataset:** `retail_transactions.csv` - This dataset contains transaction records from a retail business with information about customers, products, dates, amounts, and quantities."
   ]
  },
  {
   "cell_type": "code",
   "execution_count": 1,
   "id": "764c19b0",
   "metadata": {
    "vscode": {
     "languageId": "r"
    }
   },
   "outputs": [
    {
     "name": "stderr",
     "output_type": "stream",
     "text": [
      "── \u001b[1mAttaching core tidyverse packages\u001b[22m ──────────────────────── tidyverse 2.0.0 ──\n",
      "\u001b[32m✔\u001b[39m \u001b[34mdplyr    \u001b[39m 1.1.4     \u001b[32m✔\u001b[39m \u001b[34mreadr    \u001b[39m 2.1.5\n",
      "\u001b[32m✔\u001b[39m \u001b[34mforcats  \u001b[39m 1.0.0     \u001b[32m✔\u001b[39m \u001b[34mstringr  \u001b[39m 1.5.1\n",
      "\u001b[32m✔\u001b[39m \u001b[34mggplot2  \u001b[39m 3.5.2     \u001b[32m✔\u001b[39m \u001b[34mtibble   \u001b[39m 3.3.0\n",
      "\u001b[32m✔\u001b[39m \u001b[34mlubridate\u001b[39m 1.9.4     \u001b[32m✔\u001b[39m \u001b[34mtidyr    \u001b[39m 1.3.1\n",
      "\u001b[32m✔\u001b[39m \u001b[34mpurrr    \u001b[39m 1.1.0     \n",
      "── \u001b[1mConflicts\u001b[22m ────────────────────────────────────────── tidyverse_conflicts() ──\n",
      "\u001b[31m✖\u001b[39m \u001b[34mdplyr\u001b[39m::\u001b[32mfilter()\u001b[39m masks \u001b[34mstats\u001b[39m::filter()\n",
      "\u001b[31m✖\u001b[39m \u001b[34mdplyr\u001b[39m::\u001b[32mlag()\u001b[39m    masks \u001b[34mstats\u001b[39m::lag()\n",
      "\u001b[36mℹ\u001b[39m Use the conflicted package (\u001b[3m\u001b[34m<http://conflicted.r-lib.org/>\u001b[39m\u001b[23m) to force all conflicts to become errors\n",
      "\u001b[1mRows: \u001b[22m\u001b[34m500\u001b[39m \u001b[1mColumns: \u001b[22m\u001b[34m9\u001b[39m\n",
      "\u001b[36m──\u001b[39m \u001b[1mColumn specification\u001b[22m \u001b[36m────────────────────────────────────────────────────────\u001b[39m\n",
      "\u001b[1mDelimiter:\u001b[22m \",\"\n",
      "\u001b[31mchr\u001b[39m  (4): CustomerName, CustomerCity, ProductName, ProductCategory\n",
      "\u001b[32mdbl\u001b[39m  (4): TransactionID, CustomerID, TotalAmount, Quantity\n",
      "\u001b[34mdate\u001b[39m (1): TransactionDate\n",
      "\n",
      "\u001b[36mℹ\u001b[39m Use `spec()` to retrieve the full column specification for this data.\n",
      "\u001b[36mℹ\u001b[39m Specify the column types or set `show_col_types = FALSE` to quiet this message.\n"
     ]
    },
    {
     "name": "stdout",
     "output_type": "stream",
     "text": [
      "Data imported successfully!\n",
      "Dataset dimensions: 500 rows x 9 columns\n"
     ]
    }
   ],
   "source": [
    "# Load required libraries\n",
    "library(tidyverse)\n",
    "\n",
    "# Set working directory to your workspace root\n",
    "setwd(\"/workspaces/assignment-1-version-3-seanjohnson04\")\n",
    "\n",
    "# Task 1.1: Import the retail_transactions.csv file\n",
    "# If the file is not in this folder, move it here or update the path accordingly.\n",
    "transactions <- read_csv(\"data/retail_transactions.csv\")\n",
    "\n",
    "# Display success message\n",
    "cat(\"Data imported successfully!\\n\")\n",
    "cat(\"Dataset dimensions:\", nrow(transactions), \"rows x\", ncol(transactions), \"columns\\n\")"
   ]
  },
  {
   "cell_type": "code",
   "execution_count": 2,
   "id": "dd72af91",
   "metadata": {
    "vscode": {
     "languageId": "r"
    }
   },
   "outputs": [
    {
     "name": "stdout",
     "output_type": "stream",
     "text": [
      "First 10 rows of the dataset:\n",
      "\u001b[90m# A tibble: 10 × 9\u001b[39m\n",
      "   TransactionID CustomerID CustomerName CustomerCity ProductName    \n",
      "           \u001b[3m\u001b[90m<dbl>\u001b[39m\u001b[23m      \u001b[3m\u001b[90m<dbl>\u001b[39m\u001b[23m \u001b[3m\u001b[90m<chr>\u001b[39m\u001b[23m        \u001b[3m\u001b[90m<chr>\u001b[39m\u001b[23m        \u001b[3m\u001b[90m<chr>\u001b[39m\u001b[23m          \n",
      "\u001b[90m 1\u001b[39m             1         81 Customer 39  Chicago      Adidas Jacket  \n",
      "\u001b[90m 2\u001b[39m             2         13 Customer 63  Philadelphia Samsung TV     \n",
      "\u001b[90m 3\u001b[39m             3         18 Customer 98  Chicago      Adidas Jacket  \n",
      "\u001b[90m 4\u001b[39m             4         76 Customer 39  Houston      Dell Laptop    \n",
      "\u001b[90m 5\u001b[39m             5         86 Customer 45  New York     Nike Shoes     \n",
      "\u001b[90m 6\u001b[39m             6         37 Customer 8   Philadelphia Adidas Jacket  \n",
      "\u001b[90m 7\u001b[39m             7         45 Customer 83  New York     HP Printer     \n",
      "\u001b[90m 8\u001b[39m             8         11 Customer 60  Chicago      Samsung TV     \n",
      "\u001b[90m 9\u001b[39m             9         13 Customer 69  Houston      iPhone 14      \n",
      "\u001b[90m10\u001b[39m            10         55 Customer 24  Chicago      Sony Headphones\n",
      "\u001b[90m# ℹ 4 more variables: ProductCategory <chr>, TotalAmount <dbl>, Quantity <dbl>,\u001b[39m\n",
      "\u001b[90m#   TransactionDate <date>\u001b[39m\n",
      "\n",
      "Dataset structure:\n",
      "spc_tbl_ [500 × 9] (S3: spec_tbl_df/tbl_df/tbl/data.frame)\n",
      " $ TransactionID  : num [1:500] 1 2 3 4 5 6 7 8 9 10 ...\n",
      " $ CustomerID     : num [1:500] 81 13 18 76 86 37 45 11 13 55 ...\n",
      " $ CustomerName   : chr [1:500] \"Customer 39\" \"Customer 63\" \"Customer 98\" \"Customer 39\" ...\n",
      " $ CustomerCity   : chr [1:500] \"Chicago\" \"Philadelphia\" \"Chicago\" \"Houston\" ...\n",
      " $ ProductName    : chr [1:500] \"Adidas Jacket\" \"Samsung TV\" \"Adidas Jacket\" \"Dell Laptop\" ...\n",
      " $ ProductCategory: chr [1:500] \"Clothing\" \"Music\" \"Computers\" \"Computers\" ...\n",
      " $ TotalAmount    : num [1:500] 632 114 1289 885 96 ...\n",
      " $ Quantity       : num [1:500] 3 3 7 2 5 2 3 3 8 1 ...\n",
      " $ TransactionDate: Date[1:500], format: \"2024-03-09\" \"2024-12-08\" ...\n",
      " - attr(*, \"spec\")=\n",
      "  .. cols(\n",
      "  ..   TransactionID = \u001b[32mcol_double()\u001b[39m,\n",
      "  ..   CustomerID = \u001b[32mcol_double()\u001b[39m,\n",
      "  ..   CustomerName = \u001b[31mcol_character()\u001b[39m,\n",
      "  ..   CustomerCity = \u001b[31mcol_character()\u001b[39m,\n",
      "  ..   ProductName = \u001b[31mcol_character()\u001b[39m,\n",
      "  ..   ProductCategory = \u001b[31mcol_character()\u001b[39m,\n",
      "  ..   TotalAmount = \u001b[32mcol_double()\u001b[39m,\n",
      "  ..   Quantity = \u001b[32mcol_double()\u001b[39m,\n",
      "  ..   TransactionDate = \u001b[34mcol_date(format = \"\")\u001b[39m\n",
      "  .. )\n",
      " - attr(*, \"problems\")=<externalptr> \n",
      "\n",
      "Column names and data types:\n",
      "  TransactionID      CustomerID    CustomerName    CustomerCity     ProductName \n",
      "      \"numeric\"       \"numeric\"     \"character\"     \"character\"     \"character\" \n",
      "ProductCategory     TotalAmount        Quantity TransactionDate \n",
      "    \"character\"       \"numeric\"       \"numeric\"          \"Date\" \n"
     ]
    }
   ],
   "source": [
    "# Task 1.2: Initial Exploration\n",
    "\n",
    "# Display the first 10 rows\n",
    "cat(\"First 10 rows of the dataset:\\n\")\n",
    "print(head(transactions, 10))\n",
    "\n",
    "# Check the structure of the dataset\n",
    "cat(\"\\nDataset structure:\\n\")\n",
    "str(transactions)\n",
    "\n",
    "# Display column names and their data types\n",
    "cat(\"\\nColumn names and data types:\\n\")\n",
    "print(sapply(transactions, class))"
   ]
  },
  {
   "cell_type": "markdown",
   "id": "31f0a977",
   "metadata": {},
   "source": [
    "## Part 2: Column Selection with `select()`\n",
    "\n",
    "Practice different methods of selecting columns from your dataset."
   ]
  },
  {
   "cell_type": "code",
   "execution_count": 12,
   "id": "5d4fa53b",
   "metadata": {
    "vscode": {
     "languageId": "r"
    }
   },
   "outputs": [
    {
     "name": "stdout",
     "output_type": "stream",
     "text": [
      "Basic info dataset (first 5 rows):\n",
      "\u001b[90m# A tibble: 5 × 4\u001b[39m\n",
      "  TransactionID CustomerID ProductName   TotalAmount\n",
      "          \u001b[3m\u001b[90m<dbl>\u001b[39m\u001b[23m      \u001b[3m\u001b[90m<dbl>\u001b[39m\u001b[23m \u001b[3m\u001b[90m<chr>\u001b[39m\u001b[23m               \u001b[3m\u001b[90m<dbl>\u001b[39m\u001b[23m\n",
      "\u001b[90m1\u001b[39m             1         81 Adidas Jacket       632. \n",
      "\u001b[90m2\u001b[39m             2         13 Samsung TV          114. \n",
      "\u001b[90m3\u001b[39m             3         18 Adidas Jacket      \u001b[4m1\u001b[24m289. \n",
      "\u001b[90m4\u001b[39m             4         76 Dell Laptop         885. \n",
      "\u001b[90m5\u001b[39m             5         86 Nike Shoes           96.0\n",
      "\u001b[90m# A tibble: 5 × 4\u001b[39m\n",
      "  TransactionID CustomerID ProductName   TotalAmount\n",
      "          \u001b[3m\u001b[90m<dbl>\u001b[39m\u001b[23m      \u001b[3m\u001b[90m<dbl>\u001b[39m\u001b[23m \u001b[3m\u001b[90m<chr>\u001b[39m\u001b[23m               \u001b[3m\u001b[90m<dbl>\u001b[39m\u001b[23m\n",
      "\u001b[90m1\u001b[39m             1         81 Adidas Jacket       632. \n",
      "\u001b[90m2\u001b[39m             2         13 Samsung TV          114. \n",
      "\u001b[90m3\u001b[39m             3         18 Adidas Jacket      \u001b[4m1\u001b[24m289. \n",
      "\u001b[90m4\u001b[39m             4         76 Dell Laptop         885. \n",
      "\u001b[90m5\u001b[39m             5         86 Nike Shoes           96.0\n"
     ]
    }
   ],
   "source": [
    "# Task 2.1: Basic Selection\n",
    "# Create 'basic_info' with TransactionID, CustomerID, ProductName, and TotalAmount\n",
    "\n",
    "basic_info <- transactions %>%\n",
    "  select(TransactionID, CustomerID, ProductName, TotalAmount)\n",
    "\n",
    "# Display the result\n",
    "cat(\"Basic info dataset (first 5 rows):\\n\")\n",
    "print(head(basic_info, 5))"
   ]
  },
  {
   "cell_type": "code",
   "execution_count": 13,
   "id": "2a0479a9",
   "metadata": {
    "vscode": {
     "languageId": "r"
    }
   },
   "outputs": [
    {
     "name": "stdout",
     "output_type": "stream",
     "text": [
      "Customer details (first 5 rows):\n",
      "\u001b[90m# A tibble: 5 × 3\u001b[39m\n",
      "  CustomerID CustomerName CustomerCity\n",
      "       \u001b[3m\u001b[90m<dbl>\u001b[39m\u001b[23m \u001b[3m\u001b[90m<chr>\u001b[39m\u001b[23m        \u001b[3m\u001b[90m<chr>\u001b[39m\u001b[23m       \n",
      "\u001b[90m1\u001b[39m         81 Customer 39  Chicago     \n",
      "\u001b[90m2\u001b[39m         13 Customer 63  Philadelphia\n",
      "\u001b[90m3\u001b[39m         18 Customer 98  Chicago     \n",
      "\u001b[90m4\u001b[39m         76 Customer 39  Houston     \n",
      "\u001b[90m5\u001b[39m         86 Customer 45  New York    \n",
      "\u001b[90m# A tibble: 5 × 3\u001b[39m\n",
      "  CustomerID CustomerName CustomerCity\n",
      "       \u001b[3m\u001b[90m<dbl>\u001b[39m\u001b[23m \u001b[3m\u001b[90m<chr>\u001b[39m\u001b[23m        \u001b[3m\u001b[90m<chr>\u001b[39m\u001b[23m       \n",
      "\u001b[90m1\u001b[39m         81 Customer 39  Chicago     \n",
      "\u001b[90m2\u001b[39m         13 Customer 63  Philadelphia\n",
      "\u001b[90m3\u001b[39m         18 Customer 98  Chicago     \n",
      "\u001b[90m4\u001b[39m         76 Customer 39  Houston     \n",
      "\u001b[90m5\u001b[39m         86 Customer 45  New York    \n"
     ]
    }
   ],
   "source": [
    "# Task 2.2: Range Selection\n",
    "# Create 'customer_details' with all columns from CustomerID to CustomerCity (inclusive)\n",
    "\n",
    "customer_details <- transactions %>%\n",
    "  select(CustomerID:CustomerCity)\n",
    "\n",
    "# Display the result\n",
    "cat(\"Customer details (first 5 rows):\\n\")\n",
    "print(head(customer_details, 5))"
   ]
  },
  {
   "cell_type": "code",
   "execution_count": 14,
   "id": "a527a514",
   "metadata": {
    "vscode": {
     "languageId": "r"
    }
   },
   "outputs": [
    {
     "name": "stdout",
     "output_type": "stream",
     "text": [
      "Date/Time columns:  \n",
      "Amount columns: TotalAmount \n",
      "Amount columns: TotalAmount \n"
     ]
    }
   ],
   "source": [
    "# Task 2.3: Pattern-Based Selection\n",
    "\n",
    "# Create 'date_columns' with columns starting with \"Date\" or \"Time\"\n",
    "date_columns <- transactions %>%\n",
    "  select(starts_with(\"Date\"), starts_with(\"Time\"))\n",
    "\n",
    "# Create 'amount_columns' with columns containing the word \"Amount\"\n",
    "amount_columns <- transactions %>%\n",
    "  select(contains(\"Amount\"))\n",
    "\n",
    "# Display column names for verification\n",
    "cat(\"Date/Time columns:\", names(date_columns), \"\\n\")\n",
    "cat(\"Amount columns:\", names(amount_columns), \"\\n\")"
   ]
  },
  {
   "cell_type": "code",
   "execution_count": 15,
   "id": "3d2ea46d",
   "metadata": {
    "vscode": {
     "languageId": "r"
    }
   },
   "outputs": [
    {
     "name": "stdout",
     "output_type": "stream",
     "text": [
      "Columns after removing IDs: CustomerName CustomerCity ProductName ProductCategory TotalAmount Quantity TransactionDate \n",
      "Number of columns: 7 \n",
      "Number of columns: 7 \n"
     ]
    }
   ],
   "source": [
    "# Task 2.4: Exclusion Selection\n",
    "# Create 'no_ids' without TransactionID and CustomerID columns\n",
    "\n",
    "no_ids <- transactions %>%\n",
    "  select(-TransactionID, -CustomerID)\n",
    "\n",
    "# Display column names for verification\n",
    "cat(\"Columns after removing IDs:\", names(no_ids), \"\\n\")\n",
    "cat(\"Number of columns:\", ncol(no_ids), \"\\n\")"
   ]
  },
  {
   "cell_type": "markdown",
   "id": "a7c6a58e",
   "metadata": {},
   "source": [
    "## Part 3: Row Filtering with `filter()`\n",
    "\n",
    "Learn to filter rows based on various conditions."
   ]
  },
  {
   "cell_type": "code",
   "execution_count": 16,
   "id": "a7f8a827",
   "metadata": {
    "vscode": {
     "languageId": "r"
    }
   },
   "outputs": [
    {
     "name": "stdout",
     "output_type": "stream",
     "text": [
      "High value transactions (>$100): 470 rows\n",
      "Electronics transactions: 93 rows\n",
      "Electronics transactions: 93 rows\n"
     ]
    }
   ],
   "source": [
    "# Task 3.1: Single Condition Filtering\n",
    "\n",
    "# Filter transactions with TotalAmount > $100\n",
    "high_value_transactions <- transactions %>%\n",
    "  filter(TotalAmount > 100)\n",
    "\n",
    "# Filter transactions from \"Electronics\" category\n",
    "electronics_transactions <- transactions %>%\n",
    "  filter(ProductCategory == \"Electronics\")\n",
    "\n",
    "# Display results\n",
    "cat(\"High value transactions (>$100):\", nrow(high_value_transactions), \"rows\\n\")\n",
    "cat(\"Electronics transactions:\", nrow(electronics_transactions), \"rows\\n\")"
   ]
  },
  {
   "cell_type": "code",
   "execution_count": 17,
   "id": "db2b0bd5",
   "metadata": {
    "vscode": {
     "languageId": "r"
    }
   },
   "outputs": [
    {
     "name": "stdout",
     "output_type": "stream",
     "text": [
      "NY bulk purchases: 75 rows\n",
      "\u001b[90m# A tibble: 6 × 9\u001b[39m\n",
      "  TransactionID CustomerID CustomerName CustomerCity ProductName ProductCategory\n",
      "          \u001b[3m\u001b[90m<dbl>\u001b[39m\u001b[23m      \u001b[3m\u001b[90m<dbl>\u001b[39m\u001b[23m \u001b[3m\u001b[90m<chr>\u001b[39m\u001b[23m        \u001b[3m\u001b[90m<chr>\u001b[39m\u001b[23m        \u001b[3m\u001b[90m<chr>\u001b[39m\u001b[23m       \u001b[3m\u001b[90m<chr>\u001b[39m\u001b[23m          \n",
      "\u001b[90m1\u001b[39m             5         86 Customer 45  New York     Nike Shoes  Computers      \n",
      "\u001b[90m2\u001b[39m             7         45 Customer 83  New York     HP Printer  Clothing       \n",
      "\u001b[90m3\u001b[39m            15          1 Customer 52  New York     Nike Shoes  Clothing       \n",
      "\u001b[90m4\u001b[39m            22         80 Customer 4   New York     iPhone 14   Books          \n",
      "\u001b[90m5\u001b[39m            25         97 Customer 17  New York     iPhone 14   Movies         \n",
      "\u001b[90m6\u001b[39m            29          3 Customer 23  New York     Samsung TV  Clothing       \n",
      "\u001b[90m# ℹ 3 more variables: TotalAmount <dbl>, Quantity <dbl>, TransactionDate <date>\u001b[39m\n",
      "\u001b[90m# A tibble: 6 × 9\u001b[39m\n",
      "  TransactionID CustomerID CustomerName CustomerCity ProductName ProductCategory\n",
      "          \u001b[3m\u001b[90m<dbl>\u001b[39m\u001b[23m      \u001b[3m\u001b[90m<dbl>\u001b[39m\u001b[23m \u001b[3m\u001b[90m<chr>\u001b[39m\u001b[23m        \u001b[3m\u001b[90m<chr>\u001b[39m\u001b[23m        \u001b[3m\u001b[90m<chr>\u001b[39m\u001b[23m       \u001b[3m\u001b[90m<chr>\u001b[39m\u001b[23m          \n",
      "\u001b[90m1\u001b[39m             5         86 Customer 45  New York     Nike Shoes  Computers      \n",
      "\u001b[90m2\u001b[39m             7         45 Customer 83  New York     HP Printer  Clothing       \n",
      "\u001b[90m3\u001b[39m            15          1 Customer 52  New York     Nike Shoes  Clothing       \n",
      "\u001b[90m4\u001b[39m            22         80 Customer 4   New York     iPhone 14   Books          \n",
      "\u001b[90m5\u001b[39m            25         97 Customer 17  New York     iPhone 14   Movies         \n",
      "\u001b[90m6\u001b[39m            29          3 Customer 23  New York     Samsung TV  Clothing       \n",
      "\u001b[90m# ℹ 3 more variables: TotalAmount <dbl>, Quantity <dbl>, TransactionDate <date>\u001b[39m\n"
     ]
    }
   ],
   "source": [
    "# Task 3.2: Multiple Condition Filtering (AND)\n",
    "# Filter for TotalAmount > $50 AND Quantity > 1 AND CustomerCity == \"New York\"\n",
    "\n",
    "ny_bulk_purchases <- transactions %>%\n",
    "  filter(TotalAmount > 50, Quantity > 1, CustomerCity == \"New York\")\n",
    "\n",
    "# Display results\n",
    "cat(\"NY bulk purchases:\", nrow(ny_bulk_purchases), \"rows\\n\")\n",
    "if(nrow(ny_bulk_purchases) > 0) {\n",
    "  print(head(ny_bulk_purchases))\n",
    "}"
   ]
  },
  {
   "cell_type": "code",
   "execution_count": 18,
   "id": "4803780d",
   "metadata": {
    "vscode": {
     "languageId": "r"
    }
   },
   "outputs": [
    {
     "name": "stdout",
     "output_type": "stream",
     "text": [
      "Entertainment transactions: 227 rows\n",
      "\u001b[90m# A tibble: 6 × 9\u001b[39m\n",
      "  TransactionID CustomerID CustomerName CustomerCity ProductName ProductCategory\n",
      "          \u001b[3m\u001b[90m<dbl>\u001b[39m\u001b[23m      \u001b[3m\u001b[90m<dbl>\u001b[39m\u001b[23m \u001b[3m\u001b[90m<chr>\u001b[39m\u001b[23m        \u001b[3m\u001b[90m<chr>\u001b[39m\u001b[23m        \u001b[3m\u001b[90m<chr>\u001b[39m\u001b[23m       \u001b[3m\u001b[90m<chr>\u001b[39m\u001b[23m          \n",
      "\u001b[90m1\u001b[39m             2         13 Customer 63  Philadelphia Samsung TV  Music          \n",
      "\u001b[90m2\u001b[39m             8         11 Customer 60  Chicago      Samsung TV  Music          \n",
      "\u001b[90m3\u001b[39m             9         13 Customer 69  Houston      iPhone 14   Music          \n",
      "\u001b[90m4\u001b[39m            10         55 Customer 24  Chicago      Sony Headp… Books          \n",
      "\u001b[90m5\u001b[39m            11        100 Customer 95  Philadelphia HP Printer  Movies         \n",
      "\u001b[90m6\u001b[39m            14         19 Customer 100 Phoenix      Nike Shoes  Books          \n",
      "\u001b[90m# ℹ 3 more variables: TotalAmount <dbl>, Quantity <dbl>, TransactionDate <date>\u001b[39m\n",
      "\u001b[90m# A tibble: 6 × 9\u001b[39m\n",
      "  TransactionID CustomerID CustomerName CustomerCity ProductName ProductCategory\n",
      "          \u001b[3m\u001b[90m<dbl>\u001b[39m\u001b[23m      \u001b[3m\u001b[90m<dbl>\u001b[39m\u001b[23m \u001b[3m\u001b[90m<chr>\u001b[39m\u001b[23m        \u001b[3m\u001b[90m<chr>\u001b[39m\u001b[23m        \u001b[3m\u001b[90m<chr>\u001b[39m\u001b[23m       \u001b[3m\u001b[90m<chr>\u001b[39m\u001b[23m          \n",
      "\u001b[90m1\u001b[39m             2         13 Customer 63  Philadelphia Samsung TV  Music          \n",
      "\u001b[90m2\u001b[39m             8         11 Customer 60  Chicago      Samsung TV  Music          \n",
      "\u001b[90m3\u001b[39m             9         13 Customer 69  Houston      iPhone 14   Music          \n",
      "\u001b[90m4\u001b[39m            10         55 Customer 24  Chicago      Sony Headp… Books          \n",
      "\u001b[90m5\u001b[39m            11        100 Customer 95  Philadelphia HP Printer  Movies         \n",
      "\u001b[90m6\u001b[39m            14         19 Customer 100 Phoenix      Nike Shoes  Books          \n",
      "\u001b[90m# ℹ 3 more variables: TotalAmount <dbl>, Quantity <dbl>, TransactionDate <date>\u001b[39m\n"
     ]
    }
   ],
   "source": [
    "# Task 3.3: Multiple Condition Filtering (OR)\n",
    "# Filter for ProductCategory = \"Books\" OR \"Music\" OR \"Movies\"\n",
    "\n",
    "entertainment_transactions <- transactions %>%\n",
    "  filter(ProductCategory %in% c(\"Books\", \"Music\", \"Movies\"))\n",
    "\n",
    "# Display results\n",
    "cat(\"Entertainment transactions:\", nrow(entertainment_transactions), \"rows\\n\")\n",
    "if(nrow(entertainment_transactions) > 0) {\n",
    "  print(head(entertainment_transactions))\n",
    "}"
   ]
  },
  {
   "cell_type": "code",
   "execution_count": 19,
   "id": "301437cf",
   "metadata": {
    "vscode": {
     "languageId": "r"
    }
   },
   "outputs": [
    {
     "name": "stdout",
     "output_type": "stream",
     "text": [
      "March 2024 transactions: 41 rows\n"
     ]
    }
   ],
   "source": [
    "# Task 3.4: Date-Based Filtering\n",
    "# Filter transactions from March 2024\n",
    "# Note: Adjust the date format and column name based on your actual data\n",
    "\n",
    "# Assuming the date column is named 'TransactionDate' and is in YYYY-MM-DD format\n",
    "march_transactions <- transactions %>%\n",
    "  filter(format(as.Date(TransactionDate), \"%Y-%m\") == \"2024-03\")\n",
    "\n",
    "# Display results\n",
    "cat(\"March 2024 transactions:\", nrow(march_transactions), \"rows\\n\")"
   ]
  },
  {
   "cell_type": "code",
   "execution_count": 20,
   "id": "33b63b1c",
   "metadata": {
    "vscode": {
     "languageId": "r"
    }
   },
   "outputs": [
    {
     "name": "stdout",
     "output_type": "stream",
     "text": [
      "Customers who bought both Electronics and Clothing: 38 customers\n"
     ]
    }
   ],
   "source": [
    "# Task 3.5: Advanced Filtering Challenge\n",
    "# Find customers who made purchases in both \"Electronics\" AND \"Clothing\" categories\n",
    "# Hint: This requires identifying customers who appear in both categories\n",
    "\n",
    "# Step 1: Find customers who bought Electronics\n",
    "electronics_customers <- transactions %>%\n",
    "  filter(ProductCategory == \"Electronics\") %>%\n",
    "  pull(CustomerID) %>%\n",
    "  unique()\n",
    "\n",
    "# Step 2: Find customers who bought Clothing\n",
    "clothing_customers <- transactions %>%\n",
    "  filter(ProductCategory == \"Clothing\") %>%\n",
    "  pull(CustomerID) %>%\n",
    "  unique()\n",
    "\n",
    "# Step 3: Find customers who bought both\n",
    "both_categories_customers <- intersect(electronics_customers, clothing_customers)\n",
    "\n",
    "# Display results\n",
    "cat(\"Customers who bought both Electronics and Clothing:\", length(both_categories_customers), \"customers\\n\")"
   ]
  },
  {
   "cell_type": "markdown",
   "id": "811d4adb",
   "metadata": {},
   "source": [
    "## Part 4: Data Sorting with `arrange()`\n",
    "\n",
    "Practice sorting data by single and multiple columns."
   ]
  },
  {
   "cell_type": "code",
   "execution_count": 21,
   "id": "92a25956",
   "metadata": {
    "vscode": {
     "languageId": "r"
    }
   },
   "outputs": [
    {
     "name": "stdout",
     "output_type": "stream",
     "text": [
      "Lowest amounts:\n",
      "\u001b[90m# A tibble: 5 × 3\u001b[39m\n",
      "  CustomerName ProductName   TotalAmount\n",
      "  \u001b[3m\u001b[90m<chr>\u001b[39m\u001b[23m        \u001b[3m\u001b[90m<chr>\u001b[39m\u001b[23m               \u001b[3m\u001b[90m<dbl>\u001b[39m\u001b[23m\n",
      "\u001b[90m1\u001b[39m Customer 95  Adidas Jacket        27.7\n",
      "\u001b[90m2\u001b[39m Customer 100 Nike Shoes           32.3\n",
      "\u001b[90m3\u001b[39m Customer 50  Adidas Jacket        35.0\n",
      "\u001b[90m4\u001b[39m Customer 83  Samsung TV           36.4\n",
      "\u001b[90m5\u001b[39m Customer 69  Dell Laptop          37.3\n",
      "\n",
      "Highest amounts:\n",
      "\u001b[90m# A tibble: 5 × 3\u001b[39m\n",
      "  CustomerName ProductName   TotalAmount\n",
      "  \u001b[3m\u001b[90m<chr>\u001b[39m\u001b[23m        \u001b[3m\u001b[90m<chr>\u001b[39m\u001b[23m               \u001b[3m\u001b[90m<dbl>\u001b[39m\u001b[23m\n",
      "\u001b[90m1\u001b[39m Customer 95  Adidas Jacket        27.7\n",
      "\u001b[90m2\u001b[39m Customer 100 Nike Shoes           32.3\n",
      "\u001b[90m3\u001b[39m Customer 50  Adidas Jacket        35.0\n",
      "\u001b[90m4\u001b[39m Customer 83  Samsung TV           36.4\n",
      "\u001b[90m5\u001b[39m Customer 69  Dell Laptop          37.3\n",
      "\n",
      "Highest amounts:\n",
      "\u001b[90m# A tibble: 5 × 3\u001b[39m\n",
      "  CustomerName ProductName     TotalAmount\n",
      "  \u001b[3m\u001b[90m<chr>\u001b[39m\u001b[23m        \u001b[3m\u001b[90m<chr>\u001b[39m\u001b[23m                 \u001b[3m\u001b[90m<dbl>\u001b[39m\u001b[23m\n",
      "\u001b[90m1\u001b[39m Customer 60  Sony Headphones       \u001b[4m1\u001b[24m500.\n",
      "\u001b[90m2\u001b[39m Customer 28  Dell Laptop           \u001b[4m1\u001b[24m492.\n",
      "\u001b[90m3\u001b[39m Customer 81  Sony Headphones       \u001b[4m1\u001b[24m492.\n",
      "\u001b[90m4\u001b[39m Customer 79  iPhone 14             \u001b[4m1\u001b[24m489.\n",
      "\u001b[90m5\u001b[39m Customer 20  HP Printer            \u001b[4m1\u001b[24m487.\n",
      "\u001b[90m# A tibble: 5 × 3\u001b[39m\n",
      "  CustomerName ProductName     TotalAmount\n",
      "  \u001b[3m\u001b[90m<chr>\u001b[39m\u001b[23m        \u001b[3m\u001b[90m<chr>\u001b[39m\u001b[23m                 \u001b[3m\u001b[90m<dbl>\u001b[39m\u001b[23m\n",
      "\u001b[90m1\u001b[39m Customer 60  Sony Headphones       \u001b[4m1\u001b[24m500.\n",
      "\u001b[90m2\u001b[39m Customer 28  Dell Laptop           \u001b[4m1\u001b[24m492.\n",
      "\u001b[90m3\u001b[39m Customer 81  Sony Headphones       \u001b[4m1\u001b[24m492.\n",
      "\u001b[90m4\u001b[39m Customer 79  iPhone 14             \u001b[4m1\u001b[24m489.\n",
      "\u001b[90m5\u001b[39m Customer 20  HP Printer            \u001b[4m1\u001b[24m487.\n"
     ]
    }
   ],
   "source": [
    "# Task 4.1: Single Column Sorting\n",
    "\n",
    "# Sort by TotalAmount ascending\n",
    "transactions_by_amount_asc <- transactions %>%\n",
    "  arrange(TotalAmount)\n",
    "\n",
    "# Sort by TotalAmount descending\n",
    "transactions_by_amount_desc <- transactions %>%\n",
    "  arrange(desc(TotalAmount))\n",
    "\n",
    "# Display top 5 of each\n",
    "cat(\"Lowest amounts:\\n\")\n",
    "print(head(transactions_by_amount_asc %>% select(CustomerName, ProductName, TotalAmount), 5))\n",
    "\n",
    "cat(\"\\nHighest amounts:\\n\")\n",
    "print(head(transactions_by_amount_desc %>% select(CustomerName, ProductName, TotalAmount), 5))"
   ]
  },
  {
   "cell_type": "code",
   "execution_count": 22,
   "id": "1c2809ad",
   "metadata": {
    "vscode": {
     "languageId": "r"
    }
   },
   "outputs": [
    {
     "name": "stdout",
     "output_type": "stream",
     "text": [
      "Transactions sorted by city, then amount:\n"
     ]
    },
    {
     "data": {
      "text/html": [
       "<table class=\"dataframe\">\n",
       "<caption>A tibble: 10 × 4</caption>\n",
       "<thead>\n",
       "\t<tr><th scope=col>CustomerCity</th><th scope=col>CustomerName</th><th scope=col>ProductName</th><th scope=col>TotalAmount</th></tr>\n",
       "\t<tr><th scope=col>&lt;chr&gt;</th><th scope=col>&lt;chr&gt;</th><th scope=col>&lt;chr&gt;</th><th scope=col>&lt;dbl&gt;</th></tr>\n",
       "</thead>\n",
       "<tbody>\n",
       "\t<tr><td>Chicago</td><td>Customer 18</td><td>iPhone 14      </td><td>1487.43</td></tr>\n",
       "\t<tr><td>Chicago</td><td>Customer 20</td><td>HP Printer     </td><td>1476.49</td></tr>\n",
       "\t<tr><td>Chicago</td><td>Customer 97</td><td>Dell Laptop    </td><td>1459.42</td></tr>\n",
       "\t<tr><td>Chicago</td><td>Customer 49</td><td>Dell Laptop    </td><td>1453.94</td></tr>\n",
       "\t<tr><td>Chicago</td><td>Customer 70</td><td>Nike Shoes     </td><td>1428.35</td></tr>\n",
       "\t<tr><td>Chicago</td><td>Customer 71</td><td>Samsung TV     </td><td>1424.38</td></tr>\n",
       "\t<tr><td>Chicago</td><td>Customer 62</td><td>Sony Headphones</td><td>1416.35</td></tr>\n",
       "\t<tr><td>Chicago</td><td>Customer 11</td><td>Nike Shoes     </td><td>1407.51</td></tr>\n",
       "\t<tr><td>Chicago</td><td>Customer 99</td><td>HP Printer     </td><td>1388.73</td></tr>\n",
       "\t<tr><td>Chicago</td><td>Customer 49</td><td>Nike Shoes     </td><td>1370.57</td></tr>\n",
       "</tbody>\n",
       "</table>\n"
      ],
      "text/latex": [
       "A tibble: 10 × 4\n",
       "\\begin{tabular}{llll}\n",
       " CustomerCity & CustomerName & ProductName & TotalAmount\\\\\n",
       " <chr> & <chr> & <chr> & <dbl>\\\\\n",
       "\\hline\n",
       "\t Chicago & Customer 18 & iPhone 14       & 1487.43\\\\\n",
       "\t Chicago & Customer 20 & HP Printer      & 1476.49\\\\\n",
       "\t Chicago & Customer 97 & Dell Laptop     & 1459.42\\\\\n",
       "\t Chicago & Customer 49 & Dell Laptop     & 1453.94\\\\\n",
       "\t Chicago & Customer 70 & Nike Shoes      & 1428.35\\\\\n",
       "\t Chicago & Customer 71 & Samsung TV      & 1424.38\\\\\n",
       "\t Chicago & Customer 62 & Sony Headphones & 1416.35\\\\\n",
       "\t Chicago & Customer 11 & Nike Shoes      & 1407.51\\\\\n",
       "\t Chicago & Customer 99 & HP Printer      & 1388.73\\\\\n",
       "\t Chicago & Customer 49 & Nike Shoes      & 1370.57\\\\\n",
       "\\end{tabular}\n"
      ],
      "text/markdown": [
       "\n",
       "A tibble: 10 × 4\n",
       "\n",
       "| CustomerCity &lt;chr&gt; | CustomerName &lt;chr&gt; | ProductName &lt;chr&gt; | TotalAmount &lt;dbl&gt; |\n",
       "|---|---|---|---|\n",
       "| Chicago | Customer 18 | iPhone 14       | 1487.43 |\n",
       "| Chicago | Customer 20 | HP Printer      | 1476.49 |\n",
       "| Chicago | Customer 97 | Dell Laptop     | 1459.42 |\n",
       "| Chicago | Customer 49 | Dell Laptop     | 1453.94 |\n",
       "| Chicago | Customer 70 | Nike Shoes      | 1428.35 |\n",
       "| Chicago | Customer 71 | Samsung TV      | 1424.38 |\n",
       "| Chicago | Customer 62 | Sony Headphones | 1416.35 |\n",
       "| Chicago | Customer 11 | Nike Shoes      | 1407.51 |\n",
       "| Chicago | Customer 99 | HP Printer      | 1388.73 |\n",
       "| Chicago | Customer 49 | Nike Shoes      | 1370.57 |\n",
       "\n"
      ],
      "text/plain": [
       "   CustomerCity CustomerName ProductName     TotalAmount\n",
       "1  Chicago      Customer 18  iPhone 14       1487.43    \n",
       "2  Chicago      Customer 20  HP Printer      1476.49    \n",
       "3  Chicago      Customer 97  Dell Laptop     1459.42    \n",
       "4  Chicago      Customer 49  Dell Laptop     1453.94    \n",
       "5  Chicago      Customer 70  Nike Shoes      1428.35    \n",
       "6  Chicago      Customer 71  Samsung TV      1424.38    \n",
       "7  Chicago      Customer 62  Sony Headphones 1416.35    \n",
       "8  Chicago      Customer 11  Nike Shoes      1407.51    \n",
       "9  Chicago      Customer 99  HP Printer      1388.73    \n",
       "10 Chicago      Customer 49  Nike Shoes      1370.57    "
      ]
     },
     "metadata": {},
     "output_type": "display_data"
    }
   ],
   "source": [
    "# Task 4.2: Multiple Column Sorting\n",
    "# Sort by CustomerCity (ascending), then by TotalAmount (descending)\n",
    "\n",
    "transactions_by_city_amount <- transactions %>%\n",
    "  arrange(CustomerCity, desc(TotalAmount))\n",
    "\n",
    "# Display first 10 rows\n",
    "cat(\"Transactions sorted by city, then amount:\\n\")\n",
    "head(transactions_by_city_amount %>% select(CustomerCity, CustomerName, ProductName, TotalAmount), 10)"
   ]
  },
  {
   "cell_type": "code",
   "execution_count": 23,
   "id": "7fb4ec10",
   "metadata": {
    "vscode": {
     "languageId": "r"
    }
   },
   "outputs": [
    {
     "name": "stdout",
     "output_type": "stream",
     "text": [
      "Earliest transactions:\n"
     ]
    },
    {
     "data": {
      "text/html": [
       "<table class=\"dataframe\">\n",
       "<caption>A tibble: 5 × 4</caption>\n",
       "<thead>\n",
       "\t<tr><th scope=col>TransactionDate</th><th scope=col>CustomerName</th><th scope=col>ProductName</th><th scope=col>TotalAmount</th></tr>\n",
       "\t<tr><th scope=col>&lt;date&gt;</th><th scope=col>&lt;chr&gt;</th><th scope=col>&lt;chr&gt;</th><th scope=col>&lt;dbl&gt;</th></tr>\n",
       "</thead>\n",
       "<tbody>\n",
       "\t<tr><td>2024-01-01</td><td>Customer 62</td><td>Sony Headphones</td><td>1416.35</td></tr>\n",
       "\t<tr><td>2024-01-01</td><td>Customer 99</td><td>Sony Headphones</td><td>1326.27</td></tr>\n",
       "\t<tr><td>2024-01-02</td><td>Customer 83</td><td>Nike Shoes     </td><td> 808.93</td></tr>\n",
       "\t<tr><td>2024-01-02</td><td>Customer 61</td><td>Adidas Jacket  </td><td> 502.72</td></tr>\n",
       "\t<tr><td>2024-01-02</td><td>Customer 69</td><td>Adidas Jacket  </td><td> 277.70</td></tr>\n",
       "</tbody>\n",
       "</table>\n"
      ],
      "text/latex": [
       "A tibble: 5 × 4\n",
       "\\begin{tabular}{llll}\n",
       " TransactionDate & CustomerName & ProductName & TotalAmount\\\\\n",
       " <date> & <chr> & <chr> & <dbl>\\\\\n",
       "\\hline\n",
       "\t 2024-01-01 & Customer 62 & Sony Headphones & 1416.35\\\\\n",
       "\t 2024-01-01 & Customer 99 & Sony Headphones & 1326.27\\\\\n",
       "\t 2024-01-02 & Customer 83 & Nike Shoes      &  808.93\\\\\n",
       "\t 2024-01-02 & Customer 61 & Adidas Jacket   &  502.72\\\\\n",
       "\t 2024-01-02 & Customer 69 & Adidas Jacket   &  277.70\\\\\n",
       "\\end{tabular}\n"
      ],
      "text/markdown": [
       "\n",
       "A tibble: 5 × 4\n",
       "\n",
       "| TransactionDate &lt;date&gt; | CustomerName &lt;chr&gt; | ProductName &lt;chr&gt; | TotalAmount &lt;dbl&gt; |\n",
       "|---|---|---|---|\n",
       "| 2024-01-01 | Customer 62 | Sony Headphones | 1416.35 |\n",
       "| 2024-01-01 | Customer 99 | Sony Headphones | 1326.27 |\n",
       "| 2024-01-02 | Customer 83 | Nike Shoes      |  808.93 |\n",
       "| 2024-01-02 | Customer 61 | Adidas Jacket   |  502.72 |\n",
       "| 2024-01-02 | Customer 69 | Adidas Jacket   |  277.70 |\n",
       "\n"
      ],
      "text/plain": [
       "  TransactionDate CustomerName ProductName     TotalAmount\n",
       "1 2024-01-01      Customer 62  Sony Headphones 1416.35    \n",
       "2 2024-01-01      Customer 99  Sony Headphones 1326.27    \n",
       "3 2024-01-02      Customer 83  Nike Shoes       808.93    \n",
       "4 2024-01-02      Customer 61  Adidas Jacket    502.72    \n",
       "5 2024-01-02      Customer 69  Adidas Jacket    277.70    "
      ]
     },
     "metadata": {},
     "output_type": "display_data"
    }
   ],
   "source": [
    "# Task 4.3: Date-Based Sorting\n",
    "# Sort by TransactionDate chronologically (oldest first)\n",
    "\n",
    "transactions_chronological <- transactions %>%\n",
    "  arrange(as.Date(TransactionDate))\n",
    "\n",
    "# Display first 5 transactions chronologically\n",
    "cat(\"Earliest transactions:\\n\")\n",
    "head(transactions_chronological %>% select(TransactionDate, CustomerName, ProductName, TotalAmount), 5)"
   ]
  },
  {
   "cell_type": "markdown",
   "id": "718aa3c3",
   "metadata": {},
   "source": [
    "## Part 5: Chaining Operations\n",
    "\n",
    "Combine multiple dplyr operations using the pipe operator."
   ]
  },
  {
   "cell_type": "code",
   "execution_count": 24,
   "id": "41086de0",
   "metadata": {
    "vscode": {
     "languageId": "r"
    }
   },
   "outputs": [
    {
     "name": "stdout",
     "output_type": "stream",
     "text": [
      "Premium purchases (>$75):\n"
     ]
    },
    {
     "data": {
      "text/html": [
       "<table class=\"dataframe\">\n",
       "<caption>A tibble: 10 × 4</caption>\n",
       "<thead>\n",
       "\t<tr><th scope=col>TransactionID</th><th scope=col>CustomerName</th><th scope=col>ProductName</th><th scope=col>TotalAmount</th></tr>\n",
       "\t<tr><th scope=col>&lt;dbl&gt;</th><th scope=col>&lt;chr&gt;</th><th scope=col>&lt;chr&gt;</th><th scope=col>&lt;dbl&gt;</th></tr>\n",
       "</thead>\n",
       "<tbody>\n",
       "\t<tr><td>150</td><td>Customer 60</td><td>Sony Headphones</td><td>1499.52</td></tr>\n",
       "\t<tr><td> 61</td><td>Customer 28</td><td>Dell Laptop    </td><td>1491.96</td></tr>\n",
       "\t<tr><td>154</td><td>Customer 81</td><td>Sony Headphones</td><td>1491.62</td></tr>\n",
       "\t<tr><td>187</td><td>Customer 79</td><td>iPhone 14      </td><td>1488.95</td></tr>\n",
       "\t<tr><td>136</td><td>Customer 20</td><td>HP Printer     </td><td>1487.44</td></tr>\n",
       "\t<tr><td>297</td><td>Customer 18</td><td>iPhone 14      </td><td>1487.43</td></tr>\n",
       "\t<tr><td>378</td><td>Customer 83</td><td>iPhone 14      </td><td>1484.31</td></tr>\n",
       "\t<tr><td> 16</td><td>Customer 20</td><td>HP Printer     </td><td>1476.49</td></tr>\n",
       "\t<tr><td>479</td><td>Customer 10</td><td>Dell Laptop    </td><td>1473.27</td></tr>\n",
       "\t<tr><td> 84</td><td>Customer 14</td><td>iPhone 14      </td><td>1471.59</td></tr>\n",
       "</tbody>\n",
       "</table>\n"
      ],
      "text/latex": [
       "A tibble: 10 × 4\n",
       "\\begin{tabular}{llll}\n",
       " TransactionID & CustomerName & ProductName & TotalAmount\\\\\n",
       " <dbl> & <chr> & <chr> & <dbl>\\\\\n",
       "\\hline\n",
       "\t 150 & Customer 60 & Sony Headphones & 1499.52\\\\\n",
       "\t  61 & Customer 28 & Dell Laptop     & 1491.96\\\\\n",
       "\t 154 & Customer 81 & Sony Headphones & 1491.62\\\\\n",
       "\t 187 & Customer 79 & iPhone 14       & 1488.95\\\\\n",
       "\t 136 & Customer 20 & HP Printer      & 1487.44\\\\\n",
       "\t 297 & Customer 18 & iPhone 14       & 1487.43\\\\\n",
       "\t 378 & Customer 83 & iPhone 14       & 1484.31\\\\\n",
       "\t  16 & Customer 20 & HP Printer      & 1476.49\\\\\n",
       "\t 479 & Customer 10 & Dell Laptop     & 1473.27\\\\\n",
       "\t  84 & Customer 14 & iPhone 14       & 1471.59\\\\\n",
       "\\end{tabular}\n"
      ],
      "text/markdown": [
       "\n",
       "A tibble: 10 × 4\n",
       "\n",
       "| TransactionID &lt;dbl&gt; | CustomerName &lt;chr&gt; | ProductName &lt;chr&gt; | TotalAmount &lt;dbl&gt; |\n",
       "|---|---|---|---|\n",
       "| 150 | Customer 60 | Sony Headphones | 1499.52 |\n",
       "|  61 | Customer 28 | Dell Laptop     | 1491.96 |\n",
       "| 154 | Customer 81 | Sony Headphones | 1491.62 |\n",
       "| 187 | Customer 79 | iPhone 14       | 1488.95 |\n",
       "| 136 | Customer 20 | HP Printer      | 1487.44 |\n",
       "| 297 | Customer 18 | iPhone 14       | 1487.43 |\n",
       "| 378 | Customer 83 | iPhone 14       | 1484.31 |\n",
       "|  16 | Customer 20 | HP Printer      | 1476.49 |\n",
       "| 479 | Customer 10 | Dell Laptop     | 1473.27 |\n",
       "|  84 | Customer 14 | iPhone 14       | 1471.59 |\n",
       "\n"
      ],
      "text/plain": [
       "   TransactionID CustomerName ProductName     TotalAmount\n",
       "1  150           Customer 60  Sony Headphones 1499.52    \n",
       "2   61           Customer 28  Dell Laptop     1491.96    \n",
       "3  154           Customer 81  Sony Headphones 1491.62    \n",
       "4  187           Customer 79  iPhone 14       1488.95    \n",
       "5  136           Customer 20  HP Printer      1487.44    \n",
       "6  297           Customer 18  iPhone 14       1487.43    \n",
       "7  378           Customer 83  iPhone 14       1484.31    \n",
       "8   16           Customer 20  HP Printer      1476.49    \n",
       "9  479           Customer 10  Dell Laptop     1473.27    \n",
       "10  84           Customer 14  iPhone 14       1471.59    "
      ]
     },
     "metadata": {},
     "output_type": "display_data"
    }
   ],
   "source": [
    "# Task 5.1: Simple Chain\n",
    "# Filter TotalAmount > $75, select specific columns, arrange by TotalAmount descending\n",
    "\n",
    "premium_purchases <- transactions %>%\n",
    "  filter(TotalAmount > 75) %>%\n",
    "  select(TransactionID, CustomerName, ProductName, TotalAmount) %>%\n",
    "  arrange(desc(TotalAmount))\n",
    "\n",
    "# Display results\n",
    "cat(\"Premium purchases (>$75):\\n\")\n",
    "head(premium_purchases, 10)"
   ]
  },
  {
   "cell_type": "code",
   "execution_count": 25,
   "id": "823cda0b",
   "metadata": {
    "vscode": {
     "languageId": "r"
    }
   },
   "outputs": [
    {
     "name": "stdout",
     "output_type": "stream",
     "text": [
      "Recent tech purchases (top 20):\n",
      "\u001b[90m# A tibble: 20 × 5\u001b[39m\n",
      "   TransactionDate CustomerName ProductName     ProductCategory TotalAmount\n",
      "   \u001b[3m\u001b[90m<date>\u001b[39m\u001b[23m          \u001b[3m\u001b[90m<chr>\u001b[39m\u001b[23m        \u001b[3m\u001b[90m<chr>\u001b[39m\u001b[23m           \u001b[3m\u001b[90m<chr>\u001b[39m\u001b[23m                 \u001b[3m\u001b[90m<dbl>\u001b[39m\u001b[23m\n",
      "\u001b[90m 1\u001b[39m 2024-12-30      Customer 27  Sony Headphones Electronics            540.\n",
      "\u001b[90m 2\u001b[39m 2024-12-30      Customer 33  Sony Headphones Computers              207.\n",
      "\u001b[90m 3\u001b[39m 2024-12-25      Customer 39  Samsung TV      Computers              121.\n",
      "\u001b[90m 4\u001b[39m 2024-12-24      Customer 25  Sony Headphones Electronics            700.\n",
      "\u001b[90m 5\u001b[39m 2024-12-23      Customer 85  iPhone 14       Computers             \u001b[4m1\u001b[24m433.\n",
      "\u001b[90m 6\u001b[39m 2024-12-19      Customer 73  Dell Laptop     Computers             \u001b[4m1\u001b[24m221.\n",
      "\u001b[90m 7\u001b[39m 2024-12-13      Customer 17  Dell Laptop     Computers              141.\n",
      "\u001b[90m 8\u001b[39m 2024-12-12      Customer 6   Nike Shoes      Computers              247.\n",
      "\u001b[90m 9\u001b[39m 2024-12-11      Customer 54  Adidas Jacket   Electronics           \u001b[4m1\u001b[24m232.\n",
      "\u001b[90m10\u001b[39m 2024-12-10      Customer 19  Nike Shoes      Computers              193.\n",
      "\u001b[90m11\u001b[39m 2024-12-07      Customer 12  iPhone 14       Computers              315.\n",
      "\u001b[90m12\u001b[39m 2024-12-06      Customer 85  HP Printer      Electronics            930.\n",
      "\u001b[90m13\u001b[39m 2024-12-04      Customer 39  Dell Laptop     Electronics            957.\n",
      "\u001b[90m14\u001b[39m 2024-12-04      Customer 12  Samsung TV      Electronics            940.\n",
      "\u001b[90m15\u001b[39m 2024-12-02      Customer 90  Adidas Jacket   Electronics           \u001b[4m1\u001b[24m446.\n",
      "\u001b[90m16\u001b[39m 2024-12-02      Customer 54  Sony Headphones Computers              425.\n",
      "\u001b[90m17\u001b[39m 2024-12-02      Customer 24  Samsung TV      Electronics            116.\n",
      "\u001b[90m18\u001b[39m 2024-11-30      Customer 36  Sony Headphones Electronics           \u001b[4m1\u001b[24m470.\n",
      "\u001b[90m19\u001b[39m 2024-11-28      Customer 13  Dell Laptop     Computers              937.\n",
      "\u001b[90m20\u001b[39m 2024-11-28      Customer 33  Dell Laptop     Computers              799.\n",
      "\u001b[90m# A tibble: 20 × 5\u001b[39m\n",
      "   TransactionDate CustomerName ProductName     ProductCategory TotalAmount\n",
      "   \u001b[3m\u001b[90m<date>\u001b[39m\u001b[23m          \u001b[3m\u001b[90m<chr>\u001b[39m\u001b[23m        \u001b[3m\u001b[90m<chr>\u001b[39m\u001b[23m           \u001b[3m\u001b[90m<chr>\u001b[39m\u001b[23m                 \u001b[3m\u001b[90m<dbl>\u001b[39m\u001b[23m\n",
      "\u001b[90m 1\u001b[39m 2024-12-30      Customer 27  Sony Headphones Electronics            540.\n",
      "\u001b[90m 2\u001b[39m 2024-12-30      Customer 33  Sony Headphones Computers              207.\n",
      "\u001b[90m 3\u001b[39m 2024-12-25      Customer 39  Samsung TV      Computers              121.\n",
      "\u001b[90m 4\u001b[39m 2024-12-24      Customer 25  Sony Headphones Electronics            700.\n",
      "\u001b[90m 5\u001b[39m 2024-12-23      Customer 85  iPhone 14       Computers             \u001b[4m1\u001b[24m433.\n",
      "\u001b[90m 6\u001b[39m 2024-12-19      Customer 73  Dell Laptop     Computers             \u001b[4m1\u001b[24m221.\n",
      "\u001b[90m 7\u001b[39m 2024-12-13      Customer 17  Dell Laptop     Computers              141.\n",
      "\u001b[90m 8\u001b[39m 2024-12-12      Customer 6   Nike Shoes      Computers              247.\n",
      "\u001b[90m 9\u001b[39m 2024-12-11      Customer 54  Adidas Jacket   Electronics           \u001b[4m1\u001b[24m232.\n",
      "\u001b[90m10\u001b[39m 2024-12-10      Customer 19  Nike Shoes      Computers              193.\n",
      "\u001b[90m11\u001b[39m 2024-12-07      Customer 12  iPhone 14       Computers              315.\n",
      "\u001b[90m12\u001b[39m 2024-12-06      Customer 85  HP Printer      Electronics            930.\n",
      "\u001b[90m13\u001b[39m 2024-12-04      Customer 39  Dell Laptop     Electronics            957.\n",
      "\u001b[90m14\u001b[39m 2024-12-04      Customer 12  Samsung TV      Electronics            940.\n",
      "\u001b[90m15\u001b[39m 2024-12-02      Customer 90  Adidas Jacket   Electronics           \u001b[4m1\u001b[24m446.\n",
      "\u001b[90m16\u001b[39m 2024-12-02      Customer 54  Sony Headphones Computers              425.\n",
      "\u001b[90m17\u001b[39m 2024-12-02      Customer 24  Samsung TV      Electronics            116.\n",
      "\u001b[90m18\u001b[39m 2024-11-30      Customer 36  Sony Headphones Electronics           \u001b[4m1\u001b[24m470.\n",
      "\u001b[90m19\u001b[39m 2024-11-28      Customer 13  Dell Laptop     Computers              937.\n",
      "\u001b[90m20\u001b[39m 2024-11-28      Customer 33  Dell Laptop     Computers              799.\n"
     ]
    }
   ],
   "source": [
    "# Task 5.2: Complex Chain\n",
    "# Filter for Electronics/Computers, select columns, arrange by date/amount, keep top 20\n",
    "\n",
    "recent_tech_purchases <- transactions %>%\n",
    "  filter(ProductCategory %in% c(\"Electronics\", \"Computers\")) %>%\n",
    "  select(TransactionDate, CustomerName, ProductName, ProductCategory, TotalAmount) %>%\n",
    "  arrange(desc(as.Date(TransactionDate)), desc(TotalAmount)) %>%\n",
    "  head(20)\n",
    "\n",
    "# Display results\n",
    "cat(\"Recent tech purchases (top 20):\\n\")\n",
    "print(recent_tech_purchases)"
   ]
  },
  {
   "cell_type": "code",
   "execution_count": 26,
   "id": "73d00b01",
   "metadata": {
    "vscode": {
     "languageId": "r"
    }
   },
   "outputs": [
    {
     "name": "stdout",
     "output_type": "stream",
     "text": [
      "High-value customers:\n"
     ]
    },
    {
     "data": {
      "text/html": [
       "<table class=\"dataframe\">\n",
       "<caption>A tibble: 6 × 4</caption>\n",
       "<thead>\n",
       "\t<tr><th scope=col>CustomerID</th><th scope=col>CustomerName</th><th scope=col>TotalPurchases</th><th scope=col>TotalSpent</th></tr>\n",
       "\t<tr><th scope=col>&lt;dbl&gt;</th><th scope=col>&lt;chr&gt;</th><th scope=col>&lt;int&gt;</th><th scope=col>&lt;dbl&gt;</th></tr>\n",
       "</thead>\n",
       "<tbody>\n",
       "\t<tr><td> 7</td><td>Customer 18</td><td>2</td><td>2782.54</td></tr>\n",
       "\t<tr><td>77</td><td>Customer 99</td><td>2</td><td>2628.75</td></tr>\n",
       "\t<tr><td>72</td><td>Customer 13</td><td>2</td><td>1986.10</td></tr>\n",
       "\t<tr><td>70</td><td>Customer 49</td><td>2</td><td>1823.74</td></tr>\n",
       "\t<tr><td>69</td><td>Customer 14</td><td>2</td><td>1095.99</td></tr>\n",
       "\t<tr><td>87</td><td>Customer 87</td><td>2</td><td> 717.69</td></tr>\n",
       "</tbody>\n",
       "</table>\n"
      ],
      "text/latex": [
       "A tibble: 6 × 4\n",
       "\\begin{tabular}{llll}\n",
       " CustomerID & CustomerName & TotalPurchases & TotalSpent\\\\\n",
       " <dbl> & <chr> & <int> & <dbl>\\\\\n",
       "\\hline\n",
       "\t  7 & Customer 18 & 2 & 2782.54\\\\\n",
       "\t 77 & Customer 99 & 2 & 2628.75\\\\\n",
       "\t 72 & Customer 13 & 2 & 1986.10\\\\\n",
       "\t 70 & Customer 49 & 2 & 1823.74\\\\\n",
       "\t 69 & Customer 14 & 2 & 1095.99\\\\\n",
       "\t 87 & Customer 87 & 2 &  717.69\\\\\n",
       "\\end{tabular}\n"
      ],
      "text/markdown": [
       "\n",
       "A tibble: 6 × 4\n",
       "\n",
       "| CustomerID &lt;dbl&gt; | CustomerName &lt;chr&gt; | TotalPurchases &lt;int&gt; | TotalSpent &lt;dbl&gt; |\n",
       "|---|---|---|---|\n",
       "|  7 | Customer 18 | 2 | 2782.54 |\n",
       "| 77 | Customer 99 | 2 | 2628.75 |\n",
       "| 72 | Customer 13 | 2 | 1986.10 |\n",
       "| 70 | Customer 49 | 2 | 1823.74 |\n",
       "| 69 | Customer 14 | 2 | 1095.99 |\n",
       "| 87 | Customer 87 | 2 |  717.69 |\n",
       "\n"
      ],
      "text/plain": [
       "  CustomerID CustomerName TotalPurchases TotalSpent\n",
       "1  7         Customer 18  2              2782.54   \n",
       "2 77         Customer 99  2              2628.75   \n",
       "3 72         Customer 13  2              1986.10   \n",
       "4 70         Customer 49  2              1823.74   \n",
       "5 69         Customer 14  2              1095.99   \n",
       "6 87         Customer 87  2               717.69   "
      ]
     },
     "metadata": {},
     "output_type": "display_data"
    }
   ],
   "source": [
    "# Task 5.3: Business Intelligence Chain\n",
    "# Identify high-value repeat customers (TotalAmount > $200)\n",
    "\n",
    "high_value_customers <- transactions %>%\n",
    "  filter(TotalAmount > 200) %>%\n",
    "  group_by(CustomerID, CustomerName) %>%\n",
    "  summarise(TotalPurchases = n(), TotalSpent = sum(TotalAmount), .groups = 'drop') %>%\n",
    "  filter(TotalPurchases > 1) %>%\n",
    "  arrange(desc(TotalSpent))\n",
    "\n",
    "# Display results\n",
    "cat(\"High-value customers:\\n\")\n",
    "head(high_value_customers, 15)"
   ]
  },
  {
   "cell_type": "markdown",
   "id": "50978714",
   "metadata": {},
   "source": [
    "## Part 6: Data Analysis Questions\n",
    "\n",
    "Answer the following questions using the datasets you've created."
   ]
  },
  {
   "cell_type": "code",
   "execution_count": 27,
   "id": "be6e8562",
   "metadata": {
    "vscode": {
     "languageId": "r"
    }
   },
   "outputs": [
    {
     "name": "stdout",
     "output_type": "stream",
     "text": [
      "Transaction counts by dataset:\n",
      "High value transactions: 470 \n",
      "Electronics transactions: 93 \n",
      "High value transactions: 470 \n",
      "Electronics transactions: 93 \n",
      "NY bulk purchases: 75 \n",
      "Entertainment transactions: 227 \n",
      "March transactions: 41 \n",
      "Premium purchases: 483 \n",
      "Recent tech purchases: 20 \n",
      "NY bulk purchases: 75 \n",
      "Entertainment transactions: 227 \n",
      "March transactions: 41 \n",
      "Premium purchases: 483 \n",
      "Recent tech purchases: 20 \n",
      "High value customers: 6 \n",
      "High value customers: 6 \n"
     ]
    }
   ],
   "source": [
    "# Question 6.1: Transaction Volume\n",
    "# Count transactions in each filtered dataset\n",
    "\n",
    "cat(\"Transaction counts by dataset:\\n\")\n",
    "cat(\"High value transactions:\", nrow(high_value_transactions), \"\\n\")\n",
    "cat(\"Electronics transactions:\", nrow(electronics_transactions), \"\\n\")\n",
    "cat(\"NY bulk purchases:\", nrow(ny_bulk_purchases), \"\\n\")\n",
    "cat(\"Entertainment transactions:\", nrow(entertainment_transactions), \"\\n\")\n",
    "cat(\"March transactions:\", nrow(march_transactions), \"\\n\")\n",
    "cat(\"Premium purchases:\", nrow(premium_purchases), \"\\n\")\n",
    "cat(\"Recent tech purchases:\", nrow(recent_tech_purchases), \"\\n\")\n",
    "cat(\"High value customers:\", nrow(high_value_customers), \"\\n\")"
   ]
  },
  {
   "cell_type": "code",
   "execution_count": 29,
   "id": "35190921",
   "metadata": {
    "vscode": {
     "languageId": "r"
    }
   },
   "outputs": [
    {
     "name": "stdout",
     "output_type": "stream",
     "text": [
      "Most frequent high-value customer:\n",
      "\u001b[90m# A tibble: 1 × 4\u001b[39m\n",
      "  CustomerID CustomerName TotalPurchases TotalSpent\n",
      "       \u001b[3m\u001b[90m<dbl>\u001b[39m\u001b[23m \u001b[3m\u001b[90m<chr>\u001b[39m\u001b[23m                 \u001b[3m\u001b[90m<int>\u001b[39m\u001b[23m      \u001b[3m\u001b[90m<dbl>\u001b[39m\u001b[23m\n",
      "\u001b[90m1\u001b[39m          7 Customer 18               2      \u001b[4m2\u001b[24m783.\n"
     ]
    }
   ],
   "source": [
    "# Question 6.2: Top Customers\n",
    "# Find the customer who appears most frequently in high_value_customers\n",
    "\n",
    "if(nrow(high_value_customers) > 0) {\n",
    "  customer_frequency <- high_value_customers %>%\n",
    "    arrange(desc(TotalPurchases), desc(TotalSpent)) %>%\n",
    "    head(1)\n",
    "  \n",
    "  cat(\"Most frequent high-value customer:\\n\")\n",
    "  print(customer_frequency)\n",
    "} else {\n",
    "  cat(\"No high-value customers found\\n\")\n",
    "}"
   ]
  },
  {
   "cell_type": "code",
   "execution_count": 30,
   "id": "3c932cbb",
   "metadata": {
    "vscode": {
     "languageId": "r"
    }
   },
   "outputs": [
    {
     "name": "stdout",
     "output_type": "stream",
     "text": [
      "Top 5 most expensive entertainment transactions:\n",
      "\u001b[90m# A tibble: 5 × 9\u001b[39m\n",
      "  TransactionID CustomerID CustomerName CustomerCity ProductName ProductCategory\n",
      "          \u001b[3m\u001b[90m<dbl>\u001b[39m\u001b[23m      \u001b[3m\u001b[90m<dbl>\u001b[39m\u001b[23m \u001b[3m\u001b[90m<chr>\u001b[39m\u001b[23m        \u001b[3m\u001b[90m<chr>\u001b[39m\u001b[23m        \u001b[3m\u001b[90m<chr>\u001b[39m\u001b[23m       \u001b[3m\u001b[90m<chr>\u001b[39m\u001b[23m          \n",
      "\u001b[90m1\u001b[39m           154         18 Customer 81  Phoenix      Sony Headp… Books          \n",
      "\u001b[90m2\u001b[39m           378         53 Customer 83  Philadelphia iPhone 14   Movies         \n",
      "\u001b[90m3\u001b[39m           479         83 Customer 10  Houston      Dell Laptop Books          \n",
      "\u001b[90m4\u001b[39m           384         42 Customer 97  Chicago      Dell Laptop Books          \n",
      "\u001b[90m5\u001b[39m           468         32 Customer 47  Los Angeles  Dell Laptop Books          \n",
      "\u001b[90m# ℹ 3 more variables: TotalAmount <dbl>, Quantity <dbl>, TransactionDate <date>\u001b[39m\n"
     ]
    }
   ],
   "source": [
    "# Question 6.3: Product Analysis\n",
    "# Find top 5 most expensive transactions in entertainment_transactions\n",
    "\n",
    "if(nrow(entertainment_transactions) > 0) {\n",
    "  top_entertainment <- entertainment_transactions %>%\n",
    "    arrange(desc(TotalAmount)) %>%\n",
    "    head(5)\n",
    "  \n",
    "  cat(\"Top 5 most expensive entertainment transactions:\\n\")\n",
    "  print(top_entertainment)\n",
    "} else {\n",
    "  cat(\"No entertainment transactions found\\n\")\n",
    "}"
   ]
  },
  {
   "cell_type": "code",
   "execution_count": 31,
   "id": "7b46473f",
   "metadata": {
    "vscode": {
     "languageId": "r"
    }
   },
   "outputs": [
    {
     "name": "stdout",
     "output_type": "stream",
     "text": [
      "City with highest single transaction:\n",
      "\u001b[90m# A tibble: 1 × 4\u001b[39m\n",
      "  CustomerCity CustomerName ProductName     TotalAmount\n",
      "  \u001b[3m\u001b[90m<chr>\u001b[39m\u001b[23m        \u001b[3m\u001b[90m<chr>\u001b[39m\u001b[23m        \u001b[3m\u001b[90m<chr>\u001b[39m\u001b[23m                 \u001b[3m\u001b[90m<dbl>\u001b[39m\u001b[23m\n",
      "\u001b[90m1\u001b[39m New York     Customer 60  Sony Headphones       \u001b[4m1\u001b[24m500.\n",
      "\u001b[90m# A tibble: 1 × 4\u001b[39m\n",
      "  CustomerCity CustomerName ProductName     TotalAmount\n",
      "  \u001b[3m\u001b[90m<chr>\u001b[39m\u001b[23m        \u001b[3m\u001b[90m<chr>\u001b[39m\u001b[23m        \u001b[3m\u001b[90m<chr>\u001b[39m\u001b[23m                 \u001b[3m\u001b[90m<dbl>\u001b[39m\u001b[23m\n",
      "\u001b[90m1\u001b[39m New York     Customer 60  Sony Headphones       \u001b[4m1\u001b[24m500.\n"
     ]
    }
   ],
   "source": [
    "# Question 6.4: Geographic Analysis\n",
    "# Find the city with the highest single transaction amount\n",
    "\n",
    "highest_transaction_by_city <- transactions_by_city_amount %>%\n",
    "  arrange(desc(TotalAmount)) %>%\n",
    "  select(CustomerCity, CustomerName, ProductName, TotalAmount) %>%\n",
    "  head(1)\n",
    "\n",
    "cat(\"City with highest single transaction:\\n\")\n",
    "print(highest_transaction_by_city)"
   ]
  },
  {
   "cell_type": "markdown",
   "id": "82d2dc35",
   "metadata": {},
   "source": [
    "## Part 7: Reflection Questions\n",
    "\n",
    "Please answer the following questions in the markdown cells below."
   ]
  },
  {
   "cell_type": "markdown",
   "id": "f2ea2958",
   "metadata": {},
   "source": [
    "### Question 7.1: Pipe Operator Benefits\n",
    "\n",
    "**How does using the pipe operator (`%>%`) improve code readability compared to nested function calls? Provide a specific example from your homework.**\n",
    "\n",
    "Using the pipe operator (%>%) makes your code easier to read by showing each step in a clear, step-by-step order. Instead of dealing with complicated nested functions, you can follow the flow of the data more naturally. This helps with understanding, fixing, and changing your code.\n",
    "\n",
    "**Example:**\n",
    "```r\n",
    "premium_purchases <- transactions %>%\n",
    "  filter(TotalAmount > 75) %>%\n",
    "  select(TransactionID, CustomerName, ProductName, TotalAmount) %>%\n",
    "  arrange(desc(TotalAmount))\n",
    "```\n",
    "The example is easier to read than this:\n",
    "```r\n",
    "premium_purchases <- arrange(select(filter(transactions, TotalAmount > 75), TransactionID, CustomerName, ProductName, TotalAmount), desc(TotalAmount))\n",
    "```"
   ]
  },
  {
   "cell_type": "markdown",
   "id": "af3d8c62",
   "metadata": {},
   "source": [
    "### Question 7.2: Filtering Strategy\n",
    "\n",
    "**When filtering data for business analysis, what are the trade-offs between being very specific (many conditions) versus being more general (fewer conditions)? How might this affect your insights?**\n",
    "\n",
    "Using lots of specific filters helps you focus on a narrow set of data, which is good for answering detailed questions or spotting small trends. But it might leave out important data and give you a limited view.\n",
    "\n",
    "Using fewer, broader filters gives you a bigger picture and helps find overall trends, but it can bring in too much extra data, making it harder to find clear insights.\n",
    "\n",
    "**Trade-offs:**\n",
    "- Specific filters: More precise answers, but risk of missing important outliers or related cases.\n",
    "- General filters: Broader insights, but risk of including too much irrelevant data.\n",
    "\n",
    "The choice depends on your business goal, sometimes you need detail, other times you need a high-level overview of data."
   ]
  },
  {
   "cell_type": "markdown",
   "id": "54c0b062",
   "metadata": {},
   "source": [
    "### Question 7.3: Sorting Importance\n",
    "\n",
    "**Why is data sorting important in business analytics? Provide three specific business scenarios where sorting data would be crucial for decision-making.**\n",
    "\n",
    "Sorting data is important in business analytics because it helps you quickly spot patterns, unusual values, and what matters most. It makes it easier to focus on the right information and make better decisions.\n",
    "\n",
    "**Three business scenarios where sorting is crucial:**\n",
    "\n",
    "Sales Focus: Sort customers by how much they’ve spent to find top buyers for upselling or keeping loyal.\n",
    "\n",
    "Managing Stock: Sort products by how many are sold or left in stock to restock popular items or clear out slow ones.\n",
    "\n",
    "Customer Help: Sort support requests by urgency or date so the most important ones get solved first."
   ]
  },
  {
   "cell_type": "markdown",
   "id": "625c2ea3",
   "metadata": {},
   "source": [
    "### Question 7.4: Real-World Application\n",
    "\n",
    "**Describe a real business scenario where you might need to combine `select()`, `filter()`, and `arrange()` operations. What insights would you be trying to gain?**\n",
    "\n",
    "A real example in business could be finding your best repeat customers for a loyalty program. You could:\n",
    "\n",
    "Use filter() to keep only purchases from the past year and above a certain amount,\n",
    "\n",
    "Use select() to focus on key details like CustomerID, Name, and TotalAmount,\n",
    "\n",
    "Use arrange() to sort customers by how much they spent, from highest to lowest.\n",
    "\n",
    "This makes it easy to see which customers bring in the most money and should get special offers, helping keep them loyal and boosting your business."
   ]
  },
  {
   "cell_type": "markdown",
   "id": "6142c3f6",
   "metadata": {},
   "source": [
    "## Summary and Submission\n",
    "\n",
    "### What You've Learned\n",
    "\n",
    "In this homework, you've practiced:\n",
    "- Using `select()` for column selection with various methods\n",
    "- Using `filter()` for row filtering with single and multiple conditions\n",
    "- Using `arrange()` for sorting data by single and multiple columns\n",
    "- Chaining operations with the pipe operator (`%>%`)\n",
    "- Analyzing business data to generate insights\n",
    "\n",
    "### Submission Checklist\n",
    "\n",
    "Before submitting, ensure you have:\n",
    "- [ ] Completed all code tasks\n",
    "- [ ] Run all cells successfully\n",
    "- [ ] Answered all reflection questions\n",
    "- [ ] Used proper commenting in your code\n",
    "- [ ] Used the pipe operator where appropriate\n",
    "- [ ] Verified your results make sense\n",
    "\n",
    "### Next Steps\n",
    "\n",
    "In the next lesson, you'll learn about:\n",
    "- `mutate()` for creating new columns\n",
    "- `summarize()` for calculating summary statistics\n",
    "- `group_by()` for grouped operations\n",
    "- Advanced data transformation techniques"
   ]
  }
 ],
 "metadata": {
  "kernelspec": {
   "display_name": "R",
   "language": "R",
   "name": "ir"
  },
  "language_info": {
   "codemirror_mode": "r",
   "file_extension": ".r",
   "mimetype": "text/x-r-source",
   "name": "R",
   "pygments_lexer": "r",
   "version": "4.4.3"
  }
 },
 "nbformat": 4,
 "nbformat_minor": 5
}
