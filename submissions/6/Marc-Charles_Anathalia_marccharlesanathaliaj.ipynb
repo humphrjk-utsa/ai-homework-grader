{
 "cells": [
  {
   "cell_type": "markdown",
   "id": "3d8bca02",
   "metadata": {},
   "source": [
    "# Homework Assignment - Lesson 3: Data Transformation with dplyr - Part 1\n",
    "\n",
    "**Student Name:** [Anathalia Marc-Charles]\n",
    "\n",
    "**Due Date:** [9/21/2025]\n",
    "\n",
    "**Objective:** Learn to use dplyr functions (`select()`, `filter()`, `arrange()`) and the pipe operator (`%>%`) for data transformation and analysis.\n",
    "\n",
    "---\n",
    "\n",
    "## Instructions\n",
    "\n",
    "- Complete all tasks in this notebook\n",
    "- Use the pipe operator (`%>%`) wherever possible to chain operations\n",
    "- Ensure your code is well-commented and easy to understand\n",
    "- Run all cells to verify your code works correctly\n",
    "- Answer all reflection questions at the end\n",
    "\n",
    "---"
   ]
  },
  {
   "cell_type": "markdown",
   "id": "2baa2287",
   "metadata": {},
   "source": [
    "## Part 1: Data Import and Setup\n",
    "\n",
    "In this section, you'll import the retail transactions dataset and perform initial exploration.\n",
    "\n",
    "**Dataset:** `retail_transactions.csv` - This dataset contains transaction records from a retail business with information about customers, products, dates, amounts, and quantities."
   ]
  },
  {
   "cell_type": "code",
   "execution_count": 71,
   "id": "764c19b0",
   "metadata": {
    "vscode": {
     "languageId": "r"
    }
   },
   "outputs": [
    {
     "data": {
      "text/html": [
       "'/workspaces/assignment-2-version3-anathaliajmc/data'"
      ],
      "text/latex": [
       "'/workspaces/assignment-2-version3-anathaliajmc/data'"
      ],
      "text/markdown": [
       "'/workspaces/assignment-2-version3-anathaliajmc/data'"
      ],
      "text/plain": [
       "[1] \"/workspaces/assignment-2-version3-anathaliajmc/data\""
      ]
     },
     "metadata": {},
     "output_type": "display_data"
    },
    {
     "data": {
      "text/html": [
       "'/workspaces/assignment-2-version3-anathaliajmc/data'"
      ],
      "text/latex": [
       "'/workspaces/assignment-2-version3-anathaliajmc/data'"
      ],
      "text/markdown": [
       "'/workspaces/assignment-2-version3-anathaliajmc/data'"
      ],
      "text/plain": [
       "[1] \"/workspaces/assignment-2-version3-anathaliajmc/data\""
      ]
     },
     "metadata": {},
     "output_type": "display_data"
    },
    {
     "name": "stdout",
     "output_type": "stream",
     "text": [
      "Data imported successfully!\n",
      "Dataset dimensions: 500 rows x 9 columns\n"
     ]
    }
   ],
   "source": [
    "# Load required libraries\n",
    "library(tidyverse)\n",
    "\n",
    "getwd()\n",
    "setwd(\"/workspaces/assignment-2-version3-anathaliajmc/data\") # Set working directory if needed\n",
    "getwd() # setwd(\"path/to/your/data\")\n",
    "\n",
    "# Task 1.1: Import the retail_transactions.csv file\n",
    "# Create a data frame named 'transactions'\n",
    "# Note: Import the retail_transactions.csv file\n",
    "\n",
    "# Your code here:\n",
    "transactions <- read.csv(\"/workspaces/assignment-2-version3-anathaliajmc/data/retail_transactions.csv\")\n",
    "\n",
    "# Display success message\n",
    "cat(\"Data imported successfully!\\n\")\n",
    "cat(\"Dataset dimensions:\", nrow(transactions), \"rows x\", ncol(transactions), \"columns\\n\")"
   ]
  },
  {
   "cell_type": "code",
   "execution_count": 92,
   "id": "dd72af91",
   "metadata": {
    "vscode": {
     "languageId": "r"
    }
   },
   "outputs": [
    {
     "name": "stdout",
     "output_type": "stream",
     "text": [
      "First 10 rows of the dataset:\n"
     ]
    },
    {
     "data": {
      "text/html": [
       "<table class=\"dataframe\">\n",
       "<caption>A data.frame: 10 × 9</caption>\n",
       "<thead>\n",
       "\t<tr><th></th><th scope=col>TransactionID</th><th scope=col>CustomerID</th><th scope=col>CustomerName</th><th scope=col>CustomerCity</th><th scope=col>ProductName</th><th scope=col>ProductCategory</th><th scope=col>TotalAmount</th><th scope=col>Quantity</th><th scope=col>TransactionDate</th></tr>\n",
       "\t<tr><th></th><th scope=col>&lt;int&gt;</th><th scope=col>&lt;int&gt;</th><th scope=col>&lt;chr&gt;</th><th scope=col>&lt;chr&gt;</th><th scope=col>&lt;chr&gt;</th><th scope=col>&lt;chr&gt;</th><th scope=col>&lt;dbl&gt;</th><th scope=col>&lt;int&gt;</th><th scope=col>&lt;chr&gt;</th></tr>\n",
       "</thead>\n",
       "<tbody>\n",
       "\t<tr><th scope=row>1</th><td> 1</td><td>81</td><td>Customer 39</td><td>Chicago     </td><td>Adidas Jacket  </td><td>Clothing   </td><td> 632.39</td><td>3</td><td>2024-03-09</td></tr>\n",
       "\t<tr><th scope=row>2</th><td> 2</td><td>13</td><td>Customer 63</td><td>Philadelphia</td><td>Samsung TV     </td><td>Music      </td><td> 114.28</td><td>3</td><td>2024-12-08</td></tr>\n",
       "\t<tr><th scope=row>3</th><td> 3</td><td>18</td><td>Customer 98</td><td>Chicago     </td><td>Adidas Jacket  </td><td>Computers  </td><td>1289.24</td><td>7</td><td>2024-01-22</td></tr>\n",
       "\t<tr><th scope=row>4</th><td> 4</td><td>76</td><td>Customer 39</td><td>Houston     </td><td>Dell Laptop    </td><td>Computers  </td><td> 885.40</td><td>2</td><td>2024-07-02</td></tr>\n",
       "\t<tr><th scope=row>5</th><td> 5</td><td>86</td><td>Customer 45</td><td>New York    </td><td>Nike Shoes     </td><td>Computers  </td><td>  95.95</td><td>5</td><td>2024-08-13</td></tr>\n",
       "\t<tr><th scope=row>6</th><td> 6</td><td>37</td><td>Customer 8 </td><td>Philadelphia</td><td>Adidas Jacket  </td><td>Electronics</td><td>1126.34</td><td>2</td><td>2024-04-15</td></tr>\n",
       "\t<tr><th scope=row>7</th><td> 7</td><td>45</td><td>Customer 83</td><td>New York    </td><td>HP Printer     </td><td>Clothing   </td><td>  78.71</td><td>3</td><td>2024-05-02</td></tr>\n",
       "\t<tr><th scope=row>8</th><td> 8</td><td>11</td><td>Customer 60</td><td>Chicago     </td><td>Samsung TV     </td><td>Music      </td><td> 871.93</td><td>3</td><td>2024-04-30</td></tr>\n",
       "\t<tr><th scope=row>9</th><td> 9</td><td>13</td><td>Customer 69</td><td>Houston     </td><td>iPhone 14      </td><td>Music      </td><td>1347.56</td><td>8</td><td>2024-08-08</td></tr>\n",
       "\t<tr><th scope=row>10</th><td>10</td><td>55</td><td>Customer 24</td><td>Chicago     </td><td>Sony Headphones</td><td>Books      </td><td> 633.51</td><td>1</td><td>2024-06-23</td></tr>\n",
       "</tbody>\n",
       "</table>\n"
      ],
      "text/latex": [
       "A data.frame: 10 × 9\n",
       "\\begin{tabular}{r|lllllllll}\n",
       "  & TransactionID & CustomerID & CustomerName & CustomerCity & ProductName & ProductCategory & TotalAmount & Quantity & TransactionDate\\\\\n",
       "  & <int> & <int> & <chr> & <chr> & <chr> & <chr> & <dbl> & <int> & <chr>\\\\\n",
       "\\hline\n",
       "\t1 &  1 & 81 & Customer 39 & Chicago      & Adidas Jacket   & Clothing    &  632.39 & 3 & 2024-03-09\\\\\n",
       "\t2 &  2 & 13 & Customer 63 & Philadelphia & Samsung TV      & Music       &  114.28 & 3 & 2024-12-08\\\\\n",
       "\t3 &  3 & 18 & Customer 98 & Chicago      & Adidas Jacket   & Computers   & 1289.24 & 7 & 2024-01-22\\\\\n",
       "\t4 &  4 & 76 & Customer 39 & Houston      & Dell Laptop     & Computers   &  885.40 & 2 & 2024-07-02\\\\\n",
       "\t5 &  5 & 86 & Customer 45 & New York     & Nike Shoes      & Computers   &   95.95 & 5 & 2024-08-13\\\\\n",
       "\t6 &  6 & 37 & Customer 8  & Philadelphia & Adidas Jacket   & Electronics & 1126.34 & 2 & 2024-04-15\\\\\n",
       "\t7 &  7 & 45 & Customer 83 & New York     & HP Printer      & Clothing    &   78.71 & 3 & 2024-05-02\\\\\n",
       "\t8 &  8 & 11 & Customer 60 & Chicago      & Samsung TV      & Music       &  871.93 & 3 & 2024-04-30\\\\\n",
       "\t9 &  9 & 13 & Customer 69 & Houston      & iPhone 14       & Music       & 1347.56 & 8 & 2024-08-08\\\\\n",
       "\t10 & 10 & 55 & Customer 24 & Chicago      & Sony Headphones & Books       &  633.51 & 1 & 2024-06-23\\\\\n",
       "\\end{tabular}\n"
      ],
      "text/markdown": [
       "\n",
       "A data.frame: 10 × 9\n",
       "\n",
       "| <!--/--> | TransactionID &lt;int&gt; | CustomerID &lt;int&gt; | CustomerName &lt;chr&gt; | CustomerCity &lt;chr&gt; | ProductName &lt;chr&gt; | ProductCategory &lt;chr&gt; | TotalAmount &lt;dbl&gt; | Quantity &lt;int&gt; | TransactionDate &lt;chr&gt; |\n",
       "|---|---|---|---|---|---|---|---|---|---|\n",
       "| 1 |  1 | 81 | Customer 39 | Chicago      | Adidas Jacket   | Clothing    |  632.39 | 3 | 2024-03-09 |\n",
       "| 2 |  2 | 13 | Customer 63 | Philadelphia | Samsung TV      | Music       |  114.28 | 3 | 2024-12-08 |\n",
       "| 3 |  3 | 18 | Customer 98 | Chicago      | Adidas Jacket   | Computers   | 1289.24 | 7 | 2024-01-22 |\n",
       "| 4 |  4 | 76 | Customer 39 | Houston      | Dell Laptop     | Computers   |  885.40 | 2 | 2024-07-02 |\n",
       "| 5 |  5 | 86 | Customer 45 | New York     | Nike Shoes      | Computers   |   95.95 | 5 | 2024-08-13 |\n",
       "| 6 |  6 | 37 | Customer 8  | Philadelphia | Adidas Jacket   | Electronics | 1126.34 | 2 | 2024-04-15 |\n",
       "| 7 |  7 | 45 | Customer 83 | New York     | HP Printer      | Clothing    |   78.71 | 3 | 2024-05-02 |\n",
       "| 8 |  8 | 11 | Customer 60 | Chicago      | Samsung TV      | Music       |  871.93 | 3 | 2024-04-30 |\n",
       "| 9 |  9 | 13 | Customer 69 | Houston      | iPhone 14       | Music       | 1347.56 | 8 | 2024-08-08 |\n",
       "| 10 | 10 | 55 | Customer 24 | Chicago      | Sony Headphones | Books       |  633.51 | 1 | 2024-06-23 |\n",
       "\n"
      ],
      "text/plain": [
       "   TransactionID CustomerID CustomerName CustomerCity ProductName    \n",
       "1   1            81         Customer 39  Chicago      Adidas Jacket  \n",
       "2   2            13         Customer 63  Philadelphia Samsung TV     \n",
       "3   3            18         Customer 98  Chicago      Adidas Jacket  \n",
       "4   4            76         Customer 39  Houston      Dell Laptop    \n",
       "5   5            86         Customer 45  New York     Nike Shoes     \n",
       "6   6            37         Customer 8   Philadelphia Adidas Jacket  \n",
       "7   7            45         Customer 83  New York     HP Printer     \n",
       "8   8            11         Customer 60  Chicago      Samsung TV     \n",
       "9   9            13         Customer 69  Houston      iPhone 14      \n",
       "10 10            55         Customer 24  Chicago      Sony Headphones\n",
       "   ProductCategory TotalAmount Quantity TransactionDate\n",
       "1  Clothing         632.39     3        2024-03-09     \n",
       "2  Music            114.28     3        2024-12-08     \n",
       "3  Computers       1289.24     7        2024-01-22     \n",
       "4  Computers        885.40     2        2024-07-02     \n",
       "5  Computers         95.95     5        2024-08-13     \n",
       "6  Electronics     1126.34     2        2024-04-15     \n",
       "7  Clothing          78.71     3        2024-05-02     \n",
       "8  Music            871.93     3        2024-04-30     \n",
       "9  Music           1347.56     8        2024-08-08     \n",
       "10 Books            633.51     1        2024-06-23     "
      ]
     },
     "metadata": {},
     "output_type": "display_data"
    },
    {
     "name": "stdout",
     "output_type": "stream",
     "text": [
      "\n",
      "Dataset structure:\n",
      "'data.frame':\t500 obs. of  9 variables:\n",
      " $ TransactionID  : int  1 2 3 4 5 6 7 8 9 10 ...\n",
      " $ CustomerID     : int  81 13 18 76 86 37 45 11 13 55 ...\n",
      " $ CustomerName   : chr  \"Customer 39\" \"Customer 63\" \"Customer 98\" \"Customer 39\" ...\n",
      " $ CustomerCity   : chr  \"Chicago\" \"Philadelphia\" \"Chicago\" \"Houston\" ...\n",
      " $ ProductName    : chr  \"Adidas Jacket\" \"Samsung TV\" \"Adidas Jacket\" \"Dell Laptop\" ...\n",
      " $ ProductCategory: chr  \"Clothing\" \"Music\" \"Computers\" \"Computers\" ...\n",
      " $ TotalAmount    : num  632 114 1289 885 96 ...\n",
      " $ Quantity       : int  3 3 7 2 5 2 3 3 8 1 ...\n",
      " $ TransactionDate: chr  \"2024-03-09\" \"2024-12-08\" \"2024-01-22\" \"2024-07-02\" ...\n"
     ]
    },
    {
     "data": {
      "text/plain": [
       " TransactionID     CustomerID     CustomerName       CustomerCity      \n",
       " Min.   :  1.0   Min.   :  1.00   Length:500         Length:500        \n",
       " 1st Qu.:125.8   1st Qu.: 27.00   Class :character   Class :character  \n",
       " Median :250.5   Median : 52.00   Mode  :character   Mode  :character  \n",
       " Mean   :250.5   Mean   : 51.26                                        \n",
       " 3rd Qu.:375.2   3rd Qu.: 77.00                                        \n",
       " Max.   :500.0   Max.   :100.00                                        \n",
       " ProductName        ProductCategory     TotalAmount         Quantity   \n",
       " Length:500         Length:500         Min.   :  27.66   Min.   :1.00  \n",
       " Class :character   Class :character   1st Qu.: 393.81   1st Qu.:2.00  \n",
       " Mode  :character   Mode  :character   Median : 763.64   Median :4.00  \n",
       "                                       Mean   : 758.69   Mean   :4.44  \n",
       "                                       3rd Qu.:1137.10   3rd Qu.:7.00  \n",
       "                                       Max.   :1499.52   Max.   :8.00  \n",
       " TransactionDate   \n",
       " Length:500        \n",
       " Class :character  \n",
       " Mode  :character  \n",
       "                   \n",
       "                   \n",
       "                   "
      ]
     },
     "metadata": {},
     "output_type": "display_data"
    },
    {
     "name": "stdout",
     "output_type": "stream",
     "text": [
      "\n",
      "Column names:\n"
     ]
    },
    {
     "data": {
      "text/html": [
       "<style>\n",
       ".list-inline {list-style: none; margin:0; padding: 0}\n",
       ".list-inline>li {display: inline-block}\n",
       ".list-inline>li:not(:last-child)::after {content: \"\\00b7\"; padding: 0 .5ex}\n",
       "</style>\n",
       "<ol class=list-inline><li>'TransactionID'</li><li>'CustomerID'</li><li>'CustomerName'</li><li>'CustomerCity'</li><li>'ProductName'</li><li>'ProductCategory'</li><li>'TotalAmount'</li><li>'Quantity'</li><li>'TransactionDate'</li></ol>\n"
      ],
      "text/latex": [
       "\\begin{enumerate*}\n",
       "\\item 'TransactionID'\n",
       "\\item 'CustomerID'\n",
       "\\item 'CustomerName'\n",
       "\\item 'CustomerCity'\n",
       "\\item 'ProductName'\n",
       "\\item 'ProductCategory'\n",
       "\\item 'TotalAmount'\n",
       "\\item 'Quantity'\n",
       "\\item 'TransactionDate'\n",
       "\\end{enumerate*}\n"
      ],
      "text/markdown": [
       "1. 'TransactionID'\n",
       "2. 'CustomerID'\n",
       "3. 'CustomerName'\n",
       "4. 'CustomerCity'\n",
       "5. 'ProductName'\n",
       "6. 'ProductCategory'\n",
       "7. 'TotalAmount'\n",
       "8. 'Quantity'\n",
       "9. 'TransactionDate'\n",
       "\n",
       "\n"
      ],
      "text/plain": [
       "[1] \"TransactionID\"   \"CustomerID\"      \"CustomerName\"    \"CustomerCity\"   \n",
       "[5] \"ProductName\"     \"ProductCategory\" \"TotalAmount\"     \"Quantity\"       \n",
       "[9] \"TransactionDate\""
      ]
     },
     "metadata": {},
     "output_type": "display_data"
    }
   ],
   "source": [
    "# Task 1.2: Initial Exploration\n",
    "\n",
    "# Display the first 10 rows\n",
    "cat(\"First 10 rows of the dataset:\\n\")\n",
    "# Your code here:\n",
    "head(transactions, 10)\n",
    "\n",
    "# Check the structure of the dataset\n",
    "cat(\"\\nDataset structure:\\n\")\n",
    "# Your code here:\n",
    "str(transactions)\n",
    "summary(transactions)\n",
    "\n",
    "# Display column names and their data types\n",
    "cat(\"\\nColumn names:\\n\")\n",
    "# Your code here:\n",
    "colnames(transactions)\n"
   ]
  },
  {
   "cell_type": "markdown",
   "id": "31f0a977",
   "metadata": {},
   "source": [
    "## Part 2: Column Selection with `select()`\n",
    "\n",
    "Practice different methods of selecting columns from your dataset."
   ]
  },
  {
   "cell_type": "code",
   "execution_count": 93,
   "id": "5d4fa53b",
   "metadata": {
    "vscode": {
     "languageId": "r"
    }
   },
   "outputs": [
    {
     "name": "stdout",
     "output_type": "stream",
     "text": [
      "[1] \"Basic Selection\"\n",
      "    TransactionID CustomerID     ProductName TotalAmount\n",
      "1               1         81   Adidas Jacket      632.39\n",
      "2               2         13      Samsung TV      114.28\n",
      "3               3         18   Adidas Jacket     1289.24\n",
      "4               4         76     Dell Laptop      885.40\n",
      "5               5         86      Nike Shoes       95.95\n",
      "6               6         37   Adidas Jacket     1126.34\n",
      "7               7         45      HP Printer       78.71\n",
      "8               8         11      Samsung TV      871.93\n",
      "9               9         13       iPhone 14     1347.56\n",
      "10             10         55 Sony Headphones      633.51\n",
      "11             11        100      HP Printer      572.43\n",
      "12             12         89   Adidas Jacket     1208.43\n",
      "13             13         56     Dell Laptop     1337.94\n",
      "14             14         19      Nike Shoes       32.29\n",
      "15             15          1      Nike Shoes      602.79\n",
      "16             16         78      HP Printer     1476.49\n",
      "17             17          2 Sony Headphones      520.91\n",
      "18             18          5     Dell Laptop     1012.57\n",
      "19             19          7 Sony Headphones      834.08\n",
      "20             20         27     Dell Laptop     1176.07\n",
      "21             21         31      HP Printer      259.44\n",
      "22             22         80       iPhone 14     1424.99\n",
      "23             23         57      HP Printer      897.63\n",
      "24             24         88      Nike Shoes     1168.05\n",
      "25             25         97       iPhone 14      999.24\n",
      "26             26         34       iPhone 14      504.96\n",
      "27             27          6      HP Printer       88.45\n",
      "28             28         54   Adidas Jacket      703.88\n",
      "29             29          3      Samsung TV     1392.13\n",
      "30             30         98      Samsung TV      294.82\n",
      "31             31         11   Adidas Jacket     1219.37\n",
      "32             32         21 Sony Headphones     1416.35\n",
      "33             33         60       iPhone 14       82.98\n",
      "34             34         62   Adidas Jacket      887.44\n",
      "35             35         24      Samsung TV      536.69\n",
      "36             36         47   Adidas Jacket      871.96\n",
      "37             37         66      Nike Shoes     1080.28\n",
      "38             38         55   Adidas Jacket       42.27\n",
      "39             39         36 Sony Headphones       50.25\n",
      "40             40         30 Sony Headphones      744.85\n",
      "41             41         60       iPhone 14      247.98\n",
      "42             42         59 Sony Headphones     1158.09\n",
      "43             43         27 Sony Headphones      817.22\n",
      "44             44          7       iPhone 14     1136.57\n",
      "45             45          1       iPhone 14     1206.70\n",
      "46             46         40      HP Printer      229.81\n",
      "47             47         87      HP Printer       57.22\n",
      "48             48         71       iPhone 14      935.30\n",
      "49             49         17     Dell Laptop     1220.59\n",
      "50             50         92      Nike Shoes      808.93\n",
      "51             51         20      HP Printer     1397.43\n",
      "52             52         31   Adidas Jacket     1246.39\n",
      "53             53         32   Adidas Jacket      502.72\n",
      "54             54         67      Nike Shoes      475.40\n",
      "55             55         17 Sony Headphones      962.80\n",
      "56             56         43   Adidas Jacket      124.82\n",
      "57             57         84      Samsung TV      487.41\n",
      "58             58         31   Adidas Jacket      952.01\n",
      "59             59          9      Samsung TV      941.02\n",
      "60             60         61      Nike Shoes      597.96\n",
      "61             61         87     Dell Laptop     1491.96\n",
      "62             62         32      Samsung TV     1424.38\n",
      "63             63         88   Adidas Jacket      216.52\n",
      "64             64          9   Adidas Jacket      913.13\n",
      "65             65         94      Samsung TV      781.85\n",
      "66             66         21   Adidas Jacket      960.77\n",
      "67             67         23     Dell Laptop      304.06\n",
      "68             68         28     Dell Laptop      140.76\n",
      "69             69         70      Nike Shoes     1370.57\n",
      "70             70         61       iPhone 14     1150.96\n",
      "71             71         20     Dell Laptop     1411.95\n",
      "72             72         15 Sony Headphones      162.98\n",
      "73             73         50 Sony Headphones      906.83\n",
      "74             74         57      Samsung TV      875.19\n",
      "75             75         91   Adidas Jacket      378.17\n",
      "76             76         35       iPhone 14      963.57\n",
      "77             77         21      Samsung TV      329.58\n",
      "78             78         59       iPhone 14     1124.15\n",
      "79             79         52       iPhone 14      178.22\n",
      "80             80         12       iPhone 14     1184.65\n",
      "81             81         86     Dell Laptop       96.83\n",
      "82             82         69   Adidas Jacket      570.82\n",
      "83             83         65       iPhone 14      144.20\n",
      "84             84         41       iPhone 14     1471.59\n",
      "85             85         49      Nike Shoes      420.46\n",
      "86             86         28   Adidas Jacket      722.72\n",
      "87             87          3     Dell Laptop      191.97\n",
      "88             88         96   Adidas Jacket      695.21\n",
      "89             89         61      HP Printer      973.31\n",
      "90             90         12     Dell Laptop      931.78\n",
      "91             91         54      HP Printer      721.24\n",
      "92             92          6       iPhone 14     1099.52\n",
      "93             93         36   Adidas Jacket      676.93\n",
      "94             94         85     Dell Laptop      521.86\n",
      "95             95         51   Adidas Jacket     1349.26\n",
      "96             96         90      Samsung TV      721.25\n",
      "97             97          3   Adidas Jacket       68.81\n",
      "98             98         46      Nike Shoes      789.00\n",
      "99             99         54      Nike Shoes      129.02\n",
      "100           100         66     Dell Laptop     1375.08\n",
      "101           101          9      Nike Shoes      507.05\n",
      "102           102         38 Sony Headphones      312.95\n",
      "103           103         41 Sony Headphones      486.77\n",
      "104           104         52     Dell Laptop     1428.17\n",
      "105           105         81       iPhone 14      562.58\n",
      "106           106         85     Dell Laptop      216.81\n",
      "107           107         85   Adidas Jacket      565.04\n",
      "108           108         41      HP Printer       91.71\n",
      "109           109         60   Adidas Jacket     1016.07\n",
      "110           110         51      Samsung TV      537.87\n",
      "111           111         53       iPhone 14      431.35\n",
      "112           112         99      Nike Shoes      316.79\n",
      "113           113         98      HP Printer      443.01\n",
      "114           114          3      Nike Shoes      445.93\n",
      "115           115         20 Sony Headphones      768.14\n",
      "116           116         22       iPhone 14      133.85\n",
      "117           117         88   Adidas Jacket      268.52\n",
      "118           118         43     Dell Laptop     1064.21\n",
      "119           119         49      HP Printer     1043.34\n",
      "120           120         29      Samsung TV      681.53\n",
      "121           121         76 Sony Headphones      847.13\n",
      "122           122         35   Adidas Jacket     1414.89\n",
      "123           123         87   Adidas Jacket      292.25\n",
      "124           124         78     Dell Laptop     1144.26\n",
      "125           125         57       iPhone 14     1075.51\n",
      "126           126         31     Dell Laptop      179.96\n",
      "127           127         54   Adidas Jacket     1208.75\n",
      "128           128         39   Adidas Jacket     1031.13\n",
      "129           129         88   Adidas Jacket     1231.83\n",
      "130           130         40     Dell Laptop      103.93\n",
      "131           131         98   Adidas Jacket      869.20\n",
      "132           132         80   Adidas Jacket      649.12\n",
      "133           133         65 Sony Headphones     1326.27\n",
      "134           134         22      Samsung TV      887.40\n",
      "135           135         14      HP Printer      641.43\n",
      "136           136         99      HP Printer     1487.44\n",
      "137           137         14      HP Printer      463.25\n",
      "138           138         59 Sony Headphones     1274.62\n",
      "139           139         67 Sony Headphones     1154.62\n",
      "140           140         70      Samsung TV      488.05\n",
      "141           141         45   Adidas Jacket      965.32\n",
      "142           142         75 Sony Headphones     1442.78\n",
      "143           143         91      Samsung TV      688.87\n",
      "144           144         93      Samsung TV     1368.21\n",
      "145           145         11       iPhone 14      289.58\n",
      "146           146         66       iPhone 14      361.78\n",
      "147           147         60      Nike Shoes     1001.65\n",
      "148           148         76       iPhone 14     1192.22\n",
      "149           149         57     Dell Laptop      253.81\n",
      "150           150         64 Sony Headphones     1499.52\n",
      "151           151         88 Sony Headphones      827.63\n",
      "152           152         24      HP Printer     1109.74\n",
      "153           153         97      Samsung TV     1169.26\n",
      "154           154         18 Sony Headphones     1491.62\n",
      "155           155         21      Nike Shoes      491.01\n",
      "156           156         86      Samsung TV      493.53\n",
      "157           157         83      Nike Shoes      134.15\n",
      "158           158         66   Adidas Jacket     1280.20\n",
      "159           159         81 Sony Headphones      491.87\n",
      "160           160         55       iPhone 14      163.68\n",
      "161           161         63      Nike Shoes      299.82\n",
      "162           162         68      Samsung TV      414.51\n",
      "163           163         74      Nike Shoes      770.42\n",
      "164           164         43      Samsung TV     1118.96\n",
      "165           165         14     Dell Laptop      499.81\n",
      "166           166         78     Dell Laptop      696.28\n",
      "167           167         26 Sony Headphones      997.09\n",
      "168           168         11      HP Printer      625.59\n",
      "169           169         89 Sony Headphones     1322.63\n",
      "170           170         95      Samsung TV     1365.47\n",
      "171           171         31 Sony Headphones      242.68\n",
      "172           172         31     Dell Laptop     1220.70\n",
      "173           173         43      Nike Shoes     1064.89\n",
      "174           174        100      HP Printer      713.34\n",
      "175           175         89      Nike Shoes      587.96\n",
      "176           176         31      HP Printer      162.68\n",
      "177           177         87 Sony Headphones      425.44\n",
      "178           178         42 Sony Headphones     1345.51\n",
      "179           179         14      HP Printer      927.99\n",
      "180           180         50     Dell Laptop     1316.78\n",
      "181           181         17       iPhone 14      314.66\n",
      "182           182         70       iPhone 14      453.17\n",
      "183           183          5      Nike Shoes      616.11\n",
      "184           184         83      HP Printer     1374.15\n",
      "185           185         43 Sony Headphones      726.74\n",
      "186           186         76      Samsung TV      569.47\n",
      "187           187         64       iPhone 14     1488.95\n",
      "188           188         35 Sony Headphones      782.31\n",
      "189           189         15      Nike Shoes     1176.03\n",
      "190           190         56     Dell Laptop      180.03\n",
      "191           191        100      HP Printer      628.76\n",
      "192           192         86 Sony Headphones      462.32\n",
      "193           193         77     Dell Laptop      490.24\n",
      "194           194         78      Samsung TV      245.20\n",
      "195           195         70   Adidas Jacket      869.66\n",
      "196           196         11      Nike Shoes     1428.35\n",
      "197           197         30     Dell Laptop      571.85\n",
      "198           198         67   Adidas Jacket     1126.44\n",
      "199           199          9      Nike Shoes      322.00\n",
      "200           200         15      Samsung TV      867.61\n",
      "201           201          7       iPhone 14      979.23\n",
      "202           202          4   Adidas Jacket     1154.91\n",
      "203           203         32   Adidas Jacket     1011.00\n",
      "204           204         12 Sony Headphones      446.82\n",
      "205           205         89   Adidas Jacket      644.95\n",
      "206           206         96       iPhone 14      525.91\n",
      "207           207         79       iPhone 14      904.49\n",
      "208           208         30       iPhone 14       81.27\n",
      "209           209         27      HP Printer      551.16\n",
      "210           210          8     Dell Laptop      890.11\n",
      "211           211         27      Samsung TV      391.17\n",
      "212           212         79     Dell Laptop     1437.43\n",
      "213           213         70       iPhone 14      866.79\n",
      "214           214         49      Nike Shoes      514.75\n",
      "215           215         51      HP Printer      847.22\n",
      "216           216         33      Samsung TV      493.89\n",
      "217           217         85      HP Printer     1393.51\n",
      "218           218         24     Dell Laptop      957.29\n",
      "219           219         23   Adidas Jacket      235.06\n",
      "220           220         78      Samsung TV      820.90\n",
      "221           221         24 Sony Headphones      424.71\n",
      "222           222         62      Samsung TV      623.34\n",
      "223           223         41 Sony Headphones      529.65\n",
      "224           224         31      Samsung TV      116.06\n",
      "225           225          3 Sony Headphones     1133.73\n",
      "226           226         85     Dell Laptop      215.33\n",
      "227           227         20   Adidas Jacket      667.50\n",
      "228           228         28   Adidas Jacket      459.68\n",
      "229           229         37     Dell Laptop     1138.70\n",
      "230           230          5      Samsung TV      533.08\n",
      "231           231         16   Adidas Jacket     1445.64\n",
      "232           232         91     Dell Laptop     1470.30\n",
      "233           233         23   Adidas Jacket      825.83\n",
      "234           234         96 Sony Headphones     1034.45\n",
      "235           235         94      Samsung TV      940.10\n",
      "236           236          6     Dell Laptop     1024.36\n",
      "237           237         62      HP Printer     1403.78\n",
      "238           238          7 Sony Headphones      589.71\n",
      "239           239         79      HP Printer      769.09\n",
      "240           240         62      HP Printer      178.55\n",
      "241           241         18     Dell Laptop      491.55\n",
      "242           242         41 Sony Headphones      261.12\n",
      "243           243         46 Sony Headphones     1423.52\n",
      "244           244         79     Dell Laptop     1453.94\n",
      "245           245          3      Nike Shoes       82.05\n",
      "246           246         51   Adidas Jacket     1060.51\n",
      "247           247          7      HP Printer      546.49\n",
      "248           248         98   Adidas Jacket     1015.05\n",
      "249           249         95       iPhone 14      394.12\n",
      "250           250          1      HP Printer      237.79\n",
      "251           251         70   Adidas Jacket      277.70\n",
      "252           252         64     Dell Laptop      305.12\n",
      "253           253         30     Dell Laptop     1153.30\n",
      "254           254         67      HP Printer     1027.15\n",
      "255           255         78     Dell Laptop      535.79\n",
      "256           256         51     Dell Laptop      883.89\n",
      "257           257          5      HP Printer     1249.30\n",
      "258           258         43       iPhone 14      720.84\n",
      "259           259         23   Adidas Jacket     1333.49\n",
      "260           260         56   Adidas Jacket      521.39\n",
      "261           261         27      HP Printer     1422.31\n",
      "262           262          4      Nike Shoes      360.99\n",
      "263           263         69   Adidas Jacket      330.42\n",
      "264           264         76      Nike Shoes     1365.62\n",
      "265           265         79      Samsung TV      715.21\n",
      "266           266         33     Dell Laptop     1376.67\n",
      "267           267         90   Adidas Jacket      216.36\n",
      "268           268         71      HP Printer     1105.76\n",
      "269           269         88      Nike Shoes      238.90\n",
      "270           270         84   Adidas Jacket      406.06\n",
      "271           271         89      HP Printer     1070.57\n",
      "272           272         20      HP Printer      895.48\n",
      "273           273         81 Sony Headphones      304.54\n",
      "274           274         91   Adidas Jacket     1132.28\n",
      "275           275        100      Samsung TV       36.37\n",
      "276           276         35   Adidas Jacket      314.71\n",
      "277           277         48      HP Printer     1286.07\n",
      "278           278         73      Samsung TV     1270.57\n",
      "279           279         93      Samsung TV      654.35\n",
      "280           280         17      HP Printer       77.02\n",
      "281           281          7 Sony Headphones     1295.11\n",
      "282           282         48     Dell Laptop       37.33\n",
      "283           283         77      Samsung TV      728.18\n",
      "284           284         82      Nike Shoes     1094.01\n",
      "285           285         40      HP Printer      518.49\n",
      "286           286         34      Nike Shoes     1380.35\n",
      "287           287         11      Samsung TV      695.28\n",
      "288           288         78       iPhone 14      393.37\n",
      "289           289         16      Samsung TV      936.96\n",
      "290           290         19       iPhone 14      266.67\n",
      "291           291          9   Adidas Jacket     1316.92\n",
      "292           292         29      HP Printer      834.69\n",
      "293           293         73       iPhone 14     1284.33\n",
      "294           294          2      Nike Shoes     1104.69\n",
      "295           295         40      Nike Shoes      938.98\n",
      "296           296         56      Samsung TV       54.92\n",
      "297           297          7       iPhone 14     1487.43\n",
      "298           298         57      Samsung TV      599.98\n",
      "299           299         36      Samsung TV      708.66\n",
      "300           300         85      Samsung TV      664.62\n",
      "301           301         23 Sony Headphones      206.62\n",
      "302           302        100      Samsung TV      238.82\n",
      "303           303         95      Nike Shoes      992.51\n",
      "304           304         28   Adidas Jacket      502.01\n",
      "305           305         80      HP Printer      583.86\n",
      "306           306         89      Nike Shoes      184.44\n",
      "307           307         36      HP Printer      116.39\n",
      "308           308          9      HP Printer      726.38\n",
      "309           309         67      Nike Shoes      792.50\n",
      "310           310         60      Nike Shoes      323.46\n",
      "311           311         55     Dell Laptop      996.67\n",
      "312           312         10      Samsung TV     1364.74\n",
      "313           313         36      Samsung TV      803.93\n",
      "314           314         73     Dell Laptop      798.78\n",
      "315           315          1   Adidas Jacket       27.66\n",
      "316           316         65 Sony Headphones      697.35\n",
      "317           317         73      Nike Shoes     1407.51\n",
      "318           318         27       iPhone 14       64.58\n",
      "319           319         31      Samsung TV      411.66\n",
      "320           320         67       iPhone 14      435.02\n",
      "321           321         43      Nike Shoes     1230.65\n",
      "322           322         83 Sony Headphones      539.52\n",
      "323           323         33 Sony Headphones      357.76\n",
      "324           324          6       iPhone 14      139.91\n",
      "325           325         26      Samsung TV       41.59\n",
      "326           326         43      Nike Shoes      760.69\n",
      "327           327         52      Samsung TV     1165.45\n",
      "328           328         24      Nike Shoes     1349.46\n",
      "329           329         20      Nike Shoes      619.12\n",
      "330           330         52   Adidas Jacket      469.06\n",
      "331           331         52      Nike Shoes      286.74\n",
      "332           332         42   Adidas Jacket      361.38\n",
      "333           333         54      Nike Shoes      179.93\n",
      "334           334         77      Samsung TV     1240.02\n",
      "335           335         64     Dell Laptop     1318.32\n",
      "336           336         82      Nike Shoes     1220.45\n",
      "337           337         29   Adidas Jacket     1027.87\n",
      "338           338         29      Samsung TV      784.41\n",
      "339           339         41      Nike Shoes      220.97\n",
      "340           340         54     Dell Laptop     1005.32\n",
      "341           341         47 Sony Headphones     1469.91\n",
      "342           342         16      Nike Shoes      318.62\n",
      "343           343         68     Dell Laptop     1007.80\n",
      "344           344         54 Sony Headphones     1222.95\n",
      "345           345         44      Samsung TV     1446.47\n",
      "346           346         64      Nike Shoes      916.81\n",
      "347           347         54     Dell Laptop      910.46\n",
      "348           348         94       iPhone 14     1011.00\n",
      "349           349         11 Sony Headphones      504.76\n",
      "350           350          1      Nike Shoes      738.02\n",
      "351           351         47      Nike Shoes      246.96\n",
      "352           352         92 Sony Headphones      313.01\n",
      "353           353         72     Dell Laptop      469.41\n",
      "354           354         74     Dell Laptop      478.25\n",
      "355           355          6      Samsung TV     1228.42\n",
      "356           356         92 Sony Headphones       84.31\n",
      "357           357         53     Dell Laptop      676.41\n",
      "358           358         15 Sony Headphones      808.13\n",
      "359           359         90      HP Printer     1082.86\n",
      "360           360         39       iPhone 14       84.03\n",
      "361           361         52       iPhone 14     1038.23\n",
      "362           362         47      HP Printer     1170.46\n",
      "363           363         69      HP Printer      765.57\n",
      "364           364         67      HP Printer      739.94\n",
      "365           365         40 Sony Headphones     1004.78\n",
      "366           366         77 Sony Headphones     1246.05\n",
      "367           367         60      Samsung TV     1294.14\n",
      "368           368         59      Samsung TV     1168.35\n",
      "369           369         61     Dell Laptop     1051.02\n",
      "370           370         82      HP Printer      185.86\n",
      "371           371         50      Samsung TV      167.74\n",
      "372           372         29       iPhone 14      984.27\n",
      "373           373         24      HP Printer      897.16\n",
      "374           374         82     Dell Laptop     1076.88\n",
      "375           375         51      HP Printer      986.80\n",
      "376           376         81   Adidas Jacket     1204.99\n",
      "377           377         32      HP Printer      878.24\n",
      "378           378         53       iPhone 14     1484.31\n",
      "379           379        100 Sony Headphones      154.62\n",
      "380           380         70      HP Printer     1075.90\n",
      "381           381         22      Nike Shoes      192.98\n",
      "382           382         16       iPhone 14     1163.50\n",
      "383           383         74      Samsung TV      594.66\n",
      "384           384         42     Dell Laptop     1459.42\n",
      "385           385         28       iPhone 14     1183.48\n",
      "386           386         72      Nike Shoes     1167.23\n",
      "387           387         91      HP Printer      929.88\n",
      "388           388         43      HP Printer     1291.34\n",
      "389           389         89 Sony Headphones      584.87\n",
      "390           390         91      Samsung TV     1211.88\n",
      "391           391         18      HP Printer      861.80\n",
      "392           392         67      Nike Shoes     1416.41\n",
      "393           393         98      Samsung TV     1327.99\n",
      "394           394         13      Nike Shoes      413.87\n",
      "395           395         31      Nike Shoes      171.84\n",
      "396           396         78   Adidas Jacket     1146.78\n",
      "397           397         99       iPhone 14      633.92\n",
      "398           398         29      Nike Shoes      404.37\n",
      "399           399         15 Sony Headphones      462.73\n",
      "400           400         30       iPhone 14      396.36\n",
      "401           401         13     Dell Laptop      937.37\n",
      "402           402         44      Nike Shoes      712.66\n",
      "403           403         12      Nike Shoes       69.27\n",
      "404           404         86     Dell Laptop     1326.42\n",
      "405           405          6       iPhone 14      232.78\n",
      "406           406          7       iPhone 14       60.21\n",
      "407           407         30       iPhone 14      366.07\n",
      "408           408         32      Nike Shoes     1070.39\n",
      "409           409          1      HP Printer      371.68\n",
      "410           410        100      Samsung TV     1100.77\n",
      "411           411         91      HP Printer     1025.02\n",
      "412           412         49   Adidas Jacket      288.41\n",
      "413           413         44 Sony Headphones      119.46\n",
      "414           414         12   Adidas Jacket      848.47\n",
      "415           415         57   Adidas Jacket      167.33\n",
      "416           416         39      Nike Shoes       95.61\n",
      "417           417         70     Dell Laptop      118.64\n",
      "418           418         63      Nike Shoes     1161.95\n",
      "419           419         39      HP Printer     1055.07\n",
      "420           420         24   Adidas Jacket      670.50\n",
      "421           421          4      Nike Shoes     1425.00\n",
      "422           422         68       iPhone 14      915.05\n",
      "423           423         40     Dell Laptop      838.98\n",
      "424           424          4 Sony Headphones      887.00\n",
      "425           425         81 Sony Headphones     1257.96\n",
      "426           426         86     Dell Laptop      806.39\n",
      "427           427         91 Sony Headphones      161.21\n",
      "428           428         73      Samsung TV     1433.74\n",
      "429           429         25      HP Printer      761.71\n",
      "430           430         36       iPhone 14     1433.31\n",
      "431           431         42   Adidas Jacket      351.05\n",
      "432           432         62 Sony Headphones     1259.22\n",
      "433           433         38      Samsung TV      148.13\n",
      "434           434         93      Nike Shoes      312.11\n",
      "435           435         58      Samsung TV     1277.05\n",
      "436           436          4 Sony Headphones      521.01\n",
      "437           437         82   Adidas Jacket      450.55\n",
      "438           438         15   Adidas Jacket      264.62\n",
      "439           439         91     Dell Laptop     1032.76\n",
      "440           440         99 Sony Headphones      498.09\n",
      "441           441         75 Sony Headphones      152.75\n",
      "442           442         36     Dell Laptop      290.43\n",
      "443           443         72       iPhone 14      818.87\n",
      "444           444         92      HP Printer      393.96\n",
      "445           445         57       iPhone 14      662.13\n",
      "446           446         65      Samsung TV     1426.21\n",
      "447           447         92      HP Printer      160.64\n",
      "448           448          5      HP Printer      432.08\n",
      "449           449         13       iPhone 14      981.39\n",
      "450           450         69      HP Printer     1340.49\n",
      "451           451         18      HP Printer      972.35\n",
      "452           452         33     Dell Laptop      722.45\n",
      "453           453         66       iPhone 14      300.76\n",
      "454           454         23      HP Printer      554.39\n",
      "455           455          3       iPhone 14     1411.17\n",
      "456           456         81     Dell Laptop      378.96\n",
      "457           457         30 Sony Headphones     1296.63\n",
      "458           458         63       iPhone 14     1223.24\n",
      "459           459         95 Sony Headphones     1144.37\n",
      "460           460         73      Nike Shoes      691.52\n",
      "461           461         74     Dell Laptop      104.27\n",
      "462           462         73 Sony Headphones       67.87\n",
      "463           463         30      HP Printer      512.48\n",
      "464           464         84      HP Printer       42.53\n",
      "465           465         50      HP Printer      975.72\n",
      "466           466         70 Sony Headphones      142.28\n",
      "467           467         38      Nike Shoes     1326.34\n",
      "468           468         32     Dell Laptop     1456.72\n",
      "469           469         85 Sony Headphones     1400.34\n",
      "470           470         26      HP Printer     1098.41\n",
      "471           471         20      Nike Shoes      574.09\n",
      "472           472         35      Samsung TV      422.83\n",
      "473           473         76      HP Printer       40.69\n",
      "474           474        100     Dell Laptop     1284.31\n",
      "475           475         95       iPhone 14     1396.56\n",
      "476           476          3 Sony Headphones      908.84\n",
      "477           477         72   Adidas Jacket       35.01\n",
      "478           478         84      Nike Shoes     1382.09\n",
      "479           479         83     Dell Laptop     1473.27\n",
      "480           480         70      Nike Shoes      527.65\n",
      "481           481         67      HP Printer     1155.99\n",
      "482           482         95      Samsung TV      121.22\n",
      "483           483         94 Sony Headphones     1148.92\n",
      "484           484         50      Nike Shoes     1313.62\n",
      "485           485         73 Sony Headphones      442.03\n",
      "486           486         30      Samsung TV      347.76\n",
      "487           487         68      Samsung TV      519.51\n",
      "488           488         82 Sony Headphones      850.32\n",
      "489           489         60       iPhone 14      536.64\n",
      "490           490         83      Nike Shoes      709.80\n",
      "491           491         14      HP Printer     1007.09\n",
      "492           492         66   Adidas Jacket      362.38\n",
      "493           493         75     Dell Laptop     1082.04\n",
      "494           494         93      Samsung TV     1368.35\n",
      "495           495         48 Sony Headphones      915.25\n",
      "496           496         92       iPhone 14      865.93\n",
      "497           497         21      Nike Shoes       90.06\n",
      "498           498         89 Sony Headphones      700.12\n",
      "499           499         77      HP Printer     1388.73\n",
      "500           500         84   Adidas Jacket      304.36\n"
     ]
    }
   ],
   "source": [
    "# Task 2.1: Basic Selection\n",
    "# Create 'basic_info' with TransactionID, CustomerID, ProductName, and TotalAmount\n",
    "\n",
    "basic_info <- transactions %>%\n",
    "  # Your code here:\n",
    "  select(TransactionID, CustomerID, ProductName, TotalAmount) \n",
    "\n",
    "\n",
    "# Display the result\n",
    "print(\"Basic Selection\")\n",
    "print(basic_info)"
   ]
  },
  {
   "cell_type": "code",
   "execution_count": 94,
   "id": "2a0479a9",
   "metadata": {
    "vscode": {
     "languageId": "r"
    }
   },
   "outputs": [
    {
     "name": "stdout",
     "output_type": "stream",
     "text": [
      "Customer details (first 5 rows):\n"
     ]
    },
    {
     "data": {
      "text/html": [
       "<table class=\"dataframe\">\n",
       "<caption>A data.frame: 5 × 3</caption>\n",
       "<thead>\n",
       "\t<tr><th></th><th scope=col>CustomerID</th><th scope=col>CustomerName</th><th scope=col>CustomerCity</th></tr>\n",
       "\t<tr><th></th><th scope=col>&lt;int&gt;</th><th scope=col>&lt;chr&gt;</th><th scope=col>&lt;chr&gt;</th></tr>\n",
       "</thead>\n",
       "<tbody>\n",
       "\t<tr><th scope=row>1</th><td>81</td><td>Customer 39</td><td>Chicago     </td></tr>\n",
       "\t<tr><th scope=row>2</th><td>13</td><td>Customer 63</td><td>Philadelphia</td></tr>\n",
       "\t<tr><th scope=row>3</th><td>18</td><td>Customer 98</td><td>Chicago     </td></tr>\n",
       "\t<tr><th scope=row>4</th><td>76</td><td>Customer 39</td><td>Houston     </td></tr>\n",
       "\t<tr><th scope=row>5</th><td>86</td><td>Customer 45</td><td>New York    </td></tr>\n",
       "</tbody>\n",
       "</table>\n"
      ],
      "text/latex": [
       "A data.frame: 5 × 3\n",
       "\\begin{tabular}{r|lll}\n",
       "  & CustomerID & CustomerName & CustomerCity\\\\\n",
       "  & <int> & <chr> & <chr>\\\\\n",
       "\\hline\n",
       "\t1 & 81 & Customer 39 & Chicago     \\\\\n",
       "\t2 & 13 & Customer 63 & Philadelphia\\\\\n",
       "\t3 & 18 & Customer 98 & Chicago     \\\\\n",
       "\t4 & 76 & Customer 39 & Houston     \\\\\n",
       "\t5 & 86 & Customer 45 & New York    \\\\\n",
       "\\end{tabular}\n"
      ],
      "text/markdown": [
       "\n",
       "A data.frame: 5 × 3\n",
       "\n",
       "| <!--/--> | CustomerID &lt;int&gt; | CustomerName &lt;chr&gt; | CustomerCity &lt;chr&gt; |\n",
       "|---|---|---|---|\n",
       "| 1 | 81 | Customer 39 | Chicago      |\n",
       "| 2 | 13 | Customer 63 | Philadelphia |\n",
       "| 3 | 18 | Customer 98 | Chicago      |\n",
       "| 4 | 76 | Customer 39 | Houston      |\n",
       "| 5 | 86 | Customer 45 | New York     |\n",
       "\n"
      ],
      "text/plain": [
       "  CustomerID CustomerName CustomerCity\n",
       "1 81         Customer 39  Chicago     \n",
       "2 13         Customer 63  Philadelphia\n",
       "3 18         Customer 98  Chicago     \n",
       "4 76         Customer 39  Houston     \n",
       "5 86         Customer 45  New York    "
      ]
     },
     "metadata": {},
     "output_type": "display_data"
    }
   ],
   "source": [
    "# Task 2.2: Range Selection\n",
    "# Create 'customer_details' with all columns from CustomerID to CustomerCity (inclusive)\n",
    "\n",
    "customer_details <- transactions %>%\n",
    "  # Your code here:\n",
    "  select(CustomerID:CustomerCity)\n",
    "\n",
    "\n",
    "# Display the result\n",
    "cat(\"Customer details (first 5 rows):\\n\")\n",
    "head(customer_details, 5)"
   ]
  },
  {
   "cell_type": "code",
   "execution_count": 95,
   "id": "a527a514",
   "metadata": {
    "vscode": {
     "languageId": "r"
    }
   },
   "outputs": [
    {
     "name": "stdout",
     "output_type": "stream",
     "text": [
      "Date/Time columns:  \n",
      "Amount columns: TotalAmount \n"
     ]
    }
   ],
   "source": [
    "# Task 2.3: Pattern-Based Selection\n",
    "\n",
    "# Create 'date_columns' with columns starting with \"Date\" or \"Time\"\n",
    "date_columns <- transactions %>%\n",
    "  # Your code here:\n",
    "select(starts_with(\"Date\") | starts_with(\"Time\"))\n",
    "\n",
    "# Create 'amount_columns' with columns containing the word \"Amount\"\n",
    "amount_columns <- transactions %>%\n",
    "  # Your code here:\n",
    "select(contains(\"Amount\"))\n",
    "\n",
    "# Display column names for verification\n",
    "cat(\"Date/Time columns:\", names(date_columns), \"\\n\")\n",
    "cat(\"Amount columns:\", names(amount_columns), \"\\n\")"
   ]
  },
  {
   "cell_type": "code",
   "execution_count": 76,
   "id": "3d2ea46d",
   "metadata": {
    "vscode": {
     "languageId": "r"
    }
   },
   "outputs": [
    {
     "name": "stdout",
     "output_type": "stream",
     "text": [
      "Columns after removing IDs: CustomerName CustomerCity ProductName ProductCategory TotalAmount Quantity TransactionDate \n",
      "Number of columns: 7 \n"
     ]
    }
   ],
   "source": [
    "# Task 2.4: Exclusion Selection\n",
    "# Create 'no_ids' without TransactionID and CustomerID columns\n",
    "\n",
    "no_ids <- transactions %>%\n",
    "  # Your code here:\n",
    "select(-TransactionID, -CustomerID)\n",
    "\n",
    "# Display column names for verification\n",
    "cat(\"Columns after removing IDs:\", names(no_ids), \"\\n\")\n",
    "cat(\"Number of columns:\", ncol(no_ids), \"\\n\")"
   ]
  },
  {
   "cell_type": "markdown",
   "id": "a7c6a58e",
   "metadata": {},
   "source": [
    "## Part 3: Row Filtering with `filter()`\n",
    "\n",
    "Learn to filter rows based on various conditions."
   ]
  },
  {
   "cell_type": "code",
   "execution_count": 96,
   "id": "a7f8a827",
   "metadata": {
    "vscode": {
     "languageId": "r"
    }
   },
   "outputs": [
    {
     "name": "stdout",
     "output_type": "stream",
     "text": [
      "High value transactions (>$100): 400 rows\n",
      "Electronics transactions: 93 rows\n"
     ]
    }
   ],
   "source": [
    "# Task 3.1: Single Condition Filtering\n",
    "\n",
    "# Filter transactions with TotalAmount > $100\n",
    "high_value_transactions <- transactions %>%\n",
    "  # Your code here:\n",
    "filter(TransactionID > 100)\n",
    "\n",
    "# Filter transactions from \"Electronics\" category\n",
    "electronics_transactions <- transactions %>%\n",
    "  # Your code here:\n",
    "filter(ProductCategory == \"Electronics\")\n",
    "\n",
    "# Display results\n",
    "cat(\"High value transactions (>$100):\", nrow(high_value_transactions), \"rows\\n\")\n",
    "cat(\"Electronics transactions:\", nrow(electronics_transactions), \"rows\\n\")"
   ]
  },
  {
   "cell_type": "code",
   "execution_count": 78,
   "id": "db2b0bd5",
   "metadata": {
    "vscode": {
     "languageId": "r"
    }
   },
   "outputs": [
    {
     "name": "stdout",
     "output_type": "stream",
     "text": [
      "NY bulk purchases: 75 rows\n"
     ]
    },
    {
     "data": {
      "text/html": [
       "<table class=\"dataframe\">\n",
       "<caption>A data.frame: 6 × 9</caption>\n",
       "<thead>\n",
       "\t<tr><th></th><th scope=col>TransactionID</th><th scope=col>CustomerID</th><th scope=col>CustomerName</th><th scope=col>CustomerCity</th><th scope=col>ProductName</th><th scope=col>ProductCategory</th><th scope=col>TotalAmount</th><th scope=col>Quantity</th><th scope=col>TransactionDate</th></tr>\n",
       "\t<tr><th></th><th scope=col>&lt;int&gt;</th><th scope=col>&lt;int&gt;</th><th scope=col>&lt;chr&gt;</th><th scope=col>&lt;chr&gt;</th><th scope=col>&lt;chr&gt;</th><th scope=col>&lt;chr&gt;</th><th scope=col>&lt;dbl&gt;</th><th scope=col>&lt;int&gt;</th><th scope=col>&lt;chr&gt;</th></tr>\n",
       "</thead>\n",
       "<tbody>\n",
       "\t<tr><th scope=row>1</th><td> 5</td><td>86</td><td>Customer 45</td><td>New York</td><td>Nike Shoes</td><td>Computers</td><td>  95.95</td><td>5</td><td>2024-08-13</td></tr>\n",
       "\t<tr><th scope=row>2</th><td> 7</td><td>45</td><td>Customer 83</td><td>New York</td><td>HP Printer</td><td>Clothing </td><td>  78.71</td><td>3</td><td>2024-05-02</td></tr>\n",
       "\t<tr><th scope=row>3</th><td>15</td><td> 1</td><td>Customer 52</td><td>New York</td><td>Nike Shoes</td><td>Clothing </td><td> 602.79</td><td>5</td><td>2024-01-05</td></tr>\n",
       "\t<tr><th scope=row>4</th><td>22</td><td>80</td><td>Customer 4 </td><td>New York</td><td>iPhone 14 </td><td>Books    </td><td>1424.99</td><td>7</td><td>2024-02-01</td></tr>\n",
       "\t<tr><th scope=row>5</th><td>25</td><td>97</td><td>Customer 17</td><td>New York</td><td>iPhone 14 </td><td>Movies   </td><td> 999.24</td><td>2</td><td>2024-02-03</td></tr>\n",
       "\t<tr><th scope=row>6</th><td>29</td><td> 3</td><td>Customer 23</td><td>New York</td><td>Samsung TV</td><td>Clothing </td><td>1392.13</td><td>5</td><td>2024-04-30</td></tr>\n",
       "</tbody>\n",
       "</table>\n"
      ],
      "text/latex": [
       "A data.frame: 6 × 9\n",
       "\\begin{tabular}{r|lllllllll}\n",
       "  & TransactionID & CustomerID & CustomerName & CustomerCity & ProductName & ProductCategory & TotalAmount & Quantity & TransactionDate\\\\\n",
       "  & <int> & <int> & <chr> & <chr> & <chr> & <chr> & <dbl> & <int> & <chr>\\\\\n",
       "\\hline\n",
       "\t1 &  5 & 86 & Customer 45 & New York & Nike Shoes & Computers &   95.95 & 5 & 2024-08-13\\\\\n",
       "\t2 &  7 & 45 & Customer 83 & New York & HP Printer & Clothing  &   78.71 & 3 & 2024-05-02\\\\\n",
       "\t3 & 15 &  1 & Customer 52 & New York & Nike Shoes & Clothing  &  602.79 & 5 & 2024-01-05\\\\\n",
       "\t4 & 22 & 80 & Customer 4  & New York & iPhone 14  & Books     & 1424.99 & 7 & 2024-02-01\\\\\n",
       "\t5 & 25 & 97 & Customer 17 & New York & iPhone 14  & Movies    &  999.24 & 2 & 2024-02-03\\\\\n",
       "\t6 & 29 &  3 & Customer 23 & New York & Samsung TV & Clothing  & 1392.13 & 5 & 2024-04-30\\\\\n",
       "\\end{tabular}\n"
      ],
      "text/markdown": [
       "\n",
       "A data.frame: 6 × 9\n",
       "\n",
       "| <!--/--> | TransactionID &lt;int&gt; | CustomerID &lt;int&gt; | CustomerName &lt;chr&gt; | CustomerCity &lt;chr&gt; | ProductName &lt;chr&gt; | ProductCategory &lt;chr&gt; | TotalAmount &lt;dbl&gt; | Quantity &lt;int&gt; | TransactionDate &lt;chr&gt; |\n",
       "|---|---|---|---|---|---|---|---|---|---|\n",
       "| 1 |  5 | 86 | Customer 45 | New York | Nike Shoes | Computers |   95.95 | 5 | 2024-08-13 |\n",
       "| 2 |  7 | 45 | Customer 83 | New York | HP Printer | Clothing  |   78.71 | 3 | 2024-05-02 |\n",
       "| 3 | 15 |  1 | Customer 52 | New York | Nike Shoes | Clothing  |  602.79 | 5 | 2024-01-05 |\n",
       "| 4 | 22 | 80 | Customer 4  | New York | iPhone 14  | Books     | 1424.99 | 7 | 2024-02-01 |\n",
       "| 5 | 25 | 97 | Customer 17 | New York | iPhone 14  | Movies    |  999.24 | 2 | 2024-02-03 |\n",
       "| 6 | 29 |  3 | Customer 23 | New York | Samsung TV | Clothing  | 1392.13 | 5 | 2024-04-30 |\n",
       "\n"
      ],
      "text/plain": [
       "  TransactionID CustomerID CustomerName CustomerCity ProductName\n",
       "1  5            86         Customer 45  New York     Nike Shoes \n",
       "2  7            45         Customer 83  New York     HP Printer \n",
       "3 15             1         Customer 52  New York     Nike Shoes \n",
       "4 22            80         Customer 4   New York     iPhone 14  \n",
       "5 25            97         Customer 17  New York     iPhone 14  \n",
       "6 29             3         Customer 23  New York     Samsung TV \n",
       "  ProductCategory TotalAmount Quantity TransactionDate\n",
       "1 Computers         95.95     5        2024-08-13     \n",
       "2 Clothing          78.71     3        2024-05-02     \n",
       "3 Clothing         602.79     5        2024-01-05     \n",
       "4 Books           1424.99     7        2024-02-01     \n",
       "5 Movies           999.24     2        2024-02-03     \n",
       "6 Clothing        1392.13     5        2024-04-30     "
      ]
     },
     "metadata": {},
     "output_type": "display_data"
    }
   ],
   "source": [
    "# Task 3.2: Multiple Condition Filtering (AND)\n",
    "# Filter for TotalAmount > $50 AND Quantity > 1 AND CustomerCity == \"New York\"\n",
    "\n",
    "ny_bulk_purchases <- transactions %>%\n",
    "  # Your code here:\n",
    "filter(TotalAmount > 50 & Quantity > 1 & CustomerCity == \"New York\")\n",
    "\n",
    "# Display results\n",
    "cat(\"NY bulk purchases:\", nrow(ny_bulk_purchases), \"rows\\n\")\n",
    "if(nrow(ny_bulk_purchases) > 0) {\n",
    "  head(ny_bulk_purchases)\n",
    "}"
   ]
  },
  {
   "cell_type": "code",
   "execution_count": 79,
   "id": "4803780d",
   "metadata": {
    "vscode": {
     "languageId": "r"
    }
   },
   "outputs": [
    {
     "name": "stdout",
     "output_type": "stream",
     "text": [
      "Entertainment transactions: 227 rows\n"
     ]
    },
    {
     "data": {
      "text/html": [
       "<table class=\"dataframe\">\n",
       "<caption>A data.frame: 6 × 9</caption>\n",
       "<thead>\n",
       "\t<tr><th></th><th scope=col>TransactionID</th><th scope=col>CustomerID</th><th scope=col>CustomerName</th><th scope=col>CustomerCity</th><th scope=col>ProductName</th><th scope=col>ProductCategory</th><th scope=col>TotalAmount</th><th scope=col>Quantity</th><th scope=col>TransactionDate</th></tr>\n",
       "\t<tr><th></th><th scope=col>&lt;int&gt;</th><th scope=col>&lt;int&gt;</th><th scope=col>&lt;chr&gt;</th><th scope=col>&lt;chr&gt;</th><th scope=col>&lt;chr&gt;</th><th scope=col>&lt;chr&gt;</th><th scope=col>&lt;dbl&gt;</th><th scope=col>&lt;int&gt;</th><th scope=col>&lt;chr&gt;</th></tr>\n",
       "</thead>\n",
       "<tbody>\n",
       "\t<tr><th scope=row>1</th><td> 2</td><td> 13</td><td>Customer 63 </td><td>Philadelphia</td><td>Samsung TV     </td><td>Music </td><td> 114.28</td><td>3</td><td>2024-12-08</td></tr>\n",
       "\t<tr><th scope=row>2</th><td> 8</td><td> 11</td><td>Customer 60 </td><td>Chicago     </td><td>Samsung TV     </td><td>Music </td><td> 871.93</td><td>3</td><td>2024-04-30</td></tr>\n",
       "\t<tr><th scope=row>3</th><td> 9</td><td> 13</td><td>Customer 69 </td><td>Houston     </td><td>iPhone 14      </td><td>Music </td><td>1347.56</td><td>8</td><td>2024-08-08</td></tr>\n",
       "\t<tr><th scope=row>4</th><td>10</td><td> 55</td><td>Customer 24 </td><td>Chicago     </td><td>Sony Headphones</td><td>Books </td><td> 633.51</td><td>1</td><td>2024-06-23</td></tr>\n",
       "\t<tr><th scope=row>5</th><td>11</td><td>100</td><td>Customer 95 </td><td>Philadelphia</td><td>HP Printer     </td><td>Movies</td><td> 572.43</td><td>6</td><td>2024-12-09</td></tr>\n",
       "\t<tr><th scope=row>6</th><td>14</td><td> 19</td><td>Customer 100</td><td>Phoenix     </td><td>Nike Shoes     </td><td>Books </td><td>  32.29</td><td>3</td><td>2024-12-11</td></tr>\n",
       "</tbody>\n",
       "</table>\n"
      ],
      "text/latex": [
       "A data.frame: 6 × 9\n",
       "\\begin{tabular}{r|lllllllll}\n",
       "  & TransactionID & CustomerID & CustomerName & CustomerCity & ProductName & ProductCategory & TotalAmount & Quantity & TransactionDate\\\\\n",
       "  & <int> & <int> & <chr> & <chr> & <chr> & <chr> & <dbl> & <int> & <chr>\\\\\n",
       "\\hline\n",
       "\t1 &  2 &  13 & Customer 63  & Philadelphia & Samsung TV      & Music  &  114.28 & 3 & 2024-12-08\\\\\n",
       "\t2 &  8 &  11 & Customer 60  & Chicago      & Samsung TV      & Music  &  871.93 & 3 & 2024-04-30\\\\\n",
       "\t3 &  9 &  13 & Customer 69  & Houston      & iPhone 14       & Music  & 1347.56 & 8 & 2024-08-08\\\\\n",
       "\t4 & 10 &  55 & Customer 24  & Chicago      & Sony Headphones & Books  &  633.51 & 1 & 2024-06-23\\\\\n",
       "\t5 & 11 & 100 & Customer 95  & Philadelphia & HP Printer      & Movies &  572.43 & 6 & 2024-12-09\\\\\n",
       "\t6 & 14 &  19 & Customer 100 & Phoenix      & Nike Shoes      & Books  &   32.29 & 3 & 2024-12-11\\\\\n",
       "\\end{tabular}\n"
      ],
      "text/markdown": [
       "\n",
       "A data.frame: 6 × 9\n",
       "\n",
       "| <!--/--> | TransactionID &lt;int&gt; | CustomerID &lt;int&gt; | CustomerName &lt;chr&gt; | CustomerCity &lt;chr&gt; | ProductName &lt;chr&gt; | ProductCategory &lt;chr&gt; | TotalAmount &lt;dbl&gt; | Quantity &lt;int&gt; | TransactionDate &lt;chr&gt; |\n",
       "|---|---|---|---|---|---|---|---|---|---|\n",
       "| 1 |  2 |  13 | Customer 63  | Philadelphia | Samsung TV      | Music  |  114.28 | 3 | 2024-12-08 |\n",
       "| 2 |  8 |  11 | Customer 60  | Chicago      | Samsung TV      | Music  |  871.93 | 3 | 2024-04-30 |\n",
       "| 3 |  9 |  13 | Customer 69  | Houston      | iPhone 14       | Music  | 1347.56 | 8 | 2024-08-08 |\n",
       "| 4 | 10 |  55 | Customer 24  | Chicago      | Sony Headphones | Books  |  633.51 | 1 | 2024-06-23 |\n",
       "| 5 | 11 | 100 | Customer 95  | Philadelphia | HP Printer      | Movies |  572.43 | 6 | 2024-12-09 |\n",
       "| 6 | 14 |  19 | Customer 100 | Phoenix      | Nike Shoes      | Books  |   32.29 | 3 | 2024-12-11 |\n",
       "\n"
      ],
      "text/plain": [
       "  TransactionID CustomerID CustomerName CustomerCity ProductName    \n",
       "1  2             13        Customer 63  Philadelphia Samsung TV     \n",
       "2  8             11        Customer 60  Chicago      Samsung TV     \n",
       "3  9             13        Customer 69  Houston      iPhone 14      \n",
       "4 10             55        Customer 24  Chicago      Sony Headphones\n",
       "5 11            100        Customer 95  Philadelphia HP Printer     \n",
       "6 14             19        Customer 100 Phoenix      Nike Shoes     \n",
       "  ProductCategory TotalAmount Quantity TransactionDate\n",
       "1 Music            114.28     3        2024-12-08     \n",
       "2 Music            871.93     3        2024-04-30     \n",
       "3 Music           1347.56     8        2024-08-08     \n",
       "4 Books            633.51     1        2024-06-23     \n",
       "5 Movies           572.43     6        2024-12-09     \n",
       "6 Books             32.29     3        2024-12-11     "
      ]
     },
     "metadata": {},
     "output_type": "display_data"
    }
   ],
   "source": [
    "# Task 3.3: Multiple Condition Filtering (OR)\n",
    "# Filter for ProductCategory = \"Books\" OR \"Music\" OR \"Movies\"\n",
    "\n",
    "entertainment_transactions <- transactions %>%\n",
    "  # Your code here:\n",
    "filter(ProductCategory == \"Books\" | ProductCategory == \"Music\" | ProductCategory == \"Movies\")\n",
    "\n",
    "# Display results\n",
    "cat(\"Entertainment transactions:\", nrow(entertainment_transactions), \"rows\\n\")\n",
    "if(nrow(entertainment_transactions) > 0) {\n",
    "  head(entertainment_transactions)\n",
    "}"
   ]
  },
  {
   "cell_type": "code",
   "execution_count": 80,
   "id": "301437cf",
   "metadata": {
    "vscode": {
     "languageId": "r"
    }
   },
   "outputs": [
    {
     "name": "stdout",
     "output_type": "stream",
     "text": [
      "March 2024 transactions: 41 rows\n"
     ]
    }
   ],
   "source": [
    "# Task 3.4: Date-Based Filtering\n",
    "# Filter transactions from March 2024\n",
    "# Note: Adjust the date format and column name based on your actual data\n",
    "\n",
    "march_transactions <- transactions %>%\n",
    "  # Your code here (you may need to convert date format first):\n",
    "filter(as.Date(TransactionDate) >= as.Date(\"2024-03-01\") & as.Date(TransactionDate)<= as.Date (\"2024-03-31\"))\n",
    "\n",
    "# Display results\n",
    "cat(\"March 2024 transactions:\", nrow(march_transactions), \"rows\\n\")\n"
   ]
  },
  {
   "cell_type": "code",
   "execution_count": 81,
   "id": "33b63b1c",
   "metadata": {
    "vscode": {
     "languageId": "r"
    }
   },
   "outputs": [
    {
     "name": "stdout",
     "output_type": "stream",
     "text": [
      "Customers who bought both Electronics and Clothing: 9 customers\n"
     ]
    }
   ],
   "source": [
    "# Task 3.5: Advanced Filtering Challenge\n",
    "# Find customers who made purchases in both \"Electronics\" AND \"Clothing\" categories\n",
    "# Hint: This requires identifying customers who appear in both categories\n",
    "\n",
    "# Step 1: Find customers who bought Electronics\n",
    "electronics_customers <- transactions %>%\n",
    "  # Your code here:\n",
    "filter(ProductCategory == \"Electronics\")\n",
    "\n",
    "# Step 2: Find customers who bought Clothing\n",
    "clothing_customers <- transactions %>%\n",
    "  # Your code here:\n",
    "filter(ProductCategory == \"Clothing\")\n",
    "\n",
    "# Step 3: Find customers who bought both\n",
    "both_categories_customers <- transactions %>% # Your code here:\n",
    "filter(ProductCategory == \"Electronics\" & ProductCategory == \"Clothing\")\n",
    "\n",
    "# Display results\n",
    "cat(\"Customers who bought both Electronics and Clothing:\", length(both_categories_customers), \"customers\\n\")"
   ]
  },
  {
   "cell_type": "markdown",
   "id": "811d4adb",
   "metadata": {},
   "source": [
    "## Part 4: Data Sorting with `arrange()`\n",
    "\n",
    "Practice sorting data by single and multiple columns."
   ]
  },
  {
   "cell_type": "code",
   "execution_count": 82,
   "id": "92a25956",
   "metadata": {
    "vscode": {
     "languageId": "r"
    }
   },
   "outputs": [
    {
     "name": "stdout",
     "output_type": "stream",
     "text": [
      "Lowest amounts:\n"
     ]
    },
    {
     "data": {
      "text/html": [
       "<table class=\"dataframe\">\n",
       "<caption>A data.frame: 5 × 3</caption>\n",
       "<thead>\n",
       "\t<tr><th></th><th scope=col>CustomerName</th><th scope=col>ProductName</th><th scope=col>TotalAmount</th></tr>\n",
       "\t<tr><th></th><th scope=col>&lt;chr&gt;</th><th scope=col>&lt;chr&gt;</th><th scope=col>&lt;dbl&gt;</th></tr>\n",
       "</thead>\n",
       "<tbody>\n",
       "\t<tr><th scope=row>1</th><td>Customer 95 </td><td>Adidas Jacket</td><td>27.66</td></tr>\n",
       "\t<tr><th scope=row>2</th><td>Customer 100</td><td>Nike Shoes   </td><td>32.29</td></tr>\n",
       "\t<tr><th scope=row>3</th><td>Customer 50 </td><td>Adidas Jacket</td><td>35.01</td></tr>\n",
       "\t<tr><th scope=row>4</th><td>Customer 83 </td><td>Samsung TV   </td><td>36.37</td></tr>\n",
       "\t<tr><th scope=row>5</th><td>Customer 69 </td><td>Dell Laptop  </td><td>37.33</td></tr>\n",
       "</tbody>\n",
       "</table>\n"
      ],
      "text/latex": [
       "A data.frame: 5 × 3\n",
       "\\begin{tabular}{r|lll}\n",
       "  & CustomerName & ProductName & TotalAmount\\\\\n",
       "  & <chr> & <chr> & <dbl>\\\\\n",
       "\\hline\n",
       "\t1 & Customer 95  & Adidas Jacket & 27.66\\\\\n",
       "\t2 & Customer 100 & Nike Shoes    & 32.29\\\\\n",
       "\t3 & Customer 50  & Adidas Jacket & 35.01\\\\\n",
       "\t4 & Customer 83  & Samsung TV    & 36.37\\\\\n",
       "\t5 & Customer 69  & Dell Laptop   & 37.33\\\\\n",
       "\\end{tabular}\n"
      ],
      "text/markdown": [
       "\n",
       "A data.frame: 5 × 3\n",
       "\n",
       "| <!--/--> | CustomerName &lt;chr&gt; | ProductName &lt;chr&gt; | TotalAmount &lt;dbl&gt; |\n",
       "|---|---|---|---|\n",
       "| 1 | Customer 95  | Adidas Jacket | 27.66 |\n",
       "| 2 | Customer 100 | Nike Shoes    | 32.29 |\n",
       "| 3 | Customer 50  | Adidas Jacket | 35.01 |\n",
       "| 4 | Customer 83  | Samsung TV    | 36.37 |\n",
       "| 5 | Customer 69  | Dell Laptop   | 37.33 |\n",
       "\n"
      ],
      "text/plain": [
       "  CustomerName ProductName   TotalAmount\n",
       "1 Customer 95  Adidas Jacket 27.66      \n",
       "2 Customer 100 Nike Shoes    32.29      \n",
       "3 Customer 50  Adidas Jacket 35.01      \n",
       "4 Customer 83  Samsung TV    36.37      \n",
       "5 Customer 69  Dell Laptop   37.33      "
      ]
     },
     "metadata": {},
     "output_type": "display_data"
    },
    {
     "name": "stdout",
     "output_type": "stream",
     "text": [
      "\n",
      "Highest amounts:\n"
     ]
    },
    {
     "data": {
      "text/html": [
       "<table class=\"dataframe\">\n",
       "<caption>A data.frame: 5 × 3</caption>\n",
       "<thead>\n",
       "\t<tr><th></th><th scope=col>CustomerName</th><th scope=col>ProductName</th><th scope=col>TotalAmount</th></tr>\n",
       "\t<tr><th></th><th scope=col>&lt;chr&gt;</th><th scope=col>&lt;chr&gt;</th><th scope=col>&lt;dbl&gt;</th></tr>\n",
       "</thead>\n",
       "<tbody>\n",
       "\t<tr><th scope=row>1</th><td>Customer 60</td><td>Sony Headphones</td><td>1499.52</td></tr>\n",
       "\t<tr><th scope=row>2</th><td>Customer 28</td><td>Dell Laptop    </td><td>1491.96</td></tr>\n",
       "\t<tr><th scope=row>3</th><td>Customer 81</td><td>Sony Headphones</td><td>1491.62</td></tr>\n",
       "\t<tr><th scope=row>4</th><td>Customer 79</td><td>iPhone 14      </td><td>1488.95</td></tr>\n",
       "\t<tr><th scope=row>5</th><td>Customer 20</td><td>HP Printer     </td><td>1487.44</td></tr>\n",
       "</tbody>\n",
       "</table>\n"
      ],
      "text/latex": [
       "A data.frame: 5 × 3\n",
       "\\begin{tabular}{r|lll}\n",
       "  & CustomerName & ProductName & TotalAmount\\\\\n",
       "  & <chr> & <chr> & <dbl>\\\\\n",
       "\\hline\n",
       "\t1 & Customer 60 & Sony Headphones & 1499.52\\\\\n",
       "\t2 & Customer 28 & Dell Laptop     & 1491.96\\\\\n",
       "\t3 & Customer 81 & Sony Headphones & 1491.62\\\\\n",
       "\t4 & Customer 79 & iPhone 14       & 1488.95\\\\\n",
       "\t5 & Customer 20 & HP Printer      & 1487.44\\\\\n",
       "\\end{tabular}\n"
      ],
      "text/markdown": [
       "\n",
       "A data.frame: 5 × 3\n",
       "\n",
       "| <!--/--> | CustomerName &lt;chr&gt; | ProductName &lt;chr&gt; | TotalAmount &lt;dbl&gt; |\n",
       "|---|---|---|---|\n",
       "| 1 | Customer 60 | Sony Headphones | 1499.52 |\n",
       "| 2 | Customer 28 | Dell Laptop     | 1491.96 |\n",
       "| 3 | Customer 81 | Sony Headphones | 1491.62 |\n",
       "| 4 | Customer 79 | iPhone 14       | 1488.95 |\n",
       "| 5 | Customer 20 | HP Printer      | 1487.44 |\n",
       "\n"
      ],
      "text/plain": [
       "  CustomerName ProductName     TotalAmount\n",
       "1 Customer 60  Sony Headphones 1499.52    \n",
       "2 Customer 28  Dell Laptop     1491.96    \n",
       "3 Customer 81  Sony Headphones 1491.62    \n",
       "4 Customer 79  iPhone 14       1488.95    \n",
       "5 Customer 20  HP Printer      1487.44    "
      ]
     },
     "metadata": {},
     "output_type": "display_data"
    }
   ],
   "source": [
    "# Task 4.1: Single Column Sorting\n",
    "\n",
    "# Sort by TotalAmount ascending\n",
    "transactions_by_amount_asc <- transactions %>%\n",
    "  # Your code here:\n",
    "arrange(TotalAmount)\n",
    "\n",
    "# Sort by TotalAmount descending\n",
    "transactions_by_amount_desc <- transactions %>%\n",
    "  # Your code here:\n",
    "arrange(desc(TotalAmount))\n",
    "\n",
    "# Display top 5 of each\n",
    "cat(\"Lowest amounts:\\n\")\n",
    "head(transactions_by_amount_asc %>% select(CustomerName, ProductName, TotalAmount), 5)\n",
    "\n",
    "cat(\"\\nHighest amounts:\\n\")\n",
    "head(transactions_by_amount_desc %>% select(CustomerName, ProductName, TotalAmount), 5)"
   ]
  },
  {
   "cell_type": "code",
   "execution_count": 83,
   "id": "1c2809ad",
   "metadata": {
    "vscode": {
     "languageId": "r"
    }
   },
   "outputs": [
    {
     "name": "stdout",
     "output_type": "stream",
     "text": [
      "Transactions sorted by city, then amount:\n"
     ]
    },
    {
     "data": {
      "text/html": [
       "<table class=\"dataframe\">\n",
       "<caption>A data.frame: 10 × 4</caption>\n",
       "<thead>\n",
       "\t<tr><th></th><th scope=col>CustomerCity</th><th scope=col>CustomerName</th><th scope=col>ProductName</th><th scope=col>TotalAmount</th></tr>\n",
       "\t<tr><th></th><th scope=col>&lt;chr&gt;</th><th scope=col>&lt;chr&gt;</th><th scope=col>&lt;chr&gt;</th><th scope=col>&lt;dbl&gt;</th></tr>\n",
       "</thead>\n",
       "<tbody>\n",
       "\t<tr><th scope=row>1</th><td>Chicago</td><td>Customer 18</td><td>iPhone 14      </td><td>1487.43</td></tr>\n",
       "\t<tr><th scope=row>2</th><td>Chicago</td><td>Customer 20</td><td>HP Printer     </td><td>1476.49</td></tr>\n",
       "\t<tr><th scope=row>3</th><td>Chicago</td><td>Customer 97</td><td>Dell Laptop    </td><td>1459.42</td></tr>\n",
       "\t<tr><th scope=row>4</th><td>Chicago</td><td>Customer 49</td><td>Dell Laptop    </td><td>1453.94</td></tr>\n",
       "\t<tr><th scope=row>5</th><td>Chicago</td><td>Customer 70</td><td>Nike Shoes     </td><td>1428.35</td></tr>\n",
       "\t<tr><th scope=row>6</th><td>Chicago</td><td>Customer 71</td><td>Samsung TV     </td><td>1424.38</td></tr>\n",
       "\t<tr><th scope=row>7</th><td>Chicago</td><td>Customer 62</td><td>Sony Headphones</td><td>1416.35</td></tr>\n",
       "\t<tr><th scope=row>8</th><td>Chicago</td><td>Customer 11</td><td>Nike Shoes     </td><td>1407.51</td></tr>\n",
       "\t<tr><th scope=row>9</th><td>Chicago</td><td>Customer 99</td><td>HP Printer     </td><td>1388.73</td></tr>\n",
       "\t<tr><th scope=row>10</th><td>Chicago</td><td>Customer 49</td><td>Nike Shoes     </td><td>1370.57</td></tr>\n",
       "</tbody>\n",
       "</table>\n"
      ],
      "text/latex": [
       "A data.frame: 10 × 4\n",
       "\\begin{tabular}{r|llll}\n",
       "  & CustomerCity & CustomerName & ProductName & TotalAmount\\\\\n",
       "  & <chr> & <chr> & <chr> & <dbl>\\\\\n",
       "\\hline\n",
       "\t1 & Chicago & Customer 18 & iPhone 14       & 1487.43\\\\\n",
       "\t2 & Chicago & Customer 20 & HP Printer      & 1476.49\\\\\n",
       "\t3 & Chicago & Customer 97 & Dell Laptop     & 1459.42\\\\\n",
       "\t4 & Chicago & Customer 49 & Dell Laptop     & 1453.94\\\\\n",
       "\t5 & Chicago & Customer 70 & Nike Shoes      & 1428.35\\\\\n",
       "\t6 & Chicago & Customer 71 & Samsung TV      & 1424.38\\\\\n",
       "\t7 & Chicago & Customer 62 & Sony Headphones & 1416.35\\\\\n",
       "\t8 & Chicago & Customer 11 & Nike Shoes      & 1407.51\\\\\n",
       "\t9 & Chicago & Customer 99 & HP Printer      & 1388.73\\\\\n",
       "\t10 & Chicago & Customer 49 & Nike Shoes      & 1370.57\\\\\n",
       "\\end{tabular}\n"
      ],
      "text/markdown": [
       "\n",
       "A data.frame: 10 × 4\n",
       "\n",
       "| <!--/--> | CustomerCity &lt;chr&gt; | CustomerName &lt;chr&gt; | ProductName &lt;chr&gt; | TotalAmount &lt;dbl&gt; |\n",
       "|---|---|---|---|---|\n",
       "| 1 | Chicago | Customer 18 | iPhone 14       | 1487.43 |\n",
       "| 2 | Chicago | Customer 20 | HP Printer      | 1476.49 |\n",
       "| 3 | Chicago | Customer 97 | Dell Laptop     | 1459.42 |\n",
       "| 4 | Chicago | Customer 49 | Dell Laptop     | 1453.94 |\n",
       "| 5 | Chicago | Customer 70 | Nike Shoes      | 1428.35 |\n",
       "| 6 | Chicago | Customer 71 | Samsung TV      | 1424.38 |\n",
       "| 7 | Chicago | Customer 62 | Sony Headphones | 1416.35 |\n",
       "| 8 | Chicago | Customer 11 | Nike Shoes      | 1407.51 |\n",
       "| 9 | Chicago | Customer 99 | HP Printer      | 1388.73 |\n",
       "| 10 | Chicago | Customer 49 | Nike Shoes      | 1370.57 |\n",
       "\n"
      ],
      "text/plain": [
       "   CustomerCity CustomerName ProductName     TotalAmount\n",
       "1  Chicago      Customer 18  iPhone 14       1487.43    \n",
       "2  Chicago      Customer 20  HP Printer      1476.49    \n",
       "3  Chicago      Customer 97  Dell Laptop     1459.42    \n",
       "4  Chicago      Customer 49  Dell Laptop     1453.94    \n",
       "5  Chicago      Customer 70  Nike Shoes      1428.35    \n",
       "6  Chicago      Customer 71  Samsung TV      1424.38    \n",
       "7  Chicago      Customer 62  Sony Headphones 1416.35    \n",
       "8  Chicago      Customer 11  Nike Shoes      1407.51    \n",
       "9  Chicago      Customer 99  HP Printer      1388.73    \n",
       "10 Chicago      Customer 49  Nike Shoes      1370.57    "
      ]
     },
     "metadata": {},
     "output_type": "display_data"
    }
   ],
   "source": [
    "# Task 4.2: Multiple Column Sorting\n",
    "# Sort by CustomerCity (ascending), then by TotalAmount (descending)\n",
    "\n",
    "transactions_by_city_amount <- transactions %>%\n",
    "  # Your code here:\n",
    "arrange(CustomerCity, desc(TotalAmount))\n",
    "\n",
    "# Display first 10 rows\n",
    "cat(\"Transactions sorted by city, then amount:\\n\")\n",
    "head(transactions_by_city_amount %>% select(CustomerCity, CustomerName, ProductName, TotalAmount), 10)"
   ]
  },
  {
   "cell_type": "code",
   "execution_count": 84,
   "id": "7fb4ec10",
   "metadata": {
    "vscode": {
     "languageId": "r"
    }
   },
   "outputs": [
    {
     "name": "stdout",
     "output_type": "stream",
     "text": [
      "Earliest transactions:\n"
     ]
    },
    {
     "data": {
      "text/html": [
       "<table class=\"dataframe\">\n",
       "<caption>A data.frame: 5 × 4</caption>\n",
       "<thead>\n",
       "\t<tr><th></th><th scope=col>TransactionDate</th><th scope=col>CustomerName</th><th scope=col>ProductName</th><th scope=col>TotalAmount</th></tr>\n",
       "\t<tr><th></th><th scope=col>&lt;chr&gt;</th><th scope=col>&lt;chr&gt;</th><th scope=col>&lt;chr&gt;</th><th scope=col>&lt;dbl&gt;</th></tr>\n",
       "</thead>\n",
       "<tbody>\n",
       "\t<tr><th scope=row>1</th><td>2024-01-01</td><td>Customer 62</td><td>Sony Headphones</td><td>1416.35</td></tr>\n",
       "\t<tr><th scope=row>2</th><td>2024-01-01</td><td>Customer 99</td><td>Sony Headphones</td><td>1326.27</td></tr>\n",
       "\t<tr><th scope=row>3</th><td>2024-01-02</td><td>Customer 83</td><td>Nike Shoes     </td><td> 808.93</td></tr>\n",
       "\t<tr><th scope=row>4</th><td>2024-01-02</td><td>Customer 61</td><td>Adidas Jacket  </td><td> 502.72</td></tr>\n",
       "\t<tr><th scope=row>5</th><td>2024-01-02</td><td>Customer 69</td><td>Adidas Jacket  </td><td> 277.70</td></tr>\n",
       "</tbody>\n",
       "</table>\n"
      ],
      "text/latex": [
       "A data.frame: 5 × 4\n",
       "\\begin{tabular}{r|llll}\n",
       "  & TransactionDate & CustomerName & ProductName & TotalAmount\\\\\n",
       "  & <chr> & <chr> & <chr> & <dbl>\\\\\n",
       "\\hline\n",
       "\t1 & 2024-01-01 & Customer 62 & Sony Headphones & 1416.35\\\\\n",
       "\t2 & 2024-01-01 & Customer 99 & Sony Headphones & 1326.27\\\\\n",
       "\t3 & 2024-01-02 & Customer 83 & Nike Shoes      &  808.93\\\\\n",
       "\t4 & 2024-01-02 & Customer 61 & Adidas Jacket   &  502.72\\\\\n",
       "\t5 & 2024-01-02 & Customer 69 & Adidas Jacket   &  277.70\\\\\n",
       "\\end{tabular}\n"
      ],
      "text/markdown": [
       "\n",
       "A data.frame: 5 × 4\n",
       "\n",
       "| <!--/--> | TransactionDate &lt;chr&gt; | CustomerName &lt;chr&gt; | ProductName &lt;chr&gt; | TotalAmount &lt;dbl&gt; |\n",
       "|---|---|---|---|---|\n",
       "| 1 | 2024-01-01 | Customer 62 | Sony Headphones | 1416.35 |\n",
       "| 2 | 2024-01-01 | Customer 99 | Sony Headphones | 1326.27 |\n",
       "| 3 | 2024-01-02 | Customer 83 | Nike Shoes      |  808.93 |\n",
       "| 4 | 2024-01-02 | Customer 61 | Adidas Jacket   |  502.72 |\n",
       "| 5 | 2024-01-02 | Customer 69 | Adidas Jacket   |  277.70 |\n",
       "\n"
      ],
      "text/plain": [
       "  TransactionDate CustomerName ProductName     TotalAmount\n",
       "1 2024-01-01      Customer 62  Sony Headphones 1416.35    \n",
       "2 2024-01-01      Customer 99  Sony Headphones 1326.27    \n",
       "3 2024-01-02      Customer 83  Nike Shoes       808.93    \n",
       "4 2024-01-02      Customer 61  Adidas Jacket    502.72    \n",
       "5 2024-01-02      Customer 69  Adidas Jacket    277.70    "
      ]
     },
     "metadata": {},
     "output_type": "display_data"
    }
   ],
   "source": [
    "# Task 4.3: Date-Based Sorting\n",
    "# Sort by TransactionDate chronologically (oldest first)\n",
    "\n",
    "transactions_chronological <- transactions %>%\n",
    "  # Your code here:\n",
    "arrange(TransactionDate)\n",
    "\n",
    "# Display first 5 transactions chronologically\n",
    "cat(\"Earliest transactions:\\n\")\n",
    "head(transactions_chronological %>% select(TransactionDate, CustomerName, ProductName, TotalAmount), 5)"
   ]
  },
  {
   "cell_type": "markdown",
   "id": "718aa3c3",
   "metadata": {},
   "source": [
    "## Part 5: Chaining Operations\n",
    "\n",
    "Combine multiple dplyr operations using the pipe operator."
   ]
  },
  {
   "cell_type": "code",
   "execution_count": 85,
   "id": "41086de0",
   "metadata": {
    "vscode": {
     "languageId": "r"
    }
   },
   "outputs": [
    {
     "name": "stdout",
     "output_type": "stream",
     "text": [
      "Premium purchases (>$75):\n"
     ]
    },
    {
     "data": {
      "text/html": [
       "<table class=\"dataframe\">\n",
       "<caption>A data.frame: 10 × 3</caption>\n",
       "<thead>\n",
       "\t<tr><th></th><th scope=col>TotalAmount</th><th scope=col>ProductCategory</th><th scope=col>TransactionDate</th></tr>\n",
       "\t<tr><th></th><th scope=col>&lt;dbl&gt;</th><th scope=col>&lt;chr&gt;</th><th scope=col>&lt;chr&gt;</th></tr>\n",
       "</thead>\n",
       "<tbody>\n",
       "\t<tr><th scope=row>1</th><td>1499.52</td><td>Electronics</td><td>2024-03-03</td></tr>\n",
       "\t<tr><th scope=row>2</th><td>1491.96</td><td>Computers  </td><td>2024-08-15</td></tr>\n",
       "\t<tr><th scope=row>3</th><td>1491.62</td><td>Books      </td><td>2024-10-18</td></tr>\n",
       "\t<tr><th scope=row>4</th><td>1488.95</td><td>Computers  </td><td>2024-10-23</td></tr>\n",
       "\t<tr><th scope=row>5</th><td>1487.44</td><td>Electronics</td><td>2024-05-02</td></tr>\n",
       "\t<tr><th scope=row>6</th><td>1487.43</td><td>Computers  </td><td>2024-07-15</td></tr>\n",
       "\t<tr><th scope=row>7</th><td>1484.31</td><td>Movies     </td><td>2024-12-24</td></tr>\n",
       "\t<tr><th scope=row>8</th><td>1476.49</td><td>Electronics</td><td>2024-05-29</td></tr>\n",
       "\t<tr><th scope=row>9</th><td>1473.27</td><td>Books      </td><td>2024-04-14</td></tr>\n",
       "\t<tr><th scope=row>10</th><td>1471.59</td><td>Computers  </td><td>2024-11-16</td></tr>\n",
       "</tbody>\n",
       "</table>\n"
      ],
      "text/latex": [
       "A data.frame: 10 × 3\n",
       "\\begin{tabular}{r|lll}\n",
       "  & TotalAmount & ProductCategory & TransactionDate\\\\\n",
       "  & <dbl> & <chr> & <chr>\\\\\n",
       "\\hline\n",
       "\t1 & 1499.52 & Electronics & 2024-03-03\\\\\n",
       "\t2 & 1491.96 & Computers   & 2024-08-15\\\\\n",
       "\t3 & 1491.62 & Books       & 2024-10-18\\\\\n",
       "\t4 & 1488.95 & Computers   & 2024-10-23\\\\\n",
       "\t5 & 1487.44 & Electronics & 2024-05-02\\\\\n",
       "\t6 & 1487.43 & Computers   & 2024-07-15\\\\\n",
       "\t7 & 1484.31 & Movies      & 2024-12-24\\\\\n",
       "\t8 & 1476.49 & Electronics & 2024-05-29\\\\\n",
       "\t9 & 1473.27 & Books       & 2024-04-14\\\\\n",
       "\t10 & 1471.59 & Computers   & 2024-11-16\\\\\n",
       "\\end{tabular}\n"
      ],
      "text/markdown": [
       "\n",
       "A data.frame: 10 × 3\n",
       "\n",
       "| <!--/--> | TotalAmount &lt;dbl&gt; | ProductCategory &lt;chr&gt; | TransactionDate &lt;chr&gt; |\n",
       "|---|---|---|---|\n",
       "| 1 | 1499.52 | Electronics | 2024-03-03 |\n",
       "| 2 | 1491.96 | Computers   | 2024-08-15 |\n",
       "| 3 | 1491.62 | Books       | 2024-10-18 |\n",
       "| 4 | 1488.95 | Computers   | 2024-10-23 |\n",
       "| 5 | 1487.44 | Electronics | 2024-05-02 |\n",
       "| 6 | 1487.43 | Computers   | 2024-07-15 |\n",
       "| 7 | 1484.31 | Movies      | 2024-12-24 |\n",
       "| 8 | 1476.49 | Electronics | 2024-05-29 |\n",
       "| 9 | 1473.27 | Books       | 2024-04-14 |\n",
       "| 10 | 1471.59 | Computers   | 2024-11-16 |\n",
       "\n"
      ],
      "text/plain": [
       "   TotalAmount ProductCategory TransactionDate\n",
       "1  1499.52     Electronics     2024-03-03     \n",
       "2  1491.96     Computers       2024-08-15     \n",
       "3  1491.62     Books           2024-10-18     \n",
       "4  1488.95     Computers       2024-10-23     \n",
       "5  1487.44     Electronics     2024-05-02     \n",
       "6  1487.43     Computers       2024-07-15     \n",
       "7  1484.31     Movies          2024-12-24     \n",
       "8  1476.49     Electronics     2024-05-29     \n",
       "9  1473.27     Books           2024-04-14     \n",
       "10 1471.59     Computers       2024-11-16     "
      ]
     },
     "metadata": {},
     "output_type": "display_data"
    }
   ],
   "source": [
    "# Task 5.1: Simple Chain\n",
    "# Filter TotalAmount > $75, select specific columns, arrange by TotalAmount descending\n",
    "\n",
    "premium_purchases <- transactions %>%\n",
    "  # Your code here:\n",
    "filter(TotalAmount > 75) %>%\n",
    "  select(TotalAmount, ProductCategory, TransactionDate) %>%\n",
    "  arrange(desc(TotalAmount))\n",
    "\n",
    "# Display results\n",
    "cat(\"Premium purchases (>$75):\\n\")\n",
    "head(premium_purchases, 10)"
   ]
  },
  {
   "cell_type": "code",
   "execution_count": 86,
   "id": "823cda0b",
   "metadata": {
    "vscode": {
     "languageId": "r"
    }
   },
   "outputs": [
    {
     "name": "stdout",
     "output_type": "stream",
     "text": [
      "Recent tech purchases (top 20):\n",
      "    ProductCategory TotalAmount TransactionDate\n",
      "1       Electronics     1416.35      2024-01-01\n",
      "2       Electronics     1326.27      2024-01-01\n",
      "3       Electronics      277.70      2024-01-02\n",
      "4       Electronics      463.25      2024-01-03\n",
      "5         Computers      185.86      2024-01-08\n",
      "6         Computers      462.73      2024-01-08\n",
      "7         Computers      997.09      2024-01-12\n",
      "8       Electronics       96.83      2024-01-14\n",
      "9         Computers     1011.00      2024-01-16\n",
      "10      Electronics      216.36      2024-01-16\n",
      "11      Electronics      584.87      2024-01-17\n",
      "12        Computers     1136.57      2024-01-18\n",
      "13      Electronics     1295.11      2024-01-21\n",
      "14      Electronics     1296.63      2024-01-21\n",
      "15        Computers     1289.24      2024-01-22\n",
      "16      Electronics     1025.02      2024-01-25\n",
      "17      Electronics      728.18      2024-01-27\n",
      "18        Computers      491.01      2024-01-28\n",
      "19        Computers      897.63      2024-01-30\n",
      "20        Computers      887.00      2024-02-02\n",
      "21      Electronics      981.39      2024-02-03\n",
      "22        Computers       84.31      2024-02-04\n",
      "23        Computers     1370.57      2024-02-06\n",
      "24        Computers     1104.69      2024-02-07\n",
      "25        Computers      124.82      2024-02-10\n",
      "26      Electronics      488.05      2024-02-12\n",
      "27      Electronics     1337.94      2024-02-15\n",
      "28      Electronics      571.85      2024-02-15\n",
      "29        Computers      691.52      2024-02-18\n",
      "30        Computers      518.49      2024-02-19\n",
      "31      Electronics      238.82      2024-02-20\n",
      "32      Electronics      521.86      2024-02-21\n",
      "33      Electronics     1424.38      2024-02-23\n",
      "34        Computers      215.33      2024-02-23\n",
      "35        Computers     1316.92      2024-02-23\n",
      "36        Computers      504.96      2024-02-26\n",
      "37        Computers      292.25      2024-02-27\n",
      "38      Electronics      167.74      2024-02-27\n",
      "39        Computers      393.96      2024-03-02\n",
      "40      Electronics      721.25      2024-03-03\n",
      "41      Electronics     1499.52      2024-03-03\n",
      "42      Electronics     1158.09      2024-03-07\n",
      "43      Electronics      312.95      2024-03-07\n",
      "44      Electronics     1154.62      2024-03-07\n",
      "45      Electronics      825.83      2024-03-10\n",
      "46        Computers      469.06      2024-03-12\n",
      "47      Electronics     1208.43      2024-03-14\n",
      "48        Computers     1322.63      2024-03-15\n",
      "49      Electronics      533.08      2024-03-18\n",
      "50      Electronics      927.99      2024-03-19\n",
      "51      Electronics      904.49      2024-03-20\n",
      "52        Computers      178.22      2024-03-24\n",
      "53      Electronics      289.58      2024-03-27\n",
      "54        Computers     1316.78      2024-03-28\n",
      "55        Computers      973.31      2024-04-04\n",
      "56        Computers       82.05      2024-04-04\n",
      "57        Computers     1211.88      2024-04-04\n",
      "58      Electronics      574.09      2024-04-04\n",
      "59        Computers      163.68      2024-04-06\n",
      "60      Electronics      782.31      2024-04-07\n",
      "61        Computers     1150.96      2024-04-08\n",
      "62        Computers      498.09      2024-04-10\n",
      "63      Electronics      413.87      2024-04-13\n",
      "64      Electronics     1126.34      2024-04-15\n",
      "65        Computers     1100.77      2024-04-15\n",
      "66      Electronics      641.43      2024-04-17\n",
      "67      Electronics     1138.70      2024-04-20\n",
      "68      Electronics      938.98      2024-04-28\n",
      "69      Electronics     1487.44      2024-05-02\n",
      "70      Electronics      878.24      2024-05-02\n",
      "71      Electronics       90.06      2024-05-03\n",
      "72      Electronics      330.42      2024-05-06\n",
      "73      Electronics       88.45      2024-05-07\n",
      "74      Electronics      486.77      2024-05-09\n",
      "75        Computers      152.75      2024-05-11\n",
      "76      Electronics       69.27      2024-05-17\n",
      "77        Computers      378.17      2024-05-25\n",
      "78        Computers      242.68      2024-05-25\n",
      "79      Electronics      527.65      2024-05-26\n",
      "80        Computers     1148.92      2024-05-26\n",
      "81      Electronics      229.81      2024-05-28\n",
      "82      Electronics     1476.49      2024-05-29\n",
      "83      Electronics      962.80      2024-05-30\n",
      "84        Computers      979.23      2024-06-08\n",
      "85      Electronics      520.91      2024-06-16\n",
      "86      Electronics     1294.14      2024-06-16\n",
      "87        Computers      761.71      2024-06-17\n",
      "88      Electronics      975.72      2024-06-19\n",
      "89        Computers     1400.34      2024-06-19\n",
      "90      Electronics     1270.57      2024-06-22\n",
      "91        Computers     1176.07      2024-06-25\n",
      "92        Computers      396.36      2024-06-27\n",
      "93        Computers      161.21      2024-06-27\n",
      "94      Electronics       57.22      2024-06-28\n",
      "95        Computers     1397.43      2024-06-28\n",
      "96        Computers      885.40      2024-07-02\n",
      "97      Electronics      162.98      2024-07-02\n",
      "98        Computers      695.21      2024-07-06\n",
      "99        Computers     1349.46      2024-07-07\n",
      "100       Computers      695.28      2024-07-09\n",
      "101       Computers     1070.57      2024-07-10\n",
      "102       Computers      264.62      2024-07-11\n",
      "103     Electronics      487.41      2024-07-12\n",
      "104       Computers      493.89      2024-07-15\n",
      "105       Computers     1487.43      2024-07-15\n",
      "106       Computers     1208.75      2024-07-17\n",
      "107     Electronics      361.78      2024-07-18\n",
      "108       Computers     1396.56      2024-07-19\n",
      "109     Electronics      312.11      2024-07-21\n",
      "110       Computers     1220.45      2024-07-23\n",
      "111       Computers      834.08      2024-07-24\n",
      "112     Electronics     1428.17      2024-07-29\n",
      "113       Computers      866.79      2024-07-29\n",
      "114     Electronics     1274.62      2024-08-01\n",
      "115       Computers      739.94      2024-08-01\n",
      "116     Electronics     1080.28      2024-08-03\n",
      "117     Electronics      178.55      2024-08-03\n",
      "118     Electronics      393.37      2024-08-03\n",
      "119       Computers      425.44      2024-08-04\n",
      "120       Computers      906.83      2024-08-06\n",
      "121       Computers      628.76      2024-08-10\n",
      "122     Electronics      554.39      2024-08-11\n",
      "123       Computers       95.95      2024-08-13\n",
      "124       Computers     1043.34      2024-08-13\n",
      "125       Computers     1491.96      2024-08-15\n",
      "126       Computers     1284.31      2024-08-15\n",
      "127       Computers      569.47      2024-08-17\n",
      "128     Electronics     1327.99      2024-08-17\n",
      "129     Electronics      406.06      2024-08-26\n",
      "130     Electronics      514.75      2024-08-29\n",
      "131       Computers      519.51      2024-08-29\n",
      "132       Computers      594.66      2024-08-31\n",
      "133       Computers       64.58      2024-09-03\n",
      "134     Electronics     1222.95      2024-09-13\n",
      "135       Computers      908.84      2024-09-13\n",
      "136     Electronics      313.01      2024-09-15\n",
      "137     Electronics     1246.39      2024-09-16\n",
      "138     Electronics      708.66      2024-09-16\n",
      "139     Electronics       67.87      2024-09-16\n",
      "140     Electronics     1005.32      2024-09-17\n",
      "141     Electronics      883.89      2024-09-23\n",
      "142     Electronics      551.16      2024-09-25\n",
      "143     Electronics      116.39      2024-09-25\n",
      "144       Computers      546.49      2024-09-27\n",
      "145     Electronics      913.13      2024-09-30\n",
      "146       Computers      316.79      2024-09-30\n",
      "147     Electronics      709.80      2024-09-30\n",
      "148     Electronics     1124.15      2024-10-05\n",
      "149     Electronics     1280.20      2024-10-05\n",
      "150       Computers     1118.96      2024-10-07\n",
      "151     Electronics      154.62      2024-10-07\n",
      "152       Computers     1168.05      2024-10-08\n",
      "153     Electronics      616.11      2024-10-08\n",
      "154       Computers       42.27      2024-10-11\n",
      "155     Electronics      784.41      2024-10-12\n",
      "156       Computers      304.36      2024-10-12\n",
      "157     Electronics     1163.50      2024-10-14\n",
      "158       Computers     1488.95      2024-10-23\n",
      "159       Computers      216.52      2024-11-01\n",
      "160       Computers       82.98      2024-11-05\n",
      "161       Computers      676.93      2024-11-05\n",
      "162       Computers      362.38      2024-11-11\n",
      "163       Computers     1284.33      2024-11-12\n",
      "164     Electronics      216.81      2024-11-13\n",
      "165       Computers     1471.59      2024-11-16\n",
      "166       Computers     1365.62      2024-11-16\n",
      "167       Computers      304.06      2024-11-21\n",
      "168       Computers     1470.30      2024-11-25\n",
      "169       Computers      972.35      2024-11-26\n",
      "170       Computers      798.78      2024-11-28\n",
      "171       Computers      937.37      2024-11-28\n",
      "172     Electronics     1469.91      2024-11-30\n",
      "173       Computers      424.71      2024-12-02\n",
      "174     Electronics      116.06      2024-12-02\n",
      "175     Electronics     1445.64      2024-12-02\n",
      "176     Electronics      957.29      2024-12-04\n",
      "177     Electronics      940.10      2024-12-04\n",
      "178     Electronics      929.88      2024-12-06\n",
      "179       Computers      314.66      2024-12-07\n",
      "180       Computers      192.98      2024-12-10\n",
      "181     Electronics     1231.83      2024-12-11\n",
      "182       Computers      246.96      2024-12-12\n",
      "183       Computers      140.76      2024-12-13\n",
      "184       Computers     1220.59      2024-12-19\n",
      "185       Computers     1433.31      2024-12-23\n",
      "186     Electronics      700.12      2024-12-24\n",
      "187       Computers      121.22      2024-12-25\n",
      "188       Computers      206.62      2024-12-30\n",
      "189     Electronics      539.52      2024-12-30\n"
     ]
    }
   ],
   "source": [
    "# Task 5.2: Complex Chain\n",
    "# Filter for Electronics/Computers, select columns, arrange by date/amount, keep top 20\n",
    "\n",
    "recent_tech_purchases <- transactions %>%\n",
    "  # Your code here:\n",
    "filter(ProductCategory == \"Electronics\" | ProductCategory == \"Computers\") %>%\n",
    "  select(ProductCategory, TotalAmount, TransactionDate) %>%\n",
    "  arrange(TransactionDate)\n",
    "\n",
    "# Display results\n",
    "cat(\"Recent tech purchases (top 20):\\n\")\n",
    "print(recent_tech_purchases)"
   ]
  },
  {
   "cell_type": "code",
   "execution_count": 87,
   "id": "73d00b01",
   "metadata": {
    "vscode": {
     "languageId": "r"
    }
   },
   "outputs": [
    {
     "name": "stdout",
     "output_type": "stream",
     "text": [
      "High-value customers:\n"
     ]
    },
    {
     "data": {
      "text/html": [
       "<table class=\"dataframe\">\n",
       "<caption>A data.frame: 15 × 9</caption>\n",
       "<thead>\n",
       "\t<tr><th></th><th scope=col>TransactionID</th><th scope=col>CustomerID</th><th scope=col>CustomerName</th><th scope=col>CustomerCity</th><th scope=col>ProductName</th><th scope=col>ProductCategory</th><th scope=col>TotalAmount</th><th scope=col>Quantity</th><th scope=col>TransactionDate</th></tr>\n",
       "\t<tr><th></th><th scope=col>&lt;int&gt;</th><th scope=col>&lt;int&gt;</th><th scope=col>&lt;chr&gt;</th><th scope=col>&lt;chr&gt;</th><th scope=col>&lt;chr&gt;</th><th scope=col>&lt;chr&gt;</th><th scope=col>&lt;dbl&gt;</th><th scope=col>&lt;int&gt;</th><th scope=col>&lt;chr&gt;</th></tr>\n",
       "</thead>\n",
       "<tbody>\n",
       "\t<tr><th scope=row>1</th><td>150</td><td>64</td><td>Customer 60</td><td>New York    </td><td>Sony Headphones</td><td>Electronics</td><td>1499.52</td><td>2</td><td>2024-03-03</td></tr>\n",
       "\t<tr><th scope=row>2</th><td> 61</td><td>87</td><td>Customer 28</td><td>New York    </td><td>Dell Laptop    </td><td>Computers  </td><td>1491.96</td><td>7</td><td>2024-08-15</td></tr>\n",
       "\t<tr><th scope=row>3</th><td>154</td><td>18</td><td>Customer 81</td><td>Phoenix     </td><td>Sony Headphones</td><td>Books      </td><td>1491.62</td><td>3</td><td>2024-10-18</td></tr>\n",
       "\t<tr><th scope=row>4</th><td>187</td><td>64</td><td>Customer 79</td><td>Phoenix     </td><td>iPhone 14      </td><td>Computers  </td><td>1488.95</td><td>4</td><td>2024-10-23</td></tr>\n",
       "\t<tr><th scope=row>5</th><td>136</td><td>99</td><td>Customer 20</td><td>Phoenix     </td><td>HP Printer     </td><td>Electronics</td><td>1487.44</td><td>1</td><td>2024-05-02</td></tr>\n",
       "\t<tr><th scope=row>6</th><td>297</td><td> 7</td><td>Customer 18</td><td>Chicago     </td><td>iPhone 14      </td><td>Computers  </td><td>1487.43</td><td>2</td><td>2024-07-15</td></tr>\n",
       "\t<tr><th scope=row>7</th><td>378</td><td>53</td><td>Customer 83</td><td>Philadelphia</td><td>iPhone 14      </td><td>Movies     </td><td>1484.31</td><td>3</td><td>2024-12-24</td></tr>\n",
       "\t<tr><th scope=row>8</th><td> 16</td><td>78</td><td>Customer 20</td><td>Chicago     </td><td>HP Printer     </td><td>Electronics</td><td>1476.49</td><td>3</td><td>2024-05-29</td></tr>\n",
       "\t<tr><th scope=row>9</th><td>479</td><td>83</td><td>Customer 10</td><td>Houston     </td><td>Dell Laptop    </td><td>Books      </td><td>1473.27</td><td>1</td><td>2024-04-14</td></tr>\n",
       "\t<tr><th scope=row>10</th><td> 84</td><td>41</td><td>Customer 14</td><td>Phoenix     </td><td>iPhone 14      </td><td>Computers  </td><td>1471.59</td><td>7</td><td>2024-11-16</td></tr>\n",
       "\t<tr><th scope=row>11</th><td>232</td><td>91</td><td>Customer 11</td><td>New York    </td><td>Dell Laptop    </td><td>Computers  </td><td>1470.30</td><td>1</td><td>2024-11-25</td></tr>\n",
       "\t<tr><th scope=row>12</th><td>341</td><td>47</td><td>Customer 36</td><td>Houston     </td><td>Sony Headphones</td><td>Electronics</td><td>1469.91</td><td>3</td><td>2024-11-30</td></tr>\n",
       "\t<tr><th scope=row>13</th><td>384</td><td>42</td><td>Customer 97</td><td>Chicago     </td><td>Dell Laptop    </td><td>Books      </td><td>1459.42</td><td>3</td><td>2024-10-28</td></tr>\n",
       "\t<tr><th scope=row>14</th><td>468</td><td>32</td><td>Customer 47</td><td>Los Angeles </td><td>Dell Laptop    </td><td>Books      </td><td>1456.72</td><td>2</td><td>2024-02-02</td></tr>\n",
       "\t<tr><th scope=row>15</th><td>244</td><td>79</td><td>Customer 49</td><td>Chicago     </td><td>Dell Laptop    </td><td>Clothing   </td><td>1453.94</td><td>5</td><td>2024-07-29</td></tr>\n",
       "</tbody>\n",
       "</table>\n"
      ],
      "text/latex": [
       "A data.frame: 15 × 9\n",
       "\\begin{tabular}{r|lllllllll}\n",
       "  & TransactionID & CustomerID & CustomerName & CustomerCity & ProductName & ProductCategory & TotalAmount & Quantity & TransactionDate\\\\\n",
       "  & <int> & <int> & <chr> & <chr> & <chr> & <chr> & <dbl> & <int> & <chr>\\\\\n",
       "\\hline\n",
       "\t1 & 150 & 64 & Customer 60 & New York     & Sony Headphones & Electronics & 1499.52 & 2 & 2024-03-03\\\\\n",
       "\t2 &  61 & 87 & Customer 28 & New York     & Dell Laptop     & Computers   & 1491.96 & 7 & 2024-08-15\\\\\n",
       "\t3 & 154 & 18 & Customer 81 & Phoenix      & Sony Headphones & Books       & 1491.62 & 3 & 2024-10-18\\\\\n",
       "\t4 & 187 & 64 & Customer 79 & Phoenix      & iPhone 14       & Computers   & 1488.95 & 4 & 2024-10-23\\\\\n",
       "\t5 & 136 & 99 & Customer 20 & Phoenix      & HP Printer      & Electronics & 1487.44 & 1 & 2024-05-02\\\\\n",
       "\t6 & 297 &  7 & Customer 18 & Chicago      & iPhone 14       & Computers   & 1487.43 & 2 & 2024-07-15\\\\\n",
       "\t7 & 378 & 53 & Customer 83 & Philadelphia & iPhone 14       & Movies      & 1484.31 & 3 & 2024-12-24\\\\\n",
       "\t8 &  16 & 78 & Customer 20 & Chicago      & HP Printer      & Electronics & 1476.49 & 3 & 2024-05-29\\\\\n",
       "\t9 & 479 & 83 & Customer 10 & Houston      & Dell Laptop     & Books       & 1473.27 & 1 & 2024-04-14\\\\\n",
       "\t10 &  84 & 41 & Customer 14 & Phoenix      & iPhone 14       & Computers   & 1471.59 & 7 & 2024-11-16\\\\\n",
       "\t11 & 232 & 91 & Customer 11 & New York     & Dell Laptop     & Computers   & 1470.30 & 1 & 2024-11-25\\\\\n",
       "\t12 & 341 & 47 & Customer 36 & Houston      & Sony Headphones & Electronics & 1469.91 & 3 & 2024-11-30\\\\\n",
       "\t13 & 384 & 42 & Customer 97 & Chicago      & Dell Laptop     & Books       & 1459.42 & 3 & 2024-10-28\\\\\n",
       "\t14 & 468 & 32 & Customer 47 & Los Angeles  & Dell Laptop     & Books       & 1456.72 & 2 & 2024-02-02\\\\\n",
       "\t15 & 244 & 79 & Customer 49 & Chicago      & Dell Laptop     & Clothing    & 1453.94 & 5 & 2024-07-29\\\\\n",
       "\\end{tabular}\n"
      ],
      "text/markdown": [
       "\n",
       "A data.frame: 15 × 9\n",
       "\n",
       "| <!--/--> | TransactionID &lt;int&gt; | CustomerID &lt;int&gt; | CustomerName &lt;chr&gt; | CustomerCity &lt;chr&gt; | ProductName &lt;chr&gt; | ProductCategory &lt;chr&gt; | TotalAmount &lt;dbl&gt; | Quantity &lt;int&gt; | TransactionDate &lt;chr&gt; |\n",
       "|---|---|---|---|---|---|---|---|---|---|\n",
       "| 1 | 150 | 64 | Customer 60 | New York     | Sony Headphones | Electronics | 1499.52 | 2 | 2024-03-03 |\n",
       "| 2 |  61 | 87 | Customer 28 | New York     | Dell Laptop     | Computers   | 1491.96 | 7 | 2024-08-15 |\n",
       "| 3 | 154 | 18 | Customer 81 | Phoenix      | Sony Headphones | Books       | 1491.62 | 3 | 2024-10-18 |\n",
       "| 4 | 187 | 64 | Customer 79 | Phoenix      | iPhone 14       | Computers   | 1488.95 | 4 | 2024-10-23 |\n",
       "| 5 | 136 | 99 | Customer 20 | Phoenix      | HP Printer      | Electronics | 1487.44 | 1 | 2024-05-02 |\n",
       "| 6 | 297 |  7 | Customer 18 | Chicago      | iPhone 14       | Computers   | 1487.43 | 2 | 2024-07-15 |\n",
       "| 7 | 378 | 53 | Customer 83 | Philadelphia | iPhone 14       | Movies      | 1484.31 | 3 | 2024-12-24 |\n",
       "| 8 |  16 | 78 | Customer 20 | Chicago      | HP Printer      | Electronics | 1476.49 | 3 | 2024-05-29 |\n",
       "| 9 | 479 | 83 | Customer 10 | Houston      | Dell Laptop     | Books       | 1473.27 | 1 | 2024-04-14 |\n",
       "| 10 |  84 | 41 | Customer 14 | Phoenix      | iPhone 14       | Computers   | 1471.59 | 7 | 2024-11-16 |\n",
       "| 11 | 232 | 91 | Customer 11 | New York     | Dell Laptop     | Computers   | 1470.30 | 1 | 2024-11-25 |\n",
       "| 12 | 341 | 47 | Customer 36 | Houston      | Sony Headphones | Electronics | 1469.91 | 3 | 2024-11-30 |\n",
       "| 13 | 384 | 42 | Customer 97 | Chicago      | Dell Laptop     | Books       | 1459.42 | 3 | 2024-10-28 |\n",
       "| 14 | 468 | 32 | Customer 47 | Los Angeles  | Dell Laptop     | Books       | 1456.72 | 2 | 2024-02-02 |\n",
       "| 15 | 244 | 79 | Customer 49 | Chicago      | Dell Laptop     | Clothing    | 1453.94 | 5 | 2024-07-29 |\n",
       "\n"
      ],
      "text/plain": [
       "   TransactionID CustomerID CustomerName CustomerCity ProductName    \n",
       "1  150           64         Customer 60  New York     Sony Headphones\n",
       "2   61           87         Customer 28  New York     Dell Laptop    \n",
       "3  154           18         Customer 81  Phoenix      Sony Headphones\n",
       "4  187           64         Customer 79  Phoenix      iPhone 14      \n",
       "5  136           99         Customer 20  Phoenix      HP Printer     \n",
       "6  297            7         Customer 18  Chicago      iPhone 14      \n",
       "7  378           53         Customer 83  Philadelphia iPhone 14      \n",
       "8   16           78         Customer 20  Chicago      HP Printer     \n",
       "9  479           83         Customer 10  Houston      Dell Laptop    \n",
       "10  84           41         Customer 14  Phoenix      iPhone 14      \n",
       "11 232           91         Customer 11  New York     Dell Laptop    \n",
       "12 341           47         Customer 36  Houston      Sony Headphones\n",
       "13 384           42         Customer 97  Chicago      Dell Laptop    \n",
       "14 468           32         Customer 47  Los Angeles  Dell Laptop    \n",
       "15 244           79         Customer 49  Chicago      Dell Laptop    \n",
       "   ProductCategory TotalAmount Quantity TransactionDate\n",
       "1  Electronics     1499.52     2        2024-03-03     \n",
       "2  Computers       1491.96     7        2024-08-15     \n",
       "3  Books           1491.62     3        2024-10-18     \n",
       "4  Computers       1488.95     4        2024-10-23     \n",
       "5  Electronics     1487.44     1        2024-05-02     \n",
       "6  Computers       1487.43     2        2024-07-15     \n",
       "7  Movies          1484.31     3        2024-12-24     \n",
       "8  Electronics     1476.49     3        2024-05-29     \n",
       "9  Books           1473.27     1        2024-04-14     \n",
       "10 Computers       1471.59     7        2024-11-16     \n",
       "11 Computers       1470.30     1        2024-11-25     \n",
       "12 Electronics     1469.91     3        2024-11-30     \n",
       "13 Books           1459.42     3        2024-10-28     \n",
       "14 Books           1456.72     2        2024-02-02     \n",
       "15 Clothing        1453.94     5        2024-07-29     "
      ]
     },
     "metadata": {},
     "output_type": "display_data"
    }
   ],
   "source": [
    "# Task 5.3: Business Intelligence Chain\n",
    "# Identify high-value repeat customers (TotalAmount > $200)\n",
    "\n",
    "high_value_customers <- transactions %>%\n",
    "  # Your code here:\n",
    "filter(TotalAmount > 200) %>%\n",
    "arrange(desc(TotalAmount))\n",
    "\n",
    "# Display results\n",
    "cat(\"High-value customers:\\n\")\n",
    "head(high_value_customers, 15)"
   ]
  },
  {
   "cell_type": "markdown",
   "id": "50978714",
   "metadata": {},
   "source": [
    "## Part 6: Data Analysis Questions\n",
    "\n",
    "Answer the following questions using the datasets you've created."
   ]
  },
  {
   "cell_type": "code",
   "execution_count": 88,
   "id": "be6e8562",
   "metadata": {
    "vscode": {
     "languageId": "r"
    }
   },
   "outputs": [
    {
     "name": "stdout",
     "output_type": "stream",
     "text": [
      "Transaction counts by dataset:\n",
      "High value transactions: 400 \n",
      "Electronics transactions: 93 \n",
      "NY bulk purchases: 75 \n",
      "Entertainment transactions: 227 \n",
      "March transactions: 41 \n",
      "Premium purchases: 483 \n",
      "Recent tech purchases: 189 \n",
      "High value customers: 434 \n"
     ]
    }
   ],
   "source": [
    "# Question 6.1: Transaction Volume\n",
    "# Count transactions in each filtered dataset\n",
    "\n",
    "cat(\"Transaction counts by dataset:\\n\")\n",
    "cat(\"High value transactions:\", nrow(high_value_transactions), \"\\n\")\n",
    "cat(\"Electronics transactions:\", nrow(electronics_transactions), \"\\n\")\n",
    "cat(\"NY bulk purchases:\", nrow(ny_bulk_purchases), \"\\n\")\n",
    "cat(\"Entertainment transactions:\", nrow(entertainment_transactions), \"\\n\")\n",
    "cat(\"March transactions:\", nrow(march_transactions), \"\\n\")\n",
    "cat(\"Premium purchases:\", nrow(premium_purchases), \"\\n\")\n",
    "cat(\"Recent tech purchases:\", nrow(recent_tech_purchases), \"\\n\")\n",
    "cat(\"High value customers:\", nrow(high_value_customers), \"\\n\")"
   ]
  },
  {
   "cell_type": "code",
   "execution_count": 89,
   "id": "35190921",
   "metadata": {
    "vscode": {
     "languageId": "r"
    }
   },
   "outputs": [
    {
     "name": "stdout",
     "output_type": "stream",
     "text": [
      "Most frequent high-value customer:\n",
      "   CustomerName  n\n",
      "1   Customer 18 12\n",
      "2   Customer 25 10\n",
      "3   Customer 87 10\n",
      "4   Customer 11  8\n",
      "5   Customer 53  8\n",
      "6   Customer 98  8\n",
      "7    Customer 1  7\n",
      "8   Customer 20  7\n",
      "9   Customer 47  7\n",
      "10  Customer 74  7\n",
      "11  Customer 76  7\n",
      "12  Customer 92  7\n",
      "13  Customer 94  7\n",
      "14  Customer 15  6\n",
      "15  Customer 21  6\n",
      "16  Customer 23  6\n",
      "17  Customer 39  6\n",
      "18  Customer 44  6\n",
      "19  Customer 49  6\n",
      "20  Customer 54  6\n",
      "21   Customer 6  6\n",
      "22  Customer 71  6\n",
      "23  Customer 75  6\n",
      "24  Customer 83  6\n",
      "25  Customer 91  6\n",
      "26  Customer 99  6\n",
      "27  Customer 13  5\n",
      "28  Customer 17  5\n",
      "29  Customer 26  5\n",
      "30  Customer 27  5\n",
      "31  Customer 30  5\n",
      "32  Customer 32  5\n",
      "33  Customer 37  5\n",
      "34   Customer 4  5\n",
      "35  Customer 43  5\n",
      "36  Customer 46  5\n",
      "37  Customer 50  5\n",
      "38  Customer 69  5\n",
      "39  Customer 81  5\n",
      "40  Customer 85  5\n",
      "41  Customer 90  5\n",
      "42  Customer 14  4\n",
      "43  Customer 16  4\n",
      "44  Customer 22  4\n",
      "45  Customer 24  4\n",
      "46  Customer 29  4\n",
      "47   Customer 3  4\n",
      "48  Customer 33  4\n",
      "49  Customer 40  4\n",
      "50  Customer 45  4\n",
      "51  Customer 48  4\n",
      "52  Customer 51  4\n",
      "53  Customer 57  4\n",
      "54  Customer 59  4\n",
      "55  Customer 60  4\n",
      "56  Customer 63  4\n",
      "57  Customer 64  4\n",
      "58  Customer 65  4\n",
      "59  Customer 68  4\n",
      "60  Customer 70  4\n",
      "61  Customer 73  4\n",
      "62  Customer 82  4\n",
      "63   Customer 9  4\n",
      "64  Customer 10  3\n",
      "65  Customer 12  3\n",
      "66   Customer 2  3\n",
      "67  Customer 28  3\n",
      "68  Customer 31  3\n",
      "69  Customer 38  3\n",
      "70  Customer 41  3\n",
      "71  Customer 42  3\n",
      "72   Customer 5  3\n",
      "73  Customer 52  3\n",
      "74  Customer 56  3\n",
      "75  Customer 58  3\n",
      "76  Customer 61  3\n",
      "77  Customer 62  3\n",
      "78  Customer 66  3\n",
      "79  Customer 72  3\n",
      "80   Customer 8  3\n",
      "81  Customer 80  3\n",
      "82  Customer 84  3\n",
      "83  Customer 88  3\n",
      "84  Customer 95  3\n",
      "85  Customer 96  3\n",
      "86 Customer 100  2\n",
      "87  Customer 35  2\n",
      "88  Customer 36  2\n",
      "89  Customer 67  2\n",
      "90  Customer 77  2\n",
      "91  Customer 78  2\n",
      "92  Customer 79  2\n",
      "93  Customer 93  2\n",
      "94  Customer 97  2\n",
      "95  Customer 19  1\n",
      "96  Customer 55  1\n",
      "97   Customer 7  1\n",
      "98  Customer 89  1\n"
     ]
    }
   ],
   "source": [
    "# Question 6.2: Top Customers\n",
    "# Find the customer who appears most frequently in high_value_customers\n",
    "\n",
    "if(nrow(high_value_customers) > 0) {\n",
    "  customer_frequency <- high_value_customers %>%\n",
    "    # Your code here to count customer appearances:\n",
    "  count(CustomerName, sort = TRUE)\n",
    "  \n",
    "  cat(\"Most frequent high-value customer:\\n\")\n",
    "  print(customer_frequency)\n",
    "} else {\n",
    "  cat(\"No high-value customers found\\n\")\n",
    "}"
   ]
  },
  {
   "cell_type": "code",
   "execution_count": 90,
   "id": "3c932cbb",
   "metadata": {
    "vscode": {
     "languageId": "r"
    }
   },
   "outputs": [
    {
     "name": "stdout",
     "output_type": "stream",
     "text": [
      "Top 5 most expensive entertainment transactions:\n",
      "  CustomerName     ProductName TotalAmount ProductCategory\n",
      "1  Customer 81 Sony Headphones     1491.62           Books\n",
      "2  Customer 83       iPhone 14     1484.31          Movies\n",
      "3  Customer 10     Dell Laptop     1473.27           Books\n",
      "4  Customer 97     Dell Laptop     1459.42           Books\n",
      "5  Customer 47     Dell Laptop     1456.72           Books\n"
     ]
    }
   ],
   "source": [
    "# Question 6.3: Product Analysis\n",
    "# Find top 5 most expensive transactions in entertainment_transactions\n",
    "\n",
    "if(nrow(entertainment_transactions) > 0) {\n",
    "  top_entertainment <- entertainment_transactions %>%\n",
    "    # Your code here:\n",
    "  \n",
    "  filter(ProductCategory == \"Electronics\" | ProductCategory == \"Books\" | ProductCategory == \"Music\" |ProductCategory == \"Movies\") %>%\n",
    "  select(CustomerName, ProductName, TotalAmount, ProductCategory) %>%\n",
    "  arrange(desc(TotalAmount)) %>%\n",
    "  \n",
    "  head(5)\n",
    "  \n",
    "  cat(\"Top 5 most expensive entertainment transactions:\\n\")\n",
    "  print(top_entertainment)\n",
    "} else {\n",
    "  cat(\"No entertainment transactions found\\n\")\n",
    "}"
   ]
  },
  {
   "cell_type": "code",
   "execution_count": 91,
   "id": "7b46473f",
   "metadata": {
    "vscode": {
     "languageId": "r"
    }
   },
   "outputs": [
    {
     "name": "stdout",
     "output_type": "stream",
     "text": [
      "City with highest single transaction:\n",
      "  CustomerCity CustomerName TotalAmount ProductCategory     ProductName\n",
      "1     New York  Customer 60     1499.52     Electronics Sony Headphones\n"
     ]
    }
   ],
   "source": [
    "# Question 6.4: Geographic Analysis\n",
    "# Find the city with the highest single transaction amount\n",
    "\n",
    "highest_transaction_by_city <- transactions_by_city_amount %>%\n",
    "  # Your code here:\n",
    "select(CustomerCity, CustomerName, TotalAmount, ProductCategory, ProductName) %>%\n",
    "arrange(desc(TotalAmount)) %>%\n",
    "head(1)\n",
    "\n",
    "cat(\"City with highest single transaction:\\n\")\n",
    "print(highest_transaction_by_city)"
   ]
  },
  {
   "cell_type": "markdown",
   "id": "82d2dc35",
   "metadata": {},
   "source": [
    "## Part 7: Reflection Questions\n",
    "\n",
    "Please answer the following questions in the markdown cells below."
   ]
  },
  {
   "cell_type": "markdown",
   "id": "f2ea2958",
   "metadata": {},
   "source": [
    "### Question 7.1: Pipe Operator Benefits\n",
    "\n",
    "**How does using the pipe operator (`%>%`) improve code readability compared to nested function calls? Provide a specific example from your homework.**\n",
    "\n",
    "Your answer here:\n",
    "Using the pipe operator in this assignment helped me to not have long lines of code that is difficult to read. It allows you to write one function on one line, and skip down and write another function on the next line. Without pipes, in Task 5.1: Simple Chain, the code would be one long line and it would be hard to figure out where one function starts and ends, especially since there is multiple columns being selected here and multiple commas and parentheses used for one function.\n",
    "\n",
    "filter(TotalAmount > 75) %>%\n",
    "  select(TotalAmount, ProductCategory, TransactionDate) %>%\n",
    "  arrange(desc(TotalAmount)\n",
    "\n"
   ]
  },
  {
   "cell_type": "markdown",
   "id": "af3d8c62",
   "metadata": {},
   "source": [
    "### Question 7.2: Filtering Strategy\n",
    "\n",
    "**When filtering data for business analysis, what are the trade-offs between being very specific (many conditions) versus being more general (fewer conditions)? How might this affect your insights?**\n",
    "\n",
    "Your answer here:\n",
    "Sometimes its important to be specific when filtering. For example, if you wanted to look for transactions over $100, it would be good to think about if you want to include transactions equal to $100 as well in your results. However, being less specific can be useful to catch patterns that you weren't even thinking about catching, and including more data will give you a larger sample to work with which can sometimes be helpful."
   ]
  },
  {
   "cell_type": "markdown",
   "id": "54c0b062",
   "metadata": {},
   "source": [
    "### Question 7.3: Sorting Importance\n",
    "\n",
    "**Why is data sorting important in business analytics? Provide three specific business scenarios where sorting data would be crucial for decision-making.**\n",
    "\n",
    "Your answer here:\n",
    "\n",
    "1. In a scenarios where a business wants to see their highest transactions for a specific category, sorting the data by filtering for those categories and arranging by price is important as being able to arrange results can make it easier to see this instead of having to manually look through all the unsorted data.\n",
    "2. A business may want to discontinue a product to open up space for a new one. Sorting the transactions by quantity, total amount, or even date to see trends in whats being purchased can help a business see their lowest performing products and make their decisions based on that.\n",
    "3. The human resources department may want to know how each regional sales managers are performing. Sorting the data by things like region, profit, or number of transactions can help the department see how every region managed by each person is doing."
   ]
  },
  {
   "cell_type": "markdown",
   "id": "625c2ea3",
   "metadata": {},
   "source": [
    "### Question 7.4: Real-World Application\n",
    "\n",
    "**Describe a real business scenario where you might need to combine `select()`, `filter()`, and `arrange()` operations. What insights would you be trying to gain?**\n",
    "\n",
    "Your answer here:\n",
    "A question a business may want to answer is \"What Cities do my top customers live in?\" You could select columns like CustomerCity, ProductName, TotalAmount, ProductCategory, filter TotalAmount to show transactions over a certain price, and arrange TotalAmount in descending order, and then arrange by city. "
   ]
  },
  {
   "cell_type": "markdown",
   "id": "6142c3f6",
   "metadata": {},
   "source": [
    "## Summary and Submission\n",
    "\n",
    "### What You've Learned\n",
    "\n",
    "In this homework, you've practiced:\n",
    "- Using `select()` for column selection with various methods\n",
    "- Using `filter()` for row filtering with single and multiple conditions\n",
    "- Using `arrange()` for sorting data by single and multiple columns\n",
    "- Chaining operations with the pipe operator (`%>%`)\n",
    "- Analyzing business data to generate insights\n",
    "\n",
    "### Submission Checklist\n",
    "\n",
    "Before submitting, ensure you have:\n",
    "- [ ] Completed all code tasks\n",
    "- [ ] Run all cells successfully\n",
    "- [ ] Answered all reflection questions\n",
    "- [ ] Used proper commenting in your code\n",
    "- [ ] Used the pipe operator where appropriate\n",
    "- [ ] Verified your results make sense\n",
    "\n",
    "### Next Steps\n",
    "\n",
    "In the next lesson, you'll learn about:\n",
    "- `mutate()` for creating new columns\n",
    "- `summarize()` for calculating summary statistics\n",
    "- `group_by()` for grouped operations\n",
    "- Advanced data transformation techniques"
   ]
  }
 ],
 "metadata": {
  "kernelspec": {
   "display_name": "R",
   "language": "R",
   "name": "ir"
  },
  "language_info": {
   "codemirror_mode": "r",
   "file_extension": ".r",
   "mimetype": "text/x-r-source",
   "name": "R",
   "pygments_lexer": "r",
   "version": "4.4.3"
  }
 },
 "nbformat": 4,
 "nbformat_minor": 5
}
