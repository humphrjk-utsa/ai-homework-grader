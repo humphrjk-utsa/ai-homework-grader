{
 "cells": [
  {
   "cell_type": "markdown",
   "id": "0628f0f4",
   "metadata": {},
   "source": [
    "# Homework Assignment - Lesson 1: Introduction to R\n",
    "\n",
    "**Student Name:** Francisco Guadarrama  \n",
    "**Date:** 9/10/2025  \n",
    "**Course:** Data Management  \n",
    "\n",
    "---\n",
    "\n",
    "## Instructions\n",
    "\n",
    "Complete all the tasks below by adding your R code in the code cells and your written responses in markdown cells. Make sure to run all cells to show your output.\n",
    "\n",
    "**📋 SUBMISSION**: When you're done, see [GITHUB_CLASSROOM_SUBMISSION.md](../../GITHUB_CLASSROOM_SUBMISSION.md) for complete submission instructions.\n",
    "\n",
    "---"
   ]
  },
  {
   "cell_type": "markdown",
   "id": "2c9d18a6",
   "metadata": {},
   "source": [
    "## Part 1: Setting Up Your Environment and Importing Data"
   ]
  },
  {
   "cell_type": "markdown",
   "id": "dc395004",
   "metadata": {},
   "source": [
    "### 1.1 Working Directory\n",
    "\n",
    "Check your current working directory using `getwd()`. You should be in the main repository folder."
   ]
  },
  {
   "cell_type": "code",
   "execution_count": 1,
   "id": "aa15a71d",
   "metadata": {
    "vscode": {
     "languageId": "r"
    }
   },
   "outputs": [
    {
     "data": {
      "text/html": [
       "'/workspaces/assignment-1-version-3-zfrank33/assignment/Homework'"
      ],
      "text/latex": [
       "'/workspaces/assignment-1-version-3-zfrank33/assignment/Homework'"
      ],
      "text/markdown": [
       "'/workspaces/assignment-1-version-3-zfrank33/assignment/Homework'"
      ],
      "text/plain": [
       "[1] \"/workspaces/assignment-1-version-3-zfrank33/assignment/Homework\""
      ]
     },
     "metadata": {},
     "output_type": "display_data"
    }
   ],
   "source": [
    "# Check current working directory\n",
    "getwd()"
   ]
  },
  {
   "cell_type": "markdown",
   "id": "0a23af99",
   "metadata": {},
   "source": [
    "I was using the wrong path to the sales_data.csv and I mistakenly thought I was in the wrong directory so I tried changing before realizing my mistake and copied as path."
   ]
  },
  {
   "cell_type": "code",
   "execution_count": 3,
   "id": "818a0661",
   "metadata": {
    "vscode": {
     "languageId": "r"
    }
   },
   "outputs": [
    {
     "ename": "ERROR",
     "evalue": "Error in setwd(\"/workspaces/Data-Management-Assignment-1-Intro-to-R\"): cannot change working directory\n",
     "output_type": "error",
     "traceback": [
      "Error in setwd(\"/workspaces/Data-Management-Assignment-1-Intro-to-R\"): cannot change working directory\nTraceback:\n",
      "1. .handleSimpleError(function (cnd) \n . {\n .     watcher$capture_plot_and_output()\n .     cnd <- sanitize_call(cnd)\n .     watcher$push(cnd)\n .     switch(on_error, continue = invokeRestart(\"eval_continue\"), \n .         stop = invokeRestart(\"eval_stop\"), error = NULL)\n . }, \"cannot change working directory\", base::quote(setwd(\"/workspaces/Data-Management-Assignment-1-Intro-to-R\")))"
     ]
    }
   ],
   "source": [
    "setwd('/workspaces/Data-Management-Assignment-1-Intro-to-R')"
   ]
  },
  {
   "cell_type": "markdown",
   "id": "2096d578",
   "metadata": {},
   "source": [
    "### 1.2 Package Loading\n",
    "\n",
    "Load the required packages: `tidyverse` and `readxl`"
   ]
  },
  {
   "cell_type": "code",
   "execution_count": 2,
   "id": "f92518c5",
   "metadata": {
    "vscode": {
     "languageId": "r"
    }
   },
   "outputs": [
    {
     "name": "stderr",
     "output_type": "stream",
     "text": [
      "── \u001b[1mAttaching core tidyverse packages\u001b[22m ──────────────────────── tidyverse 2.0.0 ──\n",
      "\u001b[32m✔\u001b[39m \u001b[34mdplyr    \u001b[39m 1.1.4     \u001b[32m✔\u001b[39m \u001b[34mreadr    \u001b[39m 2.1.5\n",
      "\u001b[32m✔\u001b[39m \u001b[34mforcats  \u001b[39m 1.0.0     \u001b[32m✔\u001b[39m \u001b[34mstringr  \u001b[39m 1.5.1\n",
      "\u001b[32m✔\u001b[39m \u001b[34mggplot2  \u001b[39m 3.5.2     \u001b[32m✔\u001b[39m \u001b[34mtibble   \u001b[39m 3.3.0\n",
      "\u001b[32m✔\u001b[39m \u001b[34mlubridate\u001b[39m 1.9.4     \u001b[32m✔\u001b[39m \u001b[34mtidyr    \u001b[39m 1.3.1\n",
      "\u001b[32m✔\u001b[39m \u001b[34mpurrr    \u001b[39m 1.1.0     \n",
      "── \u001b[1mConflicts\u001b[22m ────────────────────────────────────────── tidyverse_conflicts() ──\n",
      "\u001b[31m✖\u001b[39m \u001b[34mdplyr\u001b[39m::\u001b[32mfilter()\u001b[39m masks \u001b[34mstats\u001b[39m::filter()\n",
      "\u001b[31m✖\u001b[39m \u001b[34mdplyr\u001b[39m::\u001b[32mlag()\u001b[39m    masks \u001b[34mstats\u001b[39m::lag()\n",
      "\u001b[36mℹ\u001b[39m Use the conflicted package (\u001b[3m\u001b[34m<http://conflicted.r-lib.org/>\u001b[39m\u001b[23m) to force all conflicts to become errors\n"
     ]
    }
   ],
   "source": [
    "# Load required packages\n",
    "library(tidyverse)\n",
    "library(readxl)"
   ]
  },
  {
   "cell_type": "markdown",
   "id": "c5cc88b0",
   "metadata": {},
   "source": [
    "### 1.3 Data Import - CSV\n",
    "\n",
    "Import the `sales_data.csv` file from the `data/` folder into a data frame named `sales_df`."
   ]
  },
  {
   "cell_type": "code",
   "execution_count": 3,
   "id": "f2616bc0",
   "metadata": {
    "vscode": {
     "languageId": "r"
    }
   },
   "outputs": [
    {
     "name": "stderr",
     "output_type": "stream",
     "text": [
      "\u001b[1mRows: \u001b[22m\u001b[34m100\u001b[39m \u001b[1mColumns: \u001b[22m\u001b[34m6\u001b[39m\n",
      "\u001b[36m──\u001b[39m \u001b[1mColumn specification\u001b[22m \u001b[36m────────────────────────────────────────────────────────\u001b[39m\n",
      "\u001b[1mDelimiter:\u001b[22m \",\"\n",
      "\u001b[31mchr\u001b[39m  (2): Product, Region\n",
      "\u001b[32mdbl\u001b[39m  (3): TransactionID, Amount, Quantity\n",
      "\u001b[34mdate\u001b[39m (1): Date\n",
      "\n",
      "\u001b[36mℹ\u001b[39m Use `spec()` to retrieve the full column specification for this data.\n",
      "\u001b[36mℹ\u001b[39m Specify the column types or set `show_col_types = FALSE` to quiet this message.\n"
     ]
    },
    {
     "name": "stdout",
     "output_type": "stream",
     "text": [
      "[1] \"Sales data imported successfully!\"\n"
     ]
    }
   ],
   "source": [
    "# Import sales data\n",
    "sales_df <- read_csv(\"/workspaces/assignment-1-version-3-zfrank33/data/sales_data.csv\")\n",
    "print(\"Sales data imported successfully!\")"
   ]
  },
  {
   "cell_type": "markdown",
   "id": "a9f82958",
   "metadata": {},
   "source": [
    "I used list.files when I thought I was in the wrong directory before I realized I was using the wrong path.\n"
   ]
  },
  {
   "cell_type": "code",
   "execution_count": 4,
   "id": "7fe98c6a",
   "metadata": {
    "vscode": {
     "languageId": "r"
    }
   },
   "outputs": [
    {
     "data": {
      "text/html": [
       "'/workspaces/assignment-1-version-3-zfrank33/assignment/Homework'"
      ],
      "text/latex": [
       "'/workspaces/assignment-1-version-3-zfrank33/assignment/Homework'"
      ],
      "text/markdown": [
       "'/workspaces/assignment-1-version-3-zfrank33/assignment/Homework'"
      ],
      "text/plain": [
       "[1] \"/workspaces/assignment-1-version-3-zfrank33/assignment/Homework\""
      ]
     },
     "metadata": {},
     "output_type": "display_data"
    },
    {
     "data": {
      "text/html": [
       "<style>\n",
       ".list-inline {list-style: none; margin:0; padding: 0}\n",
       ".list-inline>li {display: inline-block}\n",
       ".list-inline>li:not(:last-child)::after {content: \"\\00b7\"; padding: 0 .5ex}\n",
       "</style>\n",
       "<ol class=list-inline><li>'homework_lesson_1.ipynb'</li><li>'README.md'</li></ol>\n"
      ],
      "text/latex": [
       "\\begin{enumerate*}\n",
       "\\item 'homework\\_lesson\\_1.ipynb'\n",
       "\\item 'README.md'\n",
       "\\end{enumerate*}\n"
      ],
      "text/markdown": [
       "1. 'homework_lesson_1.ipynb'\n",
       "2. 'README.md'\n",
       "\n",
       "\n"
      ],
      "text/plain": [
       "[1] \"homework_lesson_1.ipynb\" \"README.md\"              "
      ]
     },
     "metadata": {},
     "output_type": "display_data"
    }
   ],
   "source": [
    "getwd()  # Shows current directory\n",
    "list.files()  # Shows files in current directory"
   ]
  },
  {
   "cell_type": "markdown",
   "id": "f3f0b0f6",
   "metadata": {},
   "source": [
    "### 1.4 Data Import - Excel\n",
    "\n",
    "Import both sheets from the `customer_feedback.xlsx` file."
   ]
  },
  {
   "cell_type": "code",
   "execution_count": 5,
   "id": "6a6ba3b1",
   "metadata": {
    "vscode": {
     "languageId": "r"
    }
   },
   "outputs": [
    {
     "name": "stdout",
     "output_type": "stream",
     "text": [
      "[1] \"Excel data imported successfully!\"\n"
     ]
    }
   ],
   "source": [
    "# Import ratings data from Excel\n",
    "ratings_df <- read_excel(\"/workspaces/assignment-1-version-3-zfrank33/data/customer_feedback.xlsx\", sheet = \"ratings\")\n",
    "\n",
    "# Import comments data from Excel  \n",
    "comments_df <- read_excel(\"/workspaces/assignment-1-version-3-zfrank33/data/customer_feedback.xlsx\", sheet = \"customer_feedback\")\n",
    "\n",
    "print(\"Excel data imported successfully!\")"
   ]
  },
  {
   "cell_type": "markdown",
   "id": "a9d136e7",
   "metadata": {},
   "source": [
    "---\n",
    "\n",
    "## Part 2: Basic Data Inspection\n",
    "\n",
    "For each of the three data frames you imported, perform the following inspection tasks. Add both your R code and a brief interpretation of what you observe."
   ]
  },
  {
   "cell_type": "markdown",
   "id": "b3c60d90",
   "metadata": {},
   "source": [
    "### 2.1 Sales Data Inspection"
   ]
  },
  {
   "cell_type": "code",
   "execution_count": 6,
   "id": "e49897c6",
   "metadata": {
    "vscode": {
     "languageId": "r"
    }
   },
   "outputs": [
    {
     "name": "stdout",
     "output_type": "stream",
     "text": [
      "[1] \"First 10 rows of sales_df:\"\n"
     ]
    },
    {
     "data": {
      "text/html": [
       "<table class=\"dataframe\">\n",
       "<caption>A tibble: 10 × 6</caption>\n",
       "<thead>\n",
       "\t<tr><th scope=col>TransactionID</th><th scope=col>Date</th><th scope=col>Product</th><th scope=col>Amount</th><th scope=col>Quantity</th><th scope=col>Region</th></tr>\n",
       "\t<tr><th scope=col>&lt;dbl&gt;</th><th scope=col>&lt;date&gt;</th><th scope=col>&lt;chr&gt;</th><th scope=col>&lt;dbl&gt;</th><th scope=col>&lt;dbl&gt;</th><th scope=col>&lt;chr&gt;</th></tr>\n",
       "</thead>\n",
       "<tbody>\n",
       "\t<tr><td> 1</td><td>2023-01-27</td><td>Keyboard</td><td>1039.05</td><td>1</td><td>South</td></tr>\n",
       "\t<tr><td> 2</td><td>2023-05-18</td><td>Tablet  </td><td> 597.55</td><td>5</td><td>East </td></tr>\n",
       "\t<tr><td> 3</td><td>2023-02-14</td><td>Keyboard</td><td>1539.48</td><td>1</td><td>West </td></tr>\n",
       "\t<tr><td> 4</td><td>2023-07-28</td><td>Mouse   </td><td> 261.66</td><td>1</td><td>South</td></tr>\n",
       "\t<tr><td> 5</td><td>2023-05-17</td><td>Monitor </td><td>1047.73</td><td>1</td><td>South</td></tr>\n",
       "\t<tr><td> 6</td><td>2023-02-25</td><td>Keyboard</td><td>1824.05</td><td>2</td><td>East </td></tr>\n",
       "\t<tr><td> 7</td><td>2023-01-20</td><td>Monitor </td><td> 475.83</td><td>1</td><td>North</td></tr>\n",
       "\t<tr><td> 8</td><td>2023-07-14</td><td>Mouse   </td><td> 758.05</td><td>5</td><td>North</td></tr>\n",
       "\t<tr><td> 9</td><td>2023-10-02</td><td>Mouse   </td><td>1717.20</td><td>4</td><td>South</td></tr>\n",
       "\t<tr><td>10</td><td>2023-10-15</td><td>Laptop  </td><td>1437.21</td><td>3</td><td>North</td></tr>\n",
       "</tbody>\n",
       "</table>\n"
      ],
      "text/latex": [
       "A tibble: 10 × 6\n",
       "\\begin{tabular}{llllll}\n",
       " TransactionID & Date & Product & Amount & Quantity & Region\\\\\n",
       " <dbl> & <date> & <chr> & <dbl> & <dbl> & <chr>\\\\\n",
       "\\hline\n",
       "\t  1 & 2023-01-27 & Keyboard & 1039.05 & 1 & South\\\\\n",
       "\t  2 & 2023-05-18 & Tablet   &  597.55 & 5 & East \\\\\n",
       "\t  3 & 2023-02-14 & Keyboard & 1539.48 & 1 & West \\\\\n",
       "\t  4 & 2023-07-28 & Mouse    &  261.66 & 1 & South\\\\\n",
       "\t  5 & 2023-05-17 & Monitor  & 1047.73 & 1 & South\\\\\n",
       "\t  6 & 2023-02-25 & Keyboard & 1824.05 & 2 & East \\\\\n",
       "\t  7 & 2023-01-20 & Monitor  &  475.83 & 1 & North\\\\\n",
       "\t  8 & 2023-07-14 & Mouse    &  758.05 & 5 & North\\\\\n",
       "\t  9 & 2023-10-02 & Mouse    & 1717.20 & 4 & South\\\\\n",
       "\t 10 & 2023-10-15 & Laptop   & 1437.21 & 3 & North\\\\\n",
       "\\end{tabular}\n"
      ],
      "text/markdown": [
       "\n",
       "A tibble: 10 × 6\n",
       "\n",
       "| TransactionID &lt;dbl&gt; | Date &lt;date&gt; | Product &lt;chr&gt; | Amount &lt;dbl&gt; | Quantity &lt;dbl&gt; | Region &lt;chr&gt; |\n",
       "|---|---|---|---|---|---|\n",
       "|  1 | 2023-01-27 | Keyboard | 1039.05 | 1 | South |\n",
       "|  2 | 2023-05-18 | Tablet   |  597.55 | 5 | East  |\n",
       "|  3 | 2023-02-14 | Keyboard | 1539.48 | 1 | West  |\n",
       "|  4 | 2023-07-28 | Mouse    |  261.66 | 1 | South |\n",
       "|  5 | 2023-05-17 | Monitor  | 1047.73 | 1 | South |\n",
       "|  6 | 2023-02-25 | Keyboard | 1824.05 | 2 | East  |\n",
       "|  7 | 2023-01-20 | Monitor  |  475.83 | 1 | North |\n",
       "|  8 | 2023-07-14 | Mouse    |  758.05 | 5 | North |\n",
       "|  9 | 2023-10-02 | Mouse    | 1717.20 | 4 | South |\n",
       "| 10 | 2023-10-15 | Laptop   | 1437.21 | 3 | North |\n",
       "\n"
      ],
      "text/plain": [
       "   TransactionID Date       Product  Amount  Quantity Region\n",
       "1   1            2023-01-27 Keyboard 1039.05 1        South \n",
       "2   2            2023-05-18 Tablet    597.55 5        East  \n",
       "3   3            2023-02-14 Keyboard 1539.48 1        West  \n",
       "4   4            2023-07-28 Mouse     261.66 1        South \n",
       "5   5            2023-05-17 Monitor  1047.73 1        South \n",
       "6   6            2023-02-25 Keyboard 1824.05 2        East  \n",
       "7   7            2023-01-20 Monitor   475.83 1        North \n",
       "8   8            2023-07-14 Mouse     758.05 5        North \n",
       "9   9            2023-10-02 Mouse    1717.20 4        South \n",
       "10 10            2023-10-15 Laptop   1437.21 3        North "
      ]
     },
     "metadata": {},
     "output_type": "display_data"
    }
   ],
   "source": [
    "# First 10 rows of sales data\n",
    "print(\"First 10 rows of sales_df:\")\n",
    "head(sales_df, 10)"
   ]
  },
  {
   "cell_type": "markdown",
   "id": "c13bffad",
   "metadata": {},
   "source": [
    "There are sales data for the year 2023 (at least in the first ten rows) across 4 regions. The sales data contains 6 variables, TransID, date, product, amount, quantity, and region.\n"
   ]
  },
  {
   "cell_type": "code",
   "execution_count": 7,
   "id": "787161c8",
   "metadata": {
    "vscode": {
     "languageId": "r"
    }
   },
   "outputs": [
    {
     "name": "stdout",
     "output_type": "stream",
     "text": [
      "[1] \"Structure of sales_df:\"\n",
      "spc_tbl_ [100 × 6] (S3: spec_tbl_df/tbl_df/tbl/data.frame)\n",
      " $ TransactionID: num [1:100] 1 2 3 4 5 6 7 8 9 10 ...\n",
      " $ Date         : Date[1:100], format: \"2023-01-27\" \"2023-05-18\" ...\n",
      " $ Product      : chr [1:100] \"Keyboard\" \"Tablet\" \"Keyboard\" \"Mouse\" ...\n",
      " $ Amount       : num [1:100] 1039 598 1539 262 1048 ...\n",
      " $ Quantity     : num [1:100] 1 5 1 1 1 2 1 5 4 3 ...\n",
      " $ Region       : chr [1:100] \"South\" \"East\" \"West\" \"South\" ...\n",
      " - attr(*, \"spec\")=\n",
      "  .. cols(\n",
      "  ..   TransactionID = \u001b[32mcol_double()\u001b[39m,\n",
      "  ..   Date = \u001b[34mcol_date(format = \"\")\u001b[39m,\n",
      "  ..   Product = \u001b[31mcol_character()\u001b[39m,\n",
      "  ..   Amount = \u001b[32mcol_double()\u001b[39m,\n",
      "  ..   Quantity = \u001b[32mcol_double()\u001b[39m,\n",
      "  ..   Region = \u001b[31mcol_character()\u001b[39m\n",
      "  .. )\n",
      " - attr(*, \"problems\")=<externalptr> \n"
     ]
    }
   ],
   "source": [
    "# Structure of sales data\n",
    "print(\"Structure of sales_df:\")\n",
    "str(sales_df)"
   ]
  },
  {
   "cell_type": "markdown",
   "id": "20f741ba",
   "metadata": {},
   "source": [
    "The file contains 100 rows (observations/transactions) × 6 columns (variables) and it's a tibble. The transID is a float and a unique identifier. Date is a date variable, Rroduct is a string, Amount is formatted as currency, and Region is string."
   ]
  },
  {
   "cell_type": "code",
   "execution_count": 8,
   "id": "c8d24625",
   "metadata": {
    "vscode": {
     "languageId": "r"
    }
   },
   "outputs": [
    {
     "name": "stdout",
     "output_type": "stream",
     "text": [
      "[1] \"Summary statistics for sales_df:\"\n"
     ]
    },
    {
     "data": {
      "text/plain": [
       " TransactionID         Date              Product              Amount       \n",
       " Min.   :  1.00   Min.   :2023-01-01   Length:100         Min.   :  58.06  \n",
       " 1st Qu.: 25.75   1st Qu.:2023-03-20   Class :character   1st Qu.: 520.79  \n",
       " Median : 50.50   Median :2023-07-03   Mode  :character   Median : 960.75  \n",
       " Mean   : 50.50   Mean   :2023-06-27                      Mean   : 962.71  \n",
       " 3rd Qu.: 75.25   3rd Qu.:2023-09-25                      3rd Qu.:1384.63  \n",
       " Max.   :100.00   Max.   :2023-12-26                      Max.   :1985.60  \n",
       "    Quantity       Region         \n",
       " Min.   :1.00   Length:100        \n",
       " 1st Qu.:1.00   Class :character  \n",
       " Median :3.00   Mode  :character  \n",
       " Mean   :2.69                     \n",
       " 3rd Qu.:4.00                     \n",
       " Max.   :5.00                     "
      ]
     },
     "metadata": {},
     "output_type": "display_data"
    }
   ],
   "source": [
    "# Summary statistics for sales data\n",
    "print(\"Summary statistics for sales_df:\")\n",
    "summary(sales_df)"
   ]
  },
  {
   "cell_type": "markdown",
   "id": "6e3704e9",
   "metadata": {},
   "source": [
    "**Your observations about sales_df:**\n",
    "\n",
    "There are sales data for the year 2023 (at least in the first ten rows) across 4 regions. The sales data contains 6 variables, TransID, date, product, amount, quantity, and region. The file contains 100 rows (observations/transactions) × 6 columns (variables) and it's a tibble. The transID is a float and a unique identifier. Date is a date variable, Rroduct is a string, Amount is formatted as currency, and Region is string. I don't see why transaction id is a float and doesn't just increment by 1."
   ]
  },
  {
   "cell_type": "markdown",
   "id": "bf96d289",
   "metadata": {},
   "source": [
    "### 2.2 Ratings Data Inspection"
   ]
  },
  {
   "cell_type": "code",
   "execution_count": 9,
   "id": "1ac6fc99",
   "metadata": {
    "vscode": {
     "languageId": "r"
    }
   },
   "outputs": [
    {
     "data": {
      "text/html": [
       "<table class=\"dataframe\">\n",
       "<caption>A tibble: 6 × 5</caption>\n",
       "<thead>\n",
       "\t<tr><th scope=col>CustomerID</th><th scope=col>ProductRating</th><th scope=col>ServiceRating</th><th scope=col>OverallSatisfaction</th><th scope=col>RecommendationScore</th></tr>\n",
       "\t<tr><th scope=col>&lt;dbl&gt;</th><th scope=col>&lt;dbl&gt;</th><th scope=col>&lt;dbl&gt;</th><th scope=col>&lt;dbl&gt;</th><th scope=col>&lt;dbl&gt;</th></tr>\n",
       "</thead>\n",
       "<tbody>\n",
       "\t<tr><td>1</td><td>1</td><td>4</td><td>3</td><td>2</td></tr>\n",
       "\t<tr><td>2</td><td>3</td><td>2</td><td>4</td><td>7</td></tr>\n",
       "\t<tr><td>3</td><td>1</td><td>5</td><td>5</td><td>1</td></tr>\n",
       "\t<tr><td>4</td><td>1</td><td>2</td><td>3</td><td>6</td></tr>\n",
       "\t<tr><td>5</td><td>5</td><td>1</td><td>2</td><td>2</td></tr>\n",
       "\t<tr><td>6</td><td>4</td><td>2</td><td>2</td><td>6</td></tr>\n",
       "</tbody>\n",
       "</table>\n"
      ],
      "text/latex": [
       "A tibble: 6 × 5\n",
       "\\begin{tabular}{lllll}\n",
       " CustomerID & ProductRating & ServiceRating & OverallSatisfaction & RecommendationScore\\\\\n",
       " <dbl> & <dbl> & <dbl> & <dbl> & <dbl>\\\\\n",
       "\\hline\n",
       "\t 1 & 1 & 4 & 3 & 2\\\\\n",
       "\t 2 & 3 & 2 & 4 & 7\\\\\n",
       "\t 3 & 1 & 5 & 5 & 1\\\\\n",
       "\t 4 & 1 & 2 & 3 & 6\\\\\n",
       "\t 5 & 5 & 1 & 2 & 2\\\\\n",
       "\t 6 & 4 & 2 & 2 & 6\\\\\n",
       "\\end{tabular}\n"
      ],
      "text/markdown": [
       "\n",
       "A tibble: 6 × 5\n",
       "\n",
       "| CustomerID &lt;dbl&gt; | ProductRating &lt;dbl&gt; | ServiceRating &lt;dbl&gt; | OverallSatisfaction &lt;dbl&gt; | RecommendationScore &lt;dbl&gt; |\n",
       "|---|---|---|---|---|\n",
       "| 1 | 1 | 4 | 3 | 2 |\n",
       "| 2 | 3 | 2 | 4 | 7 |\n",
       "| 3 | 1 | 5 | 5 | 1 |\n",
       "| 4 | 1 | 2 | 3 | 6 |\n",
       "| 5 | 5 | 1 | 2 | 2 |\n",
       "| 6 | 4 | 2 | 2 | 6 |\n",
       "\n"
      ],
      "text/plain": [
       "  CustomerID ProductRating ServiceRating OverallSatisfaction\n",
       "1 1          1             4             3                  \n",
       "2 2          3             2             4                  \n",
       "3 3          1             5             5                  \n",
       "4 4          1             2             3                  \n",
       "5 5          5             1             2                  \n",
       "6 6          4             2             2                  \n",
       "  RecommendationScore\n",
       "1 2                  \n",
       "2 7                  \n",
       "3 1                  \n",
       "4 6                  \n",
       "5 2                  \n",
       "6 6                  "
      ]
     },
     "metadata": {},
     "output_type": "display_data"
    },
    {
     "name": "stdout",
     "output_type": "stream",
     "text": [
      "tibble [50 × 5] (S3: tbl_df/tbl/data.frame)\n",
      " $ CustomerID         : num [1:50] 1 2 3 4 5 6 7 8 9 10 ...\n",
      " $ ProductRating      : num [1:50] 1 3 1 1 5 4 3 5 4 4 ...\n",
      " $ ServiceRating      : num [1:50] 4 2 5 2 1 2 5 2 1 1 ...\n",
      " $ OverallSatisfaction: num [1:50] 3 4 5 3 2 2 5 5 3 2 ...\n",
      " $ RecommendationScore: num [1:50] 2 7 1 6 2 6 5 10 6 0 ...\n"
     ]
    },
    {
     "data": {
      "text/plain": [
       "   CustomerID    ProductRating ServiceRating  OverallSatisfaction\n",
       " Min.   : 1.00   Min.   :1.0   Min.   :1.00   Min.   :1.00       \n",
       " 1st Qu.:13.25   1st Qu.:2.0   1st Qu.:1.00   1st Qu.:2.00       \n",
       " Median :25.50   Median :3.0   Median :3.00   Median :3.00       \n",
       " Mean   :25.50   Mean   :3.2   Mean   :2.94   Mean   :2.92       \n",
       " 3rd Qu.:37.75   3rd Qu.:5.0   3rd Qu.:5.00   3rd Qu.:4.00       \n",
       " Max.   :50.00   Max.   :5.0   Max.   :5.00   Max.   :5.00       \n",
       " RecommendationScore\n",
       " Min.   : 0.0       \n",
       " 1st Qu.: 1.0       \n",
       " Median : 4.5       \n",
       " Mean   : 4.2       \n",
       " 3rd Qu.: 7.0       \n",
       " Max.   :10.0       "
      ]
     },
     "metadata": {},
     "output_type": "display_data"
    }
   ],
   "source": [
    "# TODO: Add your code here for ratings_df inspection\n",
    "# - First 10 rows\n",
    "head(ratings_df)\n",
    "# - Structure  \n",
    "str(ratings_df)\n",
    "# - Summary statistics\n",
    "summary(ratings_df)"
   ]
  },
  {
   "cell_type": "markdown",
   "id": "15bf4a1d",
   "metadata": {},
   "source": [
    "**Your observations about ratings_df:**\n",
    "\n",
    "There 50 customers (rows) and5 variables (columns) of rating data.\n",
    "\n",
    "CustomerID is a unique identifier for each customer (1 through 50)\n",
    "\n",
    "ProductRating is Product satisfaction ratings on a 1-5 scale with the Mean: 3.2 which is slightly above average\n",
    "\n",
    "ServiceRating is service quality ratings on a 1-5 scale with the Mean: 2.94 which is slightly below average\n",
    "\n",
    "OverallSatisfaction is overall experience ratings on a 1-5 scale with the Mean: 2.92 which is slightly below average\n",
    "\n",
    "RecommendationScore is Likelihood to recommend on a scale of 0-10 and the Mean is 4.2 which is neutral (5 would be neutral)\n",
    "\n",
    "Key Insights:\n",
    "Product ratings (3.2) are higher than service ratings (2.94). Overall satisfaction (2.92) aligns more with service than product ratings which means that service quality appears to be dragging down overall satisfaction and recommendation scores. May want to investigate why service ratings are lower than product ratings and work to improve service quality to boost overall satisfaction and recommendation rates."
   ]
  },
  {
   "cell_type": "code",
   "execution_count": null,
   "id": "a17a78cf",
   "metadata": {
    "vscode": {
     "languageId": "r"
    }
   },
   "outputs": [],
   "source": []
  },
  {
   "cell_type": "code",
   "execution_count": 10,
   "id": "737913d7",
   "metadata": {
    "vscode": {
     "languageId": "r"
    }
   },
   "outputs": [
    {
     "data": {
      "text/html": [
       "<table class=\"dataframe\">\n",
       "<caption>A tibble: 6 × 5</caption>\n",
       "<thead>\n",
       "\t<tr><th scope=col>FeedbackID</th><th scope=col>CustomerID</th><th scope=col>Feedback_Text</th><th scope=col>Contact_Info</th><th scope=col>Feedback_Date</th></tr>\n",
       "\t<tr><th scope=col>&lt;dbl&gt;</th><th scope=col>&lt;dbl&gt;</th><th scope=col>&lt;chr&gt;</th><th scope=col>&lt;chr&gt;</th><th scope=col>&lt;dttm&gt;</th></tr>\n",
       "</thead>\n",
       "<tbody>\n",
       "\t<tr><td>1</td><td>12</td><td>Highly recommend this item      </td><td>bob.wilson@test.org   </td><td>2024-02-23</td></tr>\n",
       "\t<tr><td>2</td><td>40</td><td>Excellent service               </td><td>555-123-4567          </td><td>2024-01-21</td></tr>\n",
       "\t<tr><td>3</td><td>34</td><td>Poor quality control            </td><td>jane_smith@company.com</td><td>2023-09-02</td></tr>\n",
       "\t<tr><td>4</td><td> 1</td><td>average product, nothing special</td><td>jane_smith@company.com</td><td>2023-08-21</td></tr>\n",
       "\t<tr><td>5</td><td>47</td><td>AMAZING customer support!!!     </td><td>555-123-4567          </td><td>2023-04-24</td></tr>\n",
       "\t<tr><td>6</td><td>13</td><td>AMAZING customer support!!!     </td><td>john.doe@email.com    </td><td>2023-04-16</td></tr>\n",
       "</tbody>\n",
       "</table>\n"
      ],
      "text/latex": [
       "A tibble: 6 × 5\n",
       "\\begin{tabular}{lllll}\n",
       " FeedbackID & CustomerID & Feedback\\_Text & Contact\\_Info & Feedback\\_Date\\\\\n",
       " <dbl> & <dbl> & <chr> & <chr> & <dttm>\\\\\n",
       "\\hline\n",
       "\t 1 & 12 & Highly recommend this item       & bob.wilson@test.org    & 2024-02-23\\\\\n",
       "\t 2 & 40 & Excellent service                & 555-123-4567           & 2024-01-21\\\\\n",
       "\t 3 & 34 & Poor quality control             & jane\\_smith@company.com & 2023-09-02\\\\\n",
       "\t 4 &  1 & average product, nothing special & jane\\_smith@company.com & 2023-08-21\\\\\n",
       "\t 5 & 47 & AMAZING customer support!!!      & 555-123-4567           & 2023-04-24\\\\\n",
       "\t 6 & 13 & AMAZING customer support!!!      & john.doe@email.com     & 2023-04-16\\\\\n",
       "\\end{tabular}\n"
      ],
      "text/markdown": [
       "\n",
       "A tibble: 6 × 5\n",
       "\n",
       "| FeedbackID &lt;dbl&gt; | CustomerID &lt;dbl&gt; | Feedback_Text &lt;chr&gt; | Contact_Info &lt;chr&gt; | Feedback_Date &lt;dttm&gt; |\n",
       "|---|---|---|---|---|\n",
       "| 1 | 12 | Highly recommend this item       | bob.wilson@test.org    | 2024-02-23 |\n",
       "| 2 | 40 | Excellent service                | 555-123-4567           | 2024-01-21 |\n",
       "| 3 | 34 | Poor quality control             | jane_smith@company.com | 2023-09-02 |\n",
       "| 4 |  1 | average product, nothing special | jane_smith@company.com | 2023-08-21 |\n",
       "| 5 | 47 | AMAZING customer support!!!      | 555-123-4567           | 2023-04-24 |\n",
       "| 6 | 13 | AMAZING customer support!!!      | john.doe@email.com     | 2023-04-16 |\n",
       "\n"
      ],
      "text/plain": [
       "  FeedbackID CustomerID Feedback_Text                    Contact_Info          \n",
       "1 1          12         Highly recommend this item       bob.wilson@test.org   \n",
       "2 2          40         Excellent service                555-123-4567          \n",
       "3 3          34         Poor quality control             jane_smith@company.com\n",
       "4 4           1         average product, nothing special jane_smith@company.com\n",
       "5 5          47         AMAZING customer support!!!      555-123-4567          \n",
       "6 6          13         AMAZING customer support!!!      john.doe@email.com    \n",
       "  Feedback_Date\n",
       "1 2024-02-23   \n",
       "2 2024-01-21   \n",
       "3 2023-09-02   \n",
       "4 2023-08-21   \n",
       "5 2023-04-24   \n",
       "6 2023-04-16   "
      ]
     },
     "metadata": {},
     "output_type": "display_data"
    },
    {
     "name": "stdout",
     "output_type": "stream",
     "text": [
      "tibble [100 × 5] (S3: tbl_df/tbl/data.frame)\n",
      " $ FeedbackID   : num [1:100] 1 2 3 4 5 6 7 8 9 10 ...\n",
      " $ CustomerID   : num [1:100] 12 40 34 1 47 13 13 37 49 23 ...\n",
      " $ Feedback_Text: chr [1:100] \"Highly recommend this item\" \"Excellent service\" \"Poor quality control\" \"average product, nothing special\" ...\n",
      " $ Contact_Info : chr [1:100] \"bob.wilson@test.org\" \"555-123-4567\" \"jane_smith@company.com\" \"jane_smith@company.com\" ...\n",
      " $ Feedback_Date: POSIXct[1:100], format: \"2024-02-23\" \"2024-01-21\" ...\n"
     ]
    },
    {
     "data": {
      "text/plain": [
       "   FeedbackID       CustomerID    Feedback_Text      Contact_Info      \n",
       " Min.   :  1.00   Min.   : 1.00   Length:100         Length:100        \n",
       " 1st Qu.: 25.75   1st Qu.:15.00   Class :character   Class :character  \n",
       " Median : 50.50   Median :26.00   Mode  :character   Mode  :character  \n",
       " Mean   : 50.50   Mean   :26.27                                        \n",
       " 3rd Qu.: 75.25   3rd Qu.:38.00                                        \n",
       " Max.   :100.00   Max.   :50.00                                        \n",
       " Feedback_Date                \n",
       " Min.   :2023-01-03 00:00:00  \n",
       " 1st Qu.:2023-04-23 18:00:00  \n",
       " Median :2023-08-24 12:00:00  \n",
       " Mean   :2023-08-22 07:26:24  \n",
       " 3rd Qu.:2023-12-07 06:00:00  \n",
       " Max.   :2024-03-30 00:00:00  "
      ]
     },
     "metadata": {},
     "output_type": "display_data"
    }
   ],
   "source": [
    "# TODO: Add your code here for comments_df inspection\n",
    "# - First 10 rows\n",
    "head(comments_df)\n",
    "# - Structure\n",
    "str(comments_df)\n",
    "# - Summary statistics\n",
    "summary(comments_df)"
   ]
  },
  {
   "cell_type": "markdown",
   "id": "22e57679",
   "metadata": {},
   "source": [
    "**Your observations about comments_df:**\n",
    "\n",
    "FeedbackID: Unique identifier for each feedback entry (1 through 100)\n",
    "\n",
    "CustomerID: Customer identifiers (range: 1-50)\n",
    "\n",
    "Feedback_Text: chr [1:100] \n",
    "\n",
    "Contact_Info: chr [1:100] Mixed contact information: emails and phone numbers\n",
    "\n",
    "Feedback_Date: POSIXct[1:100] Timestamps of when feedback was provided"
   ]
  },
  {
   "cell_type": "markdown",
   "id": "41902067",
   "metadata": {},
   "source": [
    "**Reflection Question 1:** What did you observe about the structure and content of the data files you loaded? What insights can you share about the quality and organization of the data?\n",
    "\n",
    "**Your Answer:**\n",
    "\n",
    "There are no missing values shown in structure output and the data types for each variable are appropriate. The value ranges (Amount: $261-$1824, Quantity: 1-5 units) are reasonable and there is consistent formatting across records."
   ]
  },
  {
   "cell_type": "markdown",
   "id": "cccf1c99",
   "metadata": {},
   "source": [
    "### Question 1: Data Types Analysis\n",
    "\n",
    "Based on your inspection of `sales_df`, what are the data types of the `Date` and `Amount` columns? Are these data types appropriate for typical business analytics tasks involving sales data? Explain why or why not.\n",
    "\n",
    "**Your Answer:**\n",
    "\n",
    "Date Column: Data Type: Date col_date(format = \"\")\n",
    "The data type is ideal because it allows for time series analysis, date operations like calculating days between events, and filtering by date ranges. It also allows seasonality analysis which can identify patterns by month, quarter, or seasons.\n",
    "\n",
    "Amount Column: Data Type: Numeric/Double col_double(). Decimal numbers for currency amounts.\n",
    "The data type is ideal because it allows mathematical operations, financial analysis and statistical analysis.\n"
   ]
  },
  {
   "cell_type": "markdown",
   "id": "312be029",
   "metadata": {},
   "source": []
  },
  {
   "cell_type": "markdown",
   "id": "ab78e27a",
   "metadata": {},
   "source": [
    "### Question 2: Data Quality Assessment\n",
    "\n",
    "Looking at all three datasets, what potential data quality issues do you notice? Consider missing values, data types, and any unusual patterns.\n",
    "\n",
    "**Your Answer:**\n",
    "\n",
    "The contact info field combines email addresses and phone numbers in a single column, which makes it difficult to categorize or analyze contact methods. I recommend splitting them into separate columns, one for email and one for phone numbers.\n",
    "The CustomerID field shows inconsistencies across datasets—ratings_df contains only 50 unique CustomerIDs while feedback_df appears to have multiple entries per customer. I would suggest verifying if all CustomerID align across datasets."
   ]
  },
  {
   "cell_type": "markdown",
   "id": "4f119d61",
   "metadata": {},
   "source": [
    "### Question 3: Analysis Readiness\n",
    "\n",
    "Which of the three datasets appears most ready for analysis, and which would require the most preprocessing? Justify your answer.\n",
    "\n",
    "**Your Answer:**\n",
    "\n",
    "sales_df is the most ready for analysis because it employs perfect data types: Date as Date, numbers as numeric, text as character, no missing values (complete records with no null values). It has well-organized columns with logical names, appropriate value ranges (reasonable amounts and quantities).\n",
    "feedback_df would require the most preprocessing due to having to split the contact info into two separate columns, one for email and one for phone number."
   ]
  },
  {
   "cell_type": "markdown",
   "id": "8ad26c10",
   "metadata": {},
   "source": [
    "---\n",
    "\n",
    "## Submission Checklist\n",
    "\n",
    "Before submitting, make sure you have:\n",
    "\n",
    "- [ ] Completed all code cells in Parts 1 and 2\n",
    "- [ ] Run all cells to show output\n",
    "- [ ] Added your observations for each dataset\n",
    "- [ ] Answered all reflection questions in Part 3\n",
    "- [ ] Added your name and date at the top\n",
    "- [ ] Saved the notebook\n",
    "- [ ] Committed and pushed your changes to GitHub\n",
    "\n",
    "**Great work completing your first R data analysis assignment! 🎉**"
   ]
  },
  {
   "cell_type": "markdown",
   "id": "5fe3aeb4",
   "metadata": {},
   "source": [
    "---\n",
    "\n",
    "## 🚀 Ready to Submit?\n",
    "\n",
    "### Easy Submission Steps (No Command Line Required!):\n",
    "\n",
    "1. **Save this notebook** (Ctrl+S or File → Save)\n",
    "\n",
    "2. **Use VS Code Source Control**:\n",
    "   - Click the **Source Control** icon in the left sidebar (tree branch symbol)\n",
    "   - Click the **\"+\"** button next to your notebook file\n",
    "   - Type a message: `Submit homework 1 - [Your Name]`\n",
    "   - Click **\"Commit\"** \n",
    "   - Click **\"Sync Changes\"** or **\"Push\"**\n",
    "\n",
    "3. **Verify on GitHub**: Go to your repository online and confirm your notebook appears with your completed work\n",
    "\n",
    "**📖 Need help?** See [GITHUB_CLASSROOM_SUBMISSION.md](../../GITHUB_CLASSROOM_SUBMISSION.md) for detailed instructions.\n",
    "\n",
    "**🎉 Congratulations on completing your first R data analysis assignment!**"
   ]
  }
 ],
 "metadata": {
  "kernelspec": {
   "display_name": "R",
   "language": "R",
   "name": "ir"
  },
  "language_info": {
   "codemirror_mode": "r",
   "file_extension": ".r",
   "mimetype": "text/x-r-source",
   "name": "R",
   "pygments_lexer": "r",
   "version": "4.4.3"
  }
 },
 "nbformat": 4,
 "nbformat_minor": 5
}
