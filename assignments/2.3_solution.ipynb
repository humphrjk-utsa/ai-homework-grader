{
 "cells": [
  {
   "cell_type": "markdown",
   "id": "0628f0f4",
   "metadata": {},
   "source": [
    "# Homework Assignment - Lesson 2: Data Cleaning - Handling Missing Values and Outliers\n",
    "\n",
    "**Student Name:** Solution Key  \n",
    "**Date:** 2025  \n",
    "**Course:** Data Management  \n",
    "\n",
    "---\n",
    "\n",
    "## Instructions\n",
    "\n",
    "Complete all the tasks below by adding your R code in the code cells and your written responses in markdown cells. This assignment focuses on real-world data cleaning techniques including handling missing values and outliers.\n",
    "\n",
    "**💡 Key Learning Goals:**\n",
    "- Identify and handle missing values using multiple strategies\n",
    "- Detect and treat outliers using statistical methods\n",
    "- Make informed decisions about data quality trade-offs\n",
    "- Document your data cleaning process and reasoning\n",
    "\n",
    "**📋 SUBMISSION**: When you're done, see [GITHUB_CLASSROOM_SUBMISSION.md](../../GITHUB_CLASSROOM_SUBMISSION.md) for complete submission instructions.\n",
    "\n",
    "---"
   ]
  },
  {
   "cell_type": "markdown",
   "id": "2c9d18a6",
   "metadata": {},
   "source": [
    "### Part 1: Data Import and Initial Assessment\n",
    "\n",
    "In this section, you'll import a \"messy\" dataset that contains missing values and outliers, simulating real-world data quality challenges."
   ]
  },
  {
   "cell_type": "markdown",
   "id": "dc395004",
   "metadata": {},
   "source": [
    "#### 1.1 Environment Setup\n",
    "\n",
    "Load the required packages for data cleaning and analysis."
   ]
  },
  {
   "cell_type": "code",
   "execution_count": 59,
   "id": "aa15a71d",
   "metadata": {
    "vscode": {
     "languageId": "r"
    }
   },
   "outputs": [
    {
     "data": {
      "text/html": [
       "'/Users/humphrjk/Data-Management-Assignment-1-Intro-to-R/data'"
      ],
      "text/latex": [
       "'/Users/humphrjk/Data-Management-Assignment-1-Intro-to-R/data'"
      ],
      "text/markdown": [
       "'/Users/humphrjk/Data-Management-Assignment-1-Intro-to-R/data'"
      ],
      "text/plain": [
       "[1] \"/Users/humphrjk/Data-Management-Assignment-1-Intro-to-R/data\""
      ]
     },
     "metadata": {},
     "output_type": "display_data"
    }
   ],
   "source": [
    "# Load required packages for data cleaning\n",
    "library(tidyverse) # For data manipulation and visualization\n",
    "\n",
    "# Check current working directory\n",
    "getwd()\n",
    "setwd(\"/Users/humphrjk/Data-Management-Assignment-1-Intro-to-R/data\")"
   ]
  },
  {
   "cell_type": "markdown",
   "id": "2096d578",
   "metadata": {},
   "source": [
    "#### 1.2 Import Messy Dataset\n",
    "\n",
    "Import the provided messy sales dataset that contains real-world data quality issues including missing values, outliers, and inconsistencies."
   ]
  },
  {
   "cell_type": "code",
   "execution_count": 60,
   "id": "f92518c5",
   "metadata": {
    "vscode": {
     "languageId": "r"
    }
   },
   "outputs": [
    {
     "name": "stderr",
     "output_type": "stream",
     "text": [
      "\u001b[1mRows: \u001b[22m\u001b[34m200\u001b[39m \u001b[1mColumns: \u001b[22m\u001b[34m6\u001b[39m\n",
      "\u001b[36m──\u001b[39m \u001b[1mColumn specification\u001b[22m \u001b[36m────────────────────────────────────────────────────────\u001b[39m\n",
      "\u001b[1mDelimiter:\u001b[22m \",\"\n",
      "\u001b[31mchr\u001b[39m  (2): Customer_Name, Product_Category\n",
      "\u001b[32mdbl\u001b[39m  (3): TransactionID, Sales_Amount, Quantity\n",
      "\u001b[34mdate\u001b[39m (1): Purchase_Date\n",
      "\n",
      "\u001b[36mℹ\u001b[39m Use `spec()` to retrieve the full column specification for this data.\n",
      "\u001b[36mℹ\u001b[39m Specify the column types or set `show_col_types = FALSE` to quiet this message.\n"
     ]
    },
    {
     "name": "stdout",
     "output_type": "stream",
     "text": [
      "[1] \"Messy sales dataset imported successfully!\"\n",
      "[1] \"Dataset contains 200 rows and 6 columns\"\n",
      "[1] \"Column names: TransactionID, Customer_Name, Product_Category, Sales_Amount, Purchase_Date, Quantity\"\n"
     ]
    }
   ],
   "source": [
    "# Import the messy sales dataset\n",
    "messy_sales <- read_csv(\"messy_sales_data.csv\")\n",
    "\n",
    "print(\"Messy sales dataset imported successfully!\")\n",
    "print(paste(\"Dataset contains\", nrow(messy_sales), \"rows and\", ncol(messy_sales), \"columns\"))\n",
    "print(paste(\"Column names:\", paste(names(messy_sales), collapse = \", \")))"
   ]
  },
  {
   "cell_type": "markdown",
   "id": "c5cc88b0",
   "metadata": {},
   "source": [
    "#### 1.3 Initial Data Assessment\n",
    "\n",
    "Perform a comprehensive inspection of the messy dataset to understand its structure and identify data quality issues."
   ]
  },
  {
   "cell_type": "code",
   "execution_count": 61,
   "id": "f2616bc0",
   "metadata": {
    "vscode": {
     "languageId": "r"
    }
   },
   "outputs": [
    {
     "name": "stdout",
     "output_type": "stream",
     "text": [
      "[1] \"=== DATASET OVERVIEW ===\"\n"
     ]
    },
    {
     "data": {
      "text/html": [
       "<table class=\"dataframe\">\n",
       "<caption>A tibble: 10 × 6</caption>\n",
       "<thead>\n",
       "\t<tr><th scope=col>TransactionID</th><th scope=col>Customer_Name</th><th scope=col>Product_Category</th><th scope=col>Sales_Amount</th><th scope=col>Purchase_Date</th><th scope=col>Quantity</th></tr>\n",
       "\t<tr><th scope=col>&lt;dbl&gt;</th><th scope=col>&lt;chr&gt;</th><th scope=col>&lt;chr&gt;</th><th scope=col>&lt;dbl&gt;</th><th scope=col>&lt;date&gt;</th><th scope=col>&lt;dbl&gt;</th></tr>\n",
       "</thead>\n",
       "<tbody>\n",
       "\t<tr><td> 1</td><td>NA         </td><td>Home       </td><td> 362.3175</td><td>NA</td><td>  2</td></tr>\n",
       "\t<tr><td> 2</td><td>Alice Brown</td><td>Clothing   </td><td> 573.0791</td><td>2023-10-21</td><td>  3</td></tr>\n",
       "\t<tr><td> 3</td><td>Jane Doe   </td><td>Electronics</td><td> 487.6874</td><td>2023-12-28</td><td> -1</td></tr>\n",
       "\t<tr><td> 4</td><td>Jane Doe   </td><td>Electronics</td><td>5000.0000</td><td>2023-06-16</td><td>  7</td></tr>\n",
       "\t<tr><td> 5</td><td>John Smith </td><td>Books      </td><td> 344.1746</td><td>2023-05-05</td><td>100</td></tr>\n",
       "\t<tr><td> 6</td><td>John Smith </td><td>Books      </td><td> 434.9527</td><td>2023-11-28</td><td>  4</td></tr>\n",
       "\t<tr><td> 7</td><td>Jane Doe   </td><td>Home       </td><td> 489.0863</td><td>2023-08-17</td><td>  0</td></tr>\n",
       "\t<tr><td> 8</td><td>Jane Doe   </td><td>Electronics</td><td> 536.9202</td><td>2023-05-17</td><td>  7</td></tr>\n",
       "\t<tr><td> 9</td><td>Jane Doe   </td><td>Clothing   </td><td> 793.3933</td><td>2023-08-13</td><td>  3</td></tr>\n",
       "\t<tr><td>10</td><td>Jane Doe   </td><td>electronics</td><td> 649.4286</td><td>2023-10-16</td><td>  2</td></tr>\n",
       "</tbody>\n",
       "</table>\n"
      ],
      "text/latex": [
       "A tibble: 10 × 6\n",
       "\\begin{tabular}{llllll}\n",
       " TransactionID & Customer\\_Name & Product\\_Category & Sales\\_Amount & Purchase\\_Date & Quantity\\\\\n",
       " <dbl> & <chr> & <chr> & <dbl> & <date> & <dbl>\\\\\n",
       "\\hline\n",
       "\t  1 & NA          & Home        &  362.3175 & NA &   2\\\\\n",
       "\t  2 & Alice Brown & Clothing    &  573.0791 & 2023-10-21 &   3\\\\\n",
       "\t  3 & Jane Doe    & Electronics &  487.6874 & 2023-12-28 &  -1\\\\\n",
       "\t  4 & Jane Doe    & Electronics & 5000.0000 & 2023-06-16 &   7\\\\\n",
       "\t  5 & John Smith  & Books       &  344.1746 & 2023-05-05 & 100\\\\\n",
       "\t  6 & John Smith  & Books       &  434.9527 & 2023-11-28 &   4\\\\\n",
       "\t  7 & Jane Doe    & Home        &  489.0863 & 2023-08-17 &   0\\\\\n",
       "\t  8 & Jane Doe    & Electronics &  536.9202 & 2023-05-17 &   7\\\\\n",
       "\t  9 & Jane Doe    & Clothing    &  793.3933 & 2023-08-13 &   3\\\\\n",
       "\t 10 & Jane Doe    & electronics &  649.4286 & 2023-10-16 &   2\\\\\n",
       "\\end{tabular}\n"
      ],
      "text/markdown": [
       "\n",
       "A tibble: 10 × 6\n",
       "\n",
       "| TransactionID &lt;dbl&gt; | Customer_Name &lt;chr&gt; | Product_Category &lt;chr&gt; | Sales_Amount &lt;dbl&gt; | Purchase_Date &lt;date&gt; | Quantity &lt;dbl&gt; |\n",
       "|---|---|---|---|---|---|\n",
       "|  1 | NA          | Home        |  362.3175 | NA |   2 |\n",
       "|  2 | Alice Brown | Clothing    |  573.0791 | 2023-10-21 |   3 |\n",
       "|  3 | Jane Doe    | Electronics |  487.6874 | 2023-12-28 |  -1 |\n",
       "|  4 | Jane Doe    | Electronics | 5000.0000 | 2023-06-16 |   7 |\n",
       "|  5 | John Smith  | Books       |  344.1746 | 2023-05-05 | 100 |\n",
       "|  6 | John Smith  | Books       |  434.9527 | 2023-11-28 |   4 |\n",
       "|  7 | Jane Doe    | Home        |  489.0863 | 2023-08-17 |   0 |\n",
       "|  8 | Jane Doe    | Electronics |  536.9202 | 2023-05-17 |   7 |\n",
       "|  9 | Jane Doe    | Clothing    |  793.3933 | 2023-08-13 |   3 |\n",
       "| 10 | Jane Doe    | electronics |  649.4286 | 2023-10-16 |   2 |\n",
       "\n"
      ],
      "text/plain": [
       "   TransactionID Customer_Name Product_Category Sales_Amount Purchase_Date\n",
       "1   1            NA            Home              362.3175    <NA>         \n",
       "2   2            Alice Brown   Clothing          573.0791    2023-10-21   \n",
       "3   3            Jane Doe      Electronics       487.6874    2023-12-28   \n",
       "4   4            Jane Doe      Electronics      5000.0000    2023-06-16   \n",
       "5   5            John Smith    Books             344.1746    2023-05-05   \n",
       "6   6            John Smith    Books             434.9527    2023-11-28   \n",
       "7   7            Jane Doe      Home              489.0863    2023-08-17   \n",
       "8   8            Jane Doe      Electronics       536.9202    2023-05-17   \n",
       "9   9            Jane Doe      Clothing          793.3933    2023-08-13   \n",
       "10 10            Jane Doe      electronics       649.4286    2023-10-16   \n",
       "   Quantity\n",
       "1    2     \n",
       "2    3     \n",
       "3   -1     \n",
       "4    7     \n",
       "5  100     \n",
       "6    4     \n",
       "7    0     \n",
       "8    7     \n",
       "9    3     \n",
       "10   2     "
      ]
     },
     "metadata": {},
     "output_type": "display_data"
    }
   ],
   "source": [
    "# Inspect the messy dataset\n",
    "print(\"=== DATASET OVERVIEW ===\")\n",
    "head(messy_sales, 10) # First 10 rows"
   ]
  },
  {
   "cell_type": "code",
   "execution_count": 62,
   "id": "f3f0b0f6",
   "metadata": {
    "vscode": {
     "languageId": "r"
    }
   },
   "outputs": [
    {
     "name": "stdout",
     "output_type": "stream",
     "text": [
      "[1] \"=== DATA STRUCTURE ===\"\n",
      "spc_tbl_ [200 × 6] (S3: spec_tbl_df/tbl_df/tbl/data.frame)\n",
      " $ TransactionID   : num [1:200] 1 2 3 4 5 6 7 8 9 10 ...\n",
      " $ Customer_Name   : chr [1:200] NA \"Alice Brown\" \"Jane Doe\" \"Jane Doe\" ...\n",
      " $ Product_Category: chr [1:200] \"Home\" \"Clothing\" \"Electronics\" \"Electronics\" ...\n",
      " $ Sales_Amount    : num [1:200] 362 573 488 5000 344 ...\n",
      " $ Purchase_Date   : Date[1:200], format: NA \"2023-10-21\" ...\n",
      " $ Quantity        : num [1:200] 2 3 -1 7 100 4 0 7 3 2 ...\n",
      " - attr(*, \"spec\")=\n",
      "  .. cols(\n",
      "  ..   TransactionID = \u001b[32mcol_double()\u001b[39m,\n",
      "  ..   Customer_Name = \u001b[31mcol_character()\u001b[39m,\n",
      "  ..   Product_Category = \u001b[31mcol_character()\u001b[39m,\n",
      "  ..   Sales_Amount = \u001b[32mcol_double()\u001b[39m,\n",
      "  ..   Purchase_Date = \u001b[34mcol_date(format = \"\")\u001b[39m,\n",
      "  ..   Quantity = \u001b[32mcol_double()\u001b[39m\n",
      "  .. )\n",
      " - attr(*, \"problems\")=<externalptr> \n",
      "[1] \"=== SUMMARY STATISTICS ===\"\n"
     ]
    },
    {
     "data": {
      "text/plain": [
       " TransactionID    Customer_Name      Product_Category    Sales_Amount     \n",
       " Min.   :  1.00   Length:200         Length:200         Min.   :  -100.0  \n",
       " 1st Qu.: 50.75   Class :character   Class :character   1st Qu.:   362.6  \n",
       " Median :100.50   Mode  :character   Mode  :character   Median :   531.3  \n",
       " Mean   :100.50                                         Mean   :  1614.9  \n",
       " 3rd Qu.:150.25                                         3rd Qu.:   694.5  \n",
       " Max.   :200.00                                         Max.   :100000.0  \n",
       "                                                        NA's   :22        \n",
       " Purchase_Date           Quantity     \n",
       " Min.   :2023-01-06   Min.   : -1.00  \n",
       " 1st Qu.:2023-03-26   1st Qu.:  2.00  \n",
       " Median :2023-06-28   Median :  5.00  \n",
       " Mean   :2023-06-23   Mean   : 12.52  \n",
       " 3rd Qu.:2023-09-12   3rd Qu.:  8.00  \n",
       " Max.   :2023-12-28   Max.   :100.00  \n",
       " NA's   :14                           "
      ]
     },
     "metadata": {},
     "output_type": "display_data"
    }
   ],
   "source": [
    "# Structure and summary of the data\n",
    "print(\"=== DATA STRUCTURE ===\")\n",
    "str(messy_sales)\n",
    "\n",
    "print(\"=== SUMMARY STATISTICS ===\")\n",
    "summary(messy_sales)"
   ]
  },
  {
   "cell_type": "markdown",
   "id": "6a6ba3b1",
   "metadata": {},
   "source": [
    "**Data Quality Assessment:**\n",
    "\n",
    "Based on the imported messy_sales dataset, document all the data quality issues you observe:\n",
    "\n",
    "1. **Missing Values:** Multiple columns contain NA values, particularly in Customer_Name and Sales_Amount columns\n",
    "\n",
    "2. **Potential Outliers:** Sales_Amount shows extreme values including negative amounts and unusually high values over $10,000\n",
    "\n",
    "3. **Data Inconsistencies:** Product_Category has inconsistent naming conventions (e.g., \"Electronics\" vs \"Electronic\", \"Clothing\" vs \"Clothes\")\n",
    "\n",
    "4. **Data Types:** Purchase_Date appears to be character type and may need conversion to proper date format\n",
    "\n",
    "5. **Invalid Values:** Negative quantities present which are logically impossible for sales transactions\n",
    "\n",
    "**OBSERVATIONS:**\n",
    "\n",
    "The dataset contains typical real-world data quality issues including missing customer information, extreme outliers in sales amounts, inconsistent categorical data, and logically invalid values like negative quantities. These issues require systematic cleaning to ensure reliable analysis."
   ]
  },
  {
   "cell_type": "markdown",
   "id": "a9d136e7",
   "metadata": {},
   "source": [
    "---\n",
    "\n",
    "### Part 2: Missing Value Analysis and Treatment\n",
    "\n",
    "In this section, you'll identify missing values and apply different strategies to handle them."
   ]
  },
  {
   "cell_type": "markdown",
   "id": "b3c60d90",
   "metadata": {},
   "source": [
    "#### 2.1 Missing Value Identification\n",
    "\n",
    "Complete the following tasks to thoroughly understand the missing value patterns in your dataset."
   ]
  },
  {
   "cell_type": "code",
   "execution_count": 63,
   "id": "e49897c6",
   "metadata": {
    "vscode": {
     "languageId": "r"
    }
   },
   "outputs": [
    {
     "name": "stdout",
     "output_type": "stream",
     "text": [
      "[1] \"Total missing values: 52\"\n",
      "[1] \"Missing values per column:\"\n",
      "   TransactionID    Customer_Name Product_Category     Sales_Amount \n",
      "               0               16                0               22 \n",
      "   Purchase_Date         Quantity \n",
      "              14                0 \n",
      "[1] \"Rows with missing values: 44\"\n"
     ]
    }
   ],
   "source": [
    "# Calculate total missing values in the entire dataset\n",
    "total_missing <- sum(is.na(messy_sales))\n",
    "\n",
    "# Calculate missing values per column\n",
    "missing_per_column <- colSums(is.na(messy_sales))\n",
    "\n",
    "# Identify rows with missing values\n",
    "incomplete_rows <- sum(!complete.cases(messy_sales))\n",
    "\n",
    "print(paste(\"Total missing values:\", total_missing))\n",
    "print(\"Missing values per column:\")\n",
    "print(missing_per_column)\n",
    "print(paste(\"Rows with missing values:\", incomplete_rows))"
   ]
  },
  {
   "cell_type": "markdown",
   "id": "787161c8",
   "metadata": {},
   "source": [
    "#### 2.2 Missing Value Treatment - Option A (Removal)\n",
    "\n",
    "Create a dataset with all missing value rows removed and compare the results."
   ]
  },
  {
   "cell_type": "code",
   "execution_count": 64,
   "id": "c8d24625",
   "metadata": {
    "vscode": {
     "languageId": "r"
    }
   },
   "outputs": [
    {
     "name": "stdout",
     "output_type": "stream",
     "text": [
      "[1] \"Original dataset dimensions:\"\n",
      "[1] 200   6\n",
      "[1] \"After removing NA rows:\"\n",
      "[1] 156   6\n",
      "[1] \"Rows lost: 44\"\n"
     ]
    }
   ],
   "source": [
    "# Remove all rows with missing values\n",
    "sales_removed_na <- messy_sales[complete.cases(messy_sales), ]\n",
    "\n",
    "# Compare dimensions\n",
    "print(\"Original dataset dimensions:\")\n",
    "print(dim(messy_sales))\n",
    "print(\"After removing NA rows:\")\n",
    "print(dim(sales_removed_na))\n",
    "print(paste(\"Rows lost:\", nrow(messy_sales) - nrow(sales_removed_na)))"
   ]
  },
  {
   "cell_type": "markdown",
   "id": "6e3704e9",
   "metadata": {},
   "source": [
    "#### 2.3 Missing Value Treatment - Option B (Imputation)\n",
    "\n",
    "Apply appropriate imputation strategies for different types of variables."
   ]
  },
  {
   "cell_type": "code",
   "execution_count": 65,
   "id": "a705ae02",
   "metadata": {
    "vscode": {
     "languageId": "r"
    }
   },
   "outputs": [],
   "source": [
    "# Create a copy for imputation\n",
    "sales_imputed <- messy_sales"
   ]
  },
  {
   "cell_type": "code",
   "execution_count": 66,
   "id": "812ae2f5",
   "metadata": {
    "vscode": {
     "languageId": "r"
    }
   },
   "outputs": [],
   "source": [
    "# Create a mode function for categorical variables\n",
    "get_mode <- function(v) {\n",
    "  uniqv <- unique(v[!is.na(v)])\n",
    "  uniqv[which.max(tabulate(match(v, uniqv)))]\n",
    "}"
   ]
  },
  {
   "cell_type": "code",
   "execution_count": 67,
   "id": "2cc223b7",
   "metadata": {
    "vscode": {
     "languageId": "r"
    }
   },
   "outputs": [],
   "source": [
    "# Impute Customer_Name with mode (for categorical missing values)\n",
    "sales_imputed$Customer_Name[is.na(sales_imputed$Customer_Name)] <- get_mode(sales_imputed$Customer_Name)"
   ]
  },
  {
   "cell_type": "code",
   "execution_count": 68,
   "id": "99d32f7d",
   "metadata": {
    "vscode": {
     "languageId": "r"
    }
   },
   "outputs": [],
   "source": [
    "# To practice median imputation, try it on Quantity column\n",
    "# Impute Quantity with median (alternative approach for numeric data)\n",
    "sales_imputed$Quantity[is.na(sales_imputed$Quantity)] <- median(sales_imputed$Quantity, na.rm = TRUE)"
   ]
  },
  {
   "cell_type": "code",
   "execution_count": 69,
   "id": "4b33ef08",
   "metadata": {
    "vscode": {
     "languageId": "r"
    }
   },
   "outputs": [
    {
     "name": "stdout",
     "output_type": "stream",
     "text": [
      "[1] \"Missing values after imputation:\"\n",
      "   TransactionID    Customer_Name Product_Category     Sales_Amount \n",
      "               0                0                0               22 \n",
      "   Purchase_Date         Quantity \n",
      "              14                0 \n"
     ]
    }
   ],
   "source": [
    "# Verify imputation success\n",
    "print(\"Missing values after imputation:\")\n",
    "print(colSums(is.na(sales_imputed)))"
   ]
  },
  {
   "cell_type": "markdown",
   "id": "1ac6fc99",
   "metadata": {},
   "source": [
    "#### 2.4 Compare Missing Value Strategies\n",
    "\n",
    "Analyze the impact of different missing value treatment approaches."
   ]
  },
  {
   "cell_type": "code",
   "execution_count": 70,
   "id": "824146f8",
   "metadata": {
    "vscode": {
     "languageId": "r"
    }
   },
   "outputs": [
    {
     "name": "stdout",
     "output_type": "stream",
     "text": [
      "[1] \"=== ORIGINAL DATA ===\"\n"
     ]
    },
    {
     "data": {
      "text/plain": [
       "    Min.  1st Qu.   Median     Mean  3rd Qu.     Max.     NA's \n",
       "  -100.0    362.6    531.3   1614.9    694.5 100000.0       22 "
      ]
     },
     "metadata": {},
     "output_type": "display_data"
    }
   ],
   "source": [
    "# Compare summary statistics\n",
    "print(\"=== ORIGINAL DATA ===\")\n",
    "summary(messy_sales$Sales_Amount)"
   ]
  },
  {
   "cell_type": "code",
   "execution_count": 71,
   "id": "e3665b24",
   "metadata": {
    "vscode": {
     "languageId": "r"
    }
   },
   "outputs": [
    {
     "name": "stdout",
     "output_type": "stream",
     "text": [
      "[1] \"=== AFTER REMOVING NAs ===\"\n"
     ]
    },
    {
     "data": {
      "text/plain": [
       "     Min.   1st Qu.    Median      Mean   3rd Qu.      Max. \n",
       "   -56.72    361.79    537.48   1729.00    715.74 100000.00 "
      ]
     },
     "metadata": {},
     "output_type": "display_data"
    }
   ],
   "source": [
    "print(\"=== AFTER REMOVING NAs ===\")\n",
    "summary(sales_removed_na$Sales_Amount)"
   ]
  },
  {
   "cell_type": "code",
   "execution_count": 72,
   "id": "d60582ad",
   "metadata": {
    "vscode": {
     "languageId": "r"
    }
   },
   "outputs": [
    {
     "name": "stdout",
     "output_type": "stream",
     "text": [
      "[1] \"=== AFTER IMPUTATION ===\"\n"
     ]
    },
    {
     "data": {
      "text/plain": [
       "    Min.  1st Qu.   Median     Mean  3rd Qu.     Max.     NA's \n",
       "  -100.0    362.6    531.3   1614.9    694.5 100000.0       22 "
      ]
     },
     "metadata": {},
     "output_type": "display_data"
    }
   ],
   "source": [
    "print(\"=== AFTER IMPUTATION ===\")\n",
    "summary(sales_imputed$Sales_Amount)"
   ]
  },
  {
   "cell_type": "markdown",
   "id": "15bf4a1d",
   "metadata": {},
   "source": [
    "**Analysis Questions:**\n",
    "\n",
    "1. **Which approach would you recommend for this dataset and why?**\n",
    "\n",
    "I would recommend the imputation approach for this dataset because:\n",
    "- Removing all rows with missing values results in significant data loss (losing many observations)\n",
    "- The missing values appear to be randomly distributed rather than systematic\n",
    "- For business analysis, preserving sample size is important for statistical power\n",
    "- Imputation allows us to retain valuable information from partially complete records\n",
    "\n",
    "2. **What are the trade-offs between removal and imputation?**\n",
    "\n",
    "**Removal advantages:** Maintains data integrity, no artificial values introduced, simpler approach\n",
    "**Removal disadvantages:** Significant sample size reduction, potential bias if missing data isn't random, loss of valuable information\n",
    "\n",
    "**Imputation advantages:** Preserves sample size, retains partial information, better for statistical analysis\n",
    "**Imputation disadvantages:** Introduces artificial values, may mask true data patterns, requires assumptions about missing data mechanism"
   ]
  },
  {
   "cell_type": "markdown",
   "id": "33a50824",
   "metadata": {},
   "source": [
    "---\n",
    "\n",
    "### Part 3: Outlier Detection and Treatment\n",
    "\n",
    "Using your imputed dataset, identify and handle outliers in the Sales_Amount variable."
   ]
  },
  {
   "cell_type": "markdown",
   "id": "737913d7",
   "metadata": {},
   "source": [
    "#### 3.1 Outlier Detection Using IQR Method\n",
    "\n",
    "Apply the interquartile range method to identify outliers in Sales_Amount."
   ]
  },
  {
   "cell_type": "code",
   "execution_count": 73,
   "id": "9fbae5a6",
   "metadata": {
    "vscode": {
     "languageId": "r"
    }
   },
   "outputs": [],
   "source": [
    "# Calculate quartiles and IQR for Sales_Amount\n",
    "Q1_sales <- quantile(sales_imputed$Sales_Amount, 0.25, na.rm = TRUE)\n",
    "Q3_sales <- quantile(sales_imputed$Sales_Amount, 0.75, na.rm = TRUE)\n",
    "IQR_sales <- Q3_sales - Q1_sales"
   ]
  },
  {
   "cell_type": "code",
   "execution_count": 74,
   "id": "cc30ca3c",
   "metadata": {
    "vscode": {
     "languageId": "r"
    }
   },
   "outputs": [],
   "source": [
    "# Calculate outlier thresholds\n",
    "upper_threshold <- Q3_sales + 1.5 * IQR_sales\n",
    "lower_threshold <- Q1_sales - 1.5 * IQR_sales"
   ]
  },
  {
   "cell_type": "code",
   "execution_count": 75,
   "id": "f782a224",
   "metadata": {
    "vscode": {
     "languageId": "r"
    }
   },
   "outputs": [
    {
     "name": "stdout",
     "output_type": "stream",
     "text": [
      "[1] \"Q1: 362.578164415014\"\n",
      "[1] \"Q3: 694.479236061358\"\n",
      "[1] \"IQR: 331.901071646344\"\n",
      "[1] \"Lower threshold: -135.273443054502\"\n",
      "[1] \"Upper threshold: 1192.33084353087\"\n",
      "[1] \"Number of outliers found: 28\"\n",
      "[1] \"Outlier rows:\"\n",
      "\u001b[90m# A tibble: 28 × 6\u001b[39m\n",
      "   TransactionID Customer_Name Product_Category Sales_Amount Purchase_Date\n",
      "           \u001b[3m\u001b[90m<dbl>\u001b[39m\u001b[23m \u001b[3m\u001b[90m<chr>\u001b[39m\u001b[23m         \u001b[3m\u001b[90m<chr>\u001b[39m\u001b[23m                   \u001b[3m\u001b[90m<dbl>\u001b[39m\u001b[23m \u001b[3m\u001b[90m<date>\u001b[39m\u001b[23m       \n",
      "\u001b[90m 1\u001b[39m             4 Jane Doe      Electronics              \u001b[4m5\u001b[24m000 2023-06-16   \n",
      "\u001b[90m 2\u001b[39m            \u001b[31mNA\u001b[39m \u001b[31mNA\u001b[39m            \u001b[31mNA\u001b[39m                         \u001b[31mNA\u001b[39m \u001b[31mNA\u001b[39m           \n",
      "\u001b[90m 3\u001b[39m            \u001b[31mNA\u001b[39m \u001b[31mNA\u001b[39m            \u001b[31mNA\u001b[39m                         \u001b[31mNA\u001b[39m \u001b[31mNA\u001b[39m           \n",
      "\u001b[90m 4\u001b[39m            \u001b[31mNA\u001b[39m \u001b[31mNA\u001b[39m            \u001b[31mNA\u001b[39m                         \u001b[31mNA\u001b[39m \u001b[31mNA\u001b[39m           \n",
      "\u001b[90m 5\u001b[39m            \u001b[31mNA\u001b[39m \u001b[31mNA\u001b[39m            \u001b[31mNA\u001b[39m                         \u001b[31mNA\u001b[39m \u001b[31mNA\u001b[39m           \n",
      "\u001b[90m 6\u001b[39m            46 John Smith    Books                    \u001b[4m8\u001b[24m000 \u001b[31mNA\u001b[39m           \n",
      "\u001b[90m 7\u001b[39m            \u001b[31mNA\u001b[39m \u001b[31mNA\u001b[39m            \u001b[31mNA\u001b[39m                         \u001b[31mNA\u001b[39m \u001b[31mNA\u001b[39m           \n",
      "\u001b[90m 8\u001b[39m            \u001b[31mNA\u001b[39m \u001b[31mNA\u001b[39m            \u001b[31mNA\u001b[39m                         \u001b[31mNA\u001b[39m \u001b[31mNA\u001b[39m           \n",
      "\u001b[90m 9\u001b[39m            \u001b[31mNA\u001b[39m \u001b[31mNA\u001b[39m            \u001b[31mNA\u001b[39m                         \u001b[31mNA\u001b[39m \u001b[31mNA\u001b[39m           \n",
      "\u001b[90m10\u001b[39m            \u001b[31mNA\u001b[39m \u001b[31mNA\u001b[39m            \u001b[31mNA\u001b[39m                         \u001b[31mNA\u001b[39m \u001b[31mNA\u001b[39m           \n",
      "\u001b[90m# ℹ 18 more rows\u001b[39m\n",
      "\u001b[90m# ℹ 1 more variable: Quantity <dbl>\u001b[39m\n"
     ]
    }
   ],
   "source": [
    "# Identify outliers\n",
    "outliers <- sales_imputed[sales_imputed$Sales_Amount < lower_threshold | \n",
    "                         sales_imputed$Sales_Amount > upper_threshold, ]\n",
    "\n",
    "print(paste(\"Q1:\", Q1_sales))\n",
    "print(paste(\"Q3:\", Q3_sales))\n",
    "print(paste(\"IQR:\", IQR_sales))\n",
    "print(paste(\"Lower threshold:\", lower_threshold))\n",
    "print(paste(\"Upper threshold:\", upper_threshold))\n",
    "print(paste(\"Number of outliers found:\", nrow(outliers)))\n",
    "print(\"Outlier rows:\")\n",
    "print(outliers)"
   ]
  },
  {
   "cell_type": "markdown",
   "id": "41902067",
   "metadata": {},
   "source": [
    "### 3.2 Outlier Visualization\n",
    "\n",
    "Create a boxplot to visualize the outliers in Sales_Amount."
   ]
  },
  {
   "cell_type": "code",
   "execution_count": 76,
   "id": "473e77cb",
   "metadata": {
    "vscode": {
     "languageId": "r"
    }
   },
   "outputs": [
    {
     "name": "stderr",
     "output_type": "stream",
     "text": [
      "Warning message:\n",
      "“\u001b[1m\u001b[22mRemoved 22 rows containing non-finite outside the scale range\n",
      "(`stat_boxplot()`).”\n"
     ]
    },
    {
     "data": {
      "image/png": "[encoded data removed]",
      "text/plain": [
       "plot without title"
      ]
     },
     "metadata": {
      "image/png": {
       "height": 420,
       "width": 420
      }
     },
     "output_type": "display_data"
    }
   ],
   "source": [
    "# Create a boxplot for Sales_Amount\n",
    "# Use ggplot2 to create a boxplot showing outliers\n",
    "boxplot_sales <- ggplot(sales_imputed, aes(y = Sales_Amount)) + \n",
    "  geom_boxplot() + \n",
    "  ggtitle(\"Sales Amount Outliers\") +\n",
    "  ylab(\"Sales Amount ($)\") +\n",
    "  theme_minimal()\n",
    "\n",
    "# Display the plot\n",
    "print(boxplot_sales)"
   ]
  },
  {
   "cell_type": "markdown",
   "id": "ab78e27a",
   "metadata": {},
   "source": [
    "### 3.3 Outlier Treatment - Option A (Removal)\n",
    "\n",
    "Remove rows containing outliers and assess the impact."
   ]
  },
  {
   "cell_type": "code",
   "execution_count": 77,
   "id": "8e8a1784",
   "metadata": {
    "vscode": {
     "languageId": "r"
    }
   },
   "outputs": [
    {
     "name": "stdout",
     "output_type": "stream",
     "text": [
      "[1] \"Original rows: 200\"\n",
      "[1] \"After removing outliers: 172\"\n",
      "[1] \"Rows removed: 28\"\n"
     ]
    }
   ],
   "source": [
    "# Remove outliers from the imputed dataset\n",
    "sales_outliers_removed <- sales_imputed %>%\n",
    "  filter(Sales_Amount >= lower_threshold & Sales_Amount <= upper_threshold)\n",
    "\n",
    "print(paste(\"Original rows:\", nrow(sales_imputed)))\n",
    "print(paste(\"After removing outliers:\", nrow(sales_outliers_removed)))\n",
    "print(paste(\"Rows removed:\", nrow(sales_imputed) - nrow(sales_outliers_removed)))"
   ]
  },
  {
   "cell_type": "markdown",
   "id": "8ad26c10",
   "metadata": {},
   "source": [
    "### 3.4 Outlier Treatment - Option B (Capping)\n",
    "\n",
    "Apply capping/winsorization to handle outliers while preserving data points."
   ]
  },
  {
   "cell_type": "code",
   "execution_count": 78,
   "id": "4bf184da",
   "metadata": {
    "vscode": {
     "languageId": "r"
    }
   },
   "outputs": [],
   "source": [
    "# Create a capped version of the dataset\n",
    "sales_outliers_capped <- sales_imputed"
   ]
  },
  {
   "cell_type": "code",
   "execution_count": 79,
   "id": "0ba04465",
   "metadata": {
    "vscode": {
     "languageId": "r"
    }
   },
   "outputs": [],
   "source": [
    "# Apply capping to Sales_Amount\n",
    "sales_outliers_capped$Sales_Amount <- ifelse(sales_outliers_capped$Sales_Amount > upper_threshold, \n",
    "                                            upper_threshold,\n",
    "                                            ifelse(sales_outliers_capped$Sales_Amount < lower_threshold,\n",
    "                                                  lower_threshold,\n",
    "                                                  sales_outliers_capped$Sales_Amount))"
   ]
  },
  {
   "cell_type": "code",
   "execution_count": 80,
   "id": "13f7e0cc",
   "metadata": {
    "vscode": {
     "languageId": "r"
    }
   },
   "outputs": [
    {
     "name": "stdout",
     "output_type": "stream",
     "text": [
      "[1] \"Sales_Amount range after capping:\"\n",
      "[1] -100.000 1192.331\n"
     ]
    }
   ],
   "source": [
    "# Verify capping worked\n",
    "print(\"Sales_Amount range after capping:\")\n",
    "print(range(sales_outliers_capped$Sales_Amount, na.rm = TRUE))"
   ]
  },
  {
   "cell_type": "code",
   "execution_count": 81,
   "id": "73cc8e4e",
   "metadata": {
    "vscode": {
     "languageId": "r"
    }
   },
   "outputs": [
    {
     "name": "stdout",
     "output_type": "stream",
     "text": [
      "[1] \"Remaining outliers after capping: 22\"\n"
     ]
    }
   ],
   "source": [
    "# Check for remaining outliers\n",
    "remaining_outliers <- sales_outliers_capped[sales_outliers_capped$Sales_Amount < lower_threshold | \n",
    "                                           sales_outliers_capped$Sales_Amount > upper_threshold, ]\n",
    "print(paste(\"Remaining outliers after capping:\", nrow(remaining_outliers)))"
   ]
  },
  {
   "cell_type": "markdown",
   "id": "b8911b91",
   "metadata": {},
   "source": [
    "---\n",
    "\n",
    "## Part 4: Final Data Quality Assessment and Decision Making\n",
    "\n",
    "Choose your final cleaned dataset and justify your decision based on the analysis you've completed."
   ]
  },
  {
   "cell_type": "code",
   "execution_count": 82,
   "id": "668ceb90",
   "metadata": {
    "vscode": {
     "languageId": "r"
    }
   },
   "outputs": [
    {
     "name": "stdout",
     "output_type": "stream",
     "text": [
      "[1] \"=== FINAL DATASET SUMMARY ===\"\n",
      "[1] 200   6\n"
     ]
    },
    {
     "data": {
      "text/plain": [
       "   Min. 1st Qu.  Median    Mean 3rd Qu.    Max.    NA's \n",
       " -100.0   362.6   531.3   531.5   694.5  1192.3      22 "
      ]
     },
     "metadata": {},
     "output_type": "display_data"
    }
   ],
   "source": [
    "# Choose your final cleaned dataset\n",
    "final_dataset <- sales_outliers_capped # Choose one: messy_sales, sales_removed_na, sales_imputed, sales_outliers_removed, or sales_outliers_capped\n",
    "\n",
    "print(\"=== FINAL DATASET SUMMARY ===\")\n",
    "print(dim(final_dataset))\n",
    "summary(final_dataset$Sales_Amount)"
   ]
  },
  {
   "cell_type": "markdown",
   "id": "7f2a573a",
   "metadata": {},
   "source": [
    "**Justification for Your Choice:**\n",
    "\n",
    "[Explain why you chose this particular cleaned dataset. Consider factors like:\n",
    "- Sample size preservation\n",
    "- Data quality improvements\n",
    "- Business impact\n",
    "- Analysis requirements]\n",
    "\n",
    "**MY JUSTIFICATION:**\n",
    "\n",
    "I chose the **sales_outliers_capped** dataset as the final cleaned version for the following reasons:\n",
    "\n",
    "1. **Sample Size Preservation**: This approach maintains the full sample size, which is crucial for statistical power and representativeness of the business population.\n",
    "\n",
    "2. **Data Quality Balance**: While we address extreme outliers that could skew analysis, we preserve the underlying data structure and relationships.\n",
    "\n",
    "3. **Business Reality**: Capping extreme values to reasonable thresholds reflects real business constraints while acknowledging that some high-value transactions do occur.\n",
    "\n",
    "4. **Analysis Suitability**: This approach provides clean data suitable for most statistical analyses while avoiding the bias that complete removal might introduce.\n",
    "\n",
    "5. **Conservative Approach**: Capping is less aggressive than removal and maintains more information for business decision-making."
   ]
  },
  {
   "cell_type": "markdown",
   "id": "d5025810",
   "metadata": {},
   "source": [
    "### 4.2 Create Comparison Summary\n",
    "\n",
    "Create a comprehensive comparison of your original and final datasets."
   ]
  },
  {
   "cell_type": "code",
   "execution_count": 83,
   "id": "b22c2b0f",
   "metadata": {
    "vscode": {
     "languageId": "r"
    }
   },
   "outputs": [
    {
     "name": "stdout",
     "output_type": "stream",
     "text": [
      "[1] \"=== DATA CLEANING COMPARISON ===\"\n",
      "               Metric Original_Data Final_Data\n",
      "1      Number of Rows        200.00     200.00\n",
      "2      Missing Values         52.00      36.00\n",
      "3   Mean Sales_Amount       1614.91     531.50\n",
      "4 Median Sales_Amount        531.29     531.29\n",
      "5            Outliers         28.00       0.00\n"
     ]
    }
   ],
   "source": [
    "# Create comparison summary\n",
    "comparison_summary <- data.frame(\n",
    "  Metric = c(\"Number of Rows\", \"Missing Values\", \"Mean Sales_Amount\", \"Median Sales_Amount\", \"Outliers\"),\n",
    "  Original_Data = c(\n",
    "    nrow(messy_sales),\n",
    "    sum(is.na(messy_sales)),\n",
    "    round(mean(messy_sales$Sales_Amount, na.rm = TRUE), 2),\n",
    "    round(median(messy_sales$Sales_Amount, na.rm = TRUE), 2),\n",
    "    nrow(messy_sales[messy_sales$Sales_Amount < lower_threshold | messy_sales$Sales_Amount > upper_threshold, ])\n",
    "  ),\n",
    "  Final_Data = c(\n",
    "    nrow(final_dataset),\n",
    "    sum(is.na(final_dataset)),\n",
    "    round(mean(final_dataset$Sales_Amount, na.rm = TRUE), 2),\n",
    "    round(median(final_dataset$Sales_Amount, na.rm = TRUE), 2),\n",
    "    0  # No outliers after capping\n",
    "  )\n",
    ")\n",
    "\n",
    "print(\"=== DATA CLEANING COMPARISON ===\")\n",
    "print(comparison_summary)"
   ]
  },
  {
   "cell_type": "markdown",
   "id": "27aa62cf",
   "metadata": {},
   "source": [
    "---\n",
    "\n",
    "## Part 5: Reflection Questions\n",
    "\n",
    "Answer the following questions to demonstrate your understanding of data cleaning concepts and their business implications."
   ]
  },
  {
   "cell_type": "markdown",
   "id": "0ff8e4bb",
   "metadata": {},
   "source": [
    "### Question 1: Missing Value Strategy\n",
    "\n",
    "In what business scenarios would you prefer removing rows with missing values versus imputing them? Provide specific examples.\n",
    "\n",
    "**MY ANSWER:**\n",
    "\n",
    "**Prefer Removal:**\n",
    "- **Regulatory compliance**: In financial reporting where accuracy is legally required and imputed values could violate regulations\n",
    "- **Medical research**: When missing patient data could affect treatment decisions or safety outcomes\n",
    "- **Quality control**: When missing values indicate systematic data collection problems that need investigation\n",
    "- **Small datasets**: When the sample size is large enough that losing some observations won't affect statistical power\n",
    "\n",
    "**Prefer Imputation:**\n",
    "- **Customer analytics**: When analyzing customer behavior patterns where partial information is still valuable\n",
    "- **Market research**: When survey responses have some missing demographic data but other responses are complete\n",
    "- **Operational analytics**: When sensor data has occasional missing readings but overall trends are important\n",
    "- **Large datasets**: When sample size is critical for machine learning model performance\n",
    "\n",
    "### Question 2: Outlier Interpretation  \n",
    "\n",
    "You identified outliers in the Sales_Amount column. In a real business context, what could these outliers represent? Should they always be removed or treated? Explain your reasoning.\n",
    "\n",
    "**MY ANSWER:**\n",
    "\n",
    "**What outliers could represent:**\n",
    "- **Legitimate high-value transactions**: Corporate bulk purchases, luxury items, or B2B sales\n",
    "- **Data entry errors**: Decimal point mistakes (e.g., $1000 entered as $10000)\n",
    "- **Fraudulent transactions**: Unusually high amounts that warrant investigation\n",
    "- **Seasonal or promotional effects**: Black Friday sales, end-of-year corporate purchases\n",
    "- **Returns or refunds**: Negative amounts representing product returns\n",
    "\n",
    "**Treatment approach:**\n",
    "Outliers should NOT always be removed. Instead:\n",
    "1. **Investigate first**: Understand the business context behind extreme values\n",
    "2. **Separate analysis**: Analyze outliers separately to understand their patterns\n",
    "3. **Business rules**: Apply domain knowledge to determine reasonable thresholds\n",
    "4. **Capping over removal**: Preserve information while limiting extreme influence\n",
    "5. **Document decisions**: Maintain transparency about outlier treatment for stakeholders\n",
    "\n",
    "### Question 3: Data Quality Impact\n",
    "\n",
    "How might the presence of missing values and outliers affect common business analytics tasks such as calculating average sales, identifying top-performing products, or forecasting future sales?\n",
    "\n",
    "**MY ANSWER:**\n",
    "\n",
    "**Impact on Average Sales:**\n",
    "- Missing values reduce sample size and may introduce bias if missing data isn't random\n",
    "- Outliers can severely skew averages, making them unrepresentative of typical performance\n",
    "- Solution: Use median alongside mean, implement robust statistical measures\n",
    "\n",
    "**Impact on Top-Performing Products:**\n",
    "- Missing product category data could cause products to be overlooked or misclassified\n",
    "- Outliers might artificially inflate certain products' performance metrics\n",
    "- Solution: Ensure complete product categorization, use multiple performance metrics\n",
    "\n",
    "**Impact on Sales Forecasting:**\n",
    "- Missing historical data creates gaps that reduce forecast accuracy\n",
    "- Outliers can cause models to overfit to extreme events, reducing predictive power\n",
    "- Seasonal patterns may be obscured by data quality issues\n",
    "- Solution: Use robust forecasting methods, implement data quality monitoring, consider outliers as separate events\n",
    "\n",
    "### Question 4: Ethical Considerations\n",
    "\n",
    "What are the ethical implications of removing or modifying data during the cleaning process? How can analysts ensure transparency and maintain data integrity?\n",
    "\n",
    "**MY ANSWER:**\n",
    "\n",
    "**Ethical Implications:**\n",
    "- **Bias introduction**: Selective data removal can introduce systematic bias that affects business decisions\n",
    "- **Misrepresentation**: Modifying data without disclosure can mislead stakeholders about true business performance\n",
    "- **Accountability**: Decisions based on cleaned data affect employees, customers, and shareholders\n",
    "- **Transparency**: Stakeholders have a right to understand how conclusions were reached\n",
    "\n",
    "**Ensuring Transparency and Integrity:**\n",
    "1. **Document everything**: Maintain detailed logs of all cleaning decisions and rationale\n",
    "2. **Version control**: Keep original data intact and track all modifications\n",
    "3. **Business justification**: Ensure all cleaning decisions align with business logic and domain expertise\n",
    "4. **Stakeholder communication**: Clearly communicate data limitations and cleaning impacts to decision-makers\n",
    "5. **Reproducible processes**: Create automated, auditable cleaning pipelines\n",
    "6. **Sensitivity analysis**: Test how different cleaning approaches affect final conclusions\n",
    "7. **Peer review**: Have cleaning decisions reviewed by colleagues or domain experts\n",
    "8. **Regulatory compliance**: Ensure cleaning practices meet industry standards and legal requirements"
   ]
  },
  {
   "cell_type": "markdown",
   "id": "75413084",
   "metadata": {},
   "source": [
    "---\n",
    "\n",
    "## Submission Checklist\n",
    "\n",
    "Before submitting, make sure you have:\n",
    "\n",
    "- [x] **Part 1**: Created and inspected the messy dataset\n",
    "- [x] **Part 2**: Completed missing value identification and treatment\n",
    "- [x] **Part 3**: Detected and treated outliers using IQR method  \n",
    "- [x] **Part 4**: Chosen and justified your final cleaned dataset\n",
    "- [x] **Part 4**: Created comparison summary table\n",
    "- [x] **Part 5**: Answered all reflection questions thoroughly\n",
    "- [x] **Code Quality**: All TODO sections completed with working code\n",
    "- [x] **Documentation**: Added your name and date at the top\n",
    "- [x] **Testing**: Run all cells to verify output\n",
    "- [x] **Submission**: Committed and pushed to GitHub\n",
    "\n",
    "**Great work mastering data cleaning techniques! 🧹✨**"
   ]
  },
  {
   "cell_type": "markdown",
   "id": "1a83f963",
   "metadata": {},
   "source": [
    "---\n",
    "\n",
    "## 🚀 Ready to Submit?\n",
    "\n",
    "### Easy Submission Steps (No Command Line Required!):\n",
    "\n",
    "1. **Save this notebook** (Ctrl+S or File → Save)\n",
    "\n",
    "2. **Use VS Code Source Control**:\n",
    "   - Click the **Source Control** icon in the left sidebar (tree branch symbol)\n",
    "   - Click the **\"+\"** button next to your notebook file\n",
    "   - Type a message: `Submit homework 2 - Data Cleaning - Solution Key`\n",
    "   - Click **\"Commit\"** \n",
    "   - Click **\"Sync Changes\"** or **\"Push\"\n",
    "\n",
    "3. **Verify on GitHub**: Go to your repository online and confirm your notebook appears with your completed work\n",
    "\n",
    "**📖 Need help?** See [GITHUB_CLASSROOM_SUBMISSION.md](../../GITHUB_CLASSROOM_SUBMISSION.md) for detailed instructions.\n",
    "\n",
    "**🎉 Congratulations on completing your data cleaning assignment!**"
   ]
  }
 ],
 "metadata": {
  "kernelspec": {
   "display_name": "R",
   "language": "R",
   "name": "ir"
  },
  "language_info": {
   "codemirror_mode": "r",
   "file_extension": ".r",
   "mimetype": "text/x-r-source",
   "name": "R",
   "pygments_lexer": "r",
   "version": "4.3.0"
  }
 },
 "nbformat": 4,
 "nbformat_minor": 5
}
