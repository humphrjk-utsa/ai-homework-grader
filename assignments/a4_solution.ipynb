{
 "cells": [
  {
   "cell_type": "markdown",
   "id": "3d75e089",
   "metadata": {},
   "source": [
    "# Homework 4: Data Transformation with dplyr - Part 2 (Mutate, Summarize, Group_by, Count)\n",
    "\n",
    "**Student Name:** Solution Key\n",
    "\n",
    "**Due Date:** [Date]\n",
    "\n",
    "This is the complete solution for Homework 4."
   ]
  },
  {
   "cell_type": "markdown",
   "id": "229eb316",
   "metadata": {},
   "source": [
    "## Part 1: Setup and Data Import"
   ]
  },
  {
   "cell_type": "code",
   "execution_count": 3,
   "id": "4b6c5404",
   "metadata": {
    "vscode": {
     "languageId": "r"
    }
   },
   "outputs": [
    {
     "name": "stderr",
     "output_type": "stream",
     "text": [
      "\u001b[1mRows: \u001b[22m\u001b[34m300\u001b[39m \u001b[1mColumns: \u001b[22m\u001b[34m8\u001b[39m\n",
      "\u001b[36m──\u001b[39m \u001b[1mColumn specification\u001b[22m \u001b[36m────────────────────────────────────────────────────────\u001b[39m\n",
      "\u001b[1mDelimiter:\u001b[22m \",\"\n",
      "\u001b[31mchr\u001b[39m  (3): Sales_Rep_Name, Region, Product_Category\n",
      "\u001b[32mdbl\u001b[39m  (4): TransactionID, Revenue, Cost, Units_Sold\n",
      "\u001b[34mdate\u001b[39m (1): Sale_Date\n",
      "\n",
      "\u001b[36mℹ\u001b[39m Use `spec()` to retrieve the full column specification for this data.\n",
      "\u001b[36mℹ\u001b[39m Specify the column types or set `show_col_types = FALSE` to quiet this message.\n"
     ]
    },
    {
     "name": "stdout",
     "output_type": "stream",
     "text": [
      "spc_tbl_ [300 × 8] (S3: spec_tbl_df/tbl_df/tbl/data.frame)\n",
      " $ TransactionID   : num [1:300] 1 2 3 4 5 6 7 8 9 10 ...\n",
      " $ Sales_Rep_Name  : chr [1:300] \"Carol Davis\" \"Carol Davis\" \"Carol Davis\" \"Bob Smith\" ...\n",
      " $ Region          : chr [1:300] \"Latin America\" \"Europe\" \"Europe\" \"Europe\" ...\n",
      " $ Product_Category: chr [1:300] \"Services\" \"Hardware\" \"Services\" \"Hardware\" ...\n",
      " $ Revenue         : num [1:300] 20751 32360 39268 28865 3932 ...\n",
      " $ Cost            : num [1:300] 12253 24595 23291 12429 1778 ...\n",
      " $ Units_Sold      : num [1:300] 78 13 34 90 63 26 25 1 20 15 ...\n",
      " $ Sale_Date       : Date[1:300], format: \"2023-04-24\" \"2023-06-09\" ...\n",
      " - attr(*, \"spec\")=\n",
      "  .. cols(\n",
      "  ..   TransactionID = \u001b[32mcol_double()\u001b[39m,\n",
      "  ..   Sales_Rep_Name = \u001b[31mcol_character()\u001b[39m,\n",
      "  ..   Region = \u001b[31mcol_character()\u001b[39m,\n",
      "  ..   Product_Category = \u001b[31mcol_character()\u001b[39m,\n",
      "  ..   Revenue = \u001b[32mcol_double()\u001b[39m,\n",
      "  ..   Cost = \u001b[32mcol_double()\u001b[39m,\n",
      "  ..   Units_Sold = \u001b[32mcol_double()\u001b[39m,\n",
      "  ..   Sale_Date = \u001b[34mcol_date(format = \"\")\u001b[39m\n",
      "  .. )\n",
      " - attr(*, \"problems\")=<externalptr> \n"
     ]
    },
    {
     "data": {
      "text/html": [
       "<table class=\"dataframe\">\n",
       "<caption>A tibble: 6 × 8</caption>\n",
       "<thead>\n",
       "\t<tr><th scope=col>TransactionID</th><th scope=col>Sales_Rep_Name</th><th scope=col>Region</th><th scope=col>Product_Category</th><th scope=col>Revenue</th><th scope=col>Cost</th><th scope=col>Units_Sold</th><th scope=col>Sale_Date</th></tr>\n",
       "\t<tr><th scope=col>&lt;dbl&gt;</th><th scope=col>&lt;chr&gt;</th><th scope=col>&lt;chr&gt;</th><th scope=col>&lt;chr&gt;</th><th scope=col>&lt;dbl&gt;</th><th scope=col>&lt;dbl&gt;</th><th scope=col>&lt;dbl&gt;</th><th scope=col>&lt;date&gt;</th></tr>\n",
       "</thead>\n",
       "<tbody>\n",
       "\t<tr><td>1</td><td>Carol Davis </td><td>Latin America</td><td>Services</td><td>20750.92</td><td>12253.36</td><td>78</td><td>2023-04-24</td></tr>\n",
       "\t<tr><td>2</td><td>Carol Davis </td><td>Europe       </td><td>Hardware</td><td>32359.98</td><td>24595.20</td><td>13</td><td>2023-06-09</td></tr>\n",
       "\t<tr><td>3</td><td>Carol Davis </td><td>Europe       </td><td>Services</td><td>39268.40</td><td>23291.09</td><td>34</td><td>2023-03-25</td></tr>\n",
       "\t<tr><td>4</td><td>Bob Smith   </td><td>Europe       </td><td>Hardware</td><td>28865.09</td><td>12428.74</td><td>90</td><td>2023-04-11</td></tr>\n",
       "\t<tr><td>5</td><td>Frank Miller</td><td>Latin America</td><td>Software</td><td> 3932.36</td><td> 1778.18</td><td>63</td><td>2023-08-26</td></tr>\n",
       "\t<tr><td>6</td><td>Carol Davis </td><td>Latin America</td><td>Services</td><td>48209.75</td><td>26052.04</td><td>26</td><td>2023-09-04</td></tr>\n",
       "</tbody>\n",
       "</table>\n"
      ],
      "text/latex": [
       "A tibble: 6 × 8\n",
       "\\begin{tabular}{llllllll}\n",
       " TransactionID & Sales\\_Rep\\_Name & Region & Product\\_Category & Revenue & Cost & Units\\_Sold & Sale\\_Date\\\\\n",
       " <dbl> & <chr> & <chr> & <chr> & <dbl> & <dbl> & <dbl> & <date>\\\\\n",
       "\\hline\n",
       "\t 1 & Carol Davis  & Latin America & Services & 20750.92 & 12253.36 & 78 & 2023-04-24\\\\\n",
       "\t 2 & Carol Davis  & Europe        & Hardware & 32359.98 & 24595.20 & 13 & 2023-06-09\\\\\n",
       "\t 3 & Carol Davis  & Europe        & Services & 39268.40 & 23291.09 & 34 & 2023-03-25\\\\\n",
       "\t 4 & Bob Smith    & Europe        & Hardware & 28865.09 & 12428.74 & 90 & 2023-04-11\\\\\n",
       "\t 5 & Frank Miller & Latin America & Software &  3932.36 &  1778.18 & 63 & 2023-08-26\\\\\n",
       "\t 6 & Carol Davis  & Latin America & Services & 48209.75 & 26052.04 & 26 & 2023-09-04\\\\\n",
       "\\end{tabular}\n"
      ],
      "text/markdown": [
       "\n",
       "A tibble: 6 × 8\n",
       "\n",
       "| TransactionID &lt;dbl&gt; | Sales_Rep_Name &lt;chr&gt; | Region &lt;chr&gt; | Product_Category &lt;chr&gt; | Revenue &lt;dbl&gt; | Cost &lt;dbl&gt; | Units_Sold &lt;dbl&gt; | Sale_Date &lt;date&gt; |\n",
       "|---|---|---|---|---|---|---|---|\n",
       "| 1 | Carol Davis  | Latin America | Services | 20750.92 | 12253.36 | 78 | 2023-04-24 |\n",
       "| 2 | Carol Davis  | Europe        | Hardware | 32359.98 | 24595.20 | 13 | 2023-06-09 |\n",
       "| 3 | Carol Davis  | Europe        | Services | 39268.40 | 23291.09 | 34 | 2023-03-25 |\n",
       "| 4 | Bob Smith    | Europe        | Hardware | 28865.09 | 12428.74 | 90 | 2023-04-11 |\n",
       "| 5 | Frank Miller | Latin America | Software |  3932.36 |  1778.18 | 63 | 2023-08-26 |\n",
       "| 6 | Carol Davis  | Latin America | Services | 48209.75 | 26052.04 | 26 | 2023-09-04 |\n",
       "\n"
      ],
      "text/plain": [
       "  TransactionID Sales_Rep_Name Region        Product_Category Revenue  Cost    \n",
       "1 1             Carol Davis    Latin America Services         20750.92 12253.36\n",
       "2 2             Carol Davis    Europe        Hardware         32359.98 24595.20\n",
       "3 3             Carol Davis    Europe        Services         39268.40 23291.09\n",
       "4 4             Bob Smith      Europe        Hardware         28865.09 12428.74\n",
       "5 5             Frank Miller   Latin America Software          3932.36  1778.18\n",
       "6 6             Carol Davis    Latin America Services         48209.75 26052.04\n",
       "  Units_Sold Sale_Date \n",
       "1 78         2023-04-24\n",
       "2 13         2023-06-09\n",
       "3 34         2023-03-25\n",
       "4 90         2023-04-11\n",
       "5 63         2023-08-26\n",
       "6 26         2023-09-04"
      ]
     },
     "metadata": {},
     "output_type": "display_data"
    },
    {
     "data": {
      "text/plain": [
       " TransactionID    Sales_Rep_Name        Region          Product_Category  \n",
       " Min.   :  1.00   Length:300         Length:300         Length:300        \n",
       " 1st Qu.: 75.75   Class :character   Class :character   Class :character  \n",
       " Median :150.50   Mode  :character   Mode  :character   Mode  :character  \n",
       " Mean   :150.50                                                           \n",
       " 3rd Qu.:225.25                                                           \n",
       " Max.   :300.00                                                           \n",
       "    Revenue           Cost         Units_Sold       Sale_Date         \n",
       " Min.   : 1032   Min.   :  567   Min.   :  1.00   Min.   :2023-01-02  \n",
       " 1st Qu.:15034   1st Qu.: 7216   1st Qu.: 28.75   1st Qu.:2023-04-07  \n",
       " Median :26062   Median :13956   Median : 56.00   Median :2023-07-05  \n",
       " Mean   :25906   Mean   :14547   Mean   : 53.90   Mean   :2023-07-07  \n",
       " 3rd Qu.:37708   3rd Qu.:21714   3rd Qu.: 80.00   3rd Qu.:2023-10-08  \n",
       " Max.   :49956   Max.   :37811   Max.   :100.00   Max.   :2023-12-31  "
      ]
     },
     "metadata": {},
     "output_type": "display_data"
    },
    {
     "name": "stdout",
     "output_type": "stream",
     "text": [
      "Dataset dimensions: 300 rows x 8 columns\n"
     ]
    }
   ],
   "source": [
    "setwd(\"/Users/humphrjk/GitHub/ai-homework-grader-clean/data\")\n",
    "# Load required packages\n",
    "library(tidyverse)\n",
    "\n",
    "# Import the company sales data\n",
    "company_data <- read_csv(\"company_sales_data.csv\")\n",
    "\n",
    "# Examine the dataset structure\n",
    "str(company_data)\n",
    "\n",
    "# Display the first few rows\n",
    "head(company_data, 6)\n",
    "\n",
    "# Generate summary statistics\n",
    "summary(company_data)\n",
    "\n",
    "# Check dataset dimensions\n",
    "cat(\"Dataset dimensions:\", nrow(company_data), \"rows x\", ncol(company_data), \"columns\\n\")"
   ]
  },
  {
   "cell_type": "markdown",
   "id": "c9d722a5",
   "metadata": {},
   "source": [
    "## Part 2: Creating New Variables with mutate()"
   ]
  },
  {
   "cell_type": "code",
   "execution_count": 4,
   "id": "e785c110",
   "metadata": {
    "vscode": {
     "languageId": "r"
    }
   },
   "outputs": [
    {
     "data": {
      "text/html": [
       "<table class=\"dataframe\">\n",
       "<caption>A tibble: 10 × 5</caption>\n",
       "<thead>\n",
       "\t<tr><th scope=col>Revenue</th><th scope=col>Cost</th><th scope=col>Profit</th><th scope=col>Profit_Margin</th><th scope=col>ROI</th></tr>\n",
       "\t<tr><th scope=col>&lt;dbl&gt;</th><th scope=col>&lt;dbl&gt;</th><th scope=col>&lt;dbl&gt;</th><th scope=col>&lt;dbl&gt;</th><th scope=col>&lt;dbl&gt;</th></tr>\n",
       "</thead>\n",
       "<tbody>\n",
       "\t<tr><td>20750.92</td><td>12253.36</td><td> 8497.56</td><td>40.95028</td><td> 69.34882</td></tr>\n",
       "\t<tr><td>32359.98</td><td>24595.20</td><td> 7764.78</td><td>23.99501</td><td> 31.57031</td></tr>\n",
       "\t<tr><td>39268.40</td><td>23291.09</td><td>15977.31</td><td>40.68745</td><td> 68.59838</td></tr>\n",
       "\t<tr><td>28865.09</td><td>12428.74</td><td>16436.35</td><td>56.94197</td><td>132.24470</td></tr>\n",
       "\t<tr><td> 3932.36</td><td> 1778.18</td><td> 2154.18</td><td>54.78084</td><td>121.14522</td></tr>\n",
       "\t<tr><td>48209.75</td><td>26052.04</td><td>22157.71</td><td>45.96106</td><td> 85.05173</td></tr>\n",
       "\t<tr><td>33055.35</td><td>20432.24</td><td>12623.11</td><td>38.18780</td><td> 61.78035</td></tr>\n",
       "\t<tr><td>49856.54</td><td>37118.63</td><td>12737.91</td><td>25.54913</td><td> 34.31676</td></tr>\n",
       "\t<tr><td>13477.13</td><td> 8685.85</td><td> 4791.28</td><td>35.55119</td><td> 55.16190</td></tr>\n",
       "\t<tr><td>21188.96</td><td>16757.06</td><td> 4431.90</td><td>20.91608</td><td> 26.44796</td></tr>\n",
       "</tbody>\n",
       "</table>\n"
      ],
      "text/latex": [
       "A tibble: 10 × 5\n",
       "\\begin{tabular}{lllll}\n",
       " Revenue & Cost & Profit & Profit\\_Margin & ROI\\\\\n",
       " <dbl> & <dbl> & <dbl> & <dbl> & <dbl>\\\\\n",
       "\\hline\n",
       "\t 20750.92 & 12253.36 &  8497.56 & 40.95028 &  69.34882\\\\\n",
       "\t 32359.98 & 24595.20 &  7764.78 & 23.99501 &  31.57031\\\\\n",
       "\t 39268.40 & 23291.09 & 15977.31 & 40.68745 &  68.59838\\\\\n",
       "\t 28865.09 & 12428.74 & 16436.35 & 56.94197 & 132.24470\\\\\n",
       "\t  3932.36 &  1778.18 &  2154.18 & 54.78084 & 121.14522\\\\\n",
       "\t 48209.75 & 26052.04 & 22157.71 & 45.96106 &  85.05173\\\\\n",
       "\t 33055.35 & 20432.24 & 12623.11 & 38.18780 &  61.78035\\\\\n",
       "\t 49856.54 & 37118.63 & 12737.91 & 25.54913 &  34.31676\\\\\n",
       "\t 13477.13 &  8685.85 &  4791.28 & 35.55119 &  55.16190\\\\\n",
       "\t 21188.96 & 16757.06 &  4431.90 & 20.91608 &  26.44796\\\\\n",
       "\\end{tabular}\n"
      ],
      "text/markdown": [
       "\n",
       "A tibble: 10 × 5\n",
       "\n",
       "| Revenue &lt;dbl&gt; | Cost &lt;dbl&gt; | Profit &lt;dbl&gt; | Profit_Margin &lt;dbl&gt; | ROI &lt;dbl&gt; |\n",
       "|---|---|---|---|---|\n",
       "| 20750.92 | 12253.36 |  8497.56 | 40.95028 |  69.34882 |\n",
       "| 32359.98 | 24595.20 |  7764.78 | 23.99501 |  31.57031 |\n",
       "| 39268.40 | 23291.09 | 15977.31 | 40.68745 |  68.59838 |\n",
       "| 28865.09 | 12428.74 | 16436.35 | 56.94197 | 132.24470 |\n",
       "|  3932.36 |  1778.18 |  2154.18 | 54.78084 | 121.14522 |\n",
       "| 48209.75 | 26052.04 | 22157.71 | 45.96106 |  85.05173 |\n",
       "| 33055.35 | 20432.24 | 12623.11 | 38.18780 |  61.78035 |\n",
       "| 49856.54 | 37118.63 | 12737.91 | 25.54913 |  34.31676 |\n",
       "| 13477.13 |  8685.85 |  4791.28 | 35.55119 |  55.16190 |\n",
       "| 21188.96 | 16757.06 |  4431.90 | 20.91608 |  26.44796 |\n",
       "\n"
      ],
      "text/plain": [
       "   Revenue  Cost     Profit   Profit_Margin ROI      \n",
       "1  20750.92 12253.36  8497.56 40.95028       69.34882\n",
       "2  32359.98 24595.20  7764.78 23.99501       31.57031\n",
       "3  39268.40 23291.09 15977.31 40.68745       68.59838\n",
       "4  28865.09 12428.74 16436.35 56.94197      132.24470\n",
       "5   3932.36  1778.18  2154.18 54.78084      121.14522\n",
       "6  48209.75 26052.04 22157.71 45.96106       85.05173\n",
       "7  33055.35 20432.24 12623.11 38.18780       61.78035\n",
       "8  49856.54 37118.63 12737.91 25.54913       34.31676\n",
       "9  13477.13  8685.85  4791.28 35.55119       55.16190\n",
       "10 21188.96 16757.06  4431.90 20.91608       26.44796"
      ]
     },
     "metadata": {},
     "output_type": "display_data"
    }
   ],
   "source": [
    "# Create basic financial metrics using mutate()\n",
    "company_data <- company_data %>%\n",
    "  mutate(\n",
    "    # Create Profit (Revenue - Cost)\n",
    "    Profit = Revenue - Cost,\n",
    "    \n",
    "    # Create Profit_Margin ((Profit / Revenue) * 100)\n",
    "    Profit_Margin = (Profit / Revenue) * 100,\n",
    "    \n",
    "    # Create Cost_Ratio ((Cost / Revenue) * 100)\n",
    "    Cost_Ratio = (Cost / Revenue) * 100,\n",
    "    \n",
    "    # Create Revenue_Per_Unit (Revenue / Units_Sold)\n",
    "    Revenue_Per_Unit = Revenue / Units_Sold,\n",
    "    \n",
    "    # Create Cost_Per_Unit (Cost / Units_Sold)\n",
    "    Cost_Per_Unit = Cost / Units_Sold,\n",
    "    \n",
    "    # Create ROI ((Profit / Cost) * 100)\n",
    "    ROI = (Profit / Cost) * 100\n",
    "  )\n",
    "\n",
    "# Display the new financial metrics\n",
    "company_data %>%\n",
    "  select(Revenue, Cost, Profit, Profit_Margin, ROI) %>%\n",
    "  head(10)"
   ]
  },
  {
   "cell_type": "markdown",
   "id": "e1b470f6",
   "metadata": {},
   "source": [
    "## Part 3: Creating Categorical Variables"
   ]
  },
  {
   "cell_type": "code",
   "execution_count": 5,
   "id": "73cefd70",
   "metadata": {
    "vscode": {
     "languageId": "r"
    }
   },
   "outputs": [
    {
     "name": "stdout",
     "output_type": "stream",
     "text": [
      "Performance Category Distribution:\n"
     ]
    },
    {
     "data": {
      "text/plain": [
       "\n",
       "  High    Low Medium \n",
       "   113     66    121 "
      ]
     },
     "metadata": {},
     "output_type": "display_data"
    },
    {
     "name": "stdout",
     "output_type": "stream",
     "text": [
      "\n",
      "Revenue Size Distribution:\n"
     ]
    },
    {
     "data": {
      "text/plain": [
       "\n",
       " Large Medium  Small \n",
       "   122    104     74 "
      ]
     },
     "metadata": {},
     "output_type": "display_data"
    },
    {
     "name": "stdout",
     "output_type": "stream",
     "text": [
      "\n",
      "High Value Customer Distribution:\n"
     ]
    },
    {
     "data": {
      "text/plain": [
       "\n",
       " No Yes \n",
       "146 154 "
      ]
     },
     "metadata": {},
     "output_type": "display_data"
    }
   ],
   "source": [
    "# Create categorical variables for business segmentation\n",
    "company_data <- company_data %>%\n",
    "  mutate(\n",
    "    # Create Performance_Category using case_when()\n",
    "    Performance_Category = case_when(\n",
    "      Profit_Margin > 50 ~ \"High\",\n",
    "      Profit_Margin > 30 ~ \"Medium\",\n",
    "      TRUE ~ \"Low\"\n",
    "    ),\n",
    "    \n",
    "    # Create Revenue_Size category\n",
    "    Revenue_Size = case_when(\n",
    "      Revenue > 30000 ~ \"Large\",\n",
    "      Revenue > 15000 ~ \"Medium\",\n",
    "      TRUE ~ \"Small\"\n",
    "    ),\n",
    "    \n",
    "    # Create Deal_Size category\n",
    "    Deal_Size = case_when(\n",
    "      Units_Sold > 50 ~ \"Bulk\",\n",
    "      Units_Sold > 20 ~ \"Standard\",\n",
    "      TRUE ~ \"Small\"\n",
    "    ),\n",
    "    \n",
    "    # Create High_Value_Customer flag\n",
    "    High_Value_Customer = ifelse(Revenue > 25000, \"Yes\", \"No\"),\n",
    "    \n",
    "    # Create Profitable_Deal flag\n",
    "    Profitable_Deal = ifelse(Profit_Margin > 40, \"Yes\", \"No\")\n",
    "  )\n",
    "\n",
    "# Examine the distribution of categorical variables\n",
    "cat(\"Performance Category Distribution:\\n\")\n",
    "table(company_data$Performance_Category)\n",
    "\n",
    "cat(\"\\nRevenue Size Distribution:\\n\")\n",
    "table(company_data$Revenue_Size)\n",
    "\n",
    "cat(\"\\nHigh Value Customer Distribution:\\n\")\n",
    "table(company_data$High_Value_Customer)"
   ]
  },
  {
   "cell_type": "markdown",
   "id": "d0e957c6",
   "metadata": {},
   "source": [
    "## Part 4: Summary Statistics with summarize()"
   ]
  },
  {
   "cell_type": "code",
   "execution_count": 6,
   "id": "0ec870a8",
   "metadata": {
    "vscode": {
     "languageId": "r"
    }
   },
   "outputs": [
    {
     "name": "stdout",
     "output_type": "stream",
     "text": [
      "[1] \"Overall Business Performance Summary:\"\n",
      "\u001b[90m# A tibble: 1 × 7\u001b[39m\n",
      "  total_revenue total_profit avg_profit_margin avg_roi total_units\n",
      "          \u001b[3m\u001b[90m<dbl>\u001b[39m\u001b[23m        \u001b[3m\u001b[90m<dbl>\u001b[39m\u001b[23m             \u001b[3m\u001b[90m<dbl>\u001b[39m\u001b[23m   \u001b[3m\u001b[90m<dbl>\u001b[39m\u001b[23m       \u001b[3m\u001b[90m<dbl>\u001b[39m\u001b[23m\n",
      "\u001b[90m1\u001b[39m      7\u001b[4m7\u001b[24m\u001b[4m7\u001b[24m\u001b[4m1\u001b[24m711.     3\u001b[4m4\u001b[24m\u001b[4m0\u001b[24m\u001b[4m7\u001b[24m512.              44.2    93.5       \u001b[4m1\u001b[24m\u001b[4m6\u001b[24m169\n",
      "\u001b[90m# ℹ 2 more variables: transaction_count <int>,\u001b[39m\n",
      "\u001b[90m#   avg_revenue_per_transaction <dbl>\u001b[39m\n",
      "[1] \"\\nDetailed Revenue Statistics:\"\n",
      "\u001b[90m# A tibble: 1 × 5\u001b[39m\n",
      "  min_revenue max_revenue mean_revenue median_revenue sd_revenue\n",
      "        \u001b[3m\u001b[90m<dbl>\u001b[39m\u001b[23m       \u001b[3m\u001b[90m<dbl>\u001b[39m\u001b[23m        \u001b[3m\u001b[90m<dbl>\u001b[39m\u001b[23m          \u001b[3m\u001b[90m<dbl>\u001b[39m\u001b[23m      \u001b[3m\u001b[90m<dbl>\u001b[39m\u001b[23m\n",
      "\u001b[90m1\u001b[39m       \u001b[4m1\u001b[24m032.      \u001b[4m4\u001b[24m\u001b[4m9\u001b[24m956.       \u001b[4m2\u001b[24m\u001b[4m5\u001b[24m906.         \u001b[4m2\u001b[24m\u001b[4m6\u001b[24m062.     \u001b[4m1\u001b[24m\u001b[4m3\u001b[24m944.\n"
     ]
    }
   ],
   "source": [
    "# Calculate overall business summary statistics\n",
    "business_summary <- company_data %>%\n",
    "  summarize(\n",
    "    # Calculate total_revenue\n",
    "    total_revenue = sum(Revenue, na.rm = TRUE),\n",
    "    \n",
    "    # Calculate total_profit\n",
    "    total_profit = sum(Profit, na.rm = TRUE),\n",
    "    \n",
    "    # Calculate avg_profit_margin\n",
    "    avg_profit_margin = mean(Profit_Margin, na.rm = TRUE),\n",
    "    \n",
    "    # Calculate avg_roi\n",
    "    avg_roi = mean(ROI, na.rm = TRUE),\n",
    "    \n",
    "    # Calculate total_units\n",
    "    total_units = sum(Units_Sold, na.rm = TRUE),\n",
    "    \n",
    "    # Calculate transaction_count\n",
    "    transaction_count = n(),\n",
    "    \n",
    "    # Calculate avg_revenue_per_transaction\n",
    "    avg_revenue_per_transaction = mean(Revenue, na.rm = TRUE)\n",
    "  )\n",
    "\n",
    "# Display the business summary\n",
    "print(\"Overall Business Performance Summary:\")\n",
    "print(business_summary)\n",
    "\n",
    "# Calculate detailed revenue statistics\n",
    "revenue_statistics <- company_data %>%\n",
    "  summarize(\n",
    "    min_revenue = min(Revenue, na.rm = TRUE),\n",
    "    max_revenue = max(Revenue, na.rm = TRUE),\n",
    "    mean_revenue = mean(Revenue, na.rm = TRUE),\n",
    "    median_revenue = median(Revenue, na.rm = TRUE),\n",
    "    sd_revenue = sd(Revenue, na.rm = TRUE)\n",
    "  )\n",
    "\n",
    "print(\"\\nDetailed Revenue Statistics:\")\n",
    "print(revenue_statistics)"
   ]
  },
  {
   "cell_type": "markdown",
   "id": "5a35dfd2",
   "metadata": {},
   "source": [
    "## Part 5: Grouped Analysis with group_by()"
   ]
  },
  {
   "cell_type": "code",
   "execution_count": 7,
   "id": "f9a05150",
   "metadata": {
    "vscode": {
     "languageId": "r"
    }
   },
   "outputs": [
    {
     "name": "stdout",
     "output_type": "stream",
     "text": [
      "[1] \"Regional Performance Analysis:\"\n",
      "\u001b[90m# A tibble: 4 × 7\u001b[39m\n",
      "  Region        total_revenue total_profit avg_profit_margin transaction_count\n",
      "  \u001b[3m\u001b[90m<chr>\u001b[39m\u001b[23m                 \u001b[3m\u001b[90m<dbl>\u001b[39m\u001b[23m        \u001b[3m\u001b[90m<dbl>\u001b[39m\u001b[23m             \u001b[3m\u001b[90m<dbl>\u001b[39m\u001b[23m             \u001b[3m\u001b[90m<int>\u001b[39m\u001b[23m\n",
      "\u001b[90m1\u001b[39m Europe             2\u001b[4m2\u001b[24m\u001b[4m2\u001b[24m\u001b[4m4\u001b[24m182.     1\u001b[4m0\u001b[24m\u001b[4m0\u001b[24m\u001b[4m6\u001b[24m807.              45.5                82\n",
      "\u001b[90m2\u001b[39m Latin America      2\u001b[4m1\u001b[24m\u001b[4m1\u001b[24m\u001b[4m2\u001b[24m037.      \u001b[4m8\u001b[24m\u001b[4m9\u001b[24m\u001b[4m1\u001b[24m481.              43.0                83\n",
      "\u001b[90m3\u001b[39m Asia Pacific       1\u001b[4m8\u001b[24m\u001b[4m0\u001b[24m\u001b[4m4\u001b[24m243.      \u001b[4m8\u001b[24m\u001b[4m2\u001b[24m\u001b[4m7\u001b[24m243.              46.0                67\n",
      "\u001b[90m4\u001b[39m North America      1\u001b[4m6\u001b[24m\u001b[4m3\u001b[24m\u001b[4m1\u001b[24m248.      \u001b[4m6\u001b[24m\u001b[4m8\u001b[24m\u001b[4m1\u001b[24m981.              42.4                68\n",
      "\u001b[90m# ℹ 2 more variables: total_units <dbl>, revenue_share <dbl>\u001b[39m\n"
     ]
    }
   ],
   "source": [
    "# Regional Analysis\n",
    "regional_performance <- company_data %>%\n",
    "  group_by(Region) %>%\n",
    "  summarize(\n",
    "    total_revenue = sum(Revenue, na.rm = TRUE),\n",
    "    total_profit = sum(Profit, na.rm = TRUE),\n",
    "    avg_profit_margin = mean(Profit_Margin, na.rm = TRUE),\n",
    "    transaction_count = n(),\n",
    "    total_units = sum(Units_Sold, na.rm = TRUE),\n",
    "    .groups = 'drop'\n",
    "  ) %>%\n",
    "  mutate(\n",
    "    revenue_share = (total_revenue / sum(total_revenue)) * 100\n",
    "  ) %>%\n",
    "  arrange(desc(total_revenue))\n",
    "\n",
    "print(\"Regional Performance Analysis:\")\n",
    "print(regional_performance)"
   ]
  },
  {
   "cell_type": "code",
   "execution_count": 8,
   "id": "c7724570",
   "metadata": {
    "vscode": {
     "languageId": "r"
    }
   },
   "outputs": [
    {
     "name": "stdout",
     "output_type": "stream",
     "text": [
      "[1] \"Product Category Performance Analysis:\"\n",
      "\u001b[90m# A tibble: 4 × 7\u001b[39m\n",
      "  Product_Category total_revenue total_profit avg_profit_margin\n",
      "  \u001b[3m\u001b[90m<chr>\u001b[39m\u001b[23m                    \u001b[3m\u001b[90m<dbl>\u001b[39m\u001b[23m        \u001b[3m\u001b[90m<dbl>\u001b[39m\u001b[23m             \u001b[3m\u001b[90m<dbl>\u001b[39m\u001b[23m\n",
      "\u001b[90m1\u001b[39m Consulting            1\u001b[4m9\u001b[24m\u001b[4m7\u001b[24m\u001b[4m8\u001b[24m840.      \u001b[4m8\u001b[24m\u001b[4m8\u001b[24m\u001b[4m4\u001b[24m265.              44.4\n",
      "\u001b[90m2\u001b[39m Services              1\u001b[4m9\u001b[24m\u001b[4m6\u001b[24m\u001b[4m1\u001b[24m565.      \u001b[4m8\u001b[24m\u001b[4m1\u001b[24m\u001b[4m4\u001b[24m908.              42.3\n",
      "\u001b[90m3\u001b[39m Hardware              1\u001b[4m9\u001b[24m\u001b[4m5\u001b[24m\u001b[4m1\u001b[24m325.      \u001b[4m8\u001b[24m\u001b[4m5\u001b[24m\u001b[4m8\u001b[24m247.              43.5\n",
      "\u001b[90m4\u001b[39m Software              1\u001b[4m8\u001b[24m\u001b[4m7\u001b[24m\u001b[4m9\u001b[24m981.      \u001b[4m8\u001b[24m\u001b[4m5\u001b[24m\u001b[4m0\u001b[24m092.              46.4\n",
      "\u001b[90m# ℹ 3 more variables: transaction_count <int>, total_units <dbl>,\u001b[39m\n",
      "\u001b[90m#   revenue_share <dbl>\u001b[39m\n"
     ]
    }
   ],
   "source": [
    "# Product Category Analysis\n",
    "category_performance <- company_data %>%\n",
    "  group_by(Product_Category) %>%\n",
    "  summarize(\n",
    "    total_revenue = sum(Revenue, na.rm = TRUE),\n",
    "    total_profit = sum(Profit, na.rm = TRUE),\n",
    "    avg_profit_margin = mean(Profit_Margin, na.rm = TRUE),\n",
    "    transaction_count = n(),\n",
    "    total_units = sum(Units_Sold, na.rm = TRUE),\n",
    "    .groups = 'drop'\n",
    "  ) %>%\n",
    "  mutate(\n",
    "    revenue_share = (total_revenue / sum(total_revenue)) * 100\n",
    "  ) %>%\n",
    "  arrange(desc(total_revenue))\n",
    "\n",
    "print(\"Product Category Performance Analysis:\")\n",
    "print(category_performance)"
   ]
  },
  {
   "cell_type": "code",
   "execution_count": 9,
   "id": "d89516fa",
   "metadata": {
    "vscode": {
     "languageId": "r"
    }
   },
   "outputs": [
    {
     "name": "stdout",
     "output_type": "stream",
     "text": [
      "[1] \"Performance Category Analysis:\"\n",
      "\u001b[90m# A tibble: 3 × 7\u001b[39m\n",
      "  Performance_Category total_revenue total_profit avg_profit_margin\n",
      "  \u001b[3m\u001b[90m<chr>\u001b[39m\u001b[23m                        \u001b[3m\u001b[90m<dbl>\u001b[39m\u001b[23m        \u001b[3m\u001b[90m<dbl>\u001b[39m\u001b[23m             \u001b[3m\u001b[90m<dbl>\u001b[39m\u001b[23m\n",
      "\u001b[90m1\u001b[39m High                      2\u001b[4m7\u001b[24m\u001b[4m7\u001b[24m\u001b[4m1\u001b[24m248.     1\u001b[4m6\u001b[24m\u001b[4m8\u001b[24m\u001b[4m2\u001b[24m947.              60.1\n",
      "\u001b[90m2\u001b[39m Low                       1\u001b[4m8\u001b[24m\u001b[4m1\u001b[24m\u001b[4m3\u001b[24m077.      \u001b[4m4\u001b[24m\u001b[4m5\u001b[24m\u001b[4m7\u001b[24m363.              25.3\n",
      "\u001b[90m3\u001b[39m Medium                    3\u001b[4m1\u001b[24m\u001b[4m8\u001b[24m\u001b[4m7\u001b[24m386.     1\u001b[4m2\u001b[24m\u001b[4m6\u001b[24m\u001b[4m7\u001b[24m202.              39.8\n",
      "\u001b[90m# ℹ 3 more variables: transaction_count <int>, total_units <dbl>,\u001b[39m\n",
      "\u001b[90m#   revenue_share <dbl>\u001b[39m\n"
     ]
    }
   ],
   "source": [
    "# Performance Category Analysis\n",
    "performance_analysis <- company_data %>%\n",
    "  group_by(Performance_Category) %>%\n",
    "  summarize(\n",
    "    total_revenue = sum(Revenue, na.rm = TRUE),\n",
    "    total_profit = sum(Profit, na.rm = TRUE),\n",
    "    avg_profit_margin = mean(Profit_Margin, na.rm = TRUE),\n",
    "    transaction_count = n(),\n",
    "    total_units = sum(Units_Sold, na.rm = TRUE),\n",
    "    .groups = 'drop'\n",
    "  ) %>%\n",
    "  mutate(\n",
    "    revenue_share = (total_revenue / sum(total_revenue)) * 100\n",
    "  )\n",
    "\n",
    "print(\"Performance Category Analysis:\")\n",
    "print(performance_analysis)"
   ]
  },
  {
   "cell_type": "markdown",
   "id": "bb30b28c",
   "metadata": {},
   "source": [
    "## Part 6: Advanced Grouping and Cross-Tabulation"
   ]
  },
  {
   "cell_type": "code",
   "execution_count": 10,
   "id": "fb5fedac",
   "metadata": {
    "vscode": {
     "languageId": "r"
    }
   },
   "outputs": [
    {
     "name": "stdout",
     "output_type": "stream",
     "text": [
      "[1] \"Top 10 Region-Product Category Combinations:\"\n",
      "\u001b[90m# A tibble: 10 × 5\u001b[39m\n",
      "   Region     Product_Category total_revenue transaction_count avg_profit_margin\n",
      "   \u001b[3m\u001b[90m<chr>\u001b[39m\u001b[23m      \u001b[3m\u001b[90m<chr>\u001b[39m\u001b[23m                    \u001b[3m\u001b[90m<dbl>\u001b[39m\u001b[23m             \u001b[3m\u001b[90m<int>\u001b[39m\u001b[23m             \u001b[3m\u001b[90m<dbl>\u001b[39m\u001b[23m\n",
      "\u001b[90m 1\u001b[39m Europe     Hardware               \u001b[4m7\u001b[24m\u001b[4m7\u001b[24m\u001b[4m7\u001b[24m044.                27              45.6\n",
      "\u001b[90m 2\u001b[39m Asia Paci… Consulting             \u001b[4m7\u001b[24m\u001b[4m5\u001b[24m\u001b[4m9\u001b[24m641.                27              47.5\n",
      "\u001b[90m 3\u001b[39m Latin Ame… Services               \u001b[4m6\u001b[24m\u001b[4m4\u001b[24m\u001b[4m4\u001b[24m772.                22              43.9\n",
      "\u001b[90m 4\u001b[39m Latin Ame… Software               \u001b[4m5\u001b[24m\u001b[4m5\u001b[24m\u001b[4m9\u001b[24m611.                24              44.2\n",
      "\u001b[90m 5\u001b[39m Europe     Software               \u001b[4m5\u001b[24m\u001b[4m4\u001b[24m\u001b[4m2\u001b[24m961.                23              49.6\n",
      "\u001b[90m 6\u001b[39m Europe     Services               \u001b[4m5\u001b[24m\u001b[4m1\u001b[24m\u001b[4m3\u001b[24m507.                18              42.8\n",
      "\u001b[90m 7\u001b[39m Latin Ame… Hardware               \u001b[4m4\u001b[24m\u001b[4m7\u001b[24m\u001b[4m4\u001b[24m257.                19              43.1\n",
      "\u001b[90m 8\u001b[39m North Ame… Services               \u001b[4m4\u001b[24m\u001b[4m7\u001b[24m\u001b[4m1\u001b[24m460.                17              39.5\n",
      "\u001b[90m 9\u001b[39m Asia Paci… Software               \u001b[4m4\u001b[24m\u001b[4m4\u001b[24m\u001b[4m0\u001b[24m797.                15              47.6\n",
      "\u001b[90m10\u001b[39m Latin Ame… Consulting             \u001b[4m4\u001b[24m\u001b[4m3\u001b[24m\u001b[4m3\u001b[24m397.                18              40.2\n"
     ]
    }
   ],
   "source": [
    "# Multi-dimensional analysis: Region and Product Category\n",
    "region_category_analysis <- company_data %>%\n",
    "  group_by(Region, Product_Category) %>%\n",
    "  summarize(\n",
    "    total_revenue = sum(Revenue, na.rm = TRUE),\n",
    "    transaction_count = n(),\n",
    "    avg_profit_margin = mean(Profit_Margin, na.rm = TRUE),\n",
    "    .groups = 'drop'\n",
    "  ) %>%\n",
    "  arrange(desc(total_revenue))\n",
    "\n",
    "print(\"Top 10 Region-Product Category Combinations:\")\n",
    "print(head(region_category_analysis, 10))"
   ]
  },
  {
   "cell_type": "code",
   "execution_count": 11,
   "id": "c508ab48",
   "metadata": {
    "vscode": {
     "languageId": "r"
    }
   },
   "outputs": [
    {
     "name": "stdout",
     "output_type": "stream",
     "text": [
      "[1] \"Frequency Analysis:\"\n",
      "[1] \"Performance Category Distribution:\"\n",
      "\u001b[90m# A tibble: 3 × 2\u001b[39m\n",
      "  Performance_Category     n\n",
      "  \u001b[3m\u001b[90m<chr>\u001b[39m\u001b[23m                \u001b[3m\u001b[90m<int>\u001b[39m\u001b[23m\n",
      "\u001b[90m1\u001b[39m Medium                 121\n",
      "\u001b[90m2\u001b[39m High                   113\n",
      "\u001b[90m3\u001b[39m Low                     66\n",
      "[1] \"\\nRevenue Size Distribution:\"\n",
      "\u001b[90m# A tibble: 3 × 2\u001b[39m\n",
      "  Revenue_Size     n\n",
      "  \u001b[3m\u001b[90m<chr>\u001b[39m\u001b[23m        \u001b[3m\u001b[90m<int>\u001b[39m\u001b[23m\n",
      "\u001b[90m1\u001b[39m Large          122\n",
      "\u001b[90m2\u001b[39m Medium         104\n",
      "\u001b[90m3\u001b[39m Small           74\n",
      "[1] \"\\nDeal Size Distribution:\"\n",
      "\u001b[90m# A tibble: 3 × 2\u001b[39m\n",
      "  Deal_Size     n\n",
      "  \u001b[3m\u001b[90m<chr>\u001b[39m\u001b[23m     \u001b[3m\u001b[90m<int>\u001b[39m\u001b[23m\n",
      "\u001b[90m1\u001b[39m Bulk        159\n",
      "\u001b[90m2\u001b[39m Standard     90\n",
      "\u001b[90m3\u001b[39m Small        51\n"
     ]
    }
   ],
   "source": [
    "# Frequency analysis using count()\n",
    "print(\"Frequency Analysis:\")\n",
    "\n",
    "# Count by Performance_Category\n",
    "performance_counts <- company_data %>%\n",
    "  count(Performance_Category, sort = TRUE)\n",
    "\n",
    "print(\"Performance Category Distribution:\")\n",
    "print(performance_counts)\n",
    "\n",
    "# Count by Revenue_Size\n",
    "revenue_size_counts <- company_data %>%\n",
    "  count(Revenue_Size, sort = TRUE)\n",
    "\n",
    "print(\"\\nRevenue Size Distribution:\")\n",
    "print(revenue_size_counts)\n",
    "\n",
    "# Count by Deal_Size\n",
    "deal_size_counts <- company_data %>%\n",
    "  count(Deal_Size, sort = TRUE)\n",
    "\n",
    "print(\"\\nDeal Size Distribution:\")\n",
    "print(deal_size_counts)"
   ]
  },
  {
   "cell_type": "code",
   "execution_count": 12,
   "id": "6c01f673",
   "metadata": {
    "vscode": {
     "languageId": "r"
    }
   },
   "outputs": [
    {
     "name": "stdout",
     "output_type": "stream",
     "text": [
      "[1] \"Cross-Tabulation Analysis:\"\n",
      "[1] \"Performance Category vs Revenue Size:\"\n",
      "\u001b[90m# A tibble: 9 × 3\u001b[39m\n",
      "  Performance_Category Revenue_Size     n\n",
      "  \u001b[3m\u001b[90m<chr>\u001b[39m\u001b[23m                \u001b[3m\u001b[90m<chr>\u001b[39m\u001b[23m        \u001b[3m\u001b[90m<int>\u001b[39m\u001b[23m\n",
      "\u001b[90m1\u001b[39m High                 Large           41\n",
      "\u001b[90m2\u001b[39m High                 Medium          38\n",
      "\u001b[90m3\u001b[39m High                 Small           34\n",
      "\u001b[90m4\u001b[39m Low                  Large           28\n",
      "\u001b[90m5\u001b[39m Low                  Medium          30\n",
      "\u001b[90m6\u001b[39m Low                  Small            8\n",
      "\u001b[90m7\u001b[39m Medium               Large           53\n",
      "\u001b[90m8\u001b[39m Medium               Medium          36\n",
      "\u001b[90m9\u001b[39m Medium               Small           32\n",
      "[1] \"\\nUsing table() function:\"\n"
     ]
    },
    {
     "data": {
      "text/plain": [
       "        \n",
       "         Large Medium Small\n",
       "  High      41     38    34\n",
       "  Low       28     30     8\n",
       "  Medium    53     36    32"
      ]
     },
     "metadata": {},
     "output_type": "display_data"
    }
   ],
   "source": [
    "# Cross-tabulation analysis\n",
    "print(\"Cross-Tabulation Analysis:\")\n",
    "\n",
    "# Create a cross-tabulation of Performance_Category vs Revenue_Size\n",
    "cross_tab_performance_revenue <- company_data %>%\n",
    "  count(Performance_Category, Revenue_Size)\n",
    "\n",
    "print(\"Performance Category vs Revenue Size:\")\n",
    "print(cross_tab_performance_revenue)\n",
    "\n",
    "# Alternative using base R table function\n",
    "print(\"\\nUsing table() function:\")\n",
    "table(company_data$Performance_Category, company_data$Revenue_Size)"
   ]
  },
  {
   "cell_type": "markdown",
   "id": "5e39eb29",
   "metadata": {},
   "source": [
    "## Part 7: Business Intelligence Dashboard"
   ]
  },
  {
   "cell_type": "code",
   "execution_count": 13,
   "id": "f5295e7c",
   "metadata": {
    "vscode": {
     "languageId": "r"
    }
   },
   "outputs": [
    {
     "name": "stdout",
     "output_type": "stream",
     "text": [
      "\n",
      " = = = = = = = = = = = = = = = = = = = = = = = = = = = = = = = = = = = = = = = = = = = = = = = = = = = = = = = = = = = = \n",
      "              BUSINESS INTELLIGENCE DASHBOARD\n",
      "= = = = = = = = = = = = = = = = = = = = = = = = = = = = = = = = = = = = = = = = = = = = = = = = = = = = = = = = = = = = \n",
      "\n",
      "📊 KEY PERFORMANCE INDICATORS\n",
      "─────────────────────────────────\n",
      "Total Revenue: $ 7,771,711 \n",
      "Total Profit: $ 3,407,512 \n",
      "Overall Profit Margin: 44.22 %\n",
      "Total Transactions: 300 \n",
      "Average Deal Size: $ 25,905.7 \n",
      "High-Value Customer Rate: 51.33 %\n",
      "Profitable Deal Rate: 56 %\n",
      "\n",
      "🏆 TOP PERFORMERS\n",
      "─────────────────\n",
      "Top Region: Europe \n",
      "  Revenue: $ 2,224,182 \n",
      "\n",
      "Top Product Category: Consulting \n",
      "  Revenue: $ 1,978,840 \n",
      "\n",
      "📈 PERFORMANCE DISTRIBUTION\n",
      "──────────────────────────\n",
      "High: 113 (37.7%)\n",
      "Low: 66 (22%)\n",
      "Medium: 121 (40.3%)\n"
     ]
    }
   ],
   "source": [
    "# Create a comprehensive business intelligence dashboard\n",
    "cat(\"\\n\", rep(\"=\", 60), \"\\n\")\n",
    "cat(\"              BUSINESS INTELLIGENCE DASHBOARD\\n\")\n",
    "cat(rep(\"=\", 60), \"\\n\\n\")\n",
    "\n",
    "# Section 1: Key Performance Indicators\n",
    "cat(\"📊 KEY PERFORMANCE INDICATORS\\n\")\n",
    "cat(\"─────────────────────────────────\\n\")\n",
    "\n",
    "kpi_summary <- company_data %>%\n",
    "  summarize(\n",
    "    total_revenue = sum(Revenue, na.rm = TRUE),\n",
    "    total_profit = sum(Profit, na.rm = TRUE),\n",
    "    overall_profit_margin = mean(Profit_Margin, na.rm = TRUE),\n",
    "    total_transactions = n(),\n",
    "    avg_deal_size = mean(Revenue, na.rm = TRUE),\n",
    "    high_value_rate = sum(High_Value_Customer == \"Yes\") / n() * 100,\n",
    "    profitable_deal_rate = sum(Profitable_Deal == \"Yes\") / n() * 100\n",
    "  )\n",
    "\n",
    "cat(\"Total Revenue: $\", format(kpi_summary$total_revenue, big.mark = \",\"), \"\\n\")\n",
    "cat(\"Total Profit: $\", format(kpi_summary$total_profit, big.mark = \",\"), \"\\n\")\n",
    "cat(\"Overall Profit Margin:\", round(kpi_summary$overall_profit_margin, 2), \"%\\n\")\n",
    "cat(\"Total Transactions:\", kpi_summary$total_transactions, \"\\n\")\n",
    "cat(\"Average Deal Size: $\", format(kpi_summary$avg_deal_size, big.mark = \",\"), \"\\n\")\n",
    "cat(\"High-Value Customer Rate:\", round(kpi_summary$high_value_rate, 2), \"%\\n\")\n",
    "cat(\"Profitable Deal Rate:\", round(kpi_summary$profitable_deal_rate, 2), \"%\\n\")\n",
    "\n",
    "# Section 2: Top Performers\n",
    "cat(\"\\n🏆 TOP PERFORMERS\\n\")\n",
    "cat(\"─────────────────\\n\")\n",
    "\n",
    "top_region <- regional_performance %>% slice(1)\n",
    "cat(\"Top Region:\", top_region$Region, \"\\n\")\n",
    "cat(\"  Revenue: $\", format(top_region$total_revenue, big.mark = \",\"), \"\\n\")\n",
    "\n",
    "top_category <- category_performance %>% slice(1)\n",
    "cat(\"\\nTop Product Category:\", top_category$Product_Category, \"\\n\")\n",
    "cat(\"  Revenue: $\", format(top_category$total_revenue, big.mark = \",\"), \"\\n\")\n",
    "\n",
    "# Performance distribution\n",
    "cat(\"\\n📈 PERFORMANCE DISTRIBUTION\\n\")\n",
    "cat(\"──────────────────────────\\n\")\n",
    "perf_dist <- company_data %>%\n",
    "  count(Performance_Category) %>%\n",
    "  mutate(percentage = n / sum(n) * 100)\n",
    "\n",
    "for(i in 1:nrow(perf_dist)) {\n",
    "  cat(perf_dist$Performance_Category[i], \": \", perf_dist$n[i], \n",
    "      \" (\", round(perf_dist$percentage[i], 1), \"%)\\n\", sep=\"\")\n",
    "}"
   ]
  },
  {
   "cell_type": "markdown",
   "id": "ad69551d",
   "metadata": {},
   "source": [
    "## Part 8: Data Validation and Quality Checks"
   ]
  },
  {
   "cell_type": "code",
   "execution_count": 14,
   "id": "5f8f9dfe",
   "metadata": {
    "vscode": {
     "languageId": "r"
    }
   },
   "outputs": [
    {
     "name": "stdout",
     "output_type": "stream",
     "text": [
      "📋 DATA VALIDATION REPORT\n",
      "= = = = = = = = = = = = = = = = = = = = = = = = = = = = = = = = = = = = = = = = \n",
      "\n",
      "🧮 CALCULATION VERIFICATION\n",
      "─ ─ ─ ─ ─ ─ ─ ─ ─ ─ ─ ─ ─ ─ ─ ─ ─ ─ ─ ─ ─ ─ ─ ─ ─ ─ ─ ─ ─ ─ ─ ─ ─ ─ ─ ─ ─ ─ ─ ─ \n",
      "✓ Profit calculation: ✅ PASSED \n",
      "✓ Profit Margin calculation: ✅ PASSED \n",
      "✓ ROI calculation: ✅ PASSED \n",
      "\n",
      "📊 RANGE AND OUTLIER VALIDATION\n",
      "─ ─ ─ ─ ─ ─ ─ ─ ─ ─ ─ ─ ─ ─ ─ ─ ─ ─ ─ ─ ─ ─ ─ ─ ─ ─ ─ ─ ─ ─ ─ ─ ─ ─ ─ ─ ─ ─ ─ ─ \n",
      "⚠️  Extreme profit margins:  0  transactions\n",
      "⚠️  Negative revenue values:  0  transactions\n",
      "⚠️  Invalid units sold:  0  transactions\n",
      "\n",
      "🔍 MISSING DATA ANALYSIS\n",
      "─ ─ ─ ─ ─ ─ ─ ─ ─ ─ ─ ─ ─ ─ ─ ─ ─ ─ ─ ─ ─ ─ ─ ─ ─ ─ ─ ─ ─ ─ ─ ─ ─ ─ ─ ─ ─ ─ ─ ─ \n",
      "Missing value analysis:\n",
      "  • Missing Revenue:  0 \n",
      "  • Missing Cost:  0 \n",
      "  • Missing Units_Sold:  0 \n",
      "  • Missing Profit:  0 \n",
      "\n",
      "📈 SUMMARY STATISTICS\n",
      "─ ─ ─ ─ ─ ─ ─ ─ ─ ─ ─ ─ ─ ─ ─ ─ ─ ─ ─ ─ ─ ─ ─ ─ ─ ─ ─ ─ ─ ─ ─ ─ ─ ─ ─ ─ ─ ─ ─ ─ \n",
      "\n",
      "Profit Margin Distribution:\n",
      "   Min. 1st Qu.  Median    Mean 3rd Qu.    Max. \n",
      "  20.13   31.17   43.70   44.22   56.55   69.93 \n",
      "\n",
      "ROI Distribution:\n",
      "   Min. 1st Qu.  Median    Mean 3rd Qu.    Max. \n",
      "  25.20   45.28   77.63   93.49  130.16  232.57 \n",
      "\n",
      "✅ Data validation complete!\n"
     ]
    }
   ],
   "source": [
    "# Comprehensive Data Validation\n",
    "cat(\"📋 DATA VALIDATION REPORT\\n\")\n",
    "cat(rep(\"=\", 40), \"\\n\\n\")\n",
    "\n",
    "# SECTION 1: Calculation Verification\n",
    "cat(\"🧮 CALCULATION VERIFICATION\\n\")\n",
    "cat(rep(\"─\", 40), \"\\n\")\n",
    "\n",
    "# Validate profit calculation\n",
    "profit_validation <- all.equal(company_data$Profit, company_data$Revenue - company_data$Cost)\n",
    "cat(\"✓ Profit calculation: \")\n",
    "cat(ifelse(profit_validation == TRUE, \"✅ PASSED\", \"❌ FAILED\"), \"\\n\")\n",
    "\n",
    "# Validate profit margin calculation\n",
    "expected_profit_margin <- (company_data$Profit / company_data$Revenue) * 100\n",
    "margin_validation <- all.equal(company_data$Profit_Margin, expected_profit_margin)\n",
    "cat(\"✓ Profit Margin calculation: \")\n",
    "cat(ifelse(margin_validation == TRUE, \"✅ PASSED\", \"❌ FAILED\"), \"\\n\")\n",
    "\n",
    "# Validate ROI calculation\n",
    "expected_roi <- (company_data$Profit / company_data$Cost) * 100\n",
    "roi_validation <- all.equal(company_data$ROI, expected_roi)\n",
    "cat(\"✓ ROI calculation: \")\n",
    "cat(ifelse(roi_validation == TRUE, \"✅ PASSED\", \"❌ FAILED\"), \"\\n\")\n",
    "\n",
    "# SECTION 2: Range and Outlier Analysis\n",
    "cat(\"\\n📊 RANGE AND OUTLIER VALIDATION\\n\")\n",
    "cat(rep(\"─\", 40), \"\\n\")\n",
    "\n",
    "extreme_margins <- sum(company_data$Profit_Margin > 100 | company_data$Profit_Margin < -50, na.rm = TRUE)\n",
    "cat(\"⚠️  Extreme profit margins: \", extreme_margins, \" transactions\\n\")\n",
    "\n",
    "negative_revenue <- sum(company_data$Revenue < 0, na.rm = TRUE)\n",
    "cat(\"⚠️  Negative revenue values: \", negative_revenue, \" transactions\\n\")\n",
    "\n",
    "invalid_units <- sum(company_data$Units_Sold <= 0, na.rm = TRUE)\n",
    "cat(\"⚠️  Invalid units sold: \", invalid_units, \" transactions\\n\")\n",
    "\n",
    "# SECTION 3: Missing Data Analysis\n",
    "cat(\"\\n🔍 MISSING DATA ANALYSIS\\n\")\n",
    "cat(rep(\"─\", 40), \"\\n\")\n",
    "\n",
    "cat(\"Missing value analysis:\\n\")\n",
    "cat(\"  • Missing Revenue: \", sum(is.na(company_data$Revenue)), \"\\n\")\n",
    "cat(\"  • Missing Cost: \", sum(is.na(company_data$Cost)), \"\\n\")\n",
    "cat(\"  • Missing Units_Sold: \", sum(is.na(company_data$Units_Sold)), \"\\n\")\n",
    "cat(\"  • Missing Profit: \", sum(is.na(company_data$Profit)), \"\\n\")\n",
    "\n",
    "# SECTION 4: Summary Statistics\n",
    "cat(\"\\n📈 SUMMARY STATISTICS\\n\")\n",
    "cat(rep(\"─\", 40), \"\\n\")\n",
    "\n",
    "cat(\"\\nProfit Margin Distribution:\\n\")\n",
    "print(summary(company_data$Profit_Margin))\n",
    "\n",
    "cat(\"\\nROI Distribution:\\n\")\n",
    "print(summary(company_data$ROI))\n",
    "\n",
    "cat(\"\\n✅ Data validation complete!\\n\")"
   ]
  }
 ],
 "metadata": {
  "kernelspec": {
   "display_name": "R",
   "language": "R",
   "name": "ir"
  },
  "language_info": {
   "codemirror_mode": "r",
   "file_extension": ".r",
   "mimetype": "text/x-r-source",
   "name": "R",
   "pygments_lexer": "r",
   "version": "4.5.0"
  }
 },
 "nbformat": 4,
 "nbformat_minor": 5
}
