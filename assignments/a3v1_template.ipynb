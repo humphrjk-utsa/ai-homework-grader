{
 "cells": [
  {
   "cell_type": "markdown",
   "id": "3d8bca02",
   "metadata": {},
   "source": [
    "# Homework Assignment - Lesson 3: Data Transformation with dplyr - Part 1\n",
    "\n",
    "**Student Name:** [Enter Your Name Here]\n",
    "\n",
    "**Due Date:** [Insert Due Date Here]\n",
    "\n",
    "**Objective:** Learn to use dplyr functions (`select()`, `filter()`, `arrange()`) and the pipe operator (`%>%`) for data transformation and analysis.\n",
    "\n",
    "---\n",
    "\n",
    "## Instructions\n",
    "\n",
    "- Complete all tasks in this notebook\n",
    "- Use the pipe operator (`%>%`) wherever possible to chain operations\n",
    "- Ensure your code is well-commented and easy to understand\n",
    "- Run all cells to verify your code works correctly\n",
    "- Answer all reflection questions at the end\n",
    "\n",
    "---"
   ]
  },
  {
   "cell_type": "markdown",
   "id": "2baa2287",
   "metadata": {},
   "source": [
    "## Part 1: Data Import and Setup\n",
    "\n",
    "In this section, you'll import the retail transactions dataset and perform initial exploration.\n",
    "\n",
    "**Dataset:** `retail_transactions.csv` - This dataset contains transaction records from a retail business with information about customers, products, dates, amounts, and quantities."
   ]
  },
  {
   "cell_type": "code",
   "execution_count": null,
   "id": "764c19b0",
   "metadata": {
    "vscode": {
     "languageId": "r"
    }
   },
   "outputs": [],
   "source": [
    "# Load required libraries\n",
    "library(tidyverse)\n",
    "\n",
    "# Set working directory if needed\n",
    "# setwd(\"path/to/your/data\")\n",
    "\n",
    "# Task 1.1: Import the retail_transactions.csv file\n",
    "# Create a data frame named 'transactions'\n",
    "# Note: Import the retail_transactions.csv file\n",
    "\n",
    "# Your code here:\n",
    "transactions <- \n",
    "\n",
    "# Display success message\n",
    "cat(\"Data imported successfully!\\n\")\n",
    "cat(\"Dataset dimensions:\", nrow(transactions), \"rows x\", ncol(transactions), \"columns\\n\")"
   ]
  },
  {
   "cell_type": "code",
   "execution_count": null,
   "id": "dd72af91",
   "metadata": {
    "vscode": {
     "languageId": "r"
    }
   },
   "outputs": [],
   "source": [
    "# Task 1.2: Initial Exploration\n",
    "\n",
    "# Display the first 10 rows\n",
    "cat(\"First 10 rows of the dataset:\\n\")\n",
    "# Your code here:\n",
    "\n",
    "\n",
    "# Check the structure of the dataset\n",
    "cat(\"\\nDataset structure:\\n\")\n",
    "# Your code here:\n",
    "\n",
    "\n",
    "# Display column names and their data types\n",
    "cat(\"\\nColumn names:\\n\")\n",
    "# Your code here:"
   ]
  },
  {
   "cell_type": "markdown",
   "id": "31f0a977",
   "metadata": {},
   "source": [
    "## Part 2: Column Selection with `select()`\n",
    "\n",
    "Practice different methods of selecting columns from your dataset."
   ]
  },
  {
   "cell_type": "code",
   "execution_count": null,
   "id": "5d4fa53b",
   "metadata": {
    "vscode": {
     "languageId": "r"
    }
   },
   "outputs": [],
   "source": [
    "# Task 2.1: Basic Selection\n",
    "# Create 'basic_info' with TransactionID, CustomerID, ProductName, and TotalAmount\n",
    "\n",
    "basic_info <- transactions %>%\n",
    "  # Your code here:\n",
    "\n",
    "\n",
    "# Display the result\n",
    "cat(\"Basic info dataset (first 5 rows):\\n\")\n",
    "head(basic_info, 5)"
   ]
  },
  {
   "cell_type": "code",
   "execution_count": null,
   "id": "2a0479a9",
   "metadata": {
    "vscode": {
     "languageId": "r"
    }
   },
   "outputs": [],
   "source": [
    "# Task 2.2: Range Selection\n",
    "# Create 'customer_details' with all columns from CustomerID to CustomerCity (inclusive)\n",
    "\n",
    "customer_details <- transactions %>%\n",
    "  # Your code here:\n",
    "\n",
    "\n",
    "# Display the result\n",
    "cat(\"Customer details (first 5 rows):\\n\")\n",
    "head(customer_details, 5)"
   ]
  },
  {
   "cell_type": "code",
   "execution_count": null,
   "id": "a527a514",
   "metadata": {
    "vscode": {
     "languageId": "r"
    }
   },
   "outputs": [],
   "source": [
    "# Task 2.3: Pattern-Based Selection\n",
    "\n",
    "# Create 'date_columns' with columns starting with \"Date\" or \"Time\"\n",
    "date_columns <- transactions %>%\n",
    "  # Your code here:\n",
    "\n",
    "\n",
    "# Create 'amount_columns' with columns containing the word \"Amount\"\n",
    "amount_columns <- transactions %>%\n",
    "  # Your code here:\n",
    "\n",
    "\n",
    "# Display column names for verification\n",
    "cat(\"Date/Time columns:\", names(date_columns), \"\\n\")\n",
    "cat(\"Amount columns:\", names(amount_columns), \"\\n\")"
   ]
  },
  {
   "cell_type": "code",
   "execution_count": null,
   "id": "3d2ea46d",
   "metadata": {
    "vscode": {
     "languageId": "r"
    }
   },
   "outputs": [],
   "source": [
    "# Task 2.4: Exclusion Selection\n",
    "# Create 'no_ids' without TransactionID and CustomerID columns\n",
    "\n",
    "no_ids <- transactions %>%\n",
    "  # Your code here:\n",
    "\n",
    "\n",
    "# Display column names for verification\n",
    "cat(\"Columns after removing IDs:\", names(no_ids), \"\\n\")\n",
    "cat(\"Number of columns:\", ncol(no_ids), \"\\n\")"
   ]
  },
  {
   "cell_type": "markdown",
   "id": "a7c6a58e",
   "metadata": {},
   "source": [
    "## Part 3: Row Filtering with `filter()`\n",
    "\n",
    "Learn to filter rows based on various conditions."
   ]
  },
  {
   "cell_type": "code",
   "execution_count": null,
   "id": "a7f8a827",
   "metadata": {
    "vscode": {
     "languageId": "r"
    }
   },
   "outputs": [],
   "source": [
    "# Task 3.1: Single Condition Filtering\n",
    "\n",
    "# Filter transactions with TotalAmount > $100\n",
    "high_value_transactions <- transactions %>%\n",
    "  # Your code here:\n",
    "\n",
    "\n",
    "# Filter transactions from \"Electronics\" category\n",
    "electronics_transactions <- transactions %>%\n",
    "  # Your code here:\n",
    "\n",
    "\n",
    "# Display results\n",
    "cat(\"High value transactions (>$100):\", nrow(high_value_transactions), \"rows\\n\")\n",
    "cat(\"Electronics transactions:\", nrow(electronics_transactions), \"rows\\n\")"
   ]
  },
  {
   "cell_type": "code",
   "execution_count": null,
   "id": "db2b0bd5",
   "metadata": {
    "vscode": {
     "languageId": "r"
    }
   },
   "outputs": [],
   "source": [
    "# Task 3.2: Multiple Condition Filtering (AND)\n",
    "# Filter for TotalAmount > $50 AND Quantity > 1 AND CustomerCity == \"New York\"\n",
    "\n",
    "ny_bulk_purchases <- transactions %>%\n",
    "  # Your code here:\n",
    "\n",
    "\n",
    "# Display results\n",
    "cat(\"NY bulk purchases:\", nrow(ny_bulk_purchases), \"rows\\n\")\n",
    "if(nrow(ny_bulk_purchases) > 0) {\n",
    "  head(ny_bulk_purchases)\n",
    "}"
   ]
  },
  {
   "cell_type": "code",
   "execution_count": null,
   "id": "4803780d",
   "metadata": {
    "vscode": {
     "languageId": "r"
    }
   },
   "outputs": [],
   "source": [
    "# Task 3.3: Multiple Condition Filtering (OR)\n",
    "# Filter for ProductCategory = \"Books\" OR \"Music\" OR \"Movies\"\n",
    "\n",
    "entertainment_transactions <- transactions %>%\n",
    "  # Your code here:\n",
    "\n",
    "\n",
    "# Display results\n",
    "cat(\"Entertainment transactions:\", nrow(entertainment_transactions), \"rows\\n\")\n",
    "if(nrow(entertainment_transactions) > 0) {\n",
    "  head(entertainment_transactions)\n",
    "}"
   ]
  },
  {
   "cell_type": "code",
   "execution_count": null,
   "id": "301437cf",
   "metadata": {
    "vscode": {
     "languageId": "r"
    }
   },
   "outputs": [],
   "source": [
    "# Task 3.4: Date-Based Filtering\n",
    "# Filter transactions from March 2024\n",
    "# Note: Adjust the date format and column name based on your actual data\n",
    "\n",
    "march_transactions <- transactions %>%\n",
    "  # Your code here (you may need to convert date format first):\n",
    "\n",
    "\n",
    "# Display results\n",
    "cat(\"March 2024 transactions:\", nrow(march_transactions), \"rows\\n\")"
   ]
  },
  {
   "cell_type": "code",
   "execution_count": null,
   "id": "33b63b1c",
   "metadata": {
    "vscode": {
     "languageId": "r"
    }
   },
   "outputs": [],
   "source": [
    "# Task 3.5: Advanced Filtering Challenge\n",
    "# Find customers who made purchases in both \"Electronics\" AND \"Clothing\" categories\n",
    "# Hint: This requires identifying customers who appear in both categories\n",
    "\n",
    "# Step 1: Find customers who bought Electronics\n",
    "electronics_customers <- transactions %>%\n",
    "  # Your code here:\n",
    "\n",
    "\n",
    "# Step 2: Find customers who bought Clothing\n",
    "clothing_customers <- transactions %>%\n",
    "  # Your code here:\n",
    "\n",
    "\n",
    "# Step 3: Find customers who bought both\n",
    "both_categories_customers <- # Your code here:\n",
    "\n",
    "\n",
    "# Display results\n",
    "cat(\"Customers who bought both Electronics and Clothing:\", length(both_categories_customers), \"customers\\n\")"
   ]
  },
  {
   "cell_type": "markdown",
   "id": "811d4adb",
   "metadata": {},
   "source": [
    "## Part 4: Data Sorting with `arrange()`\n",
    "\n",
    "Practice sorting data by single and multiple columns."
   ]
  },
  {
   "cell_type": "code",
   "execution_count": null,
   "id": "92a25956",
   "metadata": {
    "vscode": {
     "languageId": "r"
    }
   },
   "outputs": [],
   "source": [
    "# Task 4.1: Single Column Sorting\n",
    "\n",
    "# Sort by TotalAmount ascending\n",
    "transactions_by_amount_asc <- transactions %>%\n",
    "  # Your code here:\n",
    "\n",
    "\n",
    "# Sort by TotalAmount descending\n",
    "transactions_by_amount_desc <- transactions %>%\n",
    "  # Your code here:\n",
    "\n",
    "\n",
    "# Display top 5 of each\n",
    "cat(\"Lowest amounts:\\n\")\n",
    "head(transactions_by_amount_asc %>% select(CustomerName, ProductName, TotalAmount), 5)\n",
    "\n",
    "cat(\"\\nHighest amounts:\\n\")\n",
    "head(transactions_by_amount_desc %>% select(CustomerName, ProductName, TotalAmount), 5)"
   ]
  },
  {
   "cell_type": "code",
   "execution_count": null,
   "id": "1c2809ad",
   "metadata": {
    "vscode": {
     "languageId": "r"
    }
   },
   "outputs": [],
   "source": [
    "# Task 4.2: Multiple Column Sorting\n",
    "# Sort by CustomerCity (ascending), then by TotalAmount (descending)\n",
    "\n",
    "transactions_by_city_amount <- transactions %>%\n",
    "  # Your code here:\n",
    "\n",
    "\n",
    "# Display first 10 rows\n",
    "cat(\"Transactions sorted by city, then amount:\\n\")\n",
    "head(transactions_by_city_amount %>% select(CustomerCity, CustomerName, ProductName, TotalAmount), 10)"
   ]
  },
  {
   "cell_type": "code",
   "execution_count": null,
   "id": "7fb4ec10",
   "metadata": {
    "vscode": {
     "languageId": "r"
    }
   },
   "outputs": [],
   "source": [
    "# Task 4.3: Date-Based Sorting\n",
    "# Sort by TransactionDate chronologically (oldest first)\n",
    "\n",
    "transactions_chronological <- transactions %>%\n",
    "  # Your code here:\n",
    "\n",
    "\n",
    "# Display first 5 transactions chronologically\n",
    "cat(\"Earliest transactions:\\n\")\n",
    "head(transactions_chronological %>% select(TransactionDate, CustomerName, ProductName, TotalAmount), 5)"
   ]
  },
  {
   "cell_type": "markdown",
   "id": "718aa3c3",
   "metadata": {},
   "source": [
    "## Part 5: Chaining Operations\n",
    "\n",
    "Combine multiple dplyr operations using the pipe operator."
   ]
  },
  {
   "cell_type": "code",
   "execution_count": null,
   "id": "41086de0",
   "metadata": {
    "vscode": {
     "languageId": "r"
    }
   },
   "outputs": [],
   "source": [
    "# Task 5.1: Simple Chain\n",
    "# Filter TotalAmount > $75, select specific columns, arrange by TotalAmount descending\n",
    "\n",
    "premium_purchases <- transactions %>%\n",
    "  # Your code here:\n",
    "\n",
    "\n",
    "# Display results\n",
    "cat(\"Premium purchases (>$75):\\n\")\n",
    "head(premium_purchases, 10)"
   ]
  },
  {
   "cell_type": "code",
   "execution_count": null,
   "id": "823cda0b",
   "metadata": {
    "vscode": {
     "languageId": "r"
    }
   },
   "outputs": [],
   "source": [
    "# Task 5.2: Complex Chain\n",
    "# Filter for Electronics/Computers, select columns, arrange by date/amount, keep top 20\n",
    "\n",
    "recent_tech_purchases <- transactions %>%\n",
    "  # Your code here:\n",
    "\n",
    "\n",
    "# Display results\n",
    "cat(\"Recent tech purchases (top 20):\\n\")\n",
    "print(recent_tech_purchases)"
   ]
  },
  {
   "cell_type": "code",
   "execution_count": null,
   "id": "73d00b01",
   "metadata": {
    "vscode": {
     "languageId": "r"
    }
   },
   "outputs": [],
   "source": [
    "# Task 5.3: Business Intelligence Chain\n",
    "# Identify high-value repeat customers (TotalAmount > $200)\n",
    "\n",
    "high_value_customers <- transactions %>%\n",
    "  # Your code here:\n",
    "\n",
    "\n",
    "# Display results\n",
    "cat(\"High-value customers:\\n\")\n",
    "head(high_value_customers, 15)"
   ]
  },
  {
   "cell_type": "markdown",
   "id": "50978714",
   "metadata": {},
   "source": [
    "## Part 6: Data Analysis Questions\n",
    "\n",
    "Answer the following questions using the datasets you've created."
   ]
  },
  {
   "cell_type": "code",
   "execution_count": null,
   "id": "be6e8562",
   "metadata": {
    "vscode": {
     "languageId": "r"
    }
   },
   "outputs": [],
   "source": [
    "# Question 6.1: Transaction Volume\n",
    "# Count transactions in each filtered dataset\n",
    "\n",
    "cat(\"Transaction counts by dataset:\\n\")\n",
    "cat(\"High value transactions:\", nrow(high_value_transactions), \"\\n\")\n",
    "cat(\"Electronics transactions:\", nrow(electronics_transactions), \"\\n\")\n",
    "cat(\"NY bulk purchases:\", nrow(ny_bulk_purchases), \"\\n\")\n",
    "cat(\"Entertainment transactions:\", nrow(entertainment_transactions), \"\\n\")\n",
    "cat(\"March transactions:\", nrow(march_transactions), \"\\n\")\n",
    "cat(\"Premium purchases:\", nrow(premium_purchases), \"\\n\")\n",
    "cat(\"Recent tech purchases:\", nrow(recent_tech_purchases), \"\\n\")\n",
    "cat(\"High value customers:\", nrow(high_value_customers), \"\\n\")"
   ]
  },
  {
   "cell_type": "code",
   "execution_count": null,
   "id": "35190921",
   "metadata": {
    "vscode": {
     "languageId": "r"
    }
   },
   "outputs": [],
   "source": [
    "# Question 6.2: Top Customers\n",
    "# Find the customer who appears most frequently in high_value_customers\n",
    "\n",
    "if(nrow(high_value_customers) > 0) {\n",
    "  customer_frequency <- high_value_customers %>%\n",
    "    # Your code here to count customer appearances:\n",
    "  \n",
    "  \n",
    "  cat(\"Most frequent high-value customer:\\n\")\n",
    "  print(customer_frequency)\n",
    "} else {\n",
    "  cat(\"No high-value customers found\\n\")\n",
    "}"
   ]
  },
  {
   "cell_type": "code",
   "execution_count": null,
   "id": "3c932cbb",
   "metadata": {
    "vscode": {
     "languageId": "r"
    }
   },
   "outputs": [],
   "source": [
    "# Question 6.3: Product Analysis\n",
    "# Find top 5 most expensive transactions in entertainment_transactions\n",
    "\n",
    "if(nrow(entertainment_transactions) > 0) {\n",
    "  top_entertainment <- entertainment_transactions %>%\n",
    "    # Your code here:\n",
    "  \n",
    "  \n",
    "  cat(\"Top 5 most expensive entertainment transactions:\\n\")\n",
    "  print(top_entertainment)\n",
    "} else {\n",
    "  cat(\"No entertainment transactions found\\n\")\n",
    "}"
   ]
  },
  {
   "cell_type": "code",
   "execution_count": null,
   "id": "7b46473f",
   "metadata": {
    "vscode": {
     "languageId": "r"
    }
   },
   "outputs": [],
   "source": [
    "# Question 6.4: Geographic Analysis\n",
    "# Find the city with the highest single transaction amount\n",
    "\n",
    "highest_transaction_by_city <- transactions_by_city_amount %>%\n",
    "  # Your code here:\n",
    "\n",
    "\n",
    "cat(\"City with highest single transaction:\\n\")\n",
    "print(highest_transaction_by_city)"
   ]
  },
  {
   "cell_type": "markdown",
   "id": "82d2dc35",
   "metadata": {},
   "source": [
    "## Part 7: Reflection Questions\n",
    "\n",
    "Please answer the following questions in the markdown cells below."
   ]
  },
  {
   "cell_type": "markdown",
   "id": "f2ea2958",
   "metadata": {},
   "source": [
    "### Question 7.1: Pipe Operator Benefits\n",
    "\n",
    "**How does using the pipe operator (`%>%`) improve code readability compared to nested function calls? Provide a specific example from your homework.**\n",
    "\n",
    "Your answer here:\n"
   ]
  },
  {
   "cell_type": "markdown",
   "id": "af3d8c62",
   "metadata": {},
   "source": [
    "### Question 7.2: Filtering Strategy\n",
    "\n",
    "**When filtering data for business analysis, what are the trade-offs between being very specific (many conditions) versus being more general (fewer conditions)? How might this affect your insights?**\n",
    "\n",
    "Your answer here:\n"
   ]
  },
  {
   "cell_type": "markdown",
   "id": "54c0b062",
   "metadata": {},
   "source": [
    "### Question 7.3: Sorting Importance\n",
    "\n",
    "**Why is data sorting important in business analytics? Provide three specific business scenarios where sorting data would be crucial for decision-making.**\n",
    "\n",
    "Your answer here:\n",
    "\n",
    "1. \n",
    "2. \n",
    "3. "
   ]
  },
  {
   "cell_type": "markdown",
   "id": "625c2ea3",
   "metadata": {},
   "source": [
    "### Question 7.4: Real-World Application\n",
    "\n",
    "**Describe a real business scenario where you might need to combine `select()`, `filter()`, and `arrange()` operations. What insights would you be trying to gain?**\n",
    "\n",
    "Your answer here:\n"
   ]
  },
  {
   "cell_type": "markdown",
   "id": "6142c3f6",
   "metadata": {},
   "source": [
    "## Summary and Submission\n",
    "\n",
    "### What You've Learned\n",
    "\n",
    "In this homework, you've practiced:\n",
    "- Using `select()` for column selection with various methods\n",
    "- Using `filter()` for row filtering with single and multiple conditions\n",
    "- Using `arrange()` for sorting data by single and multiple columns\n",
    "- Chaining operations with the pipe operator (`%>%`)\n",
    "- Analyzing business data to generate insights\n",
    "\n",
    "### Submission Checklist\n",
    "\n",
    "Before submitting, ensure you have:\n",
    "- [ ] Completed all code tasks\n",
    "- [ ] Run all cells successfully\n",
    "- [ ] Answered all reflection questions\n",
    "- [ ] Used proper commenting in your code\n",
    "- [ ] Used the pipe operator where appropriate\n",
    "- [ ] Verified your results make sense\n",
    "\n",
    "### Next Steps\n",
    "\n",
    "In the next lesson, you'll learn about:\n",
    "- `mutate()` for creating new columns\n",
    "- `summarize()` for calculating summary statistics\n",
    "- `group_by()` for grouped operations\n",
    "- Advanced data transformation techniques"
   ]
  }
 ],
 "metadata": {
  "kernelspec": {
   "display_name": "R",
   "language": "R",
   "name": "ir"
  },
  "language_info": {
   "name": "R",
   "version": "3.9.6"
  }
 },
 "nbformat": 4,
 "nbformat_minor": 5
}
